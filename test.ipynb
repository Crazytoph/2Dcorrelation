{
 "cells": [
  {
   "cell_type": "markdown",
<<<<<<< HEAD
   "id": "analyzed-sustainability",
=======
   "id": "quiet-lightweight",
>>>>>>> parent of 5f8ef0a (Now subplots data in functionT has to be plotted in lists, but data frame can be neglected)
   "metadata": {},
   "source": [
    "![ChessUrl](https://young.scot/media/1513/working_information_digtialcareermythbustersgif_001.jpg \"cat\")\n"
   ]
  },
  {
   "cell_type": "markdown",
<<<<<<< HEAD
   "id": "bridal-service",
=======
   "id": "complete-admission",
>>>>>>> parent of 5f8ef0a (Now subplots data in functionT has to be plotted in lists, but data frame can be neglected)
   "metadata": {},
   "source": [
    "# Data Analysis"
   ]
  },
  {
   "cell_type": "markdown",
<<<<<<< HEAD
   "id": "periodic-kernel",
=======
   "id": "retained-romance",
>>>>>>> parent of 5f8ef0a (Now subplots data in functionT has to be plotted in lists, but data frame can be neglected)
   "metadata": {},
   "source": [
    "## Imports"
   ]
  },
  {
   "cell_type": "code",
   "execution_count": 1,
<<<<<<< HEAD
   "id": "needed-wisdom",
=======
   "id": "neither-message",
>>>>>>> parent of 5f8ef0a (Now subplots data in functionT has to be plotted in lists, but data frame can be neglected)
   "metadata": {},
   "outputs": [],
   "source": [
    "\n",
    "# Enabling the `widget` backend.\n",
    "# This requires jupyter-matplotlib a.k.a. ipympl.\n",
    "# ipympl can be install via pip or conda.\n",
    "%matplotlib widget\n",
    "        \n",
    "import matplotlib.pyplot as plt\n",
    "import numpy as np\n",
    "import pandas as pd\n",
    "from ipywidgets import Output\n",
    "import matplotlib\n",
    "from scipy import integrate\n",
    "import os"
   ]
  },
  {
   "cell_type": "code",
   "execution_count": 2,
<<<<<<< HEAD
   "id": "fatal-census",
=======
   "id": "welcome-shooting",
>>>>>>> parent of 5f8ef0a (Now subplots data in functionT has to be plotted in lists, but data frame can be neglected)
   "metadata": {},
   "outputs": [],
   "source": [
    "import analise as ana \n",
    "import cdata \n",
    "import hotznplots as plot"
   ]
  },
  {
   "cell_type": "markdown",
<<<<<<< HEAD
   "id": "legendary-cooperation",
=======
   "id": "characteristic-polymer",
>>>>>>> parent of 5f8ef0a (Now subplots data in functionT has to be plotted in lists, but data frame can be neglected)
   "metadata": {},
   "source": [
    "## Importing the data"
   ]
  },
  {
   "cell_type": "markdown",
<<<<<<< HEAD
   "id": "trained-calendar",
=======
   "id": "ongoing-adoption",
>>>>>>> parent of 5f8ef0a (Now subplots data in functionT has to be plotted in lists, but data frame can be neglected)
   "metadata": {},
   "source": [
    " The path of data to to copy from:\n",
    " *F:\\HZDR\\CD_data* for Daniel\n",
    " *C:\\Users\\crazy\\Mega\\Uni\\Masterarbeit\\Projekt\\Data\\CD_data*"
   ]
  },
  {
   "cell_type": "code",
   "execution_count": null,
<<<<<<< HEAD
   "id": "competitive-conclusion",
=======
   "id": "piano-education",
>>>>>>> parent of 5f8ef0a (Now subplots data in functionT has to be plotted in lists, but data frame can be neglected)
   "metadata": {},
   "outputs": [],
   "source": []
  },
  {
   "cell_type": "code",
   "execution_count": 3,
<<<<<<< HEAD
   "id": "agreed-speaking",
=======
   "id": "immediate-patent",
>>>>>>> parent of 5f8ef0a (Now subplots data in functionT has to be plotted in lists, but data frame can be neglected)
   "metadata": {},
   "outputs": [
    {
     "name": "stdout",
     "output_type": "stream",
     "text": [
      "['0 M Control', '0,5 Gdm2SO4', '0,5 GdmCl', '0,5 GdmSCN', '2 M Gdm2SO4', '2 M GdmCl', '2 M GdmCl 24 h inkubation', '2 M GdmSCN', '2 M Urea', '4 M Gdm2SO4']\n"
     ]
    }
   ],
   "source": [
    "#path = \"F:\\\\HZDR\\\\CD_data\"\n",
    "path = \"C:\\\\Users\\\\crazy\\\\Mega\\\\Uni\\\\Masterarbeit\\\\Projekt\\\\Data\\\\CD_data\"\n",
    "folderlist = os.listdir(path)\n",
    "print(folderlist)"
   ]
  },
  {
   "cell_type": "code",
<<<<<<< HEAD
   "execution_count": 18,
   "id": "dying-olympus",
=======
   "execution_count": 4,
   "id": "champion-peter",
>>>>>>> parent of 5f8ef0a (Now subplots data in functionT has to be plotted in lists, but data frame can be neglected)
   "metadata": {},
   "outputs": [],
   "source": [
    "Control_0M = cdata.CData(os.path.join(path, folderlist[0]))\n",
    "Gdm2SO4_05M = cdata.CData(os.path.join(path, folderlist[1]))\n",
    "GdmCL_05M = cdata.CData(os.path.join(path, folderlist[2]))\n",
    "GdmSCN_05M = cdata.CData(os.path.join(path, folderlist[3]))\n",
    "Gdm2SO4_2M = cdata.CData(os.path.join(path, folderlist[4]))\n",
    "Gdm2SO4_4M = cdata.CData(os.path.join(path, folderlist[9]))\n",
    "GdmCl_2M = cdata.CData(os.path.join(path, folderlist[5]))\n",
    "GdmCl_2M_24h = cdata.CData(os.path.join(path, folderlist[6]))\n",
    "GdmSCN_2M = cdata.CData(os.path.join(path, folderlist[7]))\n",
    "Urea_2M = cdata.CData(os.path.join(path, folderlist[8]))\n",
<<<<<<< HEAD
<<<<<<< HEAD
    "GdmCl_4M = cdata.CData(os.path.join(path, folderlist[10]))"
=======
    "#GdmCl_4M = cdata.CData(os.path.join(path, folderlist[10]))\n",
    "\n",
    "data_all = [Control_0M, Gdm2SO4_05M, Gdm2SO4_2M, Gdm2SO4_4M, GdmCl_05M, GdmCl_2M, GdmSCN_05M ,GdmSCN_2M, Urea_2M]"
>>>>>>> parent of 7bf2d78 (Merge branch 'coop' into Analise_Wachstums_Schub)
=======
    "#GdmCL_4M = cdata.CData(os.path.join(path, folderlist[10]))"
>>>>>>> parent of 5f8ef0a (Now subplots data in functionT has to be plotted in lists, but data frame can be neglected)
   ]
  },
  {
   "cell_type": "markdown",
<<<<<<< HEAD
   "id": "manufactured-session",
=======
   "id": "modified-metadata",
>>>>>>> parent of 5f8ef0a (Now subplots data in functionT has to be plotted in lists, but data frame can be neglected)
   "metadata": {
    "tags": []
   },
   "source": [
    "## Plotti"
   ]
  },
  {
   "cell_type": "markdown",
<<<<<<< HEAD
   "id": "premium-climb",
=======
   "id": "distinguished-saver",
>>>>>>> parent of 5f8ef0a (Now subplots data in functionT has to be plotted in lists, but data frame can be neglected)
   "metadata": {},
   "source": [
    "### Max and min functions"
   ]
  },
  {
   "cell_type": "code",
   "execution_count": 5,
   "id": "actual-vampire",
   "metadata": {},
   "outputs": [
    {
     "data": {
      "application/vnd.jupyter.widget-view+json": {
       "model_id": "47092adda1c542c894f793d37e76863e",
       "version_major": 2,
       "version_minor": 0
      },
      "text/plain": [
       "Canvas(toolbar=Toolbar(toolitems=[('Home', 'Reset original view', 'home', 'home'), ('Back', 'Back to previous …"
      ]
     },
     "metadata": {},
     "output_type": "display_data"
    },
    {
     "data": {
      "application/vnd.jupyter.widget-view+json": {
       "model_id": "2b65dda49c2345d493ed9de57c91f6c2",
       "version_major": 2,
       "version_minor": 0
      },
      "text/plain": [
       "Canvas(toolbar=Toolbar(toolitems=[('Home', 'Reset original view', 'home', 'home'), ('Back', 'Back to previous …"
      ]
     },
     "metadata": {},
     "output_type": "display_data"
    }
   ],
   "source": [
    "df = ana.max_wave(Control_0M.t_df, wave_min=260, wave_max=278)\n",
    "df2 = ana.min_wave(Control_0M.t_df, wave_min=260, wave_max=300)\n",
    "plot.function([\"Wavelength\", ], df, swap=True)\n",
    "plot.function([\"Value\"], df, swap=True)"
   ]
  },
  {
   "cell_type": "code",
   "execution_count": 6,
   "id": "radical-gothic",
   "metadata": {},
   "outputs": [],
   "source": [
    "# Ploting temperature[K]; X-achis = Temperatur; Y-achsis = CD"
   ]
  },
  {
   "cell_type": "code",
<<<<<<< HEAD
   "execution_count": 31,
   "id": "concerned-webcam",
=======
   "execution_count": 7,
   "id": "processed-scout",
>>>>>>> parent of 5f8ef0a (Now subplots data in functionT has to be plotted in lists, but data frame can be neglected)
   "metadata": {},
   "outputs": [
    {
     "data": {
      "application/vnd.jupyter.widget-view+json": {
<<<<<<< HEAD
       "model_id": "c81cb478fb544ef6ad35a01ec58c13d9",
=======
       "model_id": "d0f7421dfbd14d39b895cd3149e185ec",
>>>>>>> parent of 5f8ef0a (Now subplots data in functionT has to be plotted in lists, but data frame can be neglected)
       "version_major": 2,
       "version_minor": 0
      },
      "text/plain": [
       "Canvas(toolbar=Toolbar(toolitems=[('Home', 'Reset original view', 'home', 'home'), ('Back', 'Back to previous …"
      ]
     },
     "metadata": {},
     "output_type": "display_data"
    }
   ],
   "source": [
    "plot.function([212, 220, 247, 260, 275], Urea_2M.t_df, Control_0M.t_df)"
   ]
  },
  {
   "cell_type": "code",
   "execution_count": 8,
   "id": "south-oriental",
   "metadata": {},
   "outputs": [],
   "source": [
    "# Plotting wavelength[nm]; X-achsis = temperature; Y-achis = CD"
   ]
  },
  {
   "cell_type": "code",
   "execution_count": 9,
<<<<<<< HEAD
   "id": "statistical-bloom",
=======
   "id": "federal-expert",
>>>>>>> parent of 5f8ef0a (Now subplots data in functionT has to be plotted in lists, but data frame can be neglected)
   "metadata": {},
   "outputs": [
    {
     "data": {
      "application/vnd.jupyter.widget-view+json": {
<<<<<<< HEAD
       "model_id": "39873fa8d9d94e719bd69f33f29e65f8",
=======
       "model_id": "b06558502cb9403bad82c88f4e6dcfdb",
>>>>>>> parent of 5f8ef0a (Now subplots data in functionT has to be plotted in lists, but data frame can be neglected)
       "version_major": 2,
       "version_minor": 0
      },
      "text/plain": [
       "Canvas(toolbar=Toolbar(toolitems=[('Home', 'Reset original view', 'home', 'home'), ('Back', 'Back to previous …"
      ]
     },
     "metadata": {},
     "output_type": "display_data"
    }
   ],
   "source": [
<<<<<<< HEAD
    "plot.function([ 260, 275], Control_0M.t_df,GdmSCN_05M.t_df, GdmSCN_2M.t_df, y_scaling = (-2,5))"
   ]
  },
  {
   "cell_type": "code",
   "execution_count": null,
   "id": "cellular-agency",
=======
    "plot.functionT([20, 40, 60, 80], Control_0M.t_df, Urea_2M.t_df, GdmCl_2M.t_df, Gdm2SO4_2M.t_df, GdmSCN_2M.t_df, x_min = 209, y_scaling=[-7.5,4.5], baseline = True, line1 = [1.83,1.83], line2 = [3.5,3.5], line3 = [-6.44, -6.44])"
   ]
  },
  {
   "cell_type": "markdown",
   "id": "subtle-species",
>>>>>>> parent of 5f8ef0a (Now subplots data in functionT has to be plotted in lists, but data frame can be neglected)
   "metadata": {},
   "source": [
    "## **analise**"
   ]
  },
  {
   "cell_type": "code",
<<<<<<< HEAD
<<<<<<< HEAD
   "execution_count": 10,
   "id": "allied-still",
=======
   "execution_count": 8,
   "id": "english-input",
>>>>>>> parent of 7bf2d78 (Merge branch 'coop' into Analise_Wachstums_Schub)
=======
   "execution_count": 10,
   "id": "domestic-singing",
>>>>>>> parent of 5f8ef0a (Now subplots data in functionT has to be plotted in lists, but data frame can be neglected)
   "metadata": {},
   "outputs": [
    {
     "data": {
      "application/vnd.jupyter.widget-view+json": {
<<<<<<< HEAD
       "model_id": "6562f3c7ea5547da8b3f06e4a264cb3a",
=======
       "model_id": "160e01dabee64189827f85a956cd3546",
>>>>>>> parent of 5f8ef0a (Now subplots data in functionT has to be plotted in lists, but data frame can be neglected)
       "version_major": 2,
       "version_minor": 0
      },
      "text/plain": [
       "Canvas(toolbar=Toolbar(toolitems=[('Home', 'Reset original view', 'home', 'home'), ('Back', 'Back to previous …"
      ]
     },
     "metadata": {},
     "output_type": "display_data"
    }
   ],
   "source": [
    "plot.function([275, 290], Control_0M.t_df, Gdm2SO4_05M.t_df)"
   ]
  },
  {
   "cell_type": "markdown",
   "id": "directed-branch",
   "metadata": {},
   "source": [
    "### Correlation Analysis"
   ]
  },
  {
   "cell_type": "code",
<<<<<<< HEAD
   "execution_count": 32,
   "id": "portable-liechtenstein",
=======
   "execution_count": 11,
   "id": "emotional-method",
>>>>>>> parent of 5f8ef0a (Now subplots data in functionT has to be plotted in lists, but data frame can be neglected)
   "metadata": {},
   "outputs": [
    {
     "name": "stdout",
     "output_type": "stream",
     "text": [
      "[20, 30, 40, 45, 50, 53, 56, 58, 60, 62, 64, 67, 70, 75, 80, 90] [20, 30, 40, 45, 50, 56, 58, 60, 62, 64, 67, 70, 75, 80, 90]\n"
     ]
    }
   ],
   "source": [
    "print(Control_0M.t_list, GdmCL_05M.t_list)"
   ]
  },
  {
   "cell_type": "raw",
<<<<<<< HEAD
<<<<<<< HEAD
   "id": "afraid-contract",
=======
   "id": "departmental-agriculture",
>>>>>>> parent of 7bf2d78 (Merge branch 'coop' into Analise_Wachstums_Schub)
=======
   "id": "addressed-tribe",
>>>>>>> parent of 5f8ef0a (Now subplots data in functionT has to be plotted in lists, but data frame can be neglected)
   "metadata": {},
   "source": [
    "control2 = Control_0M.t_df.drop([53], axis=1)\n",
    "print(control2)"
   ]
  },
  {
   "cell_type": "markdown",
<<<<<<< HEAD
   "id": "smooth-password",
=======
   "id": "burning-cholesterol",
>>>>>>> parent of 5f8ef0a (Now subplots data in functionT has to be plotted in lists, but data frame can be neglected)
   "metadata": {},
   "source": [
    "<div class=\"alert alert-block alert-info\">\n",
    "<b>Achtung:</b> When Messungen unterschiedlich viele Temperaturwerte haben, kommt ein Fehler. Am besten vergleichen. Einfachste Lösung ist hier unten mit 'Datei_mit_mehr_werten'.loc[:, 'Datei_mit_mehr_Werten'.t_list]\n",
    "</div>"
   ]
  },
  {
   "cell_type": "code",
<<<<<<< HEAD
   "execution_count": 34,
   "id": "seasonal-fifty",
=======
   "execution_count": 12,
   "id": "alike-chosen",
>>>>>>> parent of 5f8ef0a (Now subplots data in functionT has to be plotted in lists, but data frame can be neglected)
   "metadata": {},
   "outputs": [],
   "source": [
    "sync, assync = ana.correlation(GdmCL_05M.t_df, ref_spec=Control_0M.t_df.loc[:, GdmCL_05M.t_list], scaling='pareto')\n"
   ]
  },
  {
   "cell_type": "code",
<<<<<<< HEAD
   "execution_count": 35,
   "id": "varying-immigration",
=======
   "execution_count": 13,
   "id": "deluxe-investor",
>>>>>>> parent of 5f8ef0a (Now subplots data in functionT has to be plotted in lists, but data frame can be neglected)
   "metadata": {},
   "outputs": [
    {
     "data": {
      "application/vnd.jupyter.widget-view+json": {
<<<<<<< HEAD
       "model_id": "954825af4fec47b581c6c677924180e8",
=======
       "model_id": "14d0c2ed7d3147cfaac127d5820af6a2",
>>>>>>> parent of 5f8ef0a (Now subplots data in functionT has to be plotted in lists, but data frame can be neglected)
       "version_major": 2,
       "version_minor": 0
      },
      "text/plain": [
       "Canvas(toolbar=Toolbar(toolitems=[('Home', 'Reset original view', 'home', 'home'), ('Back', 'Back to previous …"
      ]
     },
     "metadata": {},
     "output_type": "display_data"
    }
   ],
   "source": [
    "plot.heatmap(assync)"
   ]
  },
  {
   "cell_type": "code",
<<<<<<< HEAD
   "execution_count": 36,
   "id": "demanding-seven",
=======
   "execution_count": 14,
   "id": "bibliographic-nutrition",
>>>>>>> parent of 5f8ef0a (Now subplots data in functionT has to be plotted in lists, but data frame can be neglected)
   "metadata": {},
   "outputs": [
    {
     "data": {
      "application/vnd.jupyter.widget-view+json": {
<<<<<<< HEAD
       "model_id": "84213e72353e45e9bfda3dc0f8601865",
=======
       "model_id": "2d32d66cb1114f16929a82edd542d6e5",
>>>>>>> parent of 5f8ef0a (Now subplots data in functionT has to be plotted in lists, but data frame can be neglected)
       "version_major": 2,
       "version_minor": 0
      },
      "text/plain": [
       "Canvas(toolbar=Toolbar(toolitems=[('Home', 'Reset original view', 'home', 'home'), ('Back', 'Back to previous …"
      ]
     },
     "metadata": {},
     "output_type": "display_data"
    }
   ],
   "source": [
    "plot.heatmap(sync, x_min=220, y_min=220)"
   ]
  },
  {
   "cell_type": "markdown",
<<<<<<< HEAD
   "id": "ignored-manitoba",
=======
   "id": "friendly-repository",
>>>>>>> parent of 5f8ef0a (Now subplots data in functionT has to be plotted in lists, but data frame can be neglected)
   "metadata": {},
   "source": [
    "### derivative example"
   ]
  },
  {
   "cell_type": "code",
<<<<<<< HEAD
   "execution_count": 37,
   "id": "designing-newton",
=======
   "execution_count": 15,
   "id": "amateur-apparatus",
>>>>>>> parent of 5f8ef0a (Now subplots data in functionT has to be plotted in lists, but data frame can be neglected)
   "metadata": {},
   "outputs": [],
   "source": [
    "deriv = ana.derivative(Control_0M.t_df)"
   ]
  },
  {
   "cell_type": "code",
<<<<<<< HEAD
   "execution_count": 38,
   "id": "direct-architect",
=======
   "execution_count": 16,
   "id": "unauthorized-correspondence",
>>>>>>> parent of 5f8ef0a (Now subplots data in functionT has to be plotted in lists, but data frame can be neglected)
   "metadata": {},
   "outputs": [
    {
     "data": {
      "application/vnd.jupyter.widget-view+json": {
<<<<<<< HEAD
       "model_id": "75ae0a0b406441b4846ef48b4d0107b8",
=======
       "model_id": "3aa18da52a3d4d8bb480c8d30958528a",
>>>>>>> parent of 5f8ef0a (Now subplots data in functionT has to be plotted in lists, but data frame can be neglected)
       "version_major": 2,
       "version_minor": 0
      },
      "text/plain": [
       "Canvas(toolbar=Toolbar(toolitems=[('Home', 'Reset original view', 'home', 'home'), ('Back', 'Back to previous …"
      ]
     },
     "metadata": {},
     "output_type": "display_data"
    }
   ],
   "source": [
    "plot.heatmap(Control_0M.t_df, x_min=258, x_max=261)"
   ]
  },
  {
   "cell_type": "code",
<<<<<<< HEAD
   "execution_count": 45,
   "id": "bigger-assist",
   "metadata": {},
   "outputs": [
    {
     "ename": "NameError",
     "evalue": "name 'data' is not defined",
     "output_type": "error",
     "traceback": [
      "\u001b[1;31m---------------------------------------------------------------------------\u001b[0m",
      "\u001b[1;31mNameError\u001b[0m                                 Traceback (most recent call last)",
      "\u001b[1;32m<ipython-input-45-3b8251b36b00>\u001b[0m in \u001b[0;36m<module>\u001b[1;34m\u001b[0m\n\u001b[1;32m----> 1\u001b[1;33m \u001b[0mplot\u001b[0m\u001b[1;33m.\u001b[0m\u001b[0mfunction\u001b[0m\u001b[1;33m(\u001b[0m\u001b[1;33m[\u001b[0m\u001b[1;36m247\u001b[0m\u001b[1;33m]\u001b[0m\u001b[1;33m,\u001b[0m\u001b[0mdata\u001b[0m\u001b[1;33m.\u001b[0m\u001b[0mt_df\u001b[0m\u001b[1;33m,\u001b[0m \u001b[0mdf2\u001b[0m\u001b[1;33m=\u001b[0m\u001b[0mderiv\u001b[0m\u001b[1;33m)\u001b[0m\u001b[1;33m\u001b[0m\u001b[1;33m\u001b[0m\u001b[0m\n\u001b[0m",
      "\u001b[1;31mNameError\u001b[0m: name 'data' is not defined"
     ]
=======
   "execution_count": 17,
   "id": "recreational-flush",
   "metadata": {},
   "outputs": [
    {
     "data": {
      "application/vnd.jupyter.widget-view+json": {
       "model_id": "e82f9ab0150f4a30964b2623e788ba7a",
       "version_major": 2,
       "version_minor": 0
      },
      "text/plain": [
       "Canvas(toolbar=Toolbar(toolitems=[('Home', 'Reset original view', 'home', 'home'), ('Back', 'Back to previous …"
      ]
     },
     "metadata": {},
     "output_type": "display_data"
>>>>>>> parent of 5f8ef0a (Now subplots data in functionT has to be plotted in lists, but data frame can be neglected)
    }
   ],
   "source": [
    "plot.function([247],data.t_df, df2=deriv)"
   ]
  },
  {
   "cell_type": "markdown",
<<<<<<< HEAD
   "id": "liked-growth",
=======
   "id": "unknown-carrier",
>>>>>>> parent of 5f8ef0a (Now subplots data in functionT has to be plotted in lists, but data frame can be neglected)
   "metadata": {},
   "source": [
    "#### example for integral"
   ]
  },
  {
<<<<<<< HEAD
   "cell_type": "code",
   "execution_count": 46,
   "id": "julian-individual",
=======
   "cell_type": "raw",
   "id": "joint-brief",
>>>>>>> parent of 5f8ef0a (Now subplots data in functionT has to be plotted in lists, but data frame can be neglected)
   "metadata": {},
   "outputs": [
    {
     "name": "stderr",
     "output_type": "stream",
     "text": [
      "<ipython-input-46-2878dc17bc5a>:5: IntegrationWarning: The maximum number of subdivisions (50) has been achieved.\n",
      "  If increasing the limit yields no improvement it is advised to analyze \n",
      "  the integrand in order to determine the difficulties.  If the position of a \n",
      "  local difficulty can be determined (singularity, discontinuity) one will \n",
      "  probably gain from splitting up the interval and calling the integrator \n",
      "  on the subranges.  Perhaps a special-purpose integrator should be used.\n",
      "  value = integrate.quad(f, 30, 75)\n"
     ]
    }
   ],
   "source": [
    "\n",
    "integral = pd.DataFrame(['integral','error'], columns=['Wavelength'])\n",
    "                        \n",
    "for i in range(len(deriv.index)):\n",
    "    f = ana.interpolate(deriv, i)\n",
    "    value = integrate.quad(f, 30, 75)\n",
    "    integral[i+200] = value\n",
    "integral.set_index('Wavelength')\n",
    "integral = integral.T\n",
    "\n"
   ]
  },
  {
<<<<<<< HEAD
   "cell_type": "code",
   "execution_count": null,
   "id": "final-arthritis",
   "metadata": {},
   "outputs": [],
   "source": [
    "print(integral)\n"
=======
   "cell_type": "markdown",
   "id": "external-insert",
   "metadata": {},
   "source": [
    "### sigmoid fit"
   ]
  },
  {
   "cell_type": "code",
   "execution_count": 18,
   "id": "fuzzy-malaysia",
   "metadata": {},
   "outputs": [],
   "source": [
    "data = Control_0M.t_df\n",
    "\n",
    "prep_data = ana.normalize(data)"
   ]
  },
  {
   "cell_type": "code",
   "execution_count": 25,
   "id": "intense-carrier",
   "metadata": {},
   "outputs": [],
   "source": [
    "fit = ana.sigmoid_fit(prep_data)"
   ]
  },
  {
   "cell_type": "code",
   "execution_count": 20,
   "id": "hispanic-imagination",
   "metadata": {},
   "outputs": [
    {
     "data": {
      "application/vnd.jupyter.widget-view+json": {
       "model_id": "6a8b3c1e18254720a6dc3a14338e5c38",
       "version_major": 2,
       "version_minor": 0
      },
      "text/plain": [
       "Canvas(toolbar=Toolbar(toolitems=[('Home', 'Reset original view', 'home', 'home'), ('Back', 'Back to previous …"
      ]
     },
     "metadata": {},
     "output_type": "display_data"
    }
   ],
   "source": [
    "plot.function([247], prep_data)"
   ]
  },
  {
   "cell_type": "code",
   "execution_count": 21,
   "id": "pleasant-shock",
   "metadata": {},
   "outputs": [
    {
     "data": {
      "application/vnd.jupyter.widget-view+json": {
       "model_id": "456f3de44f9f430aa43751f36ba7c335",
       "version_major": 2,
       "version_minor": 0
      },
      "text/plain": [
       "Canvas(toolbar=Toolbar(toolitems=[('Home', 'Reset original view', 'home', 'home'), ('Back', 'Back to previous …"
      ]
     },
     "metadata": {},
     "output_type": "display_data"
    }
   ],
   "source": [
    "plot.function(list(fit.index), fit)"
>>>>>>> parent of 5f8ef0a (Now subplots data in functionT has to be plotted in lists, but data frame can be neglected)
   ]
  },
  {
   "cell_type": "markdown",
<<<<<<< HEAD
   "id": "detected-captain",
=======
   "id": "broken-joining",
>>>>>>> parent of 5f8ef0a (Now subplots data in functionT has to be plotted in lists, but data frame can be neglected)
   "metadata": {},
   "source": [
    "$$\n",
    "\\color{red}{\\textbf{Ende. Vielleicht etwas $\\LaTeX$ lernen?}}\n",
    "$$"
   ]
  },
  {
   "cell_type": "code",
<<<<<<< HEAD
   "execution_count": null,
   "id": "dental-effects",
   "metadata": {},
   "outputs": [],
   "source": []
=======
   "execution_count": 22,
   "id": "artistic-storm",
   "metadata": {},
   "outputs": [
    {
     "data": {
      "application/vnd.jupyter.widget-view+json": {
       "model_id": "ecdaf6e0f0004305b4b38241f104147f",
       "version_major": 2,
       "version_minor": 0
      },
      "text/plain": [
       "Canvas(toolbar=Toolbar(toolitems=[('Home', 'Reset original view', 'home', 'home'), ('Back', 'Back to previous …"
      ]
     },
     "metadata": {},
     "output_type": "display_data"
    }
   ],
   "source": [
    "matplotlib.rcParams['legend.fontsize'] = 10\n",
    "\n",
    "fig = plt.figure()\n",
    "ax = fig.gca(projection='3d')\n",
    "theta = np.linspace(-4 * np.pi, 4 * np.pi, 100)\n",
    "z = np.linspace(-2, 2, 100)\n",
    "r = z**2 + 1\n",
    "x = r * np.sin(theta)\n",
    "y = r * np.cos(theta)\n",
    "ax.plot(x, y, z, label='parametric curve')\n",
    "ax.legend()\n",
    "\n",
    "plt.show()"
   ]
>>>>>>> parent of 5f8ef0a (Now subplots data in functionT has to be plotted in lists, but data frame can be neglected)
  }
 ],
 "metadata": {
  "kernelspec": {
   "display_name": "Python 3",
   "language": "python",
   "name": "python3"
  },
  "language_info": {
   "codemirror_mode": {
    "name": "ipython",
    "version": 3
   },
   "file_extension": ".py",
   "mimetype": "text/x-python",
   "name": "python",
   "nbconvert_exporter": "python",
   "pygments_lexer": "ipython3",
   "version": "3.8.6"
  },
  "toc-autonumbering": true,
  "toc-showcode": false,
  "toc-showmarkdowntxt": false,
  "toc-showtags": false
 },
 "nbformat": 4,
 "nbformat_minor": 5
}
