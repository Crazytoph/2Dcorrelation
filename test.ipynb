{
 "cells": [
  {
   "cell_type": "code",
   "execution_count": 1,
   "id": "bibliographic-repeat",
   "metadata": {},
   "outputs": [],
   "source": [
    "\n",
    "# Enabling the `widget` backend.\n",
    "# This requires jupyter-matplotlib a.k.a. ipympl.\n",
    "# ipympl can be install via pip or conda.\n",
    "%matplotlib widget\n",
    "\n",
    "import matplotlib.pyplot as plt\n",
    "import numpy as np\n",
    "import pandas as pd\n",
    "from ipywidgets import Output\n",
    "import matplotlib"
   ]
  },
  {
   "cell_type": "code",
   "execution_count": 2,
   "id": "bright-toddler",
   "metadata": {},
   "outputs": [],
   "source": [
    "import analise as ana \n",
    "import cdata \n",
    "import hotznplots as plot"
   ]
  },
  {
   "cell_type": "markdown",
   "id": "technological-honey",
   "metadata": {},
   "source": [
    " *C:\\Users\\crazy\\Mega\\Uni\\Masterarbeit\\Projekt\\Data\\CD_data\\0 M Control*"
   ]
  },
  {
   "cell_type": "code",
   "execution_count": 3,
   "id": "sufficient-facility",
   "metadata": {},
   "outputs": [
    {
     "name": "stdin",
     "output_type": "stream",
     "text": [
      " C:\\Users\\crazy\\Mega\\Uni\\Masterarbeit\\Projekt\\Data\\CD_data\\0 M Control\n"
     ]
    }
   ],
   "source": [
    "path = input()"
   ]
  },
  {
   "cell_type": "code",
   "execution_count": 4,
   "id": "north-utilization",
   "metadata": {},
   "outputs": [
    {
     "name": "stdout",
     "output_type": "stream",
     "text": [
      "                  20         30         40        45        50         53  \\\n",
      "wavelength                                                                  \n",
      "200         8.896620  10.237500  10.157400  9.247570  7.125740  11.056700   \n",
      "201         6.025130   7.548150   7.359080  7.514580  5.405750   7.745430   \n",
      "202         4.091300   4.531970   5.242820  4.946380  4.566730   5.052770   \n",
      "203         2.270240   2.160980   3.530380  2.881040  3.623640   3.258470   \n",
      "204         0.693368   0.940973   2.176730  1.338040  2.073560   2.060140   \n",
      "...              ...        ...        ...       ...       ...        ...   \n",
      "326         0.030856   0.044162   0.065707  0.055871 -0.026885  -0.039659   \n",
      "327         0.071056   0.059061   0.082903  0.060837  0.004723   0.001411   \n",
      "328         0.091923   0.066860   0.087886  0.054191  0.039079   0.027391   \n",
      "329         0.097686   0.066065   0.059296  0.042834  0.057128   0.059202   \n",
      "330         0.115016   0.044030   0.089518  0.066433  0.042307   0.051124   \n",
      "\n",
      "                   56        58        60        62        64        67  \\\n",
      "wavelength                                                                \n",
      "200         10.084300  9.637220  9.986890  7.350720  5.756420  1.809050   \n",
      "201          7.431950  6.882070  7.108130  6.759850  3.741500  2.216430   \n",
      "202          5.307750  4.862980  4.919430  5.547010  1.461720  2.082340   \n",
      "203          3.561450  3.303100  3.435400  3.590030  0.387276  0.931303   \n",
      "204          1.907660  2.146910  2.335540  1.521420  0.561905  0.526973   \n",
      "...               ...       ...       ...       ...       ...       ...   \n",
      "326         -0.012399  0.001060 -0.009243 -0.035403 -0.017315 -0.032496   \n",
      "327         -0.006304  0.017532 -0.005619  0.011148  0.005565 -0.022832   \n",
      "328          0.027273  0.003070 -0.008011  0.043677 -0.000252 -0.015707   \n",
      "329          0.039412  0.008452 -0.022913  0.043828 -0.001376 -0.012248   \n",
      "330          0.048713  0.002842 -0.001465  0.041869 -0.025366  0.009871   \n",
      "\n",
      "                  70        75        80        90  \n",
      "wavelength                                          \n",
      "200         3.143940 -0.211223  2.684120 -2.227660  \n",
      "201         0.921237  0.265991  2.272560  2.046330  \n",
      "202        -0.767251  0.237378  1.866580  2.182180  \n",
      "203        -0.745977  0.981410  0.597348  1.150980  \n",
      "204        -0.147613  0.985970 -0.442026  0.344748  \n",
      "...              ...       ...       ...       ...  \n",
      "326        -0.060174 -0.035558 -0.045252 -0.054266  \n",
      "327        -0.051046  0.012117 -0.001709 -0.062968  \n",
      "328        -0.026555  0.021644 -0.005469 -0.069495  \n",
      "329         0.019133  0.041908 -0.017087 -0.059791  \n",
      "330         0.022376  0.025609 -0.010944 -0.049470  \n",
      "\n",
      "[131 rows x 16 columns]\n"
     ]
    }
   ],
   "source": [
    "\n",
    "data = cdata.CData(path)\n",
    "\n",
    "print(data.t_df)"
   ]
  },
  {
   "cell_type": "markdown",
   "id": "correct-vanilla",
   "metadata": {
    "tags": [],
    "toc-hr-collapsed": true
   },
   "source": [
    "### here come the plots"
   ]
  },
  {
   "cell_type": "code",
   "execution_count": 10,
   "id": "interim-orchestra",
   "metadata": {},
   "outputs": [
    {
     "data": {
      "application/vnd.jupyter.widget-view+json": {
       "model_id": "e6388e1756c4494b96e65fecf86764f4",
       "version_major": 2,
       "version_minor": 0
      },
      "text/plain": [
       "Canvas(toolbar=Toolbar(toolitems=[('Home', 'Reset original view', 'home', 'home'), ('Back', 'Back to previous …"
      ]
     },
     "metadata": {},
     "output_type": "display_data"
    }
   ],
   "source": [
    "plot.heatmap(data.t_df, data.t_df, data.t_df)"
   ]
  },
  {
   "cell_type": "code",
   "execution_count": 8,
   "id": "parallel-handy",
   "metadata": {},
   "outputs": [
    {
     "data": {
      "application/vnd.jupyter.widget-view+json": {
       "model_id": "bc2fbac7377043f69f7cd8e710516d4a",
       "version_major": 2,
       "version_minor": 0
      },
      "text/plain": [
       "Canvas(toolbar=Toolbar(toolitems=[('Home', 'Reset original view', 'home', 'home'), ('Back', 'Back to previous …"
      ]
     },
     "metadata": {},
     "output_type": "display_data"
    }
   ],
   "source": [
    "plot.function([240], data.t_df, data.t_df, df2=data.t_df)"
   ]
  },
  {
   "cell_type": "code",
   "execution_count": null,
   "id": "connected-innocent",
   "metadata": {},
   "outputs": [],
   "source": []
  }
 ],
 "metadata": {
  "kernelspec": {
   "display_name": "Python 3",
   "language": "python",
   "name": "python3"
  },
  "language_info": {
   "codemirror_mode": {
    "name": "ipython",
    "version": 3
   },
   "file_extension": ".py",
   "mimetype": "text/x-python",
   "name": "python",
   "nbconvert_exporter": "python",
   "pygments_lexer": "ipython3",
   "version": "3.8.6"
  },
  "toc-autonumbering": true,
  "toc-showcode": false,
  "toc-showmarkdowntxt": true
 },
 "nbformat": 4,
 "nbformat_minor": 5
}
