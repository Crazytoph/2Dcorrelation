{
 "cells": [
  {
   "cell_type": "markdown",
   "id": "productive-bullet",
   "metadata": {},
   "source": [
    "![ChessUrl](https://young.scot/media/1513/working_information_digtialcareermythbustersgif_001.jpg \"cat\")\n"
   ]
  },
  {
   "cell_type": "markdown",
   "id": "blessed-secretariat",
   "metadata": {},
   "source": [
    "# Data Analysis"
   ]
  },
  {
   "cell_type": "markdown",
   "id": "known-gravity",
   "metadata": {},
   "source": [
    "## Imports"
   ]
  },
  {
   "cell_type": "code",
   "execution_count": 1,
   "id": "cordless-mount",
   "metadata": {},
   "outputs": [],
   "source": [
    "# Enabling the `widget` backend.\n",
    "# This requires jupyter-matplotlib a.k.a. ipympl.\n",
    "# ipympl can be install via pip or conda.\n",
    "%matplotlib widget\n",
    "        \n",
    "import matplotlib.pyplot as plt\n",
    "from mpl_toolkits.mplot3d import Axes3D\n",
    "import numpy as np\n",
    "import pandas as pd\n",
    "from ipywidgets import Output\n",
    "import matplotlib\n",
    "from scipy import integrate\n",
    "from scipy.optimize import curve_fit\n",
    "import os"
   ]
  },
  {
   "cell_type": "code",
   "execution_count": 2,
   "id": "certain-prescription",
   "metadata": {},
   "outputs": [],
   "source": [
    "import analise as ana \n",
    "import cdata \n",
    "import hotznplots as plot"
   ]
  },
  {
   "cell_type": "markdown",
   "id": "arranged-henry",
   "metadata": {},
   "source": [
    "**Um DataFrames komplett zu sehen, pd.set_option('display.max_rows', None)**\n"
   ]
  },
  {
   "cell_type": "markdown",
   "id": "consecutive-makeup",
   "metadata": {
    "tags": []
   },
   "source": [
    "## Importing the data"
   ]
  },
  {
   "cell_type": "markdown",
   "id": "fiscal-making",
   "metadata": {},
   "source": [
    " The path of data to to copy from:\n",
    " *F:\\HZDR\\CD_data* for Daniel\n",
    " *C:\\Users\\crazy\\Mega\\Uni\\Masterarbeit\\Projekt\\Data\\CD_data*"
   ]
  },
  {
   "cell_type": "code",
   "execution_count": null,
   "id": "international-muslim",
   "metadata": {},
   "outputs": [],
   "source": []
  },
  {
   "cell_type": "code",
   "execution_count": 3,
   "id": "vertical-nashville",
   "metadata": {},
   "outputs": [
    {
     "name": "stdout",
     "output_type": "stream",
     "text": [
      "['0 M Control', '0,5 Gdm2SO4', '0,5 GdmCl', '0,5 GdmSCN', '1 M Gdm2SO4', '2 M Gdm2SO4', '2 M GdmCl', '2 M GdmCl 24 h inkubation', '2 M GdmSCN', '2 M Urea', '4 M GdmCl']\n"
     ]
    }
   ],
   "source": [
    "#path = \"F:\\\\HZDR\\\\CD_data\"\n",
    "path = \"F:\\\\HZDR\\\\CD_data\"\n",
    "folderlist = os.listdir(path)\n",
    "print(folderlist)"
   ]
  },
  {
   "cell_type": "code",
   "execution_count": 4,
   "id": "growing-necessity",
   "metadata": {},
   "outputs": [],
   "source": [
    "Control_0M = cdata.CData(os.path.join(path, folderlist[0]))\n",
    "Gdm2SO4_05M = cdata.CData(os.path.join(path, folderlist[1]))\n",
    "GdmCl_05M = cdata.CData(os.path.join(path, folderlist[2]))\n",
    "GdmSCN_05M = cdata.CData(os.path.join(path, folderlist[3]))\n",
    "Gdm2SO4_2M = cdata.CData(os.path.join(path, folderlist[4]))\n",
    "Gdm2SO4_4M = cdata.CData(os.path.join(path, folderlist[9]))\n",
    "GdmCl_2M = cdata.CData(os.path.join(path, folderlist[5]))\n",
    "GdmCl_2M_24h = cdata.CData(os.path.join(path, folderlist[6]))\n",
    "GdmSCN_2M = cdata.CData(os.path.join(path, folderlist[7]))\n",
    "Urea_2M = cdata.CData(os.path.join(path, folderlist[8]))\n",
    "GdmCl_4M = cdata.CData(os.path.join(path, folderlist[10]))\n",
    "\n",
    "data_all = [Control_0M, Gdm2SO4_05M, Gdm2SO4_2M, Gdm2SO4_4M, GdmCl_05M, GdmCl_2M, GdmCl_4M, GdmSCN_05M ,GdmSCN_2M, Urea_2M]"
   ]
  },
  {
   "cell_type": "markdown",
   "id": "blank-hands",
   "metadata": {
    "tags": []
   },
   "source": [
    "## Plotti"
   ]
  },
  {
   "cell_type": "markdown",
   "id": "informational-reference",
   "metadata": {},
   "source": [
    "### Max and min functions"
   ]
  },
  {
   "cell_type": "code",
   "execution_count": 59,
   "id": "looking-conjunction",
   "metadata": {},
   "outputs": [
    {
     "data": {
      "application/vnd.jupyter.widget-view+json": {
       "model_id": "affb40ec7a5649d7a8c7aa437bb6ea5a",
       "version_major": 2,
       "version_minor": 0
      },
      "text/plain": [
       "Canvas(toolbar=Toolbar(toolitems=[('Home', 'Reset original view', 'home', 'home'), ('Back', 'Back to previous …"
      ]
     },
     "metadata": {},
     "output_type": "display_data"
    },
    {
     "data": {
      "application/vnd.jupyter.widget-view+json": {
       "model_id": "d37a699f8e8344d4a2344955f71e89fa",
       "version_major": 2,
       "version_minor": 0
      },
      "text/plain": [
       "Canvas(toolbar=Toolbar(toolitems=[('Home', 'Reset original view', 'home', 'home'), ('Back', 'Back to previous …"
      ]
     },
     "metadata": {},
     "output_type": "display_data"
    }
   ],
   "source": [
    "df = ana.max_wave(Control_0M.t_df, wave_min=260, wave_max=300)\n",
    "df2 = ana.min_wave(Control_0M.t_df, wave_min=260, wave_max=300)\n",
    "plot.functionT([\"Wavelength\", ], df, swap=True, y_label = \"Wavelength [nm]\")\n",
    "plot.function([\"Value\"], df, swap=True)"
   ]
  },
  {
   "cell_type": "code",
   "execution_count": 57,
   "id": "defined-butterfly",
   "metadata": {},
   "outputs": [
    {
     "data": {
      "application/vnd.jupyter.widget-view+json": {
       "model_id": "1623b6c19dcb4f8686cf62620fcddd53",
       "version_major": 2,
       "version_minor": 0
      },
      "text/plain": [
       "Canvas(toolbar=Toolbar(toolitems=[('Home', 'Reset original view', 'home', 'home'), ('Back', 'Back to previous …"
      ]
     },
     "metadata": {},
     "output_type": "display_data"
    },
    {
     "data": {
      "application/vnd.jupyter.widget-view+json": {
       "model_id": "551ba79451ce46b8a97b271754bc1b9c",
       "version_major": 2,
       "version_minor": 0
      },
      "text/plain": [
       "Canvas(toolbar=Toolbar(toolitems=[('Home', 'Reset original view', 'home', 'home'), ('Back', 'Back to previous …"
      ]
     },
     "metadata": {},
     "output_type": "display_data"
    },
    {
     "data": {
      "application/vnd.jupyter.widget-view+json": {
       "model_id": "88babdc90b2b48268901f9e782f963c0",
       "version_major": 2,
       "version_minor": 0
      },
      "text/plain": [
       "Canvas(toolbar=Toolbar(toolitems=[('Home', 'Reset original view', 'home', 'home'), ('Back', 'Back to previous …"
      ]
     },
     "metadata": {},
     "output_type": "display_data"
    },
    {
     "data": {
      "application/vnd.jupyter.widget-view+json": {
       "model_id": "3058f53da32345b6aac3d162cb33421b",
       "version_major": 2,
       "version_minor": 0
      },
      "text/plain": [
       "Canvas(toolbar=Toolbar(toolitems=[('Home', 'Reset original view', 'home', 'home'), ('Back', 'Back to previous …"
      ]
     },
     "metadata": {},
     "output_type": "display_data"
    },
    {
     "data": {
      "application/vnd.jupyter.widget-view+json": {
       "model_id": "09c1abe442404b6e80bc403dc0b96593",
       "version_major": 2,
       "version_minor": 0
      },
      "text/plain": [
       "Canvas(toolbar=Toolbar(toolitems=[('Home', 'Reset original view', 'home', 'home'), ('Back', 'Back to previous …"
      ]
     },
     "metadata": {},
     "output_type": "display_data"
    },
    {
     "data": {
      "application/vnd.jupyter.widget-view+json": {
       "model_id": "ef922cb6b2ee4ca084594f5ecd09f564",
       "version_major": 2,
       "version_minor": 0
      },
      "text/plain": [
       "Canvas(toolbar=Toolbar(toolitems=[('Home', 'Reset original view', 'home', 'home'), ('Back', 'Back to previous …"
      ]
     },
     "metadata": {},
     "output_type": "display_data"
    },
    {
     "data": {
      "application/vnd.jupyter.widget-view+json": {
       "model_id": "1d743474d099404ebc55eaef8972818d",
       "version_major": 2,
       "version_minor": 0
      },
      "text/plain": [
       "Canvas(toolbar=Toolbar(toolitems=[('Home', 'Reset original view', 'home', 'home'), ('Back', 'Back to previous …"
      ]
     },
     "metadata": {},
     "output_type": "display_data"
    },
    {
     "data": {
      "application/vnd.jupyter.widget-view+json": {
       "model_id": "87b84f85f12b4035831c5f21899cd270",
       "version_major": 2,
       "version_minor": 0
      },
      "text/plain": [
       "Canvas(toolbar=Toolbar(toolitems=[('Home', 'Reset original view', 'home', 'home'), ('Back', 'Back to previous …"
      ]
     },
     "metadata": {},
     "output_type": "display_data"
    }
   ],
   "source": [
    "dfc = ana.max_wave(Control_0M.t_df, wave_min=260, wave_max=300)\n",
    "df2c = ana.min_wave(Control_0M.t_df, wave_min=260, wave_max=300)\n",
    "dfu = ana.max_wave(Urea_2M.t_df, wave_min=260, wave_max=300)\n",
    "df2u = ana.min_wave(Urea_2M.t_df, wave_min=260, wave_max=300)\n",
    "\n",
    "dfgc05 = ana.max_wave(GdmCl_05M.t_df, wave_min = 260, wave_max = 300)\n",
    "df2gc05 = ana.min_wave(GdmCl_05M.t_df, wave_min = 260, wave_max = 300)\n",
    "dfgc2 = ana.max_wave(GdmCl_2M.t_df, wave_min = 260, wave_max = 300)\n",
    "df2gc2 =ana.min_wave(GdmCl_2M.t_df, wave_min = 260, wave_max = 300)\n",
    "dfgc4 = ana.max_wave(GdmCl_4M.t_df, wave_min = 260, wave_max = 300)\n",
    "df2gc4 =ana.min_wave(GdmCl_4M.t_df, wave_min = 260, wave_max = 300)\n",
    "\n",
    "dfgso05 = ana.max_wave(Gdm2SO4_05M.t_df, wave_min = 260, wave_max = 300)\n",
    "df2gso05 = ana.min_wave(Gdm2SO4_05M.t_df, wave_min = 260, wave_max = 300)\n",
    "dfgso2 = ana.max_wave(Gdm2SO4_2M.t_df, wave_min = 260, wave_max = 300)\n",
    "df2gso2 =ana.min_wave(Gdm2SO4_2M.t_df, wave_min = 260, wave_max = 300)\n",
    "dfgso4 = ana.max_wave(Gdm2SO4_4M.t_df, wave_min = 260, wave_max = 300)\n",
    "df2gso4 =ana.min_wave(Gdm2SO4_4M.t_df, wave_min = 260, wave_max = 300)\n",
    "\n",
    "dfgsc05 = ana.max_wave(GdmSCN_05M.t_df, wave_min = 260, wave_max = 300)\n",
    "df2gsc05 = ana.min_wave(GdmSCN_05M.t_df, wave_min = 260, wave_max = 300)\n",
    "dfgsc2 = ana.max_wave(GdmSCN_2M.t_df, wave_min = 260, wave_max = 300)\n",
    "df2gsc2 =ana.min_wave(GdmSCN_2M.t_df, wave_min = 260, wave_max = 300)\n",
    "\n",
    "plot.functionT([\"Wavelength\", ], dfc, dfu, swap=True, y_label = \"Wavelength [nm]\", y_scaling= [271, 283])\n",
    "plot.function([\"Value\"], dfc, dfu, swap=True, y_scaling = [2.4, 4.2])\n",
    "\n",
    "#plot.functionT([\"Wavelength\", ], dfc, dfgc05, dfgc2, dfgc4, swap=True, y_label = \"Wavelength [nm]\", y_scaling= [271, 283])\n",
    "#plot.function([\"Value\"], dfc, dfgc05, dfgc2, dfgc4, swap=True, y_scaling = [2.4, 4.2])\n",
    "\n",
    "#plot.functionT([\"Wavelength\", ], dfc, dfgso05, dfgso2, dfgso4, swap=True, y_label = \"Wavelength [nm]\", y_scaling= [271, 283])\n",
    "#plot.function([\"Value\"], dfc, dfgso05, dfgso2, dfgso4, swap=True, y_scaling = [2.4, 4.2])\n",
    "\n",
    "#plot.functionT([\"Wavelength\", ], dfc, dfgsc05, dfgsc2, swap=True, y_label = \"Wavelength [nm]\", y_scaling= [271, 283])\n",
    "#plot.function([\"Value\"], dfc, dfgsc05, dfgsc2, swap=True, y_scaling = [2.4, 4.2])"
   ]
  },
  {
   "cell_type": "code",
   "execution_count": null,
   "id": "looking-fraud",
   "metadata": {},
   "outputs": [],
   "source": []
  },
  {
   "cell_type": "code",
   "execution_count": null,
   "id": "novel-firmware",
   "metadata": {},
   "outputs": [],
   "source": []
  },
  {
   "cell_type": "markdown",
   "id": "baking-jamaica",
   "metadata": {},
   "source": [
    "### Ploting temperature[K]; X-achis = Temperatur; Y-achsis = CD"
   ]
  },
  {
   "cell_type": "code",
   "execution_count": 6,
   "id": "confident-scene",
   "metadata": {},
   "outputs": [
    {
     "data": {
      "application/vnd.jupyter.widget-view+json": {
       "model_id": "5f514b29448e4bbcba3ad8ba0890be01",
       "version_major": 2,
       "version_minor": 0
      },
      "text/plain": [
       "Canvas(toolbar=Toolbar(toolitems=[('Home', 'Reset original view', 'home', 'home'), ('Back', 'Back to previous …"
      ]
     },
     "metadata": {},
     "output_type": "display_data"
    }
   ],
   "source": [
    "plot.function([220, 247, 260, 275], Control_0M.t_df,Gdm2SO4_05M.t_df, Gdm2SO4_2M.t_df, Gdm2SO4_4M.t_df, y_scaling = (-8.5,5))"
   ]
  },
  {
   "cell_type": "code",
   "execution_count": 8,
   "id": "convenient-supervision",
   "metadata": {},
   "outputs": [
    {
     "data": {
      "application/vnd.jupyter.widget-view+json": {
       "model_id": "a69006544a674472a6f358901ae4d2d4",
       "version_major": 2,
       "version_minor": 0
      },
      "text/plain": [
       "Canvas(toolbar=Toolbar(toolitems=[('Home', 'Reset original view', 'home', 'home'), ('Back', 'Back to previous …"
      ]
     },
     "metadata": {},
     "output_type": "display_data"
    }
   ],
   "source": [
    "plot.function([212, 220, 247, 260, 275], Control_0M.t_df,Gdm2SO4_05M.t_df, Gdm2SO4_2M.t_df, Gdm2SO4_4M.t_df, y_scaling = (-8,5))"
   ]
  },
  {
   "cell_type": "code",
   "execution_count": 23,
   "id": "unusual-israel",
   "metadata": {},
   "outputs": [
    {
     "data": {
      "application/vnd.jupyter.widget-view+json": {
       "model_id": "5d5bea73bb324c6cb2bea3dbc6f4c574",
       "version_major": 2,
       "version_minor": 0
      },
      "text/plain": [
       "Canvas(toolbar=Toolbar(toolitems=[('Home', 'Reset original view', 'home', 'home'), ('Back', 'Back to previous …"
      ]
     },
     "metadata": {},
     "output_type": "display_data"
    }
   ],
   "source": [
    "plot.functionT([20, 40, 60, 80], [Control_0M], [Urea_2M], [GdmCl_2M], [Gdm2SO4_2M], [GdmSCN_2M], x_min = 209, y_scaling=[-7.5,4.5], baseline = True, line1 = [1.83,1.83], line2 = [3.5,3.5], line3 = [-6.44, -6.44])"
   ]
  },
  {
   "cell_type": "markdown",
   "id": "available-flexibility",
   "metadata": {},
   "outputs": [],
   "source": [
    "plot.function([ 260, 275], Control_0M.t_df, Urea_2M.t_df, GdmCl_2M.t_df, Gdm2SO4_2M.t_df, GdmSCN_2M.t_df, y_scaling = (-2,4.5), line1 = [40,40], line2 = [60,60])"
   ]
  },
  {
   "cell_type": "code",
   "execution_count": 8,
   "id": "english-input",

   "metadata": {},
   "outputs": [
    {
     "data": {
      "application/vnd.jupyter.widget-view+json": {
       "model_id": "857fed2b7cb7421d8471d8f0b46155bc",
       "version_major": 2,
       "version_minor": 0
      },
      "text/plain": [
       "Canvas(toolbar=Toolbar(toolitems=[('Home', 'Reset original view', 'home', 'home'), ('Back', 'Back to previous …"
      ]
     },
     "metadata": {},
     "output_type": "display_data"
    }
   ],
   "source": [
    "plot.function([212, 220, 247, 260, 275], Control_0M.t_df, GdmCl_05M.t_df, Gdm2SO4_05M.t_df, GdmSCN_05M.t_df, y_scaling = (-8,5))"
   ]
  },
  {
   "cell_type": "code",
   "execution_count": 9,
   "id": "relative-cheese",
   "metadata": {},
   "outputs": [
    {
     "data": {
      "application/vnd.jupyter.widget-view+json": {
       "model_id": "b3aaa888669643c9a9a23b5ef3634c59",
       "version_major": 2,
       "version_minor": 0
      },
      "text/plain": [
       "Canvas(toolbar=Toolbar(toolitems=[('Home', 'Reset original view', 'home', 'home'), ('Back', 'Back to previous …"
      ]
     },
     "metadata": {},
     "output_type": "display_data"
    }
   ],
   "source": [
    "plot.function([212, 220, 247, 260, 275], Control_0M.t_df, GdmCl_4M.t_df, Gdm2SO4_4M.t_df, y_scaling = (-8,5))"
   ]
  },
  {
   "cell_type": "markdown",
   "id": "natural-macintosh",
   "metadata": {},
   "source": [
    "### Correlation Analysis"
   ]
  },
  {
   "cell_type": "raw",
   "id": "departmental-agriculture",
=======
   "metadata": {},
   "source": [
    "### Plotting wavelength[nm]; X-achsis = temperature; Y-achis = CD"
   ]
  },
  {
   "cell_type": "markdown",
   "id": "occupied-trace",
   "metadata": {},
   "source": [
    "<div class=\"alert alert-block alert-info\">\n",
    "<b>Achtung:</b> When Messungen unterschiedlich viele Temperaturwerte haben, kommt ein Fehler. Am besten vergleichen. Einfachste Lösung ist hier unten mit 'Datei_mit_mehr_werten'.loc[:, 'Datei_mit_mehr_Werten'.t_list]\n",
    "</div>"
   ]
  },
  {
   "cell_type": "code",
   "execution_count": 10,
   "id": "plain-radical",
   "metadata": {},
   "outputs": [],
   "source": [
    "sync, assync = ana.correlation(GdmCl_05M.t_df, ref_spec=Control_0M.t_df.loc[:, GdmCl_05M.t_list], scaling='pareto')\n"
   ]
  },
  {
   "cell_type": "code",
   "execution_count": 11,
   "id": "married-values",
   "metadata": {},
   "outputs": [
    {
     "data": {
      "application/vnd.jupyter.widget-view+json": {
       "model_id": "f39fd20c73674bc29d4d7089d4ca1b39",
       "version_major": 2,
       "version_minor": 0
      },
      "text/plain": [
       "Canvas(toolbar=Toolbar(toolitems=[('Home', 'Reset original view', 'home', 'home'), ('Back', 'Back to previous …"
      ]
     },
     "metadata": {},
     "output_type": "display_data"
    }
   ],
   "source": [
    "plot.heatmap(assync)"
   ]
  },
  {
   "cell_type": "code",
   "execution_count": 12,
   "id": "activated-newman",
   "metadata": {},
   "outputs": [
    {
     "data": {
      "application/vnd.jupyter.widget-view+json": {
       "model_id": "370fd5c989694eb1b08ef9e40a21d858",
       "version_major": 2,
       "version_minor": 0
      },
      "text/plain": [
       "Canvas(toolbar=Toolbar(toolitems=[('Home', 'Reset original view', 'home', 'home'), ('Back', 'Back to previous …"
      ]
     },
     "metadata": {},
     "output_type": "display_data"
    }
   ],
   "source": [
    "plot.heatmap(sync, x_min=220, y_min=220)"
   ]
  },
  {
   "cell_type": "markdown",
   "id": "sharp-prophet",
   "metadata": {},
   "source": [
    "### derivative example"
   ]
  },
  {
   "cell_type": "code",
   "execution_count": 13,
   "id": "photographic-scotland",
   "metadata": {},
   "outputs": [],
   "source": [
    "deriv = ana.derivative(Control_0M.t_df)"
   ]
  },
  {
   "cell_type": "code",
   "execution_count": 14,
   "id": "changed-april",
   "metadata": {},
   "outputs": [
    {
     "data": {
      "application/vnd.jupyter.widget-view+json": {
       "model_id": "e9321bc321384e36bf26a80953aea315",
       "version_major": 2,
       "version_minor": 0
      },
      "text/plain": [
       "Canvas(toolbar=Toolbar(toolitems=[('Home', 'Reset original view', 'home', 'home'), ('Back', 'Back to previous …"
      ]
     },
     "metadata": {},
     "output_type": "display_data"
    }
   ],
   "source": [
    "plot.heatmap(Control_0M.t_df, x_min=258, x_max=261)"
   ]
  },
  {
   "cell_type": "code",
   "execution_count": 15,
   "id": "bibliographic-rolling",
   "metadata": {},
   "outputs": [
    {
     "data": {
      "application/vnd.jupyter.widget-view+json": {
       "model_id": "c9668777bc9c43998feefddc4274e73f",
       "version_major": 2,
       "version_minor": 0
      },
      "text/plain": [
       "Canvas(toolbar=Toolbar(toolitems=[('Home', 'Reset original view', 'home', 'home'), ('Back', 'Back to previous …"
      ]
     },
     "metadata": {},
     "output_type": "display_data"
    }
   ],
   "source": [
    "plot.function([247], Control_0M.t_df, deriv)"
   ]
  },
  {
   "cell_type": "markdown",
   "id": "hispanic-melissa",
   "metadata": {},
   "source": [
    "#### example for integral"
   ]
  },
  {
   "cell_type": "raw",
   "id": "preceding-spokesman",
   "metadata": {},
   "source": [
    "\n",
    "integral = pd.DataFrame(['integral','error'], columns=['Wavelength'])\n",
    "                        \n",
    "for i in range(len(deriv.index)):\n",
    "    f = ana.interpolate(deriv, i)\n",
    "    value = integrate.quad(f, 30, 75)\n",
    "    integral[i+200] = value\n",
    "integral.set_index('Wavelength')\n",
    "integral = integral.T\n",
    "\n"
   ]
  },
  {
   "cell_type": "markdown",
   "id": "disciplinary-above",
   "metadata": {},
   "source": [
    "### sigmoid fit"
   ]
  },
  {
   "cell_type": "markdown",
   "id": "lucky-prize",
   "metadata": {},
   "source": [
    "**get all melting temperatures**"
   ]
  },
  {
   "cell_type": "code",
   "execution_count": 16,
   "id": "induced-mississippi",
   "metadata": {},
   "outputs": [],
   "source": [
    "T_melt_all= {}\n",
    "for i in data_all:\n",
    "    data = i.t_df\n",
    "    prep_data = ana.normalize(data) #normalize\n",
    "    name = i.denaturant + \" \"+ i.concentration\n",
    "    fit_placeholder, T_melt = ana.sigmoid_fit(prep_data)\n",
    "    T_melt_all.update({name:T_melt});"
   ]
  },
  {
   "cell_type": "code",
   "execution_count": 17,
   "id": "preceding-liberia",
   "metadata": {},
   "outputs": [
    {
     "name": "stdout",
     "output_type": "stream",
     "text": [
      "{'Control 0M': 61.81964852634748, 'Gdm2SO4 05M': 63.42769870600247, 'Gdm2So4 1M': 63.87981188668699, 'Gdm2SO4 2M': 64.87468008478874, 'GdmCl 05M': 63.664838709460774, 'GdmCl 2M': 61.619890835547785, 'GdmSCN 05M': 50.0, 'GdmSCN 2M': 80.0, 'Urea 2M': 57.00575320973641}\n"
     ]
    }
   ],
   "source": [
    "print(T_melt_all)"
   ]
  },
  {
   "cell_type": "code",
   "execution_count": 18,
   "id": "lesbian-spare",
   "metadata": {},
   "outputs": [
    {
     "data": {
      "application/vnd.jupyter.widget-view+json": {
       "model_id": "ecd02159d4de47e483729f85e13723ad",
       "version_major": 2,
       "version_minor": 0
      },
      "text/plain": [
       "Canvas(toolbar=Toolbar(toolitems=[('Home', 'Reset original view', 'home', 'home'), ('Back', 'Back to previous …"
      ]
     },
     "metadata": {},
     "output_type": "display_data"
    }
   ],
   "source": [
    "x = [0, 0.5, 2, 4]\n",
    "y = [T_melt_all['Control 0M'],T_melt_all['Gdm2SO4 05M'],T_melt_all['Gdm2So4 1M'],T_melt_all['Gdm2SO4 2M']]\n",
    "\n",
    "T_melt_Gdm2SO4 = pd.DataFrame(y, index=x, columns=[\"Melting Temperature\"])\n",
    "plot.function([\"Melting Temperature\"], T_melt_Gdm2SO4.T , x_label=\"Concentration [M]\", y_label=\"Temperature[°C]\")"
   ]
  },
  {
   "cell_type": "code",
   "execution_count": 19,
   "id": "advance-eagle",
   "metadata": {},
   "outputs": [],
   "source": [
    "data = ana.normalize(Control_0M.t_df)\n",
    "fit, t_placeholder =  ana.sigmoid_fit(data)"
   ]
  },
  {
   "cell_type": "code",
   "execution_count": 20,
   "id": "statistical-protection",
   "metadata": {},
   "outputs": [
    {
     "data": {
      "application/vnd.jupyter.widget-view+json": {
       "model_id": "6408d951f9a6429cb26290d6129da640",
       "version_major": 2,
       "version_minor": 0
      },
      "text/plain": [
       "Canvas(toolbar=Toolbar(toolitems=[('Home', 'Reset original view', 'home', 'home'), ('Back', 'Back to previous …"
      ]
     },
     "metadata": {},
     "output_type": "display_data"
    }
   ],
   "source": [
    "plot.function(list(fit.index), fit)"
   ]
  },
  {
   "cell_type": "markdown",
   "id": "coupled-quilt",
   "metadata": {},
   "source": [
    "$$\n",
    "\\color{red}{\\textbf{Ende. Vielleicht etwas $\\LaTeX$ lernen?}}\n",
    "$$"
   ]
  },
  {
   "cell_type": "code",
   "execution_count": 21,
   "id": "similar-alert",
   "metadata": {},
   "outputs": [
    {
     "data": {
      "application/vnd.jupyter.widget-view+json": {
       "model_id": "1450d89bab854f43ad01cc419bc47b40",
       "version_major": 2,
       "version_minor": 0
      },
      "text/plain": [
       "Canvas(toolbar=Toolbar(toolitems=[('Home', 'Reset original view', 'home', 'home'), ('Back', 'Back to previous …"
      ]
     },
     "metadata": {},
     "output_type": "display_data"
    }
   ],
   "source": [
    "matplotlib.rcParams['legend.fontsize'] = 10\n",
    "\n",
    "fig = plt.figure()\n",
    "ax = fig.gca(projection='3d')\n",
    "theta = np.linspace(-4 * np.pi, 4 * np.pi, 100)\n",
    "z = np.linspace(-2, 2, 100)\n",
    "r = z**2 + 1\n",
    "x = r * np.sin(theta)\n",
    "y = r * np.cos(theta)\n",
    "ax.plot(x, y, z, label='parametric curve')\n",
    "ax.legend()\n",
    "\n",
    "plt.show()"
   ]
  },
  {
   "cell_type": "code",
   "execution_count": null,
   "id": "expected-answer",
   "metadata": {},
   "outputs": [],
   "source": []
  }
 ],
 "metadata": {
  "kernelspec": {
   "display_name": "Python 3",
   "language": "python",
   "name": "python3"
  },
  "language_info": {
   "codemirror_mode": {
    "name": "ipython",
    "version": 3
   },
   "file_extension": ".py",
   "mimetype": "text/x-python",
   "name": "python",
   "nbconvert_exporter": "python",
   "pygments_lexer": "ipython3",
   "version": "3.8.5"
  },
  "toc-autonumbering": true,
  "toc-showcode": false,
  "toc-showmarkdowntxt": false,
  "toc-showtags": false
 },
 "nbformat": 4,
 "nbformat_minor": 5
}
