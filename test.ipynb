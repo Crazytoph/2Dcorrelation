{
 "cells": [
  {
   "cell_type": "code",
   "execution_count": 1,
   "id": "acceptable-truck",
   "metadata": {},
   "outputs": [],
   "source": [
    "# Data Analysis"
   ]
  },
  {
   "cell_type": "markdown",
   "id": "intermediate-output",
   "metadata": {},
   "source": [
    "## Imports"
   ]
  },
  {
   "cell_type": "code",
   "execution_count": 2,
   "id": "second-integration",
   "metadata": {},
   "outputs": [],
   "source": [
    "\n",
    "# Enabling the `widget` backend.\n",
    "# This requires jupyter-matplotlib a.k.a. ipympl.\n",
    "# ipympl can be install via pip or conda.\n",
    "%matplotlib widget\n",
    "        \n",
    "import matplotlib.pyplot as plt\n",
    "import numpy as np\n",
    "import pandas as pd\n",
    "from ipywidgets import Output\n",
    "import matplotlib\n",
    "from scipy import integrate\n",
    "import os"
   ]
  },
  {
   "cell_type": "code",
   "execution_count": 3,
   "id": "continuous-friday",
   "metadata": {},
   "outputs": [],
   "source": [
    "import analise as ana \n",
    "import cdata \n",
    "import hotznplots as plot"
   ]
  },
  {
   "cell_type": "markdown",
   "id": "current-brick",
   "metadata": {},
   "source": [
    "## Importing the data"
   ]
  },
  {
   "cell_type": "markdown",
   "id": "correct-gender",
   "metadata": {},
   "source": [
    " The path of data to to copy from:\n",
    " *F:\\HZDR\\CD_data*"
   ]
  },
  {
   "cell_type": "code",
   "execution_count": 4,
   "id": "steady-coordinator",
   "metadata": {},
   "outputs": [
    {
     "name": "stdout",
     "output_type": "stream",
     "text": [
      "['0 M Control', '0,5 Gdm2SO4', '0,5 GdmCl', '0,5 GdmSCN', '1 M Gdm2SO4', '2 M Gdm2SO4', '2 M GdmCl', '2 M GdmCl 24 h inkubation', '2 M GdmSCN', '2 M Urea', '4 M GdmCl']\n"
     ]
    }
   ],
   "source": [
    "path = \"F:\\\\HZDR\\\\CD_data\"\n",
    "folderlist = os.listdir(path)\n",
    "print(folderlist)"
   ]
  },
  {
   "cell_type": "code",
   "execution_count": 5,
   "id": "forced-elite",
   "metadata": {},
   "outputs": [],
   "source": [
    "Control_0M = cdata.CData(os.path.join(path, folderlist[0]))\n",
    "Gdm2SO4_05M = cdata.CData(os.path.join(path, folderlist[1]))\n",
    "GdmCl_05M = cdata.CData(os.path.join(path, folderlist[2]))\n",
    "GdmSCN_05M = cdata.CData(os.path.join(path, folderlist[3]))\n",
    "Gdm2SO4_2M = cdata.CData(os.path.join(path, folderlist[4]))\n",
    "Gdm2SO4_4M = cdata.CData(os.path.join(path, folderlist[5]))\n",
    "GdmCl_2M = cdata.CData(os.path.join(path, folderlist[6]))\n",
    "GdmCl_2M_24h = cdata.CData(os.path.join(path, folderlist[7]))\n",
    "GdmSCN_2M = cdata.CData(os.path.join(path, folderlist[8]))\n",
    "Urea_2M = cdata.CData(os.path.join(path, folderlist[9]))\n",
    "GdmCl_4M = cdata.CData(os.path.join(path, folderlist[10]))"
   ]
  },
  {
   "cell_type": "markdown",
   "id": "pleased-store",
   "metadata": {
    "tags": []
   },
   "source": [
    "## Plotti"
   ]
  },
  {
   "cell_type": "code",
   "execution_count": 6,
   "id": "appointed-conviction",
   "metadata": {},
   "outputs": [
    {
     "data": {
      "application/vnd.jupyter.widget-view+json": {
       "model_id": "4c5abf007c4240be80384a9d073ceb10",
       "version_major": 2,
       "version_minor": 0
      },
      "text/plain": [
       "Canvas(toolbar=Toolbar(toolitems=[('Home', 'Reset original view', 'home', 'home'), ('Back', 'Back to previous …"
      ]
     },
     "metadata": {},
     "output_type": "display_data"
    }
   ],
   "source": [
    "plot.heatmap(Control_0M.t_df, Gdm2SO4_05M.t_df, GdmCl_05M.t_df)"
   ]
  },
  {
   "cell_type": "code",
   "execution_count": 7,
   "id": "vertical-interaction",
   "metadata": {},
   "outputs": [],
   "source": [
    "### Ploting temperature[K]; X-achis = Temperatur; Y-achsis = CD"
   ]
  },
  {
   "cell_type": "code",
   "execution_count": 28,
   "id": "wired-integrity",
   "metadata": {},
   "outputs": [
    {
     "name": "stderr",
     "output_type": "stream",
     "text": [
      "F:\\GitHub\\2Dcorrelation\\hotznplots.py:133: RuntimeWarning: More than 20 figures have been opened. Figures created through the pyplot interface (`matplotlib.pyplot.figure`) are retained until explicitly closed and may consume too much memory. (To control this warning, see the rcParam `figure.max_open_warning`).\n",
      "  fig = plt.figure()  # create figure\n"
     ]
    },
    {
     "data": {
      "application/vnd.jupyter.widget-view+json": {
       "model_id": "e040b9f0fbd54fb499b606cbd4e1c48e",
       "version_major": 2,
       "version_minor": 0
      },
      "text/plain": [
       "Canvas(toolbar=Toolbar(toolitems=[('Home', 'Reset original view', 'home', 'home'), ('Back', 'Back to previous …"
      ]
     },
     "metadata": {},
     "output_type": "display_data"
    }
   ],
   "source": [
    "plot.function([220, 247, 260, 275], Control_0M.t_df,Gdm2SO4_05M.t_df, Gdm2SO4_2M.t_df, Gdm2SO4_4M.t_df, y_scaling = (-8.5,5))"
   ]
  },
  {
   "cell_type": "code",
   "execution_count": 9,
   "id": "acknowledged-value",
   "metadata": {},
   "outputs": [
    {
     "data": {
      "application/vnd.jupyter.widget-view+json": {
       "model_id": "9e4a95ecac5a46b1b5777057b5e63de8",
       "version_major": 2,
       "version_minor": 0
      },
      "text/plain": [
       "Canvas(toolbar=Toolbar(toolitems=[('Home', 'Reset original view', 'home', 'home'), ('Back', 'Back to previous …"
      ]
     },
     "metadata": {},
     "output_type": "display_data"
    }
   ],
   "source": [
    "plot.function([212, 220, 247, 260, 275], Control_0M.t_df,Gdm2SO4_05M.t_df, Gdm2SO4_2M.t_df, Gdm2SO4_4M.t_df, y_scaling = (-8,5))"
   ]
  },
  {
   "cell_type": "code",
   "execution_count": 10,
   "id": "humanitarian-absence",
   "metadata": {},
   "outputs": [
    {
     "data": {
      "application/vnd.jupyter.widget-view+json": {
       "model_id": "b5728b91b51940acad883c0478bad421",
       "version_major": 2,
       "version_minor": 0
      },
      "text/plain": [
       "Canvas(toolbar=Toolbar(toolitems=[('Home', 'Reset original view', 'home', 'home'), ('Back', 'Back to previous …"
      ]
     },
     "metadata": {},
     "output_type": "display_data"
    }
   ],
   "source": [
    "plot.function([ 260, 275], Control_0M.t_df,GdmSCN_05M.t_df, GdmSCN_2M.t_df, y_scaling = (-2,5))"
   ]
  },
  {
   "cell_type": "code",
   "execution_count": 11,
   "id": "finished-forge",
   "metadata": {},
   "outputs": [
    {
     "data": {
      "application/vnd.jupyter.widget-view+json": {
       "model_id": "c8167933a40a45cbbe750d964260de29",
       "version_major": 2,
       "version_minor": 0
      },
      "text/plain": [
       "Canvas(toolbar=Toolbar(toolitems=[('Home', 'Reset original view', 'home', 'home'), ('Back', 'Back to previous …"
      ]
     },
     "metadata": {},
     "output_type": "display_data"
    }
   ],
   "source": [
    "plot.function([ 260, 275], Control_0M.t_df, Urea_2M.t_df, GdmCl_2M.t_df, Gdm2SO4_2M.t_df, GdmSCN_2M.t_df, y_scaling = (-2,4.5), line1 = [40,40], line2 = [60,60])"
   ]
  },
  {
   "cell_type": "code",
   "execution_count": 12,
   "id": "cross-chain",
   "metadata": {},
   "outputs": [
    {
     "data": {
      "application/vnd.jupyter.widget-view+json": {
       "model_id": "3d7a0fa96b904acc9c9467bdf9096837",
       "version_major": 2,
       "version_minor": 0
      },
      "text/plain": [
       "Canvas(toolbar=Toolbar(toolitems=[('Home', 'Reset original view', 'home', 'home'), ('Back', 'Back to previous …"
      ]
     },
     "metadata": {},
     "output_type": "display_data"
    }
   ],
   "source": [
    "plot.function([212, 220, 247, 260, 275], Control_0M.t_df, GdmCl_05M.t_df, Gdm2SO4_05M.t_df, GdmSCN_05M.t_df, y_scaling = (-8,5))"
   ]
  },
  {
   "cell_type": "code",
   "execution_count": 13,
   "id": "concrete-adelaide",
   "metadata": {},
   "outputs": [
    {
     "data": {
      "application/vnd.jupyter.widget-view+json": {
       "model_id": "a7b8b2e1b81d4c7c8d4033f413fe07c7",
       "version_major": 2,
       "version_minor": 0
      },
      "text/plain": [
       "Canvas(toolbar=Toolbar(toolitems=[('Home', 'Reset original view', 'home', 'home'), ('Back', 'Back to previous …"
      ]
     },
     "metadata": {},
     "output_type": "display_data"
    }
   ],
   "source": [
    "plot.function([212, 220, 247, 260, 275], Control_0M.t_df, GdmCl_4M.t_df, Gdm2SO4_4M.t_df, y_scaling = (-8,5))"
   ]
  },
  {
   "cell_type": "code",
   "execution_count": 14,
   "id": "found-minnesota",
   "metadata": {},
   "outputs": [],
   "source": [
    "### Plotting wavelength[nm]; X-achsis = temperature; Y-achis = CD"
   ]
  },
  {
   "cell_type": "code",
   "execution_count": 27,
   "id": "urban-columbus",
   "metadata": {},
   "outputs": [
    {
     "data": {
      "application/vnd.jupyter.widget-view+json": {
       "model_id": "6c959ee1c8544151bfe07062543ac637",
       "version_major": 2,
       "version_minor": 0
      },
      "text/plain": [
       "Canvas(toolbar=Toolbar(toolitems=[('Home', 'Reset original view', 'home', 'home'), ('Back', 'Back to previous …"
      ]
     },
     "metadata": {},
     "output_type": "display_data"
    },
    {
     "ename": "IndexError",
     "evalue": "list index out of range",
     "output_type": "error",
     "traceback": [
      "\u001b[1;31m---------------------------------------------------------------------------\u001b[0m",
      "\u001b[1;31mIndexError\u001b[0m                                Traceback (most recent call last)",
      "\u001b[1;32m<ipython-input-27-d88696532986>\u001b[0m in \u001b[0;36m<module>\u001b[1;34m\u001b[0m\n\u001b[1;32m----> 1\u001b[1;33m \u001b[0mplot\u001b[0m\u001b[1;33m.\u001b[0m\u001b[0mfunctionT\u001b[0m\u001b[1;33m(\u001b[0m\u001b[1;33m[\u001b[0m\u001b[1;36m20\u001b[0m\u001b[1;33m,\u001b[0m \u001b[1;36m50\u001b[0m\u001b[1;33m,\u001b[0m \u001b[1;36m60\u001b[0m\u001b[1;33m,\u001b[0m \u001b[1;36m64\u001b[0m\u001b[1;33m,\u001b[0m \u001b[1;36m70\u001b[0m\u001b[1;33m,\u001b[0m \u001b[1;36m90\u001b[0m\u001b[1;33m]\u001b[0m\u001b[1;33m,\u001b[0m \u001b[0mControl_0M\u001b[0m\u001b[1;33m.\u001b[0m\u001b[0mt_df\u001b[0m\u001b[1;33m,\u001b[0m \u001b[0mGdmCl_05M\u001b[0m\u001b[1;33m.\u001b[0m\u001b[0mt_df\u001b[0m\u001b[1;33m,\u001b[0m \u001b[0mGdmCl_2M\u001b[0m\u001b[1;33m.\u001b[0m\u001b[0mt_df\u001b[0m\u001b[1;33m,\u001b[0m \u001b[0mGdmCl_4M\u001b[0m\u001b[1;33m.\u001b[0m\u001b[0mt_df\u001b[0m\u001b[1;33m)\u001b[0m\u001b[1;33m\u001b[0m\u001b[1;33m\u001b[0m\u001b[0m\n\u001b[0m",
      "\u001b[1;32mF:\\GitHub\\2Dcorrelation\\hotznplots.py\u001b[0m in \u001b[0;36mfunctionT\u001b[1;34m(rows, x_min, x_max, y_min, y_max, swap, x_label, y_label, y_scaling, baseline, line1, line2, line3, line4, line5, *df)\u001b[0m\n\u001b[0;32m    198\u001b[0m             \u001b[0mx\u001b[0m \u001b[1;33m=\u001b[0m \u001b[0mlist\u001b[0m\u001b[1;33m(\u001b[0m\u001b[0mi\u001b[0m\u001b[1;33m.\u001b[0m\u001b[0mloc\u001b[0m\u001b[1;33m[\u001b[0m\u001b[1;33m:\u001b[0m\u001b[1;33m,\u001b[0m \u001b[0mx_min\u001b[0m\u001b[1;33m:\u001b[0m\u001b[0mx_max\u001b[0m\u001b[1;33m]\u001b[0m\u001b[1;33m.\u001b[0m\u001b[0mcolumns\u001b[0m\u001b[1;33m)\u001b[0m  \u001b[1;31m# get x-values\u001b[0m\u001b[1;33m\u001b[0m\u001b[1;33m\u001b[0m\u001b[0m\n\u001b[0;32m    199\u001b[0m             \u001b[0my\u001b[0m \u001b[1;33m=\u001b[0m \u001b[0mpd\u001b[0m\u001b[1;33m.\u001b[0m\u001b[0mDataFrame\u001b[0m\u001b[1;33m.\u001b[0m\u001b[0mto_numpy\u001b[0m\u001b[1;33m(\u001b[0m\u001b[0mi\u001b[0m\u001b[1;33m.\u001b[0m\u001b[0mloc\u001b[0m\u001b[1;33m[\u001b[0m\u001b[0mr\u001b[0m\u001b[1;33m,\u001b[0m \u001b[0mx_min\u001b[0m\u001b[1;33m:\u001b[0m\u001b[0mx_max\u001b[0m\u001b[1;33m]\u001b[0m\u001b[1;33m)\u001b[0m  \u001b[1;31m# get y-values\u001b[0m\u001b[1;33m\u001b[0m\u001b[1;33m\u001b[0m\u001b[0m\n\u001b[1;32m--> 200\u001b[1;33m             ax.plot(x, y, linestyle='-', marker=' ', color=colors[k],\n\u001b[0m\u001b[0;32m    201\u001b[0m                     \u001b[0mlinewidth\u001b[0m\u001b[1;33m=\u001b[0m\u001b[1;36m1\u001b[0m\u001b[1;33m,\u001b[0m \u001b[0mlabel\u001b[0m\u001b[1;33m=\u001b[0m\u001b[0mi\u001b[0m\u001b[1;33m\u001b[0m\u001b[1;33m\u001b[0m\u001b[0m\n\u001b[0;32m    202\u001b[0m                     )\n",
      "\u001b[1;31mIndexError\u001b[0m: list index out of range"
     ]
    }
   ],
   "source": [
    "plot.functionT([20, 50, 60, 64, 70, 90], Control_0M.t_df, GdmCl_05M.t_df, GdmCl_2M.t_df, GdmCl_4M.t_df, x_min = 209, y_scaling=[-8.5,4.5], baseline = True, line1 = [1.83,1.83], line2 = [3.5,3.5], line3 = [-6.44, -6.44])"
   ]
  },
  {
   "cell_type": "code",
   "execution_count": 26,
   "id": "marine-rental",
   "metadata": {},
   "outputs": [
    {
     "data": {
      "application/vnd.jupyter.widget-view+json": {
       "model_id": "32b6ffc64e604dbba7f6408ef1b1431e",
       "version_major": 2,
       "version_minor": 0
      },
      "text/plain": [
       "Canvas(toolbar=Toolbar(toolitems=[('Home', 'Reset original view', 'home', 'home'), ('Back', 'Back to previous …"
      ]
     },
     "metadata": {},
     "output_type": "display_data"
    },
    {
     "ename": "IndexError",
     "evalue": "list index out of range",
     "output_type": "error",
     "traceback": [
      "\u001b[1;31m---------------------------------------------------------------------------\u001b[0m",
      "\u001b[1;31mIndexError\u001b[0m                                Traceback (most recent call last)",
      "\u001b[1;32m<ipython-input-26-dacaf1baacec>\u001b[0m in \u001b[0;36m<module>\u001b[1;34m\u001b[0m\n\u001b[1;32m----> 1\u001b[1;33m \u001b[0mplot\u001b[0m\u001b[1;33m.\u001b[0m\u001b[0mfunctionT\u001b[0m\u001b[1;33m(\u001b[0m\u001b[1;33m[\u001b[0m\u001b[1;36m20\u001b[0m\u001b[1;33m,\u001b[0m \u001b[1;36m50\u001b[0m\u001b[1;33m,\u001b[0m \u001b[1;36m60\u001b[0m\u001b[1;33m,\u001b[0m \u001b[1;36m64\u001b[0m\u001b[1;33m,\u001b[0m \u001b[1;36m70\u001b[0m\u001b[1;33m,\u001b[0m \u001b[1;36m90\u001b[0m\u001b[1;33m]\u001b[0m\u001b[1;33m,\u001b[0m \u001b[0mControl_0M\u001b[0m\u001b[1;33m.\u001b[0m\u001b[0mt_df\u001b[0m\u001b[1;33m,\u001b[0m \u001b[0mGdm2SO4_05M\u001b[0m\u001b[1;33m.\u001b[0m\u001b[0mt_df\u001b[0m\u001b[1;33m,\u001b[0m \u001b[0mGdm2SO4_2M\u001b[0m\u001b[1;33m.\u001b[0m\u001b[0mt_df\u001b[0m\u001b[1;33m,\u001b[0m \u001b[0mGdm2SO4_4M\u001b[0m\u001b[1;33m.\u001b[0m\u001b[0mt_df\u001b[0m\u001b[1;33m,\u001b[0m \u001b[0mx_min\u001b[0m \u001b[1;33m=\u001b[0m \u001b[1;36m209\u001b[0m\u001b[1;33m,\u001b[0m \u001b[0my_scaling\u001b[0m\u001b[1;33m=\u001b[0m\u001b[1;33m[\u001b[0m\u001b[1;33m-\u001b[0m\u001b[1;36m8.5\u001b[0m\u001b[1;33m,\u001b[0m\u001b[1;36m5.5\u001b[0m\u001b[1;33m]\u001b[0m\u001b[1;33m,\u001b[0m \u001b[0mbaseline\u001b[0m \u001b[1;33m=\u001b[0m \u001b[1;32mTrue\u001b[0m\u001b[1;33m,\u001b[0m \u001b[0mline1\u001b[0m \u001b[1;33m=\u001b[0m \u001b[1;33m[\u001b[0m\u001b[1;36m1.83\u001b[0m\u001b[1;33m,\u001b[0m\u001b[1;36m1.83\u001b[0m\u001b[1;33m]\u001b[0m\u001b[1;33m)\u001b[0m\u001b[1;33m\u001b[0m\u001b[1;33m\u001b[0m\u001b[0m\n\u001b[0m",
      "\u001b[1;32mF:\\GitHub\\2Dcorrelation\\hotznplots.py\u001b[0m in \u001b[0;36mfunctionT\u001b[1;34m(rows, x_min, x_max, y_min, y_max, swap, x_label, y_label, y_scaling, baseline, line1, line2, line3, line4, line5, *df)\u001b[0m\n\u001b[0;32m    198\u001b[0m             \u001b[0mx\u001b[0m \u001b[1;33m=\u001b[0m \u001b[0mlist\u001b[0m\u001b[1;33m(\u001b[0m\u001b[0mi\u001b[0m\u001b[1;33m.\u001b[0m\u001b[0mloc\u001b[0m\u001b[1;33m[\u001b[0m\u001b[1;33m:\u001b[0m\u001b[1;33m,\u001b[0m \u001b[0mx_min\u001b[0m\u001b[1;33m:\u001b[0m\u001b[0mx_max\u001b[0m\u001b[1;33m]\u001b[0m\u001b[1;33m.\u001b[0m\u001b[0mcolumns\u001b[0m\u001b[1;33m)\u001b[0m  \u001b[1;31m# get x-values\u001b[0m\u001b[1;33m\u001b[0m\u001b[1;33m\u001b[0m\u001b[0m\n\u001b[0;32m    199\u001b[0m             \u001b[0my\u001b[0m \u001b[1;33m=\u001b[0m \u001b[0mpd\u001b[0m\u001b[1;33m.\u001b[0m\u001b[0mDataFrame\u001b[0m\u001b[1;33m.\u001b[0m\u001b[0mto_numpy\u001b[0m\u001b[1;33m(\u001b[0m\u001b[0mi\u001b[0m\u001b[1;33m.\u001b[0m\u001b[0mloc\u001b[0m\u001b[1;33m[\u001b[0m\u001b[0mr\u001b[0m\u001b[1;33m,\u001b[0m \u001b[0mx_min\u001b[0m\u001b[1;33m:\u001b[0m\u001b[0mx_max\u001b[0m\u001b[1;33m]\u001b[0m\u001b[1;33m)\u001b[0m  \u001b[1;31m# get y-values\u001b[0m\u001b[1;33m\u001b[0m\u001b[1;33m\u001b[0m\u001b[0m\n\u001b[1;32m--> 200\u001b[1;33m             ax.plot(x, y, linestyle='-', marker=' ', color=colors[k],\n\u001b[0m\u001b[0;32m    201\u001b[0m                     \u001b[0mlinewidth\u001b[0m\u001b[1;33m=\u001b[0m\u001b[1;36m1\u001b[0m\u001b[1;33m,\u001b[0m \u001b[0mlabel\u001b[0m\u001b[1;33m=\u001b[0m\u001b[0mi\u001b[0m\u001b[1;33m\u001b[0m\u001b[1;33m\u001b[0m\u001b[0m\n\u001b[0;32m    202\u001b[0m                     )\n",
      "\u001b[1;31mIndexError\u001b[0m: list index out of range"
     ]
    }
   ],
   "source": [
    "plot.functionT([20, 50, 60, 64, 70, 90], Control_0M.t_df, Gdm2SO4_05M.t_df, Gdm2SO4_2M.t_df, Gdm2SO4_4M.t_df, x_min = 209, y_scaling=[-8.5,5.5], baseline = True, line1 = [1.83,1.83])"
   ]
  },
  {
   "cell_type": "code",
   "execution_count": null,
   "id": "cathedral-celebration",
   "metadata": {},
   "outputs": [],
   "source": [
    "plot.functionT([20, 50, 60, 64, 75, 90], Control_0M.t_df, GdmSCN_05M.t_df, GdmSCN_2M.t_df, Urea_2M.t_df, x_min = 247, y_scaling=[-8.5,5.5], baseline = True, line1 = [1.83,1.83])"
   ]
  },
  {
   "cell_type": "code",
   "execution_count": null,
   "id": "unlike-honduras",
   "metadata": {
    "tags": []
   },
   "outputs": [],
   "source": [
    "plot.functionT([20, 50, 60, 64, 75, 90], Control_0M.t_df, Urea_2M.t_df, GdmCl_2M.t_df, Gdm2SO4_2M.t_df, x_min = 208, y_scaling=[-8.5,5.5], baseline = True, line1 = [1.83,1.83])"
   ]
  },
  {
   "cell_type": "markdown",
   "id": "arctic-trading",
   "metadata": {},
   "source": [
    "## **analise**"
   ]
  },
  {
   "cell_type": "code",
   "execution_count": null,
   "id": "square-terrace",
   "metadata": {},
   "outputs": [],
   "source": [
    "plot.function([275, 290], Control_0M.t_df, Gdm2SO4_05M.t_df)"
   ]
  },
  {
   "cell_type": "code",
   "execution_count": null,
   "id": "republican-blood",
   "metadata": {},
   "outputs": [],
   "source": [
    "print(Control_0M.t_list, GdmCl_05M.t_list)"
   ]
  },
  {
   "cell_type": "raw",
   "id": "sensitive-buyer",
   "metadata": {},
   "source": [
    "control2 = Control_0M.t_df.drop([53], axis=1)\n",
    "print(control2)"
   ]
  },
  {
   "cell_type": "code",
   "execution_count": null,
   "id": "vital-combination",
   "metadata": {},
   "outputs": [],
   "source": [
    "sync, assync = ana.correlation(GdmCl_05M.t_df, ref_spec=Control_0M.t_df, scaling='pareto')\n"
   ]
  },
  {
   "cell_type": "code",
   "execution_count": null,
   "id": "digital-enlargement",
   "metadata": {},
   "outputs": [],
   "source": [
    "plot.heatmap(assync)"
   ]
  },
  {
   "cell_type": "code",
   "execution_count": null,
   "id": "important-print",
   "metadata": {},
   "outputs": [],
   "source": [
    "plot.heatmap(sync, x_min=220, y_min=220)"
   ]
  },
  {
   "cell_type": "code",
   "execution_count": null,
   "id": "billion-ceiling",
   "metadata": {},
   "outputs": [],
   "source": [
    "deriv = ana.derivative(data.t_df)"
   ]
  },
  {
   "cell_type": "code",
   "execution_count": null,
   "id": "frequent-lecture",
   "metadata": {},
   "outputs": [],
   "source": [
    "plot.heatmap(data.t_df, x_min=258, x_max=261)"
   ]
  },
  {
   "cell_type": "code",
   "execution_count": null,
   "id": "buried-exhibition",
   "metadata": {},
   "outputs": [],
   "source": [
    "print(data.t_list)"
   ]
  },
  {
   "cell_type": "code",
   "execution_count": null,
   "id": "accessible-joining",
   "metadata": {},
   "outputs": [],
   "source": [
    "plot.function([247],data.t_df, df2=deriv)"
   ]
  },
  {
   "cell_type": "code",
   "execution_count": null,
   "id": "parliamentary-score",
   "metadata": {},
   "outputs": [],
   "source": [
    "\n",
    "integral = pd.DataFrame(['integral','error'], columns=['Wavelength'])\n",
    "                        \n",
    "for i in range(len(deriv.index)):\n",
    "    f = ana.interpolate(deriv, i)\n",
    "    value = integrate.quad(f, 30, 75)\n",
    "    integral[i+200] = value\n",
    "integral.set_index('Wavelength')\n",
    "integral = integral.T\n",
    "\n"
   ]
  },
  {
   "cell_type": "code",
   "execution_count": null,
   "id": "paperback-still",
   "metadata": {},
   "outputs": [],
   "source": [
    "print(integral)\n"
   ]
  },
  {
   "cell_type": "markdown",
   "id": "hollywood-vocabulary",
   "metadata": {},
   "source": [
    "\n",
    "ab hier test"
   ]
  },
  {
   "cell_type": "code",
   "execution_count": null,
   "id": "stopped-johns",
   "metadata": {},
   "outputs": [],
   "source": []
  }
 ],
 "metadata": {
  "kernelspec": {
   "display_name": "Python 3",
   "language": "python",
   "name": "python3"
  },
  "language_info": {
   "codemirror_mode": {
    "name": "ipython",
    "version": 3
   },
   "file_extension": ".py",
   "mimetype": "text/x-python",
   "name": "python",
   "nbconvert_exporter": "python",
   "pygments_lexer": "ipython3",
   "version": "3.8.5"
  },
  "toc-autonumbering": true,
  "toc-showcode": false,
  "toc-showmarkdowntxt": false,
  "toc-showtags": false
 },
 "nbformat": 4,
 "nbformat_minor": 5
}
