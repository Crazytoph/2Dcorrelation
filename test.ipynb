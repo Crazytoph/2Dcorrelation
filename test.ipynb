{
 "cells": [
  {
   "cell_type": "markdown",
   "id": "subtle-screen",
   "metadata": {},
   "source": [
    "![ChessUrl](https://young.scot/media/1513/working_information_digtialcareermythbustersgif_001.jpg \"cat\")\n"
   ]
  },
  {
   "cell_type": "markdown",
   "id": "disturbed-translator",
   "metadata": {},
   "source": [
    "# Data Analysis"
   ]
  },
  {
   "cell_type": "markdown",
   "id": "endangered-greek",
   "metadata": {},
   "source": [
    "## Imports"
   ]
  },
  {
   "cell_type": "code",
   "execution_count": 1,
   "id": "tired-shannon",
   "metadata": {},
   "outputs": [],
   "source": [
    "\n",
    "# Enabling the `widget` backend.\n",
    "# This requires jupyter-matplotlib a.k.a. ipympl.\n",
    "# ipympl can be install via pip or conda.\n",
    "%matplotlib widget\n",
    "        \n",
    "import matplotlib.pyplot as plt\n",
    "import numpy as np\n",
    "import pandas as pd\n",
    "from ipywidgets import Output\n",
    "import matplotlib\n",
    "from scipy import integrate\n",
    "import os"
   ]
  },
  {
   "cell_type": "code",
   "execution_count": 2,
   "id": "concrete-bones",
   "metadata": {},
   "outputs": [],
   "source": [
    "import analise as ana \n",
    "import cdata \n",
    "import hotznplots as plot"
   ]
  },
  {
   "cell_type": "markdown",
   "id": "municipal-highland",
   "metadata": {},
   "source": [
    "## Importing the data"
   ]
  },
  {
   "cell_type": "markdown",
   "id": "defensive-specific",
   "metadata": {},
   "source": [
    " The path of data to to copy from:\n",
    " *F:\\HZDR\\CD_data* for Daniel\n",
    " *C:\\Users\\crazy\\Mega\\Uni\\Masterarbeit\\Projekt\\Data\\CD_data*"
   ]
  },
  {
   "cell_type": "code",
   "execution_count": null,
   "id": "republican-ivory",
   "metadata": {},
   "outputs": [],
   "source": []
  },
  {
   "cell_type": "code",
   "execution_count": 3,
   "id": "excellent-thirty",
   "metadata": {},
   "outputs": [
    {
     "name": "stdout",
     "output_type": "stream",
     "text": [
      "['0 M Control', '0,5 Gdm2SO4', '0,5 GdmCl', '0,5 GdmSCN', '2 M Gdm2SO4', '2 M GdmCl', '2 M GdmCl 24 h inkubation', '2 M GdmSCN', '2 M Urea', '4 M Gdm2SO4']\n"
     ]
    }
   ],
   "source": [
    "#path = \"F:\\\\HZDR\\\\CD_data\"\n",
    "path = \"C:\\\\Users\\\\crazy\\\\Mega\\\\Uni\\\\Masterarbeit\\\\Projekt\\\\Data\\\\CD_data\"\n",
    "folderlist = os.listdir(path)\n",
    "print(folderlist)"
   ]
  },
  {
   "cell_type": "code",
   "execution_count": 4,
   "id": "bound-escape",
   "metadata": {},
   "outputs": [],
   "source": [
    "Control_0M = cdata.CData(os.path.join(path, folderlist[0]))\n",
    "Gdm2SO4_05M = cdata.CData(os.path.join(path, folderlist[1]))\n",
    "GdmCL_05M = cdata.CData(os.path.join(path, folderlist[2]))\n",
    "GdmSCN_05M = cdata.CData(os.path.join(path, folderlist[3]))\n",
    "Gdm2SO4_2M = cdata.CData(os.path.join(path, folderlist[4]))\n",
    "Gdm2SO4_4M = cdata.CData(os.path.join(path, folderlist[9]))\n",
    "GdmCl_2M = cdata.CData(os.path.join(path, folderlist[5]))\n",
    "GdmCl_2M_24h = cdata.CData(os.path.join(path, folderlist[6]))\n",
    "GdmSCN_2M = cdata.CData(os.path.join(path, folderlist[7]))\n",
    "Urea_2M = cdata.CData(os.path.join(path, folderlist[8]))\n",
    "#GdmCl_4M = cdata.CData(os.path.join(path, folderlist[10]))"
   ]
  },
  {
   "cell_type": "markdown",
   "id": "individual-vietnam",
   "metadata": {
    "tags": []
   },
   "source": [
    "## Plotti"
   ]
  },
  {
   "cell_type": "markdown",
   "id": "bronze-deficit",
   "metadata": {},
   "source": [
    "### Max and min functions"
   ]
  },
  {
   "cell_type": "code",
   "execution_count": 5,
   "id": "minor-dispatch",
   "metadata": {},
   "outputs": [
    {
     "data": {
      "application/vnd.jupyter.widget-view+json": {
       "model_id": "036bcae63d22498e8f9a77c069f88ad6",
       "version_major": 2,
       "version_minor": 0
      },
      "text/plain": [
       "Canvas(toolbar=Toolbar(toolitems=[('Home', 'Reset original view', 'home', 'home'), ('Back', 'Back to previous …"
      ]
     },
     "metadata": {},
     "output_type": "display_data"
    },
    {
     "data": {
      "application/vnd.jupyter.widget-view+json": {
       "model_id": "605b8e54521546dc8f50ee48b1bc8dab",
       "version_major": 2,
       "version_minor": 0
      },
      "text/plain": [
       "Canvas(toolbar=Toolbar(toolitems=[('Home', 'Reset original view', 'home', 'home'), ('Back', 'Back to previous …"
      ]
     },
     "metadata": {},
     "output_type": "display_data"
    }
   ],
   "source": [
    "df = ana.max_wave(Control_0M.t_df, wave_min=260, wave_max=278)\n",
    "df2 = ana.min_wave(Control_0M.t_df, wave_min=260, wave_max=300)\n",
    "plot.function([\"Wavelength\", ], df, swap=True)\n",
    "plot.function([\"Value\"], df, swap=True)"
   ]
  },
  {
   "cell_type": "markdown",
   "id": "solid-sender",
   "metadata": {},
   "source": [
    "### Ploting temperature[K]; X-achis = Temperatur; Y-achsis = CD"
   ]
  },
  {
   "cell_type": "code",
   "execution_count": 6,
   "id": "embedded-rebound",
   "metadata": {},
   "outputs": [
    {
     "data": {
      "application/vnd.jupyter.widget-view+json": {
       "model_id": "9300d41ed2704816974f614c0ea09890",
       "version_major": 2,
       "version_minor": 0
      },
      "text/plain": [
       "Canvas(toolbar=Toolbar(toolitems=[('Home', 'Reset original view', 'home', 'home'), ('Back', 'Back to previous …"
      ]
     },
     "metadata": {},
     "output_type": "display_data"
    }
   ],
   "source": [
    "plot.function([212, 220, 247, 260, 275], Urea_2M.t_df, Control_0M.t_df)"
   ]
  },
  {
   "cell_type": "code",
   "execution_count": 7,
   "id": "permanent-monroe",
   "metadata": {},
   "outputs": [],
   "source": [
    "# Plotting wavelength[nm]; X-achsis = temperature; Y-achis = CD"
   ]
  },
  {
   "cell_type": "code",
   "execution_count": 8,
   "id": "israeli-shepherd",
   "metadata": {},
   "outputs": [
    {
     "data": {
      "application/vnd.jupyter.widget-view+json": {
       "model_id": "8a645f99cc584e20a4c490794904273f",
       "version_major": 2,
       "version_minor": 0
      },
      "text/plain": [
       "Canvas(toolbar=Toolbar(toolitems=[('Home', 'Reset original view', 'home', 'home'), ('Back', 'Back to previous …"
      ]
     },
     "metadata": {},
     "output_type": "display_data"
    }
   ],
   "source": [
    "plot.function([ 260, 275], Control_0M.t_df,GdmSCN_05M.t_df, GdmSCN_2M.t_df, y_scaling = (-2,5))"
   ]
  },
  {
   "cell_type": "markdown",
   "id": "aware-disney",
   "metadata": {},
   "source": [
    "## **analise**"
   ]
  },
  {
   "cell_type": "code",
   "execution_count": 9,
   "id": "handy-puzzle",
   "metadata": {},
   "outputs": [
    {
     "data": {
      "application/vnd.jupyter.widget-view+json": {
       "model_id": "fa89bca1e4134bb7a9f79a8c4231f386",
       "version_major": 2,
       "version_minor": 0
      },
      "text/plain": [
       "Canvas(toolbar=Toolbar(toolitems=[('Home', 'Reset original view', 'home', 'home'), ('Back', 'Back to previous …"
      ]
     },
     "metadata": {},
     "output_type": "display_data"
    }
   ],
   "source": [
    "plot.function([275, 290], Control_0M.t_df, Gdm2SO4_05M.t_df)"
   ]
  },
  {
   "cell_type": "markdown",
   "id": "whole-qualification",
   "metadata": {},
   "source": [
    "### Correlation Analysis"
   ]
  },
  {
   "cell_type": "code",
   "execution_count": 10,
   "id": "superb-actor",
   "metadata": {},
   "outputs": [
    {
     "name": "stdout",
     "output_type": "stream",
     "text": [
      "[20, 30, 40, 45, 50, 53, 56, 58, 60, 62, 64, 67, 70, 75, 80, 90] [20, 30, 40, 45, 50, 56, 58, 60, 62, 64, 67, 70, 75, 80, 90]\n"
     ]
    }
   ],
   "source": [
    "print(Control_0M.t_list, GdmCL_05M.t_list)"
   ]
  },
  {
   "cell_type": "raw",
   "id": "former-update",
   "metadata": {},
   "source": [
    "control2 = Control_0M.t_df.drop([53], axis=1)\n",
    "print(control2)"
   ]
  },
  {
   "cell_type": "markdown",
   "id": "manual-spine",
   "metadata": {},
   "source": [
    "<div class=\"alert alert-block alert-info\">\n",
    "<b>Achtung:</b> When Messungen unterschiedlich viele Temperaturwerte haben, kommt ein Fehler. Am besten vergleichen. Einfachste Lösung ist hier unten mit 'Datei_mit_mehr_werten'.loc[:, 'Datei_mit_mehr_Werten'.t_list]\n",
    "</div>"
   ]
  },
  {
   "cell_type": "code",
   "execution_count": 11,
   "id": "comparative-business",
   "metadata": {},
   "outputs": [],
   "source": [
    "sync, assync = ana.correlation(GdmCL_05M.t_df, ref_spec=Control_0M.t_df.loc[:, GdmCL_05M.t_list], scaling='pareto')\n"
   ]
  },
  {
   "cell_type": "code",
   "execution_count": 12,
   "id": "choice-carolina",
   "metadata": {},
   "outputs": [
    {
     "data": {
      "application/vnd.jupyter.widget-view+json": {
       "model_id": "06295dfd22a7449991a8981791af6d3a",
       "version_major": 2,
       "version_minor": 0
      },
      "text/plain": [
       "Canvas(toolbar=Toolbar(toolitems=[('Home', 'Reset original view', 'home', 'home'), ('Back', 'Back to previous …"
      ]
     },
     "metadata": {},
     "output_type": "display_data"
    }
   ],
   "source": [
    "plot.heatmap(assync)"
   ]
  },
  {
   "cell_type": "code",
   "execution_count": 13,
   "id": "moved-latter",
   "metadata": {},
   "outputs": [
    {
     "data": {
      "application/vnd.jupyter.widget-view+json": {
       "model_id": "1c851c36e33f4520b21023ef4a27cead",
       "version_major": 2,
       "version_minor": 0
      },
      "text/plain": [
       "Canvas(toolbar=Toolbar(toolitems=[('Home', 'Reset original view', 'home', 'home'), ('Back', 'Back to previous …"
      ]
     },
     "metadata": {},
     "output_type": "display_data"
    }
   ],
   "source": [
    "plot.heatmap(sync, x_min=220, y_min=220)"
   ]
  },
  {
   "cell_type": "markdown",
   "id": "fancy-compression",
   "metadata": {},
   "source": [
    "### derivative example"
   ]
  },
  {
   "cell_type": "code",
   "execution_count": 14,
   "id": "still-kernel",
   "metadata": {},
   "outputs": [],
   "source": [
    "deriv = ana.derivative(Control_0M.t_df)"
   ]
  },
  {
   "cell_type": "code",
   "execution_count": 15,
   "id": "unexpected-insulation",
   "metadata": {},
   "outputs": [
    {
     "data": {
      "application/vnd.jupyter.widget-view+json": {
       "model_id": "40534ed054d54985b7f6f6d4e094b887",
       "version_major": 2,
       "version_minor": 0
      },
      "text/plain": [
       "Canvas(toolbar=Toolbar(toolitems=[('Home', 'Reset original view', 'home', 'home'), ('Back', 'Back to previous …"
      ]
     },
     "metadata": {},
     "output_type": "display_data"
    }
   ],
   "source": [
    "plot.heatmap(Control_0M.t_df, x_min=258, x_max=261)"
   ]
  },
  {
   "cell_type": "code",
   "execution_count": 16,
   "id": "republican-large",
   "metadata": {},
   "outputs": [
    {
     "ename": "NameError",
     "evalue": "name 'data' is not defined",
     "output_type": "error",
     "traceback": [
      "\u001b[1;31m---------------------------------------------------------------------------\u001b[0m",
      "\u001b[1;31mNameError\u001b[0m                                 Traceback (most recent call last)",
      "\u001b[1;32m<ipython-input-16-3b8251b36b00>\u001b[0m in \u001b[0;36m<module>\u001b[1;34m\u001b[0m\n\u001b[1;32m----> 1\u001b[1;33m \u001b[0mplot\u001b[0m\u001b[1;33m.\u001b[0m\u001b[0mfunction\u001b[0m\u001b[1;33m(\u001b[0m\u001b[1;33m[\u001b[0m\u001b[1;36m247\u001b[0m\u001b[1;33m]\u001b[0m\u001b[1;33m,\u001b[0m\u001b[0mdata\u001b[0m\u001b[1;33m.\u001b[0m\u001b[0mt_df\u001b[0m\u001b[1;33m,\u001b[0m \u001b[0mdf2\u001b[0m\u001b[1;33m=\u001b[0m\u001b[0mderiv\u001b[0m\u001b[1;33m)\u001b[0m\u001b[1;33m\u001b[0m\u001b[1;33m\u001b[0m\u001b[0m\n\u001b[0m",
      "\u001b[1;31mNameError\u001b[0m: name 'data' is not defined"
     ]
    }
   ],
   "source": [
    "plot.function([247],data.t_df, df2=deriv)"
   ]
  },
  {
   "cell_type": "markdown",
   "id": "special-travel",
   "metadata": {},
   "source": [
    "#### example for integral"
   ]
  },
  {
   "cell_type": "code",
   "execution_count": null,
   "id": "digital-orleans",
   "metadata": {},
   "outputs": [],
   "source": [
    "\n",
    "integral = pd.DataFrame(['integral','error'], columns=['Wavelength'])\n",
    "                        \n",
    "for i in range(len(deriv.index)):\n",
    "    f = ana.interpolate(deriv, i)\n",
    "    value = integrate.quad(f, 30, 75)\n",
    "    integral[i+200] = value\n",
    "integral.set_index('Wavelength')\n",
    "integral = integral.T\n",
    "\n"
   ]
  },
  {
   "cell_type": "code",
   "execution_count": null,
   "id": "close-million",
   "metadata": {},
   "outputs": [],
   "source": [
    "print(integral)\n"
   ]
  },
  {
   "cell_type": "markdown",
   "id": "informed-theme",
   "metadata": {},
   "source": [
    "$$\n",
    "\\color{red}{\\textbf{Ende. Vielleicht etwas $\\LaTeX$ lernen?}}\n",
    "$$"
   ]
  },
  {
   "cell_type": "code",
   "execution_count": 17,
   "id": "periodic-oxide",
   "metadata": {},
   "outputs": [
    {
     "name": "stdout",
     "output_type": "stream",
     "text": [
      "[ 0.18677103 61.81964853] [[ 0.00038838 -0.00105735]\n",
      " [-0.00105735  0.28747641]]\n"
     ]
    }
   ],
   "source": [
    "data = Control_0M.t_df\n",
    "prep = ana.normalize(data)\n",
    "fit = ana.sigmoid_fit(prep)"
   ]
  },
  {
   "cell_type": "code",
   "execution_count": 21,
   "id": "organized-characterization",
   "metadata": {},
   "outputs": [
    {
     "data": {
      "application/vnd.jupyter.widget-view+json": {
       "model_id": "2566208ccc2e45279acaa6569bc3a867",
       "version_major": 2,
       "version_minor": 0
      },
      "text/plain": [
       "Canvas(toolbar=Toolbar(toolitems=[('Home', 'Reset original view', 'home', 'home'), ('Back', 'Back to previous …"
      ]
     },
     "metadata": {},
     "output_type": "display_data"
    }
   ],
   "source": [
    "plot.function([\"fit\", 247], fit)"
   ]
  },
  {
   "cell_type": "code",
   "execution_count": null,
   "id": "approximate-organ",
   "metadata": {},
   "outputs": [],
   "source": []
  }
 ],
 "metadata": {
  "kernelspec": {
   "display_name": "Python 3",
   "language": "python",
   "name": "python3"
  },
  "language_info": {
   "codemirror_mode": {
    "name": "ipython",
    "version": 3
   },
   "file_extension": ".py",
   "mimetype": "text/x-python",
   "name": "python",
   "nbconvert_exporter": "python",
   "pygments_lexer": "ipython3",
   "version": "3.8.6"
  },
  "toc-autonumbering": true,
  "toc-showcode": false,
  "toc-showmarkdowntxt": false,
  "toc-showtags": false
 },
 "nbformat": 4,
 "nbformat_minor": 5
}
