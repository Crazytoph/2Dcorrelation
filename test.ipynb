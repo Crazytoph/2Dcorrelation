{
 "cells": [
  {
   "cell_type": "markdown",
   "id": "invalid-merchandise",
   "metadata": {},
   "source": [
    "# Data Analysis"
   ]
  },
  {
   "cell_type": "markdown",
   "id": "angry-storm",
   "metadata": {},
   "source": [
    "## Imports"
   ]
  },
  {
   "cell_type": "code",
   "execution_count": 1,
   "id": "excellent-sharing",
   "metadata": {},
   "outputs": [],
   "source": [
    "\n",
    "# Enabling the `widget` backend.\n",
    "# This requires jupyter-matplotlib a.k.a. ipympl.\n",
    "# ipympl can be install via pip or conda.\n",
    "%matplotlib widget\n",
    "\n",
    "import matplotlib.pyplot as plt\n",
    "import numpy as np\n",
    "import pandas as pd\n",
    "from ipywidgets import Output\n",
    "import matplotlib\n",
    "from scipy import integrate"
   ]
  },
  {
   "cell_type": "code",
   "execution_count": 2,
   "id": "framed-rough",
   "metadata": {},
   "outputs": [],
   "source": [
    "import analise as ana \n",
    "import cdata \n",
    "import hotznplots as plot"
   ]
  },
  {
   "cell_type": "markdown",
   "id": "cultural-massachusetts",
   "metadata": {},
   "source": [
    "## Importing the data"
   ]
  },
  {
   "cell_type": "markdown",
   "id": "annoying-programming",
   "metadata": {},
   "source": [
    " The path of data to to copy from:\n",
    " *C:\\Users\\crazy\\Mega\\Uni\\Masterarbeit\\Projekt\\Data\\CD_data\\0 M Control*"
   ]
  },
  {
   "cell_type": "code",
   "execution_count": 3,
   "id": "surrounded-adjustment",
   "metadata": {},
   "outputs": [
    {
     "name": "stdin",
     "output_type": "stream",
     "text": [
      " C:\\Users\\crazy\\Mega\\Uni\\Masterarbeit\\Projekt\\Data\\CD_data\\0 M Control\n"
     ]
    }
   ],
   "source": [
    "path = input()"
   ]
  },
  {
   "cell_type": "code",
   "execution_count": 4,
   "id": "super-heath",
   "metadata": {},
   "outputs": [
    {
     "name": "stdout",
     "output_type": "stream",
     "text": [
      "                  20         30         40        45        50         53  \\\n",
      "wavelength                                                                  \n",
      "200         8.896620  10.237500  10.157400  9.247570  7.125740  11.056700   \n",
      "201         6.025130   7.548150   7.359080  7.514580  5.405750   7.745430   \n",
      "202         4.091300   4.531970   5.242820  4.946380  4.566730   5.052770   \n",
      "203         2.270240   2.160980   3.530380  2.881040  3.623640   3.258470   \n",
      "204         0.693368   0.940973   2.176730  1.338040  2.073560   2.060140   \n",
      "...              ...        ...        ...       ...       ...        ...   \n",
      "326         0.030856   0.044162   0.065707  0.055871 -0.026885  -0.039659   \n",
      "327         0.071056   0.059061   0.082903  0.060837  0.004723   0.001411   \n",
      "328         0.091923   0.066860   0.087886  0.054191  0.039079   0.027391   \n",
      "329         0.097686   0.066065   0.059296  0.042834  0.057128   0.059202   \n",
      "330         0.115016   0.044030   0.089518  0.066433  0.042307   0.051124   \n",
      "\n",
      "                   56        58        60        62        64        67  \\\n",
      "wavelength                                                                \n",
      "200         10.084300  9.637220  9.986890  7.350720  5.756420  1.809050   \n",
      "201          7.431950  6.882070  7.108130  6.759850  3.741500  2.216430   \n",
      "202          5.307750  4.862980  4.919430  5.547010  1.461720  2.082340   \n",
      "203          3.561450  3.303100  3.435400  3.590030  0.387276  0.931303   \n",
      "204          1.907660  2.146910  2.335540  1.521420  0.561905  0.526973   \n",
      "...               ...       ...       ...       ...       ...       ...   \n",
      "326         -0.012399  0.001060 -0.009243 -0.035403 -0.017315 -0.032496   \n",
      "327         -0.006304  0.017532 -0.005619  0.011148  0.005565 -0.022832   \n",
      "328          0.027273  0.003070 -0.008011  0.043677 -0.000252 -0.015707   \n",
      "329          0.039412  0.008452 -0.022913  0.043828 -0.001376 -0.012248   \n",
      "330          0.048713  0.002842 -0.001465  0.041869 -0.025366  0.009871   \n",
      "\n",
      "                  70        75        80        90  \n",
      "wavelength                                          \n",
      "200         3.143940 -0.211223  2.684120 -2.227660  \n",
      "201         0.921237  0.265991  2.272560  2.046330  \n",
      "202        -0.767251  0.237378  1.866580  2.182180  \n",
      "203        -0.745977  0.981410  0.597348  1.150980  \n",
      "204        -0.147613  0.985970 -0.442026  0.344748  \n",
      "...              ...       ...       ...       ...  \n",
      "326        -0.060174 -0.035558 -0.045252 -0.054266  \n",
      "327        -0.051046  0.012117 -0.001709 -0.062968  \n",
      "328        -0.026555  0.021644 -0.005469 -0.069495  \n",
      "329         0.019133  0.041908 -0.017087 -0.059791  \n",
      "330         0.022376  0.025609 -0.010944 -0.049470  \n",
      "\n",
      "[131 rows x 16 columns]\n"
     ]
    }
   ],
   "source": [
    "\n",
    "data = cdata.CData(path)\n",
    "\n",
    "print(data.t_df)"
   ]
  },
  {
   "cell_type": "markdown",
   "id": "technical-qualification",
   "metadata": {
    "tags": []
   },
   "source": [
    "## here come the plots"
   ]
  },
  {
   "cell_type": "code",
   "execution_count": 12,
   "id": "leading-threshold",
   "metadata": {},
   "outputs": [
    {
     "data": {
      "application/vnd.jupyter.widget-view+json": {
       "model_id": "a0d50cd1d41245d08fed2636260bddad",
       "version_major": 2,
       "version_minor": 0
      },
      "text/plain": [
       "Canvas(toolbar=Toolbar(toolitems=[('Home', 'Reset original view', 'home', 'home'), ('Back', 'Back to previous …"
      ]
     },
     "metadata": {},
     "output_type": "display_data"
    }
   ],
   "source": [
    "plot.heatmap(data.t_df, data.t_df, data.t_df)"
   ]
  },
  {
   "cell_type": "code",
   "execution_count": 13,
   "id": "adjustable-photography",
   "metadata": {},
   "outputs": [
    {
     "data": {
      "application/vnd.jupyter.widget-view+json": {
       "model_id": "5a6dac36cc6247dab95e60d2e1b762ce",
       "version_major": 2,
       "version_minor": 0
      },
      "text/plain": [
       "Canvas(toolbar=Toolbar(toolitems=[('Home', 'Reset original view', 'home', 'home'), ('Back', 'Back to previous …"
      ]
     },
     "metadata": {},
     "output_type": "display_data"
    }
   ],
   "source": [
    "plot.function([240], data.t_df, data.t_df, df2=data.t_df)"
   ]
  },
  {
   "cell_type": "markdown",
   "id": "communist-calendar",
   "metadata": {},
   "source": [
    "## **analise**"
   ]
  },
  {
   "cell_type": "code",
   "execution_count": 14,
   "id": "charitable-festival",
   "metadata": {},
   "outputs": [],
   "source": [
    "deriv = ana.derivative(data.t_df)"
   ]
  },
  {
   "cell_type": "code",
   "execution_count": 15,
   "id": "pleasant-parker",
   "metadata": {},
   "outputs": [
    {
     "data": {
      "application/vnd.jupyter.widget-view+json": {
       "model_id": "e6c626a25861448b89fb95fd069b575b",
       "version_major": 2,
       "version_minor": 0
      },
      "text/plain": [
       "Canvas(toolbar=Toolbar(toolitems=[('Home', 'Reset original view', 'home', 'home'), ('Back', 'Back to previous …"
      ]
     },
     "metadata": {},
     "output_type": "display_data"
    }
   ],
   "source": [
    "plot.heatmap(data.t_df, x_min=230, x_max=260)"
   ]
  },
  {
   "cell_type": "code",
   "execution_count": 16,
   "id": "synthetic-jimmy",
   "metadata": {},
   "outputs": [
    {
     "name": "stdout",
     "output_type": "stream",
     "text": [
      "[20, 30, 40, 45, 50, 53, 56, 58, 60, 62, 64, 67, 70, 75, 80, 90]\n"
     ]
    }
   ],
   "source": [
    "print(data.t_list)"
   ]
  },
  {
   "cell_type": "code",
   "execution_count": 17,
   "id": "joint-cleaners",
   "metadata": {},
   "outputs": [
    {
     "data": {
      "application/vnd.jupyter.widget-view+json": {
       "model_id": "4175ec90f641470e9da04198a9038a67",
       "version_major": 2,
       "version_minor": 0
      },
      "text/plain": [
       "Canvas(toolbar=Toolbar(toolitems=[('Home', 'Reset original view', 'home', 'home'), ('Back', 'Back to previous …"
      ]
     },
     "metadata": {},
     "output_type": "display_data"
    }
   ],
   "source": [
    "plot.function([247],data.t_df, df2=deriv)"
   ]
  },
  {
   "cell_type": "code",
   "execution_count": 19,
   "id": "arbitrary-arlington",
   "metadata": {},
   "outputs": [
    {
     "name": "stderr",
     "output_type": "stream",
     "text": [
      "<ipython-input-19-2878dc17bc5a>:5: IntegrationWarning: The maximum number of subdivisions (50) has been achieved.\n",
      "  If increasing the limit yields no improvement it is advised to analyze \n",
      "  the integrand in order to determine the difficulties.  If the position of a \n",
      "  local difficulty can be determined (singularity, discontinuity) one will \n",
      "  probably gain from splitting up the interval and calling the integrator \n",
      "  on the subranges.  Perhaps a special-purpose integrator should be used.\n",
      "  value = integrate.quad(f, 30, 75)\n"
     ]
    }
   ],
   "source": [
    "\n",
    "integral = pd.DataFrame(['integral','error'], columns=['Wavelength'])\n",
    "                        \n",
    "for i in range(len(deriv.index)):\n",
    "    f = ana.interpolate(deriv, i)\n",
    "    value = integrate.quad(f, 30, 75)\n",
    "    integral[i+200] = value\n",
    "integral.set_index('Wavelength')\n",
    "integral = integral.T\n",
    "\n"
   ]
  },
  {
   "cell_type": "code",
   "execution_count": 21,
   "id": "naval-execution",
   "metadata": {},
   "outputs": [
    {
     "name": "stdout",
     "output_type": "stream",
     "text": [
      "                      0         1\n",
      "Wavelength     integral     error\n",
      "200         2570.454545       0.0\n",
      "201          -12.495281  0.000001\n",
      "202          -10.504838       0.0\n",
      "203           -8.682273       0.0\n",
      "...                 ...       ...\n",
      "327           -0.165501       0.0\n",
      "328           -0.139489       0.0\n",
      "329           -0.112398       0.0\n",
      "330           -0.018709       0.0\n",
      "331           -0.086731       0.0\n",
      "\n",
      "[133 rows x 2 columns]\n"
     ]
    }
   ],
   "source": [
    "print(integral)\n"
   ]
  },
  {
   "cell_type": "code",
   "execution_count": null,
   "id": "professional-williams",
   "metadata": {},
   "outputs": [],
   "source": [
    "print(integral.loc[247, ['integral']])"
   ]
  },
  {
   "cell_type": "code",
   "execution_count": null,
   "id": "living-coast",
   "metadata": {},
   "outputs": [],
   "source": []
  }
 ],
 "metadata": {
  "kernelspec": {
   "display_name": "Python 3",
   "language": "python",
   "name": "python3"
  },
  "language_info": {
   "codemirror_mode": {
    "name": "ipython",
    "version": 3
   },
   "file_extension": ".py",
   "mimetype": "text/x-python",
   "name": "python",
   "nbconvert_exporter": "python",
   "pygments_lexer": "ipython3",
   "version": "3.8.6"
  },
  "toc-autonumbering": true,
  "toc-showcode": false,
  "toc-showmarkdowntxt": false,
  "toc-showtags": false
 },
 "nbformat": 4,
 "nbformat_minor": 5
}
