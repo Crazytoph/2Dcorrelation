{
 "cells": [
  {
   "cell_type": "markdown",
   "id": "competent-asian",
   "metadata": {},
   "source": [
    "![ChessUrl](https://young.scot/media/1513/working_information_digtialcareermythbustersgif_001.jpg \"cat\")\n"
   ]
  },
  {
   "cell_type": "markdown",
   "id": "expressed-arkansas",
   "metadata": {},
   "source": [
    "# Data Analysis"
   ]
  },
  {
   "cell_type": "markdown",
   "id": "french-exploration",
   "metadata": {},
   "source": [
    "## Imports"
   ]
  },
  {
   "cell_type": "code",
   "execution_count": 1,
   "id": "superior-minneapolis",
   "metadata": {},
   "outputs": [],
   "source": [
    "\n",
    "# Enabling the `widget` backend.\n",
    "# This requires jupyter-matplotlib a.k.a. ipympl.\n",
    "# ipympl can be install via pip or conda.\n",
    "%matplotlib widget\n",
    "        \n",
    "import matplotlib.pyplot as plt\n",
    "import numpy as np\n",
    "import pandas as pd\n",
    "from ipywidgets import Output\n",
    "import matplotlib\n",
    "from scipy import integrate\n",
    "import os"
   ]
  },
  {
   "cell_type": "code",
   "execution_count": 2,
   "id": "pleased-africa",
   "metadata": {},
   "outputs": [],
   "source": [
    "import analise as ana \n",
    "import cdata \n",
    "import hotznplots as plot"
   ]
  },
  {
   "cell_type": "code",
   "execution_count": 3,
   "id": "indie-blues",
   "metadata": {},
   "outputs": [],
   "source": [
    "# Default value of display.max_rows is 10 i.e. at max 10 rows will be printed.\n",
    "# Set it None to display all rows in the dataframe\n",
    "pd.set_option('display.max_rows', None)"
   ]
  },
  {
   "cell_type": "code",
   "execution_count": 4,
   "id": "elegant-insider",
   "metadata": {},
   "outputs": [],
   "source": [
    "# change plot size\n",
    "plt.rcParams[\"figure.figsize\"] = (9,5)"
   ]
  },
  {
   "cell_type": "markdown",
   "id": "statutory-permit",
   "metadata": {},
   "source": [
    "## Importing the data"
   ]
  },
  {
   "cell_type": "markdown",
   "id": "hungry-determination",
   "metadata": {},
   "source": [
    " The path of data to to copy from:\n",
    " *F:\\HZDR\\CD_data* for Daniel\n",
    " *C:\\Users\\crazy\\Mega\\Uni\\Masterarbeit\\Projekt\\Data\\CD_data*"
   ]
  },
  {
   "cell_type": "code",
   "execution_count": 6,
   "id": "rough-notebook",
   "metadata": {},
   "outputs": [
    {
     "name": "stdout",
     "output_type": "stream",
     "text": [
      "['Control_0M', 'Gdm2SO4_0.5M', 'Gdm2SO4_2M', 'Gdm2SO4_4M', 'GdmCl_0.5M', 'GdmCl_2M', 'GdmCl_2M_24h', 'GdmCl_4M', 'GdmSCN_0.5M', 'GdmSCN_2M', 'Urea_2M']\n"
     ]
    }
   ],
   "source": [
    "#path = \"F:\\\\HZDR\\\\CD_data\"\n",
    "path = \"C:\\\\Users\\\\crazy\\\\Mega\\\\Uni\\\\Masterarbeit\\\\Projekt\\\\Data\\\\CD_data\\\\DNA Origami\"\n",
    "folderlist = os.listdir(path)\n",
    "print(folderlist)"
   ]
  },
  {
   "cell_type": "code",
   "execution_count": 7,
   "id": "sealed-smart",
   "metadata": {},
   "outputs": [],
   "source": [
    "Control_0M = cdata.CData(os.path.join(path, folderlist[0]))\n",
    "Gdm2SO4_05M = cdata.CData(os.path.join(path, folderlist[1]))\n",
    "GdmCl_05M = cdata.CData(os.path.join(path, folderlist[2]))\n",
    "GdmSCN_05M = cdata.CData(os.path.join(path, folderlist[3]))\n",
    "Gdm2SO4_2M = cdata.CData(os.path.join(path, folderlist[4]))\n",
    "Gdm2SO4_4M = cdata.CData(os.path.join(path, folderlist[5]))\n",
    "GdmCl_2M = cdata.CData(os.path.join(path, folderlist[6]))\n",
    "GdmCl_2M_24h = cdata.CData(os.path.join(path, folderlist[7]))\n",
    "GdmSCN_2M = cdata.CData(os.path.join(path, folderlist[8]))\n",
    "Urea_2M = cdata.CData(os.path.join(path, folderlist[9]))\n",
    "GdmCl_4M = cdata.CData(os.path.join(path, folderlist[10]))"
   ]
  },
  {
   "cell_type": "markdown",
   "id": "public-newfoundland",
   "metadata": {
    "tags": []
   },
   "source": [
    "## Plotti"
   ]
  },
  {
   "cell_type": "markdown",
   "id": "accepting-semiconductor",
   "metadata": {},
   "source": [
    "### Max and min functions"
   ]
  },
  {
   "cell_type": "markdown",
   "id": "emotional-siemens",
   "metadata": {},
   "source": [
    "#### Max 210 - 230"
   ]
  },
  {
   "cell_type": "code",
   "execution_count": 7,
   "id": "sixth-entrepreneur",
   "metadata": {},
   "outputs": [
    {
     "data": {
      "application/vnd.jupyter.widget-view+json": {
       "model_id": "81249609bb3a48e7b27eded45f8022a1",
       "version_major": 2,
       "version_minor": 0
      },
      "text/plain": [
       "Canvas(toolbar=Toolbar(toolitems=[('Home', 'Reset original view', 'home', 'home'), ('Back', 'Back to previous …"
      ]
     },
     "metadata": {},
     "output_type": "display_data"
    },
    {
     "data": {
      "application/vnd.jupyter.widget-view+json": {
       "model_id": "83e11cafebaf41a1824f5e285e8dce1d",
       "version_major": 2,
       "version_minor": 0
      },
      "text/plain": [
       "Canvas(toolbar=Toolbar(toolitems=[('Home', 'Reset original view', 'home', 'home'), ('Back', 'Back to previous …"
      ]
     },
     "metadata": {},
     "output_type": "display_data"
    }
   ],
   "source": [
    "df = ana.max_wave(Control_0M.t_df, wave_min=210, wave_max=230)\n",
    "#df2 = ana.min_wave(Control_0M.t_df, wave_min=210, wave_max=230)\n",
    "plot.function([\"Wavelength\", ], df, swap=True, y_label= \"Wavelength [nm]\",title=\"\")\n",
    "plot.function([\"Value\"], df, swap=True, title=\"Max CD value 210 - 230 nm\")"
   ]
  },
  {
   "cell_type": "markdown",
   "id": "through-special",
   "metadata": {},
   "source": [
    "#### Min 230 - 260"
   ]
  },
  {
   "cell_type": "code",
   "execution_count": 8,
   "id": "unavailable-houston",
   "metadata": {},
   "outputs": [
    {
     "data": {
      "application/vnd.jupyter.widget-view+json": {
       "model_id": "6f59f5f0b1f24d06bde2b3e1b387c93c",
       "version_major": 2,
       "version_minor": 0
      },
      "text/plain": [
       "Canvas(toolbar=Toolbar(toolitems=[('Home', 'Reset original view', 'home', 'home'), ('Back', 'Back to previous …"
      ]
     },
     "metadata": {},
     "output_type": "display_data"
    },
    {
     "data": {
      "application/vnd.jupyter.widget-view+json": {
       "model_id": "ed0dc9acd27945e797d2905733522014",
       "version_major": 2,
       "version_minor": 0
      },
      "text/plain": [
       "Canvas(toolbar=Toolbar(toolitems=[('Home', 'Reset original view', 'home', 'home'), ('Back', 'Back to previous …"
      ]
     },
     "metadata": {},
     "output_type": "display_data"
    }
   ],
   "source": [
    "#df = ana.max_wave(Control_0M.t_df, wave_min=220, wave_max=260)\n",
    "df2 = ana.min_wave(GdmSCN_05M.t_df, wave_min=220, wave_max=260)\n",
    "plot.function([\"Wavelength\", ], df2, swap=True, y_label= \"Wavelength [nm]\", title= \"Min Wavelength 220 - 260 nm\")\n",
    "plot.function([\"Value\"], df2, swap=True, title= \"Min CD value 220 - 260 nm\")"
   ]
  },
  {
   "cell_type": "markdown",
   "id": "southwest-mountain",
   "metadata": {},
   "source": [
    "#### Max 260 - 300 nm"
   ]
  },
  {
   "cell_type": "code",
   "execution_count": 9,
   "id": "quantitative-invention",
   "metadata": {},
   "outputs": [
    {
     "data": {
      "application/vnd.jupyter.widget-view+json": {
       "model_id": "71ac452e45f6464f8be8c4395dd096be",
       "version_major": 2,
       "version_minor": 0
      },
      "text/plain": [
       "Canvas(toolbar=Toolbar(toolitems=[('Home', 'Reset original view', 'home', 'home'), ('Back', 'Back to previous …"
      ]
     },
     "metadata": {},
     "output_type": "display_data"
    },
    {
     "data": {
      "application/vnd.jupyter.widget-view+json": {
       "model_id": "a56e00082d7e4775a0b3e781632509fa",
       "version_major": 2,
       "version_minor": 0
      },
      "text/plain": [
       "Canvas(toolbar=Toolbar(toolitems=[('Home', 'Reset original view', 'home', 'home'), ('Back', 'Back to previous …"
      ]
     },
     "metadata": {},
     "output_type": "display_data"
    }
   ],
   "source": [
    "df = ana.max_wave(GdmSCN_2M.t_df, wave_min=260, wave_max=300)\n",
    "#df2 = ana.min_wave(Control_0M.t_df, wave_min=260, wave_max=300)\n",
    "plot.function([\"Wavelength\", ], df, swap=True, y_label= \"Wavelength [nm]\", title= \"Max Wavelength 260 - 300 nm\")\n",
    "plot.function([\"Value\"], df, swap=True, title= \"Max CD value 260 - 300 nm\")"
   ]
  },
  {
   "cell_type": "markdown",
   "id": "objective-stanley",
   "metadata": {},
   "source": [
    "### Ploting temperature[K]; X-achis = Temperatur; Y-achsis = CD"
   ]
  },
  {
   "cell_type": "code",
   "execution_count": 10,
   "id": "original-claim",
   "metadata": {},
   "outputs": [
    {
     "data": {
      "application/vnd.jupyter.widget-view+json": {
       "model_id": "8d263315f6334bb281f7e49f9b83bd9b",
       "version_major": 2,
       "version_minor": 0
      },
      "text/plain": [
       "Canvas(toolbar=Toolbar(toolitems=[('Home', 'Reset original view', 'home', 'home'), ('Back', 'Back to previous …"
      ]
     },
     "metadata": {},
     "output_type": "display_data"
    }
   ],
   "source": [
    "plot.function([212, 220, 247, 260, 275], Urea_2M.t_df, Control_0M.t_df)"
   ]
  },
  {
   "cell_type": "code",
   "execution_count": 11,
   "id": "refined-superior",
   "metadata": {},
   "outputs": [],
   "source": [
    "# Plotting wavelength[nm]; X-achsis = temperature; Y-achis = CD"
   ]
  },
  {
   "cell_type": "code",
   "execution_count": 12,
   "id": "correct-valentine",
   "metadata": {},
   "outputs": [
    {
     "data": {
      "application/vnd.jupyter.widget-view+json": {
       "model_id": "a4b8981b510947cfb00016d02ef4e4a4",
       "version_major": 2,
       "version_minor": 0
      },
      "text/plain": [
       "Canvas(toolbar=Toolbar(toolitems=[('Home', 'Reset original view', 'home', 'home'), ('Back', 'Back to previous …"
      ]
     },
     "metadata": {},
     "output_type": "display_data"
    }
   ],
   "source": [
    "plot.function([ 260, 275], Control_0M.t_df,GdmSCN_05M.t_df, GdmSCN_2M.t_df, y_scaling = (-2,5))"
   ]
  },
  {
   "cell_type": "markdown",
   "id": "increasing-danger",
   "metadata": {},
   "source": [
    "## **analise**"
   ]
  },
  {
   "cell_type": "code",
   "execution_count": 13,
   "id": "announced-delight",
   "metadata": {},
   "outputs": [
    {
     "data": {
      "application/vnd.jupyter.widget-view+json": {
       "model_id": "ad4e00ab45c742efa5883142d8ee5476",
       "version_major": 2,
       "version_minor": 0
      },
      "text/plain": [
       "Canvas(toolbar=Toolbar(toolitems=[('Home', 'Reset original view', 'home', 'home'), ('Back', 'Back to previous …"
      ]
     },
     "metadata": {},
     "output_type": "display_data"
    }
   ],
   "source": [
    "plot.function([275, 290], Control_0M.t_df, Gdm2SO4_05M.t_df)"
   ]
  },
  {
   "cell_type": "markdown",
   "id": "primary-trademark",
   "metadata": {},
   "source": [
    "### Correlation Analysis"
   ]
  },
  {
   "cell_type": "code",
   "execution_count": 14,
   "id": "entertaining-credits",
   "metadata": {},
   "outputs": [
    {
     "name": "stdout",
     "output_type": "stream",
     "text": [
      "[20, 30, 40, 45, 50, 53, 56, 58, 60, 62, 64, 67, 70, 75, 80, 90] [20, 30, 40, 45, 50, 56, 58, 60, 62, 64, 67, 70, 75, 80, 90]\n"
     ]
    }
   ],
   "source": [
    "print(Control_0M.t_list, GdmCl_05M.t_list)"
   ]
  },
  {
   "cell_type": "raw",
   "id": "monthly-intensity",
   "metadata": {},
   "source": [
    "control2 = Control_0M.t_df.drop([53], axis=1)\n",
    "print(control2)"
   ]
  },
  {
   "cell_type": "markdown",
   "id": "ethical-blackjack",
   "metadata": {},
   "source": [
    "<div class=\"alert alert-block alert-info\">\n",
    "<b>Achtung:</b> When Messungen unterschiedlich viele Temperaturwerte haben, kommt ein Fehler. Am besten vergleichen. Einfachste Lösung ist hier unten mit 'Datei_mit_mehr_werten'.loc[:, 'Datei_mit_mehr_Werten'.t_list]\n",
    "</div>"
   ]
  },
  {
   "cell_type": "code",
   "execution_count": 15,
   "id": "still-science",
   "metadata": {},
   "outputs": [],
   "source": [
    "sync, assync = ana.correlation(GdmCl_05M.t_df, ref_spec=Control_0M.t_df.loc[:, GdmCl_05M.t_list], scaling='pareto')\n"
   ]
  },
  {
   "cell_type": "code",
   "execution_count": 16,
   "id": "infrared-attendance",
   "metadata": {},
   "outputs": [
    {
     "data": {
      "application/vnd.jupyter.widget-view+json": {
       "model_id": "1e70512f0d0b48d596cbc128bc4b9d8d",
       "version_major": 2,
       "version_minor": 0
      },
      "text/plain": [
       "Canvas(toolbar=Toolbar(toolitems=[('Home', 'Reset original view', 'home', 'home'), ('Back', 'Back to previous …"
      ]
     },
     "metadata": {},
     "output_type": "display_data"
    }
   ],
   "source": [
    "plot.heatmap(assync)"
   ]
  },
  {
   "cell_type": "code",
   "execution_count": 17,
   "id": "prepared-arrow",
   "metadata": {},
   "outputs": [
    {
     "data": {
      "application/vnd.jupyter.widget-view+json": {
       "model_id": "c34919e091bb4a21bf9ddb15583e22a2",
       "version_major": 2,
       "version_minor": 0
      },
      "text/plain": [
       "Canvas(toolbar=Toolbar(toolitems=[('Home', 'Reset original view', 'home', 'home'), ('Back', 'Back to previous …"
      ]
     },
     "metadata": {},
     "output_type": "display_data"
    }
   ],
   "source": [
    "plot.heatmap(sync, assync, x_min=[220, 220], y_min=[220, 220], c_min=[-5])"
   ]
  },
  {
   "cell_type": "code",
   "execution_count": 18,
   "id": "satisfied-version",
   "metadata": {},
   "outputs": [
    {
     "data": {
      "application/vnd.jupyter.widget-view+json": {
       "model_id": "7a6a126bc5ce45f2b01364ca90d294f4",
       "version_major": 2,
       "version_minor": 0
      },
      "text/plain": [
       "Canvas(toolbar=Toolbar(toolitems=[('Home', 'Reset original view', 'home', 'home'), ('Back', 'Back to previous …"
      ]
     },
     "metadata": {},
     "output_type": "display_data"
    }
   ],
   "source": [
    "plot.heatmap(GdmSCN_05M)\n"
   ]
  },
  {
   "cell_type": "markdown",
   "id": "directed-presence",
   "metadata": {},
   "source": [
    "### derivative example"
   ]
  },
  {
   "cell_type": "code",
   "execution_count": 10,
   "id": "reduced-demand",
   "metadata": {},
   "outputs": [],
   "source": [
    "deriv = ana.derivative(data_all.absorb_df)\n",
    "data = GdmSCN_2M.absorb_df"
   ]
  },
  {
   "cell_type": "code",
   "execution_count": 15,
   "id": "satellite-dubai",
   "metadata": {},
   "outputs": [
    {
     "data": {
      "application/vnd.jupyter.widget-view+json": {
       "model_id": "75d4a3bac42b4ae5bebda934b3b1ea4b",
       "version_major": 2,
       "version_minor": 0
      },
      "text/plain": [
       "Canvas(toolbar=Toolbar(toolitems=[('Home', 'Reset original view', 'home', 'home'), ('Back', 'Back to previous …"
      ]
     },
     "metadata": {},
     "output_type": "display_data"
    }
   ],
   "source": [
    "plot.mult_func([260], [data], [deriv], title= \"Absolut value and derivative\", )                                                                                                                       #"
   ]
  },
  {
   "cell_type": "code",
   "execution_count": 22,
   "id": "juvenile-sodium",
   "metadata": {},
   "outputs": [
    {
     "name": "stdout",
     "output_type": "stream",
     "text": [
      "Wavelength    90.000000\n",
      "200            2.849753\n",
      "201            2.542790\n",
      "202            2.457902\n",
      "203            2.019614\n",
      "204            2.270501\n",
      "205            3.173112\n",
      "206            2.454104\n",
      "207            1.342179\n",
      "208            1.861131\n",
      "209            1.681901\n",
      "210            2.928545\n",
      "211            3.059609\n",
      "212            2.398827\n",
      "213            2.073448\n",
      "214            1.732772\n",
      "215            2.191088\n",
      "216            1.751661\n",
      "217            1.453565\n",
      "218            2.627458\n",
      "219            2.570884\n",
      "220            2.202083\n",
      "221            1.366994\n",
      "222            2.450186\n",
      "223            2.840135\n",
      "224            2.630694\n",
      "225            3.161901\n",
      "226            3.689438\n",
      "227            2.025011\n",
      "228            1.706574\n",
      "229            3.008825\n",
      "230            3.522675\n",
      "231            2.649687\n",
      "232            3.382818\n",
      "233            3.606653\n",
      "234            2.623721\n",
      "235            1.174324\n",
      "236            1.620939\n",
      "237            2.522197\n",
      "238            2.516258\n",
      "239            3.799127\n",
      "240            3.269796\n",
      "241            3.628269\n",
      "242            5.682487\n",
      "243            3.935414\n",
      "244            4.020677\n",
      "245           11.074325\n",
      "246            9.200157\n",
      "247            9.181208\n",
      "248            7.967972\n",
      "249            6.791989\n",
      "250           11.812851\n",
      "251           15.965329\n",
      "252           12.587799\n",
      "253            6.695803\n",
      "254            4.950667\n",
      "255            5.629923\n",
      "256            2.224355\n",
      "257            2.030800\n",
      "258            1.012639\n",
      "259            0.487393\n",
      "260            0.161079\n",
      "261            0.188294\n",
      "262            0.127988\n",
      "263            0.130322\n",
      "264            0.080742\n",
      "265            0.092114\n",
      "266            0.096432\n",
      "267            0.070675\n",
      "268            0.055914\n",
      "269            0.072565\n",
      "270            0.088875\n",
      "271            0.075470\n",
      "272            0.066471\n",
      "273            0.061960\n",
      "274            0.090143\n",
      "275            0.124567\n",
      "276            0.141208\n",
      "277            0.086947\n",
      "278            0.052577\n",
      "279            0.052682\n",
      "280            0.044255\n",
      "281            0.030027\n",
      "282            0.028844\n",
      "283            0.021890\n",
      "284            0.043850\n",
      "285            0.040145\n",
      "286            0.082187\n",
      "287            0.054234\n",
      "288            0.045899\n",
      "289            0.050852\n",
      "290            0.040848\n",
      "291            0.036312\n",
      "292            0.029189\n",
      "293            0.032765\n",
      "294            0.043272\n",
      "295            0.031027\n",
      "296            0.027884\n",
      "297            0.019553\n",
      "298            0.019334\n",
      "299            0.025910\n",
      "300            0.022265\n",
      "301            0.029676\n",
      "302            0.026275\n",
      "303            0.056612\n",
      "304            0.066508\n",
      "305            0.065172\n",
      "306            0.044081\n",
      "307            0.043286\n",
      "308            0.030846\n",
      "309            0.041662\n",
      "310            0.031138\n",
      "311            0.016726\n",
      "312            0.016240\n",
      "313            0.023827\n",
      "314            0.031016\n",
      "315            0.039803\n",
      "316            0.037824\n",
      "317            0.041398\n",
      "318            0.037115\n",
      "319            0.019390\n",
      "320            0.020446\n",
      "321            0.015429\n",
      "322            0.029405\n",
      "323            0.024485\n",
      "324            0.030927\n",
      "325            0.029335\n",
      "326            0.040034\n",
      "327            0.045753\n",
      "328            0.019213\n",
      "329            0.042303\n",
      "330            0.039431\n",
      "dtype: float64 Wavelength    99\n",
      "200           69\n",
      "201           58\n",
      "202           58\n",
      "203           65\n",
      "204           99\n",
      "205           99\n",
      "206           99\n",
      "207           99\n",
      "208           55\n",
      "209           99\n",
      "210           99\n",
      "211           99\n",
      "212           61\n",
      "213           55\n",
      "214           54\n",
      "215           99\n",
      "216           99\n",
      "217           55\n",
      "218           86\n",
      "219           56\n",
      "220           58\n",
      "221           61\n",
      "222           52\n",
      "223           52\n",
      "224           52\n",
      "225           99\n",
      "226           55\n",
      "227           55\n",
      "228           55\n",
      "229           65\n",
      "230           99\n",
      "231           52\n",
      "232           53\n",
      "233           52\n",
      "234           62\n",
      "235           86\n",
      "236           86\n",
      "237           56\n",
      "238           60\n",
      "239           60\n",
      "240           60\n",
      "241           55\n",
      "242           55\n",
      "243           55\n",
      "244           40\n",
      "245           58\n",
      "246           65\n",
      "247           64\n",
      "248           64\n",
      "249           63\n",
      "250           99\n",
      "251           99\n",
      "252           99\n",
      "253           99\n",
      "254           52\n",
      "255           99\n",
      "256           51\n",
      "257           88\n",
      "258           87\n",
      "259           52\n",
      "260           52\n",
      "261           82\n",
      "262           83\n",
      "263           65\n",
      "264           52\n",
      "265           16\n",
      "266           61\n",
      "267           16\n",
      "268           16\n",
      "269           15\n",
      "270           65\n",
      "271           52\n",
      "272           16\n",
      "273           16\n",
      "274           99\n",
      "275           99\n",
      "276           99\n",
      "277           99\n",
      "278           16\n",
      "279           15\n",
      "280           14\n",
      "281           13\n",
      "282           51\n",
      "283           86\n",
      "284           61\n",
      "285           55\n",
      "286           55\n",
      "287           55\n",
      "288           55\n",
      "289           65\n",
      "290           66\n",
      "291           65\n",
      "292           65\n",
      "293            0\n",
      "294            0\n",
      "295            0\n",
      "296           31\n",
      "297           32\n",
      "298           45\n",
      "299           46\n",
      "300           45\n",
      "301           65\n",
      "302           64\n",
      "303           99\n",
      "304           99\n",
      "305           99\n",
      "306           99\n",
      "307           69\n",
      "308           69\n",
      "309           52\n",
      "310           52\n",
      "311           62\n",
      "312            0\n",
      "313           99\n",
      "314           58\n",
      "315           52\n",
      "316           52\n",
      "317           52\n",
      "318           51\n",
      "319           64\n",
      "320           65\n",
      "321           58\n",
      "322           58\n",
      "323           58\n",
      "324           69\n",
      "325           99\n",
      "326           99\n",
      "327           99\n",
      "328           65\n",
      "329           51\n",
      "330           51\n",
      "dtype: int64\n"
     ]
    }
   ],
   "source": [
    "\n",
    "print(deriv.max(axis=1), deriv.idxmax(axis=1))\n"
   ]
  },
  {
   "cell_type": "markdown",
   "id": "portuguese-express",
   "metadata": {},
   "source": [
    "## Sigmoid Fits"
   ]
  },
  {
   "cell_type": "code",
   "execution_count": 43,
   "id": "psychological-governor",
   "metadata": {},
   "outputs": [
    {
     "name": "stdout",
     "output_type": "stream",
     "text": [
      "[ 0.18677156 61.81965343] [0.0197075  0.53616734]\n"
     ]
    },
    {
     "data": {
      "application/vnd.jupyter.widget-view+json": {
       "model_id": "15c036be82dd412eb90e916d708a27ce",
       "version_major": 2,
       "version_minor": 0
      },
      "text/plain": [
       "Canvas(toolbar=Toolbar(toolitems=[('Home', 'Reset original view', 'home', 'home'), ('Back', 'Back to previous …"
      ]
     },
     "metadata": {},
     "output_type": "display_data"
    }
   ],
   "source": [
    "test = ana.sigmoid_fit(ana.normalize(Control_0M.t_df, axis=1),  a_range=[0, 1], b_range=[20, 90])\n",
    "\n",
    "x = np.arange(20,120)\n",
    "data = pd.DataFrame([ana.sigmoid(x, a=0.5, b=61), ana.sigmoid(x, a=0.8, b=61), ana.sigmoid(x, a=0.2, b=61) ], index=[\"a=0.5\", \"a=0.8\", \"a=0.2\"] )\n",
    "plot.mult_func([247,\"fit\", \"a=0.5\", \"a=0.8\", \"a=0.2\"], [test, data], marker=[\"x\",\"\", \"\", \"\", \"\", \"\", \"\"], linestyle=[\"\", \"-\", \":\", \":\", \"_\"], subtitle=[\"a\", \"b\", \"c\", \"d\", \"a=0.5\", \"a=0.8\", \"a=0.2\"])"
   ]
  },
  {
   "cell_type": "code",
   "execution_count": null,
   "id": "fifteen-oriental",
   "metadata": {},
   "outputs": [],
   "source": [
    "test1 = ana.sigmoid_fit(ana.normalize(Control_0M.t_df, axis=1),  a_range=[0, 1], b_range=[20, 90])\n",
    "test2 = ana.sigmoid_fit(ana.normalize(GdmCl_05M.t_df, axis = 1), a_range = [0,1], b_range = [20,90])"
   ]
  },
  {
   "cell_type": "code",
   "execution_count": 24,
   "id": "approximate-roller",
   "metadata": {},
   "outputs": [],
   "source": [
    "#print(deriv)"
   ]
  },
  {
   "cell_type": "markdown",
   "id": "satisfied-weapon",
   "metadata": {},
   "source": [
    "#### example for integral"
   ]
  },
  {
   "cell_type": "code",
   "execution_count": 25,
   "id": "bottom-fellowship",
   "metadata": {},
   "outputs": [
    {
     "name": "stderr",
     "output_type": "stream",
     "text": [
      "<ipython-input-25-2878dc17bc5a>:5: IntegrationWarning: The maximum number of subdivisions (50) has been achieved.\n",
      "  If increasing the limit yields no improvement it is advised to analyze \n",
      "  the integrand in order to determine the difficulties.  If the position of a \n",
      "  local difficulty can be determined (singularity, discontinuity) one will \n",
      "  probably gain from splitting up the interval and calling the integrator \n",
      "  on the subranges.  Perhaps a special-purpose integrator should be used.\n",
      "  value = integrate.quad(f, 30, 75)\n"
     ]
    }
   ],
   "source": [
    "\n",
    "integral = pd.DataFrame(['integral','error'], columns=['Wavelength'])\n",
    "                        \n",
    "for i in range(len(deriv.index)):\n",
    "    f = ana.interpolate(deriv, i)\n",
    "    value = integrate.quad(f, 30, 75)\n",
    "    integral[i+200] = value\n",
    "integral.set_index('Wavelength')\n",
    "integral = integral.T\n",
    "\n"
   ]
  },
  {
   "cell_type": "code",
   "execution_count": 26,
   "id": "paperback-background",
   "metadata": {},
   "outputs": [
    {
     "name": "stdout",
     "output_type": "stream",
     "text": [
      "                      0         1\n",
      "Wavelength     integral     error\n",
      "200         2570.454545       0.0\n",
      "201            8.793748       0.0\n",
      "202            4.060703       0.0\n",
      "203            5.107813       0.0\n",
      "204             6.50602       0.0\n",
      "205           10.760795       0.0\n",
      "206            6.385566       0.0\n",
      "207            6.845118       0.0\n",
      "208            3.290289       0.0\n",
      "209           -0.385796       0.0\n",
      "210           -1.347795       0.0\n",
      "211           -0.763706       0.0\n",
      "212            0.413888  0.000001\n",
      "213            4.380085  0.000001\n",
      "214            2.047519       0.0\n",
      "215            3.451855       0.0\n",
      "216           -1.570447       0.0\n",
      "217            -1.35733       0.0\n",
      "218           -7.178926       0.0\n",
      "219           -2.399596       0.0\n",
      "220           -0.042861       0.0\n",
      "221            4.130761       0.0\n",
      "222            6.842307       0.0\n",
      "223             4.83898       0.0\n",
      "224            6.039899       0.0\n",
      "225            0.673239       0.0\n",
      "226           -1.335985       0.0\n",
      "227            -5.54442       0.0\n",
      "228           -1.180562       0.0\n",
      "229           -1.037742       0.0\n",
      "230           -1.448219       0.0\n",
      "231           -2.510901       0.0\n",
      "232           -0.189652       0.0\n",
      "233           -0.660136       0.0\n",
      "234            1.612327  0.000001\n",
      "235           -0.848165  0.000001\n",
      "236            -1.33391       0.0\n",
      "237           -2.038259  0.000001\n",
      "238           -3.151504  0.000001\n",
      "239           -1.157611  0.000001\n",
      "240           -3.238591       0.0\n",
      "241           -0.993069       0.0\n",
      "242           -1.492956  0.000001\n",
      "243             4.55771  0.000001\n",
      "244            3.839324  0.000001\n",
      "245           -0.647613  0.000001\n",
      "246          -17.400317  0.000003\n",
      "247           -21.71177  0.000002\n",
      "248          -16.756269  0.000001\n",
      "249           -5.535737  0.000001\n",
      "250           -1.646199  0.000002\n",
      "251           -13.93423  0.000002\n",
      "252           -7.109768  0.000002\n",
      "253          -10.318136  0.000002\n",
      "254          -13.687484  0.000001\n",
      "255           -4.747064       0.0\n",
      "256           -8.323705       0.0\n",
      "257           -0.961841  0.000001\n",
      "258           -1.016034       0.0\n",
      "259           -0.320844       0.0\n",
      "260            0.490567       0.0\n",
      "261            -0.06924       0.0\n",
      "262           -0.692593       0.0\n",
      "263           -0.494425       0.0\n",
      "264           -0.301239       0.0\n",
      "265            -0.42266       0.0\n",
      "266           -0.620693       0.0\n",
      "267           -0.664538       0.0\n",
      "268           -0.654486       0.0\n",
      "269            -0.60112       0.0\n",
      "270           -0.639565       0.0\n",
      "271           -0.605056       0.0\n",
      "272           -0.680522       0.0\n",
      "273           -0.693184       0.0\n",
      "274           -0.621472       0.0\n",
      "275           -0.586799       0.0\n",
      "276           -0.557616       0.0\n",
      "277           -0.496121       0.0\n",
      "278           -0.499907       0.0\n",
      "279           -0.404264       0.0\n",
      "280            -0.46491       0.0\n",
      "281           -0.541852       0.0\n",
      "282           -0.557012       0.0\n",
      "283           -0.543104       0.0\n",
      "284           -0.495357       0.0\n",
      "285           -0.541123       0.0\n",
      "286           -0.506995       0.0\n",
      "287           -0.390536       0.0\n",
      "288           -0.291058       0.0\n",
      "289           -0.182397       0.0\n",
      "290            -0.08465       0.0\n",
      "291           -0.003105       0.0\n",
      "292            0.058325       0.0\n",
      "293             0.11413       0.0\n",
      "294            0.155468       0.0\n",
      "295            0.183726       0.0\n",
      "296             0.15386       0.0\n",
      "297            0.106053       0.0\n",
      "298            0.094576       0.0\n",
      "299            0.058675       0.0\n",
      "300            0.016081       0.0\n",
      "301            0.021215       0.0\n",
      "302            0.029167       0.0\n",
      "303            0.008575       0.0\n",
      "304            0.004601       0.0\n",
      "305            0.019787       0.0\n",
      "306             0.06889       0.0\n",
      "307            0.202083       0.0\n",
      "308            0.170699       0.0\n",
      "309            0.081989       0.0\n",
      "310           -0.018158       0.0\n",
      "311           -0.079467       0.0\n",
      "312           -0.077434       0.0\n",
      "313           -0.017268       0.0\n",
      "314            0.040958       0.0\n",
      "315            0.084539       0.0\n",
      "316            0.068088       0.0\n",
      "317            0.018441       0.0\n",
      "318           -0.023769       0.0\n",
      "319           -0.026498       0.0\n",
      "320           -0.035721       0.0\n",
      "321           -0.045282       0.0\n",
      "322            0.001005       0.0\n",
      "323            0.043908       0.0\n",
      "324            0.057127       0.0\n",
      "325            0.047132       0.0\n",
      "326           -0.009629       0.0\n",
      "327            0.002671       0.0\n",
      "328            0.083868       0.0\n",
      "329            0.053576       0.0\n",
      "330            0.013434       0.0\n",
      "331           -0.009887       0.0\n"
     ]
    }
   ],
   "source": [
    "print(integral)\n"
   ]
  },
  {
   "cell_type": "markdown",
   "id": "indoor-toilet",
   "metadata": {},
   "source": [
    "$$\n",
    "\\color{red}{\\textbf{Ende. Vielleicht etwas $\\LaTeX$ lernen?}}\n",
    "$$"
   ]
  },
  {
   "cell_type": "code",
   "execution_count": 27,
   "id": "ahead-latitude",
   "metadata": {},
   "outputs": [
    {
     "ename": "KeyError",
     "evalue": "247",
     "output_type": "error",
     "traceback": [
      "\u001b[1;31m---------------------------------------------------------------------------\u001b[0m",
      "\u001b[1;31mKeyError\u001b[0m                                  Traceback (most recent call last)",
      "\u001b[1;32m~\\anaconda3\\envs\\TestEnv\\lib\\site-packages\\pandas\\core\\indexes\\base.py\u001b[0m in \u001b[0;36mget_loc\u001b[1;34m(self, key, method, tolerance)\u001b[0m\n\u001b[0;32m   3079\u001b[0m             \u001b[1;32mtry\u001b[0m\u001b[1;33m:\u001b[0m\u001b[1;33m\u001b[0m\u001b[1;33m\u001b[0m\u001b[0m\n\u001b[1;32m-> 3080\u001b[1;33m                 \u001b[1;32mreturn\u001b[0m \u001b[0mself\u001b[0m\u001b[1;33m.\u001b[0m\u001b[0m_engine\u001b[0m\u001b[1;33m.\u001b[0m\u001b[0mget_loc\u001b[0m\u001b[1;33m(\u001b[0m\u001b[0mcasted_key\u001b[0m\u001b[1;33m)\u001b[0m\u001b[1;33m\u001b[0m\u001b[1;33m\u001b[0m\u001b[0m\n\u001b[0m\u001b[0;32m   3081\u001b[0m             \u001b[1;32mexcept\u001b[0m \u001b[0mKeyError\u001b[0m \u001b[1;32mas\u001b[0m \u001b[0merr\u001b[0m\u001b[1;33m:\u001b[0m\u001b[1;33m\u001b[0m\u001b[1;33m\u001b[0m\u001b[0m\n",
      "\u001b[1;32mpandas\\_libs\\index.pyx\u001b[0m in \u001b[0;36mpandas._libs.index.IndexEngine.get_loc\u001b[1;34m()\u001b[0m\n",
      "\u001b[1;32mpandas\\_libs\\index.pyx\u001b[0m in \u001b[0;36mpandas._libs.index.IndexEngine.get_loc\u001b[1;34m()\u001b[0m\n",
      "\u001b[1;32mpandas\\_libs\\hashtable_class_helper.pxi\u001b[0m in \u001b[0;36mpandas._libs.hashtable.PyObjectHashTable.get_item\u001b[1;34m()\u001b[0m\n",
      "\u001b[1;32mpandas\\_libs\\hashtable_class_helper.pxi\u001b[0m in \u001b[0;36mpandas._libs.hashtable.PyObjectHashTable.get_item\u001b[1;34m()\u001b[0m\n",
      "\u001b[1;31mKeyError\u001b[0m: 247",
      "\nThe above exception was the direct cause of the following exception:\n",
      "\u001b[1;31mKeyError\u001b[0m                                  Traceback (most recent call last)",
      "\u001b[1;32m<ipython-input-27-e2df8cfc4e4e>\u001b[0m in \u001b[0;36m<module>\u001b[1;34m\u001b[0m\n\u001b[0;32m      1\u001b[0m \u001b[1;31m#data = Control_0M.t_df\u001b[0m\u001b[1;33m\u001b[0m\u001b[1;33m\u001b[0m\u001b[1;33m\u001b[0m\u001b[0m\n\u001b[0;32m      2\u001b[0m \u001b[0mprep\u001b[0m \u001b[1;33m=\u001b[0m \u001b[0mana\u001b[0m\u001b[1;33m.\u001b[0m\u001b[0mnormalize\u001b[0m\u001b[1;33m(\u001b[0m\u001b[0mdata\u001b[0m\u001b[1;33m)\u001b[0m\u001b[1;33m\u001b[0m\u001b[1;33m\u001b[0m\u001b[0m\n\u001b[1;32m----> 3\u001b[1;33m \u001b[0mfit\u001b[0m \u001b[1;33m=\u001b[0m \u001b[0mana\u001b[0m\u001b[1;33m.\u001b[0m\u001b[0msigmoid_fit\u001b[0m\u001b[1;33m(\u001b[0m\u001b[0mprep\u001b[0m\u001b[1;33m)\u001b[0m\u001b[1;33m\u001b[0m\u001b[1;33m\u001b[0m\u001b[0m\n\u001b[0m",
      "\u001b[1;32mF:\\GitHub\\2Dcorrelation\\analise.py\u001b[0m in \u001b[0;36msigmoid_fit\u001b[1;34m(df, wave, a_range, b_range)\u001b[0m\n\u001b[0;32m    391\u001b[0m     \u001b[1;31m# get x and y points\u001b[0m\u001b[1;33m\u001b[0m\u001b[1;33m\u001b[0m\u001b[1;33m\u001b[0m\u001b[0m\n\u001b[0;32m    392\u001b[0m     \u001b[0mx_data\u001b[0m \u001b[1;33m=\u001b[0m \u001b[0mlist\u001b[0m\u001b[1;33m(\u001b[0m\u001b[0mdf\u001b[0m\u001b[1;33m.\u001b[0m\u001b[0mcolumns\u001b[0m\u001b[1;33m)\u001b[0m\u001b[1;33m\u001b[0m\u001b[1;33m\u001b[0m\u001b[0m\n\u001b[1;32m--> 393\u001b[1;33m     \u001b[0my_data\u001b[0m \u001b[1;33m=\u001b[0m \u001b[0mdf\u001b[0m\u001b[1;33m.\u001b[0m\u001b[0mloc\u001b[0m\u001b[1;33m[\u001b[0m\u001b[0mwave\u001b[0m\u001b[1;33m,\u001b[0m \u001b[1;33m:\u001b[0m\u001b[1;33m]\u001b[0m  \u001b[1;31m# get y points\u001b[0m\u001b[1;33m\u001b[0m\u001b[1;33m\u001b[0m\u001b[0m\n\u001b[0m\u001b[0;32m    394\u001b[0m     \u001b[0my_data\u001b[0m\u001b[1;33m.\u001b[0m\u001b[0mindex\u001b[0m \u001b[1;33m=\u001b[0m \u001b[0my_data\u001b[0m\u001b[1;33m.\u001b[0m\u001b[0mindex\u001b[0m\u001b[1;33m.\u001b[0m\u001b[0mastype\u001b[0m\u001b[1;33m(\u001b[0m\u001b[0mfloat\u001b[0m\u001b[1;33m)\u001b[0m\u001b[1;33m\u001b[0m\u001b[1;33m\u001b[0m\u001b[0m\n\u001b[0;32m    395\u001b[0m \u001b[1;33m\u001b[0m\u001b[0m\n",
      "\u001b[1;32m~\\anaconda3\\envs\\TestEnv\\lib\\site-packages\\pandas\\core\\indexing.py\u001b[0m in \u001b[0;36m__getitem__\u001b[1;34m(self, key)\u001b[0m\n\u001b[0;32m    887\u001b[0m                     \u001b[1;31m# AttributeError for IntervalTree get_value\u001b[0m\u001b[1;33m\u001b[0m\u001b[1;33m\u001b[0m\u001b[1;33m\u001b[0m\u001b[0m\n\u001b[0;32m    888\u001b[0m                     \u001b[1;32mreturn\u001b[0m \u001b[0mself\u001b[0m\u001b[1;33m.\u001b[0m\u001b[0mobj\u001b[0m\u001b[1;33m.\u001b[0m\u001b[0m_get_value\u001b[0m\u001b[1;33m(\u001b[0m\u001b[1;33m*\u001b[0m\u001b[0mkey\u001b[0m\u001b[1;33m,\u001b[0m \u001b[0mtakeable\u001b[0m\u001b[1;33m=\u001b[0m\u001b[0mself\u001b[0m\u001b[1;33m.\u001b[0m\u001b[0m_takeable\u001b[0m\u001b[1;33m)\u001b[0m\u001b[1;33m\u001b[0m\u001b[1;33m\u001b[0m\u001b[0m\n\u001b[1;32m--> 889\u001b[1;33m             \u001b[1;32mreturn\u001b[0m \u001b[0mself\u001b[0m\u001b[1;33m.\u001b[0m\u001b[0m_getitem_tuple\u001b[0m\u001b[1;33m(\u001b[0m\u001b[0mkey\u001b[0m\u001b[1;33m)\u001b[0m\u001b[1;33m\u001b[0m\u001b[1;33m\u001b[0m\u001b[0m\n\u001b[0m\u001b[0;32m    890\u001b[0m         \u001b[1;32melse\u001b[0m\u001b[1;33m:\u001b[0m\u001b[1;33m\u001b[0m\u001b[1;33m\u001b[0m\u001b[0m\n\u001b[0;32m    891\u001b[0m             \u001b[1;31m# we by definition only have the 0th axis\u001b[0m\u001b[1;33m\u001b[0m\u001b[1;33m\u001b[0m\u001b[1;33m\u001b[0m\u001b[0m\n",
      "\u001b[1;32m~\\anaconda3\\envs\\TestEnv\\lib\\site-packages\\pandas\\core\\indexing.py\u001b[0m in \u001b[0;36m_getitem_tuple\u001b[1;34m(self, tup)\u001b[0m\n\u001b[0;32m   1058\u001b[0m     \u001b[1;32mdef\u001b[0m \u001b[0m_getitem_tuple\u001b[0m\u001b[1;33m(\u001b[0m\u001b[0mself\u001b[0m\u001b[1;33m,\u001b[0m \u001b[0mtup\u001b[0m\u001b[1;33m:\u001b[0m \u001b[0mTuple\u001b[0m\u001b[1;33m)\u001b[0m\u001b[1;33m:\u001b[0m\u001b[1;33m\u001b[0m\u001b[1;33m\u001b[0m\u001b[0m\n\u001b[0;32m   1059\u001b[0m         \u001b[1;32mwith\u001b[0m \u001b[0msuppress\u001b[0m\u001b[1;33m(\u001b[0m\u001b[0mIndexingError\u001b[0m\u001b[1;33m)\u001b[0m\u001b[1;33m:\u001b[0m\u001b[1;33m\u001b[0m\u001b[1;33m\u001b[0m\u001b[0m\n\u001b[1;32m-> 1060\u001b[1;33m             \u001b[1;32mreturn\u001b[0m \u001b[0mself\u001b[0m\u001b[1;33m.\u001b[0m\u001b[0m_getitem_lowerdim\u001b[0m\u001b[1;33m(\u001b[0m\u001b[0mtup\u001b[0m\u001b[1;33m)\u001b[0m\u001b[1;33m\u001b[0m\u001b[1;33m\u001b[0m\u001b[0m\n\u001b[0m\u001b[0;32m   1061\u001b[0m \u001b[1;33m\u001b[0m\u001b[0m\n\u001b[0;32m   1062\u001b[0m         \u001b[1;31m# no multi-index, so validate all of the indexers\u001b[0m\u001b[1;33m\u001b[0m\u001b[1;33m\u001b[0m\u001b[1;33m\u001b[0m\u001b[0m\n",
      "\u001b[1;32m~\\anaconda3\\envs\\TestEnv\\lib\\site-packages\\pandas\\core\\indexing.py\u001b[0m in \u001b[0;36m_getitem_lowerdim\u001b[1;34m(self, tup)\u001b[0m\n\u001b[0;32m    805\u001b[0m                 \u001b[1;31m# We don't need to check for tuples here because those are\u001b[0m\u001b[1;33m\u001b[0m\u001b[1;33m\u001b[0m\u001b[1;33m\u001b[0m\u001b[0m\n\u001b[0;32m    806\u001b[0m                 \u001b[1;31m#  caught by the _is_nested_tuple_indexer check above.\u001b[0m\u001b[1;33m\u001b[0m\u001b[1;33m\u001b[0m\u001b[1;33m\u001b[0m\u001b[0m\n\u001b[1;32m--> 807\u001b[1;33m                 \u001b[0msection\u001b[0m \u001b[1;33m=\u001b[0m \u001b[0mself\u001b[0m\u001b[1;33m.\u001b[0m\u001b[0m_getitem_axis\u001b[0m\u001b[1;33m(\u001b[0m\u001b[0mkey\u001b[0m\u001b[1;33m,\u001b[0m \u001b[0maxis\u001b[0m\u001b[1;33m=\u001b[0m\u001b[0mi\u001b[0m\u001b[1;33m)\u001b[0m\u001b[1;33m\u001b[0m\u001b[1;33m\u001b[0m\u001b[0m\n\u001b[0m\u001b[0;32m    808\u001b[0m \u001b[1;33m\u001b[0m\u001b[0m\n\u001b[0;32m    809\u001b[0m                 \u001b[1;31m# We should never have a scalar section here, because\u001b[0m\u001b[1;33m\u001b[0m\u001b[1;33m\u001b[0m\u001b[1;33m\u001b[0m\u001b[0m\n",
      "\u001b[1;32m~\\anaconda3\\envs\\TestEnv\\lib\\site-packages\\pandas\\core\\indexing.py\u001b[0m in \u001b[0;36m_getitem_axis\u001b[1;34m(self, key, axis)\u001b[0m\n\u001b[0;32m   1122\u001b[0m         \u001b[1;31m# fall thru to straight lookup\u001b[0m\u001b[1;33m\u001b[0m\u001b[1;33m\u001b[0m\u001b[1;33m\u001b[0m\u001b[0m\n\u001b[0;32m   1123\u001b[0m         \u001b[0mself\u001b[0m\u001b[1;33m.\u001b[0m\u001b[0m_validate_key\u001b[0m\u001b[1;33m(\u001b[0m\u001b[0mkey\u001b[0m\u001b[1;33m,\u001b[0m \u001b[0maxis\u001b[0m\u001b[1;33m)\u001b[0m\u001b[1;33m\u001b[0m\u001b[1;33m\u001b[0m\u001b[0m\n\u001b[1;32m-> 1124\u001b[1;33m         \u001b[1;32mreturn\u001b[0m \u001b[0mself\u001b[0m\u001b[1;33m.\u001b[0m\u001b[0m_get_label\u001b[0m\u001b[1;33m(\u001b[0m\u001b[0mkey\u001b[0m\u001b[1;33m,\u001b[0m \u001b[0maxis\u001b[0m\u001b[1;33m=\u001b[0m\u001b[0maxis\u001b[0m\u001b[1;33m)\u001b[0m\u001b[1;33m\u001b[0m\u001b[1;33m\u001b[0m\u001b[0m\n\u001b[0m\u001b[0;32m   1125\u001b[0m \u001b[1;33m\u001b[0m\u001b[0m\n\u001b[0;32m   1126\u001b[0m     \u001b[1;32mdef\u001b[0m \u001b[0m_get_slice_axis\u001b[0m\u001b[1;33m(\u001b[0m\u001b[0mself\u001b[0m\u001b[1;33m,\u001b[0m \u001b[0mslice_obj\u001b[0m\u001b[1;33m:\u001b[0m \u001b[0mslice\u001b[0m\u001b[1;33m,\u001b[0m \u001b[0maxis\u001b[0m\u001b[1;33m:\u001b[0m \u001b[0mint\u001b[0m\u001b[1;33m)\u001b[0m\u001b[1;33m:\u001b[0m\u001b[1;33m\u001b[0m\u001b[1;33m\u001b[0m\u001b[0m\n",
      "\u001b[1;32m~\\anaconda3\\envs\\TestEnv\\lib\\site-packages\\pandas\\core\\indexing.py\u001b[0m in \u001b[0;36m_get_label\u001b[1;34m(self, label, axis)\u001b[0m\n\u001b[0;32m   1071\u001b[0m     \u001b[1;32mdef\u001b[0m \u001b[0m_get_label\u001b[0m\u001b[1;33m(\u001b[0m\u001b[0mself\u001b[0m\u001b[1;33m,\u001b[0m \u001b[0mlabel\u001b[0m\u001b[1;33m,\u001b[0m \u001b[0maxis\u001b[0m\u001b[1;33m:\u001b[0m \u001b[0mint\u001b[0m\u001b[1;33m)\u001b[0m\u001b[1;33m:\u001b[0m\u001b[1;33m\u001b[0m\u001b[1;33m\u001b[0m\u001b[0m\n\u001b[0;32m   1072\u001b[0m         \u001b[1;31m# GH#5667 this will fail if the label is not present in the axis.\u001b[0m\u001b[1;33m\u001b[0m\u001b[1;33m\u001b[0m\u001b[1;33m\u001b[0m\u001b[0m\n\u001b[1;32m-> 1073\u001b[1;33m         \u001b[1;32mreturn\u001b[0m \u001b[0mself\u001b[0m\u001b[1;33m.\u001b[0m\u001b[0mobj\u001b[0m\u001b[1;33m.\u001b[0m\u001b[0mxs\u001b[0m\u001b[1;33m(\u001b[0m\u001b[0mlabel\u001b[0m\u001b[1;33m,\u001b[0m \u001b[0maxis\u001b[0m\u001b[1;33m=\u001b[0m\u001b[0maxis\u001b[0m\u001b[1;33m)\u001b[0m\u001b[1;33m\u001b[0m\u001b[1;33m\u001b[0m\u001b[0m\n\u001b[0m\u001b[0;32m   1074\u001b[0m \u001b[1;33m\u001b[0m\u001b[0m\n\u001b[0;32m   1075\u001b[0m     \u001b[1;32mdef\u001b[0m \u001b[0m_handle_lowerdim_multi_index_axis0\u001b[0m\u001b[1;33m(\u001b[0m\u001b[0mself\u001b[0m\u001b[1;33m,\u001b[0m \u001b[0mtup\u001b[0m\u001b[1;33m:\u001b[0m \u001b[0mTuple\u001b[0m\u001b[1;33m)\u001b[0m\u001b[1;33m:\u001b[0m\u001b[1;33m\u001b[0m\u001b[1;33m\u001b[0m\u001b[0m\n",
      "\u001b[1;32m~\\anaconda3\\envs\\TestEnv\\lib\\site-packages\\pandas\\core\\generic.py\u001b[0m in \u001b[0;36mxs\u001b[1;34m(self, key, axis, level, drop_level)\u001b[0m\n\u001b[0;32m   3736\u001b[0m                 \u001b[1;32mraise\u001b[0m \u001b[0mTypeError\u001b[0m\u001b[1;33m(\u001b[0m\u001b[1;34mf\"Expected label or tuple of labels, got {key}\"\u001b[0m\u001b[1;33m)\u001b[0m \u001b[1;32mfrom\u001b[0m \u001b[0me\u001b[0m\u001b[1;33m\u001b[0m\u001b[1;33m\u001b[0m\u001b[0m\n\u001b[0;32m   3737\u001b[0m         \u001b[1;32melse\u001b[0m\u001b[1;33m:\u001b[0m\u001b[1;33m\u001b[0m\u001b[1;33m\u001b[0m\u001b[0m\n\u001b[1;32m-> 3738\u001b[1;33m             \u001b[0mloc\u001b[0m \u001b[1;33m=\u001b[0m \u001b[0mindex\u001b[0m\u001b[1;33m.\u001b[0m\u001b[0mget_loc\u001b[0m\u001b[1;33m(\u001b[0m\u001b[0mkey\u001b[0m\u001b[1;33m)\u001b[0m\u001b[1;33m\u001b[0m\u001b[1;33m\u001b[0m\u001b[0m\n\u001b[0m\u001b[0;32m   3739\u001b[0m \u001b[1;33m\u001b[0m\u001b[0m\n\u001b[0;32m   3740\u001b[0m             \u001b[1;32mif\u001b[0m \u001b[0misinstance\u001b[0m\u001b[1;33m(\u001b[0m\u001b[0mloc\u001b[0m\u001b[1;33m,\u001b[0m \u001b[0mnp\u001b[0m\u001b[1;33m.\u001b[0m\u001b[0mndarray\u001b[0m\u001b[1;33m)\u001b[0m\u001b[1;33m:\u001b[0m\u001b[1;33m\u001b[0m\u001b[1;33m\u001b[0m\u001b[0m\n",
      "\u001b[1;32m~\\anaconda3\\envs\\TestEnv\\lib\\site-packages\\pandas\\core\\indexes\\base.py\u001b[0m in \u001b[0;36mget_loc\u001b[1;34m(self, key, method, tolerance)\u001b[0m\n\u001b[0;32m   3080\u001b[0m                 \u001b[1;32mreturn\u001b[0m \u001b[0mself\u001b[0m\u001b[1;33m.\u001b[0m\u001b[0m_engine\u001b[0m\u001b[1;33m.\u001b[0m\u001b[0mget_loc\u001b[0m\u001b[1;33m(\u001b[0m\u001b[0mcasted_key\u001b[0m\u001b[1;33m)\u001b[0m\u001b[1;33m\u001b[0m\u001b[1;33m\u001b[0m\u001b[0m\n\u001b[0;32m   3081\u001b[0m             \u001b[1;32mexcept\u001b[0m \u001b[0mKeyError\u001b[0m \u001b[1;32mas\u001b[0m \u001b[0merr\u001b[0m\u001b[1;33m:\u001b[0m\u001b[1;33m\u001b[0m\u001b[1;33m\u001b[0m\u001b[0m\n\u001b[1;32m-> 3082\u001b[1;33m                 \u001b[1;32mraise\u001b[0m \u001b[0mKeyError\u001b[0m\u001b[1;33m(\u001b[0m\u001b[0mkey\u001b[0m\u001b[1;33m)\u001b[0m \u001b[1;32mfrom\u001b[0m \u001b[0merr\u001b[0m\u001b[1;33m\u001b[0m\u001b[1;33m\u001b[0m\u001b[0m\n\u001b[0m\u001b[0;32m   3083\u001b[0m \u001b[1;33m\u001b[0m\u001b[0m\n\u001b[0;32m   3084\u001b[0m         \u001b[1;32mif\u001b[0m \u001b[0mtolerance\u001b[0m \u001b[1;32mis\u001b[0m \u001b[1;32mnot\u001b[0m \u001b[1;32mNone\u001b[0m\u001b[1;33m:\u001b[0m\u001b[1;33m\u001b[0m\u001b[1;33m\u001b[0m\u001b[0m\n",
      "\u001b[1;31mKeyError\u001b[0m: 247"
     ]
    }
   ],
   "source": [
    "#data = Control_0M.t_df\n",
    "prep = ana.normalize(data)\n",
    "fit = ana.sigmoid_fit(prep)"
   ]
  },
  {
   "cell_type": "code",
   "execution_count": null,
   "id": "innocent-property",
   "metadata": {},
   "outputs": [],
   "source": [
    "plot.function([\"fit\", 247], fit)"
   ]
  },
  {
   "cell_type": "code",
   "execution_count": null,
   "id": "looking-istanbul",
   "metadata": {},
   "outputs": [],
   "source": []
  },
  {
   "cell_type": "code",
   "execution_count": null,
   "id": "flying-advancement",
   "metadata": {},
   "outputs": [],
   "source": []
  },
  {
   "cell_type": "code",
   "execution_count": null,
   "id": "upper-happiness",
   "metadata": {},
   "outputs": [],
   "source": []
  }
 ],
 "metadata": {
  "kernelspec": {
   "display_name": "Python 3",
   "language": "python",
   "name": "python3"
  },
  "language_info": {
   "codemirror_mode": {
    "name": "ipython",
    "version": 3
   },
   "file_extension": ".py",
   "mimetype": "text/x-python",
   "name": "python",
   "nbconvert_exporter": "python",
   "pygments_lexer": "ipython3",
   "version": "3.8.6"
  },
  "toc-autonumbering": true,
  "toc-showcode": false,
  "toc-showmarkdowntxt": false,
  "toc-showtags": false
 },
 "nbformat": 4,
 "nbformat_minor": 5
}
