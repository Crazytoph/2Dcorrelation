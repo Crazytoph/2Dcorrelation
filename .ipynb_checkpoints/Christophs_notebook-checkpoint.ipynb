{
 "cells": [
  {
   "cell_type": "markdown",
   "id": "coupled-romance",
   "metadata": {},
   "source": [
    "*for more information, checkout* [Github](https://github.com/Crazytoph/2Dcorrelation \"my github page\")."
   ]
  },
  {
   "cell_type": "markdown",
   "id": "southeast-creator",
   "metadata": {},
   "source": [
    "# CD Measurements - Data Analysis"
   ]
  },
  {
   "cell_type": "markdown",
   "id": "democratic-steam",
   "metadata": {},
   "source": [
    "## *setting up the Notebook*"
   ]
  },
  {
   "cell_type": "code",
   "execution_count": 1,
   "id": "medical-distinction",
   "metadata": {},
   "outputs": [],
   "source": [
    "# Enabling the `widget` backend.\n",
    "# This requires jupyter-matplotlib a.k.a. ipympl.\n",
    "# ipympl can be install via pip or conda.\n",
    "%matplotlib widget\n",
    "        \n",
    "import matplotlib.pyplot as plt\n",
    "import numpy as np\n",
    "import pandas as pd\n",
    "from ipywidgets import Output\n",
    "import matplotlib\n",
    "\n",
    "from scipy import integrate\n",
    "import lmfit\n",
    "import os"
   ]
  },
  {
   "cell_type": "code",
   "execution_count": 2,
   "id": "informative-russian",
   "metadata": {},
   "outputs": [],
   "source": [
    "import analise as ana\n",
    "import cdata \n",
    "import hotznplots as plot"
   ]
  },
  {
   "cell_type": "markdown",
   "id": "described-virus",
   "metadata": {},
   "source": [
    "<div class=\"alert alert-block alert-info\">\n",
    "<b>Info:</b> Print always whole DataFrames\n",
    "</div>"
   ]
  },
  {
   "cell_type": "code",
   "execution_count": 3,
   "id": "grateful-lesbian",
   "metadata": {},
   "outputs": [],
   "source": [
    "# Default value of display.max_rows is 10 i.e. at max 10 rows will be printed.\n",
    "# Set it None to display all rows in the dataframe\n",
    "pd.set_option('display.max_rows', None)"
   ]
  },
  {
   "cell_type": "code",
   "execution_count": 4,
   "id": "willing-lafayette",
   "metadata": {},
   "outputs": [],
   "source": [
    "# change plot size\n",
    "plt.rcParams[\"figure.figsize\"] = (11,9)"
   ]
  },
  {
   "cell_type": "markdown",
   "id": "beneficial-limit",
   "metadata": {},
   "source": [
    "<div class=\"alert alert-block alert-info\">\n",
    "<b>Info:</b> Get the data\n",
    "</div>"
   ]
  },
  {
   "cell_type": "code",
   "execution_count": 5,
   "id": "hollywood-tribune",
   "metadata": {},
   "outputs": [
    {
     "name": "stdout",
     "output_type": "stream",
     "text": [
      "['Control_0M', 'Gdm2SO4_0.5M', 'Gdm2SO4_2M', 'Gdm2SO4_4M', 'GdmCl_0.5M', 'GdmCl_2M', 'GdmCl_2M_24h', 'GdmCl_4M', 'GdmSCN_0.5M', 'GdmSCN_2M', 'Urea_2M']\n"
     ]
    }
   ],
   "source": [
    "# Path for Daniel:\n",
    "#path = \"F:\\\\HZDR\\\\CD_data\"\n",
    "\n",
    "# My Path:\n",
    "path = \"C:\\\\Users\\\\crazy\\\\Mega\\\\Uni\\\\Masterarbeit\\\\Projekt\\\\Data\\\\CD_data\\\\DNA Origami\"\n",
    "datalist = os.listdir(path)\n",
    "print(datalist)"
   ]
  },
  {
   "cell_type": "code",
   "execution_count": 6,
   "id": "honest-tomorrow",
   "metadata": {},
   "outputs": [],
   "source": [
    "# all data in one dictionary with foldernames as names\n",
    "data_all = {}\n",
    "for i in range(len(datalist)):\n",
    "    data_all[datalist[i]] = cdata.CData(os.path.join(path, datalist[i]))"
   ]
  },
  {
   "cell_type": "code",
   "execution_count": 7,
   "id": "falling-soccer",
   "metadata": {},
   "outputs": [
    {
     "name": "stdout",
     "output_type": "stream",
     "text": [
      "<cdata.CData object at 0x0000012A7AB50460>\n",
      "[<cdata.CData object at 0x0000012A7AB50460>, <cdata.CData object at 0x0000012A7AA80EE0>]\n",
      "(<cdata.CData object at 0x0000012A7AB50460>, <cdata.CData object at 0x0000012A76D8C670>, <cdata.CData object at 0x0000012A7AB505E0>, <cdata.CData object at 0x0000012A7AA80EE0>)\n"
     ]
    }
   ],
   "source": [
    "# options to acces data\n",
    "print(data_all['Control_0M'])\n",
    "# multiple options\n",
    "print(list(map(data_all.get, ['Control_0M', 'Gdm2SO4_4M'])))\n",
    "print(tuple(data_all.values())[0:4])"
   ]
  },
  {
   "cell_type": "markdown",
   "id": "returning-frank",
   "metadata": {},
   "source": [
    "## Colormaps"
   ]
  },
  {
   "cell_type": "markdown",
   "id": "dominican-pearl",
   "metadata": {},
   "source": [
    "### Heat Maps"
   ]
  },
  {
   "cell_type": "code",
   "execution_count": 8,
   "id": "virtual-soccer",
   "metadata": {},
   "outputs": [
    {
     "data": {
      "application/vnd.jupyter.widget-view+json": {
       "model_id": "fa7b42012b204c31acb62dc6dba8eaf4",
       "version_major": 2,
       "version_minor": 0
      },
      "text/plain": [
       "Canvas(toolbar=Toolbar(toolitems=[('Home', 'Reset original view', 'home', 'home'), ('Back', 'Back to previous …"
      ]
     },
     "metadata": {},
     "output_type": "display_data"
    }
   ],
   "source": [
    "plot.heatmap(*tuple(data_all.values()), subtitle=tuple(data_all.keys()), title=\"Cd-Values\", x_min=[220]*len(data_all))"
   ]
  },
  {
   "cell_type": "markdown",
   "id": "proof-squad",
   "metadata": {},
   "source": [
    "### 3D surface plots"
   ]
  },
  {
   "cell_type": "code",
   "execution_count": 8,
   "id": "hazardous-bangkok",
   "metadata": {},
   "outputs": [
    {
     "data": {
      "application/vnd.jupyter.widget-view+json": {
       "model_id": "f177d144be2f4b048a59448e0112aa33",
       "version_major": 2,
       "version_minor": 0
      },
      "text/plain": [
       "Canvas(toolbar=Toolbar(toolitems=[('Home', 'Reset original view', 'home', 'home'), ('Back', 'Back to previous …"
      ]
     },
     "metadata": {},
     "output_type": "display_data"
    },
    {
     "name": "stderr",
     "output_type": "stream",
     "text": [
      "No handles with labels found to put in legend.\n"
     ]
    }
   ],
   "source": [
    "plot.function3d(data_all[\"Control_0M\"].cd_df.loc[220:])"
   ]
  },
  {
   "cell_type": "markdown",
   "id": "universal-frame",
   "metadata": {},
   "source": [
    "## Function Plots "
   ]
  },
  {
   "cell_type": "markdown",
   "id": "growing-bahrain",
   "metadata": {},
   "source": [
    "### CD-Spectra Plot"
   ]
  },
  {
   "cell_type": "code",
   "execution_count": 26,
   "id": "inclusive-hudson",
   "metadata": {},
   "outputs": [
    {
     "data": {
      "application/vnd.jupyter.widget-view+json": {
       "model_id": "fc0c23a0ce2347c28b34119548e8685a",
       "version_major": 2,
       "version_minor": 0
      },
      "text/plain": [
       "Canvas(toolbar=Toolbar(toolitems=[('Home', 'Reset original view', 'home', 'home'), ('Back', 'Back to previous …"
      ]
     },
     "metadata": {},
     "output_type": "display_data"
    },
    {
     "name": "stderr",
     "output_type": "stream",
     "text": [
      "C:\\Users\\crazy\\PycharmProjects\\2Dcorrelation\\hotznplots.py:329: RuntimeWarning: More than 20 figures have been opened. Figures created through the pyplot interface (`matplotlib.pyplot.figure`) are retained until explicitly closed and may consume too much memory. (To control this warning, see the rcParam `figure.max_open_warning`).\n",
      "  fig = plt.figure(facecolor=backgroundcolor)  # create figure\n"
     ]
    },
    {
     "data": {
      "application/vnd.jupyter.widget-view+json": {
       "model_id": "c320b14d645b4084a26b3b6eb875b684",
       "version_major": 2,
       "version_minor": 0
      },
      "text/plain": [
       "Canvas(toolbar=Toolbar(toolitems=[('Home', 'Reset original view', 'home', 'home'), ('Back', 'Back to previous …"
      ]
     },
     "metadata": {},
     "output_type": "display_data"
    },
    {
     "data": {
      "application/vnd.jupyter.widget-view+json": {
       "model_id": "c38d7b7036ad4a07a64efce42729bff9",
       "version_major": 2,
       "version_minor": 0
      },
      "text/plain": [
       "Canvas(toolbar=Toolbar(toolitems=[('Home', 'Reset original view', 'home', 'home'), ('Back', 'Back to previous …"
      ]
     },
     "metadata": {},
     "output_type": "display_data"
    },
    {
     "data": {
      "application/vnd.jupyter.widget-view+json": {
       "model_id": "b40d1593bc5d4c1d9aeec8475f8958f3",
       "version_major": 2,
       "version_minor": 0
      },
      "text/plain": [
       "Canvas(toolbar=Toolbar(toolitems=[('Home', 'Reset original view', 'home', 'home'), ('Back', 'Back to previous …"
      ]
     },
     "metadata": {},
     "output_type": "display_data"
    },
    {
     "data": {
      "application/vnd.jupyter.widget-view+json": {
       "model_id": "ead9c9c27077443099c8472557052036",
       "version_major": 2,
       "version_minor": 0
      },
      "text/plain": [
       "Canvas(toolbar=Toolbar(toolitems=[('Home', 'Reset original view', 'home', 'home'), ('Back', 'Back to previous …"
      ]
     },
     "metadata": {},
     "output_type": "display_data"
    },
    {
     "data": {
      "application/vnd.jupyter.widget-view+json": {
       "model_id": "0503b92c33204357b8ba661b232dc0a4",
       "version_major": 2,
       "version_minor": 0
      },
      "text/plain": [
       "Canvas(toolbar=Toolbar(toolitems=[('Home', 'Reset original view', 'home', 'home'), ('Back', 'Back to previous …"
      ]
     },
     "metadata": {},
     "output_type": "display_data"
    },
    {
     "data": {
      "application/vnd.jupyter.widget-view+json": {
       "model_id": "c2c38a8edc3946168ef225402b3d3e7f",
       "version_major": 2,
       "version_minor": 0
      },
      "text/plain": [
       "Canvas(toolbar=Toolbar(toolitems=[('Home', 'Reset original view', 'home', 'home'), ('Back', 'Back to previous …"
      ]
     },
     "metadata": {},
     "output_type": "display_data"
    },
    {
     "data": {
      "application/vnd.jupyter.widget-view+json": {
       "model_id": "a89b7282247e4289acfce09894481e4f",
       "version_major": 2,
       "version_minor": 0
      },
      "text/plain": [
       "Canvas(toolbar=Toolbar(toolitems=[('Home', 'Reset original view', 'home', 'home'), ('Back', 'Back to previous …"
      ]
     },
     "metadata": {},
     "output_type": "display_data"
    },
    {
     "data": {
      "application/vnd.jupyter.widget-view+json": {
       "model_id": "7fa05e1631a6408bb4f1750d0deba4ae",
       "version_major": 2,
       "version_minor": 0
      },
      "text/plain": [
       "Canvas(toolbar=Toolbar(toolitems=[('Home', 'Reset original view', 'home', 'home'), ('Back', 'Back to previous …"
      ]
     },
     "metadata": {},
     "output_type": "display_data"
    }
   ],
   "source": [
    "wave_min = 260\n",
    "wave_max = 300\n",
    "\n",
    "key_list = ['Control_0M', 'Gdm2SO4_0.5M', 'Gdm2SO4_2M', 'Gdm2SO4_4M', 'GdmCl_0.5M', 'GdmCl_2M',  'GdmCl_4M', 'GdmSCN_0.5M', 'GdmSCN_2M']\n",
    "for key in key_list:\n",
    "    plot.mult_func([20, 30, 40, 45], [data_all[key].cd_df.loc[wave_min:wave_max]], title=key, swap=True,\n",
    "                   x_label=\"Wavelength [nm]\", y_label=\"CD values [mdeg]\", subtitle=[\"\"], label=[\"20°C\", \"30°C\", \"40°C\", \"45°C\"], marker=['s', 'D', 'd', 'o'], linestyle=['-', ':', ':', '-'], baseline=True)"
   ]
  },
  {
   "cell_type": "code",
   "execution_count": 9,
   "id": "devoted-lloyd",
   "metadata": {},
   "outputs": [
    {
     "data": {
      "application/vnd.jupyter.widget-view+json": {
       "model_id": "f50680fe04ce440ca3c63d04a862232b",
       "version_major": 2,
       "version_minor": 0
      },
      "text/plain": [
       "Canvas(toolbar=Toolbar(toolitems=[('Home', 'Reset original view', 'home', 'home'), ('Back', 'Back to previous …"
      ]
     },
     "metadata": {},
     "output_type": "display_data"
    }
   ],
   "source": [
    "data=[]\n",
    "for key in data_all.keys():\n",
    "    data.append([data_all[key].cd_df.T])\n",
    "\n",
    "plot.mult_func([20, 40, 55, 60, 65, 70, 90], *data, subtitle=tuple(data_all.keys()),\n",
    "               title=\"CD-Spectra\", marker=[\"\",\"\", \"\", \"\", \"\", \"\", \"\"], x_min=210\n",
    "              )"
   ]
  },
  {
   "cell_type": "markdown",
   "id": "laughing-paradise",
   "metadata": {},
   "source": [
    "### Max/Min Plots\n"
   ]
  },
  {
   "cell_type": "markdown",
   "id": "later-volleyball",
   "metadata": {},
   "source": [
    "multiple probes"
   ]
  },
  {
   "cell_type": "code",
   "execution_count": 10,
   "id": "interracial-newport",
   "metadata": {},
   "outputs": [
    {
     "data": {
      "application/vnd.jupyter.widget-view+json": {
       "model_id": "6f696b1d2e1446f39663abdd45427261",
       "version_major": 2,
       "version_minor": 0
      },
      "text/plain": [
       "Canvas(toolbar=Toolbar(toolitems=[('Home', 'Reset original view', 'home', 'home'), ('Back', 'Back to previous …"
      ]
     },
     "metadata": {},
     "output_type": "display_data"
    }
   ],
   "source": [
    "wave_min = 210\n",
    "wave_max =  230\n",
    "\n",
    "\n",
    "# First data you want to add to the plot\n",
    "plot_data =  ana.max_wave(data_all[\"Control_0M\"].cd_df, wave_min=wave_min, wave_max=wave_max)\n",
    "plot_data = plot_data.drop(['Wavelength'], axis=1)   \n",
    "plot_data.rename(columns = {'Value': 'Control_0M'}, inplace = True)\n",
    "\n",
    "\n",
    "\n",
    "# other Data you want to add, if always same max/min values then loop would be possible\n",
    "plot_data[\"GdmCl_4M\"] = ana.max_wave(data_all[\"GdmCl_4M\"].cd_df, wave_min=wave_min, wave_max=wave_max)[\"Value\"]\n",
    "plot_data[\"Gdm2SO4_2M\"] = ana.max_wave(data_all[\"Gdm2SO4_2M\"].cd_df, wave_min=wave_min, wave_max=wave_max)[\"Value\"]\n",
    "#plot_data[\"GdmSCN_2M\"] 2= ana.max_wave(data_all[\"GdmSCN_2M\"].cd_df, wave_min=wave_min, wave_max=wave_max)[\"Value\"]\n",
    "\n",
    "\n",
    "plot.mult_func([\"Control_0M\", \"GdmCl_4M\", \"Gdm2SO4_2M\"], [plot_data.T], subtitle=[\"\"], title=\"Max. CD Value between 210nm - 230nm\")"
   ]
  },
  {
   "cell_type": "markdown",
   "id": "lyric-landing",
   "metadata": {},
   "source": [
    "one probe"
   ]
  },
  {
   "cell_type": "code",
   "execution_count": 15,
   "id": "competitive-princess",
   "metadata": {},
   "outputs": [
    {
     "data": {
      "application/vnd.jupyter.widget-view+json": {
       "model_id": "f72d97d41e48459eb723bb30acc239cd",
       "version_major": 2,
       "version_minor": 0
      },
      "text/plain": [
       "Canvas(toolbar=Toolbar(toolitems=[('Home', 'Reset original view', 'home', 'home'), ('Back', 'Back to previous …"
      ]
     },
     "metadata": {},
     "output_type": "display_data"
    },
    {
     "data": {
      "application/vnd.jupyter.widget-view+json": {
       "model_id": "83a43084f829464c8d1d2c3cbbe6535a",
       "version_major": 2,
       "version_minor": 0
      },
      "text/plain": [
       "Canvas(toolbar=Toolbar(toolitems=[('Home', 'Reset original view', 'home', 'home'), ('Back', 'Back to previous …"
      ]
     },
     "metadata": {},
     "output_type": "display_data"
    },
    {
     "data": {
      "application/vnd.jupyter.widget-view+json": {
       "model_id": "f48223ffb14c49079e937ecb7fadde39",
       "version_major": 2,
       "version_minor": 0
      },
      "text/plain": [
       "Canvas(toolbar=Toolbar(toolitems=[('Home', 'Reset original view', 'home', 'home'), ('Back', 'Back to previous …"
      ]
     },
     "metadata": {},
     "output_type": "display_data"
    },
    {
     "data": {
      "application/vnd.jupyter.widget-view+json": {
       "model_id": "d46d1249cc1d44f6a0b5090cd69dada9",
       "version_major": 2,
       "version_minor": 0
      },
      "text/plain": [
       "Canvas(toolbar=Toolbar(toolitems=[('Home', 'Reset original view', 'home', 'home'), ('Back', 'Back to previous …"
      ]
     },
     "metadata": {},
     "output_type": "display_data"
    },
    {
     "data": {
      "application/vnd.jupyter.widget-view+json": {
       "model_id": "3c475e2f6c944bea910df4241fb30393",
       "version_major": 2,
       "version_minor": 0
      },
      "text/plain": [
       "Canvas(toolbar=Toolbar(toolitems=[('Home', 'Reset original view', 'home', 'home'), ('Back', 'Back to previous …"
      ]
     },
     "metadata": {},
     "output_type": "display_data"
    },
    {
     "data": {
      "application/vnd.jupyter.widget-view+json": {
       "model_id": "221f08fdd72b4892bcca8879e40e895d",
       "version_major": 2,
       "version_minor": 0
      },
      "text/plain": [
       "Canvas(toolbar=Toolbar(toolitems=[('Home', 'Reset original view', 'home', 'home'), ('Back', 'Back to previous …"
      ]
     },
     "metadata": {},
     "output_type": "display_data"
    },
    {
     "data": {
      "application/vnd.jupyter.widget-view+json": {
       "model_id": "c63995a5677047b8a4e9d6b28a0d7097",
       "version_major": 2,
       "version_minor": 0
      },
      "text/plain": [
       "Canvas(toolbar=Toolbar(toolitems=[('Home', 'Reset original view', 'home', 'home'), ('Back', 'Back to previous …"
      ]
     },
     "metadata": {},
     "output_type": "display_data"
    },
    {
     "data": {
      "application/vnd.jupyter.widget-view+json": {
       "model_id": "efe1dc62afb94b719617149d94e38868",
       "version_major": 2,
       "version_minor": 0
      },
      "text/plain": [
       "Canvas(toolbar=Toolbar(toolitems=[('Home', 'Reset original view', 'home', 'home'), ('Back', 'Back to previous …"
      ]
     },
     "metadata": {},
     "output_type": "display_data"
    },
    {
     "data": {
      "application/vnd.jupyter.widget-view+json": {
       "model_id": "4e9be91f4fae492983160df331a99a03",
       "version_major": 2,
       "version_minor": 0
      },
      "text/plain": [
       "Canvas(toolbar=Toolbar(toolitems=[('Home', 'Reset original view', 'home', 'home'), ('Back', 'Back to previous …"
      ]
     },
     "metadata": {},
     "output_type": "display_data"
    },
    {
     "data": {
      "application/vnd.jupyter.widget-view+json": {
       "model_id": "4957eaa15b9844038a47f2f677677b0b",
       "version_major": 2,
       "version_minor": 0
      },
      "text/plain": [
       "Canvas(toolbar=Toolbar(toolitems=[('Home', 'Reset original view', 'home', 'home'), ('Back', 'Back to previous …"
      ]
     },
     "metadata": {},
     "output_type": "display_data"
    },
    {
     "data": {
      "application/vnd.jupyter.widget-view+json": {
       "model_id": "f132d95add7b4185bd0b7bbfa7bcdf9e",
       "version_major": 2,
       "version_minor": 0
      },
      "text/plain": [
       "Canvas(toolbar=Toolbar(toolitems=[('Home', 'Reset original view', 'home', 'home'), ('Back', 'Back to previous …"
      ]
     },
     "metadata": {},
     "output_type": "display_data"
    }
   ],
   "source": [
    "wave_min = 260\n",
    "wave_max =  290\n",
    "title = \"Max. CD-Value between \" + str(wave_min) + \"nm - \" + str(wave_max) +\"nm\"\n",
    "\n",
    "for key in data_all.keys():\n",
    "    plot_data =  ana.max_wave(data_all[key].cd_df, wave_min=wave_min, wave_max=wave_max)\n",
    "    plot.mult_func([\"Value\"], [plot_data.T], subtitle=[\"\"], vertical_line=[melt_T[key]], title=title, label=[key, \"melting Temp.\"])\n",
    "\n"
   ]
  },
  {
   "cell_type": "markdown",
   "id": "illegal-screen",
   "metadata": {},
   "source": [
    "## Correlation Analyis"
   ]
  },
  {
   "cell_type": "markdown",
   "id": "honest-armstrong",
   "metadata": {},
   "source": [
    "<div class=\"alert alert-block alert-info\">\n",
    "<b>Info:</b> Noda, I. (2007). Two-dimensional correlation analysis useful for spectroscopy, chromatography, and other analytical measurements. Analytical Sciences, 23(2), 139–146. https://doi.org/10.2116/analsci.23.139\n",
    "</div>"
   ]
  },
  {
   "cell_type": "markdown",
   "id": "distant-steering",
   "metadata": {},
   "source": [
    "<div class=\"alert alert-block alert-info\">\n",
    "<b>Info:</b> Noda, I. (2015). Techniques of two-dimensional (2D) correlation spectroscopy useful in life science research. Biomedical Spectroscopy and Imaging, 4(2), 109–127. https://doi.org/10.3233/bsi-150105\n",
    "</div>"
   ]
  },
  {
   "cell_type": "markdown",
   "id": "copyrighted-jordan",
   "metadata": {},
   "source": [
    "Projection Matrix"
   ]
  },
  {
   "cell_type": "code",
   "execution_count": 8,
   "id": "portuguese-shoulder",
   "metadata": {},
   "outputs": [
    {
     "name": "stdout",
     "output_type": "stream",
     "text": [
      "(16, 1) (16, 131)\n",
      "[[-6.42816]\n",
      " [-6.21929]\n",
      " [-6.02504]\n",
      " [-5.96357]\n",
      " [-5.65723]\n",
      " [-5.50681]\n",
      " [-5.32867]\n",
      " [-5.2065 ]\n",
      " [-5.06574]\n",
      " [-4.50403]\n",
      " [-3.73564]\n",
      " [-2.87439]\n",
      " [-2.72282]\n",
      " [-2.52644]\n",
      " [-2.28546]\n",
      " [-2.12292]]\n"
     ]
    }
   ],
   "source": [
    "test = data_all[\"Control_0M\"].cd_df.to_numpy()\n",
    "test = test[47:48].T\n",
    "data = data_all[\"Control_0M\"].cd_df.T.to_numpy()\n",
    "print(test.shape, data.shape )\n",
    "print(test)"
   ]
  },
  {
   "cell_type": "code",
   "execution_count": 9,
   "id": "dental-array",
   "metadata": {},
   "outputs": [
    {
     "data": {
      "application/vnd.jupyter.widget-view+json": {
       "model_id": "4bbb57b3324844f1b16bccb412f4144f",
       "version_major": 2,
       "version_minor": 0
      },
      "text/plain": [
       "Canvas(toolbar=Toolbar(toolitems=[('Home', 'Reset original view', 'home', 'home'), ('Back', 'Back to previous …"
      ]
     },
     "metadata": {},
     "output_type": "display_data"
    }
   ],
   "source": [
    "U = np.linalg.inv(np.dot(test.T, test))\n",
    "R = np.dot(test, np.dot(U, test.T))\n",
    "Null = np.diag([1]*16) - R\n",
    "\n",
    "alpha = 0\n",
    "data_alpha = np.dot(Null + alpha*R, data)\n",
    "df = pd.DataFrame(data_alpha, dtype='float64')\n",
    "\n",
    "plot.heatmap(df.T, x_min=[20] )\n",
    "\n"
   ]
  },
  {
   "cell_type": "code",
   "execution_count": 10,
   "id": "suburban-apartment",
   "metadata": {},
   "outputs": [
    {
     "data": {
      "application/vnd.jupyter.widget-view+json": {
       "model_id": "3ee307da164b48a182ff1cdf315c15eb",
       "version_major": 2,
       "version_minor": 0
      },
      "text/plain": [
       "Canvas(toolbar=Toolbar(toolitems=[('Home', 'Reset original view', 'home', 'home'), ('Back', 'Back to previous …"
      ]
     },
     "metadata": {},
     "output_type": "display_data"
    }
   ],
   "source": [
    "U = test/np.linalg.norm(test)\n",
    "loading_vector = np.dot(data.T, U)\n",
    "\n",
    "for i in range(loading_vector.shape[0]):\n",
    "    if loading_vector[i] <= 0:\n",
    "        loading_vector[i] = 0\n",
    "data_plus = np.dot(U, loading_vector.T)\n",
    "\n",
    "alpha = 0\n",
    "data_alpha_plus = data - (1 - alpha)*data_plus\n",
    "df = pd.DataFrame(data_alpha_plus, dtype='float64')\n",
    "\n",
    "plot.heatmap(df.T, x_min=[20] )"
   ]
  },
  {
   "cell_type": "code",
   "execution_count": 11,
   "id": "impressed-runner",
   "metadata": {},
   "outputs": [
    {
     "data": {
      "application/vnd.jupyter.widget-view+json": {
       "model_id": "d1be943dfc2f47fa9153a44c4a0d25b1",
       "version_major": 2,
       "version_minor": 0
      },
      "text/plain": [
       "Canvas(toolbar=Toolbar(toolitems=[('Home', 'Reset original view', 'home', 'home'), ('Back', 'Back to previous …"
      ]
     },
     "metadata": {},
     "output_type": "display_data"
    }
   ],
   "source": [
    "data  = data_all[\"Control_0M\"].cd_df\n",
    "sync, assync = ana.correlation(data, projection=True, proj_rows=[247,247])\n",
    "plot.heatmap(sync, assync, x_min=[210, 210], y_min=[210,210])"
   ]
  },
  {
   "cell_type": "markdown",
   "id": "physical-titanium",
   "metadata": {},
   "source": [
    "### Test unevenly spaced data"
   ]
  },
  {
   "cell_type": "code",
   "execution_count": 9,
   "id": "technical-employee",
   "metadata": {},
   "outputs": [
    {
     "name": "stdout",
     "output_type": "stream",
     "text": [
      "[[1]\n",
      " [2]\n",
      " [3]]\n",
      "[[ 1  2  3]\n",
      " [ 8 10 12]\n",
      " [21 24 27]]\n"
     ]
    }
   ],
   "source": [
    "test_mat = np.array([[1, 2, 3], [4, 5, 6], [7,8,9]])\n",
    "test_vect = np.array([[1],[2],[3]])\n",
    "print(test_vect)\n",
    "print(test_mat*test_vect)"
   ]
  },
  {
   "cell_type": "code",
   "execution_count": 13,
   "id": "changed-milton",
   "metadata": {},
   "outputs": [
    {
     "name": "stdout",
     "output_type": "stream",
     "text": [
      "[[ 10]\n",
      " [ 20]\n",
      " [ 30]\n",
      " [ 40]\n",
      " [ 45]\n",
      " [ 50]\n",
      " [ 53]\n",
      " [ 56]\n",
      " [ 58]\n",
      " [ 60]\n",
      " [ 62]\n",
      " [ 64]\n",
      " [ 67]\n",
      " [ 70]\n",
      " [ 75]\n",
      " [ 80]\n",
      " [ 90]\n",
      " [100]]\n"
     ]
    }
   ],
   "source": [
    "col = test.columns\n",
    "T = list(col)\n",
    "T = [2*T[0] - T[1]] + T + [T[-1]*2 - T[-2]]\n",
    "print(np.reshape(T,(len(T), 1)))"
   ]
  },
  {
   "cell_type": "code",
   "execution_count": 9,
   "id": "diverse-blond",
   "metadata": {},
   "outputs": [
    {
     "name": "stdout",
     "output_type": "stream",
     "text": [
      "Index([20, 30, 40, 45, 50, 53, 56, 58, 60, 62, 64, 67, 70, 75, 80, 90], dtype='object')\n",
      "Index([20, 30, 40, 45, 50, 56, 58, 60, 62, 64, 67, 70, 75, 80, 90], dtype='object')\n",
      "Index([20, 30, 40, 45, 50, 53, 58, 60, 62, 64, 67, 70, 75, 80, 90], dtype='object')\n",
      "(131, 14)\n"
     ]
    }
   ],
   "source": [
    "print(data_all[\"GdmCl_4M\"].cd_df.columns)\n",
    "print(data_all[\"GdmCl_2M\"].cd_df.columns)\n",
    "print(data_all[\"Gdm2SO4_4M\"].cd_df.columns)\n",
    "\n",
    "df = pd.concat([data_all[\"GdmCl_2M\"].cd_df, data_all[\"Gdm2SO4_4M\"].cd_df], join='inner' )\n",
    "col = pd.concat([data_all[\"GdmCl_2M\"].cd_df, data_all[\"Gdm2SO4_4M\"].cd_df], join='inner').columns\n",
    "print(data_all[\"GdmCl_4M\"].cd_df.loc[:, col].shape)"
   ]
  },
  {
   "cell_type": "code",
   "execution_count": 20,
   "id": "metropolitan-blogger",
   "metadata": {},
   "outputs": [
    {
     "name": "stdout",
     "output_type": "stream",
     "text": [
      "[20 20 15 10 11 8 4 4 4 5 6 8 10 15 20]\n",
      "[[20 40 45 ... 130 210 300]\n",
      " [320 340 270 ... 280 435 600]\n",
      " [620 640 495 ... 430 660 900]\n",
      " ...\n",
      " [38420 38440 28845 ... 19330 29010 38700]\n",
      " [38720 38740 29070 ... 19480 29235 39000]\n",
      " [39020 39040 29295 ... 19630 29460 39300]]\n"
     ]
    }
   ],
   "source": [
    "test_arr = np.reshape(np.arange(1, 131*15 + 1), (131,15))\n",
    "arr = np.arange(1, 15+1)\n",
    "temp_list = np.array(data_all[\"GdmCl_2M\"].cd_df.columns)\n",
    "temp_list = np.insert(temp_list, 0, 2 * temp_list[0] - temp_list[1])\n",
    "temp_list = np.append(temp_list, temp_list[-1] * 2 - temp_list[-2])\n",
    "test = np.array([temp_list[arr+1]]- temp_list[arr-1])\n",
    "print(*test)\n",
    "print(test_arr*test)"
   ]
  },
  {
   "cell_type": "code",
   "execution_count": 11,
   "id": "skilled-lesbian",
   "metadata": {},
   "outputs": [
    {
     "name": "stdout",
     "output_type": "stream",
     "text": [
      "160\n"
     ]
    }
   ],
   "source": [
    "print((2 * (temp_list[-2] - temp_list[0])))"
   ]
  },
  {
   "cell_type": "code",
   "execution_count": 17,
   "id": "built-iceland",
   "metadata": {},
   "outputs": [
    {
     "name": "stdout",
     "output_type": "stream",
     "text": [
      "[-0.3183098861837907 0.0 0.2785211504108168 0.15915494309189535\n",
      " 0.1233450808962189 0.08569881551102056 0.068209261325098\n",
      " 0.06366197723675814 0.05968310365946076 0.058512846724961515\n",
      " 0.05591930432958485 0.05570423008216337 0.05305164769729844\n",
      " 0.05570423008216337]\n"
     ]
    }
   ],
   "source": [
    "# creating Hilbert-Noda-matrix for async spectrum\n",
    "arr = np.arange(1, len(col) + 1, dtype=int)\n",
    "h_n_m = temp_list[arr] - np.array([temp_list[arr]]).T + np.identity(len(col), dtype=int)\n",
    "h_n_m = 1 / (2* np.pi * h_n_m)\n",
    "h_n_m = h_n_m * np.array([temp_list[arr+1]-temp_list[arr-1]])\n",
    "h_n_m = (h_n_m - h_n_m.T) / 2\n"
   ]
  },
  {
   "cell_type": "markdown",
   "id": "verbal-imperial",
   "metadata": {},
   "source": [
    "### Homogenous Spectrum\n",
    "\n",
    "*with pareto scaling and Control Measurement as Reference*"
   ]
  },
  {
   "cell_type": "code",
   "execution_count": 38,
   "id": "tight-disease",
   "metadata": {},
   "outputs": [
    {
     "name": "stdout",
     "output_type": "stream",
     "text": [
      "[[20.0 40.0 45.0 40.0 55.0 48.0 28.0 32.0 36.0 50.0 66.0 96.0 130.0 210.0\n",
      "  300.0]]\n",
      "[1196.0]\n"
     ]
    }
   ],
   "source": [
    "vec1 = np.ones((1,15))\n",
    "vec2 = np.array([np.arange(1, 16)])\n",
    "print(vec1 * vec2 *test)\n",
    "print(np.sum(vec1 * vec2 * test , axis=1))"
   ]
  },
  {
   "cell_type": "code",
   "execution_count": 8,
   "id": "correct-defense",
   "metadata": {},
   "outputs": [
    {
     "name": "stdout",
     "output_type": "stream",
     "text": [
      "Index([20, 30, 40, 45, 50, 53, 56, 58, 60, 62, 64, 67, 70, 75, 80, 90], dtype='object') [[20]\n",
      " [20]\n",
      " [15]\n",
      " [10]\n",
      " [8]\n",
      " [6]\n",
      " [5]\n",
      " [4]\n",
      " [4]\n",
      " [4]\n",
      " [5]\n",
      " [6]\n",
      " [8]\n",
      " [10]\n",
      " [15]\n",
      " [20]]\n",
      "wavelength       200       201       202       203       204       205  \\\n",
      "wavelength                                                               \n",
      "200         0.016431  0.034715 -0.032652 -0.168387 -0.148805 -0.114502   \n",
      "201        -0.048580 -0.033194 -0.038944 -0.040392 -0.027301 -0.139915   \n",
      "202         0.006257 -0.007431 -0.030164  0.048616  0.073019 -0.027256   \n",
      "203         0.201838  0.096623 -0.073475 -0.050171 -0.035350  0.108428   \n",
      "204         0.231625  0.142840 -0.093225 -0.109041 -0.104796  0.207611   \n",
      "205         0.195084  0.238741  0.031324 -0.168753 -0.286856  0.002516   \n",
      "206        -0.010739  0.157794  0.148691  0.027460 -0.106242 -0.055340   \n",
      "207         0.004867  0.199251  0.161744 -0.034051 -0.159974 -0.113465   \n",
      "208         0.014370  0.191843  0.175313  0.015281 -0.122697 -0.083411   \n",
      "209         0.110725  0.202101  0.035363 -0.114796 -0.177880  0.027069   \n",
      "210         0.213159  0.237760  0.002684 -0.186349 -0.279535  0.113559   \n",
      "211         0.016925  0.085665  0.053140 -0.043996 -0.147189  0.070554   \n",
      "212        -0.064548  0.028554 -0.000604 -0.146546 -0.268868 -0.149833   \n",
      "213        -0.044390  0.042836 -0.003457 -0.153109 -0.268400 -0.204116   \n",
      "214        -0.057621  0.035830 -0.019450 -0.149091 -0.258187 -0.144559   \n",
      "215        -0.032649  0.078222 -0.000789 -0.172317 -0.297638 -0.152881   \n",
      "216        -0.019248  0.127558  0.047079 -0.146656 -0.300627 -0.136295   \n",
      "217        -0.036808  0.116124  0.052993 -0.121825 -0.283553 -0.136231   \n",
      "218        -0.057063  0.097267  0.072194 -0.052799 -0.218769 -0.098450   \n",
      "219        -0.086630  0.088199  0.083987 -0.012149 -0.163286 -0.048029   \n",
      "220        -0.151120  0.083189  0.144345  0.083900 -0.039327  0.028525   \n",
      "221        -0.148043  0.062268  0.153129  0.147680  0.065806  0.100796   \n",
      "222        -0.137293  0.015704  0.141121  0.209933  0.172750  0.149303   \n",
      "223        -0.068802 -0.004532  0.106280  0.219948  0.210838  0.195411   \n",
      "224        -0.055801 -0.002873  0.112503  0.222268  0.216608  0.185483   \n",
      "225        -0.067324 -0.031628  0.107911  0.245407  0.248912  0.210222   \n",
      "226        -0.098638 -0.061677  0.117082  0.273300  0.274534  0.214547   \n",
      "227        -0.034352 -0.009293  0.098967  0.201983  0.187502  0.209870   \n",
      "228         0.031855  0.070599  0.073580  0.099239  0.072054  0.225061   \n",
      "229         0.091122  0.214864  0.041422 -0.097422 -0.169203  0.195367   \n",
      "230        -0.027863  0.157549  0.044941 -0.159185 -0.294993 -0.094145   \n",
      "231         0.006410  0.123457 -0.010309 -0.206683 -0.321409 -0.131714   \n",
      "232         0.029619  0.102319 -0.021335 -0.211867 -0.319254 -0.179384   \n",
      "233         0.066730  0.124282 -0.041792 -0.260143 -0.364096 -0.203708   \n",
      "234         0.040061  0.101595 -0.045331 -0.248670 -0.343361 -0.209288   \n",
      "235         0.029943  0.096738 -0.048845 -0.251166 -0.341019 -0.208384   \n",
      "236         0.031800  0.097038 -0.052190 -0.254429 -0.338773 -0.196853   \n",
      "237         0.036024  0.101531 -0.054547 -0.259446 -0.343653 -0.190629   \n",
      "238         0.043994  0.105038 -0.060603 -0.268908 -0.348761 -0.188316   \n",
      "239         0.046857  0.104303 -0.058940 -0.264408 -0.346324 -0.192172   \n",
      "240         0.047187  0.100699 -0.059378 -0.262461 -0.342808 -0.196950   \n",
      "241         0.051167  0.102376 -0.058612 -0.263609 -0.346343 -0.200174   \n",
      "242         0.056915  0.107928 -0.061888 -0.273420 -0.356314 -0.196340   \n",
      "243         0.056993  0.109821 -0.065367 -0.280755 -0.362162 -0.192871   \n",
      "244         0.060214  0.114374 -0.067513 -0.287260 -0.369077 -0.191611   \n",
      "245         0.060939  0.113013 -0.071497 -0.290875 -0.371165 -0.192634   \n",
      "246         0.059790  0.109557 -0.070018 -0.284777 -0.364792 -0.195895   \n",
      "247         0.057468  0.106747 -0.070210 -0.283583 -0.362383 -0.195721   \n",
      "248         0.049678  0.101492 -0.065730 -0.273407 -0.353161 -0.195945   \n",
      "249         0.045161  0.101283 -0.062104 -0.270145 -0.350997 -0.196138   \n",
      "250         0.043741  0.104806 -0.058133 -0.268343 -0.351622 -0.197249   \n",
      "251         0.040511  0.104274 -0.057158 -0.267620 -0.351481 -0.197999   \n",
      "252         0.038668  0.102793 -0.059811 -0.270752 -0.354922 -0.196756   \n",
      "253         0.032920  0.100176 -0.060338 -0.269782 -0.353671 -0.193306   \n",
      "254         0.024712  0.096603 -0.058574 -0.265700 -0.349375 -0.190056   \n",
      "255         0.008818  0.088497 -0.050710 -0.250487 -0.333359 -0.187433   \n",
      "256        -0.004352  0.087410 -0.042480 -0.240073 -0.322726 -0.187307   \n",
      "257        -0.032864  0.074269 -0.034839 -0.219907 -0.299127 -0.185145   \n",
      "258        -0.054005  0.069472 -0.033349 -0.208316 -0.274144 -0.166205   \n",
      "259        -0.101545  0.039081 -0.047404 -0.198876 -0.246306 -0.133489   \n",
      "260        -0.121711  0.036734 -0.040505 -0.176470 -0.224004 -0.095583   \n",
      "261        -0.114950  0.082107 -0.036681 -0.201186 -0.254193 -0.039502   \n",
      "262        -0.107647  0.115126 -0.009087 -0.161689 -0.227277  0.028227   \n",
      "263        -0.129200  0.109941 -0.002631 -0.149133 -0.205117  0.038043   \n",
      "264        -0.162163  0.092197  0.019931 -0.102085 -0.161621  0.058893   \n",
      "265        -0.162384  0.090138  0.012732 -0.121818 -0.188354  0.020673   \n",
      "266        -0.110057  0.139482  0.040106 -0.130099 -0.222743  0.005956   \n",
      "267        -0.125489  0.124707  0.027146 -0.121752 -0.211671  0.038085   \n",
      "268        -0.113502  0.119248  0.022709 -0.113250 -0.207581  0.037867   \n",
      "269        -0.148414  0.081011  0.013553 -0.083627 -0.170368  0.054264   \n",
      "270        -0.154272  0.071650  0.023188 -0.044694 -0.134211  0.080092   \n",
      "271        -0.132358  0.090622  0.038257 -0.040692 -0.142953  0.072946   \n",
      "272        -0.143256  0.076514  0.057487 -0.005544 -0.114152  0.062045   \n",
      "273        -0.117681  0.094073  0.063979 -0.040114 -0.167998  0.003916   \n",
      "274        -0.101803  0.103825  0.076147 -0.045546 -0.186326 -0.037444   \n",
      "275        -0.122493  0.076134  0.084378 -0.000027 -0.142372 -0.039868   \n",
      "276        -0.082329  0.112539  0.087051 -0.039922 -0.192738 -0.045000   \n",
      "277        -0.081883  0.116743  0.090334 -0.033244 -0.187943 -0.034899   \n",
      "278        -0.074854  0.111718  0.112656  0.005741 -0.142672 -0.007651   \n",
      "279        -0.095080  0.075301  0.141561  0.114462 -0.024062  0.051787   \n",
      "280        -0.110641  0.032913  0.154050  0.189442  0.077163  0.080756   \n",
      "281        -0.136540 -0.033962  0.171507  0.287827  0.207978  0.094351   \n",
      "282        -0.150035 -0.070555  0.194888  0.351489  0.296569  0.093879   \n",
      "283        -0.106125 -0.076033  0.173400  0.356472  0.325759  0.133970   \n",
      "284        -0.100319 -0.089261  0.165704  0.369899  0.338520  0.141316   \n",
      "285        -0.116628 -0.124982  0.153035  0.386976  0.360575  0.156133   \n",
      "286        -0.183873 -0.173666  0.176582  0.447126  0.419693  0.141236   \n",
      "287        -0.194874 -0.179064  0.204665  0.462232  0.403861  0.071149   \n",
      "288        -0.187036 -0.160404  0.244379  0.482653  0.391485  0.016387   \n",
      "289        -0.116016 -0.088187  0.231891  0.382656  0.238823 -0.053687   \n",
      "290        -0.099122 -0.058470  0.167481  0.225003  0.083206 -0.124566   \n",
      "291        -0.012552  0.020821  0.125131  0.079743 -0.067454 -0.135629   \n",
      "292         0.025283  0.043447  0.107339  0.036412 -0.085614 -0.131002   \n",
      "293         0.008095 -0.005489  0.112784  0.076625 -0.035607 -0.151858   \n",
      "294         0.020339 -0.064382  0.110452  0.133956  0.038889 -0.211897   \n",
      "295         0.101137 -0.064758  0.093952  0.127420  0.040988 -0.241336   \n",
      "296         0.142297 -0.070196  0.071575  0.128024  0.056809 -0.242340   \n",
      "297         0.166672 -0.053467  0.099100  0.170586  0.110239 -0.193393   \n",
      "298         0.115330 -0.060026  0.112640  0.257114  0.213511 -0.053681   \n",
      "299         0.105670 -0.058922  0.102521  0.218057  0.199592 -0.053150   \n",
      "300         0.107624 -0.040869  0.075792  0.191228  0.200631  0.039559   \n",
      "301         0.021076 -0.110238  0.111537  0.304688  0.338826  0.071932   \n",
      "302         0.015827 -0.138576  0.124265  0.364695  0.410084  0.095237   \n",
      "303        -0.040176 -0.184391  0.130645  0.422099  0.486030  0.099749   \n",
      "304        -0.060826 -0.203552  0.134078  0.424110  0.494595  0.087650   \n",
      "305        -0.078103 -0.218971  0.115019  0.399272  0.493318  0.062386   \n",
      "306        -0.017892 -0.164670  0.127890  0.373307  0.447295  0.050802   \n",
      "307        -0.007978 -0.143171  0.131592  0.354925  0.433971  0.050922   \n",
      "308        -0.034460 -0.168062  0.133376  0.384807  0.460970  0.029810   \n",
      "309        -0.059551 -0.189727  0.130298  0.396017  0.467224  0.043586   \n",
      "310        -0.064213 -0.194250  0.117099  0.381130  0.441863  0.053449   \n",
      "311        -0.034689 -0.147250  0.111397  0.325223  0.371317  0.046993   \n",
      "312        -0.062380 -0.179615  0.110369  0.355167  0.413768  0.056099   \n",
      "313        -0.038289 -0.145678  0.108644  0.337341  0.401371  0.066621   \n",
      "314        -0.066176 -0.188345  0.100208  0.367352  0.449205  0.064720   \n",
      "315        -0.100936 -0.212806  0.106296  0.397272  0.480655  0.080673   \n",
      "316        -0.136501 -0.237324  0.126765  0.432048  0.510606  0.050055   \n",
      "317        -0.152651 -0.247621  0.132787  0.453398  0.522162  0.059518   \n",
      "318        -0.098780 -0.191299  0.152723  0.430833  0.481789  0.064583   \n",
      "319        -0.022071 -0.162042  0.130004  0.386685  0.444779  0.071174   \n",
      "320         0.022870 -0.135597  0.118275  0.346998  0.405007  0.066813   \n",
      "321         0.028333 -0.150868  0.095280  0.334528  0.398175  0.057882   \n",
      "322         0.015354 -0.157043  0.081011  0.329994  0.395892  0.065655   \n",
      "323        -0.026728 -0.197978  0.062060  0.337777  0.409136  0.080322   \n",
      "324        -0.059603 -0.207364  0.064995  0.340801  0.425388  0.071156   \n",
      "325        -0.075348 -0.211320  0.054610  0.319252  0.417195  0.066156   \n",
      "326        -0.065583 -0.196721  0.045855  0.290324  0.392921  0.054784   \n",
      "327        -0.001851 -0.172942  0.015030  0.225330  0.326701  0.015782   \n",
      "328         0.022512 -0.136298  0.043065  0.226066  0.311916  0.007038   \n",
      "329         0.028854 -0.108449  0.055998  0.204666  0.285115  0.002438   \n",
      "330        -0.014346 -0.112863  0.092751  0.239724  0.322210  0.027261   \n",
      "\n",
      "wavelength       206       207       208       209  ...       321       322  \\\n",
      "wavelength                                          ...                       \n",
      "200         0.025494  0.018634 -0.015067 -0.044613  ... -0.160350 -0.137324   \n",
      "201        -0.148875 -0.170875 -0.166235 -0.099789  ...  0.028547  0.047463   \n",
      "202        -0.161751 -0.159049 -0.168955 -0.027011  ... -0.110851 -0.091632   \n",
      "203        -0.017379  0.027769 -0.036550  0.019018  ... -0.337592 -0.339568   \n",
      "204         0.136908  0.144565  0.079951  0.017677  ... -0.457381 -0.465627   \n",
      "205         0.098203  0.101670  0.042699 -0.120912  ... -0.212599 -0.218915   \n",
      "206         0.011745 -0.061389 -0.046461 -0.161336  ...  0.126410  0.117906   \n",
      "207         0.053199 -0.010875 -0.049457 -0.140940  ...  0.057008  0.048678   \n",
      "208         0.029626  0.019719 -0.017495 -0.075404  ...  0.073531  0.062562   \n",
      "209         0.155942  0.109307  0.024944 -0.064480  ... -0.239783 -0.262769   \n",
      "210         0.331615  0.299380  0.233312 -0.003974  ... -0.379529 -0.417455   \n",
      "211         0.216666  0.175045  0.202221 -0.018274  ...  0.015830 -0.024735   \n",
      "212         0.055044  0.048954  0.067423 -0.123530  ...  0.277255  0.245932   \n",
      "213        -0.018697 -0.044737 -0.024768 -0.196436  ...  0.272627  0.251595   \n",
      "214         0.028770 -0.000576  0.017804 -0.166846  ...  0.242947  0.217474   \n",
      "215         0.050456  0.012061  0.016122 -0.193144  ...  0.229451  0.200133   \n",
      "216         0.078244  0.029029  0.026217 -0.201265  ...  0.244126  0.208290   \n",
      "217         0.088726  0.033313  0.040597 -0.184598  ...  0.259141  0.220407   \n",
      "218         0.068626  0.022787  0.049145 -0.153665  ...  0.294115  0.254894   \n",
      "219         0.122812  0.055259  0.084390 -0.111798  ...  0.262974  0.222663   \n",
      "220         0.153617  0.064426  0.099114 -0.054618  ...  0.234944  0.206913   \n",
      "221         0.187423  0.088540  0.122518  0.019950  ...  0.147029  0.123985   \n",
      "222         0.174641  0.084935  0.125563  0.090790  ...  0.088896  0.069710   \n",
      "223         0.164364  0.112832  0.147316  0.151163  ...  0.013568 -0.003847   \n",
      "224         0.145810  0.110933  0.138606  0.164611  ...  0.000384 -0.014437   \n",
      "225         0.129441  0.133824  0.161497  0.221979  ...  0.001323 -0.011444   \n",
      "226         0.116383  0.136017  0.178208  0.248587  ...  0.047097  0.034164   \n",
      "227         0.154945  0.171437  0.193778  0.216012  ... -0.029211 -0.047000   \n",
      "228         0.235797  0.215368  0.205795  0.150404  ... -0.154689 -0.180340   \n",
      "229         0.356866  0.246457  0.183897 -0.032091  ... -0.266977 -0.314069   \n",
      "230         0.105427  0.016019 -0.002313 -0.227765  ...  0.122670  0.087187   \n",
      "231         0.057760  0.005229 -0.019505 -0.218350  ...  0.103579  0.070819   \n",
      "232        -0.007727 -0.036910 -0.052724 -0.230003  ...  0.140490  0.117472   \n",
      "233        -0.007606 -0.040043 -0.070737 -0.255869  ...  0.085051  0.065158   \n",
      "234        -0.020733 -0.053369 -0.076170 -0.249631  ...  0.107454  0.092975   \n",
      "235        -0.012301 -0.055090 -0.075513 -0.253708  ...  0.101303  0.087331   \n",
      "236        -0.004275 -0.049061 -0.070683 -0.251365  ...  0.084533  0.070910   \n",
      "237         0.002006 -0.044071 -0.068014 -0.251900  ...  0.070018  0.055237   \n",
      "238         0.003571 -0.042224 -0.070860 -0.254076  ...  0.054818  0.040852   \n",
      "239        -0.005858 -0.048491 -0.075411 -0.255185  ...  0.062716  0.049321   \n",
      "240        -0.015004 -0.053636 -0.079982 -0.253872  ...  0.067846  0.055940   \n",
      "241        -0.015933 -0.053605 -0.078957 -0.255521  ...  0.069605  0.057636   \n",
      "242        -0.005345 -0.044947 -0.073646 -0.257469  ...  0.057529  0.044278   \n",
      "243         0.003717 -0.038567 -0.069882 -0.257962  ...  0.047735  0.033451   \n",
      "244         0.009439 -0.035773 -0.069341 -0.261765  ...  0.037921  0.022769   \n",
      "245         0.009213 -0.035143 -0.069096 -0.260727  ...  0.030119  0.015422   \n",
      "246         0.001195 -0.041936 -0.073933 -0.260501  ...  0.038535  0.024368   \n",
      "247        -0.000967 -0.042307 -0.074089 -0.258508  ...  0.042509  0.028825   \n",
      "248        -0.005013 -0.046932 -0.075081 -0.256782  ...  0.059254  0.045222   \n",
      "249        -0.005230 -0.046861 -0.074450 -0.255336  ...  0.064188  0.050304   \n",
      "250        -0.004375 -0.048193 -0.075381 -0.258084  ...  0.065521  0.051647   \n",
      "251        -0.003674 -0.047207 -0.074112 -0.256625  ...  0.067088  0.053452   \n",
      "252         0.002156 -0.040838 -0.068128 -0.253109  ...  0.064384  0.049806   \n",
      "253         0.008647 -0.035710 -0.062095 -0.249342  ...  0.066018  0.051029   \n",
      "254         0.011932 -0.032771 -0.057769 -0.244639  ...  0.069881  0.054436   \n",
      "255         0.008610 -0.036740 -0.056810 -0.238728  ...  0.088538  0.073976   \n",
      "256         0.007572 -0.043952 -0.062376 -0.240642  ...  0.097268  0.082526   \n",
      "257         0.005368 -0.052261 -0.064374 -0.233357  ...  0.113433  0.099661   \n",
      "258         0.021938 -0.056658 -0.067150 -0.230906  ...  0.080805  0.067369   \n",
      "259         0.055063 -0.035040 -0.040766 -0.201940  ...  0.067410  0.052919   \n",
      "260         0.090314 -0.017638 -0.014534 -0.190106  ...  0.057263  0.039117   \n",
      "261         0.192716  0.040412  0.036917 -0.199388  ... -0.044007 -0.068361   \n",
      "262         0.256348  0.074486  0.082425 -0.190569  ... -0.085818 -0.112481   \n",
      "263         0.262021  0.069894  0.078422 -0.184459  ... -0.098736 -0.122539   \n",
      "264         0.257783  0.073679  0.089947 -0.154149  ... -0.051784 -0.077256   \n",
      "265         0.223820  0.053244  0.061844 -0.169259  ... -0.030212 -0.058054   \n",
      "266         0.235403  0.065973  0.062558 -0.187585  ... -0.035855 -0.069222   \n",
      "267         0.261124  0.102036  0.098977 -0.151225  ... -0.033857 -0.070186   \n",
      "268         0.255029  0.097191  0.101593 -0.153042  ... -0.016808 -0.056101   \n",
      "269         0.241889  0.092906  0.113846 -0.125662  ...  0.013906 -0.022928   \n",
      "270         0.236009  0.086679  0.117157 -0.113816  ...  0.044064  0.004152   \n",
      "271         0.226431  0.079267  0.109000 -0.129086  ...  0.065845  0.026549   \n",
      "272         0.205036  0.073003  0.112269 -0.110722  ...  0.132422  0.095743   \n",
      "273         0.182715  0.065036  0.097556 -0.137166  ...  0.162178  0.123809   \n",
      "274         0.158606  0.048953  0.084282 -0.151063  ...  0.178509  0.142363   \n",
      "275         0.116823  0.016688  0.066666 -0.137513  ...  0.228905  0.192006   \n",
      "276         0.153403  0.056294  0.089361 -0.139626  ...  0.172888  0.132591   \n",
      "277         0.168628  0.073833  0.099752 -0.124555  ...  0.174561  0.130431   \n",
      "278         0.193896  0.097556  0.125232 -0.088356  ...  0.180504  0.131130   \n",
      "279         0.162957  0.083763  0.135817 -0.031295  ...  0.242102  0.198019   \n",
      "280         0.137530  0.068013  0.128982  0.028521  ...  0.240096  0.195679   \n",
      "281         0.057693  0.024867  0.102476  0.101305  ...  0.281849  0.246685   \n",
      "282         0.009268  0.007517  0.089595  0.162406  ...  0.307523  0.283808   \n",
      "283         0.003800  0.022102  0.092810  0.195432  ...  0.250184  0.230631   \n",
      "284        -0.007025  0.021328  0.101046  0.202631  ...  0.289091  0.271199   \n",
      "285        -0.029916  0.026683  0.113141  0.229952  ...  0.357391  0.338459   \n",
      "286        -0.077850 -0.003015  0.105294  0.258074  ...  0.467999  0.452817   \n",
      "287        -0.150582 -0.033638  0.081518  0.253532  ...  0.595613  0.588870   \n",
      "288        -0.213360 -0.080096  0.039589  0.219747  ...  0.694434  0.688290   \n",
      "289        -0.195957 -0.070023  0.038072  0.134575  ...  0.683641  0.671021   \n",
      "290        -0.153996 -0.087544 -0.000902  0.001053  ...  0.677668  0.655634   \n",
      "291        -0.089721 -0.052113  0.004769 -0.087798  ...  0.541393  0.516411   \n",
      "292        -0.100755 -0.062385 -0.025608 -0.113576  ...  0.474525  0.461470   \n",
      "293        -0.160047 -0.082789 -0.040127 -0.065181  ...  0.521911  0.508680   \n",
      "294        -0.301839 -0.164899 -0.111648 -0.032378  ...  0.595480  0.595134   \n",
      "295        -0.384820 -0.187052 -0.151126 -0.006970  ...  0.552348  0.557030   \n",
      "296        -0.413751 -0.199001 -0.167986  0.012532  ...  0.479337  0.487199   \n",
      "297        -0.393012 -0.174989 -0.150068  0.050353  ...  0.438135  0.447423   \n",
      "298        -0.283197 -0.113843 -0.082192  0.127986  ...  0.326488  0.322480   \n",
      "299        -0.238505 -0.066353 -0.061778  0.163456  ...  0.246990  0.247231   \n",
      "300        -0.111713  0.002944 -0.002168  0.174416  ...  0.096925  0.087412   \n",
      "301        -0.161117 -0.031355 -0.005077  0.234746  ...  0.195287  0.198476   \n",
      "302        -0.193599 -0.058601 -0.006335  0.253610  ...  0.226641  0.238947   \n",
      "303        -0.241844 -0.111665 -0.040585  0.263190  ...  0.279414  0.297569   \n",
      "304        -0.258921 -0.119827 -0.044027  0.269927  ...  0.307925  0.329863   \n",
      "305        -0.257997 -0.136891 -0.067290  0.257246  ...  0.282514  0.307851   \n",
      "306        -0.258131 -0.131877 -0.080324  0.229194  ...  0.256533  0.281753   \n",
      "307        -0.245314 -0.136203 -0.095541  0.207197  ...  0.219658  0.247477   \n",
      "308        -0.290176 -0.173033 -0.120495  0.211722  ...  0.265568  0.297065   \n",
      "309        -0.276490 -0.141821 -0.084051  0.249342  ...  0.284737  0.312554   \n",
      "310        -0.249778 -0.096859 -0.040491  0.278172  ...  0.281535  0.304839   \n",
      "311        -0.196690 -0.055299 -0.022746  0.262116  ...  0.206995  0.221248   \n",
      "312        -0.217003 -0.070921 -0.027399  0.279199  ...  0.239515  0.254137   \n",
      "313        -0.185320 -0.073755 -0.039454  0.248623  ...  0.172305  0.187894   \n",
      "314        -0.229985 -0.106152 -0.057035  0.263576  ...  0.210025  0.232416   \n",
      "315        -0.229174 -0.101516 -0.041901  0.286087  ...  0.258444  0.280942   \n",
      "316        -0.285936 -0.139392 -0.067923  0.292939  ...  0.332335  0.360922   \n",
      "317        -0.279181 -0.131916 -0.050910  0.304913  ...  0.363292  0.386433   \n",
      "318        -0.239865 -0.113803 -0.040611  0.274292  ...  0.295585  0.314063   \n",
      "319        -0.236695 -0.113918 -0.053683  0.239717  ...  0.242166  0.260527   \n",
      "320        -0.228085 -0.102349 -0.055379  0.224335  ...  0.187428  0.208105   \n",
      "321        -0.254827 -0.107606 -0.057888  0.231506  ...  0.191149  0.220570   \n",
      "322        -0.238098 -0.086227 -0.040490  0.256086  ...  0.157513  0.188602   \n",
      "323        -0.228695 -0.060904 -0.006557  0.297862  ...  0.166107  0.193530   \n",
      "324        -0.234721 -0.085629 -0.036090  0.285033  ...  0.166050  0.193151   \n",
      "325        -0.227193 -0.095161 -0.053923  0.269625  ...  0.138696  0.162593   \n",
      "326        -0.208845 -0.095892 -0.063458  0.247314  ...  0.106910  0.131085   \n",
      "327        -0.219020 -0.092475 -0.072959  0.218500  ...  0.061694  0.090932   \n",
      "328        -0.209698 -0.088183 -0.070350  0.195681  ...  0.090104  0.124189   \n",
      "329        -0.176734 -0.058526 -0.046883  0.194051  ...  0.065482  0.104859   \n",
      "330        -0.142416 -0.039348 -0.028748  0.218500  ...  0.085843  0.114980   \n",
      "\n",
      "wavelength       323       324       325       326       327       328  \\\n",
      "wavelength                                                               \n",
      "200        -0.098504 -0.072987 -0.055515 -0.056216 -0.109536 -0.132181   \n",
      "201         0.090775  0.091806  0.094019  0.083857  0.068095  0.035228   \n",
      "202        -0.064234 -0.073117 -0.067733 -0.064720 -0.034727 -0.060593   \n",
      "203        -0.343276 -0.345278 -0.324020 -0.301786 -0.238603 -0.238481   \n",
      "204        -0.475478 -0.491260 -0.482078 -0.467485 -0.399984 -0.381720   \n",
      "205        -0.230489 -0.223870 -0.218026 -0.211934 -0.164646 -0.152393   \n",
      "206         0.113093  0.112367  0.102150  0.079810  0.093405  0.087594   \n",
      "207         0.031550  0.050956  0.056594  0.052809  0.048037  0.039683   \n",
      "208         0.036261  0.064852  0.079878  0.083540  0.087110  0.078475   \n",
      "209        -0.296860 -0.282861 -0.267622 -0.253017 -0.228394 -0.211502   \n",
      "210        -0.466016 -0.453920 -0.435458 -0.426348 -0.414893 -0.373365   \n",
      "211        -0.069411 -0.068864 -0.079304 -0.093826 -0.083306 -0.035643   \n",
      "212         0.233566  0.239025  0.230746  0.210471  0.178507  0.189492   \n",
      "213         0.253697  0.256966  0.245411  0.223747  0.198164  0.202606   \n",
      "214         0.222076  0.221808  0.212359  0.187325  0.155881  0.154128   \n",
      "215         0.199175  0.202948  0.196098  0.172953  0.143616  0.143552   \n",
      "216         0.196550  0.202311  0.198258  0.174633  0.147295  0.146464   \n",
      "217         0.206330  0.209248  0.205066  0.178894  0.146474  0.143144   \n",
      "218         0.241369  0.242522  0.238509  0.208744  0.181291  0.173313   \n",
      "219         0.206911  0.204087  0.200179  0.168423  0.129151  0.117066   \n",
      "220         0.191778  0.188371  0.179494  0.147262  0.104739  0.089794   \n",
      "221         0.103529  0.094087  0.085845  0.058479  0.017844  0.004581   \n",
      "222         0.047033  0.032779  0.027403  0.005842 -0.029875 -0.042546   \n",
      "223        -0.029265 -0.044654 -0.042944 -0.055061 -0.077908 -0.088927   \n",
      "224        -0.039424 -0.047698 -0.039978 -0.047373 -0.069357 -0.083217   \n",
      "225        -0.038344 -0.041504 -0.029475 -0.031109 -0.047502 -0.061535   \n",
      "226         0.008114  0.008022  0.020328  0.016842 -0.001248 -0.016469   \n",
      "227        -0.079230 -0.078204 -0.064218 -0.064299 -0.073761 -0.078899   \n",
      "228        -0.212074 -0.212567 -0.195613 -0.197376 -0.206374 -0.208315   \n",
      "229        -0.350153 -0.354292 -0.340686 -0.350538 -0.359432 -0.348785   \n",
      "230         0.079378  0.084674  0.080033  0.055287  0.039831  0.042965   \n",
      "231         0.067115  0.075532  0.075339  0.057987  0.045843  0.051779   \n",
      "232         0.119729  0.128448  0.125271  0.110775  0.103499  0.110773   \n",
      "233         0.071554  0.080879  0.079769  0.068347  0.061257  0.067648   \n",
      "234         0.104252  0.111237  0.105846  0.092980  0.082720  0.087437   \n",
      "235         0.100684  0.106334  0.099294  0.084728  0.071329  0.076023   \n",
      "236         0.084051  0.089699  0.081885  0.067745  0.056566  0.063801   \n",
      "237         0.067282  0.073130  0.065681  0.051882  0.042853  0.051864   \n",
      "238         0.053325  0.059011  0.051691  0.039121  0.031533  0.041136   \n",
      "239         0.062384  0.068018  0.060862  0.048256  0.041762  0.050334   \n",
      "240         0.069950  0.075878  0.068735  0.056727  0.050444  0.058329   \n",
      "241         0.071362  0.077442  0.070292  0.058202  0.052102  0.060456   \n",
      "242         0.057031  0.063230  0.056528  0.044757  0.038660  0.048164   \n",
      "243         0.045618  0.051819  0.045315  0.033682  0.026998  0.037392   \n",
      "244         0.034610  0.040748  0.034507  0.022899  0.016531  0.027482   \n",
      "245         0.027749  0.034024  0.027855  0.016617  0.010523  0.021955   \n",
      "246         0.037140  0.043155  0.036866  0.025553  0.019703  0.030311   \n",
      "247         0.041773  0.047893  0.041354  0.030277  0.024610  0.035172   \n",
      "248         0.058024  0.063617  0.056509  0.044485  0.037970  0.047747   \n",
      "249         0.062811  0.068931  0.061708  0.049559  0.042727  0.052499   \n",
      "250         0.063846  0.069952  0.062388  0.049844  0.043015  0.052959   \n",
      "251         0.065679  0.071984  0.064328  0.051688  0.044127  0.053964   \n",
      "252         0.061619  0.068134  0.061020  0.048359  0.039321  0.049204   \n",
      "253         0.062923  0.068951  0.061624  0.048298  0.037096  0.046499   \n",
      "254         0.065842  0.072100  0.064571  0.050834  0.038690  0.048418   \n",
      "255         0.085670  0.091899  0.083097  0.068280  0.054826  0.064000   \n",
      "256         0.094124  0.100468  0.091130  0.075297  0.060545  0.069121   \n",
      "257         0.112366  0.118027  0.107009  0.089357  0.071290  0.078528   \n",
      "258         0.081934  0.086205  0.073908  0.054106  0.033652  0.041546   \n",
      "259         0.067726  0.068264  0.052231  0.030138  0.003569  0.013971   \n",
      "260         0.051111  0.047673  0.028275  0.001803 -0.024855 -0.011211   \n",
      "261        -0.062680 -0.071045 -0.094436 -0.125714 -0.153881 -0.129674   \n",
      "262        -0.112102 -0.129380 -0.158575 -0.196536 -0.222009 -0.193192   \n",
      "263        -0.120617 -0.139068 -0.170269 -0.208916 -0.236087 -0.207340   \n",
      "264        -0.076460 -0.094042 -0.123384 -0.163432 -0.193324 -0.171537   \n",
      "265        -0.059043 -0.071622 -0.097913 -0.134123 -0.158529 -0.136095   \n",
      "266        -0.076000 -0.082170 -0.099675 -0.133433 -0.158895 -0.141604   \n",
      "267        -0.079642 -0.088386 -0.105331 -0.139279 -0.169572 -0.153285   \n",
      "268        -0.066331 -0.077900 -0.094706 -0.130357 -0.160557 -0.144947   \n",
      "269        -0.031733 -0.048106 -0.070643 -0.108701 -0.136125 -0.118047   \n",
      "270        -0.007074 -0.028228 -0.052060 -0.092696 -0.115841 -0.099617   \n",
      "271         0.014923 -0.006434 -0.030102 -0.071070 -0.091269 -0.077840   \n",
      "272         0.084584  0.063971  0.041080 -0.000279 -0.027749 -0.021427   \n",
      "273         0.110513  0.098050  0.080008  0.041747  0.011675  0.018214   \n",
      "274         0.128558  0.120924  0.104486  0.067808  0.037484  0.045010   \n",
      "275         0.179607  0.170608  0.154856  0.115977  0.088468  0.091184   \n",
      "276         0.116454  0.115551  0.107768  0.072925  0.041843  0.044937   \n",
      "277         0.108854  0.107567  0.102460  0.069848  0.036367  0.037712   \n",
      "278         0.101646  0.102358  0.102756  0.071567  0.030670  0.030116   \n",
      "279         0.167566  0.160462  0.156446  0.123858  0.091415  0.085359   \n",
      "280         0.161690  0.155414  0.157133  0.128072  0.096650  0.086818   \n",
      "281         0.211815  0.207542  0.210707  0.189126  0.169453  0.157224   \n",
      "282         0.250176  0.251291  0.258398  0.243844  0.221311  0.202769   \n",
      "283         0.200809  0.200117  0.212730  0.203921  0.186811  0.161534   \n",
      "284         0.243228  0.236460  0.245861  0.235069  0.216455  0.188458   \n",
      "285         0.306786  0.297047  0.302794  0.293440  0.281259  0.256561   \n",
      "286         0.422183  0.414642  0.416592  0.405176  0.390413  0.362848   \n",
      "287         0.564397  0.564605  0.568826  0.558674  0.538364  0.496690   \n",
      "288         0.666040  0.672620  0.681135  0.669774  0.649043  0.596434   \n",
      "289         0.653340  0.663334  0.677210  0.660568  0.630603  0.573388   \n",
      "290         0.646338  0.648753  0.655060  0.629684  0.582730  0.531581   \n",
      "291         0.509706  0.516570  0.522013  0.496549  0.456593  0.421895   \n",
      "292         0.463784  0.472318  0.475799  0.455560  0.423819  0.390302   \n",
      "293         0.509642  0.528397  0.540883  0.527173  0.498445  0.459470   \n",
      "294         0.607542  0.633283  0.654846  0.649954  0.626296  0.569512   \n",
      "295         0.563719  0.597865  0.629611  0.641524  0.643641  0.591247   \n",
      "296         0.489329  0.521603  0.554719  0.574785  0.593683  0.550391   \n",
      "297         0.439482  0.471168  0.505580  0.531271  0.557658  0.519588   \n",
      "298         0.303423  0.322173  0.357302  0.376455  0.401592  0.364190   \n",
      "299         0.226127  0.251605  0.292040  0.319975  0.333243  0.296609   \n",
      "300         0.060789  0.078028  0.115818  0.139325  0.147602  0.122896   \n",
      "301         0.174419  0.188013  0.215133  0.237471  0.249037  0.223667   \n",
      "302         0.223734  0.233563  0.256119  0.274184  0.288207  0.257969   \n",
      "303         0.287650  0.292166  0.307457  0.322520  0.341113  0.309335   \n",
      "304         0.320476  0.327197  0.339536  0.355158  0.374339  0.346757   \n",
      "305         0.303931  0.309875  0.321338  0.337674  0.346091  0.317389   \n",
      "306         0.277423  0.287231  0.305001  0.324231  0.336559  0.302082   \n",
      "307         0.248853  0.259719  0.279168  0.297969  0.307033  0.266795   \n",
      "308         0.301806  0.309328  0.325870  0.343419  0.355506  0.311148   \n",
      "309         0.312176  0.321265  0.338576  0.357171  0.368475  0.326614   \n",
      "310         0.297009  0.307177  0.324940  0.345510  0.357072  0.321877   \n",
      "311         0.205292  0.221644  0.246732  0.270643  0.279187  0.248697   \n",
      "312         0.239942  0.254864  0.278873  0.301171  0.307426  0.275989   \n",
      "313         0.176978  0.186785  0.209815  0.229791  0.232528  0.199099   \n",
      "314         0.226233  0.232373  0.249697  0.269481  0.276565  0.244544   \n",
      "315         0.272520  0.275384  0.287976  0.305861  0.312707  0.281803   \n",
      "316         0.355228  0.362216  0.372930  0.391187  0.400832  0.367322   \n",
      "317         0.376838  0.382785  0.393436  0.409249  0.418141  0.384906   \n",
      "318         0.302879  0.314433  0.331448  0.345984  0.354855  0.321612   \n",
      "319         0.251482  0.260028  0.278251  0.295061  0.313044  0.281647   \n",
      "320         0.201868  0.212109  0.233280  0.252896  0.273902  0.241967   \n",
      "321         0.219587  0.225826  0.241885  0.263275  0.289624  0.259199   \n",
      "322         0.191162  0.197387  0.216226  0.238467  0.258275  0.221556   \n",
      "323         0.195502  0.203058  0.223257  0.245248  0.260516  0.224737   \n",
      "324         0.196027  0.203359  0.222350  0.244491  0.258099  0.221830   \n",
      "325         0.164977  0.173423  0.192694  0.215299  0.228809  0.196542   \n",
      "326         0.134968  0.142018  0.160556  0.182816  0.192118  0.160176   \n",
      "327         0.098615  0.107269  0.127287  0.154517  0.165180  0.135701   \n",
      "328         0.130479  0.138199  0.154264  0.180926  0.189116  0.159244   \n",
      "329         0.109483  0.120962  0.134848  0.162715  0.164391  0.139834   \n",
      "330         0.107368  0.126010  0.143884  0.171521  0.167863  0.148363   \n",
      "\n",
      "wavelength       329       330  \n",
      "wavelength                      \n",
      "200        -0.124596 -0.083949  \n",
      "201         0.021419  0.029145  \n",
      "202        -0.065978 -0.091056  \n",
      "203        -0.216967 -0.250194  \n",
      "204        -0.351675 -0.393730  \n",
      "205        -0.141446 -0.184018  \n",
      "206         0.063238  0.022535  \n",
      "207         0.013920 -0.006808  \n",
      "208         0.051130  0.033698  \n",
      "209        -0.212073 -0.237679  \n",
      "210        -0.339279 -0.330110  \n",
      "211        -0.017745 -0.023068  \n",
      "212         0.187306  0.224086  \n",
      "213         0.189070  0.206671  \n",
      "214         0.134583  0.161416  \n",
      "215         0.122598  0.144245  \n",
      "216         0.120539  0.137023  \n",
      "217         0.115035  0.142304  \n",
      "218         0.138116  0.162190  \n",
      "219         0.074535  0.108091  \n",
      "220         0.034331  0.049502  \n",
      "221        -0.040917 -0.024348  \n",
      "222        -0.076379 -0.054708  \n",
      "223        -0.105906 -0.077661  \n",
      "224        -0.098567 -0.068342  \n",
      "225        -0.073341 -0.040499  \n",
      "226        -0.029542  0.007745  \n",
      "227        -0.080696 -0.048450  \n",
      "228        -0.206276 -0.178505  \n",
      "229        -0.350841 -0.343922  \n",
      "230         0.014042  0.004290  \n",
      "231         0.038349  0.038940  \n",
      "232         0.104287  0.102034  \n",
      "233         0.064910  0.063404  \n",
      "234         0.081008  0.079192  \n",
      "235         0.067497  0.066145  \n",
      "236         0.056208  0.051003  \n",
      "237         0.045860  0.038712  \n",
      "238         0.036383  0.027462  \n",
      "239         0.045335  0.036200  \n",
      "240         0.053429  0.044285  \n",
      "241         0.056297  0.047542  \n",
      "242         0.045141  0.036661  \n",
      "243         0.035020  0.026971  \n",
      "244         0.025412  0.016924  \n",
      "245         0.020491  0.012153  \n",
      "246         0.028372  0.020094  \n",
      "247         0.033057  0.024483  \n",
      "248         0.044416  0.036455  \n",
      "249         0.048592  0.040240  \n",
      "250         0.048422  0.038985  \n",
      "251         0.049145  0.040187  \n",
      "252         0.044696  0.038333  \n",
      "253         0.041360  0.037191  \n",
      "254         0.042846  0.039233  \n",
      "255         0.056094  0.051697  \n",
      "256         0.058638  0.052514  \n",
      "257         0.063784  0.057657  \n",
      "258         0.024125  0.014110  \n",
      "259        -0.005482 -0.012025  \n",
      "260        -0.033452 -0.042718  \n",
      "261        -0.150032 -0.166372  \n",
      "262        -0.216624 -0.242294  \n",
      "263        -0.232460 -0.262079  \n",
      "264        -0.203981 -0.229054  \n",
      "265        -0.167747 -0.194129  \n",
      "266        -0.175332 -0.195774  \n",
      "267        -0.187193 -0.197348  \n",
      "268        -0.178012 -0.183465  \n",
      "269        -0.150585 -0.157219  \n",
      "270        -0.133740 -0.141879  \n",
      "271        -0.113438 -0.124390  \n",
      "272        -0.062275 -0.063839  \n",
      "273        -0.018888 -0.014048  \n",
      "274         0.009905  0.016006  \n",
      "275         0.054858  0.062908  \n",
      "276         0.012159  0.027981  \n",
      "277         0.003931  0.026072  \n",
      "278        -0.001676  0.032713  \n",
      "279         0.046385  0.073912  \n",
      "280         0.052042  0.086485  \n",
      "281         0.125430  0.154837  \n",
      "282         0.173774  0.208121  \n",
      "283         0.136696  0.174177  \n",
      "284         0.163195  0.205312  \n",
      "285         0.234861  0.276345  \n",
      "286         0.333189  0.374748  \n",
      "287         0.456383  0.507177  \n",
      "288         0.547744  0.598648  \n",
      "289         0.527537  0.593132  \n",
      "290         0.490612  0.560800  \n",
      "291         0.394143  0.447261  \n",
      "292         0.362924  0.396215  \n",
      "293         0.434550  0.478544  \n",
      "294         0.541472  0.595117  \n",
      "295         0.583162  0.630018  \n",
      "296         0.558734  0.598527  \n",
      "297         0.533917  0.564705  \n",
      "298         0.376175  0.410978  \n",
      "299         0.315031  0.361098  \n",
      "300         0.146307  0.190818  \n",
      "301         0.234616  0.264329  \n",
      "302         0.262642  0.286491  \n",
      "303         0.306891  0.318961  \n",
      "304         0.349360  0.357815  \n",
      "305         0.319693  0.333556  \n",
      "306         0.304383  0.316600  \n",
      "307         0.263715  0.273019  \n",
      "308         0.305324  0.314298  \n",
      "309         0.321597  0.338485  \n",
      "310         0.323042  0.347961  \n",
      "311         0.254578  0.285472  \n",
      "312         0.281325  0.313511  \n",
      "313         0.202034  0.230471  \n",
      "314         0.247797  0.269630  \n",
      "315         0.282415  0.304081  \n",
      "316         0.363359  0.379725  \n",
      "317         0.378341  0.399377  \n",
      "318         0.314445  0.333775  \n",
      "319         0.282484  0.295222  \n",
      "320         0.247986  0.259679  \n",
      "321         0.269795  0.278241  \n",
      "322         0.227287  0.246997  \n",
      "323         0.229868  0.261175  \n",
      "324         0.222303  0.248047  \n",
      "325         0.199773  0.221353  \n",
      "326         0.164168  0.186813  \n",
      "327         0.146628  0.171667  \n",
      "328         0.164550  0.183287  \n",
      "329         0.145614  0.161941  \n",
      "330         0.154400  0.171539  \n",
      "\n",
      "[131 rows x 131 columns]\n"
     ]
    },
    {
     "data": {
      "application/vnd.jupyter.widget-view+json": {
       "model_id": "e58424edf2b04b43be0e2facf7e1a0ba",
       "version_major": 2,
       "version_minor": 0
      },
      "text/plain": [
       "Canvas(toolbar=Toolbar(toolitems=[('Home', 'Reset original view', 'home', 'home'), ('Back', 'Back to previous …"
      ]
     },
     "metadata": {},
     "output_type": "display_data"
    }
   ],
   "source": [
    "key = \"GdmCl_4M\"\n",
    "ref = data_all[\"Control_0M\"].cd_df.loc[:, 20]\n",
    "sync, assync = ana.correlation(data_all[key].cd_df, scaling=\"pareto\")\n",
    "print(assync)\n",
    "plot.heatmap(sync, assync, title=str(key), subtitle=[\"Synchronous Spectrum\", \"Asynchronous Spectrum\"], x_min=[210, 210], y_min=[210,210], y_label=\"wavelength[nm]\", x_label=[\"wavenlength[nm]\"])"
   ]
  },
  {
   "cell_type": "code",
   "execution_count": 8,
   "id": "alleged-messaging",
   "metadata": {},
   "outputs": [
    {
     "data": {
      "application/vnd.jupyter.widget-view+json": {
       "model_id": "cebcb22c55e34f9abcc61653207617dd",
       "version_major": 2,
       "version_minor": 0
      },
      "text/plain": [
       "Canvas(toolbar=Toolbar(toolitems=[('Home', 'Reset original view', 'home', 'home'), ('Back', 'Back to previous …"
      ]
     },
     "metadata": {},
     "output_type": "display_data"
    },
    {
     "data": {
      "application/vnd.jupyter.widget-view+json": {
       "model_id": "fabca0aef109441bb5be6fbaf9dbd7e3",
       "version_major": 2,
       "version_minor": 0
      },
      "text/plain": [
       "Canvas(toolbar=Toolbar(toolitems=[('Home', 'Reset original view', 'home', 'home'), ('Back', 'Back to previous …"
      ]
     },
     "metadata": {},
     "output_type": "display_data"
    },
    {
     "data": {
      "application/vnd.jupyter.widget-view+json": {
       "model_id": "b20666abc0b24cadb8e9f81980c41406",
       "version_major": 2,
       "version_minor": 0
      },
      "text/plain": [
       "Canvas(toolbar=Toolbar(toolitems=[('Home', 'Reset original view', 'home', 'home'), ('Back', 'Back to previous …"
      ]
     },
     "metadata": {},
     "output_type": "display_data"
    },
    {
     "data": {
      "application/vnd.jupyter.widget-view+json": {
       "model_id": "b5e0746980b14594957e837429808a28",
       "version_major": 2,
       "version_minor": 0
      },
      "text/plain": [
       "Canvas(toolbar=Toolbar(toolitems=[('Home', 'Reset original view', 'home', 'home'), ('Back', 'Back to previous …"
      ]
     },
     "metadata": {},
     "output_type": "display_data"
    },
    {
     "data": {
      "application/vnd.jupyter.widget-view+json": {
       "model_id": "f6c7eb22d6bc45acbcb709dd625979c8",
       "version_major": 2,
       "version_minor": 0
      },
      "text/plain": [
       "Canvas(toolbar=Toolbar(toolitems=[('Home', 'Reset original view', 'home', 'home'), ('Back', 'Back to previous …"
      ]
     },
     "metadata": {},
     "output_type": "display_data"
    },
    {
     "data": {
      "application/vnd.jupyter.widget-view+json": {
       "model_id": "3136a132572c49ab8fe66bfb97b4dba0",
       "version_major": 2,
       "version_minor": 0
      },
      "text/plain": [
       "Canvas(toolbar=Toolbar(toolitems=[('Home', 'Reset original view', 'home', 'home'), ('Back', 'Back to previous …"
      ]
     },
     "metadata": {},
     "output_type": "display_data"
    },
    {
     "data": {
      "application/vnd.jupyter.widget-view+json": {
       "model_id": "26120f414f174678984c513c18729b23",
       "version_major": 2,
       "version_minor": 0
      },
      "text/plain": [
       "Canvas(toolbar=Toolbar(toolitems=[('Home', 'Reset original view', 'home', 'home'), ('Back', 'Back to previous …"
      ]
     },
     "metadata": {},
     "output_type": "display_data"
    },
    {
     "data": {
      "application/vnd.jupyter.widget-view+json": {
       "model_id": "d25194e54dd54a6d956d63f755544940",
       "version_major": 2,
       "version_minor": 0
      },
      "text/plain": [
       "Canvas(toolbar=Toolbar(toolitems=[('Home', 'Reset original view', 'home', 'home'), ('Back', 'Back to previous …"
      ]
     },
     "metadata": {},
     "output_type": "display_data"
    },
    {
     "data": {
      "application/vnd.jupyter.widget-view+json": {
       "model_id": "4a4ac58c9df545da83ca27832bce9b41",
       "version_major": 2,
       "version_minor": 0
      },
      "text/plain": [
       "Canvas(toolbar=Toolbar(toolitems=[('Home', 'Reset original view', 'home', 'home'), ('Back', 'Back to previous …"
      ]
     },
     "metadata": {},
     "output_type": "display_data"
    },
    {
     "data": {
      "application/vnd.jupyter.widget-view+json": {
       "model_id": "b0936b5bd37b456a9405c894144db94f",
       "version_major": 2,
       "version_minor": 0
      },
      "text/plain": [
       "Canvas(toolbar=Toolbar(toolitems=[('Home', 'Reset original view', 'home', 'home'), ('Back', 'Back to previous …"
      ]
     },
     "metadata": {},
     "output_type": "display_data"
    }
   ],
   "source": [
    "for key in data_all.keys():\n",
    "    if key == \"Control_0M\":\n",
    "        continue\n",
    "    ref = data_all[\"Control_0M\"].cd_df.loc[:, 20]\n",
    "    sync, assync = ana.correlation(data_all[key].cd_df, ref_spec=ref, scaling=\"pareto\", projection=True, proj_rows=[247])\n",
    "    plot.heatmap(sync, assync, title=str(key), subtitle=[\"Synchronous Spectrum\", \"Asynchronous Spectrum\"], x_min=[210, 210], y_min=[210,210], y_label=\"wavelength[nm]\", x_label=[\"wavenlength[nm]\"])"
   ]
  },
  {
   "cell_type": "markdown",
   "id": "phantom-melissa",
   "metadata": {},
   "source": [
    "### Heterogenous Spectrum\n",
    "\n",
    "*with pareto scaling and Control Measurement as Reference*"
   ]
  },
  {
   "cell_type": "code",
   "execution_count": 12,
   "id": "fifty-folks",
   "metadata": {},
   "outputs": [
    {
     "name": "stderr",
     "output_type": "stream",
     "text": [
      "C:\\Users\\crazy\\PycharmProjects\\2Dcorrelation\\hotznplots.py:80: RuntimeWarning: More than 20 figures have been opened. Figures created through the pyplot interface (`matplotlib.pyplot.figure`) are retained until explicitly closed and may consume too much memory. (To control this warning, see the rcParam `figure.max_open_warning`).\n",
      "  fig = plt.figure(facecolor=\"white\")\n"
     ]
    },
    {
     "data": {
      "application/vnd.jupyter.widget-view+json": {
       "model_id": "67d20dfb1a0a42208e6761d78843a450",
       "version_major": 2,
       "version_minor": 0
      },
      "text/plain": [
       "Canvas(toolbar=Toolbar(toolitems=[('Home', 'Reset original view', 'home', 'home'), ('Back', 'Back to previous …"
      ]
     },
     "metadata": {},
     "output_type": "display_data"
    }
   ],
   "source": [
    "measurement1 = \"Gdm2SO4_2M\"\n",
    "measurement2 = \"Gdm2SO4_4M\"\n",
    "title = \"Heterogenoues 2D Correlation between \" + measurement1 + \" \" + measurement2\n",
    "\n",
    "ref = data_all[\"Control_0M\"].cd_df \n",
    "sync, assync = ana.correlation(data_all[measurement1].cd_df, data_all[measurement2].cd_df, ref_spec=ref, scaling='pareto')\n",
    "plot.heatmap(sync, assync, title=title, subtitle=[\"Synchronous Spectrum\", \"Asynchronous Spectrum\"], x_min=[220, 220], y_min=[220,220],\n",
    "            y_label=measurement1 +\" WL[nm]\", x_label= measurement2 + \" WL[nm]\")"
   ]
  },
  {
   "cell_type": "markdown",
   "id": "international-siemens",
   "metadata": {},
   "source": [
    "## Sigmoid Fit and Melting Temperature"
   ]
  },
  {
   "cell_type": "code",
   "execution_count": 9,
   "id": "conditional-perspective",
   "metadata": {},
   "outputs": [
    {
     "name": "stdout",
     "output_type": "stream",
     "text": [
      "[ 0.18677066 61.81964508] [0.01970739 0.53616891]\n",
      "[ 0.24733276 63.42770044] [0.02193106 0.35106698]\n",
      "[ 0.3        63.95213937] [0.02830562 0.31740657]\n",
      "[ 0.28173998 64.87467936] [0.02577176 0.3342244 ]\n",
      "[ 0.2364997  63.66483834] [0.01583726 0.27656016]\n",
      "[ 0.2939166  61.61989282] [0.01911078 0.21232322]\n",
      "[ 0.26911012 63.19314219] [0.02238773 0.30450951]\n",
      "[ 0.28883307 58.5239527 ] [0.02428439 0.29303091]\n",
      "[1.41701334e-02 5.00000000e+01] [1.8215488e-02 2.3711382e+01]\n",
      "[2.29854877e-02 7.00000000e+01] [ 0.01983874 16.65590283]\n",
      "[ 0.19424656 57.00573805] [0.02250736 0.56124733]\n"
     ]
    },
    {
     "data": {
      "application/vnd.jupyter.widget-view+json": {
       "model_id": "0984e941b3584fd1a8ecd4c88b731574",
       "version_major": 2,
       "version_minor": 0
      },
      "text/plain": [
       "Canvas(toolbar=Toolbar(toolitems=[('Home', 'Reset original view', 'home', 'home'), ('Back', 'Back to previous …"
      ]
     },
     "metadata": {},
     "output_type": "display_data"
    }
   ],
   "source": [
    "graph={}\n",
    "melt_T={}\n",
    "for key in data_all.keys():\n",
    "    fit, params, error = ana.sigmoid_fit(ana.normalize(data_all[key].cd_df))\n",
    "    x =  np.arange(20, 91, 0.1)\n",
    "    deriv = pd.DataFrame(ana.sigmoid_deriv(x, *params), index=x, columns=[\"deriv\"]).T\n",
    "    maximum = deriv.max(axis=1) \n",
    "    T = float(deriv.idxmax(axis=1))\n",
    "    maxi = pd.DataFrame({T:1}, index=[\"Maximum\"])\n",
    "    deriv = deriv.div(maximum, axis=0)\n",
    "    fit = pd.concat([fit, deriv], axis=0)\n",
    "    fit = pd.concat([fit, maxi], axis=0)\n",
    "    graph[key] = [fit]  \n",
    "    melt_T[key] = T\n",
    "plot.mult_func([247, \"fit\", \"deriv\", \"Maximum\"], *graph.values(),  title=\"Sigmoid-Fit and Derivative(adjusted)\",\n",
    "               subtitle=list(graph.keys()), marker=['x', '', '', 'x'], linestyle=[\"\",\"-\", \":\",\"\"])"
   ]
  },
  {
   "cell_type": "markdown",
   "id": "infectious-indonesian",
   "metadata": {},
   "source": [
    "Plot the melting Temperatures for the Gdm2SO4 and GdmCl"
   ]
  },
  {
   "cell_type": "code",
   "execution_count": 10,
   "id": "organizational-starter",
   "metadata": {},
   "outputs": [
    {
     "data": {
      "application/vnd.jupyter.widget-view+json": {
       "model_id": "d39071176c72478593541bfafe76077c",
       "version_major": 2,
       "version_minor": 0
      },
      "text/plain": [
       "Canvas(toolbar=Toolbar(toolitems=[('Home', 'Reset original view', 'home', 'home'), ('Back', 'Back to previous …"
      ]
     },
     "metadata": {},
     "output_type": "display_data"
    }
   ],
   "source": [
    "x = [0., 0.5, 2., 4.]\n",
    "y = list(melt_T.values())[0:4]\n",
    "graph1 = pd.DataFrame(y, index=x, columns=[\"Gdm2SO4\"]).T\n",
    "\n",
    "y2 = [melt_T[\"Control_0M\"], melt_T[\"GdmCl_0.5M\"], melt_T[\"GdmCl_2M\"], melt_T[\"GdmCl_4M\"]]\n",
    "graph2 = pd.DataFrame(y2, index=x, columns=[\"GdmCl\"] ).T\n",
    "\n",
    "graph = pd.concat([graph1, graph2], axis=0)\n",
    "plot.mult_func([\"Gdm2SO4\", \"GdmCl\"], [graph], title=\"Melting Temperature\", subtitle=[\"\"], x_label=\"Concentration[M]\", y_label=\"Temperature[K]\")"
   ]
  },
  {
   "cell_type": "markdown",
   "id": "considered-fleece",
   "metadata": {},
   "source": [
    "## Absorbance Values"
   ]
  },
  {
   "cell_type": "code",
   "execution_count": 10,
   "id": "stupid-market",
   "metadata": {},
   "outputs": [
    {
     "data": {
      "application/vnd.jupyter.widget-view+json": {
       "model_id": "83e5596b587d4847bfd5b72a60485e5f",
       "version_major": 2,
       "version_minor": 0
      },
      "text/plain": [
       "Canvas(toolbar=Toolbar(toolitems=[('Home', 'Reset original view', 'home', 'home'), ('Back', 'Back to previous …"
      ]
     },
     "metadata": {},
     "output_type": "display_data"
    }
   ],
   "source": [
    "absorbance = list(map(lambda x: data_all[x].absorb_df, list(data_all.keys())))\n",
    "plot.heatmap(*absorbance, subtitle=tuple(data_all.keys()), title=\"Absorbance Values\", x_min=[220]*len(data_all), c_min=[0]*len(data_all), c_max=[0.5]*len(data_all))"
   ]
  },
  {
   "cell_type": "code",
   "execution_count": 31,
   "id": "greater-assignment",
   "metadata": {},
   "outputs": [
    {
     "name": "stdout",
     "output_type": "stream",
     "text": [
      "[ 0.41163539 64.15020882] [0.02314436 0.15271522]\n",
      "[ 0.36215912 65.86173799] [0.02185816 0.18932737]\n",
      "[ 0.44493928 65.49468303] [0.03352761 0.19683403]\n",
      "[ 0.41765738 66.38498811] [0.02650862 0.17467372]\n",
      "[ 0.41177395 65.56418843] [0.01837304 0.12537056]\n",
      "[ 0.36338404 63.19755227] [0.02700207 0.21562398]\n",
      "[ 0.38244298 64.79604632] [0.03395227 0.28041146]\n",
      "[ 0.3882771  59.95701763] [0.02664735 0.18265845]\n",
      "[ 0.2        63.29561482] [0.04565207 1.08081709]\n",
      "[ 0.2        62.18622927] [0.06441774 1.46286914]\n",
      "[ 0.39852856 59.86735295] [0.04122087 0.2420659 ]\n"
     ]
    },
    {
     "data": {
      "application/vnd.jupyter.widget-view+json": {
       "model_id": "be075227c0a145a8b2ea24e33536f9ee",
       "version_major": 2,
       "version_minor": 0
      },
      "text/plain": [
       "Canvas(toolbar=Toolbar(toolitems=[('Home', 'Reset original view', 'home', 'home'), ('Back', 'Back to previous …"
      ]
     },
     "metadata": {},
     "output_type": "display_data"
    }
   ],
   "source": [
    "graph={}\n",
    "melt_T={}\n",
    "error_a = {}\n",
    "error_b = {}\n",
    "coop={}\n",
    "elements = [\"Control_0M\", \"Gdm2SO4_0.5M\", \"Gdm2SO4_2M\", \"Gdm2SO4_4M\", \"Control_0M\", \"GdmCl_0.5M\", \"GdmCl_2M\", \"GdmCl_4M\" ]\n",
    "for key in data_all.keys():\n",
    "    fit, params, std = ana.sigmoid_fit(ana.normalize(data_all[key].absorb_df), wave=260, a_range=[0.2, 0.5])\n",
    "    x =  np.arange(20, 91, 0.1)\n",
    "    deriv = pd.DataFrame(ana.sigmoid_deriv(x, *params), index=x, columns=[\"deriv\"]).T\n",
    "    maximum = deriv.max(axis=1) \n",
    "    T = float(deriv.idxmax(axis=1))\n",
    "    maxi = pd.DataFrame({T:1}, index=[\"Maximum\"])\n",
    "    deriv = deriv.div(maximum, axis=0)\n",
    "    fit = pd.concat([fit, deriv], axis=0)\n",
    "    fit = pd.concat([fit, maxi], axis=0)\n",
    "    graph[key] = [fit]  \n",
    "    melt_T[key] = params[1]\n",
    "    error_a[key] = std[0]\n",
    "    error_b[key] = std[1]\n",
    "    coop[key] = params[0] \n",
    "plot.mult_func([260, \"fit\", \"deriv\"], graph[\"Control_0M\"],  title=\"Sigmoid-Fit and Derivative(adjusted)\", subtitle=list(graph.keys()), marker=['x', '', '', 'x'], linestyle=[\"\",\"-\", \":\",\"\"])"
   ]
  },
  {
   "cell_type": "code",
   "execution_count": 12,
   "id": "original-forest",
   "metadata": {},
   "outputs": [
    {
     "data": {
      "application/vnd.jupyter.widget-view+json": {
       "model_id": "955173ae6cb84a188941e4bf00cc7231",
       "version_major": 2,
       "version_minor": 0
      },
      "text/plain": [
       "Canvas(toolbar=Toolbar(toolitems=[('Home', 'Reset original view', 'home', 'home'), ('Back', 'Back to previous …"
      ]
     },
     "metadata": {},
     "output_type": "display_data"
    }
   ],
   "source": [
    "x = [0., 0.5, 2., 4.]\n",
    "y = list(melt_T.values())[0:4]\n",
    "graph1 = pd.DataFrame(y, index=x, columns=[\"Gdm2SO4\"]).T\n",
    "\n",
    "y2 = [melt_T[\"Control_0M\"], melt_T[\"GdmCl_0.5M\"], melt_T[\"GdmCl_2M\"], melt_T[\"GdmCl_4M\"]]\n",
    "graph2 = pd.DataFrame(y2, index=x, columns=[\"GdmCl\"] ).T\n",
    "\n",
    "graph = pd.concat([graph1, graph2], axis=0)\n",
    "plot.mult_func([\"Gdm2SO4\", \"GdmCl\"], [graph], error=error_b, title=\"Melting Temperature\",\n",
    "               subtitle=[\"\"], x_label=\"Concentration[M]\", y_label=\"Temperature[°C]\")"
   ]
  },
  {
   "cell_type": "code",
   "execution_count": 13,
   "id": "liable-marriage",
   "metadata": {},
   "outputs": [
    {
     "data": {
      "application/vnd.jupyter.widget-view+json": {
       "model_id": "3d67f37a4ea941bda49b26e60f6830f5",
       "version_major": 2,
       "version_minor": 0
      },
      "text/plain": [
       "Canvas(toolbar=Toolbar(toolitems=[('Home', 'Reset original view', 'home', 'home'), ('Back', 'Back to previous …"
      ]
     },
     "metadata": {},
     "output_type": "display_data"
    }
   ],
   "source": [
    "x = [0., 0.5, 2., 4.]\n",
    "y = list(coop.values())[0:4]\n",
    "graph1 = pd.DataFrame(y, index=x, columns=[\"Gdm2SO4\"]).T\n",
    "\n",
    "y2 = [coop[\"Control_0M\"], coop[\"GdmCl_0.5M\"], coop[\"GdmCl_2M\"], coop[\"GdmCl_4M\"]]\n",
    "graph2 = pd.DataFrame(y2, index=x, columns=[\"GdmCl\"] ).T\n",
    "\n",
    "graph = pd.concat([graph1, graph2], axis=0)\n",
    "plot.mult_func([\"Gdm2SO4\", \"GdmCl\"], [graph], error=error_a, title=\"Variance\",\n",
    "               subtitle=[\"\"], x_label=\"Concentration[M]\", y_label=\"Temperature[K^2]\")"
   ]
  },
  {
   "cell_type": "markdown",
   "id": "prompt-brisbane",
   "metadata": {},
   "source": [
    "### LM Fit"
   ]
  },
  {
   "cell_type": "code",
   "execution_count": 35,
   "id": "magnetic-addition",
   "metadata": {},
   "outputs": [
    {
     "name": "stdout",
     "output_type": "stream",
     "text": [
      "[[Model]]\n",
      "    Model(s1)\n",
      "[[Fit Statistics]]\n",
      "    # fitting method   = leastsq\n",
      "    # function evals   = 31\n",
      "    # data points      = 16\n",
      "    # variables        = 4\n",
      "    chi-square         = 8.2538e-05\n",
      "    reduced chi-square = 6.8781e-06\n",
      "    Akaike info crit   = -186.797542\n",
      "    Bayesian info crit = -183.707187\n",
      "[[Variables]]\n",
      "    a:   0.13153960 +/- 0.00186326 (1.42%) (init = 0.13)\n",
      "    y0:  0.35994037 +/- 0.00101406 (0.28%) (init = 0.36)\n",
      "    k:   0.46427885 +/- 0.02562654 (5.52%) (init = 0.4)\n",
      "    xc:  64.0734366 +/- 0.13972373 (0.22%) (init = 63)\n",
      "[[Correlations]] (unreported correlations are < 0.100)\n",
      "    C(a, y0)  = -0.618\n",
      "    C(a, k)   = -0.528\n",
      "    C(y0, k)  =  0.374\n",
      "    C(y0, xc) =  0.283\n",
      "    C(a, xc)  =  0.228\n",
      "    C(k, xc)  = -0.212\n"
     ]
    },
    {
     "data": {
      "application/vnd.jupyter.widget-view+json": {
       "model_id": "9734b909422b48a58fa88b5da9d70e7c",
       "version_major": 2,
       "version_minor": 0
      },
      "text/plain": [
       "Canvas(toolbar=Toolbar(toolitems=[('Home', 'Reset original view', 'home', 'home'), ('Back', 'Back to previous …"
      ]
     },
     "metadata": {},
     "output_type": "display_data"
    },
    {
     "name": "stdout",
     "output_type": "stream",
     "text": [
      "[[Model]]\n",
      "    Model(s1)\n",
      "[[Fit Statistics]]\n",
      "    # fitting method   = leastsq\n",
      "    # function evals   = 31\n",
      "    # data points      = 15\n",
      "    # variables        = 4\n",
      "    chi-square         = 1.3729e-04\n",
      "    reduced chi-square = 1.2481e-05\n",
      "    Akaike info crit   = -166.021914\n",
      "    Bayesian info crit = -163.189713\n",
      "[[Variables]]\n",
      "    a:   0.15453355 +/- 0.00274112 (1.77%) (init = 0.13)\n",
      "    y0:  0.38110761 +/- 0.00145979 (0.38%) (init = 0.36)\n",
      "    k:   0.39130613 +/- 0.02400150 (6.13%) (init = 0.4)\n",
      "    xc:  65.4725786 +/- 0.19088378 (0.29%) (init = 63)\n",
      "[[Correlations]] (unreported correlations are < 0.100)\n",
      "    C(a, y0)  = -0.612\n",
      "    C(a, k)   = -0.554\n",
      "    C(y0, k)  =  0.405\n",
      "    C(y0, xc) =  0.303\n",
      "    C(a, xc)  =  0.248\n",
      "    C(k, xc)  = -0.208\n"
     ]
    },
    {
     "data": {
      "application/vnd.jupyter.widget-view+json": {
       "model_id": "20ed39825ecc4f7095b2ebb008ae2578",
       "version_major": 2,
       "version_minor": 0
      },
      "text/plain": [
       "Canvas(toolbar=Toolbar(toolitems=[('Home', 'Reset original view', 'home', 'home'), ('Back', 'Back to previous …"
      ]
     },
     "metadata": {},
     "output_type": "display_data"
    },
    {
     "name": "stdout",
     "output_type": "stream",
     "text": [
      "[[Model]]\n",
      "    Model(s1)\n",
      "[[Fit Statistics]]\n",
      "    # fitting method   = leastsq\n",
      "    # function evals   = 36\n",
      "    # data points      = 15\n",
      "    # variables        = 4\n",
      "    chi-square         = 1.8461e-04\n",
      "    reduced chi-square = 1.6782e-05\n",
      "    Akaike info crit   = -161.580034\n",
      "    Bayesian info crit = -158.747833\n",
      "[[Variables]]\n",
      "    a:   0.15740544 +/- 0.00292954 (1.86%) (init = 0.13)\n",
      "    y0:  0.39680299 +/- 0.00158938 (0.40%) (init = 0.36)\n",
      "    k:   0.49654664 +/- 0.03609880 (7.27%) (init = 0.4)\n",
      "    xc:  65.1436370 +/- 0.18224215 (0.28%) (init = 63)\n",
      "[[Correlations]] (unreported correlations are < 0.100)\n",
      "    C(a, y0)  = -0.601\n",
      "    C(a, k)   = -0.498\n",
      "    C(y0, k)  =  0.344\n",
      "    C(y0, xc) =  0.287\n",
      "    C(a, xc)  =  0.223\n",
      "    C(k, xc)  = -0.197\n"
     ]
    },
    {
     "data": {
      "application/vnd.jupyter.widget-view+json": {
       "model_id": "119781e59bfc476484d078c4d836ba87",
       "version_major": 2,
       "version_minor": 0
      },
      "text/plain": [
       "Canvas(toolbar=Toolbar(toolitems=[('Home', 'Reset original view', 'home', 'home'), ('Back', 'Back to previous …"
      ]
     },
     "metadata": {},
     "output_type": "display_data"
    },
    {
     "name": "stdout",
     "output_type": "stream",
     "text": [
      "[[Model]]\n",
      "    Model(s1)\n",
      "[[Fit Statistics]]\n",
      "    # fitting method   = leastsq\n",
      "    # function evals   = 36\n",
      "    # data points      = 15\n",
      "    # variables        = 4\n",
      "    chi-square         = 1.4698e-04\n",
      "    reduced chi-square = 1.3361e-05\n",
      "    Akaike info crit   = -164.999323\n",
      "    Bayesian info crit = -162.167122\n",
      "[[Variables]]\n",
      "    a:   0.16690263 +/- 0.00270715 (1.62%) (init = 0.13)\n",
      "    y0:  0.40099038 +/- 0.00141025 (0.35%) (init = 0.36)\n",
      "    k:   0.45759632 +/- 0.02803909 (6.13%) (init = 0.4)\n",
      "    xc:  66.0831397 +/- 0.16527096 (0.25%) (init = 63)\n",
      "[[Correlations]] (unreported correlations are < 0.100)\n",
      "    C(a, y0)  = -0.586\n",
      "    C(a, k)   = -0.506\n",
      "    C(y0, k)  =  0.369\n",
      "    C(y0, xc) =  0.288\n",
      "    C(a, xc)  =  0.243\n",
      "    C(k, xc)  = -0.177\n"
     ]
    },
    {
     "data": {
      "application/vnd.jupyter.widget-view+json": {
       "model_id": "f5d844563f92431ea849ad3a2516b9b3",
       "version_major": 2,
       "version_minor": 0
      },
      "text/plain": [
       "Canvas(toolbar=Toolbar(toolitems=[('Home', 'Reset original view', 'home', 'home'), ('Back', 'Back to previous …"
      ]
     },
     "metadata": {},
     "output_type": "display_data"
    },
    {
     "name": "stdout",
     "output_type": "stream",
     "text": [
      "[[Model]]\n",
      "    Model(s1)\n",
      "[[Fit Statistics]]\n",
      "    # fitting method   = leastsq\n",
      "    # function evals   = 31\n",
      "    # data points      = 15\n",
      "    # variables        = 4\n",
      "    chi-square         = 6.1188e-05\n",
      "    reduced chi-square = 5.5626e-06\n",
      "    Akaike info crit   = -178.144079\n",
      "    Bayesian info crit = -175.311878\n",
      "[[Variables]]\n",
      "    a:   0.14053668 +/- 0.00177073 (1.26%) (init = 0.13)\n",
      "    y0:  0.37934873 +/- 9.5403e-04 (0.25%) (init = 0.36)\n",
      "    k:   0.43295854 +/- 0.01981686 (4.58%) (init = 0.4)\n",
      "    xc:  65.3488623 +/- 0.12976026 (0.20%) (init = 63)\n",
      "[[Correlations]] (unreported correlations are < 0.100)\n",
      "    C(a, y0)  = -0.611\n",
      "    C(a, k)   = -0.535\n",
      "    C(y0, k)  =  0.392\n",
      "    C(y0, xc) =  0.300\n",
      "    C(a, xc)  =  0.231\n",
      "    C(k, xc)  = -0.193\n"
     ]
    },
    {
     "data": {
      "application/vnd.jupyter.widget-view+json": {
       "model_id": "cf35f00292364cd1b6057b487dfb4524",
       "version_major": 2,
       "version_minor": 0
      },
      "text/plain": [
       "Canvas(toolbar=Toolbar(toolitems=[('Home', 'Reset original view', 'home', 'home'), ('Back', 'Back to previous …"
      ]
     },
     "metadata": {},
     "output_type": "display_data"
    },
    {
     "name": "stdout",
     "output_type": "stream",
     "text": [
      "[[Model]]\n",
      "    Model(s1)\n",
      "[[Fit Statistics]]\n",
      "    # fitting method   = leastsq\n",
      "    # function evals   = 26\n",
      "    # data points      = 15\n",
      "    # variables        = 4\n",
      "    chi-square         = 1.2331e-04\n",
      "    reduced chi-square = 1.1210e-05\n",
      "    Akaike info crit   = -167.633485\n",
      "    Bayesian info crit = -164.801284\n",
      "[[Variables]]\n",
      "    a:   0.12733648 +/- 0.00244340 (1.92%) (init = 0.13)\n",
      "    y0:  0.34448617 +/- 0.00145573 (0.42%) (init = 0.36)\n",
      "    k:   0.42246798 +/- 0.02988255 (7.07%) (init = 0.4)\n",
      "    xc:  62.7925723 +/- 0.18972587 (0.30%) (init = 63)\n",
      "[[Correlations]] (unreported correlations are < 0.100)\n",
      "    C(a, y0)  = -0.664\n",
      "    C(a, k)   = -0.537\n",
      "    C(y0, k)  =  0.369\n",
      "    C(y0, xc) =  0.339\n",
      "    C(k, xc)  = -0.168\n",
      "    C(a, xc)  =  0.160\n"
     ]
    },
    {
     "data": {
      "application/vnd.jupyter.widget-view+json": {
       "model_id": "3224dcc2be274223b5e769f6147d1a2d",
       "version_major": 2,
       "version_minor": 0
      },
      "text/plain": [
       "Canvas(toolbar=Toolbar(toolitems=[('Home', 'Reset original view', 'home', 'home'), ('Back', 'Back to previous …"
      ]
     },
     "metadata": {},
     "output_type": "display_data"
    },
    {
     "name": "stdout",
     "output_type": "stream",
     "text": [
      "[[Model]]\n",
      "    Model(s1)\n",
      "[[Fit Statistics]]\n",
      "    # fitting method   = leastsq\n",
      "    # function evals   = 41\n",
      "    # data points      = 14\n",
      "    # variables        = 4\n",
      "    chi-square         = 1.6693e-04\n",
      "    reduced chi-square = 1.6693e-05\n",
      "    Akaike info crit   = -150.718316\n",
      "    Bayesian info crit = -148.162087\n",
      "[[Variables]]\n",
      "    a:   0.14251616 +/- 0.00302538 (2.12%) (init = 0.13)\n",
      "    y0:  0.37814924 +/- 0.00168889 (0.45%) (init = 0.36)\n",
      "    k:   0.46932902 +/- 0.04992622 (10.64%) (init = 0.4)\n",
      "    xc:  64.3595607 +/- 0.24980822 (0.39%) (init = 63)\n",
      "[[Correlations]] (unreported correlations are < 0.100)\n",
      "    C(a, y0)  = -0.642\n",
      "    C(a, k)   = -0.516\n",
      "    C(k, xc)  = -0.510\n",
      "    C(y0, k)  =  0.381\n",
      "    C(a, xc)  =  0.277\n",
      "    C(y0, xc) =  0.149\n"
     ]
    },
    {
     "data": {
      "application/vnd.jupyter.widget-view+json": {
       "model_id": "b5c20028d17c43469e2250285bcf4119",
       "version_major": 2,
       "version_minor": 0
      },
      "text/plain": [
       "Canvas(toolbar=Toolbar(toolitems=[('Home', 'Reset original view', 'home', 'home'), ('Back', 'Back to previous …"
      ]
     },
     "metadata": {},
     "output_type": "display_data"
    },
    {
     "name": "stdout",
     "output_type": "stream",
     "text": [
      "[[Model]]\n",
      "    Model(s1)\n",
      "[[Fit Statistics]]\n",
      "    # fitting method   = leastsq\n",
      "    # function evals   = 41\n",
      "    # data points      = 16\n",
      "    # variables        = 4\n",
      "    chi-square         = 1.6417e-04\n",
      "    reduced chi-square = 1.3681e-05\n",
      "    Akaike info crit   = -175.795251\n",
      "    Bayesian info crit = -172.704896\n",
      "[[Variables]]\n",
      "    a:   0.15628335 +/- 0.00254249 (1.63%) (init = 0.13)\n",
      "    y0:  0.40464104 +/- 0.00164746 (0.41%) (init = 0.36)\n",
      "    k:   0.43634504 +/- 0.02704844 (6.20%) (init = 0.4)\n",
      "    xc:  59.6154686 +/- 0.15797674 (0.26%) (init = 63)\n",
      "[[Correlations]] (unreported correlations are < 0.100)\n",
      "    C(a, y0)  = -0.712\n",
      "    C(a, k)   = -0.533\n",
      "    C(y0, xc) =  0.385\n",
      "    C(y0, k)  =  0.373\n"
     ]
    },
    {
     "data": {
      "application/vnd.jupyter.widget-view+json": {
       "model_id": "cafde979641343e49e6bb36165fcd44d",
       "version_major": 2,
       "version_minor": 0
      },
      "text/plain": [
       "Canvas(toolbar=Toolbar(toolitems=[('Home', 'Reset original view', 'home', 'home'), ('Back', 'Back to previous …"
      ]
     },
     "metadata": {},
     "output_type": "display_data"
    },
    {
     "name": "stdout",
     "output_type": "stream",
     "text": [
      "[[Model]]\n",
      "    Model(s1)\n",
      "[[Fit Statistics]]\n",
      "    # fitting method   = leastsq\n",
      "    # function evals   = 47\n",
      "    # data points      = 15\n",
      "    # variables        = 4\n",
      "    chi-square         = 0.00233272\n",
      "    reduced chi-square = 2.1207e-04\n",
      "    Akaike info crit   = -123.531582\n",
      "    Bayesian info crit = -120.699381\n",
      "[[Variables]]\n",
      "    a:   0.69355007 +/- 0.06429640 (9.27%) (init = 0.13)\n",
      "    y0:  0.37594905 +/- 0.01588067 (4.22%) (init = 0.36)\n",
      "    k:   0.07766870 +/- 0.00944487 (12.16%) (init = 0.4)\n",
      "    xc:  69.6402702 +/- 2.08140299 (2.99%) (init = 63)\n",
      "[[Correlations]] (unreported correlations are < 0.100)\n",
      "    C(a, k)   = -0.946\n",
      "    C(a, xc)  =  0.877\n",
      "    C(k, xc)  = -0.801\n",
      "    C(y0, k)  =  0.798\n",
      "    C(a, y0)  = -0.752\n",
      "    C(y0, xc) = -0.374\n"
     ]
    },
    {
     "data": {
      "application/vnd.jupyter.widget-view+json": {
       "model_id": "d0d8e5f7ea8f46b5ab6c4b8d470c32a6",
       "version_major": 2,
       "version_minor": 0
      },
      "text/plain": [
       "Canvas(toolbar=Toolbar(toolitems=[('Home', 'Reset original view', 'home', 'home'), ('Back', 'Back to previous …"
      ]
     },
     "metadata": {},
     "output_type": "display_data"
    },
    {
     "name": "stdout",
     "output_type": "stream",
     "text": [
      "[[Model]]\n",
      "    Model(s1)\n",
      "[[Fit Statistics]]\n",
      "    # fitting method   = leastsq\n",
      "    # function evals   = 632\n",
      "    # data points      = 15\n",
      "    # variables        = 4\n",
      "    chi-square         = 0.00210323\n",
      "    reduced chi-square = 1.9120e-04\n",
      "    Akaike info crit   = -125.084989\n",
      "    Bayesian info crit = -122.252788\n",
      "[[Variables]]\n",
      "    a:   31.8133881 +/- 148.541436 (466.91%) (init = 0.13)\n",
      "    y0: -0.70786515 +/- 0.58698409 (82.92%) (init = 0.36)\n",
      "    k:   0.01418524 +/- 0.00851446 (60.02%) (init = 0.4)\n",
      "    xc:  253.331579 +/- 443.623330 (175.12%) (init = 63)\n",
      "[[Correlations]] (unreported correlations are < 0.100)\n",
      "    C(a, xc)  =  1.000\n",
      "    C(k, xc)  = -0.997\n",
      "    C(a, k)   = -0.996\n",
      "    C(y0, k)  =  0.996\n",
      "    C(y0, xc) = -0.987\n",
      "    C(a, y0)  = -0.985\n"
     ]
    },
    {
     "data": {
      "application/vnd.jupyter.widget-view+json": {
       "model_id": "ebf8ec4022674ed5a755cefbf4218c9d",
       "version_major": 2,
       "version_minor": 0
      },
      "text/plain": [
       "Canvas(toolbar=Toolbar(toolitems=[('Home', 'Reset original view', 'home', 'home'), ('Back', 'Back to previous …"
      ]
     },
     "metadata": {},
     "output_type": "display_data"
    },
    {
     "name": "stdout",
     "output_type": "stream",
     "text": [
      "[[Model]]\n",
      "    Model(s1)\n",
      "[[Fit Statistics]]\n",
      "    # fitting method   = leastsq\n",
      "    # function evals   = 36\n",
      "    # data points      = 14\n",
      "    # variables        = 4\n",
      "    chi-square         = 1.9823e-04\n",
      "    reduced chi-square = 1.9823e-05\n",
      "    Akaike info crit   = -148.312240\n",
      "    Bayesian info crit = -145.756011\n",
      "[[Variables]]\n",
      "    a:   0.14138171 +/- 0.00308698 (2.18%) (init = 0.13)\n",
      "    y0:  0.36150581 +/- 0.00202181 (0.56%) (init = 0.36)\n",
      "    k:   0.47245737 +/- 0.04046693 (8.57%) (init = 0.4)\n",
      "    xc:  59.6371296 +/- 0.19962892 (0.33%) (init = 63)\n",
      "[[Correlations]] (unreported correlations are < 0.100)\n",
      "    C(a, y0)  = -0.689\n",
      "    C(a, k)   = -0.441\n",
      "    C(y0, xc) =  0.379\n",
      "    C(y0, k)  =  0.289\n"
     ]
    },
    {
     "data": {
      "application/vnd.jupyter.widget-view+json": {
       "model_id": "6d625f42821c4eacb34df2860577fc6a",
       "version_major": 2,
       "version_minor": 0
      },
      "text/plain": [
       "Canvas(toolbar=Toolbar(toolitems=[('Home', 'Reset original view', 'home', 'home'), ('Back', 'Back to previous …"
      ]
     },
     "metadata": {},
     "output_type": "display_data"
    }
   ],
   "source": [
    "# Parameter\n",
    "sample = \"Control_0M\"\n",
    "melt_T = {}\n",
    "error_T = {}\n",
    "residual = pd.DataFrame(index=[\"R-Wert\"])\n",
    "for key in data_all.keys():\n",
    "    fit, params, params_error = ana.lm_fit(data_all[key].absorb_df, guess=[0.13, 0.36, 0.4])\n",
    "    melt_T[key] = params['xc']\n",
    "    error_T[key] = params_error\n",
    "    residual[key] = [1 - (np.sum(fit[\"residual\"]**2)/np.sum((fit[260] - fit[260].mean(axis=0))**2))]\n",
    "    plot.mult_func([260, \"fit\"], [fit], error={\"fit\": fit[\"error\"]}, swap=True, \n",
    "                   x_label=\"Temperature [°C]\", y_label=\"Absorbance [%]\", label=[\"data\", \"sigmoid fit\", 'melting temperature'], marker=['o', ''], linestyle=[\" \", \"-\"],\n",
    "                  subtitle=[\"Hyperchromatic shift\"], title=key, vertical_line=[params['xc']])"
   ]
  },
  {
   "cell_type": "code",
   "execution_count": 46,
   "id": "impressive-multiple",
   "metadata": {},
   "outputs": [
    {
     "name": "stdout",
     "output_type": "stream",
     "text": [
      "{'Gdm2SO4': [0.1397237267320292, 0.19088377518475777, 0.18224214589913398, 0.1652709599552112], 'GdmCl': [0.1397237267320292, 0.1297602579827057, 0.18972587319187942, 0.1579767375822369]}\n"
     ]
    },
    {
     "data": {
      "application/vnd.jupyter.widget-view+json": {
       "model_id": "ea140265cb4a4dffa5d676ddc7ca0d91",
       "version_major": 2,
       "version_minor": 0
      },
      "text/plain": [
       "Canvas(toolbar=Toolbar(toolitems=[('Home', 'Reset original view', 'home', 'home'), ('Back', 'Back to previous …"
      ]
     },
     "metadata": {},
     "output_type": "display_data"
    }
   ],
   "source": [
    "x = [0., 0.5, 2., 4.]\n",
    "y = list(melt_T.values())[0:4]\n",
    "y_error = list(error_T.values())[0:4]\n",
    "graph1 = pd.DataFrame(y, index=x, columns=[\"Gdm2SO4\"]).T\n",
    "error= {\"Gdm2SO4\":y_error}\n",
    "\n",
    "y2 = [melt_T[\"Control_0M\"], melt_T[\"GdmCl_0.5M\"], melt_T[\"GdmCl_2M\"], melt_T[\"GdmCl_4M\"]]\n",
    "y2_error = [error_T[\"Control_0M\"], error_T[\"GdmCl_0.5M\"], error_T[\"GdmCl_2M\"], error_T[\"GdmCl_4M\"]]\n",
    "graph2 = pd.DataFrame(y2, index=x, columns=[\"GdmCl\"] ).T\n",
    "error[\"GdmCl\"] = y2_error \n",
    "print(error)\n",
    "graph = pd.concat([graph1, graph2], axis=0)\n",
    "plot.mult_func([\"Gdm2SO4\", \"GdmCl\"], [graph], title=\"Melting Temperature\", subtitle=[\"\"], x_label=\"Concentration [M]\", y_label=\"Temperature [°C]\", error=error)"
   ]
  },
  {
   "cell_type": "markdown",
   "id": "dying-continent",
   "metadata": {},
   "source": [
    "# TD Calculations\n"
   ]
  },
  {
   "cell_type": "markdown",
   "id": "integral-campus",
   "metadata": {},
   "source": [
    "<div class=\"alert alert-block alert-info\">\n",
    "<b>Info:</b> Steps after Mergny, J.-L., & Lacroix, L. (2003). Analysis of Thermal Melting Curves. In OLIGONUCLEOTIDES (Vol. 13). www.liebertpub.com\n",
    "</div>"
   ]
  },
  {
   "cell_type": "markdown",
   "id": "rubber-growing",
   "metadata": {},
   "source": [
    "**Hypochromatic Shift at 260nm  wit Low and High Plateau Fit**"
   ]
  },
  {
   "cell_type": "code",
   "execution_count": 8,
   "id": "announced-creation",
   "metadata": {},
   "outputs": [
    {
     "name": "stdout",
     "output_type": "stream",
     "text": [
      "[[Model]]\n",
      "    Model(linear)\n",
      "[[Fit Statistics]]\n",
      "    # fitting method   = leastsq\n",
      "    # function evals   = 7\n",
      "    # data points      = 3\n",
      "    # variables        = 2\n",
      "    chi-square         = 3.7600e-07\n",
      "    reduced chi-square = 3.7600e-07\n",
      "    Akaike info crit   = -43.6768616\n",
      "    Bayesian info crit = -45.4796371\n",
      "[[Variables]]\n",
      "    m:   9.8400e-05 +/- 4.3359e-05 (44.06%) (init = 0.0001)\n",
      "    y0:  0.35534533 +/- 0.00134808 (0.38%) (init = 0.35)\n",
      "[[Correlations]] (unreported correlations are < 0.100)\n",
      "    C(m, y0) = -0.965\n",
      "[[Model]]\n",
      "    Model(linear)\n",
      "[[Fit Statistics]]\n",
      "    # fitting method   = leastsq\n",
      "    # function evals   = 7\n",
      "    # data points      = 3\n",
      "    # variables        = 2\n",
      "    chi-square         = 1.3374e-05\n",
      "    reduced chi-square = 1.3374e-05\n",
      "    Akaike info crit   = -32.9623650\n",
      "    Bayesian info crit = -34.7651404\n",
      "[[Variables]]\n",
      "    m:   7.5960e-04 +/- 2.5860e-04 (34.04%) (init = 0.0001)\n",
      "    y0:  0.42851300 +/- 0.02079508 (4.85%) (init = 0.48)\n",
      "[[Correlations]] (unreported correlations are < 0.100)\n",
      "    C(m, y0) = -0.995\n",
      "[[Model]]\n",
      "    Model(s1)\n",
      "[[Fit Statistics]]\n",
      "    # fitting method   = leastsq\n",
      "    # function evals   = 26\n",
      "    # data points      = 16\n",
      "    # variables        = 4\n",
      "    chi-square         = 8.2538e-05\n",
      "    reduced chi-square = 6.8781e-06\n",
      "    Akaike info crit   = -186.797542\n",
      "    Bayesian info crit = -183.707187\n",
      "[[Variables]]\n",
      "    a:   0.13153935 +/- 0.00186321 (1.42%) (init = 0.2)\n",
      "    y0:  0.35994043 +/- 0.00101404 (0.28%) (init = 0.35)\n",
      "    k:   0.46428497 +/- 0.02562977 (5.52%) (init = 0.5)\n",
      "    xc:  64.0734193 +/- 0.13971623 (0.22%) (init = 63)\n",
      "[[Correlations]] (unreported correlations are < 0.100)\n",
      "    C(a, y0)  = -0.618\n",
      "    C(a, k)   = -0.528\n",
      "    C(y0, k)  =  0.374\n",
      "    C(y0, xc) =  0.283\n",
      "    C(a, xc)  =  0.228\n",
      "    C(k, xc)  = -0.212\n"
     ]
    }
   ],
   "source": [
    "raw = data_all[\"Control_0M\"].absorb_df\n",
    "low_fit, params_lowfit = ana.lm_fit(raw[[20,30,40]], f_type='linear', guess=[0.0001, 0.35])\n",
    "high_fit, params_highfit = ana.lm_fit(raw[[70, 80,90]], f_type='linear', guess=[0.0001, 0.48])\n",
    "sig_fit, params_sigfit = ana.lm_fit(raw, f_type='s1', guess=[0.2, 0.35, 0.5, 63])"
   ]
  },
  {
   "cell_type": "markdown",
   "id": "angry-billy",
   "metadata": {},
   "source": [
    "**Calculating Fraction Folded with High Plateu adjusted manually**"
   ]
  },
  {
   "cell_type": "code",
   "execution_count": 9,
   "id": "meaningful-sentence",
   "metadata": {},
   "outputs": [
    {
     "data": {
      "application/vnd.jupyter.widget-view+json": {
       "model_id": "65d8a6ab0e8e4dbaa995d21b220fbb96",
       "version_major": 2,
       "version_minor": 0
      },
      "text/plain": [
       "Canvas(toolbar=Toolbar(toolitems=[('Home', 'Reset original view', 'home', 'home'), ('Back', 'Back to previous …"
      ]
     },
     "metadata": {},
     "output_type": "display_data"
    },
    {
     "data": {
      "application/vnd.jupyter.widget-view+json": {
       "model_id": "076344cdb4e34e8d893c73c00707e0d9",
       "version_major": 2,
       "version_minor": 0
      },
      "text/plain": [
       "Canvas(toolbar=Toolbar(toolitems=[('Home', 'Reset original view', 'home', 'home'), ('Back', 'Back to previous …"
      ]
     },
     "metadata": {},
     "output_type": "display_data"
    }
   ],
   "source": [
    "data_treated = pd.DataFrame(raw.loc[260])\n",
    "data_treated[\"low_fit\"] = ana.linear(np.array(raw.columns), *params_lowfit.values())\n",
    "data_treated[\"high_fit\"] = ana.linear(np.array(raw.columns), 0.0004495999948082116, 0.45451300041966917)\n",
    "data_treated[\"intermediate\"] = 0.5*(data_treated[\"low_fit\"] + data_treated[\"high_fit\"])\n",
    "data_treated[\"fit\"] = sig_fit[\"fit\"]\n",
    "data_treated[\"baseline_fit\"] = (data_treated[\"high_fit\"] - data_treated[260])/(data_treated[\"high_fit\"] - data_treated[\"low_fit\"])\n",
    "data_treated[\"normed_data\"] = 1- ana.normalize(raw).loc[260].to_numpy()\n",
    "data_treated[\"log_fit\"] = 1 - ana.normalize(data_treated)[\"fit\"]\n",
    "plot.mult_func([260, \"low_fit\", \"high_fit\", \"intermediate\", \"fit\"], [data_treated.T], subtitle=[\"\"], title=\"Hypochromatic shift with Plaetau Fits\", y_label=\"Absorbance at 260nm\")\n",
    "plot.mult_func([\"baseline_fit\", \"normed_data\", \"log_fit\"], [data_treated.T], subtitle=[\"\"],  title=\"Fraction folded calculated by Plateu fits and Normalization\", y_label=\"Fraction folded\")\n"
   ]
  },
  {
   "cell_type": "markdown",
   "id": "cardiovascular-seating",
   "metadata": {},
   "source": [
    "**calulate K and ln K for different methods**"
   ]
  },
  {
   "cell_type": "code",
   "execution_count": 10,
   "id": "unusual-honduras",
   "metadata": {},
   "outputs": [
    {
     "name": "stdout",
     "output_type": "stream",
     "text": [
      "[[Model]]\n",
      "    Model(linear)\n",
      "[[Fit Statistics]]\n",
      "    # fitting method   = leastsq\n",
      "    # function evals   = 6\n",
      "    # data points      = 5\n",
      "    # variables        = 2\n",
      "    chi-square         = 0.66852599\n",
      "    reduced chi-square = 0.22284200\n",
      "    Akaike info crit   = -6.06058962\n",
      "    Bayesian info crit = -6.84171380\n",
      "[[Variables]]\n",
      "    m:   82573.1995 +/- 6790.09991 (8.22%) (init = 80000)\n",
      "    y0: -226.953410 +/- 20.1072530 (8.86%) (init = -2)\n",
      "[[Correlations]] (unreported correlations are < 0.100)\n",
      "    C(m, y0) = -1.000\n"
     ]
    },
    {
     "name": "stderr",
     "output_type": "stream",
     "text": [
      "C:\\Users\\crazy\\anaconda3\\envs\\TestEnv\\lib\\site-packages\\pandas\\core\\arraylike.py:358: RuntimeWarning: invalid value encountered in log\n",
      "  result = getattr(ufunc, method)(*inputs, **kwargs)\n"
     ]
    },
    {
     "data": {
      "application/vnd.jupyter.widget-view+json": {
       "model_id": "f8d4f87a29cd4eeab65862dd40a0b70c",
       "version_major": 2,
       "version_minor": 0
      },
      "text/plain": [
       "Canvas(toolbar=Toolbar(toolitems=[('Home', 'Reset original view', 'home', 'home'), ('Back', 'Back to previous …"
      ]
     },
     "metadata": {},
     "output_type": "display_data"
    }
   ],
   "source": [
    "c_total = 40 * (10**-9) # # total strand concentration in molar\n",
    "\n",
    "# get K and ln K\n",
    "base_method = pd.DataFrame(data_treated[\"baseline_fit\"].to_numpy(), index=[20,30,40,45,50,56,56,58,60,62,64,67,70,75,80, 90], columns=[\"theta\"])\n",
    "base_method['theta'] = base_method['theta'].astype(float)\n",
    "\n",
    "# here equation depending on reaction type, choosen: Bimolecular, complementary strand types\n",
    "base_method[\"K\"] = (base_method[\"theta\"])/(c_total*((1 - base_method[\"theta\"])**2))\n",
    "base_method['ln K'] = np.log(base_method['K'])\n",
    "\n",
    "# select values in confidence values 0.1 < theta < 0.9\n",
    "base_method  = base_method.loc[60:70]\n",
    "# change celsius to kelvin\n",
    "base_method = base_method.set_index(1/(base_method.index + 273.15))\n",
    "\n",
    "# make linear fit and plot\n",
    "enthalpy_base, params_base = ana.lm_fit(base_method.T, wave=\"ln K\", f_type='linear', guess=[80000, -2])\n",
    "error = {\"fit\" : enthalpy_base[\"error\"].to_numpy()}\n",
    "plot.mult_func([\"ln K\", \"fit\"], [enthalpy_base.T], error=error, x_label=\"1/T [1/Kelvin]\", y_label=\"ln K\")"
   ]
  },
  {
   "cell_type": "code",
   "execution_count": 11,
   "id": "noticed-disco",
   "metadata": {},
   "outputs": [
    {
     "name": "stdout",
     "output_type": "stream",
     "text": [
      "[[Model]]\n",
      "    Model(linear)\n",
      "[[Fit Statistics]]\n",
      "    # fitting method   = leastsq\n",
      "    # function evals   = 6\n",
      "    # data points      = 5\n",
      "    # variables        = 2\n",
      "    chi-square         = 0.66852599\n",
      "    reduced chi-square = 0.22284200\n",
      "    Akaike info crit   = -6.06058962\n",
      "    Bayesian info crit = -6.84171380\n",
      "[[Variables]]\n",
      "    m:   82573.1995 +/- 6790.09991 (8.22%) (init = 80000)\n",
      "    y0: -226.953410 +/- 20.1072530 (8.86%) (init = -2)\n",
      "[[Correlations]] (unreported correlations are < 0.100)\n",
      "    C(m, y0) = -1.000\n"
     ]
    },
    {
     "name": "stderr",
     "output_type": "stream",
     "text": [
      "C:\\Users\\crazy\\anaconda3\\envs\\TestEnv\\lib\\site-packages\\pandas\\core\\arraylike.py:358: RuntimeWarning: divide by zero encountered in log\n",
      "  result = getattr(ufunc, method)(*inputs, **kwargs)\n"
     ]
    },
    {
     "data": {
      "application/vnd.jupyter.widget-view+json": {
       "model_id": "3b03dbe7c0de4ee58e9732a4d5d5cbc8",
       "version_major": 2,
       "version_minor": 0
      },
      "text/plain": [
       "Canvas(toolbar=Toolbar(toolitems=[('Home', 'Reset original view', 'home', 'home'), ('Back', 'Back to previous …"
      ]
     },
     "metadata": {},
     "output_type": "display_data"
    }
   ],
   "source": [
    "c_total = 40 * (10**-9) # # total strand concentration in molar\n",
    "\n",
    "# get K and ln K\n",
    "normed_method = pd.DataFrame(data_treated[\"normed_data\"].to_numpy(), index=[20,30,40,45,50,56,56,58,60,62,64,67,70,75,80, 90], columns=[\"theta\"])\n",
    "normed_method['theta'] = normed_method['theta'].astype(float)\n",
    "\n",
    "# here equation depending on reaction type, choosen: Bimolecular, complementary strand types\n",
    "normed_method[\"K\"] = (normed_method[\"theta\"])/(c_total*((1 - normed_method[\"theta\"])**2))\n",
    "normed_method['ln K'] = np.log(normed_method['K'])\n",
    "\n",
    "# select values in confidence values 0.1 < theta < 0.9\n",
    "normed_method  = normed_method.loc[60:70]\n",
    "# change celsius to kelvin\n",
    "normed_method = normed_method.set_index(1/(normed_method.index + 273.15))\n",
    "\n",
    "# make linear fit and plot\n",
    "enthalpy_normed, params_norm = ana.lm_fit(base_method.T, wave=\"ln K\", f_type='linear', guess=[80000, -2])\n",
    "error = {\"fit\" : enthalpy_normed[\"error\"].to_numpy()}\n",
    "plot.mult_func([\"ln K\", \"fit\"], [enthalpy_normed.T], error=error, x_label=\"1/T [1/Kelvin]\", y_label=\"ln K\")"
   ]
  },
  {
   "cell_type": "code",
   "execution_count": 12,
   "id": "automatic-formula",
   "metadata": {},
   "outputs": [
    {
     "name": "stdout",
     "output_type": "stream",
     "text": [
      "[[Model]]\n",
      "    Model(linear)\n",
      "[[Fit Statistics]]\n",
      "    # fitting method   = leastsq\n",
      "    # function evals   = 7\n",
      "    # data points      = 5\n",
      "    # variables        = 2\n",
      "    chi-square         = 1.62690318\n",
      "    reduced chi-square = 0.54230106\n",
      "    Akaike info crit   = -1.61379796\n",
      "    Bayesian info crit = -2.39492213\n",
      "[[Variables]]\n",
      "    m:   143015.744 +/- 10592.4844 (7.41%) (init = 80000)\n",
      "    y0: -405.548597 +/- 31.3671034 (7.73%) (init = -2)\n",
      "[[Correlations]] (unreported correlations are < 0.100)\n",
      "    C(m, y0) = -1.000\n"
     ]
    },
    {
     "name": "stderr",
     "output_type": "stream",
     "text": [
      "C:\\Users\\crazy\\anaconda3\\envs\\TestEnv\\lib\\site-packages\\pandas\\core\\arraylike.py:358: RuntimeWarning: divide by zero encountered in log\n",
      "  result = getattr(ufunc, method)(*inputs, **kwargs)\n"
     ]
    },
    {
     "data": {
      "application/vnd.jupyter.widget-view+json": {
       "model_id": "98a34a8f807848988a612af95b03366e",
       "version_major": 2,
       "version_minor": 0
      },
      "text/plain": [
       "Canvas(toolbar=Toolbar(toolitems=[('Home', 'Reset original view', 'home', 'home'), ('Back', 'Back to previous …"
      ]
     },
     "metadata": {},
     "output_type": "display_data"
    }
   ],
   "source": [
    "c_total = 40 * (10**-9) # # total strand concentration in molar\n",
    "\n",
    "# get K and ln K\n",
    "fit_method = pd.DataFrame(data_treated[\"log_fit\"].to_numpy(), index=[20,30,40,45,50,56,56,58,60,62,64,67,70,75,80, 90], columns=[\"theta\"])\n",
    "fit_method['theta'] = fit_method['theta'].astype(float)\n",
    "\n",
    "# here equation depending on reaction type, choosen: Bimolecular, complementary strand types\n",
    "fit_method[\"K\"] = (fit_method[\"theta\"])/(c_total*((1 - fit_method[\"theta\"])**2))\n",
    "fit_method['ln K'] = np.log(fit_method['K'])\n",
    "\n",
    "# select values in confidence values 0.1 < theta < 0.9\n",
    "fit_method  = fit_method.loc[60:70]\n",
    "# change celsius to kelvin\n",
    "fit_method = fit_method.set_index(1/(fit_method.index + 273.15))\n",
    "\n",
    "# make linear fit and plot\n",
    "enthalpy_fit, params_fit = ana.lm_fit(fit_method.T, wave=\"ln K\", f_type='linear', guess=[80000, -2])\n",
    "error = {\"fit\" : enthalpy_fit[\"error\"].to_numpy()}\n",
    "plot.mult_func([\"ln K\", \"fit\"], [enthalpy_fit.T], error=error, x_label=\"1/T [1/Kelvin]\", y_label=\"ln K\")"
   ]
  },
  {
   "cell_type": "markdown",
   "id": "hollywood-budget",
   "metadata": {},
   "source": [
    "**Calculate Entropy and Enthalpy**"
   ]
  },
  {
   "cell_type": "code",
   "execution_count": 13,
   "id": "tutorial-witness",
   "metadata": {},
   "outputs": [
    {
     "name": "stdout",
     "output_type": "stream",
     "text": [
      "                      base        norm          fit\n",
      "units                                              \n",
      "H [kJ/mol]     -686.554867 -686.554867 -1189.104403\n",
      "H [kcal/mol]   -164.090527 -164.090527  -284.202730\n",
      "S [kJ/mol*K]     -1.887004   -1.887004    -3.371934\n",
      "S [kcal/mol*K]   -0.451005   -0.451005    -0.805911\n"
     ]
    }
   ],
   "source": [
    "enthalpy = pd.DataFrame([\"H [kJ/mol]\", \"H [kcal/mol]\", \"S [kJ/mol*K]\", \"S [kcal/mol*K]\"], columns=[\"units\"])\n",
    "enthalpy = enthalpy.set_index(\"units\")\n",
    "\n",
    "# for base method\n",
    "m, y0 = params_base.values()\n",
    "delta_H = -m * 8.3145\n",
    "delta_S = y0 * 8.3145\n",
    "enthalpy[\"base\"] = [delta_H*10**(-3), delta_H*0.2390057*10**(-3), delta_S*10**(-3), delta_S*0.2390057*10**(-3)]\n",
    "\n",
    "# for normed method\n",
    "m, y0 = params_norm.values()\n",
    "delta_H = -m * 8.3145\n",
    "delta_S = y0 * 8.3145\n",
    "enthalpy[\"norm\"] = [delta_H*10**(-3), delta_H*0.2390057*10**(-3), delta_S*10**(-3), delta_S*0.2390057*10**(-3)]\n",
    "\n",
    "# for fit method\n",
    "m, y0 = params_fit.values()\n",
    "delta_H = -m * 8.3145\n",
    "delta_S = y0 * 8.3145\n",
    "enthalpy[\"fit\"] = [delta_H*10**(-3), delta_H*0.2390057*10**(-3), delta_S*10**(-3), delta_S*0.2390057*10**(-3)]\n",
    "\n",
    "print(enthalpy)"
   ]
  },
  {
   "cell_type": "markdown",
   "id": "unexpected-volume",
   "metadata": {},
   "source": [
    "## Derivative\n"
   ]
  },
  {
   "cell_type": "code",
   "execution_count": 14,
   "id": "hollywood-prize",
   "metadata": {},
   "outputs": [],
   "source": [
    "deriv = ana.derivative(data_all[\"Control_0M\"].absorb_df)\n",
    "data = data_all[\"Control_0M\"].absorb_df"
   ]
  },
  {
   "cell_type": "code",
   "execution_count": 15,
   "id": "educational-current",
   "metadata": {},
   "outputs": [
    {
     "data": {
      "application/vnd.jupyter.widget-view+json": {
       "model_id": "30b02ee004904cea8882667307fdf477",
       "version_major": 2,
       "version_minor": 0
      },
      "text/plain": [
       "Canvas(toolbar=Toolbar(toolitems=[('Home', 'Reset original view', 'home', 'home'), ('Back', 'Back to previous …"
      ]
     },
     "metadata": {},
     "output_type": "display_data"
    }
   ],
   "source": [
    "plot.mult_func([260], [data], [deriv], title= \"Hypochromatic shift\", subtitle=[\"Absolute value\", \"interpolated derivative\"], label=[\"\"], y_label=\"Absorbance\")"
   ]
  },
  {
   "cell_type": "code",
   "execution_count": null,
   "id": "selected-drilling",
   "metadata": {},
   "outputs": [],
   "source": []
  }
 ],
 "metadata": {
  "kernelspec": {
   "display_name": "Python 3",
   "language": "python",
   "name": "python3"
  },
  "language_info": {
   "codemirror_mode": {
    "name": "ipython",
    "version": 3
   },
   "file_extension": ".py",
   "mimetype": "text/x-python",
   "name": "python",
   "nbconvert_exporter": "python",
   "pygments_lexer": "ipython3",
   "version": "3.8.6"
  },
  "toc-autonumbering": true,
  "toc-showcode": false,
  "toc-showmarkdowntxt": false
 },
 "nbformat": 4,
 "nbformat_minor": 5
}
