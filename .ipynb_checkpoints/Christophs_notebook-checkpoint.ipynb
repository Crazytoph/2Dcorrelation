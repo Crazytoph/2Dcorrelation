{
 "cells": [
  {
   "cell_type": "markdown",
   "id": "moved-adjustment",
   "metadata": {},
   "source": [
    "*for more information, checkout* [Github](https://github.com/Crazytoph/2Dcorrelation \"my github page\")."
   ]
  },
  {
   "cell_type": "markdown",
   "id": "removable-portugal",
   "metadata": {},
   "source": [
    "# CD Measurements - Data Analysis"
   ]
  },
  {
   "cell_type": "markdown",
   "id": "played-alfred",
   "metadata": {},
   "source": [
    "## *setting up the Notebook*"
   ]
  },
  {
   "cell_type": "code",
   "execution_count": 1,
   "id": "hearing-arlington",
   "metadata": {},
   "outputs": [],
   "source": [
    "# Enabling the `widget` backend.\n",
    "# This requires jupyter-matplotlib a.k.a. ipympl.\n",
    "# ipympl can be install via pip or conda.\n",
    "%matplotlib widget\n",
    "        \n",
    "import matplotlib.pyplot as plt\n",
    "import numpy as np\n",
    "import pandas as pd\n",
    "from ipywidgets import Output\n",
    "import matplotlib\n",
    "import openpyxl\n",
    "\n",
    "from scipy import integrate\n",
    "import lmfit\n",
    "import os"
   ]
  },
  {
   "cell_type": "code",
   "execution_count": 2,
   "id": "threaded-hepatitis",
   "metadata": {},
   "outputs": [],
   "source": [
    "import analise as ana\n",
    "import cdata \n",
    "import hotznplots as plot"
   ]
  },
  {
   "cell_type": "markdown",
   "id": "headed-appliance",
   "metadata": {},
   "source": [
    "<div class=\"alert alert-block alert-info\">\n",
    "<b>Info:</b> Print always whole DataFrames\n",
    "</div>"
   ]
  },
  {
   "cell_type": "code",
   "execution_count": 3,
   "id": "ambient-local",
   "metadata": {},
   "outputs": [],
   "source": [
    "# Default value of display.max_rows is 10 i.e. at max 10 rows will be printed.\n",
    "# Set it None to display all rows in the dataframe\n",
    "pd.set_option('display.max_rows', None)"
   ]
  },
  {
   "cell_type": "code",
   "execution_count": 4,
   "id": "structural-location",
   "metadata": {},
   "outputs": [],
   "source": [
    "# change plot size\n",
    "plt.rcParams[\"figure.figsize\"] = (18,9)"
   ]
  },
  {
   "cell_type": "markdown",
   "id": "lonely-macintosh",
   "metadata": {},
   "source": [
    "<div class=\"alert alert-block alert-info\">\n",
    "<b>Info:</b> Get the data\n",
    "</div>"
   ]
  },
  {
   "cell_type": "code",
   "execution_count": 5,
   "id": "southern-arlington",
   "metadata": {},
   "outputs": [
    {
     "name": "stdout",
     "output_type": "stream",
     "text": [
      "['46_forward', '46_reversed', 'Control_0M', 'Gdm2SO4_0.5M', 'Gdm2SO4_2M', 'Gdm2SO4_4M', 'Gdm2SO4_6M', 'GdmCl_0.5M', 'GdmCl_2M', 'GdmCl_2M_24h', 'GdmCl_4M', 'GdmCl_6M', 'GdmCl_6M_alt', 'GdmSCN_0.5M', 'GdmSCN_2M', 'Urea_2M']\n"
     ]
    }
   ],
   "source": [
    "# Path for Daniel:\n",
    "#path = \"F:\\\\HZDR\\\\CD_data\"\n",
    "\n",
    "# My Path:\n",
    "path = \"C:\\\\Users\\\\crazy\\\\Mega\\\\Uni\\\\Masterarbeit\\\\Projekt\\\\Data\\\\CD_data\\\\DNA Origami\"\n",
    "datalist = os.listdir(path)\n",
    "print(datalist)"
   ]
  },
  {
   "cell_type": "code",
   "execution_count": 6,
   "id": "posted-wallet",
   "metadata": {},
   "outputs": [],
   "source": [
    "# all data in one dictionary with foldernames as names\n",
    "data_all = {}\n",
    "for i in range(len(datalist)):\n",
    "    data_all[datalist[i]] = cdata.CData(os.path.join(path, datalist[i]))"
   ]
  },
  {
   "cell_type": "code",
   "execution_count": 7,
   "id": "logical-updating",
   "metadata": {},
   "outputs": [
    {
     "name": "stdout",
     "output_type": "stream",
     "text": [
      "<cdata.CData object at 0x0000021ECA5870D0>\n",
      "[<cdata.CData object at 0x0000021ECA5870D0>, <cdata.CData object at 0x0000021ECF86B790>]\n",
      "(<cdata.CData object at 0x0000021ECF86B1F0>, <cdata.CData object at 0x0000021ECA574B20>, <cdata.CData object at 0x0000021ECA5870D0>, <cdata.CData object at 0x0000021ECF716DF0>)\n"
     ]
    }
   ],
   "source": [
    "# options to acces data\n",
    "print(data_all['Control_0M'])\n",
    "# multiple options\n",
    "print(list(map(data_all.get, ['Control_0M', 'Gdm2SO4_4M'])))\n",
    "print(tuple(data_all.values())[0:4])"
   ]
  },
  {
   "cell_type": "markdown",
   "id": "elegant-study",
   "metadata": {},
   "source": [
    "## Print-out for PCA\n"
   ]
  },
  {
   "cell_type": "code",
   "execution_count": 9,
   "id": "another-cooling",
   "metadata": {},
   "outputs": [],
   "source": [
    "liste = ['Control_0M', 'GdmCl_0.5M', 'GdmCl_2M', 'GdmCl_4M', 'GdmCl_6M']"
   ]
  },
  {
   "cell_type": "code",
   "execution_count": 13,
   "id": "infrared-generation",
   "metadata": {},
   "outputs": [
    {
     "name": "stdout",
     "output_type": "stream",
     "text": [
      "17\n",
      "32\n",
      "47\n",
      "63\n",
      "79\n"
     ]
    }
   ],
   "source": [
    "print_path = \"C:\\\\Users\\\\crazy\\\\Mega\\\\Uni\\\\Masterarbeit\\\\Projekt\\\\Data\\\\PCA\"\n",
    "i= 1\n",
    "\n",
    "for key in liste:\n",
    "    for col in data_all[key].cd_df.columns:\n",
    "        name =  print_path + '\\\\' + 'GdmCl_all' + '\\\\' + str(i) + '.dat'\n",
    "        data_all[key].cd_df.loc[:, col].to_csv(name, sep = \" \", header=False)\n",
    "        i = i + 1\n",
    "    print(i)"
   ]
  },
  {
   "cell_type": "markdown",
   "id": "reserved-virtue",
   "metadata": {},
   "source": [
    "## Colormaps"
   ]
  },
  {
   "cell_type": "markdown",
   "id": "geological-narrative",
   "metadata": {},
   "source": [
    "### Heat Maps"
   ]
  },
  {
   "cell_type": "code",
   "execution_count": 13,
   "id": "preceding-greek",
   "metadata": {},
   "outputs": [
    {
     "data": {
      "application/vnd.jupyter.widget-view+json": {
       "model_id": "4b63b355bf70415494e097e29646da1e",
       "version_major": 2,
       "version_minor": 0
      },
      "text/plain": [
       "Canvas(toolbar=Toolbar(toolitems=[('Home', 'Reset original view', 'home', 'home'), ('Back', 'Back to previous …"
      ]
     },
     "metadata": {},
     "output_type": "display_data"
    },
    {
     "data": {
      "application/vnd.jupyter.widget-view+json": {
       "model_id": "9736ce658b584561905a7ad914b9f2bd",
       "version_major": 2,
       "version_minor": 0
      },
      "text/plain": [
       "Canvas(toolbar=Toolbar(toolitems=[('Home', 'Reset original view', 'home', 'home'), ('Back', 'Back to previous …"
      ]
     },
     "metadata": {},
     "output_type": "display_data"
    },
    {
     "data": {
      "application/vnd.jupyter.widget-view+json": {
       "model_id": "5c1ad659798d484fb9a2c612ad214599",
       "version_major": 2,
       "version_minor": 0
      },
      "text/plain": [
       "Canvas(toolbar=Toolbar(toolitems=[('Home', 'Reset original view', 'home', 'home'), ('Back', 'Back to previous …"
      ]
     },
     "metadata": {},
     "output_type": "display_data"
    },
    {
     "data": {
      "application/vnd.jupyter.widget-view+json": {
       "model_id": "a120725f4e974adcb54884190a0f4e2f",
       "version_major": 2,
       "version_minor": 0
      },
      "text/plain": [
       "Canvas(toolbar=Toolbar(toolitems=[('Home', 'Reset original view', 'home', 'home'), ('Back', 'Back to previous …"
      ]
     },
     "metadata": {},
     "output_type": "display_data"
    },
    {
     "data": {
      "application/vnd.jupyter.widget-view+json": {
       "model_id": "52bc939b8aee4051b262a32db001c4f5",
       "version_major": 2,
       "version_minor": 0
      },
      "text/plain": [
       "Canvas(toolbar=Toolbar(toolitems=[('Home', 'Reset original view', 'home', 'home'), ('Back', 'Back to previous …"
      ]
     },
     "metadata": {},
     "output_type": "display_data"
    },
    {
     "data": {
      "application/vnd.jupyter.widget-view+json": {
       "model_id": "586b764605ba49e28a7db148c8639004",
       "version_major": 2,
       "version_minor": 0
      },
      "text/plain": [
       "Canvas(toolbar=Toolbar(toolitems=[('Home', 'Reset original view', 'home', 'home'), ('Back', 'Back to previous …"
      ]
     },
     "metadata": {},
     "output_type": "display_data"
    },
    {
     "data": {
      "application/vnd.jupyter.widget-view+json": {
       "model_id": "5966d9611fa14eba99048ef5ebea5450",
       "version_major": 2,
       "version_minor": 0
      },
      "text/plain": [
       "Canvas(toolbar=Toolbar(toolitems=[('Home', 'Reset original view', 'home', 'home'), ('Back', 'Back to previous …"
      ]
     },
     "metadata": {},
     "output_type": "display_data"
    },
    {
     "data": {
      "application/vnd.jupyter.widget-view+json": {
       "model_id": "2eeb0b33d8504ab395863cd3da15aaca",
       "version_major": 2,
       "version_minor": 0
      },
      "text/plain": [
       "Canvas(toolbar=Toolbar(toolitems=[('Home', 'Reset original view', 'home', 'home'), ('Back', 'Back to previous …"
      ]
     },
     "metadata": {},
     "output_type": "display_data"
    },
    {
     "data": {
      "application/vnd.jupyter.widget-view+json": {
       "model_id": "f7ab56f6eeae4cd8a54df770af80f553",
       "version_major": 2,
       "version_minor": 0
      },
      "text/plain": [
       "Canvas(toolbar=Toolbar(toolitems=[('Home', 'Reset original view', 'home', 'home'), ('Back', 'Back to previous …"
      ]
     },
     "metadata": {},
     "output_type": "display_data"
    },
    {
     "data": {
      "application/vnd.jupyter.widget-view+json": {
       "model_id": "50b745d40357447e9ba1858593f3d5ca",
       "version_major": 2,
       "version_minor": 0
      },
      "text/plain": [
       "Canvas(toolbar=Toolbar(toolitems=[('Home', 'Reset original view', 'home', 'home'), ('Back', 'Back to previous …"
      ]
     },
     "metadata": {},
     "output_type": "display_data"
    },
    {
     "data": {
      "application/vnd.jupyter.widget-view+json": {
       "model_id": "e3cb48c0924443119b04158526c4fa0a",
       "version_major": 2,
       "version_minor": 0
      },
      "text/plain": [
       "Canvas(toolbar=Toolbar(toolitems=[('Home', 'Reset original view', 'home', 'home'), ('Back', 'Back to previous …"
      ]
     },
     "metadata": {},
     "output_type": "display_data"
    },
    {
     "data": {
      "application/vnd.jupyter.widget-view+json": {
       "model_id": "421a144a3955445ea09c8513c28cfe95",
       "version_major": 2,
       "version_minor": 0
      },
      "text/plain": [
       "Canvas(toolbar=Toolbar(toolitems=[('Home', 'Reset original view', 'home', 'home'), ('Back', 'Back to previous …"
      ]
     },
     "metadata": {},
     "output_type": "display_data"
    },
    {
     "data": {
      "application/vnd.jupyter.widget-view+json": {
       "model_id": "aec2ca36d1e3433c9c4c981e856afc49",
       "version_major": 2,
       "version_minor": 0
      },
      "text/plain": [
       "Canvas(toolbar=Toolbar(toolitems=[('Home', 'Reset original view', 'home', 'home'), ('Back', 'Back to previous …"
      ]
     },
     "metadata": {},
     "output_type": "display_data"
    },
    {
     "data": {
      "application/vnd.jupyter.widget-view+json": {
       "model_id": "f139e8dbf08f4825b610cba6c0312850",
       "version_major": 2,
       "version_minor": 0
      },
      "text/plain": [
       "Canvas(toolbar=Toolbar(toolitems=[('Home', 'Reset original view', 'home', 'home'), ('Back', 'Back to previous …"
      ]
     },
     "metadata": {},
     "output_type": "display_data"
    },
    {
     "data": {
      "application/vnd.jupyter.widget-view+json": {
       "model_id": "f1f7c5f69b284db0b17f8e114b9852b3",
       "version_major": 2,
       "version_minor": 0
      },
      "text/plain": [
       "Canvas(toolbar=Toolbar(toolitems=[('Home', 'Reset original view', 'home', 'home'), ('Back', 'Back to previous …"
      ]
     },
     "metadata": {},
     "output_type": "display_data"
    },
    {
     "data": {
      "application/vnd.jupyter.widget-view+json": {
       "model_id": "10ade1df297d419fbef390eecf5decd5",
       "version_major": 2,
       "version_minor": 0
      },
      "text/plain": [
       "Canvas(toolbar=Toolbar(toolitems=[('Home', 'Reset original view', 'home', 'home'), ('Back', 'Back to previous …"
      ]
     },
     "metadata": {},
     "output_type": "display_data"
    }
   ],
   "source": [
    "for key in data_all.keys():\n",
    "    plot.heatmap(data_all[key].cd_df, subtitle=[\"\"], title=str(key), x_min=[210], swap=True)"
   ]
  },
  {
   "cell_type": "code",
   "execution_count": 9,
   "id": "otherwise-vessel",
   "metadata": {},
   "outputs": [],
   "source": [
    "#plot.heatmap(*tuple(data_all.values()), subtitle=tuple(data_all.keys()), title=\"Cd-Values\", x_min=[220]*len(data_all), swap=False)"
   ]
  },
  {
   "cell_type": "markdown",
   "id": "exterior-landing",
   "metadata": {},
   "source": [
    "### 3D surface plots"
   ]
  },
  {
   "cell_type": "code",
   "execution_count": 14,
   "id": "tamil-spirituality",
   "metadata": {},
   "outputs": [
    {
     "data": {
      "application/vnd.jupyter.widget-view+json": {
       "model_id": "6d750bc1515e46059f320fa55d605fb7",
       "version_major": 2,
       "version_minor": 0
      },
      "text/plain": [
       "Canvas(toolbar=Toolbar(toolitems=[('Home', 'Reset original view', 'home', 'home'), ('Back', 'Back to previous …"
      ]
     },
     "metadata": {},
     "output_type": "display_data"
    },
    {
     "name": "stderr",
     "output_type": "stream",
     "text": [
      "No handles with labels found to put in legend.\n"
     ]
    }
   ],
   "source": [
    "df = data_all[\"Control_0M\"].cd_df.loc[205:]\n",
    "\n",
    "plot.function3d(df, title=\"\")"
   ]
  },
  {
   "cell_type": "markdown",
   "id": "perceived-standard",
   "metadata": {},
   "source": [
    "## Function Plots "
   ]
  },
  {
   "cell_type": "markdown",
   "id": "injured-harvey",
   "metadata": {},
   "source": [
    "### CD-Spectra Plot"
   ]
  },
  {
   "cell_type": "code",
   "execution_count": 12,
   "id": "informal-election",
   "metadata": {},
   "outputs": [
    {
     "data": {
      "application/vnd.jupyter.widget-view+json": {
       "model_id": "ab291a897b704184933ba75992ab4cdd",
       "version_major": 2,
       "version_minor": 0
      },
      "text/plain": [
       "Canvas(toolbar=Toolbar(toolitems=[('Home', 'Reset original view', 'home', 'home'), ('Back', 'Back to previous …"
      ]
     },
     "metadata": {},
     "output_type": "display_data"
    }
   ],
   "source": [
    "wave_min = 200\n",
    "wave_max = 330\n",
    "\n",
    "key_list = ['Control_0M', 'Gdm2SO4_0.5M', 'Gdm2SO4_2M', 'Gdm2SO4_4M', \"Gdm2SO4_6M\"]\n",
    "plot.mult_func([20, 45, 64, 80], [data_all[\"Control_0M\"].cd_df.loc[wave_min:wave_max]], swap=True,\n",
    "                   x_label=\"Wavelength [nm]\", y_label=\"CD values [mdeg]\", subtitle=[\"\"], marker=['', '', '', ''], linestyle=['-', ':', ':', '-'], baseline=True, label=[\"20°C\",\"45°C\", \"64°C\", \"80°C\"])"
   ]
  },
  {
   "cell_type": "code",
   "execution_count": 61,
   "id": "stretch-original",
   "metadata": {},
   "outputs": [
    {
     "data": {
      "application/vnd.jupyter.widget-view+json": {
       "model_id": "ebb4459ff66c46d086059d48ebad7bc0",
       "version_major": 2,
       "version_minor": 0
      },
      "text/plain": [
       "Canvas(toolbar=Toolbar(toolitems=[('Home', 'Reset original view', 'home', 'home'), ('Back', 'Back to previous …"
      ]
     },
     "metadata": {},
     "output_type": "display_data"
    },
    {
     "data": {
      "application/vnd.jupyter.widget-view+json": {
       "model_id": "23e9df198f9c47bc897e91d2eb4bae2d",
       "version_major": 2,
       "version_minor": 0
      },
      "text/plain": [
       "Canvas(toolbar=Toolbar(toolitems=[('Home', 'Reset original view', 'home', 'home'), ('Back', 'Back to previous …"
      ]
     },
     "metadata": {},
     "output_type": "display_data"
    },
    {
     "data": {
      "application/vnd.jupyter.widget-view+json": {
       "model_id": "1bbf69881e044faa8c82885097eda292",
       "version_major": 2,
       "version_minor": 0
      },
      "text/plain": [
       "Canvas(toolbar=Toolbar(toolitems=[('Home', 'Reset original view', 'home', 'home'), ('Back', 'Back to previous …"
      ]
     },
     "metadata": {},
     "output_type": "display_data"
    },
    {
     "data": {
      "application/vnd.jupyter.widget-view+json": {
       "model_id": "a91f14ba5f6e4e5bac5c3e97cd278c10",
       "version_major": 2,
       "version_minor": 0
      },
      "text/plain": [
       "Canvas(toolbar=Toolbar(toolitems=[('Home', 'Reset original view', 'home', 'home'), ('Back', 'Back to previous …"
      ]
     },
     "metadata": {},
     "output_type": "display_data"
    },
    {
     "data": {
      "application/vnd.jupyter.widget-view+json": {
       "model_id": "10aa6a9e061f4be98c41452bda546a40",
       "version_major": 2,
       "version_minor": 0
      },
      "text/plain": [
       "Canvas(toolbar=Toolbar(toolitems=[('Home', 'Reset original view', 'home', 'home'), ('Back', 'Back to previous …"
      ]
     },
     "metadata": {},
     "output_type": "display_data"
    },
    {
     "data": {
      "application/vnd.jupyter.widget-view+json": {
       "model_id": "1d7c83663800455b911b89d2f53ed5a0",
       "version_major": 2,
       "version_minor": 0
      },
      "text/plain": [
       "Canvas(toolbar=Toolbar(toolitems=[('Home', 'Reset original view', 'home', 'home'), ('Back', 'Back to previous …"
      ]
     },
     "metadata": {},
     "output_type": "display_data"
    },
    {
     "data": {
      "application/vnd.jupyter.widget-view+json": {
       "model_id": "a9c6f0d1d8a5451487b57eefc3fc8400",
       "version_major": 2,
       "version_minor": 0
      },
      "text/plain": [
       "Canvas(toolbar=Toolbar(toolitems=[('Home', 'Reset original view', 'home', 'home'), ('Back', 'Back to previous …"
      ]
     },
     "metadata": {},
     "output_type": "display_data"
    },
    {
     "data": {
      "application/vnd.jupyter.widget-view+json": {
       "model_id": "459ddc28b40f4bd89d890967aef21ed6",
       "version_major": 2,
       "version_minor": 0
      },
      "text/plain": [
       "Canvas(toolbar=Toolbar(toolitems=[('Home', 'Reset original view', 'home', 'home'), ('Back', 'Back to previous …"
      ]
     },
     "metadata": {},
     "output_type": "display_data"
    },
    {
     "data": {
      "application/vnd.jupyter.widget-view+json": {
       "model_id": "69e979671ae74339a31a96c0537dda57",
       "version_major": 2,
       "version_minor": 0
      },
      "text/plain": [
       "Canvas(toolbar=Toolbar(toolitems=[('Home', 'Reset original view', 'home', 'home'), ('Back', 'Back to previous …"
      ]
     },
     "metadata": {},
     "output_type": "display_data"
    }
   ],
   "source": [
    "wave_min = 200\n",
    "wave_max = 330\n",
    "\n",
    "key_list = ['Control_0M', 'Gdm2SO4_0.5M', 'Gdm2SO4_2M', 'Gdm2SO4_4M', 'GdmCl_0.5M', 'GdmCl_2M',  'GdmCl_4M', 'GdmSCN_0.5M', 'GdmSCN_2M']\n",
    "for key in key_list:\n",
    "    plot.mult_func([20, 45, 64, 80], [data_all[key].cd_df.loc[wave_min:wave_max]], title=key, swap=True,\n",
    "                   x_label=\"Wavelength [nm]\", y_label=\"CD values [mdeg]\", subtitle=[\"\"], label=[\"20°C\", \"45°C\", \"64°C\", \"80°C\"], marker=['', '', '', ''], linestyle=['-', ':', ':', '-'], baseline=True, \n",
    "                   y_min=[-8], y_max=[6], y_scaling=True)"
   ]
  },
  {
   "cell_type": "code",
   "execution_count": 9,
   "id": "charged-hospital",
   "metadata": {},
   "outputs": [
    {
     "data": {
      "application/vnd.jupyter.widget-view+json": {
       "model_id": "f50680fe04ce440ca3c63d04a862232b",
       "version_major": 2,
       "version_minor": 0
      },
      "text/plain": [
       "Canvas(toolbar=Toolbar(toolitems=[('Home', 'Reset original view', 'home', 'home'), ('Back', 'Back to previous …"
      ]
     },
     "metadata": {},
     "output_type": "display_data"
    }
   ],
   "source": [
    "data=[]\n",
    "for key in data_all.keys():\n",
    "    data.append([data_all[key].cd_df.T])\n",
    "\n",
    "plot.mult_func([20, 40, 55, 60, 65, 70, 90], *data, subtitle=tuple(data_all.keys()),\n",
    "               title=\"CD-Spectra\", marker=[\"\",\"\", \"\", \"\", \"\", \"\", \"\"], x_min=210\n",
    "              )"
   ]
  },
  {
   "cell_type": "markdown",
   "id": "cheap-executive",
   "metadata": {},
   "source": [
    "### Max/Min Plots\n"
   ]
  },
  {
   "cell_type": "markdown",
   "id": "arabic-bradley",
   "metadata": {},
   "source": [
    "multiple probes"
   ]
  },
  {
   "cell_type": "code",
   "execution_count": 10,
   "id": "hungarian-palestine",
   "metadata": {},
   "outputs": [
    {
     "data": {
      "application/vnd.jupyter.widget-view+json": {
       "model_id": "6f696b1d2e1446f39663abdd45427261",
       "version_major": 2,
       "version_minor": 0
      },
      "text/plain": [
       "Canvas(toolbar=Toolbar(toolitems=[('Home', 'Reset original view', 'home', 'home'), ('Back', 'Back to previous …"
      ]
     },
     "metadata": {},
     "output_type": "display_data"
    }
   ],
   "source": [
    "wave_min = 210\n",
    "wave_max =  230\n",
    "\n",
    "\n",
    "# First data you want to add to the plot\n",
    "plot_data =  ana.max_wave(data_all[\"Control_0M\"].cd_df, wave_min=wave_min, wave_max=wave_max)\n",
    "plot_data = plot_data.drop(['Wavelength'], axis=1)   \n",
    "plot_data.rename(columns = {'Value': 'Control_0M'}, inplace = True)\n",
    "\n",
    "\n",
    "\n",
    "# other Data you want to add, if always same max/min values then loop would be possible\n",
    "plot_data[\"GdmCl_4M\"] = ana.max_wave(data_all[\"GdmCl_4M\"].cd_df, wave_min=wave_min, wave_max=wave_max)[\"Value\"]\n",
    "plot_data[\"Gdm2SO4_2M\"] = ana.max_wave(data_all[\"Gdm2SO4_2M\"].cd_df, wave_min=wave_min, wave_max=wave_max)[\"Value\"]\n",
    "#plot_data[\"GdmSCN_2M\"] 2= ana.max_wave(data_all[\"GdmSCN_2M\"].cd_df, wave_min=wave_min, wave_max=wave_max)[\"Value\"]\n",
    "\n",
    "\n",
    "plot.mult_func([\"Control_0M\", \"GdmCl_4M\", \"Gdm2SO4_2M\"], [plot_data.T], subtitle=[\"\"], title=\"Max. CD Value between 210nm - 230nm\")"
   ]
  },
  {
   "cell_type": "markdown",
   "id": "automatic-cardiff",
   "metadata": {},
   "source": [
    "one probe"
   ]
  },
  {
   "cell_type": "code",
   "execution_count": 15,
   "id": "rotary-madrid",
   "metadata": {},
   "outputs": [
    {
     "data": {
      "application/vnd.jupyter.widget-view+json": {
       "model_id": "f72d97d41e48459eb723bb30acc239cd",
       "version_major": 2,
       "version_minor": 0
      },
      "text/plain": [
       "Canvas(toolbar=Toolbar(toolitems=[('Home', 'Reset original view', 'home', 'home'), ('Back', 'Back to previous …"
      ]
     },
     "metadata": {},
     "output_type": "display_data"
    },
    {
     "data": {
      "application/vnd.jupyter.widget-view+json": {
       "model_id": "83a43084f829464c8d1d2c3cbbe6535a",
       "version_major": 2,
       "version_minor": 0
      },
      "text/plain": [
       "Canvas(toolbar=Toolbar(toolitems=[('Home', 'Reset original view', 'home', 'home'), ('Back', 'Back to previous …"
      ]
     },
     "metadata": {},
     "output_type": "display_data"
    },
    {
     "data": {
      "application/vnd.jupyter.widget-view+json": {
       "model_id": "f48223ffb14c49079e937ecb7fadde39",
       "version_major": 2,
       "version_minor": 0
      },
      "text/plain": [
       "Canvas(toolbar=Toolbar(toolitems=[('Home', 'Reset original view', 'home', 'home'), ('Back', 'Back to previous …"
      ]
     },
     "metadata": {},
     "output_type": "display_data"
    },
    {
     "data": {
      "application/vnd.jupyter.widget-view+json": {
       "model_id": "d46d1249cc1d44f6a0b5090cd69dada9",
       "version_major": 2,
       "version_minor": 0
      },
      "text/plain": [
       "Canvas(toolbar=Toolbar(toolitems=[('Home', 'Reset original view', 'home', 'home'), ('Back', 'Back to previous …"
      ]
     },
     "metadata": {},
     "output_type": "display_data"
    },
    {
     "data": {
      "application/vnd.jupyter.widget-view+json": {
       "model_id": "3c475e2f6c944bea910df4241fb30393",
       "version_major": 2,
       "version_minor": 0
      },
      "text/plain": [
       "Canvas(toolbar=Toolbar(toolitems=[('Home', 'Reset original view', 'home', 'home'), ('Back', 'Back to previous …"
      ]
     },
     "metadata": {},
     "output_type": "display_data"
    },
    {
     "data": {
      "application/vnd.jupyter.widget-view+json": {
       "model_id": "221f08fdd72b4892bcca8879e40e895d",
       "version_major": 2,
       "version_minor": 0
      },
      "text/plain": [
       "Canvas(toolbar=Toolbar(toolitems=[('Home', 'Reset original view', 'home', 'home'), ('Back', 'Back to previous …"
      ]
     },
     "metadata": {},
     "output_type": "display_data"
    },
    {
     "data": {
      "application/vnd.jupyter.widget-view+json": {
       "model_id": "c63995a5677047b8a4e9d6b28a0d7097",
       "version_major": 2,
       "version_minor": 0
      },
      "text/plain": [
       "Canvas(toolbar=Toolbar(toolitems=[('Home', 'Reset original view', 'home', 'home'), ('Back', 'Back to previous …"
      ]
     },
     "metadata": {},
     "output_type": "display_data"
    },
    {
     "data": {
      "application/vnd.jupyter.widget-view+json": {
       "model_id": "efe1dc62afb94b719617149d94e38868",
       "version_major": 2,
       "version_minor": 0
      },
      "text/plain": [
       "Canvas(toolbar=Toolbar(toolitems=[('Home', 'Reset original view', 'home', 'home'), ('Back', 'Back to previous …"
      ]
     },
     "metadata": {},
     "output_type": "display_data"
    },
    {
     "data": {
      "application/vnd.jupyter.widget-view+json": {
       "model_id": "4e9be91f4fae492983160df331a99a03",
       "version_major": 2,
       "version_minor": 0
      },
      "text/plain": [
       "Canvas(toolbar=Toolbar(toolitems=[('Home', 'Reset original view', 'home', 'home'), ('Back', 'Back to previous …"
      ]
     },
     "metadata": {},
     "output_type": "display_data"
    },
    {
     "data": {
      "application/vnd.jupyter.widget-view+json": {
       "model_id": "4957eaa15b9844038a47f2f677677b0b",
       "version_major": 2,
       "version_minor": 0
      },
      "text/plain": [
       "Canvas(toolbar=Toolbar(toolitems=[('Home', 'Reset original view', 'home', 'home'), ('Back', 'Back to previous …"
      ]
     },
     "metadata": {},
     "output_type": "display_data"
    },
    {
     "data": {
      "application/vnd.jupyter.widget-view+json": {
       "model_id": "f132d95add7b4185bd0b7bbfa7bcdf9e",
       "version_major": 2,
       "version_minor": 0
      },
      "text/plain": [
       "Canvas(toolbar=Toolbar(toolitems=[('Home', 'Reset original view', 'home', 'home'), ('Back', 'Back to previous …"
      ]
     },
     "metadata": {},
     "output_type": "display_data"
    }
   ],
   "source": [
    "wave_min = 260\n",
    "wave_max =  290\n",
    "title = \"Max. CD-Value between \" + str(wave_min) + \"nm - \" + str(wave_max) +\"nm\"\n",
    "\n",
    "for key in data_all.keys():\n",
    "    plot_data =  ana.max_wave(data_all[key].cd_df, wave_min=wave_min, wave_max=wave_max)\n",
    "    plot.mult_func([\"Value\"], [plot_data.T], subtitle=[\"\"], vertical_line=[melt_T[key]], title=title, label=[key, \"melting Temp.\"])\n",
    "\n"
   ]
  },
  {
   "cell_type": "markdown",
   "id": "pregnant-tribe",
   "metadata": {},
   "source": [
    "## Correlation Analyis"
   ]
  },
  {
   "cell_type": "markdown",
   "id": "secure-category",
   "metadata": {},
   "source": [
    "<div class=\"alert alert-block alert-info\">\n",
    "<b>Info:</b> Noda, I. (2007). Two-dimensional correlation analysis useful for spectroscopy, chromatography, and other analytical measurements. Analytical Sciences, 23(2), 139–146. https://doi.org/10.2116/analsci.23.139\n",
    "</div>"
   ]
  },
  {
   "cell_type": "markdown",
   "id": "loving-carter",
   "metadata": {},
   "source": [
    "<div class=\"alert alert-block alert-info\">\n",
    "<b>Info:</b> Noda, I. (2015). Techniques of two-dimensional (2D) correlation spectroscopy useful in life science research. Biomedical Spectroscopy and Imaging, 4(2), 109–127. https://doi.org/10.3233/bsi-150105\n",
    "</div>"
   ]
  },
  {
   "cell_type": "markdown",
   "id": "continental-bronze",
   "metadata": {},
   "source": [
    "### Homogenous Spectrum\n",
    "\n",
    "*optional: pareto scaling, auto scaling and Reference and projection*"
   ]
  },
  {
   "cell_type": "code",
   "execution_count": 8,
   "id": "congressional-recognition",
   "metadata": {},
   "outputs": [],
   "source": [
    "liste =  ['Control_0M', 'Gdm2SO4_0.5M', 'Gdm2SO4_2M', 'Gdm2SO4_4M', 'Gdm2SO4_6M', 'GdmCl_0.5M', 'GdmCl_2M' , 'GdmCl_4M', 'GdmCl_6M']\n",
    "t_min = 20\n",
    "t_max = 90"
   ]
  },
  {
   "cell_type": "code",
   "execution_count": 10,
   "id": "operating-candy",
   "metadata": {},
   "outputs": [
    {
     "data": {
      "application/vnd.jupyter.widget-view+json": {
       "model_id": "9db023e443694551b0c337f0bde37dd7",
       "version_major": 2,
       "version_minor": 0
      },
      "text/plain": [
       "Canvas(toolbar=Toolbar(toolitems=[('Home', 'Reset original view', 'home', 'home'), ('Back', 'Back to previous …"
      ]
     },
     "metadata": {},
     "output_type": "display_data"
    },
    {
     "data": {
      "application/vnd.jupyter.widget-view+json": {
       "model_id": "efa163c37f804ff0be44f31e1f2fb9ab",
       "version_major": 2,
       "version_minor": 0
      },
      "text/plain": [
       "Canvas(toolbar=Toolbar(toolitems=[('Home', 'Reset original view', 'home', 'home'), ('Back', 'Back to previous …"
      ]
     },
     "metadata": {},
     "output_type": "display_data"
    },
    {
     "data": {
      "application/vnd.jupyter.widget-view+json": {
       "model_id": "f22972ab58714c1181056b4ab5e00bb3",
       "version_major": 2,
       "version_minor": 0
      },
      "text/plain": [
       "Canvas(toolbar=Toolbar(toolitems=[('Home', 'Reset original view', 'home', 'home'), ('Back', 'Back to previous …"
      ]
     },
     "metadata": {},
     "output_type": "display_data"
    },
    {
     "data": {
      "application/vnd.jupyter.widget-view+json": {
       "model_id": "4aa9eeef88ab4ca59deedca575ab63e6",
       "version_major": 2,
       "version_minor": 0
      },
      "text/plain": [
       "Canvas(toolbar=Toolbar(toolitems=[('Home', 'Reset original view', 'home', 'home'), ('Back', 'Back to previous …"
      ]
     },
     "metadata": {},
     "output_type": "display_data"
    },
    {
     "data": {
      "application/vnd.jupyter.widget-view+json": {
       "model_id": "acc52261c1df4dafb6b9ca43cb4fcd6b",
       "version_major": 2,
       "version_minor": 0
      },
      "text/plain": [
       "Canvas(toolbar=Toolbar(toolitems=[('Home', 'Reset original view', 'home', 'home'), ('Back', 'Back to previous …"
      ]
     },
     "metadata": {},
     "output_type": "display_data"
    },
    {
     "data": {
      "application/vnd.jupyter.widget-view+json": {
       "model_id": "6d995a58168f4b7bb5423648b5b74a0b",
       "version_major": 2,
       "version_minor": 0
      },
      "text/plain": [
       "Canvas(toolbar=Toolbar(toolitems=[('Home', 'Reset original view', 'home', 'home'), ('Back', 'Back to previous …"
      ]
     },
     "metadata": {},
     "output_type": "display_data"
    },
    {
     "data": {
      "application/vnd.jupyter.widget-view+json": {
       "model_id": "8f9ec43bb2e74b30b45cc69ceec4e968",
       "version_major": 2,
       "version_minor": 0
      },
      "text/plain": [
       "Canvas(toolbar=Toolbar(toolitems=[('Home', 'Reset original view', 'home', 'home'), ('Back', 'Back to previous …"
      ]
     },
     "metadata": {},
     "output_type": "display_data"
    },
    {
     "data": {
      "application/vnd.jupyter.widget-view+json": {
       "model_id": "523a695aea7f47038e0322e22327db5e",
       "version_major": 2,
       "version_minor": 0
      },
      "text/plain": [
       "Canvas(toolbar=Toolbar(toolitems=[('Home', 'Reset original view', 'home', 'home'), ('Back', 'Back to previous …"
      ]
     },
     "metadata": {},
     "output_type": "display_data"
    },
    {
     "data": {
      "application/vnd.jupyter.widget-view+json": {
       "model_id": "3c7d6e05a9364e5b846408bd977ea233",
       "version_major": 2,
       "version_minor": 0
      },
      "text/plain": [
       "Canvas(toolbar=Toolbar(toolitems=[('Home', 'Reset original view', 'home', 'home'), ('Back', 'Back to previous …"
      ]
     },
     "metadata": {},
     "output_type": "display_data"
    }
   ],
   "source": [
    "for key in liste:\n",
    "    # get reference\n",
    "    ref = data_all[key].cd_df.loc[:, 20]\n",
    "    # sort out values with HT above 900\n",
    "    df = data_all[key].cd_df\n",
    "    for wave in data_all[key].ht_df.index:\n",
    "        if data_all[key].ht_df.max(axis=1).loc[wave] >= 900:\n",
    "            df = df.drop(wave)\n",
    "            ref = ref.drop(wave)\n",
    "    # calculate\n",
    "    sync1, assync1 = ana.correlation(df, scaling='pareto', ref_spec=[ref], center=False)\n",
    "    sync2, assync2 = ana.correlation(df, scaling='auto', ref_spec=[ref], center=False)\n",
    "    sync3, assync3 = ana.correlation(df, scaling=None, ref_spec=[ref], center=False)\n",
    "    # plot\n",
    "    plot.heatmap(sync1, assync1, sync2, assync2, title=str(key), subtitle=[\"Synchronous Spectrum\", \"Asynchronous Spectrum\", \"Synchronous Spectrum\", \"Asynchronous Spectrum\"], y_label=\"wavelength 1 [nm]\", \n",
    "                 x_label=\"wavenlength 2 [nm]\", x_min=[215,215,215, 215], y_min=[215, 215, 215, 215])"
   ]
  },
  {
   "cell_type": "markdown",
   "id": "amended-divide",
   "metadata": {},
   "source": [
    "### Tools for Analysis"
   ]
  },
  {
   "cell_type": "markdown",
   "id": "accredited-disabled",
   "metadata": {},
   "source": [
    "<div class=\"alert alert-block alert-info\">\n",
    "<b>Info:</b> Change 'key' to wanted measurement!\n",
    "</div>"
   ]
  },
  {
   "cell_type": "code",
   "execution_count": 57,
   "id": "determined-haiti",
   "metadata": {},
   "outputs": [],
   "source": [
    "key1 = \"Gdm2SO4_4M\"\n",
    "key2 = \"Gdm2SO4_6M\"\n",
    "ref1 = data_all[key1].cd_df.loc[:, 20]\n",
    "ref2 = data_all[key2].cd_df.loc[:, 20]\n",
    "sync, assync = ana.correlation(data_all[key1].cd_df, data_all[key2].cd_df, scaling='pareto', ref_spec=[ref1, ref2], center=False)"
   ]
  },
  {
   "cell_type": "code",
   "execution_count": 58,
   "id": "emotional-ticket",
   "metadata": {},
   "outputs": [
    {
     "data": {
      "application/vnd.jupyter.widget-view+json": {
       "model_id": "19a2be7e0d534a86b1ee2852a41410db",
       "version_major": 2,
       "version_minor": 0
      },
      "text/plain": [
       "Canvas(toolbar=Toolbar(toolitems=[('Home', 'Reset original view', 'home', 'home'), ('Back', 'Back to previous …"
      ]
     },
     "metadata": {},
     "output_type": "display_data"
    }
   ],
   "source": [
    "plot.heatmap(sync, assync,  title=str(key1) + str(key2), subtitle=[\"Synchronous Spectrum\", \"Asynchronous Spectrum\"], x_min=[210, 210], y_min=[210, 210],\n",
    "                y_label= str(key1) + \" WL[nm]\", x_label= str(key2) + \" WL[nm]\")"
   ]
  },
  {
   "cell_type": "markdown",
   "id": "strategic-calculation",
   "metadata": {},
   "source": [
    "**Diagonal Analysis**"
   ]
  },
  {
   "cell_type": "code",
   "execution_count": 10,
   "id": "brief-occasion",
   "metadata": {},
   "outputs": [
    {
     "data": {
      "application/vnd.jupyter.widget-view+json": {
       "model_id": "33424403a0ba4148b96325a1257bfccf",
       "version_major": 2,
       "version_minor": 0
      },
      "text/plain": [
       "Canvas(toolbar=Toolbar(toolitems=[('Home', 'Reset original view', 'home', 'home'), ('Back', 'Back to previous …"
      ]
     },
     "metadata": {},
     "output_type": "display_data"
    }
   ],
   "source": [
    "arr = sync.to_numpy()\n",
    "diag =  pd.DataFrame(arr.diagonal(), index=sync.index)\n",
    "wave =  list(sync.index)[:-1]\n",
    "diff =  pd.DataFrame(np.diff(arr.diagonal()), index=wave)\n",
    "plot.mult_func([0], [diff.T, diag.T], baseline=True, x_label=\"wavelength [nm]\", subtitle=[\"Diagonal with differential\"], label=[\"CD Values\", \"Differential\"], x_min=210)"
   ]
  },
  {
   "cell_type": "markdown",
   "id": "proper-footage",
   "metadata": {},
   "source": [
    "**Line Analyis**"
   ]
  },
  {
   "cell_type": "code",
   "execution_count": 14,
   "id": "sharp-capacity",
   "metadata": {},
   "outputs": [],
   "source": [
    "wavelength=247\n",
    "# adjust wavelength to shift line analysis*"
   ]
  },
  {
   "cell_type": "code",
   "execution_count": 15,
   "id": "level-earth",
   "metadata": {},
   "outputs": [
    {
     "data": {
      "application/vnd.jupyter.widget-view+json": {
       "model_id": "c59e56f78cf6413295d0e194baa8ea4c",
       "version_major": 2,
       "version_minor": 0
      },
      "text/plain": [
       "Canvas(toolbar=Toolbar(toolitems=[('Home', 'Reset original view', 'home', 'home'), ('Back', 'Back to previous …"
      ]
     },
     "metadata": {},
     "output_type": "display_data"
    }
   ],
   "source": [
    "arr = sync.loc[wavelength, :].to_numpy()\n",
    "df = pd.DataFrame(arr, index=sync.index).T\n",
    "diff = pd.DataFrame(np.diff(arr), index=list(sync.index)[:-1]).T\n",
    "plot.mult_func([0], [df, diff], x_label=\"wavelength [nm]\", baseline=True, x_min=210, subtitle=[\"Synchronous Line Analysis\"], label=[wavelength, \"derivative\"])"
   ]
  },
  {
   "cell_type": "code",
   "execution_count": 61,
   "id": "reserved-cylinder",
   "metadata": {},
   "outputs": [
    {
     "name": "stdout",
     "output_type": "stream",
     "text": [
      "wavelength   211   215   218   223   247   267   274   281   284   294   305  \\\n",
      "wavelength                                                                     \n",
      "211         0.37  0.13  0.14  0.17 -0.16  0.08  0.10  0.14  0.16  0.18  0.09   \n",
      "215         0.25  0.11  0.13  0.18 -0.23  0.10  0.13  0.15  0.17  0.16  0.09   \n",
      "218         0.13  0.05  0.09  0.13 -0.19  0.06  0.09  0.11  0.13  0.13  0.07   \n",
      "223        -0.08 -0.06 -0.05 -0.06  0.07 -0.06 -0.06 -0.06 -0.06 -0.04 -0.03   \n",
      "247         0.40  0.22  0.18  0.22 -0.24  0.17  0.19  0.21  0.22  0.20  0.11   \n",
      "267         0.15  0.08  0.05  0.04  0.02  0.01  0.02  0.04  0.04  0.09  0.03   \n",
      "274         0.12  0.05  0.05  0.06 -0.04  0.02  0.03  0.05  0.06  0.08  0.04   \n",
      "281        -0.07 -0.07 -0.03 -0.02  0.01 -0.04 -0.04 -0.03 -0.03 -0.00  0.00   \n",
      "284        -0.16 -0.10 -0.05 -0.04  0.01 -0.05 -0.05 -0.05 -0.04 -0.03 -0.01   \n",
      "294        -0.07 -0.06 -0.01  0.02 -0.09  0.01  0.01  0.02  0.02  0.01  0.02   \n",
      "305        -0.07 -0.07 -0.04 -0.03 -0.02 -0.02 -0.02 -0.03 -0.03 -0.04 -0.01   \n",
      "312        -0.15 -0.06 -0.02 -0.01 -0.05 -0.01 -0.00 -0.01 -0.01 -0.04 -0.01   \n",
      "\n",
      "wavelength   312  \n",
      "wavelength        \n",
      "211         0.12  \n",
      "215         0.11  \n",
      "218         0.10  \n",
      "223        -0.02  \n",
      "247         0.13  \n",
      "267         0.04  \n",
      "274         0.05  \n",
      "281         0.01  \n",
      "284        -0.01  \n",
      "294         0.02  \n",
      "305        -0.01  \n",
      "312        -0.01  \n"
     ]
    }
   ],
   "source": [
    "df = assync.loc[[211,215,218,223,247,267,274,281,284,294,305,312],[211,215,218,223,247,267,274,281,284,294,305,312]].round(2)\n",
    "print(df)"
   ]
  },
  {
   "cell_type": "code",
   "execution_count": 21,
   "id": "possible-anaheim",
   "metadata": {},
   "outputs": [],
   "source": [
    "excel_path = \"C:\\\\Users\\\\crazy\\\\Mega\\\\Uni\\\\Masterarbeit\\\\Projekt\\\\output.xlsx\""
   ]
  },
  {
   "cell_type": "code",
   "execution_count": 62,
   "id": "sitting-estate",
   "metadata": {},
   "outputs": [],
   "source": [
    "with pd.ExcelWriter(excel_path, mode='w') as writer:  \n",
    "\n",
    "                    df.to_excel(writer, sheet_name=key1 + \" vs.\" + key2 + \"async\")"
   ]
  },
  {
   "cell_type": "code",
   "execution_count": 74,
   "id": "turkish-rolling",
   "metadata": {},
   "outputs": [
    {
     "data": {
      "application/vnd.jupyter.widget-view+json": {
       "model_id": "29ca5619712d45f88bd9ee5338c84a4a",
       "version_major": 2,
       "version_minor": 0
      },
      "text/plain": [
       "Canvas(toolbar=Toolbar(toolitems=[('Home', 'Reset original view', 'home', 'home'), ('Back', 'Back to previous …"
      ]
     },
     "metadata": {},
     "output_type": "display_data"
    }
   ],
   "source": [
    "arr = assync.loc[wavelength, :].to_numpy()\n",
    "df = pd.DataFrame(arr, index=assync.index).T\n",
    "diff = pd.DataFrame(np.diff(arr), index=list(assync.index)[:-1]).T\n",
    "plot.mult_func([0], [df, diff], x_label=\"wavelength [nm]\", baseline=True, x_min=210, subtitle=[\"synchronous Line Analysis\"])"
   ]
  },
  {
   "cell_type": "markdown",
   "id": "intimate-myanmar",
   "metadata": {},
   "source": [
    "### Heterogenous Spectrum\n",
    "\n",
    "*with pareto scaling and Control Measurement as Reference*"
   ]
  },
  {
   "cell_type": "code",
   "execution_count": 10,
   "id": "early-disabled",
   "metadata": {},
   "outputs": [
    {
     "name": "stdout",
     "output_type": "stream",
     "text": [
      "dict_keys(['Control_0M', 'Gdm2SO4_0.5M', 'Gdm2SO4_2M', 'Gdm2SO4_4M', 'GdmCl_0.5M', 'GdmCl_2M', 'GdmCl_2M_24h', 'GdmCl_4M', 'GdmCl_6M', 'GdmSCN_0.5M', 'GdmSCN_2M', 'Urea_2M'])\n"
     ]
    }
   ],
   "source": [
    "print(data_all.keys())"
   ]
  },
  {
   "cell_type": "code",
   "execution_count": 8,
   "id": "later-sampling",
   "metadata": {},
   "outputs": [],
   "source": [
    "plot_list = [\"Control_0M\", 'GdmCl_0.5M', 'GdmCl_2M',  'GdmCl_4M', 'GdmCl_6M']\n",
    "anzahl = len(plot_list)\n",
    "t_min = 20 \n",
    "t_max = 90"
   ]
  },
  {
   "cell_type": "code",
   "execution_count": 9,
   "id": "unavailable-attack",
   "metadata": {},
   "outputs": [
    {
     "data": {
      "application/vnd.jupyter.widget-view+json": {
       "model_id": "2fccf8ed3be3405fb1c90008090b870f",
       "version_major": 2,
       "version_minor": 0
      },
      "text/plain": [
       "Canvas(toolbar=Toolbar(toolitems=[('Home', 'Reset original view', 'home', 'home'), ('Back', 'Back to previous …"
      ]
     },
     "metadata": {},
     "output_type": "display_data"
    },
    {
     "data": {
      "application/vnd.jupyter.widget-view+json": {
       "model_id": "362592b0c11a4d6e9d28dda0bb21a0a0",
       "version_major": 2,
       "version_minor": 0
      },
      "text/plain": [
       "Canvas(toolbar=Toolbar(toolitems=[('Home', 'Reset original view', 'home', 'home'), ('Back', 'Back to previous …"
      ]
     },
     "metadata": {},
     "output_type": "display_data"
    },
    {
     "data": {
      "application/vnd.jupyter.widget-view+json": {
       "model_id": "fdb22acd68b348c09fc96343bb932dc3",
       "version_major": 2,
       "version_minor": 0
      },
      "text/plain": [
       "Canvas(toolbar=Toolbar(toolitems=[('Home', 'Reset original view', 'home', 'home'), ('Back', 'Back to previous …"
      ]
     },
     "metadata": {},
     "output_type": "display_data"
    },
    {
     "data": {
      "application/vnd.jupyter.widget-view+json": {
       "model_id": "4b1ee90677ac45f0897c91fac87c4e20",
       "version_major": 2,
       "version_minor": 0
      },
      "text/plain": [
       "Canvas(toolbar=Toolbar(toolitems=[('Home', 'Reset original view', 'home', 'home'), ('Back', 'Back to previous …"
      ]
     },
     "metadata": {},
     "output_type": "display_data"
    },
    {
     "data": {
      "application/vnd.jupyter.widget-view+json": {
       "model_id": "33a4083ef24e46f6ac1d20e3bff4b3fd",
       "version_major": 2,
       "version_minor": 0
      },
      "text/plain": [
       "Canvas(toolbar=Toolbar(toolitems=[('Home', 'Reset original view', 'home', 'home'), ('Back', 'Back to previous …"
      ]
     },
     "metadata": {},
     "output_type": "display_data"
    },
    {
     "data": {
      "application/vnd.jupyter.widget-view+json": {
       "model_id": "b96e4d6db3584bbe953580557e70c460",
       "version_major": 2,
       "version_minor": 0
      },
      "text/plain": [
       "Canvas(toolbar=Toolbar(toolitems=[('Home', 'Reset original view', 'home', 'home'), ('Back', 'Back to previous …"
      ]
     },
     "metadata": {},
     "output_type": "display_data"
    },
    {
     "data": {
      "application/vnd.jupyter.widget-view+json": {
       "model_id": "5485f0c0e3f34ceeb7e3d4e2caa6e5c6",
       "version_major": 2,
       "version_minor": 0
      },
      "text/plain": [
       "Canvas(toolbar=Toolbar(toolitems=[('Home', 'Reset original view', 'home', 'home'), ('Back', 'Back to previous …"
      ]
     },
     "metadata": {},
     "output_type": "display_data"
    },
    {
     "data": {
      "application/vnd.jupyter.widget-view+json": {
       "model_id": "b0730333ce88454596c4843c7fb0973d",
       "version_major": 2,
       "version_minor": 0
      },
      "text/plain": [
       "Canvas(toolbar=Toolbar(toolitems=[('Home', 'Reset original view', 'home', 'home'), ('Back', 'Back to previous …"
      ]
     },
     "metadata": {},
     "output_type": "display_data"
    },
    {
     "data": {
      "application/vnd.jupyter.widget-view+json": {
       "model_id": "09cca35aa53849b4b2dff1cfe5bfaa50",
       "version_major": 2,
       "version_minor": 0
      },
      "text/plain": [
       "Canvas(toolbar=Toolbar(toolitems=[('Home', 'Reset original view', 'home', 'home'), ('Back', 'Back to previous …"
      ]
     },
     "metadata": {},
     "output_type": "display_data"
    },
    {
     "data": {
      "application/vnd.jupyter.widget-view+json": {
       "model_id": "eebb92fd28ed4e5c966a8b5821d3402d",
       "version_major": 2,
       "version_minor": 0
      },
      "text/plain": [
       "Canvas(toolbar=Toolbar(toolitems=[('Home', 'Reset original view', 'home', 'home'), ('Back', 'Back to previous …"
      ]
     },
     "metadata": {},
     "output_type": "display_data"
    }
   ],
   "source": [
    "for i in range(anzahl):\n",
    "    for j in range(anzahl):\n",
    "        if i >= j:\n",
    "            continue\n",
    "        title = \"Heterogenoues 2D Correlation between \" + plot_list[i] + \" \" + plot_list[j]\n",
    "        df1 = data_all[plot_list[i]].cd_df\n",
    "        df2 = data_all[plot_list[j]].cd_df\n",
    "        ref1 = df1.loc[:, 20]\n",
    "        ref2 = df2.loc[:, 20]\n",
    "        sync1, assync1 = ana.correlation(df1, df2, scaling='pareto', ref_spec=[ref1, ref2], center=False)\n",
    "        sync2, assync2 = ana.correlation(df1, df2, scaling='auto', ref_spec=[ref1, ref2], center=False)\n",
    "        plot.heatmap(sync1, assync1, sync2, assync2, title=title, subtitle=[\"Synchronous Spectrum\", \"Asynchronous Spectrum\", \"Synchronous Spectrum\", \"Asynchronous Spectrum\"], x_min=[210, 210, 210, 210], y_min=[210, 210, 210, 210],\n",
    "                y_label= plot_list[i] + \" WL[nm]\", x_label= plot_list[j] + \" WL[nm]\")"
   ]
  },
  {
   "cell_type": "markdown",
   "id": "least-glasgow",
   "metadata": {},
   "source": [
    "### Perturbation-Correlation Moving-Window 2D Correlation Spectroscopy"
   ]
  },
  {
   "cell_type": "markdown",
   "id": "romantic-wright",
   "metadata": {},
   "source": [
    "*different window size can be choosen*"
   ]
  },
  {
   "cell_type": "code",
   "execution_count": 8,
   "id": "coral-world",
   "metadata": {},
   "outputs": [],
   "source": [
    "liste =  ['Control_0M', 'Gdm2SO4_0.5M', 'Gdm2SO4_2M', 'Gdm2SO4_4M', 'Gdm2SO4_6M', 'Control_0M', 'GdmCl_0.5M', 'GdmCl_2M' , 'GdmCl_4M', 'GdmCl_6M' ]"
   ]
  },
  {
   "cell_type": "code",
   "execution_count": 9,
   "id": "diagnostic-bangladesh",
   "metadata": {},
   "outputs": [
    {
     "data": {
      "application/vnd.jupyter.widget-view+json": {
       "model_id": "6b1768f4b5e845c4a6b60dc20c5249f1",
       "version_major": 2,
       "version_minor": 0
      },
      "text/plain": [
       "Canvas(toolbar=Toolbar(toolitems=[('Home', 'Reset original view', 'home', 'home'), ('Back', 'Back to previous …"
      ]
     },
     "metadata": {},
     "output_type": "display_data"
    },
    {
     "data": {
      "application/vnd.jupyter.widget-view+json": {
       "model_id": "aec9e5621c264ab4a35f544dc64fad1d",
       "version_major": 2,
       "version_minor": 0
      },
      "text/plain": [
       "Canvas(toolbar=Toolbar(toolitems=[('Home', 'Reset original view', 'home', 'home'), ('Back', 'Back to previous …"
      ]
     },
     "metadata": {},
     "output_type": "display_data"
    },
    {
     "data": {
      "application/vnd.jupyter.widget-view+json": {
       "model_id": "6e6c12e4a97c46f9bf67d12348f6d0e6",
       "version_major": 2,
       "version_minor": 0
      },
      "text/plain": [
       "Canvas(toolbar=Toolbar(toolitems=[('Home', 'Reset original view', 'home', 'home'), ('Back', 'Back to previous …"
      ]
     },
     "metadata": {},
     "output_type": "display_data"
    },
    {
     "data": {
      "application/vnd.jupyter.widget-view+json": {
       "model_id": "27bcf615a3604bee80a87f492b212383",
       "version_major": 2,
       "version_minor": 0
      },
      "text/plain": [
       "Canvas(toolbar=Toolbar(toolitems=[('Home', 'Reset original view', 'home', 'home'), ('Back', 'Back to previous …"
      ]
     },
     "metadata": {},
     "output_type": "display_data"
    },
    {
     "data": {
      "application/vnd.jupyter.widget-view+json": {
       "model_id": "da61f77b55f94d4ea30b51cbf52c059f",
       "version_major": 2,
       "version_minor": 0
      },
      "text/plain": [
       "Canvas(toolbar=Toolbar(toolitems=[('Home', 'Reset original view', 'home', 'home'), ('Back', 'Back to previous …"
      ]
     },
     "metadata": {},
     "output_type": "display_data"
    },
    {
     "data": {
      "application/vnd.jupyter.widget-view+json": {
       "model_id": "4401226c5614492999cb5d2364afcf8c",
       "version_major": 2,
       "version_minor": 0
      },
      "text/plain": [
       "Canvas(toolbar=Toolbar(toolitems=[('Home', 'Reset original view', 'home', 'home'), ('Back', 'Back to previous …"
      ]
     },
     "metadata": {},
     "output_type": "display_data"
    },
    {
     "data": {
      "application/vnd.jupyter.widget-view+json": {
       "model_id": "d9ae897140b346fb8aa303bf831b0c72",
       "version_major": 2,
       "version_minor": 0
      },
      "text/plain": [
       "Canvas(toolbar=Toolbar(toolitems=[('Home', 'Reset original view', 'home', 'home'), ('Back', 'Back to previous …"
      ]
     },
     "metadata": {},
     "output_type": "display_data"
    },
    {
     "data": {
      "application/vnd.jupyter.widget-view+json": {
       "model_id": "f813219e637c4a4aa51ae613499ada38",
       "version_major": 2,
       "version_minor": 0
      },
      "text/plain": [
       "Canvas(toolbar=Toolbar(toolitems=[('Home', 'Reset original view', 'home', 'home'), ('Back', 'Back to previous …"
      ]
     },
     "metadata": {},
     "output_type": "display_data"
    },
    {
     "data": {
      "application/vnd.jupyter.widget-view+json": {
       "model_id": "791b6a21e8354d4b97585a1160e9c2a4",
       "version_major": 2,
       "version_minor": 0
      },
      "text/plain": [
       "Canvas(toolbar=Toolbar(toolitems=[('Home', 'Reset original view', 'home', 'home'), ('Back', 'Back to previous …"
      ]
     },
     "metadata": {},
     "output_type": "display_data"
    },
    {
     "data": {
      "application/vnd.jupyter.widget-view+json": {
       "model_id": "7dce791ebc63493f8e5b5f0b44b74f72",
       "version_major": 2,
       "version_minor": 0
      },
      "text/plain": [
       "Canvas(toolbar=Toolbar(toolitems=[('Home', 'Reset original view', 'home', 'home'), ('Back', 'Back to previous …"
      ]
     },
     "metadata": {},
     "output_type": "display_data"
    }
   ],
   "source": [
    "for key in liste:\n",
    "    sync, assync, = ana.perturbation_moving_window(data_all[key].cd_df, window_size=3)\n",
    "    sync = sync.drop([200,201,202,203,204,205,206,207,208,209,210,211,212,213,214])\n",
    "    assync = assync.drop([200,201,202,203,204,205,206,207,208,209,210,211,212,213,214])\n",
    "    sync =  (sync-sync.min().min())/(sync.max().max()-sync.min().min())\n",
    "    assync =  (assync-assync.min().min())/(assync.max().max()-assync.min().min())\n",
    "    plot.heatmap(sync, x_min=[215,215], subtitle=[\"\"], x_label=\"Temperature [°C]\", y_label=\"Wavelength [nm]\", title=key)"
   ]
  },
  {
   "cell_type": "markdown",
   "id": "serial-meditation",
   "metadata": {},
   "source": [
    "### 2D Correlation of Null Space Projection"
   ]
  },
  {
   "cell_type": "markdown",
   "id": "breathing-savage",
   "metadata": {},
   "source": [
    "*different projection_vectors/matrices can be choosen*"
   ]
  },
  {
   "cell_type": "code",
   "execution_count": 16,
   "id": "dried-baking",
   "metadata": {},
   "outputs": [],
   "source": [
    "liste =  ['Control_0M', 'Gdm2SO4_0.5M', 'Gdm2SO4_2M', 'Gdm2SO4_4M', 'GdmCl_0.5M', 'GdmCl_2M' , 'GdmCl_4M', 'GdmCl_6M' ]"
   ]
  },
  {
   "cell_type": "code",
   "execution_count": 17,
   "id": "capital-stocks",
   "metadata": {},
   "outputs": [
    {
     "data": {
      "application/vnd.jupyter.widget-view+json": {
       "model_id": "10abe694f26a43868d32b0df521a1b39",
       "version_major": 2,
       "version_minor": 0
      },
      "text/plain": [
       "Canvas(toolbar=Toolbar(toolitems=[('Home', 'Reset original view', 'home', 'home'), ('Back', 'Back to previous …"
      ]
     },
     "metadata": {},
     "output_type": "display_data"
    },
    {
     "data": {
      "application/vnd.jupyter.widget-view+json": {
       "model_id": "2b5a3dbd95824105920eaa523eafe881",
       "version_major": 2,
       "version_minor": 0
      },
      "text/plain": [
       "Canvas(toolbar=Toolbar(toolitems=[('Home', 'Reset original view', 'home', 'home'), ('Back', 'Back to previous …"
      ]
     },
     "metadata": {},
     "output_type": "display_data"
    },
    {
     "data": {
      "application/vnd.jupyter.widget-view+json": {
       "model_id": "27edb0cdab9d4dcbaad90fabbd22516a",
       "version_major": 2,
       "version_minor": 0
      },
      "text/plain": [
       "Canvas(toolbar=Toolbar(toolitems=[('Home', 'Reset original view', 'home', 'home'), ('Back', 'Back to previous …"
      ]
     },
     "metadata": {},
     "output_type": "display_data"
    },
    {
     "data": {
      "application/vnd.jupyter.widget-view+json": {
       "model_id": "2cee901b93d24b1abe857805b0385b36",
       "version_major": 2,
       "version_minor": 0
      },
      "text/plain": [
       "Canvas(toolbar=Toolbar(toolitems=[('Home', 'Reset original view', 'home', 'home'), ('Back', 'Back to previous …"
      ]
     },
     "metadata": {},
     "output_type": "display_data"
    },
    {
     "data": {
      "application/vnd.jupyter.widget-view+json": {
       "model_id": "262b6870f9784df28c2808f9d4c33d05",
       "version_major": 2,
       "version_minor": 0
      },
      "text/plain": [
       "Canvas(toolbar=Toolbar(toolitems=[('Home', 'Reset original view', 'home', 'home'), ('Back', 'Back to previous …"
      ]
     },
     "metadata": {},
     "output_type": "display_data"
    },
    {
     "data": {
      "application/vnd.jupyter.widget-view+json": {
       "model_id": "0e649f7e8b5c484689b56dece826484d",
       "version_major": 2,
       "version_minor": 0
      },
      "text/plain": [
       "Canvas(toolbar=Toolbar(toolitems=[('Home', 'Reset original view', 'home', 'home'), ('Back', 'Back to previous …"
      ]
     },
     "metadata": {},
     "output_type": "display_data"
    },
    {
     "data": {
      "application/vnd.jupyter.widget-view+json": {
       "model_id": "1c2556137765402ebbfcad9162920117",
       "version_major": 2,
       "version_minor": 0
      },
      "text/plain": [
       "Canvas(toolbar=Toolbar(toolitems=[('Home', 'Reset original view', 'home', 'home'), ('Back', 'Back to previous …"
      ]
     },
     "metadata": {},
     "output_type": "display_data"
    },
    {
     "data": {
      "application/vnd.jupyter.widget-view+json": {
       "model_id": "f4262c663e1a403ba9090e851c828f72",
       "version_major": 2,
       "version_minor": 0
      },
      "text/plain": [
       "Canvas(toolbar=Toolbar(toolitems=[('Home', 'Reset original view', 'home', 'home'), ('Back', 'Back to previous …"
      ]
     },
     "metadata": {},
     "output_type": "display_data"
    }
   ],
   "source": [
    "for key in liste:\n",
    "    # get reference\n",
    "    ref = data_all[key].cd_df.loc[:, 20]\n",
    "    \n",
    "    # create dynamic spectrum! and calculate projection\n",
    "    df = ana.projection_matrix(data_all[key].cd_df.subtract(ref, axis=0), row_min_max=[247], center=False)\n",
    "     # sort out values with HT above 900\n",
    "    for wave in data_all[key].ht_df.index:\n",
    "        if data_all[key].ht_df.max(axis=1).loc[wave] >= 900:\n",
    "            df = df.drop(wave)\n",
    "            \n",
    "    plot.heatmap(df, x_min=[215], subtitle=[\"\"], title=\"\")"
   ]
  },
  {
   "cell_type": "code",
   "execution_count": 29,
   "id": "stylish-armstrong",
   "metadata": {},
   "outputs": [
    {
     "data": {
      "application/vnd.jupyter.widget-view+json": {
       "model_id": "82ad2aa3b179476db19c304ba207cc1d",
       "version_major": 2,
       "version_minor": 0
      },
      "text/plain": [
       "Canvas(toolbar=Toolbar(toolitems=[('Home', 'Reset original view', 'home', 'home'), ('Back', 'Back to previous …"
      ]
     },
     "metadata": {},
     "output_type": "display_data"
    },
    {
     "data": {
      "application/vnd.jupyter.widget-view+json": {
       "model_id": "613a597b762044ad853e64e3714a9c3a",
       "version_major": 2,
       "version_minor": 0
      },
      "text/plain": [
       "Canvas(toolbar=Toolbar(toolitems=[('Home', 'Reset original view', 'home', 'home'), ('Back', 'Back to previous …"
      ]
     },
     "metadata": {},
     "output_type": "display_data"
    },
    {
     "data": {
      "application/vnd.jupyter.widget-view+json": {
       "model_id": "aa0908eb3cfe4f7babbf61c245822926",
       "version_major": 2,
       "version_minor": 0
      },
      "text/plain": [
       "Canvas(toolbar=Toolbar(toolitems=[('Home', 'Reset original view', 'home', 'home'), ('Back', 'Back to previous …"
      ]
     },
     "metadata": {},
     "output_type": "display_data"
    },
    {
     "data": {
      "application/vnd.jupyter.widget-view+json": {
       "model_id": "a8ea4dd4af5c4964b34b9da3b3dc29b3",
       "version_major": 2,
       "version_minor": 0
      },
      "text/plain": [
       "Canvas(toolbar=Toolbar(toolitems=[('Home', 'Reset original view', 'home', 'home'), ('Back', 'Back to previous …"
      ]
     },
     "metadata": {},
     "output_type": "display_data"
    },
    {
     "data": {
      "application/vnd.jupyter.widget-view+json": {
       "model_id": "a5737419e2ec47168cd0473f80b48c4e",
       "version_major": 2,
       "version_minor": 0
      },
      "text/plain": [
       "Canvas(toolbar=Toolbar(toolitems=[('Home', 'Reset original view', 'home', 'home'), ('Back', 'Back to previous …"
      ]
     },
     "metadata": {},
     "output_type": "display_data"
    },
    {
     "data": {
      "application/vnd.jupyter.widget-view+json": {
       "model_id": "26264276133e4e34948950950c7082e7",
       "version_major": 2,
       "version_minor": 0
      },
      "text/plain": [
       "Canvas(toolbar=Toolbar(toolitems=[('Home', 'Reset original view', 'home', 'home'), ('Back', 'Back to previous …"
      ]
     },
     "metadata": {},
     "output_type": "display_data"
    },
    {
     "data": {
      "application/vnd.jupyter.widget-view+json": {
       "model_id": "bccd63c7e6094410822b3602efd7986d",
       "version_major": 2,
       "version_minor": 0
      },
      "text/plain": [
       "Canvas(toolbar=Toolbar(toolitems=[('Home', 'Reset original view', 'home', 'home'), ('Back', 'Back to previous …"
      ]
     },
     "metadata": {},
     "output_type": "display_data"
    },
    {
     "data": {
      "application/vnd.jupyter.widget-view+json": {
       "model_id": "3b90a15dc28547b4b14d0742192f2ab9",
       "version_major": 2,
       "version_minor": 0
      },
      "text/plain": [
       "Canvas(toolbar=Toolbar(toolitems=[('Home', 'Reset original view', 'home', 'home'), ('Back', 'Back to previous …"
      ]
     },
     "metadata": {},
     "output_type": "display_data"
    }
   ],
   "source": [
    "for key in liste:\n",
    "    # get reference\n",
    "    ref = data_all[key].cd_df.loc[:, 20]\n",
    "    \n",
    "    # create dynamic spectrum! and calculate projection\n",
    "    df = ana.projection_matrix(data_all[key].cd_df.subtract(ref, axis=0), row_min_max=[247], center=False)\n",
    "    \n",
    "     # sort out values with HT above 900\n",
    "    for wave in data_all[key].ht_df.index:\n",
    "        if data_all[key].ht_df.max(axis=1).loc[wave] >= 900:\n",
    "            df = df.drop(wave)\n",
    "    # calculate\n",
    "    sync1, assync1, = ana.correlation(df, ref_spec=[0])\n",
    "    # plot\n",
    "    plot.heatmap(sync1, assync1, title=str(key), subtitle=[\"Synchronous Spectrum\", \"Asynchronous Spectrum\"], y_label=\"wavelength [nm]\", \n",
    "                 x_label=\"wavenlength [nm]\", x_min=[220, 220], y_min=[220,220])"
   ]
  },
  {
   "cell_type": "markdown",
   "id": "crucial-orientation",
   "metadata": {},
   "source": [
    "## Sigmoid Fit and Melting Temperature"
   ]
  },
  {
   "cell_type": "code",
   "execution_count": 9,
   "id": "administrative-wrist",
   "metadata": {},
   "outputs": [
    {
     "name": "stdout",
     "output_type": "stream",
     "text": [
      "[ 0.18677066 61.81964508] [0.01970739 0.53616891]\n",
      "[ 0.24733276 63.42770044] [0.02193106 0.35106698]\n",
      "[ 0.3        63.95213937] [0.02830562 0.31740657]\n",
      "[ 0.28173998 64.87467936] [0.02577176 0.3342244 ]\n",
      "[ 0.2364997  63.66483834] [0.01583726 0.27656016]\n",
      "[ 0.2939166  61.61989282] [0.01911078 0.21232322]\n",
      "[ 0.26911012 63.19314219] [0.02238773 0.30450951]\n",
      "[ 0.28883307 58.5239527 ] [0.02428439 0.29303091]\n",
      "[1.41701334e-02 5.00000000e+01] [1.8215488e-02 2.3711382e+01]\n",
      "[2.29854877e-02 7.00000000e+01] [ 0.01983874 16.65590283]\n",
      "[ 0.19424656 57.00573805] [0.02250736 0.56124733]\n"
     ]
    },
    {
     "data": {
      "application/vnd.jupyter.widget-view+json": {
       "model_id": "0984e941b3584fd1a8ecd4c88b731574",
       "version_major": 2,
       "version_minor": 0
      },
      "text/plain": [
       "Canvas(toolbar=Toolbar(toolitems=[('Home', 'Reset original view', 'home', 'home'), ('Back', 'Back to previous …"
      ]
     },
     "metadata": {},
     "output_type": "display_data"
    }
   ],
   "source": [
    "graph={}\n",
    "melt_T={}\n",
    "for key in data_all.keys():\n",
    "    fit, params, error = ana.sigmoid_fit(ana.normalize(data_all[key].cd_df))\n",
    "    x =  np.arange(20, 91, 0.1)\n",
    "    deriv = pd.DataFrame(ana.sigmoid_deriv(x, *params), index=x, columns=[\"deriv\"]).T\n",
    "    maximum = deriv.max(axis=1) \n",
    "    T = float(deriv.idxmax(axis=1))\n",
    "    maxi = pd.DataFrame({T:1}, index=[\"Maximum\"])\n",
    "    deriv = deriv.div(maximum, axis=0)\n",
    "    fit = pd.concat([fit, deriv], axis=0)\n",
    "    fit = pd.concat([fit, maxi], axis=0)\n",
    "    graph[key] = [fit]  \n",
    "    melt_T[key] = T\n",
    "plot.mult_func([247, \"fit\", \"deriv\", \"Maximum\"], *graph.values(),  title=\"Sigmoid-Fit and Derivative(adjusted)\",\n",
    "               subtitle=list(graph.keys()), marker=['x', '', '', 'x'], linestyle=[\"\",\"-\", \":\",\"\"])"
   ]
  },
  {
   "cell_type": "markdown",
   "id": "comparable-elimination",
   "metadata": {},
   "source": [
    "Plot the melting Temperatures for the Gdm2SO4 and GdmCl"
   ]
  },
  {
   "cell_type": "code",
   "execution_count": 10,
   "id": "worse-printing",
   "metadata": {},
   "outputs": [
    {
     "data": {
      "application/vnd.jupyter.widget-view+json": {
       "model_id": "d39071176c72478593541bfafe76077c",
       "version_major": 2,
       "version_minor": 0
      },
      "text/plain": [
       "Canvas(toolbar=Toolbar(toolitems=[('Home', 'Reset original view', 'home', 'home'), ('Back', 'Back to previous …"
      ]
     },
     "metadata": {},
     "output_type": "display_data"
    }
   ],
   "source": [
    "x = [0., 0.5, 2., 4.]\n",
    "y = list(melt_T.values())[0:4]\n",
    "graph1 = pd.DataFrame(y, index=x, columns=[\"Gdm2SO4\"]).T\n",
    "\n",
    "y2 = [melt_T[\"Control_0M\"], melt_T[\"GdmCl_0.5M\"], melt_T[\"GdmCl_2M\"], melt_T[\"GdmCl_4M\"]]\n",
    "graph2 = pd.DataFrame(y2, index=x, columns=[\"GdmCl\"] ).T\n",
    "\n",
    "graph = pd.concat([graph1, graph2], axis=0)\n",
    "plot.mult_func([\"Gdm2SO4\", \"GdmCl\"], [graph], title=\"Melting Temperature\", subtitle=[\"\"], x_label=\"Concentration[M]\", y_label=\"Temperature[K]\")"
   ]
  },
  {
   "cell_type": "markdown",
   "id": "anticipated-uncertainty",
   "metadata": {},
   "source": [
    "## Absorbance Values"
   ]
  },
  {
   "cell_type": "code",
   "execution_count": 10,
   "id": "killing-disclaimer",
   "metadata": {},
   "outputs": [
    {
     "data": {
      "application/vnd.jupyter.widget-view+json": {
       "model_id": "d235a050f5174c5d8706c4c790c8350d",
       "version_major": 2,
       "version_minor": 0
      },
      "text/plain": [
       "Canvas(toolbar=Toolbar(toolitems=[('Home', 'Reset original view', 'home', 'home'), ('Back', 'Back to previous …"
      ]
     },
     "metadata": {},
     "output_type": "display_data"
    },
    {
     "data": {
      "application/vnd.jupyter.widget-view+json": {
       "model_id": "57d5fae484aa478aaac7c38cb2481793",
       "version_major": 2,
       "version_minor": 0
      },
      "text/plain": [
       "Canvas(toolbar=Toolbar(toolitems=[('Home', 'Reset original view', 'home', 'home'), ('Back', 'Back to previous …"
      ]
     },
     "metadata": {},
     "output_type": "display_data"
    },
    {
     "data": {
      "application/vnd.jupyter.widget-view+json": {
       "model_id": "456b4ee04e574619b127499243618e0c",
       "version_major": 2,
       "version_minor": 0
      },
      "text/plain": [
       "Canvas(toolbar=Toolbar(toolitems=[('Home', 'Reset original view', 'home', 'home'), ('Back', 'Back to previous …"
      ]
     },
     "metadata": {},
     "output_type": "display_data"
    },
    {
     "data": {
      "application/vnd.jupyter.widget-view+json": {
       "model_id": "9fd16c46fe2b419b92ccb40ca235baee",
       "version_major": 2,
       "version_minor": 0
      },
      "text/plain": [
       "Canvas(toolbar=Toolbar(toolitems=[('Home', 'Reset original view', 'home', 'home'), ('Back', 'Back to previous …"
      ]
     },
     "metadata": {},
     "output_type": "display_data"
    },
    {
     "data": {
      "application/vnd.jupyter.widget-view+json": {
       "model_id": "10977d8a42e84799acc20f1f669dfb13",
       "version_major": 2,
       "version_minor": 0
      },
      "text/plain": [
       "Canvas(toolbar=Toolbar(toolitems=[('Home', 'Reset original view', 'home', 'home'), ('Back', 'Back to previous …"
      ]
     },
     "metadata": {},
     "output_type": "display_data"
    },
    {
     "data": {
      "application/vnd.jupyter.widget-view+json": {
       "model_id": "962a0035b303499a9bd23403fc477588",
       "version_major": 2,
       "version_minor": 0
      },
      "text/plain": [
       "Canvas(toolbar=Toolbar(toolitems=[('Home', 'Reset original view', 'home', 'home'), ('Back', 'Back to previous …"
      ]
     },
     "metadata": {},
     "output_type": "display_data"
    },
    {
     "data": {
      "application/vnd.jupyter.widget-view+json": {
       "model_id": "6a2e6b60730e470398f88a5fc91f056b",
       "version_major": 2,
       "version_minor": 0
      },
      "text/plain": [
       "Canvas(toolbar=Toolbar(toolitems=[('Home', 'Reset original view', 'home', 'home'), ('Back', 'Back to previous …"
      ]
     },
     "metadata": {},
     "output_type": "display_data"
    },
    {
     "data": {
      "application/vnd.jupyter.widget-view+json": {
       "model_id": "13fd10d4c59e41138c339e91e5dffcd5",
       "version_major": 2,
       "version_minor": 0
      },
      "text/plain": [
       "Canvas(toolbar=Toolbar(toolitems=[('Home', 'Reset original view', 'home', 'home'), ('Back', 'Back to previous …"
      ]
     },
     "metadata": {},
     "output_type": "display_data"
    },
    {
     "data": {
      "application/vnd.jupyter.widget-view+json": {
       "model_id": "604fb8ee711344b581950379238592af",
       "version_major": 2,
       "version_minor": 0
      },
      "text/plain": [
       "Canvas(toolbar=Toolbar(toolitems=[('Home', 'Reset original view', 'home', 'home'), ('Back', 'Back to previous …"
      ]
     },
     "metadata": {},
     "output_type": "display_data"
    },
    {
     "data": {
      "application/vnd.jupyter.widget-view+json": {
       "model_id": "5b74c96e3b994ec19e799c0340b6b307",
       "version_major": 2,
       "version_minor": 0
      },
      "text/plain": [
       "Canvas(toolbar=Toolbar(toolitems=[('Home', 'Reset original view', 'home', 'home'), ('Back', 'Back to previous …"
      ]
     },
     "metadata": {},
     "output_type": "display_data"
    },
    {
     "name": "stderr",
     "output_type": "stream",
     "text": [
      "C:\\Users\\crazy\\PycharmProjects\\2Dcorrelation\\hotznplots.py:82: RuntimeWarning: More than 20 figures have been opened. Figures created through the pyplot interface (`matplotlib.pyplot.figure`) are retained until explicitly closed and may consume too much memory. (To control this warning, see the rcParam `figure.max_open_warning`).\n",
      "  fig = plt.figure(facecolor=\"white\")\n"
     ]
    },
    {
     "data": {
      "application/vnd.jupyter.widget-view+json": {
       "model_id": "2c046cf6ea1a40a3aa9012e734d00cc8",
       "version_major": 2,
       "version_minor": 0
      },
      "text/plain": [
       "Canvas(toolbar=Toolbar(toolitems=[('Home', 'Reset original view', 'home', 'home'), ('Back', 'Back to previous …"
      ]
     },
     "metadata": {},
     "output_type": "display_data"
    },
    {
     "data": {
      "application/vnd.jupyter.widget-view+json": {
       "model_id": "7c10d1cfe05440d3b065e8cc5f2fe753",
       "version_major": 2,
       "version_minor": 0
      },
      "text/plain": [
       "Canvas(toolbar=Toolbar(toolitems=[('Home', 'Reset original view', 'home', 'home'), ('Back', 'Back to previous …"
      ]
     },
     "metadata": {},
     "output_type": "display_data"
    },
    {
     "data": {
      "application/vnd.jupyter.widget-view+json": {
       "model_id": "0f7d16ad1304410889a78ec6f0b754bc",
       "version_major": 2,
       "version_minor": 0
      },
      "text/plain": [
       "Canvas(toolbar=Toolbar(toolitems=[('Home', 'Reset original view', 'home', 'home'), ('Back', 'Back to previous …"
      ]
     },
     "metadata": {},
     "output_type": "display_data"
    },
    {
     "data": {
      "application/vnd.jupyter.widget-view+json": {
       "model_id": "4f05ee58e23b4bc0b349454159ee0507",
       "version_major": 2,
       "version_minor": 0
      },
      "text/plain": [
       "Canvas(toolbar=Toolbar(toolitems=[('Home', 'Reset original view', 'home', 'home'), ('Back', 'Back to previous …"
      ]
     },
     "metadata": {},
     "output_type": "display_data"
    },
    {
     "data": {
      "application/vnd.jupyter.widget-view+json": {
       "model_id": "0dc186e3120a404aa43ab8ae85e33100",
       "version_major": 2,
       "version_minor": 0
      },
      "text/plain": [
       "Canvas(toolbar=Toolbar(toolitems=[('Home', 'Reset original view', 'home', 'home'), ('Back', 'Back to previous …"
      ]
     },
     "metadata": {},
     "output_type": "display_data"
    },
    {
     "data": {
      "application/vnd.jupyter.widget-view+json": {
       "model_id": "b49e97cc35d340b99d5b208790d9f9b1",
       "version_major": 2,
       "version_minor": 0
      },
      "text/plain": [
       "Canvas(toolbar=Toolbar(toolitems=[('Home', 'Reset original view', 'home', 'home'), ('Back', 'Back to previous …"
      ]
     },
     "metadata": {},
     "output_type": "display_data"
    }
   ],
   "source": [
    "absorbance = list(map(lambda x: data_all[x].absorb_df, list(data_all.keys())))\n",
    "for i in absorbance:\n",
    "    plot.heatmap(i, subtitle=tuple(data_all.keys()), title=\"Absorbance Values\", x_min=[220]*len(data_all), c_min=[0]*len(data_all))\n"
   ]
  },
  {
   "cell_type": "code",
   "execution_count": 10,
   "id": "signed-wallet",
   "metadata": {},
   "outputs": [
    {
     "name": "stdout",
     "output_type": "stream",
     "text": [
      "[ 0.2        63.29561482] [0.04565207 1.08081709]\n"
     ]
    },
    {
     "data": {
      "application/vnd.jupyter.widget-view+json": {
       "model_id": "1cc18ce25b1545729544e0dbe108ae2f",
       "version_major": 2,
       "version_minor": 0
      },
      "text/plain": [
       "Canvas(toolbar=Toolbar(toolitems=[('Home', 'Reset original view', 'home', 'home'), ('Back', 'Back to previous …"
      ]
     },
     "metadata": {},
     "output_type": "display_data"
    }
   ],
   "source": [
    "graph={}\n",
    "melt_T={}\n",
    "error_a = {}\n",
    "error_b = {}\n",
    "coop={}\n",
    "elements = [\"Control_0M\", \"Gdm2SO4_0.5M\", \"Gdm2SO4_2M\", \"Gdm2SO4_4M\", \"Control_0M\", \"GdmCl_0.5M\", \"GdmCl_2M\", \"GdmCl_4M\" ]\n",
    "key = \"GdmSCN_0.5M\"\n",
    "fit, params, std = ana.sigmoid_fit(ana.normalize(data_all[key].absorb_df), wave=260, a_range=[0.2, 0.5])\n",
    "x =  np.arange(20, 91, 0.1)\n",
    "deriv = pd.DataFrame(ana.sigmoid_deriv(x, *params), index=x, columns=[\"deriv\"]).T\n",
    "maximum = deriv.max(axis=1) \n",
    "T = float(deriv.idxmax(axis=1))\n",
    "maxi = pd.DataFrame({T:1}, index=[\"Maximum\"])\n",
    "deriv = deriv.div(maximum, axis=0)\n",
    "fit = pd.concat([fit, deriv], axis=0)\n",
    "fit = pd.concat([fit, maxi], axis=0)\n",
    "graph[key] = [fit]  \n",
    "melt_T[key] = params[1]\n",
    "error_a[key] = std[0]\n",
    "error_b[key] = std[1]\n",
    "coop[key] = params[0] \n",
    "plot.mult_func([260, \"fit\", \"deriv\"], graph[key],  title=\"Sigmoid-Fit and Derivative(adjusted)\", subtitle=list(graph.keys()), marker=['x', '', '', 'x'], linestyle=[\"\",\"-\", \":\",\"\"])"
   ]
  },
  {
   "cell_type": "code",
   "execution_count": 24,
   "id": "physical-pearl",
   "metadata": {},
   "outputs": [
    {
     "name": "stdout",
     "output_type": "stream",
     "text": [
      "[ 0.41163539 64.15020882] [0.02314436 0.15271522]\n",
      "[ 0.36215912 65.86173799] [0.02185816 0.18932737]\n",
      "[ 0.44493928 65.49468303] [0.03352761 0.19683403]\n",
      "[ 0.41765738 66.38498811] [0.02650862 0.17467372]\n",
      "[ 0.41177395 65.56418843] [0.01837304 0.12537056]\n",
      "[ 0.36338404 63.19755227] [0.02700207 0.21562398]\n",
      "[ 0.38244298 64.79604632] [0.03395227 0.28041146]\n",
      "[ 0.3882771  59.95701763] [0.02664735 0.18265845]\n",
      "[ 0.2 50. ] [0.29051834 8.40098278]\n",
      "[ 0.2        63.29561482] [0.04565207 1.08081709]\n",
      "[ 0.2        62.18622927] [0.06441774 1.46286914]\n",
      "[ 0.39852856 59.86735295] [0.04122087 0.2420659 ]\n"
     ]
    },
    {
     "data": {
      "application/vnd.jupyter.widget-view+json": {
       "model_id": "55e3cf36dd2443e98badde04caaa7a9c",
       "version_major": 2,
       "version_minor": 0
      },
      "text/plain": [
       "Canvas(toolbar=Toolbar(toolitems=[('Home', 'Reset original view', 'home', 'home'), ('Back', 'Back to previous …"
      ]
     },
     "metadata": {},
     "output_type": "display_data"
    }
   ],
   "source": [
    "graph={}\n",
    "melt_T={}\n",
    "error_a = {}\n",
    "error_b = {}\n",
    "coop={}\n",
    "elements = [\"Control_0M\", \"Gdm2SO4_0.5M\", \"Gdm2SO4_2M\", \"Gdm2SO4_4M\", \"Control_0M\", \"GdmCl_0.5M\", \"GdmCl_2M\", \"GdmCl_4M\" ]\n",
    "for key in data_all.keys():\n",
    "    fit, params, std = ana.sigmoid_fit(ana.normalize(data_all[key].absorb_df), wave=260, a_range=[0.2, 0.5])\n",
    "    x =  np.arange(20, 91, 0.1)\n",
    "    deriv = pd.DataFrame(ana.sigmoid_deriv(x, *params), index=x, columns=[\"deriv\"]).T\n",
    "    maximum = deriv.max(axis=1) \n",
    "    T = float(deriv.idxmax(axis=1))\n",
    "    maxi = pd.DataFrame({T:1}, index=[\"Maximum\"])\n",
    "    deriv = deriv.div(maximum, axis=0)\n",
    "    fit = pd.concat([fit, deriv], axis=0)\n",
    "    fit = pd.concat([fit, maxi], axis=0)\n",
    "    graph[key] = [fit]  \n",
    "    melt_T[key] = params[1]\n",
    "    error_a[key] = std[0]\n",
    "    error_b[key] = std[1]\n",
    "    coop[key] = params[0] \n",
    "plot.mult_func([260, \"fit\", \"deriv\"], graph[\"GdmCl_4M\"],  title=\"Sigmoid-Fit and Derivative(adjusted)\", subtitle=list(graph.keys()), marker=['x', '', '', 'x'], linestyle=[\"\",\"-\", \":\",\"\"])"
   ]
  },
  {
   "cell_type": "code",
   "execution_count": 12,
   "id": "challenging-lighting",
   "metadata": {},
   "outputs": [
    {
     "data": {
      "application/vnd.jupyter.widget-view+json": {
       "model_id": "955173ae6cb84a188941e4bf00cc7231",
       "version_major": 2,
       "version_minor": 0
      },
      "text/plain": [
       "Canvas(toolbar=Toolbar(toolitems=[('Home', 'Reset original view', 'home', 'home'), ('Back', 'Back to previous …"
      ]
     },
     "metadata": {},
     "output_type": "display_data"
    }
   ],
   "source": [
    "x = [0., 0.5, 2., 4.]\n",
    "y = list(melt_T.values())[0:4]\n",
    "graph1 = pd.DataFrame(y, index=x, columns=[\"Gdm2SO4\"]).T\n",
    "\n",
    "y2 = [melt_T[\"Control_0M\"], melt_T[\"GdmCl_0.5M\"], melt_T[\"GdmCl_2M\"], melt_T[\"GdmCl_4M\"]]\n",
    "graph2 = pd.DataFrame(y2, index=x, columns=[\"GdmCl\"] ).T\n",
    "\n",
    "graph = pd.concat([graph1, graph2], axis=0)\n",
    "plot.mult_func([\"Gdm2SO4\", \"GdmCl\"], [graph], error=error_b, title=\"Melting Temperature\",\n",
    "               subtitle=[\"\"], x_label=\"Concentration[M]\", y_label=\"Temperature[°C]\")"
   ]
  },
  {
   "cell_type": "code",
   "execution_count": 13,
   "id": "geographic-korean",
   "metadata": {},
   "outputs": [
    {
     "data": {
      "application/vnd.jupyter.widget-view+json": {
       "model_id": "3d67f37a4ea941bda49b26e60f6830f5",
       "version_major": 2,
       "version_minor": 0
      },
      "text/plain": [
       "Canvas(toolbar=Toolbar(toolitems=[('Home', 'Reset original view', 'home', 'home'), ('Back', 'Back to previous …"
      ]
     },
     "metadata": {},
     "output_type": "display_data"
    }
   ],
   "source": [
    "x = [0., 0.5, 2., 4.]\n",
    "y = list(coop.values())[0:4]\n",
    "graph1 = pd.DataFrame(y, index=x, columns=[\"Gdm2SO4\"]).T\n",
    "\n",
    "y2 = [coop[\"Control_0M\"], coop[\"GdmCl_0.5M\"], coop[\"GdmCl_2M\"], coop[\"GdmCl_4M\"]]\n",
    "graph2 = pd.DataFrame(y2, index=x, columns=[\"GdmCl\"] ).T\n",
    "\n",
    "graph = pd.concat([graph1, graph2], axis=0)\n",
    "plot.mult_func([\"Gdm2SO4\", \"GdmCl\"], [graph], error=error_a, title=\"Variance\",\n",
    "               subtitle=[\"\"], x_label=\"Concentration[M]\", y_label=\"Temperature[K^2]\")"
   ]
  },
  {
   "cell_type": "markdown",
   "id": "dress-british",
   "metadata": {},
   "source": [
    "### LM Fit"
   ]
  },
  {
   "cell_type": "code",
   "execution_count": 9,
   "id": "micro-function",
   "metadata": {},
   "outputs": [
    {
     "data": {
      "application/vnd.jupyter.widget-view+json": {
       "model_id": "80caac3c18db4aec8a0db91c383cb66e",
       "version_major": 2,
       "version_minor": 0
      },
      "text/plain": [
       "Canvas(toolbar=Toolbar(toolitems=[('Home', 'Reset original view', 'home', 'home'), ('Back', 'Back to previous …"
      ]
     },
     "metadata": {},
     "output_type": "display_data"
    }
   ],
   "source": [
    "df = data_all[\"Control_0M\"].cd_df\n",
    "plot.mult_func([280], [df], swap=False, linestyle=[\"\"], marker=[\"X\"], x_label=\"Temperature [°C]\", subtitle=[\"\"], title=\"Control Measurement Hyperchromatic Shift\", label=[\"260 nm\"])"
   ]
  },
  {
   "cell_type": "code",
   "execution_count": 11,
   "id": "prescribed-wealth",
   "metadata": {},
   "outputs": [],
   "source": [
    "liste = [\"Control_0M\",\"Gdm2SO4_0.5M\", \"Gdm2SO4_2M\", \"Gdm2SO4_4M\", \"Gdm2SO4_6M\", \"GdmCl_0.5M\", \"GdmCl_2M\", \"GdmCl_4M\", \"GdmCl_6M\"]"
   ]
  },
  {
   "cell_type": "code",
   "execution_count": 12,
   "id": "growing-cherry",
   "metadata": {},
   "outputs": [
    {
     "name": "stdout",
     "output_type": "stream",
     "text": [
      "[[Model]]\n",
      "    Model(s1)\n",
      "[[Fit Statistics]]\n",
      "    # fitting method   = leastsq\n",
      "    # function evals   = 31\n",
      "    # data points      = 16\n",
      "    # variables        = 4\n",
      "    chi-square         = 8.2538e-05\n",
      "    reduced chi-square = 6.8781e-06\n",
      "    Akaike info crit   = -186.797542\n",
      "    Bayesian info crit = -183.707187\n",
      "[[Variables]]\n",
      "    a:   0.13153960 +/- 0.00186326 (1.42%) (init = 0.13)\n",
      "    y0:  0.35994037 +/- 0.00101406 (0.28%) (init = 0.36)\n",
      "    k:   0.46427885 +/- 0.02562654 (5.52%) (init = 0.4)\n",
      "    xc:  64.0734366 +/- 0.13972373 (0.22%) (init = 63)\n",
      "[[Correlations]] (unreported correlations are < 0.100)\n",
      "    C(a, y0)  = -0.618\n",
      "    C(a, k)   = -0.528\n",
      "    C(y0, k)  =  0.374\n",
      "    C(y0, xc) =  0.283\n",
      "    C(a, xc)  =  0.228\n",
      "    C(k, xc)  = -0.212\n"
     ]
    },
    {
     "data": {
      "application/vnd.jupyter.widget-view+json": {
       "model_id": "28dc0add259748119d0a011a7f17a91d",
       "version_major": 2,
       "version_minor": 0
      },
      "text/plain": [
       "Canvas(toolbar=Toolbar(toolitems=[('Home', 'Reset original view', 'home', 'home'), ('Back', 'Back to previous …"
      ]
     },
     "metadata": {},
     "output_type": "display_data"
    },
    {
     "name": "stdout",
     "output_type": "stream",
     "text": [
      "[[Model]]\n",
      "    Model(s1)\n",
      "[[Fit Statistics]]\n",
      "    # fitting method   = leastsq\n",
      "    # function evals   = 31\n",
      "    # data points      = 15\n",
      "    # variables        = 4\n",
      "    chi-square         = 1.3729e-04\n",
      "    reduced chi-square = 1.2481e-05\n",
      "    Akaike info crit   = -166.021914\n",
      "    Bayesian info crit = -163.189713\n",
      "[[Variables]]\n",
      "    a:   0.15453355 +/- 0.00274112 (1.77%) (init = 0.13)\n",
      "    y0:  0.38110761 +/- 0.00145979 (0.38%) (init = 0.36)\n",
      "    k:   0.39130613 +/- 0.02400150 (6.13%) (init = 0.4)\n",
      "    xc:  65.4725786 +/- 0.19088378 (0.29%) (init = 63)\n",
      "[[Correlations]] (unreported correlations are < 0.100)\n",
      "    C(a, y0)  = -0.612\n",
      "    C(a, k)   = -0.554\n",
      "    C(y0, k)  =  0.405\n",
      "    C(y0, xc) =  0.303\n",
      "    C(a, xc)  =  0.248\n",
      "    C(k, xc)  = -0.208\n"
     ]
    },
    {
     "data": {
      "application/vnd.jupyter.widget-view+json": {
       "model_id": "14ecaefa4e3f4d66999bd4cc1273b913",
       "version_major": 2,
       "version_minor": 0
      },
      "text/plain": [
       "Canvas(toolbar=Toolbar(toolitems=[('Home', 'Reset original view', 'home', 'home'), ('Back', 'Back to previous …"
      ]
     },
     "metadata": {},
     "output_type": "display_data"
    },
    {
     "name": "stdout",
     "output_type": "stream",
     "text": [
      "[[Model]]\n",
      "    Model(s1)\n",
      "[[Fit Statistics]]\n",
      "    # fitting method   = leastsq\n",
      "    # function evals   = 36\n",
      "    # data points      = 15\n",
      "    # variables        = 4\n",
      "    chi-square         = 1.8461e-04\n",
      "    reduced chi-square = 1.6782e-05\n",
      "    Akaike info crit   = -161.580034\n",
      "    Bayesian info crit = -158.747833\n",
      "[[Variables]]\n",
      "    a:   0.15740544 +/- 0.00292954 (1.86%) (init = 0.13)\n",
      "    y0:  0.39680299 +/- 0.00158938 (0.40%) (init = 0.36)\n",
      "    k:   0.49654664 +/- 0.03609880 (7.27%) (init = 0.4)\n",
      "    xc:  65.1436370 +/- 0.18224215 (0.28%) (init = 63)\n",
      "[[Correlations]] (unreported correlations are < 0.100)\n",
      "    C(a, y0)  = -0.601\n",
      "    C(a, k)   = -0.498\n",
      "    C(y0, k)  =  0.344\n",
      "    C(y0, xc) =  0.287\n",
      "    C(a, xc)  =  0.223\n",
      "    C(k, xc)  = -0.197\n"
     ]
    },
    {
     "name": "stderr",
     "output_type": "stream",
     "text": [
      "C:\\Users\\crazy\\PycharmProjects\\2Dcorrelation\\hotznplots.py:328: RuntimeWarning: More than 20 figures have been opened. Figures created through the pyplot interface (`matplotlib.pyplot.figure`) are retained until explicitly closed and may consume too much memory. (To control this warning, see the rcParam `figure.max_open_warning`).\n",
      "  fig = plt.figure(facecolor=backgroundcolor)  # create figure\n"
     ]
    },
    {
     "data": {
      "application/vnd.jupyter.widget-view+json": {
       "model_id": "49fcf45f96af47358d96fd77e410473a",
       "version_major": 2,
       "version_minor": 0
      },
      "text/plain": [
       "Canvas(toolbar=Toolbar(toolitems=[('Home', 'Reset original view', 'home', 'home'), ('Back', 'Back to previous …"
      ]
     },
     "metadata": {},
     "output_type": "display_data"
    },
    {
     "name": "stdout",
     "output_type": "stream",
     "text": [
      "[[Model]]\n",
      "    Model(s1)\n",
      "[[Fit Statistics]]\n",
      "    # fitting method   = leastsq\n",
      "    # function evals   = 36\n",
      "    # data points      = 15\n",
      "    # variables        = 4\n",
      "    chi-square         = 1.4698e-04\n",
      "    reduced chi-square = 1.3361e-05\n",
      "    Akaike info crit   = -164.999323\n",
      "    Bayesian info crit = -162.167122\n",
      "[[Variables]]\n",
      "    a:   0.16690263 +/- 0.00270715 (1.62%) (init = 0.13)\n",
      "    y0:  0.40099038 +/- 0.00141025 (0.35%) (init = 0.36)\n",
      "    k:   0.45759632 +/- 0.02803909 (6.13%) (init = 0.4)\n",
      "    xc:  66.0831397 +/- 0.16527096 (0.25%) (init = 63)\n",
      "[[Correlations]] (unreported correlations are < 0.100)\n",
      "    C(a, y0)  = -0.586\n",
      "    C(a, k)   = -0.506\n",
      "    C(y0, k)  =  0.369\n",
      "    C(y0, xc) =  0.288\n",
      "    C(a, xc)  =  0.243\n",
      "    C(k, xc)  = -0.177\n"
     ]
    },
    {
     "data": {
      "application/vnd.jupyter.widget-view+json": {
       "model_id": "004494108aac497ab53259b4cc9506a7",
       "version_major": 2,
       "version_minor": 0
      },
      "text/plain": [
       "Canvas(toolbar=Toolbar(toolitems=[('Home', 'Reset original view', 'home', 'home'), ('Back', 'Back to previous …"
      ]
     },
     "metadata": {},
     "output_type": "display_data"
    },
    {
     "name": "stdout",
     "output_type": "stream",
     "text": [
      "[[Model]]\n",
      "    Model(s1)\n",
      "[[Fit Statistics]]\n",
      "    # fitting method   = leastsq\n",
      "    # function evals   = 51\n",
      "    # data points      = 16\n",
      "    # variables        = 4\n",
      "    chi-square         = 5.2292e-04\n",
      "    reduced chi-square = 4.3576e-05\n",
      "    Akaike info crit   = -157.258864\n",
      "    Bayesian info crit = -154.168509\n",
      "[[Variables]]\n",
      "    a:   0.06629575 +/- 0.00427487 (6.45%) (init = 0.13)\n",
      "    y0:  0.37298844 +/- 0.00269584 (0.72%) (init = 0.36)\n",
      "    k:   0.56436709 +/- 0.17004946 (30.13%) (init = 0.4)\n",
      "    xc:  60.7860968 +/- 0.53989604 (0.89%) (init = 63)\n",
      "[[Correlations]] (unreported correlations are < 0.100)\n",
      "    C(a, y0)  = -0.689\n",
      "    C(a, k)   = -0.486\n",
      "    C(y0, k)  =  0.305\n",
      "    C(y0, xc) =  0.303\n",
      "    C(k, xc)  = -0.189\n",
      "    C(a, xc)  =  0.119\n"
     ]
    },
    {
     "data": {
      "application/vnd.jupyter.widget-view+json": {
       "model_id": "06fb4837a6f5481c972f23a8f8cbd27d",
       "version_major": 2,
       "version_minor": 0
      },
      "text/plain": [
       "Canvas(toolbar=Toolbar(toolitems=[('Home', 'Reset original view', 'home', 'home'), ('Back', 'Back to previous …"
      ]
     },
     "metadata": {},
     "output_type": "display_data"
    },
    {
     "name": "stdout",
     "output_type": "stream",
     "text": [
      "[[Model]]\n",
      "    Model(s1)\n",
      "[[Fit Statistics]]\n",
      "    # fitting method   = leastsq\n",
      "    # function evals   = 31\n",
      "    # data points      = 15\n",
      "    # variables        = 4\n",
      "    chi-square         = 6.1188e-05\n",
      "    reduced chi-square = 5.5626e-06\n",
      "    Akaike info crit   = -178.144079\n",
      "    Bayesian info crit = -175.311878\n",
      "[[Variables]]\n",
      "    a:   0.14053668 +/- 0.00177073 (1.26%) (init = 0.13)\n",
      "    y0:  0.37934873 +/- 9.5403e-04 (0.25%) (init = 0.36)\n",
      "    k:   0.43295854 +/- 0.01981686 (4.58%) (init = 0.4)\n",
      "    xc:  65.3488623 +/- 0.12976026 (0.20%) (init = 63)\n",
      "[[Correlations]] (unreported correlations are < 0.100)\n",
      "    C(a, y0)  = -0.611\n",
      "    C(a, k)   = -0.535\n",
      "    C(y0, k)  =  0.392\n",
      "    C(y0, xc) =  0.300\n",
      "    C(a, xc)  =  0.231\n",
      "    C(k, xc)  = -0.193\n"
     ]
    },
    {
     "data": {
      "application/vnd.jupyter.widget-view+json": {
       "model_id": "b45ac773fb764a92a720fa3dc9c99a04",
       "version_major": 2,
       "version_minor": 0
      },
      "text/plain": [
       "Canvas(toolbar=Toolbar(toolitems=[('Home', 'Reset original view', 'home', 'home'), ('Back', 'Back to previous …"
      ]
     },
     "metadata": {},
     "output_type": "display_data"
    },
    {
     "name": "stdout",
     "output_type": "stream",
     "text": [
      "[[Model]]\n",
      "    Model(s1)\n",
      "[[Fit Statistics]]\n",
      "    # fitting method   = leastsq\n",
      "    # function evals   = 26\n",
      "    # data points      = 15\n",
      "    # variables        = 4\n",
      "    chi-square         = 1.2331e-04\n",
      "    reduced chi-square = 1.1210e-05\n",
      "    Akaike info crit   = -167.633485\n",
      "    Bayesian info crit = -164.801284\n",
      "[[Variables]]\n",
      "    a:   0.12733648 +/- 0.00244340 (1.92%) (init = 0.13)\n",
      "    y0:  0.34448617 +/- 0.00145573 (0.42%) (init = 0.36)\n",
      "    k:   0.42246798 +/- 0.02988255 (7.07%) (init = 0.4)\n",
      "    xc:  62.7925723 +/- 0.18972587 (0.30%) (init = 63)\n",
      "[[Correlations]] (unreported correlations are < 0.100)\n",
      "    C(a, y0)  = -0.664\n",
      "    C(a, k)   = -0.537\n",
      "    C(y0, k)  =  0.369\n",
      "    C(y0, xc) =  0.339\n",
      "    C(k, xc)  = -0.168\n",
      "    C(a, xc)  =  0.160\n"
     ]
    },
    {
     "data": {
      "application/vnd.jupyter.widget-view+json": {
       "model_id": "8b1297f73f474a6c859a22c7812ac12c",
       "version_major": 2,
       "version_minor": 0
      },
      "text/plain": [
       "Canvas(toolbar=Toolbar(toolitems=[('Home', 'Reset original view', 'home', 'home'), ('Back', 'Back to previous …"
      ]
     },
     "metadata": {},
     "output_type": "display_data"
    },
    {
     "name": "stdout",
     "output_type": "stream",
     "text": [
      "[[Model]]\n",
      "    Model(s1)\n",
      "[[Fit Statistics]]\n",
      "    # fitting method   = leastsq\n",
      "    # function evals   = 41\n",
      "    # data points      = 16\n",
      "    # variables        = 4\n",
      "    chi-square         = 1.6417e-04\n",
      "    reduced chi-square = 1.3681e-05\n",
      "    Akaike info crit   = -175.795251\n",
      "    Bayesian info crit = -172.704896\n",
      "[[Variables]]\n",
      "    a:   0.15628335 +/- 0.00254249 (1.63%) (init = 0.13)\n",
      "    y0:  0.40464104 +/- 0.00164746 (0.41%) (init = 0.36)\n",
      "    k:   0.43634504 +/- 0.02704844 (6.20%) (init = 0.4)\n",
      "    xc:  59.6154686 +/- 0.15797674 (0.26%) (init = 63)\n",
      "[[Correlations]] (unreported correlations are < 0.100)\n",
      "    C(a, y0)  = -0.712\n",
      "    C(a, k)   = -0.533\n",
      "    C(y0, xc) =  0.385\n",
      "    C(y0, k)  =  0.373\n"
     ]
    },
    {
     "data": {
      "application/vnd.jupyter.widget-view+json": {
       "model_id": "95090bc89c6641ec8edcd5c7e8fad4bd",
       "version_major": 2,
       "version_minor": 0
      },
      "text/plain": [
       "Canvas(toolbar=Toolbar(toolitems=[('Home', 'Reset original view', 'home', 'home'), ('Back', 'Back to previous …"
      ]
     },
     "metadata": {},
     "output_type": "display_data"
    },
    {
     "name": "stdout",
     "output_type": "stream",
     "text": [
      "[[Model]]\n",
      "    Model(s1)\n",
      "[[Fit Statistics]]\n",
      "    # fitting method   = leastsq\n",
      "    # function evals   = 63\n",
      "    # data points      = 16\n",
      "    # variables        = 4\n",
      "    chi-square         = 1.3882e-04\n",
      "    reduced chi-square = 1.1569e-05\n",
      "    Akaike info crit   = -178.478337\n",
      "    Bayesian info crit = -175.387982\n",
      "[[Variables]]\n",
      "    a:   0.09459118 +/- 0.00303384 (3.21%) (init = 0.13)\n",
      "    y0:  0.36684601 +/- 0.00222071 (0.61%) (init = 0.36)\n",
      "    k:   0.22638504 +/- 0.02115257 (9.34%) (init = 0.4)\n",
      "    xc:  53.0164003 +/- 0.46837083 (0.88%) (init = 63)\n",
      "[[Correlations]] (unreported correlations are < 0.100)\n",
      "    C(a, y0)  = -0.832\n",
      "    C(a, k)   = -0.672\n",
      "    C(y0, xc) =  0.551\n",
      "    C(y0, k)  =  0.491\n",
      "    C(a, xc)  = -0.212\n",
      "    C(k, xc)  =  0.197\n"
     ]
    },
    {
     "data": {
      "application/vnd.jupyter.widget-view+json": {
       "model_id": "39820e9ae057433692db8820789840f3",
       "version_major": 2,
       "version_minor": 0
      },
      "text/plain": [
       "Canvas(toolbar=Toolbar(toolitems=[('Home', 'Reset original view', 'home', 'home'), ('Back', 'Back to previous …"
      ]
     },
     "metadata": {},
     "output_type": "display_data"
    }
   ],
   "source": [
    "# Parameter\n",
    "sample = \"Control_0M\"\n",
    "melt_T = {}\n",
    "error_T = {}\n",
    "residual = pd.DataFrame(index=[\"R-Wert\"])\n",
    "for key in liste:\n",
    "    fit, params, params_error = ana.lm_fit(data_all[key].absorb_df, guess=[0.13, 0.36, 0.4])\n",
    "    melt_T[key] = params['xc']\n",
    "    error_T[key] = params_error\n",
    "    residual[key] = [1 - (np.sum(fit[\"residual\"]**2)/np.sum((fit[260] - fit[260].mean(axis=0))**2))]\n",
    "    plot.mult_func([260, \"fit\"], [fit], error={\"fit\": fit[\"error\"]}, swap=True, \n",
    "                   x_label=\"Temperature [°C]\", y_label=\"Absorbance [%]\", label=[\"data\", \"sigmoid fit\", 'melting temperature'], marker=['o', ''], linestyle=[\" \", \"-\"],\n",
    "                  subtitle=[\"Hyperchromatic shift\"], title=key, vertical_line=[params['xc']])"
   ]
  },
  {
   "cell_type": "code",
   "execution_count": 13,
   "id": "binding-component",
   "metadata": {},
   "outputs": [
    {
     "data": {
      "application/vnd.jupyter.widget-view+json": {
       "model_id": "a3217be4dd7a4ecab19717e5bf0d26c1",
       "version_major": 2,
       "version_minor": 0
      },
      "text/plain": [
       "Canvas(toolbar=Toolbar(toolitems=[('Home', 'Reset original view', 'home', 'home'), ('Back', 'Back to previous …"
      ]
     },
     "metadata": {},
     "output_type": "display_data"
    }
   ],
   "source": [
    "x = [0., 0.5, 2., 4., 6.]\n",
    "y = list(melt_T.values())[0:5]\n",
    "\n",
    "y_error = list(error_T.values())[0:5]\n",
    "graph1 = pd.DataFrame(y, index=x, columns=[\"Gdm2SO4\"]).T\n",
    "error= {\"Gdm2SO4\":y_error}\n",
    "\n",
    "y2 = [melt_T[\"Control_0M\"], melt_T[\"GdmCl_0.5M\"], melt_T[\"GdmCl_2M\"], melt_T[\"GdmCl_4M\"], melt_T[\"GdmCl_6M\"]]\n",
    "y2_error = [error_T[\"Control_0M\"], error_T[\"GdmCl_0.5M\"], error_T[\"GdmCl_2M\"], error_T[\"GdmCl_4M\"], error_T[\"GdmCl_6M\"]]\n",
    "graph2 = pd.DataFrame(y2, index=x, columns=[\"GdmCl\"] ).T\n",
    "error[\"GdmCl\"] = y2_error \n",
    "\n",
    "graph = pd.concat([graph1, graph2], axis=0)\n",
    "plot.mult_func([\"Gdm2SO4\", \"GdmCl\"], [graph], title=\"Melting Temperature\", subtitle=[\"\"], x_label=\"Concentration [M]\", y_label=\"Temperature [°C]\", error=error_T)"
   ]
  },
  {
   "cell_type": "markdown",
   "id": "original-lounge",
   "metadata": {},
   "source": [
    "### Linear LM Fit for Melting Temperature\n"
   ]
  },
  {
   "cell_type": "code",
   "execution_count": 9,
   "id": "smooth-watch",
   "metadata": {},
   "outputs": [
    {
     "name": "stdout",
     "output_type": "stream",
     "text": [
      "[[Model]]\n",
      "    Model(linear)\n",
      "[[Fit Statistics]]\n",
      "    # fitting method   = leastsq\n",
      "    # function evals   = 6\n",
      "    # data points      = 3\n",
      "    # variables        = 2\n",
      "    chi-square         = 4.5580e-05\n",
      "    reduced chi-square = 4.5580e-05\n",
      "    Akaike info crit   = -29.2839646\n",
      "    Bayesian info crit = -31.0867401\n",
      "[[Variables]]\n",
      "    m:   0.02751360 +/- 0.00238694 (8.68%) (init = 1)\n",
      "    y0: -0.36959546 +/- 0.07648154 (20.69%) (init = 0)\n",
      "[[Correlations]] (unreported correlations are < 0.100)\n",
      "    C(m, y0) = -0.999\n",
      "[[Model]]\n",
      "    Model(linear)\n",
      "[[Fit Statistics]]\n",
      "    # fitting method   = leastsq\n",
      "    # function evals   = 6\n",
      "    # data points      = 3\n",
      "    # variables        = 2\n",
      "    chi-square         = 9.5661e-04\n",
      "    reduced chi-square = 9.5661e-04\n",
      "    Akaike info crit   = -20.1521789\n",
      "    Bayesian info crit = -21.9549543\n",
      "[[Variables]]\n",
      "    m:  -0.00348944 +/- 0.00140010 (40.12%) (init = 1)\n",
      "    y0:  0.58298370 +/- 0.05347315 (9.17%) (init = 0)\n",
      "[[Correlations]] (unreported correlations are < 0.100)\n",
      "    C(m, y0) = -0.943\n",
      "[[Model]]\n",
      "    Model(linear)\n",
      "[[Fit Statistics]]\n",
      "    # fitting method   = leastsq\n",
      "    # function evals   = 6\n",
      "    # data points      = 3\n",
      "    # variables        = 2\n",
      "    chi-square         = 7.4934e-04\n",
      "    reduced chi-square = 7.4934e-04\n",
      "    Akaike info crit   = -20.8847889\n",
      "    Bayesian info crit = -22.6875644\n",
      "[[Variables]]\n",
      "    m:   0.10024185 +/- 0.00769145 (7.67%) (init = 1)\n",
      "    y0: -5.92862655 +/- 0.49506910 (8.35%) (init = 0)\n",
      "[[Correlations]] (unreported correlations are < 0.100)\n",
      "    C(m, y0) = -0.999\n",
      "[[Model]]\n",
      "    Model(linear)\n",
      "[[Fit Statistics]]\n",
      "    # fitting method   = leastsq\n",
      "    # function evals   = 6\n",
      "    # data points      = 3\n",
      "    # variables        = 2\n",
      "    chi-square         = 8.2272e-04\n",
      "    reduced chi-square = 8.2272e-04\n",
      "    Akaike info crit   = -20.6045157\n",
      "    Bayesian info crit = -22.4072911\n",
      "[[Variables]]\n",
      "    m:   0.07182198 +/- 0.00676068 (9.41%) (init = 1)\n",
      "    y0: -4.21486479 +/- 0.45326794 (10.75%) (init = 0)\n",
      "[[Correlations]] (unreported correlations are < 0.100)\n",
      "    C(m, y0) = -0.999\n",
      "[[Model]]\n",
      "    Model(linear)\n",
      "[[Fit Statistics]]\n",
      "    # fitting method   = leastsq\n",
      "    # function evals   = 6\n",
      "    # data points      = 3\n",
      "    # variables        = 2\n",
      "    chi-square         = 0.00377572\n",
      "    reduced chi-square = 0.00377572\n",
      "    Akaike info crit   = -16.0333259\n",
      "    Bayesian info crit = -17.8361014\n",
      "[[Variables]]\n",
      "    m:   0.07748315 +/- 0.01448318 (18.69%) (init = 1)\n",
      "    y0: -4.55697201 +/- 0.97102124 (21.31%) (init = 0)\n",
      "[[Correlations]] (unreported correlations are < 0.100)\n",
      "    C(m, y0) = -0.999\n",
      "[[Model]]\n",
      "    Model(linear)\n",
      "[[Fit Statistics]]\n",
      "    # fitting method   = leastsq\n",
      "    # function evals   = 6\n",
      "    # data points      = 3\n",
      "    # variables        = 2\n",
      "    chi-square         = 0.00128714\n",
      "    reduced chi-square = 0.00128714\n",
      "    Akaike info crit   = -19.2618263\n",
      "    Bayesian info crit = -21.0646018\n",
      "[[Variables]]\n",
      "    m:   0.08755442 +/- 0.00845624 (9.66%) (init = 1)\n",
      "    y0: -5.30598194 +/- 0.56694652 (10.69%) (init = 0)\n",
      "[[Correlations]] (unreported correlations are < 0.100)\n",
      "    C(m, y0) = -0.999\n",
      "[[Model]]\n",
      "    Model(linear)\n",
      "[[Fit Statistics]]\n",
      "    # fitting method   = leastsq\n",
      "    # function evals   = 6\n",
      "    # data points      = 3\n",
      "    # variables        = 2\n",
      "    chi-square         = 5.1755e-05\n",
      "    reduced chi-square = 5.1755e-05\n",
      "    Akaike info crit   = -28.9028124\n",
      "    Bayesian info crit = -30.7055878\n",
      "[[Variables]]\n",
      "    m:   0.11073527 +/- 0.00333022 (3.01%) (init = 1)\n",
      "    y0: -6.19490111 +/- 0.20096592 (3.24%) (init = 0)\n",
      "[[Correlations]] (unreported correlations are < 0.100)\n",
      "    C(m, y0) = -1.000\n",
      "[[Model]]\n",
      "    Model(linear)\n",
      "[[Fit Statistics]]\n",
      "    # fitting method   = leastsq\n",
      "    # function evals   = 6\n",
      "    # data points      = 3\n",
      "    # variables        = 2\n",
      "    chi-square         = 6.3368e-05\n",
      "    reduced chi-square = 6.3368e-05\n",
      "    Akaike info crit   = -28.2955072\n",
      "    Bayesian info crit = -30.0982827\n",
      "[[Variables]]\n",
      "    m:   0.09526271 +/- 0.00223667 (2.35%) (init = 1)\n",
      "    y0: -5.73020127 +/- 0.14396608 (2.51%) (init = 0)\n",
      "[[Correlations]] (unreported correlations are < 0.100)\n",
      "    C(m, y0) = -0.999\n",
      "[[Model]]\n",
      "    Model(linear)\n",
      "[[Fit Statistics]]\n",
      "    # fitting method   = leastsq\n",
      "    # function evals   = 6\n",
      "    # data points      = 3\n",
      "    # variables        = 2\n",
      "    chi-square         = 1.0912e-04\n",
      "    reduced chi-square = 1.0912e-04\n",
      "    Akaike info crit   = -26.6649235\n",
      "    Bayesian info crit = -28.4676989\n",
      "[[Variables]]\n",
      "    m:   0.09914953 +/- 0.00369330 (3.72%) (init = 1)\n",
      "    y0: -5.73531630 +/- 0.22906395 (3.99%) (init = 0)\n",
      "[[Correlations]] (unreported correlations are < 0.100)\n",
      "    C(m, y0) = -1.000\n",
      "[[Model]]\n",
      "    Model(linear)\n",
      "[[Fit Statistics]]\n",
      "    # fitting method   = leastsq\n",
      "    # function evals   = 6\n",
      "    # data points      = 3\n",
      "    # variables        = 2\n",
      "    chi-square         = 0.00232806\n",
      "    reduced chi-square = 0.00232806\n",
      "    Akaike info crit   = -17.4839914\n",
      "    Bayesian info crit = -19.2867669\n",
      "[[Variables]]\n",
      "    m:   0.07330548 +/- 0.00819486 (11.18%) (init = 1)\n",
      "    y0: -4.26294159 +/- 0.53612163 (12.58%) (init = 0)\n",
      "[[Correlations]] (unreported correlations are < 0.100)\n",
      "    C(m, y0) = -0.999\n",
      "[[Model]]\n",
      "    Model(linear)\n",
      "[[Fit Statistics]]\n",
      "    # fitting method   = leastsq\n",
      "    # function evals   = 6\n",
      "    # data points      = 3\n",
      "    # variables        = 2\n",
      "    chi-square         = 2.0368e-05\n",
      "    reduced chi-square = 2.0368e-05\n",
      "    Akaike info crit   = -31.7005399\n",
      "    Bayesian info crit = -33.5033153\n",
      "[[Variables]]\n",
      "    m:   0.09530513 +/- 0.00159560 (1.67%) (init = 1)\n",
      "    y0: -5.19464939 +/- 0.09577152 (1.84%) (init = 0)\n",
      "[[Correlations]] (unreported correlations are < 0.100)\n",
      "    C(m, y0) = -1.000\n",
      "[[Model]]\n",
      "    Model(linear)\n",
      "[[Fit Statistics]]\n",
      "    # fitting method   = leastsq\n",
      "    # function evals   = 7\n",
      "    # data points      = 3\n",
      "    # variables        = 2\n",
      "    chi-square         = 3.2822e-06\n",
      "    reduced chi-square = 3.2822e-06\n",
      "    Akaike info crit   = -37.1767913\n",
      "    Bayesian info crit = -38.9795667\n",
      "[[Variables]]\n",
      "    m:   0.06027596 +/- 4.2702e-04 (0.71%) (init = 1)\n",
      "    y0: -2.70793563 +/- 0.02265625 (0.84%) (init = 0)\n",
      "[[Correlations]] (unreported correlations are < 0.100)\n",
      "    C(m, y0) = -0.999\n",
      "[[Model]]\n",
      "    Model(linear)\n",
      "[[Fit Statistics]]\n",
      "    # fitting method   = leastsq\n",
      "    # function evals   = 7\n",
      "    # data points      = 3\n",
      "    # variables        = 2\n",
      "    chi-square         = 2.5652e-08\n",
      "    reduced chi-square = 2.5652e-08\n",
      "    Akaike info crit   = -51.7317762\n",
      "    Bayesian info crit = -53.5345516\n",
      "[[Variables]]\n",
      "    m:   2.3493e-05 +/- 1.1325e-05 (48.21%) (init = 1)\n",
      "    y0:  0.94594208 +/- 3.5212e-04 (0.04%) (init = 0)\n",
      "[[Correlations]] (unreported correlations are < 0.100)\n",
      "    C(m, y0) = -0.965\n",
      "[[Model]]\n",
      "    Model(linear)\n",
      "[[Fit Statistics]]\n",
      "    # fitting method   = leastsq\n",
      "    # function evals   = 7\n",
      "    # data points      = 3\n",
      "    # variables        = 2\n",
      "    chi-square         = 3.7566e-06\n",
      "    reduced chi-square = 3.7566e-06\n",
      "    Akaike info crit   = -36.7718076\n",
      "    Bayesian info crit = -38.5745830\n",
      "[[Variables]]\n",
      "    m:   0.03061344 +/- 5.4459e-04 (1.78%) (init = 1)\n",
      "    y0: -1.47003466 +/- 0.03505299 (2.38%) (init = 0)\n",
      "[[Correlations]] (unreported correlations are < 0.100)\n",
      "    C(m, y0) = -0.999\n",
      "[[Model]]\n",
      "    Model(linear)\n",
      "[[Fit Statistics]]\n",
      "    # fitting method   = leastsq\n",
      "    # function evals   = 7\n",
      "    # data points      = 3\n",
      "    # variables        = 2\n",
      "    chi-square         = 1.6236e-07\n",
      "    reduced chi-square = 1.6236e-07\n",
      "    Akaike info crit   = -46.1961442\n",
      "    Bayesian info crit = -47.9989196\n",
      "[[Variables]]\n",
      "    m:   0.01493276 +/- 1.4246e-04 (0.95%) (init = 1)\n",
      "    y0: -0.43827916 +/- 0.00883568 (2.02%) (init = 0)\n",
      "[[Correlations]] (unreported correlations are < 0.100)\n",
      "    C(m, y0) = -1.000\n",
      "[[Model]]\n",
      "    Model(linear)\n",
      "[[Fit Statistics]]\n",
      "    # fitting method   = leastsq\n",
      "    # function evals   = 7\n",
      "    # data points      = 3\n",
      "    # variables        = 2\n",
      "    chi-square         = 4.0739e-06\n",
      "    reduced chi-square = 4.0739e-06\n",
      "    Akaike info crit   = -36.5285535\n",
      "    Bayesian info crit = -38.3313290\n",
      "[[Variables]]\n",
      "    m:   0.09767408 +/- 7.1361e-04 (0.73%) (init = 1)\n",
      "    y0: -5.33250715 +/- 0.04283247 (0.80%) (init = 0)\n",
      "[[Correlations]] (unreported correlations are < 0.100)\n",
      "    C(m, y0) = -1.000\n",
      "59.71396772380036 [0.0007136102820358763, 0.0428324722113423]\n"
     ]
    }
   ],
   "source": [
    "# Parameter\n",
    "melt_T = {}\n",
    "error_T = {}\n",
    "residual = pd.DataFrame(index=[\"R-Wert\"])\n",
    "for key in data_all.keys():\n",
    "    # normalize absorbance values and get next 3 values to 0.5\n",
    "    df = ana.normalize(data_all[key].absorb_df).loc[260]\n",
    "    df_sort = pd.DataFrame(df.iloc[(df-0.5).abs().argsort()[:3]], columns=[260])\n",
    "    # make linear fit\n",
    "    fit, params, params_error = ana.lm_fit(df_sort.T, f_type='linear')\n",
    "    # calulate melting temperature\n",
    "    melt_T[key] = 0.5 - params['y0'])/params['m']\n",
    "    error_T[key] = (params_error['y0']/params['m'])\n",
    "    #residual[key] = [1 - (np.sum(fit[\"residual\"]**2)/np.sum((fit[260] - fit[260].mean(axis=0))**2))]\n",
    "    #plot.mult_func([260, \"fit\"], [fit], error={\"fit\": fit[\"error\"]}, swap=True, \n",
    "    #               x_label=\"Temperature [°C]\", y_label=\"Absorbance [%]\", label=[\"data\", \"sigmoid fit\", 'melting temperature'], marker=['o', ''], linestyle=[\" \", \"-\"],\n",
    "     #             subtitle=[\"Hyperchromatic shift\"], title=key)\n",
    "print((0.5 - params['y0'])/params['m'], params_error)"
   ]
  },
  {
   "cell_type": "markdown",
   "id": "stretch-baptist",
   "metadata": {},
   "source": [
    "# Long measurements"
   ]
  },
  {
   "cell_type": "code",
   "execution_count": 69,
   "id": "brown-python",
   "metadata": {},
   "outputs": [
    {
     "data": {
      "application/vnd.jupyter.widget-view+json": {
       "model_id": "9e3863a62ffe4466a6d9518c22336018",
       "version_major": 2,
       "version_minor": 0
      },
      "text/plain": [
       "Canvas(toolbar=Toolbar(toolitems=[('Home', 'Reset original view', 'home', 'home'), ('Back', 'Back to previous …"
      ]
     },
     "metadata": {},
     "output_type": "display_data"
    },
    {
     "data": {
      "application/vnd.jupyter.widget-view+json": {
       "model_id": "6e3c90065f8a4e32ac5ef95b98ac8908",
       "version_major": 2,
       "version_minor": 0
      },
      "text/plain": [
       "Canvas(toolbar=Toolbar(toolitems=[('Home', 'Reset original view', 'home', 'home'), ('Back', 'Back to previous …"
      ]
     },
     "metadata": {},
     "output_type": "display_data"
    }
   ],
   "source": [
    "df = data_all[\"46_forward\"].absorb_df\n",
    "deriv_df = ana.derivative(df)\n",
    "deriv_df.columns = deriv_df.columns + df.columns[0]\n",
    "\n",
    "plot.mult_func([260], [df])\n",
    "plot.heatmap(df, x_min=[220] )"
   ]
  },
  {
   "cell_type": "code",
   "execution_count": 26,
   "id": "extreme-anderson",
   "metadata": {},
   "outputs": [
    {
     "data": {
      "application/vnd.jupyter.widget-view+json": {
       "model_id": "e03929a0cf234e94bd390fb51a280d9c",
       "version_major": 2,
       "version_minor": 0
      },
      "text/plain": [
       "Canvas(toolbar=Toolbar(toolitems=[('Home', 'Reset original view', 'home', 'home'), ('Back', 'Back to previous …"
      ]
     },
     "metadata": {},
     "output_type": "display_data"
    }
   ],
   "source": [
    "plot.mult_func([215], [data_all['46_forward'].cd_df, data_all['46_reversed'] ], swap=False,\n",
    "                   y_label=\"CD values [mdeg]\", subtitle=[\"\"], marker=['o', 'x', '', ''],\n",
    "               linestyle=['-', ':', ':', '-'], label=[\"Forward\", \"Reversed\"])"
   ]
  },
  {
   "cell_type": "markdown",
   "id": "lined-tsunami",
   "metadata": {},
   "source": [
    "# TD Calculations\n"
   ]
  },
  {
   "cell_type": "markdown",
   "id": "nervous-basement",
   "metadata": {},
   "source": [
    "<div class=\"alert alert-block alert-info\">\n",
    "<b>Info:</b> Steps after Mergny, J.-L., & Lacroix, L. (2003). Analysis of Thermal Melting Curves. In OLIGONUCLEOTIDES (Vol. 13). www.liebertpub.com\n",
    "</div>"
   ]
  },
  {
   "cell_type": "markdown",
   "id": "northern-sleeve",
   "metadata": {},
   "source": [
    "**Hypochromatic Shift at 260nm  wit Low and High Plateau Fit**"
   ]
  },
  {
   "cell_type": "code",
   "execution_count": 8,
   "id": "hybrid-sphere",
   "metadata": {},
   "outputs": [
    {
     "name": "stdout",
     "output_type": "stream",
     "text": [
      "[[Model]]\n",
      "    Model(linear)\n",
      "[[Fit Statistics]]\n",
      "    # fitting method   = leastsq\n",
      "    # function evals   = 7\n",
      "    # data points      = 3\n",
      "    # variables        = 2\n",
      "    chi-square         = 3.7600e-07\n",
      "    reduced chi-square = 3.7600e-07\n",
      "    Akaike info crit   = -43.6768616\n",
      "    Bayesian info crit = -45.4796371\n",
      "[[Variables]]\n",
      "    m:   9.8400e-05 +/- 4.3359e-05 (44.06%) (init = 0.0001)\n",
      "    y0:  0.35534533 +/- 0.00134808 (0.38%) (init = 0.35)\n",
      "[[Correlations]] (unreported correlations are < 0.100)\n",
      "    C(m, y0) = -0.965\n",
      "[[Model]]\n",
      "    Model(linear)\n",
      "[[Fit Statistics]]\n",
      "    # fitting method   = leastsq\n",
      "    # function evals   = 7\n",
      "    # data points      = 3\n",
      "    # variables        = 2\n",
      "    chi-square         = 1.3374e-05\n",
      "    reduced chi-square = 1.3374e-05\n",
      "    Akaike info crit   = -32.9623650\n",
      "    Bayesian info crit = -34.7651404\n",
      "[[Variables]]\n",
      "    m:   7.5960e-04 +/- 2.5860e-04 (34.04%) (init = 0.0001)\n",
      "    y0:  0.42851300 +/- 0.02079508 (4.85%) (init = 0.48)\n",
      "[[Correlations]] (unreported correlations are < 0.100)\n",
      "    C(m, y0) = -0.995\n",
      "[[Model]]\n",
      "    Model(s1)\n",
      "[[Fit Statistics]]\n",
      "    # fitting method   = leastsq\n",
      "    # function evals   = 26\n",
      "    # data points      = 16\n",
      "    # variables        = 4\n",
      "    chi-square         = 8.2538e-05\n",
      "    reduced chi-square = 6.8781e-06\n",
      "    Akaike info crit   = -186.797542\n",
      "    Bayesian info crit = -183.707187\n",
      "[[Variables]]\n",
      "    a:   0.13153935 +/- 0.00186321 (1.42%) (init = 0.2)\n",
      "    y0:  0.35994043 +/- 0.00101404 (0.28%) (init = 0.35)\n",
      "    k:   0.46428497 +/- 0.02562977 (5.52%) (init = 0.5)\n",
      "    xc:  64.0734193 +/- 0.13971623 (0.22%) (init = 63)\n",
      "[[Correlations]] (unreported correlations are < 0.100)\n",
      "    C(a, y0)  = -0.618\n",
      "    C(a, k)   = -0.528\n",
      "    C(y0, k)  =  0.374\n",
      "    C(y0, xc) =  0.283\n",
      "    C(a, xc)  =  0.228\n",
      "    C(k, xc)  = -0.212\n"
     ]
    }
   ],
   "source": [
    "raw = data_all[\"Control_0M\"].absorb_df\n",
    "low_fit, params_lowfit = ana.lm_fit(raw[[20,30,40]], f_type='linear', guess=[0.0001, 0.35])\n",
    "high_fit, params_highfit = ana.lm_fit(raw[[70, 80,90]], f_type='linear', guess=[0.0001, 0.48])\n",
    "sig_fit, params_sigfit = ana.lm_fit(raw, f_type='s1', guess=[0.2, 0.35, 0.5, 63])"
   ]
  },
  {
   "cell_type": "markdown",
   "id": "oriented-effects",
   "metadata": {},
   "source": [
    "**Calculating Fraction Folded with High Plateu adjusted manually**"
   ]
  },
  {
   "cell_type": "code",
   "execution_count": 9,
   "id": "controversial-mouth",
   "metadata": {},
   "outputs": [
    {
     "data": {
      "application/vnd.jupyter.widget-view+json": {
       "model_id": "65d8a6ab0e8e4dbaa995d21b220fbb96",
       "version_major": 2,
       "version_minor": 0
      },
      "text/plain": [
       "Canvas(toolbar=Toolbar(toolitems=[('Home', 'Reset original view', 'home', 'home'), ('Back', 'Back to previous …"
      ]
     },
     "metadata": {},
     "output_type": "display_data"
    },
    {
     "data": {
      "application/vnd.jupyter.widget-view+json": {
       "model_id": "076344cdb4e34e8d893c73c00707e0d9",
       "version_major": 2,
       "version_minor": 0
      },
      "text/plain": [
       "Canvas(toolbar=Toolbar(toolitems=[('Home', 'Reset original view', 'home', 'home'), ('Back', 'Back to previous …"
      ]
     },
     "metadata": {},
     "output_type": "display_data"
    }
   ],
   "source": [
    "data_treated = pd.DataFrame(raw.loc[260])\n",
    "data_treated[\"low_fit\"] = ana.linear(np.array(raw.columns), *params_lowfit.values())\n",
    "data_treated[\"high_fit\"] = ana.linear(np.array(raw.columns), 0.0004495999948082116, 0.45451300041966917)\n",
    "data_treated[\"intermediate\"] = 0.5*(data_treated[\"low_fit\"] + data_treated[\"high_fit\"])\n",
    "data_treated[\"fit\"] = sig_fit[\"fit\"]\n",
    "data_treated[\"baseline_fit\"] = (data_treated[\"high_fit\"] - data_treated[260])/(data_treated[\"high_fit\"] - data_treated[\"low_fit\"])\n",
    "data_treated[\"normed_data\"] = 1- ana.normalize(raw).loc[260].to_numpy()\n",
    "data_treated[\"log_fit\"] = 1 - ana.normalize(data_treated)[\"fit\"]\n",
    "plot.mult_func([260, \"low_fit\", \"high_fit\", \"intermediate\", \"fit\"], [data_treated.T], subtitle=[\"\"], title=\"Hypochromatic shift with Plaetau Fits\", y_label=\"Absorbance at 260nm\")\n",
    "plot.mult_func([\"baseline_fit\", \"normed_data\", \"log_fit\"], [data_treated.T], subtitle=[\"\"],  title=\"Fraction folded calculated by Plateu fits and Normalization\", y_label=\"Fraction folded\")\n"
   ]
  },
  {
   "cell_type": "markdown",
   "id": "registered-messaging",
   "metadata": {},
   "source": [
    "**calulate K and ln K for different methods**"
   ]
  },
  {
   "cell_type": "code",
   "execution_count": 10,
   "id": "seeing-midwest",
   "metadata": {},
   "outputs": [
    {
     "name": "stdout",
     "output_type": "stream",
     "text": [
      "[[Model]]\n",
      "    Model(linear)\n",
      "[[Fit Statistics]]\n",
      "    # fitting method   = leastsq\n",
      "    # function evals   = 6\n",
      "    # data points      = 5\n",
      "    # variables        = 2\n",
      "    chi-square         = 0.66852599\n",
      "    reduced chi-square = 0.22284200\n",
      "    Akaike info crit   = -6.06058962\n",
      "    Bayesian info crit = -6.84171380\n",
      "[[Variables]]\n",
      "    m:   82573.1995 +/- 6790.09991 (8.22%) (init = 80000)\n",
      "    y0: -226.953410 +/- 20.1072530 (8.86%) (init = -2)\n",
      "[[Correlations]] (unreported correlations are < 0.100)\n",
      "    C(m, y0) = -1.000\n"
     ]
    },
    {
     "name": "stderr",
     "output_type": "stream",
     "text": [
      "C:\\Users\\crazy\\anaconda3\\envs\\TestEnv\\lib\\site-packages\\pandas\\core\\arraylike.py:358: RuntimeWarning: invalid value encountered in log\n",
      "  result = getattr(ufunc, method)(*inputs, **kwargs)\n"
     ]
    },
    {
     "data": {
      "application/vnd.jupyter.widget-view+json": {
       "model_id": "f8d4f87a29cd4eeab65862dd40a0b70c",
       "version_major": 2,
       "version_minor": 0
      },
      "text/plain": [
       "Canvas(toolbar=Toolbar(toolitems=[('Home', 'Reset original view', 'home', 'home'), ('Back', 'Back to previous …"
      ]
     },
     "metadata": {},
     "output_type": "display_data"
    }
   ],
   "source": [
    "c_total = 40 * (10**-9) # # total strand concentration in molar\n",
    "\n",
    "# get K and ln K\n",
    "base_method = pd.DataFrame(data_treated[\"baseline_fit\"].to_numpy(), index=[20,30,40,45,50,56,56,58,60,62,64,67,70,75,80, 90], columns=[\"theta\"])\n",
    "base_method['theta'] = base_method['theta'].astype(float)\n",
    "\n",
    "# here equation depending on reaction type, choosen: Bimolecular, complementary strand types\n",
    "base_method[\"K\"] = (base_method[\"theta\"])/(c_total*((1 - base_method[\"theta\"])**2))\n",
    "base_method['ln K'] = np.log(base_method['K'])\n",
    "\n",
    "# select values in confidence values 0.1 < theta < 0.9\n",
    "base_method  = base_method.loc[60:70]\n",
    "# change celsius to kelvin\n",
    "base_method = base_method.set_index(1/(base_method.index + 273.15))\n",
    "\n",
    "# make linear fit and plot\n",
    "enthalpy_base, params_base = ana.lm_fit(base_method.T, wave=\"ln K\", f_type='linear', guess=[80000, -2])\n",
    "error = {\"fit\" : enthalpy_base[\"error\"].to_numpy()}\n",
    "plot.mult_func([\"ln K\", \"fit\"], [enthalpy_base.T], error=error, x_label=\"1/T [1/Kelvin]\", y_label=\"ln K\")"
   ]
  },
  {
   "cell_type": "code",
   "execution_count": 11,
   "id": "express-immunology",
   "metadata": {},
   "outputs": [
    {
     "name": "stdout",
     "output_type": "stream",
     "text": [
      "[[Model]]\n",
      "    Model(linear)\n",
      "[[Fit Statistics]]\n",
      "    # fitting method   = leastsq\n",
      "    # function evals   = 6\n",
      "    # data points      = 5\n",
      "    # variables        = 2\n",
      "    chi-square         = 0.66852599\n",
      "    reduced chi-square = 0.22284200\n",
      "    Akaike info crit   = -6.06058962\n",
      "    Bayesian info crit = -6.84171380\n",
      "[[Variables]]\n",
      "    m:   82573.1995 +/- 6790.09991 (8.22%) (init = 80000)\n",
      "    y0: -226.953410 +/- 20.1072530 (8.86%) (init = -2)\n",
      "[[Correlations]] (unreported correlations are < 0.100)\n",
      "    C(m, y0) = -1.000\n"
     ]
    },
    {
     "name": "stderr",
     "output_type": "stream",
     "text": [
      "C:\\Users\\crazy\\anaconda3\\envs\\TestEnv\\lib\\site-packages\\pandas\\core\\arraylike.py:358: RuntimeWarning: divide by zero encountered in log\n",
      "  result = getattr(ufunc, method)(*inputs, **kwargs)\n"
     ]
    },
    {
     "data": {
      "application/vnd.jupyter.widget-view+json": {
       "model_id": "3b03dbe7c0de4ee58e9732a4d5d5cbc8",
       "version_major": 2,
       "version_minor": 0
      },
      "text/plain": [
       "Canvas(toolbar=Toolbar(toolitems=[('Home', 'Reset original view', 'home', 'home'), ('Back', 'Back to previous …"
      ]
     },
     "metadata": {},
     "output_type": "display_data"
    }
   ],
   "source": [
    "c_total = 40 * (10**-9) # # total strand concentration in molar\n",
    "\n",
    "# get K and ln K\n",
    "normed_method = pd.DataFrame(data_treated[\"normed_data\"].to_numpy(), index=[20,30,40,45,50,56,56,58,60,62,64,67,70,75,80, 90], columns=[\"theta\"])\n",
    "normed_method['theta'] = normed_method['theta'].astype(float)\n",
    "\n",
    "# here equation depending on reaction type, choosen: Bimolecular, complementary strand types\n",
    "normed_method[\"K\"] = (normed_method[\"theta\"])/(c_total*((1 - normed_method[\"theta\"])**2))\n",
    "normed_method['ln K'] = np.log(normed_method['K'])\n",
    "\n",
    "# select values in confidence values 0.1 < theta < 0.9\n",
    "normed_method  = normed_method.loc[60:70]\n",
    "# change celsius to kelvin\n",
    "normed_method = normed_method.set_index(1/(normed_method.index + 273.15))\n",
    "\n",
    "# make linear fit and plot\n",
    "enthalpy_normed, params_norm = ana.lm_fit(base_method.T, wave=\"ln K\", f_type='linear', guess=[80000, -2])\n",
    "error = {\"fit\" : enthalpy_normed[\"error\"].to_numpy()}\n",
    "plot.mult_func([\"ln K\", \"fit\"], [enthalpy_normed.T], error=error, x_label=\"1/T [1/Kelvin]\", y_label=\"ln K\")"
   ]
  },
  {
   "cell_type": "code",
   "execution_count": 12,
   "id": "israeli-johns",
   "metadata": {},
   "outputs": [
    {
     "name": "stdout",
     "output_type": "stream",
     "text": [
      "[[Model]]\n",
      "    Model(linear)\n",
      "[[Fit Statistics]]\n",
      "    # fitting method   = leastsq\n",
      "    # function evals   = 7\n",
      "    # data points      = 5\n",
      "    # variables        = 2\n",
      "    chi-square         = 1.62690318\n",
      "    reduced chi-square = 0.54230106\n",
      "    Akaike info crit   = -1.61379796\n",
      "    Bayesian info crit = -2.39492213\n",
      "[[Variables]]\n",
      "    m:   143015.744 +/- 10592.4844 (7.41%) (init = 80000)\n",
      "    y0: -405.548597 +/- 31.3671034 (7.73%) (init = -2)\n",
      "[[Correlations]] (unreported correlations are < 0.100)\n",
      "    C(m, y0) = -1.000\n"
     ]
    },
    {
     "name": "stderr",
     "output_type": "stream",
     "text": [
      "C:\\Users\\crazy\\anaconda3\\envs\\TestEnv\\lib\\site-packages\\pandas\\core\\arraylike.py:358: RuntimeWarning: divide by zero encountered in log\n",
      "  result = getattr(ufunc, method)(*inputs, **kwargs)\n"
     ]
    },
    {
     "data": {
      "application/vnd.jupyter.widget-view+json": {
       "model_id": "98a34a8f807848988a612af95b03366e",
       "version_major": 2,
       "version_minor": 0
      },
      "text/plain": [
       "Canvas(toolbar=Toolbar(toolitems=[('Home', 'Reset original view', 'home', 'home'), ('Back', 'Back to previous …"
      ]
     },
     "metadata": {},
     "output_type": "display_data"
    }
   ],
   "source": [
    "c_total = 40 * (10**-9) # # total strand concentration in molar\n",
    "\n",
    "# get K and ln K\n",
    "fit_method = pd.DataFrame(data_treated[\"log_fit\"].to_numpy(), index=[20,30,40,45,50,56,56,58,60,62,64,67,70,75,80, 90], columns=[\"theta\"])\n",
    "fit_method['theta'] = fit_method['theta'].astype(float)\n",
    "\n",
    "# here equation depending on reaction type, choosen: Bimolecular, complementary strand types\n",
    "fit_method[\"K\"] = (fit_method[\"theta\"])/(c_total*((1 - fit_method[\"theta\"])**2))\n",
    "fit_method['ln K'] = np.log(fit_method['K'])\n",
    "\n",
    "# select values in confidence values 0.1 < theta < 0.9\n",
    "fit_method  = fit_method.loc[60:70]\n",
    "# change celsius to kelvin\n",
    "fit_method = fit_method.set_index(1/(fit_method.index + 273.15))\n",
    "\n",
    "# make linear fit and plot\n",
    "enthalpy_fit, params_fit = ana.lm_fit(fit_method.T, wave=\"ln K\", f_type='linear', guess=[80000, -2])\n",
    "error = {\"fit\" : enthalpy_fit[\"error\"].to_numpy()}\n",
    "plot.mult_func([\"ln K\", \"fit\"], [enthalpy_fit.T], error=error, x_label=\"1/T [1/Kelvin]\", y_label=\"ln K\")"
   ]
  },
  {
   "cell_type": "markdown",
   "id": "ambient-gender",
   "metadata": {},
   "source": [
    "**Calculate Entropy and Enthalpy**"
   ]
  },
  {
   "cell_type": "code",
   "execution_count": 13,
   "id": "restricted-courage",
   "metadata": {},
   "outputs": [
    {
     "name": "stdout",
     "output_type": "stream",
     "text": [
      "                      base        norm          fit\n",
      "units                                              \n",
      "H [kJ/mol]     -686.554867 -686.554867 -1189.104403\n",
      "H [kcal/mol]   -164.090527 -164.090527  -284.202730\n",
      "S [kJ/mol*K]     -1.887004   -1.887004    -3.371934\n",
      "S [kcal/mol*K]   -0.451005   -0.451005    -0.805911\n"
     ]
    }
   ],
   "source": [
    "enthalpy = pd.DataFrame([\"H [kJ/mol]\", \"H [kcal/mol]\", \"S [kJ/mol*K]\", \"S [kcal/mol*K]\"], columns=[\"units\"])\n",
    "enthalpy = enthalpy.set_index(\"units\")\n",
    "\n",
    "# for base method\n",
    "m, y0 = params_base.values()\n",
    "delta_H = -m * 8.3145\n",
    "delta_S = y0 * 8.3145\n",
    "enthalpy[\"base\"] = [delta_H*10**(-3), delta_H*0.2390057*10**(-3), delta_S*10**(-3), delta_S*0.2390057*10**(-3)]\n",
    "\n",
    "# for normed method\n",
    "m, y0 = params_norm.values()\n",
    "delta_H = -m * 8.3145\n",
    "delta_S = y0 * 8.3145\n",
    "enthalpy[\"norm\"] = [delta_H*10**(-3), delta_H*0.2390057*10**(-3), delta_S*10**(-3), delta_S*0.2390057*10**(-3)]\n",
    "\n",
    "# for fit method\n",
    "m, y0 = params_fit.values()\n",
    "delta_H = -m * 8.3145\n",
    "delta_S = y0 * 8.3145\n",
    "enthalpy[\"fit\"] = [delta_H*10**(-3), delta_H*0.2390057*10**(-3), delta_S*10**(-3), delta_S*0.2390057*10**(-3)]\n",
    "\n",
    "print(enthalpy)"
   ]
  },
  {
   "cell_type": "markdown",
   "id": "knowing-tribe",
   "metadata": {},
   "source": [
    "## Derivative\n"
   ]
  },
  {
   "cell_type": "code",
   "execution_count": 14,
   "id": "sunset-woman",
   "metadata": {},
   "outputs": [],
   "source": [
    "deriv = ana.derivative(data_all[\"Control_0M\"].absorb_df)\n",
    "data = data_all[\"Control_0M\"].absorb_df"
   ]
  },
  {
   "cell_type": "code",
   "execution_count": 15,
   "id": "sitting-beach",
   "metadata": {},
   "outputs": [
    {
     "data": {
      "application/vnd.jupyter.widget-view+json": {
       "model_id": "30b02ee004904cea8882667307fdf477",
       "version_major": 2,
       "version_minor": 0
      },
      "text/plain": [
       "Canvas(toolbar=Toolbar(toolitems=[('Home', 'Reset original view', 'home', 'home'), ('Back', 'Back to previous …"
      ]
     },
     "metadata": {},
     "output_type": "display_data"
    }
   ],
   "source": [
    "plot.mult_func([260], [data], [deriv], title= \"Hypochromatic shift\", subtitle=[\"Absolute value\", \"interpolated derivative\"], label=[\"\"], y_label=\"Absorbance\")"
   ]
  },
  {
   "cell_type": "markdown",
   "id": "suited-contribution",
   "metadata": {},
   "source": [
    "# Test"
   ]
  },
  {
   "cell_type": "code",
   "execution_count": 8,
   "id": "taken-agreement",
   "metadata": {},
   "outputs": [],
   "source": [
    "df = data_all[\"Control_0M\"].cd_df\n",
    "mean = df.mean(axis=1)\n",
    "var =  df.var(axis=1)\n",
    "dyn = df.subtract(mean, axis=0)\n",
    "\n",
    "col = dyn.columns \n",
    "idx = dyn.index\n",
    "m = len(col)\n",
    "n =len(idx)"
   ]
  },
  {
   "cell_type": "code",
   "execution_count": 53,
   "id": "defensive-audience",
   "metadata": {},
   "outputs": [
    {
     "name": "stdout",
     "output_type": "stream",
     "text": [
      "-0.32785233454543217\n"
     ]
    }
   ],
   "source": [
    "wave1 =  247\n",
    "wave2 = 260\n",
    "i = 20\n",
    "\n",
    "print(np.sum((dyn.loc[wave1, :]/mean[wave1] - dyn.loc[wave2, :]/mean[wave2]) * col) * np.sqrt(var.loc[wave1]*var.loc[wave2])/(m*(m-1)) )\n"
   ]
  },
  {
   "cell_type": "code",
   "execution_count": 9,
   "id": "prompt-level",
   "metadata": {},
   "outputs": [
    {
     "name": "stdout",
     "output_type": "stream",
     "text": [
      "wavelength        200        201       202       203       204       205  \\\n",
      "wavelength                                                                 \n",
      "200          0.000000  -1.631021 -1.559954 -1.176642 -0.857789 -1.347762   \n",
      "201          1.631021   0.000000 -0.216200 -0.197855 -0.205062 -0.614957   \n",
      "202          1.559954   0.216200  0.000000 -0.033265 -0.082423 -0.409509   \n",
      "203          1.176642   0.197855  0.033265  0.000000 -0.043878 -0.280145   \n",
      "204          0.857789   0.205062  0.082423  0.043878  0.000000 -0.153970   \n",
      "205          1.347762   0.614957  0.409509  0.280145  0.153970  0.000000   \n",
      "206         -1.171317  -0.996270 -0.797596 -0.576634 -0.376694 -0.381617   \n",
      "207         -0.233238  -0.435472 -0.385581 -0.285863 -0.199700 -0.271904   \n",
      "208          0.158703  -0.188669 -0.201486 -0.155361 -0.119178 -0.215740   \n",
      "209          0.319298  -0.127932 -0.164682 -0.131025 -0.107426 -0.226102   \n",
      "210          0.218335  -0.221386 -0.240681 -0.186197 -0.143882 -0.265258   \n",
      "211         -0.297215  -0.589247 -0.524175 -0.389037 -0.272530 -0.374851   \n",
      "212         -0.728778  -0.847434 -0.713906 -0.522944 -0.354057 -0.425483   \n",
      "213         -2.036991  -1.705624 -1.361293 -0.983359 -0.640921 -0.641386   \n",
      "214         -4.381890  -3.162655 -2.444009 -1.750028 -1.112389 -0.961258   \n",
      "215         19.984034  12.398314  9.209107  6.520105  4.008021  2.710359   \n",
      "216          4.439009   2.528540  1.829953  1.285640  0.771714  0.415734   \n",
      "217          2.743116   1.492444  1.063801  0.743910  0.440027  0.198992   \n",
      "218          1.739307   0.903708  0.633778  0.440957  0.256603  0.090976   \n",
      "219          1.155336   0.578170  0.399833  0.276949  0.158816  0.042154   \n",
      "220          0.862410   0.421276  0.288604  0.199298  0.113131  0.022952   \n",
      "221          0.604207   0.286717  0.194133  0.133547  0.074826  0.009114   \n",
      "222          0.442535   0.202984  0.135479  0.092752  0.051115  0.000879   \n",
      "223          0.411016   0.179891  0.117571  0.079917  0.042933 -0.006319   \n",
      "224          0.411806   0.173189  0.111056  0.074986  0.039309 -0.012155   \n",
      "225          0.388482   0.154897  0.096653  0.064619  0.032621 -0.018476   \n",
      "226          0.364630   0.140514  0.086058  0.057136  0.028056 -0.021368   \n",
      "227          0.329360   0.125104  0.075994  0.050298  0.024385 -0.020804   \n",
      "228          0.249728   0.088317  0.051366  0.033419  0.015051 -0.021178   \n",
      "229          0.245089   0.095534  0.058883  0.039188  0.019429 -0.013466   \n",
      "230          0.183869   0.043368  0.017106  0.008982 -0.000309 -0.033489   \n",
      "231          0.256507   0.065352  0.028503  0.016030  0.002120 -0.042711   \n",
      "232          0.317808   0.076700  0.031231  0.016780  0.000381 -0.056447   \n",
      "233          0.410507   0.093506  0.035017  0.017659 -0.002434 -0.077509   \n",
      "234          0.513347   0.131889  0.058095  0.032874  0.004822 -0.084568   \n",
      "235          0.592671   0.145198  0.060309  0.032852  0.001848 -0.103478   \n",
      "236          0.719422   0.189019  0.085420  0.049090  0.008959 -0.115057   \n",
      "237          0.835617   0.225383  0.104797  0.061228  0.013475 -0.128819   \n",
      "238          0.928477   0.241674  0.108069  0.061716  0.010367 -0.150369   \n",
      "239          1.017535   0.259843  0.113641  0.064019  0.008726 -0.168933   \n",
      "240          1.081184   0.261557  0.106845  0.057535  0.001625 -0.191515   \n",
      "241          1.148194   0.272160  0.108102  0.057055 -0.001224 -0.208019   \n",
      "242          1.186210   0.259599  0.091049  0.043382 -0.012609 -0.232732   \n",
      "243          1.224637   0.247386  0.074275  0.029910 -0.023864 -0.257313   \n",
      "244          1.285559   0.262498  0.080653  0.033422 -0.023575 -0.267794   \n",
      "245          1.340344   0.277895  0.088118  0.037884 -0.022365 -0.275727   \n",
      "246          1.404933   0.312028  0.112201  0.054672 -0.012535 -0.271875   \n",
      "247          1.378540   0.281618  0.086615  0.035936 -0.025210 -0.287053   \n",
      "248          1.342156   0.259865  0.070632  0.024656 -0.032076 -0.291310   \n",
      "249          1.259890   0.233428  0.056252  0.015564 -0.035636 -0.282138   \n",
      "250          1.223132   0.253544  0.080365  0.034535 -0.020435 -0.251656   \n",
      "251          1.138341   0.253742  0.091793  0.044964 -0.009671 -0.219523   \n",
      "252          1.035830   0.247873  0.099768  0.053165  0.000131 -0.185722   \n",
      "253          0.905825   0.234499  0.104210  0.059287  0.009442 -0.147757   \n",
      "254          0.766629   0.213934  0.102992  0.061337  0.016127 -0.112268   \n",
      "255          0.629619   0.193047  0.101177  0.062890  0.022368 -0.077870   \n",
      "256          0.511252   0.160166  0.085418  0.053527  0.019957 -0.060412   \n",
      "257          0.417065   0.125627  0.064869  0.040036  0.013634 -0.053440   \n",
      "258          0.383492   0.106049  0.050595  0.029985  0.007559 -0.056959   \n",
      "259          0.055122  -0.120759 -0.122803 -0.093804 -0.070440 -0.120569   \n",
      "260          1.283242   0.650049  0.451624  0.313287  0.180537  0.053324   \n",
      "261          1.145109   0.547166  0.371535  0.255823  0.143796  0.020390   \n",
      "262          1.110480   0.521583  0.351656  0.241567  0.134695  0.012306   \n",
      "263          1.144702   0.536140  0.361044  0.247918  0.138049  0.011433   \n",
      "264          1.149224   0.535178  0.359524  0.246676  0.136974  0.008933   \n",
      "265          1.158287   0.542660  0.365478  0.250974  0.139769  0.011698   \n",
      "266          1.148804   0.538094  0.362368  0.248830  0.138560  0.011501   \n",
      "267          1.131473   0.529894  0.356823  0.245017  0.136427  0.011259   \n",
      "268          1.121262   0.524579  0.353093  0.242421  0.134915  0.010717   \n",
      "269          1.097673   0.511260  0.343481  0.235674  0.130876  0.008605   \n",
      "270          1.091495   0.505206  0.338510  0.232056  0.128469  0.005932   \n",
      "271          1.093728   0.503342  0.336431  0.230440  0.127208  0.003549   \n",
      "272          1.067645   0.488958  0.326131  0.223227  0.122922  0.001498   \n",
      "273          1.024739   0.468797  0.312536  0.213888  0.117714  0.001015   \n",
      "274          0.972332   0.444181  0.295939  0.202487  0.111357  0.000434   \n",
      "275          0.946738   0.430810  0.286544  0.195946  0.107543 -0.000965   \n",
      "276          0.925273   0.417680  0.276831  0.189078  0.103336 -0.003722   \n",
      "277          0.922156   0.412529  0.272318  0.185740  0.101019 -0.006803   \n",
      "278          0.933132   0.412512  0.270846  0.184396  0.099629 -0.010956   \n",
      "279          0.927243   0.405906  0.265309  0.180345  0.096896 -0.014193   \n",
      "280          0.922816   0.400002  0.260249  0.176623  0.094347 -0.017403   \n",
      "281          0.925645   0.395116  0.255201  0.172755  0.091422 -0.022507   \n",
      "282          0.913448   0.383390  0.245603  0.165775  0.086789 -0.027598   \n",
      "283          0.891216   0.368916  0.234706  0.158030  0.081971 -0.031176   \n",
      "284          0.836793   0.343629  0.217735  0.146389  0.075515 -0.031552   \n",
      "285          0.771206   0.315572  0.199595  0.134105  0.069005 -0.030007   \n",
      "286          0.692396   0.283046  0.178933  0.120201  0.061808 -0.027170   \n",
      "287          0.614862   0.251316  0.158863  0.106716  0.054868 -0.024156   \n",
      "288          0.533832   0.220900  0.140513  0.094603  0.049059 -0.018739   \n",
      "289          0.469614   0.196803  0.125978  0.085009  0.044460 -0.014438   \n",
      "290          0.396739   0.167659  0.107764  0.072824  0.038295 -0.011044   \n",
      "291          0.321558   0.138387  0.089733  0.060827  0.032353 -0.006886   \n",
      "292          0.261510   0.113342  0.073739  0.050043  0.026730 -0.004941   \n",
      "293          0.201634   0.087840  0.057285  0.038909  0.020846 -0.003439   \n",
      "294          0.164167   0.070998  0.046143  0.031304  0.016699 -0.003230   \n",
      "295          0.144598   0.061422  0.039579  0.026770  0.014124 -0.003764   \n",
      "296          0.130043   0.054634  0.035016  0.023639  0.012384 -0.003885   \n",
      "297          0.116161   0.046948  0.029505  0.019778  0.010087 -0.005002   \n",
      "298          0.102643   0.037929  0.022671  0.014911  0.007043 -0.007358   \n",
      "299          0.084349   0.026974  0.014618  0.009227  0.003581 -0.009513   \n",
      "300          0.071287   0.021062  0.010695  0.006547  0.002114 -0.009474   \n",
      "301          0.057140   0.010786  0.002742  0.000850 -0.001511 -0.012631   \n",
      "302          0.042885   0.001086 -0.004646 -0.004419 -0.004821 -0.015272   \n",
      "303          0.033445  -0.003754 -0.008023 -0.006765 -0.006179 -0.015712   \n",
      "304          0.010265  -0.015305 -0.015999 -0.012287 -0.009340 -0.016517   \n",
      "305          0.012581  -0.014639 -0.015669 -0.012087 -0.009281 -0.016841   \n",
      "306         -0.190231  -0.145291 -0.113744 -0.081738 -0.052494 -0.048334   \n",
      "307         -0.077150  -0.074649 -0.061170 -0.044494 -0.029560 -0.032596   \n",
      "308         -0.039427  -0.050080 -0.042671 -0.031345 -0.021381 -0.026517   \n",
      "309         -0.000519  -0.022778 -0.021717 -0.016370 -0.011914 -0.018627   \n",
      "310         -0.013562  -0.027911 -0.024898 -0.018491 -0.012974 -0.017951   \n",
      "311         -0.031203  -0.037650 -0.031874 -0.023376 -0.015878 -0.019347   \n",
      "312         -0.045409  -0.047607 -0.039513 -0.028836 -0.019328 -0.022218   \n",
      "313         -0.056356  -0.053359 -0.043564 -0.031658 -0.020977 -0.022844   \n",
      "314         -0.280828  -0.200683 -0.154714 -0.110709 -0.070236 -0.059948   \n",
      "315         -1.897834  -1.231489 -0.926263 -0.658192 -0.409059 -0.302061   \n",
      "316         -2.810738  -1.812747 -1.361184 -0.966778 -0.599979 -0.438172   \n",
      "317         -0.183531  -0.133965 -0.103800 -0.074380 -0.047380 -0.041501   \n",
      "318         -0.018932  -0.030133 -0.026310 -0.019442 -0.013467 -0.017761   \n",
      "319         -0.000667  -0.020613 -0.019627 -0.014790 -0.010757 -0.016782   \n",
      "320         -0.012055  -0.029506 -0.026622 -0.019824 -0.014002 -0.019836   \n",
      "321         -0.014016  -0.029382 -0.026244 -0.019496 -0.013690 -0.018995   \n",
      "322         -0.061572  -0.060211 -0.049426 -0.035968 -0.023925 -0.026540   \n",
      "323         -0.115563  -0.091619 -0.072308 -0.052076 -0.033655 -0.032136   \n",
      "324         -0.237638  -0.168042 -0.129220 -0.092401 -0.058500 -0.049260   \n",
      "325          0.309128   0.183527  0.134554  0.094900  0.057655  0.035101   \n",
      "326          0.653217   0.401297  0.297224  0.210261  0.128924  0.085316   \n",
      "327         -0.501899  -0.335882 -0.254718 -0.181426 -0.113546 -0.088314   \n",
      "328         -0.265606  -0.186028 -0.142715 -0.101983 -0.064443 -0.053577   \n",
      "329         -0.152340  -0.112987 -0.087871 -0.063030 -0.040269 -0.035927   \n",
      "330         -0.139407  -0.105208 -0.082145 -0.058988 -0.037804 -0.034375   \n",
      "\n",
      "wavelength       206       207       208       209  ...       321       322  \\\n",
      "wavelength                                          ...                       \n",
      "200         1.171317  0.233238 -0.158703 -0.319298  ...  0.014016  0.061572   \n",
      "201         0.996270  0.435472  0.188669  0.127932  ...  0.029382  0.060211   \n",
      "202         0.797596  0.385581  0.201486  0.164682  ...  0.026244  0.049426   \n",
      "203         0.576634  0.285863  0.155361  0.131025  ...  0.019496  0.035968   \n",
      "204         0.376694  0.199700  0.119178  0.107426  ...  0.013690  0.023925   \n",
      "205         0.381617  0.271904  0.215740  0.226102  ...  0.018995  0.026540   \n",
      "206         0.000000 -0.170267 -0.232433 -0.286910  ... -0.012539 -0.005631   \n",
      "207         0.170267  0.000000 -0.069353 -0.103545  ... -0.000459  0.007829   \n",
      "208         0.232433  0.069353  0.000000 -0.024487  ...  0.004480  0.012981   \n",
      "209         0.286910  0.103545  0.024487  0.000000  ...  0.006851  0.016617   \n",
      "210         0.292353  0.089952  0.003715 -0.026214  ...  0.005836  0.016418   \n",
      "211         0.241621  0.004908 -0.091716 -0.138667  ... -0.000291  0.011272   \n",
      "212         0.163427 -0.073395 -0.166759 -0.223062  ... -0.005846  0.005087   \n",
      "213        -0.019353 -0.299958 -0.401592 -0.493678  ... -0.022038 -0.010810   \n",
      "214        -0.405312 -0.717674 -0.814613 -0.962841  ... -0.051759 -0.042372   \n",
      "215         3.302920  3.562639  3.518056  3.994648  ...  0.253457  0.269696   \n",
      "216         0.895591  0.823603  0.759519  0.843183  ...  0.058237  0.068418   \n",
      "217         0.603768  0.518974  0.462531  0.507331  ...  0.036590  0.044925   \n",
      "218         0.413416  0.335153  0.289129  0.313341  ...  0.023567  0.030093   \n",
      "219         0.290496  0.225788  0.189902  0.203807  ...  0.015844  0.020825   \n",
      "220         0.224243  0.170015  0.140751  0.150116  ...  0.011916  0.015934   \n",
      "221         0.163160  0.120319  0.097790  0.103521  ...  0.008421  0.011481   \n",
      "222         0.124539  0.089127  0.070941  0.074448  ...  0.006228  0.008674   \n",
      "223         0.121870  0.084014  0.065048  0.067455  ...  0.005858  0.008382   \n",
      "224         0.127166  0.085183  0.064488  0.066205  ...  0.005930  0.008664   \n",
      "225         0.126055  0.081572  0.060010  0.060795  ...  0.005667  0.008494   \n",
      "226         0.121815  0.077260  0.055851  0.056108  ...  0.005361  0.008156   \n",
      "227         0.111338  0.070047  0.050272  0.050325  ...  0.004858  0.007436   \n",
      "228         0.089115  0.054046  0.037481  0.036877  ...  0.003740  0.005885   \n",
      "229         0.081099  0.051776  0.037647  0.037926  ...  0.003594  0.005441   \n",
      "230         0.081167  0.042890  0.025489  0.022912  ...  0.002940  0.005151   \n",
      "231         0.109749  0.059140  0.036031  0.032913  ...  0.004059  0.007002   \n",
      "232         0.139044  0.073885  0.044226  0.039943  ...  0.005066  0.008837   \n",
      "233         0.183597  0.096231  0.056584  0.050504  ...  0.006591  0.011624   \n",
      "234         0.218850  0.118200  0.072215  0.066085  ...  0.008114  0.013972   \n",
      "235         0.257745  0.137476  0.082686  0.074912  ...  0.009429  0.016398   \n",
      "236         0.303697  0.165051  0.101612  0.093433  ...  0.011336  0.019423   \n",
      "237         0.348558  0.190875  0.118591  0.109665  ...  0.013116  0.022340   \n",
      "238         0.393580  0.213338  0.130918  0.120138  ...  0.014649  0.025153   \n",
      "239         0.434931  0.234518  0.142987  0.130680  ...  0.016097  0.027754   \n",
      "240         0.472578  0.251266  0.150517  0.136009  ...  0.017229  0.030039   \n",
      "241         0.505895  0.267642  0.159300  0.143340  ...  0.018345  0.032113   \n",
      "242         0.538137  0.279588  0.162475  0.143863  ...  0.019138  0.033991   \n",
      "243         0.570380  0.291594  0.165732  0.144486  ...  0.019935  0.035870   \n",
      "244         0.596739  0.305699  0.174250  0.152223  ...  0.020903  0.037549   \n",
      "245         0.619146  0.318124  0.182085  0.159535  ...  0.021757  0.038990   \n",
      "246         0.634087  0.330488  0.192878  0.171283  ...  0.022628  0.040086   \n",
      "247         0.639804  0.327790  0.186866  0.163259  ...  0.022413  0.040259   \n",
      "248         0.633202  0.321186  0.180540  0.156147  ...  0.021945  0.039737   \n",
      "249         0.601937  0.303002  0.168452  0.144519  ...  0.020690  0.037698   \n",
      "250         0.565038  0.290311  0.166157  0.145574  ...  0.019855  0.035582   \n",
      "251         0.513103  0.267644  0.156368  0.138962  ...  0.018326  0.032444   \n",
      "252         0.454702  0.241114  0.143939  0.129772  ...  0.016530  0.028882   \n",
      "253         0.384896  0.208316  0.127599  0.116957  ...  0.014303  0.024587   \n",
      "254         0.314640  0.174092  0.109497  0.102013  ...  0.011972  0.020225   \n",
      "255         0.245951  0.140498  0.091616  0.087177  ...  0.009683  0.015956   \n",
      "256         0.197263  0.113597  0.074724  0.071456  ...  0.007834  0.012827   \n",
      "257         0.164535  0.093389  0.060468  0.057307  ...  0.006434  0.010654   \n",
      "258         0.158087  0.087225  0.054680  0.050841  ...  0.005997  0.010154   \n",
      "259         0.120392  0.031986 -0.005374 -0.019317  ...  0.002031  0.006594   \n",
      "260         0.317005  0.249660  0.211691  0.227911  ...  0.017531  0.022833   \n",
      "261         0.306515  0.227491  0.185702  0.196935  ...  0.015926  0.021617   \n",
      "262         0.303735  0.221904  0.179207  0.189210  ...  0.015522  0.021305   \n",
      "263         0.314184  0.228960  0.184582  0.194745  ...  0.016014  0.022019   \n",
      "264         0.317638  0.230305  0.185012  0.194911  ...  0.016104  0.022222   \n",
      "265         0.317801  0.231655  0.186788  0.197087  ...  0.016203  0.022274   \n",
      "266         0.315287  0.229775  0.185247  0.195449  ...  0.016071  0.022096   \n",
      "267         0.310590  0.226321  0.182444  0.192484  ...  0.015829  0.021766   \n",
      "268         0.308169  0.224354  0.180746  0.190643  ...  0.015691  0.021590   \n",
      "269         0.303326  0.219961  0.176721  0.186185  ...  0.015380  0.021222   \n",
      "270         0.303900  0.219177  0.175417  0.184515  ...  0.015321  0.021222   \n",
      "271         0.306603  0.220040  0.175494  0.184326  ...  0.015377  0.021375   \n",
      "272         0.301001  0.215133  0.171077  0.179464  ...  0.015031  0.020955   \n",
      "273         0.289271  0.206560  0.164153  0.172152  ...  0.014432  0.020132   \n",
      "274         0.274937  0.196088  0.155695  0.163222  ...  0.013699  0.019127   \n",
      "275         0.268906  0.191167  0.151434  0.158597  ...  0.013353  0.018687   \n",
      "276         0.265224  0.187313  0.147673  0.154343  ...  0.013079  0.018390   \n",
      "277         0.267019  0.187218  0.146811  0.153090  ...  0.013067  0.018469   \n",
      "278         0.273736  0.190151  0.148079  0.153947  ...  0.013265  0.018875   \n",
      "279         0.274883  0.189523  0.146755  0.152192  ...  0.013216  0.018907   \n",
      "280         0.276419  0.189185  0.145669  0.150689  ...  0.013187  0.018967   \n",
      "281         0.281655  0.190639  0.145520  0.149955  ...  0.013280  0.019256   \n",
      "282         0.282626  0.189060  0.142969  0.146703  ...  0.013161  0.019248   \n",
      "283         0.279441  0.185194  0.138989  0.142125  ...  0.012884  0.018974   \n",
      "284         0.264358  0.174279  0.130233  0.132906  ...  0.012121  0.017919   \n",
      "285         0.244445  0.160780  0.119916  0.122269  ...  0.011181  0.016557   \n",
      "286         0.219664  0.144390  0.107635  0.109720  ...  0.010041  0.014876   \n",
      "287         0.195091  0.128226  0.095578  0.097427  ...  0.008917  0.013211   \n",
      "288         0.167439  0.110941  0.083246  0.085117  ...  0.007718  0.011368   \n",
      "289         0.145518  0.097241  0.073472  0.075362  ...  0.006769  0.009907   \n",
      "290         0.121934  0.081951  0.062207  0.063941  ...  0.005706  0.008317   \n",
      "291         0.097033  0.066064  0.050662  0.052313  ...  0.004603  0.006647   \n",
      "292         0.078341  0.053614  0.041279  0.042700  ...  0.003737  0.005375   \n",
      "293         0.060081  0.041274  0.031871  0.033012  ...  0.002877  0.004128   \n",
      "294         0.049291  0.033679  0.025898  0.026776  ...  0.002347  0.003380   \n",
      "295         0.044214  0.029823  0.022703  0.023366  ...  0.002077  0.003019   \n",
      "296         0.040198  0.026908  0.020359  0.020896  ...  0.001873  0.002738   \n",
      "297         0.037238  0.024301  0.018005  0.018302  ...  0.001689  0.002516   \n",
      "298         0.035458  0.021981  0.015564  0.015476  ...  0.001523  0.002357   \n",
      "299         0.032151  0.018663  0.012382  0.011897  ...  0.001288  0.002096   \n",
      "300         0.028418  0.016021  0.010296  0.009715  ...  0.001103  0.001837   \n",
      "301         0.027156  0.013714  0.007659  0.006593  ...  0.000937  0.001702   \n",
      "302         0.025416  0.011295  0.005066  0.003576  ...  0.000763  0.001542   \n",
      "303         0.023125  0.009466  0.003504  0.001889  ...  0.000635  0.001376   \n",
      "304         0.017261  0.004929 -0.000302 -0.002191  ...  0.000316  0.000957   \n",
      "305         0.018198  0.005453  0.000031 -0.001879  ...  0.000352  0.001017   \n",
      "306        -0.011857 -0.030014 -0.036142 -0.043364  ... -0.002178 -0.001538   \n",
      "307         0.006484 -0.009924 -0.016188 -0.020665  ... -0.000748 -0.000030   \n",
      "308         0.011881 -0.003365 -0.009434 -0.012896  ... -0.000280  0.000435   \n",
      "309         0.016041  0.003119 -0.002276 -0.004500  ...  0.000186  0.000841   \n",
      "310         0.011761  0.000370 -0.004285 -0.006528  ... -0.000004  0.000553   \n",
      "311         0.007979 -0.002947 -0.007273 -0.009818  ... -0.000239  0.000269   \n",
      "312         0.006452 -0.005316 -0.009885 -0.012882  ... -0.000409  0.000121   \n",
      "313         0.003897 -0.007416 -0.011711 -0.014866  ... -0.000557 -0.000066   \n",
      "314        -0.027417 -0.046281 -0.052012 -0.061314  ... -0.003334 -0.002791   \n",
      "315        -0.274853 -0.330605 -0.339360 -0.389943  ... -0.023606 -0.023572   \n",
      "316        -0.415048 -0.491225 -0.501519 -0.575339  ... -0.035056 -0.035330   \n",
      "317        -0.015899 -0.029844 -0.034265 -0.040621  ... -0.002155 -0.001718   \n",
      "318         0.010076 -0.000746 -0.005122 -0.007384  ... -0.000082  0.000439   \n",
      "319         0.014396  0.002770 -0.002083 -0.004088  ...  0.000165  0.000754   \n",
      "320         0.013826  0.001001 -0.004266 -0.006722  ...  0.000036  0.000669   \n",
      "321         0.012539  0.000459 -0.004480 -0.006851  ...  0.000000  0.000592   \n",
      "322         0.005631 -0.007829 -0.012981 -0.016617  ... -0.000592  0.000000   \n",
      "323        -0.004793 -0.017753 -0.022283 -0.027000  ... -0.001294 -0.000808   \n",
      "324        -0.024476 -0.039418 -0.043840 -0.051537  ... -0.002837 -0.002429   \n",
      "325         0.057024  0.056291  0.053616  0.060175  ...  0.003992  0.004484   \n",
      "326         0.110810  0.117019  0.114609  0.129796  ...  0.008319  0.008965   \n",
      "327        -0.065359 -0.085972 -0.090740 -0.105122  ... -0.006155 -0.005849   \n",
      "328        -0.028643 -0.044313 -0.048825 -0.057251  ... -0.003186 -0.002783   \n",
      "329        -0.011912 -0.024517 -0.028616 -0.034068  ... -0.001773 -0.001359   \n",
      "330        -0.009598 -0.022176 -0.026363 -0.031531  ... -0.001607 -0.001175   \n",
      "\n",
      "wavelength       323       324       325       326       327       328  \\\n",
      "wavelength                                                               \n",
      "200         0.115563  0.237638 -0.309128 -0.653217  0.501899  0.265606   \n",
      "201         0.091619  0.168042 -0.183527 -0.401297  0.335882  0.186028   \n",
      "202         0.072308  0.129220 -0.134554 -0.297224  0.254718  0.142715   \n",
      "203         0.052076  0.092401 -0.094900 -0.210261  0.181426  0.101983   \n",
      "204         0.033655  0.058500 -0.057655 -0.128924  0.113546  0.064443   \n",
      "205         0.032136  0.049260 -0.035101 -0.085316  0.088314  0.053577   \n",
      "206         0.004793  0.024476 -0.057024 -0.110810  0.065359  0.028643   \n",
      "207         0.017753  0.039418 -0.056291 -0.117019  0.085972  0.044313   \n",
      "208         0.022283  0.043840 -0.053616 -0.114609  0.090740  0.048825   \n",
      "209         0.027000  0.051537 -0.060175 -0.129796  0.105122  0.057251   \n",
      "210         0.027950  0.054751 -0.066527 -0.142383  0.113087  0.060954   \n",
      "211         0.025055  0.055231 -0.078237 -0.162864  0.120117  0.062058   \n",
      "212         0.019106  0.048385 -0.078610 -0.160085  0.110693  0.054880   \n",
      "213         0.006426  0.038639 -0.094060 -0.181913  0.105371  0.045423   \n",
      "214        -0.022057  0.009335 -0.106357 -0.188507  0.070836  0.015245   \n",
      "215         0.244093  0.252510  0.101197  0.048591  0.300166  0.260283   \n",
      "216         0.070195  0.088940 -0.020255 -0.079506  0.136057  0.094533   \n",
      "217         0.048343  0.065173 -0.025800 -0.077200  0.105644  0.069830   \n",
      "218         0.033671  0.047529 -0.024432 -0.066009  0.080092  0.051213   \n",
      "219         0.023933  0.034794 -0.020421 -0.052705  0.060008  0.037620   \n",
      "220         0.018595  0.027474 -0.017196 -0.043468  0.047964  0.029760   \n",
      "221         0.013625  0.020476 -0.013646 -0.033831  0.036198  0.022223   \n",
      "222         0.010476  0.016019 -0.011324 -0.027588  0.028671  0.017419   \n",
      "223         0.010342  0.016137 -0.012154 -0.029081  0.029286  0.017584   \n",
      "224         0.010861  0.017194 -0.013513 -0.031959  0.031511  0.018766   \n",
      "225         0.010847  0.017456 -0.014355 -0.033547  0.032336  0.019084   \n",
      "226         0.010526  0.017095 -0.014398 -0.033439  0.031851  0.018706   \n",
      "227         0.009637  0.015706 -0.013350 -0.030932  0.029329  0.017193   \n",
      "228         0.007770  0.012861 -0.011361 -0.026073  0.024250  0.014101   \n",
      "229         0.006998  0.011332 -0.009472 -0.022041  0.021074  0.012397   \n",
      "230         0.007256  0.012625 -0.012470 -0.027870  0.024519  0.013909   \n",
      "231         0.009778  0.016906 -0.016477 -0.036938  0.032713  0.018614   \n",
      "232         0.012418  0.021568 -0.021224 -0.047476  0.041845  0.023758   \n",
      "233         0.016434  0.028670 -0.028469 -0.063552  0.055763  0.031594   \n",
      "234         0.019491  0.033674 -0.032766 -0.073483  0.065130  0.037073   \n",
      "235         0.023004  0.039907 -0.039170 -0.087670  0.077371  0.043953   \n",
      "236         0.027019  0.046581 -0.045126 -0.101305  0.089988  0.051273   \n",
      "237         0.030970  0.053255 -0.051309 -0.115331  0.102727  0.058605   \n",
      "238         0.035032  0.060448 -0.058670 -0.131654  0.116837  0.066543   \n",
      "239         0.038747  0.066977 -0.065248 -0.146289  0.129586  0.073742   \n",
      "240         0.042201  0.073285 -0.072085 -0.161262  0.142165  0.080722   \n",
      "241         0.045214  0.078644 -0.077616 -0.173504  0.152703  0.086639   \n",
      "242         0.048239  0.084391 -0.084274 -0.187887  0.164397  0.093020   \n",
      "243         0.051263  0.090129 -0.090913 -0.202233  0.176068  0.099392   \n",
      "244         0.053614  0.094204 -0.094903 -0.211170  0.183964  0.103879   \n",
      "245         0.055601  0.097605 -0.098150 -0.218483  0.190508  0.107620   \n",
      "246         0.056811  0.099287 -0.098948 -0.220704  0.193305  0.109429   \n",
      "247         0.057483  0.100998 -0.101742 -0.226390  0.197228  0.111371   \n",
      "248         0.056980  0.100419 -0.101771 -0.226150  0.196429  0.110763   \n",
      "249         0.054232  0.095795 -0.097525 -0.216497  0.187623  0.105686   \n",
      "250         0.050742  0.089077 -0.089576 -0.199396  0.173863  0.098217   \n",
      "251         0.045965  0.080312 -0.079998 -0.178455  0.156341  0.088514   \n",
      "252         0.040623  0.070606 -0.069575 -0.155584  0.137037  0.077778   \n",
      "253         0.034268  0.059160 -0.057481 -0.128954  0.114380  0.065128   \n",
      "254         0.027906  0.047815 -0.045716 -0.102942  0.092043  0.052601   \n",
      "255         0.021689  0.036742 -0.034258 -0.077597  0.070255  0.040375   \n",
      "256         0.017370  0.029338 -0.027171 -0.061643  0.055998  0.032229   \n",
      "257         0.014527  0.024666 -0.023119 -0.052302  0.047230  0.027111   \n",
      "258         0.014028  0.024059 -0.023052 -0.051882  0.046340  0.026470   \n",
      "259         0.011652  0.023274 -0.029090 -0.061925  0.048511  0.025952   \n",
      "260         0.026025  0.037500 -0.021190 -0.055388  0.064229  0.040504   \n",
      "261         0.025555  0.038258 -0.025146 -0.062605  0.067442  0.041503   \n",
      "262         0.025423  0.038417 -0.026099 -0.064331  0.068183  0.041719   \n",
      "263         0.026314  0.039822 -0.027190 -0.066921  0.070751  0.043252   \n",
      "264         0.026636  0.040428 -0.027881 -0.068419  0.071978  0.043924   \n",
      "265         0.026615  0.040272 -0.027483 -0.067653  0.071543  0.043740   \n",
      "266         0.026406  0.039960 -0.027282 -0.067148  0.070995  0.043402   \n",
      "267         0.026013  0.039369 -0.026886 -0.066168  0.069949  0.042760   \n",
      "268         0.025816  0.039092 -0.026744 -0.065784  0.069482  0.042461   \n",
      "269         0.025435  0.038602 -0.026614 -0.065315  0.068723  0.041940   \n",
      "270         0.025517  0.038848 -0.027066 -0.066219  0.069313  0.042221   \n",
      "271         0.025774  0.039349 -0.027671 -0.067515  0.070347  0.042779   \n",
      "272         0.025328  0.038758 -0.027462 -0.066858  0.069402  0.042147   \n",
      "273         0.024346  0.037275 -0.026455 -0.064376  0.066770  0.040536   \n",
      "274         0.023147  0.035462 -0.025224 -0.061340  0.063552  0.038567   \n",
      "275         0.022656  0.034773 -0.024878 -0.060398  0.062396  0.037826   \n",
      "276         0.022381  0.034474 -0.024951 -0.060376  0.062016  0.037516   \n",
      "277         0.022571  0.034904 -0.025577 -0.061672  0.062959  0.037999   \n",
      "278         0.023189  0.036037 -0.026815 -0.064379  0.065225  0.039254   \n",
      "279         0.023326  0.036393 -0.027404 -0.065576  0.066045  0.039658   \n",
      "280         0.023495  0.036797 -0.028025 -0.066851  0.066950  0.040114   \n",
      "281         0.024001  0.037800 -0.029270 -0.069504  0.069036  0.041232   \n",
      "282         0.024146  0.038252 -0.030120 -0.071199  0.070133  0.041751   \n",
      "283         0.023923  0.038070 -0.030361 -0.071526  0.070008  0.041572   \n",
      "284         0.022658  0.036148 -0.029030 -0.068263  0.066582  0.039483   \n",
      "285         0.020961  0.033478 -0.026968 -0.063363  0.061709  0.036571   \n",
      "286         0.018839  0.030097 -0.024265 -0.056999  0.055488  0.032879   \n",
      "287         0.016732  0.026732 -0.021554 -0.050630  0.049285  0.029203   \n",
      "288         0.014335  0.022815 -0.018201 -0.042875  0.041959  0.024914   \n",
      "289         0.012435  0.019710 -0.015542 -0.036725  0.036149  0.021514   \n",
      "290         0.010407  0.016448 -0.012866 -0.030467  0.030110  0.017948   \n",
      "291         0.008258  0.012967 -0.009954 -0.023693  0.023635  0.014140   \n",
      "292         0.006659  0.010429 -0.007944 -0.018949  0.018976  0.011370   \n",
      "293         0.005103  0.007976 -0.006040 -0.014431  0.014493  0.008693   \n",
      "294         0.004191  0.006570 -0.005016 -0.011957  0.011960  0.007163   \n",
      "295         0.003770  0.005949 -0.004629 -0.010978  0.010877  0.006490   \n",
      "296         0.003434  0.005438 -0.004278 -0.010115  0.009968  0.005935   \n",
      "297         0.003199  0.005128 -0.004173 -0.009778  0.009475  0.005604   \n",
      "298         0.003078  0.005049 -0.004361 -0.010064  0.009466  0.005530   \n",
      "299         0.002827  0.004760 -0.004379 -0.009950  0.009070  0.005228   \n",
      "300         0.002512  0.004276 -0.004030 -0.009104  0.008199  0.004701   \n",
      "301         0.002445  0.004316 -0.004385 -0.009739  0.008448  0.004761   \n",
      "302         0.002332  0.004260 -0.004620 -0.010117  0.008497  0.004714   \n",
      "303         0.002145  0.003993 -0.004475 -0.009732  0.008043  0.004426   \n",
      "304         0.001661  0.003288 -0.004056 -0.008655  0.006824  0.003663   \n",
      "305         0.001744  0.003429 -0.004190 -0.008959  0.007096  0.003819   \n",
      "306        -0.000391  0.001569 -0.006132 -0.011384  0.005534  0.001963   \n",
      "307         0.000955  0.002928 -0.005467 -0.010915  0.007083  0.003357   \n",
      "308         0.001334  0.003234 -0.005055 -0.010356  0.007291  0.003658   \n",
      "309         0.001585  0.003265 -0.004259 -0.008995  0.006903  0.003650   \n",
      "310         0.001216  0.002669 -0.003764 -0.007842  0.005796  0.002998   \n",
      "311         0.000915  0.002271 -0.003625 -0.007402  0.005160  0.002572   \n",
      "312         0.000822  0.002258 -0.003913 -0.007894  0.005298  0.002573   \n",
      "313         0.000615  0.001968 -0.003772 -0.007504  0.004814  0.002262   \n",
      "314        -0.001556  0.000306 -0.006436 -0.011278  0.003922  0.000650   \n",
      "315        -0.019351 -0.016105 -0.019855 -0.026262 -0.011873 -0.015916   \n",
      "316        -0.029447 -0.025472 -0.027299 -0.034442 -0.021005 -0.025383   \n",
      "317        -0.000818  0.000610 -0.004739 -0.008496  0.003429  0.000883   \n",
      "318         0.001072  0.002440 -0.003581 -0.007410  0.005374  0.002748   \n",
      "319         0.001423  0.002935 -0.003832 -0.008092  0.006206  0.003281   \n",
      "320         0.001413  0.003057 -0.004236 -0.008851  0.006597  0.003430   \n",
      "321         0.001294  0.002837 -0.003992 -0.008319  0.006155  0.003186   \n",
      "322         0.000808  0.002429 -0.004484 -0.008965  0.005849  0.002783   \n",
      "323         0.000000  0.001442 -0.004361 -0.008260  0.004395  0.001739   \n",
      "324        -0.001442  0.000000 -0.005109 -0.008832  0.002772  0.000261   \n",
      "325         0.004361  0.005109  0.000000 -0.002556  0.007185  0.005371   \n",
      "326         0.008260  0.008832  0.002556  0.000000  0.011032  0.009154   \n",
      "327        -0.004395 -0.002772 -0.007185 -0.011032  0.000000 -0.002548   \n",
      "328        -0.001739 -0.000261 -0.005371 -0.009154  0.002548  0.000000   \n",
      "329        -0.000552  0.000767 -0.004273 -0.007769  0.003396  0.001024   \n",
      "330        -0.000377  0.000966 -0.004254 -0.007836  0.003666  0.001233   \n",
      "\n",
      "wavelength       329       330  \n",
      "wavelength                      \n",
      "200         0.152340  0.139407  \n",
      "201         0.112987  0.105208  \n",
      "202         0.087871  0.082145  \n",
      "203         0.063030  0.058988  \n",
      "204         0.040269  0.037804  \n",
      "205         0.035927  0.034375  \n",
      "206         0.011912  0.009598  \n",
      "207         0.024517  0.022176  \n",
      "208         0.028616  0.026363  \n",
      "209         0.034068  0.031531  \n",
      "210         0.035803  0.033006  \n",
      "211         0.034448  0.031193  \n",
      "212         0.028667  0.025423  \n",
      "213         0.018198  0.014389  \n",
      "214        -0.008153 -0.012332  \n",
      "215         0.226346  0.229348  \n",
      "216         0.071337  0.070216  \n",
      "217         0.050629  0.049381  \n",
      "218         0.036080  0.034951  \n",
      "219         0.026032  0.025107  \n",
      "220         0.020394  0.019622  \n",
      "221         0.015076  0.014468  \n",
      "222         0.011697  0.011196  \n",
      "223         0.011670  0.011137  \n",
      "224         0.012351  0.011760  \n",
      "225         0.012444  0.011819  \n",
      "226         0.012135  0.011510  \n",
      "227         0.011131  0.010552  \n",
      "228         0.009051  0.008560  \n",
      "229         0.008055  0.007644  \n",
      "230         0.008687  0.008154  \n",
      "231         0.011665  0.010960  \n",
      "232         0.014852  0.013944  \n",
      "233         0.019704  0.018487  \n",
      "234         0.023243  0.021840  \n",
      "235         0.027495  0.025820  \n",
      "236         0.032182  0.030250  \n",
      "237         0.036835  0.034637  \n",
      "238         0.041746  0.039235  \n",
      "239         0.046219  0.043426  \n",
      "240         0.050468  0.047385  \n",
      "241         0.054120  0.050802  \n",
      "242         0.057926  0.054327  \n",
      "243         0.061729  0.057850  \n",
      "244         0.064538  0.060488  \n",
      "245         0.066895  0.062706  \n",
      "246         0.068181  0.063955  \n",
      "247         0.069193  0.064852  \n",
      "248         0.068705  0.064364  \n",
      "249         0.065475  0.061317  \n",
      "250         0.061050  0.057227  \n",
      "251         0.055157  0.051740  \n",
      "252         0.048604  0.045629  \n",
      "253         0.040847  0.038387  \n",
      "254         0.033126  0.031166  \n",
      "255         0.025585  0.024113  \n",
      "256         0.020457  0.019288  \n",
      "257         0.017158  0.016165  \n",
      "258         0.016661  0.015673  \n",
      "259         0.015098  0.013877  \n",
      "260         0.028179  0.027214  \n",
      "261         0.028220  0.027097  \n",
      "262         0.028210  0.027050  \n",
      "263         0.029221  0.028013  \n",
      "264         0.029625  0.028387  \n",
      "265         0.029554  0.028332  \n",
      "266         0.029323  0.028111  \n",
      "267         0.028888  0.027694  \n",
      "268         0.028677  0.027489  \n",
      "269         0.028287  0.027106  \n",
      "270         0.028425  0.027225  \n",
      "271         0.028754  0.027529  \n",
      "272         0.028290  0.027076  \n",
      "273         0.027201  0.026031  \n",
      "274         0.025870  0.024755  \n",
      "275         0.025346  0.024247  \n",
      "276         0.025085  0.023984  \n",
      "277         0.025350  0.024223  \n",
      "278         0.026112  0.024933  \n",
      "279         0.026321  0.025118  \n",
      "280         0.026566  0.025337  \n",
      "281         0.027218  0.025937  \n",
      "282         0.027469  0.026152  \n",
      "283         0.027281  0.025955  \n",
      "284         0.025872  0.024606  \n",
      "285         0.023949  0.022774  \n",
      "286         0.021528  0.020470  \n",
      "287         0.019120  0.018181  \n",
      "288         0.016348  0.015554  \n",
      "289         0.014150  0.013471  \n",
      "290         0.011824  0.011261  \n",
      "291         0.009350  0.008914  \n",
      "292         0.007529  0.007181  \n",
      "293         0.005764  0.005498  \n",
      "294         0.004741  0.004521  \n",
      "295         0.004280  0.004077  \n",
      "296         0.003906  0.003719  \n",
      "297         0.003662  0.003480  \n",
      "298         0.003568  0.003379  \n",
      "299         0.003324  0.003135  \n",
      "300         0.002971  0.002798  \n",
      "301         0.002951  0.002764  \n",
      "302         0.002869  0.002673  \n",
      "303         0.002667  0.002478  \n",
      "304         0.002141  0.001970  \n",
      "305         0.002239  0.002063  \n",
      "306         0.000392  0.000148  \n",
      "307         0.001628  0.001404  \n",
      "308         0.001946  0.001737  \n",
      "309         0.002092  0.001913  \n",
      "310         0.001668  0.001511  \n",
      "311         0.001355  0.001205  \n",
      "312         0.001301  0.001140  \n",
      "313         0.001080  0.000926  \n",
      "314        -0.000710 -0.000962  \n",
      "315        -0.016447 -0.017161  \n",
      "316        -0.025397 -0.026366  \n",
      "317        -0.000201 -0.000388  \n",
      "318         0.001503  0.001354  \n",
      "319         0.001879  0.001719  \n",
      "320         0.001921  0.001744  \n",
      "321         0.001773  0.001607  \n",
      "322         0.001359  0.001175  \n",
      "323         0.000552  0.000377  \n",
      "324        -0.000767 -0.000966  \n",
      "325         0.004273  0.004254  \n",
      "326         0.007769  0.007836  \n",
      "327        -0.003396 -0.003666  \n",
      "328        -0.001024 -0.001233  \n",
      "329         0.000000 -0.000169  \n",
      "330         0.000169  0.000000  \n",
      "\n",
      "[131 rows x 131 columns]\n"
     ]
    }
   ],
   "source": [
    "\n",
    "assync = pd.DataFrame(np.zeros((n,n)), index=idx, columns=idx)\n",
    "\n",
    "for j in idx:\n",
    "    for k in idx:\n",
    "        assync.loc[j,k] = np.sum((dyn.loc[j, :]/mean[j] - dyn.loc[k, :]/mean[k]) * col) * np.sqrt(var.loc[j]*var.loc[k])/(m*(m-1))\n",
    "print(assync)"
   ]
  },
  {
   "cell_type": "code",
   "execution_count": 11,
   "id": "terminal-furniture",
   "metadata": {},
   "outputs": [
    {
     "data": {
      "application/vnd.jupyter.widget-view+json": {
       "model_id": "20a9e174682a40308af7be12a365de6b",
       "version_major": 2,
       "version_minor": 0
      },
      "text/plain": [
       "Canvas(toolbar=Toolbar(toolitems=[('Home', 'Reset original view', 'home', 'home'), ('Back', 'Back to previous …"
      ]
     },
     "metadata": {},
     "output_type": "display_data"
    }
   ],
   "source": [
    "plot.heatmap(assync, x_min=[220], y_min=[220])"
   ]
  },
  {
   "cell_type": "markdown",
   "id": "english-header",
   "metadata": {},
   "source": [
    "# Parafak Ethanol"
   ]
  },
  {
   "cell_type": "markdown",
   "id": "mental-family",
   "metadata": {},
   "source": [
    "## *setting up the Notebook*"
   ]
  },
  {
   "cell_type": "code",
   "execution_count": 9,
   "id": "capital-right",
   "metadata": {},
   "outputs": [],
   "source": [
    "# Enabling the `widget` backend.\n",
    "# This requires jupyter-matplotlib a.k.a. ipympl.\n",
    "# ipympl can be install via pip or conda.\n",
    "%matplotlib widget\n",
    "        \n",
    "import matplotlib.pyplot as plt\n",
    "import numpy as np\n",
    "import pandas as pd\n",
    "from ipywidgets import Output\n",
    "import matplotlib\n",
    "\n",
    "from scipy import integrate\n",
    "import lmfit\n",
    "import os"
   ]
  },
  {
   "cell_type": "code",
   "execution_count": 10,
   "id": "sound-variety",
   "metadata": {},
   "outputs": [],
   "source": [
    "import analise as ana\n",
    "import cdata \n",
    "import hotznplots as plot"
   ]
  },
  {
   "cell_type": "markdown",
   "id": "signal-interval",
   "metadata": {},
   "source": [
    "<div class=\"alert alert-block alert-info\">\n",
    "<b>Info:</b> Print always whole DataFrames\n",
    "</div>"
   ]
  },
  {
   "cell_type": "code",
   "execution_count": 11,
   "id": "parallel-cabin",
   "metadata": {},
   "outputs": [],
   "source": [
    "# Default value of display.max_rows is 10 i.e. at max 10 rows will be printed.\n",
    "# Set it None to display all rows in the dataframe\n",
    "pd.set_option('display.max_rows', None)"
   ]
  },
  {
   "cell_type": "code",
   "execution_count": 12,
   "id": "acceptable-chart",
   "metadata": {},
   "outputs": [],
   "source": [
    "# change plot size\n",
    "plt.rcParams[\"figure.figsize\"] = (11,9)"
   ]
  },
  {
   "cell_type": "markdown",
   "id": "checked-orange",
   "metadata": {},
   "source": [
    "<div class=\"alert alert-block alert-info\">\n",
    "<b>Info:</b> Get the data\n",
    "</div>"
   ]
  },
  {
   "cell_type": "code",
   "execution_count": 13,
   "id": "thorough-milan",
   "metadata": {},
   "outputs": [
    {
     "name": "stdout",
     "output_type": "stream",
     "text": [
      "['Control_0%', 'Ethanol_50%', 'Ethanol_50%_nachTest', 'Ethanol_50%_real', 'Ethanol_50%_vorTest']\n"
     ]
    }
   ],
   "source": [
    "# Path for Daniel:\n",
    "#path = \"F:\\\\HZDR\\\\CD_data\"\n",
    "\n",
    "# My Path:\n",
    "path = \"C:\\\\Users\\\\crazy\\\\Mega\\\\Uni\\\\Masterarbeit\\\\Projekt\\\\Data\\\\CD_data\\\\Ethanol\"\n",
    "datalist = os.listdir(path)\n",
    "print(datalist)"
   ]
  },
  {
   "cell_type": "code",
   "execution_count": 14,
   "id": "renewable-johns",
   "metadata": {},
   "outputs": [],
   "source": [
    "# all data in one dictionary with foldernames as names\n",
    "data_all = {}\n",
    "for i in range(len(datalist)):\n",
    "    data_all[datalist[i]] = cdata.CData(os.path.join(path, datalist[i]))"
   ]
  },
  {
   "cell_type": "code",
   "execution_count": 15,
   "id": "intelligent-literacy",
   "metadata": {},
   "outputs": [
    {
     "name": "stdout",
     "output_type": "stream",
     "text": [
      "                  0%       50%      nach       vor  50% real\n",
      "wavelength                                                  \n",
      "220         2.018260  2.274510  3.126240  2.307520  2.848860\n",
      "221         2.080980  2.351290  3.314980  2.367540  2.935160\n",
      "222         2.050420  2.385820  3.392230  2.399380  2.992490\n",
      "223         1.912300  2.286210  3.399130  2.399530  2.952990\n",
      "224         1.639410  2.188990  3.234820  2.326470  2.905010\n",
      "225         1.334610  2.006050  2.974400  2.194240  2.709800\n",
      "226         0.987198  1.847160  2.640560  1.936590  2.520000\n",
      "227         0.635405  1.639230  2.248080  1.665910  2.251200\n",
      "228         0.240217  1.421670  1.923790  1.448930  1.967390\n",
      "229        -0.119267  1.181210  1.646120  1.259320  1.597030\n",
      "230        -0.512917  0.921575  1.261840  1.015550  1.176200\n",
      "231        -0.886912  0.619775  0.926121  0.713306  0.785832\n",
      "232        -1.336630  0.354009  0.370603  0.331813  0.390593\n",
      "233        -1.776360  0.074562  0.018606  0.083282  0.037718\n",
      "234        -2.209810 -0.192663 -0.393782 -0.148270 -0.352435\n",
      "235        -2.665080 -0.451375 -0.759927 -0.359579 -0.734128\n",
      "236        -3.113920 -0.700925 -1.150090 -0.590502 -1.068090\n",
      "237        -3.545400 -0.926277 -1.557160 -0.822505 -1.361690\n",
      "238        -3.988460 -1.128520 -1.788830 -0.961874 -1.630390\n",
      "239        -4.434120 -1.280230 -2.056520 -1.081510 -1.895780\n",
      "240        -4.853330 -1.425770 -2.274880 -1.177200 -2.140270\n",
      "241        -5.259260 -1.485700 -2.582890 -1.311850 -2.346580\n",
      "242        -5.605870 -1.586310 -2.813260 -1.491360 -2.507860\n",
      "243        -5.898190 -1.681480 -3.061770 -1.595370 -2.657900\n",
      "244        -6.195660 -1.740120 -3.222810 -1.683850 -2.769360\n",
      "245        -6.466130 -1.800050 -3.202200 -1.715640 -2.864460\n",
      "246        -6.672550 -1.813160 -3.273570 -1.722340 -2.917410\n",
      "247        -6.755200 -1.843030 -3.248880 -1.712000 -2.973810\n",
      "248        -6.703360 -1.841830 -3.314300 -1.730030 -3.011510\n",
      "249        -6.551950 -1.826300 -3.316510 -1.720750 -3.033700\n",
      "250        -6.243260 -1.779960 -3.289320 -1.681320 -3.017710\n",
      "251        -5.805820 -1.760880 -3.279030 -1.662400 -2.929890\n",
      "252        -5.223510 -1.699630 -3.150610 -1.606040 -2.842110\n",
      "253        -4.635670 -1.674690 -3.041830 -1.631990 -2.763100\n",
      "254        -3.958060 -1.646450 -2.938430 -1.607720 -2.665860\n",
      "255        -3.308090 -1.606250 -2.831750 -1.553200 -2.581240\n",
      "256        -2.614890 -1.548030 -2.722630 -1.400250 -2.479170\n",
      "257        -1.992060 -1.487180 -2.613010 -1.365810 -2.409860\n",
      "258        -1.359360 -1.416140 -2.497800 -1.312420 -2.311430\n",
      "259        -0.789798 -1.361200 -2.429560 -1.274770 -2.227690\n",
      "260        -0.257733 -1.325630 -2.357880 -1.167310 -2.186820\n",
      "261         0.186114 -1.300960 -2.277430 -1.150160 -2.128230\n",
      "262         0.605029 -1.257560 -2.202590 -1.119510 -2.061680\n",
      "263         0.954364 -1.243570 -2.149880 -1.127010 -2.002260\n",
      "264         1.306650 -1.230260 -2.039840 -1.080160 -1.944840\n",
      "265         1.586630 -1.215320 -1.941390 -1.075660 -1.870510\n",
      "266         1.862070 -1.176250 -1.846260 -1.063100 -1.808570\n",
      "267         2.128690 -1.168980 -1.819180 -1.053700 -1.749740\n",
      "268         2.396950 -1.160790 -1.758510 -0.975946 -1.712020\n",
      "269         2.671660 -1.135860 -1.694310 -0.915490 -1.666700\n",
      "270         2.906290 -1.110530 -1.568460 -0.873552 -1.574990\n",
      "271         3.125970 -1.046750 -1.432590 -0.863455 -1.494240\n",
      "272         3.283140 -1.003070 -1.366130 -0.883025 -1.429680\n",
      "273         3.385590 -0.941886 -1.250620 -0.857533 -1.347860\n",
      "274         3.466120 -0.908342 -1.183400 -0.844340 -1.238950\n",
      "275         3.528280 -0.847546 -1.038610 -0.785373 -1.147560\n",
      "276         3.598340 -0.799323 -0.942075 -0.719590 -1.057810\n",
      "277         3.679400 -0.767836 -0.817341 -0.649083 -0.958146\n",
      "278         3.729940 -0.727762 -0.711424 -0.553438 -0.844247\n",
      "279         3.763530 -0.653381 -0.553383 -0.520223 -0.722521\n",
      "280         3.754930 -0.599111 -0.379904 -0.415850 -0.596501\n",
      "281         3.750990 -0.510616 -0.194189 -0.354973 -0.459833\n",
      "282         3.699530 -0.442963  0.001564 -0.254495 -0.298113\n",
      "283         3.599560 -0.363166  0.154659 -0.174768 -0.160262\n",
      "284         3.434060 -0.278134  0.327251 -0.078065 -0.004919\n",
      "285         3.209440 -0.198342  0.466679  0.001005  0.140411\n",
      "286         2.956070 -0.109837  0.600263  0.049694  0.291653\n",
      "287         2.680700 -0.041664  0.751051  0.109469  0.422259\n",
      "288         2.414470  0.040275  0.928198  0.184512  0.543043\n",
      "289         2.137960  0.098642  1.075430  0.264460  0.637926\n",
      "290         1.870290  0.142925  1.161930  0.341484  0.740262\n",
      "291         1.621650  0.230325  1.239900  0.390846  0.816139\n",
      "292         1.367880  0.296227  1.311600  0.409474  0.885171\n",
      "293         1.142750  0.388315  1.430980  0.507428  0.966021\n",
      "294         0.954676  0.435131  1.531440  0.559959  1.030100\n",
      "295         0.805050  0.483874  1.596620  0.661317  1.097470\n",
      "296         0.688515  0.517186  1.622250  0.688386  1.137790\n",
      "297         0.584848  0.537449  1.626530  0.693583  1.166860\n",
      "298         0.508434  0.566124  1.653510  0.699186  1.200820\n",
      "299         0.460637  0.574150  1.653430  0.706411  1.203340\n",
      "300         0.405739  0.600529  1.680280  0.747058  1.187060\n",
      "301         0.346918  0.599239  1.662890  0.742525  1.151900\n",
      "302         0.302081  0.594712  1.626130  0.720668  1.132520\n",
      "303         0.266403  0.583839  1.590270  0.709977  1.122540\n",
      "304         0.251672  0.591705  1.528060  0.687339  1.111460\n",
      "305         0.258838  0.570174  1.424390  0.681470  1.098950\n",
      "306         0.247610  0.552264  1.329270  0.641913  1.061400\n",
      "307         0.257884  0.535085  1.287060  0.629477  1.030070\n",
      "308         0.243959  0.519240  1.261330  0.583535  0.991119\n",
      "309         0.212044  0.520845  1.279710  0.610522  0.961277\n",
      "310         0.191538  0.497315  1.279560  0.585197  0.938358\n",
      "311         0.179227  0.469009  1.191000  0.575062  0.893609\n",
      "312         0.183879  0.446427  1.165630  0.569128  0.860451\n",
      "313         0.193184  0.427561  1.130760  0.580395  0.821558\n",
      "314         0.187660  0.416661  1.096260  0.505649  0.801117\n",
      "315         0.179405  0.403332  1.104280  0.496635  0.787021\n",
      "316         0.154553  0.385544  1.051960  0.482323  0.755967\n",
      "317         0.139355  0.379538  1.025930  0.490975  0.736657\n",
      "318         0.155483  0.372471  0.953308  0.472194  0.719626\n",
      "319         0.168442  0.364589  0.922798  0.477787  0.710335\n",
      "320         0.181444  0.349903  0.925534  0.445044  0.683768\n",
      "321         0.192093  0.329780  0.908675  0.444563  0.651192\n",
      "322         0.180985  0.319310  0.904865  0.438803  0.636491\n",
      "323         0.163809  0.300833  0.874271  0.416357  0.620696\n",
      "324         0.153032  0.289035  0.828040  0.375511  0.621087\n",
      "325         0.144629  0.292835  0.837900  0.385039  0.618028\n",
      "326         0.137980  0.278019  0.837780  0.389069  0.608808\n",
      "327         0.138600  0.254028  0.829861  0.400602  0.588407\n",
      "328         0.127225  0.239824  0.774891  0.359510  0.557677\n",
      "329         0.129199  0.243676  0.749581  0.337597  0.535773\n",
      "330         0.136876  0.234600  0.725444  0.303824  0.503972\n"
     ]
    }
   ],
   "source": [
    "df =  data_all[\"Control_0%\"].cd_df\n",
    "df = df.rename(columns={-1:\"0%\"})\n",
    "df[\"50%\"] =  (data_all[\"Ethanol_50%\"].cd_df.loc[:,-1])\n",
    "df[\"nach\"] =  (data_all[\"Ethanol_50%_nachTest\"].cd_df.loc[:,-1])\n",
    "df[\"vor\"] =  (data_all[\"Ethanol_50%_vorTest\"].cd_df.loc[:,-1])\n",
    "df[\"50% real\"] =  (data_all[\"Ethanol_50%_real\"].cd_df.loc[:,-1])\n",
    "print(df)"
   ]
  },
  {
   "cell_type": "code",
   "execution_count": 16,
   "id": "enhanced-netherlands",
   "metadata": {},
   "outputs": [
    {
     "data": {
      "application/vnd.jupyter.widget-view+json": {
       "model_id": "1998a9d290c04f2b954a60c3505be6be",
       "version_major": 2,
       "version_minor": 0
      },
      "text/plain": [
       "Canvas(toolbar=Toolbar(toolitems=[('Home', 'Reset original view', 'home', 'home'), ('Back', 'Back to previous …"
      ]
     },
     "metadata": {},
     "output_type": "display_data"
    }
   ],
   "source": [
    "plot.mult_func(['0%', 'vor', 'nach', '50%', \"50% real\" ], [df], swap=True, marker=[\"\", \"\", \"\", \"\", \"\"], x_label=\"Wavelengt [nm]\")"
   ]
  },
  {
   "cell_type": "code",
   "execution_count": null,
   "id": "broadband-cruise",
   "metadata": {},
   "outputs": [],
   "source": []
  },
  {
   "cell_type": "code",
   "execution_count": null,
   "id": "stainless-memorial",
   "metadata": {},
   "outputs": [],
   "source": []
  }
 ],
 "metadata": {
  "kernelspec": {
   "display_name": "Python 3",
   "language": "python",
   "name": "python3"
  },
  "language_info": {
   "codemirror_mode": {
    "name": "ipython",
    "version": 3
   },
   "file_extension": ".py",
   "mimetype": "text/x-python",
   "name": "python",
   "nbconvert_exporter": "python",
   "pygments_lexer": "ipython3",
   "version": "3.8.6"
  },
  "toc-autonumbering": true,
  "toc-showcode": false,
  "toc-showmarkdowntxt": false
 },
 "nbformat": 4,
 "nbformat_minor": 5
}
