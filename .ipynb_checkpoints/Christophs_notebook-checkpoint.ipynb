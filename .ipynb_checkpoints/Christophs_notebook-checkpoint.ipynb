{
 "cells": [
  {
   "cell_type": "markdown",
   "id": "oriented-capitol",
   "metadata": {},
   "source": [
    "*for more information, checkout* [Github](https://github.com/Crazytoph/2Dcorrelation \"my github page\")."
   ]
  },
  {
   "cell_type": "markdown",
   "id": "stylish-skirt",
   "metadata": {},
   "source": [
    "# CD Measurements - Data Analysis"
   ]
  },
  {
   "cell_type": "markdown",
   "id": "defensive-sperm",
   "metadata": {},
   "source": [
    "## *setting up the Notebook*"
   ]
  },
  {
   "cell_type": "code",
   "execution_count": 1,
   "id": "friendly-amateur",
   "metadata": {},
   "outputs": [],
   "source": [
    "# Enabling the `widget` backend.\n",
    "# This requires jupyter-matplotlib a.k.a. ipympl.\n",
    "# ipympl can be install via pip or conda.\n",
    "%matplotlib widget\n",
    "        \n",
    "import matplotlib.pyplot as plt\n",
    "import numpy as np\n",
    "import pandas as pd\n",
    "from ipywidgets import Output\n",
    "import matplotlib\n",
    "\n",
    "from scipy import integrate\n",
    "import lmfit\n",
    "import os"
   ]
  },
  {
   "cell_type": "code",
   "execution_count": 2,
   "id": "vocal-instrument",
   "metadata": {},
   "outputs": [],
   "source": [
    "import analise as ana\n",
    "import cdata \n",
    "import hotznplots as plot"
   ]
  },
  {
   "cell_type": "markdown",
   "id": "severe-faculty",
   "metadata": {},
   "source": [
    "<div class=\"alert alert-block alert-info\">\n",
    "<b>Info:</b> Print always whole DataFrames\n",
    "</div>"
   ]
  },
  {
   "cell_type": "code",
   "execution_count": 3,
   "id": "african-warrior",
   "metadata": {},
   "outputs": [],
   "source": [
    "# Default value of display.max_rows is 10 i.e. at max 10 rows will be printed.\n",
    "# Set it None to display all rows in the dataframe\n",
    "pd.set_option('display.max_rows', None)"
   ]
  },
  {
   "cell_type": "code",
   "execution_count": 4,
   "id": "polyphonic-wrist",
   "metadata": {},
   "outputs": [],
   "source": [
    "# change plot size\n",
    "plt.rcParams[\"figure.figsize\"] = (18,9)"
   ]
  },
  {
   "cell_type": "markdown",
   "id": "applicable-editor",
   "metadata": {},
   "source": [
    "<div class=\"alert alert-block alert-info\">\n",
    "<b>Info:</b> Get the data\n",
    "</div>"
   ]
  },
  {
   "cell_type": "code",
   "execution_count": 5,
   "id": "green-colony",
   "metadata": {},
   "outputs": [
    {
     "name": "stdout",
     "output_type": "stream",
     "text": [
      "['Control_0M', 'Gdm2SO4_0.5M', 'Gdm2SO4_2M', 'Gdm2SO4_4M', 'GdmCl_0.5M', 'GdmCl_2M', 'GdmCl_2M_24h', 'GdmCl_4M', 'GdmCl_6M', 'GdmSCN_0.5M', 'GdmSCN_2M', 'Urea_2M']\n"
     ]
    }
   ],
   "source": [
    "# Path for Daniel:\n",
    "#path = \"F:\\\\HZDR\\\\CD_data\"\n",
    "\n",
    "# My Path:\n",
    "path = \"C:\\\\Users\\\\crazy\\\\Mega\\\\Uni\\\\Masterarbeit\\\\Projekt\\\\Data\\\\CD_data\\\\DNA Origami\"\n",
    "datalist = os.listdir(path)\n",
    "print(datalist)"
   ]
  },
  {
   "cell_type": "code",
   "execution_count": 6,
   "id": "interesting-guess",
   "metadata": {},
   "outputs": [],
   "source": [
    "# all data in one dictionary with foldernames as names\n",
    "data_all = {}\n",
    "for i in range(len(datalist)):\n",
    "    data_all[datalist[i]] = cdata.CData(os.path.join(path, datalist[i]))"
   ]
  },
  {
   "cell_type": "code",
   "execution_count": 7,
   "id": "german-webcam",
   "metadata": {},
   "outputs": [
    {
     "name": "stdout",
     "output_type": "stream",
     "text": [
      "<cdata.CData object at 0x00000274CF382730>\n",
      "[<cdata.CData object at 0x00000274CF382730>, <cdata.CData object at 0x00000274CB688790>]\n",
      "(<cdata.CData object at 0x00000274CF382730>, <cdata.CData object at 0x00000274CB675A60>, <cdata.CData object at 0x00000274CF31EA90>, <cdata.CData object at 0x00000274CB688790>)\n"
     ]
    }
   ],
   "source": [
    "# options to acces data\n",
    "print(data_all['Control_0M'])\n",
    "# multiple options\n",
    "print(list(map(data_all.get, ['Control_0M', 'Gdm2SO4_4M'])))\n",
    "print(tuple(data_all.values())[0:4])"
   ]
  },
  {
   "cell_type": "markdown",
   "id": "studied-oxford",
   "metadata": {},
   "source": [
    "## Print-out for PCA\n"
   ]
  },
  {
   "cell_type": "code",
   "execution_count": 15,
   "id": "nonprofit-franchise",
   "metadata": {},
   "outputs": [],
   "source": [
    "liste = ['Control_0M', 'GdmCl_0.5M', 'GdmCl_2M', 'GdmCl_4M', 'GdmCl_6M']"
   ]
  },
  {
   "cell_type": "code",
   "execution_count": 17,
   "id": "olive-death",
   "metadata": {},
   "outputs": [],
   "source": [
    "print_path = \"C:\\\\Users\\\\crazy\\\\Mega\\\\Uni\\\\Masterarbeit\\\\Projekt\\\\Data\\\\PCA\\\\GdmCl\"\n",
    "i= 1\n",
    "for key in liste:\n",
    "    for col in data_all[key].cd_df.columns:\n",
    "        name =  print_path + '\\\\' + str(i) + '.dat'\n",
    "        data_all[key].cd_df.loc[:, col].to_csv(name, sep = \" \", header=False)\n",
    "        i = i + 1"
   ]
  },
  {
   "cell_type": "markdown",
   "id": "southern-justice",
   "metadata": {},
   "source": [
    "## Colormaps"
   ]
  },
  {
   "cell_type": "markdown",
   "id": "passive-registration",
   "metadata": {},
   "source": [
    "### Heat Maps"
   ]
  },
  {
   "cell_type": "code",
   "execution_count": 9,
   "id": "unsigned-investment",
   "metadata": {},
   "outputs": [
    {
     "data": {
      "application/vnd.jupyter.widget-view+json": {
       "model_id": "8686c98825894e2db0f78ea06145d1fa",
       "version_major": 2,
       "version_minor": 0
      },
      "text/plain": [
       "Canvas(toolbar=Toolbar(toolitems=[('Home', 'Reset original view', 'home', 'home'), ('Back', 'Back to previous …"
      ]
     },
     "metadata": {},
     "output_type": "display_data"
    }
   ],
   "source": [
    "plot.heatmap(*tuple(data_all.values()), subtitle=tuple(data_all.keys()), title=\"Cd-Values\", x_min=[220]*len(data_all), swap=False)"
   ]
  },
  {
   "cell_type": "markdown",
   "id": "unusual-jacksonville",
   "metadata": {},
   "source": [
    "### 3D surface plots"
   ]
  },
  {
   "cell_type": "code",
   "execution_count": 8,
   "id": "scientific-french",
   "metadata": {},
   "outputs": [
    {
     "data": {
      "application/vnd.jupyter.widget-view+json": {
       "model_id": "1c986781a79142cf9b07ce9d9f417fa2",
       "version_major": 2,
       "version_minor": 0
      },
      "text/plain": [
       "Canvas(toolbar=Toolbar(toolitems=[('Home', 'Reset original view', 'home', 'home'), ('Back', 'Back to previous …"
      ]
     },
     "metadata": {},
     "output_type": "display_data"
    },
    {
     "name": "stderr",
     "output_type": "stream",
     "text": [
      "No handles with labels found to put in legend.\n"
     ]
    }
   ],
   "source": [
    "plot.function3d(data_all[\"Control_0M\"].cd_df.loc[220:])"
   ]
  },
  {
   "cell_type": "markdown",
   "id": "ideal-agriculture",
   "metadata": {},
   "source": [
    "## Function Plots "
   ]
  },
  {
   "cell_type": "markdown",
   "id": "subtle-sport",
   "metadata": {},
   "source": [
    "### CD-Spectra Plot"
   ]
  },
  {
   "cell_type": "code",
   "execution_count": 8,
   "id": "polished-network",
   "metadata": {},
   "outputs": [
    {
     "data": {
      "application/vnd.jupyter.widget-view+json": {
       "model_id": "6555fe03635942fab1a8bbf776c46671",
       "version_major": 2,
       "version_minor": 0
      },
      "text/plain": [
       "Canvas(toolbar=Toolbar(toolitems=[('Home', 'Reset original view', 'home', 'home'), ('Back', 'Back to previous …"
      ]
     },
     "metadata": {},
     "output_type": "display_data"
    }
   ],
   "source": [
    "wave_min = 200\n",
    "wave_max = 330\n",
    "\n",
    "key_list = ['Control_0M', 'Gdm2SO4_0.5M', 'Gdm2SO4_2M', 'Gdm2SO4_4M', 'GdmCl_0.5M', 'GdmCl_2M',  'GdmCl_4M', 'GdmSCN_0.5M', 'GdmSCN_2M']\n",
    "plot.mult_func([20, 45, 64, 80], [data_all['Control_0M'].cd_df.loc[wave_min:wave_max],  data_all['GdmCl_0.5M'].cd_df.loc[wave_min:wave_max]], swap=True,\n",
    "                   x_label=\"Wavelength [nm]\", y_label=\"CD values [mdeg]\", subtitle=[\"\"], marker=['', '', '', ''], linestyle=['-', ':', ':', '-'], baseline=True, \n",
    "                   y_min=[-8], y_max=[6], y_scaling=True)"
   ]
  },
  {
   "cell_type": "code",
   "execution_count": 11,
   "id": "upper-cliff",
   "metadata": {},
   "outputs": [
    {
     "data": {
      "application/vnd.jupyter.widget-view+json": {
       "model_id": "03502a16070a433c871950ef943e7d07",
       "version_major": 2,
       "version_minor": 0
      },
      "text/plain": [
       "Canvas(toolbar=Toolbar(toolitems=[('Home', 'Reset original view', 'home', 'home'), ('Back', 'Back to previous …"
      ]
     },
     "metadata": {},
     "output_type": "display_data"
    },
    {
     "data": {
      "application/vnd.jupyter.widget-view+json": {
       "model_id": "8a4c6989dd994537b570d5aa5febbdd1",
       "version_major": 2,
       "version_minor": 0
      },
      "text/plain": [
       "Canvas(toolbar=Toolbar(toolitems=[('Home', 'Reset original view', 'home', 'home'), ('Back', 'Back to previous …"
      ]
     },
     "metadata": {},
     "output_type": "display_data"
    },
    {
     "data": {
      "application/vnd.jupyter.widget-view+json": {
       "model_id": "977eae7323634170a3af158cfce4fdab",
       "version_major": 2,
       "version_minor": 0
      },
      "text/plain": [
       "Canvas(toolbar=Toolbar(toolitems=[('Home', 'Reset original view', 'home', 'home'), ('Back', 'Back to previous …"
      ]
     },
     "metadata": {},
     "output_type": "display_data"
    },
    {
     "data": {
      "application/vnd.jupyter.widget-view+json": {
       "model_id": "b8ff1cbdb9f54f9fab357a2fae6265ba",
       "version_major": 2,
       "version_minor": 0
      },
      "text/plain": [
       "Canvas(toolbar=Toolbar(toolitems=[('Home', 'Reset original view', 'home', 'home'), ('Back', 'Back to previous …"
      ]
     },
     "metadata": {},
     "output_type": "display_data"
    },
    {
     "data": {
      "application/vnd.jupyter.widget-view+json": {
       "model_id": "6d91e060f4074c59a2babfe536f02cc4",
       "version_major": 2,
       "version_minor": 0
      },
      "text/plain": [
       "Canvas(toolbar=Toolbar(toolitems=[('Home', 'Reset original view', 'home', 'home'), ('Back', 'Back to previous …"
      ]
     },
     "metadata": {},
     "output_type": "display_data"
    },
    {
     "data": {
      "application/vnd.jupyter.widget-view+json": {
       "model_id": "c6bdb80e8ca84bddb4ea1fcb10d3ef38",
       "version_major": 2,
       "version_minor": 0
      },
      "text/plain": [
       "Canvas(toolbar=Toolbar(toolitems=[('Home', 'Reset original view', 'home', 'home'), ('Back', 'Back to previous …"
      ]
     },
     "metadata": {},
     "output_type": "display_data"
    },
    {
     "name": "stderr",
     "output_type": "stream",
     "text": [
      "C:\\Users\\crazy\\PycharmProjects\\2Dcorrelation\\hotznplots.py:327: RuntimeWarning: More than 20 figures have been opened. Figures created through the pyplot interface (`matplotlib.pyplot.figure`) are retained until explicitly closed and may consume too much memory. (To control this warning, see the rcParam `figure.max_open_warning`).\n",
      "  fig = plt.figure(facecolor=backgroundcolor)  # create figure\n"
     ]
    },
    {
     "data": {
      "application/vnd.jupyter.widget-view+json": {
       "model_id": "70b3dc3cae5847629053f0568cbac2a3",
       "version_major": 2,
       "version_minor": 0
      },
      "text/plain": [
       "Canvas(toolbar=Toolbar(toolitems=[('Home', 'Reset original view', 'home', 'home'), ('Back', 'Back to previous …"
      ]
     },
     "metadata": {},
     "output_type": "display_data"
    },
    {
     "data": {
      "application/vnd.jupyter.widget-view+json": {
       "model_id": "6b92e71d5fca4bb1be328b06a6fa2231",
       "version_major": 2,
       "version_minor": 0
      },
      "text/plain": [
       "Canvas(toolbar=Toolbar(toolitems=[('Home', 'Reset original view', 'home', 'home'), ('Back', 'Back to previous …"
      ]
     },
     "metadata": {},
     "output_type": "display_data"
    },
    {
     "data": {
      "application/vnd.jupyter.widget-view+json": {
       "model_id": "d084695aea744bb0ac737d4aa3896fa0",
       "version_major": 2,
       "version_minor": 0
      },
      "text/plain": [
       "Canvas(toolbar=Toolbar(toolitems=[('Home', 'Reset original view', 'home', 'home'), ('Back', 'Back to previous …"
      ]
     },
     "metadata": {},
     "output_type": "display_data"
    }
   ],
   "source": [
    "wave_min = 200\n",
    "wave_max = 330\n",
    "\n",
    "key_list = ['Control_0M', 'Gdm2SO4_0.5M', 'Gdm2SO4_2M', 'Gdm2SO4_4M', 'GdmCl_0.5M', 'GdmCl_2M',  'GdmCl_4M', 'GdmSCN_0.5M', 'GdmSCN_2M']\n",
    "for key in key_list:\n",
    "    plot.mult_func([20, 45, 64, 80], [data_all[key].cd_df.loc[wave_min:wave_max]], title=key, swap=True,\n",
    "                   x_label=\"Wavelength [nm]\", y_label=\"CD values [mdeg]\", subtitle=[\"\"], label=[\"20°C\", \"45°C\", \"64°C\", \"80°C\"], marker=['', '', '', ''], linestyle=['-', ':', ':', '-'], baseline=True, \n",
    "                   y_min=[-8], y_max=[6], y_scaling=True)"
   ]
  },
  {
   "cell_type": "code",
   "execution_count": 9,
   "id": "assumed-joshua",
   "metadata": {},
   "outputs": [
    {
     "data": {
      "application/vnd.jupyter.widget-view+json": {
       "model_id": "f50680fe04ce440ca3c63d04a862232b",
       "version_major": 2,
       "version_minor": 0
      },
      "text/plain": [
       "Canvas(toolbar=Toolbar(toolitems=[('Home', 'Reset original view', 'home', 'home'), ('Back', 'Back to previous …"
      ]
     },
     "metadata": {},
     "output_type": "display_data"
    }
   ],
   "source": [
    "data=[]\n",
    "for key in data_all.keys():\n",
    "    data.append([data_all[key].cd_df.T])\n",
    "\n",
    "plot.mult_func([20, 40, 55, 60, 65, 70, 90], *data, subtitle=tuple(data_all.keys()),\n",
    "               title=\"CD-Spectra\", marker=[\"\",\"\", \"\", \"\", \"\", \"\", \"\"], x_min=210\n",
    "              )"
   ]
  },
  {
   "cell_type": "markdown",
   "id": "approved-wireless",
   "metadata": {},
   "source": [
    "### Max/Min Plots\n"
   ]
  },
  {
   "cell_type": "markdown",
   "id": "advisory-command",
   "metadata": {},
   "source": [
    "multiple probes"
   ]
  },
  {
   "cell_type": "code",
   "execution_count": 10,
   "id": "vocational-genetics",
   "metadata": {},
   "outputs": [
    {
     "data": {
      "application/vnd.jupyter.widget-view+json": {
       "model_id": "6f696b1d2e1446f39663abdd45427261",
       "version_major": 2,
       "version_minor": 0
      },
      "text/plain": [
       "Canvas(toolbar=Toolbar(toolitems=[('Home', 'Reset original view', 'home', 'home'), ('Back', 'Back to previous …"
      ]
     },
     "metadata": {},
     "output_type": "display_data"
    }
   ],
   "source": [
    "wave_min = 210\n",
    "wave_max =  230\n",
    "\n",
    "\n",
    "# First data you want to add to the plot\n",
    "plot_data =  ana.max_wave(data_all[\"Control_0M\"].cd_df, wave_min=wave_min, wave_max=wave_max)\n",
    "plot_data = plot_data.drop(['Wavelength'], axis=1)   \n",
    "plot_data.rename(columns = {'Value': 'Control_0M'}, inplace = True)\n",
    "\n",
    "\n",
    "\n",
    "# other Data you want to add, if always same max/min values then loop would be possible\n",
    "plot_data[\"GdmCl_4M\"] = ana.max_wave(data_all[\"GdmCl_4M\"].cd_df, wave_min=wave_min, wave_max=wave_max)[\"Value\"]\n",
    "plot_data[\"Gdm2SO4_2M\"] = ana.max_wave(data_all[\"Gdm2SO4_2M\"].cd_df, wave_min=wave_min, wave_max=wave_max)[\"Value\"]\n",
    "#plot_data[\"GdmSCN_2M\"] 2= ana.max_wave(data_all[\"GdmSCN_2M\"].cd_df, wave_min=wave_min, wave_max=wave_max)[\"Value\"]\n",
    "\n",
    "\n",
    "plot.mult_func([\"Control_0M\", \"GdmCl_4M\", \"Gdm2SO4_2M\"], [plot_data.T], subtitle=[\"\"], title=\"Max. CD Value between 210nm - 230nm\")"
   ]
  },
  {
   "cell_type": "markdown",
   "id": "generic-thailand",
   "metadata": {},
   "source": [
    "one probe"
   ]
  },
  {
   "cell_type": "code",
   "execution_count": 15,
   "id": "detailed-bahamas",
   "metadata": {},
   "outputs": [
    {
     "data": {
      "application/vnd.jupyter.widget-view+json": {
       "model_id": "f72d97d41e48459eb723bb30acc239cd",
       "version_major": 2,
       "version_minor": 0
      },
      "text/plain": [
       "Canvas(toolbar=Toolbar(toolitems=[('Home', 'Reset original view', 'home', 'home'), ('Back', 'Back to previous …"
      ]
     },
     "metadata": {},
     "output_type": "display_data"
    },
    {
     "data": {
      "application/vnd.jupyter.widget-view+json": {
       "model_id": "83a43084f829464c8d1d2c3cbbe6535a",
       "version_major": 2,
       "version_minor": 0
      },
      "text/plain": [
       "Canvas(toolbar=Toolbar(toolitems=[('Home', 'Reset original view', 'home', 'home'), ('Back', 'Back to previous …"
      ]
     },
     "metadata": {},
     "output_type": "display_data"
    },
    {
     "data": {
      "application/vnd.jupyter.widget-view+json": {
       "model_id": "f48223ffb14c49079e937ecb7fadde39",
       "version_major": 2,
       "version_minor": 0
      },
      "text/plain": [
       "Canvas(toolbar=Toolbar(toolitems=[('Home', 'Reset original view', 'home', 'home'), ('Back', 'Back to previous …"
      ]
     },
     "metadata": {},
     "output_type": "display_data"
    },
    {
     "data": {
      "application/vnd.jupyter.widget-view+json": {
       "model_id": "d46d1249cc1d44f6a0b5090cd69dada9",
       "version_major": 2,
       "version_minor": 0
      },
      "text/plain": [
       "Canvas(toolbar=Toolbar(toolitems=[('Home', 'Reset original view', 'home', 'home'), ('Back', 'Back to previous …"
      ]
     },
     "metadata": {},
     "output_type": "display_data"
    },
    {
     "data": {
      "application/vnd.jupyter.widget-view+json": {
       "model_id": "3c475e2f6c944bea910df4241fb30393",
       "version_major": 2,
       "version_minor": 0
      },
      "text/plain": [
       "Canvas(toolbar=Toolbar(toolitems=[('Home', 'Reset original view', 'home', 'home'), ('Back', 'Back to previous …"
      ]
     },
     "metadata": {},
     "output_type": "display_data"
    },
    {
     "data": {
      "application/vnd.jupyter.widget-view+json": {
       "model_id": "221f08fdd72b4892bcca8879e40e895d",
       "version_major": 2,
       "version_minor": 0
      },
      "text/plain": [
       "Canvas(toolbar=Toolbar(toolitems=[('Home', 'Reset original view', 'home', 'home'), ('Back', 'Back to previous …"
      ]
     },
     "metadata": {},
     "output_type": "display_data"
    },
    {
     "data": {
      "application/vnd.jupyter.widget-view+json": {
       "model_id": "c63995a5677047b8a4e9d6b28a0d7097",
       "version_major": 2,
       "version_minor": 0
      },
      "text/plain": [
       "Canvas(toolbar=Toolbar(toolitems=[('Home', 'Reset original view', 'home', 'home'), ('Back', 'Back to previous …"
      ]
     },
     "metadata": {},
     "output_type": "display_data"
    },
    {
     "data": {
      "application/vnd.jupyter.widget-view+json": {
       "model_id": "efe1dc62afb94b719617149d94e38868",
       "version_major": 2,
       "version_minor": 0
      },
      "text/plain": [
       "Canvas(toolbar=Toolbar(toolitems=[('Home', 'Reset original view', 'home', 'home'), ('Back', 'Back to previous …"
      ]
     },
     "metadata": {},
     "output_type": "display_data"
    },
    {
     "data": {
      "application/vnd.jupyter.widget-view+json": {
       "model_id": "4e9be91f4fae492983160df331a99a03",
       "version_major": 2,
       "version_minor": 0
      },
      "text/plain": [
       "Canvas(toolbar=Toolbar(toolitems=[('Home', 'Reset original view', 'home', 'home'), ('Back', 'Back to previous …"
      ]
     },
     "metadata": {},
     "output_type": "display_data"
    },
    {
     "data": {
      "application/vnd.jupyter.widget-view+json": {
       "model_id": "4957eaa15b9844038a47f2f677677b0b",
       "version_major": 2,
       "version_minor": 0
      },
      "text/plain": [
       "Canvas(toolbar=Toolbar(toolitems=[('Home', 'Reset original view', 'home', 'home'), ('Back', 'Back to previous …"
      ]
     },
     "metadata": {},
     "output_type": "display_data"
    },
    {
     "data": {
      "application/vnd.jupyter.widget-view+json": {
       "model_id": "f132d95add7b4185bd0b7bbfa7bcdf9e",
       "version_major": 2,
       "version_minor": 0
      },
      "text/plain": [
       "Canvas(toolbar=Toolbar(toolitems=[('Home', 'Reset original view', 'home', 'home'), ('Back', 'Back to previous …"
      ]
     },
     "metadata": {},
     "output_type": "display_data"
    }
   ],
   "source": [
    "wave_min = 260\n",
    "wave_max =  290\n",
    "title = \"Max. CD-Value between \" + str(wave_min) + \"nm - \" + str(wave_max) +\"nm\"\n",
    "\n",
    "for key in data_all.keys():\n",
    "    plot_data =  ana.max_wave(data_all[key].cd_df, wave_min=wave_min, wave_max=wave_max)\n",
    "    plot.mult_func([\"Value\"], [plot_data.T], subtitle=[\"\"], vertical_line=[melt_T[key]], title=title, label=[key, \"melting Temp.\"])\n",
    "\n"
   ]
  },
  {
   "cell_type": "markdown",
   "id": "early-directive",
   "metadata": {},
   "source": [
    "## Correlation Analyis"
   ]
  },
  {
   "cell_type": "markdown",
   "id": "judicial-wheel",
   "metadata": {},
   "source": [
    "<div class=\"alert alert-block alert-info\">\n",
    "<b>Info:</b> Noda, I. (2007). Two-dimensional correlation analysis useful for spectroscopy, chromatography, and other analytical measurements. Analytical Sciences, 23(2), 139–146. https://doi.org/10.2116/analsci.23.139\n",
    "</div>"
   ]
  },
  {
   "cell_type": "markdown",
   "id": "constant-disposal",
   "metadata": {},
   "source": [
    "<div class=\"alert alert-block alert-info\">\n",
    "<b>Info:</b> Noda, I. (2015). Techniques of two-dimensional (2D) correlation spectroscopy useful in life science research. Biomedical Spectroscopy and Imaging, 4(2), 109–127. https://doi.org/10.3233/bsi-150105\n",
    "</div>"
   ]
  },
  {
   "cell_type": "markdown",
   "id": "private-blocking",
   "metadata": {},
   "source": [
    "Projection Matrix"
   ]
  },
  {
   "cell_type": "code",
   "execution_count": 8,
   "id": "homeless-vertical",
   "metadata": {},
   "outputs": [
    {
     "name": "stdout",
     "output_type": "stream",
     "text": [
      "(16, 1) (16, 131)\n",
      "[[-6.42816]\n",
      " [-6.21929]\n",
      " [-6.02504]\n",
      " [-5.96357]\n",
      " [-5.65723]\n",
      " [-5.50681]\n",
      " [-5.32867]\n",
      " [-5.2065 ]\n",
      " [-5.06574]\n",
      " [-4.50403]\n",
      " [-3.73564]\n",
      " [-2.87439]\n",
      " [-2.72282]\n",
      " [-2.52644]\n",
      " [-2.28546]\n",
      " [-2.12292]]\n"
     ]
    }
   ],
   "source": [
    "test = data_all[\"Control_0M\"].cd_df.to_numpy()\n",
    "test = test[47:48].T\n",
    "data = data_all[\"Control_0M\"].cd_df.T.to_numpy()\n",
    "print(test.shape, data.shape )\n",
    "print(test)"
   ]
  },
  {
   "cell_type": "code",
   "execution_count": 9,
   "id": "billion-attention",
   "metadata": {},
   "outputs": [
    {
     "data": {
      "application/vnd.jupyter.widget-view+json": {
       "model_id": "4bbb57b3324844f1b16bccb412f4144f",
       "version_major": 2,
       "version_minor": 0
      },
      "text/plain": [
       "Canvas(toolbar=Toolbar(toolitems=[('Home', 'Reset original view', 'home', 'home'), ('Back', 'Back to previous …"
      ]
     },
     "metadata": {},
     "output_type": "display_data"
    }
   ],
   "source": [
    "U = np.linalg.inv(np.dot(test.T, test))\n",
    "R = np.dot(test, np.dot(U, test.T))\n",
    "Null = np.diag([1]*16) - R\n",
    "\n",
    "alpha = 0\n",
    "data_alpha = np.dot(Null + alpha*R, data)\n",
    "df = pd.DataFrame(data_alpha, dtype='float64')\n",
    "\n",
    "plot.heatmap(df.T, x_min=[20] )\n",
    "\n"
   ]
  },
  {
   "cell_type": "code",
   "execution_count": 10,
   "id": "seventh-buddy",
   "metadata": {},
   "outputs": [
    {
     "data": {
      "application/vnd.jupyter.widget-view+json": {
       "model_id": "3ee307da164b48a182ff1cdf315c15eb",
       "version_major": 2,
       "version_minor": 0
      },
      "text/plain": [
       "Canvas(toolbar=Toolbar(toolitems=[('Home', 'Reset original view', 'home', 'home'), ('Back', 'Back to previous …"
      ]
     },
     "metadata": {},
     "output_type": "display_data"
    }
   ],
   "source": [
    "U = test/np.linalg.norm(test)\n",
    "loading_vector = np.dot(data.T, U)\n",
    "\n",
    "for i in range(loading_vector.shape[0]):\n",
    "    if loading_vector[i] <= 0:\n",
    "        loading_vector[i] = 0\n",
    "data_plus = np.dot(U, loading_vector.T)\n",
    "\n",
    "alpha = 0\n",
    "data_alpha_plus = data - (1 - alpha)*data_plus\n",
    "df = pd.DataFrame(data_alpha_plus, dtype='float64')\n",
    "\n",
    "plot.heatmap(df.T, x_min=[20] )"
   ]
  },
  {
   "cell_type": "code",
   "execution_count": 13,
   "id": "fifth-spider",
   "metadata": {},
   "outputs": [
    {
     "ename": "ValueError",
     "evalue": "Shape of passed values is (16, 131), indices imply (131, 16)",
     "output_type": "error",
     "traceback": [
      "\u001b[1;31m---------------------------------------------------------------------------\u001b[0m",
      "\u001b[1;31mValueError\u001b[0m                                Traceback (most recent call last)",
      "\u001b[1;32m~\\anaconda3\\envs\\TestEnv\\lib\\site-packages\\pandas\\core\\internals\\managers.py\u001b[0m in \u001b[0;36mcreate_block_manager_from_blocks\u001b[1;34m(blocks, axes)\u001b[0m\n\u001b[0;32m   1674\u001b[0m                 blocks = [\n\u001b[1;32m-> 1675\u001b[1;33m                     make_block(\n\u001b[0m\u001b[0;32m   1676\u001b[0m                         \u001b[0mvalues\u001b[0m\u001b[1;33m=\u001b[0m\u001b[0mblocks\u001b[0m\u001b[1;33m[\u001b[0m\u001b[1;36m0\u001b[0m\u001b[1;33m]\u001b[0m\u001b[1;33m,\u001b[0m \u001b[0mplacement\u001b[0m\u001b[1;33m=\u001b[0m\u001b[0mslice\u001b[0m\u001b[1;33m(\u001b[0m\u001b[1;36m0\u001b[0m\u001b[1;33m,\u001b[0m \u001b[0mlen\u001b[0m\u001b[1;33m(\u001b[0m\u001b[0maxes\u001b[0m\u001b[1;33m[\u001b[0m\u001b[1;36m0\u001b[0m\u001b[1;33m]\u001b[0m\u001b[1;33m)\u001b[0m\u001b[1;33m)\u001b[0m\u001b[1;33m,\u001b[0m \u001b[0mndim\u001b[0m\u001b[1;33m=\u001b[0m\u001b[1;36m2\u001b[0m\u001b[1;33m\u001b[0m\u001b[1;33m\u001b[0m\u001b[0m\n",
      "\u001b[1;32m~\\anaconda3\\envs\\TestEnv\\lib\\site-packages\\pandas\\core\\internals\\blocks.py\u001b[0m in \u001b[0;36mmake_block\u001b[1;34m(values, placement, klass, ndim, dtype)\u001b[0m\n\u001b[0;32m   2731\u001b[0m \u001b[1;33m\u001b[0m\u001b[0m\n\u001b[1;32m-> 2732\u001b[1;33m     \u001b[1;32mreturn\u001b[0m \u001b[0mklass\u001b[0m\u001b[1;33m(\u001b[0m\u001b[0mvalues\u001b[0m\u001b[1;33m,\u001b[0m \u001b[0mndim\u001b[0m\u001b[1;33m=\u001b[0m\u001b[0mndim\u001b[0m\u001b[1;33m,\u001b[0m \u001b[0mplacement\u001b[0m\u001b[1;33m=\u001b[0m\u001b[0mplacement\u001b[0m\u001b[1;33m)\u001b[0m\u001b[1;33m\u001b[0m\u001b[1;33m\u001b[0m\u001b[0m\n\u001b[0m\u001b[0;32m   2733\u001b[0m \u001b[1;33m\u001b[0m\u001b[0m\n",
      "\u001b[1;32m~\\anaconda3\\envs\\TestEnv\\lib\\site-packages\\pandas\\core\\internals\\blocks.py\u001b[0m in \u001b[0;36m__init__\u001b[1;34m(self, values, placement, ndim)\u001b[0m\n\u001b[0;32m    141\u001b[0m         \u001b[1;32mif\u001b[0m \u001b[0mself\u001b[0m\u001b[1;33m.\u001b[0m\u001b[0m_validate_ndim\u001b[0m \u001b[1;32mand\u001b[0m \u001b[0mself\u001b[0m\u001b[1;33m.\u001b[0m\u001b[0mndim\u001b[0m \u001b[1;32mand\u001b[0m \u001b[0mlen\u001b[0m\u001b[1;33m(\u001b[0m\u001b[0mself\u001b[0m\u001b[1;33m.\u001b[0m\u001b[0mmgr_locs\u001b[0m\u001b[1;33m)\u001b[0m \u001b[1;33m!=\u001b[0m \u001b[0mlen\u001b[0m\u001b[1;33m(\u001b[0m\u001b[0mself\u001b[0m\u001b[1;33m.\u001b[0m\u001b[0mvalues\u001b[0m\u001b[1;33m)\u001b[0m\u001b[1;33m:\u001b[0m\u001b[1;33m\u001b[0m\u001b[1;33m\u001b[0m\u001b[0m\n\u001b[1;32m--> 142\u001b[1;33m             raise ValueError(\n\u001b[0m\u001b[0;32m    143\u001b[0m                 \u001b[1;34mf\"Wrong number of items passed {len(self.values)}, \"\u001b[0m\u001b[1;33m\u001b[0m\u001b[1;33m\u001b[0m\u001b[0m\n",
      "\u001b[1;31mValueError\u001b[0m: Wrong number of items passed 131, placement implies 16",
      "\nDuring handling of the above exception, another exception occurred:\n",
      "\u001b[1;31mValueError\u001b[0m                                Traceback (most recent call last)",
      "\u001b[1;32m<ipython-input-13-687e212eb10f>\u001b[0m in \u001b[0;36m<module>\u001b[1;34m\u001b[0m\n\u001b[0;32m      1\u001b[0m \u001b[0mdata\u001b[0m  \u001b[1;33m=\u001b[0m \u001b[0mdata_all\u001b[0m\u001b[1;33m[\u001b[0m\u001b[1;34m\"Control_0M\"\u001b[0m\u001b[1;33m]\u001b[0m\u001b[1;33m.\u001b[0m\u001b[0mcd_df\u001b[0m\u001b[1;33m\u001b[0m\u001b[1;33m\u001b[0m\u001b[0m\n\u001b[1;32m----> 2\u001b[1;33m \u001b[0msync\u001b[0m\u001b[1;33m,\u001b[0m \u001b[0massync\u001b[0m \u001b[1;33m=\u001b[0m \u001b[0mana\u001b[0m\u001b[1;33m.\u001b[0m\u001b[0mcorrelation\u001b[0m\u001b[1;33m(\u001b[0m\u001b[0mdata\u001b[0m\u001b[1;33m,\u001b[0m \u001b[0mprojection\u001b[0m\u001b[1;33m=\u001b[0m\u001b[1;32mTrue\u001b[0m\u001b[1;33m,\u001b[0m \u001b[0mproj_rows\u001b[0m\u001b[1;33m=\u001b[0m\u001b[1;33m[\u001b[0m\u001b[1;36m247\u001b[0m\u001b[1;33m,\u001b[0m\u001b[1;36m247\u001b[0m\u001b[1;33m]\u001b[0m\u001b[1;33m)\u001b[0m\u001b[1;33m\u001b[0m\u001b[1;33m\u001b[0m\u001b[0m\n\u001b[0m\u001b[0;32m      3\u001b[0m \u001b[0mplot\u001b[0m\u001b[1;33m.\u001b[0m\u001b[0mheatmap\u001b[0m\u001b[1;33m(\u001b[0m\u001b[0msync1\u001b[0m\u001b[1;33m,\u001b[0m \u001b[0massync1\u001b[0m\u001b[1;33m,\u001b[0m \u001b[0msync2\u001b[0m\u001b[1;33m,\u001b[0m \u001b[0massync2\u001b[0m\u001b[1;33m,\u001b[0m \u001b[0mx_min\u001b[0m\u001b[1;33m=\u001b[0m\u001b[1;33m[\u001b[0m\u001b[1;36m210\u001b[0m\u001b[1;33m,\u001b[0m \u001b[1;36m210\u001b[0m\u001b[1;33m]\u001b[0m\u001b[1;33m,\u001b[0m \u001b[0my_min\u001b[0m\u001b[1;33m=\u001b[0m\u001b[1;33m[\u001b[0m\u001b[1;36m210\u001b[0m\u001b[1;33m,\u001b[0m\u001b[1;36m210\u001b[0m\u001b[1;33m]\u001b[0m\u001b[1;33m)\u001b[0m\u001b[1;33m\u001b[0m\u001b[1;33m\u001b[0m\u001b[0m\n",
      "\u001b[1;32m~\\PycharmProjects\\2Dcorrelation\\analise.py\u001b[0m in \u001b[0;36mcorrelation\u001b[1;34m(ref_spec, center, scaling, projection, proj_positivity, proj_rows, proj_alpha, *exp_spec)\u001b[0m\n\u001b[0;32m    414\u001b[0m         \u001b[0mproj_rows\u001b[0m\u001b[1;33m[\u001b[0m\u001b[1;36m0\u001b[0m\u001b[1;33m]\u001b[0m \u001b[1;33m=\u001b[0m \u001b[0mproj_rows\u001b[0m\u001b[1;33m[\u001b[0m\u001b[1;36m0\u001b[0m\u001b[1;33m]\u001b[0m \u001b[1;33m-\u001b[0m \u001b[1;36m200\u001b[0m\u001b[1;33m\u001b[0m\u001b[1;33m\u001b[0m\u001b[0m\n\u001b[0;32m    415\u001b[0m         \u001b[0mproj_rows\u001b[0m\u001b[1;33m[\u001b[0m\u001b[1;33m-\u001b[0m\u001b[1;36m1\u001b[0m\u001b[1;33m]\u001b[0m \u001b[1;33m=\u001b[0m \u001b[0mproj_rows\u001b[0m\u001b[1;33m[\u001b[0m\u001b[1;33m-\u001b[0m\u001b[1;36m1\u001b[0m\u001b[1;33m]\u001b[0m \u001b[1;33m-\u001b[0m \u001b[1;36m200\u001b[0m\u001b[1;33m\u001b[0m\u001b[1;33m\u001b[0m\u001b[0m\n\u001b[1;32m--> 416\u001b[1;33m         \u001b[0mdyn1\u001b[0m \u001b[1;33m=\u001b[0m \u001b[0mprojection_matrix\u001b[0m\u001b[1;33m(\u001b[0m\u001b[0mdyn1\u001b[0m\u001b[1;33m,\u001b[0m \u001b[0mproj_rows\u001b[0m\u001b[1;33m,\u001b[0m \u001b[0mproj_alpha\u001b[0m\u001b[1;33m,\u001b[0m \u001b[0mproj_positivity\u001b[0m\u001b[1;33m)\u001b[0m\u001b[1;33m\u001b[0m\u001b[1;33m\u001b[0m\u001b[0m\n\u001b[0m\u001b[0;32m    417\u001b[0m         \u001b[0mdyn2\u001b[0m \u001b[1;33m=\u001b[0m \u001b[0mprojection_matrix\u001b[0m\u001b[1;33m(\u001b[0m\u001b[0mdyn2\u001b[0m\u001b[1;33m,\u001b[0m \u001b[0mproj_rows\u001b[0m\u001b[1;33m,\u001b[0m \u001b[0mproj_alpha\u001b[0m\u001b[1;33m,\u001b[0m \u001b[0mproj_positivity\u001b[0m\u001b[1;33m)\u001b[0m\u001b[1;33m\u001b[0m\u001b[1;33m\u001b[0m\u001b[0m\n\u001b[0;32m    418\u001b[0m \u001b[1;33m\u001b[0m\u001b[0m\n",
      "\u001b[1;32m~\\PycharmProjects\\2Dcorrelation\\analise.py\u001b[0m in \u001b[0;36mprojection_matrix\u001b[1;34m(data_df, rows, alpha, positive_projection)\u001b[0m\n\u001b[0;32m    348\u001b[0m     \u001b[1;31m# change back to DataFrame\u001b[0m\u001b[1;33m\u001b[0m\u001b[1;33m\u001b[0m\u001b[1;33m\u001b[0m\u001b[0m\n\u001b[0;32m    349\u001b[0m     \u001b[1;32mif\u001b[0m \u001b[0mdf\u001b[0m \u001b[1;32mis\u001b[0m \u001b[1;32mTrue\u001b[0m\u001b[1;33m:\u001b[0m\u001b[1;33m\u001b[0m\u001b[1;33m\u001b[0m\u001b[0m\n\u001b[1;32m--> 350\u001b[1;33m         \u001b[0mmixed_projected_data\u001b[0m \u001b[1;33m=\u001b[0m \u001b[0mpd\u001b[0m\u001b[1;33m.\u001b[0m\u001b[0mDataFrame\u001b[0m\u001b[1;33m(\u001b[0m\u001b[0mmixed_projected_data\u001b[0m\u001b[1;33m,\u001b[0m \u001b[0mindex\u001b[0m\u001b[1;33m=\u001b[0m\u001b[0midx\u001b[0m\u001b[1;33m,\u001b[0m \u001b[0mcolumns\u001b[0m\u001b[1;33m=\u001b[0m\u001b[0mcol\u001b[0m\u001b[1;33m)\u001b[0m\u001b[1;33m\u001b[0m\u001b[1;33m\u001b[0m\u001b[0m\n\u001b[0m\u001b[0;32m    351\u001b[0m \u001b[1;33m\u001b[0m\u001b[0m\n\u001b[0;32m    352\u001b[0m     \u001b[1;32mreturn\u001b[0m \u001b[0mmixed_projected_data\u001b[0m\u001b[1;33m.\u001b[0m\u001b[0mT\u001b[0m\u001b[1;33m\u001b[0m\u001b[1;33m\u001b[0m\u001b[0m\n",
      "\u001b[1;32m~\\anaconda3\\envs\\TestEnv\\lib\\site-packages\\pandas\\core\\frame.py\u001b[0m in \u001b[0;36m__init__\u001b[1;34m(self, data, index, columns, dtype, copy)\u001b[0m\n\u001b[0;32m    556\u001b[0m                 \u001b[0mmgr\u001b[0m \u001b[1;33m=\u001b[0m \u001b[0minit_dict\u001b[0m\u001b[1;33m(\u001b[0m\u001b[1;33m{\u001b[0m\u001b[0mdata\u001b[0m\u001b[1;33m.\u001b[0m\u001b[0mname\u001b[0m\u001b[1;33m:\u001b[0m \u001b[0mdata\u001b[0m\u001b[1;33m}\u001b[0m\u001b[1;33m,\u001b[0m \u001b[0mindex\u001b[0m\u001b[1;33m,\u001b[0m \u001b[0mcolumns\u001b[0m\u001b[1;33m,\u001b[0m \u001b[0mdtype\u001b[0m\u001b[1;33m=\u001b[0m\u001b[0mdtype\u001b[0m\u001b[1;33m)\u001b[0m\u001b[1;33m\u001b[0m\u001b[1;33m\u001b[0m\u001b[0m\n\u001b[0;32m    557\u001b[0m             \u001b[1;32melse\u001b[0m\u001b[1;33m:\u001b[0m\u001b[1;33m\u001b[0m\u001b[1;33m\u001b[0m\u001b[0m\n\u001b[1;32m--> 558\u001b[1;33m                 \u001b[0mmgr\u001b[0m \u001b[1;33m=\u001b[0m \u001b[0minit_ndarray\u001b[0m\u001b[1;33m(\u001b[0m\u001b[0mdata\u001b[0m\u001b[1;33m,\u001b[0m \u001b[0mindex\u001b[0m\u001b[1;33m,\u001b[0m \u001b[0mcolumns\u001b[0m\u001b[1;33m,\u001b[0m \u001b[0mdtype\u001b[0m\u001b[1;33m=\u001b[0m\u001b[0mdtype\u001b[0m\u001b[1;33m,\u001b[0m \u001b[0mcopy\u001b[0m\u001b[1;33m=\u001b[0m\u001b[0mcopy\u001b[0m\u001b[1;33m)\u001b[0m\u001b[1;33m\u001b[0m\u001b[1;33m\u001b[0m\u001b[0m\n\u001b[0m\u001b[0;32m    559\u001b[0m \u001b[1;33m\u001b[0m\u001b[0m\n\u001b[0;32m    560\u001b[0m         \u001b[1;31m# For data is list-like, or Iterable (will consume into list)\u001b[0m\u001b[1;33m\u001b[0m\u001b[1;33m\u001b[0m\u001b[1;33m\u001b[0m\u001b[0m\n",
      "\u001b[1;32m~\\anaconda3\\envs\\TestEnv\\lib\\site-packages\\pandas\\core\\internals\\construction.py\u001b[0m in \u001b[0;36minit_ndarray\u001b[1;34m(values, index, columns, dtype, copy)\u001b[0m\n\u001b[0;32m    236\u001b[0m         \u001b[0mblock_values\u001b[0m \u001b[1;33m=\u001b[0m \u001b[1;33m[\u001b[0m\u001b[0mvalues\u001b[0m\u001b[1;33m]\u001b[0m\u001b[1;33m\u001b[0m\u001b[1;33m\u001b[0m\u001b[0m\n\u001b[0;32m    237\u001b[0m \u001b[1;33m\u001b[0m\u001b[0m\n\u001b[1;32m--> 238\u001b[1;33m     \u001b[1;32mreturn\u001b[0m \u001b[0mcreate_block_manager_from_blocks\u001b[0m\u001b[1;33m(\u001b[0m\u001b[0mblock_values\u001b[0m\u001b[1;33m,\u001b[0m \u001b[1;33m[\u001b[0m\u001b[0mcolumns\u001b[0m\u001b[1;33m,\u001b[0m \u001b[0mindex\u001b[0m\u001b[1;33m]\u001b[0m\u001b[1;33m)\u001b[0m\u001b[1;33m\u001b[0m\u001b[1;33m\u001b[0m\u001b[0m\n\u001b[0m\u001b[0;32m    239\u001b[0m \u001b[1;33m\u001b[0m\u001b[0m\n\u001b[0;32m    240\u001b[0m \u001b[1;33m\u001b[0m\u001b[0m\n",
      "\u001b[1;32m~\\anaconda3\\envs\\TestEnv\\lib\\site-packages\\pandas\\core\\internals\\managers.py\u001b[0m in \u001b[0;36mcreate_block_manager_from_blocks\u001b[1;34m(blocks, axes)\u001b[0m\n\u001b[0;32m   1685\u001b[0m         \u001b[0mblocks\u001b[0m \u001b[1;33m=\u001b[0m \u001b[1;33m[\u001b[0m\u001b[0mgetattr\u001b[0m\u001b[1;33m(\u001b[0m\u001b[0mb\u001b[0m\u001b[1;33m,\u001b[0m \u001b[1;34m\"values\"\u001b[0m\u001b[1;33m,\u001b[0m \u001b[0mb\u001b[0m\u001b[1;33m)\u001b[0m \u001b[1;32mfor\u001b[0m \u001b[0mb\u001b[0m \u001b[1;32min\u001b[0m \u001b[0mblocks\u001b[0m\u001b[1;33m]\u001b[0m\u001b[1;33m\u001b[0m\u001b[1;33m\u001b[0m\u001b[0m\n\u001b[0;32m   1686\u001b[0m         \u001b[0mtot_items\u001b[0m \u001b[1;33m=\u001b[0m \u001b[0msum\u001b[0m\u001b[1;33m(\u001b[0m\u001b[0mb\u001b[0m\u001b[1;33m.\u001b[0m\u001b[0mshape\u001b[0m\u001b[1;33m[\u001b[0m\u001b[1;36m0\u001b[0m\u001b[1;33m]\u001b[0m \u001b[1;32mfor\u001b[0m \u001b[0mb\u001b[0m \u001b[1;32min\u001b[0m \u001b[0mblocks\u001b[0m\u001b[1;33m)\u001b[0m\u001b[1;33m\u001b[0m\u001b[1;33m\u001b[0m\u001b[0m\n\u001b[1;32m-> 1687\u001b[1;33m         \u001b[1;32mraise\u001b[0m \u001b[0mconstruction_error\u001b[0m\u001b[1;33m(\u001b[0m\u001b[0mtot_items\u001b[0m\u001b[1;33m,\u001b[0m \u001b[0mblocks\u001b[0m\u001b[1;33m[\u001b[0m\u001b[1;36m0\u001b[0m\u001b[1;33m]\u001b[0m\u001b[1;33m.\u001b[0m\u001b[0mshape\u001b[0m\u001b[1;33m[\u001b[0m\u001b[1;36m1\u001b[0m\u001b[1;33m:\u001b[0m\u001b[1;33m]\u001b[0m\u001b[1;33m,\u001b[0m \u001b[0maxes\u001b[0m\u001b[1;33m,\u001b[0m \u001b[0me\u001b[0m\u001b[1;33m)\u001b[0m\u001b[1;33m\u001b[0m\u001b[1;33m\u001b[0m\u001b[0m\n\u001b[0m\u001b[0;32m   1688\u001b[0m \u001b[1;33m\u001b[0m\u001b[0m\n\u001b[0;32m   1689\u001b[0m \u001b[1;33m\u001b[0m\u001b[0m\n",
      "\u001b[1;31mValueError\u001b[0m: Shape of passed values is (16, 131), indices imply (131, 16)"
     ]
    }
   ],
   "source": [
    "data  = data_all[\"Control_0M\"].cd_df\n",
    "sync, assync = ana.correlation(data, projection=True, proj_rows=[247,247])\n",
    "plot.heatmap(sync, assync, x_min=[210, 210], y_min=[210,210])"
   ]
  },
  {
   "cell_type": "markdown",
   "id": "varied-knitting",
   "metadata": {},
   "source": [
    "### Homogenous Spectrum\n",
    "\n",
    "*optional: pareto scaling, auto scaling and Reference and projection*"
   ]
  },
  {
   "cell_type": "code",
   "execution_count": 8,
   "id": "yellow-northern",
   "metadata": {},
   "outputs": [],
   "source": [
    "liste =  ['Control_0M', 'Gdm2SO4_0.5M', 'Gdm2SO4_2M', 'Gdm2SO4_4M', 'GdmCl_0.5M', 'GdmCl_2M' , 'GdmCl_4M', 'GdmCl_6M' ]"
   ]
  },
  {
   "cell_type": "code",
   "execution_count": 9,
   "id": "lightweight-explanation",
   "metadata": {},
   "outputs": [
    {
     "data": {
      "application/vnd.jupyter.widget-view+json": {
       "model_id": "5dabf90de5754258ba8c4e8472c7c237",
       "version_major": 2,
       "version_minor": 0
      },
      "text/plain": [
       "Canvas(toolbar=Toolbar(toolitems=[('Home', 'Reset original view', 'home', 'home'), ('Back', 'Back to previous …"
      ]
     },
     "metadata": {},
     "output_type": "display_data"
    },
    {
     "data": {
      "application/vnd.jupyter.widget-view+json": {
       "model_id": "ef78f246629d4e2288b8c7584c856201",
       "version_major": 2,
       "version_minor": 0
      },
      "text/plain": [
       "Canvas(toolbar=Toolbar(toolitems=[('Home', 'Reset original view', 'home', 'home'), ('Back', 'Back to previous …"
      ]
     },
     "metadata": {},
     "output_type": "display_data"
    },
    {
     "data": {
      "application/vnd.jupyter.widget-view+json": {
       "model_id": "1edd9261ca0c4f29ae0dd29e9604e965",
       "version_major": 2,
       "version_minor": 0
      },
      "text/plain": [
       "Canvas(toolbar=Toolbar(toolitems=[('Home', 'Reset original view', 'home', 'home'), ('Back', 'Back to previous …"
      ]
     },
     "metadata": {},
     "output_type": "display_data"
    },
    {
     "data": {
      "application/vnd.jupyter.widget-view+json": {
       "model_id": "d2ac16c6753f42b1a4af7f9acf50f214",
       "version_major": 2,
       "version_minor": 0
      },
      "text/plain": [
       "Canvas(toolbar=Toolbar(toolitems=[('Home', 'Reset original view', 'home', 'home'), ('Back', 'Back to previous …"
      ]
     },
     "metadata": {},
     "output_type": "display_data"
    },
    {
     "data": {
      "application/vnd.jupyter.widget-view+json": {
       "model_id": "278d6dfaf2c84c9f87bfaadee095086a",
       "version_major": 2,
       "version_minor": 0
      },
      "text/plain": [
       "Canvas(toolbar=Toolbar(toolitems=[('Home', 'Reset original view', 'home', 'home'), ('Back', 'Back to previous …"
      ]
     },
     "metadata": {},
     "output_type": "display_data"
    },
    {
     "data": {
      "application/vnd.jupyter.widget-view+json": {
       "model_id": "113f8f2b16b84c7db9d139145e44479e",
       "version_major": 2,
       "version_minor": 0
      },
      "text/plain": [
       "Canvas(toolbar=Toolbar(toolitems=[('Home', 'Reset original view', 'home', 'home'), ('Back', 'Back to previous …"
      ]
     },
     "metadata": {},
     "output_type": "display_data"
    },
    {
     "data": {
      "application/vnd.jupyter.widget-view+json": {
       "model_id": "b232ff79671f40098be99a26de3317d8",
       "version_major": 2,
       "version_minor": 0
      },
      "text/plain": [
       "Canvas(toolbar=Toolbar(toolitems=[('Home', 'Reset original view', 'home', 'home'), ('Back', 'Back to previous …"
      ]
     },
     "metadata": {},
     "output_type": "display_data"
    },
    {
     "data": {
      "application/vnd.jupyter.widget-view+json": {
       "model_id": "e5850fd48adb4a4ba0b07889522d42c4",
       "version_major": 2,
       "version_minor": 0
      },
      "text/plain": [
       "Canvas(toolbar=Toolbar(toolitems=[('Home', 'Reset original view', 'home', 'home'), ('Back', 'Back to previous …"
      ]
     },
     "metadata": {},
     "output_type": "display_data"
    }
   ],
   "source": [
    "for key in liste:\n",
    "    ref = data_all[key].cd_df.loc[:, 20]\n",
    "    sync1, assync1, = ana.correlation(data_all[key].cd_df, scaling='pareto', ref_spec=[ref], center=False)\n",
    "    sync2, assync2, = ana.correlation(data_all[key].cd_df, scaling='auto', ref_spec=[ref], center=False)\n",
    "    plot.heatmap(sync1, assync1, sync2, assync2, title=str(key), subtitle=[\"Synchronous Spectrum\", \"Asynchronous Spectrum\", \"Synchronous Spectrum\", \"Asynchronous Spectrum\"], y_label=\"wavelength 1 [nm]\", \n",
    "                 x_label=\"wavenlength 2 [nm]\", x_min=[215, 215, 215, 215], y_min=[215, 215, 215,215])"
   ]
  },
  {
   "cell_type": "markdown",
   "id": "cardiovascular-liabilities",
   "metadata": {},
   "source": [
    "### Heterogenous Spectrum\n",
    "\n",
    "*with pareto scaling and Control Measurement as Reference*"
   ]
  },
  {
   "cell_type": "code",
   "execution_count": 10,
   "id": "moral-forth",
   "metadata": {},
   "outputs": [
    {
     "name": "stdout",
     "output_type": "stream",
     "text": [
      "dict_keys(['Control_0M', 'Gdm2SO4_0.5M', 'Gdm2SO4_2M', 'Gdm2SO4_4M', 'GdmCl_0.5M', 'GdmCl_2M', 'GdmCl_2M_24h', 'GdmCl_4M', 'GdmCl_6M', 'GdmSCN_0.5M', 'GdmSCN_2M', 'Urea_2M'])\n"
     ]
    }
   ],
   "source": [
    "print(data_all.keys())"
   ]
  },
  {
   "cell_type": "code",
   "execution_count": 11,
   "id": "smaller-hungary",
   "metadata": {},
   "outputs": [],
   "source": [
    "plot_list = [\"Control_0M\", 'GdmCl_0.5M', 'GdmCl_2M',  'GdmCl_4M', 'GdmCl_6M',]\n",
    "anzahl = len(plot_list)\n",
    "t_min = 20 \n",
    "t_max = 90"
   ]
  },
  {
   "cell_type": "code",
   "execution_count": 12,
   "id": "appropriate-charm",
   "metadata": {},
   "outputs": [
    {
     "data": {
      "application/vnd.jupyter.widget-view+json": {
       "model_id": "c20f708326414bd29a7598f5275a4bab",
       "version_major": 2,
       "version_minor": 0
      },
      "text/plain": [
       "Canvas(toolbar=Toolbar(toolitems=[('Home', 'Reset original view', 'home', 'home'), ('Back', 'Back to previous …"
      ]
     },
     "metadata": {},
     "output_type": "display_data"
    },
    {
     "data": {
      "application/vnd.jupyter.widget-view+json": {
       "model_id": "930098a7c0dc4378872afa43f2e736c8",
       "version_major": 2,
       "version_minor": 0
      },
      "text/plain": [
       "Canvas(toolbar=Toolbar(toolitems=[('Home', 'Reset original view', 'home', 'home'), ('Back', 'Back to previous …"
      ]
     },
     "metadata": {},
     "output_type": "display_data"
    },
    {
     "data": {
      "application/vnd.jupyter.widget-view+json": {
       "model_id": "245833a7f12f4ca794689bfd5742d882",
       "version_major": 2,
       "version_minor": 0
      },
      "text/plain": [
       "Canvas(toolbar=Toolbar(toolitems=[('Home', 'Reset original view', 'home', 'home'), ('Back', 'Back to previous …"
      ]
     },
     "metadata": {},
     "output_type": "display_data"
    },
    {
     "data": {
      "application/vnd.jupyter.widget-view+json": {
       "model_id": "f3bb0e78e16b4ad2b125241839f7be53",
       "version_major": 2,
       "version_minor": 0
      },
      "text/plain": [
       "Canvas(toolbar=Toolbar(toolitems=[('Home', 'Reset original view', 'home', 'home'), ('Back', 'Back to previous …"
      ]
     },
     "metadata": {},
     "output_type": "display_data"
    },
    {
     "data": {
      "application/vnd.jupyter.widget-view+json": {
       "model_id": "cec6c1841fb346088c403513032c570e",
       "version_major": 2,
       "version_minor": 0
      },
      "text/plain": [
       "Canvas(toolbar=Toolbar(toolitems=[('Home', 'Reset original view', 'home', 'home'), ('Back', 'Back to previous …"
      ]
     },
     "metadata": {},
     "output_type": "display_data"
    },
    {
     "data": {
      "application/vnd.jupyter.widget-view+json": {
       "model_id": "af0e3c6d22cb4769b8b70fbcfef8da53",
       "version_major": 2,
       "version_minor": 0
      },
      "text/plain": [
       "Canvas(toolbar=Toolbar(toolitems=[('Home', 'Reset original view', 'home', 'home'), ('Back', 'Back to previous …"
      ]
     },
     "metadata": {},
     "output_type": "display_data"
    },
    {
     "data": {
      "application/vnd.jupyter.widget-view+json": {
       "model_id": "156cea4eae4a444180128b2fd7254b49",
       "version_major": 2,
       "version_minor": 0
      },
      "text/plain": [
       "Canvas(toolbar=Toolbar(toolitems=[('Home', 'Reset original view', 'home', 'home'), ('Back', 'Back to previous …"
      ]
     },
     "metadata": {},
     "output_type": "display_data"
    },
    {
     "data": {
      "application/vnd.jupyter.widget-view+json": {
       "model_id": "e6f33361be354f87aacbbf1162279426",
       "version_major": 2,
       "version_minor": 0
      },
      "text/plain": [
       "Canvas(toolbar=Toolbar(toolitems=[('Home', 'Reset original view', 'home', 'home'), ('Back', 'Back to previous …"
      ]
     },
     "metadata": {},
     "output_type": "display_data"
    },
    {
     "data": {
      "application/vnd.jupyter.widget-view+json": {
       "model_id": "326371a4c1b14eaaadbc61ebe070a71b",
       "version_major": 2,
       "version_minor": 0
      },
      "text/plain": [
       "Canvas(toolbar=Toolbar(toolitems=[('Home', 'Reset original view', 'home', 'home'), ('Back', 'Back to previous …"
      ]
     },
     "metadata": {},
     "output_type": "display_data"
    },
    {
     "data": {
      "application/vnd.jupyter.widget-view+json": {
       "model_id": "444ff818d20c4bd884192b693d43f575",
       "version_major": 2,
       "version_minor": 0
      },
      "text/plain": [
       "Canvas(toolbar=Toolbar(toolitems=[('Home', 'Reset original view', 'home', 'home'), ('Back', 'Back to previous …"
      ]
     },
     "metadata": {},
     "output_type": "display_data"
    }
   ],
   "source": [
    "for i in range(anzahl):\n",
    "    for j in range(anzahl):\n",
    "        if i >= j:\n",
    "            continue\n",
    "        title = \"Heterogenoues 2D Correlation between \" + plot_list[i] + \" \" + plot_list[j]\n",
    "        df1 = data_all[plot_list[i]].cd_df\n",
    "        df2 = data_all[plot_list[j]].cd_df\n",
    "        ref1 = df1.loc[:, 20]\n",
    "        ref2 = df2.loc[:, 20]\n",
    "        sync1, assync1 = ana.correlation(df1, df2, scaling='pareto', ref_spec=[ref1, ref2], center=False)\n",
    "        sync2, assync2 = ana.correlation(df1, df2, scaling='auto', ref_spec=[ref1, ref2], center=False)\n",
    "        plot.heatmap(sync1, assync1, sync2, assync2, title=title, subtitle=[\"Synchronous Spectrum\", \"Asynchronous Spectrum\", \"Synchronous Spectrum\", \"Asynchronous Spectrum\"], x_min=[215, 215, 215, 215], y_min=[215, 215, 215, 215],\n",
    "                y_label= plot_list[i] + \" WL[nm]\", x_label= plot_list[j] + \" WL[nm]\")"
   ]
  },
  {
   "cell_type": "markdown",
   "id": "standing-intent",
   "metadata": {},
   "source": [
    "## Sigmoid Fit and Melting Temperature"
   ]
  },
  {
   "cell_type": "code",
   "execution_count": 9,
   "id": "romance-quantity",
   "metadata": {},
   "outputs": [
    {
     "name": "stdout",
     "output_type": "stream",
     "text": [
      "[ 0.18677066 61.81964508] [0.01970739 0.53616891]\n",
      "[ 0.24733276 63.42770044] [0.02193106 0.35106698]\n",
      "[ 0.3        63.95213937] [0.02830562 0.31740657]\n",
      "[ 0.28173998 64.87467936] [0.02577176 0.3342244 ]\n",
      "[ 0.2364997  63.66483834] [0.01583726 0.27656016]\n",
      "[ 0.2939166  61.61989282] [0.01911078 0.21232322]\n",
      "[ 0.26911012 63.19314219] [0.02238773 0.30450951]\n",
      "[ 0.28883307 58.5239527 ] [0.02428439 0.29303091]\n",
      "[1.41701334e-02 5.00000000e+01] [1.8215488e-02 2.3711382e+01]\n",
      "[2.29854877e-02 7.00000000e+01] [ 0.01983874 16.65590283]\n",
      "[ 0.19424656 57.00573805] [0.02250736 0.56124733]\n"
     ]
    },
    {
     "data": {
      "application/vnd.jupyter.widget-view+json": {
       "model_id": "0984e941b3584fd1a8ecd4c88b731574",
       "version_major": 2,
       "version_minor": 0
      },
      "text/plain": [
       "Canvas(toolbar=Toolbar(toolitems=[('Home', 'Reset original view', 'home', 'home'), ('Back', 'Back to previous …"
      ]
     },
     "metadata": {},
     "output_type": "display_data"
    }
   ],
   "source": [
    "graph={}\n",
    "melt_T={}\n",
    "for key in data_all.keys():\n",
    "    fit, params, error = ana.sigmoid_fit(ana.normalize(data_all[key].cd_df))\n",
    "    x =  np.arange(20, 91, 0.1)\n",
    "    deriv = pd.DataFrame(ana.sigmoid_deriv(x, *params), index=x, columns=[\"deriv\"]).T\n",
    "    maximum = deriv.max(axis=1) \n",
    "    T = float(deriv.idxmax(axis=1))\n",
    "    maxi = pd.DataFrame({T:1}, index=[\"Maximum\"])\n",
    "    deriv = deriv.div(maximum, axis=0)\n",
    "    fit = pd.concat([fit, deriv], axis=0)\n",
    "    fit = pd.concat([fit, maxi], axis=0)\n",
    "    graph[key] = [fit]  \n",
    "    melt_T[key] = T\n",
    "plot.mult_func([247, \"fit\", \"deriv\", \"Maximum\"], *graph.values(),  title=\"Sigmoid-Fit and Derivative(adjusted)\",\n",
    "               subtitle=list(graph.keys()), marker=['x', '', '', 'x'], linestyle=[\"\",\"-\", \":\",\"\"])"
   ]
  },
  {
   "cell_type": "markdown",
   "id": "humanitarian-access",
   "metadata": {},
   "source": [
    "Plot the melting Temperatures for the Gdm2SO4 and GdmCl"
   ]
  },
  {
   "cell_type": "code",
   "execution_count": 10,
   "id": "virtual-animation",
   "metadata": {},
   "outputs": [
    {
     "data": {
      "application/vnd.jupyter.widget-view+json": {
       "model_id": "d39071176c72478593541bfafe76077c",
       "version_major": 2,
       "version_minor": 0
      },
      "text/plain": [
       "Canvas(toolbar=Toolbar(toolitems=[('Home', 'Reset original view', 'home', 'home'), ('Back', 'Back to previous …"
      ]
     },
     "metadata": {},
     "output_type": "display_data"
    }
   ],
   "source": [
    "x = [0., 0.5, 2., 4.]\n",
    "y = list(melt_T.values())[0:4]\n",
    "graph1 = pd.DataFrame(y, index=x, columns=[\"Gdm2SO4\"]).T\n",
    "\n",
    "y2 = [melt_T[\"Control_0M\"], melt_T[\"GdmCl_0.5M\"], melt_T[\"GdmCl_2M\"], melt_T[\"GdmCl_4M\"]]\n",
    "graph2 = pd.DataFrame(y2, index=x, columns=[\"GdmCl\"] ).T\n",
    "\n",
    "graph = pd.concat([graph1, graph2], axis=0)\n",
    "plot.mult_func([\"Gdm2SO4\", \"GdmCl\"], [graph], title=\"Melting Temperature\", subtitle=[\"\"], x_label=\"Concentration[M]\", y_label=\"Temperature[K]\")"
   ]
  },
  {
   "cell_type": "markdown",
   "id": "novel-brand",
   "metadata": {},
   "source": [
    "## Absorbance Values"
   ]
  },
  {
   "cell_type": "code",
   "execution_count": 9,
   "id": "complete-korea",
   "metadata": {},
   "outputs": [
    {
     "data": {
      "application/vnd.jupyter.widget-view+json": {
       "model_id": "fdc63d62cab245c485d6722ddd6284d1",
       "version_major": 2,
       "version_minor": 0
      },
      "text/plain": [
       "Canvas(toolbar=Toolbar(toolitems=[('Home', 'Reset original view', 'home', 'home'), ('Back', 'Back to previous …"
      ]
     },
     "metadata": {},
     "output_type": "display_data"
    }
   ],
   "source": [
    "absorbance = list(map(lambda x: data_all[x].absorb_df, list(data_all.keys())))\n",
    "plot.heatmap(*absorbance, subtitle=tuple(data_all.keys()), title=\"Absorbance Values\", x_min=[220]*len(data_all), c_min=[0]*len(data_all), c_max=[0.5]*len(data_all))"
   ]
  },
  {
   "cell_type": "code",
   "execution_count": 25,
   "id": "passing-million",
   "metadata": {},
   "outputs": [
    {
     "name": "stdout",
     "output_type": "stream",
     "text": [
      "[ 0.5        52.63142205] [0.0834194  0.33123171]\n"
     ]
    },
    {
     "data": {
      "application/vnd.jupyter.widget-view+json": {
       "model_id": "6d87f8fa12f84ff4875828b3d765e50c",
       "version_major": 2,
       "version_minor": 0
      },
      "text/plain": [
       "Canvas(toolbar=Toolbar(toolitems=[('Home', 'Reset original view', 'home', 'home'), ('Back', 'Back to previous …"
      ]
     },
     "metadata": {},
     "output_type": "display_data"
    }
   ],
   "source": [
    "graph={}\n",
    "melt_T={}\n",
    "error_a = {}\n",
    "error_b = {}\n",
    "coop={}\n",
    "elements = [\"Control_0M\", \"Gdm2SO4_0.5M\", \"Gdm2SO4_2M\", \"Gdm2SO4_4M\", \"Control_0M\", \"GdmCl_0.5M\", \"GdmCl_2M\", \"GdmCl_4M\" ]\n",
    "key = \"GdmCl_6M\"\n",
    "fit, params, std = ana.sigmoid_fit(ana.normalize(data_all[key].absorb_df.loc[:,:67]), wave=260, a_range=[0.2, 0.5])\n",
    "x =  np.arange(20, 91, 0.1)\n",
    "deriv = pd.DataFrame(ana.sigmoid_deriv(x, *params), index=x, columns=[\"deriv\"]).T\n",
    "maximum = deriv.max(axis=1) \n",
    "T = float(deriv.idxmax(axis=1))\n",
    "maxi = pd.DataFrame({T:1}, index=[\"Maximum\"])\n",
    "deriv = deriv.div(maximum, axis=0)\n",
    "fit = pd.concat([fit, deriv], axis=0)\n",
    "fit = pd.concat([fit, maxi], axis=0)\n",
    "graph[key] = [fit]  \n",
    "melt_T[key] = params[1]\n",
    "error_a[key] = std[0]\n",
    "error_b[key] = std[1]\n",
    "coop[key] = params[0] \n",
    "plot.mult_func([260, \"fit\", \"deriv\"], graph[\"GdmCl_6M\"],  title=\"Sigmoid-Fit and Derivative(adjusted)\", subtitle=list(graph.keys()), marker=['x', '', '', 'x'], linestyle=[\"\",\"-\", \":\",\"\"])"
   ]
  },
  {
   "cell_type": "code",
   "execution_count": 24,
   "id": "appreciated-payment",
   "metadata": {},
   "outputs": [
    {
     "name": "stdout",
     "output_type": "stream",
     "text": [
      "[ 0.41163539 64.15020882] [0.02314436 0.15271522]\n",
      "[ 0.36215912 65.86173799] [0.02185816 0.18932737]\n",
      "[ 0.44493928 65.49468303] [0.03352761 0.19683403]\n",
      "[ 0.41765738 66.38498811] [0.02650862 0.17467372]\n",
      "[ 0.41177395 65.56418843] [0.01837304 0.12537056]\n",
      "[ 0.36338404 63.19755227] [0.02700207 0.21562398]\n",
      "[ 0.38244298 64.79604632] [0.03395227 0.28041146]\n",
      "[ 0.3882771  59.95701763] [0.02664735 0.18265845]\n",
      "[ 0.2 50. ] [0.29051834 8.40098278]\n",
      "[ 0.2        63.29561482] [0.04565207 1.08081709]\n",
      "[ 0.2        62.18622927] [0.06441774 1.46286914]\n",
      "[ 0.39852856 59.86735295] [0.04122087 0.2420659 ]\n"
     ]
    },
    {
     "data": {
      "application/vnd.jupyter.widget-view+json": {
       "model_id": "55e3cf36dd2443e98badde04caaa7a9c",
       "version_major": 2,
       "version_minor": 0
      },
      "text/plain": [
       "Canvas(toolbar=Toolbar(toolitems=[('Home', 'Reset original view', 'home', 'home'), ('Back', 'Back to previous …"
      ]
     },
     "metadata": {},
     "output_type": "display_data"
    }
   ],
   "source": [
    "graph={}\n",
    "melt_T={}\n",
    "error_a = {}\n",
    "error_b = {}\n",
    "coop={}\n",
    "elements = [\"Control_0M\", \"Gdm2SO4_0.5M\", \"Gdm2SO4_2M\", \"Gdm2SO4_4M\", \"Control_0M\", \"GdmCl_0.5M\", \"GdmCl_2M\", \"GdmCl_4M\" ]\n",
    "for key in data_all.keys():\n",
    "    fit, params, std = ana.sigmoid_fit(ana.normalize(data_all[key].absorb_df), wave=260, a_range=[0.2, 0.5])\n",
    "    x =  np.arange(20, 91, 0.1)\n",
    "    deriv = pd.DataFrame(ana.sigmoid_deriv(x, *params), index=x, columns=[\"deriv\"]).T\n",
    "    maximum = deriv.max(axis=1) \n",
    "    T = float(deriv.idxmax(axis=1))\n",
    "    maxi = pd.DataFrame({T:1}, index=[\"Maximum\"])\n",
    "    deriv = deriv.div(maximum, axis=0)\n",
    "    fit = pd.concat([fit, deriv], axis=0)\n",
    "    fit = pd.concat([fit, maxi], axis=0)\n",
    "    graph[key] = [fit]  \n",
    "    melt_T[key] = params[1]\n",
    "    error_a[key] = std[0]\n",
    "    error_b[key] = std[1]\n",
    "    coop[key] = params[0] \n",
    "plot.mult_func([260, \"fit\", \"deriv\"], graph[\"GdmCl_4M\"],  title=\"Sigmoid-Fit and Derivative(adjusted)\", subtitle=list(graph.keys()), marker=['x', '', '', 'x'], linestyle=[\"\",\"-\", \":\",\"\"])"
   ]
  },
  {
   "cell_type": "code",
   "execution_count": 12,
   "id": "decimal-mileage",
   "metadata": {},
   "outputs": [
    {
     "data": {
      "application/vnd.jupyter.widget-view+json": {
       "model_id": "955173ae6cb84a188941e4bf00cc7231",
       "version_major": 2,
       "version_minor": 0
      },
      "text/plain": [
       "Canvas(toolbar=Toolbar(toolitems=[('Home', 'Reset original view', 'home', 'home'), ('Back', 'Back to previous …"
      ]
     },
     "metadata": {},
     "output_type": "display_data"
    }
   ],
   "source": [
    "x = [0., 0.5, 2., 4.]\n",
    "y = list(melt_T.values())[0:4]\n",
    "graph1 = pd.DataFrame(y, index=x, columns=[\"Gdm2SO4\"]).T\n",
    "\n",
    "y2 = [melt_T[\"Control_0M\"], melt_T[\"GdmCl_0.5M\"], melt_T[\"GdmCl_2M\"], melt_T[\"GdmCl_4M\"]]\n",
    "graph2 = pd.DataFrame(y2, index=x, columns=[\"GdmCl\"] ).T\n",
    "\n",
    "graph = pd.concat([graph1, graph2], axis=0)\n",
    "plot.mult_func([\"Gdm2SO4\", \"GdmCl\"], [graph], error=error_b, title=\"Melting Temperature\",\n",
    "               subtitle=[\"\"], x_label=\"Concentration[M]\", y_label=\"Temperature[°C]\")"
   ]
  },
  {
   "cell_type": "code",
   "execution_count": 13,
   "id": "bronze-permission",
   "metadata": {},
   "outputs": [
    {
     "data": {
      "application/vnd.jupyter.widget-view+json": {
       "model_id": "3d67f37a4ea941bda49b26e60f6830f5",
       "version_major": 2,
       "version_minor": 0
      },
      "text/plain": [
       "Canvas(toolbar=Toolbar(toolitems=[('Home', 'Reset original view', 'home', 'home'), ('Back', 'Back to previous …"
      ]
     },
     "metadata": {},
     "output_type": "display_data"
    }
   ],
   "source": [
    "x = [0., 0.5, 2., 4.]\n",
    "y = list(coop.values())[0:4]\n",
    "graph1 = pd.DataFrame(y, index=x, columns=[\"Gdm2SO4\"]).T\n",
    "\n",
    "y2 = [coop[\"Control_0M\"], coop[\"GdmCl_0.5M\"], coop[\"GdmCl_2M\"], coop[\"GdmCl_4M\"]]\n",
    "graph2 = pd.DataFrame(y2, index=x, columns=[\"GdmCl\"] ).T\n",
    "\n",
    "graph = pd.concat([graph1, graph2], axis=0)\n",
    "plot.mult_func([\"Gdm2SO4\", \"GdmCl\"], [graph], error=error_a, title=\"Variance\",\n",
    "               subtitle=[\"\"], x_label=\"Concentration[M]\", y_label=\"Temperature[K^2]\")"
   ]
  },
  {
   "cell_type": "markdown",
   "id": "numerical-auction",
   "metadata": {},
   "source": [
    "### LM Fit"
   ]
  },
  {
   "cell_type": "code",
   "execution_count": 8,
   "id": "filled-corps",
   "metadata": {},
   "outputs": [
    {
     "name": "stdout",
     "output_type": "stream",
     "text": [
      "[[Model]]\n",
      "    Model(s1)\n",
      "[[Fit Statistics]]\n",
      "    # fitting method   = leastsq\n",
      "    # function evals   = 31\n",
      "    # data points      = 16\n",
      "    # variables        = 4\n",
      "    chi-square         = 8.2538e-05\n",
      "    reduced chi-square = 6.8781e-06\n",
      "    Akaike info crit   = -186.797542\n",
      "    Bayesian info crit = -183.707187\n",
      "[[Variables]]\n",
      "    a:   0.13153960 +/- 0.00186326 (1.42%) (init = 0.13)\n",
      "    y0:  0.35994037 +/- 0.00101406 (0.28%) (init = 0.36)\n",
      "    k:   0.46427885 +/- 0.02562654 (5.52%) (init = 0.4)\n",
      "    xc:  64.0734366 +/- 0.13972373 (0.22%) (init = 63)\n",
      "[[Correlations]] (unreported correlations are < 0.100)\n",
      "    C(a, y0)  = -0.618\n",
      "    C(a, k)   = -0.528\n",
      "    C(y0, k)  =  0.374\n",
      "    C(y0, xc) =  0.283\n",
      "    C(a, xc)  =  0.228\n",
      "    C(k, xc)  = -0.212\n"
     ]
    },
    {
     "data": {
      "application/vnd.jupyter.widget-view+json": {
       "model_id": "b37bff325bf44e03816730fbc48c0640",
       "version_major": 2,
       "version_minor": 0
      },
      "text/plain": [
       "Canvas(toolbar=Toolbar(toolitems=[('Home', 'Reset original view', 'home', 'home'), ('Back', 'Back to previous …"
      ]
     },
     "metadata": {},
     "output_type": "display_data"
    },
    {
     "name": "stdout",
     "output_type": "stream",
     "text": [
      "[[Model]]\n",
      "    Model(s1)\n",
      "[[Fit Statistics]]\n",
      "    # fitting method   = leastsq\n",
      "    # function evals   = 31\n",
      "    # data points      = 15\n",
      "    # variables        = 4\n",
      "    chi-square         = 1.3729e-04\n",
      "    reduced chi-square = 1.2481e-05\n",
      "    Akaike info crit   = -166.021914\n",
      "    Bayesian info crit = -163.189713\n",
      "[[Variables]]\n",
      "    a:   0.15453355 +/- 0.00274112 (1.77%) (init = 0.13)\n",
      "    y0:  0.38110761 +/- 0.00145979 (0.38%) (init = 0.36)\n",
      "    k:   0.39130613 +/- 0.02400150 (6.13%) (init = 0.4)\n",
      "    xc:  65.4725786 +/- 0.19088378 (0.29%) (init = 63)\n",
      "[[Correlations]] (unreported correlations are < 0.100)\n",
      "    C(a, y0)  = -0.612\n",
      "    C(a, k)   = -0.554\n",
      "    C(y0, k)  =  0.405\n",
      "    C(y0, xc) =  0.303\n",
      "    C(a, xc)  =  0.248\n",
      "    C(k, xc)  = -0.208\n"
     ]
    },
    {
     "data": {
      "application/vnd.jupyter.widget-view+json": {
       "model_id": "cc4365661f7649a5911c2d918f81f27b",
       "version_major": 2,
       "version_minor": 0
      },
      "text/plain": [
       "Canvas(toolbar=Toolbar(toolitems=[('Home', 'Reset original view', 'home', 'home'), ('Back', 'Back to previous …"
      ]
     },
     "metadata": {},
     "output_type": "display_data"
    },
    {
     "name": "stdout",
     "output_type": "stream",
     "text": [
      "[[Model]]\n",
      "    Model(s1)\n",
      "[[Fit Statistics]]\n",
      "    # fitting method   = leastsq\n",
      "    # function evals   = 36\n",
      "    # data points      = 15\n",
      "    # variables        = 4\n",
      "    chi-square         = 1.8461e-04\n",
      "    reduced chi-square = 1.6782e-05\n",
      "    Akaike info crit   = -161.580034\n",
      "    Bayesian info crit = -158.747833\n",
      "[[Variables]]\n",
      "    a:   0.15740544 +/- 0.00292954 (1.86%) (init = 0.13)\n",
      "    y0:  0.39680299 +/- 0.00158938 (0.40%) (init = 0.36)\n",
      "    k:   0.49654664 +/- 0.03609880 (7.27%) (init = 0.4)\n",
      "    xc:  65.1436370 +/- 0.18224215 (0.28%) (init = 63)\n",
      "[[Correlations]] (unreported correlations are < 0.100)\n",
      "    C(a, y0)  = -0.601\n",
      "    C(a, k)   = -0.498\n",
      "    C(y0, k)  =  0.344\n",
      "    C(y0, xc) =  0.287\n",
      "    C(a, xc)  =  0.223\n",
      "    C(k, xc)  = -0.197\n"
     ]
    },
    {
     "data": {
      "application/vnd.jupyter.widget-view+json": {
       "model_id": "cb79f44bffe0404491e79343eb902662",
       "version_major": 2,
       "version_minor": 0
      },
      "text/plain": [
       "Canvas(toolbar=Toolbar(toolitems=[('Home', 'Reset original view', 'home', 'home'), ('Back', 'Back to previous …"
      ]
     },
     "metadata": {},
     "output_type": "display_data"
    },
    {
     "name": "stdout",
     "output_type": "stream",
     "text": [
      "[[Model]]\n",
      "    Model(s1)\n",
      "[[Fit Statistics]]\n",
      "    # fitting method   = leastsq\n",
      "    # function evals   = 36\n",
      "    # data points      = 15\n",
      "    # variables        = 4\n",
      "    chi-square         = 1.4698e-04\n",
      "    reduced chi-square = 1.3361e-05\n",
      "    Akaike info crit   = -164.999323\n",
      "    Bayesian info crit = -162.167122\n",
      "[[Variables]]\n",
      "    a:   0.16690263 +/- 0.00270715 (1.62%) (init = 0.13)\n",
      "    y0:  0.40099038 +/- 0.00141025 (0.35%) (init = 0.36)\n",
      "    k:   0.45759632 +/- 0.02803909 (6.13%) (init = 0.4)\n",
      "    xc:  66.0831397 +/- 0.16527096 (0.25%) (init = 63)\n",
      "[[Correlations]] (unreported correlations are < 0.100)\n",
      "    C(a, y0)  = -0.586\n",
      "    C(a, k)   = -0.506\n",
      "    C(y0, k)  =  0.369\n",
      "    C(y0, xc) =  0.288\n",
      "    C(a, xc)  =  0.243\n",
      "    C(k, xc)  = -0.177\n"
     ]
    },
    {
     "data": {
      "application/vnd.jupyter.widget-view+json": {
       "model_id": "d8a22d130b724f14b09e370cfea3f033",
       "version_major": 2,
       "version_minor": 0
      },
      "text/plain": [
       "Canvas(toolbar=Toolbar(toolitems=[('Home', 'Reset original view', 'home', 'home'), ('Back', 'Back to previous …"
      ]
     },
     "metadata": {},
     "output_type": "display_data"
    },
    {
     "name": "stdout",
     "output_type": "stream",
     "text": [
      "[[Model]]\n",
      "    Model(s1)\n",
      "[[Fit Statistics]]\n",
      "    # fitting method   = leastsq\n",
      "    # function evals   = 31\n",
      "    # data points      = 15\n",
      "    # variables        = 4\n",
      "    chi-square         = 6.1188e-05\n",
      "    reduced chi-square = 5.5626e-06\n",
      "    Akaike info crit   = -178.144079\n",
      "    Bayesian info crit = -175.311878\n",
      "[[Variables]]\n",
      "    a:   0.14053668 +/- 0.00177073 (1.26%) (init = 0.13)\n",
      "    y0:  0.37934873 +/- 9.5403e-04 (0.25%) (init = 0.36)\n",
      "    k:   0.43295854 +/- 0.01981686 (4.58%) (init = 0.4)\n",
      "    xc:  65.3488623 +/- 0.12976026 (0.20%) (init = 63)\n",
      "[[Correlations]] (unreported correlations are < 0.100)\n",
      "    C(a, y0)  = -0.611\n",
      "    C(a, k)   = -0.535\n",
      "    C(y0, k)  =  0.392\n",
      "    C(y0, xc) =  0.300\n",
      "    C(a, xc)  =  0.231\n",
      "    C(k, xc)  = -0.193\n"
     ]
    },
    {
     "data": {
      "application/vnd.jupyter.widget-view+json": {
       "model_id": "c01fefb69fd04624be0bf439096141b0",
       "version_major": 2,
       "version_minor": 0
      },
      "text/plain": [
       "Canvas(toolbar=Toolbar(toolitems=[('Home', 'Reset original view', 'home', 'home'), ('Back', 'Back to previous …"
      ]
     },
     "metadata": {},
     "output_type": "display_data"
    },
    {
     "name": "stdout",
     "output_type": "stream",
     "text": [
      "[[Model]]\n",
      "    Model(s1)\n",
      "[[Fit Statistics]]\n",
      "    # fitting method   = leastsq\n",
      "    # function evals   = 26\n",
      "    # data points      = 15\n",
      "    # variables        = 4\n",
      "    chi-square         = 1.2331e-04\n",
      "    reduced chi-square = 1.1210e-05\n",
      "    Akaike info crit   = -167.633485\n",
      "    Bayesian info crit = -164.801284\n",
      "[[Variables]]\n",
      "    a:   0.12733648 +/- 0.00244340 (1.92%) (init = 0.13)\n",
      "    y0:  0.34448617 +/- 0.00145573 (0.42%) (init = 0.36)\n",
      "    k:   0.42246798 +/- 0.02988255 (7.07%) (init = 0.4)\n",
      "    xc:  62.7925723 +/- 0.18972587 (0.30%) (init = 63)\n",
      "[[Correlations]] (unreported correlations are < 0.100)\n",
      "    C(a, y0)  = -0.664\n",
      "    C(a, k)   = -0.537\n",
      "    C(y0, k)  =  0.369\n",
      "    C(y0, xc) =  0.339\n",
      "    C(k, xc)  = -0.168\n",
      "    C(a, xc)  =  0.160\n"
     ]
    },
    {
     "data": {
      "application/vnd.jupyter.widget-view+json": {
       "model_id": "2b6a780a742446aab16813fce649f7fc",
       "version_major": 2,
       "version_minor": 0
      },
      "text/plain": [
       "Canvas(toolbar=Toolbar(toolitems=[('Home', 'Reset original view', 'home', 'home'), ('Back', 'Back to previous …"
      ]
     },
     "metadata": {},
     "output_type": "display_data"
    },
    {
     "name": "stdout",
     "output_type": "stream",
     "text": [
      "[[Model]]\n",
      "    Model(s1)\n",
      "[[Fit Statistics]]\n",
      "    # fitting method   = leastsq\n",
      "    # function evals   = 41\n",
      "    # data points      = 14\n",
      "    # variables        = 4\n",
      "    chi-square         = 1.6693e-04\n",
      "    reduced chi-square = 1.6693e-05\n",
      "    Akaike info crit   = -150.718316\n",
      "    Bayesian info crit = -148.162087\n",
      "[[Variables]]\n",
      "    a:   0.14251616 +/- 0.00302538 (2.12%) (init = 0.13)\n",
      "    y0:  0.37814924 +/- 0.00168889 (0.45%) (init = 0.36)\n",
      "    k:   0.46932902 +/- 0.04992622 (10.64%) (init = 0.4)\n",
      "    xc:  64.3595607 +/- 0.24980822 (0.39%) (init = 63)\n",
      "[[Correlations]] (unreported correlations are < 0.100)\n",
      "    C(a, y0)  = -0.642\n",
      "    C(a, k)   = -0.516\n",
      "    C(k, xc)  = -0.510\n",
      "    C(y0, k)  =  0.381\n",
      "    C(a, xc)  =  0.277\n",
      "    C(y0, xc) =  0.149\n"
     ]
    },
    {
     "data": {
      "application/vnd.jupyter.widget-view+json": {
       "model_id": "e41aabf25a05413996b36a2e5f823c6a",
       "version_major": 2,
       "version_minor": 0
      },
      "text/plain": [
       "Canvas(toolbar=Toolbar(toolitems=[('Home', 'Reset original view', 'home', 'home'), ('Back', 'Back to previous …"
      ]
     },
     "metadata": {},
     "output_type": "display_data"
    },
    {
     "name": "stdout",
     "output_type": "stream",
     "text": [
      "[[Model]]\n",
      "    Model(s1)\n",
      "[[Fit Statistics]]\n",
      "    # fitting method   = leastsq\n",
      "    # function evals   = 41\n",
      "    # data points      = 16\n",
      "    # variables        = 4\n",
      "    chi-square         = 1.6417e-04\n",
      "    reduced chi-square = 1.3681e-05\n",
      "    Akaike info crit   = -175.795251\n",
      "    Bayesian info crit = -172.704896\n",
      "[[Variables]]\n",
      "    a:   0.15628335 +/- 0.00254249 (1.63%) (init = 0.13)\n",
      "    y0:  0.40464104 +/- 0.00164746 (0.41%) (init = 0.36)\n",
      "    k:   0.43634504 +/- 0.02704844 (6.20%) (init = 0.4)\n",
      "    xc:  59.6154686 +/- 0.15797674 (0.26%) (init = 63)\n",
      "[[Correlations]] (unreported correlations are < 0.100)\n",
      "    C(a, y0)  = -0.712\n",
      "    C(a, k)   = -0.533\n",
      "    C(y0, xc) =  0.385\n",
      "    C(y0, k)  =  0.373\n"
     ]
    },
    {
     "data": {
      "application/vnd.jupyter.widget-view+json": {
       "model_id": "67029269265542b99e2d74e568e70985",
       "version_major": 2,
       "version_minor": 0
      },
      "text/plain": [
       "Canvas(toolbar=Toolbar(toolitems=[('Home', 'Reset original view', 'home', 'home'), ('Back', 'Back to previous …"
      ]
     },
     "metadata": {},
     "output_type": "display_data"
    },
    {
     "name": "stdout",
     "output_type": "stream",
     "text": [
      "[[Model]]\n",
      "    Model(s1)\n",
      "[[Fit Statistics]]\n",
      "    # fitting method   = leastsq\n",
      "    # function evals   = 198\n",
      "    # data points      = 15\n",
      "    # variables        = 4\n",
      "    chi-square         = 0.07753863\n",
      "    reduced chi-square = 0.00704897\n",
      "    Akaike info crit   = -70.9754381\n",
      "    Bayesian info crit = -68.1432373\n",
      "[[Variables]]\n",
      "    a:   3.38993655 +/- 0.05468520 (1.61%) (init = 0.13)\n",
      "    y0: -2.97479000 +/- 0.04847324 (1.63%) (init = 0.36)\n",
      "    k:  -30.2777223 +/- 4.5466e+11 (1501629400260.54%) (init = 0.4)\n",
      "    xc:  69.5673594 +/- 9.3715e+09 (13471117309.16%) (init = 63)\n",
      "[[Correlations]] (unreported correlations are < 0.100)\n",
      "    C(k, xc) = -1.000\n",
      "    C(a, y0) = -0.886\n"
     ]
    },
    {
     "name": "stderr",
     "output_type": "stream",
     "text": [
      "C:\\Users\\crazy\\PycharmProjects\\2Dcorrelation\\analise.py:622: RuntimeWarning: overflow encountered in exp\n",
      "  f = (a / (1 + np.exp(-k * (x - xc)))) + y0\n"
     ]
    },
    {
     "data": {
      "application/vnd.jupyter.widget-view+json": {
       "model_id": "9f1a07b8fdaf4a3e8afd29ae95fad027",
       "version_major": 2,
       "version_minor": 0
      },
      "text/plain": [
       "Canvas(toolbar=Toolbar(toolitems=[('Home', 'Reset original view', 'home', 'home'), ('Back', 'Back to previous …"
      ]
     },
     "metadata": {},
     "output_type": "display_data"
    },
    {
     "name": "stdout",
     "output_type": "stream",
     "text": [
      "[[Model]]\n",
      "    Model(s1)\n",
      "[[Fit Statistics]]\n",
      "    # fitting method   = leastsq\n",
      "    # function evals   = 47\n",
      "    # data points      = 15\n",
      "    # variables        = 4\n",
      "    chi-square         = 0.00233272\n",
      "    reduced chi-square = 2.1207e-04\n",
      "    Akaike info crit   = -123.531582\n",
      "    Bayesian info crit = -120.699381\n",
      "[[Variables]]\n",
      "    a:   0.69355007 +/- 0.06429640 (9.27%) (init = 0.13)\n",
      "    y0:  0.37594905 +/- 0.01588067 (4.22%) (init = 0.36)\n",
      "    k:   0.07766870 +/- 0.00944487 (12.16%) (init = 0.4)\n",
      "    xc:  69.6402702 +/- 2.08140299 (2.99%) (init = 63)\n",
      "[[Correlations]] (unreported correlations are < 0.100)\n",
      "    C(a, k)   = -0.946\n",
      "    C(a, xc)  =  0.877\n",
      "    C(k, xc)  = -0.801\n",
      "    C(y0, k)  =  0.798\n",
      "    C(a, y0)  = -0.752\n",
      "    C(y0, xc) = -0.374\n"
     ]
    },
    {
     "data": {
      "application/vnd.jupyter.widget-view+json": {
       "model_id": "dbee2307b88048bfab8f26aaa915268f",
       "version_major": 2,
       "version_minor": 0
      },
      "text/plain": [
       "Canvas(toolbar=Toolbar(toolitems=[('Home', 'Reset original view', 'home', 'home'), ('Back', 'Back to previous …"
      ]
     },
     "metadata": {},
     "output_type": "display_data"
    },
    {
     "name": "stdout",
     "output_type": "stream",
     "text": [
      "[[Model]]\n",
      "    Model(s1)\n",
      "[[Fit Statistics]]\n",
      "    # fitting method   = leastsq\n",
      "    # function evals   = 632\n",
      "    # data points      = 15\n",
      "    # variables        = 4\n",
      "    chi-square         = 0.00210323\n",
      "    reduced chi-square = 1.9120e-04\n",
      "    Akaike info crit   = -125.084989\n",
      "    Bayesian info crit = -122.252788\n",
      "[[Variables]]\n",
      "    a:   31.8133881 +/- 148.541436 (466.91%) (init = 0.13)\n",
      "    y0: -0.70786515 +/- 0.58698409 (82.92%) (init = 0.36)\n",
      "    k:   0.01418524 +/- 0.00851446 (60.02%) (init = 0.4)\n",
      "    xc:  253.331579 +/- 443.623330 (175.12%) (init = 63)\n",
      "[[Correlations]] (unreported correlations are < 0.100)\n",
      "    C(a, xc)  =  1.000\n",
      "    C(k, xc)  = -0.997\n",
      "    C(a, k)   = -0.996\n",
      "    C(y0, k)  =  0.996\n",
      "    C(y0, xc) = -0.987\n",
      "    C(a, y0)  = -0.985\n"
     ]
    },
    {
     "data": {
      "application/vnd.jupyter.widget-view+json": {
       "model_id": "dc0020ec1f1a4299bbb6a5eb89e5fc08",
       "version_major": 2,
       "version_minor": 0
      },
      "text/plain": [
       "Canvas(toolbar=Toolbar(toolitems=[('Home', 'Reset original view', 'home', 'home'), ('Back', 'Back to previous …"
      ]
     },
     "metadata": {},
     "output_type": "display_data"
    },
    {
     "name": "stdout",
     "output_type": "stream",
     "text": [
      "[[Model]]\n",
      "    Model(s1)\n",
      "[[Fit Statistics]]\n",
      "    # fitting method   = leastsq\n",
      "    # function evals   = 36\n",
      "    # data points      = 14\n",
      "    # variables        = 4\n",
      "    chi-square         = 1.9823e-04\n",
      "    reduced chi-square = 1.9823e-05\n",
      "    Akaike info crit   = -148.312240\n",
      "    Bayesian info crit = -145.756011\n",
      "[[Variables]]\n",
      "    a:   0.14138171 +/- 0.00308698 (2.18%) (init = 0.13)\n",
      "    y0:  0.36150581 +/- 0.00202181 (0.56%) (init = 0.36)\n",
      "    k:   0.47245737 +/- 0.04046693 (8.57%) (init = 0.4)\n",
      "    xc:  59.6371296 +/- 0.19962892 (0.33%) (init = 63)\n",
      "[[Correlations]] (unreported correlations are < 0.100)\n",
      "    C(a, y0)  = -0.689\n",
      "    C(a, k)   = -0.441\n",
      "    C(y0, xc) =  0.379\n",
      "    C(y0, k)  =  0.289\n"
     ]
    },
    {
     "data": {
      "application/vnd.jupyter.widget-view+json": {
       "model_id": "7eaaf3c781bd450ca5f4a5ef34f012d3",
       "version_major": 2,
       "version_minor": 0
      },
      "text/plain": [
       "Canvas(toolbar=Toolbar(toolitems=[('Home', 'Reset original view', 'home', 'home'), ('Back', 'Back to previous …"
      ]
     },
     "metadata": {},
     "output_type": "display_data"
    }
   ],
   "source": [
    "# Parameter\n",
    "sample = \"Control_0M\"\n",
    "melt_T = {}\n",
    "error_T = {}\n",
    "residual = pd.DataFrame(index=[\"R-Wert\"])\n",
    "for key in data_all.keys():\n",
    "    fit, params, params_error = ana.lm_fit(data_all[key].absorb_df, guess=[0.13, 0.36, 0.4])\n",
    "    melt_T[key] = params['xc']\n",
    "    error_T[key] = params_error\n",
    "    residual[key] = [1 - (np.sum(fit[\"residual\"]**2)/np.sum((fit[260] - fit[260].mean(axis=0))**2))]\n",
    "    plot.mult_func([260, \"fit\"], [fit], error={\"fit\": fit[\"error\"]}, swap=True, \n",
    "                   x_label=\"Temperature [°C]\", y_label=\"Absorbance [%]\", label=[\"data\", \"sigmoid fit\", 'melting temperature'], marker=['o', ''], linestyle=[\" \", \"-\"],\n",
    "                  subtitle=[\"Hyperchromatic shift\"], title=key, vertical_line=[params['xc']])"
   ]
  },
  {
   "cell_type": "code",
   "execution_count": 9,
   "id": "chemical-calvin",
   "metadata": {},
   "outputs": [
    {
     "name": "stdout",
     "output_type": "stream",
     "text": [
      "[[Model]]\n",
      "    Model(s1)\n",
      "[[Fit Statistics]]\n",
      "    # fitting method   = leastsq\n",
      "    # function evals   = 62\n",
      "    # data points      = 11\n",
      "    # variables        = 4\n",
      "    chi-square         = 1.4727e-04\n",
      "    reduced chi-square = 2.1038e-05\n",
      "    Akaike info crit   = -115.432890\n",
      "    Bayesian info crit = -113.841309\n",
      "[[Variables]]\n",
      "    a:   0.17876816 +/- 0.00313028 (1.75%) (init = 0.13)\n",
      "    y0:  0.32179511 +/- 0.00230700 (0.72%) (init = 0.36)\n",
      "    k:   0.94413078 +/- 0.11034248 (11.69%) (init = 0.4)\n",
      "    xc:  52.3436456 +/- 0.12753258 (0.24%) (init = 63)\n",
      "[[Correlations]] (unreported correlations are < 0.100)\n",
      "    C(a, y0)  = -0.750\n",
      "    C(y0, xc) =  0.367\n",
      "    C(y0, k)  =  0.348\n",
      "    C(a, k)   = -0.336\n",
      "    C(k, xc)  =  0.308\n",
      "    C(a, xc)  = -0.120\n"
     ]
    },
    {
     "data": {
      "application/vnd.jupyter.widget-view+json": {
       "model_id": "1457f7cea08a4751b224589e0d4943a0",
       "version_major": 2,
       "version_minor": 0
      },
      "text/plain": [
       "Canvas(toolbar=Toolbar(toolitems=[('Home', 'Reset original view', 'home', 'home'), ('Back', 'Back to previous …"
      ]
     },
     "metadata": {},
     "output_type": "display_data"
    }
   ],
   "source": [
    "key =  \"GdmCl_6M\"\n",
    "\n",
    "fit, params, params_error = ana.lm_fit(data_all[key].absorb_df.loc[:,:67], guess=[0.13, 0.36, 0.4])\n",
    "melt_T[key] = params['xc']\n",
    "error_T[key] = params_error\n",
    "residual[key] = [1 - (np.sum(fit[\"residual\"]**2)/np.sum((fit[260] - fit[260].mean(axis=0))**2))]\n",
    "plot.mult_func([260, \"fit\"], [fit], error={\"fit\": fit[\"error\"]}, swap=True, \n",
    "x_label=\"Temperature [°C]\", y_label=\"Absorbance [%]\", label=[\"data\", \"sigmoid fit\", 'melting temperature'], marker=['o', ''], linestyle=[\" \", \"-\"],\n",
    "subtitle=[\"Hyperchromatic shift\"], title=key, vertical_line=[params['xc']])"
   ]
  },
  {
   "cell_type": "code",
   "execution_count": 21,
   "id": "severe-millennium",
   "metadata": {},
   "outputs": [
    {
     "name": "stdout",
     "output_type": "stream",
     "text": [
      "[64.07343657097545, 65.4725786302147, 65.14363697636958, 66.08313970889418, None]\n"
     ]
    },
    {
     "data": {
      "application/vnd.jupyter.widget-view+json": {
       "model_id": "8029e4999f564a1f84ba13e1990d35dc",
       "version_major": 2,
       "version_minor": 0
      },
      "text/plain": [
       "Canvas(toolbar=Toolbar(toolitems=[('Home', 'Reset original view', 'home', 'home'), ('Back', 'Back to previous …"
      ]
     },
     "metadata": {},
     "output_type": "display_data"
    }
   ],
   "source": [
    "x = [0., 0.5, 2., 4., 6.]\n",
    "y = list(melt_T.values())[0:4]\n",
    "y.append(None)\n",
    "print(y)\n",
    "y_error = list(error_T.values())[0:4]\n",
    "graph1 = pd.DataFrame(y, index=x, columns=[\"Gdm2SO4\"]).T\n",
    "error= {\"Gdm2SO4\":y_error}\n",
    "\n",
    "y2 = [melt_T[\"Control_0M\"], melt_T[\"GdmCl_0.5M\"], melt_T[\"GdmCl_2M\"], melt_T[\"GdmCl_4M\"], melt_T[\"GdmCl_6M\"]]\n",
    "y2_error = [error_T[\"Control_0M\"], error_T[\"GdmCl_0.5M\"], error_T[\"GdmCl_2M\"], error_T[\"GdmCl_4M\"], error_T[\"GdmCl_6M\"]]\n",
    "graph2 = pd.DataFrame(y2, index=x, columns=[\"GdmCl\"] ).T\n",
    "error[\"GdmCl\"] = y2_error \n",
    "\n",
    "graph = pd.concat([graph1, graph2], axis=0)\n",
    "plot.mult_func([\"Gdm2SO4\", \"GdmCl\"], [graph], title=\"Melting Temperature\", subtitle=[\"\"], x_label=\"Concentration [M]\", y_label=\"Temperature [°C]\", error=error_T)"
   ]
  },
  {
   "cell_type": "markdown",
   "id": "understood-humanity",
   "metadata": {},
   "source": [
    "# TD Calculations\n"
   ]
  },
  {
   "cell_type": "markdown",
   "id": "pressed-wallet",
   "metadata": {},
   "source": [
    "<div class=\"alert alert-block alert-info\">\n",
    "<b>Info:</b> Steps after Mergny, J.-L., & Lacroix, L. (2003). Analysis of Thermal Melting Curves. In OLIGONUCLEOTIDES (Vol. 13). www.liebertpub.com\n",
    "</div>"
   ]
  },
  {
   "cell_type": "markdown",
   "id": "complete-carry",
   "metadata": {},
   "source": [
    "**Hypochromatic Shift at 260nm  wit Low and High Plateau Fit**"
   ]
  },
  {
   "cell_type": "code",
   "execution_count": 8,
   "id": "increasing-doctrine",
   "metadata": {},
   "outputs": [
    {
     "name": "stdout",
     "output_type": "stream",
     "text": [
      "[[Model]]\n",
      "    Model(linear)\n",
      "[[Fit Statistics]]\n",
      "    # fitting method   = leastsq\n",
      "    # function evals   = 7\n",
      "    # data points      = 3\n",
      "    # variables        = 2\n",
      "    chi-square         = 3.7600e-07\n",
      "    reduced chi-square = 3.7600e-07\n",
      "    Akaike info crit   = -43.6768616\n",
      "    Bayesian info crit = -45.4796371\n",
      "[[Variables]]\n",
      "    m:   9.8400e-05 +/- 4.3359e-05 (44.06%) (init = 0.0001)\n",
      "    y0:  0.35534533 +/- 0.00134808 (0.38%) (init = 0.35)\n",
      "[[Correlations]] (unreported correlations are < 0.100)\n",
      "    C(m, y0) = -0.965\n",
      "[[Model]]\n",
      "    Model(linear)\n",
      "[[Fit Statistics]]\n",
      "    # fitting method   = leastsq\n",
      "    # function evals   = 7\n",
      "    # data points      = 3\n",
      "    # variables        = 2\n",
      "    chi-square         = 1.3374e-05\n",
      "    reduced chi-square = 1.3374e-05\n",
      "    Akaike info crit   = -32.9623650\n",
      "    Bayesian info crit = -34.7651404\n",
      "[[Variables]]\n",
      "    m:   7.5960e-04 +/- 2.5860e-04 (34.04%) (init = 0.0001)\n",
      "    y0:  0.42851300 +/- 0.02079508 (4.85%) (init = 0.48)\n",
      "[[Correlations]] (unreported correlations are < 0.100)\n",
      "    C(m, y0) = -0.995\n",
      "[[Model]]\n",
      "    Model(s1)\n",
      "[[Fit Statistics]]\n",
      "    # fitting method   = leastsq\n",
      "    # function evals   = 26\n",
      "    # data points      = 16\n",
      "    # variables        = 4\n",
      "    chi-square         = 8.2538e-05\n",
      "    reduced chi-square = 6.8781e-06\n",
      "    Akaike info crit   = -186.797542\n",
      "    Bayesian info crit = -183.707187\n",
      "[[Variables]]\n",
      "    a:   0.13153935 +/- 0.00186321 (1.42%) (init = 0.2)\n",
      "    y0:  0.35994043 +/- 0.00101404 (0.28%) (init = 0.35)\n",
      "    k:   0.46428497 +/- 0.02562977 (5.52%) (init = 0.5)\n",
      "    xc:  64.0734193 +/- 0.13971623 (0.22%) (init = 63)\n",
      "[[Correlations]] (unreported correlations are < 0.100)\n",
      "    C(a, y0)  = -0.618\n",
      "    C(a, k)   = -0.528\n",
      "    C(y0, k)  =  0.374\n",
      "    C(y0, xc) =  0.283\n",
      "    C(a, xc)  =  0.228\n",
      "    C(k, xc)  = -0.212\n"
     ]
    }
   ],
   "source": [
    "raw = data_all[\"Control_0M\"].absorb_df\n",
    "low_fit, params_lowfit = ana.lm_fit(raw[[20,30,40]], f_type='linear', guess=[0.0001, 0.35])\n",
    "high_fit, params_highfit = ana.lm_fit(raw[[70, 80,90]], f_type='linear', guess=[0.0001, 0.48])\n",
    "sig_fit, params_sigfit = ana.lm_fit(raw, f_type='s1', guess=[0.2, 0.35, 0.5, 63])"
   ]
  },
  {
   "cell_type": "markdown",
   "id": "acknowledged-scheme",
   "metadata": {},
   "source": [
    "**Calculating Fraction Folded with High Plateu adjusted manually**"
   ]
  },
  {
   "cell_type": "code",
   "execution_count": 9,
   "id": "healthy-inflation",
   "metadata": {},
   "outputs": [
    {
     "data": {
      "application/vnd.jupyter.widget-view+json": {
       "model_id": "65d8a6ab0e8e4dbaa995d21b220fbb96",
       "version_major": 2,
       "version_minor": 0
      },
      "text/plain": [
       "Canvas(toolbar=Toolbar(toolitems=[('Home', 'Reset original view', 'home', 'home'), ('Back', 'Back to previous …"
      ]
     },
     "metadata": {},
     "output_type": "display_data"
    },
    {
     "data": {
      "application/vnd.jupyter.widget-view+json": {
       "model_id": "076344cdb4e34e8d893c73c00707e0d9",
       "version_major": 2,
       "version_minor": 0
      },
      "text/plain": [
       "Canvas(toolbar=Toolbar(toolitems=[('Home', 'Reset original view', 'home', 'home'), ('Back', 'Back to previous …"
      ]
     },
     "metadata": {},
     "output_type": "display_data"
    }
   ],
   "source": [
    "data_treated = pd.DataFrame(raw.loc[260])\n",
    "data_treated[\"low_fit\"] = ana.linear(np.array(raw.columns), *params_lowfit.values())\n",
    "data_treated[\"high_fit\"] = ana.linear(np.array(raw.columns), 0.0004495999948082116, 0.45451300041966917)\n",
    "data_treated[\"intermediate\"] = 0.5*(data_treated[\"low_fit\"] + data_treated[\"high_fit\"])\n",
    "data_treated[\"fit\"] = sig_fit[\"fit\"]\n",
    "data_treated[\"baseline_fit\"] = (data_treated[\"high_fit\"] - data_treated[260])/(data_treated[\"high_fit\"] - data_treated[\"low_fit\"])\n",
    "data_treated[\"normed_data\"] = 1- ana.normalize(raw).loc[260].to_numpy()\n",
    "data_treated[\"log_fit\"] = 1 - ana.normalize(data_treated)[\"fit\"]\n",
    "plot.mult_func([260, \"low_fit\", \"high_fit\", \"intermediate\", \"fit\"], [data_treated.T], subtitle=[\"\"], title=\"Hypochromatic shift with Plaetau Fits\", y_label=\"Absorbance at 260nm\")\n",
    "plot.mult_func([\"baseline_fit\", \"normed_data\", \"log_fit\"], [data_treated.T], subtitle=[\"\"],  title=\"Fraction folded calculated by Plateu fits and Normalization\", y_label=\"Fraction folded\")\n"
   ]
  },
  {
   "cell_type": "markdown",
   "id": "elect-treasurer",
   "metadata": {},
   "source": [
    "**calulate K and ln K for different methods**"
   ]
  },
  {
   "cell_type": "code",
   "execution_count": 10,
   "id": "worldwide-intro",
   "metadata": {},
   "outputs": [
    {
     "name": "stdout",
     "output_type": "stream",
     "text": [
      "[[Model]]\n",
      "    Model(linear)\n",
      "[[Fit Statistics]]\n",
      "    # fitting method   = leastsq\n",
      "    # function evals   = 6\n",
      "    # data points      = 5\n",
      "    # variables        = 2\n",
      "    chi-square         = 0.66852599\n",
      "    reduced chi-square = 0.22284200\n",
      "    Akaike info crit   = -6.06058962\n",
      "    Bayesian info crit = -6.84171380\n",
      "[[Variables]]\n",
      "    m:   82573.1995 +/- 6790.09991 (8.22%) (init = 80000)\n",
      "    y0: -226.953410 +/- 20.1072530 (8.86%) (init = -2)\n",
      "[[Correlations]] (unreported correlations are < 0.100)\n",
      "    C(m, y0) = -1.000\n"
     ]
    },
    {
     "name": "stderr",
     "output_type": "stream",
     "text": [
      "C:\\Users\\crazy\\anaconda3\\envs\\TestEnv\\lib\\site-packages\\pandas\\core\\arraylike.py:358: RuntimeWarning: invalid value encountered in log\n",
      "  result = getattr(ufunc, method)(*inputs, **kwargs)\n"
     ]
    },
    {
     "data": {
      "application/vnd.jupyter.widget-view+json": {
       "model_id": "f8d4f87a29cd4eeab65862dd40a0b70c",
       "version_major": 2,
       "version_minor": 0
      },
      "text/plain": [
       "Canvas(toolbar=Toolbar(toolitems=[('Home', 'Reset original view', 'home', 'home'), ('Back', 'Back to previous …"
      ]
     },
     "metadata": {},
     "output_type": "display_data"
    }
   ],
   "source": [
    "c_total = 40 * (10**-9) # # total strand concentration in molar\n",
    "\n",
    "# get K and ln K\n",
    "base_method = pd.DataFrame(data_treated[\"baseline_fit\"].to_numpy(), index=[20,30,40,45,50,56,56,58,60,62,64,67,70,75,80, 90], columns=[\"theta\"])\n",
    "base_method['theta'] = base_method['theta'].astype(float)\n",
    "\n",
    "# here equation depending on reaction type, choosen: Bimolecular, complementary strand types\n",
    "base_method[\"K\"] = (base_method[\"theta\"])/(c_total*((1 - base_method[\"theta\"])**2))\n",
    "base_method['ln K'] = np.log(base_method['K'])\n",
    "\n",
    "# select values in confidence values 0.1 < theta < 0.9\n",
    "base_method  = base_method.loc[60:70]\n",
    "# change celsius to kelvin\n",
    "base_method = base_method.set_index(1/(base_method.index + 273.15))\n",
    "\n",
    "# make linear fit and plot\n",
    "enthalpy_base, params_base = ana.lm_fit(base_method.T, wave=\"ln K\", f_type='linear', guess=[80000, -2])\n",
    "error = {\"fit\" : enthalpy_base[\"error\"].to_numpy()}\n",
    "plot.mult_func([\"ln K\", \"fit\"], [enthalpy_base.T], error=error, x_label=\"1/T [1/Kelvin]\", y_label=\"ln K\")"
   ]
  },
  {
   "cell_type": "code",
   "execution_count": 11,
   "id": "beginning-lesson",
   "metadata": {},
   "outputs": [
    {
     "name": "stdout",
     "output_type": "stream",
     "text": [
      "[[Model]]\n",
      "    Model(linear)\n",
      "[[Fit Statistics]]\n",
      "    # fitting method   = leastsq\n",
      "    # function evals   = 6\n",
      "    # data points      = 5\n",
      "    # variables        = 2\n",
      "    chi-square         = 0.66852599\n",
      "    reduced chi-square = 0.22284200\n",
      "    Akaike info crit   = -6.06058962\n",
      "    Bayesian info crit = -6.84171380\n",
      "[[Variables]]\n",
      "    m:   82573.1995 +/- 6790.09991 (8.22%) (init = 80000)\n",
      "    y0: -226.953410 +/- 20.1072530 (8.86%) (init = -2)\n",
      "[[Correlations]] (unreported correlations are < 0.100)\n",
      "    C(m, y0) = -1.000\n"
     ]
    },
    {
     "name": "stderr",
     "output_type": "stream",
     "text": [
      "C:\\Users\\crazy\\anaconda3\\envs\\TestEnv\\lib\\site-packages\\pandas\\core\\arraylike.py:358: RuntimeWarning: divide by zero encountered in log\n",
      "  result = getattr(ufunc, method)(*inputs, **kwargs)\n"
     ]
    },
    {
     "data": {
      "application/vnd.jupyter.widget-view+json": {
       "model_id": "3b03dbe7c0de4ee58e9732a4d5d5cbc8",
       "version_major": 2,
       "version_minor": 0
      },
      "text/plain": [
       "Canvas(toolbar=Toolbar(toolitems=[('Home', 'Reset original view', 'home', 'home'), ('Back', 'Back to previous …"
      ]
     },
     "metadata": {},
     "output_type": "display_data"
    }
   ],
   "source": [
    "c_total = 40 * (10**-9) # # total strand concentration in molar\n",
    "\n",
    "# get K and ln K\n",
    "normed_method = pd.DataFrame(data_treated[\"normed_data\"].to_numpy(), index=[20,30,40,45,50,56,56,58,60,62,64,67,70,75,80, 90], columns=[\"theta\"])\n",
    "normed_method['theta'] = normed_method['theta'].astype(float)\n",
    "\n",
    "# here equation depending on reaction type, choosen: Bimolecular, complementary strand types\n",
    "normed_method[\"K\"] = (normed_method[\"theta\"])/(c_total*((1 - normed_method[\"theta\"])**2))\n",
    "normed_method['ln K'] = np.log(normed_method['K'])\n",
    "\n",
    "# select values in confidence values 0.1 < theta < 0.9\n",
    "normed_method  = normed_method.loc[60:70]\n",
    "# change celsius to kelvin\n",
    "normed_method = normed_method.set_index(1/(normed_method.index + 273.15))\n",
    "\n",
    "# make linear fit and plot\n",
    "enthalpy_normed, params_norm = ana.lm_fit(base_method.T, wave=\"ln K\", f_type='linear', guess=[80000, -2])\n",
    "error = {\"fit\" : enthalpy_normed[\"error\"].to_numpy()}\n",
    "plot.mult_func([\"ln K\", \"fit\"], [enthalpy_normed.T], error=error, x_label=\"1/T [1/Kelvin]\", y_label=\"ln K\")"
   ]
  },
  {
   "cell_type": "code",
   "execution_count": 12,
   "id": "forty-bahamas",
   "metadata": {},
   "outputs": [
    {
     "name": "stdout",
     "output_type": "stream",
     "text": [
      "[[Model]]\n",
      "    Model(linear)\n",
      "[[Fit Statistics]]\n",
      "    # fitting method   = leastsq\n",
      "    # function evals   = 7\n",
      "    # data points      = 5\n",
      "    # variables        = 2\n",
      "    chi-square         = 1.62690318\n",
      "    reduced chi-square = 0.54230106\n",
      "    Akaike info crit   = -1.61379796\n",
      "    Bayesian info crit = -2.39492213\n",
      "[[Variables]]\n",
      "    m:   143015.744 +/- 10592.4844 (7.41%) (init = 80000)\n",
      "    y0: -405.548597 +/- 31.3671034 (7.73%) (init = -2)\n",
      "[[Correlations]] (unreported correlations are < 0.100)\n",
      "    C(m, y0) = -1.000\n"
     ]
    },
    {
     "name": "stderr",
     "output_type": "stream",
     "text": [
      "C:\\Users\\crazy\\anaconda3\\envs\\TestEnv\\lib\\site-packages\\pandas\\core\\arraylike.py:358: RuntimeWarning: divide by zero encountered in log\n",
      "  result = getattr(ufunc, method)(*inputs, **kwargs)\n"
     ]
    },
    {
     "data": {
      "application/vnd.jupyter.widget-view+json": {
       "model_id": "98a34a8f807848988a612af95b03366e",
       "version_major": 2,
       "version_minor": 0
      },
      "text/plain": [
       "Canvas(toolbar=Toolbar(toolitems=[('Home', 'Reset original view', 'home', 'home'), ('Back', 'Back to previous …"
      ]
     },
     "metadata": {},
     "output_type": "display_data"
    }
   ],
   "source": [
    "c_total = 40 * (10**-9) # # total strand concentration in molar\n",
    "\n",
    "# get K and ln K\n",
    "fit_method = pd.DataFrame(data_treated[\"log_fit\"].to_numpy(), index=[20,30,40,45,50,56,56,58,60,62,64,67,70,75,80, 90], columns=[\"theta\"])\n",
    "fit_method['theta'] = fit_method['theta'].astype(float)\n",
    "\n",
    "# here equation depending on reaction type, choosen: Bimolecular, complementary strand types\n",
    "fit_method[\"K\"] = (fit_method[\"theta\"])/(c_total*((1 - fit_method[\"theta\"])**2))\n",
    "fit_method['ln K'] = np.log(fit_method['K'])\n",
    "\n",
    "# select values in confidence values 0.1 < theta < 0.9\n",
    "fit_method  = fit_method.loc[60:70]\n",
    "# change celsius to kelvin\n",
    "fit_method = fit_method.set_index(1/(fit_method.index + 273.15))\n",
    "\n",
    "# make linear fit and plot\n",
    "enthalpy_fit, params_fit = ana.lm_fit(fit_method.T, wave=\"ln K\", f_type='linear', guess=[80000, -2])\n",
    "error = {\"fit\" : enthalpy_fit[\"error\"].to_numpy()}\n",
    "plot.mult_func([\"ln K\", \"fit\"], [enthalpy_fit.T], error=error, x_label=\"1/T [1/Kelvin]\", y_label=\"ln K\")"
   ]
  },
  {
   "cell_type": "markdown",
   "id": "hybrid-pontiac",
   "metadata": {},
   "source": [
    "**Calculate Entropy and Enthalpy**"
   ]
  },
  {
   "cell_type": "code",
   "execution_count": 13,
   "id": "tutorial-sessions",
   "metadata": {},
   "outputs": [
    {
     "name": "stdout",
     "output_type": "stream",
     "text": [
      "                      base        norm          fit\n",
      "units                                              \n",
      "H [kJ/mol]     -686.554867 -686.554867 -1189.104403\n",
      "H [kcal/mol]   -164.090527 -164.090527  -284.202730\n",
      "S [kJ/mol*K]     -1.887004   -1.887004    -3.371934\n",
      "S [kcal/mol*K]   -0.451005   -0.451005    -0.805911\n"
     ]
    }
   ],
   "source": [
    "enthalpy = pd.DataFrame([\"H [kJ/mol]\", \"H [kcal/mol]\", \"S [kJ/mol*K]\", \"S [kcal/mol*K]\"], columns=[\"units\"])\n",
    "enthalpy = enthalpy.set_index(\"units\")\n",
    "\n",
    "# for base method\n",
    "m, y0 = params_base.values()\n",
    "delta_H = -m * 8.3145\n",
    "delta_S = y0 * 8.3145\n",
    "enthalpy[\"base\"] = [delta_H*10**(-3), delta_H*0.2390057*10**(-3), delta_S*10**(-3), delta_S*0.2390057*10**(-3)]\n",
    "\n",
    "# for normed method\n",
    "m, y0 = params_norm.values()\n",
    "delta_H = -m * 8.3145\n",
    "delta_S = y0 * 8.3145\n",
    "enthalpy[\"norm\"] = [delta_H*10**(-3), delta_H*0.2390057*10**(-3), delta_S*10**(-3), delta_S*0.2390057*10**(-3)]\n",
    "\n",
    "# for fit method\n",
    "m, y0 = params_fit.values()\n",
    "delta_H = -m * 8.3145\n",
    "delta_S = y0 * 8.3145\n",
    "enthalpy[\"fit\"] = [delta_H*10**(-3), delta_H*0.2390057*10**(-3), delta_S*10**(-3), delta_S*0.2390057*10**(-3)]\n",
    "\n",
    "print(enthalpy)"
   ]
  },
  {
   "cell_type": "markdown",
   "id": "beneficial-pipeline",
   "metadata": {},
   "source": [
    "## Derivative\n"
   ]
  },
  {
   "cell_type": "code",
   "execution_count": 14,
   "id": "norman-durham",
   "metadata": {},
   "outputs": [],
   "source": [
    "deriv = ana.derivative(data_all[\"Control_0M\"].absorb_df)\n",
    "data = data_all[\"Control_0M\"].absorb_df"
   ]
  },
  {
   "cell_type": "code",
   "execution_count": 15,
   "id": "quality-lighter",
   "metadata": {},
   "outputs": [
    {
     "data": {
      "application/vnd.jupyter.widget-view+json": {
       "model_id": "30b02ee004904cea8882667307fdf477",
       "version_major": 2,
       "version_minor": 0
      },
      "text/plain": [
       "Canvas(toolbar=Toolbar(toolitems=[('Home', 'Reset original view', 'home', 'home'), ('Back', 'Back to previous …"
      ]
     },
     "metadata": {},
     "output_type": "display_data"
    }
   ],
   "source": [
    "plot.mult_func([260], [data], [deriv], title= \"Hypochromatic shift\", subtitle=[\"Absolute value\", \"interpolated derivative\"], label=[\"\"], y_label=\"Absorbance\")"
   ]
  },
  {
   "cell_type": "markdown",
   "id": "primary-transportation",
   "metadata": {},
   "source": [
    "# Parafak Ethanol"
   ]
  },
  {
   "cell_type": "markdown",
   "id": "statewide-exemption",
   "metadata": {},
   "source": [
    "## *setting up the Notebook*"
   ]
  },
  {
   "cell_type": "code",
   "execution_count": 9,
   "id": "presidential-ballot",
   "metadata": {},
   "outputs": [],
   "source": [
    "# Enabling the `widget` backend.\n",
    "# This requires jupyter-matplotlib a.k.a. ipympl.\n",
    "# ipympl can be install via pip or conda.\n",
    "%matplotlib widget\n",
    "        \n",
    "import matplotlib.pyplot as plt\n",
    "import numpy as np\n",
    "import pandas as pd\n",
    "from ipywidgets import Output\n",
    "import matplotlib\n",
    "\n",
    "from scipy import integrate\n",
    "import lmfit\n",
    "import os"
   ]
  },
  {
   "cell_type": "code",
   "execution_count": 10,
   "id": "italic-swing",
   "metadata": {},
   "outputs": [],
   "source": [
    "import analise as ana\n",
    "import cdata \n",
    "import hotznplots as plot"
   ]
  },
  {
   "cell_type": "markdown",
   "id": "disturbed-presentation",
   "metadata": {},
   "source": [
    "<div class=\"alert alert-block alert-info\">\n",
    "<b>Info:</b> Print always whole DataFrames\n",
    "</div>"
   ]
  },
  {
   "cell_type": "code",
   "execution_count": 11,
   "id": "academic-receiver",
   "metadata": {},
   "outputs": [],
   "source": [
    "# Default value of display.max_rows is 10 i.e. at max 10 rows will be printed.\n",
    "# Set it None to display all rows in the dataframe\n",
    "pd.set_option('display.max_rows', None)"
   ]
  },
  {
   "cell_type": "code",
   "execution_count": 12,
   "id": "posted-hebrew",
   "metadata": {},
   "outputs": [],
   "source": [
    "# change plot size\n",
    "plt.rcParams[\"figure.figsize\"] = (11,9)"
   ]
  },
  {
   "cell_type": "markdown",
   "id": "danish-flooring",
   "metadata": {},
   "source": [
    "<div class=\"alert alert-block alert-info\">\n",
    "<b>Info:</b> Get the data\n",
    "</div>"
   ]
  },
  {
   "cell_type": "code",
   "execution_count": 13,
   "id": "fantastic-green",
   "metadata": {},
   "outputs": [
    {
     "name": "stdout",
     "output_type": "stream",
     "text": [
      "['Control_0%', 'Ethanol_50%', 'Ethanol_50%_nachTest', 'Ethanol_50%_real', 'Ethanol_50%_vorTest']\n"
     ]
    }
   ],
   "source": [
    "# Path for Daniel:\n",
    "#path = \"F:\\\\HZDR\\\\CD_data\"\n",
    "\n",
    "# My Path:\n",
    "path = \"C:\\\\Users\\\\crazy\\\\Mega\\\\Uni\\\\Masterarbeit\\\\Projekt\\\\Data\\\\CD_data\\\\Ethanol\"\n",
    "datalist = os.listdir(path)\n",
    "print(datalist)"
   ]
  },
  {
   "cell_type": "code",
   "execution_count": 14,
   "id": "afraid-flight",
   "metadata": {},
   "outputs": [],
   "source": [
    "# all data in one dictionary with foldernames as names\n",
    "data_all = {}\n",
    "for i in range(len(datalist)):\n",
    "    data_all[datalist[i]] = cdata.CData(os.path.join(path, datalist[i]))"
   ]
  },
  {
   "cell_type": "code",
   "execution_count": 15,
   "id": "dirty-lunch",
   "metadata": {},
   "outputs": [
    {
     "name": "stdout",
     "output_type": "stream",
     "text": [
      "                  0%       50%      nach       vor  50% real\n",
      "wavelength                                                  \n",
      "220         2.018260  2.274510  3.126240  2.307520  2.848860\n",
      "221         2.080980  2.351290  3.314980  2.367540  2.935160\n",
      "222         2.050420  2.385820  3.392230  2.399380  2.992490\n",
      "223         1.912300  2.286210  3.399130  2.399530  2.952990\n",
      "224         1.639410  2.188990  3.234820  2.326470  2.905010\n",
      "225         1.334610  2.006050  2.974400  2.194240  2.709800\n",
      "226         0.987198  1.847160  2.640560  1.936590  2.520000\n",
      "227         0.635405  1.639230  2.248080  1.665910  2.251200\n",
      "228         0.240217  1.421670  1.923790  1.448930  1.967390\n",
      "229        -0.119267  1.181210  1.646120  1.259320  1.597030\n",
      "230        -0.512917  0.921575  1.261840  1.015550  1.176200\n",
      "231        -0.886912  0.619775  0.926121  0.713306  0.785832\n",
      "232        -1.336630  0.354009  0.370603  0.331813  0.390593\n",
      "233        -1.776360  0.074562  0.018606  0.083282  0.037718\n",
      "234        -2.209810 -0.192663 -0.393782 -0.148270 -0.352435\n",
      "235        -2.665080 -0.451375 -0.759927 -0.359579 -0.734128\n",
      "236        -3.113920 -0.700925 -1.150090 -0.590502 -1.068090\n",
      "237        -3.545400 -0.926277 -1.557160 -0.822505 -1.361690\n",
      "238        -3.988460 -1.128520 -1.788830 -0.961874 -1.630390\n",
      "239        -4.434120 -1.280230 -2.056520 -1.081510 -1.895780\n",
      "240        -4.853330 -1.425770 -2.274880 -1.177200 -2.140270\n",
      "241        -5.259260 -1.485700 -2.582890 -1.311850 -2.346580\n",
      "242        -5.605870 -1.586310 -2.813260 -1.491360 -2.507860\n",
      "243        -5.898190 -1.681480 -3.061770 -1.595370 -2.657900\n",
      "244        -6.195660 -1.740120 -3.222810 -1.683850 -2.769360\n",
      "245        -6.466130 -1.800050 -3.202200 -1.715640 -2.864460\n",
      "246        -6.672550 -1.813160 -3.273570 -1.722340 -2.917410\n",
      "247        -6.755200 -1.843030 -3.248880 -1.712000 -2.973810\n",
      "248        -6.703360 -1.841830 -3.314300 -1.730030 -3.011510\n",
      "249        -6.551950 -1.826300 -3.316510 -1.720750 -3.033700\n",
      "250        -6.243260 -1.779960 -3.289320 -1.681320 -3.017710\n",
      "251        -5.805820 -1.760880 -3.279030 -1.662400 -2.929890\n",
      "252        -5.223510 -1.699630 -3.150610 -1.606040 -2.842110\n",
      "253        -4.635670 -1.674690 -3.041830 -1.631990 -2.763100\n",
      "254        -3.958060 -1.646450 -2.938430 -1.607720 -2.665860\n",
      "255        -3.308090 -1.606250 -2.831750 -1.553200 -2.581240\n",
      "256        -2.614890 -1.548030 -2.722630 -1.400250 -2.479170\n",
      "257        -1.992060 -1.487180 -2.613010 -1.365810 -2.409860\n",
      "258        -1.359360 -1.416140 -2.497800 -1.312420 -2.311430\n",
      "259        -0.789798 -1.361200 -2.429560 -1.274770 -2.227690\n",
      "260        -0.257733 -1.325630 -2.357880 -1.167310 -2.186820\n",
      "261         0.186114 -1.300960 -2.277430 -1.150160 -2.128230\n",
      "262         0.605029 -1.257560 -2.202590 -1.119510 -2.061680\n",
      "263         0.954364 -1.243570 -2.149880 -1.127010 -2.002260\n",
      "264         1.306650 -1.230260 -2.039840 -1.080160 -1.944840\n",
      "265         1.586630 -1.215320 -1.941390 -1.075660 -1.870510\n",
      "266         1.862070 -1.176250 -1.846260 -1.063100 -1.808570\n",
      "267         2.128690 -1.168980 -1.819180 -1.053700 -1.749740\n",
      "268         2.396950 -1.160790 -1.758510 -0.975946 -1.712020\n",
      "269         2.671660 -1.135860 -1.694310 -0.915490 -1.666700\n",
      "270         2.906290 -1.110530 -1.568460 -0.873552 -1.574990\n",
      "271         3.125970 -1.046750 -1.432590 -0.863455 -1.494240\n",
      "272         3.283140 -1.003070 -1.366130 -0.883025 -1.429680\n",
      "273         3.385590 -0.941886 -1.250620 -0.857533 -1.347860\n",
      "274         3.466120 -0.908342 -1.183400 -0.844340 -1.238950\n",
      "275         3.528280 -0.847546 -1.038610 -0.785373 -1.147560\n",
      "276         3.598340 -0.799323 -0.942075 -0.719590 -1.057810\n",
      "277         3.679400 -0.767836 -0.817341 -0.649083 -0.958146\n",
      "278         3.729940 -0.727762 -0.711424 -0.553438 -0.844247\n",
      "279         3.763530 -0.653381 -0.553383 -0.520223 -0.722521\n",
      "280         3.754930 -0.599111 -0.379904 -0.415850 -0.596501\n",
      "281         3.750990 -0.510616 -0.194189 -0.354973 -0.459833\n",
      "282         3.699530 -0.442963  0.001564 -0.254495 -0.298113\n",
      "283         3.599560 -0.363166  0.154659 -0.174768 -0.160262\n",
      "284         3.434060 -0.278134  0.327251 -0.078065 -0.004919\n",
      "285         3.209440 -0.198342  0.466679  0.001005  0.140411\n",
      "286         2.956070 -0.109837  0.600263  0.049694  0.291653\n",
      "287         2.680700 -0.041664  0.751051  0.109469  0.422259\n",
      "288         2.414470  0.040275  0.928198  0.184512  0.543043\n",
      "289         2.137960  0.098642  1.075430  0.264460  0.637926\n",
      "290         1.870290  0.142925  1.161930  0.341484  0.740262\n",
      "291         1.621650  0.230325  1.239900  0.390846  0.816139\n",
      "292         1.367880  0.296227  1.311600  0.409474  0.885171\n",
      "293         1.142750  0.388315  1.430980  0.507428  0.966021\n",
      "294         0.954676  0.435131  1.531440  0.559959  1.030100\n",
      "295         0.805050  0.483874  1.596620  0.661317  1.097470\n",
      "296         0.688515  0.517186  1.622250  0.688386  1.137790\n",
      "297         0.584848  0.537449  1.626530  0.693583  1.166860\n",
      "298         0.508434  0.566124  1.653510  0.699186  1.200820\n",
      "299         0.460637  0.574150  1.653430  0.706411  1.203340\n",
      "300         0.405739  0.600529  1.680280  0.747058  1.187060\n",
      "301         0.346918  0.599239  1.662890  0.742525  1.151900\n",
      "302         0.302081  0.594712  1.626130  0.720668  1.132520\n",
      "303         0.266403  0.583839  1.590270  0.709977  1.122540\n",
      "304         0.251672  0.591705  1.528060  0.687339  1.111460\n",
      "305         0.258838  0.570174  1.424390  0.681470  1.098950\n",
      "306         0.247610  0.552264  1.329270  0.641913  1.061400\n",
      "307         0.257884  0.535085  1.287060  0.629477  1.030070\n",
      "308         0.243959  0.519240  1.261330  0.583535  0.991119\n",
      "309         0.212044  0.520845  1.279710  0.610522  0.961277\n",
      "310         0.191538  0.497315  1.279560  0.585197  0.938358\n",
      "311         0.179227  0.469009  1.191000  0.575062  0.893609\n",
      "312         0.183879  0.446427  1.165630  0.569128  0.860451\n",
      "313         0.193184  0.427561  1.130760  0.580395  0.821558\n",
      "314         0.187660  0.416661  1.096260  0.505649  0.801117\n",
      "315         0.179405  0.403332  1.104280  0.496635  0.787021\n",
      "316         0.154553  0.385544  1.051960  0.482323  0.755967\n",
      "317         0.139355  0.379538  1.025930  0.490975  0.736657\n",
      "318         0.155483  0.372471  0.953308  0.472194  0.719626\n",
      "319         0.168442  0.364589  0.922798  0.477787  0.710335\n",
      "320         0.181444  0.349903  0.925534  0.445044  0.683768\n",
      "321         0.192093  0.329780  0.908675  0.444563  0.651192\n",
      "322         0.180985  0.319310  0.904865  0.438803  0.636491\n",
      "323         0.163809  0.300833  0.874271  0.416357  0.620696\n",
      "324         0.153032  0.289035  0.828040  0.375511  0.621087\n",
      "325         0.144629  0.292835  0.837900  0.385039  0.618028\n",
      "326         0.137980  0.278019  0.837780  0.389069  0.608808\n",
      "327         0.138600  0.254028  0.829861  0.400602  0.588407\n",
      "328         0.127225  0.239824  0.774891  0.359510  0.557677\n",
      "329         0.129199  0.243676  0.749581  0.337597  0.535773\n",
      "330         0.136876  0.234600  0.725444  0.303824  0.503972\n"
     ]
    }
   ],
   "source": [
    "df =  data_all[\"Control_0%\"].cd_df\n",
    "df = df.rename(columns={-1:\"0%\"})\n",
    "df[\"50%\"] =  (data_all[\"Ethanol_50%\"].cd_df.loc[:,-1])\n",
    "df[\"nach\"] =  (data_all[\"Ethanol_50%_nachTest\"].cd_df.loc[:,-1])\n",
    "df[\"vor\"] =  (data_all[\"Ethanol_50%_vorTest\"].cd_df.loc[:,-1])\n",
    "df[\"50% real\"] =  (data_all[\"Ethanol_50%_real\"].cd_df.loc[:,-1])\n",
    "print(df)"
   ]
  },
  {
   "cell_type": "code",
   "execution_count": 16,
   "id": "final-arlington",
   "metadata": {},
   "outputs": [
    {
     "data": {
      "application/vnd.jupyter.widget-view+json": {
       "model_id": "1998a9d290c04f2b954a60c3505be6be",
       "version_major": 2,
       "version_minor": 0
      },
      "text/plain": [
       "Canvas(toolbar=Toolbar(toolitems=[('Home', 'Reset original view', 'home', 'home'), ('Back', 'Back to previous …"
      ]
     },
     "metadata": {},
     "output_type": "display_data"
    }
   ],
   "source": [
    "plot.mult_func(['0%', 'vor', 'nach', '50%', \"50% real\" ], [df], swap=True, marker=[\"\", \"\", \"\", \"\", \"\"], x_label=\"Wavelengt [nm]\")"
   ]
  },
  {
   "cell_type": "code",
   "execution_count": null,
   "id": "documentary-webster",
   "metadata": {},
   "outputs": [],
   "source": []
  },
  {
   "cell_type": "code",
   "execution_count": null,
   "id": "agricultural-throw",
   "metadata": {},
   "outputs": [],
   "source": []
  }
 ],
 "metadata": {
  "kernelspec": {
   "display_name": "Python 3",
   "language": "python",
   "name": "python3"
  },
  "language_info": {
   "codemirror_mode": {
    "name": "ipython",
    "version": 3
   },
   "file_extension": ".py",
   "mimetype": "text/x-python",
   "name": "python",
   "nbconvert_exporter": "python",
   "pygments_lexer": "ipython3",
   "version": "3.8.6"
  },
  "toc-autonumbering": true,
  "toc-showcode": false,
  "toc-showmarkdowntxt": false
 },
 "nbformat": 4,
 "nbformat_minor": 5
}
