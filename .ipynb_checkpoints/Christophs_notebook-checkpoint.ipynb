{
 "cells": [
  {
   "cell_type": "markdown",
   "id": "leading-sequence",
   "metadata": {},
   "source": [
    "*for more information, checkout* [Github](https://github.com/Crazytoph/2Dcorrelation \"my github page\")."
   ]
  },
  {
   "cell_type": "markdown",
   "id": "widespread-moral",
   "metadata": {},
   "source": [
    "**CD Measurements - Data Analysis**"
   ]
  },
  {
   "cell_type": "markdown",
   "id": "alternative-evening",
   "metadata": {},
   "source": [
    "# DNA Origami "
   ]
  },
  {
   "cell_type": "markdown",
   "id": "perceived-species",
   "metadata": {},
   "source": [
    "## *setting up the Notebook*"
   ]
  },
  {
   "cell_type": "code",
   "execution_count": 1,
   "id": "critical-burst",
   "metadata": {},
   "outputs": [],
   "source": [
    "# Enabling the `widget` backend.\n",
    "# This requires jupyter-matplotlib a.k.a. ipympl.\n",
    "# ipympl can be install via pip or conda.\n",
    "%matplotlib widget\n",
    "        \n",
    "import matplotlib.pyplot as plt\n",
    "import numpy as np\n",
    "import pandas as pd\n",
    "from ipywidgets import Output\n",
    "import matplotlib\n",
    "import openpyxl\n",
    "import re\n",
    "\n",
    "from scipy import integrate\n",
    "import lmfit\n",
    "import os"
   ]
  },
  {
   "cell_type": "code",
   "execution_count": 2,
   "id": "graphic-tooth",
   "metadata": {},
   "outputs": [],
   "source": [
    "import analise as ana\n",
    "import cdata \n",
    "import hotznplots as plot"
   ]
  },
  {
   "cell_type": "markdown",
   "id": "given-short",
   "metadata": {},
   "source": [
    "<div class=\"alert alert-block alert-info\">\n",
    "<b>Info:</b> Print always whole DataFrames\n",
    "</div>"
   ]
  },
  {
   "cell_type": "code",
   "execution_count": 3,
   "id": "collected-optimization",
   "metadata": {},
   "outputs": [],
   "source": [
    "# Default value of display.max_rows is 10 i.e. at max 10 rows will be printed.\n",
    "# Set it None to display all rows in the dataframe\n",
    "pd.set_option('display.max_rows', None)"
   ]
  },
  {
   "cell_type": "code",
   "execution_count": 4,
   "id": "senior-eleven",
   "metadata": {},
   "outputs": [
    {
     "data": {
      "text/plain": [
       "'# activate Latex, change font type\\nplt.rcParams.update({\\n    \"text.usetex\": True,\\n    \"font.family\": \"sans-serif\",\\n    \"font.serif\": [\"Helvetica\"],\\n})'"
      ]
     },
     "execution_count": 4,
     "metadata": {},
     "output_type": "execute_result"
    }
   ],
   "source": [
    "# change plot size\n",
    "plt.rcParams[\"figure.figsize\"] = (10,7)\n",
    "\n",
    "\"\"\"# activate Latex, change font type\n",
    "plt.rcParams.update({\n",
    "    \"text.usetex\": True,\n",
    "    \"font.family\": \"sans-serif\",\n",
    "    \"font.serif\": [\"Helvetica\"],\n",
    "})\"\"\""
   ]
  },
  {
   "cell_type": "markdown",
   "id": "virgin-workplace",
   "metadata": {},
   "source": [
    "<div class=\"alert alert-block alert-info\">\n",
    "<b>Info:</b> Get the data\n",
    "</div>"
   ]
  },
  {
   "cell_type": "code",
   "execution_count": 5,
   "id": "spiritual-transfer",
   "metadata": {},
   "outputs": [
    {
     "name": "stdout",
     "output_type": "stream",
     "text": [
      "['Control_0M', 'Gdm2SO4_0.5M', 'Gdm2SO4_1M', 'Gdm2SO4_2M', 'Gdm2SO4_4M', 'Gdm2SO4_4M - Wiederholung', 'Gdm2SO4_6M', 'GdmCl_0.5M', 'GdmCl_1M', 'GdmCl_2M', 'GdmCl_2M_20nM_Origami', 'GdmCl_2M_24h', 'GdmCl_2M_80nM_Origami', 'GdmCl_4M', 'GdmCl_6M', 'GdmCl_6M_70', 'GdmSCN_0.5M', 'GdmSCN_2M', 'GdmSCN_4M', 'Urea_05M', 'Urea_2M']\n"
     ]
    }
   ],
   "source": [
    "# Path for Daniel:\n",
    "path = \"F:\\\\HZDR\\\\CD_data\"\n",
    "\n",
    "# My Path:\n",
    "#path = \"C:\\\\Users\\\\crazy\\\\Documents\\\\Uni\\\\Masterarbeit\\\\Projekt\\\\Data\\\\CD_data\\\\DNA Origami\"\n",
    "#path = \"C:\\\\Users\\\\crazy\\\\Documents\\\\Uni\\\\Masterarbeit\\\\Projekt\\\\Data\\\\1-99_Denaturation\"\n",
    "datalist = os.listdir(path)\n",
    "print(datalist)"
   ]
  },
  {
   "cell_type": "code",
   "execution_count": 6,
   "id": "extreme-documentation",
   "metadata": {},
   "outputs": [],
   "source": [
    "# all data in one dictionary with foldernames as names\n",
    "data_all = {}\n",
    "for i in range(len(datalist)):\n",
    "    data_all[datalist[i]] = cdata.CData(os.path.join(path, datalist[i]))"
   ]
  },
  {
   "cell_type": "code",
   "execution_count": 7,
   "id": "liberal-jones",
   "metadata": {},
   "outputs": [
    {
     "name": "stdout",
     "output_type": "stream",
     "text": [
      "<cdata.CData object at 0x0000022553418D60>\n",
      "[<cdata.CData object at 0x0000022553418D60>, <cdata.CData object at 0x0000022553449940>]\n",
      "(<cdata.CData object at 0x0000022553418D60>, <cdata.CData object at 0x000002254E1CE700>, <cdata.CData object at 0x00000225533C61F0>, <cdata.CData object at 0x000002255337F700>)\n"
     ]
    }
   ],
   "source": [
    "# options to acces data\n",
    "print(data_all['Control_0M'])\n",
    "# multiple options\n",
    "print(list(map(data_all.get, ['Control_0M', 'Gdm2SO4_4M'])))\n",
    "print(tuple(data_all.values())[0:4])"
   ]
  },
  {
   "cell_type": "markdown",
   "id": "muslim-coordinator",
   "metadata": {},
   "source": [
    "## Smooth Data"
   ]
  },
  {
   "cell_type": "code",
   "execution_count": 19,
   "id": "unusual-alexandria",
   "metadata": {},
   "outputs": [],
   "source": [
    "data_all_smooth = {}\n",
    "for key in data_all.keys():\n",
    "\n",
    "    \n",
    "    window_size = 5\n",
    "    tail = window_size // 2\n",
    "    df = data_all[key].cd_df\n",
    "    df_new = pd.DataFrame(index=df.index)\n",
    "    \n",
    "    for i in range(tail, len(df.columns[tail:-tail])+1): \n",
    "        df_new[df.columns[i]] = df.iloc[:, i]\n",
    "        \n",
    "        for k in range(1, tail+1):\n",
    "            df_new[df.columns[i]] = df_new[df.columns[i]] + df.iloc[:, i-k] + df.iloc[:, i+k]\n",
    "        \n",
    "        df_new[df.columns[i]] = df_new[df.columns[i]] / window_size\n",
    "    data_all_smooth[key] = df_new\n",
    "    \n",
    "    #if printed\n",
    "    #print_path = \"F:\\\\HZDR\\\\CD_data\"\n",
    "    #name = os.path.join(print_path, key + '_smoothed.txt')\n",
    "    #df_new.to_csv(name, sep='\\t', index=True)"
   ]
  },
  {
   "cell_type": "markdown",
   "id": "accredited-characterization",
   "metadata": {},
   "source": [
    "## PCA"
   ]
  },
  {
   "cell_type": "markdown",
   "id": "utility-front",
   "metadata": {},
   "source": [
    "### Print-out for PCA\n"
   ]
  },
  {
   "cell_type": "markdown",
   "id": "valid-seller",
   "metadata": {},
   "source": [
    "<div class=\"alert alert-block alert-info\">\n",
    "<b>Info:</b> Creates the .dat - files which are used for PCA and ITTFA\n",
    "</div>"
   ]
  },
  {
   "cell_type": "code",
   "execution_count": 8,
   "id": "pending-audit",
   "metadata": {},
   "outputs": [
    {
     "name": "stdout",
     "output_type": "stream",
     "text": [
      "[20, 30, 40, 45, 50, 53, 56, 58, 60, 62, 64, 67, 70, 75, 80, 90]\n"
     ]
    }
   ],
   "source": [
    "print(data_all['Control_0M'].t_list)"
   ]
  },
  {
   "cell_type": "code",
   "execution_count": 118,
   "id": "tender-mechanics",
   "metadata": {},
   "outputs": [],
   "source": [
    "# general path where files should be saved without last folder name\n",
    "\n",
    "# Daniels path\n",
    "print_path = \"F:\\\\HZDR\\\\0_Cloud\\\\ITTFA_PCA\\\\dat\"\n",
    "# Christophs path\n",
    "#print_path = \"C:\\\\Users\\\\crazy\\\\Documents\\\\Uni\\\\Masterarbeit\\\\Projekt\\\\Data\\\\PCA\""
   ]
  },
  {
   "cell_type": "code",
   "execution_count": 119,
   "id": "impossible-address",
   "metadata": {},
   "outputs": [
    {
     "name": "stdout",
     "output_type": "stream",
     "text": [
      "dict_keys(['Control_0M', 'Gdm2SO4_0.5M', 'Gdm2SO4_1M', 'Gdm2SO4_2M', 'Gdm2SO4_4M', 'Gdm2SO4_4M - Wiederholung', 'Gdm2SO4_6M', 'GdmCl_0.5M', 'GdmCl_1M', 'GdmCl_2M', 'GdmCl_2M_20nM_Origami', 'GdmCl_2M_24h', 'GdmCl_2M_80nM_Origami', 'GdmCl_4M', 'GdmCl_6M', 'GdmCl_6M_70', 'GdmSCN_0.5M', 'GdmSCN_2M', 'GdmSCN_4M', 'Urea_05M', 'Urea_2M'])\n"
     ]
    }
   ],
   "source": [
    "print(data_all.keys())"
   ]
  },
  {
   "cell_type": "code",
   "execution_count": 120,
   "id": "enormous-authentication",
   "metadata": {},
   "outputs": [],
   "source": [
    "liste = ['Control_0M']"
   ]
  },
  {
   "cell_type": "code",
   "execution_count": 121,
   "id": "experienced-champion",
   "metadata": {},
   "outputs": [
    {
     "name": "stdout",
     "output_type": "stream",
     "text": [
      "17\n"
     ]
    }
   ],
   "source": [
    "# files get seperatedly created, folder name must exist\n",
    "folder_name = 'Control_0M'\n",
    "i= 1\n",
    "\n",
    "for key in liste:\n",
    "    for col in data_all[key].cd_df.columns:\n",
    "        if col >= 20  and col <= 90:\n",
    "            name =  print_path + '\\\\' + folder_name + '\\\\' + str(i) + '.dat'\n",
    "            data_all[key].cd_df.loc[:, col].to_csv(name, sep = \" \", header=False)\n",
    "            i = i + 1\n",
    "    print(i)"
   ]
  },
  {
   "cell_type": "code",
   "execution_count": null,
   "id": "normal-audit",
   "metadata": {},
   "outputs": [],
   "source": [
    "# extra files if new spectra should be added\n",
    "\n",
    "#excel path\n",
    "print_path = \"F:\\\\HZDR\\\\0_Cloud\\\\ITTFA_PCA\\\\dat\"\n",
    "#excel_path = \"C:\\\\Users\\\\crazy\\\\Documents\\\\Uni\\\\Masterarbeit\\\\Projekt\\\\Factor_analysis\\\\ITTFA\"\n",
    "# excel file name\n",
    "excel_name =  excel_path + '\\\\' + 'Cl_4M.xlsx'\n",
    "\n",
    "# open and modify excel \n",
    "df_excel = pd.read_excel(excel_name)\n",
    "df_excel = df_excel.drop(index = 0)\n",
    "df_excel = df_excel.set_index('Wavelength')\n",
    "\n",
    "# create subfiles for spectra\n",
    "for k in df_excel.columns:\n",
    "    name =  print_path + '\\\\' + folder_name + '\\\\' + str(i) + '.dat'\n",
    "    df_excel.loc[:, k].to_csv(name, sep = \" \", header=False)\n",
    "    i = i + 1\n",
    "print(i)"
   ]
  },
  {
   "cell_type": "markdown",
   "id": "living-forge",
   "metadata": {},
   "source": [
    "### Eigenvector output\n"
   ]
  },
  {
   "cell_type": "code",
   "execution_count": 123,
   "id": "controlling-emergency",
   "metadata": {},
   "outputs": [],
   "source": [
    "print_path = \"F:\\\\HZDR\\\\0_Cloud\\\\ITTFA_PCA\\\\dat\"\n",
    "#print_path = \"C:\\\\Users\\\\crazy\\\\Documents\\\\Uni\\\\Masterarbeit\\\\Projekt\\\\Data\\\\PCA\""
   ]
  },
  {
   "cell_type": "code",
   "execution_count": 124,
   "id": "proved-daily",
   "metadata": {},
   "outputs": [
    {
     "name": "stdout",
     "output_type": "stream",
     "text": [
      "dict_keys(['Control_0M', 'Gdm2SO4_0.5M', 'Gdm2SO4_1M', 'Gdm2SO4_2M', 'Gdm2SO4_4M', 'Gdm2SO4_4M - Wiederholung', 'Gdm2SO4_6M', 'GdmCl_0.5M', 'GdmCl_1M', 'GdmCl_2M', 'GdmCl_2M_20nM_Origami', 'GdmCl_2M_24h', 'GdmCl_2M_80nM_Origami', 'GdmCl_4M', 'GdmCl_6M', 'GdmCl_6M_70', 'GdmSCN_0.5M', 'GdmSCN_2M', 'GdmSCN_4M', 'Urea_05M', 'Urea_2M'])\n"
     ]
    }
   ],
   "source": [
    "print(data_all.keys())"
   ]
  },
  {
   "cell_type": "code",
   "execution_count": 125,
   "id": "impressive-antibody",
   "metadata": {},
   "outputs": [],
   "source": [
    "liste = ['Control_0M']"
   ]
  },
  {
   "cell_type": "code",
   "execution_count": 127,
   "id": "substantial-portable",
   "metadata": {},
   "outputs": [
    {
     "data": {
      "application/vnd.jupyter.widget-view+json": {
       "model_id": "7c7740c25b674be3a3e5f395a3452ea1",
       "version_major": 2,
       "version_minor": 0
      },
      "text/plain": [
       "Canvas(toolbar=Toolbar(toolitems=[('Home', 'Reset original view', 'home', 'home'), ('Back', 'Back to previous …"
      ]
     },
     "metadata": {},
     "output_type": "display_data"
    }
   ],
   "source": [
    "for  key in liste:\n",
    "    # create DataFrame for plot\n",
    "    plot_df = pd.DataFrame(index=data_all[key].cd_df.loc[215:300].index)\n",
    "    \n",
    "    # number of components\n",
    "    components = 3\n",
    "    \n",
    "    # read files \n",
    "    for i in range(components):\n",
    "        \n",
    "        name = 'eigenvector' + str(i+1) \n",
    "        # get data path\n",
    "        data_path = os.path.join(print_path, key, name + '.dat')\n",
    "        \n",
    "        # open file and create data list\n",
    "        file = open(data_path, \"r\")\n",
    "        data = []\n",
    "        \n",
    "        # list of lines, of which all elemnts equal to space or enter are used as split, and then empty elements are deleted\n",
    "        list_of_lines = file.readlines()\n",
    "        for k in range(len(list_of_lines)):\n",
    "            data.extend(re.split(' |\\n', list_of_lines[k]))\n",
    "        data1 = np.array(list(filter(lambda x: x != '', data)))\n",
    "        \n",
    "        # data list reshaped as 2D array and added to plot\n",
    "        data1 = data1.reshape(86, 2)\n",
    "        plot_df[i+1] = data1[:, 1]\n",
    "        \n",
    "    # same procedure for eigenvalues to norm eigenvectors    \n",
    "    name = 'eigenvalues'\n",
    "    data_path = os.path.join(print_path, key, name + '.dat')\n",
    "    # open file and create data list\n",
    "    file = open(data_path, \"r\")\n",
    "    data = []\n",
    "    # list of lines, of which all elemnts equal to space or enter are used as split, and then empty elements are deleted\n",
    "    list_of_lines = file.readlines()\n",
    "    for k in range(len(list_of_lines)):\n",
    "        data.extend(re.split(' |\\n', list_of_lines[k]))\n",
    "        data1 = np.array(list(filter(lambda x: x != '', data)))\n",
    "    \n",
    "    # data list reshaped as 2D array and added to plot\n",
    "    data1 = data1.reshape(components, 2)\n",
    "    eigenvectors = data1\n",
    "    \n",
    "    # change dtype to float\n",
    "    plot_df = plot_df.astype('float64')\n",
    "    eigenvectors = eigenvectors.astype('float64')\n",
    "    #plot_df = plot_df.multiply(eigenvectors.T[1])\n",
    "    # norm between 0 - 1 if wanted\n",
    "    #plot_df = plot_df.subtract(plot_df.min()).divide((plot_df.max()-plot_df.min()))\n",
    "    plot.mult_func([1,2, 3, 4, 5, 6], [plot_df.T], linestyle=[\"solid\",\"solid\",  'dashed','dashed','dotted', 'dotted'], marker=[\"\",\"\",\"\",\"\",\"\",\"\",\"\"], subtitle=[\"\"], \n",
    "                   x_label=\"wavelength \\ nm\", y_label=\"eigenvectors\")"
   ]
  },
  {
   "cell_type": "markdown",
   "id": "affecting-learning",
   "metadata": {},
   "source": [
    "### Varimax Output"
   ]
  },
  {
   "cell_type": "code",
   "execution_count": 128,
   "id": "controlled-bottom",
   "metadata": {},
   "outputs": [],
   "source": [
    "print_path = \"F:\\\\HZDR\\\\0_Cloud\\\\ITTFA_PCA\\\\dat\"\n",
    "#print_path = \"C:\\\\Users\\\\crazy\\\\Documents\\\\Uni\\\\Masterarbeit\\\\Projekt\\\\Data\\\\PCA\""
   ]
  },
  {
   "cell_type": "code",
   "execution_count": 129,
   "id": "center-climate",
   "metadata": {},
   "outputs": [
    {
     "name": "stdout",
     "output_type": "stream",
     "text": [
      "['1_M_GdmCl_100mM_Mg', 'Control_0M', 'GdmCl_4M_10_mM_Mg']\n"
     ]
    }
   ],
   "source": [
    "files = os.listdir(print_path)\n",
    "print(files)"
   ]
  },
  {
   "cell_type": "code",
   "execution_count": 130,
   "id": "matched-independence",
   "metadata": {},
   "outputs": [],
   "source": [
    "liste = ['Control_0M']"
   ]
  },
  {
   "cell_type": "code",
   "execution_count": 131,
   "id": "convertible-chocolate",
   "metadata": {},
   "outputs": [
    {
     "ename": "FileNotFoundError",
     "evalue": "[Errno 2] No such file or directory: 'F:\\\\HZDR\\\\0_Cloud\\\\ITTFA_PCA\\\\dat\\\\Control_0M\\\\VARIMAX_loading_component1.dat'",
     "output_type": "error",
     "traceback": [
      "\u001b[1;31m---------------------------------------------------------------------------\u001b[0m",
      "\u001b[1;31mFileNotFoundError\u001b[0m                         Traceback (most recent call last)",
      "\u001b[1;32m<ipython-input-131-b9293e439212>\u001b[0m in \u001b[0;36m<module>\u001b[1;34m\u001b[0m\n\u001b[0;32m     14\u001b[0m \u001b[1;33m\u001b[0m\u001b[0m\n\u001b[0;32m     15\u001b[0m         \u001b[1;31m# open file and create data list\u001b[0m\u001b[1;33m\u001b[0m\u001b[1;33m\u001b[0m\u001b[1;33m\u001b[0m\u001b[0m\n\u001b[1;32m---> 16\u001b[1;33m         \u001b[0mfile\u001b[0m \u001b[1;33m=\u001b[0m \u001b[0mopen\u001b[0m\u001b[1;33m(\u001b[0m\u001b[0mdata_path\u001b[0m\u001b[1;33m,\u001b[0m \u001b[1;34m\"r\"\u001b[0m\u001b[1;33m)\u001b[0m\u001b[1;33m\u001b[0m\u001b[1;33m\u001b[0m\u001b[0m\n\u001b[0m\u001b[0;32m     17\u001b[0m         \u001b[0mdata\u001b[0m \u001b[1;33m=\u001b[0m \u001b[1;33m[\u001b[0m\u001b[1;33m]\u001b[0m\u001b[1;33m\u001b[0m\u001b[1;33m\u001b[0m\u001b[0m\n\u001b[0;32m     18\u001b[0m \u001b[1;33m\u001b[0m\u001b[0m\n",
      "\u001b[1;31mFileNotFoundError\u001b[0m: [Errno 2] No such file or directory: 'F:\\\\HZDR\\\\0_Cloud\\\\ITTFA_PCA\\\\dat\\\\Control_0M\\\\VARIMAX_loading_component1.dat'"
     ]
    }
   ],
   "source": [
    "for  key in liste:\n",
    "    # create DataFrame for plot\n",
    "    plot_df = pd.DataFrame(index=data_all[key].t_list[:-3])\n",
    "    \n",
    "    # number of components\n",
    "    components = 4\n",
    "    \n",
    "    # read files \n",
    "    for i in range(components):\n",
    "        \n",
    "        name = 'VARIMAX_loading_component' + str(i+1) \n",
    "        # get data path\n",
    "        data_path = os.path.join(print_path, key, name + '.dat')\n",
    "        \n",
    "        # open file and create data list\n",
    "        file = open(data_path, \"r\")\n",
    "        data = []\n",
    "        \n",
    "        # list of lines, of which all elemnts equal to space or enter are used as split, and then empty elements are deleted\n",
    "        list_of_lines = file.readlines()\n",
    "        for k in range(len(list_of_lines)):\n",
    "            data.extend(re.split(' |\\n', list_of_lines[k]))\n",
    "        data = np.array(list(filter(lambda x: x != '', data)))\n",
    "        \n",
    "        # data list reshaped as 2D array and added to plot\n",
    "        data = data.reshape(len(data_all[key].t_list[:-3]), 2)\n",
    "        plot_df[i+1] = data[:, 1]\n",
    "   \n",
    "    # change dtype to float\n",
    "    plot_df = plot_df.astype('float64')\n",
    "    # norm between 0 - 1 if wanted\n",
    "    plot_df = plot_df.subtract(plot_df.min()).divide((plot_df.max()-plot_df.min()))\n",
    "    plot.mult_func([1, 2, 3, 4], [plot_df.T], linestyle=[\"solid\",\"dashdot\",\"dashed\",\"dotted\"], marker=[\"o\",\"o\",\"o\",\"o\"], subtitle=[key], \n",
    "                   x_label=\"Temperature [°C]\", y_label=\"Abstract Concentration after Varimax Rotation\")"
   ]
  },
  {
   "cell_type": "code",
   "execution_count": null,
   "id": "chemical-horse",
   "metadata": {},
   "outputs": [],
   "source": [
    "print(data_all[key].t_list, melt_T[key])\n",
    "print(data_all[key].t_list[2:])"
   ]
  },
  {
   "cell_type": "markdown",
   "id": "incomplete-complaint",
   "metadata": {},
   "source": [
    "### ITTFA Output"
   ]
  },
  {
   "cell_type": "code",
   "execution_count": 8,
   "id": "cooperative-castle",
   "metadata": {},
   "outputs": [],
   "source": [
    "print_path = \"F:\\\\HZDR\\\\0_Cloud\\\\ITTFA_PCA\\\\dat\"\n",
    "#print_path = \"C:\\\\Users\\\\crazy\\\\Documents\\\\Uni\\\\Masterarbeit\\\\Projekt\\\\Data\\\\PCA\""
   ]
  },
  {
   "cell_type": "code",
   "execution_count": 9,
   "id": "seeing-standard",
   "metadata": {},
   "outputs": [
    {
     "data": {
      "application/vnd.jupyter.widget-view+json": {
       "model_id": "14568eff918c4434969f2628c7037b34",
       "version_major": 2,
       "version_minor": 0
      },
      "text/plain": [
       "Canvas(toolbar=Toolbar(toolitems=[('Home', 'Reset original view', 'home', 'home'), ('Back', 'Back to previous …"
      ]
     },
     "metadata": {},
     "output_type": "display_data"
    },
    {
     "data": {
      "application/vnd.jupyter.widget-view+json": {
       "model_id": "7359af367d5d4babb4e50fd664075ad2",
       "version_major": 2,
       "version_minor": 0
      },
      "text/plain": [
       "Canvas(toolbar=Toolbar(toolitems=[('Home', 'Reset original view', 'home', 'home'), ('Back', 'Back to previous …"
      ]
     },
     "metadata": {},
     "output_type": "display_data"
    }
   ],
   "source": [
    "key_list = ['Control_0M']\n",
    "filename = 'Control_0M'\n",
    "wave_min = 215\n",
    "wave_max = 300 \n",
    "\n",
    "t_min = 20\n",
    "t_max = 90\n",
    "t_list = []\n",
    "\n",
    "for key in key_list:\n",
    "    t_list.extend(data_all[key].cd_df.loc[wave_min:wave_max,t_min:t_max].columns)\n",
    "    # extend for extra spectra\n",
    "    #t_list.insert(0, 10)\n",
    "    #t_list.extend([100, 110,120,130])\n",
    "\n",
    "# create DataFrame for plot\n",
    "conc_df = pd.DataFrame(index=t_list)\n",
    "spec_df = pd.DataFrame(index=data_all[key].cd_df.loc[wave_min:wave_max,t_min:t_max].index)\n",
    "\n",
    "# number of components\n",
    "components = 3\n",
    "    \n",
    "# read files, 1st rel_conectration, 2nd spectra of components and third error in rel concentrations\n",
    "for i in range(components):\n",
    "    name1 = 'rel_concentration_component' + str(i+1) \n",
    "    name2 = 'component' + str(i+1) \n",
    "    \n",
    "    # get data path\n",
    "    data_path1 = os.path.join(print_path, filename, name1 + '.dat')\n",
    "    data_path2 = os.path.join(print_path, filename, name2 + '.dat')\n",
    "        \n",
    "    # open file and create data list\n",
    "    file1 = open(data_path1, \"r\")\n",
    "    file2 = open(data_path2, \"r\")\n",
    "    data1 = []\n",
    "    data2 = []\n",
    "        \n",
    "    # list of lines, of which all elemnts equal to space or enter are used as split, and then empty elements are deleted\n",
    "    list_of_lines1 = file1.readlines()\n",
    "    list_of_lines2 = file2.readlines()\n",
    "    \n",
    "    for k in range(len(list_of_lines1)):\n",
    "        data1.extend(re.split(' |\\n', list_of_lines1[k]))\n",
    "    data1 = np.array(list(filter(lambda x: x != '', data1)))\n",
    "    \n",
    "    for j in range(len(list_of_lines2)):\n",
    "        data2.extend(re.split(' |\\n', list_of_lines2[j]))\n",
    "    data2 = np.array(list(filter(lambda x: x != '', data2)))\n",
    "    \n",
    "    # data list reshaped as 2D array and added to plot\n",
    "    data1 = data1.reshape(len(t_list), 2)\n",
    "    conc_df[i+1] = data1[:, 1]\n",
    "    \n",
    "    data2 = data2.reshape(len(spec_df.index), 2)\n",
    "    spec_df[i+1] = data2[:, 1]\n",
    "\n",
    "# read relative errors of concentrations\n",
    "name3 = 'error_in_rel_concentrations'\n",
    "data_path3 = os.path.join(print_path, filename, name3 + '.dat')\n",
    "file3 = open(data_path3, \"r\")\n",
    "data3 = []\n",
    "list_of_lines3 = file3.readlines()\n",
    "for j in range(len(list_of_lines3)):\n",
    "    data3.extend(re.split(' |\\n', list_of_lines3[j]))\n",
    "data3 = np.array(list(filter(lambda x: x != '', data3)))\n",
    "data3 = data3.reshape(components, 2)\n",
    "\n",
    "\n",
    "\n",
    "# change dtype to float\n",
    "conc_df = conc_df.astype('float64')\n",
    "spec_df = spec_df.astype('float64')\n",
    "\n",
    "# trying to calculate error\n",
    "data_measured = data_all[key].cd_df.loc[wave_min:wave_max,t_min:t_max]\n",
    "data_calculated = pd.DataFrame(np.matmul(spec_df.to_numpy(), conc_df.to_numpy().T), index=data_measured.index, columns=t_list)\n",
    "\n",
    "# renorm data\n",
    "data_measured = data_measured.divide(data_measured.max(axis=0) - data_measured.min(axis=0))\n",
    "data_calculated  = data_calculated.divide(data_calculated.max(axis=0) - data_calculated.min(axis=0))\n",
    "df_error = np.sqrt(np.square(data_measured.subtract(data_calculated.loc[:,20:90])).sum(axis=0)) / (wave_max - wave_min - 1)\n",
    "#print(df_error.max())\n",
    "# plot.mult_func([20], [data_measured, data_calculated], swap=True)  # plot both together\n",
    "\n",
    "# negative reverse and amplitude adaption\n",
    "#conc_df[2] = conc_df[2] * -1\n",
    "#spec_df[2] = spec_df[2] * -1\n",
    "#conc_df = conc_df * (data_all[key].cd_df.loc[247, 20]/spec_df.loc[247,1])\n",
    "#spec_df = spec_df * (data_all[key].cd_df.loc[247, 20]/spec_df.loc[247,1])\n",
    "# norm between 0 - 1 if wanted\n",
    "#conc_df = conc_df.subtract(conc_df.min()).divide((conc_df.max()-conc_df.min()))\n",
    "\n",
    "plot.mult_func(np.arange(1, components + 1), [conc_df.T], linestyle=[\"solid\",\"dashdot\",\"dashed\",\"dotted\"], subtitle=[filename], \n",
    "                x_label=\"temperature / °C\", y_label=\"relative population  / %\", \n",
    "               label=[*np.arange(1, components + 1), \"Melting temperature\"], title=\"Concentration of Components after ITTFA\",\n",
    "               marker=[\"o\", \"X\", \"s\"], \n",
    "               baseline=True, \n",
    "               x_max=75\n",
    "               #vertical_line=[melt_T[filename]]\n",
    "              )    \n",
    "    \n",
    "plot.mult_func(np.arange(1, components + 1), [spec_df.T], linestyle=[\"solid\",\"dashdot\",\"dashed\",\"dotted\"], marker=[\"\",\"\",\"\",\"\"], subtitle=[filename], \n",
    "                x_label=\"wavelength / nm\", title=\"Spectra of components from ITTFA\", baseline=True, label=np.arange(1, components + 1),\n",
    "               y_max = [spec_df.T.loc[components].max().max()], y_min = [spec_df.T.loc[components].min().min()], y_scaling=False)    "
   ]
  },
  {
   "cell_type": "code",
   "execution_count": null,
   "id": "wound-bachelor",
   "metadata": {},
   "outputs": [],
   "source": [
    "plot.mult_func([1,3,2], [spec_df.T], marker=[\"\",\"\",\"\",\"\"], subtitle=[''], \n",
    "                x_label=\"wavelength /nm\", baseline=True, label=['S1','S2\\'', 'S3'], y_label='abstract ellipticity',\n",
    "              colors=['tab:red', 'tab:grey', 'tab:green'])  "
   ]
  },
  {
   "cell_type": "markdown",
   "id": "sufficient-question",
   "metadata": {},
   "source": [
    "Recalculation and TS-Plots"
   ]
  },
  {
   "cell_type": "code",
   "execution_count": null,
   "id": "deluxe-works",
   "metadata": {},
   "outputs": [],
   "source": [
    "df = pd.DataFrame(np.matmul(spec_df.to_numpy(), conc_df.to_numpy().T), index=data_measured.index, columns=t_list)\n",
    "max_cd_value = df.abs().max().max()\n",
    "sync,  assync = ana.perturbation_moving_window(df, window_size=3)\n",
    "plot.heatmap(sync, x_min=[215], x_max=[300], x_label='temperature / °C', y_label='wavelength / nm',\n",
    "                 c_label=\"\",c_min=[-1e8], c_max=[1e8], title=\"\", subtitle=[''],\n",
    "                contour_lines=[-0.7*max_cd_value, -0.4*max_cd_value,  -0.2*max_cd_value,  0, 0.2*max_cd_value, \n",
    "                                0.4*max_cd_value, 0.7*max_cd_value],\n",
    "            hline=melt_T[filename])"
   ]
  },
  {
   "cell_type": "code",
   "execution_count": null,
   "id": "infectious-grocery",
   "metadata": {},
   "outputs": [],
   "source": [
    "print(data3, df_error)"
   ]
  },
  {
   "cell_type": "code",
   "execution_count": null,
   "id": "accurate-valve",
   "metadata": {},
   "outputs": [],
   "source": [
    "print(data_all['GdmCl_1M'].t_list)"
   ]
  },
  {
   "cell_type": "markdown",
   "id": "ancient-spring",
   "metadata": {},
   "source": [
    "*write numbers into excel*"
   ]
  },
  {
   "cell_type": "code",
   "execution_count": null,
   "id": "smart-cigarette",
   "metadata": {},
   "outputs": [],
   "source": [
    "\n",
    "#print_path = \"C:\\\\Users\\\\crazy\\\\Documents\\\\Uni\\\\Masterarbeit\\\\Projekt\\\\Data\""
   ]
  },
  {
   "cell_type": "code",
   "execution_count": 10,
   "id": "tight-elder",
   "metadata": {},
   "outputs": [],
   "source": [
    "\n",
    "excel_path = print_path + \"\\\\\" + key + \".xlsx\"\n",
    "#with pd.ExcelWriter(excel_path, mode='w') as writer:  \n",
    "    #    data_all[key].absorb_df.to_excel(writer, sheet_name=\"concentration \")"
   ]
  },
  {
   "cell_type": "code",
   "execution_count": 11,
   "id": "alleged-corps",
   "metadata": {},
   "outputs": [],
   "source": [
    "with pd.ExcelWriter(excel_path, mode='w') as writer:  \n",
    "    conc_df.round(6).to_excel(writer, sheet_name=\"concentration \")\n",
    "    \n",
    "with pd.ExcelWriter(excel_path, mode='a') as writer:  \n",
    "    spec_df.round(6).to_excel(writer, sheet_name=\"spectra\")\n",
    "            "
   ]
  },
  {
   "cell_type": "code",
   "execution_count": null,
   "id": "stylish-campus",
   "metadata": {},
   "outputs": [],
   "source": [
    "plot.mult_func([2, 90], [data_measured.T, data_calculated.T], subtitle=['calculated vs measured spectra of 2nd component'], label=['measured', 'calculated'], x_label='Wavelength / nm')"
   ]
  },
  {
   "cell_type": "markdown",
   "id": "apart-military",
   "metadata": {},
   "source": [
    "## Plots"
   ]
  },
  {
   "cell_type": "markdown",
   "id": "consistent-north",
   "metadata": {},
   "source": [
    "### Heat Maps"
   ]
  },
  {
   "cell_type": "code",
   "execution_count": 13,
   "id": "equivalent-passing",
   "metadata": {},
   "outputs": [],
   "source": [
    "liste =  [\"Control_0M\", 'GdmCl_0.5M', 'GdmCl_1M', 'GdmCl_2M', 'GdmCl_4M', 'GdmCl_6M', 'Gdm2SO4_0.5M','Gdm2SO4_1M', 'Gdm2SO4_2M', 'Gdm2SO4_4M', 'Gdm2SO4_6M']"
   ]
  },
  {
   "cell_type": "code",
   "execution_count": 14,
   "id": "ordinary-philosophy",
   "metadata": {},
   "outputs": [
    {
     "data": {
      "application/vnd.jupyter.widget-view+json": {
       "model_id": "ee7d424b37754aa085b27e1fcd870680",
       "version_major": 2,
       "version_minor": 0
      },
      "text/plain": [
       "Canvas(toolbar=Toolbar(toolitems=[('Home', 'Reset original view', 'home', 'home'), ('Back', 'Back to previous …"
      ]
     },
     "metadata": {},
     "output_type": "display_data"
    },
    {
     "data": {
      "application/vnd.jupyter.widget-view+json": {
       "model_id": "6804a46660df49b08277013d942d146c",
       "version_major": 2,
       "version_minor": 0
      },
      "text/plain": [
       "Canvas(toolbar=Toolbar(toolitems=[('Home', 'Reset original view', 'home', 'home'), ('Back', 'Back to previous …"
      ]
     },
     "metadata": {},
     "output_type": "display_data"
    },
    {
     "data": {
      "application/vnd.jupyter.widget-view+json": {
       "model_id": "0155e670aacd4ac48895f746ee8acdfb",
       "version_major": 2,
       "version_minor": 0
      },
      "text/plain": [
       "Canvas(toolbar=Toolbar(toolitems=[('Home', 'Reset original view', 'home', 'home'), ('Back', 'Back to previous …"
      ]
     },
     "metadata": {},
     "output_type": "display_data"
    },
    {
     "data": {
      "application/vnd.jupyter.widget-view+json": {
       "model_id": "5bb22bba32c3499c8753499e7a70c315",
       "version_major": 2,
       "version_minor": 0
      },
      "text/plain": [
       "Canvas(toolbar=Toolbar(toolitems=[('Home', 'Reset original view', 'home', 'home'), ('Back', 'Back to previous …"
      ]
     },
     "metadata": {},
     "output_type": "display_data"
    },
    {
     "data": {
      "application/vnd.jupyter.widget-view+json": {
       "model_id": "74fde6bf580f4b20ba0836d9cd569f3b",
       "version_major": 2,
       "version_minor": 0
      },
      "text/plain": [
       "Canvas(toolbar=Toolbar(toolitems=[('Home', 'Reset original view', 'home', 'home'), ('Back', 'Back to previous …"
      ]
     },
     "metadata": {},
     "output_type": "display_data"
    },
    {
     "data": {
      "application/vnd.jupyter.widget-view+json": {
       "model_id": "a54be71d98d4485bba204cc1aca7e043",
       "version_major": 2,
       "version_minor": 0
      },
      "text/plain": [
       "Canvas(toolbar=Toolbar(toolitems=[('Home', 'Reset original view', 'home', 'home'), ('Back', 'Back to previous …"
      ]
     },
     "metadata": {},
     "output_type": "display_data"
    },
    {
     "data": {
      "application/vnd.jupyter.widget-view+json": {
       "model_id": "7ba94dd4d5e249709d3e00ecb0c793c3",
       "version_major": 2,
       "version_minor": 0
      },
      "text/plain": [
       "Canvas(toolbar=Toolbar(toolitems=[('Home', 'Reset original view', 'home', 'home'), ('Back', 'Back to previous …"
      ]
     },
     "metadata": {},
     "output_type": "display_data"
    },
    {
     "data": {
      "application/vnd.jupyter.widget-view+json": {
       "model_id": "6881a798e1994351981b5f08af10e8e8",
       "version_major": 2,
       "version_minor": 0
      },
      "text/plain": [
       "Canvas(toolbar=Toolbar(toolitems=[('Home', 'Reset original view', 'home', 'home'), ('Back', 'Back to previous …"
      ]
     },
     "metadata": {},
     "output_type": "display_data"
    },
    {
     "data": {
      "application/vnd.jupyter.widget-view+json": {
       "model_id": "3147bd9c5b714f589af048c0fe270a67",
       "version_major": 2,
       "version_minor": 0
      },
      "text/plain": [
       "Canvas(toolbar=Toolbar(toolitems=[('Home', 'Reset original view', 'home', 'home'), ('Back', 'Back to previous …"
      ]
     },
     "metadata": {},
     "output_type": "display_data"
    },
    {
     "data": {
      "application/vnd.jupyter.widget-view+json": {
       "model_id": "3795c0bc1979411889c6977e66c36d11",
       "version_major": 2,
       "version_minor": 0
      },
      "text/plain": [
       "Canvas(toolbar=Toolbar(toolitems=[('Home', 'Reset original view', 'home', 'home'), ('Back', 'Back to previous …"
      ]
     },
     "metadata": {},
     "output_type": "display_data"
    },
    {
     "data": {
      "application/vnd.jupyter.widget-view+json": {
       "model_id": "96d01ce85a2b48cd9df524d25ba6fb2a",
       "version_major": 2,
       "version_minor": 0
      },
      "text/plain": [
       "Canvas(toolbar=Toolbar(toolitems=[('Home', 'Reset original view', 'home', 'home'), ('Back', 'Back to previous …"
      ]
     },
     "metadata": {},
     "output_type": "display_data"
    },
    {
     "data": {
      "application/vnd.jupyter.widget-view+json": {
       "model_id": "86297dfe97064daf8bf31fdb3e0cd3ed",
       "version_major": 2,
       "version_minor": 0
      },
      "text/plain": [
       "Canvas(toolbar=Toolbar(toolitems=[('Home', 'Reset original view', 'home', 'home'), ('Back', 'Back to previous …"
      ]
     },
     "metadata": {},
     "output_type": "display_data"
    },
    {
     "data": {
      "application/vnd.jupyter.widget-view+json": {
       "model_id": "4f0db462816f48048cf2be4f303d8141",
       "version_major": 2,
       "version_minor": 0
      },
      "text/plain": [
       "Canvas(toolbar=Toolbar(toolitems=[('Home', 'Reset original view', 'home', 'home'), ('Back', 'Back to previous …"
      ]
     },
     "metadata": {},
     "output_type": "display_data"
    },
    {
     "data": {
      "application/vnd.jupyter.widget-view+json": {
       "model_id": "b97ffb19b11d43b5823ff2fb72129383",
       "version_major": 2,
       "version_minor": 0
      },
      "text/plain": [
       "Canvas(toolbar=Toolbar(toolitems=[('Home', 'Reset original view', 'home', 'home'), ('Back', 'Back to previous …"
      ]
     },
     "metadata": {},
     "output_type": "display_data"
    },
    {
     "data": {
      "application/vnd.jupyter.widget-view+json": {
       "model_id": "78bd393e918e4f4d9b70498679f64aff",
       "version_major": 2,
       "version_minor": 0
      },
      "text/plain": [
       "Canvas(toolbar=Toolbar(toolitems=[('Home', 'Reset original view', 'home', 'home'), ('Back', 'Back to previous …"
      ]
     },
     "metadata": {},
     "output_type": "display_data"
    },
    {
     "data": {
      "application/vnd.jupyter.widget-view+json": {
       "model_id": "3d40ccadcbaa464e80e3f45a7afbca04",
       "version_major": 2,
       "version_minor": 0
      },
      "text/plain": [
       "Canvas(toolbar=Toolbar(toolitems=[('Home', 'Reset original view', 'home', 'home'), ('Back', 'Back to previous …"
      ]
     },
     "metadata": {},
     "output_type": "display_data"
    },
    {
     "data": {
      "application/vnd.jupyter.widget-view+json": {
       "model_id": "10c28e940bc04c9291f1f4b2dd574bf0",
       "version_major": 2,
       "version_minor": 0
      },
      "text/plain": [
       "Canvas(toolbar=Toolbar(toolitems=[('Home', 'Reset original view', 'home', 'home'), ('Back', 'Back to previous …"
      ]
     },
     "metadata": {},
     "output_type": "display_data"
    },
    {
     "data": {
      "application/vnd.jupyter.widget-view+json": {
       "model_id": "91290ac1b43b4d02bff657aae83a810a",
       "version_major": 2,
       "version_minor": 0
      },
      "text/plain": [
       "Canvas(toolbar=Toolbar(toolitems=[('Home', 'Reset original view', 'home', 'home'), ('Back', 'Back to previous …"
      ]
     },
     "metadata": {},
     "output_type": "display_data"
    },
    {
     "data": {
      "application/vnd.jupyter.widget-view+json": {
       "model_id": "c92825e8194246229bf0217fb1b5ef1b",
       "version_major": 2,
       "version_minor": 0
      },
      "text/plain": [
       "Canvas(toolbar=Toolbar(toolitems=[('Home', 'Reset original view', 'home', 'home'), ('Back', 'Back to previous …"
      ]
     },
     "metadata": {},
     "output_type": "display_data"
    },
    {
     "data": {
      "application/vnd.jupyter.widget-view+json": {
       "model_id": "94e66fb8c50e4da6856989e5a214eacc",
       "version_major": 2,
       "version_minor": 0
      },
      "text/plain": [
       "Canvas(toolbar=Toolbar(toolitems=[('Home', 'Reset original view', 'home', 'home'), ('Back', 'Back to previous …"
      ]
     },
     "metadata": {},
     "output_type": "display_data"
    },
    {
     "name": "stderr",
     "output_type": "stream",
     "text": [
      "F:\\GitHub\\2Dcorrelation\\hotznplots.py:84: RuntimeWarning: More than 20 figures have been opened. Figures created through the pyplot interface (`matplotlib.pyplot.figure`) are retained until explicitly closed and may consume too much memory. (To control this warning, see the rcParam `figure.max_open_warning`).\n",
      "  fig = plt.figure(facecolor=backgroundcolor)\n"
     ]
    },
    {
     "data": {
      "application/vnd.jupyter.widget-view+json": {
       "model_id": "43663dc5733f40b081f8bb8254027d2d",
       "version_major": 2,
       "version_minor": 0
      },
      "text/plain": [
       "Canvas(toolbar=Toolbar(toolitems=[('Home', 'Reset original view', 'home', 'home'), ('Back', 'Back to previous …"
      ]
     },
     "metadata": {},
     "output_type": "display_data"
    }
   ],
   "source": [
    "for key in data_all.keys():\n",
    "    df = data_all[key].cd_df.loc[215:300]\n",
    "    max_cd_value = df.abs().max().max()\n",
    "    plot.heatmap(df, subtitle=[key], title=\"\", x_min=[215], x_max=[300], swap=True,\n",
    "                 x_label=r\"temperature $ / \\ ^{\\circ}C$\", y_label=r\"wavelength $/ \\ nm$\", c_label=r\"molar ellipticity \"\n",
    "                 r\"$ / \\ \\frac{deg \\times cm^{2}}{dmol}$\" , \n",
    "                 contour_lines=[-0.8*max_cd_value, -0.5*max_cd_value,  -0.25*max_cd_value,  0, 0.25*max_cd_value, 0.5*max_cd_value, 0.8*max_cd_value]\n",
    "                )"
   ]
  },
  {
   "cell_type": "code",
   "execution_count": 21,
   "id": "annoying-spyware",
   "metadata": {},
   "outputs": [
    {
     "data": {
      "application/vnd.jupyter.widget-view+json": {
       "model_id": "152fc496422d486d95ba627a335047b7",
       "version_major": 2,
       "version_minor": 0
      },
      "text/plain": [
       "Canvas(toolbar=Toolbar(toolitems=[('Home', 'Reset original view', 'home', 'home'), ('Back', 'Back to previous …"
      ]
     },
     "metadata": {},
     "output_type": "display_data"
    },
    {
     "data": {
      "application/vnd.jupyter.widget-view+json": {
       "model_id": "900d30061b8b4234b2fb94f100d0e202",
       "version_major": 2,
       "version_minor": 0
      },
      "text/plain": [
       "Canvas(toolbar=Toolbar(toolitems=[('Home', 'Reset original view', 'home', 'home'), ('Back', 'Back to previous …"
      ]
     },
     "metadata": {},
     "output_type": "display_data"
    },
    {
     "data": {
      "application/vnd.jupyter.widget-view+json": {
       "model_id": "7fd47556a8054230ac2629e485c954a6",
       "version_major": 2,
       "version_minor": 0
      },
      "text/plain": [
       "Canvas(toolbar=Toolbar(toolitems=[('Home', 'Reset original view', 'home', 'home'), ('Back', 'Back to previous …"
      ]
     },
     "metadata": {},
     "output_type": "display_data"
    },
    {
     "data": {
      "application/vnd.jupyter.widget-view+json": {
       "model_id": "3745d0cb834f458d9b4e2d363483f56f",
       "version_major": 2,
       "version_minor": 0
      },
      "text/plain": [
       "Canvas(toolbar=Toolbar(toolitems=[('Home', 'Reset original view', 'home', 'home'), ('Back', 'Back to previous …"
      ]
     },
     "metadata": {},
     "output_type": "display_data"
    },
    {
     "data": {
      "application/vnd.jupyter.widget-view+json": {
       "model_id": "a53ac5eff0ca42b5a0ffa23c9e6def0d",
       "version_major": 2,
       "version_minor": 0
      },
      "text/plain": [
       "Canvas(toolbar=Toolbar(toolitems=[('Home', 'Reset original view', 'home', 'home'), ('Back', 'Back to previous …"
      ]
     },
     "metadata": {},
     "output_type": "display_data"
    },
    {
     "data": {
      "application/vnd.jupyter.widget-view+json": {
       "model_id": "0608aba1f9894c2b9a2e3c05965f329f",
       "version_major": 2,
       "version_minor": 0
      },
      "text/plain": [
       "Canvas(toolbar=Toolbar(toolitems=[('Home', 'Reset original view', 'home', 'home'), ('Back', 'Back to previous …"
      ]
     },
     "metadata": {},
     "output_type": "display_data"
    },
    {
     "data": {
      "application/vnd.jupyter.widget-view+json": {
       "model_id": "90a0a454b89c44fb84c01a399a990dd8",
       "version_major": 2,
       "version_minor": 0
      },
      "text/plain": [
       "Canvas(toolbar=Toolbar(toolitems=[('Home', 'Reset original view', 'home', 'home'), ('Back', 'Back to previous …"
      ]
     },
     "metadata": {},
     "output_type": "display_data"
    },
    {
     "data": {
      "application/vnd.jupyter.widget-view+json": {
       "model_id": "a615de50d088433489750098f252ca4d",
       "version_major": 2,
       "version_minor": 0
      },
      "text/plain": [
       "Canvas(toolbar=Toolbar(toolitems=[('Home', 'Reset original view', 'home', 'home'), ('Back', 'Back to previous …"
      ]
     },
     "metadata": {},
     "output_type": "display_data"
    },
    {
     "data": {
      "application/vnd.jupyter.widget-view+json": {
       "model_id": "ab429779bec8435da60042e5b81dfaed",
       "version_major": 2,
       "version_minor": 0
      },
      "text/plain": [
       "Canvas(toolbar=Toolbar(toolitems=[('Home', 'Reset original view', 'home', 'home'), ('Back', 'Back to previous …"
      ]
     },
     "metadata": {},
     "output_type": "display_data"
    },
    {
     "data": {
      "application/vnd.jupyter.widget-view+json": {
       "model_id": "3708ef15b23f46b1a53dfd73ad14989c",
       "version_major": 2,
       "version_minor": 0
      },
      "text/plain": [
       "Canvas(toolbar=Toolbar(toolitems=[('Home', 'Reset original view', 'home', 'home'), ('Back', 'Back to previous …"
      ]
     },
     "metadata": {},
     "output_type": "display_data"
    },
    {
     "data": {
      "application/vnd.jupyter.widget-view+json": {
       "model_id": "c7f8d2eb9fab41aba490ebbfb9f46a46",
       "version_major": 2,
       "version_minor": 0
      },
      "text/plain": [
       "Canvas(toolbar=Toolbar(toolitems=[('Home', 'Reset original view', 'home', 'home'), ('Back', 'Back to previous …"
      ]
     },
     "metadata": {},
     "output_type": "display_data"
    },
    {
     "data": {
      "application/vnd.jupyter.widget-view+json": {
       "model_id": "0f7a4c858e654d1187d9859e1999cae6",
       "version_major": 2,
       "version_minor": 0
      },
      "text/plain": [
       "Canvas(toolbar=Toolbar(toolitems=[('Home', 'Reset original view', 'home', 'home'), ('Back', 'Back to previous …"
      ]
     },
     "metadata": {},
     "output_type": "display_data"
    },
    {
     "data": {
      "application/vnd.jupyter.widget-view+json": {
       "model_id": "39280f90e3fb4315aa76356e0aee8a6a",
       "version_major": 2,
       "version_minor": 0
      },
      "text/plain": [
       "Canvas(toolbar=Toolbar(toolitems=[('Home', 'Reset original view', 'home', 'home'), ('Back', 'Back to previous …"
      ]
     },
     "metadata": {},
     "output_type": "display_data"
    },
    {
     "data": {
      "application/vnd.jupyter.widget-view+json": {
       "model_id": "1eb69609748f4781bbb9583be0a4ce75",
       "version_major": 2,
       "version_minor": 0
      },
      "text/plain": [
       "Canvas(toolbar=Toolbar(toolitems=[('Home', 'Reset original view', 'home', 'home'), ('Back', 'Back to previous …"
      ]
     },
     "metadata": {},
     "output_type": "display_data"
    },
    {
     "data": {
      "application/vnd.jupyter.widget-view+json": {
       "model_id": "3649564d92ec481b99fee39446940afc",
       "version_major": 2,
       "version_minor": 0
      },
      "text/plain": [
       "Canvas(toolbar=Toolbar(toolitems=[('Home', 'Reset original view', 'home', 'home'), ('Back', 'Back to previous …"
      ]
     },
     "metadata": {},
     "output_type": "display_data"
    },
    {
     "data": {
      "application/vnd.jupyter.widget-view+json": {
       "model_id": "48ef1d5a7b344034b39041b4c8fea618",
       "version_major": 2,
       "version_minor": 0
      },
      "text/plain": [
       "Canvas(toolbar=Toolbar(toolitems=[('Home', 'Reset original view', 'home', 'home'), ('Back', 'Back to previous …"
      ]
     },
     "metadata": {},
     "output_type": "display_data"
    },
    {
     "data": {
      "application/vnd.jupyter.widget-view+json": {
       "model_id": "90ffd7c8c9c14471ad198b2538b2e18e",
       "version_major": 2,
       "version_minor": 0
      },
      "text/plain": [
       "Canvas(toolbar=Toolbar(toolitems=[('Home', 'Reset original view', 'home', 'home'), ('Back', 'Back to previous …"
      ]
     },
     "metadata": {},
     "output_type": "display_data"
    },
    {
     "data": {
      "application/vnd.jupyter.widget-view+json": {
       "model_id": "030600114daa4faea999b7212020a8c7",
       "version_major": 2,
       "version_minor": 0
      },
      "text/plain": [
       "Canvas(toolbar=Toolbar(toolitems=[('Home', 'Reset original view', 'home', 'home'), ('Back', 'Back to previous …"
      ]
     },
     "metadata": {},
     "output_type": "display_data"
    },
    {
     "name": "stderr",
     "output_type": "stream",
     "text": [
      "F:\\GitHub\\2Dcorrelation\\hotznplots.py:84: RuntimeWarning: More than 20 figures have been opened. Figures created through the pyplot interface (`matplotlib.pyplot.figure`) are retained until explicitly closed and may consume too much memory. (To control this warning, see the rcParam `figure.max_open_warning`).\n",
      "  fig = plt.figure(facecolor=backgroundcolor)\n"
     ]
    },
    {
     "data": {
      "application/vnd.jupyter.widget-view+json": {
       "model_id": "5908fcde52804d4b851a5955e269bb6f",
       "version_major": 2,
       "version_minor": 0
      },
      "text/plain": [
       "Canvas(toolbar=Toolbar(toolitems=[('Home', 'Reset original view', 'home', 'home'), ('Back', 'Back to previous …"
      ]
     },
     "metadata": {},
     "output_type": "display_data"
    },
    {
     "data": {
      "application/vnd.jupyter.widget-view+json": {
       "model_id": "87da350c4d2440e38c68b4fa8c0ea45a",
       "version_major": 2,
       "version_minor": 0
      },
      "text/plain": [
       "Canvas(toolbar=Toolbar(toolitems=[('Home', 'Reset original view', 'home', 'home'), ('Back', 'Back to previous …"
      ]
     },
     "metadata": {},
     "output_type": "display_data"
    },
    {
     "data": {
      "application/vnd.jupyter.widget-view+json": {
       "model_id": "f0671242c24f4757a48b8649f0cb8a08",
       "version_major": 2,
       "version_minor": 0
      },
      "text/plain": [
       "Canvas(toolbar=Toolbar(toolitems=[('Home', 'Reset original view', 'home', 'home'), ('Back', 'Back to previous …"
      ]
     },
     "metadata": {},
     "output_type": "display_data"
    }
   ],
   "source": [
    "for key in data_all_smooth.keys():\n",
    "    df = data_all_smooth[key].loc[215:300]\n",
    "    max_cd_value = df.abs().max().max()\n",
    "    plot.heatmap(df, subtitle=[key], title=\"\", x_min=[215], x_max=[300], swap=True,\n",
    "                 x_label=r\"temperature $ / \\ ^{\\circ}C$\", y_label=r\"wavelength $/ \\ nm$\", c_label=r\"molar ellipticity \"\n",
    "                 r\"$ / \\ \\frac{deg \\times cm^{2}}{dmol}$\" \n",
    "                )"
   ]
  },
  {
   "cell_type": "code",
   "execution_count": null,
   "id": "committed-imaging",
   "metadata": {},
   "outputs": [],
   "source": [
    "for key in data_all.keys():\n",
    "    plot.heatmap(data_all[key].cd_df, subtitle=[\"\"], title=str(key), x_min=[215], swap=True, y_label=\"Temperature [°C]\", x_label=\"Wavelength [nm]\")"
   ]
  },
  {
   "cell_type": "code",
   "execution_count": null,
   "id": "sealed-investor",
   "metadata": {},
   "outputs": [],
   "source": [
    "#plot.heatmap(*tuple(data_all.values()), subtitle=tuple(data_all.keys()), title=\"Cd-Values\", x_min=[220]*len(data_all), swap=False)"
   ]
  },
  {
   "cell_type": "markdown",
   "id": "automated-rebel",
   "metadata": {},
   "source": [
    "### 3D surface plots"
   ]
  },
  {
   "cell_type": "code",
   "execution_count": null,
   "id": "intermediate-enlargement",
   "metadata": {},
   "outputs": [],
   "source": [
    "for key in data_all.keys():\n",
    "    df = data_all[key].cd_df.loc[215:300, 20:75]\n",
    "\n",
    "    plot.function3d(df, title=\"\", z_label=r\"molar CD \\ \"\n",
    "                 r\"$ \\frac{deg \\times cm^{2}}{dmol}$\",\n",
    "               x_label='wavelength \\ nm', y_label='temperature \\ °C')"
   ]
  },
  {
   "cell_type": "markdown",
   "id": "invisible-natural",
   "metadata": {},
   "source": [
    "###  Function Plots "
   ]
  },
  {
   "cell_type": "markdown",
   "id": "alleged-premiere",
   "metadata": {},
   "source": [
    "#### CD-Spectra Plot"
   ]
  },
  {
   "cell_type": "code",
   "execution_count": 15,
   "id": "unexpected-boulder",
   "metadata": {},
   "outputs": [
    {
     "data": {
      "application/vnd.jupyter.widget-view+json": {
       "model_id": "df0164b4592549b5ba4142b6cd9be844",
       "version_major": 2,
       "version_minor": 0
      },
      "text/plain": [
       "Canvas(toolbar=Toolbar(toolitems=[('Home', 'Reset original view', 'home', 'home'), ('Back', 'Back to previous …"
      ]
     },
     "metadata": {},
     "output_type": "display_data"
    }
   ],
   "source": [
    "df =  data_all[\"Control_0M\"].cd_df\n",
    "\n",
    "plot.mult_func([20], [df], swap=True, x_min=215, x_max=300, marker=[''], subtitle=[''], baseline=True, colors=['tab:red'], x_label=\"wavelength / nm\", label=['20 °C'])"
   ]
  },
  {
   "cell_type": "code",
   "execution_count": 16,
   "id": "complimentary-member",
   "metadata": {},
   "outputs": [
    {
     "data": {
      "application/vnd.jupyter.widget-view+json": {
       "model_id": "cac713fb70554c29a16c96a02d6b8401",
       "version_major": 2,
       "version_minor": 0
      },
      "text/plain": [
       "Canvas(toolbar=Toolbar(toolitems=[('Home', 'Reset original view', 'home', 'home'), ('Back', 'Back to previous …"
      ]
     },
     "metadata": {},
     "output_type": "display_data"
    }
   ],
   "source": [
    "wave_min = 215\n",
    "wave_max = 330\n",
    "\n",
    "plot.mult_func([230, 247, 275], [data_all['Control_0M'].cd_df.loc[wave_min:wave_max]], \n",
    "               swap=False, x_label=\"Temperature [°C]\", subtitle=[\"\"], \n",
    "               marker=['', '', '', '', '', ''], linestyle=['-', ':', ':', '', '-'], baseline=True, \n",
    "               label=['230','247','275'])"
   ]
  },
  {
   "cell_type": "code",
   "execution_count": 17,
   "id": "juvenile-connectivity",
   "metadata": {},
   "outputs": [
    {
     "data": {
      "application/vnd.jupyter.widget-view+json": {
       "model_id": "db6e067cddba4522ae1936ae1b302377",
       "version_major": 2,
       "version_minor": 0
      },
      "text/plain": [
       "Canvas(toolbar=Toolbar(toolitems=[('Home', 'Reset original view', 'home', 'home'), ('Back', 'Back to previous …"
      ]
     },
     "metadata": {},
     "output_type": "display_data"
    }
   ],
   "source": [
    "wave_min = 215\n",
    "wave_max = 300\n",
    "\n",
    "key_list = ['Control_0M', 'Gdm2SO4_0.5M', 'Gdm2SO4_1M' ,'Gdm2SO4_2M', 'Gdm2SO4_4M', 'Gdm2SO4_6M', 'GdmCl_0.5M', 'GdmCl_1M', 'GdmCl_2M',  'GdmCl_4M', 'GdmCl_6M']\n",
    "cd_liste = []\n",
    "for key in key_list:\n",
    "    cd_liste.append(data_all[key].cd_df)\n",
    "    \n",
    "plot.mult_func([20], cd_liste, title=key, swap=True, x_min=wave_min, x_max=wave_max,\n",
    "                   x_label=\"Wavelength [nm]\", y_label=\"CD values [mdeg]\", subtitle=[\"\"],  baseline=True, label=key_list,\n",
    "               marker=[\"\"]*len(key_list)\n",
    "                  )\n",
    "\n"
   ]
  },
  {
   "cell_type": "code",
   "execution_count": 18,
   "id": "informational-inventory",
   "metadata": {},
   "outputs": [
    {
     "name": "stdout",
     "output_type": "stream",
     "text": [
      "89455296.94512439 24961616.88906032 3.583714041550292\n"
     ]
    }
   ],
   "source": [
    "liste = np.zeros(len(key_list))\n",
    "for i in range(len(key_list)):\n",
    "    liste[i] = cd_liste[i].loc[220,20]\n",
    "print(np.mean(liste), np.std(liste), np.mean(liste)/np.std(liste))"
   ]
  },
  {
   "cell_type": "markdown",
   "id": "wrong-tackle",
   "metadata": {},
   "source": [
    "#### Max/Min Plots\n"
   ]
  },
  {
   "cell_type": "markdown",
   "id": "mediterranean-texas",
   "metadata": {},
   "source": [
    "multiple probes"
   ]
  },
  {
   "cell_type": "code",
   "execution_count": 116,
   "id": "unnecessary-georgia",
   "metadata": {},
   "outputs": [],
   "source": [
    "# Daniels path:\n",
    "excel_path = \"F:\\\\HZDR\\\\CD_Auswertung\\\\Exel_Max-Min\"\n",
    "# Christophs path:\n",
    "excel_path = \"C:\\\\Users\\\\crazy\\\\Mega\\\\Uni\\\\Masterarbeit\\\\Projekt\\\\output.xlsx\""
   ]
  },
  {
   "cell_type": "code",
   "execution_count": 117,
   "id": "protected-conservative",
   "metadata": {},
   "outputs": [
    {
     "data": {
      "application/vnd.jupyter.widget-view+json": {
       "model_id": "dcee9933669e4afe8cd53d25c9517734",
       "version_major": 2,
       "version_minor": 0
      },
      "text/plain": [
       "Canvas(toolbar=Toolbar(toolitems=[('Home', 'Reset original view', 'home', 'home'), ('Back', 'Back to previous …"
      ]
     },
     "metadata": {},
     "output_type": "display_data"
    },
    {
     "data": {
      "application/vnd.jupyter.widget-view+json": {
       "model_id": "cfb838892b1e4c7aaaa222585009a2dc",
       "version_major": 2,
       "version_minor": 0
      },
      "text/plain": [
       "Canvas(toolbar=Toolbar(toolitems=[('Home', 'Reset original view', 'home', 'home'), ('Back', 'Back to previous …"
      ]
     },
     "metadata": {},
     "output_type": "display_data"
    },
    {
     "data": {
      "application/vnd.jupyter.widget-view+json": {
       "model_id": "b7e702fbb09b479d9e9189dff32eb9bc",
       "version_major": 2,
       "version_minor": 0
      },
      "text/plain": [
       "Canvas(toolbar=Toolbar(toolitems=[('Home', 'Reset original view', 'home', 'home'), ('Back', 'Back to previous …"
      ]
     },
     "metadata": {},
     "output_type": "display_data"
    },
    {
     "data": {
      "application/vnd.jupyter.widget-view+json": {
       "model_id": "9a06a57090ca4a378d37387990b165b5",
       "version_major": 2,
       "version_minor": 0
      },
      "text/plain": [
       "Canvas(toolbar=Toolbar(toolitems=[('Home', 'Reset original view', 'home', 'home'), ('Back', 'Back to previous …"
      ]
     },
     "metadata": {},
     "output_type": "display_data"
    },
    {
     "data": {
      "application/vnd.jupyter.widget-view+json": {
       "model_id": "465e5f89a17e431aba3fb4f2fefc4393",
       "version_major": 2,
       "version_minor": 0
      },
      "text/plain": [
       "Canvas(toolbar=Toolbar(toolitems=[('Home', 'Reset original view', 'home', 'home'), ('Back', 'Back to previous …"
      ]
     },
     "metadata": {},
     "output_type": "display_data"
    },
    {
     "data": {
      "application/vnd.jupyter.widget-view+json": {
       "model_id": "f6cbd0b0bf0646bca4b5ac6a84bfb12a",
       "version_major": 2,
       "version_minor": 0
      },
      "text/plain": [
       "Canvas(toolbar=Toolbar(toolitems=[('Home', 'Reset original view', 'home', 'home'), ('Back', 'Back to previous …"
      ]
     },
     "metadata": {},
     "output_type": "display_data"
    },
    {
     "data": {
      "application/vnd.jupyter.widget-view+json": {
       "model_id": "cc0bb72bcff74af48cc57a3782bc90e5",
       "version_major": 2,
       "version_minor": 0
      },
      "text/plain": [
       "Canvas(toolbar=Toolbar(toolitems=[('Home', 'Reset original view', 'home', 'home'), ('Back', 'Back to previous …"
      ]
     },
     "metadata": {},
     "output_type": "display_data"
    },
    {
     "data": {
      "application/vnd.jupyter.widget-view+json": {
       "model_id": "c465ca744676487a935566edc98154bb",
       "version_major": 2,
       "version_minor": 0
      },
      "text/plain": [
       "Canvas(toolbar=Toolbar(toolitems=[('Home', 'Reset original view', 'home', 'home'), ('Back', 'Back to previous …"
      ]
     },
     "metadata": {},
     "output_type": "display_data"
    },
    {
     "data": {
      "application/vnd.jupyter.widget-view+json": {
       "model_id": "278476c9471d4b3e9226c047f7795b36",
       "version_major": 2,
       "version_minor": 0
      },
      "text/plain": [
       "Canvas(toolbar=Toolbar(toolitems=[('Home', 'Reset original view', 'home', 'home'), ('Back', 'Back to previous …"
      ]
     },
     "metadata": {},
     "output_type": "display_data"
    },
    {
     "data": {
      "application/vnd.jupyter.widget-view+json": {
       "model_id": "4b32d55fa85a4cba986b62826fba744b",
       "version_major": 2,
       "version_minor": 0
      },
      "text/plain": [
       "Canvas(toolbar=Toolbar(toolitems=[('Home', 'Reset original view', 'home', 'home'), ('Back', 'Back to previous …"
      ]
     },
     "metadata": {},
     "output_type": "display_data"
    },
    {
     "data": {
      "application/vnd.jupyter.widget-view+json": {
       "model_id": "cad5008aaf3b471bbfa34598e470bd73",
       "version_major": 2,
       "version_minor": 0
      },
      "text/plain": [
       "Canvas(toolbar=Toolbar(toolitems=[('Home', 'Reset original view', 'home', 'home'), ('Back', 'Back to previous …"
      ]
     },
     "metadata": {},
     "output_type": "display_data"
    },
    {
     "data": {
      "application/vnd.jupyter.widget-view+json": {
       "model_id": "070de3f26a914321962479451891b388",
       "version_major": 2,
       "version_minor": 0
      },
      "text/plain": [
       "Canvas(toolbar=Toolbar(toolitems=[('Home', 'Reset original view', 'home', 'home'), ('Back', 'Back to previous …"
      ]
     },
     "metadata": {},
     "output_type": "display_data"
    },
    {
     "data": {
      "application/vnd.jupyter.widget-view+json": {
       "model_id": "168ced1cc42e4ae7af945ae9265da234",
       "version_major": 2,
       "version_minor": 0
      },
      "text/plain": [
       "Canvas(toolbar=Toolbar(toolitems=[('Home', 'Reset original view', 'home', 'home'), ('Back', 'Back to previous …"
      ]
     },
     "metadata": {},
     "output_type": "display_data"
    },
    {
     "data": {
      "application/vnd.jupyter.widget-view+json": {
       "model_id": "4e1851baa62c48409e0eefb263b16657",
       "version_major": 2,
       "version_minor": 0
      },
      "text/plain": [
       "Canvas(toolbar=Toolbar(toolitems=[('Home', 'Reset original view', 'home', 'home'), ('Back', 'Back to previous …"
      ]
     },
     "metadata": {},
     "output_type": "display_data"
    },
    {
     "data": {
      "application/vnd.jupyter.widget-view+json": {
       "model_id": "4bc0f7bf00fc4c68916bba28274938b1",
       "version_major": 2,
       "version_minor": 0
      },
      "text/plain": [
       "Canvas(toolbar=Toolbar(toolitems=[('Home', 'Reset original view', 'home', 'home'), ('Back', 'Back to previous …"
      ]
     },
     "metadata": {},
     "output_type": "display_data"
    },
    {
     "data": {
      "application/vnd.jupyter.widget-view+json": {
       "model_id": "c3060fd346f443a3ae89cd3af8658a1a",
       "version_major": 2,
       "version_minor": 0
      },
      "text/plain": [
       "Canvas(toolbar=Toolbar(toolitems=[('Home', 'Reset original view', 'home', 'home'), ('Back', 'Back to previous …"
      ]
     },
     "metadata": {},
     "output_type": "display_data"
    },
    {
     "data": {
      "application/vnd.jupyter.widget-view+json": {
       "model_id": "dafc04e1879b40889e5b565c11cb604e",
       "version_major": 2,
       "version_minor": 0
      },
      "text/plain": [
       "Canvas(toolbar=Toolbar(toolitems=[('Home', 'Reset original view', 'home', 'home'), ('Back', 'Back to previous …"
      ]
     },
     "metadata": {},
     "output_type": "display_data"
    },
    {
     "data": {
      "application/vnd.jupyter.widget-view+json": {
       "model_id": "034f6786e12c474f82a9d67f3c376ed9",
       "version_major": 2,
       "version_minor": 0
      },
      "text/plain": [
       "Canvas(toolbar=Toolbar(toolitems=[('Home', 'Reset original view', 'home', 'home'), ('Back', 'Back to previous …"
      ]
     },
     "metadata": {},
     "output_type": "display_data"
    },
    {
     "data": {
      "application/vnd.jupyter.widget-view+json": {
       "model_id": "b43ee3171b794edcbe105a53789cae30",
       "version_major": 2,
       "version_minor": 0
      },
      "text/plain": [
       "Canvas(toolbar=Toolbar(toolitems=[('Home', 'Reset original view', 'home', 'home'), ('Back', 'Back to previous …"
      ]
     },
     "metadata": {},
     "output_type": "display_data"
    },
    {
     "data": {
      "application/vnd.jupyter.widget-view+json": {
       "model_id": "5e2785a7920a4c37a5c89379fc977d01",
       "version_major": 2,
       "version_minor": 0
      },
      "text/plain": [
       "Canvas(toolbar=Toolbar(toolitems=[('Home', 'Reset original view', 'home', 'home'), ('Back', 'Back to previous …"
      ]
     },
     "metadata": {},
     "output_type": "display_data"
    },
    {
     "data": {
      "application/vnd.jupyter.widget-view+json": {
       "model_id": "74d45afad67542038c93dff296f7f498",
       "version_major": 2,
       "version_minor": 0
      },
      "text/plain": [
       "Canvas(toolbar=Toolbar(toolitems=[('Home', 'Reset original view', 'home', 'home'), ('Back', 'Back to previous …"
      ]
     },
     "metadata": {},
     "output_type": "display_data"
    }
   ],
   "source": [
    "# liste \n",
    "liste =  ['Control_0M', 'Gdm2SO4_0.5M', 'Gdm2SO4_2M', 'Gdm2SO4_4M',  'GdmCl_0.5M', 'GdmCl_2M', 'GdmCl_2M_24h' , 'GdmCl_4M']\n",
    "wave_min = 260\n",
    "wave_max =  300\n",
    "\n",
    "for key in data_all.keys():\n",
    "    plot_data =  ana.min_wave(data_all[key].cd_df.abs(), wave_min=wave_min, wave_max=wave_max)\n",
    "    plot_data = plot_data.drop(['Value'], axis=1)   \n",
    "    plot_data.rename(columns = {'Wavelength': key}, inplace = True)\n",
    "    plot.mult_func([key], [plot_data.T])\n",
    "    #with pd.ExcelWriter(excel_path, mode='a') as writer:  \n",
    "                    #plot_data.to_excel(writer, sheet_name=key)"
   ]
  },
  {
   "cell_type": "code",
   "execution_count": 22,
   "id": "sublime-german",
   "metadata": {},
   "outputs": [
    {
     "data": {
      "application/vnd.jupyter.widget-view+json": {
       "model_id": "0573c11e8c1847e8bdd7828f1fd4ff65",
       "version_major": 2,
       "version_minor": 0
      },
      "text/plain": [
       "Canvas(toolbar=Toolbar(toolitems=[('Home', 'Reset original view', 'home', 'home'), ('Back', 'Back to previous …"
      ]
     },
     "metadata": {},
     "output_type": "display_data"
    }
   ],
   "source": [
    "wave_min = 260\n",
    "wave_max =  280\n",
    "key = \"Gdm2SO4_4M\"\n",
    "\n",
    "# First data you want to add to the plot\n",
    "plot_data =  ana.max_wave(data_all[key].cd_df, wave_min=wave_min, wave_max=wave_max)\n",
    "plot_data = plot_data.drop(['Wavelength'], axis=1)   \n",
    "plot_data.rename(columns = {'Value': key}, inplace = True)\n",
    "\n",
    "\n",
    "\n",
    "# other Data you want to add, if always same max/min values then loop would be possible\n",
    "#plot_data[\"GdmCl_4M\"] = ana.max_wave(data_all[\"GdmCl_4M\"].cd_df, wave_min=wave_min, wave_max=wave_max)[\"Value\"]\n",
    "#plot_data[\"Gdm2SO4_2M\"] = ana.max_wave(data_all[\"Gdm2SO4_2M\"].cd_df, wave_min=wave_min, wave_max=wave_max)[\"Value\"]\n",
    "#plot_data[\"GdmSCN_2M\"] 2= ana.max_wave(data_all[\"GdmSCN_2M\"].cd_df, wave_min=wave_min, wave_max=wave_max)[\"Value\"]\n",
    "\n",
    "\n",
    "plot.mult_func([key], [plot_data.T], subtitle=[\"\"], title=\"Max. CD Value between \" + str(wave_min) + 'nm - ' +str(wave_max) + \" nm\")"
   ]
  },
  {
   "cell_type": "markdown",
   "id": "lesser-calendar",
   "metadata": {},
   "source": [
    "one probe"
   ]
  },
  {
   "cell_type": "code",
   "execution_count": 23,
   "id": "streaming-tulsa",
   "metadata": {},
   "outputs": [
    {
     "data": {
      "application/vnd.jupyter.widget-view+json": {
       "model_id": "d827eb5950d0424abe51f6ded2ceeafa",
       "version_major": 2,
       "version_minor": 0
      },
      "text/plain": [
       "Canvas(toolbar=Toolbar(toolitems=[('Home', 'Reset original view', 'home', 'home'), ('Back', 'Back to previous …"
      ]
     },
     "metadata": {},
     "output_type": "display_data"
    },
    {
     "data": {
      "application/vnd.jupyter.widget-view+json": {
       "model_id": "6308c094af6a469199c04efc66630dd5",
       "version_major": 2,
       "version_minor": 0
      },
      "text/plain": [
       "Canvas(toolbar=Toolbar(toolitems=[('Home', 'Reset original view', 'home', 'home'), ('Back', 'Back to previous …"
      ]
     },
     "metadata": {},
     "output_type": "display_data"
    },
    {
     "data": {
      "application/vnd.jupyter.widget-view+json": {
       "model_id": "a2cb447746b949a8a4f568cde2c8fbb3",
       "version_major": 2,
       "version_minor": 0
      },
      "text/plain": [
       "Canvas(toolbar=Toolbar(toolitems=[('Home', 'Reset original view', 'home', 'home'), ('Back', 'Back to previous …"
      ]
     },
     "metadata": {},
     "output_type": "display_data"
    },
    {
     "data": {
      "application/vnd.jupyter.widget-view+json": {
       "model_id": "126a593f2deb4c14a67f2760d186a79a",
       "version_major": 2,
       "version_minor": 0
      },
      "text/plain": [
       "Canvas(toolbar=Toolbar(toolitems=[('Home', 'Reset original view', 'home', 'home'), ('Back', 'Back to previous …"
      ]
     },
     "metadata": {},
     "output_type": "display_data"
    },
    {
     "data": {
      "application/vnd.jupyter.widget-view+json": {
       "model_id": "55c2601885054ee0ac49457c468635a3",
       "version_major": 2,
       "version_minor": 0
      },
      "text/plain": [
       "Canvas(toolbar=Toolbar(toolitems=[('Home', 'Reset original view', 'home', 'home'), ('Back', 'Back to previous …"
      ]
     },
     "metadata": {},
     "output_type": "display_data"
    },
    {
     "data": {
      "application/vnd.jupyter.widget-view+json": {
       "model_id": "27f22b0aae0342f48c3b687726d39b69",
       "version_major": 2,
       "version_minor": 0
      },
      "text/plain": [
       "Canvas(toolbar=Toolbar(toolitems=[('Home', 'Reset original view', 'home', 'home'), ('Back', 'Back to previous …"
      ]
     },
     "metadata": {},
     "output_type": "display_data"
    },
    {
     "data": {
      "application/vnd.jupyter.widget-view+json": {
       "model_id": "602acdaccd6443959ab2a42190c04709",
       "version_major": 2,
       "version_minor": 0
      },
      "text/plain": [
       "Canvas(toolbar=Toolbar(toolitems=[('Home', 'Reset original view', 'home', 'home'), ('Back', 'Back to previous …"
      ]
     },
     "metadata": {},
     "output_type": "display_data"
    },
    {
     "data": {
      "application/vnd.jupyter.widget-view+json": {
       "model_id": "b7acc5122654410d8de559ce3ff9c7cd",
       "version_major": 2,
       "version_minor": 0
      },
      "text/plain": [
       "Canvas(toolbar=Toolbar(toolitems=[('Home', 'Reset original view', 'home', 'home'), ('Back', 'Back to previous …"
      ]
     },
     "metadata": {},
     "output_type": "display_data"
    },
    {
     "data": {
      "application/vnd.jupyter.widget-view+json": {
       "model_id": "81c64475234d406bb6f5222b15fe0f44",
       "version_major": 2,
       "version_minor": 0
      },
      "text/plain": [
       "Canvas(toolbar=Toolbar(toolitems=[('Home', 'Reset original view', 'home', 'home'), ('Back', 'Back to previous …"
      ]
     },
     "metadata": {},
     "output_type": "display_data"
    },
    {
     "data": {
      "application/vnd.jupyter.widget-view+json": {
       "model_id": "289e7b651bdb4a2a86e74cba6640e320",
       "version_major": 2,
       "version_minor": 0
      },
      "text/plain": [
       "Canvas(toolbar=Toolbar(toolitems=[('Home', 'Reset original view', 'home', 'home'), ('Back', 'Back to previous …"
      ]
     },
     "metadata": {},
     "output_type": "display_data"
    },
    {
     "data": {
      "application/vnd.jupyter.widget-view+json": {
       "model_id": "96eb6751d2104a5688915414d375c5d3",
       "version_major": 2,
       "version_minor": 0
      },
      "text/plain": [
       "Canvas(toolbar=Toolbar(toolitems=[('Home', 'Reset original view', 'home', 'home'), ('Back', 'Back to previous …"
      ]
     },
     "metadata": {},
     "output_type": "display_data"
    },
    {
     "data": {
      "application/vnd.jupyter.widget-view+json": {
       "model_id": "69fb969a232640b9aa5db76d1baddf0d",
       "version_major": 2,
       "version_minor": 0
      },
      "text/plain": [
       "Canvas(toolbar=Toolbar(toolitems=[('Home', 'Reset original view', 'home', 'home'), ('Back', 'Back to previous …"
      ]
     },
     "metadata": {},
     "output_type": "display_data"
    },
    {
     "data": {
      "application/vnd.jupyter.widget-view+json": {
       "model_id": "07792ad7647d41c2b0f40794e61bce08",
       "version_major": 2,
       "version_minor": 0
      },
      "text/plain": [
       "Canvas(toolbar=Toolbar(toolitems=[('Home', 'Reset original view', 'home', 'home'), ('Back', 'Back to previous …"
      ]
     },
     "metadata": {},
     "output_type": "display_data"
    },
    {
     "data": {
      "application/vnd.jupyter.widget-view+json": {
       "model_id": "7e6fa99d9b2e43b08712f6665eb82d7f",
       "version_major": 2,
       "version_minor": 0
      },
      "text/plain": [
       "Canvas(toolbar=Toolbar(toolitems=[('Home', 'Reset original view', 'home', 'home'), ('Back', 'Back to previous …"
      ]
     },
     "metadata": {},
     "output_type": "display_data"
    },
    {
     "data": {
      "application/vnd.jupyter.widget-view+json": {
       "model_id": "086bb0f4634849899585edcdc945237b",
       "version_major": 2,
       "version_minor": 0
      },
      "text/plain": [
       "Canvas(toolbar=Toolbar(toolitems=[('Home', 'Reset original view', 'home', 'home'), ('Back', 'Back to previous …"
      ]
     },
     "metadata": {},
     "output_type": "display_data"
    },
    {
     "data": {
      "application/vnd.jupyter.widget-view+json": {
       "model_id": "88324287d07d404c9cfac07366962874",
       "version_major": 2,
       "version_minor": 0
      },
      "text/plain": [
       "Canvas(toolbar=Toolbar(toolitems=[('Home', 'Reset original view', 'home', 'home'), ('Back', 'Back to previous …"
      ]
     },
     "metadata": {},
     "output_type": "display_data"
    },
    {
     "data": {
      "application/vnd.jupyter.widget-view+json": {
       "model_id": "56ac2726e19148bcb62c7473768c19b0",
       "version_major": 2,
       "version_minor": 0
      },
      "text/plain": [
       "Canvas(toolbar=Toolbar(toolitems=[('Home', 'Reset original view', 'home', 'home'), ('Back', 'Back to previous …"
      ]
     },
     "metadata": {},
     "output_type": "display_data"
    },
    {
     "data": {
      "application/vnd.jupyter.widget-view+json": {
       "model_id": "daeec33059054963ad40dde9426f14ab",
       "version_major": 2,
       "version_minor": 0
      },
      "text/plain": [
       "Canvas(toolbar=Toolbar(toolitems=[('Home', 'Reset original view', 'home', 'home'), ('Back', 'Back to previous …"
      ]
     },
     "metadata": {},
     "output_type": "display_data"
    },
    {
     "data": {
      "application/vnd.jupyter.widget-view+json": {
       "model_id": "be4ab8fd807040219eb0d542159434f9",
       "version_major": 2,
       "version_minor": 0
      },
      "text/plain": [
       "Canvas(toolbar=Toolbar(toolitems=[('Home', 'Reset original view', 'home', 'home'), ('Back', 'Back to previous …"
      ]
     },
     "metadata": {},
     "output_type": "display_data"
    },
    {
     "data": {
      "application/vnd.jupyter.widget-view+json": {
       "model_id": "cc3772b10fc64242a1aa70fca50a149b",
       "version_major": 2,
       "version_minor": 0
      },
      "text/plain": [
       "Canvas(toolbar=Toolbar(toolitems=[('Home', 'Reset original view', 'home', 'home'), ('Back', 'Back to previous …"
      ]
     },
     "metadata": {},
     "output_type": "display_data"
    },
    {
     "data": {
      "application/vnd.jupyter.widget-view+json": {
       "model_id": "41b6f161551944278e58053fd290fda2",
       "version_major": 2,
       "version_minor": 0
      },
      "text/plain": [
       "Canvas(toolbar=Toolbar(toolitems=[('Home', 'Reset original view', 'home', 'home'), ('Back', 'Back to previous …"
      ]
     },
     "metadata": {},
     "output_type": "display_data"
    }
   ],
   "source": [
    "wave_min = 260\n",
    "wave_max =  300\n",
    "title = \"Max. CD-Value between \" + str(wave_min) + \"nm - \" + str(wave_max) +\"nm\"\n",
    "\n",
    "for key in data_all.keys():\n",
    "    plot_data =  ana.max_wave(data_all[key].cd_df, wave_min=wave_min, wave_max=wave_max)\n",
    "    plot.mult_func([\"Value\"], [plot_data.T], subtitle=[\"\"],  title=title, label=[key, ])\n",
    "\n"
   ]
  },
  {
   "cell_type": "markdown",
   "id": "distinguished-ordinance",
   "metadata": {},
   "source": [
    "## Correlation Analyis"
   ]
  },
  {
   "cell_type": "markdown",
   "id": "australian-keyboard",
   "metadata": {},
   "source": [
    "<div class=\"alert alert-block alert-info\">\n",
    "<b>Info:</b> Noda, I. (2007). Two-dimensional correlation analysis useful for spectroscopy, chromatography, and other analytical measurements. Analytical Sciences, 23(2), 139–146. https://doi.org/10.2116/analsci.23.139\n",
    "</div>"
   ]
  },
  {
   "cell_type": "markdown",
   "id": "supreme-installation",
   "metadata": {},
   "source": [
    "<div class=\"alert alert-block alert-info\">\n",
    "<b>Info:</b> Noda, I. (2015). Techniques of two-dimensional (2D) correlation spectroscopy useful in life science research. Biomedical Spectroscopy and Imaging, 4(2), 109–127. https://doi.org/10.3233/bsi-150105\n",
    "</div>"
   ]
  },
  {
   "cell_type": "markdown",
   "id": "tropical-needle",
   "metadata": {},
   "source": [
    "### Homogenous Spectrum\n",
    "\n",
    "*optional: pareto scaling, auto scaling and Reference and projection*"
   ]
  },
  {
   "cell_type": "code",
   "execution_count": 24,
   "id": "accurate-telescope",
   "metadata": {},
   "outputs": [
    {
     "data": {
      "application/vnd.jupyter.widget-view+json": {
       "model_id": "0113fc51e9df4c83ad7e2abb5691ba4a",
       "version_major": 2,
       "version_minor": 0
      },
      "text/plain": [
       "Canvas(toolbar=Toolbar(toolitems=[('Home', 'Reset original view', 'home', 'home'), ('Back', 'Back to previous …"
      ]
     },
     "metadata": {},
     "output_type": "display_data"
    },
    {
     "data": {
      "application/vnd.jupyter.widget-view+json": {
       "model_id": "12f129055cba4fdeba2da3cf6b1f68e0",
       "version_major": 2,
       "version_minor": 0
      },
      "text/plain": [
       "Canvas(toolbar=Toolbar(toolitems=[('Home', 'Reset original view', 'home', 'home'), ('Back', 'Back to previous …"
      ]
     },
     "metadata": {},
     "output_type": "display_data"
    }
   ],
   "source": [
    "# list of measurements on which correlation should be performed\n",
    "liste =  ['Control_0M']\n",
    "#'Control_0M', 'Gdm2SO4_0.5M', 'Gdm2SO4_2M', 'Gdm2SO4_4M', 'Gdm2SO4_6M', 'GdmCl_0.5M', 'GdmCl_2M' , 'GdmCl_4M', 'GdmCl_6M'\n",
    "# min and max temperature between which correlations should be analysed\n",
    "t_min = 20\n",
    "t_max = 90\n",
    "\n",
    "for key in liste:\n",
    "    \n",
    "    df =  data_all[key].cd_df.loc[215:300, t_min:t_max]\n",
    "    # get reference\n",
    "    ref = data_all[key].cd_df.loc[215:300, 20]\n",
    "\n",
    "    sync, assync =  ana.correlation(df, center=True)\n",
    "\n",
    "    plot.heatmap(sync,  title=\"\", c_label= \"\", subtitle=[\"Synchronous Spectrum\"], y_label=\"wavelength / nm\", x_label=\"wavelength / nm\", c_min=[-2e7], c_max=[2e7])\n",
    "    plot.heatmap(assync,  title=\"\", c_label= \"\", subtitle=[\"Assynchronous Spectrum\"], y_label=\"wavelength / nm\", x_label=\"wavelength / nm\", c_min=[-6e6], c_max=[6e6])"
   ]
  },
  {
   "cell_type": "code",
   "execution_count": 25,
   "id": "responsible-reception",
   "metadata": {},
   "outputs": [
    {
     "data": {
      "application/vnd.jupyter.widget-view+json": {
       "model_id": "9a8aad50c99d4d9fbd9a7cbb7e0d18cd",
       "version_major": 2,
       "version_minor": 0
      },
      "text/plain": [
       "Canvas(toolbar=Toolbar(toolitems=[('Home', 'Reset original view', 'home', 'home'), ('Back', 'Back to previous …"
      ]
     },
     "metadata": {},
     "output_type": "display_data"
    },
    {
     "data": {
      "application/vnd.jupyter.widget-view+json": {
       "model_id": "4c21a6f6084a48a0aec75c6bccb132ad",
       "version_major": 2,
       "version_minor": 0
      },
      "text/plain": [
       "Canvas(toolbar=Toolbar(toolitems=[('Home', 'Reset original view', 'home', 'home'), ('Back', 'Back to previous …"
      ]
     },
     "metadata": {},
     "output_type": "display_data"
    }
   ],
   "source": [
    "df = data_all[\"Control_0M\"].cd_df.loc[220:300]\n",
    "\n",
    "\n",
    "# getting index and shared column values\n",
    "idx = df.index\n",
    "col = df.columns\n",
    "\n",
    "# extend measurement points and to create delta_t\n",
    "t_list_extended = np.array(col)\n",
    "t_list_extended = np.insert(t_list_extended, 0, 2 * col[0] - col[1])\n",
    "t_list_extended = np.append(t_list_extended, 2 * col[-1] - col[-2])\n",
    "delta_t = t_list_extended[2:] - t_list_extended[:-2]\n",
    "\n",
    "# from average spectrum\n",
    "dyn = ana.centering(df)\n",
    "\n",
    "# transform to numpy array\n",
    "dyn = dyn.to_numpy()\n",
    "rows, cols = dyn.shape\n",
    "\n",
    "# creating Hilbert-Noda-matrix for async spectrum\n",
    "arr = np.array(col).reshape(1, cols) - np.array(col).reshape(cols, 1) + np.identity(cols)\n",
    "h_n_m = 1 / (2 * np.pi * arr)\n",
    "h_n_m = np.multiply(h_n_m, delta_t)\n",
    "h_n_m = (h_n_m - h_n_m.T) / 2  # change diag to zero\n",
    "\n",
    "# calculate synchronous and asynchronous spectrum with matrix\n",
    "sync_uneven = np.dot(np.multiply(dyn, delta_t), dyn.T) / (2 * (col[-1] - col[0]))\n",
    "\n",
    "assync_uneven = np.zeros((rows, rows))\n",
    "\n",
    "for i in range(rows):\n",
    "    for j in range(rows):\n",
    "                         \n",
    "                         hilbert_transform = np.dot(h_n_m, dyn[j])\n",
    "                         assync_uneven[i,j] = np.sum(np.multiply(dyn[i], hilbert_transform))\n",
    "                    \n",
    "assync_uneven = np.divide(assync_uneven, (2 * (col[-1] - col[0])))\n",
    "        \n",
    "#assync_uneven = np.dot(np.multiply(dyn, delta_t), np.dot(h_n_m, dyn.T)) / (2 * (col[-1] - col[0]))\n",
    "\n",
    "sync_uneven = pd.DataFrame(sync_uneven, index=idx, columns=idx).astype('float64')\n",
    "assync_uneven = pd.DataFrame(assync_uneven, index=idx, columns=idx).astype('float64')\n",
    "\n",
    "df2 = pd.DataFrame(np.dot(h_n_m, dyn.T))\n",
    "df2 = df2.astype('float64')\n",
    "plot.heatmap(sync_uneven,  title=\"\", c_label= \"\", subtitle=[\"Synchronous Spectrum\"], y_label=\"wavelength / nm\", x_label=\"wavelength / nm\" , \n",
    "             c_min=[-2e7], c_max=[2e7], contour_lines=[-1.5e7, -0.5e7, 0 , 0.5e7, 1.5e7])\n",
    "plot.heatmap(assync_uneven,  title=\"\", c_label= \"\", subtitle=[\"Assynchronous Spectrum\"], y_label=\"wavelength / nm\", x_label=\"wavelength / nm\", \n",
    "             c_min=[-4e5], c_max=[4e5], contour_lines=[-3e5, -1e5, 0, 1e5, 3e5])"
   ]
  },
  {
   "cell_type": "code",
   "execution_count": 26,
   "id": "dimensional-baker",
   "metadata": {},
   "outputs": [],
   "source": [
    "# list of measurements on which correlation should be performed\n",
    "liste =  liste =  ['Control_0M', 'Gdm2SO4_0.5M', 'Gdm2SO4_1M', 'Gdm2SO4_2M', 'Gdm2SO4_4M', 'Gdm2SO4_6M', 'GdmCl_0.5M','GdmCl_1M', 'GdmCl_2M' , 'GdmCl_4M', 'GdmCl_6M']\n",
    "#'Control_0M', 'Gdm2SO4_0.5M', 'Gdm2SO4_2M', 'Gdm2SO4_4M', 'Gdm2SO4_6M', 'GdmCl_0.5M', 'GdmCl_2M' , 'GdmCl_4M', 'GdmCl_6M'\n",
    "# min and max temperature between which correlations should be analysed\n",
    "t_min = 20\n",
    "t_max = 90\n",
    "\n",
    "# collection of sync and assync plots\n",
    "sync_dic = {}\n",
    "async_dic ={}\n",
    "\n",
    "# max scaling values for upscaling correlation values with absorption spectrum\n",
    "max_scaling_value_sync = 0\n",
    "max_scaling_value_async = 0"
   ]
  },
  {
   "cell_type": "code",
   "execution_count": 27,
   "id": "strange-jacksonville",
   "metadata": {},
   "outputs": [
    {
     "name": "stdout",
     "output_type": "stream",
     "text": [
      "21.655153097330526 19.747068864242568\n",
      "17.620500066410067 13.078106829060033\n",
      "21.6815123251885 17.85150541978506\n",
      "15.413401116773587 18.000943634882443\n",
      "15.670141784593055 14.606635297523127\n",
      "41.07190140273919 57.82619563211381\n",
      "18.81338406597692 16.175821373761767\n",
      "29.126890785532208 27.65545347515214\n",
      "18.931900180838227 17.903615828818012\n",
      "15.758076205693348 13.457740214862397\n",
      "29.33075923347965 23.18261649661799\n"
     ]
    }
   ],
   "source": [
    "# define witdh of additionaly absorbtion correlation band\n",
    "width = 5\n",
    "\n",
    "for key in liste:\n",
    "    # get reference\n",
    "    ref = data_all[key].cd_df.loc[215:300, 20]\n",
    "    \n",
    "    # sort out values with HT above 900\n",
    "    df = data_all[key].cd_df.loc[215:300, t_min:t_max]\n",
    "    \n",
    "    # add absorbance as extra row \n",
    "    for i in range(width):\n",
    "        df = df.append(data_all[key].absorb_df.loc[260, t_min:t_max], ignore_index = True)\n",
    "        ref[301+i] = data_all[key].absorb_df.loc[260, 20]\n",
    "    ref.index = np.arange(86 + width)\n",
    "    \n",
    "    # calculate\n",
    "    sync, assync = ana.correlation(df, ref_spec=[ref], center=False)\n",
    "    sync1, assync1 = ana.correlation(data_all[key].cd_df.loc[215:300, t_min:t_max], ref_spec=[data_all[key].cd_df.loc[215:300, 20]], scaling='pareto', center=False)\n",
    "        \n",
    "    # pareto scaling for CD-part\n",
    "    sync.loc[:85, :85] = sync1.to_numpy()\n",
    "    assync.loc[:85, :85] = assync1.to_numpy()\n",
    "    \n",
    "    # get the sacling the absorption values for sync, and assync and compare with max scaling value so far...\n",
    "    max_cd_value_sync = sync.abs().max().max()\n",
    "    max_abs_value_sync = sync.loc[86:].abs().max().max()\n",
    "    max_scaling_value_sync = (max_cd_value_sync / max_abs_value_sync)\n",
    "        \n",
    "    max_cd_value_async = assync.abs().max().max()\n",
    "    max_abs_value_async = assync.loc[86:].abs().max().max()\n",
    "    max_scaling_value_async = (max_cd_value_async / max_abs_value_async)\n",
    "        \n",
    "    print(max_scaling_value_sync, max_scaling_value_async)\n",
    "    # adding DataFrame to plot dics\n",
    "    sync_dic[key] = sync\n",
    "    async_dic[key] =  assync"
   ]
  },
  {
   "cell_type": "code",
   "execution_count": 28,
   "id": "moral-freedom",
   "metadata": {},
   "outputs": [],
   "source": [
    "# max scaling values for upscaling correlation values with absorption spectrum\n",
    "max_scaling_value_sync = 21.655153097330512\n",
    "max_scaling_value_async = 19.74706886424258"
   ]
  },
  {
   "cell_type": "code",
   "execution_count": 29,
   "id": "improving-small",
   "metadata": {},
   "outputs": [
    {
     "data": {
      "application/vnd.jupyter.widget-view+json": {
       "model_id": "e39e526e628e4593a76a9a4585a4b0d2",
       "version_major": 2,
       "version_minor": 0
      },
      "text/plain": [
       "Canvas(toolbar=Toolbar(toolitems=[('Home', 'Reset original view', 'home', 'home'), ('Back', 'Back to previous …"
      ]
     },
     "metadata": {},
     "output_type": "display_data"
    },
    {
     "data": {
      "application/vnd.jupyter.widget-view+json": {
       "model_id": "089997a1dd8449cc8afcd901c0c2c586",
       "version_major": 2,
       "version_minor": 0
      },
      "text/plain": [
       "Canvas(toolbar=Toolbar(toolitems=[('Home', 'Reset original view', 'home', 'home'), ('Back', 'Back to previous …"
      ]
     },
     "metadata": {},
     "output_type": "display_data"
    },
    {
     "data": {
      "application/vnd.jupyter.widget-view+json": {
       "model_id": "bfa605a2ef8444a08074e26c8b2acb9d",
       "version_major": 2,
       "version_minor": 0
      },
      "text/plain": [
       "Canvas(toolbar=Toolbar(toolitems=[('Home', 'Reset original view', 'home', 'home'), ('Back', 'Back to previous …"
      ]
     },
     "metadata": {},
     "output_type": "display_data"
    },
    {
     "data": {
      "application/vnd.jupyter.widget-view+json": {
       "model_id": "30c4420f32dd4551a2fa74453f394dc5",
       "version_major": 2,
       "version_minor": 0
      },
      "text/plain": [
       "Canvas(toolbar=Toolbar(toolitems=[('Home', 'Reset original view', 'home', 'home'), ('Back', 'Back to previous …"
      ]
     },
     "metadata": {},
     "output_type": "display_data"
    },
    {
     "data": {
      "application/vnd.jupyter.widget-view+json": {
       "model_id": "29148cc38c90468690e9c17e321c4fa2",
       "version_major": 2,
       "version_minor": 0
      },
      "text/plain": [
       "Canvas(toolbar=Toolbar(toolitems=[('Home', 'Reset original view', 'home', 'home'), ('Back', 'Back to previous …"
      ]
     },
     "metadata": {},
     "output_type": "display_data"
    },
    {
     "data": {
      "application/vnd.jupyter.widget-view+json": {
       "model_id": "235c83e95f114c88b8d71dd2abc1b4c8",
       "version_major": 2,
       "version_minor": 0
      },
      "text/plain": [
       "Canvas(toolbar=Toolbar(toolitems=[('Home', 'Reset original view', 'home', 'home'), ('Back', 'Back to previous …"
      ]
     },
     "metadata": {},
     "output_type": "display_data"
    },
    {
     "data": {
      "application/vnd.jupyter.widget-view+json": {
       "model_id": "5997d06e111646dfbcb8f87514b0b3b8",
       "version_major": 2,
       "version_minor": 0
      },
      "text/plain": [
       "Canvas(toolbar=Toolbar(toolitems=[('Home', 'Reset original view', 'home', 'home'), ('Back', 'Back to previous …"
      ]
     },
     "metadata": {},
     "output_type": "display_data"
    },
    {
     "data": {
      "application/vnd.jupyter.widget-view+json": {
       "model_id": "bada1d8e63ce4cb48ff77225f1ba3676",
       "version_major": 2,
       "version_minor": 0
      },
      "text/plain": [
       "Canvas(toolbar=Toolbar(toolitems=[('Home', 'Reset original view', 'home', 'home'), ('Back', 'Back to previous …"
      ]
     },
     "metadata": {},
     "output_type": "display_data"
    },
    {
     "data": {
      "application/vnd.jupyter.widget-view+json": {
       "model_id": "0a2a561fd2964eb2b73c01cc27805f4a",
       "version_major": 2,
       "version_minor": 0
      },
      "text/plain": [
       "Canvas(toolbar=Toolbar(toolitems=[('Home', 'Reset original view', 'home', 'home'), ('Back', 'Back to previous …"
      ]
     },
     "metadata": {},
     "output_type": "display_data"
    },
    {
     "data": {
      "application/vnd.jupyter.widget-view+json": {
       "model_id": "4cc09db1280a420980a5ccb4796712a6",
       "version_major": 2,
       "version_minor": 0
      },
      "text/plain": [
       "Canvas(toolbar=Toolbar(toolitems=[('Home', 'Reset original view', 'home', 'home'), ('Back', 'Back to previous …"
      ]
     },
     "metadata": {},
     "output_type": "display_data"
    },
    {
     "data": {
      "application/vnd.jupyter.widget-view+json": {
       "model_id": "26f8b0c6ed2a44d187ffb368282f73c9",
       "version_major": 2,
       "version_minor": 0
      },
      "text/plain": [
       "Canvas(toolbar=Toolbar(toolitems=[('Home', 'Reset original view', 'home', 'home'), ('Back', 'Back to previous …"
      ]
     },
     "metadata": {},
     "output_type": "display_data"
    },
    {
     "data": {
      "application/vnd.jupyter.widget-view+json": {
       "model_id": "32b0e25e4e144215adb1f9ec2785f322",
       "version_major": 2,
       "version_minor": 0
      },
      "text/plain": [
       "Canvas(toolbar=Toolbar(toolitems=[('Home', 'Reset original view', 'home', 'home'), ('Back', 'Back to previous …"
      ]
     },
     "metadata": {},
     "output_type": "display_data"
    },
    {
     "data": {
      "application/vnd.jupyter.widget-view+json": {
       "model_id": "c6e64e9822ed4421b4431e4ee2d8bb27",
       "version_major": 2,
       "version_minor": 0
      },
      "text/plain": [
       "Canvas(toolbar=Toolbar(toolitems=[('Home', 'Reset original view', 'home', 'home'), ('Back', 'Back to previous …"
      ]
     },
     "metadata": {},
     "output_type": "display_data"
    },
    {
     "data": {
      "application/vnd.jupyter.widget-view+json": {
       "model_id": "a3d2db86688f43648effb51965c6c1f2",
       "version_major": 2,
       "version_minor": 0
      },
      "text/plain": [
       "Canvas(toolbar=Toolbar(toolitems=[('Home', 'Reset original view', 'home', 'home'), ('Back', 'Back to previous …"
      ]
     },
     "metadata": {},
     "output_type": "display_data"
    },
    {
     "data": {
      "application/vnd.jupyter.widget-view+json": {
       "model_id": "981582e6fff24d53b1dc9071f4a5e126",
       "version_major": 2,
       "version_minor": 0
      },
      "text/plain": [
       "Canvas(toolbar=Toolbar(toolitems=[('Home', 'Reset original view', 'home', 'home'), ('Back', 'Back to previous …"
      ]
     },
     "metadata": {},
     "output_type": "display_data"
    },
    {
     "data": {
      "application/vnd.jupyter.widget-view+json": {
       "model_id": "690ad2af8ad8497791c5cfb556d7ccff",
       "version_major": 2,
       "version_minor": 0
      },
      "text/plain": [
       "Canvas(toolbar=Toolbar(toolitems=[('Home', 'Reset original view', 'home', 'home'), ('Back', 'Back to previous …"
      ]
     },
     "metadata": {},
     "output_type": "display_data"
    },
    {
     "data": {
      "application/vnd.jupyter.widget-view+json": {
       "model_id": "a5dadbcef1344b6990b9d99fce4b5735",
       "version_major": 2,
       "version_minor": 0
      },
      "text/plain": [
       "Canvas(toolbar=Toolbar(toolitems=[('Home', 'Reset original view', 'home', 'home'), ('Back', 'Back to previous …"
      ]
     },
     "metadata": {},
     "output_type": "display_data"
    },
    {
     "data": {
      "application/vnd.jupyter.widget-view+json": {
       "model_id": "53f202c10986492d9e415ddb05c8a829",
       "version_major": 2,
       "version_minor": 0
      },
      "text/plain": [
       "Canvas(toolbar=Toolbar(toolitems=[('Home', 'Reset original view', 'home', 'home'), ('Back', 'Back to previous …"
      ]
     },
     "metadata": {},
     "output_type": "display_data"
    },
    {
     "data": {
      "application/vnd.jupyter.widget-view+json": {
       "model_id": "dd4c0e5a182e4c88b6dcaed7b506ea5b",
       "version_major": 2,
       "version_minor": 0
      },
      "text/plain": [
       "Canvas(toolbar=Toolbar(toolitems=[('Home', 'Reset original view', 'home', 'home'), ('Back', 'Back to previous …"
      ]
     },
     "metadata": {},
     "output_type": "display_data"
    },
    {
     "data": {
      "application/vnd.jupyter.widget-view+json": {
       "model_id": "766bad6eb9d84c85bd910abd230782f1",
       "version_major": 2,
       "version_minor": 0
      },
      "text/plain": [
       "Canvas(toolbar=Toolbar(toolitems=[('Home', 'Reset original view', 'home', 'home'), ('Back', 'Back to previous …"
      ]
     },
     "metadata": {},
     "output_type": "display_data"
    },
    {
     "data": {
      "application/vnd.jupyter.widget-view+json": {
       "model_id": "b93c26211e724b57bce38200d98d7d76",
       "version_major": 2,
       "version_minor": 0
      },
      "text/plain": [
       "Canvas(toolbar=Toolbar(toolitems=[('Home', 'Reset original view', 'home', 'home'), ('Back', 'Back to previous …"
      ]
     },
     "metadata": {},
     "output_type": "display_data"
    },
    {
     "data": {
      "application/vnd.jupyter.widget-view+json": {
       "model_id": "4b4d0757bde64668b1ce8746a8dc1c82",
       "version_major": 2,
       "version_minor": 0
      },
      "text/plain": [
       "Canvas(toolbar=Toolbar(toolitems=[('Home', 'Reset original view', 'home', 'home'), ('Back', 'Back to previous …"
      ]
     },
     "metadata": {},
     "output_type": "display_data"
    }
   ],
   "source": [
    "for key in sync_dic.keys():\n",
    "    max_cd_value = sync_dic[key].abs().max().max()\n",
    "    sync_dic[key].loc[86:] =  sync_dic[key].loc[86:] * max_scaling_value_sync\n",
    "    sync_dic[key].loc[:85,86:] = sync_dic[key].loc[:85,86:] * max_scaling_value_sync\n",
    "    plot.heatmap(sync_dic[key],  title='', subtitle=[\"\" ], y_label=\"Wavelength 1 [nm]\", \n",
    "                 x_label=\"Wavelength 2 [nm]\", c_label=\"\", c_min=[-max_cd_value], c_max=[max_cd_value], hline=85, vline=85,\n",
    "                 contour_lines=[-0.8*max_cd_value,-0.5*max_cd_value, -0.3*max_cd_value, -0.15*max_cd_value, 0, 0.15*max_cd_value, 0.3*max_cd_value, 0.5*max_cd_value, 0.8*max_cd_value])\n",
    "    \n",
    "    max_cd_value = async_dic[key].abs().max().max()\n",
    "    async_dic[key].loc[86:] =  async_dic[key].loc[86:] * max_scaling_value_async\n",
    "    async_dic[key].loc[:85,86:] = async_dic[key].loc[:85,86:] * max_scaling_value_async\n",
    "    plot.heatmap( async_dic[key], title=\"\", subtitle=[ \"\" ], y_label=\"Wavelength 1 [nm]\", \n",
    "                 x_label=\"Wavelength 2 [nm]\",  c_label=\"\", hline=85, vline=85,\n",
    "                 contour_lines=[-0.8*max_cd_value, -0.5*max_cd_value,  -0.3*max_cd_value, -0.15*max_cd_value, 0, 0.15*max_cd_value, 0.3*max_cd_value, \n",
    "                                0.5*max_cd_value, 0.8*max_cd_value] )"
   ]
  },
  {
   "cell_type": "markdown",
   "id": "thick-thomson",
   "metadata": {},
   "source": [
    "### Tools for Analysis"
   ]
  },
  {
   "cell_type": "markdown",
   "id": "designed-master",
   "metadata": {},
   "source": [
    "<div class=\"alert alert-block alert-info\">\n",
    "<b>Info:</b> Change 'key' to wanted measurement!\n",
    "</div>"
   ]
  },
  {
   "cell_type": "code",
   "execution_count": 30,
   "id": "boxed-advocacy",
   "metadata": {},
   "outputs": [],
   "source": [
    "key1 = \"GdmCl_2M\"\n",
    "key2 = \"GdmCl_2M_24h\"\n",
    "ref1 = data_all[key1].cd_df.loc[:, 20]\n",
    "ref2 = data_all[key2].cd_df.loc[:, 20]\n",
    "sync, assync = ana.correlation(data_all[key1].cd_df.loc[:, :45], data_all[key2].cd_df.loc[:, :45], scaling='pareto', ref_spec=[ref1, ref2], center=False)"
   ]
  },
  {
   "cell_type": "code",
   "execution_count": 31,
   "id": "nasty-thirty",
   "metadata": {},
   "outputs": [
    {
     "data": {
      "application/vnd.jupyter.widget-view+json": {
       "model_id": "5dc41033c30f483fa16e2ef33123c60f",
       "version_major": 2,
       "version_minor": 0
      },
      "text/plain": [
       "Canvas(toolbar=Toolbar(toolitems=[('Home', 'Reset original view', 'home', 'home'), ('Back', 'Back to previous …"
      ]
     },
     "metadata": {},
     "output_type": "display_data"
    }
   ],
   "source": [
    "plot.heatmap(sync, assync,  title=str(key1) + str(key2), subtitle=[\"Synchronous Spectrum\", \"Asynchronous Spectrum\"], x_min=[210, 210], y_min=[210, 210],\n",
    "                y_label= str(key1) + \" WL[nm]\", x_label= str(key2) + \" WL[nm]\")"
   ]
  },
  {
   "cell_type": "markdown",
   "id": "alleged-sharing",
   "metadata": {},
   "source": [
    "**Diagonal Analysis**"
   ]
  },
  {
   "cell_type": "code",
   "execution_count": 32,
   "id": "unlike-plymouth",
   "metadata": {},
   "outputs": [
    {
     "data": {
      "application/vnd.jupyter.widget-view+json": {
       "model_id": "cedb8488d3734dad8cbc47f08fd1c1b1",
       "version_major": 2,
       "version_minor": 0
      },
      "text/plain": [
       "Canvas(toolbar=Toolbar(toolitems=[('Home', 'Reset original view', 'home', 'home'), ('Back', 'Back to previous …"
      ]
     },
     "metadata": {},
     "output_type": "display_data"
    }
   ],
   "source": [
    "arr = sync.to_numpy()\n",
    "diag =  pd.DataFrame(arr.diagonal(), index=sync.index)\n",
    "wave =  list(sync.index)[:-1]\n",
    "diff =  pd.DataFrame(np.diff(arr.diagonal()), index=wave)\n",
    "plot.mult_func([0], [diff.T, diag.T], baseline=True, x_label=\"wavelength [nm]\", subtitle=[\"Diagonal with differential\"], label=[\"CD Values\", \"Differential\"], x_min=210)"
   ]
  },
  {
   "cell_type": "markdown",
   "id": "coral-midwest",
   "metadata": {},
   "source": [
    "**Line Analyis**"
   ]
  },
  {
   "cell_type": "code",
   "execution_count": 33,
   "id": "annual-sociology",
   "metadata": {},
   "outputs": [],
   "source": [
    "wavelength=247\n",
    "# adjust wavelength to shift line analysis*"
   ]
  },
  {
   "cell_type": "code",
   "execution_count": 34,
   "id": "defined-hours",
   "metadata": {},
   "outputs": [
    {
     "data": {
      "application/vnd.jupyter.widget-view+json": {
       "model_id": "03a676819eab4de7ad899630abbba694",
       "version_major": 2,
       "version_minor": 0
      },
      "text/plain": [
       "Canvas(toolbar=Toolbar(toolitems=[('Home', 'Reset original view', 'home', 'home'), ('Back', 'Back to previous …"
      ]
     },
     "metadata": {},
     "output_type": "display_data"
    }
   ],
   "source": [
    "arr = sync.loc[wavelength, :].to_numpy()\n",
    "df = pd.DataFrame(arr, index=sync.index).T\n",
    "diff = pd.DataFrame(np.diff(arr), index=list(sync.index)[:-1]).T\n",
    "plot.mult_func([0], [df, diff], x_label=\"wavelength [nm]\", baseline=True, x_min=210, subtitle=[\"Synchronous Line Analysis\"], label=[wavelength, \"derivative\"])"
   ]
  },
  {
   "cell_type": "markdown",
   "id": "connected-bundle",
   "metadata": {},
   "source": [
    "**Excel**"
   ]
  },
  {
   "cell_type": "code",
   "execution_count": 35,
   "id": "cordless-criminal",
   "metadata": {},
   "outputs": [],
   "source": [
    "#Daniels path:\n",
    "excel_path = \"F:\\\\HZDR\\\\CD_Auswertung\\\\2Dcorr\"\n",
    "#Christophs path:\n",
    "#excel_path = \"C:\\\\Users\\\\crazy\\\\Mega\\\\Uni\\\\Masterarbeit\\\\Projekt\\\\output.xlsx\""
   ]
  },
  {
   "cell_type": "markdown",
   "id": "hybrid-screening",
   "metadata": {},
   "source": [
    "create new document"
   ]
  },
  {
   "cell_type": "code",
   "execution_count": 36,
   "id": "significant-cigarette",
   "metadata": {},
   "outputs": [
    {
     "ename": "ValueError",
     "evalue": "No engine for filetype: ''",
     "output_type": "error",
     "traceback": [
      "\u001b[1;31m---------------------------------------------------------------------------\u001b[0m",
      "\u001b[1;31mOptionError\u001b[0m                               Traceback (most recent call last)",
      "\u001b[1;32m~\\anaconda3\\envs\\TestEnv\\lib\\site-packages\\pandas\\io\\excel\\_base.py\u001b[0m in \u001b[0;36m__new__\u001b[1;34m(cls, path, engine, **kwargs)\u001b[0m\n\u001b[0;32m    712\u001b[0m                 \u001b[1;32mtry\u001b[0m\u001b[1;33m:\u001b[0m\u001b[1;33m\u001b[0m\u001b[1;33m\u001b[0m\u001b[0m\n\u001b[1;32m--> 713\u001b[1;33m                     \u001b[0mengine\u001b[0m \u001b[1;33m=\u001b[0m \u001b[0mconfig\u001b[0m\u001b[1;33m.\u001b[0m\u001b[0mget_option\u001b[0m\u001b[1;33m(\u001b[0m\u001b[1;34mf\"io.excel.{ext}.writer\"\u001b[0m\u001b[1;33m,\u001b[0m \u001b[0msilent\u001b[0m\u001b[1;33m=\u001b[0m\u001b[1;32mTrue\u001b[0m\u001b[1;33m)\u001b[0m\u001b[1;33m\u001b[0m\u001b[1;33m\u001b[0m\u001b[0m\n\u001b[0m\u001b[0;32m    714\u001b[0m                     \u001b[1;32mif\u001b[0m \u001b[0mengine\u001b[0m \u001b[1;33m==\u001b[0m \u001b[1;34m\"auto\"\u001b[0m\u001b[1;33m:\u001b[0m\u001b[1;33m\u001b[0m\u001b[1;33m\u001b[0m\u001b[0m\n",
      "\u001b[1;32m~\\anaconda3\\envs\\TestEnv\\lib\\site-packages\\pandas\\_config\\config.py\u001b[0m in \u001b[0;36m__call__\u001b[1;34m(self, *args, **kwds)\u001b[0m\n\u001b[0;32m    232\u001b[0m     \u001b[1;32mdef\u001b[0m \u001b[0m__call__\u001b[0m\u001b[1;33m(\u001b[0m\u001b[0mself\u001b[0m\u001b[1;33m,\u001b[0m \u001b[1;33m*\u001b[0m\u001b[0margs\u001b[0m\u001b[1;33m,\u001b[0m \u001b[1;33m**\u001b[0m\u001b[0mkwds\u001b[0m\u001b[1;33m)\u001b[0m\u001b[1;33m:\u001b[0m\u001b[1;33m\u001b[0m\u001b[1;33m\u001b[0m\u001b[0m\n\u001b[1;32m--> 233\u001b[1;33m         \u001b[1;32mreturn\u001b[0m \u001b[0mself\u001b[0m\u001b[1;33m.\u001b[0m\u001b[0m__func__\u001b[0m\u001b[1;33m(\u001b[0m\u001b[1;33m*\u001b[0m\u001b[0margs\u001b[0m\u001b[1;33m,\u001b[0m \u001b[1;33m**\u001b[0m\u001b[0mkwds\u001b[0m\u001b[1;33m)\u001b[0m\u001b[1;33m\u001b[0m\u001b[1;33m\u001b[0m\u001b[0m\n\u001b[0m\u001b[0;32m    234\u001b[0m \u001b[1;33m\u001b[0m\u001b[0m\n",
      "\u001b[1;32m~\\anaconda3\\envs\\TestEnv\\lib\\site-packages\\pandas\\_config\\config.py\u001b[0m in \u001b[0;36m_get_option\u001b[1;34m(pat, silent)\u001b[0m\n\u001b[0;32m    104\u001b[0m \u001b[1;32mdef\u001b[0m \u001b[0m_get_option\u001b[0m\u001b[1;33m(\u001b[0m\u001b[0mpat\u001b[0m\u001b[1;33m:\u001b[0m \u001b[0mstr\u001b[0m\u001b[1;33m,\u001b[0m \u001b[0msilent\u001b[0m\u001b[1;33m:\u001b[0m \u001b[0mbool\u001b[0m \u001b[1;33m=\u001b[0m \u001b[1;32mFalse\u001b[0m\u001b[1;33m)\u001b[0m\u001b[1;33m:\u001b[0m\u001b[1;33m\u001b[0m\u001b[1;33m\u001b[0m\u001b[0m\n\u001b[1;32m--> 105\u001b[1;33m     \u001b[0mkey\u001b[0m \u001b[1;33m=\u001b[0m \u001b[0m_get_single_key\u001b[0m\u001b[1;33m(\u001b[0m\u001b[0mpat\u001b[0m\u001b[1;33m,\u001b[0m \u001b[0msilent\u001b[0m\u001b[1;33m)\u001b[0m\u001b[1;33m\u001b[0m\u001b[1;33m\u001b[0m\u001b[0m\n\u001b[0m\u001b[0;32m    106\u001b[0m \u001b[1;33m\u001b[0m\u001b[0m\n",
      "\u001b[1;32m~\\anaconda3\\envs\\TestEnv\\lib\\site-packages\\pandas\\_config\\config.py\u001b[0m in \u001b[0;36m_get_single_key\u001b[1;34m(pat, silent)\u001b[0m\n\u001b[0;32m     90\u001b[0m             \u001b[0m_warn_if_deprecated\u001b[0m\u001b[1;33m(\u001b[0m\u001b[0mpat\u001b[0m\u001b[1;33m)\u001b[0m\u001b[1;33m\u001b[0m\u001b[1;33m\u001b[0m\u001b[0m\n\u001b[1;32m---> 91\u001b[1;33m         \u001b[1;32mraise\u001b[0m \u001b[0mOptionError\u001b[0m\u001b[1;33m(\u001b[0m\u001b[1;34mf\"No such keys(s): {repr(pat)}\"\u001b[0m\u001b[1;33m)\u001b[0m\u001b[1;33m\u001b[0m\u001b[1;33m\u001b[0m\u001b[0m\n\u001b[0m\u001b[0;32m     92\u001b[0m     \u001b[1;32mif\u001b[0m \u001b[0mlen\u001b[0m\u001b[1;33m(\u001b[0m\u001b[0mkeys\u001b[0m\u001b[1;33m)\u001b[0m \u001b[1;33m>\u001b[0m \u001b[1;36m1\u001b[0m\u001b[1;33m:\u001b[0m\u001b[1;33m\u001b[0m\u001b[1;33m\u001b[0m\u001b[0m\n",
      "\u001b[1;31mOptionError\u001b[0m: \"No such keys(s): 'io.excel..writer'\"",
      "\nThe above exception was the direct cause of the following exception:\n",
      "\u001b[1;31mValueError\u001b[0m                                Traceback (most recent call last)",
      "\u001b[1;32m<ipython-input-36-ad3ee8ae33d2>\u001b[0m in \u001b[0;36m<module>\u001b[1;34m\u001b[0m\n\u001b[1;32m----> 1\u001b[1;33m \u001b[1;32mwith\u001b[0m \u001b[0mpd\u001b[0m\u001b[1;33m.\u001b[0m\u001b[0mExcelWriter\u001b[0m\u001b[1;33m(\u001b[0m\u001b[0mexcel_path\u001b[0m\u001b[1;33m,\u001b[0m \u001b[0mmode\u001b[0m\u001b[1;33m=\u001b[0m\u001b[1;34m'w'\u001b[0m\u001b[1;33m)\u001b[0m \u001b[1;32mas\u001b[0m \u001b[0mwriter\u001b[0m\u001b[1;33m:\u001b[0m\u001b[1;33m\u001b[0m\u001b[1;33m\u001b[0m\u001b[0m\n\u001b[0m\u001b[0;32m      2\u001b[0m \u001b[1;33m\u001b[0m\u001b[0m\n\u001b[0;32m      3\u001b[0m                     \u001b[0mcomp2_conc_df\u001b[0m\u001b[1;33m.\u001b[0m\u001b[0mround\u001b[0m\u001b[1;33m(\u001b[0m\u001b[1;36m2\u001b[0m\u001b[1;33m)\u001b[0m\u001b[1;33m.\u001b[0m\u001b[0mto_excel\u001b[0m\u001b[1;33m(\u001b[0m\u001b[0mwriter\u001b[0m\u001b[1;33m,\u001b[0m \u001b[0msheet_name\u001b[0m\u001b[1;33m=\u001b[0m\u001b[1;34m\"output \"\u001b[0m\u001b[1;33m)\u001b[0m\u001b[1;33m\u001b[0m\u001b[1;33m\u001b[0m\u001b[0m\n",
      "\u001b[1;32m~\\anaconda3\\envs\\TestEnv\\lib\\site-packages\\pandas\\io\\excel\\_base.py\u001b[0m in \u001b[0;36m__new__\u001b[1;34m(cls, path, engine, **kwargs)\u001b[0m\n\u001b[0;32m    715\u001b[0m                         \u001b[0mengine\u001b[0m \u001b[1;33m=\u001b[0m \u001b[0mget_default_writer\u001b[0m\u001b[1;33m(\u001b[0m\u001b[0mext\u001b[0m\u001b[1;33m)\u001b[0m\u001b[1;33m\u001b[0m\u001b[1;33m\u001b[0m\u001b[0m\n\u001b[0;32m    716\u001b[0m                 \u001b[1;32mexcept\u001b[0m \u001b[0mKeyError\u001b[0m \u001b[1;32mas\u001b[0m \u001b[0merr\u001b[0m\u001b[1;33m:\u001b[0m\u001b[1;33m\u001b[0m\u001b[1;33m\u001b[0m\u001b[0m\n\u001b[1;32m--> 717\u001b[1;33m                     \u001b[1;32mraise\u001b[0m \u001b[0mValueError\u001b[0m\u001b[1;33m(\u001b[0m\u001b[1;34mf\"No engine for filetype: '{ext}'\"\u001b[0m\u001b[1;33m)\u001b[0m \u001b[1;32mfrom\u001b[0m \u001b[0merr\u001b[0m\u001b[1;33m\u001b[0m\u001b[1;33m\u001b[0m\u001b[0m\n\u001b[0m\u001b[0;32m    718\u001b[0m \u001b[1;33m\u001b[0m\u001b[0m\n\u001b[0;32m    719\u001b[0m             \u001b[1;32mif\u001b[0m \u001b[0mengine\u001b[0m \u001b[1;33m==\u001b[0m \u001b[1;34m\"xlwt\"\u001b[0m\u001b[1;33m:\u001b[0m\u001b[1;33m\u001b[0m\u001b[1;33m\u001b[0m\u001b[0m\n",
      "\u001b[1;31mValueError\u001b[0m: No engine for filetype: ''"
     ]
    }
   ],
   "source": [
    "with pd.ExcelWriter(excel_path, mode='w') as writer:  \n",
    "\n",
    "                    comp2_conc_df.round(2).to_excel(writer, sheet_name=\"output \")"
   ]
  },
  {
   "cell_type": "markdown",
   "id": "blond-yellow",
   "metadata": {},
   "source": [
    "Homgeneous Spectra Values"
   ]
  },
  {
   "cell_type": "code",
   "execution_count": 37,
   "id": "ranging-metro",
   "metadata": {},
   "outputs": [
    {
     "ename": "ValueError",
     "evalue": "No engine for filetype: ''",
     "output_type": "error",
     "traceback": [
      "\u001b[1;31m---------------------------------------------------------------------------\u001b[0m",
      "\u001b[1;31mOptionError\u001b[0m                               Traceback (most recent call last)",
      "\u001b[1;32m~\\anaconda3\\envs\\TestEnv\\lib\\site-packages\\pandas\\io\\excel\\_base.py\u001b[0m in \u001b[0;36m__new__\u001b[1;34m(cls, path, engine, **kwargs)\u001b[0m\n\u001b[0;32m    712\u001b[0m                 \u001b[1;32mtry\u001b[0m\u001b[1;33m:\u001b[0m\u001b[1;33m\u001b[0m\u001b[1;33m\u001b[0m\u001b[0m\n\u001b[1;32m--> 713\u001b[1;33m                     \u001b[0mengine\u001b[0m \u001b[1;33m=\u001b[0m \u001b[0mconfig\u001b[0m\u001b[1;33m.\u001b[0m\u001b[0mget_option\u001b[0m\u001b[1;33m(\u001b[0m\u001b[1;34mf\"io.excel.{ext}.writer\"\u001b[0m\u001b[1;33m,\u001b[0m \u001b[0msilent\u001b[0m\u001b[1;33m=\u001b[0m\u001b[1;32mTrue\u001b[0m\u001b[1;33m)\u001b[0m\u001b[1;33m\u001b[0m\u001b[1;33m\u001b[0m\u001b[0m\n\u001b[0m\u001b[0;32m    714\u001b[0m                     \u001b[1;32mif\u001b[0m \u001b[0mengine\u001b[0m \u001b[1;33m==\u001b[0m \u001b[1;34m\"auto\"\u001b[0m\u001b[1;33m:\u001b[0m\u001b[1;33m\u001b[0m\u001b[1;33m\u001b[0m\u001b[0m\n",
      "\u001b[1;32m~\\anaconda3\\envs\\TestEnv\\lib\\site-packages\\pandas\\_config\\config.py\u001b[0m in \u001b[0;36m__call__\u001b[1;34m(self, *args, **kwds)\u001b[0m\n\u001b[0;32m    232\u001b[0m     \u001b[1;32mdef\u001b[0m \u001b[0m__call__\u001b[0m\u001b[1;33m(\u001b[0m\u001b[0mself\u001b[0m\u001b[1;33m,\u001b[0m \u001b[1;33m*\u001b[0m\u001b[0margs\u001b[0m\u001b[1;33m,\u001b[0m \u001b[1;33m**\u001b[0m\u001b[0mkwds\u001b[0m\u001b[1;33m)\u001b[0m\u001b[1;33m:\u001b[0m\u001b[1;33m\u001b[0m\u001b[1;33m\u001b[0m\u001b[0m\n\u001b[1;32m--> 233\u001b[1;33m         \u001b[1;32mreturn\u001b[0m \u001b[0mself\u001b[0m\u001b[1;33m.\u001b[0m\u001b[0m__func__\u001b[0m\u001b[1;33m(\u001b[0m\u001b[1;33m*\u001b[0m\u001b[0margs\u001b[0m\u001b[1;33m,\u001b[0m \u001b[1;33m**\u001b[0m\u001b[0mkwds\u001b[0m\u001b[1;33m)\u001b[0m\u001b[1;33m\u001b[0m\u001b[1;33m\u001b[0m\u001b[0m\n\u001b[0m\u001b[0;32m    234\u001b[0m \u001b[1;33m\u001b[0m\u001b[0m\n",
      "\u001b[1;32m~\\anaconda3\\envs\\TestEnv\\lib\\site-packages\\pandas\\_config\\config.py\u001b[0m in \u001b[0;36m_get_option\u001b[1;34m(pat, silent)\u001b[0m\n\u001b[0;32m    104\u001b[0m \u001b[1;32mdef\u001b[0m \u001b[0m_get_option\u001b[0m\u001b[1;33m(\u001b[0m\u001b[0mpat\u001b[0m\u001b[1;33m:\u001b[0m \u001b[0mstr\u001b[0m\u001b[1;33m,\u001b[0m \u001b[0msilent\u001b[0m\u001b[1;33m:\u001b[0m \u001b[0mbool\u001b[0m \u001b[1;33m=\u001b[0m \u001b[1;32mFalse\u001b[0m\u001b[1;33m)\u001b[0m\u001b[1;33m:\u001b[0m\u001b[1;33m\u001b[0m\u001b[1;33m\u001b[0m\u001b[0m\n\u001b[1;32m--> 105\u001b[1;33m     \u001b[0mkey\u001b[0m \u001b[1;33m=\u001b[0m \u001b[0m_get_single_key\u001b[0m\u001b[1;33m(\u001b[0m\u001b[0mpat\u001b[0m\u001b[1;33m,\u001b[0m \u001b[0msilent\u001b[0m\u001b[1;33m)\u001b[0m\u001b[1;33m\u001b[0m\u001b[1;33m\u001b[0m\u001b[0m\n\u001b[0m\u001b[0;32m    106\u001b[0m \u001b[1;33m\u001b[0m\u001b[0m\n",
      "\u001b[1;32m~\\anaconda3\\envs\\TestEnv\\lib\\site-packages\\pandas\\_config\\config.py\u001b[0m in \u001b[0;36m_get_single_key\u001b[1;34m(pat, silent)\u001b[0m\n\u001b[0;32m     90\u001b[0m             \u001b[0m_warn_if_deprecated\u001b[0m\u001b[1;33m(\u001b[0m\u001b[0mpat\u001b[0m\u001b[1;33m)\u001b[0m\u001b[1;33m\u001b[0m\u001b[1;33m\u001b[0m\u001b[0m\n\u001b[1;32m---> 91\u001b[1;33m         \u001b[1;32mraise\u001b[0m \u001b[0mOptionError\u001b[0m\u001b[1;33m(\u001b[0m\u001b[1;34mf\"No such keys(s): {repr(pat)}\"\u001b[0m\u001b[1;33m)\u001b[0m\u001b[1;33m\u001b[0m\u001b[1;33m\u001b[0m\u001b[0m\n\u001b[0m\u001b[0;32m     92\u001b[0m     \u001b[1;32mif\u001b[0m \u001b[0mlen\u001b[0m\u001b[1;33m(\u001b[0m\u001b[0mkeys\u001b[0m\u001b[1;33m)\u001b[0m \u001b[1;33m>\u001b[0m \u001b[1;36m1\u001b[0m\u001b[1;33m:\u001b[0m\u001b[1;33m\u001b[0m\u001b[1;33m\u001b[0m\u001b[0m\n",
      "\u001b[1;31mOptionError\u001b[0m: \"No such keys(s): 'io.excel..writer'\"",
      "\nThe above exception was the direct cause of the following exception:\n",
      "\u001b[1;31mValueError\u001b[0m                                Traceback (most recent call last)",
      "\u001b[1;32m<ipython-input-37-1c84a1f9ccdc>\u001b[0m in \u001b[0;36m<module>\u001b[1;34m\u001b[0m\n\u001b[0;32m     15\u001b[0m     \u001b[0mdf1\u001b[0m \u001b[1;33m=\u001b[0m \u001b[0msync1\u001b[0m\u001b[1;33m.\u001b[0m\u001b[0mloc\u001b[0m\u001b[1;33m[\u001b[0m\u001b[1;33m[\u001b[0m\u001b[1;36m212\u001b[0m\u001b[1;33m,\u001b[0m \u001b[1;36m215\u001b[0m\u001b[1;33m,\u001b[0m \u001b[1;36m218\u001b[0m\u001b[1;33m,\u001b[0m \u001b[1;36m221\u001b[0m\u001b[1;33m,\u001b[0m \u001b[1;36m223\u001b[0m\u001b[1;33m,\u001b[0m \u001b[1;36m229\u001b[0m\u001b[1;33m,\u001b[0m \u001b[1;36m247\u001b[0m\u001b[1;33m,\u001b[0m \u001b[1;36m261\u001b[0m\u001b[1;33m,\u001b[0m \u001b[1;36m265\u001b[0m\u001b[1;33m,\u001b[0m \u001b[1;36m268\u001b[0m\u001b[1;33m,\u001b[0m \u001b[1;36m274\u001b[0m\u001b[1;33m,\u001b[0m \u001b[1;36m281\u001b[0m\u001b[1;33m,\u001b[0m \u001b[1;36m284\u001b[0m\u001b[1;33m,\u001b[0m \u001b[1;36m294\u001b[0m\u001b[1;33m,\u001b[0m \u001b[1;36m305\u001b[0m\u001b[1;33m,\u001b[0m \u001b[1;36m312\u001b[0m\u001b[1;33m]\u001b[0m\u001b[1;33m,\u001b[0m\u001b[1;33m[\u001b[0m\u001b[1;36m212\u001b[0m\u001b[1;33m,\u001b[0m \u001b[1;36m215\u001b[0m\u001b[1;33m,\u001b[0m \u001b[1;36m218\u001b[0m\u001b[1;33m,\u001b[0m \u001b[1;36m221\u001b[0m\u001b[1;33m,\u001b[0m \u001b[1;36m223\u001b[0m\u001b[1;33m,\u001b[0m \u001b[1;36m229\u001b[0m\u001b[1;33m,\u001b[0m \u001b[1;36m247\u001b[0m\u001b[1;33m,\u001b[0m \u001b[1;36m261\u001b[0m\u001b[1;33m,\u001b[0m \u001b[1;36m265\u001b[0m\u001b[1;33m,\u001b[0m \u001b[1;36m268\u001b[0m\u001b[1;33m,\u001b[0m \u001b[1;36m274\u001b[0m\u001b[1;33m,\u001b[0m \u001b[1;36m281\u001b[0m\u001b[1;33m,\u001b[0m \u001b[1;36m284\u001b[0m\u001b[1;33m,\u001b[0m \u001b[1;36m294\u001b[0m\u001b[1;33m,\u001b[0m \u001b[1;36m305\u001b[0m\u001b[1;33m,\u001b[0m \u001b[1;36m312\u001b[0m\u001b[1;33m]\u001b[0m\u001b[1;33m]\u001b[0m\u001b[1;33m.\u001b[0m\u001b[0mround\u001b[0m\u001b[1;33m(\u001b[0m\u001b[1;36m3\u001b[0m\u001b[1;33m)\u001b[0m\u001b[1;33m\u001b[0m\u001b[1;33m\u001b[0m\u001b[0m\n\u001b[0;32m     16\u001b[0m     \u001b[0mdf2\u001b[0m \u001b[1;33m=\u001b[0m \u001b[0massync1\u001b[0m\u001b[1;33m.\u001b[0m\u001b[0mloc\u001b[0m\u001b[1;33m[\u001b[0m\u001b[1;33m[\u001b[0m\u001b[1;36m212\u001b[0m\u001b[1;33m,\u001b[0m \u001b[1;36m215\u001b[0m\u001b[1;33m,\u001b[0m \u001b[1;36m218\u001b[0m\u001b[1;33m,\u001b[0m \u001b[1;36m221\u001b[0m\u001b[1;33m,\u001b[0m \u001b[1;36m223\u001b[0m\u001b[1;33m,\u001b[0m \u001b[1;36m229\u001b[0m\u001b[1;33m,\u001b[0m \u001b[1;36m247\u001b[0m\u001b[1;33m,\u001b[0m \u001b[1;36m261\u001b[0m\u001b[1;33m,\u001b[0m \u001b[1;36m265\u001b[0m\u001b[1;33m,\u001b[0m \u001b[1;36m268\u001b[0m\u001b[1;33m,\u001b[0m \u001b[1;36m274\u001b[0m\u001b[1;33m,\u001b[0m \u001b[1;36m281\u001b[0m\u001b[1;33m,\u001b[0m \u001b[1;36m284\u001b[0m\u001b[1;33m,\u001b[0m \u001b[1;36m294\u001b[0m\u001b[1;33m,\u001b[0m \u001b[1;36m305\u001b[0m\u001b[1;33m,\u001b[0m \u001b[1;36m312\u001b[0m\u001b[1;33m]\u001b[0m\u001b[1;33m,\u001b[0m\u001b[1;33m[\u001b[0m\u001b[1;36m212\u001b[0m\u001b[1;33m,\u001b[0m \u001b[1;36m215\u001b[0m\u001b[1;33m,\u001b[0m \u001b[1;36m218\u001b[0m\u001b[1;33m,\u001b[0m \u001b[1;36m221\u001b[0m\u001b[1;33m,\u001b[0m \u001b[1;36m223\u001b[0m\u001b[1;33m,\u001b[0m \u001b[1;36m229\u001b[0m\u001b[1;33m,\u001b[0m \u001b[1;36m247\u001b[0m\u001b[1;33m,\u001b[0m \u001b[1;36m261\u001b[0m\u001b[1;33m,\u001b[0m \u001b[1;36m265\u001b[0m\u001b[1;33m,\u001b[0m \u001b[1;36m268\u001b[0m\u001b[1;33m,\u001b[0m \u001b[1;36m274\u001b[0m\u001b[1;33m,\u001b[0m \u001b[1;36m281\u001b[0m\u001b[1;33m,\u001b[0m \u001b[1;36m284\u001b[0m\u001b[1;33m,\u001b[0m \u001b[1;36m294\u001b[0m\u001b[1;33m,\u001b[0m \u001b[1;36m305\u001b[0m\u001b[1;33m,\u001b[0m \u001b[1;36m312\u001b[0m\u001b[1;33m]\u001b[0m\u001b[1;33m]\u001b[0m\u001b[1;33m.\u001b[0m\u001b[0mround\u001b[0m\u001b[1;33m(\u001b[0m\u001b[1;36m3\u001b[0m\u001b[1;33m)\u001b[0m\u001b[1;33m\u001b[0m\u001b[1;33m\u001b[0m\u001b[0m\n\u001b[1;32m---> 17\u001b[1;33m     \u001b[1;32mwith\u001b[0m \u001b[0mpd\u001b[0m\u001b[1;33m.\u001b[0m\u001b[0mExcelWriter\u001b[0m\u001b[1;33m(\u001b[0m\u001b[0mexcel_path\u001b[0m\u001b[1;33m,\u001b[0m \u001b[0mmode\u001b[0m\u001b[1;33m=\u001b[0m\u001b[1;34m'a'\u001b[0m\u001b[1;33m)\u001b[0m \u001b[1;32mas\u001b[0m \u001b[0mwriter\u001b[0m\u001b[1;33m:\u001b[0m\u001b[1;33m\u001b[0m\u001b[1;33m\u001b[0m\u001b[0m\n\u001b[0m\u001b[0;32m     18\u001b[0m                     \u001b[0mdf1\u001b[0m\u001b[1;33m.\u001b[0m\u001b[0mto_excel\u001b[0m\u001b[1;33m(\u001b[0m\u001b[0mwriter\u001b[0m\u001b[1;33m,\u001b[0m \u001b[0msheet_name\u001b[0m\u001b[1;33m=\u001b[0m\u001b[0mkey\u001b[0m  \u001b[1;33m+\u001b[0m \u001b[1;34m\" sync\"\u001b[0m\u001b[1;33m)\u001b[0m\u001b[1;33m\u001b[0m\u001b[1;33m\u001b[0m\u001b[0m\n\u001b[0;32m     19\u001b[0m                     \u001b[0mdf2\u001b[0m\u001b[1;33m.\u001b[0m\u001b[0mto_excel\u001b[0m\u001b[1;33m(\u001b[0m\u001b[0mwriter\u001b[0m\u001b[1;33m,\u001b[0m \u001b[0msheet_name\u001b[0m\u001b[1;33m=\u001b[0m\u001b[0mkey\u001b[0m  \u001b[1;33m+\u001b[0m \u001b[1;34m\" async\"\u001b[0m\u001b[1;33m)\u001b[0m\u001b[1;33m\u001b[0m\u001b[1;33m\u001b[0m\u001b[0m\n",
      "\u001b[1;32m~\\anaconda3\\envs\\TestEnv\\lib\\site-packages\\pandas\\io\\excel\\_base.py\u001b[0m in \u001b[0;36m__new__\u001b[1;34m(cls, path, engine, **kwargs)\u001b[0m\n\u001b[0;32m    715\u001b[0m                         \u001b[0mengine\u001b[0m \u001b[1;33m=\u001b[0m \u001b[0mget_default_writer\u001b[0m\u001b[1;33m(\u001b[0m\u001b[0mext\u001b[0m\u001b[1;33m)\u001b[0m\u001b[1;33m\u001b[0m\u001b[1;33m\u001b[0m\u001b[0m\n\u001b[0;32m    716\u001b[0m                 \u001b[1;32mexcept\u001b[0m \u001b[0mKeyError\u001b[0m \u001b[1;32mas\u001b[0m \u001b[0merr\u001b[0m\u001b[1;33m:\u001b[0m\u001b[1;33m\u001b[0m\u001b[1;33m\u001b[0m\u001b[0m\n\u001b[1;32m--> 717\u001b[1;33m                     \u001b[1;32mraise\u001b[0m \u001b[0mValueError\u001b[0m\u001b[1;33m(\u001b[0m\u001b[1;34mf\"No engine for filetype: '{ext}'\"\u001b[0m\u001b[1;33m)\u001b[0m \u001b[1;32mfrom\u001b[0m \u001b[0merr\u001b[0m\u001b[1;33m\u001b[0m\u001b[1;33m\u001b[0m\u001b[0m\n\u001b[0m\u001b[0;32m    718\u001b[0m \u001b[1;33m\u001b[0m\u001b[0m\n\u001b[0;32m    719\u001b[0m             \u001b[1;32mif\u001b[0m \u001b[0mengine\u001b[0m \u001b[1;33m==\u001b[0m \u001b[1;34m\"xlwt\"\u001b[0m\u001b[1;33m:\u001b[0m\u001b[1;33m\u001b[0m\u001b[1;33m\u001b[0m\u001b[0m\n",
      "\u001b[1;31mValueError\u001b[0m: No engine for filetype: ''"
     ]
    }
   ],
   "source": [
    "# liste \n",
    "liste =  ['Control_0M', 'Gdm2SO4_0.5M', 'Gdm2SO4_2M', 'Gdm2SO4_4M', 'Gdm2SO4_6M', 'GdmCl_0.5M', 'GdmCl_2M', 'GdmCl_2M_24h' , 'GdmCl_4M', 'GdmCl_6M', 'Urea_2M']\n",
    "t_min = 20\n",
    "t_max = 90\n",
    "\n",
    "\n",
    "\n",
    "for key in liste:\n",
    "    # get reference\n",
    "    ref = data_all[key].cd_df.loc[:, 20]\n",
    "    # sort out values with HT above 900\n",
    "    df = data_all[key].cd_df\n",
    "    # calculate\n",
    "    sync1, assync1 = ana.correlation(df.loc[:,:45], scaling='pareto', ref_spec=[ref], center=False)\n",
    "    df1 = sync1.loc[[212, 215, 218, 221, 223, 229, 247, 261, 265, 268, 274, 281, 284, 294, 305, 312],[212, 215, 218, 221, 223, 229, 247, 261, 265, 268, 274, 281, 284, 294, 305, 312]].round(3)\n",
    "    df2 = assync1.loc[[212, 215, 218, 221, 223, 229, 247, 261, 265, 268, 274, 281, 284, 294, 305, 312],[212, 215, 218, 221, 223, 229, 247, 261, 265, 268, 274, 281, 284, 294, 305, 312]].round(3)\n",
    "    with pd.ExcelWriter(excel_path, mode='a') as writer:  \n",
    "                    df1.to_excel(writer, sheet_name=key  + \" sync\")\n",
    "                    df2.to_excel(writer, sheet_name=key  + \" async\")"
   ]
  },
  {
   "cell_type": "markdown",
   "id": "photographic-killing",
   "metadata": {},
   "source": [
    "Heterogeneous Spectra Values"
   ]
  },
  {
   "cell_type": "code",
   "execution_count": 38,
   "id": "supposed-talent",
   "metadata": {},
   "outputs": [
    {
     "ename": "ValueError",
     "evalue": "No engine for filetype: ''",
     "output_type": "error",
     "traceback": [
      "\u001b[1;31m---------------------------------------------------------------------------\u001b[0m",
      "\u001b[1;31mOptionError\u001b[0m                               Traceback (most recent call last)",
      "\u001b[1;32m~\\anaconda3\\envs\\TestEnv\\lib\\site-packages\\pandas\\io\\excel\\_base.py\u001b[0m in \u001b[0;36m__new__\u001b[1;34m(cls, path, engine, **kwargs)\u001b[0m\n\u001b[0;32m    712\u001b[0m                 \u001b[1;32mtry\u001b[0m\u001b[1;33m:\u001b[0m\u001b[1;33m\u001b[0m\u001b[1;33m\u001b[0m\u001b[0m\n\u001b[1;32m--> 713\u001b[1;33m                     \u001b[0mengine\u001b[0m \u001b[1;33m=\u001b[0m \u001b[0mconfig\u001b[0m\u001b[1;33m.\u001b[0m\u001b[0mget_option\u001b[0m\u001b[1;33m(\u001b[0m\u001b[1;34mf\"io.excel.{ext}.writer\"\u001b[0m\u001b[1;33m,\u001b[0m \u001b[0msilent\u001b[0m\u001b[1;33m=\u001b[0m\u001b[1;32mTrue\u001b[0m\u001b[1;33m)\u001b[0m\u001b[1;33m\u001b[0m\u001b[1;33m\u001b[0m\u001b[0m\n\u001b[0m\u001b[0;32m    714\u001b[0m                     \u001b[1;32mif\u001b[0m \u001b[0mengine\u001b[0m \u001b[1;33m==\u001b[0m \u001b[1;34m\"auto\"\u001b[0m\u001b[1;33m:\u001b[0m\u001b[1;33m\u001b[0m\u001b[1;33m\u001b[0m\u001b[0m\n",
      "\u001b[1;32m~\\anaconda3\\envs\\TestEnv\\lib\\site-packages\\pandas\\_config\\config.py\u001b[0m in \u001b[0;36m__call__\u001b[1;34m(self, *args, **kwds)\u001b[0m\n\u001b[0;32m    232\u001b[0m     \u001b[1;32mdef\u001b[0m \u001b[0m__call__\u001b[0m\u001b[1;33m(\u001b[0m\u001b[0mself\u001b[0m\u001b[1;33m,\u001b[0m \u001b[1;33m*\u001b[0m\u001b[0margs\u001b[0m\u001b[1;33m,\u001b[0m \u001b[1;33m**\u001b[0m\u001b[0mkwds\u001b[0m\u001b[1;33m)\u001b[0m\u001b[1;33m:\u001b[0m\u001b[1;33m\u001b[0m\u001b[1;33m\u001b[0m\u001b[0m\n\u001b[1;32m--> 233\u001b[1;33m         \u001b[1;32mreturn\u001b[0m \u001b[0mself\u001b[0m\u001b[1;33m.\u001b[0m\u001b[0m__func__\u001b[0m\u001b[1;33m(\u001b[0m\u001b[1;33m*\u001b[0m\u001b[0margs\u001b[0m\u001b[1;33m,\u001b[0m \u001b[1;33m**\u001b[0m\u001b[0mkwds\u001b[0m\u001b[1;33m)\u001b[0m\u001b[1;33m\u001b[0m\u001b[1;33m\u001b[0m\u001b[0m\n\u001b[0m\u001b[0;32m    234\u001b[0m \u001b[1;33m\u001b[0m\u001b[0m\n",
      "\u001b[1;32m~\\anaconda3\\envs\\TestEnv\\lib\\site-packages\\pandas\\_config\\config.py\u001b[0m in \u001b[0;36m_get_option\u001b[1;34m(pat, silent)\u001b[0m\n\u001b[0;32m    104\u001b[0m \u001b[1;32mdef\u001b[0m \u001b[0m_get_option\u001b[0m\u001b[1;33m(\u001b[0m\u001b[0mpat\u001b[0m\u001b[1;33m:\u001b[0m \u001b[0mstr\u001b[0m\u001b[1;33m,\u001b[0m \u001b[0msilent\u001b[0m\u001b[1;33m:\u001b[0m \u001b[0mbool\u001b[0m \u001b[1;33m=\u001b[0m \u001b[1;32mFalse\u001b[0m\u001b[1;33m)\u001b[0m\u001b[1;33m:\u001b[0m\u001b[1;33m\u001b[0m\u001b[1;33m\u001b[0m\u001b[0m\n\u001b[1;32m--> 105\u001b[1;33m     \u001b[0mkey\u001b[0m \u001b[1;33m=\u001b[0m \u001b[0m_get_single_key\u001b[0m\u001b[1;33m(\u001b[0m\u001b[0mpat\u001b[0m\u001b[1;33m,\u001b[0m \u001b[0msilent\u001b[0m\u001b[1;33m)\u001b[0m\u001b[1;33m\u001b[0m\u001b[1;33m\u001b[0m\u001b[0m\n\u001b[0m\u001b[0;32m    106\u001b[0m \u001b[1;33m\u001b[0m\u001b[0m\n",
      "\u001b[1;32m~\\anaconda3\\envs\\TestEnv\\lib\\site-packages\\pandas\\_config\\config.py\u001b[0m in \u001b[0;36m_get_single_key\u001b[1;34m(pat, silent)\u001b[0m\n\u001b[0;32m     90\u001b[0m             \u001b[0m_warn_if_deprecated\u001b[0m\u001b[1;33m(\u001b[0m\u001b[0mpat\u001b[0m\u001b[1;33m)\u001b[0m\u001b[1;33m\u001b[0m\u001b[1;33m\u001b[0m\u001b[0m\n\u001b[1;32m---> 91\u001b[1;33m         \u001b[1;32mraise\u001b[0m \u001b[0mOptionError\u001b[0m\u001b[1;33m(\u001b[0m\u001b[1;34mf\"No such keys(s): {repr(pat)}\"\u001b[0m\u001b[1;33m)\u001b[0m\u001b[1;33m\u001b[0m\u001b[1;33m\u001b[0m\u001b[0m\n\u001b[0m\u001b[0;32m     92\u001b[0m     \u001b[1;32mif\u001b[0m \u001b[0mlen\u001b[0m\u001b[1;33m(\u001b[0m\u001b[0mkeys\u001b[0m\u001b[1;33m)\u001b[0m \u001b[1;33m>\u001b[0m \u001b[1;36m1\u001b[0m\u001b[1;33m:\u001b[0m\u001b[1;33m\u001b[0m\u001b[1;33m\u001b[0m\u001b[0m\n",
      "\u001b[1;31mOptionError\u001b[0m: \"No such keys(s): 'io.excel..writer'\"",
      "\nThe above exception was the direct cause of the following exception:\n",
      "\u001b[1;31mValueError\u001b[0m                                Traceback (most recent call last)",
      "\u001b[1;32m<ipython-input-38-6605666eebaa>\u001b[0m in \u001b[0;36m<module>\u001b[1;34m\u001b[0m\n\u001b[0;32m     20\u001b[0m         \u001b[0mdf1\u001b[0m \u001b[1;33m=\u001b[0m \u001b[0msync1\u001b[0m\u001b[1;33m.\u001b[0m\u001b[0mloc\u001b[0m\u001b[1;33m[\u001b[0m\u001b[1;33m[\u001b[0m\u001b[1;36m212\u001b[0m\u001b[1;33m,\u001b[0m \u001b[1;36m215\u001b[0m\u001b[1;33m,\u001b[0m \u001b[1;36m218\u001b[0m\u001b[1;33m,\u001b[0m \u001b[1;36m221\u001b[0m\u001b[1;33m,\u001b[0m \u001b[1;36m223\u001b[0m\u001b[1;33m,\u001b[0m \u001b[1;36m229\u001b[0m\u001b[1;33m,\u001b[0m \u001b[1;36m247\u001b[0m\u001b[1;33m,\u001b[0m \u001b[1;36m261\u001b[0m\u001b[1;33m,\u001b[0m \u001b[1;36m265\u001b[0m\u001b[1;33m,\u001b[0m \u001b[1;36m268\u001b[0m\u001b[1;33m,\u001b[0m \u001b[1;36m274\u001b[0m\u001b[1;33m,\u001b[0m \u001b[1;36m281\u001b[0m\u001b[1;33m,\u001b[0m \u001b[1;36m284\u001b[0m\u001b[1;33m,\u001b[0m \u001b[1;36m294\u001b[0m\u001b[1;33m,\u001b[0m \u001b[1;36m305\u001b[0m\u001b[1;33m,\u001b[0m \u001b[1;36m312\u001b[0m\u001b[1;33m]\u001b[0m\u001b[1;33m,\u001b[0m\u001b[1;33m[\u001b[0m\u001b[1;36m212\u001b[0m\u001b[1;33m,\u001b[0m \u001b[1;36m215\u001b[0m\u001b[1;33m,\u001b[0m \u001b[1;36m218\u001b[0m\u001b[1;33m,\u001b[0m \u001b[1;36m221\u001b[0m\u001b[1;33m,\u001b[0m \u001b[1;36m223\u001b[0m\u001b[1;33m,\u001b[0m \u001b[1;36m229\u001b[0m\u001b[1;33m,\u001b[0m \u001b[1;36m247\u001b[0m\u001b[1;33m,\u001b[0m \u001b[1;36m261\u001b[0m\u001b[1;33m,\u001b[0m \u001b[1;36m265\u001b[0m\u001b[1;33m,\u001b[0m \u001b[1;36m268\u001b[0m\u001b[1;33m,\u001b[0m \u001b[1;36m274\u001b[0m\u001b[1;33m,\u001b[0m \u001b[1;36m281\u001b[0m\u001b[1;33m,\u001b[0m \u001b[1;36m284\u001b[0m\u001b[1;33m,\u001b[0m \u001b[1;36m294\u001b[0m\u001b[1;33m,\u001b[0m \u001b[1;36m305\u001b[0m\u001b[1;33m,\u001b[0m \u001b[1;36m312\u001b[0m\u001b[1;33m]\u001b[0m\u001b[1;33m]\u001b[0m\u001b[1;33m.\u001b[0m\u001b[0mround\u001b[0m\u001b[1;33m(\u001b[0m\u001b[1;36m3\u001b[0m\u001b[1;33m)\u001b[0m\u001b[1;33m\u001b[0m\u001b[1;33m\u001b[0m\u001b[0m\n\u001b[0;32m     21\u001b[0m         \u001b[0mdf2\u001b[0m \u001b[1;33m=\u001b[0m \u001b[0massync1\u001b[0m\u001b[1;33m.\u001b[0m\u001b[0mloc\u001b[0m\u001b[1;33m[\u001b[0m\u001b[1;33m[\u001b[0m\u001b[1;36m212\u001b[0m\u001b[1;33m,\u001b[0m \u001b[1;36m215\u001b[0m\u001b[1;33m,\u001b[0m \u001b[1;36m218\u001b[0m\u001b[1;33m,\u001b[0m \u001b[1;36m221\u001b[0m\u001b[1;33m,\u001b[0m \u001b[1;36m223\u001b[0m\u001b[1;33m,\u001b[0m \u001b[1;36m229\u001b[0m\u001b[1;33m,\u001b[0m \u001b[1;36m247\u001b[0m\u001b[1;33m,\u001b[0m \u001b[1;36m261\u001b[0m\u001b[1;33m,\u001b[0m \u001b[1;36m265\u001b[0m\u001b[1;33m,\u001b[0m \u001b[1;36m268\u001b[0m\u001b[1;33m,\u001b[0m \u001b[1;36m274\u001b[0m\u001b[1;33m,\u001b[0m \u001b[1;36m281\u001b[0m\u001b[1;33m,\u001b[0m \u001b[1;36m284\u001b[0m\u001b[1;33m,\u001b[0m \u001b[1;36m294\u001b[0m\u001b[1;33m,\u001b[0m \u001b[1;36m305\u001b[0m\u001b[1;33m,\u001b[0m \u001b[1;36m312\u001b[0m\u001b[1;33m]\u001b[0m\u001b[1;33m,\u001b[0m\u001b[1;33m[\u001b[0m\u001b[1;36m212\u001b[0m\u001b[1;33m,\u001b[0m \u001b[1;36m215\u001b[0m\u001b[1;33m,\u001b[0m \u001b[1;36m218\u001b[0m\u001b[1;33m,\u001b[0m \u001b[1;36m221\u001b[0m\u001b[1;33m,\u001b[0m \u001b[1;36m223\u001b[0m\u001b[1;33m,\u001b[0m \u001b[1;36m229\u001b[0m\u001b[1;33m,\u001b[0m \u001b[1;36m247\u001b[0m\u001b[1;33m,\u001b[0m \u001b[1;36m261\u001b[0m\u001b[1;33m,\u001b[0m \u001b[1;36m265\u001b[0m\u001b[1;33m,\u001b[0m \u001b[1;36m268\u001b[0m\u001b[1;33m,\u001b[0m \u001b[1;36m274\u001b[0m\u001b[1;33m,\u001b[0m \u001b[1;36m281\u001b[0m\u001b[1;33m,\u001b[0m \u001b[1;36m284\u001b[0m\u001b[1;33m,\u001b[0m \u001b[1;36m294\u001b[0m\u001b[1;33m,\u001b[0m \u001b[1;36m305\u001b[0m\u001b[1;33m,\u001b[0m \u001b[1;36m312\u001b[0m\u001b[1;33m]\u001b[0m\u001b[1;33m]\u001b[0m\u001b[1;33m.\u001b[0m\u001b[0mround\u001b[0m\u001b[1;33m(\u001b[0m\u001b[1;36m3\u001b[0m\u001b[1;33m)\u001b[0m\u001b[1;33m\u001b[0m\u001b[1;33m\u001b[0m\u001b[0m\n\u001b[1;32m---> 22\u001b[1;33m         \u001b[1;32mwith\u001b[0m \u001b[0mpd\u001b[0m\u001b[1;33m.\u001b[0m\u001b[0mExcelWriter\u001b[0m\u001b[1;33m(\u001b[0m\u001b[0mexcel_path\u001b[0m\u001b[1;33m,\u001b[0m \u001b[0mmode\u001b[0m\u001b[1;33m=\u001b[0m\u001b[1;34m'a'\u001b[0m\u001b[1;33m)\u001b[0m \u001b[1;32mas\u001b[0m \u001b[0mwriter\u001b[0m\u001b[1;33m:\u001b[0m\u001b[1;33m\u001b[0m\u001b[1;33m\u001b[0m\u001b[0m\n\u001b[0m\u001b[0;32m     23\u001b[0m             \u001b[0mdf1\u001b[0m\u001b[1;33m.\u001b[0m\u001b[0mto_excel\u001b[0m\u001b[1;33m(\u001b[0m\u001b[0mwriter\u001b[0m\u001b[1;33m,\u001b[0m \u001b[0msheet_name\u001b[0m\u001b[1;33m=\u001b[0m\u001b[0mplot_list\u001b[0m\u001b[1;33m[\u001b[0m\u001b[0mi\u001b[0m\u001b[1;33m]\u001b[0m \u001b[1;33m+\u001b[0m \u001b[1;34m\" vs.  \"\u001b[0m \u001b[1;33m+\u001b[0m \u001b[0mplot_list\u001b[0m\u001b[1;33m[\u001b[0m\u001b[0mj\u001b[0m\u001b[1;33m]\u001b[0m  \u001b[1;33m+\u001b[0m \u001b[1;34m\" sync\"\u001b[0m\u001b[1;33m)\u001b[0m\u001b[1;33m\u001b[0m\u001b[1;33m\u001b[0m\u001b[0m\n\u001b[0;32m     24\u001b[0m             \u001b[0mdf2\u001b[0m\u001b[1;33m.\u001b[0m\u001b[0mto_excel\u001b[0m\u001b[1;33m(\u001b[0m\u001b[0mwriter\u001b[0m\u001b[1;33m,\u001b[0m \u001b[0msheet_name\u001b[0m\u001b[1;33m=\u001b[0m\u001b[0mplot_list\u001b[0m\u001b[1;33m[\u001b[0m\u001b[0mi\u001b[0m\u001b[1;33m]\u001b[0m \u001b[1;33m+\u001b[0m \u001b[1;34m\" vs.  \"\u001b[0m \u001b[1;33m+\u001b[0m \u001b[0mplot_list\u001b[0m\u001b[1;33m[\u001b[0m\u001b[0mj\u001b[0m\u001b[1;33m]\u001b[0m  \u001b[1;33m+\u001b[0m \u001b[1;34m\" async\"\u001b[0m\u001b[1;33m)\u001b[0m\u001b[1;33m\u001b[0m\u001b[1;33m\u001b[0m\u001b[0m\n",
      "\u001b[1;32m~\\anaconda3\\envs\\TestEnv\\lib\\site-packages\\pandas\\io\\excel\\_base.py\u001b[0m in \u001b[0;36m__new__\u001b[1;34m(cls, path, engine, **kwargs)\u001b[0m\n\u001b[0;32m    715\u001b[0m                         \u001b[0mengine\u001b[0m \u001b[1;33m=\u001b[0m \u001b[0mget_default_writer\u001b[0m\u001b[1;33m(\u001b[0m\u001b[0mext\u001b[0m\u001b[1;33m)\u001b[0m\u001b[1;33m\u001b[0m\u001b[1;33m\u001b[0m\u001b[0m\n\u001b[0;32m    716\u001b[0m                 \u001b[1;32mexcept\u001b[0m \u001b[0mKeyError\u001b[0m \u001b[1;32mas\u001b[0m \u001b[0merr\u001b[0m\u001b[1;33m:\u001b[0m\u001b[1;33m\u001b[0m\u001b[1;33m\u001b[0m\u001b[0m\n\u001b[1;32m--> 717\u001b[1;33m                     \u001b[1;32mraise\u001b[0m \u001b[0mValueError\u001b[0m\u001b[1;33m(\u001b[0m\u001b[1;34mf\"No engine for filetype: '{ext}'\"\u001b[0m\u001b[1;33m)\u001b[0m \u001b[1;32mfrom\u001b[0m \u001b[0merr\u001b[0m\u001b[1;33m\u001b[0m\u001b[1;33m\u001b[0m\u001b[0m\n\u001b[0m\u001b[0;32m    718\u001b[0m \u001b[1;33m\u001b[0m\u001b[0m\n\u001b[0;32m    719\u001b[0m             \u001b[1;32mif\u001b[0m \u001b[0mengine\u001b[0m \u001b[1;33m==\u001b[0m \u001b[1;34m\"xlwt\"\u001b[0m\u001b[1;33m:\u001b[0m\u001b[1;33m\u001b[0m\u001b[1;33m\u001b[0m\u001b[0m\n",
      "\u001b[1;31mValueError\u001b[0m: No engine for filetype: ''"
     ]
    }
   ],
   "source": [
    "# Liste\n",
    "\n",
    "#plot_list = [\"Control_0M\", 'GdmCl_0.5M', 'GdmCl_2M',  'GdmCl_4M', 'GdmCl_6M']\n",
    "plot_list = [\"Control_0M\", 'Gdm2SO4_0.5M', 'Gdm2SO4_2M',  'Gdm2SO4_4M', 'Gdm2SO4_6M']\n",
    "anzahl = len(plot_list)\n",
    "t_min = 20 \n",
    "t_max = 90\n",
    "\n",
    "\n",
    "# calculation \n",
    "for i in range(anzahl):\n",
    "    for j in range(anzahl):\n",
    "        if i >= j:\n",
    "            continue\n",
    "        df1 = data_all[plot_list[i]].cd_df\n",
    "        df2 = data_all[plot_list[j]].cd_df\n",
    "        ref1 = df1.loc[:, 20]\n",
    "        ref2 = df2.loc[:, 20]\n",
    "        sync1, assync1 = ana.correlation(df1.loc[:, :t_max], df2.loc[:, :t_max], scaling='pareto', ref_spec=[ref1, ref2], center=False)\n",
    "        df1 = sync1.loc[[212, 215, 218, 221, 223, 229, 247, 261, 265, 268, 274, 281, 284, 294, 305, 312],[212, 215, 218, 221, 223, 229, 247, 261, 265, 268, 274, 281, 284, 294, 305, 312]].round(3)\n",
    "        df2 = assync1.loc[[212, 215, 218, 221, 223, 229, 247, 261, 265, 268, 274, 281, 284, 294, 305, 312],[212, 215, 218, 221, 223, 229, 247, 261, 265, 268, 274, 281, 284, 294, 305, 312]].round(3)\n",
    "        with pd.ExcelWriter(excel_path, mode='a') as writer:  \n",
    "            df1.to_excel(writer, sheet_name=plot_list[i] + \" vs.  \" + plot_list[j]  + \" sync\")\n",
    "            df2.to_excel(writer, sheet_name=plot_list[i] + \" vs.  \" + plot_list[j]  + \" async\")\n",
    "            \n",
    "# extra calculation for 2M vs 2M_24h            \n",
    "\"\"\"df1 = data_all[\"GdmCl_2M\"].cd_df\n",
    "df2 = data_all[\"GdmCl_2M_24h\"].cd_df\n",
    "ref1 = df1.loc[:, 20]\n",
    "ref2 = df2.loc[:, 20]\n",
    "sync1, assync1 = ana.correlation(df1.loc[:, :t_max], df2.loc[:, :t_max], scaling='pareto', ref_spec=[ref1, ref2], center=False)\n",
    "df1 = sync1.loc[[212, 215, 218, 221, 223, 229, 247, 261, 265, 268, 274, 281, 284, 294, 305, 312],[212, 215, 218, 221, 223, 229, 247, 261, 265, 268, 274, 281, 284, 294, 305, 312]].round(3)\n",
    "df2 = assync1.loc[[212, 215, 218, 221, 223, 229, 247, 261, 265, 268, 274, 281, 284, 294, 305, 312],[212, 215, 218, 221, 223, 229, 247, 261, 265, 268, 274, 281, 284, 294, 305, 312]].round(3)\n",
    "with pd.ExcelWriter(excel_path, mode='a') as writer:  \n",
    "    df1.to_excel(writer, sheet_name=\"2M vs. 2M 24h sync\")\n",
    "    df2.to_excel(writer, sheet_name=\"2M vs. 2M 24h async\")\"\"\""
   ]
  },
  {
   "cell_type": "code",
   "execution_count": 39,
   "id": "straight-optimum",
   "metadata": {},
   "outputs": [
    {
     "data": {
      "application/vnd.jupyter.widget-view+json": {
       "model_id": "d59c2428cf7e445fa45c231c254c6581",
       "version_major": 2,
       "version_minor": 0
      },
      "text/plain": [
       "Canvas(toolbar=Toolbar(toolitems=[('Home', 'Reset original view', 'home', 'home'), ('Back', 'Back to previous …"
      ]
     },
     "metadata": {},
     "output_type": "display_data"
    }
   ],
   "source": [
    "arr = assync.loc[wavelength, :].to_numpy()\n",
    "df = pd.DataFrame(arr, index=assync.index).T\n",
    "diff = pd.DataFrame(np.diff(arr), index=list(assync.index)[:-1]).T\n",
    "plot.mult_func([0], [df, diff], x_label=\"wavelength [nm]\", baseline=True, x_min=210, subtitle=[\"synchronous Line Analysis\"])"
   ]
  },
  {
   "cell_type": "markdown",
   "id": "buried-abuse",
   "metadata": {},
   "source": [
    "### Heterogenous Spectrum\n",
    "\n",
    "*with pareto scaling and Control Measurement as Reference*"
   ]
  },
  {
   "cell_type": "code",
   "execution_count": 40,
   "id": "organizational-dietary",
   "metadata": {},
   "outputs": [
    {
     "name": "stdout",
     "output_type": "stream",
     "text": [
      "dict_keys(['Control_0M', 'Gdm2SO4_0.5M', 'Gdm2SO4_1M', 'Gdm2SO4_2M', 'Gdm2SO4_4M', 'Gdm2SO4_4M - Wiederholung', 'Gdm2SO4_6M', 'GdmCl_0.5M', 'GdmCl_1M', 'GdmCl_2M', 'GdmCl_2M_20nM_Origami', 'GdmCl_2M_24h', 'GdmCl_2M_80nM_Origami', 'GdmCl_4M', 'GdmCl_6M', 'GdmCl_6M_70', 'GdmSCN_0.5M', 'GdmSCN_2M', 'GdmSCN_4M', 'Urea_05M', 'Urea_2M'])\n"
     ]
    }
   ],
   "source": [
    "print(data_all.keys())"
   ]
  },
  {
   "cell_type": "code",
   "execution_count": 41,
   "id": "rocky-suspect",
   "metadata": {},
   "outputs": [],
   "source": [
    "#plot_list = [\"Control_0M\", 'GdmCl_0.5M', 'GdmCl_2M',  'GdmCl_4M', 'GdmCl_6M']\n",
    "plot_list = [\"Control_0M\", 'Gdm2SO4_0.5M', 'Gdm2SO4_2M',  'Gdm2SO4_4M', 'Gdm2SO4_6M']\n",
    "anzahl = len(plot_list)\n",
    "t_min = 20 \n",
    "t_max = 90"
   ]
  },
  {
   "cell_type": "code",
   "execution_count": 42,
   "id": "attached-gentleman",
   "metadata": {},
   "outputs": [
    {
     "data": {
      "application/vnd.jupyter.widget-view+json": {
       "model_id": "2d5a485247e5495b8c97adab3159e412",
       "version_major": 2,
       "version_minor": 0
      },
      "text/plain": [
       "Canvas(toolbar=Toolbar(toolitems=[('Home', 'Reset original view', 'home', 'home'), ('Back', 'Back to previous …"
      ]
     },
     "metadata": {},
     "output_type": "display_data"
    },
    {
     "data": {
      "application/vnd.jupyter.widget-view+json": {
       "model_id": "290ca6ae84ef468ea9a0e96aec473b7c",
       "version_major": 2,
       "version_minor": 0
      },
      "text/plain": [
       "Canvas(toolbar=Toolbar(toolitems=[('Home', 'Reset original view', 'home', 'home'), ('Back', 'Back to previous …"
      ]
     },
     "metadata": {},
     "output_type": "display_data"
    },
    {
     "data": {
      "application/vnd.jupyter.widget-view+json": {
       "model_id": "1fc727b02bad46a2a1b23a2c5895372d",
       "version_major": 2,
       "version_minor": 0
      },
      "text/plain": [
       "Canvas(toolbar=Toolbar(toolitems=[('Home', 'Reset original view', 'home', 'home'), ('Back', 'Back to previous …"
      ]
     },
     "metadata": {},
     "output_type": "display_data"
    },
    {
     "data": {
      "application/vnd.jupyter.widget-view+json": {
       "model_id": "ea8fe0d69fe24689973e706cf0401f72",
       "version_major": 2,
       "version_minor": 0
      },
      "text/plain": [
       "Canvas(toolbar=Toolbar(toolitems=[('Home', 'Reset original view', 'home', 'home'), ('Back', 'Back to previous …"
      ]
     },
     "metadata": {},
     "output_type": "display_data"
    },
    {
     "data": {
      "application/vnd.jupyter.widget-view+json": {
       "model_id": "58d47854038a45e38c0ab71918d24d85",
       "version_major": 2,
       "version_minor": 0
      },
      "text/plain": [
       "Canvas(toolbar=Toolbar(toolitems=[('Home', 'Reset original view', 'home', 'home'), ('Back', 'Back to previous …"
      ]
     },
     "metadata": {},
     "output_type": "display_data"
    },
    {
     "data": {
      "application/vnd.jupyter.widget-view+json": {
       "model_id": "02cdce930b1949f9bf0728233bbd41b2",
       "version_major": 2,
       "version_minor": 0
      },
      "text/plain": [
       "Canvas(toolbar=Toolbar(toolitems=[('Home', 'Reset original view', 'home', 'home'), ('Back', 'Back to previous …"
      ]
     },
     "metadata": {},
     "output_type": "display_data"
    },
    {
     "data": {
      "application/vnd.jupyter.widget-view+json": {
       "model_id": "d084d870707f47b896ead9154fe2af0c",
       "version_major": 2,
       "version_minor": 0
      },
      "text/plain": [
       "Canvas(toolbar=Toolbar(toolitems=[('Home', 'Reset original view', 'home', 'home'), ('Back', 'Back to previous …"
      ]
     },
     "metadata": {},
     "output_type": "display_data"
    },
    {
     "data": {
      "application/vnd.jupyter.widget-view+json": {
       "model_id": "5ec73da3664f4a38a1b31a2a2a277b43",
       "version_major": 2,
       "version_minor": 0
      },
      "text/plain": [
       "Canvas(toolbar=Toolbar(toolitems=[('Home', 'Reset original view', 'home', 'home'), ('Back', 'Back to previous …"
      ]
     },
     "metadata": {},
     "output_type": "display_data"
    },
    {
     "data": {
      "application/vnd.jupyter.widget-view+json": {
       "model_id": "6cc112f2eccf4a27bc63b9854b2a31c7",
       "version_major": 2,
       "version_minor": 0
      },
      "text/plain": [
       "Canvas(toolbar=Toolbar(toolitems=[('Home', 'Reset original view', 'home', 'home'), ('Back', 'Back to previous …"
      ]
     },
     "metadata": {},
     "output_type": "display_data"
    },
    {
     "data": {
      "application/vnd.jupyter.widget-view+json": {
       "model_id": "0fd014bfac95402688922e1eda6333e7",
       "version_major": 2,
       "version_minor": 0
      },
      "text/plain": [
       "Canvas(toolbar=Toolbar(toolitems=[('Home', 'Reset original view', 'home', 'home'), ('Back', 'Back to previous …"
      ]
     },
     "metadata": {},
     "output_type": "display_data"
    }
   ],
   "source": [
    "for i in range(anzahl):\n",
    "    for j in range(anzahl):\n",
    "        if i >= j:\n",
    "            continue\n",
    "        title = \"Heterogenoues 2D Correlation between \" + plot_list[i] + \" \" + plot_list[j]\n",
    "        df1 = data_all[plot_list[i]].cd_df\n",
    "        df2 = data_all[plot_list[j]].cd_df\n",
    "        ref1 = df1.loc[:, 20]\n",
    "        ref2 = df2.loc[:, 20]\n",
    "        sync1, assync1 = ana.correlation(df1, df2, scaling='pareto', ref_spec=[ref1, ref2], center=False)\n",
    "        sync2, assync2 = ana.correlation(df1, df2, scaling='auto', ref_spec=[ref1, ref2], center=False)\n",
    "        plot.heatmap(sync1, assync1, title=title, subtitle=[\"Synchronous Spectrum\", \"Asynchronous Spectrum\", \"Synchronous Spectrum\", \"Asynchronous Spectrum\"], x_min=[210, 210, 210, 210], y_min=[210, 210, 210, 210],\n",
    "                y_label= plot_list[i] + \" WL[nm]\", x_label= plot_list[j] + \" WL[nm]\")"
   ]
  },
  {
   "cell_type": "markdown",
   "id": "sophisticated-effect",
   "metadata": {
    "toc-hr-collapsed": true
   },
   "source": [
    "### Perturbation-Correlation Moving-Window 2D Correlation Spectroscopy"
   ]
  },
  {
   "cell_type": "markdown",
   "id": "partial-theology",
   "metadata": {},
   "source": [
    "*different window size can be choosen*"
   ]
  },
  {
   "cell_type": "code",
   "execution_count": null,
   "id": "disabled-yesterday",
   "metadata": {},
   "outputs": [],
   "source": [
    "liste = ['1_M_GdmCl_100_mM_Mg',  '4_M_GdmCl_100_mM_Mg', '4_M_GdmCl_10_mM_Mg', '4_M_GdmCl_400_mM_Mg']"
   ]
  },
  {
   "cell_type": "code",
   "execution_count": null,
   "id": "unavailable-machine",
   "metadata": {},
   "outputs": [],
   "source": [
    "for key in liste:\n",
    "    df = data_all[key].cd_df.loc[230:300]\n",
    "    max_cd_value = df.abs().max().max()\n",
    "    sync, assync, = ana.perturbation_moving_window(df, window_size=10)\n",
    "    plot.heatmap(sync, x_min=[230], x_max=[300], \n",
    "                 c_label=\"\", title=\"\", subtitle=[key],\n",
    "                 c_max = [0.5e7], c_min=[-0.5e7],\n",
    "                #contour_lines=[-0.7*max_cd_value, -0.4*max_cd_value,  -0.2*max_cd_value,  0, 0.2*max_cd_value,  0.4*max_cd_value, 0.7*max_cd_value],\n",
    "                hline=melt_T[key])"
   ]
  },
  {
   "cell_type": "markdown",
   "id": "contained-squad",
   "metadata": {},
   "source": [
    "## Absorbance Values"
   ]
  },
  {
   "cell_type": "code",
   "execution_count": 43,
   "id": "meaning-arnold",
   "metadata": {},
   "outputs": [
    {
     "data": {
      "application/vnd.jupyter.widget-view+json": {
       "model_id": "8af09eded9d842798e1a025ac7a7a204",
       "version_major": 2,
       "version_minor": 0
      },
      "text/plain": [
       "Canvas(toolbar=Toolbar(toolitems=[('Home', 'Reset original view', 'home', 'home'), ('Back', 'Back to previous …"
      ]
     },
     "metadata": {},
     "output_type": "display_data"
    },
    {
     "data": {
      "application/vnd.jupyter.widget-view+json": {
       "model_id": "eaccd7cbfbbf443797a90b26eb1509fb",
       "version_major": 2,
       "version_minor": 0
      },
      "text/plain": [
       "Canvas(toolbar=Toolbar(toolitems=[('Home', 'Reset original view', 'home', 'home'), ('Back', 'Back to previous …"
      ]
     },
     "metadata": {},
     "output_type": "display_data"
    },
    {
     "data": {
      "application/vnd.jupyter.widget-view+json": {
       "model_id": "c18e753b088549ad89f57e6408574ee5",
       "version_major": 2,
       "version_minor": 0
      },
      "text/plain": [
       "Canvas(toolbar=Toolbar(toolitems=[('Home', 'Reset original view', 'home', 'home'), ('Back', 'Back to previous …"
      ]
     },
     "metadata": {},
     "output_type": "display_data"
    },
    {
     "data": {
      "application/vnd.jupyter.widget-view+json": {
       "model_id": "d6a48df567264274a1294dd9efb0a665",
       "version_major": 2,
       "version_minor": 0
      },
      "text/plain": [
       "Canvas(toolbar=Toolbar(toolitems=[('Home', 'Reset original view', 'home', 'home'), ('Back', 'Back to previous …"
      ]
     },
     "metadata": {},
     "output_type": "display_data"
    },
    {
     "data": {
      "application/vnd.jupyter.widget-view+json": {
       "model_id": "05f1a553c09f4d799169b5e3e5c28fe7",
       "version_major": 2,
       "version_minor": 0
      },
      "text/plain": [
       "Canvas(toolbar=Toolbar(toolitems=[('Home', 'Reset original view', 'home', 'home'), ('Back', 'Back to previous …"
      ]
     },
     "metadata": {},
     "output_type": "display_data"
    },
    {
     "data": {
      "application/vnd.jupyter.widget-view+json": {
       "model_id": "2f39eaeb4e084c5ebbd5bd030ff5e32a",
       "version_major": 2,
       "version_minor": 0
      },
      "text/plain": [
       "Canvas(toolbar=Toolbar(toolitems=[('Home', 'Reset original view', 'home', 'home'), ('Back', 'Back to previous …"
      ]
     },
     "metadata": {},
     "output_type": "display_data"
    },
    {
     "data": {
      "application/vnd.jupyter.widget-view+json": {
       "model_id": "26eb41e5bdee4c9ba7b91ffbe619182b",
       "version_major": 2,
       "version_minor": 0
      },
      "text/plain": [
       "Canvas(toolbar=Toolbar(toolitems=[('Home', 'Reset original view', 'home', 'home'), ('Back', 'Back to previous …"
      ]
     },
     "metadata": {},
     "output_type": "display_data"
    },
    {
     "data": {
      "application/vnd.jupyter.widget-view+json": {
       "model_id": "4613aabf46204c2f87479c00f390d4e0",
       "version_major": 2,
       "version_minor": 0
      },
      "text/plain": [
       "Canvas(toolbar=Toolbar(toolitems=[('Home', 'Reset original view', 'home', 'home'), ('Back', 'Back to previous …"
      ]
     },
     "metadata": {},
     "output_type": "display_data"
    },
    {
     "data": {
      "application/vnd.jupyter.widget-view+json": {
       "model_id": "4efd00f538be430bb901561e8823afe1",
       "version_major": 2,
       "version_minor": 0
      },
      "text/plain": [
       "Canvas(toolbar=Toolbar(toolitems=[('Home', 'Reset original view', 'home', 'home'), ('Back', 'Back to previous …"
      ]
     },
     "metadata": {},
     "output_type": "display_data"
    },
    {
     "data": {
      "application/vnd.jupyter.widget-view+json": {
       "model_id": "a411293703fc4e63ae23f31bc1b66da9",
       "version_major": 2,
       "version_minor": 0
      },
      "text/plain": [
       "Canvas(toolbar=Toolbar(toolitems=[('Home', 'Reset original view', 'home', 'home'), ('Back', 'Back to previous …"
      ]
     },
     "metadata": {},
     "output_type": "display_data"
    },
    {
     "data": {
      "application/vnd.jupyter.widget-view+json": {
       "model_id": "50fedd2ff7514c5188091e6b83765a8c",
       "version_major": 2,
       "version_minor": 0
      },
      "text/plain": [
       "Canvas(toolbar=Toolbar(toolitems=[('Home', 'Reset original view', 'home', 'home'), ('Back', 'Back to previous …"
      ]
     },
     "metadata": {},
     "output_type": "display_data"
    },
    {
     "data": {
      "application/vnd.jupyter.widget-view+json": {
       "model_id": "879a78f5b0e2459a81d7db18d31aff0f",
       "version_major": 2,
       "version_minor": 0
      },
      "text/plain": [
       "Canvas(toolbar=Toolbar(toolitems=[('Home', 'Reset original view', 'home', 'home'), ('Back', 'Back to previous …"
      ]
     },
     "metadata": {},
     "output_type": "display_data"
    },
    {
     "data": {
      "application/vnd.jupyter.widget-view+json": {
       "model_id": "3a0b57800a3a4cfa81f9370bce847aba",
       "version_major": 2,
       "version_minor": 0
      },
      "text/plain": [
       "Canvas(toolbar=Toolbar(toolitems=[('Home', 'Reset original view', 'home', 'home'), ('Back', 'Back to previous …"
      ]
     },
     "metadata": {},
     "output_type": "display_data"
    },
    {
     "data": {
      "application/vnd.jupyter.widget-view+json": {
       "model_id": "778fa920aa1e46fa84ec2a14531779c7",
       "version_major": 2,
       "version_minor": 0
      },
      "text/plain": [
       "Canvas(toolbar=Toolbar(toolitems=[('Home', 'Reset original view', 'home', 'home'), ('Back', 'Back to previous …"
      ]
     },
     "metadata": {},
     "output_type": "display_data"
    },
    {
     "data": {
      "application/vnd.jupyter.widget-view+json": {
       "model_id": "ec162b2be1ba4ef9bbdee895972b8924",
       "version_major": 2,
       "version_minor": 0
      },
      "text/plain": [
       "Canvas(toolbar=Toolbar(toolitems=[('Home', 'Reset original view', 'home', 'home'), ('Back', 'Back to previous …"
      ]
     },
     "metadata": {},
     "output_type": "display_data"
    },
    {
     "data": {
      "application/vnd.jupyter.widget-view+json": {
       "model_id": "8e140b4a48514456964365df1f74a7a8",
       "version_major": 2,
       "version_minor": 0
      },
      "text/plain": [
       "Canvas(toolbar=Toolbar(toolitems=[('Home', 'Reset original view', 'home', 'home'), ('Back', 'Back to previous …"
      ]
     },
     "metadata": {},
     "output_type": "display_data"
    },
    {
     "data": {
      "application/vnd.jupyter.widget-view+json": {
       "model_id": "ebe892aa38484562ace78ed728db6b72",
       "version_major": 2,
       "version_minor": 0
      },
      "text/plain": [
       "Canvas(toolbar=Toolbar(toolitems=[('Home', 'Reset original view', 'home', 'home'), ('Back', 'Back to previous …"
      ]
     },
     "metadata": {},
     "output_type": "display_data"
    },
    {
     "data": {
      "application/vnd.jupyter.widget-view+json": {
       "model_id": "4c24337fa648498cb022ee6ad056d866",
       "version_major": 2,
       "version_minor": 0
      },
      "text/plain": [
       "Canvas(toolbar=Toolbar(toolitems=[('Home', 'Reset original view', 'home', 'home'), ('Back', 'Back to previous …"
      ]
     },
     "metadata": {},
     "output_type": "display_data"
    },
    {
     "data": {
      "application/vnd.jupyter.widget-view+json": {
       "model_id": "da5533053fe14c789685926de2bef102",
       "version_major": 2,
       "version_minor": 0
      },
      "text/plain": [
       "Canvas(toolbar=Toolbar(toolitems=[('Home', 'Reset original view', 'home', 'home'), ('Back', 'Back to previous …"
      ]
     },
     "metadata": {},
     "output_type": "display_data"
    },
    {
     "data": {
      "application/vnd.jupyter.widget-view+json": {
       "model_id": "0497fa29fca84f9892066d2bedf04ef3",
       "version_major": 2,
       "version_minor": 0
      },
      "text/plain": [
       "Canvas(toolbar=Toolbar(toolitems=[('Home', 'Reset original view', 'home', 'home'), ('Back', 'Back to previous …"
      ]
     },
     "metadata": {},
     "output_type": "display_data"
    },
    {
     "data": {
      "application/vnd.jupyter.widget-view+json": {
       "model_id": "b1eb45ece9144f929a41e69bb012b1be",
       "version_major": 2,
       "version_minor": 0
      },
      "text/plain": [
       "Canvas(toolbar=Toolbar(toolitems=[('Home', 'Reset original view', 'home', 'home'), ('Back', 'Back to previous …"
      ]
     },
     "metadata": {},
     "output_type": "display_data"
    }
   ],
   "source": [
    "for key in data_all.keys():\n",
    "    plot.heatmap(data_all[key].absorb_df, subtitle=[key], title=\"Absorbance Values\", x_min=[215], x_max=[300], c_min=[0]*len(data_all))\n"
   ]
  },
  {
   "cell_type": "code",
   "execution_count": 44,
   "id": "dated-response",
   "metadata": {},
   "outputs": [
    {
     "data": {
      "application/vnd.jupyter.widget-view+json": {
       "model_id": "9b8ec570dc1f4e5d9f0af7d9773f073e",
       "version_major": 2,
       "version_minor": 0
      },
      "text/plain": [
       "Canvas(toolbar=Toolbar(toolitems=[('Home', 'Reset original view', 'home', 'home'), ('Back', 'Back to previous …"
      ]
     },
     "metadata": {},
     "output_type": "display_data"
    },
    {
     "data": {
      "application/vnd.jupyter.widget-view+json": {
       "model_id": "4a0693dc1da84aad8f271226904e4aad",
       "version_major": 2,
       "version_minor": 0
      },
      "text/plain": [
       "Canvas(toolbar=Toolbar(toolitems=[('Home', 'Reset original view', 'home', 'home'), ('Back', 'Back to previous …"
      ]
     },
     "metadata": {},
     "output_type": "display_data"
    },
    {
     "data": {
      "application/vnd.jupyter.widget-view+json": {
       "model_id": "977275fc73a44eabba4565965c982498",
       "version_major": 2,
       "version_minor": 0
      },
      "text/plain": [
       "Canvas(toolbar=Toolbar(toolitems=[('Home', 'Reset original view', 'home', 'home'), ('Back', 'Back to previous …"
      ]
     },
     "metadata": {},
     "output_type": "display_data"
    },
    {
     "data": {
      "application/vnd.jupyter.widget-view+json": {
       "model_id": "afda02b420474223b95c887c883fa929",
       "version_major": 2,
       "version_minor": 0
      },
      "text/plain": [
       "Canvas(toolbar=Toolbar(toolitems=[('Home', 'Reset original view', 'home', 'home'), ('Back', 'Back to previous …"
      ]
     },
     "metadata": {},
     "output_type": "display_data"
    },
    {
     "data": {
      "application/vnd.jupyter.widget-view+json": {
       "model_id": "fa1114c90c5040aa81d41f0df449a50f",
       "version_major": 2,
       "version_minor": 0
      },
      "text/plain": [
       "Canvas(toolbar=Toolbar(toolitems=[('Home', 'Reset original view', 'home', 'home'), ('Back', 'Back to previous …"
      ]
     },
     "metadata": {},
     "output_type": "display_data"
    },
    {
     "data": {
      "application/vnd.jupyter.widget-view+json": {
       "model_id": "d438d1de144443a8a2225c3bfbe70909",
       "version_major": 2,
       "version_minor": 0
      },
      "text/plain": [
       "Canvas(toolbar=Toolbar(toolitems=[('Home', 'Reset original view', 'home', 'home'), ('Back', 'Back to previous …"
      ]
     },
     "metadata": {},
     "output_type": "display_data"
    },
    {
     "data": {
      "application/vnd.jupyter.widget-view+json": {
       "model_id": "afd6af2b04ab4710980dcb9d74d1ae95",
       "version_major": 2,
       "version_minor": 0
      },
      "text/plain": [
       "Canvas(toolbar=Toolbar(toolitems=[('Home', 'Reset original view', 'home', 'home'), ('Back', 'Back to previous …"
      ]
     },
     "metadata": {},
     "output_type": "display_data"
    },
    {
     "data": {
      "application/vnd.jupyter.widget-view+json": {
       "model_id": "9c24c1ef2cb948be95f43bcd3cbedd83",
       "version_major": 2,
       "version_minor": 0
      },
      "text/plain": [
       "Canvas(toolbar=Toolbar(toolitems=[('Home', 'Reset original view', 'home', 'home'), ('Back', 'Back to previous …"
      ]
     },
     "metadata": {},
     "output_type": "display_data"
    },
    {
     "data": {
      "application/vnd.jupyter.widget-view+json": {
       "model_id": "096932ed2c794b1bae01fe8415dfba9c",
       "version_major": 2,
       "version_minor": 0
      },
      "text/plain": [
       "Canvas(toolbar=Toolbar(toolitems=[('Home', 'Reset original view', 'home', 'home'), ('Back', 'Back to previous …"
      ]
     },
     "metadata": {},
     "output_type": "display_data"
    },
    {
     "data": {
      "application/vnd.jupyter.widget-view+json": {
       "model_id": "7a20b53748fe402396fc8babdf35bd71",
       "version_major": 2,
       "version_minor": 0
      },
      "text/plain": [
       "Canvas(toolbar=Toolbar(toolitems=[('Home', 'Reset original view', 'home', 'home'), ('Back', 'Back to previous …"
      ]
     },
     "metadata": {},
     "output_type": "display_data"
    },
    {
     "data": {
      "application/vnd.jupyter.widget-view+json": {
       "model_id": "0085cfc18b5a492584071f17fe1f7a7c",
       "version_major": 2,
       "version_minor": 0
      },
      "text/plain": [
       "Canvas(toolbar=Toolbar(toolitems=[('Home', 'Reset original view', 'home', 'home'), ('Back', 'Back to previous …"
      ]
     },
     "metadata": {},
     "output_type": "display_data"
    },
    {
     "data": {
      "application/vnd.jupyter.widget-view+json": {
       "model_id": "9bd12acb15984a1b962c04dd789b7e76",
       "version_major": 2,
       "version_minor": 0
      },
      "text/plain": [
       "Canvas(toolbar=Toolbar(toolitems=[('Home', 'Reset original view', 'home', 'home'), ('Back', 'Back to previous …"
      ]
     },
     "metadata": {},
     "output_type": "display_data"
    },
    {
     "data": {
      "application/vnd.jupyter.widget-view+json": {
       "model_id": "54452524072f40b2a98225d0f20c9c53",
       "version_major": 2,
       "version_minor": 0
      },
      "text/plain": [
       "Canvas(toolbar=Toolbar(toolitems=[('Home', 'Reset original view', 'home', 'home'), ('Back', 'Back to previous …"
      ]
     },
     "metadata": {},
     "output_type": "display_data"
    },
    {
     "data": {
      "application/vnd.jupyter.widget-view+json": {
       "model_id": "be1143aa9b0d4a248c226a6010670b84",
       "version_major": 2,
       "version_minor": 0
      },
      "text/plain": [
       "Canvas(toolbar=Toolbar(toolitems=[('Home', 'Reset original view', 'home', 'home'), ('Back', 'Back to previous …"
      ]
     },
     "metadata": {},
     "output_type": "display_data"
    },
    {
     "data": {
      "application/vnd.jupyter.widget-view+json": {
       "model_id": "65ec85435c1e4e498f7e93db30cb8f0b",
       "version_major": 2,
       "version_minor": 0
      },
      "text/plain": [
       "Canvas(toolbar=Toolbar(toolitems=[('Home', 'Reset original view', 'home', 'home'), ('Back', 'Back to previous …"
      ]
     },
     "metadata": {},
     "output_type": "display_data"
    },
    {
     "data": {
      "application/vnd.jupyter.widget-view+json": {
       "model_id": "9c0c63a806b04064acc6929b4730799d",
       "version_major": 2,
       "version_minor": 0
      },
      "text/plain": [
       "Canvas(toolbar=Toolbar(toolitems=[('Home', 'Reset original view', 'home', 'home'), ('Back', 'Back to previous …"
      ]
     },
     "metadata": {},
     "output_type": "display_data"
    },
    {
     "data": {
      "application/vnd.jupyter.widget-view+json": {
       "model_id": "558b1a15bd1248ab95b31de516679082",
       "version_major": 2,
       "version_minor": 0
      },
      "text/plain": [
       "Canvas(toolbar=Toolbar(toolitems=[('Home', 'Reset original view', 'home', 'home'), ('Back', 'Back to previous …"
      ]
     },
     "metadata": {},
     "output_type": "display_data"
    },
    {
     "data": {
      "application/vnd.jupyter.widget-view+json": {
       "model_id": "1a50aa01fe494a4db6385581f7a7643e",
       "version_major": 2,
       "version_minor": 0
      },
      "text/plain": [
       "Canvas(toolbar=Toolbar(toolitems=[('Home', 'Reset original view', 'home', 'home'), ('Back', 'Back to previous …"
      ]
     },
     "metadata": {},
     "output_type": "display_data"
    },
    {
     "data": {
      "application/vnd.jupyter.widget-view+json": {
       "model_id": "d008034340af41e08fbcd7be072ca437",
       "version_major": 2,
       "version_minor": 0
      },
      "text/plain": [
       "Canvas(toolbar=Toolbar(toolitems=[('Home', 'Reset original view', 'home', 'home'), ('Back', 'Back to previous …"
      ]
     },
     "metadata": {},
     "output_type": "display_data"
    },
    {
     "data": {
      "application/vnd.jupyter.widget-view+json": {
       "model_id": "77f62c2cf387496ebc729429f0265608",
       "version_major": 2,
       "version_minor": 0
      },
      "text/plain": [
       "Canvas(toolbar=Toolbar(toolitems=[('Home', 'Reset original view', 'home', 'home'), ('Back', 'Back to previous …"
      ]
     },
     "metadata": {},
     "output_type": "display_data"
    },
    {
     "data": {
      "application/vnd.jupyter.widget-view+json": {
       "model_id": "9baa0f2c711c4767a00e0378d686aba9",
       "version_major": 2,
       "version_minor": 0
      },
      "text/plain": [
       "Canvas(toolbar=Toolbar(toolitems=[('Home', 'Reset original view', 'home', 'home'), ('Back', 'Back to previous …"
      ]
     },
     "metadata": {},
     "output_type": "display_data"
    }
   ],
   "source": [
    "for key in data_all.keys():\n",
    "    df = data_all[key].absorb_df\n",
    "    deriv_df = ana.derivative(df)*10\n",
    "    plot.mult_func([260], [df - df.min(axis=1).loc[260], deriv_df], subtitle=[key], linestyle=[\"-\",\":\"], marker=[\"x\",\"\"])"
   ]
  },
  {
   "cell_type": "code",
   "execution_count": null,
   "id": "engaging-international",
   "metadata": {},
   "outputs": [],
   "source": [
    "for key in"
   ]
  },
  {
   "cell_type": "markdown",
   "id": "owned-sweden",
   "metadata": {},
   "source": [
    "### Linear LM Fit for Melting Temperature\n"
   ]
  },
  {
   "cell_type": "markdown",
   "id": "political-assignment",
   "metadata": {},
   "source": [
    "<div class=\"alert alert-block alert-info\">\n",
    "<b>Info:</b> Determination of melting temperatures and ssDNA fraction\n",
    "</div>"
   ]
  },
  {
   "cell_type": "code",
   "execution_count": 15,
   "id": "lesbian-studio",
   "metadata": {},
   "outputs": [
    {
     "name": "stdout",
     "output_type": "stream",
     "text": [
      "dict_keys(['Control_0M', 'Gdm2SO4_0.5M', 'Gdm2SO4_1M', 'Gdm2SO4_2M', 'Gdm2SO4_4M', 'Gdm2SO4_4M - Wiederholung', 'Gdm2SO4_6M', 'GdmCl_0.5M', 'GdmCl_1M', 'GdmCl_2M', 'GdmCl_2M_20nM_Origami', 'GdmCl_2M_24h', 'GdmCl_2M_80nM_Origami', 'GdmCl_4M', 'GdmCl_6M', 'GdmCl_6M_70', 'GdmSCN_0.5M', 'GdmSCN_2M', 'GdmSCN_4M', 'Urea_05M', 'Urea_2M'])\n"
     ]
    }
   ],
   "source": [
    "print(data_all.keys())"
   ]
  },
  {
   "cell_type": "code",
   "execution_count": 16,
   "id": "functional-tanzania",
   "metadata": {},
   "outputs": [],
   "source": [
    "\n",
    "melt_T = {}\n",
    "comp2_conc = {}\n",
    "liste = ['Control_0M', 'Gdm2SO4_0.5M', 'Gdm2SO4_1M', 'Gdm2SO4_2M', 'Gdm2SO4_4M', 'Gdm2SO4_6M', 'GdmCl_0.5M', 'GdmCl_1M', 'GdmCl_2M', 'GdmCl_4M', 'GdmCl_6M',  'GdmSCN_0.5M', 'Urea_2M']\n",
    "#liste = ['1_M_GdmCl_100_mM_Mg',  '4_M_GdmCl_100_mM_Mg', '4_M_GdmCl_10_mM_Mg', '4_M_GdmCl_400_mM_Mg']"
   ]
  },
  {
   "cell_type": "code",
   "execution_count": 17,
   "id": "tutorial-monitoring",
   "metadata": {},
   "outputs": [
    {
     "name": "stdout",
     "output_type": "stream",
     "text": [
      "[[Model]]\n",
      "    Model(linear)\n",
      "[[Fit Statistics]]\n",
      "    # fitting method   = leastsq\n",
      "    # function evals   = 7\n",
      "    # data points      = 3\n",
      "    # variables        = 2\n",
      "    chi-square         = 1.7907e-06\n",
      "    reduced chi-square = 1.7907e-06\n",
      "    Akaike info crit   = -38.9945189\n",
      "    Bayesian info crit = -40.7972944\n",
      "[[Variables]]\n",
      "    m:   4.5476e-04 +/- 1.2389e-04 (27.24%) (init = 1)\n",
      "    y0:  0.45481350 +/- 0.01014723 (2.23%) (init = 0)\n",
      "[[Correlations]] (unreported correlations are < 0.100)\n",
      "    C(m, y0) = -0.997\n",
      "[[Model]]\n",
      "    Model(linear)\n",
      "[[Fit Statistics]]\n",
      "    # fitting method   = leastsq\n",
      "    # function evals   = 7\n",
      "    # data points      = 3\n",
      "    # variables        = 2\n",
      "    chi-square         = 3.7600e-07\n",
      "    reduced chi-square = 3.7600e-07\n",
      "    Akaike info crit   = -43.6768616\n",
      "    Bayesian info crit = -45.4796371\n",
      "[[Variables]]\n",
      "    m:   9.8400e-05 +/- 4.3359e-05 (44.06%) (init = 1)\n",
      "    y0:  0.35534533 +/- 0.00134809 (0.38%) (init = 0)\n",
      "[[Correlations]] (unreported correlations are < 0.100)\n",
      "    C(m, y0) = -0.965\n",
      "[[Model]]\n",
      "    Model(linear)\n",
      "[[Fit Statistics]]\n",
      "    # fitting method   = leastsq\n",
      "    # function evals   = 6\n",
      "    # data points      = 3\n",
      "    # variables        = 2\n",
      "    chi-square         = 1.4337e-05\n",
      "    reduced chi-square = 1.4337e-05\n",
      "    Akaike info crit   = -32.7538582\n",
      "    Bayesian info crit = -34.5566336\n",
      "[[Variables]]\n",
      "    m:   0.01386555 +/- 0.00106389 (7.67%) (init = 1)\n",
      "    y0: -0.46299055 +/- 0.06847845 (14.79%) (init = 0)\n",
      "[[Correlations]] (unreported correlations are < 0.100)\n",
      "    C(m, y0) = -0.999\n"
     ]
    },
    {
     "data": {
      "application/vnd.jupyter.widget-view+json": {
       "model_id": "328cd544a2714184b54d4f2e10509ae0",
       "version_major": 2,
       "version_minor": 0
      },
      "text/plain": [
       "Canvas(toolbar=Toolbar(toolitems=[('Home', 'Reset original view', 'home', 'home'), ('Back', 'Back to previous …"
      ]
     },
     "metadata": {},
     "output_type": "display_data"
    },
    {
     "name": "stdout",
     "output_type": "stream",
     "text": [
      "[[Model]]\n",
      "    Model(linear)\n",
      "[[Fit Statistics]]\n",
      "    # fitting method   = leastsq\n",
      "    # function evals   = 7\n",
      "    # data points      = 3\n",
      "    # variables        = 2\n",
      "    chi-square         = 2.0782e-06\n",
      "    reduced chi-square = 2.0782e-06\n",
      "    Akaike info crit   = -38.5478172\n",
      "    Bayesian info crit = -40.3505926\n",
      "[[Variables]]\n",
      "    m:   9.9431e-04 +/- 1.3347e-04 (13.42%) (init = 1)\n",
      "    y0:  0.45338000 +/- 0.01093152 (2.41%) (init = 0)\n",
      "[[Correlations]] (unreported correlations are < 0.100)\n",
      "    C(m, y0) = -0.997\n",
      "[[Model]]\n",
      "    Model(linear)\n",
      "[[Fit Statistics]]\n",
      "    # fitting method   = leastsq\n",
      "    # function evals   = 7\n",
      "    # data points      = 3\n",
      "    # variables        = 2\n",
      "    chi-square         = 3.8240e-08\n",
      "    reduced chi-square = 3.8240e-08\n",
      "    Akaike info crit   = -50.5339750\n",
      "    Bayesian info crit = -52.3367505\n",
      "[[Variables]]\n",
      "    m:  -3.7950e-05 +/- 1.3828e-05 (36.44%) (init = 1)\n",
      "    y0:  0.38311617 +/- 4.2992e-04 (0.11%) (init = 0)\n",
      "[[Correlations]] (unreported correlations are < 0.100)\n",
      "    C(m, y0) = -0.965\n",
      "[[Model]]\n",
      "    Model(linear)\n",
      "[[Fit Statistics]]\n",
      "    # fitting method   = leastsq\n",
      "    # function evals   = 6\n",
      "    # data points      = 3\n",
      "    # variables        = 2\n",
      "    chi-square         = 2.1274e-05\n",
      "    reduced chi-square = 2.1274e-05\n",
      "    Akaike info crit   = -31.5698926\n",
      "    Bayesian info crit = -33.3726681\n",
      "[[Variables]]\n",
      "    m:   0.01154933 +/- 0.00108715 (9.41%) (init = 1)\n",
      "    y0: -0.29609333 +/- 0.07288774 (24.62%) (init = 0)\n",
      "[[Correlations]] (unreported correlations are < 0.100)\n",
      "    C(m, y0) = -0.999\n"
     ]
    },
    {
     "data": {
      "application/vnd.jupyter.widget-view+json": {
       "model_id": "68a4e26df2ef4268b5bfde612e83574d",
       "version_major": 2,
       "version_minor": 0
      },
      "text/plain": [
       "Canvas(toolbar=Toolbar(toolitems=[('Home', 'Reset original view', 'home', 'home'), ('Back', 'Back to previous …"
      ]
     },
     "metadata": {},
     "output_type": "display_data"
    },
    {
     "name": "stdout",
     "output_type": "stream",
     "text": [
      "[[Model]]\n",
      "    Model(linear)\n",
      "[[Fit Statistics]]\n",
      "    # fitting method   = leastsq\n",
      "    # function evals   = 7\n",
      "    # data points      = 3\n",
      "    # variables        = 2\n",
      "    chi-square         = 1.4068e-06\n",
      "    reduced chi-square = 1.4068e-06\n",
      "    Akaike info crit   = -39.7183176\n",
      "    Bayesian info crit = -41.5210930\n",
      "[[Variables]]\n",
      "    m:   6.9760e-04 +/- 1.0981e-04 (15.74%) (init = 1)\n",
      "    y0:  0.43787800 +/- 0.00899409 (2.05%) (init = 0)\n",
      "[[Correlations]] (unreported correlations are < 0.100)\n",
      "    C(m, y0) = -0.997\n",
      "[[Model]]\n",
      "    Model(linear)\n",
      "[[Fit Statistics]]\n",
      "    # fitting method   = leastsq\n",
      "    # function evals   = 7\n",
      "    # data points      = 3\n",
      "    # variables        = 2\n",
      "    chi-square         = 6.0423e-09\n",
      "    reduced chi-square = 6.0423e-09\n",
      "    Akaike info crit   = -56.0692821\n",
      "    Bayesian info crit = -57.8720575\n",
      "[[Variables]]\n",
      "    m:   3.1133e-04 +/- 5.2328e-06 (1.68%) (init = 1)\n",
      "    y0:  0.36192159 +/- 1.6495e-04 (0.05%) (init = 0)\n",
      "[[Correlations]] (unreported correlations are < 0.100)\n",
      "    C(m, y0) = -0.962\n",
      "[[Model]]\n",
      "    Model(linear)\n",
      "[[Fit Statistics]]\n",
      "    # fitting method   = leastsq\n",
      "    # function evals   = 7\n",
      "    # data points      = 3\n",
      "    # variables        = 2\n",
      "    chi-square         = 9.5600e-07\n",
      "    reduced chi-square = 9.5600e-07\n",
      "    Akaike info crit   = -40.8773476\n",
      "    Bayesian info crit = -42.6801230\n",
      "[[Variables]]\n",
      "    m:   0.01294225 +/- 3.4569e-04 (2.67%) (init = 1)\n",
      "    y0: -0.40660292 +/- 0.02247684 (5.53%) (init = 0)\n",
      "[[Correlations]] (unreported correlations are < 0.100)\n",
      "    C(m, y0) = -1.000\n"
     ]
    },
    {
     "data": {
      "application/vnd.jupyter.widget-view+json": {
       "model_id": "a0c8ca4ff0854b77b8cf32649cc2ea43",
       "version_major": 2,
       "version_minor": 0
      },
      "text/plain": [
       "Canvas(toolbar=Toolbar(toolitems=[('Home', 'Reset original view', 'home', 'home'), ('Back', 'Back to previous …"
      ]
     },
     "metadata": {},
     "output_type": "display_data"
    },
    {
     "name": "stdout",
     "output_type": "stream",
     "text": [
      "[[Model]]\n",
      "    Model(linear)\n",
      "[[Fit Statistics]]\n",
      "    # fitting method   = leastsq\n",
      "    # function evals   = 7\n",
      "    # data points      = 3\n",
      "    # variables        = 2\n",
      "    chi-square         = 3.5906e-08\n",
      "    reduced chi-square = 3.5906e-08\n",
      "    Akaike info crit   = -50.7229390\n",
      "    Bayesian info crit = -52.5257145\n",
      "[[Variables]]\n",
      "    m:   8.9916e-04 +/- 1.7543e-05 (1.95%) (init = 1)\n",
      "    y0:  0.48147250 +/- 0.00143687 (0.30%) (init = 0)\n",
      "[[Correlations]] (unreported correlations are < 0.100)\n",
      "    C(m, y0) = -0.997\n",
      "[[Model]]\n",
      "    Model(linear)\n",
      "[[Fit Statistics]]\n",
      "    # fitting method   = leastsq\n",
      "    # function evals   = 7\n",
      "    # data points      = 3\n",
      "    # variables        = 2\n",
      "    chi-square         = 3.3607e-09\n",
      "    reduced chi-square = 3.3607e-09\n",
      "    Akaike info crit   = -57.8292163\n",
      "    Bayesian info crit = -59.6319917\n",
      "[[Variables]]\n",
      "    m:  -3.1900e-05 +/- 4.0992e-06 (12.85%) (init = 1)\n",
      "    y0:  0.39800533 +/- 1.2745e-04 (0.03%) (init = 0)\n",
      "[[Correlations]] (unreported correlations are < 0.100)\n",
      "    C(m, y0) = -0.965\n",
      "[[Model]]\n",
      "    Model(linear)\n",
      "[[Fit Statistics]]\n",
      "    # fitting method   = leastsq\n",
      "    # function evals   = 6\n",
      "    # data points      = 3\n",
      "    # variables        = 2\n",
      "    chi-square         = 1.0353e-04\n",
      "    reduced chi-square = 1.0353e-04\n",
      "    Akaike info crit   = -26.8226598\n",
      "    Bayesian info crit = -28.6254352\n",
      "[[Variables]]\n",
      "    m:   0.01283067 +/- 0.00239831 (18.69%) (init = 1)\n",
      "    y0: -0.35784967 +/- 0.16079432 (44.93%) (init = 0)\n",
      "[[Correlations]] (unreported correlations are < 0.100)\n",
      "    C(m, y0) = -0.999\n"
     ]
    },
    {
     "data": {
      "application/vnd.jupyter.widget-view+json": {
       "model_id": "9092d58428d64cc4a7f5d51049e84712",
       "version_major": 2,
       "version_minor": 0
      },
      "text/plain": [
       "Canvas(toolbar=Toolbar(toolitems=[('Home', 'Reset original view', 'home', 'home'), ('Back', 'Back to previous …"
      ]
     },
     "metadata": {},
     "output_type": "display_data"
    },
    {
     "name": "stdout",
     "output_type": "stream",
     "text": [
      "[[Model]]\n",
      "    Model(linear)\n",
      "[[Fit Statistics]]\n",
      "    # fitting method   = leastsq\n",
      "    # function evals   = 7\n",
      "    # data points      = 3\n",
      "    # variables        = 2\n",
      "    chi-square         = 8.3314e-06\n",
      "    reduced chi-square = 8.3314e-06\n",
      "    Akaike info crit   = -34.3822637\n",
      "    Bayesian info crit = -36.1850391\n",
      "[[Variables]]\n",
      "    m:   0.00108697 +/- 2.6723e-04 (24.58%) (init = 1)\n",
      "    y0:  0.47829300 +/- 0.02188736 (4.58%) (init = 0)\n",
      "[[Correlations]] (unreported correlations are < 0.100)\n",
      "    C(m, y0) = -0.997\n",
      "[[Model]]\n",
      "    Model(linear)\n",
      "[[Fit Statistics]]\n",
      "    # fitting method   = leastsq\n",
      "    # function evals   = 7\n",
      "    # data points      = 3\n",
      "    # variables        = 2\n",
      "    chi-square         = 1.4603e-08\n",
      "    reduced chi-square = 1.4603e-08\n",
      "    Akaike info crit   = -53.4220219\n",
      "    Bayesian info crit = -55.2247973\n",
      "[[Variables]]\n",
      "    m:  -8.1900e-05 +/- 8.5448e-06 (10.43%) (init = 1)\n",
      "    y0:  0.40401533 +/- 2.6567e-04 (0.07%) (init = 0)\n",
      "[[Correlations]] (unreported correlations are < 0.100)\n",
      "    C(m, y0) = -0.965\n",
      "[[Model]]\n",
      "    Model(linear)\n",
      "[[Fit Statistics]]\n",
      "    # fitting method   = leastsq\n",
      "    # function evals   = 6\n",
      "    # data points      = 3\n",
      "    # variables        = 2\n",
      "    chi-square         = 3.9265e-05\n",
      "    reduced chi-square = 3.9265e-05\n",
      "    Akaike info crit   = -29.7313450\n",
      "    Bayesian info crit = -31.5341204\n",
      "[[Variables]]\n",
      "    m:   0.01529217 +/- 0.00147696 (9.66%) (init = 1)\n",
      "    y0: -0.52604750 +/- 0.09902231 (18.82%) (init = 0)\n",
      "[[Correlations]] (unreported correlations are < 0.100)\n",
      "    C(m, y0) = -0.999\n"
     ]
    },
    {
     "data": {
      "application/vnd.jupyter.widget-view+json": {
       "model_id": "437957f1db2641b88c47b7a74f1e0e26",
       "version_major": 2,
       "version_minor": 0
      },
      "text/plain": [
       "Canvas(toolbar=Toolbar(toolitems=[('Home', 'Reset original view', 'home', 'home'), ('Back', 'Back to previous …"
      ]
     },
     "metadata": {},
     "output_type": "display_data"
    },
    {
     "name": "stdout",
     "output_type": "stream",
     "text": [
      "[[Model]]\n",
      "    Model(linear)\n",
      "[[Fit Statistics]]\n",
      "    # fitting method   = leastsq\n",
      "    # function evals   = 7\n",
      "    # data points      = 3\n",
      "    # variables        = 2\n",
      "    chi-square         = 1.5456e-07\n",
      "    reduced chi-square = 1.5456e-07\n",
      "    Akaike info crit   = -46.3438859\n",
      "    Bayesian info crit = -48.1466613\n",
      "[[Variables]]\n",
      "    m:   9.7671e-05 +/- 3.6398e-05 (37.27%) (init = 1)\n",
      "    y0:  0.42814550 +/- 0.00298114 (0.70%) (init = 0)\n",
      "[[Correlations]] (unreported correlations are < 0.100)\n",
      "    C(m, y0) = -0.997\n",
      "[[Model]]\n",
      "    Model(linear)\n",
      "[[Fit Statistics]]\n",
      "    # fitting method   = leastsq\n",
      "    # function evals   = 7\n",
      "    # data points      = 3\n",
      "    # variables        = 2\n",
      "    chi-square         = 1.0837e-08\n",
      "    reduced chi-square = 1.0837e-08\n",
      "    Akaike info crit   = -54.3165974\n",
      "    Bayesian info crit = -56.1193728\n",
      "[[Variables]]\n",
      "    m:   6.9505e-04 +/- 7.3612e-06 (1.06%) (init = 1)\n",
      "    y0:  0.34496550 +/- 2.2887e-04 (0.07%) (init = 0)\n",
      "[[Correlations]] (unreported correlations are < 0.100)\n",
      "    C(m, y0) = -0.965\n",
      "[[Model]]\n",
      "    Model(linear)\n",
      "[[Fit Statistics]]\n",
      "    # fitting method   = leastsq\n",
      "    # function evals   = 7\n",
      "    # data points      = 3\n",
      "    # variables        = 2\n",
      "    chi-square         = 3.8379e-07\n",
      "    reduced chi-square = 3.8379e-07\n",
      "    Akaike info crit   = -43.6153121\n",
      "    Bayesian info crit = -45.4180875\n",
      "[[Variables]]\n",
      "    m:   0.00953586 +/- 2.8678e-04 (3.01%) (init = 1)\n",
      "    y0: -0.17455871 +/- 0.01730598 (9.91%) (init = 0)\n",
      "[[Correlations]] (unreported correlations are < 0.100)\n",
      "    C(m, y0) = -1.000\n"
     ]
    },
    {
     "data": {
      "application/vnd.jupyter.widget-view+json": {
       "model_id": "1e4870cf50804a1caa99f894ffc0f852",
       "version_major": 2,
       "version_minor": 0
      },
      "text/plain": [
       "Canvas(toolbar=Toolbar(toolitems=[('Home', 'Reset original view', 'home', 'home'), ('Back', 'Back to previous …"
      ]
     },
     "metadata": {},
     "output_type": "display_data"
    },
    {
     "name": "stdout",
     "output_type": "stream",
     "text": [
      "[[Model]]\n",
      "    Model(linear)\n",
      "[[Fit Statistics]]\n",
      "    # fitting method   = leastsq\n",
      "    # function evals   = 7\n",
      "    # data points      = 3\n",
      "    # variables        = 2\n",
      "    chi-square         = 2.4203e-06\n",
      "    reduced chi-square = 2.4203e-06\n",
      "    Akaike info crit   = -38.0907081\n",
      "    Bayesian info crit = -39.8934835\n",
      "[[Variables]]\n",
      "    m:   5.8921e-04 +/- 1.4403e-04 (24.44%) (init = 1)\n",
      "    y0:  0.47127950 +/- 0.01179689 (2.50%) (init = 0)\n",
      "[[Correlations]] (unreported correlations are < 0.100)\n",
      "    C(m, y0) = -0.997\n",
      "[[Model]]\n",
      "    Model(linear)\n",
      "[[Fit Statistics]]\n",
      "    # fitting method   = leastsq\n",
      "    # function evals   = 7\n",
      "    # data points      = 3\n",
      "    # variables        = 2\n",
      "    chi-square         = 4.6288e-08\n",
      "    reduced chi-square = 4.6288e-08\n",
      "    Akaike info crit   = -49.9609753\n",
      "    Bayesian info crit = -51.7637508\n",
      "[[Variables]]\n",
      "    m:  -5.2500e-06 +/- 1.5214e-05 (289.78%) (init = 1)\n",
      "    y0:  0.37982883 +/- 4.7301e-04 (0.12%) (init = 0)\n",
      "[[Correlations]] (unreported correlations are < 0.100)\n",
      "    C(m, y0) = -0.965\n",
      "[[Model]]\n",
      "    Model(linear)\n",
      "[[Fit Statistics]]\n",
      "    # fitting method   = leastsq\n",
      "    # function evals   = 7\n",
      "    # data points      = 3\n",
      "    # variables        = 2\n",
      "    chi-square         = 1.3206e-06\n",
      "    reduced chi-square = 1.3206e-06\n",
      "    Akaike info crit   = -39.9080947\n",
      "    Bayesian info crit = -41.7108701\n",
      "[[Variables]]\n",
      "    m:   0.01375232 +/- 3.2289e-04 (2.35%) (init = 1)\n",
      "    y0: -0.44769232 +/- 0.02078323 (4.64%) (init = 0)\n",
      "[[Correlations]] (unreported correlations are < 0.100)\n",
      "    C(m, y0) = -0.999\n"
     ]
    },
    {
     "data": {
      "application/vnd.jupyter.widget-view+json": {
       "model_id": "1daac13343874377b8b00997b9f61560",
       "version_major": 2,
       "version_minor": 0
      },
      "text/plain": [
       "Canvas(toolbar=Toolbar(toolitems=[('Home', 'Reset original view', 'home', 'home'), ('Back', 'Back to previous …"
      ]
     },
     "metadata": {},
     "output_type": "display_data"
    },
    {
     "name": "stdout",
     "output_type": "stream",
     "text": [
      "[[Model]]\n",
      "    Model(linear)\n",
      "[[Fit Statistics]]\n",
      "    # fitting method   = leastsq\n",
      "    # function evals   = 7\n",
      "    # data points      = 3\n",
      "    # variables        = 2\n",
      "    chi-square         = 1.6650e-06\n",
      "    reduced chi-square = 1.6650e-06\n",
      "    Akaike info crit   = -39.2129467\n",
      "    Bayesian info crit = -41.0157221\n",
      "[[Variables]]\n",
      "    m:   3.8414e-04 +/- 1.1946e-04 (31.10%) (init = 1)\n",
      "    y0:  0.40393600 +/- 0.00978446 (2.42%) (init = 0)\n",
      "[[Correlations]] (unreported correlations are < 0.100)\n",
      "    C(m, y0) = -0.997\n",
      "[[Model]]\n",
      "    Model(linear)\n",
      "[[Fit Statistics]]\n",
      "    # fitting method   = leastsq\n",
      "    # function evals   = 7\n",
      "    # data points      = 3\n",
      "    # variables        = 2\n",
      "    chi-square         = 8.9121e-08\n",
      "    reduced chi-square = 8.9121e-08\n",
      "    Akaike info crit   = -47.9956614\n",
      "    Bayesian info crit = -49.7984368\n",
      "[[Variables]]\n",
      "    m:   2.8299e-04 +/- 2.7639e-05 (9.77%) (init = 1)\n",
      "    y0:  0.33198750 +/- 3.6562e-04 (0.11%) (init = 0)\n",
      "[[Correlations]] (unreported correlations are < 0.100)\n",
      "    C(m, y0) = -0.882\n",
      "[[Model]]\n",
      "    Model(linear)\n",
      "[[Fit Statistics]]\n",
      "    # fitting method   = leastsq\n",
      "    # function evals   = 7\n",
      "    # data points      = 3\n",
      "    # variables        = 2\n",
      "    chi-square         = 4.2211e-07\n",
      "    reduced chi-square = 4.2211e-07\n",
      "    Akaike info crit   = -43.3298655\n",
      "    Bayesian info crit = -45.1326410\n",
      "[[Variables]]\n",
      "    m:   0.00808508 +/- 1.8255e-04 (2.26%) (init = 1)\n",
      "    y0: -0.13512508 +/- 0.01174998 (8.70%) (init = 0)\n",
      "[[Correlations]] (unreported correlations are < 0.100)\n",
      "    C(m, y0) = -0.999\n"
     ]
    },
    {
     "data": {
      "application/vnd.jupyter.widget-view+json": {
       "model_id": "c484bd2967604de4b5b8f02a52e51ef5",
       "version_major": 2,
       "version_minor": 0
      },
      "text/plain": [
       "Canvas(toolbar=Toolbar(toolitems=[('Home', 'Reset original view', 'home', 'home'), ('Back', 'Back to previous …"
      ]
     },
     "metadata": {},
     "output_type": "display_data"
    },
    {
     "name": "stdout",
     "output_type": "stream",
     "text": [
      "[[Model]]\n",
      "    Model(linear)\n",
      "[[Fit Statistics]]\n",
      "    # fitting method   = leastsq\n",
      "    # function evals   = 7\n",
      "    # data points      = 3\n",
      "    # variables        = 2\n",
      "    chi-square         = 1.2600e-08\n",
      "    reduced chi-square = 1.2600e-08\n",
      "    Akaike info crit   = -53.8645439\n",
      "    Bayesian info crit = -55.6673194\n",
      "[[Variables]]\n",
      "    m:   7.5220e-04 +/- 1.0392e-05 (1.38%) (init = 1)\n",
      "    y0:  0.41155400 +/- 8.5118e-04 (0.21%) (init = 0)\n",
      "[[Correlations]] (unreported correlations are < 0.100)\n",
      "    C(m, y0) = -0.997\n",
      "[[Model]]\n",
      "    Model(linear)\n",
      "[[Fit Statistics]]\n",
      "    # fitting method   = leastsq\n",
      "    # function evals   = 7\n",
      "    # data points      = 3\n",
      "    # variables        = 2\n",
      "    chi-square         = 4.6464e-08\n",
      "    reduced chi-square = 4.6464e-08\n",
      "    Akaike info crit   = -49.9496009\n",
      "    Bayesian info crit = -51.7523763\n",
      "[[Variables]]\n",
      "    m:   7.3400e-05 +/- 1.5242e-05 (20.77%) (init = 1)\n",
      "    y0:  0.34197700 +/- 4.7389e-04 (0.14%) (init = 0)\n",
      "[[Correlations]] (unreported correlations are < 0.100)\n",
      "    C(m, y0) = -0.965\n",
      "[[Model]]\n",
      "    Model(linear)\n",
      "[[Fit Statistics]]\n",
      "    # fitting method   = leastsq\n",
      "    # function evals   = 7\n",
      "    # data points      = 3\n",
      "    # variables        = 2\n",
      "    chi-square         = 2.0091e-06\n",
      "    reduced chi-square = 2.0091e-06\n",
      "    Akaike info crit   = -38.6492622\n",
      "    Bayesian info crit = -40.4520376\n",
      "[[Variables]]\n",
      "    m:   0.01345350 +/- 5.0114e-04 (3.72%) (init = 1)\n",
      "    y0: -0.43468634 +/- 0.03108146 (7.15%) (init = 0)\n",
      "[[Correlations]] (unreported correlations are < 0.100)\n",
      "    C(m, y0) = -1.000\n"
     ]
    },
    {
     "data": {
      "application/vnd.jupyter.widget-view+json": {
       "model_id": "45fbc079688b4c74beccb2505c4d4996",
       "version_major": 2,
       "version_minor": 0
      },
      "text/plain": [
       "Canvas(toolbar=Toolbar(toolitems=[('Home', 'Reset original view', 'home', 'home'), ('Back', 'Back to previous …"
      ]
     },
     "metadata": {},
     "output_type": "display_data"
    },
    {
     "name": "stdout",
     "output_type": "stream",
     "text": [
      "[[Model]]\n",
      "    Model(linear)\n",
      "[[Fit Statistics]]\n",
      "    # fitting method   = leastsq\n",
      "    # function evals   = 7\n",
      "    # data points      = 3\n",
      "    # variables        = 2\n",
      "    chi-square         = 6.1866e-07\n",
      "    reduced chi-square = 6.1866e-07\n",
      "    Akaike info crit   = -42.1829637\n",
      "    Bayesian info crit = -43.9857391\n",
      "[[Variables]]\n",
      "    m:   5.7319e-04 +/- 7.2820e-05 (12.70%) (init = 1)\n",
      "    y0:  0.51707650 +/- 0.00596431 (1.15%) (init = 0)\n",
      "[[Correlations]] (unreported correlations are < 0.100)\n",
      "    C(m, y0) = -0.997\n",
      "[[Model]]\n",
      "    Model(linear)\n",
      "[[Fit Statistics]]\n",
      "    # fitting method   = leastsq\n",
      "    # function evals   = 7\n",
      "    # data points      = 3\n",
      "    # variables        = 2\n",
      "    chi-square         = 1.1957e-07\n",
      "    reduced chi-square = 1.1957e-07\n",
      "    Akaike info crit   = -47.1139745\n",
      "    Bayesian info crit = -48.9167499\n",
      "[[Variables]]\n",
      "    m:  -7.6500e-06 +/- 2.4451e-05 (319.62%) (init = 1)\n",
      "    y0:  0.40523283 +/- 7.6022e-04 (0.19%) (init = 0)\n",
      "[[Correlations]] (unreported correlations are < 0.100)\n",
      "    C(m, y0) = -0.965\n",
      "[[Model]]\n",
      "    Model(linear)\n",
      "[[Fit Statistics]]\n",
      "    # fitting method   = leastsq\n",
      "    # function evals   = 7\n",
      "    # data points      = 3\n",
      "    # variables        = 2\n",
      "    chi-square         = 5.4602e-07\n",
      "    reduced chi-square = 5.4602e-07\n",
      "    Akaike info crit   = -42.5576859\n",
      "    Bayesian info crit = -44.3604613\n",
      "[[Variables]]\n",
      "    m:   0.01560450 +/- 2.6125e-04 (1.67%) (init = 1)\n",
      "    y0: -0.44580933 +/- 0.01568086 (3.52%) (init = 0)\n",
      "[[Correlations]] (unreported correlations are < 0.100)\n",
      "    C(m, y0) = -1.000\n"
     ]
    },
    {
     "data": {
      "application/vnd.jupyter.widget-view+json": {
       "model_id": "c5c235ae013c4304b0d205b9555ceb08",
       "version_major": 2,
       "version_minor": 0
      },
      "text/plain": [
       "Canvas(toolbar=Toolbar(toolitems=[('Home', 'Reset original view', 'home', 'home'), ('Back', 'Back to previous …"
      ]
     },
     "metadata": {},
     "output_type": "display_data"
    },
    {
     "name": "stdout",
     "output_type": "stream",
     "text": [
      "[[Model]]\n",
      "    Model(linear)\n",
      "[[Fit Statistics]]\n",
      "    # fitting method   = leastsq\n",
      "    # function evals   = 7\n",
      "    # data points      = 3\n",
      "    # variables        = 2\n",
      "    chi-square         = 2.5005e-07\n",
      "    reduced chi-square = 2.5005e-07\n",
      "    Akaike info crit   = -44.9007022\n",
      "    Bayesian info crit = -46.7034777\n",
      "[[Variables]]\n",
      "    m:   5.1996e-04 +/- 4.6295e-05 (8.90%) (init = 1)\n",
      "    y0:  0.42067150 +/- 0.00379179 (0.90%) (init = 0)\n",
      "[[Correlations]] (unreported correlations are < 0.100)\n",
      "    C(m, y0) = -0.997\n",
      "[[Model]]\n",
      "    Model(linear)\n",
      "[[Fit Statistics]]\n",
      "    # fitting method   = leastsq\n",
      "    # function evals   = 7\n",
      "    # data points      = 3\n",
      "    # variables        = 2\n",
      "    chi-square         = 3.7002e-07\n",
      "    reduced chi-square = 3.7002e-07\n",
      "    Akaike info crit   = -43.7249902\n",
      "    Bayesian info crit = -45.5277657\n",
      "[[Variables]]\n",
      "    m:   6.2980e-04 +/- 4.3013e-05 (6.83%) (init = 1)\n",
      "    y0:  0.35042833 +/- 0.00133732 (0.38%) (init = 0)\n",
      "[[Correlations]] (unreported correlations are < 0.100)\n",
      "    C(m, y0) = -0.965\n",
      "[[Model]]\n",
      "    Model(linear)\n",
      "[[Fit Statistics]]\n",
      "    # fitting method   = leastsq\n",
      "    # function evals   = 7\n",
      "    # data points      = 3\n",
      "    # variables        = 2\n",
      "    chi-square         = 3.5883e-08\n",
      "    reduced chi-square = 3.5883e-08\n",
      "    Akaike info crit   = -50.7248713\n",
      "    Bayesian info crit = -52.5276467\n",
      "[[Variables]]\n",
      "    m:   0.00630233 +/- 4.4648e-05 (0.71%) (init = 1)\n",
      "    y0:  0.07963967 +/- 0.00236889 (2.97%) (init = 0)\n",
      "[[Correlations]] (unreported correlations are < 0.100)\n",
      "    C(m, y0) = -0.999\n"
     ]
    },
    {
     "data": {
      "application/vnd.jupyter.widget-view+json": {
       "model_id": "20a9665dbde24302ae74d26133d0a8ff",
       "version_major": 2,
       "version_minor": 0
      },
      "text/plain": [
       "Canvas(toolbar=Toolbar(toolitems=[('Home', 'Reset original view', 'home', 'home'), ('Back', 'Back to previous …"
      ]
     },
     "metadata": {},
     "output_type": "display_data"
    },
    {
     "name": "stdout",
     "output_type": "stream",
     "text": [
      "[[Model]]\n",
      "    Model(linear)\n",
      "[[Fit Statistics]]\n",
      "    # fitting method   = leastsq\n",
      "    # function evals   = 6\n",
      "    # data points      = 3\n",
      "    # variables        = 2\n",
      "    chi-square         = 1.8115e-05\n",
      "    reduced chi-square = 1.8115e-05\n",
      "    Akaike info crit   = -32.0521993\n",
      "    Bayesian info crit = -33.8549747\n",
      "[[Variables]]\n",
      "    m:   0.01084090 +/- 3.9404e-04 (3.63%) (init = 1)\n",
      "    y0: -0.02179150 +/- 0.03227375 (148.10%) (init = 0)\n",
      "[[Correlations]] (unreported correlations are < 0.100)\n",
      "    C(m, y0) = -0.997\n",
      "[[Model]]\n",
      "    Model(linear)\n",
      "[[Fit Statistics]]\n",
      "    # fitting method   = leastsq\n",
      "    # function evals   = 6\n",
      "    # data points      = 3\n",
      "    # variables        = 2\n",
      "    chi-square         = 1.2161e-05\n",
      "    reduced chi-square = 1.2161e-05\n",
      "    Akaike info crit   = -33.2476759\n",
      "    Bayesian info crit = -35.0504513\n",
      "[[Variables]]\n",
      "    m:   0.00367720 +/- 2.4659e-04 (6.71%) (init = 1)\n",
      "    y0:  0.30347133 +/- 0.00766668 (2.53%) (init = 0)\n",
      "[[Correlations]] (unreported correlations are < 0.100)\n",
      "    C(m, y0) = -0.965\n",
      "[[Model]]\n",
      "    Model(linear)\n",
      "[[Fit Statistics]]\n",
      "    # fitting method   = leastsq\n",
      "    # function evals   = 7\n",
      "    # data points      = 3\n",
      "    # variables        = 2\n",
      "    chi-square         = 1.2489e-06\n",
      "    reduced chi-square = 1.2489e-06\n",
      "    Akaike info crit   = -40.0755714\n",
      "    Bayesian info crit = -41.8783468\n",
      "[[Variables]]\n",
      "    m:   0.01765134 +/- 3.1400e-04 (1.78%) (init = 1)\n",
      "    y0: -0.46916534 +/- 0.02021113 (4.31%) (init = 0)\n",
      "[[Correlations]] (unreported correlations are < 0.100)\n",
      "    C(m, y0) = -0.999\n"
     ]
    },
    {
     "data": {
      "application/vnd.jupyter.widget-view+json": {
       "model_id": "780bee407efc4c9e99557d891d2df2de",
       "version_major": 2,
       "version_minor": 0
      },
      "text/plain": [
       "Canvas(toolbar=Toolbar(toolitems=[('Home', 'Reset original view', 'home', 'home'), ('Back', 'Back to previous …"
      ]
     },
     "metadata": {},
     "output_type": "display_data"
    },
    {
     "name": "stdout",
     "output_type": "stream",
     "text": [
      "[[Model]]\n",
      "    Model(linear)\n",
      "[[Fit Statistics]]\n",
      "    # fitting method   = leastsq\n",
      "    # function evals   = 7\n",
      "    # data points      = 3\n",
      "    # variables        = 2\n",
      "    chi-square         = 2.4499e-07\n",
      "    reduced chi-square = 2.4499e-07\n",
      "    Akaike info crit   = -44.9619437\n",
      "    Bayesian info crit = -46.7647191\n",
      "[[Variables]]\n",
      "    m:   7.4131e-04 +/- 4.5825e-05 (6.18%) (init = 1)\n",
      "    y0:  0.44485300 +/- 0.00375328 (0.84%) (init = 0)\n",
      "[[Correlations]] (unreported correlations are < 0.100)\n",
      "    C(m, y0) = -0.997\n",
      "[[Model]]\n",
      "    Model(linear)\n",
      "[[Fit Statistics]]\n",
      "    # fitting method   = leastsq\n",
      "    # function evals   = 6\n",
      "    # data points      = 3\n",
      "    # variables        = 2\n",
      "    chi-square         = 9.5938e-06\n",
      "    reduced chi-square = 9.5938e-06\n",
      "    Akaike info crit   = -33.9590294\n",
      "    Bayesian info crit = -35.7618048\n",
      "[[Variables]]\n",
      "    m:  -2.7950e-05 +/- 2.1902e-04 (783.60%) (init = 1)\n",
      "    y0:  0.36149050 +/- 0.00680951 (1.88%) (init = 0)\n",
      "[[Correlations]] (unreported correlations are < 0.100)\n",
      "    C(m, y0) = -0.965\n",
      "[[Model]]\n",
      "    Model(linear)\n",
      "[[Fit Statistics]]\n",
      "    # fitting method   = leastsq\n",
      "    # function evals   = 7\n",
      "    # data points      = 3\n",
      "    # variables        = 2\n",
      "    chi-square         = 9.5761e-08\n",
      "    reduced chi-square = 9.5761e-08\n",
      "    Akaike info crit   = -47.7800783\n",
      "    Bayesian info crit = -49.5828537\n",
      "[[Variables]]\n",
      "    m:   0.01497500 +/- 1.0941e-04 (0.73%) (init = 1)\n",
      "    y0: -0.45943567 +/- 0.00656690 (1.43%) (init = 0)\n",
      "[[Correlations]] (unreported correlations are < 0.100)\n",
      "    C(m, y0) = -1.000\n"
     ]
    },
    {
     "data": {
      "application/vnd.jupyter.widget-view+json": {
       "model_id": "0f7c498b25364b2898b1a9ef0f2d48f9",
       "version_major": 2,
       "version_minor": 0
      },
      "text/plain": [
       "Canvas(toolbar=Toolbar(toolitems=[('Home', 'Reset original view', 'home', 'home'), ('Back', 'Back to previous …"
      ]
     },
     "metadata": {},
     "output_type": "display_data"
    }
   ],
   "source": [
    "for key in liste:\n",
    "\n",
    "    # fit three secitons\n",
    "    df =  data_all[key].absorb_df.loc[:, :90]\n",
    "    high_fit, high_params, high_std =  ana.lm_fit(df.iloc[:,-3:], f_type='linear')\n",
    "    low_fit, low_params, low_std =  ana.lm_fit(df.iloc[:,:3], f_type='linear')\n",
    "\n",
    "\n",
    "    # normalize absorbance values and get next 3 values to 0.5\n",
    "    df_norm = ana.normalize(df).loc[260, :]\n",
    "    df_sort = pd.DataFrame(df_norm.iloc[(df_norm-0.5).abs().argsort()[:3]], columns=[260])\n",
    "    # make linear fit\n",
    "    middle_fit, middle_params, middle_std = ana.lm_fit(df.loc[:, df_sort.index], f_type='linear')\n",
    "\n",
    "\n",
    "    # calculate cross of middle and median\n",
    "    melt_T[key] = ( ( (- high_params[\"y0\"] - low_params[\"y0\"]) / 2 ) + middle_params[\"y0\"] ) / ( ( (high_params[\"m\"] + low_params[\"m\"]) / 2 ) - middle_params[\"m\"] ) \n",
    "    # calculate error \n",
    "    teiler = ( ( (high_params[\"m\"] + low_params[\"m\"]) / 2 ) - middle_params[\"m\"] ) \n",
    "    nenner =  ( ( (- high_params[\"y0\"] - low_params[\"y0\"]) / 2 ) + middle_params[\"y0\"] ) \n",
    "    t_melt_error =  np.sqrt( (-0.5 * high_std[\"y0\"] / teiler)**2 + (-0.5 * low_std[\"y0\"] / teiler)**2 + (middle_std[\"y0\"] / teiler)**2\n",
    "                              + (nenner * 0.5 * high_std[\"m\"] / (teiler**2) )**2 + (nenner * 0.5 * low_std[\"m\"] / (teiler**2) )**2 + (nenner * -1 * middle_std[\"m\"] / (teiler**2) )**2)\n",
    "\n",
    "    \n",
    "    # make nice plot\n",
    "    plot_fit= pd.DataFrame(ana.linear(df.columns, *high_params.values()), columns=[\"high plateu\"], index=df.columns)\n",
    "    plot_fit[\"low plateu\"] = ana.linear(df.columns, *low_params.values())\n",
    "    plot_fit[\"middle\"] = ana.linear(df.columns, *middle_params.values())\n",
    "    plot_fit[\"Median\"] = 0.5*(plot_fit[\"high plateu\"] + plot_fit[\"low plateu\"])\n",
    "    #ssDNA\n",
    "    comp2_conc[key] = (df.loc[260] - plot_fit[\"low plateu\"]) / (plot_fit[\"high plateu\"] - plot_fit[\"low plateu\"])\n",
    "\n",
    "    plot.mult_func([260, \"high plateu\", \"low plateu\", \"middle\", \"Median\"], [df, plot_fit.T], \n",
    "                   vertical_line=[melt_T[key]], marker=[\"X\", \"\", \"\", \"\", \"\"], linestyle=[\"--\", \":\", \":\", \"-.\", \"-.\"],\n",
    "                   y_scaling=True, y_min=[df.min(axis=1).loc[260] - 0.02 ], y_max=[df.max(axis=1).loc[260] + 0.02], \n",
    "                   title=\"\", subtitle=[key], sec_ax=[df.min(axis=1).loc[260], df.max(axis=1).loc[260]], y_label=\"absorption / %\",\n",
    "                   x_label='temperature / °C', label=[\"total absorption\",  \"upper baseline\", \"lower baseline\", \"linear interpolation\", \"center line\", \"melting temperature\"])"
   ]
  },
  {
   "cell_type": "code",
   "execution_count": 112,
   "id": "narrow-chair",
   "metadata": {},
   "outputs": [
    {
     "name": "stdout",
     "output_type": "stream",
     "text": [
      "{'Control_0M': 63.88046407740443, 'Gdm2SO4_0.5M': 64.52277673479793, 'Gdm2SO4_1M': 64.84295918577699, 'Gdm2SO4_2M': 64.33702771140105, 'Gdm2SO4_4M': 65.39728202507145, 'Gdm2SO4_6M': 61.39443444391862, 'GdmCl_0.5M': 64.87554508796475, 'GdmCl_1M': 64.90174513067518, 'GdmCl_2M': 62.22456104786192, 'GdmCl_4M': 59.194612694153875, 'GdmCl_6M': 53.41120314608025, 'GdmSCN_0.5M': 58.69785533338373, 'Urea_2M': 59.00866465738076}\n"
     ]
    }
   ],
   "source": [
    "print(melt_T)"
   ]
  },
  {
   "cell_type": "code",
   "execution_count": 59,
   "id": "furnished-jenny",
   "metadata": {},
   "outputs": [
    {
     "ename": "KeyError",
     "evalue": "'4_M_GdmCl_10_mM_Mg'",
     "output_type": "error",
     "traceback": [
      "\u001b[1;31m---------------------------------------------------------------------------\u001b[0m",
      "\u001b[1;31mKeyError\u001b[0m                                  Traceback (most recent call last)",
      "\u001b[1;32m<ipython-input-59-b5d697d92234>\u001b[0m in \u001b[0;36m<module>\u001b[1;34m\u001b[0m\n\u001b[0;32m      1\u001b[0m \u001b[0mx\u001b[0m \u001b[1;33m=\u001b[0m \u001b[1;33m[\u001b[0m\u001b[1;36m10\u001b[0m\u001b[1;33m,\u001b[0m \u001b[1;36m100\u001b[0m\u001b[1;33m,\u001b[0m \u001b[1;36m400\u001b[0m\u001b[1;33m]\u001b[0m\u001b[1;33m\u001b[0m\u001b[1;33m\u001b[0m\u001b[0m\n\u001b[1;32m----> 2\u001b[1;33m \u001b[0my\u001b[0m \u001b[1;33m=\u001b[0m  \u001b[1;33m[\u001b[0m\u001b[0mmelt_T\u001b[0m\u001b[1;33m[\u001b[0m\u001b[1;34m'4_M_GdmCl_10_mM_Mg'\u001b[0m\u001b[1;33m]\u001b[0m\u001b[1;33m,\u001b[0m \u001b[0mmelt_T\u001b[0m\u001b[1;33m[\u001b[0m\u001b[1;34m'4_M_GdmCl_100_mM_Mg'\u001b[0m\u001b[1;33m]\u001b[0m\u001b[1;33m,\u001b[0m \u001b[0mmelt_T\u001b[0m\u001b[1;33m[\u001b[0m\u001b[1;34m'4_M_GdmCl_400_mM_Mg'\u001b[0m\u001b[1;33m]\u001b[0m\u001b[1;33m]\u001b[0m\u001b[1;33m\u001b[0m\u001b[1;33m\u001b[0m\u001b[0m\n\u001b[0m\u001b[0;32m      3\u001b[0m \u001b[1;33m\u001b[0m\u001b[0m\n\u001b[0;32m      4\u001b[0m \u001b[0mgraph1\u001b[0m \u001b[1;33m=\u001b[0m \u001b[0mpd\u001b[0m\u001b[1;33m.\u001b[0m\u001b[0mDataFrame\u001b[0m\u001b[1;33m(\u001b[0m\u001b[0my\u001b[0m\u001b[1;33m,\u001b[0m \u001b[0mindex\u001b[0m\u001b[1;33m=\u001b[0m\u001b[0mx\u001b[0m\u001b[1;33m,\u001b[0m \u001b[0mcolumns\u001b[0m\u001b[1;33m=\u001b[0m\u001b[1;33m[\u001b[0m\u001b[1;34m\"Mg + 4 M GdmCl\"\u001b[0m\u001b[1;33m]\u001b[0m\u001b[1;33m)\u001b[0m\u001b[1;33m.\u001b[0m\u001b[0mT\u001b[0m\u001b[1;33m\u001b[0m\u001b[1;33m\u001b[0m\u001b[0m\n\u001b[0;32m      5\u001b[0m \u001b[1;33m\u001b[0m\u001b[0m\n",
      "\u001b[1;31mKeyError\u001b[0m: '4_M_GdmCl_10_mM_Mg'"
     ]
    }
   ],
   "source": [
    "x = [10, 100, 400]\n",
    "y =  [melt_T['4_M_GdmCl_10_mM_Mg'], melt_T['4_M_GdmCl_100_mM_Mg'], melt_T['4_M_GdmCl_400_mM_Mg']]\n",
    "\n",
    "graph1 = pd.DataFrame(y, index=x, columns=[\"Mg + 4 M GdmCl\"]).T\n",
    "\n",
    "\n",
    "plot.mult_func([\"Mg + 4 M GdmCl\"], [graph1], title=\"\", subtitle=[\"\"], \n",
    "               x_label=\"Mg+ concentration / mM\", y_label=\"temperature / °C\", label=[ r\"$GdmCl$ \"],\n",
    "               marker=[\"X\",\"o\"], linestyle=[\"-.\", \"-\",], backgroundcolor='white', colors=['red',  'black'])"
   ]
  },
  {
   "cell_type": "code",
   "execution_count": 115,
   "id": "perceived-concentrate",
   "metadata": {},
   "outputs": [
    {
     "data": {
      "application/vnd.jupyter.widget-view+json": {
       "model_id": "11d1cf2a04cb48ab9d36f09d86543768",
       "version_major": 2,
       "version_minor": 0
      },
      "text/plain": [
       "Canvas(toolbar=Toolbar(toolitems=[('Home', 'Reset original view', 'home', 'home'), ('Back', 'Back to previous …"
      ]
     },
     "metadata": {},
     "output_type": "display_data"
    }
   ],
   "source": [
    "x = [0., 0.5, 1., 2., 4., 6.]\n",
    "y =  [melt_T[\"Control_0M\"], melt_T[\"Gdm2SO4_0.5M\"], melt_T[\"Gdm2SO4_1M\"], melt_T[\"Gdm2SO4_2M\"], melt_T[\"Gdm2SO4_4M\"], melt_T[\"Gdm2SO4_6M\"]]\n",
    "\n",
    "graph1 = pd.DataFrame(y, index=x, columns=[\"Gdm2SO4\"]).T\n",
    "\n",
    "y2 = [melt_T[\"Control_0M\"], melt_T[\"GdmCl_0.5M\"], melt_T[\"GdmCl_1M\"], melt_T[\"GdmCl_2M\"], melt_T[\"GdmCl_4M\"], melt_T[\"GdmCl_6M\"]]\n",
    "\n",
    "graph2 = pd.DataFrame(y2, index=x, columns=[\"GdmCl\"] ).T\n",
    "\n",
    "graph = pd.concat([graph1, graph2], axis=0)\n",
    "plot.mult_func([\"Gdm2SO4\", \"GdmCl\"], [graph], title=\"\", subtitle=[\"\"], \n",
    "               x_label=\"salt concentration / M\", y_label=\"temperature / °C\", label=[r'$Gdm_{2}SO_{4}$',  r\"$GdmCl$ \"],\n",
    "               marker=[\"X\",\"o\"], linestyle=[\"-.\", \"-\",], backgroundcolor='white', colors=['red',  'black'], error={\"Gdm2SO4\": 0.5, \"GdmCl\": 0.5})"
   ]
  },
  {
   "cell_type": "markdown",
   "id": "going-judge",
   "metadata": {},
   "source": [
    "## ITTFA fractions.txt generator"
   ]
  },
  {
   "cell_type": "markdown",
   "id": "natural-zealand",
   "metadata": {},
   "source": [
    "<div class=\"alert alert-block alert-info\">\n",
    "<b>Info:</b> Creates the fractions text files.txt - files which are used for ITTFA.\n",
    "    Melting Temperature must before be determined to calculate ssDNA fraction\n",
    "</div>"
   ]
  },
  {
   "cell_type": "code",
   "execution_count": 12,
   "id": "orange-canberra",
   "metadata": {},
   "outputs": [
    {
     "name": "stdout",
     "output_type": "stream",
     "text": [
      "dict_keys(['Control_0M', 'Gdm2SO4_0.5M', 'Gdm2SO4_1M', 'Gdm2SO4_2M', 'Gdm2SO4_4M', 'Gdm2SO4_4M - Wiederholung', 'Gdm2SO4_6M', 'GdmCl_0.5M', 'GdmCl_1M', 'GdmCl_2M', 'GdmCl_2M_20nM_Origami', 'GdmCl_2M_24h', 'GdmCl_2M_80nM_Origami', 'GdmCl_4M', 'GdmCl_6M', 'GdmCl_6M_70', 'GdmSCN_0.5M', 'GdmSCN_2M', 'GdmSCN_4M', 'Urea_05M', 'Urea_2M'])\n"
     ]
    }
   ],
   "source": [
    "# folder path to load spectra and to save fraction profiles\n",
    "name = os.path.join(ITTFA_path, 'fractions.txt')\n",
    "key = 'Control_0M'\n",
    "#ITTFA_path = \"C:\\\\Users\\\\crazy\\\\Documents\\\\Uni\\\\Masterarbeit\\\\Projekt\\\\Factor_analysis\\\\ITTFA\"\n",
    "\n",
    "# print key folder to get the name structure \n",
    "print(data_all.keys())"
   ]
  },
  {
   "cell_type": "code",
   "execution_count": 13,
   "id": "explicit-poverty",
   "metadata": {},
   "outputs": [],
   "source": [
    "name = os.path.join(ITTFA_path, 'fractions.txt')\n",
    "key = 'Control_0M'"
   ]
  },
  {
   "cell_type": "code",
   "execution_count": 18,
   "id": "desirable-stationery",
   "metadata": {},
   "outputs": [],
   "source": [
    "# create file\n",
    "f = open(name,\"w+\")\n",
    "\n",
    "# extra spectra\n",
    "extra_spectra = 0\n",
    "components = 3\n",
    "\n",
    "# write in file\n",
    "for k in range(components):\n",
    "    for i in range((len(data_all[key].cd_df.loc[:, 20:90].columns) + extra_spectra)):\n",
    "        if k == 1 and i < len(data_all[key].cd_df.loc[:, 20:90].columns):\n",
    "            f.write(\"\\t\" + str(k+1) + \"\\t\" + str(i+1) + \"\\t\" + str(abs(comp2_conc[key].iloc[i].round(2))) + \" \\t 1 \\n\")\n",
    "        elif i >= len(data_all[key].cd_df.loc[:, 20:90].columns) and  k == (i % len(data_all[key].cd_df.loc[:, 20:90].columns)):\n",
    "            f.write(\"\\t\" + str(k+1) + \"\\t\" + str(i+1) + \"\\t\" + str(1) + \"\\t 1 \\n\")\n",
    "        else:\n",
    "            f.write(\"\\t\" + str(k+1) + \"\\t\" + str(i+1) + \"\\t 0 \\t 0 \\n\")\n",
    "\n",
    "# close file\n",
    "f.close()\n",
    "# Bei fehler: \"name 'comp2_conc' is not defined\" den LM Fit laufen lassen"
   ]
  },
  {
   "cell_type": "code",
   "execution_count": 19,
   "id": "experienced-ghana",
   "metadata": {},
   "outputs": [
    {
     "name": "stdout",
     "output_type": "stream",
     "text": [
      "[20, 30, 40, 45, 50, 56, 58, 60, 62, 64, 70, 75, 80, 90]\n"
     ]
    }
   ],
   "source": [
    "print(data_all[key].t_list)"
   ]
  },
  {
   "cell_type": "markdown",
   "id": "capable-landing",
   "metadata": {},
   "source": [
    "## Derivative of Absorbtion\n"
   ]
  },
  {
   "cell_type": "code",
   "execution_count": 61,
   "id": "commercial-acting",
   "metadata": {},
   "outputs": [
    {
     "data": {
      "application/vnd.jupyter.widget-view+json": {
       "model_id": "9b75244798ca4018b7bb980ee8692c28",
       "version_major": 2,
       "version_minor": 0
      },
      "text/plain": [
       "Canvas(toolbar=Toolbar(toolitems=[('Home', 'Reset original view', 'home', 'home'), ('Back', 'Back to previous …"
      ]
     },
     "metadata": {},
     "output_type": "display_data"
    },
    {
     "data": {
      "application/vnd.jupyter.widget-view+json": {
       "model_id": "ccee54762111413682bd29e23a9ebe33",
       "version_major": 2,
       "version_minor": 0
      },
      "text/plain": [
       "Canvas(toolbar=Toolbar(toolitems=[('Home', 'Reset original view', 'home', 'home'), ('Back', 'Back to previous …"
      ]
     },
     "metadata": {},
     "output_type": "display_data"
    },
    {
     "data": {
      "application/vnd.jupyter.widget-view+json": {
       "model_id": "055b7d297ea645a7bd6d4086ea5c6c20",
       "version_major": 2,
       "version_minor": 0
      },
      "text/plain": [
       "Canvas(toolbar=Toolbar(toolitems=[('Home', 'Reset original view', 'home', 'home'), ('Back', 'Back to previous …"
      ]
     },
     "metadata": {},
     "output_type": "display_data"
    },
    {
     "data": {
      "application/vnd.jupyter.widget-view+json": {
       "model_id": "f91fb804f0784c9e9010670de96f693d",
       "version_major": 2,
       "version_minor": 0
      },
      "text/plain": [
       "Canvas(toolbar=Toolbar(toolitems=[('Home', 'Reset original view', 'home', 'home'), ('Back', 'Back to previous …"
      ]
     },
     "metadata": {},
     "output_type": "display_data"
    },
    {
     "data": {
      "application/vnd.jupyter.widget-view+json": {
       "model_id": "d598433490b44554bba733c18358e5db",
       "version_major": 2,
       "version_minor": 0
      },
      "text/plain": [
       "Canvas(toolbar=Toolbar(toolitems=[('Home', 'Reset original view', 'home', 'home'), ('Back', 'Back to previous …"
      ]
     },
     "metadata": {},
     "output_type": "display_data"
    },
    {
     "data": {
      "application/vnd.jupyter.widget-view+json": {
       "model_id": "ff33fed130c44020b078f2ece14b53a4",
       "version_major": 2,
       "version_minor": 0
      },
      "text/plain": [
       "Canvas(toolbar=Toolbar(toolitems=[('Home', 'Reset original view', 'home', 'home'), ('Back', 'Back to previous …"
      ]
     },
     "metadata": {},
     "output_type": "display_data"
    },
    {
     "data": {
      "application/vnd.jupyter.widget-view+json": {
       "model_id": "df4a3df3b2ab42598af5cd4921cb4141",
       "version_major": 2,
       "version_minor": 0
      },
      "text/plain": [
       "Canvas(toolbar=Toolbar(toolitems=[('Home', 'Reset original view', 'home', 'home'), ('Back', 'Back to previous …"
      ]
     },
     "metadata": {},
     "output_type": "display_data"
    },
    {
     "data": {
      "application/vnd.jupyter.widget-view+json": {
       "model_id": "42fb8d9626ad4644b4ed2042394faae4",
       "version_major": 2,
       "version_minor": 0
      },
      "text/plain": [
       "Canvas(toolbar=Toolbar(toolitems=[('Home', 'Reset original view', 'home', 'home'), ('Back', 'Back to previous …"
      ]
     },
     "metadata": {},
     "output_type": "display_data"
    },
    {
     "data": {
      "application/vnd.jupyter.widget-view+json": {
       "model_id": "e67e51e1ac604ac4aef2c89fdb8669b7",
       "version_major": 2,
       "version_minor": 0
      },
      "text/plain": [
       "Canvas(toolbar=Toolbar(toolitems=[('Home', 'Reset original view', 'home', 'home'), ('Back', 'Back to previous …"
      ]
     },
     "metadata": {},
     "output_type": "display_data"
    },
    {
     "data": {
      "application/vnd.jupyter.widget-view+json": {
       "model_id": "9d67b3b4fed442889cde5a65d49d5e25",
       "version_major": 2,
       "version_minor": 0
      },
      "text/plain": [
       "Canvas(toolbar=Toolbar(toolitems=[('Home', 'Reset original view', 'home', 'home'), ('Back', 'Back to previous …"
      ]
     },
     "metadata": {},
     "output_type": "display_data"
    },
    {
     "data": {
      "application/vnd.jupyter.widget-view+json": {
       "model_id": "15796c94b7264b0a81ce21aaff016ad5",
       "version_major": 2,
       "version_minor": 0
      },
      "text/plain": [
       "Canvas(toolbar=Toolbar(toolitems=[('Home', 'Reset original view', 'home', 'home'), ('Back', 'Back to previous …"
      ]
     },
     "metadata": {},
     "output_type": "display_data"
    },
    {
     "data": {
      "application/vnd.jupyter.widget-view+json": {
       "model_id": "11f44b0d07064de19d60b54aeb7b1d7e",
       "version_major": 2,
       "version_minor": 0
      },
      "text/plain": [
       "Canvas(toolbar=Toolbar(toolitems=[('Home', 'Reset original view', 'home', 'home'), ('Back', 'Back to previous …"
      ]
     },
     "metadata": {},
     "output_type": "display_data"
    },
    {
     "data": {
      "application/vnd.jupyter.widget-view+json": {
       "model_id": "d9262483a53f42b18f592a97951acf64",
       "version_major": 2,
       "version_minor": 0
      },
      "text/plain": [
       "Canvas(toolbar=Toolbar(toolitems=[('Home', 'Reset original view', 'home', 'home'), ('Back', 'Back to previous …"
      ]
     },
     "metadata": {},
     "output_type": "display_data"
    },
    {
     "data": {
      "application/vnd.jupyter.widget-view+json": {
       "model_id": "63e6aa8183104caebe15c1dc60dae83d",
       "version_major": 2,
       "version_minor": 0
      },
      "text/plain": [
       "Canvas(toolbar=Toolbar(toolitems=[('Home', 'Reset original view', 'home', 'home'), ('Back', 'Back to previous …"
      ]
     },
     "metadata": {},
     "output_type": "display_data"
    },
    {
     "data": {
      "application/vnd.jupyter.widget-view+json": {
       "model_id": "445c186a476b41d5bae217b934104b58",
       "version_major": 2,
       "version_minor": 0
      },
      "text/plain": [
       "Canvas(toolbar=Toolbar(toolitems=[('Home', 'Reset original view', 'home', 'home'), ('Back', 'Back to previous …"
      ]
     },
     "metadata": {},
     "output_type": "display_data"
    },
    {
     "data": {
      "application/vnd.jupyter.widget-view+json": {
       "model_id": "d8654bb7f50a4527af275fc80c3fa79f",
       "version_major": 2,
       "version_minor": 0
      },
      "text/plain": [
       "Canvas(toolbar=Toolbar(toolitems=[('Home', 'Reset original view', 'home', 'home'), ('Back', 'Back to previous …"
      ]
     },
     "metadata": {},
     "output_type": "display_data"
    },
    {
     "data": {
      "application/vnd.jupyter.widget-view+json": {
       "model_id": "e5f87838243247f5b86e075fc1f2363a",
       "version_major": 2,
       "version_minor": 0
      },
      "text/plain": [
       "Canvas(toolbar=Toolbar(toolitems=[('Home', 'Reset original view', 'home', 'home'), ('Back', 'Back to previous …"
      ]
     },
     "metadata": {},
     "output_type": "display_data"
    },
    {
     "data": {
      "application/vnd.jupyter.widget-view+json": {
       "model_id": "8894e2de3c9743c89d78e6c15139ab23",
       "version_major": 2,
       "version_minor": 0
      },
      "text/plain": [
       "Canvas(toolbar=Toolbar(toolitems=[('Home', 'Reset original view', 'home', 'home'), ('Back', 'Back to previous …"
      ]
     },
     "metadata": {},
     "output_type": "display_data"
    },
    {
     "data": {
      "application/vnd.jupyter.widget-view+json": {
       "model_id": "c1cfb586195140c988dbd157c0b03c3d",
       "version_major": 2,
       "version_minor": 0
      },
      "text/plain": [
       "Canvas(toolbar=Toolbar(toolitems=[('Home', 'Reset original view', 'home', 'home'), ('Back', 'Back to previous …"
      ]
     },
     "metadata": {},
     "output_type": "display_data"
    },
    {
     "data": {
      "application/vnd.jupyter.widget-view+json": {
       "model_id": "1ac497f985c649e790704d7ad52a7e2e",
       "version_major": 2,
       "version_minor": 0
      },
      "text/plain": [
       "Canvas(toolbar=Toolbar(toolitems=[('Home', 'Reset original view', 'home', 'home'), ('Back', 'Back to previous …"
      ]
     },
     "metadata": {},
     "output_type": "display_data"
    },
    {
     "data": {
      "application/vnd.jupyter.widget-view+json": {
       "model_id": "e9ec060b14a749f68e0802ba94320b0c",
       "version_major": 2,
       "version_minor": 0
      },
      "text/plain": [
       "Canvas(toolbar=Toolbar(toolitems=[('Home', 'Reset original view', 'home', 'home'), ('Back', 'Back to previous …"
      ]
     },
     "metadata": {},
     "output_type": "display_data"
    }
   ],
   "source": [
    "for key in data_all.keys():\n",
    "    deriv = ana.derivative(data_all[key].absorb_df)\n",
    "    data = data_all[key].absorb_df\n",
    "    plot.mult_func([260], [data], [deriv], title= key, subtitle=[\"Absolute value\", \"interpolated derivative\"], label=[\"\"], y_label=\"Absorbance\")"
   ]
  },
  {
   "cell_type": "code",
   "execution_count": null,
   "id": "accredited-expert",
   "metadata": {},
   "outputs": [],
   "source": [
    "plot.mult_func([260], [data], [deriv], title= \"Hypochromatic shift\", subtitle=[\"Absolute value\", \"interpolated derivative\"], label=[\"\"], y_label=\"Absorbance\")"
   ]
  },
  {
   "cell_type": "markdown",
   "id": "internal-immune",
   "metadata": {},
   "source": [
    "# Calibration "
   ]
  },
  {
   "cell_type": "code",
   "execution_count": null,
   "id": "liquid-queue",
   "metadata": {},
   "outputs": [],
   "source": [
    "datapath = \"C:\\\\Users\\\\crazy\\\\Documents\\\\Uni\\\\Masterarbeit\\\\Projekt\\\\Data\\\\Calibration\"\n",
    "datalist = os.listdir(datapath)\n",
    "# 0 for PL, 1 for CSA\n",
    "filename = os.path.join(datapath, datalist[0])\n",
    "\n",
    "print(filename)"
   ]
  },
  {
   "cell_type": "code",
   "execution_count": null,
   "id": "acceptable-cloud",
   "metadata": {},
   "outputs": [],
   "source": [
    "file = open(filename, \"r\")\n",
    "list_of_lines = file.readlines()\n",
    "\n",
    "# Parameter for head and tail part of document which will be deleted\n",
    "head = 21\n",
    "tail = 1572\n",
    "del list_of_lines[tail:]\n",
    "del list_of_lines[:head]\n",
    "\n",
    "# separating numbers into sublist\n",
    "for i in range(len(list_of_lines)):\n",
    "    list_of_lines[i] = list_of_lines[i].replace(\"\\n\", \"\")\n",
    "    list_of_lines[i] = list_of_lines[i].replace(\",\", \".\")\n",
    "    list_of_lines[i] = list_of_lines[i].split('\\t', 3)\n",
    "\n",
    "# transform list of lists to array of float-type\n",
    "matrix = np.array(list_of_lines)\n",
    "matrix = matrix.astype(np.float)\n",
    "file.close()\n",
    "\n",
    "calibration_data = pd.DataFrame(matrix, columns=['wavelength', 'CD Values', 'HT Values', 'Absorbance'])\n",
    "calibration_data = calibration_data.set_index('wavelength')"
   ]
  },
  {
   "cell_type": "code",
   "execution_count": null,
   "id": "breeding-appliance",
   "metadata": {},
   "outputs": [],
   "source": [
    "plot.mult_func(['CD Values'], [calibration_data], swap=True)\n",
    "plot.mult_func(['Absorbance'], [calibration_data], swap=True)\n",
    "plot.mult_func(['HT Values'], [calibration_data], swap=True)"
   ]
  },
  {
   "cell_type": "markdown",
   "id": "living-messaging",
   "metadata": {},
   "source": [
    "**Molar Ellipticity**"
   ]
  },
  {
   "cell_type": "code",
   "execution_count": 62,
   "id": "varying-event",
   "metadata": {},
   "outputs": [
    {
     "ename": "NameError",
     "evalue": "name 'calibration_data' is not defined",
     "output_type": "error",
     "traceback": [
      "\u001b[1;31m---------------------------------------------------------------------------\u001b[0m",
      "\u001b[1;31mNameError\u001b[0m                                 Traceback (most recent call last)",
      "\u001b[1;32m<ipython-input-62-60e39fff9b0e>\u001b[0m in \u001b[0;36m<module>\u001b[1;34m\u001b[0m\n\u001b[0;32m      1\u001b[0m \u001b[1;31m# for PL\u001b[0m\u001b[1;33m\u001b[0m\u001b[1;33m\u001b[0m\u001b[1;33m\u001b[0m\u001b[0m\n\u001b[1;32m----> 2\u001b[1;33m \u001b[0mmolarity\u001b[0m \u001b[1;33m=\u001b[0m \u001b[0mcalibration_data\u001b[0m\u001b[1;33m.\u001b[0m\u001b[0mloc\u001b[0m\u001b[1;33m[\u001b[0m\u001b[1;36m215\u001b[0m\u001b[1;33m,\u001b[0m\u001b[1;34m'Absorbance'\u001b[0m\u001b[1;33m]\u001b[0m  \u001b[1;33m*\u001b[0m \u001b[1;36m10\u001b[0m\u001b[1;33m**\u001b[0m\u001b[1;36m4\u001b[0m \u001b[1;33m/\u001b[0m \u001b[1;36m90\u001b[0m \u001b[1;31m# molarity in mMs\u001b[0m\u001b[1;33m\u001b[0m\u001b[1;33m\u001b[0m\u001b[0m\n\u001b[0m\u001b[0;32m      3\u001b[0m \u001b[0mprint\u001b[0m\u001b[1;33m(\u001b[0m\u001b[1;34m'Determined concentration in mmol/l: \\t'\u001b[0m\u001b[1;33m,\u001b[0m \u001b[0mmolarity\u001b[0m\u001b[1;33m)\u001b[0m\u001b[1;33m\u001b[0m\u001b[1;33m\u001b[0m\u001b[0m\n\u001b[0;32m      4\u001b[0m \u001b[0mpathlength\u001b[0m \u001b[1;33m=\u001b[0m  \u001b[1;36m0.1\u001b[0m \u001b[1;31m# cm\u001b[0m\u001b[1;33m\u001b[0m\u001b[1;33m\u001b[0m\u001b[0m\n\u001b[0;32m      5\u001b[0m print('Ratio experimental vs. theoretical value at the maximum around 290 nm: \\n with determinded molarity: ',\n",
      "\u001b[1;31mNameError\u001b[0m: name 'calibration_data' is not defined"
     ]
    }
   ],
   "source": [
    "# for PL\n",
    "molarity = calibration_data.loc[215,'Absorbance']  * 10**4 / 90 # molarity in mMs\n",
    "print('Determined concentration in mmol/l: \\t', molarity)\n",
    "pathlength =  0.1 # cm \n",
    "print('Ratio experimental vs. theoretical value at the maximum around 290 nm: \\n with determinded molarity: ',\n",
    "      calibration_data.loc[calibration_data['CD Values'].idxmin(axis=0), 'CD Values']  / (0.001* molarity) / (-4.9*3300),\n",
    "      '\\t  with wanted molarity 11.53 mM:' , calibration_data.loc[calibration_data['CD Values'].idxmin(axis=0), 'CD Values']  / (0.001* 11.53) / (-4.9*3300) ) \n",
    "      "
   ]
  },
  {
   "cell_type": "code",
   "execution_count": null,
   "id": "cloudy-replica",
   "metadata": {},
   "outputs": [],
   "source": [
    "# for CSA\n",
    "molarity = calibration_data.loc[285,'Absorbance'] *  (10**4) / 34.5  # molarity in mMs\n",
    "print('Determined concentration in mmol/l: \\t', molarity)\n",
    "pathlength =  0.1 # cm \n",
    "print('Ratio experimental vs. theoretical value at the maximum around 290 nm: \\n with determinded molarity: ',\n",
    "      calibration_data.loc[calibration_data['CD Values'].idxmax(axis=0), 'CD Values']  / (0.001* molarity) / (7800),  \n",
    "      '\\t  with wanted molarity 4.7 mM:' , calibration_data.loc[calibration_data['CD Values'].idxmax(axis=0), 'CD Values']  / (0.001* 4.7) / (7800)  ) \n",
    "print('Ratio experimental vs. theoretical value at the minimum around 192.5 nm: \\n with determinded molarity: ',\n",
    "      calibration_data.loc[calibration_data['CD Values'].idxmin(axis=0), 'CD Values']  / (0.001* molarity) / (-15600 ),  \n",
    "      '\\t  with wanted molarity 4.7 mM:' , calibration_data.loc[calibration_data['CD Values'].idxmin(axis=0), 'CD Values']  / (0.001* 4.7) / (-15600 ) )\n",
    "print('Ratio between absorbance 285 nm and molar ellipticity at 290.5 nm: ', \n",
    "      (calibration_data.loc[calibration_data['CD Values'].idxmax(axis=0), 'CD Values']  / (3300)) / calibration_data.loc[285, 'Absorbance'],\n",
    "     ' -> this value should be 0.068') # should be 0.068\n",
    " "
   ]
  },
  {
   "cell_type": "markdown",
   "id": "cosmetic-salon",
   "metadata": {},
   "source": [
    "# Test"
   ]
  },
  {
   "cell_type": "markdown",
   "id": "allied-personality",
   "metadata": {},
   "source": [
    "**Zero Crossing**"
   ]
  },
  {
   "cell_type": "code",
   "execution_count": 63,
   "id": "administrative-basket",
   "metadata": {},
   "outputs": [
    {
     "name": "stdout",
     "output_type": "stream",
     "text": [
      "dict_keys(['Control_0M', 'Gdm2SO4_0.5M', 'Gdm2SO4_1M', 'Gdm2SO4_2M', 'Gdm2SO4_4M', 'Gdm2SO4_4M - Wiederholung', 'Gdm2SO4_6M', 'GdmCl_0.5M', 'GdmCl_1M', 'GdmCl_2M', 'GdmCl_2M_20nM_Origami', 'GdmCl_2M_24h', 'GdmCl_2M_80nM_Origami', 'GdmCl_4M', 'GdmCl_6M', 'GdmCl_6M_70', 'GdmSCN_0.5M', 'GdmSCN_2M', 'GdmSCN_4M', 'Urea_05M', 'Urea_2M'])\n"
     ]
    }
   ],
   "source": [
    "print(data_all.keys())"
   ]
  },
  {
   "cell_type": "code",
   "execution_count": 64,
   "id": "three-culture",
   "metadata": {},
   "outputs": [],
   "source": [
    "zero_crossing = {}\n",
    "\n",
    "wave_max = 280\n",
    "wave_min = 240\n",
    "for key in data_all.keys():\n",
    "    df = data_all[key].cd_df.loc[wave_min:wave_max]\n",
    "    zeros = pd.DataFrame()\n",
    "    for col in df.columns:\n",
    "        sgn = np.sign(df.loc[wave_min, col])\n",
    "        zero_liste = []\n",
    "        for idx in df.index:\n",
    "            if np.sign(df.loc[idx, col]) != np.sign(sgn):\n",
    "                zero_liste.append(int(idx)+0.5)\n",
    "            sgn = np.sign(df.loc[idx, col])\n",
    "        new = pd.DataFrame({col: zero_liste})\n",
    "        zeros = pd.concat([zeros, new], axis=1)\n",
    "    zero_crossing[key] = zeros"
   ]
  },
  {
   "cell_type": "code",
   "execution_count": 65,
   "id": "middle-management",
   "metadata": {},
   "outputs": [
    {
     "data": {
      "application/vnd.jupyter.widget-view+json": {
       "model_id": "5fcff0601eec4c23a2ef3091e2b7999d",
       "version_major": 2,
       "version_minor": 0
      },
      "text/plain": [
       "Canvas(toolbar=Toolbar(toolitems=[('Home', 'Reset original view', 'home', 'home'), ('Back', 'Back to previous …"
      ]
     },
     "metadata": {},
     "output_type": "display_data"
    },
    {
     "data": {
      "application/vnd.jupyter.widget-view+json": {
       "model_id": "e0cdff3b53d94d2b9336da1f951fc670",
       "version_major": 2,
       "version_minor": 0
      },
      "text/plain": [
       "Canvas(toolbar=Toolbar(toolitems=[('Home', 'Reset original view', 'home', 'home'), ('Back', 'Back to previous …"
      ]
     },
     "metadata": {},
     "output_type": "display_data"
    },
    {
     "data": {
      "application/vnd.jupyter.widget-view+json": {
       "model_id": "74173a762ea348b2b23439901e1c0779",
       "version_major": 2,
       "version_minor": 0
      },
      "text/plain": [
       "Canvas(toolbar=Toolbar(toolitems=[('Home', 'Reset original view', 'home', 'home'), ('Back', 'Back to previous …"
      ]
     },
     "metadata": {},
     "output_type": "display_data"
    },
    {
     "data": {
      "application/vnd.jupyter.widget-view+json": {
       "model_id": "5f883f0664b74f6c975d9969f2f15ada",
       "version_major": 2,
       "version_minor": 0
      },
      "text/plain": [
       "Canvas(toolbar=Toolbar(toolitems=[('Home', 'Reset original view', 'home', 'home'), ('Back', 'Back to previous …"
      ]
     },
     "metadata": {},
     "output_type": "display_data"
    },
    {
     "data": {
      "application/vnd.jupyter.widget-view+json": {
       "model_id": "e174d424a4e54038940b784a4617bb1d",
       "version_major": 2,
       "version_minor": 0
      },
      "text/plain": [
       "Canvas(toolbar=Toolbar(toolitems=[('Home', 'Reset original view', 'home', 'home'), ('Back', 'Back to previous …"
      ]
     },
     "metadata": {},
     "output_type": "display_data"
    },
    {
     "data": {
      "application/vnd.jupyter.widget-view+json": {
       "model_id": "e51d301be6d24c2fbac9d950acee7ec1",
       "version_major": 2,
       "version_minor": 0
      },
      "text/plain": [
       "Canvas(toolbar=Toolbar(toolitems=[('Home', 'Reset original view', 'home', 'home'), ('Back', 'Back to previous …"
      ]
     },
     "metadata": {},
     "output_type": "display_data"
    },
    {
     "data": {
      "application/vnd.jupyter.widget-view+json": {
       "model_id": "fcd0eff3ada243569d14bb9217ae0e46",
       "version_major": 2,
       "version_minor": 0
      },
      "text/plain": [
       "Canvas(toolbar=Toolbar(toolitems=[('Home', 'Reset original view', 'home', 'home'), ('Back', 'Back to previous …"
      ]
     },
     "metadata": {},
     "output_type": "display_data"
    },
    {
     "data": {
      "application/vnd.jupyter.widget-view+json": {
       "model_id": "0fa2bf1590724cf8bc5c6f67c9b10c5f",
       "version_major": 2,
       "version_minor": 0
      },
      "text/plain": [
       "Canvas(toolbar=Toolbar(toolitems=[('Home', 'Reset original view', 'home', 'home'), ('Back', 'Back to previous …"
      ]
     },
     "metadata": {},
     "output_type": "display_data"
    },
    {
     "data": {
      "application/vnd.jupyter.widget-view+json": {
       "model_id": "965ef5f66a4848aa843c5ddf4a28dc55",
       "version_major": 2,
       "version_minor": 0
      },
      "text/plain": [
       "Canvas(toolbar=Toolbar(toolitems=[('Home', 'Reset original view', 'home', 'home'), ('Back', 'Back to previous …"
      ]
     },
     "metadata": {},
     "output_type": "display_data"
    },
    {
     "data": {
      "application/vnd.jupyter.widget-view+json": {
       "model_id": "e2db68f505494bbe961ad708d73e7679",
       "version_major": 2,
       "version_minor": 0
      },
      "text/plain": [
       "Canvas(toolbar=Toolbar(toolitems=[('Home', 'Reset original view', 'home', 'home'), ('Back', 'Back to previous …"
      ]
     },
     "metadata": {},
     "output_type": "display_data"
    },
    {
     "data": {
      "application/vnd.jupyter.widget-view+json": {
       "model_id": "999e82af86b3410eb40f9cd86194d977",
       "version_major": 2,
       "version_minor": 0
      },
      "text/plain": [
       "Canvas(toolbar=Toolbar(toolitems=[('Home', 'Reset original view', 'home', 'home'), ('Back', 'Back to previous …"
      ]
     },
     "metadata": {},
     "output_type": "display_data"
    },
    {
     "data": {
      "application/vnd.jupyter.widget-view+json": {
       "model_id": "2b0ca303250b42c78418f7f8886c4d90",
       "version_major": 2,
       "version_minor": 0
      },
      "text/plain": [
       "Canvas(toolbar=Toolbar(toolitems=[('Home', 'Reset original view', 'home', 'home'), ('Back', 'Back to previous …"
      ]
     },
     "metadata": {},
     "output_type": "display_data"
    },
    {
     "data": {
      "application/vnd.jupyter.widget-view+json": {
       "model_id": "d9c1709617c64ae6bb2e1d03629d11ce",
       "version_major": 2,
       "version_minor": 0
      },
      "text/plain": [
       "Canvas(toolbar=Toolbar(toolitems=[('Home', 'Reset original view', 'home', 'home'), ('Back', 'Back to previous …"
      ]
     },
     "metadata": {},
     "output_type": "display_data"
    },
    {
     "data": {
      "application/vnd.jupyter.widget-view+json": {
       "model_id": "a36c4aa1f6b34367be3d8a972852fe42",
       "version_major": 2,
       "version_minor": 0
      },
      "text/plain": [
       "Canvas(toolbar=Toolbar(toolitems=[('Home', 'Reset original view', 'home', 'home'), ('Back', 'Back to previous …"
      ]
     },
     "metadata": {},
     "output_type": "display_data"
    },
    {
     "data": {
      "application/vnd.jupyter.widget-view+json": {
       "model_id": "53ca10861ba341a4bc19c21b80edbbc7",
       "version_major": 2,
       "version_minor": 0
      },
      "text/plain": [
       "Canvas(toolbar=Toolbar(toolitems=[('Home', 'Reset original view', 'home', 'home'), ('Back', 'Back to previous …"
      ]
     },
     "metadata": {},
     "output_type": "display_data"
    },
    {
     "data": {
      "application/vnd.jupyter.widget-view+json": {
       "model_id": "b9f03e1e123846da8d68dac71c559ee2",
       "version_major": 2,
       "version_minor": 0
      },
      "text/plain": [
       "Canvas(toolbar=Toolbar(toolitems=[('Home', 'Reset original view', 'home', 'home'), ('Back', 'Back to previous …"
      ]
     },
     "metadata": {},
     "output_type": "display_data"
    },
    {
     "data": {
      "application/vnd.jupyter.widget-view+json": {
       "model_id": "e3df80bfc2d8469c94f0ec60339512ea",
       "version_major": 2,
       "version_minor": 0
      },
      "text/plain": [
       "Canvas(toolbar=Toolbar(toolitems=[('Home', 'Reset original view', 'home', 'home'), ('Back', 'Back to previous …"
      ]
     },
     "metadata": {},
     "output_type": "display_data"
    },
    {
     "data": {
      "application/vnd.jupyter.widget-view+json": {
       "model_id": "db18bced784d428a8413341a2eaf2620",
       "version_major": 2,
       "version_minor": 0
      },
      "text/plain": [
       "Canvas(toolbar=Toolbar(toolitems=[('Home', 'Reset original view', 'home', 'home'), ('Back', 'Back to previous …"
      ]
     },
     "metadata": {},
     "output_type": "display_data"
    },
    {
     "data": {
      "application/vnd.jupyter.widget-view+json": {
       "model_id": "ca93b9198e1c4ef9bf28d2cca6f1435c",
       "version_major": 2,
       "version_minor": 0
      },
      "text/plain": [
       "Canvas(toolbar=Toolbar(toolitems=[('Home', 'Reset original view', 'home', 'home'), ('Back', 'Back to previous …"
      ]
     },
     "metadata": {},
     "output_type": "display_data"
    },
    {
     "data": {
      "application/vnd.jupyter.widget-view+json": {
       "model_id": "263b57b2b2844eba8b19dc0fe0a48230",
       "version_major": 2,
       "version_minor": 0
      },
      "text/plain": [
       "Canvas(toolbar=Toolbar(toolitems=[('Home', 'Reset original view', 'home', 'home'), ('Back', 'Back to previous …"
      ]
     },
     "metadata": {},
     "output_type": "display_data"
    },
    {
     "data": {
      "application/vnd.jupyter.widget-view+json": {
       "model_id": "287eb20e91ca4039b16774e50d431431",
       "version_major": 2,
       "version_minor": 0
      },
      "text/plain": [
       "Canvas(toolbar=Toolbar(toolitems=[('Home', 'Reset original view', 'home', 'home'), ('Back', 'Back to previous …"
      ]
     },
     "metadata": {},
     "output_type": "display_data"
    }
   ],
   "source": [
    "for key in data_all.keys():\n",
    "    plot.mult_func([0], [zero_crossing[key]], subtitle=[key])"
   ]
  },
  {
   "cell_type": "markdown",
   "id": "extended-assault",
   "metadata": {},
   "source": [
    "**Derivative**"
   ]
  },
  {
   "cell_type": "code",
   "execution_count": 66,
   "id": "healthy-shark",
   "metadata": {},
   "outputs": [],
   "source": [
    "keys = ['Control_0M', 'Gdm2SO4_0.5M', 'Gdm2SO4_1M', 'Gdm2SO4_2M', 'Gdm2SO4_4M', 'Gdm2SO4_4M - Wiederholung', 'Gdm2SO4_6M', 'GdmCl_0.5M', 'GdmCl_1M', 'GdmCl_2M', 'GdmCl_2M_20nM_Origami', 'GdmCl_2M_24h', 'GdmCl_2M_80nM_Origami', 'GdmCl_4M', 'GdmCl_6M', 'GdmCl_6M_70', 'GdmSCN_0.5M', 'GdmSCN_2M', 'GdmSCN_4M', 'Urea_05M', 'Urea_2M']\n",
    "#keys = ['1_M_GdmCl_100_mM_Mg',  '4_M_GdmCl_100_mM_Mg', '4_M_GdmCl_10_mM_Mg', '4_M_GdmCl_400_mM_Mg']"
   ]
  },
  {
   "cell_type": "code",
   "execution_count": 69,
   "id": "coordinate-whole",
   "metadata": {},
   "outputs": [
    {
     "data": {
      "application/vnd.jupyter.widget-view+json": {
       "model_id": "db23e608843648c693c89836cc85ee83",
       "version_major": 2,
       "version_minor": 0
      },
      "text/plain": [
       "Canvas(toolbar=Toolbar(toolitems=[('Home', 'Reset original view', 'home', 'home'), ('Back', 'Back to previous …"
      ]
     },
     "metadata": {},
     "output_type": "display_data"
    },
    {
     "data": {
      "application/vnd.jupyter.widget-view+json": {
       "model_id": "f6429ddd626e4741a63c3a6f009ae8cb",
       "version_major": 2,
       "version_minor": 0
      },
      "text/plain": [
       "Canvas(toolbar=Toolbar(toolitems=[('Home', 'Reset original view', 'home', 'home'), ('Back', 'Back to previous …"
      ]
     },
     "metadata": {},
     "output_type": "display_data"
    },
    {
     "data": {
      "application/vnd.jupyter.widget-view+json": {
       "model_id": "dfd7cc8a4ba24472a4b9cbe62bab985b",
       "version_major": 2,
       "version_minor": 0
      },
      "text/plain": [
       "Canvas(toolbar=Toolbar(toolitems=[('Home', 'Reset original view', 'home', 'home'), ('Back', 'Back to previous …"
      ]
     },
     "metadata": {},
     "output_type": "display_data"
    },
    {
     "data": {
      "application/vnd.jupyter.widget-view+json": {
       "model_id": "5c34d56708384fee85a1ef1ce9dbb9fb",
       "version_major": 2,
       "version_minor": 0
      },
      "text/plain": [
       "Canvas(toolbar=Toolbar(toolitems=[('Home', 'Reset original view', 'home', 'home'), ('Back', 'Back to previous …"
      ]
     },
     "metadata": {},
     "output_type": "display_data"
    },
    {
     "data": {
      "application/vnd.jupyter.widget-view+json": {
       "model_id": "def390171cba4338beb92b93d8b82201",
       "version_major": 2,
       "version_minor": 0
      },
      "text/plain": [
       "Canvas(toolbar=Toolbar(toolitems=[('Home', 'Reset original view', 'home', 'home'), ('Back', 'Back to previous …"
      ]
     },
     "metadata": {},
     "output_type": "display_data"
    },
    {
     "data": {
      "application/vnd.jupyter.widget-view+json": {
       "model_id": "a822e36cf20f4677b5226b9ec7e4496e",
       "version_major": 2,
       "version_minor": 0
      },
      "text/plain": [
       "Canvas(toolbar=Toolbar(toolitems=[('Home', 'Reset original view', 'home', 'home'), ('Back', 'Back to previous …"
      ]
     },
     "metadata": {},
     "output_type": "display_data"
    },
    {
     "data": {
      "application/vnd.jupyter.widget-view+json": {
       "model_id": "3072350a5a374ff68811b270273159bf",
       "version_major": 2,
       "version_minor": 0
      },
      "text/plain": [
       "Canvas(toolbar=Toolbar(toolitems=[('Home', 'Reset original view', 'home', 'home'), ('Back', 'Back to previous …"
      ]
     },
     "metadata": {},
     "output_type": "display_data"
    },
    {
     "data": {
      "application/vnd.jupyter.widget-view+json": {
       "model_id": "10158d10c82142faab2a6d12b1134714",
       "version_major": 2,
       "version_minor": 0
      },
      "text/plain": [
       "Canvas(toolbar=Toolbar(toolitems=[('Home', 'Reset original view', 'home', 'home'), ('Back', 'Back to previous …"
      ]
     },
     "metadata": {},
     "output_type": "display_data"
    },
    {
     "data": {
      "application/vnd.jupyter.widget-view+json": {
       "model_id": "fbae5cbeb3524c40bb4fbc8b3d956bdd",
       "version_major": 2,
       "version_minor": 0
      },
      "text/plain": [
       "Canvas(toolbar=Toolbar(toolitems=[('Home', 'Reset original view', 'home', 'home'), ('Back', 'Back to previous …"
      ]
     },
     "metadata": {},
     "output_type": "display_data"
    },
    {
     "data": {
      "application/vnd.jupyter.widget-view+json": {
       "model_id": "f26b6d8d70de40698fb33cf8155ac4b8",
       "version_major": 2,
       "version_minor": 0
      },
      "text/plain": [
       "Canvas(toolbar=Toolbar(toolitems=[('Home', 'Reset original view', 'home', 'home'), ('Back', 'Back to previous …"
      ]
     },
     "metadata": {},
     "output_type": "display_data"
    },
    {
     "data": {
      "application/vnd.jupyter.widget-view+json": {
       "model_id": "0f146a6f75334af7be461979d9aa65ca",
       "version_major": 2,
       "version_minor": 0
      },
      "text/plain": [
       "Canvas(toolbar=Toolbar(toolitems=[('Home', 'Reset original view', 'home', 'home'), ('Back', 'Back to previous …"
      ]
     },
     "metadata": {},
     "output_type": "display_data"
    },
    {
     "data": {
      "application/vnd.jupyter.widget-view+json": {
       "model_id": "c0baaaca686b42598568b38d74fe360d",
       "version_major": 2,
       "version_minor": 0
      },
      "text/plain": [
       "Canvas(toolbar=Toolbar(toolitems=[('Home', 'Reset original view', 'home', 'home'), ('Back', 'Back to previous …"
      ]
     },
     "metadata": {},
     "output_type": "display_data"
    },
    {
     "data": {
      "application/vnd.jupyter.widget-view+json": {
       "model_id": "eb2b5c7b208a4dbf81243bce87ce8f07",
       "version_major": 2,
       "version_minor": 0
      },
      "text/plain": [
       "Canvas(toolbar=Toolbar(toolitems=[('Home', 'Reset original view', 'home', 'home'), ('Back', 'Back to previous …"
      ]
     },
     "metadata": {},
     "output_type": "display_data"
    },
    {
     "data": {
      "application/vnd.jupyter.widget-view+json": {
       "model_id": "16464b701b8c433b93f6076f70d3e299",
       "version_major": 2,
       "version_minor": 0
      },
      "text/plain": [
       "Canvas(toolbar=Toolbar(toolitems=[('Home', 'Reset original view', 'home', 'home'), ('Back', 'Back to previous …"
      ]
     },
     "metadata": {},
     "output_type": "display_data"
    },
    {
     "data": {
      "application/vnd.jupyter.widget-view+json": {
       "model_id": "3ec8f4bb9d7046aabe963811948abd78",
       "version_major": 2,
       "version_minor": 0
      },
      "text/plain": [
       "Canvas(toolbar=Toolbar(toolitems=[('Home', 'Reset original view', 'home', 'home'), ('Back', 'Back to previous …"
      ]
     },
     "metadata": {},
     "output_type": "display_data"
    },
    {
     "data": {
      "application/vnd.jupyter.widget-view+json": {
       "model_id": "6e8ae251b2454772ac7149c42e7dceaa",
       "version_major": 2,
       "version_minor": 0
      },
      "text/plain": [
       "Canvas(toolbar=Toolbar(toolitems=[('Home', 'Reset original view', 'home', 'home'), ('Back', 'Back to previous …"
      ]
     },
     "metadata": {},
     "output_type": "display_data"
    },
    {
     "data": {
      "application/vnd.jupyter.widget-view+json": {
       "model_id": "be118c3517ac4e3ba71d036b3b55d288",
       "version_major": 2,
       "version_minor": 0
      },
      "text/plain": [
       "Canvas(toolbar=Toolbar(toolitems=[('Home', 'Reset original view', 'home', 'home'), ('Back', 'Back to previous …"
      ]
     },
     "metadata": {},
     "output_type": "display_data"
    },
    {
     "data": {
      "application/vnd.jupyter.widget-view+json": {
       "model_id": "4cb9d4252d2042feb61aa902e6cba32e",
       "version_major": 2,
       "version_minor": 0
      },
      "text/plain": [
       "Canvas(toolbar=Toolbar(toolitems=[('Home', 'Reset original view', 'home', 'home'), ('Back', 'Back to previous …"
      ]
     },
     "metadata": {},
     "output_type": "display_data"
    },
    {
     "data": {
      "application/vnd.jupyter.widget-view+json": {
       "model_id": "a81a80c085d34459beebcbac4d9e2e77",
       "version_major": 2,
       "version_minor": 0
      },
      "text/plain": [
       "Canvas(toolbar=Toolbar(toolitems=[('Home', 'Reset original view', 'home', 'home'), ('Back', 'Back to previous …"
      ]
     },
     "metadata": {},
     "output_type": "display_data"
    },
    {
     "data": {
      "application/vnd.jupyter.widget-view+json": {
       "model_id": "de58e8657e004156a9d48ae853833492",
       "version_major": 2,
       "version_minor": 0
      },
      "text/plain": [
       "Canvas(toolbar=Toolbar(toolitems=[('Home', 'Reset original view', 'home', 'home'), ('Back', 'Back to previous …"
      ]
     },
     "metadata": {},
     "output_type": "display_data"
    },
    {
     "data": {
      "application/vnd.jupyter.widget-view+json": {
       "model_id": "9858477df88a4044bc3b1d7663e5c180",
       "version_major": 2,
       "version_minor": 0
      },
      "text/plain": [
       "Canvas(toolbar=Toolbar(toolitems=[('Home', 'Reset original view', 'home', 'home'), ('Back', 'Back to previous …"
      ]
     },
     "metadata": {},
     "output_type": "display_data"
    }
   ],
   "source": [
    "for key in keys:\n",
    "    df = data_all[key].cd_df\n",
    "    data = df.to_numpy()\n",
    "    t_vec = df.columns.to_numpy()\n",
    "    delta_x = data[:, 2:] - data[:, :-2]\n",
    "    delta_t = t_vec[2:] - t_vec[:-2]\n",
    "    deriv =  pd.DataFrame(np.divide(delta_x, delta_t), index=df.index, columns=df.iloc[:,1:-1].columns)\n",
    "    deriv = deriv.astype('float64')\n",
    "    plot.heatmap(deriv.loc[215:300], subtitle=[key], title='')"
   ]
  },
  {
   "cell_type": "code",
   "execution_count": null,
   "id": "musical-restoration",
   "metadata": {},
   "outputs": [],
   "source": []
  },
  {
   "cell_type": "code",
   "execution_count": null,
   "id": "fleet-bunch",
   "metadata": {},
   "outputs": [],
   "source": []
  },
  {
   "cell_type": "markdown",
   "id": "graduate-warrior",
   "metadata": {},
   "source": [
    "**Concentration calculation**"
   ]
  },
  {
   "cell_type": "code",
   "execution_count": 76,
   "id": "instructional-engineer",
   "metadata": {},
   "outputs": [
    {
     "data": {
      "application/vnd.jupyter.widget-view+json": {
       "model_id": "96436a93a13e4bb39bcbf8d4e6eef446",
       "version_major": 2,
       "version_minor": 0
      },
      "text/plain": [
       "Canvas(toolbar=Toolbar(toolitems=[('Home', 'Reset original view', 'home', 'home'), ('Back', 'Back to previous …"
      ]
     },
     "metadata": {},
     "output_type": "display_data"
    }
   ],
   "source": [
    "df = pd.DataFrame()\n",
    "liste = ['Control_0M', 'Gdm2SO4_0.5M', 'Gdm2SO4_1M', 'Gdm2SO4_2M', 'Gdm2SO4_4M','GdmCl_0.5M', 'GdmCl_1M', 'GdmCl_2M', 'GdmCl_4M']\n",
    "for key in liste:\n",
    "    df[key] = data_all[key].cd_df[70]\n",
    "    \n",
    "plot.mult_func(liste, [df], swap=True, x_min=215, x_max=300, subtitle=['Data at 70°C'], x_label='Wavelengt / nm' )"
   ]
  },
  {
   "cell_type": "code",
   "execution_count": 77,
   "id": "formed-executive",
   "metadata": {},
   "outputs": [
    {
     "name": "stdout",
     "output_type": "stream",
     "text": [
      "Control_0M 30.354 39.915 -9.561\n",
      "Gdm2SO4_0.5M 32.511 42.752 -10.241\n",
      "Gdm2SO4_1M 31.293 41.151 -9.857\n",
      "Gdm2SO4_2M 33.782 44.423 -10.641\n",
      "Gdm2SO4_4M 34.202 44.975 -10.774\n",
      "Gdm2SO4_4M - Wiederholung 32.701 43.001 -10.301\n",
      "Gdm2SO4_6M 30.511 40.122 -9.611\n",
      "GdmCl_0.5M 32.273 42.439 -10.166\n",
      "GdmCl_1M 28.71 37.754 -9.044\n",
      "GdmCl_2M 29.204 38.403 -9.199\n",
      "GdmCl_2M_20nM_Origami 16.14 21.224 -5.084\n",
      "GdmCl_2M_24h 32.597 42.865 -10.268\n",
      "GdmCl_2M_80nM_Origami 71.692 94.275 -22.583\n",
      "GdmCl_4M 34.448 45.299 -10.851\n",
      "GdmCl_6M 30.839 40.554 -9.714\n",
      "GdmCl_6M_70 27.26 35.847 -8.587\n",
      "GdmSCN_0.5M 32.171 42.305 -10.134\n",
      "GdmSCN_2M 36.621 48.156 -11.536\n",
      "GdmSCN_4M 32.648 42.933 -10.284\n",
      "Urea_05M 33.155 43.598 -10.444\n",
      "Urea_2M 30.79 40.489 -9.699\n"
     ]
    }
   ],
   "source": [
    "for key in data_all.keys():\n",
    "    absorb_coeff = 0.0263 #ml/µg\n",
    "    conc = data_all[key].absorb_df.loc[260,20] / (absorb_coeff* 0.1) # µg/ml\n",
    "    mol_weight = 4472760.4 *(10**(6)) # µg/mol\n",
    "    conc = conc / mol_weight #mol/ml\n",
    "    conc =  conc * (10**(3)) # mol/L = M\n",
    "    conc = conc * (10**(9)) # nmol/L = nM\n",
    "    \n",
    "    conc2 = data_all[key].absorb_df.loc[260,20] / (0.02* 0.1) # µg/ml\n",
    "    mol_weight = 4472760.4 *(10**(6)) # µg/mol\n",
    "    conc2 = conc2 / mol_weight #mol/ml\n",
    "    conc2 =  conc2 * (10**(3)) # mol/L = M\n",
    "    conc2 = conc2 * (10**(9)) # nmol/L = nM\n",
    "\n",
    "    print(key, round(conc,3), round(conc2, 3), round(conc-conc2,3 ))"
   ]
  },
  {
   "cell_type": "code",
   "execution_count": 78,
   "id": "silver-bruce",
   "metadata": {},
   "outputs": [],
   "source": [
    "#Daniels path:\n",
    "print_path = \"F:\\\\HZDR\\\\CD_Auswertung\\\\c\"\n",
    "#Chrisophs path\n",
    "#print_path = \"C:\\\\Users\\\\crazy\\\\Documents\\\\Uni\\\\Masterarbeit\\\\Projekt\\\\Auswertung\""
   ]
  },
  {
   "cell_type": "code",
   "execution_count": 79,
   "id": "unnecessary-trade",
   "metadata": {},
   "outputs": [
    {
     "name": "stdout",
     "output_type": "stream",
     "text": [
      "F:\\HZDR\\CD_Auswertung\\c\\\\output.xlsx\n"
     ]
    }
   ],
   "source": [
    "excel_path = print_path + \"\\\\\" + \"\\\\output.xlsx\"\n",
    "print(excel_path)"
   ]
  },
  {
   "cell_type": "code",
   "execution_count": 80,
   "id": "psychological-aurora",
   "metadata": {},
   "outputs": [
    {
     "ename": "ModuleNotFoundError",
     "evalue": "No module named 'openpyxl.workbook'",
     "output_type": "error",
     "traceback": [
      "\u001b[1;31m---------------------------------------------------------------------------\u001b[0m",
      "\u001b[1;31mModuleNotFoundError\u001b[0m                       Traceback (most recent call last)",
      "\u001b[1;32m<ipython-input-80-83e96c08cb7b>\u001b[0m in \u001b[0;36m<module>\u001b[1;34m\u001b[0m\n\u001b[0;32m      2\u001b[0m \u001b[1;32mfor\u001b[0m \u001b[0mkey\u001b[0m \u001b[1;32min\u001b[0m \u001b[0mliste\u001b[0m\u001b[1;33m:\u001b[0m\u001b[1;33m\u001b[0m\u001b[1;33m\u001b[0m\u001b[0m\n\u001b[0;32m      3\u001b[0m     \u001b[0mdf\u001b[0m \u001b[1;33m=\u001b[0m \u001b[0mdata_all\u001b[0m\u001b[1;33m[\u001b[0m\u001b[0mkey\u001b[0m\u001b[1;33m]\u001b[0m\u001b[1;33m.\u001b[0m\u001b[0mabsorb_df\u001b[0m\u001b[1;33m.\u001b[0m\u001b[0mloc\u001b[0m\u001b[1;33m[\u001b[0m\u001b[1;36m260\u001b[0m\u001b[1;33m]\u001b[0m\u001b[1;33m\u001b[0m\u001b[1;33m\u001b[0m\u001b[0m\n\u001b[1;32m----> 4\u001b[1;33m     \u001b[1;32mwith\u001b[0m \u001b[0mpd\u001b[0m\u001b[1;33m.\u001b[0m\u001b[0mExcelWriter\u001b[0m\u001b[1;33m(\u001b[0m\u001b[0mexcel_path\u001b[0m\u001b[1;33m,\u001b[0m \u001b[0mmode\u001b[0m\u001b[1;33m=\u001b[0m\u001b[1;34m'a'\u001b[0m\u001b[1;33m)\u001b[0m \u001b[1;32mas\u001b[0m \u001b[0mwriter\u001b[0m\u001b[1;33m:\u001b[0m\u001b[1;33m\u001b[0m\u001b[1;33m\u001b[0m\u001b[0m\n\u001b[0m\u001b[0;32m      5\u001b[0m         \u001b[0mdf\u001b[0m\u001b[1;33m.\u001b[0m\u001b[0mround\u001b[0m\u001b[1;33m(\u001b[0m\u001b[1;36m3\u001b[0m\u001b[1;33m)\u001b[0m\u001b[1;33m.\u001b[0m\u001b[0mto_excel\u001b[0m\u001b[1;33m(\u001b[0m\u001b[0mwriter\u001b[0m\u001b[1;33m,\u001b[0m \u001b[0msheet_name\u001b[0m\u001b[1;33m=\u001b[0m\u001b[0mkey\u001b[0m\u001b[1;33m)\u001b[0m\u001b[1;33m\u001b[0m\u001b[1;33m\u001b[0m\u001b[0m\n",
      "\u001b[1;32m~\\anaconda3\\envs\\TestEnv\\lib\\site-packages\\pandas\\io\\excel\\_openpyxl.py\u001b[0m in \u001b[0;36m__init__\u001b[1;34m(self, path, engine, mode, storage_options, **engine_kwargs)\u001b[0m\n\u001b[0;32m     28\u001b[0m     ):\n\u001b[0;32m     29\u001b[0m         \u001b[1;31m# Use the openpyxl module as the Excel writer.\u001b[0m\u001b[1;33m\u001b[0m\u001b[1;33m\u001b[0m\u001b[1;33m\u001b[0m\u001b[0m\n\u001b[1;32m---> 30\u001b[1;33m         \u001b[1;32mfrom\u001b[0m \u001b[0mopenpyxl\u001b[0m\u001b[1;33m.\u001b[0m\u001b[0mworkbook\u001b[0m \u001b[1;32mimport\u001b[0m \u001b[0mWorkbook\u001b[0m\u001b[1;33m\u001b[0m\u001b[1;33m\u001b[0m\u001b[0m\n\u001b[0m\u001b[0;32m     31\u001b[0m \u001b[1;33m\u001b[0m\u001b[0m\n\u001b[0;32m     32\u001b[0m         super().__init__(\n",
      "\u001b[1;31mModuleNotFoundError\u001b[0m: No module named 'openpyxl.workbook'"
     ]
    }
   ],
   "source": [
    "liste = ['Control_0M', 'GdmCl_1M', 'GdmCl_2M', 'GdmCl_4M', 'Gdm2SO4_0.5M', 'Gdm2SO4_1M', 'Gdm2SO4_2M']\n",
    "for key in liste:\n",
    "    df = data_all[key].absorb_df.loc[260]\n",
    "    with pd.ExcelWriter(excel_path, mode='a') as writer:  \n",
    "        df.round(3).to_excel(writer, sheet_name=key)"
   ]
  },
  {
   "cell_type": "markdown",
   "id": "orange-archive",
   "metadata": {},
   "source": [
    "**Simulation of Melting Curves**"
   ]
  },
  {
   "cell_type": "raw",
   "id": "strong-prompt",
   "metadata": {},
   "source": [
    "T0\t337\t335,9375\t323,14502\n",
    "dH\t123000\t215000\t100000\n",
    "dS\t364,98516\t640\t309,45858\n",
    "dCp\t2000\t4000\t1000\n",
    "K0\t1\t1,27469\t4"
   ]
  },
  {
   "cell_type": "code",
   "execution_count": 81,
   "id": "sound-cause",
   "metadata": {},
   "outputs": [],
   "source": [
    "# gas constant\n",
    "r =  8.314\n",
    "\n",
    "# first process -> melting dsDNA to ssDNA in tensed state\n",
    "t_01 =  337\n",
    "dh_1 = 123000\n",
    "\n",
    "# second process -> melting dsDNA to ssDNA in relaxed state\n",
    "t_02 = 335.9375\n",
    "dh_2 = 215000\n",
    "\n",
    "# third process -> relaxing origami in dsDNA\n",
    "t_03 = 323.14502\n",
    "dh_3 = 10000 \n",
    "\n",
    "# add dc_p values\n",
    "dc_1 = 2000\n",
    "dc_2 = 4000\n",
    "dc_3 = 1000\n",
    "\n",
    "# temperature points and dt to reference temperature t_01\n",
    "t =  np.arange(273, 372, 1)\n",
    "\n",
    "# create lists to save calcua\n",
    "rel_conc = pd.DataFrame(index=t, columns=[1,2,3,4])"
   ]
  },
  {
   "cell_type": "code",
   "execution_count": 82,
   "id": "provincial-clarity",
   "metadata": {},
   "outputs": [],
   "source": [
    "# calculate fractions for all temperature points\n",
    "for i in t:\n",
    "    # calculate dg\n",
    "    dg_1 = - (dh_1/t_01 - dc_1) * (i - t_01) + dc_1 * i * np.log(t_01/i) # dsDNA to ssDNA in tensed state \n",
    "    dg_2 = - (dh_2/t_01 - dc_2) * (i - t_02) + dc_2 * i * np.log(t_02/i) # dsDNA to ssDNA in relaxed state\n",
    "    dg_3 = - (dh_3/t_01 - dc_3) * (i - t_03) + dc_3 * i * np.log(t_03/i) # tensed state to relaxed state in dsDNA\n",
    "    \n",
    "    # calculate equilibrium constants k\n",
    "    k_1 = np.exp( - dg_1 / (r * i))\n",
    "    k_2 = np.exp( - dg_2 / (r * i))\n",
    "    k_3 = np.exp( - dg_3 / (r * i))\n",
    "    \n",
    "    # calculate relative concentrations\n",
    "    sum_of_states = 1 + k_1 + k_3 + k_3 * k_2 # number of states / number of state 1 \n",
    "    rel_conc.loc[i, 1] = 1 / sum_of_states # norm.population of dsDNA tensed \n",
    "    rel_conc.loc[i, 2] = k_1 /sum_of_states # norm.population of ssDNA tensed\n",
    "    rel_conc.loc[i, 3] = k_3 /sum_of_states # norm.population of dsDNA relaxed\n",
    "    rel_conc.loc[i, 4] = k_3 * k_2 /sum_of_states # norm.population of ssDNA relaxed \n"
   ]
  },
  {
   "cell_type": "code",
   "execution_count": 83,
   "id": "isolated-district",
   "metadata": {},
   "outputs": [
    {
     "data": {
      "application/vnd.jupyter.widget-view+json": {
       "model_id": "8be5657b42ca45a7849182304cd33f45",
       "version_major": 2,
       "version_minor": 0
      },
      "text/plain": [
       "Canvas(toolbar=Toolbar(toolitems=[('Home', 'Reset original view', 'home', 'home'), ('Back', 'Back to previous …"
      ]
     },
     "metadata": {},
     "output_type": "display_data"
    }
   ],
   "source": [
    "plot.mult_func([1,2,3,4], [rel_conc.T])"
   ]
  },
  {
   "cell_type": "markdown",
   "id": "contained-jacket",
   "metadata": {},
   "source": [
    "**Beers Law**"
   ]
  },
  {
   "cell_type": "code",
   "execution_count": 89,
   "id": "sound-indonesian",
   "metadata": {},
   "outputs": [
    {
     "name": "stdout",
     "output_type": "stream",
     "text": [
      "Control_0M :  \t 30.353827859758304 nM\n",
      "Gdm2SO4_0.5M :  \t 32.51086465190285 nM\n",
      "Gdm2SO4_1M :  \t 31.293355353522852 nM\n",
      "Gdm2SO4_2M :  \t 33.782100097229936 nM\n",
      "Gdm2SO4_4M :  \t 34.201793115390956 nM\n",
      "Gdm2SO4_4M - Wiederholung :  \t 32.70069137046747 nM\n",
      "Gdm2SO4_6M :  \t 30.51075581429046 nM\n",
      "GdmCl_0.5M :  \t 32.272752408866786 nM\n",
      "GdmCl_1M :  \t 28.710079794301265 nM\n",
      "GdmCl_2M :  \t 29.20364626451452 nM\n",
      "GdmCl_2M_20nM_Origami :  \t 16.139861603206864 nM\n",
      "GdmCl_2M_24h :  \t 32.59680948507295 nM\n",
      "GdmCl_2M_80nM_Origami :  \t 71.69176243950542 nM\n",
      "GdmCl_4M :  \t 34.447726253235764 nM\n",
      "GdmCl_6M :  \t 30.83948842543663 nM\n",
      "GdmCl_6M_70 :  \t 27.259983885087042 nM\n",
      "GdmSCN_0.5M :  \t 32.17099576662683 nM\n",
      "GdmSCN_2M :  \t 36.62074487390254 nM\n",
      "GdmSCN_4M :  \t 32.64841038886548 nM\n",
      "Urea_05M :  \t 33.15472831800605 nM\n",
      "Urea_2M :  \t 30.790182784251016 nM\n"
     ]
    }
   ],
   "source": [
    "for key in data_all.keys():\n",
    "    absorbance = data_all[key].absorb_df.loc[260, 20]\n",
    "    df = data_all[key].cd_df\n",
    "    \n",
    "    #conc_ds =  absorbance/(0.02*0.1) #[µg/mL]\n",
    "    conc_ds =  absorbance/(0.0263*0.1) #[µg/mL] ecact for gc content in origami triangles\n",
    "    molar = conc_ds * 10**(-6) / (4472760.4 * 10**(-3)) * (10**9) #[nmol/l] \n",
    "    df_norm = 100 * df / (molar * 0.1)    \n",
    "    print(key, \":  \\t\", molar , 'nM')"
   ]
  },
  {
   "cell_type": "code",
   "execution_count": 104,
   "id": "beneficial-publisher",
   "metadata": {},
   "outputs": [
    {
     "data": {
      "application/vnd.jupyter.widget-view+json": {
       "model_id": "fb45c231e01142a6b31311de9cf1b0e2",
       "version_major": 2,
       "version_minor": 0
      },
      "text/plain": [
       "Canvas(toolbar=Toolbar(toolitems=[('Home', 'Reset original view', 'home', 'home'), ('Back', 'Back to previous …"
      ]
     },
     "metadata": {},
     "output_type": "display_data"
    },
    {
     "data": {
      "application/vnd.jupyter.widget-view+json": {
       "model_id": "fb0153a1adfc433d81b7a05f42a3c65d",
       "version_major": 2,
       "version_minor": 0
      },
      "text/plain": [
       "Canvas(toolbar=Toolbar(toolitems=[('Home', 'Reset original view', 'home', 'home'), ('Back', 'Back to previous …"
      ]
     },
     "metadata": {},
     "output_type": "display_data"
    },
    {
     "data": {
      "application/vnd.jupyter.widget-view+json": {
       "model_id": "5d5b2322785541d491d850bc561e7c35",
       "version_major": 2,
       "version_minor": 0
      },
      "text/plain": [
       "Canvas(toolbar=Toolbar(toolitems=[('Home', 'Reset original view', 'home', 'home'), ('Back', 'Back to previous …"
      ]
     },
     "metadata": {},
     "output_type": "display_data"
    },
    {
     "data": {
      "application/vnd.jupyter.widget-view+json": {
       "model_id": "942bc47017a440a6a8c2b4f98033756c",
       "version_major": 2,
       "version_minor": 0
      },
      "text/plain": [
       "Canvas(toolbar=Toolbar(toolitems=[('Home', 'Reset original view', 'home', 'home'), ('Back', 'Back to previous …"
      ]
     },
     "metadata": {},
     "output_type": "display_data"
    },
    {
     "data": {
      "application/vnd.jupyter.widget-view+json": {
       "model_id": "162a7677aee048dca3581ba2b91e286b",
       "version_major": 2,
       "version_minor": 0
      },
      "text/plain": [
       "Canvas(toolbar=Toolbar(toolitems=[('Home', 'Reset original view', 'home', 'home'), ('Back', 'Back to previous …"
      ]
     },
     "metadata": {},
     "output_type": "display_data"
    },
    {
     "data": {
      "application/vnd.jupyter.widget-view+json": {
       "model_id": "ecf221e8ea2f4059aec8ff9a8a8b6156",
       "version_major": 2,
       "version_minor": 0
      },
      "text/plain": [
       "Canvas(toolbar=Toolbar(toolitems=[('Home', 'Reset original view', 'home', 'home'), ('Back', 'Back to previous …"
      ]
     },
     "metadata": {},
     "output_type": "display_data"
    },
    {
     "data": {
      "application/vnd.jupyter.widget-view+json": {
       "model_id": "0d841322dc554d81985d156fab27882c",
       "version_major": 2,
       "version_minor": 0
      },
      "text/plain": [
       "Canvas(toolbar=Toolbar(toolitems=[('Home', 'Reset original view', 'home', 'home'), ('Back', 'Back to previous …"
      ]
     },
     "metadata": {},
     "output_type": "display_data"
    },
    {
     "data": {
      "application/vnd.jupyter.widget-view+json": {
       "model_id": "658e072682ed40ef9d9fc52a15853e2b",
       "version_major": 2,
       "version_minor": 0
      },
      "text/plain": [
       "Canvas(toolbar=Toolbar(toolitems=[('Home', 'Reset original view', 'home', 'home'), ('Back', 'Back to previous …"
      ]
     },
     "metadata": {},
     "output_type": "display_data"
    },
    {
     "data": {
      "application/vnd.jupyter.widget-view+json": {
       "model_id": "e3bd4088444e42359640e7b053eec425",
       "version_major": 2,
       "version_minor": 0
      },
      "text/plain": [
       "Canvas(toolbar=Toolbar(toolitems=[('Home', 'Reset original view', 'home', 'home'), ('Back', 'Back to previous …"
      ]
     },
     "metadata": {},
     "output_type": "display_data"
    },
    {
     "data": {
      "application/vnd.jupyter.widget-view+json": {
       "model_id": "e76ad1af34e3402998db3f74f87acece",
       "version_major": 2,
       "version_minor": 0
      },
      "text/plain": [
       "Canvas(toolbar=Toolbar(toolitems=[('Home', 'Reset original view', 'home', 'home'), ('Back', 'Back to previous …"
      ]
     },
     "metadata": {},
     "output_type": "display_data"
    },
    {
     "data": {
      "application/vnd.jupyter.widget-view+json": {
       "model_id": "d4033ae9b2ca4e2592fe10b562b0b9bb",
       "version_major": 2,
       "version_minor": 0
      },
      "text/plain": [
       "Canvas(toolbar=Toolbar(toolitems=[('Home', 'Reset original view', 'home', 'home'), ('Back', 'Back to previous …"
      ]
     },
     "metadata": {},
     "output_type": "display_data"
    },
    {
     "data": {
      "application/vnd.jupyter.widget-view+json": {
       "model_id": "37f6352ee7c54302bc934ad03de2093e",
       "version_major": 2,
       "version_minor": 0
      },
      "text/plain": [
       "Canvas(toolbar=Toolbar(toolitems=[('Home', 'Reset original view', 'home', 'home'), ('Back', 'Back to previous …"
      ]
     },
     "metadata": {},
     "output_type": "display_data"
    },
    {
     "data": {
      "application/vnd.jupyter.widget-view+json": {
       "model_id": "12d0b4f848b94e8f9c9fc60dfab5c628",
       "version_major": 2,
       "version_minor": 0
      },
      "text/plain": [
       "Canvas(toolbar=Toolbar(toolitems=[('Home', 'Reset original view', 'home', 'home'), ('Back', 'Back to previous …"
      ]
     },
     "metadata": {},
     "output_type": "display_data"
    },
    {
     "data": {
      "application/vnd.jupyter.widget-view+json": {
       "model_id": "6dd34dfa6b4d475f968dad3fa8c0b774",
       "version_major": 2,
       "version_minor": 0
      },
      "text/plain": [
       "Canvas(toolbar=Toolbar(toolitems=[('Home', 'Reset original view', 'home', 'home'), ('Back', 'Back to previous …"
      ]
     },
     "metadata": {},
     "output_type": "display_data"
    },
    {
     "data": {
      "application/vnd.jupyter.widget-view+json": {
       "model_id": "39337d7c59bd4b0c8c4964237f0afdc2",
       "version_major": 2,
       "version_minor": 0
      },
      "text/plain": [
       "Canvas(toolbar=Toolbar(toolitems=[('Home', 'Reset original view', 'home', 'home'), ('Back', 'Back to previous …"
      ]
     },
     "metadata": {},
     "output_type": "display_data"
    },
    {
     "data": {
      "application/vnd.jupyter.widget-view+json": {
       "model_id": "4f8f4397004647bc83d86ec18d06de55",
       "version_major": 2,
       "version_minor": 0
      },
      "text/plain": [
       "Canvas(toolbar=Toolbar(toolitems=[('Home', 'Reset original view', 'home', 'home'), ('Back', 'Back to previous …"
      ]
     },
     "metadata": {},
     "output_type": "display_data"
    },
    {
     "data": {
      "application/vnd.jupyter.widget-view+json": {
       "model_id": "bfef9d41fabd4cf1b3b911dd94db5b07",
       "version_major": 2,
       "version_minor": 0
      },
      "text/plain": [
       "Canvas(toolbar=Toolbar(toolitems=[('Home', 'Reset original view', 'home', 'home'), ('Back', 'Back to previous …"
      ]
     },
     "metadata": {},
     "output_type": "display_data"
    },
    {
     "data": {
      "application/vnd.jupyter.widget-view+json": {
       "model_id": "0060daebe048465e911b999fcec8c6a7",
       "version_major": 2,
       "version_minor": 0
      },
      "text/plain": [
       "Canvas(toolbar=Toolbar(toolitems=[('Home', 'Reset original view', 'home', 'home'), ('Back', 'Back to previous …"
      ]
     },
     "metadata": {},
     "output_type": "display_data"
    },
    {
     "data": {
      "application/vnd.jupyter.widget-view+json": {
       "model_id": "3491240a4b694dc08a452c50fa8e0b4a",
       "version_major": 2,
       "version_minor": 0
      },
      "text/plain": [
       "Canvas(toolbar=Toolbar(toolitems=[('Home', 'Reset original view', 'home', 'home'), ('Back', 'Back to previous …"
      ]
     },
     "metadata": {},
     "output_type": "display_data"
    },
    {
     "name": "stderr",
     "output_type": "stream",
     "text": [
      "F:\\GitHub\\2Dcorrelation\\hotznplots.py:361: RuntimeWarning: More than 20 figures have been opened. Figures created through the pyplot interface (`matplotlib.pyplot.figure`) are retained until explicitly closed and may consume too much memory. (To control this warning, see the rcParam `figure.max_open_warning`).\n",
      "  fig = plt.figure(facecolor=backgroundcolor)  # create figure\n"
     ]
    },
    {
     "data": {
      "application/vnd.jupyter.widget-view+json": {
       "model_id": "62319538a1c8453abb4e9366dfcd5809",
       "version_major": 2,
       "version_minor": 0
      },
      "text/plain": [
       "Canvas(toolbar=Toolbar(toolitems=[('Home', 'Reset original view', 'home', 'home'), ('Back', 'Back to previous …"
      ]
     },
     "metadata": {},
     "output_type": "display_data"
    },
    {
     "data": {
      "application/vnd.jupyter.widget-view+json": {
       "model_id": "dd3947ec90a4434899ec17dd6c0fa3c7",
       "version_major": 2,
       "version_minor": 0
      },
      "text/plain": [
       "Canvas(toolbar=Toolbar(toolitems=[('Home', 'Reset original view', 'home', 'home'), ('Back', 'Back to previous …"
      ]
     },
     "metadata": {},
     "output_type": "display_data"
    }
   ],
   "source": [
    "for key in data_all.keys():\n",
    "    plot.mult_func([280], [data_all[key].cd_df], subtitle=[key], y_scaling=False, y_max=[], y_min=[])"
   ]
  },
  {
   "cell_type": "code",
   "execution_count": 91,
   "id": "neural-intellectual",
   "metadata": {},
   "outputs": [
    {
     "ename": "NameError",
     "evalue": "name 'ax' is not defined",
     "output_type": "error",
     "traceback": [
      "\u001b[1;31m---------------------------------------------------------------------------\u001b[0m",
      "\u001b[1;31mNameError\u001b[0m                                 Traceback (most recent call last)",
      "\u001b[1;32m<ipython-input-91-f0aaf1962aa9>\u001b[0m in \u001b[0;36m<module>\u001b[1;34m\u001b[0m\n\u001b[0;32m      8\u001b[0m \u001b[1;33m\u001b[0m\u001b[0m\n\u001b[0;32m      9\u001b[0m \u001b[1;31m# put axis and label\u001b[0m\u001b[1;33m\u001b[0m\u001b[1;33m\u001b[0m\u001b[1;33m\u001b[0m\u001b[0m\n\u001b[1;32m---> 10\u001b[1;33m \u001b[0msecax\u001b[0m \u001b[1;33m=\u001b[0m \u001b[0max\u001b[0m\u001b[1;33m.\u001b[0m\u001b[0msecondary_yaxis\u001b[0m\u001b[1;33m(\u001b[0m\u001b[1;34m'right'\u001b[0m\u001b[1;33m,\u001b[0m \u001b[0mfunctions\u001b[0m\u001b[1;33m=\u001b[0m\u001b[1;33m(\u001b[0m\u001b[0mexpand_back\u001b[0m\u001b[1;33m,\u001b[0m \u001b[0mnorm\u001b[0m\u001b[1;33m)\u001b[0m\u001b[1;33m,\u001b[0m \u001b[0mfontsize\u001b[0m\u001b[1;33m=\u001b[0m\u001b[1;36m16\u001b[0m\u001b[1;33m)\u001b[0m\u001b[1;33m\u001b[0m\u001b[1;33m\u001b[0m\u001b[0m\n\u001b[0m\u001b[0;32m     11\u001b[0m \u001b[0msecax\u001b[0m\u001b[1;33m.\u001b[0m\u001b[0mset_ylabel\u001b[0m\u001b[1;33m(\u001b[0m\u001b[1;34m'Absorption [%]'\u001b[0m\u001b[1;33m,\u001b[0m \u001b[0mfontsize\u001b[0m\u001b[1;33m=\u001b[0m\u001b[1;36m16\u001b[0m\u001b[1;33m)\u001b[0m\u001b[1;33m\u001b[0m\u001b[1;33m\u001b[0m\u001b[0m\n",
      "\u001b[1;31mNameError\u001b[0m: name 'ax' is not defined"
     ]
    }
   ],
   "source": [
    "\n",
    "\n",
    "        # put second y_axis for \"GdmCl_0.5M\" normed\n",
    "        # function to bring back values\n",
    "        def expand_back(y):\n",
    "            return y * (0.523893 - 0.379531) + 0.379531\n",
    "        # inverse function\n",
    "        def norm(y):\n",
    "            return (y - 0.379531) / (0.523893 - 0.379531)\n",
    "\n",
    "        # put axis and label\n",
    "        secax = ax.secondary_yaxis('right', functions=(expand_back, norm), fontsize=16)\n",
    "        secax.set_ylabel('Absorption [%]', fontsize=16)"
   ]
  },
  {
   "cell_type": "code",
   "execution_count": 92,
   "id": "essential-justice",
   "metadata": {},
   "outputs": [],
   "source": [
    "df = data_all[\"Control_0M\"].cd_df\n",
    "mean = df.mean(axis=1)\n",
    "var =  df.var(axis=1)\n",
    "dyn = df.subtract(mean, axis=0)\n",
    "\n",
    "col = dyn.columns \n",
    "idx = dyn.index\n",
    "m = len(col)\n",
    "n =len(idx)"
   ]
  },
  {
   "cell_type": "code",
   "execution_count": 93,
   "id": "becoming-sweden",
   "metadata": {},
   "outputs": [
    {
     "name": "stdout",
     "output_type": "stream",
     "text": [
      "-350445804058466.8\n"
     ]
    }
   ],
   "source": [
    "wave1 =  247\n",
    "wave2 = 260\n",
    "i = 20\n",
    "\n",
    "print(np.sum((dyn.loc[wave1, :]/mean[wave1] - dyn.loc[wave2, :]/mean[wave2]) * col) * np.sqrt(var.loc[wave1]*var.loc[wave2])/(m*(m-1)) )\n"
   ]
  },
  {
   "cell_type": "code",
   "execution_count": 94,
   "id": "incoming-translation",
   "metadata": {},
   "outputs": [
    {
     "name": "stdout",
     "output_type": "stream",
     "text": [
      "wavelength           200           201           202           203  \\\n",
      "wavelength                                                           \n",
      "200         0.000000e+00 -1.743420e+15 -1.667456e+15 -1.257728e+15   \n",
      "201         1.743420e+15  0.000000e+00 -2.310991e+14 -2.114902e+14   \n",
      "202         1.667456e+15  2.310991e+14  0.000000e+00 -3.555689e+13   \n",
      "203         1.257728e+15  2.114902e+14  3.555689e+13  0.000000e+00   \n",
      "204         9.169022e+14  2.191938e+14  8.810304e+13  4.690230e+13   \n",
      "205         1.440641e+15  6.573357e+14  4.377300e+14  2.994507e+14   \n",
      "206        -1.252037e+15 -1.064926e+15 -8.525612e+14 -6.163714e+14   \n",
      "207        -2.493111e+14 -4.654824e+14 -4.121528e+14 -3.055623e+14   \n",
      "208         1.696394e+14 -2.016714e+14 -2.153706e+14 -1.660672e+14   \n",
      "209         3.413023e+14 -1.367481e+14 -1.760310e+14 -1.400546e+14   \n",
      "210         2.333811e+14 -2.366422e+14 -2.572670e+14 -1.990280e+14   \n",
      "211        -3.176973e+14 -6.298539e+14 -5.602973e+14 -4.158465e+14   \n",
      "212        -7.790012e+14 -9.058333e+14 -7.631035e+14 -5.589823e+14   \n",
      "213        -2.177367e+15 -1.823165e+15 -1.455105e+15 -1.051126e+15   \n",
      "214        -4.683862e+15 -3.380605e+15 -2.612435e+15 -1.870628e+15   \n",
      "215         2.136120e+16  1.325273e+16  9.843739e+15  6.969429e+15   \n",
      "216         4.744917e+15  2.702791e+15  1.956062e+15  1.374238e+15   \n",
      "217         2.932154e+15  1.595294e+15  1.137111e+15  7.951751e+14   \n",
      "218         1.859169e+15  9.659858e+14  6.774535e+14  4.713446e+14   \n",
      "219         1.234954e+15  6.180141e+14  4.273864e+14  2.960348e+14   \n",
      "220         9.218420e+14  4.503081e+14  3.084924e+14  2.130322e+14   \n",
      "221         6.458453e+14  3.064754e+14  2.075116e+14  1.427498e+14   \n",
      "222         4.730320e+14  2.169719e+14  1.448152e+14  9.914428e+13   \n",
      "223         4.393405e+14  1.922884e+14  1.256732e+14  8.542427e+13   \n",
      "224         4.401845e+14  1.851238e+14  1.187089e+14  8.015321e+13   \n",
      "225         4.152535e+14  1.655718e+14  1.033136e+14  6.907247e+13   \n",
      "226         3.897584e+14  1.501975e+14  9.198862e+13  6.107396e+13   \n",
      "227         3.520572e+14  1.337250e+14  8.123133e+13  5.376389e+13   \n",
      "228         2.669375e+14  9.440343e+13  5.490615e+13  3.572243e+13   \n",
      "229         2.619790e+14  1.021171e+14  6.294102e+13  4.188870e+13   \n",
      "230         1.965396e+14  4.635660e+13  1.828443e+13  9.600561e+12   \n",
      "231         2.741839e+14  6.985561e+13  3.046739e+13  1.713423e+13   \n",
      "232         3.397094e+14  8.198523e+13  3.338278e+13  1.793598e+13   \n",
      "233         4.387962e+14  9.995028e+13  3.743058e+13  1.887623e+13   \n",
      "234         5.487235e+14  1.409777e+14  6.209895e+13  3.513900e+13   \n",
      "235         6.335145e+14  1.552037e+14  6.446563e+13  3.511605e+13   \n",
      "236         7.689994e+14  2.020453e+14  9.130699e+13  5.247287e+13   \n",
      "237         8.932023e+14  2.409145e+14  1.120189e+14  6.544691e+13   \n",
      "238         9.924617e+14  2.583283e+14  1.155166e+14  6.596858e+13   \n",
      "239         1.087656e+15  2.777492e+14  1.214728e+14  6.843125e+13   \n",
      "240         1.155692e+15  2.795824e+14  1.142075e+14  6.150044e+13   \n",
      "241         1.227320e+15  2.909150e+14  1.155517e+14  6.098694e+13   \n",
      "242         1.267956e+15  2.774888e+14  9.732404e+13  4.637162e+13   \n",
      "243         1.309031e+15  2.644338e+14  7.939321e+13  3.197088e+13   \n",
      "244         1.374151e+15  2.805878e+14  8.621135e+13  3.572505e+13   \n",
      "245         1.432711e+15  2.970461e+14  9.419005e+13  4.049448e+13   \n",
      "246         1.501752e+15  3.335311e+14  1.199336e+14  5.844013e+13   \n",
      "247         1.473540e+15  3.010251e+14  9.258366e+13  3.841219e+13   \n",
      "248         1.434649e+15  2.777727e+14  7.549960e+13  2.635533e+13   \n",
      "249         1.346713e+15  2.495144e+14  6.012889e+13  1.663665e+13   \n",
      "250         1.307422e+15  2.710170e+14  8.590282e+13  3.691525e+13   \n",
      "251         1.216788e+15  2.712281e+14  9.811874e+13  4.806218e+13   \n",
      "252         1.107213e+15  2.649551e+14  1.066438e+14  5.682904e+13   \n",
      "253         9.682491e+14  2.506591e+14  1.113911e+14  6.337309e+13   \n",
      "254         8.194606e+14  2.286771e+14  1.100895e+14  6.556407e+13   \n",
      "255         6.730083e+14  2.063509e+14  1.081491e+14  6.722344e+13   \n",
      "256         5.464838e+14  1.712031e+14  9.130425e+13  5.721573e+13   \n",
      "257         4.458067e+14  1.342848e+14  6.933977e+13  4.279521e+13   \n",
      "258         4.099198e+14  1.133577e+14  5.408156e+13  3.205150e+13   \n",
      "259         5.892027e+13 -1.290804e+14 -1.312663e+14 -1.002679e+14   \n",
      "260         1.371675e+15  6.948459e+14  4.827474e+14  3.348771e+14   \n",
      "261         1.224022e+15  5.848734e+14  3.971388e+14  2.734528e+14   \n",
      "262         1.187007e+15  5.575267e+14  3.758903e+14  2.582147e+14   \n",
      "263         1.223587e+15  5.730878e+14  3.859244e+14  2.650033e+14   \n",
      "264         1.228421e+15  5.720594e+14  3.843001e+14  2.636750e+14   \n",
      "265         1.238109e+15  5.800566e+14  3.906647e+14  2.682691e+14   \n",
      "266         1.227973e+15  5.751762e+14  3.873406e+14  2.659779e+14   \n",
      "267         1.209447e+15  5.664105e+14  3.814125e+14  2.619015e+14   \n",
      "268         1.198532e+15  5.607296e+14  3.774259e+14  2.591273e+14   \n",
      "269         1.173318e+15  5.464926e+14  3.671515e+14  2.519152e+14   \n",
      "270         1.166714e+15  5.400217e+14  3.618379e+14  2.480481e+14   \n",
      "271         1.169101e+15  5.380286e+14  3.596152e+14  2.463206e+14   \n",
      "272         1.141220e+15  5.226533e+14  3.486057e+14  2.386109e+14   \n",
      "273         1.095358e+15  5.011033e+14  3.340739e+14  2.286278e+14   \n",
      "274         1.039339e+15  4.747909e+14  3.163336e+14  2.164413e+14   \n",
      "275         1.011981e+15  4.604990e+14  3.062908e+14  2.094495e+14   \n",
      "276         9.890372e+14  4.464640e+14  2.959087e+14  2.021077e+14   \n",
      "277         9.857054e+14  4.409579e+14  2.910842e+14  1.985398e+14   \n",
      "278         9.974374e+14  4.409392e+14  2.895112e+14  1.971031e+14   \n",
      "279         9.911428e+14  4.338787e+14  2.835927e+14  1.927731e+14   \n",
      "280         9.864108e+14  4.275677e+14  2.781839e+14  1.887943e+14   \n",
      "281         9.894340e+14  4.223449e+14  2.727879e+14  1.846598e+14   \n",
      "282         9.763974e+14  4.098108e+14  2.625280e+14  1.771989e+14   \n",
      "283         9.526332e+14  3.943389e+14  2.508803e+14  1.689200e+14   \n",
      "284         8.944593e+14  3.673092e+14  2.327396e+14  1.564774e+14   \n",
      "285         8.243529e+14  3.373196e+14  2.133497e+14  1.433469e+14   \n",
      "286         7.401117e+14  3.025519e+14  1.912635e+14  1.284841e+14   \n",
      "287         6.572345e+14  2.686356e+14  1.698108e+14  1.140700e+14   \n",
      "288         5.706208e+14  2.361231e+14  1.501960e+14  1.011219e+14   \n",
      "289         5.019764e+14  2.103652e+14  1.346596e+14  9.086690e+13   \n",
      "290         4.240797e+14  1.792135e+14  1.151908e+14  7.784305e+13   \n",
      "291         3.437178e+14  1.479241e+14  9.591717e+13  6.501896e+13   \n",
      "292         2.795316e+14  1.211528e+14  7.882060e+13  5.349206e+13   \n",
      "293         2.155297e+14  9.389317e+13  6.123248e+13  4.159047e+13   \n",
      "294         1.754805e+14  7.589051e+13  4.932296e+13  3.346137e+13   \n",
      "295         1.545630e+14  6.565520e+13  4.230635e+13  2.861493e+13   \n",
      "296         1.390050e+14  5.839942e+13  3.742902e+13  2.526782e+13   \n",
      "297         1.241661e+14  5.018351e+13  3.153806e+13  2.114081e+13   \n",
      "298         1.097162e+14  4.054319e+13  2.423319e+13  1.593902e+13   \n",
      "299         9.016156e+13  2.883272e+13  1.562505e+13  9.863054e+12   \n",
      "300         7.619973e+13  2.251326e+13  1.143165e+13  6.997780e+12   \n",
      "301         6.107740e+13  1.152948e+13  2.930997e+12  9.083759e+11   \n",
      "302         4.584028e+13  1.160540e+12 -4.966386e+12 -4.723546e+12   \n",
      "303         3.575024e+13 -4.012230e+12 -8.576281e+12 -7.231257e+12   \n",
      "304         1.097188e+13 -1.636019e+13 -1.710172e+13 -1.313345e+13   \n",
      "305         1.344840e+13 -1.564836e+13 -1.674918e+13 -1.292034e+13   \n",
      "306        -2.033400e+14 -1.553031e+14 -1.215825e+14 -8.737119e+13   \n",
      "307        -8.246711e+13 -7.979383e+13 -6.538560e+13 -4.756052e+13   \n",
      "308        -4.214447e+13 -5.353076e+13 -4.561185e+13 -3.350541e+13   \n",
      "309        -5.545715e+11 -2.434815e+13 -2.321374e+13 -1.749783e+13   \n",
      "310        -1.449625e+13 -2.983484e+13 -2.661332e+13 -1.976478e+13   \n",
      "311        -3.335332e+13 -4.024503e+13 -3.407031e+13 -2.498733e+13   \n",
      "312        -4.853802e+13 -5.088765e+13 -4.223640e+13 -3.082304e+13   \n",
      "313        -6.023917e+13 -5.703646e+13 -4.656625e+13 -3.383945e+13   \n",
      "314        -3.001812e+14 -2.145131e+14 -1.653758e+14 -1.183386e+14   \n",
      "315        -2.028620e+15 -1.316355e+15 -9.900947e+14 -7.035503e+14   \n",
      "316        -3.004436e+15 -1.937670e+15 -1.454988e+15 -1.033402e+15   \n",
      "317        -1.961787e+14 -1.431967e+14 -1.109529e+14 -7.950621e+13   \n",
      "318        -2.023696e+13 -3.220932e+13 -2.812337e+13 -2.078137e+13   \n",
      "319        -7.126245e+11 -2.203389e+13 -2.097937e+13 -1.580912e+13   \n",
      "320        -1.288618e+13 -3.153940e+13 -2.845703e+13 -2.118978e+13   \n",
      "321        -1.498182e+13 -3.140664e+13 -2.805226e+13 -2.083979e+13   \n",
      "322        -6.581481e+13 -6.436065e+13 -5.283223e+13 -3.844686e+13   \n",
      "323        -1.235272e+14 -9.793244e+13 -7.729115e+13 -5.566507e+13   \n",
      "324        -2.540150e+14 -1.796229e+14 -1.381253e+14 -9.876854e+13   \n",
      "325         3.304314e+14  1.961748e+14  1.438266e+14  1.014394e+14   \n",
      "326         6.982323e+14  4.289519e+14  3.177073e+14  2.247511e+14   \n",
      "327        -5.364866e+14 -3.590289e+14 -2.722712e+14 -1.939286e+14   \n",
      "328        -2.839103e+14 -1.988483e+14 -1.525503e+14 -1.090115e+14   \n",
      "329        -1.628387e+14 -1.207734e+14 -9.392599e+13 -6.737412e+13   \n",
      "330        -1.490142e+14 -1.124586e+14 -8.780590e+13 -6.305266e+13   \n",
      "\n",
      "wavelength           204           205           206           207  \\\n",
      "wavelength                                                           \n",
      "200        -9.169022e+14 -1.440641e+15  1.252037e+15  2.493111e+14   \n",
      "201        -2.191938e+14 -6.573357e+14  1.064926e+15  4.654824e+14   \n",
      "202        -8.810304e+13 -4.377300e+14  8.525612e+14  4.121528e+14   \n",
      "203        -4.690230e+13 -2.994507e+14  6.163714e+14  3.055623e+14   \n",
      "204         0.000000e+00 -1.645806e+14  4.026536e+14  2.134622e+14   \n",
      "205         1.645806e+14  0.000000e+00  4.079151e+14  2.906423e+14   \n",
      "206        -4.026536e+14 -4.079151e+14  0.000000e+00 -1.820003e+14   \n",
      "207        -2.134622e+14 -2.906423e+14  1.820003e+14  0.000000e+00   \n",
      "208        -1.273914e+14 -2.306076e+14  2.484504e+14  7.413191e+13   \n",
      "209        -1.148294e+14 -2.416830e+14  3.066818e+14  1.106807e+14   \n",
      "210        -1.537973e+14 -2.835381e+14  3.124997e+14  9.615141e+13   \n",
      "211        -2.913108e+14 -4.006832e+14  2.582716e+14  5.246634e+12   \n",
      "212        -3.784562e+14 -4.548042e+14  1.746898e+14 -7.845325e+13   \n",
      "213        -6.850894e+14 -6.855860e+14 -2.068660e+13 -3.206286e+14   \n",
      "214        -1.189048e+15 -1.027501e+15 -4.332440e+14 -7.671316e+14   \n",
      "215         4.284228e+15  2.897139e+15  3.530536e+15  3.808153e+15   \n",
      "216         8.248950e+14  4.443835e+14  9.573094e+14  8.803609e+14   \n",
      "217         4.703503e+14  2.127056e+14  6.453759e+14  5.547380e+14   \n",
      "218         2.742863e+14  9.724583e+13  4.419059e+14  3.582494e+14   \n",
      "219         1.697606e+14  4.505890e+13  3.105154e+14  2.413484e+14   \n",
      "220         1.209269e+14  2.453365e+13  2.396963e+14  1.817315e+14   \n",
      "221         7.998227e+13  9.741635e+12  1.744038e+14  1.286103e+14   \n",
      "222         5.463764e+13  9.393970e+11  1.331218e+14  9.526936e+13   \n",
      "223         4.589196e+13 -6.754367e+12  1.302687e+14  8.980372e+13   \n",
      "224         4.201780e+13 -1.299295e+13  1.359295e+14  9.105361e+13   \n",
      "225         3.486949e+13 -1.974938e+13  1.347422e+14  8.719313e+13   \n",
      "226         2.998921e+13 -2.284101e+13  1.302102e+14  8.258464e+13   \n",
      "227         2.606599e+13 -2.223797e+13  1.190111e+14  7.487424e+13   \n",
      "228         1.608773e+13 -2.263719e+13  9.525653e+13  5.777085e+13   \n",
      "229         2.076794e+13 -1.439360e+13  8.668818e+13  5.534390e+13   \n",
      "230        -3.302662e+11 -3.579705e+13  8.676050e+13  4.584580e+13   \n",
      "231         2.266433e+12 -4.565397e+13  1.173118e+14  6.321597e+13   \n",
      "232         4.073953e+11 -6.033647e+13  1.486256e+14  7.897630e+13   \n",
      "233        -2.602227e+12 -8.285093e+13  1.962488e+14  1.028628e+14   \n",
      "234         5.154238e+12 -9.039548e+13  2.339314e+14  1.263458e+14   \n",
      "235         1.975542e+12 -1.106095e+14  2.755075e+14  1.469501e+14   \n",
      "236         9.576504e+12 -1.229859e+14  3.246260e+14  1.764253e+14   \n",
      "237         1.440309e+13 -1.376963e+14  3.725784e+14  2.040284e+14   \n",
      "238         1.108188e+13 -1.607313e+14  4.207028e+14  2.280398e+14   \n",
      "239         9.327266e+12 -1.805753e+14  4.649031e+14  2.506790e+14   \n",
      "240         1.737471e+12 -2.047125e+14  5.051446e+14  2.685820e+14   \n",
      "241        -1.307996e+12 -2.223546e+14  5.407585e+14  2.860857e+14   \n",
      "242        -1.347814e+13 -2.487704e+14  5.752221e+14  2.988553e+14   \n",
      "243        -2.550821e+13 -2.750449e+14  6.096870e+14  3.116888e+14   \n",
      "244        -2.519977e+13 -2.862490e+14  6.378629e+14  3.267654e+14   \n",
      "245        -2.390659e+13 -2.947285e+14  6.618136e+14  3.400471e+14   \n",
      "246        -1.339857e+13 -2.906109e+14  6.777838e+14  3.532632e+14   \n",
      "247        -2.694714e+13 -3.068344e+14  6.838950e+14  3.503790e+14   \n",
      "248        -3.428649e+13 -3.113853e+14  6.768384e+14  3.433205e+14   \n",
      "249        -3.809230e+13 -3.015808e+14  6.434186e+14  3.238832e+14   \n",
      "250        -2.184370e+13 -2.689984e+14  6.039766e+14  3.103179e+14   \n",
      "251        -1.033755e+13 -2.346513e+14  5.484630e+14  2.860888e+14   \n",
      "252         1.398037e+11 -1.985210e+14  4.860369e+14  2.577301e+14   \n",
      "253         1.009265e+13 -1.579395e+14  4.114208e+14  2.226719e+14   \n",
      "254         1.723842e+13 -1.200051e+14  3.363234e+14  1.860898e+14   \n",
      "255         2.390952e+13 -8.323577e+13  2.629001e+14  1.501806e+14   \n",
      "256         2.133202e+13 -6.457487e+13  2.108570e+14  1.214255e+14   \n",
      "257         1.457362e+13 -5.712251e+13  1.758737e+14  9.982472e+13   \n",
      "258         8.079573e+12 -6.088442e+13  1.689818e+14  9.323573e+13   \n",
      "259        -7.529400e+13 -1.288782e+14  1.286891e+14  3.419000e+13   \n",
      "260         1.929787e+14  5.699836e+13  3.388513e+14  2.668650e+14   \n",
      "261         1.537057e+14  2.179558e+13  3.276378e+14  2.431687e+14   \n",
      "262         1.439773e+14  1.315430e+13  3.246670e+14  2.371965e+14   \n",
      "263         1.475621e+14  1.222080e+13  3.358359e+14  2.447379e+14   \n",
      "264         1.464135e+14  9.548460e+12  3.395271e+14  2.461756e+14   \n",
      "265         1.494014e+14  1.250405e+13  3.397016e+14  2.476186e+14   \n",
      "266         1.481091e+14  1.229308e+13  3.370148e+14  2.456101e+14   \n",
      "267         1.458282e+14  1.203462e+13  3.319939e+14  2.419174e+14   \n",
      "268         1.442128e+14  1.145566e+13  3.294065e+14  2.398155e+14   \n",
      "269         1.398953e+14  9.197839e+12  3.242294e+14  2.351195e+14   \n",
      "270         1.373224e+14  6.340601e+12  3.248427e+14  2.342817e+14   \n",
      "271         1.359740e+14  3.793617e+12  3.277322e+14  2.352040e+14   \n",
      "272         1.313932e+14  1.600743e+12  3.217435e+14  2.299587e+14   \n",
      "273         1.258257e+14  1.085260e+12  3.092056e+14  2.207953e+14   \n",
      "274         1.190305e+14  4.638370e+11  2.938840e+14  2.096013e+14   \n",
      "275         1.149537e+14 -1.031163e+12  2.874370e+14  2.043407e+14   \n",
      "276         1.104570e+14 -3.978006e+12  2.835015e+14  2.002219e+14   \n",
      "277         1.079801e+14 -7.271614e+12  2.854206e+14  2.001197e+14   \n",
      "278         1.064953e+14 -1.171049e+13  2.926002e+14  2.032547e+14   \n",
      "279         1.035734e+14 -1.517146e+13  2.938258e+14  2.025838e+14   \n",
      "280         1.008492e+14 -1.860235e+13  2.954677e+14  2.022229e+14   \n",
      "281         9.772237e+13 -2.405794e+13  3.010650e+14  2.037769e+14   \n",
      "282         9.276946e+13 -2.949995e+13  3.021033e+14  2.020886e+14   \n",
      "283         8.762023e+13 -3.332487e+13  2.986987e+14  1.979562e+14   \n",
      "284         8.071872e+13 -3.372655e+13  2.825759e+14  1.862894e+14   \n",
      "285         7.376078e+13 -3.207505e+13  2.612901e+14  1.718600e+14   \n",
      "286         6.606705e+13 -2.904248e+13  2.348018e+14  1.543399e+14   \n",
      "287         5.864957e+13 -2.582072e+13  2.085353e+14  1.370623e+14   \n",
      "288         5.244017e+13 -2.003010e+13  1.789782e+14  1.185863e+14   \n",
      "289         4.752394e+13 -1.543310e+13  1.555465e+14  1.039421e+14   \n",
      "290         4.093424e+13 -1.180469e+13  1.303367e+14  8.759890e+13   \n",
      "291         3.458208e+13 -7.360560e+12  1.037201e+14  7.061719e+13   \n",
      "292         2.857239e+13 -5.281823e+12  8.373927e+13  5.730820e+13   \n",
      "293         2.228268e+13 -3.676154e+12  6.422179e+13  4.411826e+13   \n",
      "294         1.784993e+13 -3.452223e+12  5.268730e+13  3.599978e+13   \n",
      "295         1.509684e+13 -4.023267e+12  4.726082e+13  3.187859e+13   \n",
      "296         1.323693e+13 -4.152957e+12  4.296830e+13  2.876227e+13   \n",
      "297         1.078164e+13 -5.347188e+12  3.980458e+13  2.597527e+13   \n",
      "298         7.528318e+12 -7.865133e+12  3.790143e+13  2.349583e+13   \n",
      "299         3.828069e+12 -1.016899e+13  3.436680e+13  1.994946e+13   \n",
      "300         2.259897e+12 -1.012681e+13  3.037687e+13  1.712543e+13   \n",
      "301        -1.615435e+12 -1.350135e+13  2.902776e+13  1.465856e+13   \n",
      "302        -5.152976e+12 -1.632454e+13  2.716699e+13  1.207311e+13   \n",
      "303        -6.604863e+12 -1.679462e+13  2.471855e+13  1.011884e+13   \n",
      "304        -9.983629e+12 -1.765573e+13  1.845097e+13  5.268950e+12   \n",
      "305        -9.920625e+12 -1.800127e+13  1.945249e+13  5.828373e+12   \n",
      "306        -5.611205e+13 -5.166471e+13 -1.267448e+13 -3.208200e+13   \n",
      "307        -3.159700e+13 -3.484280e+13  6.930867e+12 -1.060759e+13   \n",
      "308        -2.285431e+13 -2.834401e+13  1.270017e+13 -3.597349e+12   \n",
      "309        -1.273549e+13 -1.991052e+13  1.714687e+13  3.333747e+12   \n",
      "310        -1.386823e+13 -1.918779e+13  1.257120e+13  3.960099e+11   \n",
      "311        -1.697234e+13 -2.068021e+13  8.528884e+12 -3.150042e+12   \n",
      "312        -2.066040e+13 -2.374931e+13  6.896665e+12 -5.682357e+12   \n",
      "313        -2.242305e+13 -2.441848e+13  4.165073e+12 -7.927202e+12   \n",
      "314        -7.507639e+13 -6.407893e+13 -2.930590e+13 -4.947088e+13   \n",
      "315        -4.372485e+14 -3.228769e+14 -2.937936e+14 -3.533886e+14   \n",
      "316        -6.413256e+14 -4.683685e+14 -4.436500e+14 -5.250765e+14   \n",
      "317        -5.064542e+13 -4.436095e+13 -1.699432e+13 -3.190118e+13   \n",
      "318        -1.439525e+13 -1.898542e+13  1.076985e+13 -7.971720e+11   \n",
      "319        -1.149850e+13 -1.793858e+13  1.538834e+13  2.960606e+12   \n",
      "320        -1.496712e+13 -2.120337e+13  1.477880e+13  1.069642e+12   \n",
      "321        -1.463382e+13 -2.030353e+13  1.340338e+13  4.911338e+11   \n",
      "322        -2.557400e+13 -2.836846e+13  6.019192e+12 -8.368495e+12   \n",
      "323        -3.597416e+13 -3.435008e+13 -5.123448e+12 -1.897653e+13   \n",
      "324        -6.253115e+13 -5.265446e+13 -2.616282e+13 -4.213414e+13   \n",
      "325         6.162860e+13  3.751990e+13  6.095322e+13  6.016991e+13   \n",
      "326         1.378089e+14  9.119573e+13  1.184467e+14  1.250831e+14   \n",
      "327        -1.213705e+14 -9.440049e+13 -6.986345e+13 -9.189704e+13   \n",
      "328        -6.888361e+13 -5.726937e+13 -3.061691e+13 -4.736674e+13   \n",
      "329        -4.304424e+13 -3.840235e+13 -1.273267e+13 -2.620617e+13   \n",
      "330        -4.040937e+13 -3.674386e+13 -1.025967e+13 -2.370417e+13   \n",
      "\n",
      "wavelength           208           209  ...           321           322  \\\n",
      "wavelength                              ...                               \n",
      "200        -1.696394e+14 -3.413023e+14  ...  1.498182e+13  6.581481e+13   \n",
      "201         2.016714e+14  1.367481e+14  ...  3.140664e+13  6.436065e+13   \n",
      "202         2.153706e+14  1.760310e+14  ...  2.805226e+13  5.283223e+13   \n",
      "203         1.660672e+14  1.400546e+14  ...  2.083979e+13  3.844686e+13   \n",
      "204         1.273914e+14  1.148294e+14  ...  1.463382e+13  2.557400e+13   \n",
      "205         2.306076e+14  2.416830e+14  ...  2.030353e+13  2.836846e+13   \n",
      "206        -2.484504e+14 -3.066818e+14  ... -1.340338e+13 -6.019192e+12   \n",
      "207        -7.413191e+13 -1.106807e+14  ... -4.911338e+11  8.368495e+12   \n",
      "208         0.000000e+00 -2.617444e+13  ...  4.788981e+12  1.387564e+13   \n",
      "209         2.617444e+13  0.000000e+00  ...  7.323474e+12  1.776192e+13   \n",
      "210         3.970613e+12 -2.802084e+13  ...  6.237765e+12  1.754890e+13   \n",
      "211        -9.803631e+13 -1.482230e+14  ... -3.105669e+11  1.204902e+13   \n",
      "212        -1.782515e+14 -2.384336e+14  ... -6.249084e+12  5.437712e+12   \n",
      "213        -4.292672e+14 -5.276990e+14  ... -2.355682e+13 -1.155515e+13   \n",
      "214        -8.707508e+14 -1.029194e+15  ... -5.532616e+13 -4.529175e+13   \n",
      "215         3.760498e+15  4.269934e+15  ...  2.709236e+14  2.882813e+14   \n",
      "216         8.118603e+14  9.012899e+14  ...  6.225072e+13  7.313340e+13   \n",
      "217         4.944053e+14  5.422926e+14  ...  3.911203e+13  4.802135e+13   \n",
      "218         3.090536e+14  3.349341e+14  ...  2.519072e+13  3.216731e+13   \n",
      "219         2.029886e+14  2.178518e+14  ...  1.693613e+13  2.225968e+13   \n",
      "220         1.504509e+14  1.604612e+14  ...  1.273676e+13  1.703170e+13   \n",
      "221         1.045295e+14  1.106554e+14  ...  9.000853e+12  1.227266e+13   \n",
      "222         7.583026e+13  7.957877e+13  ...  6.656863e+12  9.271821e+12   \n",
      "223         6.953120e+13  7.210393e+13  ...  6.262047e+12  8.959868e+12   \n",
      "224         6.893169e+13  7.076754e+13  ...  6.338819e+12  9.261493e+12   \n",
      "225         6.414532e+13  6.498442e+13  ...  6.057719e+12  9.079226e+12   \n",
      "226         5.970019e+13  5.997490e+13  ...  5.730556e+12  8.718426e+12   \n",
      "227         5.373626e+13  5.379299e+13  ...  5.192947e+12  7.948482e+12   \n",
      "228         4.006389e+13  3.941866e+13  ...  3.997472e+12  6.290581e+12   \n",
      "229         4.024087e+13  4.053981e+13  ...  3.841862e+12  5.816337e+12   \n",
      "230         2.724548e+13  2.449095e+13  ...  3.142181e+12  5.505538e+12   \n",
      "231         3.851355e+13  3.518142e+13  ...  4.338960e+12  7.484783e+12   \n",
      "232         4.727350e+13  4.269558e+13  ...  5.415126e+12  9.445841e+12   \n",
      "233         6.048349e+13  5.398457e+13  ...  7.045735e+12  1.242558e+13   \n",
      "234         7.719148e+13  7.063867e+13  ...  8.673443e+12  1.493488e+13   \n",
      "235         8.838396e+13  8.007436e+13  ...  1.007865e+13  1.752802e+13   \n",
      "236         1.086141e+14  9.987134e+13  ...  1.211680e+13  2.076133e+13   \n",
      "237         1.267634e+14  1.172227e+14  ...  1.402022e+13  2.387912e+13   \n",
      "238         1.399397e+14  1.284173e+14  ...  1.565868e+13  2.688603e+13   \n",
      "239         1.528412e+14  1.396860e+14  ...  1.720666e+13  2.966712e+13   \n",
      "240         1.608896e+14  1.453813e+14  ...  1.841653e+13  3.210955e+13   \n",
      "241         1.702780e+14  1.532182e+14  ...  1.960949e+13  3.432599e+13   \n",
      "242         1.736722e+14  1.537771e+14  ...  2.045689e+13  3.633296e+13   \n",
      "243         1.771532e+14  1.544432e+14  ...  2.130901e+13  3.834212e+13   \n",
      "244         1.862578e+14  1.627133e+14  ...  2.234329e+13  4.013628e+13   \n",
      "245         1.946333e+14  1.705286e+14  ...  2.325679e+13  4.167681e+13   \n",
      "246         2.061697e+14  1.830865e+14  ...  2.418699e+13  4.284822e+13   \n",
      "247         1.997433e+14  1.745100e+14  ...  2.395809e+13  4.303383e+13   \n",
      "248         1.929821e+14  1.669075e+14  ...  2.345732e+13  4.247592e+13   \n",
      "249         1.800604e+14  1.544781e+14  ...  2.211604e+13  4.029642e+13   \n",
      "250         1.776077e+14  1.556057e+14  ...  2.122346e+13  3.803421e+13   \n",
      "251         1.671440e+14  1.485380e+14  ...  1.958892e+13  3.468035e+13   \n",
      "252         1.538585e+14  1.387153e+14  ...  1.766890e+13  3.087206e+13   \n",
      "253         1.363927e+14  1.250168e+14  ...  1.528841e+13  2.628170e+13   \n",
      "254         1.170426e+14  1.090429e+14  ...  1.279697e+13  2.161881e+13   \n",
      "255         9.792920e+13  9.318501e+13  ...  1.035058e+13  1.705516e+13   \n",
      "256         7.987342e+13  7.638011e+13  ...  8.373360e+12  1.371118e+13   \n",
      "257         6.463527e+13  6.125597e+13  ...  6.876976e+12  1.138823e+13   \n",
      "258         5.844776e+13  5.434432e+13  ...  6.410328e+12  1.085343e+13   \n",
      "259        -5.744224e+12 -2.064804e+13  ...  2.170645e+12  7.047956e+12   \n",
      "260         2.262798e+14  2.436168e+14  ...  1.873883e+13  2.440648e+13   \n",
      "261         1.984993e+14  2.105065e+14  ...  1.702398e+13  2.310718e+13   \n",
      "262         1.915567e+14  2.022496e+14  ...  1.659218e+13  2.277307e+13   \n",
      "263         1.973023e+14  2.081652e+14  ...  1.711742e+13  2.353603e+13   \n",
      "264         1.977614e+14  2.083430e+14  ...  1.721334e+13  2.375331e+13   \n",
      "265         1.996602e+14  2.106685e+14  ...  1.731914e+13  2.380905e+13   \n",
      "266         1.980128e+14  2.089180e+14  ...  1.717848e+13  2.361909e+13   \n",
      "267         1.950169e+14  2.057489e+14  ...  1.692007e+13  2.326610e+13   \n",
      "268         1.932015e+14  2.037806e+14  ...  1.677226e+13  2.307761e+13   \n",
      "269         1.888996e+14  1.990158e+14  ...  1.644040e+13  2.268426e+13   \n",
      "270         1.875060e+14  1.972310e+14  ...  1.637704e+13  2.268475e+13   \n",
      "271         1.875882e+14  1.970281e+14  ...  1.643717e+13  2.284811e+13   \n",
      "272         1.828670e+14  1.918312e+14  ...  1.606704e+13  2.239927e+13   \n",
      "273         1.754649e+14  1.840151e+14  ...  1.542603e+13  2.151972e+13   \n",
      "274         1.664246e+14  1.744701e+14  ...  1.464300e+13  2.044500e+13   \n",
      "275         1.618694e+14  1.695264e+14  ...  1.427298e+13  1.997459e+13   \n",
      "276         1.578497e+14  1.649792e+14  ...  1.398027e+13  1.965741e+13   \n",
      "277         1.569285e+14  1.636400e+14  ...  1.396757e+13  1.974227e+13   \n",
      "278         1.582838e+14  1.645565e+14  ...  1.417907e+13  2.017608e+13   \n",
      "279         1.568687e+14  1.626806e+14  ...  1.412635e+13  2.021024e+13   \n",
      "280         1.557072e+14  1.610740e+14  ...  1.409534e+13  2.027380e+13   \n",
      "281         1.555488e+14  1.602886e+14  ...  1.419468e+13  2.058257e+13   \n",
      "282         1.528211e+14  1.568123e+14  ...  1.406755e+13  2.057447e+13   \n",
      "283         1.485667e+14  1.519195e+14  ...  1.377241e+13  2.028126e+13   \n",
      "284         1.392074e+14  1.420650e+14  ...  1.295672e+13  1.915407e+13   \n",
      "285         1.281797e+14  1.306952e+14  ...  1.195150e+13  1.769812e+13   \n",
      "286         1.150520e+14  1.172813e+14  ...  1.073272e+13  1.590074e+13   \n",
      "287         1.021650e+14  1.041410e+14  ...  9.531194e+12  1.412157e+13   \n",
      "288         8.898236e+13  9.098245e+13  ...  8.250292e+12  1.215147e+13   \n",
      "289         7.853556e+13  8.055569e+13  ...  7.235053e+12  1.058975e+13   \n",
      "290         6.649366e+13  6.834728e+13  ...  6.099489e+12  8.890079e+12   \n",
      "291         5.415320e+13  5.591857e+13  ...  4.920700e+12  7.104601e+12   \n",
      "292         4.412350e+13  4.564312e+13  ...  3.994480e+12  5.745709e+12   \n",
      "293         3.406761e+13  3.528652e+13  ...  3.075778e+12  4.412059e+12   \n",
      "294         2.768318e+13  2.862088e+13  ...  2.509020e+12  3.613197e+12   \n",
      "295         2.426761e+13  2.497646e+13  ...  2.220159e+12  3.227387e+12   \n",
      "296         2.176192e+13  2.233570e+13  ...  2.002242e+12  2.926949e+12   \n",
      "297         1.924599e+13  1.956339e+13  ...  1.805531e+12  2.689306e+12   \n",
      "298         1.663646e+13  1.654275e+13  ...  1.628068e+12  2.519797e+12   \n",
      "299         1.323500e+13  1.271644e+13  ...  1.376435e+12  2.239985e+12   \n",
      "300         1.100506e+13  1.038418e+13  ...  1.179227e+12  1.963128e+12   \n",
      "301         8.187020e+12  7.047787e+12  ...  1.001195e+12  1.819510e+12   \n",
      "302         5.415530e+12  3.822753e+12  ...  8.158114e+11  1.648443e+12   \n",
      "303         3.745033e+12  2.018672e+12  ...  6.784969e+11  1.471230e+12   \n",
      "304        -3.227095e+11 -2.342170e+12  ...  3.382405e+11  1.022645e+12   \n",
      "305         3.302666e+10 -2.008568e+12  ...  3.767364e+11  1.087197e+12   \n",
      "306        -3.863291e+13 -4.635237e+13  ... -2.328471e+12 -1.643811e+12   \n",
      "307        -1.730359e+13 -2.208936e+13  ... -7.998978e+11 -3.213300e+10   \n",
      "308        -1.008378e+13 -1.378517e+13  ... -2.991980e+11  4.649891e+11   \n",
      "309        -2.433290e+12 -4.810038e+12  ...  1.992419e+11  8.986797e+11   \n",
      "310        -4.579873e+12 -6.977683e+12  ... -4.759713e+09  5.911291e+11   \n",
      "311        -7.774116e+12 -1.049473e+13  ... -2.549998e+11  2.879842e+11   \n",
      "312        -1.056617e+13 -1.376923e+13  ... -4.370872e+11  1.291839e+11   \n",
      "313        -1.251801e+13 -1.589075e+13  ... -5.950371e+11 -7.065901e+10   \n",
      "314        -5.559637e+13 -6.553958e+13  ... -3.564192e+12 -2.983627e+12   \n",
      "315        -3.627469e+14 -4.168157e+14  ... -2.523244e+13 -2.519624e+13   \n",
      "316        -5.360806e+14 -6.149877e+14  ... -3.747198e+13 -3.776488e+13   \n",
      "317        -3.662653e+13 -4.342064e+13  ... -2.303498e+12 -1.836460e+12   \n",
      "318        -5.474976e+12 -7.892807e+12  ... -8.777041e+10  4.688406e+11   \n",
      "319        -2.226390e+12 -4.369382e+12  ...  1.765074e+11  8.054807e+11   \n",
      "320        -4.559484e+12 -7.185088e+12  ...  3.889255e+10  7.149146e+11   \n",
      "321        -4.788981e+12 -7.323474e+12  ...  0.000000e+00  6.325395e+11   \n",
      "322        -1.387564e+13 -1.776192e+13  ... -6.325395e+11  0.000000e+00   \n",
      "323        -2.381818e+13 -2.886089e+13  ... -1.383698e+12 -8.631796e+11   \n",
      "324        -4.686114e+13 -5.508812e+13  ... -3.032361e+12 -2.596462e+12   \n",
      "325         5.731121e+13  6.432227e+13  ...  4.266720e+12  4.792635e+12   \n",
      "326         1.225067e+14  1.387412e+14  ...  8.892090e+12  9.583058e+12   \n",
      "327        -9.699293e+13 -1.123658e+14  ... -6.579215e+12 -6.251627e+12   \n",
      "328        -5.218999e+13 -6.119671e+13  ... -3.405696e+12 -2.974319e+12   \n",
      "329        -3.058806e+13 -3.641585e+13  ... -1.895590e+12 -1.452159e+12   \n",
      "330        -2.817984e+13 -3.370373e+13  ... -1.718004e+12 -1.255701e+12   \n",
      "\n",
      "wavelength           323           324           325           326  \\\n",
      "wavelength                                                           \n",
      "200         1.235272e+14  2.540150e+14 -3.304314e+14 -6.982323e+14   \n",
      "201         9.793244e+13  1.796229e+14 -1.961748e+14 -4.289519e+14   \n",
      "202         7.729115e+13  1.381253e+14 -1.438266e+14 -3.177073e+14   \n",
      "203         5.566507e+13  9.876854e+13 -1.014394e+14 -2.247511e+14   \n",
      "204         3.597416e+13  6.253115e+13 -6.162860e+13 -1.378089e+14   \n",
      "205         3.435008e+13  5.265446e+13 -3.751990e+13 -9.119573e+13   \n",
      "206         5.123448e+12  2.616282e+13 -6.095322e+13 -1.184467e+14   \n",
      "207         1.897653e+13  4.213414e+13 -6.016991e+13 -1.250831e+14   \n",
      "208         2.381818e+13  4.686114e+13 -5.731121e+13 -1.225067e+14   \n",
      "209         2.886089e+13  5.508812e+13 -6.432227e+13 -1.387412e+14   \n",
      "210         2.987651e+13  5.852360e+13 -7.111165e+13 -1.521954e+14   \n",
      "211         2.678138e+13  5.903718e+13 -8.362832e+13 -1.740874e+14   \n",
      "212         2.042281e+13  5.171948e+13 -8.402759e+13 -1.711165e+14   \n",
      "213         6.869023e+12  4.130179e+13 -1.005418e+14 -1.944494e+14   \n",
      "214        -2.357749e+13  9.977826e+12 -1.136860e+14 -2.014981e+14   \n",
      "215         2.609142e+14  2.699119e+14  1.081711e+14  5.193915e+13   \n",
      "216         7.503246e+13  9.506949e+13 -2.165044e+13 -8.498525e+13   \n",
      "217         5.167479e+13  6.966387e+13 -2.757767e+13 -8.252025e+13   \n",
      "218         3.599099e+13  5.080492e+13 -2.611529e+13 -7.055755e+13   \n",
      "219         2.558221e+13  3.719194e+13 -2.182812e+13 -5.633673e+13   \n",
      "220         1.987641e+13  2.936692e+13 -1.838122e+13 -4.646396e+13   \n",
      "221         1.456399e+13  2.188756e+13 -1.458595e+13 -3.616197e+13   \n",
      "222         1.119824e+13  1.712337e+13 -1.210413e+13 -2.948867e+13   \n",
      "223         1.105462e+13  1.724854e+13 -1.299135e+13 -3.108485e+13   \n",
      "224         1.160966e+13  1.837938e+13 -1.444424e+13 -3.416192e+13   \n",
      "225         1.159455e+13  1.865947e+13 -1.534462e+13 -3.585835e+13   \n",
      "226         1.125174e+13  1.827276e+13 -1.538974e+13 -3.574287e+13   \n",
      "227         1.030110e+13  1.678847e+13 -1.426954e+13 -3.306403e+13   \n",
      "228         8.305771e+12  1.374780e+13 -1.214425e+13 -2.786925e+13   \n",
      "229         7.480700e+12  1.211305e+13 -1.012433e+13 -2.355997e+13   \n",
      "230         7.755618e+12  1.349516e+13 -1.332922e+13 -2.979107e+13   \n",
      "231         1.045212e+13  1.807099e+13 -1.761221e+13 -3.948346e+13   \n",
      "232         1.327343e+13  2.305473e+13 -2.268638e+13 -5.074751e+13   \n",
      "233         1.756651e+13  3.064606e+13 -3.043100e+13 -6.793196e+13   \n",
      "234         2.083447e+13  3.599409e+13 -3.502439e+13 -7.854720e+13   \n",
      "235         2.458944e+13  4.265730e+13 -4.186905e+13 -9.371175e+13   \n",
      "236         2.888110e+13  4.979140e+13 -4.823631e+13 -1.082867e+14   \n",
      "237         3.310388e+13  5.692468e+13 -5.484508e+13 -1.232787e+14   \n",
      "238         3.744572e+13  6.461410e+13 -6.271358e+13 -1.407263e+14   \n",
      "239         4.141701e+13  7.159231e+13 -6.974432e+13 -1.563701e+14   \n",
      "240         4.510887e+13  7.833487e+13 -7.705246e+13 -1.723755e+14   \n",
      "241         4.832946e+13  8.406351e+13 -8.296441e+13 -1.854602e+14   \n",
      "242         5.156339e+13  9.020638e+13 -9.008156e+13 -2.008355e+14   \n",
      "243         5.479565e+13  9.634036e+13 -9.717773e+13 -2.161700e+14   \n",
      "244         5.730903e+13  1.006960e+14 -1.014435e+14 -2.257225e+14   \n",
      "245         5.943240e+13  1.043314e+14 -1.049136e+14 -2.335393e+14   \n",
      "246         6.072552e+13  1.061288e+14 -1.057672e+14 -2.359140e+14   \n",
      "247         6.144390e+13  1.079582e+14 -1.087535e+14 -2.419911e+14   \n",
      "248         6.090683e+13  1.073392e+14 -1.087845e+14 -2.417349e+14   \n",
      "249         5.796944e+13  1.023965e+14 -1.042455e+14 -2.314165e+14   \n",
      "250         5.423883e+13  9.521545e+13 -9.574899e+13 -2.131376e+14   \n",
      "251         4.913270e+13  8.584670e+13 -8.551051e+13 -1.907533e+14   \n",
      "252         4.342206e+13  7.547129e+13 -7.436975e+13 -1.663058e+14   \n",
      "253         3.662902e+13  6.323689e+13 -6.144266e+13 -1.378405e+14   \n",
      "254         2.982869e+13  5.111014e+13 -4.886682e+13 -1.100363e+14   \n",
      "255         2.318397e+13  3.927421e+13 -3.661907e+13 -8.294462e+13   \n",
      "256         1.856710e+13  3.135952e+13 -2.904374e+13 -6.589100e+13   \n",
      "257         1.552759e+13  2.636583e+13 -2.471241e+13 -5.590600e+13   \n",
      "258         1.499448e+13  2.571749e+13 -2.464062e+13 -5.545755e+13   \n",
      "259         1.245548e+13  2.487741e+13 -3.109457e+13 -6.619292e+13   \n",
      "260         2.781839e+13  4.008382e+13 -2.265038e+13 -5.920479e+13   \n",
      "261         2.731625e+13  4.089418e+13 -2.687918e+13 -6.691968e+13   \n",
      "262         2.717462e+13  4.106495e+13 -2.789717e+13 -6.876470e+13   \n",
      "263         2.812687e+13  4.256652e+13 -2.906397e+13 -7.153274e+13   \n",
      "264         2.847127e+13  4.321439e+13 -2.980280e+13 -7.313393e+13   \n",
      "265         2.844884e+13  4.304734e+13 -2.937721e+13 -7.231472e+13   \n",
      "266         2.822523e+13  4.271406e+13 -2.916160e+13 -7.177531e+13   \n",
      "267         2.780568e+13  4.208253e+13 -2.873840e+13 -7.072786e+13   \n",
      "268         2.759507e+13  4.178567e+13 -2.858692e+13 -7.031751e+13   \n",
      "269         2.718747e+13  4.126222e+13 -2.844812e+13 -6.981572e+13   \n",
      "270         2.727500e+13  4.152465e+13 -2.893148e+13 -7.078249e+13   \n",
      "271         2.755031e+13  4.206098e+13 -2.957783e+13 -7.216804e+13   \n",
      "272         2.707356e+13  4.142860e+13 -2.935467e+13 -7.146593e+13   \n",
      "273         2.602423e+13  3.984324e+13 -2.827846e+13 -6.881256e+13   \n",
      "274         2.474182e+13  3.790536e+13 -2.696204e+13 -6.556762e+13   \n",
      "275         2.421770e+13  3.716905e+13 -2.659244e+13 -6.456040e+13   \n",
      "276         2.392331e+13  3.685006e+13 -2.667080e+13 -6.453625e+13   \n",
      "277         2.412628e+13  3.730902e+13 -2.733946e+13 -6.592164e+13   \n",
      "278         2.478662e+13  3.852048e+13 -2.866313e+13 -6.881569e+13   \n",
      "279         2.493329e+13  3.890066e+13 -2.929301e+13 -7.009465e+13   \n",
      "280         2.511465e+13  3.933265e+13 -2.995670e+13 -7.145794e+13   \n",
      "281         2.565452e+13  4.040508e+13 -3.128675e+13 -7.429347e+13   \n",
      "282         2.581030e+13  4.088814e+13 -3.219543e+13 -7.610579e+13   \n",
      "283         2.557164e+13  4.069398e+13 -3.245382e+13 -7.645528e+13   \n",
      "284         2.421901e+13  3.863859e+13 -3.103087e+13 -7.296742e+13   \n",
      "285         2.240581e+13  3.578505e+13 -2.882623e+13 -6.772911e+13   \n",
      "286         2.013717e+13  3.217139e+13 -2.593670e+13 -6.092666e+13   \n",
      "287         1.788483e+13  2.857422e+13 -2.303930e+13 -5.411887e+13   \n",
      "288         1.532313e+13  2.438753e+13 -1.945538e+13 -4.582950e+13   \n",
      "289         1.329224e+13  2.106808e+13 -1.661322e+13 -3.925614e+13   \n",
      "290         1.112378e+13  1.758124e+13 -1.375226e+13 -3.256653e+13   \n",
      "291         8.826602e+12  1.386048e+13 -1.064000e+13 -2.532552e+13   \n",
      "292         7.117931e+12  1.114799e+13 -8.491554e+12 -2.025490e+13   \n",
      "293         5.454218e+12  8.525652e+12 -6.456413e+12 -1.542522e+13   \n",
      "294         4.480099e+12  7.022396e+12 -5.362014e+12 -1.278149e+13   \n",
      "295         4.030314e+12  6.358562e+12 -4.948217e+12 -1.173413e+13   \n",
      "296         3.670474e+12  5.812793e+12 -4.572771e+12 -1.081213e+13   \n",
      "297         3.419060e+12  5.481008e+12 -4.460222e+12 -1.045160e+13   \n",
      "298         3.290424e+12  5.396843e+12 -4.661419e+12 -1.075726e+13   \n",
      "299         3.021713e+12  5.088350e+12 -4.680560e+12 -1.063601e+13   \n",
      "300         2.685196e+12  4.570617e+12 -4.307266e+12 -9.731751e+12   \n",
      "301         2.613974e+12  4.612908e+12 -4.687420e+12 -1.041000e+13   \n",
      "302         2.492739e+12  4.553788e+12 -4.938125e+12 -1.081377e+13   \n",
      "303         2.292463e+12  4.267890e+12 -4.783162e+12 -1.040289e+13   \n",
      "304         1.775493e+12  3.514089e+12 -4.335344e+12 -9.251712e+12   \n",
      "305         1.864170e+12  3.665529e+12 -4.479095e+12 -9.575950e+12   \n",
      "306        -4.183905e+11  1.677621e+12 -6.554268e+12 -1.216835e+13   \n",
      "307         1.021269e+12  3.129394e+12 -5.843928e+12 -1.166684e+13   \n",
      "308         1.425470e+12  3.457288e+12 -5.403496e+12 -1.106960e+13   \n",
      "309         1.693997e+12  3.490370e+12 -4.552317e+12 -9.614883e+12   \n",
      "310         1.299607e+12  2.853379e+12 -4.023454e+12 -8.382063e+12   \n",
      "311         9.779530e+11  2.427310e+12 -3.874650e+12 -7.911695e+12   \n",
      "312         8.790538e+11  2.413466e+12 -4.183123e+12 -8.437966e+12   \n",
      "313         6.574343e+11  2.103786e+12 -4.031864e+12 -8.021585e+12   \n",
      "314        -1.662980e+12  3.270278e+11 -6.879527e+12 -1.205487e+13   \n",
      "315        -2.068467e+13 -1.721479e+13 -2.122324e+13 -2.807197e+13   \n",
      "316        -3.147652e+13 -2.722701e+13 -2.917975e+13 -3.681577e+13   \n",
      "317        -8.738955e+11  6.515595e+11 -5.065558e+12 -9.081787e+12   \n",
      "318         1.145376e+12  2.607879e+12 -3.827528e+12 -7.920582e+12   \n",
      "319         1.521145e+12  3.136900e+12 -4.095910e+12 -8.649145e+12   \n",
      "320         1.510822e+12  3.267616e+12 -4.527689e+12 -9.460872e+12   \n",
      "321         1.383698e+12  3.032361e+12 -4.266720e+12 -8.892090e+12   \n",
      "322         8.631796e+11  2.596462e+12 -4.792635e+12 -9.583058e+12   \n",
      "323         0.000000e+00  1.541798e+12 -4.661549e+12 -8.828837e+12   \n",
      "324        -1.541798e+12  0.000000e+00 -5.461510e+12 -9.440221e+12   \n",
      "325         4.661549e+12  5.461510e+12  0.000000e+00 -2.732347e+12   \n",
      "326         8.828837e+12  9.440221e+12  2.732347e+12  0.000000e+00   \n",
      "327        -4.697445e+12 -2.963458e+12 -7.679891e+12 -1.179210e+13   \n",
      "328        -1.858907e+12 -2.789511e+11 -5.741413e+12 -9.784476e+12   \n",
      "329        -5.898675e+11  8.194890e+11 -4.567172e+12 -8.304341e+12   \n",
      "330        -4.024491e+11  1.032337e+12 -4.546816e+12 -8.375642e+12   \n",
      "\n",
      "wavelength           327           328           329           330  \n",
      "wavelength                                                          \n",
      "200         5.364866e+14  2.839103e+14  1.628387e+14  1.490142e+14  \n",
      "201         3.590289e+14  1.988483e+14  1.207734e+14  1.124586e+14  \n",
      "202         2.722712e+14  1.525503e+14  9.392599e+13  8.780590e+13  \n",
      "203         1.939286e+14  1.090115e+14  6.737412e+13  6.305266e+13  \n",
      "204         1.213705e+14  6.888361e+13  4.304424e+13  4.040937e+13  \n",
      "205         9.440049e+13  5.726937e+13  3.840235e+13  3.674386e+13  \n",
      "206         6.986345e+13  3.061691e+13  1.273267e+13  1.025967e+13  \n",
      "207         9.189704e+13  4.736674e+13  2.620617e+13  2.370417e+13  \n",
      "208         9.699293e+13  5.218999e+13  3.058806e+13  2.817984e+13  \n",
      "209         1.123658e+14  6.119671e+13  3.641585e+13  3.370373e+13  \n",
      "210         1.208807e+14  6.515502e+13  3.827003e+13  3.528051e+13  \n",
      "211         1.283945e+14  6.633422e+13  3.682140e+13  3.334216e+13  \n",
      "212         1.183212e+14  5.866189e+13  3.064209e+13  2.717457e+13  \n",
      "213         1.126327e+14  4.855377e+13  1.945240e+13  1.538011e+13  \n",
      "214         7.571758e+13  1.629580e+13 -8.714436e+12 -1.318224e+13  \n",
      "215         3.208514e+14  2.782199e+14  2.419439e+14  2.451536e+14  \n",
      "216         1.454330e+14  1.010476e+14  7.625298e+13  7.505487e+13  \n",
      "217         1.129241e+14  7.464270e+13  5.411823e+13  5.278382e+13  \n",
      "218         8.561146e+13  5.474254e+13  3.856692e+13  3.735979e+13  \n",
      "219         6.414284e+13  4.021292e+13  2.782638e+13  2.683707e+13  \n",
      "220         5.126911e+13  3.181082e+13  2.179994e+13  2.097412e+13  \n",
      "221         3.869241e+13  2.375429e+13  1.611482e+13  1.546479e+13  \n",
      "222         3.064642e+13  1.861917e+13  1.250317e+13  1.196762e+13  \n",
      "223         3.130384e+13  1.879607e+13  1.247472e+13  1.190412e+13  \n",
      "224         3.368236e+13  2.005908e+13  1.320237e+13  1.257094e+13  \n",
      "225         3.456477e+13  2.039951e+13  1.330150e+13  1.263393e+13  \n",
      "226         3.404546e+13  1.999528e+13  1.297134e+13  1.230346e+13  \n",
      "227         3.135046e+13  1.837771e+13  1.189820e+13  1.127951e+13  \n",
      "228         2.592151e+13  1.507265e+13  9.674334e+12  9.149803e+12  \n",
      "229         2.252673e+13  1.325095e+13  8.610368e+12  8.170651e+12  \n",
      "230         2.620922e+13  1.486759e+13  9.285264e+12  8.715494e+12  \n",
      "231         3.496767e+13  1.989669e+13  1.246913e+13  1.171539e+13  \n",
      "232         4.472902e+13  2.539501e+13  1.587540e+13  1.490533e+13  \n",
      "233         5.960612e+13  3.377096e+13  2.106156e+13  1.976137e+13  \n",
      "234         6.961884e+13  3.962769e+13  2.484461e+13  2.334547e+13  \n",
      "235         8.270252e+13  4.698198e+13  2.938967e+13  2.759894e+13  \n",
      "236         9.618931e+13  5.480692e+13  3.440015e+13  3.233469e+13  \n",
      "237         1.098060e+14  6.264333e+13  3.937370e+13  3.702409e+13  \n",
      "238         1.248882e+14  7.112872e+13  4.462330e+13  4.193838e+13  \n",
      "239         1.385158e+14  7.882367e+13  4.940386e+13  4.641892e+13  \n",
      "240         1.519626e+14  8.628506e+13  5.394574e+13  5.065085e+13  \n",
      "241         1.632259e+14  9.260924e+13  5.784922e+13  5.430258e+13  \n",
      "242         1.757258e+14  9.943045e+13  6.191826e+13  5.807135e+13  \n",
      "243         1.882017e+14  1.062412e+14  6.598302e+13  6.183670e+13  \n",
      "244         1.966412e+14  1.110380e+14  6.898531e+13  6.465650e+13  \n",
      "245         2.036362e+14  1.150370e+14  7.150479e+13  6.702719e+13  \n",
      "246         2.066268e+14  1.169701e+14  7.287974e+13  6.836218e+13  \n",
      "247         2.108197e+14  1.190457e+14  7.396147e+13  6.932071e+13  \n",
      "248         2.099660e+14  1.183966e+14  7.343919e+13  6.879952e+13  \n",
      "249         2.005528e+14  1.129687e+14  6.998691e+13  6.554256e+13  \n",
      "250         1.858446e+14  1.049857e+14  6.525669e+13  6.117024e+13  \n",
      "251         1.671150e+14  9.461386e+13  5.895837e+13  5.530585e+13  \n",
      "252         1.464802e+14  8.313769e+13  5.195361e+13  4.877395e+13  \n",
      "253         1.222620e+14  6.961602e+13  4.366232e+13  4.103206e+13  \n",
      "254         9.838581e+13  5.622545e+13  3.540834e+13  3.331338e+13  \n",
      "255         7.509659e+13  4.315737e+13  2.734833e+13  2.577481e+13  \n",
      "256         5.985663e+13  3.445013e+13  2.186635e+13  2.061756e+13  \n",
      "257         5.048437e+13  2.897929e+13  1.834030e+13  1.727893e+13  \n",
      "258         4.953373e+13  2.829405e+13  1.780890e+13  1.675274e+13  \n",
      "259         5.185439e+13  2.774056e+13  1.613799e+13  1.483343e+13  \n",
      "260         6.865553e+13  4.329501e+13  3.012133e+13  2.908920e+13  \n",
      "261         7.208963e+13  4.436289e+13  3.016447e+13  2.896451e+13  \n",
      "262         7.288212e+13  4.459440e+13  3.015453e+13  2.891425e+13  \n",
      "263         7.562672e+13  4.623252e+13  3.123514e+13  2.994379e+13  \n",
      "264         7.693864e+13  4.695133e+13  3.166605e+13  3.034350e+13  \n",
      "265         7.647282e+13  4.675399e+13  3.159022e+13  3.028488e+13  \n",
      "266         7.588717e+13  4.639261e+13  3.134387e+13  3.004817e+13  \n",
      "267         7.476948e+13  4.570710e+13  3.087925e+13  2.960240e+13  \n",
      "268         7.426986e+13  4.538729e+13  3.065374e+13  2.938389e+13  \n",
      "269         7.345848e+13  4.482993e+13  3.023683e+13  2.897435e+13  \n",
      "270         7.408977e+13  4.513049e+13  3.038375e+13  2.910146e+13  \n",
      "271         7.519467e+13  4.572732e+13  3.073528e+13  2.942579e+13  \n",
      "272         7.418434e+13  4.505114e+13  3.023994e+13  2.894151e+13  \n",
      "273         7.137107e+13  4.332956e+13  2.907567e+13  2.782509e+13  \n",
      "274         6.793174e+13  4.122512e+13  2.765264e+13  2.646059e+13  \n",
      "275         6.669582e+13  4.043220e+13  2.709237e+13  2.591746e+13  \n",
      "276         6.628977e+13  4.010086e+13  2.681386e+13  2.563708e+13  \n",
      "277         6.729797e+13  4.061749e+13  2.709733e+13  2.589278e+13  \n",
      "278         6.971974e+13  4.195865e+13  2.791179e+13  2.665115e+13  \n",
      "279         7.059613e+13  4.239048e+13  2.813520e+13  2.684860e+13  \n",
      "280         7.156370e+13  4.287851e+13  2.839687e+13  2.708278e+13  \n",
      "281         7.379343e+13  4.407384e+13  2.909411e+13  2.772420e+13  \n",
      "282         7.496576e+13  4.462806e+13  2.936172e+13  2.795459e+13  \n",
      "283         7.483295e+13  4.443716e+13  2.916059e+13  2.774412e+13  \n",
      "284         7.117058e+13  4.220375e+13  2.765529e+13  2.630193e+13  \n",
      "285         6.596173e+13  3.909136e+13  2.559983e+13  2.434302e+13  \n",
      "286         5.931237e+13  3.514491e+13  2.301148e+13  2.188076e+13  \n",
      "287         5.268193e+13  3.121540e+13  2.043810e+13  1.943371e+13  \n",
      "288         4.485002e+13  2.663110e+13  1.747476e+13  1.662565e+13  \n",
      "289         3.864008e+13  2.299636e+13  1.512534e+13  1.439936e+13  \n",
      "290         3.218456e+13  1.918469e+13  1.263876e+13  1.203728e+13  \n",
      "291         2.526374e+13  1.511428e+13  9.994273e+12  9.527947e+12  \n",
      "292         2.028372e+13  1.215304e+13  8.048334e+12  7.675847e+12  \n",
      "293         1.549194e+13  9.292359e+12  6.160780e+12  5.877381e+12  \n",
      "294         1.278426e+13  7.656164e+12  5.067899e+12  4.832755e+12  \n",
      "295         1.162625e+13  6.937173e+12  4.574858e+12  4.358315e+12  \n",
      "296         1.065508e+13  6.344257e+12  4.174796e+12  3.974919e+12  \n",
      "297         1.012746e+13  5.989720e+12  3.914230e+12  3.719976e+12  \n",
      "298         1.011828e+13  5.911517e+12  3.813657e+12  3.611876e+12  \n",
      "299         9.694868e+12  5.588191e+12  3.552809e+12  3.351431e+12  \n",
      "300         8.764288e+12  5.024859e+12  3.175869e+12  2.990969e+12  \n",
      "301         9.030030e+12  5.088733e+12  3.154192e+12  2.954319e+12  \n",
      "302         9.082932e+12  5.039389e+12  3.067136e+12  2.857713e+12  \n",
      "303         8.596822e+12  4.730924e+12  2.851307e+12  2.648988e+12  \n",
      "304         7.293849e+12  3.915617e+12  2.288137e+12  2.106080e+12  \n",
      "305         7.584802e+12  4.082161e+12  2.393208e+12  2.204985e+12  \n",
      "306         5.915442e+12  2.098364e+12  4.194504e+11  1.577619e+11  \n",
      "307         7.571467e+12  3.588259e+12  1.740077e+12  1.500661e+12  \n",
      "308         7.793564e+12  3.910462e+12  2.080363e+12  1.856890e+12  \n",
      "309         7.378227e+12  3.901765e+12  2.235745e+12  2.045321e+12  \n",
      "310         6.195536e+12  3.205117e+12  1.782419e+12  1.614980e+12  \n",
      "311         5.515661e+12  2.749611e+12  1.448447e+12  1.288396e+12  \n",
      "312         5.663574e+12  2.750813e+12  1.390584e+12  1.218563e+12  \n",
      "313         5.146033e+12  2.417536e+12  1.154312e+12  9.893392e+11  \n",
      "314         4.192746e+12  6.951654e+11 -7.587836e+11 -1.028114e+12  \n",
      "315        -1.269127e+13 -1.701305e+13 -1.758032e+13 -1.834328e+13  \n",
      "316        -2.245305e+13 -2.713202e+13 -2.714688e+13 -2.818260e+13  \n",
      "317         3.664824e+12  9.436794e+11 -2.152124e+11 -4.150579e+11  \n",
      "318         5.744006e+12  2.937027e+12  1.606518e+12  1.447630e+12  \n",
      "319         6.633533e+12  3.506868e+12  2.008640e+12  1.837321e+12  \n",
      "320         7.051631e+12  3.666337e+12  2.053163e+12  1.864529e+12  \n",
      "321         6.579215e+12  3.405696e+12  1.895590e+12  1.718004e+12  \n",
      "322         6.251627e+12  2.974319e+12  1.452159e+12  1.255701e+12  \n",
      "323         4.697445e+12  1.858907e+12  5.898675e+11  4.024491e+11  \n",
      "324         2.963458e+12  2.789511e+11 -8.194890e+11 -1.032337e+12  \n",
      "325         7.679891e+12  5.741413e+12  4.567172e+12  4.546816e+12  \n",
      "326         1.179210e+13  9.784476e+12  8.304341e+12  8.375642e+12  \n",
      "327         0.000000e+00 -2.723079e+12 -3.630536e+12 -3.918795e+12  \n",
      "328         2.723079e+12  0.000000e+00 -1.094760e+12 -1.317477e+12  \n",
      "329         3.630536e+12  1.094760e+12  0.000000e+00 -1.810481e+11  \n",
      "330         3.918795e+12  1.317477e+12  1.810481e+11  0.000000e+00  \n",
      "\n",
      "[131 rows x 131 columns]\n"
     ]
    }
   ],
   "source": [
    "\n",
    "assync = pd.DataFrame(np.zeros((n,n)), index=idx, columns=idx)\n",
    "\n",
    "for j in idx:\n",
    "    for k in idx:\n",
    "        assync.loc[j,k] = np.sum((dyn.loc[j, :]/mean[j] - dyn.loc[k, :]/mean[k]) * col) * np.sqrt(var.loc[j]*var.loc[k])/(m*(m-1))\n",
    "print(assync)"
   ]
  },
  {
   "cell_type": "code",
   "execution_count": 95,
   "id": "australian-nation",
   "metadata": {},
   "outputs": [
    {
     "data": {
      "application/vnd.jupyter.widget-view+json": {
       "model_id": "e96d987acb3949058eeb7433ec51bac0",
       "version_major": 2,
       "version_minor": 0
      },
      "text/plain": [
       "Canvas(toolbar=Toolbar(toolitems=[('Home', 'Reset original view', 'home', 'home'), ('Back', 'Back to previous …"
      ]
     },
     "metadata": {},
     "output_type": "display_data"
    }
   ],
   "source": [
    "plot.heatmap(assync, x_min=[220], y_min=[220])"
   ]
  },
  {
   "cell_type": "code",
   "execution_count": null,
   "id": "sweet-boundary",
   "metadata": {},
   "outputs": [],
   "source": []
  },
  {
   "cell_type": "code",
   "execution_count": null,
   "id": "practical-cocktail",
   "metadata": {},
   "outputs": [],
   "source": []
  },
  {
   "cell_type": "code",
   "execution_count": null,
   "id": "continuing-appreciation",
   "metadata": {},
   "outputs": [],
   "source": [
    "# read by default 1st sheet of an excel file\n",
    "print_path = \"C:\\\\Users\\\\crazy\\\\Documents\\\\Uni\\\\Masterarbeit\\\\Projekt\\\\Auswertung\\\\\"\n",
    "data_path1 = os.path.join(print_path, 'AveragedSpectra.xlsx')\n",
    "df= pd.read_excel(data_path1)\n",
    "df= df.drop(0, axis=0)\n",
    "df = df.set_index('Wavelength')\n",
    "plot.mult_func(['S1', 'S2', 'S2\\'', 'S3'], [df.T], marker=['','','',''], subtitle=[''], x_label='wavelength / nm',\n",
    "              colors=['tab:red', 'tab:blue', 'tab:grey', 'tab:green'], y_label='relative ellipticity', baseline=True, backgroundcolor='#FAFFCD')"
   ]
  },
  {
   "cell_type": "markdown",
   "id": "dressed-invasion",
   "metadata": {},
   "source": [
    "# MD H-bonds Auswertung"
   ]
  },
  {
   "cell_type": "code",
   "execution_count": null,
   "id": "computational-ladder",
   "metadata": {},
   "outputs": [],
   "source": [
    "print_path = \"C:\\\\Users\\\\crazy\\\\Documents\\\\Uni\\\\Masterarbeit\\\\Thesis\\\\MD\""
   ]
  },
  {
   "cell_type": "code",
   "execution_count": null,
   "id": "civil-acting",
   "metadata": {},
   "outputs": [],
   "source": [
    "liste = ['Hbonds-Gdm2SO4-DNA_to_Gdm.dat', 'Hbonds-Gdm2SO4-DNA_to_wat.dat','Hbonds-Gdm2SO4-withinDNA.dat',\n",
    "         'Hbonds-GdmCl-DNA_to_Gdm.dat', 'Hbonds-GdmCl-DNA_to_wat.dat', 'Hbonds-GdmCl-withinDNA.dat']"
   ]
  },
  {
   "cell_type": "code",
   "execution_count": null,
   "id": "going-eligibility",
   "metadata": {},
   "outputs": [],
   "source": [
    "for name in liste:\n",
    "\n",
    "    \n",
    "    # get data path\n",
    "    data_path = os.path.join(print_path, name)\n",
    "  \n",
    "    # open file and create data list\n",
    "    file = open(data_path, \"r\")\n",
    "    data = []\n",
    "        \n",
    "    # list of lines, of which all elemnts equal to space or enter are used as split, and then empty elements are deleted\n",
    "    list_of_lines = file.readlines()\n",
    "    \n",
    "    \n",
    "    for k in range(len(list_of_lines)):\n",
    "        data.extend(re.split(' |\\n', list_of_lines[k]))\n",
    "        data1 = np.array(list(filter(lambda x: x != '', data)))\n",
    "    \n",
    "  \n",
    "    # data list reshaped as 2D array and added to plot\n",
    "    data1 = data1.reshape(len(list_of_lines), 2)\n",
    "\n",
    "    df =  pd.DataFrame(data1, columns=['frame', 'Hbonds'])\n",
    "    df = df.set_index('frame')\n",
    "    df = df.astype('int')\n",
    "    print(name, ': \\ ', df['Hbonds'].mean(), '+-', df['Hbonds'].std())\n",
    "    \n",
    "    #array = np.array(df['Hbonds'].min(), df['Hbonds'].max()+1, 2)\n",
    "    \n",
    "    # setup the plot\n",
    "    \n",
    "    fig,ax = plt.subplots(1,1)\n",
    "    \n",
    "    df.hist(column='Hbonds', bins=np.arange(50, 101, 2), grid=False, histtype='stepfilled', ax=ax)\n",
    "    ax.set_title(name)\n",
    "    ax.set_xlabel('number of h-bonds')\n",
    "    ax.set_ylabel('number of frames')\n",
    "    plt.show()"
   ]
  },
  {
   "cell_type": "markdown",
   "id": "forty-validation",
   "metadata": {},
   "source": [
    "# Parafak Ethanol"
   ]
  },
  {
   "cell_type": "markdown",
   "id": "assumed-directive",
   "metadata": {},
   "source": [
    "## *setting up the Notebook*"
   ]
  },
  {
   "cell_type": "code",
   "execution_count": 96,
   "id": "plain-guitar",
   "metadata": {},
   "outputs": [],
   "source": [
    "# Enabling the `widget` backend.\n",
    "# This requires jupyter-matplotlib a.k.a. ipympl.\n",
    "# ipympl can be install via pip or conda.\n",
    "%matplotlib widget\n",
    "        \n",
    "import matplotlib.pyplot as plt\n",
    "import numpy as np\n",
    "import pandas as pd\n",
    "from ipywidgets import Output\n",
    "import matplotlib\n",
    "\n",
    "from scipy import integrate\n",
    "import lmfit\n",
    "import os"
   ]
  },
  {
   "cell_type": "code",
   "execution_count": 97,
   "id": "russian-editor",
   "metadata": {},
   "outputs": [],
   "source": [
    "import analise as ana\n",
    "import cdata \n",
    "import hotznplots as plot"
   ]
  },
  {
   "cell_type": "markdown",
   "id": "above-visit",
   "metadata": {},
   "source": [
    "<div class=\"alert alert-block alert-info\">\n",
    "<b>Info:</b> Print always whole DataFrames\n",
    "</div>"
   ]
  },
  {
   "cell_type": "code",
   "execution_count": 98,
   "id": "auburn-earth",
   "metadata": {},
   "outputs": [],
   "source": [
    "# Default value of display.max_rows is 10 i.e. at max 10 rows will be printed.\n",
    "# Set it None to display all rows in the dataframe\n",
    "pd.set_option('display.max_rows', None)"
   ]
  },
  {
   "cell_type": "code",
   "execution_count": 99,
   "id": "impossible-power",
   "metadata": {},
   "outputs": [],
   "source": [
    "# change plot size\n",
    "plt.rcParams[\"figure.figsize\"] = (11,9)"
   ]
  },
  {
   "cell_type": "markdown",
   "id": "faced-terry",
   "metadata": {},
   "source": [
    "<div class=\"alert alert-block alert-info\">\n",
    "<b>Info:</b> Get the data\n",
    "</div>"
   ]
  },
  {
   "cell_type": "code",
   "execution_count": 100,
   "id": "photographic-death",
   "metadata": {},
   "outputs": [
    {
     "name": "stdout",
     "output_type": "stream",
     "text": [
      "['Control_0M', 'Gdm2SO4_0.5M', 'Gdm2SO4_1M', 'Gdm2SO4_2M', 'Gdm2SO4_4M', 'Gdm2SO4_4M - Wiederholung', 'Gdm2SO4_6M', 'GdmCl_0.5M', 'GdmCl_1M', 'GdmCl_2M', 'GdmCl_2M_20nM_Origami', 'GdmCl_2M_24h', 'GdmCl_2M_80nM_Origami', 'GdmCl_4M', 'GdmCl_6M', 'GdmCl_6M_70', 'GdmSCN_0.5M', 'GdmSCN_2M', 'GdmSCN_4M', 'Urea_05M', 'Urea_2M']\n"
     ]
    }
   ],
   "source": [
    "# Path for Daniel:\n",
    "path = \"F:\\\\HZDR\\\\CD_data\"\n",
    "\n",
    "# My Path:\n",
    "#path = \"C:\\\\Users\\\\crazy\\\\Mega\\\\Uni\\\\Masterarbeit\\\\Projekt\\\\Data\\\\CD_data\\\\Ethanol\"\n",
    "datalist = os.listdir(path)\n",
    "print(datalist)"
   ]
  },
  {
   "cell_type": "code",
   "execution_count": 101,
   "id": "chubby-report",
   "metadata": {},
   "outputs": [],
   "source": [
    "# all data in one dictionary with foldernames as names\n",
    "data_all = {}\n",
    "for i in range(len(datalist)):\n",
    "    data_all[datalist[i]] = cdata.CData(os.path.join(path, datalist[i]))"
   ]
  },
  {
   "cell_type": "code",
   "execution_count": 102,
   "id": "acceptable-ratio",
   "metadata": {},
   "outputs": [
    {
     "ename": "KeyError",
     "evalue": "'Control_0%'",
     "output_type": "error",
     "traceback": [
      "\u001b[1;31m---------------------------------------------------------------------------\u001b[0m",
      "\u001b[1;31mKeyError\u001b[0m                                  Traceback (most recent call last)",
      "\u001b[1;32m<ipython-input-102-a38eeb592e3b>\u001b[0m in \u001b[0;36m<module>\u001b[1;34m\u001b[0m\n\u001b[1;32m----> 1\u001b[1;33m \u001b[0mdf\u001b[0m \u001b[1;33m=\u001b[0m  \u001b[0mdata_all\u001b[0m\u001b[1;33m[\u001b[0m\u001b[1;34m\"Control_0%\"\u001b[0m\u001b[1;33m]\u001b[0m\u001b[1;33m.\u001b[0m\u001b[0mcd_df\u001b[0m\u001b[1;33m\u001b[0m\u001b[1;33m\u001b[0m\u001b[0m\n\u001b[0m\u001b[0;32m      2\u001b[0m \u001b[0mdf\u001b[0m \u001b[1;33m=\u001b[0m \u001b[0mdf\u001b[0m\u001b[1;33m.\u001b[0m\u001b[0mrename\u001b[0m\u001b[1;33m(\u001b[0m\u001b[0mcolumns\u001b[0m\u001b[1;33m=\u001b[0m\u001b[1;33m{\u001b[0m\u001b[1;33m-\u001b[0m\u001b[1;36m1\u001b[0m\u001b[1;33m:\u001b[0m\u001b[1;34m\"0%\"\u001b[0m\u001b[1;33m}\u001b[0m\u001b[1;33m)\u001b[0m\u001b[1;33m\u001b[0m\u001b[1;33m\u001b[0m\u001b[0m\n\u001b[0;32m      3\u001b[0m \u001b[0mdf\u001b[0m\u001b[1;33m[\u001b[0m\u001b[1;34m\"50%\"\u001b[0m\u001b[1;33m]\u001b[0m \u001b[1;33m=\u001b[0m  \u001b[1;33m(\u001b[0m\u001b[0mdata_all\u001b[0m\u001b[1;33m[\u001b[0m\u001b[1;34m\"Ethanol_50%\"\u001b[0m\u001b[1;33m]\u001b[0m\u001b[1;33m.\u001b[0m\u001b[0mcd_df\u001b[0m\u001b[1;33m.\u001b[0m\u001b[0mloc\u001b[0m\u001b[1;33m[\u001b[0m\u001b[1;33m:\u001b[0m\u001b[1;33m,\u001b[0m\u001b[1;33m-\u001b[0m\u001b[1;36m1\u001b[0m\u001b[1;33m]\u001b[0m\u001b[1;33m)\u001b[0m\u001b[1;33m\u001b[0m\u001b[1;33m\u001b[0m\u001b[0m\n\u001b[0;32m      4\u001b[0m \u001b[0mdf\u001b[0m\u001b[1;33m[\u001b[0m\u001b[1;34m\"nach\"\u001b[0m\u001b[1;33m]\u001b[0m \u001b[1;33m=\u001b[0m  \u001b[1;33m(\u001b[0m\u001b[0mdata_all\u001b[0m\u001b[1;33m[\u001b[0m\u001b[1;34m\"Ethanol_50%_nachTest\"\u001b[0m\u001b[1;33m]\u001b[0m\u001b[1;33m.\u001b[0m\u001b[0mcd_df\u001b[0m\u001b[1;33m.\u001b[0m\u001b[0mloc\u001b[0m\u001b[1;33m[\u001b[0m\u001b[1;33m:\u001b[0m\u001b[1;33m,\u001b[0m\u001b[1;33m-\u001b[0m\u001b[1;36m1\u001b[0m\u001b[1;33m]\u001b[0m\u001b[1;33m)\u001b[0m\u001b[1;33m\u001b[0m\u001b[1;33m\u001b[0m\u001b[0m\n\u001b[0;32m      5\u001b[0m \u001b[0mdf\u001b[0m\u001b[1;33m[\u001b[0m\u001b[1;34m\"vor\"\u001b[0m\u001b[1;33m]\u001b[0m \u001b[1;33m=\u001b[0m  \u001b[1;33m(\u001b[0m\u001b[0mdata_all\u001b[0m\u001b[1;33m[\u001b[0m\u001b[1;34m\"Ethanol_50%_vorTest\"\u001b[0m\u001b[1;33m]\u001b[0m\u001b[1;33m.\u001b[0m\u001b[0mcd_df\u001b[0m\u001b[1;33m.\u001b[0m\u001b[0mloc\u001b[0m\u001b[1;33m[\u001b[0m\u001b[1;33m:\u001b[0m\u001b[1;33m,\u001b[0m\u001b[1;33m-\u001b[0m\u001b[1;36m1\u001b[0m\u001b[1;33m]\u001b[0m\u001b[1;33m)\u001b[0m\u001b[1;33m\u001b[0m\u001b[1;33m\u001b[0m\u001b[0m\n",
      "\u001b[1;31mKeyError\u001b[0m: 'Control_0%'"
     ]
    }
   ],
   "source": [
    "df =  data_all[\"Control_0%\"].cd_df\n",
    "df = df.rename(columns={-1:\"0%\"})\n",
    "df[\"50%\"] =  (data_all[\"Ethanol_50%\"].cd_df.loc[:,-1])\n",
    "df[\"nach\"] =  (data_all[\"Ethanol_50%_nachTest\"].cd_df.loc[:,-1])\n",
    "df[\"vor\"] =  (data_all[\"Ethanol_50%_vorTest\"].cd_df.loc[:,-1])\n",
    "df[\"50% real\"] =  (data_all[\"Ethanol_50%_real\"].cd_df.loc[:,-1])\n",
    "print(df)"
   ]
  },
  {
   "cell_type": "code",
   "execution_count": null,
   "id": "devoted-knight",
   "metadata": {},
   "outputs": [],
   "source": [
    "plot.mult_func(['0%', 'vor', 'nach', '50%', \"50% real\" ], [df], swap=True, marker=[\"\", \"\", \"\", \"\", \"\"], x_label=\"Wavelengt [nm]\")"
   ]
  },
  {
   "cell_type": "markdown",
   "id": "attempted-shield",
   "metadata": {},
   "source": [
    "# Salmon testes"
   ]
  },
  {
   "cell_type": "markdown",
   "id": "suitable-finance",
   "metadata": {},
   "source": [
    "## setting up the notebook\n"
   ]
  },
  {
   "cell_type": "code",
   "execution_count": null,
   "id": "north-louisiana",
   "metadata": {},
   "outputs": [],
   "source": [
    "# Enabling the `widget` backend.\n",
    "# This requires jupyter-matplotlib a.k.a. ipympl.\n",
    "# ipympl can be install via pip or conda.\n",
    "%matplotlib widget\n",
    "        \n",
    "import matplotlib.pyplot as plt\n",
    "import numpy as np\n",
    "import pandas as pd\n",
    "from ipywidgets import Output\n",
    "import matplotlib\n",
    "import openpyxl\n",
    "\n",
    "from scipy import integrate\n",
    "import lmfit\n",
    "import os"
   ]
  },
  {
   "cell_type": "code",
   "execution_count": null,
   "id": "cooked-essence",
   "metadata": {},
   "outputs": [],
   "source": [
    "import analise as ana\n",
    "import cdata \n",
    "import hotznplots as plot"
   ]
  },
  {
   "cell_type": "markdown",
   "id": "computational-concept",
   "metadata": {},
   "source": [
    "<div class=\"alert alert-block alert-info\">\n",
    "<b>Info:</b> Print always whole DataFrames\n",
    "</div>"
   ]
  },
  {
   "cell_type": "code",
   "execution_count": null,
   "id": "helpful-discrimination",
   "metadata": {},
   "outputs": [],
   "source": [
    "# Default value of display.max_rows is 10 i.e. at max 10 rows will be printed.\n",
    "# Set it None to display all rows in the dataframe\n",
    "pd.set_option('display.max_rows', None)"
   ]
  },
  {
   "cell_type": "code",
   "execution_count": null,
   "id": "raising-involvement",
   "metadata": {},
   "outputs": [],
   "source": [
    "# change plot size\n",
    "plt.rcParams[\"figure.figsize\"] = (10,7)"
   ]
  },
  {
   "cell_type": "markdown",
   "id": "moved-appointment",
   "metadata": {},
   "source": [
    "<div class=\"alert alert-block alert-info\">\n",
    "<b>Info:</b> Get the data\n",
    "</div>"
   ]
  },
  {
   "cell_type": "code",
   "execution_count": null,
   "id": "geographic-might",
   "metadata": {},
   "outputs": [],
   "source": [
    "# Path for Daniel:\n",
    "#path = \"F:\\\\HZDR\\\\CD_data\"\n",
    "\n",
    "# My Path:\n",
    "path = \"C:\\\\Users\\\\crazy\\\\Mega\\\\Uni\\\\Masterarbeit\\\\Projekt\\\\Data\\\\CD_data\\\\Salmon Testes\"\n",
    "datalist_salmon = os.listdir(path)\n",
    "print(datalist_salmon)"
   ]
  },
  {
   "cell_type": "code",
   "execution_count": null,
   "id": "intimate-pattern",
   "metadata": {},
   "outputs": [],
   "source": [
    "# all data in one dictionary with foldernames as names\n",
    "data_salmon = {}\n",
    "for i in range(len(datalist_salmon)):\n",
    "    data_salmon[datalist_salmon[i]] = cdata.CData(os.path.join(path, datalist_salmon[i]))"
   ]
  },
  {
   "cell_type": "code",
   "execution_count": null,
   "id": "favorite-bradley",
   "metadata": {},
   "outputs": [],
   "source": [
    "for key in data_salmon.keys():\n",
    "    absorbance = data_salmon[key].absorb_df.loc[260, 20]\n",
    "    df = data_salmon[key].cd_df\n",
    "    \n",
    "    conc_ds =  absorbance/(0.02*0.1*(10**3)) #[mg/mL]\n",
    "    print(key, \":  \\t\", conc_ds)"
   ]
  },
  {
   "cell_type": "code",
   "execution_count": null,
   "id": "given-passage",
   "metadata": {},
   "outputs": [],
   "source": [
    "for key in data_salmon.keys():\n",
    "    plot.mult_func([260], [data_salmon[key].absorb_df], subtitle=[key])"
   ]
  },
  {
   "cell_type": "code",
   "execution_count": null,
   "id": "wired-testament",
   "metadata": {},
   "outputs": [],
   "source": [
    "print(data_salmon[\"Control_0M_continous\"].t_list)"
   ]
  },
  {
   "cell_type": "code",
   "execution_count": null,
   "id": "allied-valve",
   "metadata": {},
   "outputs": [],
   "source": [
    "plot.mult_func([20, 40, 60, 80], [data_salmon['Control_0M_continous'].cd_df], swap=True, baseline=True, marker=[\"\",\"\",\"\",\"\"], subtitle=[\"Salmon Control\"], linestyle=[\"-\",\":\", \":\", \"-\"], x_min=220)"
   ]
  },
  {
   "cell_type": "code",
   "execution_count": null,
   "id": "determined-pilot",
   "metadata": {},
   "outputs": [],
   "source": []
  },
  {
   "cell_type": "code",
   "execution_count": null,
   "id": "useful-zoning",
   "metadata": {},
   "outputs": [],
   "source": []
  }
 ],
 "metadata": {
  "kernelspec": {
   "display_name": "Python 3",
   "language": "python",
   "name": "python3"
  },
  "language_info": {
   "codemirror_mode": {
    "name": "ipython",
    "version": 3
   },
   "file_extension": ".py",
   "mimetype": "text/x-python",
   "name": "python",
   "nbconvert_exporter": "python",
   "pygments_lexer": "ipython3",
   "version": "3.8.5"
  },
  "toc-autonumbering": true,
  "toc-showcode": false,
  "toc-showmarkdowntxt": false
 },
 "nbformat": 4,
 "nbformat_minor": 5
}
