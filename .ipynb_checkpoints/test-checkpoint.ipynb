{
 "cells": [
  {
   "cell_type": "markdown",
   "id": "analyzed-sustainability",
   "metadata": {},
   "source": [
    "![ChessUrl](https://young.scot/media/1513/working_information_digtialcareermythbustersgif_001.jpg \"cat\")\n"
   ]
  },
  {
   "cell_type": "markdown",
   "id": "bridal-service",
   "metadata": {},
   "source": [
    "# Data Analysis"
   ]
  },
  {
   "cell_type": "markdown",
   "id": "periodic-kernel",
   "metadata": {},
   "source": [
    "## Imports"
   ]
  },
  {
   "cell_type": "code",
   "execution_count": 1,
   "id": "needed-wisdom",
   "metadata": {},
   "outputs": [],
   "source": [
    "\n",
    "# Enabling the `widget` backend.\n",
    "# This requires jupyter-matplotlib a.k.a. ipympl.\n",
    "# ipympl can be install via pip or conda.\n",
    "%matplotlib widget\n",
    "        \n",
    "import matplotlib.pyplot as plt\n",
    "import numpy as np\n",
    "import pandas as pd\n",
    "from ipywidgets import Output\n",
    "import matplotlib\n",
    "from scipy import integrate\n",
    "import os"
   ]
  },
  {
   "cell_type": "code",
   "execution_count": 2,
   "id": "fatal-census",
   "metadata": {},
   "outputs": [],
   "source": [
    "import analise as ana \n",
    "import cdata \n",
    "import hotznplots as plot"
   ]
  },
  {
   "cell_type": "markdown",
   "id": "legendary-cooperation",
   "metadata": {},
   "source": [
    "## Importing the data"
   ]
  },
  {
   "cell_type": "markdown",
   "id": "trained-calendar",
   "metadata": {},
   "source": [
    " The path of data to to copy from:\n",
    " *F:\\HZDR\\CD_data* for Daniel\n",
    " *C:\\Users\\crazy\\Mega\\Uni\\Masterarbeit\\Projekt\\Data\\CD_data*"
   ]
  },
  {
   "cell_type": "code",
   "execution_count": null,
   "id": "competitive-conclusion",
   "metadata": {},
   "outputs": [],
   "source": []
  },
  {
   "cell_type": "code",
   "execution_count": 3,
   "id": "agreed-speaking",
   "metadata": {},
   "outputs": [
    {
     "name": "stdout",
     "output_type": "stream",
     "text": [
      "['0 M Control', '0,5 Gdm2SO4', '0,5 GdmCl', '0,5 GdmSCN', '1 M Gdm2SO4', '2 M Gdm2SO4', '2 M GdmCl', '2 M GdmCl 24 h inkubation', '2 M GdmSCN', '2 M Urea', '4 M GdmCl']\n"
     ]
    }
   ],
   "source": [
    "#path = \"F:\\\\HZDR\\\\CD_data\"\n",
<<<<<<< HEAD
    "path = \"F:\\\\HZDR\\\\CD_data\"\n",
=======
    "path = \"C:\\\\Users\\\\crazy\\\\Mega\\\\Uni\\\\Masterarbeit\\\\Projekt\\\\Data\\\\CD_data\"\n",
>>>>>>> parent of 7bf2d78 (Merge branch 'coop' into Analise_Wachstums_Schub)
    "folderlist = os.listdir(path)\n",
    "print(folderlist)"
   ]
  },
  {
   "cell_type": "code",
   "execution_count": 18,
   "id": "dying-olympus",
   "metadata": {},
   "outputs": [],
   "source": [
    "Control_0M = cdata.CData(os.path.join(path, folderlist[0]))\n",
    "Gdm2SO4_05M = cdata.CData(os.path.join(path, folderlist[1]))\n",
    "GdmCl_05M = cdata.CData(os.path.join(path, folderlist[2]))\n",
    "GdmSCN_05M = cdata.CData(os.path.join(path, folderlist[3]))\n",
    "Gdm2SO4_2M = cdata.CData(os.path.join(path, folderlist[4]))\n",
    "Gdm2SO4_4M = cdata.CData(os.path.join(path, folderlist[9]))\n",
    "GdmCl_2M = cdata.CData(os.path.join(path, folderlist[5]))\n",
    "GdmCl_2M_24h = cdata.CData(os.path.join(path, folderlist[6]))\n",
    "GdmSCN_2M = cdata.CData(os.path.join(path, folderlist[7]))\n",
    "Urea_2M = cdata.CData(os.path.join(path, folderlist[8]))\n",
<<<<<<< HEAD
    "GdmCl_4M = cdata.CData(os.path.join(path, folderlist[10]))"
=======
    "#GdmCl_4M = cdata.CData(os.path.join(path, folderlist[10]))\n",
    "\n",
    "data_all = [Control_0M, Gdm2SO4_05M, Gdm2SO4_2M, Gdm2SO4_4M, GdmCl_05M, GdmCl_2M, GdmSCN_2M, Urea_2M]"
>>>>>>> parent of 7bf2d78 (Merge branch 'coop' into Analise_Wachstums_Schub)
   ]
  },
  {
   "cell_type": "markdown",
   "id": "manufactured-session",
   "metadata": {
    "tags": []
   },
   "source": [
    "## Plotti"
   ]
  },
  {
   "cell_type": "markdown",
   "id": "premium-climb",
   "metadata": {},
   "source": [
    "### Max and min functions"
   ]
  },
  {
   "cell_type": "code",
   "execution_count": 59,
   "id": "looking-conjunction",
   "metadata": {},
   "outputs": [
    {
     "data": {
      "application/vnd.jupyter.widget-view+json": {
       "model_id": "affb40ec7a5649d7a8c7aa437bb6ea5a",
       "version_major": 2,
       "version_minor": 0
      },
      "text/plain": [
       "Canvas(toolbar=Toolbar(toolitems=[('Home', 'Reset original view', 'home', 'home'), ('Back', 'Back to previous …"
      ]
     },
     "metadata": {},
     "output_type": "display_data"
    },
    {
     "data": {
      "application/vnd.jupyter.widget-view+json": {
       "model_id": "d37a699f8e8344d4a2344955f71e89fa",
       "version_major": 2,
       "version_minor": 0
      },
      "text/plain": [
       "Canvas(toolbar=Toolbar(toolitems=[('Home', 'Reset original view', 'home', 'home'), ('Back', 'Back to previous …"
      ]
     },
     "metadata": {},
     "output_type": "display_data"
    }
   ],
   "source": [
    "df = ana.max_wave(Control_0M.t_df, wave_min=260, wave_max=278)\n",
    "df2 = ana.min_wave(Control_0M.t_df, wave_min=260, wave_max=300)\n",
    "plot.function([\"Wavelength\", ], df, swap=True)\n",
    "plot.function([\"Value\"], df, swap=True)"
   ]
  },
  {
   "cell_type": "code",
   "execution_count": 6,
   "id": "innocent-consciousness",
   "metadata": {},
   "outputs": [],
   "source": [
    "# Ploting temperature[K]; X-achis = Temperatur; Y-achsis = CD"
   ]
  },
  {
   "cell_type": "code",
   "execution_count": 31,
   "id": "concerned-webcam",
   "metadata": {},
   "outputs": [
    {
     "data": {
      "application/vnd.jupyter.widget-view+json": {
       "model_id": "c81cb478fb544ef6ad35a01ec58c13d9",
       "version_major": 2,
       "version_minor": 0
      },
      "text/plain": [
       "Canvas(toolbar=Toolbar(toolitems=[('Home', 'Reset original view', 'home', 'home'), ('Back', 'Back to previous …"
      ]
     },
     "metadata": {},
     "output_type": "display_data"
    }
   ],
   "source": [
    "plot.function([212, 220, 247, 260, 275], Urea_2M.t_df, Control_0M.t_df)"
   ]
  },
  {
   "cell_type": "code",
   "execution_count": 8,
   "id": "convenient-supervision",
   "metadata": {},
   "outputs": [],
   "source": [
    "# Plotting wavelength[nm]; X-achsis = temperature; Y-achis = CD"
   ]
  },
  {
   "cell_type": "code",
   "execution_count": 9,
   "id": "statistical-bloom",
   "metadata": {},
   "outputs": [
    {
     "data": {
      "application/vnd.jupyter.widget-view+json": {
       "model_id": "39873fa8d9d94e719bd69f33f29e65f8",
       "version_major": 2,
       "version_minor": 0
      },
      "text/plain": [
       "Canvas(toolbar=Toolbar(toolitems=[('Home', 'Reset original view', 'home', 'home'), ('Back', 'Back to previous …"
      ]
     },
     "metadata": {},
     "output_type": "display_data"
    }
   ],
   "source": [
    "plot.functionT([20, 40, 60, 80], Control_0M.t_df, Urea_2M.t_df, GdmCl_2M.t_df, Gdm2SO4_2M.t_df, GdmSCN_2M.t_df, x_min = 209, y_scaling=[-7.5,4.5], baseline = True, line1 = [1.83,1.83], line2 = [3.5,3.5], line3 = [-6.44, -6.44])"
   ]
  },
  {
   "cell_type": "code",
   "execution_count": null,
   "id": "cellular-agency",
   "metadata": {},
   "source": [
    "## **analise**"
   ]
  },
  {
   "cell_type": "code",
   "execution_count": 10,
   "id": "allied-still",
   "metadata": {},
   "outputs": [
    {
     "data": {
      "application/vnd.jupyter.widget-view+json": {
       "model_id": "6562f3c7ea5547da8b3f06e4a264cb3a",
       "version_major": 2,
       "version_minor": 0
      },
      "text/plain": [
       "Canvas(toolbar=Toolbar(toolitems=[('Home', 'Reset original view', 'home', 'home'), ('Back', 'Back to previous …"
      ]
     },
     "metadata": {},
     "output_type": "display_data"
    }
   ],
   "source": [
    "plot.function([275, 290], Control_0M.t_df, Gdm2SO4_05M.t_df)"
   ]
  },
  {
   "cell_type": "code",
   "execution_count": 32,
   "id": "portable-liechtenstein",
   "metadata": {},
   "outputs": [
    {
     "name": "stdout",
     "output_type": "stream",
     "text": [
      "[20, 30, 40, 45, 50, 53, 56, 58, 60, 62, 64, 67, 70, 75, 80, 90] [20, 30, 40, 45, 50, 56, 58, 60, 62, 64, 67, 70, 75, 80, 90]\n"
     ]
    }
   ],
   "source": [
    "plot.function([212, 220, 247, 260, 275], Control_0M.t_df, GdmCl_4M.t_df, Gdm2SO4_4M.t_df, y_scaling = (-8,5))"
   ]
  },
  {
   "cell_type": "markdown",
   "id": "natural-macintosh",
   "metadata": {},
   "source": [
    "### Correlation Analysis"
   ]
  },
  {
   "cell_type": "raw",
   "id": "afraid-contract",
   "metadata": {},
   "source": [
    "control2 = Control_0M.t_df.drop([53], axis=1)\n",
    "print(control2)"
   ]
  },
  {
   "cell_type": "markdown",
   "id": "smooth-password",
   "metadata": {},
   "source": [
    "<div class=\"alert alert-block alert-info\">\n",
    "<b>Achtung:</b> When Messungen unterschiedlich viele Temperaturwerte haben, kommt ein Fehler. Am besten vergleichen. Einfachste Lösung ist hier unten mit 'Datei_mit_mehr_werten'.loc[:, 'Datei_mit_mehr_Werten'.t_list]\n",
    "</div>"
   ]
  },
  {
   "cell_type": "code",
   "execution_count": 34,
   "id": "seasonal-fifty",
   "metadata": {},
   "outputs": [],
   "source": [
    "sync, assync = ana.correlation(GdmCl_05M.t_df, ref_spec=Control_0M.t_df.loc[:, GdmCl_05M.t_list], scaling='pareto')\n"
   ]
  },
  {
   "cell_type": "code",
   "execution_count": 35,
   "id": "varying-immigration",
   "metadata": {},
   "outputs": [
    {
     "data": {
      "application/vnd.jupyter.widget-view+json": {
       "model_id": "954825af4fec47b581c6c677924180e8",
       "version_major": 2,
       "version_minor": 0
      },
      "text/plain": [
       "Canvas(toolbar=Toolbar(toolitems=[('Home', 'Reset original view', 'home', 'home'), ('Back', 'Back to previous …"
      ]
     },
     "metadata": {},
     "output_type": "display_data"
    }
   ],
   "source": [
    "plot.heatmap(assync)"
   ]
  },
  {
   "cell_type": "code",
   "execution_count": 36,
   "id": "demanding-seven",
   "metadata": {},
   "outputs": [
    {
     "data": {
      "application/vnd.jupyter.widget-view+json": {
       "model_id": "84213e72353e45e9bfda3dc0f8601865",
       "version_major": 2,
       "version_minor": 0
      },
      "text/plain": [
       "Canvas(toolbar=Toolbar(toolitems=[('Home', 'Reset original view', 'home', 'home'), ('Back', 'Back to previous …"
      ]
     },
     "metadata": {},
     "output_type": "display_data"
    }
   ],
   "source": [
    "plot.heatmap(sync, x_min=220, y_min=220)"
   ]
  },
  {
   "cell_type": "markdown",
   "id": "ignored-manitoba",
   "metadata": {},
   "source": [
    "### derivative example"
   ]
  },
  {
   "cell_type": "code",
   "execution_count": 37,
   "id": "designing-newton",
   "metadata": {},
   "outputs": [],
   "source": [
    "deriv = ana.derivative(Control_0M.t_df)"
   ]
  },
  {
   "cell_type": "code",
   "execution_count": 38,
   "id": "direct-architect",
   "metadata": {},
   "outputs": [
    {
     "data": {
      "application/vnd.jupyter.widget-view+json": {
       "model_id": "75ae0a0b406441b4846ef48b4d0107b8",
       "version_major": 2,
       "version_minor": 0
      },
      "text/plain": [
       "Canvas(toolbar=Toolbar(toolitems=[('Home', 'Reset original view', 'home', 'home'), ('Back', 'Back to previous …"
      ]
     },
     "metadata": {},
     "output_type": "display_data"
    }
   ],
   "source": [
<<<<<<< HEAD
    "plot.heatmap(Control_0M.t_df, x_min=258, x_max=261)"
   ]
  },
  {
   "cell_type": "code",
   "execution_count": 45,
   "id": "bigger-assist",
   "metadata": {},
   "outputs": [
    {
     "ename": "NameError",
     "evalue": "name 'data' is not defined",
     "output_type": "error",
     "traceback": [
      "\u001b[1;31m---------------------------------------------------------------------------\u001b[0m",
      "\u001b[1;31mNameError\u001b[0m                                 Traceback (most recent call last)",
      "\u001b[1;32m<ipython-input-45-3b8251b36b00>\u001b[0m in \u001b[0;36m<module>\u001b[1;34m\u001b[0m\n\u001b[1;32m----> 1\u001b[1;33m \u001b[0mplot\u001b[0m\u001b[1;33m.\u001b[0m\u001b[0mfunction\u001b[0m\u001b[1;33m(\u001b[0m\u001b[1;33m[\u001b[0m\u001b[1;36m247\u001b[0m\u001b[1;33m]\u001b[0m\u001b[1;33m,\u001b[0m\u001b[0mdata\u001b[0m\u001b[1;33m.\u001b[0m\u001b[0mt_df\u001b[0m\u001b[1;33m,\u001b[0m \u001b[0mdf2\u001b[0m\u001b[1;33m=\u001b[0m\u001b[0mderiv\u001b[0m\u001b[1;33m)\u001b[0m\u001b[1;33m\u001b[0m\u001b[1;33m\u001b[0m\u001b[0m\n\u001b[0m",
      "\u001b[1;31mNameError\u001b[0m: name 'data' is not defined"
     ]
    }
   ],
   "source": [
    "plot.function([247],data.t_df, df2=deriv)"
=======
    "plot.function([247], Control_0M.t_df, deriv)"
>>>>>>> parent of 7bf2d78 (Merge branch 'coop' into Analise_Wachstums_Schub)
   ]
  },
  {
   "cell_type": "markdown",
   "id": "electronic-hands",
   "metadata": {},
   "source": [
    "#### example for integral"
   ]
  },
  {
   "cell_type": "raw",
   "id": "noble-murder",
   "metadata": {},
   "source": [
    "\n",
    "integral = pd.DataFrame(['integral','error'], columns=['Wavelength'])\n",
    "                        \n",
    "for i in range(len(deriv.index)):\n",
    "    f = ana.interpolate(deriv, i)\n",
    "    value = integrate.quad(f, 30, 75)\n",
    "    integral[i+200] = value\n",
    "integral.set_index('Wavelength')\n",
    "integral = integral.T\n",
    "\n"
   ]
  },
  {
   "cell_type": "code",
   "execution_count": null,
   "id": "final-arthritis",
   "metadata": {},
   "outputs": [],
   "source": [
    "print(integral)\n"
   ]
  },
  {
   "cell_type": "markdown",
   "id": "detected-captain",
   "metadata": {},
   "source": [
    "$$\n",
    "\\color{red}{\\textbf{Ende. Vielleicht etwas $\\LaTeX$ lernen?}}\n",
    "$$"
   ]
  },
  {
   "cell_type": "code",
   "execution_count": null,
   "id": "dental-effects",
   "metadata": {},
   "outputs": [],
   "source": []
  }
 ],
 "metadata": {
  "kernelspec": {
   "display_name": "Python 3",
   "language": "python",
   "name": "python3"
  },
  "language_info": {
   "codemirror_mode": {
    "name": "ipython",
    "version": 3
   },
   "file_extension": ".py",
   "mimetype": "text/x-python",
   "name": "python",
   "nbconvert_exporter": "python",
   "pygments_lexer": "ipython3",
   "version": "3.8.5"
  },
  "toc-autonumbering": true,
  "toc-showcode": false,
  "toc-showmarkdowntxt": false,
  "toc-showtags": false
 },
 "nbformat": 4,
 "nbformat_minor": 5
}
