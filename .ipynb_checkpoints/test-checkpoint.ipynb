{
 "cells": [
  {
   "cell_type": "markdown",
<<<<<<< HEAD
   "id": "analyzed-sustainability",
   "metadata": {},
   "source": [
    "![ChessUrl](https://young.scot/media/1513/working_information_digtialcareermythbustersgif_001.jpg \"cat\")\n"
   ]
  },
  {
   "cell_type": "markdown",
   "id": "bridal-service",
=======
   "id": "junior-james",
>>>>>>> parent of 5f8ef0a (Now subplots data in functionT has to be plotted in lists, but data frame can be neglected)
   "metadata": {},
   "source": [
    "# Data Analysis"
   ]
  },
  {
   "cell_type": "markdown",
<<<<<<< HEAD
   "id": "periodic-kernel",
=======
   "id": "comic-current",
>>>>>>> parent of 5f8ef0a (Now subplots data in functionT has to be plotted in lists, but data frame can be neglected)
   "metadata": {},
   "source": [
    "## Imports"
   ]
  },
  {
   "cell_type": "code",
   "execution_count": 1,
<<<<<<< HEAD
   "id": "needed-wisdom",
=======
   "id": "younger-switch",
>>>>>>> parent of 5f8ef0a (Now subplots data in functionT has to be plotted in lists, but data frame can be neglected)
   "metadata": {},
   "outputs": [],
   "source": [
    "\n",
    "# Enabling the `widget` backend.\n",
    "# This requires jupyter-matplotlib a.k.a. ipympl.\n",
    "# ipympl can be install via pip or conda.\n",
    "%matplotlib widget\n",
    "        \n",
    "import matplotlib.pyplot as plt\n",
    "import numpy as np\n",
    "import pandas as pd\n",
    "from ipywidgets import Output\n",
    "import matplotlib\n",
    "from scipy import integrate\n",
    "import os"
   ]
  },
  {
   "cell_type": "code",
   "execution_count": 2,
<<<<<<< HEAD
   "id": "fatal-census",
=======
   "id": "tender-sixth",
>>>>>>> parent of 5f8ef0a (Now subplots data in functionT has to be plotted in lists, but data frame can be neglected)
   "metadata": {},
   "outputs": [],
   "source": [
    "import analise as ana \n",
    "import cdata \n",
    "import hotznplots as plot"
   ]
  },
  {
   "cell_type": "markdown",
<<<<<<< HEAD
   "id": "legendary-cooperation",
=======
   "id": "scenic-arena",
>>>>>>> parent of 5f8ef0a (Now subplots data in functionT has to be plotted in lists, but data frame can be neglected)
   "metadata": {},
   "source": [
    "## Importing the data"
   ]
  },
  {
   "cell_type": "markdown",
<<<<<<< HEAD
   "id": "trained-calendar",
=======
   "id": "recent-afghanistan",
>>>>>>> parent of 5f8ef0a (Now subplots data in functionT has to be plotted in lists, but data frame can be neglected)
   "metadata": {},
   "source": [
    " The path of data to to copy from:\n",
    " *F:\\HZDR\\CD_data*"
   ]
  },
  {
   "cell_type": "code",
<<<<<<< HEAD
   "execution_count": null,
   "id": "competitive-conclusion",
   "metadata": {},
   "outputs": [],
   "source": []
  },
  {
   "cell_type": "code",
   "execution_count": 3,
   "id": "agreed-speaking",
=======
   "execution_count": 3,
   "id": "different-nickname",
>>>>>>> parent of 5f8ef0a (Now subplots data in functionT has to be plotted in lists, but data frame can be neglected)
   "metadata": {},
   "outputs": [
    {
     "name": "stdout",
     "output_type": "stream",
     "text": [
      "['0 M Control', '0,5 Gdm2SO4', '0,5 GdmCl', '0,5 GdmSCN', '1 M Gdm2SO4', '2 M Gdm2SO4', '2 M GdmCl', '2 M GdmCl 24 h inkubation', '2 M GdmSCN', '2 M Urea', '4 M GdmCl']\n"
     ]
    }
   ],
   "source": [
<<<<<<< HEAD
    "#path = \"F:\\\\HZDR\\\\CD_data\"\n",
<<<<<<< HEAD
    "path = \"F:\\\\HZDR\\\\CD_data\"\n",
=======
    "path = \"C:\\\\Users\\\\crazy\\\\Mega\\\\Uni\\\\Masterarbeit\\\\Projekt\\\\Data\\\\CD_data\"\n",
>>>>>>> parent of 7bf2d78 (Merge branch 'coop' into Analise_Wachstums_Schub)
=======
    "path = \"F:\\\\HZDR\\\\CD_data\"\n",
>>>>>>> parent of 5f8ef0a (Now subplots data in functionT has to be plotted in lists, but data frame can be neglected)
    "folderlist = os.listdir(path)\n",
    "print(folderlist)"
   ]
  },
  {
   "cell_type": "code",
<<<<<<< HEAD
   "execution_count": 18,
   "id": "dying-olympus",
=======
   "execution_count": 4,
   "id": "rural-upset",
>>>>>>> parent of 5f8ef0a (Now subplots data in functionT has to be plotted in lists, but data frame can be neglected)
   "metadata": {},
   "outputs": [],
   "source": [
    "Control_0M = cdata.CData(os.path.join(path, folderlist[0]))\n",
    "Gdm2SO4_05M = cdata.CData(os.path.join(path, folderlist[1]))\n",
    "GdmCL_05M = cdata.CData(os.path.join(path, folderlist[2]))\n",
    "GdmSCN_05M = cdata.CData(os.path.join(path, folderlist[3]))\n",
    "Gdm2SO4_2M = cdata.CData(os.path.join(path, folderlist[4]))\n",
<<<<<<< HEAD
    "Gdm2SO4_4M = cdata.CData(os.path.join(path, folderlist[9]))\n",
    "GdmCl_2M = cdata.CData(os.path.join(path, folderlist[5]))\n",
    "GdmCl_2M_24h = cdata.CData(os.path.join(path, folderlist[6]))\n",
    "GdmSCN_2M = cdata.CData(os.path.join(path, folderlist[7]))\n",
    "Urea_2M = cdata.CData(os.path.join(path, folderlist[8]))\n",
<<<<<<< HEAD
    "GdmCl_4M = cdata.CData(os.path.join(path, folderlist[10]))"
=======
    "#GdmCl_4M = cdata.CData(os.path.join(path, folderlist[10]))\n",
    "\n",
    "data_all = [Control_0M, Gdm2SO4_05M, Gdm2SO4_2M, Gdm2SO4_4M, GdmCl_05M, GdmCl_2M, GdmSCN_2M, Urea_2M]"
>>>>>>> parent of 7bf2d78 (Merge branch 'coop' into Analise_Wachstums_Schub)
=======
    "Gdm2SO4_4M = cdata.CData(os.path.join(path, folderlist[5]))\n",
    "GdmCl_2M = cdata.CData(os.path.join(path, folderlist[6]))\n",
    "GdmCl_2M_24h = cdata.CData(os.path.join(path, folderlist[7]))\n",
    "GdmSCN_2M = cdata.CData(os.path.join(path, folderlist[8]))\n",
    "Urea_2M = cdata.CData(os.path.join(path, folderlist[9]))\n",
    "GdmCL_4M = cdata.CData(os.path.join(path, folderlist[10]))"
>>>>>>> parent of 5f8ef0a (Now subplots data in functionT has to be plotted in lists, but data frame can be neglected)
   ]
  },
  {
   "cell_type": "markdown",
<<<<<<< HEAD
   "id": "manufactured-session",
=======
   "id": "aging-bishop",
>>>>>>> parent of 5f8ef0a (Now subplots data in functionT has to be plotted in lists, but data frame can be neglected)
   "metadata": {
    "tags": []
   },
   "source": [
    "## Plotti"
   ]
  },
  {
<<<<<<< HEAD
   "cell_type": "markdown",
   "id": "premium-climb",
   "metadata": {},
   "source": [
    "### Max and min functions"
   ]
  },
  {
   "cell_type": "code",
   "execution_count": 59,
   "id": "looking-conjunction",
=======
   "cell_type": "code",
   "execution_count": 5,
   "id": "smooth-samuel",
>>>>>>> parent of 5f8ef0a (Now subplots data in functionT has to be plotted in lists, but data frame can be neglected)
   "metadata": {},
   "outputs": [
    {
     "data": {
      "application/vnd.jupyter.widget-view+json": {
<<<<<<< HEAD
       "model_id": "affb40ec7a5649d7a8c7aa437bb6ea5a",
       "version_major": 2,
       "version_minor": 0
      },
      "text/plain": [
       "Canvas(toolbar=Toolbar(toolitems=[('Home', 'Reset original view', 'home', 'home'), ('Back', 'Back to previous …"
      ]
     },
     "metadata": {},
     "output_type": "display_data"
    },
    {
     "data": {
      "application/vnd.jupyter.widget-view+json": {
       "model_id": "d37a699f8e8344d4a2344955f71e89fa",
=======
       "model_id": "eee2ec15dee24834830264729e56bfe1",
>>>>>>> parent of 5f8ef0a (Now subplots data in functionT has to be plotted in lists, but data frame can be neglected)
       "version_major": 2,
       "version_minor": 0
      },
      "text/plain": [
       "Canvas(toolbar=Toolbar(toolitems=[('Home', 'Reset original view', 'home', 'home'), ('Back', 'Back to previous …"
      ]
     },
     "metadata": {},
     "output_type": "display_data"
    }
   ],
   "source": [
    "plot.heatmap(Control_0M.t_df, Gdm2SO4_05M.t_df, GdmCL_05M.t_df)"
   ]
  },
  {
   "cell_type": "code",
   "execution_count": 6,
   "id": "digital-variety",
   "metadata": {},
   "outputs": [],
   "source": [
    "# Ploting temperature[K]; X-achis = Temperatur; Y-achsis = CD"
   ]
  },
  {
   "cell_type": "code",
<<<<<<< HEAD
   "execution_count": 31,
   "id": "concerned-webcam",
=======
   "execution_count": 7,
   "id": "spread-enhancement",
>>>>>>> parent of 5f8ef0a (Now subplots data in functionT has to be plotted in lists, but data frame can be neglected)
   "metadata": {},
   "outputs": [
    {
     "data": {
      "application/vnd.jupyter.widget-view+json": {
<<<<<<< HEAD
       "model_id": "c81cb478fb544ef6ad35a01ec58c13d9",
=======
       "model_id": "d96c2ffc9a104ebfacba024705c84fc4",
>>>>>>> parent of 5f8ef0a (Now subplots data in functionT has to be plotted in lists, but data frame can be neglected)
       "version_major": 2,
       "version_minor": 0
      },
      "text/plain": [
       "Canvas(toolbar=Toolbar(toolitems=[('Home', 'Reset original view', 'home', 'home'), ('Back', 'Back to previous …"
      ]
     },
     "metadata": {},
     "output_type": "display_data"
    }
   ],
   "source": [
    "plot.function([212, 220, 247, 260, 275], Urea_2M.t_df, Control_0M.t_df)"
   ]
  },
  {
   "cell_type": "code",
   "execution_count": 8,
<<<<<<< HEAD
   "id": "convenient-supervision",
=======
   "id": "constitutional-criterion",
>>>>>>> parent of 5f8ef0a (Now subplots data in functionT has to be plotted in lists, but data frame can be neglected)
   "metadata": {},
   "outputs": [],
   "source": [
    "# Plotting wavelength[nm]; X-achsis = temperature; Y-achis = CD"
   ]
  },
  {
   "cell_type": "code",
<<<<<<< HEAD
   "execution_count": 9,
   "id": "statistical-bloom",
=======
   "execution_count": 20,
   "id": "loaded-satisfaction",
>>>>>>> parent of 5f8ef0a (Now subplots data in functionT has to be plotted in lists, but data frame can be neglected)
   "metadata": {},
   "outputs": [
    {
     "data": {
      "application/vnd.jupyter.widget-view+json": {
<<<<<<< HEAD
       "model_id": "39873fa8d9d94e719bd69f33f29e65f8",
=======
       "model_id": "446c5d43dc704b45a1779530772b569d",
>>>>>>> parent of 5f8ef0a (Now subplots data in functionT has to be plotted in lists, but data frame can be neglected)
       "version_major": 2,
       "version_minor": 0
      },
      "text/plain": [
       "Canvas(toolbar=Toolbar(toolitems=[('Home', 'Reset original view', 'home', 'home'), ('Back', 'Back to previous …"
      ]
     },
     "metadata": {},
     "output_type": "display_data"
    }
   ],
   "source": [
    "plot.functionT([20, 40, 60, 80], Control_0M.t_df, Urea_2M.t_df, GdmCl_2M.t_df, Gdm2SO4_2M.t_df, GdmSCN_2M.t_df, x_min = 209, y_scaling=[-7.5,4.5], baseline = True, line1 = [1.83,1.83], line2 = [3.5,3.5], line3 = [-6.44, -6.44])"
   ]
  },
  {
<<<<<<< HEAD
   "cell_type": "code",
   "execution_count": null,
   "id": "cellular-agency",
=======
   "cell_type": "markdown",
   "id": "official-shannon",
>>>>>>> parent of 5f8ef0a (Now subplots data in functionT has to be plotted in lists, but data frame can be neglected)
   "metadata": {},
   "source": [
    "## **analise**"
   ]
  },
  {
   "cell_type": "code",
   "execution_count": 10,
<<<<<<< HEAD
   "id": "allied-still",
=======
   "id": "vulnerable-mason",
>>>>>>> parent of 5f8ef0a (Now subplots data in functionT has to be plotted in lists, but data frame can be neglected)
   "metadata": {},
   "outputs": [
    {
     "data": {
      "application/vnd.jupyter.widget-view+json": {
<<<<<<< HEAD
       "model_id": "6562f3c7ea5547da8b3f06e4a264cb3a",
=======
       "model_id": "e1c1fe8134204c3d92ad0d52cf8f771e",
>>>>>>> parent of 5f8ef0a (Now subplots data in functionT has to be plotted in lists, but data frame can be neglected)
       "version_major": 2,
       "version_minor": 0
      },
      "text/plain": [
       "Canvas(toolbar=Toolbar(toolitems=[('Home', 'Reset original view', 'home', 'home'), ('Back', 'Back to previous …"
      ]
     },
     "metadata": {},
     "output_type": "display_data"
    }
   ],
   "source": [
    "plot.function([275, 290], Control_0M.t_df, Gdm2SO4_05M.t_df)"
   ]
  },
  {
   "cell_type": "code",
<<<<<<< HEAD
   "execution_count": 32,
   "id": "portable-liechtenstein",
=======
   "execution_count": 11,
   "id": "light-greeting",
>>>>>>> parent of 5f8ef0a (Now subplots data in functionT has to be plotted in lists, but data frame can be neglected)
   "metadata": {},
   "outputs": [
    {
     "name": "stdout",
     "output_type": "stream",
     "text": [
      "[20, 30, 40, 45, 50, 53, 56, 58, 60, 62, 64, 67, 70, 75, 80, 90] [20, 30, 40, 45, 50, 56, 58, 60, 62, 64, 67, 70, 75, 80, 90]\n"
     ]
    }
   ],
   "source": [
<<<<<<< HEAD
    "plot.function([212, 220, 247, 260, 275], Control_0M.t_df, GdmCl_4M.t_df, Gdm2SO4_4M.t_df, y_scaling = (-8,5))"
   ]
  },
  {
   "cell_type": "markdown",
   "id": "natural-macintosh",
   "metadata": {},
   "source": [
    "### Correlation Analysis"
=======
    "print(Control_0M.t_list, GdmCL_05M.t_list)"
>>>>>>> parent of 5f8ef0a (Now subplots data in functionT has to be plotted in lists, but data frame can be neglected)
   ]
  },
  {
   "cell_type": "raw",
<<<<<<< HEAD
   "id": "afraid-contract",
=======
   "id": "likely-favorite",
>>>>>>> parent of 5f8ef0a (Now subplots data in functionT has to be plotted in lists, but data frame can be neglected)
   "metadata": {},
   "source": [
    "control2 = Control_0M.t_df.drop([53], axis=1)\n",
    "print(control2)"
   ]
  },
  {
<<<<<<< HEAD
   "cell_type": "markdown",
   "id": "smooth-password",
   "metadata": {},
   "source": [
    "<div class=\"alert alert-block alert-info\">\n",
    "<b>Achtung:</b> When Messungen unterschiedlich viele Temperaturwerte haben, kommt ein Fehler. Am besten vergleichen. Einfachste Lösung ist hier unten mit 'Datei_mit_mehr_werten'.loc[:, 'Datei_mit_mehr_Werten'.t_list]\n",
    "</div>"
   ]
  },
  {
   "cell_type": "code",
   "execution_count": 34,
   "id": "seasonal-fifty",
   "metadata": {},
   "outputs": [],
   "source": [
    "sync, assync = ana.correlation(GdmCl_05M.t_df, ref_spec=Control_0M.t_df.loc[:, GdmCl_05M.t_list], scaling='pareto')\n"
   ]
  },
  {
   "cell_type": "code",
   "execution_count": 35,
   "id": "varying-immigration",
   "metadata": {},
   "outputs": [
    {
     "data": {
      "application/vnd.jupyter.widget-view+json": {
       "model_id": "954825af4fec47b581c6c677924180e8",
       "version_major": 2,
       "version_minor": 0
      },
      "text/plain": [
       "Canvas(toolbar=Toolbar(toolitems=[('Home', 'Reset original view', 'home', 'home'), ('Back', 'Back to previous …"
      ]
     },
     "metadata": {},
     "output_type": "display_data"
=======
   "cell_type": "code",
   "execution_count": 12,
   "id": "theoretical-sense",
   "metadata": {},
   "outputs": [
    {
     "ename": "ValueError",
     "evalue": "operands could not be broadcast together with shapes (131,15) (131,16) ",
     "output_type": "error",
     "traceback": [
      "\u001b[1;31m---------------------------------------------------------------------------\u001b[0m",
      "\u001b[1;31mValueError\u001b[0m                                Traceback (most recent call last)",
      "\u001b[1;32m<ipython-input-12-8a36fc5e3187>\u001b[0m in \u001b[0;36m<module>\u001b[1;34m\u001b[0m\n\u001b[1;32m----> 1\u001b[1;33m \u001b[0msync\u001b[0m\u001b[1;33m,\u001b[0m \u001b[0massync\u001b[0m \u001b[1;33m=\u001b[0m \u001b[0mana\u001b[0m\u001b[1;33m.\u001b[0m\u001b[0mcorrelation\u001b[0m\u001b[1;33m(\u001b[0m\u001b[0mGdmCL_05M\u001b[0m\u001b[1;33m.\u001b[0m\u001b[0mt_df\u001b[0m\u001b[1;33m,\u001b[0m \u001b[0mref_spec\u001b[0m\u001b[1;33m=\u001b[0m\u001b[0mControl_0M\u001b[0m\u001b[1;33m.\u001b[0m\u001b[0mt_df\u001b[0m\u001b[1;33m,\u001b[0m \u001b[0mscaling\u001b[0m\u001b[1;33m=\u001b[0m\u001b[1;34m'pareto'\u001b[0m\u001b[1;33m)\u001b[0m\u001b[1;33m\u001b[0m\u001b[1;33m\u001b[0m\u001b[0m\n\u001b[0m",
      "\u001b[1;32mF:\\GitHub\\2Dcorrelation\\analise.py\u001b[0m in \u001b[0;36mcorrelation\u001b[1;34m(ref_spec, scaling, *exp_spec)\u001b[0m\n\u001b[0;32m    148\u001b[0m     \u001b[1;32melse\u001b[0m\u001b[1;33m:\u001b[0m\u001b[1;33m\u001b[0m\u001b[1;33m\u001b[0m\u001b[0m\n\u001b[0;32m    149\u001b[0m         \u001b[0mref_spec\u001b[0m \u001b[1;33m=\u001b[0m \u001b[0mref_spec\u001b[0m\u001b[1;33m.\u001b[0m\u001b[0mto_numpy\u001b[0m\u001b[1;33m(\u001b[0m\u001b[1;33m)\u001b[0m\u001b[1;33m\u001b[0m\u001b[1;33m\u001b[0m\u001b[0m\n\u001b[1;32m--> 150\u001b[1;33m         \u001b[0mdyn1\u001b[0m \u001b[1;33m=\u001b[0m \u001b[0mexp1\u001b[0m \u001b[1;33m-\u001b[0m \u001b[0mref_spec\u001b[0m\u001b[1;33m\u001b[0m\u001b[1;33m\u001b[0m\u001b[0m\n\u001b[0m\u001b[0;32m    151\u001b[0m         \u001b[0mdyn2\u001b[0m \u001b[1;33m=\u001b[0m \u001b[0mexp2\u001b[0m \u001b[1;33m-\u001b[0m \u001b[0mref_spec\u001b[0m\u001b[1;33m\u001b[0m\u001b[1;33m\u001b[0m\u001b[0m\n\u001b[0;32m    152\u001b[0m \u001b[1;33m\u001b[0m\u001b[0m\n",
      "\u001b[1;31mValueError\u001b[0m: operands could not be broadcast together with shapes (131,15) (131,16) "
     ]
>>>>>>> parent of 5f8ef0a (Now subplots data in functionT has to be plotted in lists, but data frame can be neglected)
    }
   ],
   "source": [
    "sync, assync = ana.correlation(GdmCL_05M.t_df, ref_spec=Control_0M.t_df, scaling='pareto')\n"
   ]
  },
  {
   "cell_type": "code",
<<<<<<< HEAD
   "execution_count": 36,
   "id": "demanding-seven",
   "metadata": {},
   "outputs": [
    {
     "data": {
      "application/vnd.jupyter.widget-view+json": {
       "model_id": "84213e72353e45e9bfda3dc0f8601865",
       "version_major": 2,
       "version_minor": 0
      },
      "text/plain": [
       "Canvas(toolbar=Toolbar(toolitems=[('Home', 'Reset original view', 'home', 'home'), ('Back', 'Back to previous …"
      ]
     },
     "metadata": {},
     "output_type": "display_data"
    }
   ],
=======
   "execution_count": null,
   "id": "third-parts",
   "metadata": {},
   "outputs": [],
>>>>>>> parent of 5f8ef0a (Now subplots data in functionT has to be plotted in lists, but data frame can be neglected)
   "source": [
    "plot.heatmap(assync)"
   ]
  },
  {
<<<<<<< HEAD
   "cell_type": "markdown",
   "id": "ignored-manitoba",
=======
   "cell_type": "code",
   "execution_count": null,
   "id": "crude-combat",
>>>>>>> parent of 5f8ef0a (Now subplots data in functionT has to be plotted in lists, but data frame can be neglected)
   "metadata": {},
   "outputs": [],
   "source": [
    "plot.heatmap(sync, x_min=220, y_min=220)"
   ]
  },
  {
   "cell_type": "code",
<<<<<<< HEAD
   "execution_count": 37,
   "id": "designing-newton",
=======
   "execution_count": null,
   "id": "controlling-colleague",
>>>>>>> parent of 5f8ef0a (Now subplots data in functionT has to be plotted in lists, but data frame can be neglected)
   "metadata": {},
   "outputs": [],
   "source": [
    "deriv = ana.derivative(data.t_df)"
   ]
  },
  {
   "cell_type": "code",
<<<<<<< HEAD
   "execution_count": 38,
   "id": "direct-architect",
   "metadata": {},
   "outputs": [
    {
     "data": {
      "application/vnd.jupyter.widget-view+json": {
       "model_id": "75ae0a0b406441b4846ef48b4d0107b8",
       "version_major": 2,
       "version_minor": 0
      },
      "text/plain": [
       "Canvas(toolbar=Toolbar(toolitems=[('Home', 'Reset original view', 'home', 'home'), ('Back', 'Back to previous …"
      ]
     },
     "metadata": {},
     "output_type": "display_data"
    }
   ],
   "source": [
<<<<<<< HEAD
    "plot.heatmap(Control_0M.t_df, x_min=258, x_max=261)"
=======
   "execution_count": null,
   "id": "potential-hometown",
   "metadata": {},
   "outputs": [],
   "source": [
    "plot.heatmap(data.t_df, x_min=258, x_max=261)"
>>>>>>> parent of 5f8ef0a (Now subplots data in functionT has to be plotted in lists, but data frame can be neglected)
   ]
  },
  {
   "cell_type": "code",
<<<<<<< HEAD
   "execution_count": 45,
   "id": "bigger-assist",
   "metadata": {},
   "outputs": [
    {
     "ename": "NameError",
     "evalue": "name 'data' is not defined",
     "output_type": "error",
     "traceback": [
      "\u001b[1;31m---------------------------------------------------------------------------\u001b[0m",
      "\u001b[1;31mNameError\u001b[0m                                 Traceback (most recent call last)",
      "\u001b[1;32m<ipython-input-45-3b8251b36b00>\u001b[0m in \u001b[0;36m<module>\u001b[1;34m\u001b[0m\n\u001b[1;32m----> 1\u001b[1;33m \u001b[0mplot\u001b[0m\u001b[1;33m.\u001b[0m\u001b[0mfunction\u001b[0m\u001b[1;33m(\u001b[0m\u001b[1;33m[\u001b[0m\u001b[1;36m247\u001b[0m\u001b[1;33m]\u001b[0m\u001b[1;33m,\u001b[0m\u001b[0mdata\u001b[0m\u001b[1;33m.\u001b[0m\u001b[0mt_df\u001b[0m\u001b[1;33m,\u001b[0m \u001b[0mdf2\u001b[0m\u001b[1;33m=\u001b[0m\u001b[0mderiv\u001b[0m\u001b[1;33m)\u001b[0m\u001b[1;33m\u001b[0m\u001b[1;33m\u001b[0m\u001b[0m\n\u001b[0m",
      "\u001b[1;31mNameError\u001b[0m: name 'data' is not defined"
     ]
    }
   ],
   "source": [
    "plot.function([247],data.t_df, df2=deriv)"
=======
    "plot.function([247], Control_0M.t_df, deriv)"
>>>>>>> parent of 7bf2d78 (Merge branch 'coop' into Analise_Wachstums_Schub)
=======
   "execution_count": null,
   "id": "protected-scenario",
   "metadata": {},
   "outputs": [],
   "source": [
    "print(data.t_list)"
>>>>>>> parent of 5f8ef0a (Now subplots data in functionT has to be plotted in lists, but data frame can be neglected)
   ]
  },
  {
   "cell_type": "code",
   "execution_count": null,
   "id": "three-dealing",
   "metadata": {},
   "outputs": [],
   "source": [
    "plot.function([247],data.t_df, df2=deriv)"
   ]
  },
  {
   "cell_type": "code",
   "execution_count": null,
   "id": "formal-trout",
   "metadata": {},
   "outputs": [],
   "source": [
    "\n",
    "integral = pd.DataFrame(['integral','error'], columns=['Wavelength'])\n",
    "                        \n",
    "for i in range(len(deriv.index)):\n",
    "    f = ana.interpolate(deriv, i)\n",
    "    value = integrate.quad(f, 30, 75)\n",
    "    integral[i+200] = value\n",
    "integral.set_index('Wavelength')\n",
    "integral = integral.T\n",
    "\n"
   ]
  },
  {
   "cell_type": "code",
   "execution_count": null,
<<<<<<< HEAD
   "id": "final-arthritis",
=======
   "id": "prime-mountain",
>>>>>>> parent of 5f8ef0a (Now subplots data in functionT has to be plotted in lists, but data frame can be neglected)
   "metadata": {},
   "outputs": [],
   "source": [
    "print(integral)\n"
   ]
  },
  {
   "cell_type": "markdown",
<<<<<<< HEAD
   "id": "detected-captain",
   "metadata": {},
   "source": [
    "$$\n",
    "\\color{red}{\\textbf{Ende. Vielleicht etwas $\\LaTeX$ lernen?}}\n",
    "$$"
=======
   "id": "diverse-occasions",
   "metadata": {},
   "source": [
    "\n",
    "ab hier test"
>>>>>>> parent of 5f8ef0a (Now subplots data in functionT has to be plotted in lists, but data frame can be neglected)
   ]
  },
  {
   "cell_type": "code",
   "execution_count": null,
<<<<<<< HEAD
   "id": "dental-effects",
=======
   "id": "economic-promise",
>>>>>>> parent of 5f8ef0a (Now subplots data in functionT has to be plotted in lists, but data frame can be neglected)
   "metadata": {},
   "outputs": [],
   "source": [
    "d"
   ]
  }
 ],
 "metadata": {
  "kernelspec": {
   "display_name": "Python 3",
   "language": "python",
   "name": "python3"
  },
  "language_info": {
   "codemirror_mode": {
    "name": "ipython",
    "version": 3
   },
   "file_extension": ".py",
   "mimetype": "text/x-python",
   "name": "python",
   "nbconvert_exporter": "python",
   "pygments_lexer": "ipython3",
   "version": "3.8.5"
  },
  "toc-autonumbering": true,
  "toc-showcode": false,
  "toc-showmarkdowntxt": false,
  "toc-showtags": false
 },
 "nbformat": 4,
 "nbformat_minor": 5
}
