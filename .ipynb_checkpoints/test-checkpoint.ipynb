{
 "cells": [
  {
   "cell_type": "markdown",
   "id": "analyzed-sustainability",
   "metadata": {},
   "source": [
    "![ChessUrl](https://young.scot/media/1513/working_information_digtialcareermythbustersgif_001.jpg \"cat\")\n"
   ]
  },
  {
   "cell_type": "markdown",
   "id": "bridal-service",
   "metadata": {},
   "source": [
    "# Data Analysis"
   ]
  },
  {
   "cell_type": "markdown",
   "id": "periodic-kernel",
   "metadata": {},
   "source": [
    "## Imports"
   ]
  },
  {
   "cell_type": "code",
   "execution_count": 1,
   "id": "needed-wisdom",
   "metadata": {},
   "outputs": [],
   "source": [
    "\n",
    "# Enabling the `widget` backend.\n",
    "# This requires jupyter-matplotlib a.k.a. ipympl.\n",
    "# ipympl can be install via pip or conda.\n",
    "%matplotlib widget\n",
    "        \n",
    "import matplotlib.pyplot as plt\n",
    "import numpy as np\n",
    "import pandas as pd\n",
    "from ipywidgets import Output\n",
    "import matplotlib\n",
    "from scipy import integrate\n",
    "import os"
   ]
  },
  {
   "cell_type": "code",
   "execution_count": 2,
   "id": "fatal-census",
   "metadata": {},
   "outputs": [],
   "source": [
    "import analise as ana \n",
    "import cdata \n",
    "import hotznplots as plot"
   ]
  },
  {
   "cell_type": "code",
   "execution_count": 3,
   "id": "fitted-anchor",
   "metadata": {},
   "outputs": [],
   "source": [
    "# Default value of display.max_rows is 10 i.e. at max 10 rows will be printed.\n",
    "# Set it None to display all rows in the dataframe\n",
    "pd.set_option('display.max_rows', None)"
   ]
  },
  {
   "cell_type": "markdown",
   "id": "legendary-cooperation",
   "metadata": {},
   "source": [
    "## Importing the data"
   ]
  },
  {
   "cell_type": "markdown",
   "id": "trained-calendar",
   "metadata": {},
   "source": [
    " The path of data to to copy from:\n",
    " *F:\\HZDR\\CD_data* for Daniel\n",
    " *C:\\Users\\crazy\\Mega\\Uni\\Masterarbeit\\Projekt\\Data\\CD_data*"
   ]
  },
  {
   "cell_type": "code",
   "execution_count": null,
   "id": "competitive-conclusion",
   "metadata": {},
   "outputs": [],
   "source": []
  },
  {
   "cell_type": "code",
   "execution_count": 3,
   "id": "agreed-speaking",
   "metadata": {},
   "outputs": [
    {
     "name": "stdout",
     "output_type": "stream",
     "text": [
      "['0 M Control', '0,5 Gdm2SO4', '0,5 GdmCl', '0,5 GdmSCN', '1 M Gdm2SO4', '2 M Gdm2SO4', '2 M GdmCl', '2 M GdmCl 24 h inkubation', '2 M GdmSCN', '2 M Urea', '4 M GdmCl']\n"
     ]
    }
   ],
   "source": [
    "path = \"F:\\\\HZDR\\\\CD_data\"\n",
    "#path = \"C:\\\\Users\\\\crazy\\\\Mega\\\\Uni\\\\Masterarbeit\\\\Projekt\\\\Data\\\\CD_data\"\n",
    "folderlist = os.listdir(path)\n",
    "print(folderlist)"
   ]
  },
  {
   "cell_type": "code",
   "execution_count": 18,
   "id": "dying-olympus",
   "metadata": {},
   "outputs": [],
   "source": [
    "Control_0M = cdata.CData(os.path.join(path, folderlist[0]))\n",
    "Gdm2SO4_05M = cdata.CData(os.path.join(path, folderlist[1]))\n",
    "GdmCl_05M = cdata.CData(os.path.join(path, folderlist[2]))\n",
    "GdmSCN_05M = cdata.CData(os.path.join(path, folderlist[3]))\n",
    "Gdm2SO4_2M = cdata.CData(os.path.join(path, folderlist[4]))\n",
    "Gdm2SO4_4M = cdata.CData(os.path.join(path, folderlist[5]))\n",
    "GdmCl_2M = cdata.CData(os.path.join(path, folderlist[6]))\n",
    "GdmCl_2M_24h = cdata.CData(os.path.join(path, folderlist[7]))\n",
    "GdmSCN_2M = cdata.CData(os.path.join(path, folderlist[8]))\n",
    "Urea_2M = cdata.CData(os.path.join(path, folderlist[9]))\n",
    "GdmCl_4M = cdata.CData(os.path.join(path, folderlist[10]))"
   ]
  },
  {
   "cell_type": "markdown",
   "id": "manufactured-session",
   "metadata": {
    "tags": []
   },
   "source": [
    "## Plotti"
   ]
  },
  {
   "cell_type": "markdown",
   "id": "premium-climb",
   "metadata": {},
   "source": [
    "### Max and min functions"
   ]
  },
  {
   "cell_type": "code",
   "execution_count": 6,
   "id": "provincial-employer",
   "metadata": {},
   "outputs": [],
   "source": [
    "#### Max 210 - 230"
   ]
  },
  {
   "cell_type": "code",
   "execution_count": 10,
   "id": "distant-nevada",
   "metadata": {},
   "outputs": [
    {
     "data": {
      "application/vnd.jupyter.widget-view+json": {
       "model_id": "569fda96f7264b3eb0d711ca95a59406",
       "version_major": 2,
       "version_minor": 0
      },
      "text/plain": [
       "Canvas(toolbar=Toolbar(toolitems=[('Home', 'Reset original view', 'home', 'home'), ('Back', 'Back to previous …"
      ]
     },
     "metadata": {},
     "output_type": "display_data"
    },
    {
     "data": {
      "application/vnd.jupyter.widget-view+json": {
       "model_id": "6a0795bb3cca4c278e8dfd5b868daed3",
       "version_major": 2,
       "version_minor": 0
      },
      "text/plain": [
       "Canvas(toolbar=Toolbar(toolitems=[('Home', 'Reset original view', 'home', 'home'), ('Back', 'Back to previous …"
      ]
     },
     "metadata": {},
     "output_type": "display_data"
    }
   ],
   "source": [
    "df = ana.max_wave(Control_0M.t_df, wave_min=210, wave_max=230)\n",
    "df2 = ana.min_wave(Control_0M.t_df, wave_min=210, wave_max=230)\n",
    "plot.function([\"Wavelength\", ], df, swap=True, y_label= \"Wavelength [nm]\", suptitle= \"Max Wavelength 210 - 230 nm\")\n",
    "plot.function([\"Value\"], df, swap=True, subtitle= \"Max CD value 210 - 230 nm\")"
   ]
  },
  {
   "cell_type": "code",
   "execution_count": 8,
   "id": "internal-joyce",
   "metadata": {},
   "outputs": [],
   "source": [
    "#### Min 230 - 260"
   ]
  },
  {
   "cell_type": "code",
   "execution_count": 12,
   "id": "sharp-greeting",
   "metadata": {},
   "outputs": [
    {
     "data": {
      "application/vnd.jupyter.widget-view+json": {
       "model_id": "6b445bb8d38c48e1ba4fa3ab3c60823e",
       "version_major": 2,
       "version_minor": 0
      },
      "text/plain": [
       "Canvas(toolbar=Toolbar(toolitems=[('Home', 'Reset original view', 'home', 'home'), ('Back', 'Back to previous …"
      ]
     },
     "metadata": {},
     "output_type": "display_data"
    },
    {
     "data": {
      "application/vnd.jupyter.widget-view+json": {
       "model_id": "9b2028159d634996a8a6b6dc79a73f40",
       "version_major": 2,
       "version_minor": 0
      },
      "text/plain": [
       "Canvas(toolbar=Toolbar(toolitems=[('Home', 'Reset original view', 'home', 'home'), ('Back', 'Back to previous …"
      ]
     },
     "metadata": {},
     "output_type": "display_data"
    }
   ],
   "source": [
    "df = ana.max_wave(Control_0M.t_df, wave_min=220, wave_max=260)\n",
    "df2 = ana.min_wave(Control_0M.t_df, wave_min=220, wave_max=260)\n",
    "plot.function([\"Wavelength\", ], df2, swap=True, y_label= \"Wavelength [nm]\", suptitle= \"Min Wavelength 220 - 260 nm\")\n",
    "plot.function([\"Value\"], df2, swap=True, suptitle= \"Min CD value 220 - 260 nm\")"
   ]
  },
  {
   "cell_type": "markdown",
   "id": "federal-graphic",
   "metadata": {},
   "source": [
    "#### Max 260 - 300 nm"
   ]
  },
  {
   "cell_type": "code",
   "execution_count": 13,
   "id": "fundamental-housing",
   "metadata": {},
   "outputs": [
    {
     "data": {
      "application/vnd.jupyter.widget-view+json": {
       "model_id": "b2c92f5ab06e4a26a42b7f320c1b5f01",
       "version_major": 2,
       "version_minor": 0
      },
      "text/plain": [
       "Canvas(toolbar=Toolbar(toolitems=[('Home', 'Reset original view', 'home', 'home'), ('Back', 'Back to previous …"
      ]
     },
     "metadata": {},
     "output_type": "display_data"
    },
    {
     "data": {
      "application/vnd.jupyter.widget-view+json": {
       "model_id": "089e28153ec7422fa0312beb2ffde6ac",
       "version_major": 2,
       "version_minor": 0
      },
      "text/plain": [
       "Canvas(toolbar=Toolbar(toolitems=[('Home', 'Reset original view', 'home', 'home'), ('Back', 'Back to previous …"
      ]
     },
     "metadata": {},
     "output_type": "display_data"
    }
   ],
   "source": [
    "df = ana.max_wave(Control_0M.t_df, wave_min=260, wave_max=300)\n",
    "df2 = ana.min_wave(Control_0M.t_df, wave_min=260, wave_max=300)\n",
    "plot.function([\"Wavelength\", ], df, swap=True, y_label= \"Wavelength [nm]\", suptitle= \"Max Wavelength 260 - 300 nm\")\n",
    "plot.function([\"Value\"], df, swap=True, suptitle= \"Max CD value 260 - 300 nm\")"
   ]
  },
  {
   "cell_type": "markdown",
   "id": "confused-review",
   "metadata": {},
   "source": [
    "### Ploting temperature[K]; X-achis = Temperatur; Y-achsis = CD"
   ]
  },
  {
   "cell_type": "code",
   "execution_count": null,
   "id": "organic-cheese",
   "metadata": {},
   "outputs": [],
   "source": [
    "plot.function([212, 220, 247, 260, 275], Urea_2M.t_df, Control_0M.t_df)"
   ]
  },
  {
   "cell_type": "code",
   "execution_count": null,
   "id": "beautiful-entity",
   "metadata": {},
   "outputs": [],
   "source": [
    "# Plotting wavelength[nm]; X-achsis = temperature; Y-achis = CD"
   ]
  },
  {
   "cell_type": "code",
   "execution_count": null,
   "id": "activated-simulation",
   "metadata": {},
   "outputs": [],
   "source": [
    "plot.function([ 260, 275], Control_0M.t_df,GdmSCN_05M.t_df, GdmSCN_2M.t_df, y_scaling = (-2,5))"
   ]
  },
  {
   "cell_type": "markdown",
   "id": "behavioral-magic",
   "metadata": {},
   "source": [
    "## **analise**"
   ]
  },
  {
   "cell_type": "code",
   "execution_count": null,
   "id": "romance-messaging",
   "metadata": {},
   "outputs": [],
   "source": [
    "plot.function([275, 290], Control_0M.t_df, Gdm2SO4_05M.t_df)"
   ]
  },
  {
   "cell_type": "markdown",
   "id": "bizarre-priest",
   "metadata": {},
   "source": [
    "### Correlation Analysis"
   ]
  },
  {
   "cell_type": "code",
   "execution_count": null,
   "id": "developed-literature",
   "metadata": {},
   "outputs": [],
   "source": [
    "print(Control_0M.t_list, GdmCl_05M.t_list)"
   ]
  },
  {
   "cell_type": "raw",
   "id": "dominant-organizer",
   "metadata": {},
   "source": [
    "control2 = Control_0M.t_df.drop([53], axis=1)\n",
    "print(control2)"
   ]
  },
  {
   "cell_type": "markdown",
   "id": "lovely-feature",
   "metadata": {},
   "source": [
    "<div class=\"alert alert-block alert-info\">\n",
    "<b>Achtung:</b> When Messungen unterschiedlich viele Temperaturwerte haben, kommt ein Fehler. Am besten vergleichen. Einfachste Lösung ist hier unten mit 'Datei_mit_mehr_werten'.loc[:, 'Datei_mit_mehr_Werten'.t_list]\n",
    "</div>"
   ]
  },
  {
   "cell_type": "code",
   "execution_count": null,
   "id": "elementary-opening",
   "metadata": {},
   "outputs": [],
   "source": [
    "sync, assync = ana.correlation(GdmCl_05M.t_df, ref_spec=Control_0M.t_df.loc[:, GdmCl_05M.t_list], scaling='pareto')\n"
   ]
  },
  {
   "cell_type": "code",
   "execution_count": null,
   "id": "olive-audio",
   "metadata": {},
   "outputs": [],
   "source": [
    "plot.heatmap(assync)"
   ]
  },
  {
   "cell_type": "code",
   "execution_count": null,
   "id": "massive-candy",
   "metadata": {},
   "outputs": [],
   "source": [
    "plot.heatmap(sync, x_min=220, y_min=220)"
   ]
  },
  {
   "cell_type": "code",
   "execution_count": null,
   "id": "democratic-gross",
   "metadata": {},
   "outputs": [],
   "source": [
    "plot.heatmap(Urea_2M.t_df, x_min=220, x_max=261)"
   ]
  },
  {
   "cell_type": "markdown",
   "id": "stone-hypothetical",
   "metadata": {},
   "source": [
    "### derivative example"
   ]
  },
  {
   "cell_type": "code",
   "execution_count": null,
   "id": "furnished-jumping",
   "metadata": {},
   "outputs": [],
   "source": [
    "deriv = ana.derivative(Control_0M.t_df)\n",
    "data = Control_0M.t_df"
   ]
  },
  {
   "cell_type": "code",
   "execution_count": null,
   "id": "otherwise-bracelet",
   "metadata": {},
   "outputs": [],
   "source": [
    "plot.function([247], data, deriv)"
   ]
  },
  {
   "cell_type": "code",
   "execution_count": null,
   "id": "compressed-latvia",
   "metadata": {},
   "outputs": [],
   "source": [
    "#print(deriv)"
   ]
  },
  {
   "cell_type": "code",
   "execution_count": null,
   "id": "federal-installation",
   "metadata": {},
   "outputs": [],
   "source": [
    "                                                                                                                                                    #"
   ]
  },
  {
   "cell_type": "code",
   "execution_count": null,
   "id": "greek-apparatus",
   "metadata": {},
   "outputs": [],
   "source": [
    "\n",
    "print(deriv.max(axis=1), deriv.idxmax(axis=1))\n"
   ]
  },
  {
   "cell_type": "markdown",
   "id": "surprised-placement",
   "metadata": {},
   "source": [
    "#### example for integral"
   ]
  },
  {
   "cell_type": "code",
   "execution_count": null,
   "id": "pleased-sodium",
   "metadata": {},
   "outputs": [],
   "source": [
    "\n",
    "integral = pd.DataFrame(['integral','error'], columns=['Wavelength'])\n",
    "                        \n",
    "for i in range(len(deriv.index)):\n",
    "    f = ana.interpolate(deriv, i)\n",
    "    value = integrate.quad(f, 30, 75)\n",
    "    integral[i+200] = value\n",
    "integral.set_index('Wavelength')\n",
    "integral = integral.T\n",
    "\n"
   ]
  },
  {
   "cell_type": "code",
   "execution_count": null,
   "id": "available-infrastructure",
   "metadata": {},
   "outputs": [],
   "source": [
    "print(integral)\n"
   ]
  },
  {
   "cell_type": "markdown",
   "id": "forced-semiconductor",
   "metadata": {},
   "source": [
    "$$\n",
    "\\color{red}{\\textbf{Ende. Vielleicht etwas $\\LaTeX$ lernen?}}\n",
    "$$"
   ]
  },
  {
   "cell_type": "code",
   "execution_count": null,
   "id": "separated-banana",
   "metadata": {},
   "outputs": [],
   "source": [
    "#data = Control_0M.t_df\n",
    "prep = ana.normalize(data)\n",
    "fit = ana.sigmoid_fit(prep)"
   ]
  },
  {
   "cell_type": "code",
   "execution_count": null,
   "id": "tight-yield",
   "metadata": {},
   "outputs": [],
   "source": [
    "plot.function([\"fit\", 247], fit)"
   ]
  },
  {
   "cell_type": "code",
   "execution_count": null,
   "id": "utility-liberty",
   "metadata": {},
   "outputs": [],
   "source": []
  },
  {
   "cell_type": "code",
   "execution_count": null,
   "id": "adjustable-theorem",
   "metadata": {},
   "outputs": [],
   "source": []
  }
 ],
 "metadata": {
  "kernelspec": {
   "display_name": "Python 3",
   "language": "python",
   "name": "python3"
  },
  "language_info": {
   "codemirror_mode": {
    "name": "ipython",
    "version": 3
   },
   "file_extension": ".py",
   "mimetype": "text/x-python",
   "name": "python",
   "nbconvert_exporter": "python",
   "pygments_lexer": "ipython3",
   "version": "3.8.5"
  },
  "toc-autonumbering": true,
  "toc-showcode": false,
  "toc-showmarkdowntxt": false,
  "toc-showtags": false
 },
 "nbformat": 4,
 "nbformat_minor": 5
}
