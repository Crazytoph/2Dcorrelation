{
 "cells": [
  {
   "cell_type": "markdown",
   "id": "removable-wholesale",
   "metadata": {},
   "source": [
    "*for more information, checkout* [Github](https://github.com/Crazytoph/2Dcorrelation \"my github page\")."
   ]
  },
  {
   "cell_type": "markdown",
   "id": "removed-organizer",
   "metadata": {},
   "source": [
    "# CD Measurements - Data Analysis"
   ]
  },
  {
   "cell_type": "markdown",
   "id": "junior-ghana",
   "metadata": {},
   "source": [
    "## *setting up the Notebook*"
   ]
  },
  {
   "cell_type": "code",
   "execution_count": 1,
   "id": "lonely-installation",
   "metadata": {},
   "outputs": [],
   "source": [
    "# Enabling the `widget` backend.\n",
    "# This requires jupyter-matplotlib a.k.a. ipympl.\n",
    "# ipympl can be install via pip or conda.\n",
    "%matplotlib widget\n",
    "        \n",
    "import matplotlib.pyplot as plt\n",
    "import numpy as np\n",
    "import pandas as pd\n",
    "from ipywidgets import Output\n",
    "import matplotlib\n",
    "from scipy import integrate\n",
    "import os"
   ]
  },
  {
   "cell_type": "code",
   "execution_count": 2,
   "id": "presidential-marker",
   "metadata": {},
   "outputs": [],
   "source": [
    "import analise as ana \n",
    "import cdata \n",
    "import hotznplots as plot"
   ]
  },
  {
   "cell_type": "markdown",
   "id": "decreased-singapore",
   "metadata": {},
   "source": [
    "<div class=\"alert alert-block alert-info\">\n",
    "<b>Info:</b> Print always whole DataFrames\n",
    "</div>"
   ]
  },
  {
   "cell_type": "code",
   "execution_count": 3,
   "id": "developing-snake",
   "metadata": {},
   "outputs": [],
   "source": [
    "# Default value of display.max_rows is 10 i.e. at max 10 rows will be printed.\n",
    "# Set it None to display all rows in the dataframe\n",
    "pd.set_option('display.max_rows', None)"
   ]
  },
  {
   "cell_type": "code",
   "execution_count": 4,
   "id": "proprietary-democracy",
   "metadata": {},
   "outputs": [],
   "source": [
    "# change plot size\n",
    "plt.rcParams[\"figure.figsize\"] = (11,9)"
   ]
  },
  {
   "cell_type": "markdown",
   "id": "unique-captain",
   "metadata": {},
   "source": [
    "<div class=\"alert alert-block alert-info\">\n",
    "<b>Info:</b> Get the data\n",
    "</div>"
   ]
  },
  {
   "cell_type": "code",
   "execution_count": 5,
   "id": "rapid-alexandria",
   "metadata": {},
   "outputs": [
    {
     "name": "stdout",
     "output_type": "stream",
     "text": [
      "['Control_0M', 'Gdm2SO4_0.5M', 'Gdm2SO4_2M', 'Gdm2SO4_4M', 'GdmCl_0.5M', 'GdmCl_2M', 'GdmCl_2M_24h', 'GdmSCN_0.5M', 'GdmSCN_2M', 'Urea_2M']\n"
     ]
    }
   ],
   "source": [
    "# Path for Daniel:\n",
    "#path = \"F:\\\\HZDR\\\\CD_data\"\n",
    "\n",
    "# My Path:\n",
    "path = \"C:\\\\Users\\\\crazy\\\\Mega\\\\Uni\\\\Masterarbeit\\\\Projekt\\\\Data\\\\CD_data\"\n",
    "datalist = os.listdir(path)\n",
    "print(datalist)"
   ]
  },
  {
   "cell_type": "code",
   "execution_count": 6,
   "id": "documentary-gamma",
   "metadata": {},
   "outputs": [],
   "source": [
    "# all data in one dictionary with foldernames as names\n",
    "data_all = {}\n",
    "for i in range(len(datalist)):\n",
    "    data_all[datalist[i]] = cdata.CData(os.path.join(path, datalist[i]))"
   ]
  },
  {
   "cell_type": "code",
   "execution_count": 7,
   "id": "narrow-implementation",
   "metadata": {},
   "outputs": [
    {
     "name": "stdout",
     "output_type": "stream",
     "text": [
      "<cdata.CData object at 0x000001A63F8AD700>\n",
      "[<cdata.CData object at 0x000001A63F8AD700>, <cdata.CData object at 0x000001A63F89D610>]\n",
      "(<cdata.CData object at 0x000001A63F8AD700>, <cdata.CData object at 0x000001A63BF272B0>, <cdata.CData object at 0x000001A63F8ADF70>, <cdata.CData object at 0x000001A63F89D610>)\n"
     ]
    }
   ],
   "source": [
    "# options to acces data\n",
    "print(data_all['Control_0M'])\n",
    "# multiple options\n",
    "print(list(map(data_all.get, ['Control_0M', 'Gdm2SO4_4M'])))\n",
    "print(tuple(data_all.values())[0:4])"
   ]
  },
  {
   "cell_type": "markdown",
   "id": "clean-danger",
   "metadata": {},
   "source": [
    "## Colormaps"
   ]
  },
  {
   "cell_type": "code",
   "execution_count": 8,
   "id": "light-seventh",
   "metadata": {},
   "outputs": [
    {
     "data": {
      "application/vnd.jupyter.widget-view+json": {
       "model_id": "0c2ec9935c684f84abc74fd8f2d67e76",
       "version_major": 2,
       "version_minor": 0
      },
      "text/plain": [
       "Canvas(toolbar=Toolbar(toolitems=[('Home', 'Reset original view', 'home', 'home'), ('Back', 'Back to previous …"
      ]
     },
     "metadata": {},
     "output_type": "display_data"
    }
   ],
   "source": [
    "plot.heatmap(*tuple(data_all.values()), subtitle=tuple(data_all.keys()), title=\"Cd-Values\", x_min=[220]*len(data_all))"
   ]
  },
  {
   "cell_type": "markdown",
   "id": "compound-glass",
   "metadata": {},
   "source": [
    "## Function Plots "
   ]
  },
  {
   "cell_type": "code",
   "execution_count": 9,
   "id": "applied-control",
   "metadata": {},
   "outputs": [
    {
     "data": {
      "application/vnd.jupyter.widget-view+json": {
       "model_id": "31c84fb10a164afe9a24aba236fe4440",
       "version_major": 2,
       "version_minor": 0
      },
      "text/plain": [
       "Canvas(toolbar=Toolbar(toolitems=[('Home', 'Reset original view', 'home', 'home'), ('Back', 'Back to previous …"
      ]
     },
     "metadata": {},
     "output_type": "display_data"
    }
   ],
   "source": [
    "data=[]\n",
    "for key in data_all.keys():\n",
    "    data.append([data_all[key]])\n",
    "\n",
    "plot.mult_func([230, 247, 275, 300], *data, subtitle=tuple(data_all.keys()), title=\"Cd-Values\")"
   ]
  },
  {
   "cell_type": "markdown",
   "id": "historic-washer",
   "metadata": {},
   "source": [
    "## Correlation Analyis"
   ]
  },
  {
   "cell_type": "markdown",
   "id": "southwest-cartoon",
   "metadata": {},
   "source": [
    "### Homogenous Spectrum\n",
    "\n",
    "*with pareto scaling and Control Measurement as Reference*"
   ]
  },
  {
   "cell_type": "code",
   "execution_count": 10,
   "id": "built-consensus",
   "metadata": {},
   "outputs": [
    {
     "data": {
      "application/vnd.jupyter.widget-view+json": {
       "model_id": "bb20aaccc2c54dc0b47385701426ca69",
       "version_major": 2,
       "version_minor": 0
      },
      "text/plain": [
       "Canvas(toolbar=Toolbar(toolitems=[('Home', 'Reset original view', 'home', 'home'), ('Back', 'Back to previous …"
      ]
     },
     "metadata": {},
     "output_type": "display_data"
    },
    {
     "data": {
      "application/vnd.jupyter.widget-view+json": {
       "model_id": "790726b067904d58b8c3c9eb0c67eef3",
       "version_major": 2,
       "version_minor": 0
      },
      "text/plain": [
       "Canvas(toolbar=Toolbar(toolitems=[('Home', 'Reset original view', 'home', 'home'), ('Back', 'Back to previous …"
      ]
     },
     "metadata": {},
     "output_type": "display_data"
    },
    {
     "data": {
      "application/vnd.jupyter.widget-view+json": {
       "model_id": "466dbb49ddcb4359a92d94010686dfe1",
       "version_major": 2,
       "version_minor": 0
      },
      "text/plain": [
       "Canvas(toolbar=Toolbar(toolitems=[('Home', 'Reset original view', 'home', 'home'), ('Back', 'Back to previous …"
      ]
     },
     "metadata": {},
     "output_type": "display_data"
    },
    {
     "data": {
      "application/vnd.jupyter.widget-view+json": {
       "model_id": "3f1245b4205f4b49821a14b9b91d29ef",
       "version_major": 2,
       "version_minor": 0
      },
      "text/plain": [
       "Canvas(toolbar=Toolbar(toolitems=[('Home', 'Reset original view', 'home', 'home'), ('Back', 'Back to previous …"
      ]
     },
     "metadata": {},
     "output_type": "display_data"
    },
    {
     "data": {
      "application/vnd.jupyter.widget-view+json": {
       "model_id": "97f2ddaa057c488382b690a4be8431ae",
       "version_major": 2,
       "version_minor": 0
      },
      "text/plain": [
       "Canvas(toolbar=Toolbar(toolitems=[('Home', 'Reset original view', 'home', 'home'), ('Back', 'Back to previous …"
      ]
     },
     "metadata": {},
     "output_type": "display_data"
    },
    {
     "data": {
      "application/vnd.jupyter.widget-view+json": {
       "model_id": "33d8808687a8402daef3b51e9008bf2e",
       "version_major": 2,
       "version_minor": 0
      },
      "text/plain": [
       "Canvas(toolbar=Toolbar(toolitems=[('Home', 'Reset original view', 'home', 'home'), ('Back', 'Back to previous …"
      ]
     },
     "metadata": {},
     "output_type": "display_data"
    },
    {
     "data": {
      "application/vnd.jupyter.widget-view+json": {
       "model_id": "b8c2165ca75b4bd0b129241166e57bb7",
       "version_major": 2,
       "version_minor": 0
      },
      "text/plain": [
       "Canvas(toolbar=Toolbar(toolitems=[('Home', 'Reset original view', 'home', 'home'), ('Back', 'Back to previous …"
      ]
     },
     "metadata": {},
     "output_type": "display_data"
    },
    {
     "data": {
      "application/vnd.jupyter.widget-view+json": {
       "model_id": "7d1091ea526c40e2af9a7e3e49b57930",
       "version_major": 2,
       "version_minor": 0
      },
      "text/plain": [
       "Canvas(toolbar=Toolbar(toolitems=[('Home', 'Reset original view', 'home', 'home'), ('Back', 'Back to previous …"
      ]
     },
     "metadata": {},
     "output_type": "display_data"
    },
    {
     "data": {
      "application/vnd.jupyter.widget-view+json": {
       "model_id": "de6d9b8ed09d4211b814737bd84fdf18",
       "version_major": 2,
       "version_minor": 0
      },
      "text/plain": [
       "Canvas(toolbar=Toolbar(toolitems=[('Home', 'Reset original view', 'home', 'home'), ('Back', 'Back to previous …"
      ]
     },
     "metadata": {},
     "output_type": "display_data"
    }
   ],
   "source": [
    "for key in data_all.keys():\n",
    "    if key == \"Control_0M\":\n",
    "        continue\n",
    "    ref = data_all[\"Control_0M\"].cd_df.loc[:, list(data_all[key].cd_df.columns)]    \n",
    "    sync, assync = ana.correlation(data_all[key].cd_df, ref_spec=ref, scaling='pareto')\n",
    "    plot.heatmap(sync, assync, title=str(key), subtitle=[\"Synchronous Spectrum\", \"Asynchronous Spectrum\"], x_min=[220, 220], y_min=[220,220])"
   ]
  },
  {
   "cell_type": "markdown",
   "id": "circular-minutes",
   "metadata": {},
   "source": [
    "## Sigmoid Fit and Melting Temperature"
   ]
  },
  {
   "cell_type": "code",
   "execution_count": 11,
   "id": "coupled-crawford",
   "metadata": {},
   "outputs": [
    {
     "name": "stdout",
     "output_type": "stream",
     "text": [
      "[ 0.18677176 61.81965531] [0.01970753 0.53616699]\n",
      "[ 0.24733216 63.42769918] [0.021931   0.35106747]\n",
      "[ 0.3      63.952136] [0.02830562 0.31740654]\n",
      "[ 0.28174123 64.87468031] [0.0257719  0.33422358]\n",
      "[ 0.2364995  63.66483815] [0.01583725 0.27656029]\n",
      "[ 0.29391682 61.61989348] [0.0191108  0.21232312]\n",
      "[ 0.26911021 63.193142  ] [0.02238774 0.30450945]\n",
      "[1.41708677e-02 5.00000000e+01] [1.82155660e-02 2.37101894e+01]\n",
      "[2.29855156e-02 7.00000000e+01] [ 0.01983875 16.6558836 ]\n",
      "[ 0.19424875 57.00576793] [0.02250772 0.5612431 ]\n"
     ]
    },
    {
     "data": {
      "application/vnd.jupyter.widget-view+json": {
       "model_id": "5a7d9839464c47e98271df01ecc90298",
       "version_major": 2,
       "version_minor": 0
      },
      "text/plain": [
       "Canvas(toolbar=Toolbar(toolitems=[('Home', 'Reset original view', 'home', 'home'), ('Back', 'Back to previous …"
      ]
     },
     "metadata": {},
     "output_type": "display_data"
    }
   ],
   "source": [
    "graph={}\n",
    "melt_T={}\n",
    "for key in data_all.keys():\n",
    "    fit, params = ana.sigmoid_fit(ana.normalize(data_all[key].cd_df))\n",
    "    x =  np.arange(20, 91, 0.1)\n",
    "    deriv = pd.DataFrame(ana.sigmoid_deriv(x, *params), index=x, columns=[\"deriv\"]).T\n",
    "    maximum = deriv.max(axis=1) \n",
    "    T = float(deriv.idxmax(axis=1))\n",
    "    maxi = pd.DataFrame({T:1}, index=[\"Maximum\"])\n",
    "    deriv = deriv.div(maximum, axis=0)\n",
    "    fit = pd.concat([fit, deriv], axis=0)\n",
    "    fit = pd.concat([fit, maxi], axis=0)\n",
    "    graph[key] = [fit]  \n",
    "    melt_T[key] = T\n",
    "plot.mult_func([247, \"fit\", \"deriv\", \"Maximum\"], *graph.values(),  title=\"Sigmoid-Fit and Derivative(adjusted)\", subtitle=list(graph.keys()), marker=['x', '', '', 'x'], linestyle=[\"\",\"-\", \":\",\"\"])"
   ]
  },
  {
   "cell_type": "markdown",
   "id": "smaller-scheduling",
   "metadata": {},
   "source": [
    "Plot the melting Temperatures for the Gdm2SO4 and GdmCl"
   ]
  },
  {
   "cell_type": "code",
   "execution_count": 12,
   "id": "removable-magic",
   "metadata": {},
   "outputs": [
    {
     "data": {
      "application/vnd.jupyter.widget-view+json": {
       "model_id": "4b5fd2feec7f477497a549565d353291",
       "version_major": 2,
       "version_minor": 0
      },
      "text/plain": [
       "Canvas(toolbar=Toolbar(toolitems=[('Home', 'Reset original view', 'home', 'home'), ('Back', 'Back to previous …"
      ]
     },
     "metadata": {},
     "output_type": "display_data"
    }
   ],
   "source": [
    "x = [0., 0.5, 1., 2.]\n",
    "y = list(melt_T.values())[0:4]\n",
    "graph1 = pd.DataFrame(y, index=x, columns=[\"Gdm2SO4\"]).T\n",
    "\n",
    "y2 = [melt_T[\"Control_0M\"], melt_T[\"GdmCl_0.5M\"], melt_T[\"GdmCl_2M\"]]\n",
    "graph2 = pd.DataFrame(y2, index=x[0:3], columns=[\"GdmCl\"] ).T\n",
    "\n",
    "graph = pd.concat([graph1, graph2], axis=0)\n",
    "plot.mult_func([\"Gdm2SO4\", \"GdmCl\"], [graph], title=\"Melting Temperature\", subtitle=[\"\"], x_label=\"Concentration[M]\", y_label=\"Temperature[K]\")"
   ]
  },
  {
   "cell_type": "markdown",
   "id": "naval-fancy",
   "metadata": {},
   "source": [
    "## Absorbance Values"
   ]
  },
  {
   "cell_type": "code",
   "execution_count": 13,
   "id": "average-cornell",
   "metadata": {},
   "outputs": [
    {
     "data": {
      "application/vnd.jupyter.widget-view+json": {
       "model_id": "09a4c8fb9c3545dba4a7f686e82c2998",
       "version_major": 2,
       "version_minor": 0
      },
      "text/plain": [
       "Canvas(toolbar=Toolbar(toolitems=[('Home', 'Reset original view', 'home', 'home'), ('Back', 'Back to previous …"
      ]
     },
     "metadata": {},
     "output_type": "display_data"
    }
   ],
   "source": [
    "absorbance = list(map(lambda x: data_all[x].absorb_df, list(data_all.keys())))\n",
    "plot.heatmap(*absorbance, subtitle=tuple(data_all.keys()), title=\"Absorbance Values\", x_min=[220]*len(data_all))"
   ]
  },
  {
   "cell_type": "code",
   "execution_count": null,
   "id": "stock-calendar",
   "metadata": {},
   "outputs": [],
   "source": []
  }
 ],
 "metadata": {
  "kernelspec": {
   "display_name": "Python 3",
   "language": "python",
   "name": "python3"
  },
  "language_info": {
   "codemirror_mode": {
    "name": "ipython",
    "version": 3
   },
   "file_extension": ".py",
   "mimetype": "text/x-python",
   "name": "python",
   "nbconvert_exporter": "python",
   "pygments_lexer": "ipython3",
   "version": "3.8.6"
  },
  "toc-autonumbering": true,
  "toc-showcode": true,
  "toc-showmarkdowntxt": false
 },
 "nbformat": 4,
 "nbformat_minor": 5
}
