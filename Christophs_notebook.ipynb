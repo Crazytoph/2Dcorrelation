{
 "cells": [
  {
   "cell_type": "markdown",
   "id": "selective-teacher",
   "metadata": {},
   "source": [
    "*for more information, checkout* [Github](https://github.com/Crazytoph/2Dcorrelation \"my github page\")."
   ]
  },
  {
   "cell_type": "markdown",
   "id": "stunning-joshua",
   "metadata": {},
   "source": [
    "# CD Measurements - Data Analysis"
   ]
  },
  {
   "cell_type": "markdown",
   "id": "trying-chart",
   "metadata": {},
   "source": [
    "## *setting up the Notebook*"
   ]
  },
  {
   "cell_type": "code",
   "execution_count": 1,
   "id": "historical-channel",
   "metadata": {},
   "outputs": [],
   "source": [
    "# Enabling the `widget` backend.\n",
    "# This requires jupyter-matplotlib a.k.a. ipympl.\n",
    "# ipympl can be install via pip or conda.\n",
    "%matplotlib widget\n",
    "        \n",
    "import matplotlib.pyplot as plt\n",
    "import numpy as np\n",
    "import pandas as pd\n",
    "from ipywidgets import Output\n",
    "import matplotlib\n",
    "from scipy import integrate\n",
    "import os"
   ]
  },
  {
   "cell_type": "code",
   "execution_count": 2,
   "id": "blind-pricing",
   "metadata": {},
   "outputs": [],
   "source": [
    "import analise as ana \n",
    "import cdata \n",
    "import hotznplots as plot"
   ]
  },
  {
   "cell_type": "markdown",
   "id": "ready-member",
   "metadata": {},
   "source": [
    "<div class=\"alert alert-block alert-info\">\n",
    "<b>Info:</b> Print always whole DataFrames\n",
    "</div>"
   ]
  },
  {
   "cell_type": "code",
   "execution_count": 3,
   "id": "golden-kuwait",
   "metadata": {},
   "outputs": [],
   "source": [
    "# Default value of display.max_rows is 10 i.e. at max 10 rows will be printed.\n",
    "# Set it None to display all rows in the dataframe\n",
    "pd.set_option('display.max_rows', None)"
   ]
  },
  {
   "cell_type": "markdown",
   "id": "sunset-minneapolis",
   "metadata": {},
   "source": [
    "<div class=\"alert alert-block alert-info\">\n",
    "<b>Info:</b> Get the data\n",
    "</div>"
   ]
  },
  {
   "cell_type": "code",
   "execution_count": 4,
   "id": "upper-arizona",
   "metadata": {},
   "outputs": [
    {
     "name": "stdout",
     "output_type": "stream",
     "text": [
      "['Control_0M', 'Gdm2SO4_0.5M', 'Gdm2SO4_2M', 'Gdm2SO4_4M', 'GdmCl_0.5M', 'GdmCl_2M', 'GdmCl_2M_24h', 'GdmSCN_0.5M', 'GdmSCN_2M', 'Urea_2M']\n"
     ]
    }
   ],
   "source": [
    "# Path for Daniel:\n",
    "#path = \"F:\\\\HZDR\\\\CD_data\"\n",
    "\n",
    "# My Path:\n",
    "path = \"C:\\\\Users\\\\crazy\\\\Mega\\\\Uni\\\\Masterarbeit\\\\Projekt\\\\Data\\\\CD_data\"\n",
    "datalist = os.listdir(path)\n",
    "print(datalist)"
   ]
  },
  {
   "cell_type": "code",
   "execution_count": 5,
   "id": "endangered-lottery",
   "metadata": {},
   "outputs": [],
   "source": [
    "# all data in one dictionary with foldernames as names\n",
    "data_all = {}\n",
    "for i in range(len(datalist)):\n",
    "    data_all[datalist[i]] = cdata.CData(os.path.join(path, datalist[i]))"
   ]
  },
  {
   "cell_type": "code",
   "execution_count": 6,
   "id": "perfect-arrangement",
   "metadata": {},
   "outputs": [
    {
     "name": "stdout",
     "output_type": "stream",
     "text": [
      "<cdata.CData object at 0x00000176765C57F0>\n",
      "[<cdata.CData object at 0x00000176765C57F0>, <cdata.CData object at 0x00000176765C5940>]\n",
      "(<cdata.CData object at 0x00000176765C57F0>, <cdata.CData object at 0x0000017672C5E9A0>, <cdata.CData object at 0x0000017672C5EC10>, <cdata.CData object at 0x00000176765C5940>)\n"
     ]
    }
   ],
   "source": [
    "# options to acces data\n",
    "print(data_all['Control_0M'])\n",
    "# multiple options\n",
    "print(list(map(data_all.get, ['Control_0M', 'Gdm2SO4_4M'])))\n",
    "print(tuple(data_all.values())[0:4])"
   ]
  },
  {
   "cell_type": "markdown",
   "id": "simplified-accessory",
   "metadata": {},
   "source": [
    "## Colormaps"
   ]
  },
  {
   "cell_type": "code",
   "execution_count": 7,
   "id": "selective-newman",
   "metadata": {},
   "outputs": [
    {
     "data": {
      "application/vnd.jupyter.widget-view+json": {
       "model_id": "fc07125fe1a44102b19be4ed774eac4e",
       "version_major": 2,
       "version_minor": 0
      },
      "text/plain": [
       "Canvas(toolbar=Toolbar(toolitems=[('Home', 'Reset original view', 'home', 'home'), ('Back', 'Back to previous …"
      ]
     },
     "metadata": {},
     "output_type": "display_data"
    }
   ],
   "source": [
    "plot.heatmap(*tuple(data_all.values()), subtitle=tuple(data_all.keys()), title=\"Cd-Values\")"
   ]
  },
  {
   "cell_type": "markdown",
   "id": "european-innocent",
   "metadata": {},
   "source": [
    "## Function Plots "
   ]
  },
  {
   "cell_type": "code",
   "execution_count": 8,
   "id": "drawn-atmosphere",
   "metadata": {},
   "outputs": [
    {
     "data": {
      "application/vnd.jupyter.widget-view+json": {
       "model_id": "4977824771fe4fd7a3bbde225acbacb9",
       "version_major": 2,
       "version_minor": 0
      },
      "text/plain": [
       "Canvas(toolbar=Toolbar(toolitems=[('Home', 'Reset original view', 'home', 'home'), ('Back', 'Back to previous …"
      ]
     },
     "metadata": {},
     "output_type": "display_data"
    }
   ],
   "source": [
    "data=[]\n",
    "for key in data_all.keys():\n",
    "    data.append([data_all[key]])\n",
    "\n",
    "plot.mult_func([230, 247, 275, 300], *data, subtitle=tuple(data_all.keys()), title=\"Cd-Values\")"
   ]
  },
  {
   "cell_type": "markdown",
   "id": "plain-stuff",
   "metadata": {},
   "source": [
    "## Correlation Analyis"
   ]
  },
  {
   "cell_type": "code",
   "execution_count": 9,
   "id": "pregnant-exposure",
   "metadata": {},
   "outputs": [
    {
     "name": "stdout",
     "output_type": "stream",
     "text": [
      "[ 0.18677103 61.81964853] [[ 0.00038838 -0.00105735]\n",
      " [-0.00105735  0.28747641]]\n"
     ]
    },
    {
     "data": {
      "application/vnd.jupyter.widget-view+json": {
       "model_id": "7edb498737b748859dff3f84322b19e6",
       "version_major": 2,
       "version_minor": 0
      },
      "text/plain": [
       "Canvas(toolbar=Toolbar(toolitems=[('Home', 'Reset original view', 'home', 'home'), ('Back', 'Back to previous …"
      ]
     },
     "metadata": {},
     "output_type": "display_data"
    }
   ],
   "source": [
    "plot.mult_func([247, \"fit\"], [ana.sigmoid_fit(ana.normalize(data_all[\"Control_0M\"].t_df))],  title=\"Sigmoid-Fit\", subtitle=[\"\"], marker=['x', ''])"
   ]
  }
 ],
 "metadata": {
  "kernelspec": {
   "display_name": "Python 3",
   "language": "python",
   "name": "python3"
  },
  "language_info": {
   "codemirror_mode": {
    "name": "ipython",
    "version": 3
   },
   "file_extension": ".py",
   "mimetype": "text/x-python",
   "name": "python",
   "nbconvert_exporter": "python",
   "pygments_lexer": "ipython3",
   "version": "3.8.6"
  },
  "toc-autonumbering": true,
  "toc-showcode": true,
  "toc-showmarkdowntxt": false
 },
 "nbformat": 4,
 "nbformat_minor": 5
}
