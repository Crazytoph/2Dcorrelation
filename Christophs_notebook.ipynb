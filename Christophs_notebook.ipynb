{
 "cells": [
  {
   "cell_type": "markdown",
   "id": "eight-painting",
   "metadata": {},
   "source": [
    "*for more information, checkout* [Github](https://github.com/Crazytoph/2Dcorrelation \"my github page\")."
   ]
  },
  {
   "cell_type": "markdown",
   "id": "painted-joyce",
   "metadata": {},
   "source": [
    "**CD Measurements - Data Analysis**"
   ]
  },
  {
   "cell_type": "markdown",
   "id": "decent-walter",
   "metadata": {},
   "source": [
    "# DNA Origami "
   ]
  },
  {
   "cell_type": "markdown",
   "id": "choice-legend",
   "metadata": {},
   "source": [
    "## *setting up the Notebook*"
   ]
  },
  {
   "cell_type": "code",
   "execution_count": 1,
   "id": "historical-tuner",
   "metadata": {},
   "outputs": [],
   "source": [
    "# Enabling the `widget` backend.\n",
    "# This requires jupyter-matplotlib a.k.a. ipympl.\n",
    "# ipympl can be install via pip or conda.\n",
    "%matplotlib widget\n",
    "        \n",
    "import matplotlib.pyplot as plt\n",
    "import numpy as np\n",
    "import pandas as pd\n",
    "from ipywidgets import Output\n",
    "import matplotlib\n",
    "import openpyxl\n",
    "import re\n",
    "\n",
    "from scipy import integrate\n",
    "import lmfit\n",
    "import os"
   ]
  },
  {
   "cell_type": "code",
   "execution_count": 2,
   "id": "realistic-science",
   "metadata": {},
   "outputs": [],
   "source": [
    "import analise as ana\n",
    "import cdata \n",
    "import hotznplots as plot"
   ]
  },
  {
   "cell_type": "markdown",
   "id": "bizarre-moisture",
   "metadata": {},
   "source": [
    "<div class=\"alert alert-block alert-info\">\n",
    "<b>Info:</b> Print always whole DataFrames\n",
    "</div>"
   ]
  },
  {
   "cell_type": "code",
   "execution_count": 3,
   "id": "disturbed-headset",
   "metadata": {},
   "outputs": [],
   "source": [
    "# Default value of display.max_rows is 10 i.e. at max 10 rows will be printed.\n",
    "# Set it None to display all rows in the dataframe\n",
    "pd.set_option('display.max_rows', None)"
   ]
  },
  {
   "cell_type": "code",
   "execution_count": 4,
   "id": "welsh-reducing",
   "metadata": {},
   "outputs": [
    {
     "data": {
      "text/plain": [
       "'# activate Latex, change font type\\nplt.rcParams.update({\\n    \"text.usetex\": True,\\n    \"font.family\": \"sans-serif\",\\n    \"font.serif\": [\"Helvetica\"],\\n})'"
      ]
     },
     "execution_count": 4,
     "metadata": {},
     "output_type": "execute_result"
    }
   ],
   "source": [
    "# change plot size\n",
    "plt.rcParams[\"figure.figsize\"] = (10,7)\n",
    "\n",
    "\"\"\"# activate Latex, change font type\n",
    "plt.rcParams.update({\n",
    "    \"text.usetex\": True,\n",
    "    \"font.family\": \"sans-serif\",\n",
    "    \"font.serif\": [\"Helvetica\"],\n",
    "})\"\"\""
   ]
  },
  {
   "cell_type": "markdown",
   "id": "sublime-supervisor",
   "metadata": {},
   "source": [
    "<div class=\"alert alert-block alert-info\">\n",
    "<b>Info:</b> Get the data\n",
    "</div>"
   ]
  },
  {
   "cell_type": "code",
   "execution_count": 5,
   "id": "pressing-field",
   "metadata": {},
   "outputs": [
    {
     "name": "stdout",
     "output_type": "stream",
     "text": [
      "['46_forward', '46_reversed', 'Control_0M', 'Gdm2SO4_0.5M', 'Gdm2SO4_1M', 'Gdm2SO4_2M', 'Gdm2SO4_4M', 'Gdm2SO4_6M', 'GdmCl_0.5M', 'GdmCl_1M', 'GdmCl_2M', 'GdmCl_2M_24h', 'GdmCl_4M', 'GdmCl_6M', 'GdmCl_6M_alt', 'GdmSCN_0.5M', 'GdmSCN_2M', 'Urea_2M']\n"
     ]
    }
   ],
   "source": [
    "# Path for Daniel:\n",
    "#path = \"F:\\\\HZDR\\\\CD_data\"\n",
    "\n",
    "# My Path:\n",
    "path = \"C:\\\\Users\\\\crazy\\\\Mega\\\\Uni\\\\Masterarbeit\\\\Projekt\\\\Data\\\\CD_data\\\\DNA Origami\"\n",
    "datalist = os.listdir(path)\n",
    "print(datalist)"
   ]
  },
  {
   "cell_type": "code",
   "execution_count": 6,
   "id": "organic-compound",
   "metadata": {},
   "outputs": [],
   "source": [
    "# all data in one dictionary with foldernames as names\n",
    "data_all = {}\n",
    "for i in range(len(datalist)):\n",
    "    data_all[datalist[i]] = cdata.CData(os.path.join(path, datalist[i]))"
   ]
  },
  {
   "cell_type": "code",
   "execution_count": 7,
   "id": "based-wedding",
   "metadata": {},
   "outputs": [
    {
     "name": "stdout",
     "output_type": "stream",
     "text": [
      "<cdata.CData object at 0x000001EF34107670>\n",
      "[<cdata.CData object at 0x000001EF34107670>, <cdata.CData object at 0x000001EF39333BE0>]\n",
      "(<cdata.CData object at 0x000001EF392C42B0>, <cdata.CData object at 0x000001EF392A7D60>, <cdata.CData object at 0x000001EF34107670>, <cdata.CData object at 0x000001EF39250B50>)\n"
     ]
    }
   ],
   "source": [
    "# options to acces data\n",
    "print(data_all['Control_0M'])\n",
    "# multiple options\n",
    "print(list(map(data_all.get, ['Control_0M', 'Gdm2SO4_4M'])))\n",
    "print(tuple(data_all.values())[0:4])"
   ]
  },
  {
   "cell_type": "markdown",
   "id": "signed-lodging",
   "metadata": {},
   "source": [
    "## PCA"
   ]
  },
  {
   "cell_type": "markdown",
   "id": "abandoned-breed",
   "metadata": {},
   "source": [
    "### Print-out for PCA\n"
   ]
  },
  {
   "cell_type": "code",
   "execution_count": 8,
   "id": "invisible-breakdown",
   "metadata": {},
   "outputs": [],
   "source": [
    "print_path = \"C:\\\\Users\\\\crazy\\\\Mega\\\\Uni\\\\Masterarbeit\\\\Projekt\\\\Data\\\\PCA\""
   ]
  },
  {
   "cell_type": "code",
   "execution_count": 9,
   "id": "warming-waterproof",
   "metadata": {},
   "outputs": [],
   "source": [
    "liste = [ 'GdmCl_0.5M', 'GdmCl_1M', 'GdmCl_2M', 'GdmCl_4M']"
   ]
  },
  {
   "cell_type": "code",
   "execution_count": 12,
   "id": "partial-address",
   "metadata": {},
   "outputs": [
    {
     "name": "stdout",
     "output_type": "stream",
     "text": [
      "13\n",
      "26\n",
      "38\n",
      "51\n"
     ]
    }
   ],
   "source": [
    "\n",
    "i= 1\n",
    "\n",
    "for key in liste:\n",
    "    for col in data_all[key].cd_df.columns:\n",
    "        if col >= 20  and col <= 70:\n",
    "            name =  print_path + '\\\\' + 'GdmCl_all_lowTemp' + '\\\\' + str(i) + '.dat'\n",
    "            data_all[key].cd_df.loc[:, col].to_csv(name, sep = \" \", header=False)\n",
    "            i = i + 1\n",
    "    print(i)"
   ]
  },
  {
   "cell_type": "code",
   "execution_count": null,
   "id": "attempted-superior",
   "metadata": {},
   "outputs": [],
   "source": [
    "print(data_all[\"Control_0M\"].t_list,\"\\n\", data_all[\"GdmCl_0.5M\"].t_list, \"\\n\", data_all[\"GdmCl_2M\"].t_list, \"\\n\", data_all[\"GdmCl_4M\"].t_list, \"\\n\", data_all[\"GdmCl_6M\"].t_list, \"\\n\", melt_T)"
   ]
  },
  {
   "cell_type": "markdown",
   "id": "growing-millennium",
   "metadata": {},
   "source": [
    "### Varimax Output"
   ]
  },
  {
   "cell_type": "code",
   "execution_count": 29,
   "id": "adverse-mainland",
   "metadata": {},
   "outputs": [],
   "source": [
    "print_path = \"C:\\\\Users\\\\crazy\\\\Mega\\\\Uni\\\\Masterarbeit\\\\Projekt\\\\Data\\\\PCA\""
   ]
  },
  {
   "cell_type": "code",
   "execution_count": null,
   "id": "short-quilt",
   "metadata": {},
   "outputs": [],
   "source": [
    "files = os.listdir(print_path)\n",
    "print(files)"
   ]
  },
  {
   "cell_type": "code",
   "execution_count": 39,
   "id": "public-facial",
   "metadata": {},
   "outputs": [],
   "source": [
    "liste = ['Gdm2SO4_2M']"
   ]
  },
  {
   "cell_type": "code",
   "execution_count": 40,
   "id": "antique-advertising",
   "metadata": {},
   "outputs": [
    {
     "data": {
      "application/vnd.jupyter.widget-view+json": {
       "model_id": "25bb7682301a4b44bbbef67470fbb625",
       "version_major": 2,
       "version_minor": 0
      },
      "text/plain": [
       "Canvas(toolbar=Toolbar(toolitems=[('Home', 'Reset original view', 'home', 'home'), ('Back', 'Back to previous …"
      ]
     },
     "metadata": {},
     "output_type": "display_data"
    }
   ],
   "source": [
    "for  key in liste:\n",
    "    # create DataFrame for plot\n",
    "    plot_df = pd.DataFrame(index=data_all[key].t_list[:-3])\n",
    "    \n",
    "    # number of components\n",
    "    components = 4\n",
    "    \n",
    "    # read files \n",
    "    for i in range(components):\n",
    "        \n",
    "        name = 'VARIMAX_loading_component' + str(i+1) \n",
    "        # get data path\n",
    "        data_path = os.path.join(print_path, key, name + '.dat')\n",
    "        \n",
    "        # open file and create data list\n",
    "        file = open(data_path, \"r\")\n",
    "        data = []\n",
    "        \n",
    "        # list of lines, of which all elemnts equal to space or enter are used as split, and then empty elements are deleted\n",
    "        list_of_lines = file.readlines()\n",
    "        for k in range(len(list_of_lines)):\n",
    "            data.extend(re.split(' |\\n', list_of_lines[k]))\n",
    "        data = np.array(list(filter(lambda x: x != '', data)))\n",
    "        \n",
    "        # data list reshaped as 2D array and added to plot\n",
    "        data = data.reshape(len(data_all[key].t_list[:-3]), 2)\n",
    "        plot_df[i+1] = data[:, 1]\n",
    "   \n",
    "    # change dtype to float\n",
    "    plot_df = plot_df.astype('float64')\n",
    "    # norm between 0 - 1 if wanted\n",
    "    plot_df = plot_df.subtract(plot_df.min()).divide((plot_df.max()-plot_df.min()))\n",
    "    plot.mult_func([1, 2, 3, 4], [plot_df.T], linestyle=[\"solid\",\"dashdot\",\"dashed\",\"dotted\"], marker=[\"o\",\"o\",\"o\",\"o\"], subtitle=[key], \n",
    "                   x_label=\"Temperature [°C]\", y_label=\"Abstract Concentration after Varimax Rotation\")"
   ]
  },
  {
   "cell_type": "code",
   "execution_count": 39,
   "id": "hollywood-startup",
   "metadata": {},
   "outputs": [
    {
     "name": "stdout",
     "output_type": "stream",
     "text": [
      "[5, 10, 20, 30, 40, 45, 50, 53, 56, 58, 60, 62, 64, 67, 70, 75, 80, 90] 65.7219345117269\n",
      "[20, 30, 40, 45, 50, 53, 56, 58, 60, 62, 64, 67, 70, 75, 80, 90]\n"
     ]
    }
   ],
   "source": [
    "print(data_all[key].t_list, melt_T[key])\n",
    "print(data_all[key].t_list[2:])"
   ]
  },
  {
   "cell_type": "markdown",
   "id": "tired-society",
   "metadata": {},
   "source": [
    "### ITTFA Output"
   ]
  },
  {
   "cell_type": "code",
   "execution_count": 10,
   "id": "desperate-blank",
   "metadata": {},
   "outputs": [],
   "source": [
    "print_path = \"C:\\\\Users\\\\crazy\\\\Mega\\\\Uni\\\\Masterarbeit\\\\Projekt\\\\Data\\\\PCA\""
   ]
  },
  {
   "cell_type": "code",
   "execution_count": 28,
   "id": "starting-provincial",
   "metadata": {},
   "outputs": [
    {
     "data": {
      "application/vnd.jupyter.widget-view+json": {
       "model_id": "92417852446d4ffdbe6e4f36afc65717",
       "version_major": 2,
       "version_minor": 0
      },
      "text/plain": [
       "Canvas(toolbar=Toolbar(toolitems=[('Home', 'Reset original view', 'home', 'home'), ('Back', 'Back to previous …"
      ]
     },
     "metadata": {},
     "output_type": "display_data"
    },
    {
     "data": {
      "application/vnd.jupyter.widget-view+json": {
       "model_id": "52aaae058d33436396324fda3dc189ee",
       "version_major": 2,
       "version_minor": 0
      },
      "text/plain": [
       "Canvas(toolbar=Toolbar(toolitems=[('Home', 'Reset original view', 'home', 'home'), ('Back', 'Back to previous …"
      ]
     },
     "metadata": {},
     "output_type": "display_data"
    }
   ],
   "source": [
    "key_list = ['GdmCl_4M']\n",
    "filename = 'GdmCl_4M'\n",
    "wave_min = 215\n",
    "wave_max = 300 \n",
    "\n",
    "t_min = 20\n",
    "t_max = 70\n",
    "t_list = []\n",
    "\n",
    "for key in key_list:\n",
    "    t_list.extend(data_all[key].cd_df.loc[wave_min:wave_max,t_min:t_max].columns)\n",
    "\n",
    "# create DataFrame for plot\n",
    "    conc_df = pd.DataFrame(index=t_list)\n",
    "    spec_df = pd.DataFrame(index=data_all[key].cd_df.loc[wave_min:wave_max,t_min:t_max].index)\n",
    "    # number of components\n",
    "    components = 4\n",
    "    \n",
    "# read files \n",
    "for i in range(components):\n",
    "    name1 = 'rel_concentration_component' + str(i+1) \n",
    "    name2 = 'component' + str(i+1) \n",
    "    # get data path\n",
    "    data_path1 = os.path.join(print_path, filename, name1 + '.dat')\n",
    "    data_path2 = os.path.join(print_path, filename, name2 + '.dat')\n",
    "        \n",
    "    # open file and create data list\n",
    "    file1 = open(data_path1, \"r\")\n",
    "    file2 = open(data_path2, \"r\")\n",
    "    data1 = []\n",
    "    data2 = []\n",
    "        \n",
    "    # list of lines, of which all elemnts equal to space or enter are used as split, and then empty elements are deleted\n",
    "    list_of_lines1 = file1.readlines()\n",
    "    list_of_lines2 = file2.readlines()\n",
    "    \n",
    "    for k in range(len(list_of_lines1)):\n",
    "        data1.extend(re.split(' |\\n', list_of_lines1[k]))\n",
    "    data1 = np.array(list(filter(lambda x: x != '', data1)))\n",
    "    \n",
    "    for j in range(len(list_of_lines2)):\n",
    "        data2.extend(re.split(' |\\n', list_of_lines2[j]))\n",
    "    data2 = np.array(list(filter(lambda x: x != '', data2)))\n",
    "    \n",
    "\n",
    "    # data list reshaped as 2D array and added to plot\n",
    "    data1 = data1.reshape(len(t_list), 2)\n",
    "    conc_df[i+1] = data1[:, 1]\n",
    "    \n",
    "    data2 = data2.reshape(len(spec_df.index), 2)\n",
    "    spec_df[i+1] = data2[:, 1]\n",
    "   \n",
    "# change dtype to float\n",
    "conc_df = conc_df.astype('float64')\n",
    "spec_df = spec_df.astype('float64')\n",
    "\n",
    "# negative reverse and amplitude adaption\n",
    "#conc_df[2] = conc_df[2] * -1\n",
    "#spec_df[2] = spec_df[2] * -1\n",
    "#conc_df = conc_df * (data_all[key].cd_df.loc[247, 20]/spec_df.loc[247,1])\n",
    "#spec_df = spec_df * (data_all[key].cd_df.loc[247, 20]/spec_df.loc[247,1])\n",
    "# norm between 0 - 1 if wanted\n",
    "#conc_df = conc_df.subtract(conc_df.min()).divide((conc_df.max()-conc_df.min()))\n",
    "\n",
    "plot.mult_func([1, 2, 3, 4], [conc_df.T], linestyle=[\"solid\",\"dashdot\",\"dashed\",\"dotted\"], subtitle=[filename], \n",
    "                x_label=\"Temperature [°C]\", y_label=\"Relative Concentration [ %]\", \n",
    "               label=[\"Component 1\", \"Component 2\", \"Component 3\", \"Component 4\", \"Melting Temperature\"], title=\"Concentration of Components after ITTFA\",\n",
    "               marker=[\"o\", \"X\", \"s\"], vertical_line=[melt_T[filename]], baseline=True\n",
    "              )    \n",
    "    \n",
    "plot.mult_func([1, 2, 3, 4], [spec_df.T], linestyle=[\"solid\",\"dashdot\",\"dashed\",\"dotted\"], marker=[\"\",\"\",\"\",\"\"], subtitle=[filename], \n",
    "                x_label=\"Wavelength [nm]\", title=\"Spectra of Components from ITT\", baseline=True, label=[\"Component 1\", \"Component 2\", \"Component 3\", \"Component 4\"],\n",
    "               y_max = [spec_df.T.loc[4].max().max()], y_min = [spec_df.T.loc[4].min().min()], y_scaling=False )    "
   ]
  },
  {
   "cell_type": "code",
   "execution_count": 21,
   "id": "fluid-toolbox",
   "metadata": {},
   "outputs": [
    {
     "name": "stdout",
     "output_type": "stream",
     "text": [
      "3.60796472237779\n"
     ]
    }
   ],
   "source": [
    "print(spec_df.T.loc[1].max().max())"
   ]
  },
  {
   "cell_type": "markdown",
   "id": "creative-decline",
   "metadata": {},
   "source": [
    "*write numbers into excel*"
   ]
  },
  {
   "cell_type": "code",
   "execution_count": 21,
   "id": "short-listing",
   "metadata": {},
   "outputs": [
    {
     "name": "stdout",
     "output_type": "stream",
     "text": [
      "C:\\Users\\crazy\\Mega\\Uni\\Masterarbeit\\Projekt\\Data\\PCA\\GdmCl_all_lowTemp\\output.xlsx\n"
     ]
    }
   ],
   "source": [
    "excel_path = print_path + \"\\\\\" + filename + \"\\\\output.xlsx\"\n",
    "print(excel_path)"
   ]
  },
  {
   "cell_type": "code",
   "execution_count": 22,
   "id": "potential-airfare",
   "metadata": {},
   "outputs": [],
   "source": [
    "with pd.ExcelWriter(excel_path, mode='w') as writer:  \n",
    "    conc_df.round(3).to_excel(writer, sheet_name=\"concentration \")\n",
    "    \n",
    "with pd.ExcelWriter(excel_path, mode='a') as writer:  \n",
    "    spec_df.round(4).to_excel(writer, sheet_name=\"spectra\")\n",
    "            "
   ]
  },
  {
   "cell_type": "markdown",
   "id": "attended-maintenance",
   "metadata": {},
   "source": [
    "## Plots"
   ]
  },
  {
   "cell_type": "markdown",
   "id": "directed-quick",
   "metadata": {},
   "source": [
    "### Heat Maps"
   ]
  },
  {
   "cell_type": "code",
   "execution_count": 21,
   "id": "actual-midnight",
   "metadata": {},
   "outputs": [],
   "source": [
    "liste =  [\"Control_0M\", 'GdmCl_0.5M', 'GdmCl_1M', 'GdmCl_2M', 'GdmCl_4M', 'GdmCl_6M', 'Gdm2SO4_0.5M','Gdm2SO4_1M', 'Gdm2SO4_2M', 'Gdm2SO4_4M', 'Gdm2SO4_6M']"
   ]
  },
  {
   "cell_type": "code",
   "execution_count": 23,
   "id": "egyptian-serve",
   "metadata": {},
   "outputs": [
    {
     "data": {
      "application/vnd.jupyter.widget-view+json": {
       "model_id": "33c6e18aebd543cf89d7870d8957f506",
       "version_major": 2,
       "version_minor": 0
      },
      "text/plain": [
       "Canvas(toolbar=Toolbar(toolitems=[('Home', 'Reset original view', 'home', 'home'), ('Back', 'Back to previous …"
      ]
     },
     "metadata": {},
     "output_type": "display_data"
    },
    {
     "name": "stdout",
     "output_type": "stream",
     "text": [
      "63.88046407740443\n"
     ]
    },
    {
     "data": {
      "application/vnd.jupyter.widget-view+json": {
       "model_id": "d50c69b01c9a494e9cce720b427ff232",
       "version_major": 2,
       "version_minor": 0
      },
      "text/plain": [
       "Canvas(toolbar=Toolbar(toolitems=[('Home', 'Reset original view', 'home', 'home'), ('Back', 'Back to previous …"
      ]
     },
     "metadata": {},
     "output_type": "display_data"
    },
    {
     "name": "stdout",
     "output_type": "stream",
     "text": [
      "64.87554508796475\n"
     ]
    },
    {
     "data": {
      "application/vnd.jupyter.widget-view+json": {
       "model_id": "6608d841845049bf992da0e8a19bcaf0",
       "version_major": 2,
       "version_minor": 0
      },
      "text/plain": [
       "Canvas(toolbar=Toolbar(toolitems=[('Home', 'Reset original view', 'home', 'home'), ('Back', 'Back to previous …"
      ]
     },
     "metadata": {},
     "output_type": "display_data"
    },
    {
     "name": "stdout",
     "output_type": "stream",
     "text": [
      "65.7219345117269\n"
     ]
    },
    {
     "data": {
      "application/vnd.jupyter.widget-view+json": {
       "model_id": "5f660ba4713447b9b2cc0afedadb9f71",
       "version_major": 2,
       "version_minor": 0
      },
      "text/plain": [
       "Canvas(toolbar=Toolbar(toolitems=[('Home', 'Reset original view', 'home', 'home'), ('Back', 'Back to previous …"
      ]
     },
     "metadata": {},
     "output_type": "display_data"
    },
    {
     "name": "stdout",
     "output_type": "stream",
     "text": [
      "62.22456104786192\n"
     ]
    },
    {
     "data": {
      "application/vnd.jupyter.widget-view+json": {
       "model_id": "0222008dbae84c97bb218072107caa0f",
       "version_major": 2,
       "version_minor": 0
      },
      "text/plain": [
       "Canvas(toolbar=Toolbar(toolitems=[('Home', 'Reset original view', 'home', 'home'), ('Back', 'Back to previous …"
      ]
     },
     "metadata": {},
     "output_type": "display_data"
    },
    {
     "name": "stdout",
     "output_type": "stream",
     "text": [
      "59.194612694153875\n"
     ]
    },
    {
     "data": {
      "application/vnd.jupyter.widget-view+json": {
       "model_id": "15e345bf256543c9a129cee5cc66b234",
       "version_major": 2,
       "version_minor": 0
      },
      "text/plain": [
       "Canvas(toolbar=Toolbar(toolitems=[('Home', 'Reset original view', 'home', 'home'), ('Back', 'Back to previous …"
      ]
     },
     "metadata": {},
     "output_type": "display_data"
    },
    {
     "name": "stdout",
     "output_type": "stream",
     "text": [
      "53.41120314608025\n"
     ]
    },
    {
     "data": {
      "application/vnd.jupyter.widget-view+json": {
       "model_id": "0668763b27f647ecbda77861979e2d3e",
       "version_major": 2,
       "version_minor": 0
      },
      "text/plain": [
       "Canvas(toolbar=Toolbar(toolitems=[('Home', 'Reset original view', 'home', 'home'), ('Back', 'Back to previous …"
      ]
     },
     "metadata": {},
     "output_type": "display_data"
    },
    {
     "name": "stdout",
     "output_type": "stream",
     "text": [
      "64.52277673479793\n"
     ]
    },
    {
     "data": {
      "application/vnd.jupyter.widget-view+json": {
       "model_id": "668f8615884c410c8a6f6092022d7119",
       "version_major": 2,
       "version_minor": 0
      },
      "text/plain": [
       "Canvas(toolbar=Toolbar(toolitems=[('Home', 'Reset original view', 'home', 'home'), ('Back', 'Back to previous …"
      ]
     },
     "metadata": {},
     "output_type": "display_data"
    },
    {
     "name": "stdout",
     "output_type": "stream",
     "text": [
      "64.84295918577699\n"
     ]
    },
    {
     "data": {
      "application/vnd.jupyter.widget-view+json": {
       "model_id": "abd7498be18f41d6a61366196d8dac4e",
       "version_major": 2,
       "version_minor": 0
      },
      "text/plain": [
       "Canvas(toolbar=Toolbar(toolitems=[('Home', 'Reset original view', 'home', 'home'), ('Back', 'Back to previous …"
      ]
     },
     "metadata": {},
     "output_type": "display_data"
    },
    {
     "name": "stdout",
     "output_type": "stream",
     "text": [
      "64.33702771140105\n"
     ]
    },
    {
     "data": {
      "application/vnd.jupyter.widget-view+json": {
       "model_id": "ea59895c931540a58563a03e0f3e5a82",
       "version_major": 2,
       "version_minor": 0
      },
      "text/plain": [
       "Canvas(toolbar=Toolbar(toolitems=[('Home', 'Reset original view', 'home', 'home'), ('Back', 'Back to previous …"
      ]
     },
     "metadata": {},
     "output_type": "display_data"
    },
    {
     "name": "stdout",
     "output_type": "stream",
     "text": [
      "65.39728202507145\n"
     ]
    },
    {
     "data": {
      "application/vnd.jupyter.widget-view+json": {
       "model_id": "bafe4efe5af34904ad9c11594ca36002",
       "version_major": 2,
       "version_minor": 0
      },
      "text/plain": [
       "Canvas(toolbar=Toolbar(toolitems=[('Home', 'Reset original view', 'home', 'home'), ('Back', 'Back to previous …"
      ]
     },
     "metadata": {},
     "output_type": "display_data"
    },
    {
     "name": "stdout",
     "output_type": "stream",
     "text": [
      "61.39443444391862\n"
     ]
    }
   ],
   "source": [
    "for key in liste:\n",
    "    df = data_all[key].cd_df.loc[215:300,20:]\n",
    "    max_cd_value = df.abs().max().max()\n",
    "    plot.heatmap(df, subtitle=[key], title=\"\", x_min=[215], x_max=[300], swap=True,\n",
    "                 x_label=r\"Temperature $[^{\\circ}C]$\", y_label=r\"Wavelength $[nm]$\", c_label=r\"CD- Values \"\n",
    "                 r\"$[\\frac{deg \\times cm^{2}}{dmol}]$\", hline=melt_T[key], backgroundcolor='#FDEADA', \n",
    "                 contour_lines=[-0.8*max_cd_value, -0.5*max_cd_value,  -0.25*max_cd_value,  0, 0.25*max_cd_value, \n",
    "                                0.5*max_cd_value, 0.8*max_cd_value]\n",
    "                )\n",
    "    print(melt_T[key])"
   ]
  },
  {
   "cell_type": "code",
   "execution_count": null,
   "id": "indirect-dinner",
   "metadata": {},
   "outputs": [],
   "source": [
    "for key in data_all.keys():\n",
    "    plot.heatmap(data_all[key].cd_df, subtitle=[\"\"], title=str(key), x_min=[215], swap=True, y_label=\"Temperature [°C]\", x_label=\"Wavelength [nm]\")"
   ]
  },
  {
   "cell_type": "code",
   "execution_count": null,
   "id": "damaged-moore",
   "metadata": {},
   "outputs": [],
   "source": [
    "#plot.heatmap(*tuple(data_all.values()), subtitle=tuple(data_all.keys()), title=\"Cd-Values\", x_min=[220]*len(data_all), swap=False)"
   ]
  },
  {
   "cell_type": "markdown",
   "id": "fatal-button",
   "metadata": {},
   "source": [
    "### 3D surface plots"
   ]
  },
  {
   "cell_type": "code",
   "execution_count": null,
   "id": "changing-lemon",
   "metadata": {},
   "outputs": [],
   "source": [
    "df = data_all[\"Control_0M\"].cd_df.loc[215:300]\n",
    "\n",
    "plot.function3d(df, title=\"\", backgroundcolor='#FDEADA')"
   ]
  },
  {
   "cell_type": "markdown",
   "id": "amber-engineer",
   "metadata": {},
   "source": [
    "###  Function Plots "
   ]
  },
  {
   "cell_type": "markdown",
   "id": "frank-reducing",
   "metadata": {},
   "source": [
    "#### CD-Spectra Plot"
   ]
  },
  {
   "cell_type": "code",
   "execution_count": 8,
   "id": "present-syndrome",
   "metadata": {},
   "outputs": [
    {
     "ename": "NameError",
     "evalue": "name 'melt_T' is not defined",
     "output_type": "error",
     "traceback": [
      "\u001b[1;31m---------------------------------------------------------------------------\u001b[0m",
      "\u001b[1;31mNameError\u001b[0m                                 Traceback (most recent call last)",
      "\u001b[1;32m<ipython-input-8-45b36fb9d84a>\u001b[0m in \u001b[0;36m<module>\u001b[1;34m\u001b[0m\n\u001b[0;32m      3\u001b[0m plot.mult_func([260], [df], swap=False, \n\u001b[0;32m      4\u001b[0m                \u001b[0mx_label\u001b[0m\u001b[1;33m=\u001b[0m\u001b[1;34m\"temperature / °C\"\u001b[0m\u001b[1;33m,\u001b[0m \u001b[0msubtitle\u001b[0m\u001b[1;33m=\u001b[0m\u001b[1;33m[\u001b[0m\u001b[1;34mr\"Control\"\u001b[0m\u001b[1;33m]\u001b[0m\u001b[1;33m,\u001b[0m \u001b[0my_label\u001b[0m\u001b[1;33m=\u001b[0m\u001b[1;34mr\"absorbance / % \"\u001b[0m\u001b[1;33m,\u001b[0m\u001b[1;33m\u001b[0m\u001b[1;33m\u001b[0m\u001b[0m\n\u001b[1;32m----> 5\u001b[1;33m                vertical_line=[melt_T['Control_0M']], marker=[\"x\"], linestyle=[\":\"])\n\u001b[0m",
      "\u001b[1;31mNameError\u001b[0m: name 'melt_T' is not defined"
     ]
    }
   ],
   "source": [
    "df =  data_all[\"Control_0M\"].absorb_df\n",
    "\n",
    "plot.mult_func([260], [df], swap=False, \n",
    "               x_label=\"temperature / °C\", subtitle=[r\"Control\"], y_label=r\"absorbance / % \", \n",
    "               vertical_line=[melt_T['Control_0M']], marker=[\"x\"], linestyle=[\":\"])"
   ]
  },
  {
   "cell_type": "code",
   "execution_count": 30,
   "id": "featured-douglas",
   "metadata": {},
   "outputs": [
    {
     "name": "stderr",
     "output_type": "stream",
     "text": [
      "C:\\Users\\crazy\\PycharmProjects\\2Dcorrelation\\hotznplots.py:354: RuntimeWarning: More than 20 figures have been opened. Figures created through the pyplot interface (`matplotlib.pyplot.figure`) are retained until explicitly closed and may consume too much memory. (To control this warning, see the rcParam `figure.max_open_warning`).\n",
      "  fig = plt.figure(facecolor=backgroundcolor)  # create figure\n"
     ]
    },
    {
     "data": {
      "application/vnd.jupyter.widget-view+json": {
       "model_id": "122616f2fea44f83aaf5ebe6535d0add",
       "version_major": 2,
       "version_minor": 0
      },
      "text/plain": [
       "Canvas(toolbar=Toolbar(toolitems=[('Home', 'Reset original view', 'home', 'home'), ('Back', 'Back to previous …"
      ]
     },
     "metadata": {},
     "output_type": "display_data"
    }
   ],
   "source": [
    "wave_min = 215\n",
    "wave_max = 330\n",
    "\n",
    "key_list = ['GdmCl_2M', '46_forward', '46_reversed', ]\n",
    "plot.mult_func([16], [data_all['GdmCl_2M'].cd_df.loc[wave_min:wave_max], data_all[\"46_forward\"].cd_df.loc[wave_min:wave_max],\n",
    "                                  data_all['46_reversed'].cd_df.loc[wave_min:wave_max]], \n",
    "               swap=True, x_label=\"Wavelength [nm]\", subtitle=[\"\"], \n",
    "               marker=['', '', '', '', '', ''], linestyle=['-', ':', ':', '', '-'], baseline=True, \n",
    "               label=[\"'GdmCl_2M'\",\"forward\", \"reversed\"])"
   ]
  },
  {
   "cell_type": "code",
   "execution_count": null,
   "id": "sustained-stuff",
   "metadata": {},
   "outputs": [],
   "source": [
    "wave_min = 200\n",
    "wave_max = 330\n",
    "\n",
    "key_list = ['Control_0M', 'Gdm2SO4_0.5M', 'Gdm2SO4_2M', 'Gdm2SO4_4M', 'GdmCl_0.5M', 'GdmCl_2M',  'GdmCl_4M', 'GdmSCN_0.5M', 'GdmSCN_2M']\n",
    "for key in key_list:\n",
    "    plot.mult_func([20, 45, 64, 80], [data_all[key].cd_df.loc[wave_min:wave_max]], title=key, swap=True,\n",
    "                   x_label=\"Wavelength [nm]\", y_label=\"CD values [mdeg]\", subtitle=[\"\"], label=[\"20°C\", \"45°C\", \"64°C\", \"80°C\"], marker=['', '', '', ''], linestyle=['-', ':', ':', '-'], baseline=True, \n",
    "                  )"
   ]
  },
  {
   "cell_type": "code",
   "execution_count": null,
   "id": "surface-budget",
   "metadata": {},
   "outputs": [],
   "source": [
    "data=[]\n",
    "for key in data_all.keys():\n",
    "    data.append([data_all[key].cd_df.T])\n",
    "\n",
    "plot.mult_func([20, 40, 55, 60, 65, 70, 90], *data, subtitle=tuple(data_all.keys()),\n",
    "               title=\"CD-Spectra\", marker=[\"\",\"\", \"\", \"\", \"\", \"\", \"\"], x_min=210\n",
    "              )"
   ]
  },
  {
   "cell_type": "markdown",
   "id": "dominican-casting",
   "metadata": {},
   "source": [
    "#### Max/Min Plots\n"
   ]
  },
  {
   "cell_type": "markdown",
   "id": "hearing-collective",
   "metadata": {},
   "source": [
    "multiple probes"
   ]
  },
  {
   "cell_type": "code",
   "execution_count": null,
   "id": "hairy-candle",
   "metadata": {},
   "outputs": [],
   "source": [
    "excel_path = \"C:\\\\Users\\\\crazy\\\\Mega\\\\Uni\\\\Masterarbeit\\\\Projekt\\\\output.xlsx\""
   ]
  },
  {
   "cell_type": "code",
   "execution_count": 24,
   "id": "thorough-berkeley",
   "metadata": {},
   "outputs": [
    {
     "ename": "NameError",
     "evalue": "name 'excel_path' is not defined",
     "output_type": "error",
     "traceback": [
      "\u001b[1;31m---------------------------------------------------------------------------\u001b[0m",
      "\u001b[1;31mNameError\u001b[0m                                 Traceback (most recent call last)",
      "\u001b[1;32m<ipython-input-24-6666f161384f>\u001b[0m in \u001b[0;36m<module>\u001b[1;34m\u001b[0m\n\u001b[0;32m      8\u001b[0m     \u001b[0mplot_data\u001b[0m \u001b[1;33m=\u001b[0m \u001b[0mplot_data\u001b[0m\u001b[1;33m.\u001b[0m\u001b[0mdrop\u001b[0m\u001b[1;33m(\u001b[0m\u001b[1;33m[\u001b[0m\u001b[1;34m'Value'\u001b[0m\u001b[1;33m]\u001b[0m\u001b[1;33m,\u001b[0m \u001b[0maxis\u001b[0m\u001b[1;33m=\u001b[0m\u001b[1;36m1\u001b[0m\u001b[1;33m)\u001b[0m\u001b[1;33m\u001b[0m\u001b[1;33m\u001b[0m\u001b[0m\n\u001b[0;32m      9\u001b[0m     \u001b[0mplot_data\u001b[0m\u001b[1;33m.\u001b[0m\u001b[0mrename\u001b[0m\u001b[1;33m(\u001b[0m\u001b[0mcolumns\u001b[0m \u001b[1;33m=\u001b[0m \u001b[1;33m{\u001b[0m\u001b[1;34m'Wavelength'\u001b[0m\u001b[1;33m:\u001b[0m \u001b[0mkey\u001b[0m\u001b[1;33m}\u001b[0m\u001b[1;33m,\u001b[0m \u001b[0minplace\u001b[0m \u001b[1;33m=\u001b[0m \u001b[1;32mTrue\u001b[0m\u001b[1;33m)\u001b[0m\u001b[1;33m\u001b[0m\u001b[1;33m\u001b[0m\u001b[0m\n\u001b[1;32m---> 10\u001b[1;33m     \u001b[1;32mwith\u001b[0m \u001b[0mpd\u001b[0m\u001b[1;33m.\u001b[0m\u001b[0mExcelWriter\u001b[0m\u001b[1;33m(\u001b[0m\u001b[0mexcel_path\u001b[0m\u001b[1;33m,\u001b[0m \u001b[0mmode\u001b[0m\u001b[1;33m=\u001b[0m\u001b[1;34m'a'\u001b[0m\u001b[1;33m)\u001b[0m \u001b[1;32mas\u001b[0m \u001b[0mwriter\u001b[0m\u001b[1;33m:\u001b[0m\u001b[1;33m\u001b[0m\u001b[1;33m\u001b[0m\u001b[0m\n\u001b[0m\u001b[0;32m     11\u001b[0m                     \u001b[0mplot_data\u001b[0m\u001b[1;33m.\u001b[0m\u001b[0mto_excel\u001b[0m\u001b[1;33m(\u001b[0m\u001b[0mwriter\u001b[0m\u001b[1;33m,\u001b[0m \u001b[0msheet_name\u001b[0m\u001b[1;33m=\u001b[0m\u001b[0mkey\u001b[0m\u001b[1;33m)\u001b[0m\u001b[1;33m\u001b[0m\u001b[1;33m\u001b[0m\u001b[0m\n",
      "\u001b[1;31mNameError\u001b[0m: name 'excel_path' is not defined"
     ]
    }
   ],
   "source": [
    "# liste \n",
    "liste =  ['Control_0M', 'Gdm2SO4_0.5M', 'Gdm2SO4_2M', 'Gdm2SO4_4M',  'GdmCl_0.5M', 'GdmCl_2M', 'GdmCl_2M_24h' , 'GdmCl_4M']\n",
    "wave_min = 260\n",
    "wave_max =  280\n",
    "\n",
    "for key in liste:\n",
    "    plot_data =  ana.min_wave(data_all[key].cd_df.abs(), wave_min=wave_min, wave_max=wave_max)\n",
    "    plot_data = plot_data.drop(['Value'], axis=1)   \n",
    "    plot_data.rename(columns = {'Wavelength': key}, inplace = True)\n",
    "    with pd.ExcelWriter(excel_path, mode='a') as writer:  \n",
    "                    plot_data.to_excel(writer, sheet_name=key)"
   ]
  },
  {
   "cell_type": "code",
   "execution_count": 50,
   "id": "czech-green",
   "metadata": {},
   "outputs": [
    {
     "data": {
      "application/vnd.jupyter.widget-view+json": {
       "model_id": "26487b98e55b48459fdc966cef13dd75",
       "version_major": 2,
       "version_minor": 0
      },
      "text/plain": [
       "Canvas(toolbar=Toolbar(toolitems=[('Home', 'Reset original view', 'home', 'home'), ('Back', 'Back to previous …"
      ]
     },
     "metadata": {},
     "output_type": "display_data"
    }
   ],
   "source": [
    "wave_min = 260\n",
    "wave_max =  280\n",
    "key = \"Gdm2SO4_4M\"\n",
    "\n",
    "# First data you want to add to the plot\n",
    "plot_data =  ana.max_wave(data_all[key].cd_df, wave_min=wave_min, wave_max=wave_max)\n",
    "plot_data = plot_data.drop(['Wavelength'], axis=1)   \n",
    "plot_data.rename(columns = {'Value': key}, inplace = True)\n",
    "\n",
    "\n",
    "\n",
    "# other Data you want to add, if always same max/min values then loop would be possible\n",
    "#plot_data[\"GdmCl_4M\"] = ana.max_wave(data_all[\"GdmCl_4M\"].cd_df, wave_min=wave_min, wave_max=wave_max)[\"Value\"]\n",
    "#plot_data[\"Gdm2SO4_2M\"] = ana.max_wave(data_all[\"Gdm2SO4_2M\"].cd_df, wave_min=wave_min, wave_max=wave_max)[\"Value\"]\n",
    "#plot_data[\"GdmSCN_2M\"] 2= ana.max_wave(data_all[\"GdmSCN_2M\"].cd_df, wave_min=wave_min, wave_max=wave_max)[\"Value\"]\n",
    "\n",
    "\n",
    "plot.mult_func([key], [plot_data.T], subtitle=[\"\"], title=\"Max. CD Value between \" + str(wave_min) + 'nm - ' +str(wave_max) + \" nm\")"
   ]
  },
  {
   "cell_type": "markdown",
   "id": "affiliated-pound",
   "metadata": {},
   "source": [
    "one probe"
   ]
  },
  {
   "cell_type": "code",
   "execution_count": null,
   "id": "collective-powell",
   "metadata": {},
   "outputs": [],
   "source": [
    "wave_min = 260\n",
    "wave_max =  290\n",
    "title = \"Max. CD-Value between \" + str(wave_min) + \"nm - \" + str(wave_max) +\"nm\"\n",
    "\n",
    "for key in data_all.keys():\n",
    "    plot_data =  ana.max_wave(data_all[key].cd_df, wave_min=wave_min, wave_max=wave_max)\n",
    "    plot.mult_func([\"Value\"], [plot_data.T], subtitle=[\"\"], vertical_line=[melt_T[key]], title=title, label=[key, \"melting Temp.\"])\n",
    "\n"
   ]
  },
  {
   "cell_type": "markdown",
   "id": "considered-trance",
   "metadata": {},
   "source": [
    "## Correlation Analyis"
   ]
  },
  {
   "cell_type": "markdown",
   "id": "overhead-finland",
   "metadata": {},
   "source": [
    "<div class=\"alert alert-block alert-info\">\n",
    "<b>Info:</b> Noda, I. (2007). Two-dimensional correlation analysis useful for spectroscopy, chromatography, and other analytical measurements. Analytical Sciences, 23(2), 139–146. https://doi.org/10.2116/analsci.23.139\n",
    "</div>"
   ]
  },
  {
   "cell_type": "markdown",
   "id": "identical-polyester",
   "metadata": {},
   "source": [
    "<div class=\"alert alert-block alert-info\">\n",
    "<b>Info:</b> Noda, I. (2015). Techniques of two-dimensional (2D) correlation spectroscopy useful in life science research. Biomedical Spectroscopy and Imaging, 4(2), 109–127. https://doi.org/10.3233/bsi-150105\n",
    "</div>"
   ]
  },
  {
   "cell_type": "markdown",
   "id": "numerical-amateur",
   "metadata": {},
   "source": [
    "### Homogenous Spectrum\n",
    "\n",
    "*optional: pareto scaling, auto scaling and Reference and projection*"
   ]
  },
  {
   "cell_type": "code",
   "execution_count": null,
   "id": "fantastic-river",
   "metadata": {},
   "outputs": [],
   "source": [
    "# list of measurements on which correlation should be performed\n",
    "liste =  ['Control_0M', 'Gdm2SO4_0.5M', 'Gdm2SO4_1M', 'Gdm2SO4_2M', 'Gdm2SO4_4M', 'Gdm2SO4_6M', 'GdmCl_0.5M','GdmCl_1M', 'GdmCl_2M' , 'GdmCl_4M', 'GdmCl_6M']\n",
    "#'Control_0M', 'Gdm2SO4_0.5M', 'Gdm2SO4_2M', 'Gdm2SO4_4M', 'Gdm2SO4_6M', 'GdmCl_0.5M', 'GdmCl_2M' , 'GdmCl_4M', 'GdmCl_6M'\n",
    "# min and max temperature between which correlations should be analysed\n",
    "t_min = 20\n",
    "t_max = 90\n",
    "\n",
    "for key in liste:\n",
    "    # get reference\n",
    "    ref = data_all[key].cd_df.loc[215:300, 20]\n",
    "    \n",
    "    # sort out values with HT above 900\n",
    "    df = data_all[key].cd_df.loc[215:300, :t_max]\n",
    "    \n",
    "    sync, assync =  ana.correlation(df, ref_spec=[ref], scaling='auto',  center=False)\n",
    "    for i in df.index:\n",
    "        for j in df.index:\n",
    "            if sync.loc[i,j] == 0:\n",
    "                sync.loc[i, j] = 1\n",
    "    plot_df = assync.divide(sync)\n",
    "\n",
    "    plot.heatmap(plot_df)"
   ]
  },
  {
   "cell_type": "code",
   "execution_count": null,
   "id": "previous-flour",
   "metadata": {},
   "outputs": [],
   "source": [
    "# list of measurements on which correlation should be performed\n",
    "liste =  liste =  ['Control_0M', 'Gdm2SO4_0.5M', 'Gdm2SO4_1M', 'Gdm2SO4_2M', 'Gdm2SO4_4M', 'Gdm2SO4_6M', 'GdmCl_0.5M','GdmCl_1M', 'GdmCl_2M' , 'GdmCl_4M', 'GdmCl_6M']\n",
    "#'Control_0M', 'Gdm2SO4_0.5M', 'Gdm2SO4_2M', 'Gdm2SO4_4M', 'Gdm2SO4_6M', 'GdmCl_0.5M', 'GdmCl_2M' , 'GdmCl_4M', 'GdmCl_6M'\n",
    "# min and max temperature between which correlations should be analysed\n",
    "t_min = 20\n",
    "t_max = 45\n",
    "\n",
    "# collection of sync and assync plots\n",
    "sync_dic = {}\n",
    "async_dic ={}\n",
    "\n",
    "# max scaling values for upscaling correlation values with absorption spectrum\n",
    "max_scaling_value_sync = 0\n",
    "max_scaling_value_async = 0"
   ]
  },
  {
   "cell_type": "code",
   "execution_count": null,
   "id": "sudden-gathering",
   "metadata": {},
   "outputs": [],
   "source": [
    "# define witdh of additionaly absorbtion correlation band\n",
    "width = 5\n",
    "\n",
    "for key in liste:\n",
    "    # get reference\n",
    "    ref = data_all[key].cd_df.loc[215:300, 20]\n",
    "    \n",
    "    # sort out values with HT above 900\n",
    "    df = data_all[key].cd_df.loc[215:300, t_min:t_max]\n",
    "    \n",
    "    # add absorbance as extra row \n",
    "    for i in range(width):\n",
    "        df = df.append(data_all[key].absorb_df.loc[260, t_min:t_max], ignore_index = True)\n",
    "        ref[301+i] = data_all[key].absorb_df.loc[260, 20]\n",
    "    ref.index = np.arange(86 + width)\n",
    "    \n",
    "    # calculate\n",
    "    sync, assync = ana.correlation(df, ref_spec=[ref], center=False)\n",
    "    sync1, assync1 = ana.correlation(data_all[key].cd_df.loc[215:300, t_min:t_max], ref_spec=[data_all[key].cd_df.loc[215:300, 20]], scaling='pareto', center=False)\n",
    "        \n",
    "    # pareto scaling for CD-part\n",
    "    sync.loc[:85, :85] = sync1.to_numpy()\n",
    "    assync.loc[:85, :85] = assync1.to_numpy()\n",
    "    \n",
    "    # get the sacling the absorption values for sync, and assync and compare with max scaling value so far...\n",
    "    max_cd_value_sync = sync.abs().max().max()\n",
    "    max_abs_value_sync = sync.loc[86:].abs().max().max()\n",
    "    max_scaling_value_sync = (max_cd_value_sync / max_abs_value_sync)\n",
    "        \n",
    "    max_cd_value_async = assync.abs().max().max()\n",
    "    max_abs_value_async = assync.loc[86:].abs().max().max()\n",
    "    max_scaling_value_async = (max_cd_value_async / max_abs_value_async)\n",
    "        \n",
    "    print(max_scaling_value_sync, max_scaling_value_async)\n",
    "    # adding DataFrame to plot dics\n",
    "    sync_dic[key] = sync\n",
    "    async_dic[key] =  assync"
   ]
  },
  {
   "cell_type": "code",
   "execution_count": null,
   "id": "tough-payment",
   "metadata": {},
   "outputs": [],
   "source": [
    "# max scaling values for upscaling correlation values with absorption spectrum\n",
    "max_scaling_value_sync = 23.01341899344675\n",
    "max_scaling_value_async = 34.14136793491423"
   ]
  },
  {
   "cell_type": "code",
   "execution_count": null,
   "id": "rising-contents",
   "metadata": {},
   "outputs": [],
   "source": [
    "for key in sync_dic.keys():\n",
    "    max_cd_value = sync_dic[key].abs().max().max()\n",
    "    sync_dic[key].loc[86:] =  sync_dic[key].loc[86:] * max_scaling_value_sync\n",
    "    sync_dic[key].loc[:85,86:] = sync_dic[key].loc[:85,86:] * max_scaling_value_sync\n",
    "    plot.heatmap(sync_dic[key],  title=key, subtitle=[\"Synchronous Spectrum\", ], y_label=\"Wavelength 1 [nm]\", \n",
    "                 x_label=\"Wavelength 2 [nm]\", c_label=\"\", c_min=[-max_cd_value], c_max=[max_cd_value], hline=85, vline=85,\n",
    "                 contour_lines=[-0.8*max_cd_value,-0.5*max_cd_value, -0.3*max_cd_value, -0.15*max_cd_value, 0, 0.15*max_cd_value, 0.3*max_cd_value, 0.5*max_cd_value, 0.8*max_cd_value])\n",
    "    \n",
    "    max_cd_value = async_dic[key].abs().max().max()\n",
    "    async_dic[key].loc[86:] =  async_dic[key].loc[86:] * max_scaling_value_async\n",
    "    async_dic[key].loc[:85,86:] = async_dic[key].loc[:85,86:] * max_scaling_value_async\n",
    "    plot.heatmap( async_dic[key], title=key, subtitle=[ \"Asynchronous Spectrum\", ], y_label=\"Wavelength 1 [nm]\", \n",
    "                 x_label=\"Wavelength 2 [nm]\",  c_label=\"\", hline=85, vline=85,\n",
    "                 contour_lines=[-0.8*max_cd_value, -0.5*max_cd_value,  -0.3*max_cd_value, -0.15*max_cd_value, 0, 0.15*max_cd_value, 0.3*max_cd_value, \n",
    "                                0.5*max_cd_value, 0.8*max_cd_value] )"
   ]
  },
  {
   "cell_type": "markdown",
   "id": "copyrighted-anniversary",
   "metadata": {},
   "source": [
    "### Tools for Analysis"
   ]
  },
  {
   "cell_type": "markdown",
   "id": "optional-butler",
   "metadata": {},
   "source": [
    "<div class=\"alert alert-block alert-info\">\n",
    "<b>Info:</b> Change 'key' to wanted measurement!\n",
    "</div>"
   ]
  },
  {
   "cell_type": "code",
   "execution_count": null,
   "id": "fiscal-plasma",
   "metadata": {},
   "outputs": [],
   "source": [
    "key1 = \"GdmCl_2M\"\n",
    "key2 = \"GdmCl_2M_24h\"\n",
    "ref1 = data_all[key1].cd_df.loc[:, 20]\n",
    "ref2 = data_all[key2].cd_df.loc[:, 20]\n",
    "sync, assync = ana.correlation(data_all[key1].cd_df.loc[:, :45], data_all[key2].cd_df.loc[:, :45], scaling='pareto', ref_spec=[ref1, ref2], center=False)"
   ]
  },
  {
   "cell_type": "code",
   "execution_count": null,
   "id": "fluid-closer",
   "metadata": {},
   "outputs": [],
   "source": [
    "plot.heatmap(sync, assync,  title=str(key1) + str(key2), subtitle=[\"Synchronous Spectrum\", \"Asynchronous Spectrum\"], x_min=[210, 210], y_min=[210, 210],\n",
    "                y_label= str(key1) + \" WL[nm]\", x_label= str(key2) + \" WL[nm]\")"
   ]
  },
  {
   "cell_type": "markdown",
   "id": "genuine-dylan",
   "metadata": {},
   "source": [
    "**Diagonal Analysis**"
   ]
  },
  {
   "cell_type": "code",
   "execution_count": null,
   "id": "charming-stable",
   "metadata": {},
   "outputs": [],
   "source": [
    "arr = sync.to_numpy()\n",
    "diag =  pd.DataFrame(arr.diagonal(), index=sync.index)\n",
    "wave =  list(sync.index)[:-1]\n",
    "diff =  pd.DataFrame(np.diff(arr.diagonal()), index=wave)\n",
    "plot.mult_func([0], [diff.T, diag.T], baseline=True, x_label=\"wavelength [nm]\", subtitle=[\"Diagonal with differential\"], label=[\"CD Values\", \"Differential\"], x_min=210)"
   ]
  },
  {
   "cell_type": "markdown",
   "id": "adapted-think",
   "metadata": {},
   "source": [
    "**Line Analyis**"
   ]
  },
  {
   "cell_type": "code",
   "execution_count": null,
   "id": "actual-paradise",
   "metadata": {},
   "outputs": [],
   "source": [
    "wavelength=247\n",
    "# adjust wavelength to shift line analysis*"
   ]
  },
  {
   "cell_type": "code",
   "execution_count": null,
   "id": "russian-liberal",
   "metadata": {},
   "outputs": [],
   "source": [
    "arr = sync.loc[wavelength, :].to_numpy()\n",
    "df = pd.DataFrame(arr, index=sync.index).T\n",
    "diff = pd.DataFrame(np.diff(arr), index=list(sync.index)[:-1]).T\n",
    "plot.mult_func([0], [df, diff], x_label=\"wavelength [nm]\", baseline=True, x_min=210, subtitle=[\"Synchronous Line Analysis\"], label=[wavelength, \"derivative\"])"
   ]
  },
  {
   "cell_type": "markdown",
   "id": "virgin-violin",
   "metadata": {},
   "source": [
    "**Excel**"
   ]
  },
  {
   "cell_type": "code",
   "execution_count": 106,
   "id": "vocal-correspondence",
   "metadata": {},
   "outputs": [],
   "source": [
    "excel_path = \"C:\\\\Users\\\\crazy\\\\Mega\\\\Uni\\\\Masterarbeit\\\\Projekt\\\\output.xlsx\""
   ]
  },
  {
   "cell_type": "markdown",
   "id": "awful-metropolitan",
   "metadata": {},
   "source": [
    "create new document"
   ]
  },
  {
   "cell_type": "code",
   "execution_count": 109,
   "id": "comfortable-illustration",
   "metadata": {},
   "outputs": [],
   "source": [
    "with pd.ExcelWriter(excel_path, mode='w') as writer:  \n",
    "\n",
    "                    comp2_conc_df.round(2).to_excel(writer, sheet_name=\"output \")"
   ]
  },
  {
   "cell_type": "markdown",
   "id": "biblical-visit",
   "metadata": {},
   "source": [
    "Homgeneous Spectra Values"
   ]
  },
  {
   "cell_type": "code",
   "execution_count": null,
   "id": "integral-jordan",
   "metadata": {},
   "outputs": [],
   "source": [
    "# liste \n",
    "liste =  ['Control_0M', 'Gdm2SO4_0.5M', 'Gdm2SO4_2M', 'Gdm2SO4_4M', 'Gdm2SO4_6M', 'GdmCl_0.5M', 'GdmCl_2M', 'GdmCl_2M_24h' , 'GdmCl_4M', 'GdmCl_6M', 'Urea_2M']\n",
    "t_min = 20\n",
    "t_max = 90\n",
    "\n",
    "\n",
    "\n",
    "for key in liste:\n",
    "    # get reference\n",
    "    ref = data_all[key].cd_df.loc[:, 20]\n",
    "    # sort out values with HT above 900\n",
    "    df = data_all[key].cd_df\n",
    "    # calculate\n",
    "    sync1, assync1 = ana.correlation(df.loc[:,:45], scaling='pareto', ref_spec=[ref], center=False)\n",
    "    df1 = sync1.loc[[212, 215, 218, 221, 223, 229, 247, 261, 265, 268, 274, 281, 284, 294, 305, 312],[212, 215, 218, 221, 223, 229, 247, 261, 265, 268, 274, 281, 284, 294, 305, 312]].round(3)\n",
    "    df2 = assync1.loc[[212, 215, 218, 221, 223, 229, 247, 261, 265, 268, 274, 281, 284, 294, 305, 312],[212, 215, 218, 221, 223, 229, 247, 261, 265, 268, 274, 281, 284, 294, 305, 312]].round(3)\n",
    "    with pd.ExcelWriter(excel_path, mode='a') as writer:  \n",
    "                    df1.to_excel(writer, sheet_name=key  + \" sync\")\n",
    "                    df2.to_excel(writer, sheet_name=key  + \" async\")"
   ]
  },
  {
   "cell_type": "markdown",
   "id": "welcome-faculty",
   "metadata": {},
   "source": [
    "Heterogeneous Spectra Values"
   ]
  },
  {
   "cell_type": "code",
   "execution_count": null,
   "id": "cleared-google",
   "metadata": {},
   "outputs": [],
   "source": [
    "# Liste\n",
    "\n",
    "#plot_list = [\"Control_0M\", 'GdmCl_0.5M', 'GdmCl_2M',  'GdmCl_4M', 'GdmCl_6M']\n",
    "plot_list = [\"Control_0M\", 'Gdm2SO4_0.5M', 'Gdm2SO4_2M',  'Gdm2SO4_4M', 'Gdm2SO4_6M']\n",
    "anzahl = len(plot_list)\n",
    "t_min = 20 \n",
    "t_max = 90\n",
    "\n",
    "\n",
    "# calculation \n",
    "for i in range(anzahl):\n",
    "    for j in range(anzahl):\n",
    "        if i >= j:\n",
    "            continue\n",
    "        df1 = data_all[plot_list[i]].cd_df\n",
    "        df2 = data_all[plot_list[j]].cd_df\n",
    "        ref1 = df1.loc[:, 20]\n",
    "        ref2 = df2.loc[:, 20]\n",
    "        sync1, assync1 = ana.correlation(df1.loc[:, :t_max], df2.loc[:, :t_max], scaling='pareto', ref_spec=[ref1, ref2], center=False)\n",
    "        df1 = sync1.loc[[212, 215, 218, 221, 223, 229, 247, 261, 265, 268, 274, 281, 284, 294, 305, 312],[212, 215, 218, 221, 223, 229, 247, 261, 265, 268, 274, 281, 284, 294, 305, 312]].round(3)\n",
    "        df2 = assync1.loc[[212, 215, 218, 221, 223, 229, 247, 261, 265, 268, 274, 281, 284, 294, 305, 312],[212, 215, 218, 221, 223, 229, 247, 261, 265, 268, 274, 281, 284, 294, 305, 312]].round(3)\n",
    "        with pd.ExcelWriter(excel_path, mode='a') as writer:  \n",
    "            df1.to_excel(writer, sheet_name=plot_list[i] + \" vs.  \" + plot_list[j]  + \" sync\")\n",
    "            df2.to_excel(writer, sheet_name=plot_list[i] + \" vs.  \" + plot_list[j]  + \" async\")\n",
    "            \n",
    "# extra calculation for 2M vs 2M_24h            \n",
    "\"\"\"df1 = data_all[\"GdmCl_2M\"].cd_df\n",
    "df2 = data_all[\"GdmCl_2M_24h\"].cd_df\n",
    "ref1 = df1.loc[:, 20]\n",
    "ref2 = df2.loc[:, 20]\n",
    "sync1, assync1 = ana.correlation(df1.loc[:, :t_max], df2.loc[:, :t_max], scaling='pareto', ref_spec=[ref1, ref2], center=False)\n",
    "df1 = sync1.loc[[212, 215, 218, 221, 223, 229, 247, 261, 265, 268, 274, 281, 284, 294, 305, 312],[212, 215, 218, 221, 223, 229, 247, 261, 265, 268, 274, 281, 284, 294, 305, 312]].round(3)\n",
    "df2 = assync1.loc[[212, 215, 218, 221, 223, 229, 247, 261, 265, 268, 274, 281, 284, 294, 305, 312],[212, 215, 218, 221, 223, 229, 247, 261, 265, 268, 274, 281, 284, 294, 305, 312]].round(3)\n",
    "with pd.ExcelWriter(excel_path, mode='a') as writer:  \n",
    "    df1.to_excel(writer, sheet_name=\"2M vs. 2M 24h sync\")\n",
    "    df2.to_excel(writer, sheet_name=\"2M vs. 2M 24h async\")\"\"\""
   ]
  },
  {
   "cell_type": "code",
   "execution_count": null,
   "id": "stainless-fellowship",
   "metadata": {},
   "outputs": [],
   "source": [
    "arr = assync.loc[wavelength, :].to_numpy()\n",
    "df = pd.DataFrame(arr, index=assync.index).T\n",
    "diff = pd.DataFrame(np.diff(arr), index=list(assync.index)[:-1]).T\n",
    "plot.mult_func([0], [df, diff], x_label=\"wavelength [nm]\", baseline=True, x_min=210, subtitle=[\"synchronous Line Analysis\"])"
   ]
  },
  {
   "cell_type": "markdown",
   "id": "coated-thing",
   "metadata": {},
   "source": [
    "### Heterogenous Spectrum\n",
    "\n",
    "*with pareto scaling and Control Measurement as Reference*"
   ]
  },
  {
   "cell_type": "code",
   "execution_count": null,
   "id": "abroad-insider",
   "metadata": {},
   "outputs": [],
   "source": [
    "print(data_all.keys())"
   ]
  },
  {
   "cell_type": "code",
   "execution_count": null,
   "id": "federal-musical",
   "metadata": {},
   "outputs": [],
   "source": [
    "#plot_list = [\"Control_0M\", 'GdmCl_0.5M', 'GdmCl_2M',  'GdmCl_4M', 'GdmCl_6M']\n",
    "plot_list = [\"Control_0M\", 'Gdm2SO4_0.5M', 'Gdm2SO4_2M',  'Gdm2SO4_4M', 'Gdm2SO4_6M']\n",
    "anzahl = len(plot_list)\n",
    "t_min = 20 \n",
    "t_max = 90"
   ]
  },
  {
   "cell_type": "code",
   "execution_count": null,
   "id": "incredible-toyota",
   "metadata": {},
   "outputs": [],
   "source": [
    "for i in range(anzahl):\n",
    "    for j in range(anzahl):\n",
    "        if i >= j:\n",
    "            continue\n",
    "        title = \"Heterogenoues 2D Correlation between \" + plot_list[i] + \" \" + plot_list[j]\n",
    "        df1 = data_all[plot_list[i]].cd_df\n",
    "        df2 = data_all[plot_list[j]].cd_df\n",
    "        ref1 = df1.loc[:, 20]\n",
    "        ref2 = df2.loc[:, 20]\n",
    "        sync1, assync1 = ana.correlation(df1, df2, scaling='pareto', ref_spec=[ref1, ref2], center=False)\n",
    "        sync2, assync2 = ana.correlation(df1, df2, scaling='auto', ref_spec=[ref1, ref2], center=False)\n",
    "        plot.heatmap(sync1, assync1, title=title, subtitle=[\"Synchronous Spectrum\", \"Asynchronous Spectrum\", \"Synchronous Spectrum\", \"Asynchronous Spectrum\"], x_min=[210, 210, 210, 210], y_min=[210, 210, 210, 210],\n",
    "                y_label= plot_list[i] + \" WL[nm]\", x_label= plot_list[j] + \" WL[nm]\")"
   ]
  },
  {
   "cell_type": "markdown",
   "id": "daily-angola",
   "metadata": {
    "toc-hr-collapsed": true
   },
   "source": [
    "### Perturbation-Correlation Moving-Window 2D Correlation Spectroscopy"
   ]
  },
  {
   "cell_type": "markdown",
   "id": "alone-smith",
   "metadata": {},
   "source": [
    "*different window size can be choosen*"
   ]
  },
  {
   "cell_type": "code",
   "execution_count": 10,
   "id": "israeli-penny",
   "metadata": {},
   "outputs": [],
   "source": [
    "liste =  ['Control_0M', 'Gdm2SO4_0.5M', 'Gdm2SO4_1M',  'Gdm2SO4_2M', 'Gdm2SO4_4M', 'Gdm2SO4_6M', 'Control_0M', 'GdmCl_0.5M', 'GdmCl_1M' ,  'GdmCl_2M' , 'GdmCl_4M', 'GdmCl_6M' ]"
   ]
  },
  {
   "cell_type": "code",
   "execution_count": 13,
   "id": "unavailable-trash",
   "metadata": {},
   "outputs": [
    {
     "data": {
      "application/vnd.jupyter.widget-view+json": {
       "model_id": "51724d16f9e24f2cafba415b279096ad",
       "version_major": 2,
       "version_minor": 0
      },
      "text/plain": [
       "Canvas(toolbar=Toolbar(toolitems=[('Home', 'Reset original view', 'home', 'home'), ('Back', 'Back to previous …"
      ]
     },
     "metadata": {},
     "output_type": "display_data"
    },
    {
     "data": {
      "application/vnd.jupyter.widget-view+json": {
       "model_id": "39134c7eb06b45e7ad00f0aad997771f",
       "version_major": 2,
       "version_minor": 0
      },
      "text/plain": [
       "Canvas(toolbar=Toolbar(toolitems=[('Home', 'Reset original view', 'home', 'home'), ('Back', 'Back to previous …"
      ]
     },
     "metadata": {},
     "output_type": "display_data"
    },
    {
     "data": {
      "application/vnd.jupyter.widget-view+json": {
       "model_id": "fea21b33bb17414e96858f8f885aa2f2",
       "version_major": 2,
       "version_minor": 0
      },
      "text/plain": [
       "Canvas(toolbar=Toolbar(toolitems=[('Home', 'Reset original view', 'home', 'home'), ('Back', 'Back to previous …"
      ]
     },
     "metadata": {},
     "output_type": "display_data"
    },
    {
     "data": {
      "application/vnd.jupyter.widget-view+json": {
       "model_id": "b36947bc14784953b87998ec5b9c16e8",
       "version_major": 2,
       "version_minor": 0
      },
      "text/plain": [
       "Canvas(toolbar=Toolbar(toolitems=[('Home', 'Reset original view', 'home', 'home'), ('Back', 'Back to previous …"
      ]
     },
     "metadata": {},
     "output_type": "display_data"
    },
    {
     "data": {
      "application/vnd.jupyter.widget-view+json": {
       "model_id": "b970a66ebb474758935a8cbad6c6fe43",
       "version_major": 2,
       "version_minor": 0
      },
      "text/plain": [
       "Canvas(toolbar=Toolbar(toolitems=[('Home', 'Reset original view', 'home', 'home'), ('Back', 'Back to previous …"
      ]
     },
     "metadata": {},
     "output_type": "display_data"
    },
    {
     "data": {
      "application/vnd.jupyter.widget-view+json": {
       "model_id": "e7fc90b348e24409b2ff4713b2096081",
       "version_major": 2,
       "version_minor": 0
      },
      "text/plain": [
       "Canvas(toolbar=Toolbar(toolitems=[('Home', 'Reset original view', 'home', 'home'), ('Back', 'Back to previous …"
      ]
     },
     "metadata": {},
     "output_type": "display_data"
    },
    {
     "data": {
      "application/vnd.jupyter.widget-view+json": {
       "model_id": "8bd414350a634627914e70de4c585ffb",
       "version_major": 2,
       "version_minor": 0
      },
      "text/plain": [
       "Canvas(toolbar=Toolbar(toolitems=[('Home', 'Reset original view', 'home', 'home'), ('Back', 'Back to previous …"
      ]
     },
     "metadata": {},
     "output_type": "display_data"
    },
    {
     "data": {
      "application/vnd.jupyter.widget-view+json": {
       "model_id": "e9dfe79d2ff749aaac20c2e78e6ded9a",
       "version_major": 2,
       "version_minor": 0
      },
      "text/plain": [
       "Canvas(toolbar=Toolbar(toolitems=[('Home', 'Reset original view', 'home', 'home'), ('Back', 'Back to previous …"
      ]
     },
     "metadata": {},
     "output_type": "display_data"
    },
    {
     "data": {
      "application/vnd.jupyter.widget-view+json": {
       "model_id": "492e209f563e407b9158ac8c455c44ad",
       "version_major": 2,
       "version_minor": 0
      },
      "text/plain": [
       "Canvas(toolbar=Toolbar(toolitems=[('Home', 'Reset original view', 'home', 'home'), ('Back', 'Back to previous …"
      ]
     },
     "metadata": {},
     "output_type": "display_data"
    },
    {
     "data": {
      "application/vnd.jupyter.widget-view+json": {
       "model_id": "186f543bff8d4ad4aa3ed6617105315e",
       "version_major": 2,
       "version_minor": 0
      },
      "text/plain": [
       "Canvas(toolbar=Toolbar(toolitems=[('Home', 'Reset original view', 'home', 'home'), ('Back', 'Back to previous …"
      ]
     },
     "metadata": {},
     "output_type": "display_data"
    },
    {
     "data": {
      "application/vnd.jupyter.widget-view+json": {
       "model_id": "b44e6f96c15940cdbbd7d36627f891ca",
       "version_major": 2,
       "version_minor": 0
      },
      "text/plain": [
       "Canvas(toolbar=Toolbar(toolitems=[('Home', 'Reset original view', 'home', 'home'), ('Back', 'Back to previous …"
      ]
     },
     "metadata": {},
     "output_type": "display_data"
    },
    {
     "data": {
      "application/vnd.jupyter.widget-view+json": {
       "model_id": "dcce46caff65408784c65d452c3cb56c",
       "version_major": 2,
       "version_minor": 0
      },
      "text/plain": [
       "Canvas(toolbar=Toolbar(toolitems=[('Home', 'Reset original view', 'home', 'home'), ('Back', 'Back to previous …"
      ]
     },
     "metadata": {},
     "output_type": "display_data"
    }
   ],
   "source": [
    "for key in liste:\n",
    "    df = data_all[key].cd_df.loc[215:300, 20:]\n",
    "    max_cd_value = df.abs().max().max()\n",
    "    sync, assync, = ana.perturbation_moving_window(df, window_size=3)\n",
    "    plot.heatmap(sync, x_min=[215], x_max=[300], x_label=\"Temperature [°C]\", y_label=\"Wavelength [nm]\", \n",
    "                 c_label=\"\",c_min=[-0.8e8], c_max=[0.8e8], title=\"\", subtitle=[key],\n",
    "                contour_lines=[-0.7*max_cd_value, -0.4*max_cd_value,  -0.2*max_cd_value,  0, 0.2*max_cd_value, \n",
    "                                0.4*max_cd_value, 0.7*max_cd_value], hline=[melt_T[key]])"
   ]
  },
  {
   "cell_type": "markdown",
   "id": "antique-dining",
   "metadata": {},
   "source": [
    "### 2D Correlation of Null Space Projection"
   ]
  },
  {
   "cell_type": "markdown",
   "id": "varied-shuttle",
   "metadata": {},
   "source": [
    "*different projection_vectors/matrices can be choosen*"
   ]
  },
  {
   "cell_type": "code",
   "execution_count": null,
   "id": "latest-elite",
   "metadata": {},
   "outputs": [],
   "source": [
    "liste =  ['Control_0M', 'Gdm2SO4_0.5M', 'Gdm2SO4_2M', 'Gdm2SO4_4M', \"Gdm2SO4_6M\", \"Control_0M\" ,'GdmCl_0.5M', 'GdmCl_2M' , 'GdmCl_4M', 'GdmCl_6M' ]"
   ]
  },
  {
   "cell_type": "code",
   "execution_count": null,
   "id": "impressed-consultation",
   "metadata": {},
   "outputs": [],
   "source": [
    "for key in liste:\n",
    "    # get reference\n",
    "    ref = data_all[key].cd_df.loc[:, 20]\n",
    "    \n",
    "    # create dynamic spectrum! and calculate projection\n",
    "    df = ana.projection_matrix(data_all[key].cd_df.subtract(ref, axis=0), row_min_max=[247], center=False)\n",
    "    plot.mult_func([264, 274, 281], [df], subtitle=[key])"
   ]
  },
  {
   "cell_type": "code",
   "execution_count": null,
   "id": "suited-clothing",
   "metadata": {},
   "outputs": [],
   "source": [
    "for key in liste:\n",
    "    # get reference\n",
    "    ref = data_all[key].cd_df.loc[:, 20]\n",
    "    \n",
    "    # create dynamic spectrum! and calculate projection\n",
    "    df = ana.projection_matrix(data_all[key].cd_df.subtract(ref, axis=0), row_min_max=[247], center=False)\n",
    "    sync, assync = ana.correlation(df)\n",
    "            \n",
    "    plot.heatmap(sync, assync, x_min=[220, 220], y_min=[220,220], subtitle=[\"\"], title=str(key), c_max=[2e+20, 2e+20], c_min=[-1e+20,-1e+20])"
   ]
  },
  {
   "cell_type": "code",
   "execution_count": null,
   "id": "sporting-breeding",
   "metadata": {},
   "outputs": [],
   "source": [
    "for key in liste:\n",
    "    # get reference\n",
    "    ref = data_all[key].cd_df.loc[:, 20]\n",
    "    \n",
    "    # create dynamic spectrum! and calculate projection\n",
    "    df = ana.projection_matrix(data_all[key].cd_df.subtract(ref, axis=0), row_min_max=[247], center=False)\n",
    "    \n",
    "     # sort out values with HT above 900\n",
    "    for wave in data_all[key].ht_df.index:\n",
    "        if data_all[key].ht_df.max(axis=1).loc[wave] >= 900:\n",
    "            df = df.drop(wave)\n",
    "    # calculate\n",
    "    sync1, assync1, = ana.correlation(df, ref_spec=[0])\n",
    "    # plot\n",
    "    plot.heatmap(sync1, assync1, title=str(key), subtitle=[\"Synchronous Spectrum\", \"Asynchronous Spectrum\"], y_label=\"wavelength [nm]\", \n",
    "                 x_label=\"wavenlength [nm]\", x_min=[220, 220], y_min=[220,220])"
   ]
  },
  {
   "cell_type": "markdown",
   "id": "graphic-mumbai",
   "metadata": {},
   "source": [
    "## Sigmoid Fit and Melting Temperature"
   ]
  },
  {
   "cell_type": "code",
   "execution_count": null,
   "id": "reserved-biotechnology",
   "metadata": {},
   "outputs": [],
   "source": [
    "graph={}\n",
    "melt_T={}\n",
    "for key in data_all.keys():\n",
    "    fit, params, error = ana.sigmoid_fit(ana.normalize(data_all[key].cd_df))\n",
    "    x =  np.arange(20, 91, 0.1)\n",
    "    deriv = pd.DataFrame(ana.sigmoid_deriv(x, *params), index=x, columns=[\"deriv\"]).T\n",
    "    maximum = deriv.max(axis=1) \n",
    "    T = float(deriv.idxmax(axis=1))\n",
    "    maxi = pd.DataFrame({T:1}, index=[\"Maximum\"])\n",
    "    deriv = deriv.div(maximum, axis=0)\n",
    "    fit = pd.concat([fit, deriv], axis=0)\n",
    "    fit = pd.concat([fit, maxi], axis=0)\n",
    "    graph[key] = [fit]  \n",
    "    melt_T[key] = T\n",
    "plot.mult_func([247, \"fit\", \"deriv\", \"Maximum\"], *graph.values(),  title=\"Sigmoid-Fit and Derivative(adjusted)\",\n",
    "               subtitle=list(graph.keys()), marker=['x', '', '', 'x'], linestyle=[\"\",\"-\", \":\",\"\"])"
   ]
  },
  {
   "cell_type": "markdown",
   "id": "cross-aggregate",
   "metadata": {},
   "source": [
    "Plot the melting Temperatures for the Gdm2SO4 and GdmCl"
   ]
  },
  {
   "cell_type": "code",
   "execution_count": null,
   "id": "close-arena",
   "metadata": {},
   "outputs": [],
   "source": [
    "x = [0., 0.5, 2., 4.]\n",
    "y = list(melt_T.values())[0:4]\n",
    "graph1 = pd.DataFrame(y, index=x, columns=[\"Gdm2SO4\"]).T\n",
    "\n",
    "y2 = [melt_T[\"Control_0M\"], melt_T[\"GdmCl_0.5M\"], melt_T[\"GdmCl_2M\"], melt_T[\"GdmCl_4M\"]]\n",
    "graph2 = pd.DataFrame(y2, index=x, columns=[\"GdmCl\"] ).T\n",
    "\n",
    "graph = pd.concat([graph1, graph2], axis=0)\n",
    "plot.mult_func([\"Gdm2SO4\", \"GdmCl\"], [graph], title=\"Melting Temperature\", subtitle=[\"\"], x_label=\"Concentration[M]\", y_label=\"Temperature[K]\")"
   ]
  },
  {
   "cell_type": "markdown",
   "id": "obvious-banana",
   "metadata": {},
   "source": [
    "## Absorbance Values"
   ]
  },
  {
   "cell_type": "code",
   "execution_count": 31,
   "id": "dying-dover",
   "metadata": {},
   "outputs": [
    {
     "data": {
      "application/vnd.jupyter.widget-view+json": {
       "model_id": "cd180feac59846c39644cd974fce0722",
       "version_major": 2,
       "version_minor": 0
      },
      "text/plain": [
       "Canvas(toolbar=Toolbar(toolitems=[('Home', 'Reset original view', 'home', 'home'), ('Back', 'Back to previous …"
      ]
     },
     "metadata": {},
     "output_type": "display_data"
    },
    {
     "data": {
      "application/vnd.jupyter.widget-view+json": {
       "model_id": "d628e786e6e64fdcb3a3f7eac9117350",
       "version_major": 2,
       "version_minor": 0
      },
      "text/plain": [
       "Canvas(toolbar=Toolbar(toolitems=[('Home', 'Reset original view', 'home', 'home'), ('Back', 'Back to previous …"
      ]
     },
     "metadata": {},
     "output_type": "display_data"
    },
    {
     "data": {
      "application/vnd.jupyter.widget-view+json": {
       "model_id": "2f6185c99e1549dcbcfe7b80f6dae136",
       "version_major": 2,
       "version_minor": 0
      },
      "text/plain": [
       "Canvas(toolbar=Toolbar(toolitems=[('Home', 'Reset original view', 'home', 'home'), ('Back', 'Back to previous …"
      ]
     },
     "metadata": {},
     "output_type": "display_data"
    },
    {
     "data": {
      "application/vnd.jupyter.widget-view+json": {
       "model_id": "0ec1e0669da2402aa0c08bcf9c6141e9",
       "version_major": 2,
       "version_minor": 0
      },
      "text/plain": [
       "Canvas(toolbar=Toolbar(toolitems=[('Home', 'Reset original view', 'home', 'home'), ('Back', 'Back to previous …"
      ]
     },
     "metadata": {},
     "output_type": "display_data"
    },
    {
     "data": {
      "application/vnd.jupyter.widget-view+json": {
       "model_id": "ba1cca40ecfd40e6a7e3149e64a9384c",
       "version_major": 2,
       "version_minor": 0
      },
      "text/plain": [
       "Canvas(toolbar=Toolbar(toolitems=[('Home', 'Reset original view', 'home', 'home'), ('Back', 'Back to previous …"
      ]
     },
     "metadata": {},
     "output_type": "display_data"
    },
    {
     "data": {
      "application/vnd.jupyter.widget-view+json": {
       "model_id": "3619055c30e94947b8b9883c9b4c2a80",
       "version_major": 2,
       "version_minor": 0
      },
      "text/plain": [
       "Canvas(toolbar=Toolbar(toolitems=[('Home', 'Reset original view', 'home', 'home'), ('Back', 'Back to previous …"
      ]
     },
     "metadata": {},
     "output_type": "display_data"
    },
    {
     "data": {
      "application/vnd.jupyter.widget-view+json": {
       "model_id": "55da338bfef14524a03e834d49edeb17",
       "version_major": 2,
       "version_minor": 0
      },
      "text/plain": [
       "Canvas(toolbar=Toolbar(toolitems=[('Home', 'Reset original view', 'home', 'home'), ('Back', 'Back to previous …"
      ]
     },
     "metadata": {},
     "output_type": "display_data"
    },
    {
     "data": {
      "application/vnd.jupyter.widget-view+json": {
       "model_id": "d5db6c8df98d4cacbed6a84d616c215c",
       "version_major": 2,
       "version_minor": 0
      },
      "text/plain": [
       "Canvas(toolbar=Toolbar(toolitems=[('Home', 'Reset original view', 'home', 'home'), ('Back', 'Back to previous …"
      ]
     },
     "metadata": {},
     "output_type": "display_data"
    },
    {
     "data": {
      "application/vnd.jupyter.widget-view+json": {
       "model_id": "a7bc394cf14b4acb802532d1b6676715",
       "version_major": 2,
       "version_minor": 0
      },
      "text/plain": [
       "Canvas(toolbar=Toolbar(toolitems=[('Home', 'Reset original view', 'home', 'home'), ('Back', 'Back to previous …"
      ]
     },
     "metadata": {},
     "output_type": "display_data"
    },
    {
     "data": {
      "application/vnd.jupyter.widget-view+json": {
       "model_id": "707b8b9197454f31b9e50bf14d9079c0",
       "version_major": 2,
       "version_minor": 0
      },
      "text/plain": [
       "Canvas(toolbar=Toolbar(toolitems=[('Home', 'Reset original view', 'home', 'home'), ('Back', 'Back to previous …"
      ]
     },
     "metadata": {},
     "output_type": "display_data"
    },
    {
     "data": {
      "application/vnd.jupyter.widget-view+json": {
       "model_id": "7aabf10ad3154b03a0cc4548705627cf",
       "version_major": 2,
       "version_minor": 0
      },
      "text/plain": [
       "Canvas(toolbar=Toolbar(toolitems=[('Home', 'Reset original view', 'home', 'home'), ('Back', 'Back to previous …"
      ]
     },
     "metadata": {},
     "output_type": "display_data"
    },
    {
     "data": {
      "application/vnd.jupyter.widget-view+json": {
       "model_id": "7acb2231dabc4420819ba180ac78d1dd",
       "version_major": 2,
       "version_minor": 0
      },
      "text/plain": [
       "Canvas(toolbar=Toolbar(toolitems=[('Home', 'Reset original view', 'home', 'home'), ('Back', 'Back to previous …"
      ]
     },
     "metadata": {},
     "output_type": "display_data"
    },
    {
     "data": {
      "application/vnd.jupyter.widget-view+json": {
       "model_id": "e6432a9c5dcc46c19313a6ec55c26fee",
       "version_major": 2,
       "version_minor": 0
      },
      "text/plain": [
       "Canvas(toolbar=Toolbar(toolitems=[('Home', 'Reset original view', 'home', 'home'), ('Back', 'Back to previous …"
      ]
     },
     "metadata": {},
     "output_type": "display_data"
    },
    {
     "data": {
      "application/vnd.jupyter.widget-view+json": {
       "model_id": "bdb33bd0aa3347b7a61fb381e55eec86",
       "version_major": 2,
       "version_minor": 0
      },
      "text/plain": [
       "Canvas(toolbar=Toolbar(toolitems=[('Home', 'Reset original view', 'home', 'home'), ('Back', 'Back to previous …"
      ]
     },
     "metadata": {},
     "output_type": "display_data"
    },
    {
     "data": {
      "application/vnd.jupyter.widget-view+json": {
       "model_id": "4d792b8520274a21b4d97ffaa5bf54b4",
       "version_major": 2,
       "version_minor": 0
      },
      "text/plain": [
       "Canvas(toolbar=Toolbar(toolitems=[('Home', 'Reset original view', 'home', 'home'), ('Back', 'Back to previous …"
      ]
     },
     "metadata": {},
     "output_type": "display_data"
    },
    {
     "data": {
      "application/vnd.jupyter.widget-view+json": {
       "model_id": "67a688739f5148e2a0fd278994f00832",
       "version_major": 2,
       "version_minor": 0
      },
      "text/plain": [
       "Canvas(toolbar=Toolbar(toolitems=[('Home', 'Reset original view', 'home', 'home'), ('Back', 'Back to previous …"
      ]
     },
     "metadata": {},
     "output_type": "display_data"
    },
    {
     "data": {
      "application/vnd.jupyter.widget-view+json": {
       "model_id": "1bf6d800f7db4992b39a3921cad11586",
       "version_major": 2,
       "version_minor": 0
      },
      "text/plain": [
       "Canvas(toolbar=Toolbar(toolitems=[('Home', 'Reset original view', 'home', 'home'), ('Back', 'Back to previous …"
      ]
     },
     "metadata": {},
     "output_type": "display_data"
    },
    {
     "data": {
      "application/vnd.jupyter.widget-view+json": {
       "model_id": "372112e5022341349b68c0486dbd8844",
       "version_major": 2,
       "version_minor": 0
      },
      "text/plain": [
       "Canvas(toolbar=Toolbar(toolitems=[('Home', 'Reset original view', 'home', 'home'), ('Back', 'Back to previous …"
      ]
     },
     "metadata": {},
     "output_type": "display_data"
    }
   ],
   "source": [
    "\n",
    "for key in data_all.keys():\n",
    "    plot.heatmap(data_all[key].absorb_df, subtitle=[key], title=\"Absorbance Values\", x_min=[215], x_max=[300], c_min=[0]*len(data_all))\n"
   ]
  },
  {
   "cell_type": "code",
   "execution_count": 32,
   "id": "collected-thomas",
   "metadata": {},
   "outputs": [
    {
     "data": {
      "application/vnd.jupyter.widget-view+json": {
       "model_id": "c29640e2818a4518bcf80c46256dbab7",
       "version_major": 2,
       "version_minor": 0
      },
      "text/plain": [
       "Canvas(toolbar=Toolbar(toolitems=[('Home', 'Reset original view', 'home', 'home'), ('Back', 'Back to previous …"
      ]
     },
     "metadata": {},
     "output_type": "display_data"
    },
    {
     "data": {
      "application/vnd.jupyter.widget-view+json": {
       "model_id": "d8424ed86b9f4830b3f31cd9c1a4f445",
       "version_major": 2,
       "version_minor": 0
      },
      "text/plain": [
       "Canvas(toolbar=Toolbar(toolitems=[('Home', 'Reset original view', 'home', 'home'), ('Back', 'Back to previous …"
      ]
     },
     "metadata": {},
     "output_type": "display_data"
    },
    {
     "data": {
      "application/vnd.jupyter.widget-view+json": {
       "model_id": "f12f897713564c5e84ba498969193899",
       "version_major": 2,
       "version_minor": 0
      },
      "text/plain": [
       "Canvas(toolbar=Toolbar(toolitems=[('Home', 'Reset original view', 'home', 'home'), ('Back', 'Back to previous …"
      ]
     },
     "metadata": {},
     "output_type": "display_data"
    },
    {
     "data": {
      "application/vnd.jupyter.widget-view+json": {
       "model_id": "e736155fbd6f4838882b156224f21f6b",
       "version_major": 2,
       "version_minor": 0
      },
      "text/plain": [
       "Canvas(toolbar=Toolbar(toolitems=[('Home', 'Reset original view', 'home', 'home'), ('Back', 'Back to previous …"
      ]
     },
     "metadata": {},
     "output_type": "display_data"
    },
    {
     "data": {
      "application/vnd.jupyter.widget-view+json": {
       "model_id": "ff099a5bd6824c4bb2feb55f0e35f640",
       "version_major": 2,
       "version_minor": 0
      },
      "text/plain": [
       "Canvas(toolbar=Toolbar(toolitems=[('Home', 'Reset original view', 'home', 'home'), ('Back', 'Back to previous …"
      ]
     },
     "metadata": {},
     "output_type": "display_data"
    },
    {
     "data": {
      "application/vnd.jupyter.widget-view+json": {
       "model_id": "b447a62c2e5f4b64b1d0c612ba447fc7",
       "version_major": 2,
       "version_minor": 0
      },
      "text/plain": [
       "Canvas(toolbar=Toolbar(toolitems=[('Home', 'Reset original view', 'home', 'home'), ('Back', 'Back to previous …"
      ]
     },
     "metadata": {},
     "output_type": "display_data"
    },
    {
     "data": {
      "application/vnd.jupyter.widget-view+json": {
       "model_id": "19a4a521b7f542f19f3a3369a65b0fdb",
       "version_major": 2,
       "version_minor": 0
      },
      "text/plain": [
       "Canvas(toolbar=Toolbar(toolitems=[('Home', 'Reset original view', 'home', 'home'), ('Back', 'Back to previous …"
      ]
     },
     "metadata": {},
     "output_type": "display_data"
    },
    {
     "data": {
      "application/vnd.jupyter.widget-view+json": {
       "model_id": "d02a1485cfe843b2a7f13156bf31a4f7",
       "version_major": 2,
       "version_minor": 0
      },
      "text/plain": [
       "Canvas(toolbar=Toolbar(toolitems=[('Home', 'Reset original view', 'home', 'home'), ('Back', 'Back to previous …"
      ]
     },
     "metadata": {},
     "output_type": "display_data"
    },
    {
     "data": {
      "application/vnd.jupyter.widget-view+json": {
       "model_id": "3234ea46808349ce91fc2b27b537ead8",
       "version_major": 2,
       "version_minor": 0
      },
      "text/plain": [
       "Canvas(toolbar=Toolbar(toolitems=[('Home', 'Reset original view', 'home', 'home'), ('Back', 'Back to previous …"
      ]
     },
     "metadata": {},
     "output_type": "display_data"
    },
    {
     "data": {
      "application/vnd.jupyter.widget-view+json": {
       "model_id": "57e157ecb18d49bda09b0c52c45a3531",
       "version_major": 2,
       "version_minor": 0
      },
      "text/plain": [
       "Canvas(toolbar=Toolbar(toolitems=[('Home', 'Reset original view', 'home', 'home'), ('Back', 'Back to previous …"
      ]
     },
     "metadata": {},
     "output_type": "display_data"
    },
    {
     "data": {
      "application/vnd.jupyter.widget-view+json": {
       "model_id": "d0297c00c60c4e2eafbf6fd4dc4a4cd5",
       "version_major": 2,
       "version_minor": 0
      },
      "text/plain": [
       "Canvas(toolbar=Toolbar(toolitems=[('Home', 'Reset original view', 'home', 'home'), ('Back', 'Back to previous …"
      ]
     },
     "metadata": {},
     "output_type": "display_data"
    },
    {
     "data": {
      "application/vnd.jupyter.widget-view+json": {
       "model_id": "025c1cc77edb4d5c99d8e6dfa1c7fcf8",
       "version_major": 2,
       "version_minor": 0
      },
      "text/plain": [
       "Canvas(toolbar=Toolbar(toolitems=[('Home', 'Reset original view', 'home', 'home'), ('Back', 'Back to previous …"
      ]
     },
     "metadata": {},
     "output_type": "display_data"
    },
    {
     "data": {
      "application/vnd.jupyter.widget-view+json": {
       "model_id": "b21aea806e6d4872acb4d67348c024a2",
       "version_major": 2,
       "version_minor": 0
      },
      "text/plain": [
       "Canvas(toolbar=Toolbar(toolitems=[('Home', 'Reset original view', 'home', 'home'), ('Back', 'Back to previous …"
      ]
     },
     "metadata": {},
     "output_type": "display_data"
    },
    {
     "data": {
      "application/vnd.jupyter.widget-view+json": {
       "model_id": "58e77f0460b74ff4ad47310bfd666ff6",
       "version_major": 2,
       "version_minor": 0
      },
      "text/plain": [
       "Canvas(toolbar=Toolbar(toolitems=[('Home', 'Reset original view', 'home', 'home'), ('Back', 'Back to previous …"
      ]
     },
     "metadata": {},
     "output_type": "display_data"
    },
    {
     "data": {
      "application/vnd.jupyter.widget-view+json": {
       "model_id": "7b524ce3530a4ef3997f83cdc21d0008",
       "version_major": 2,
       "version_minor": 0
      },
      "text/plain": [
       "Canvas(toolbar=Toolbar(toolitems=[('Home', 'Reset original view', 'home', 'home'), ('Back', 'Back to previous …"
      ]
     },
     "metadata": {},
     "output_type": "display_data"
    },
    {
     "data": {
      "application/vnd.jupyter.widget-view+json": {
       "model_id": "eebc5d501ecc437897a32f4b21bd884c",
       "version_major": 2,
       "version_minor": 0
      },
      "text/plain": [
       "Canvas(toolbar=Toolbar(toolitems=[('Home', 'Reset original view', 'home', 'home'), ('Back', 'Back to previous …"
      ]
     },
     "metadata": {},
     "output_type": "display_data"
    },
    {
     "data": {
      "application/vnd.jupyter.widget-view+json": {
       "model_id": "5d7d49f49b1c46aa80128f4ef366b4ee",
       "version_major": 2,
       "version_minor": 0
      },
      "text/plain": [
       "Canvas(toolbar=Toolbar(toolitems=[('Home', 'Reset original view', 'home', 'home'), ('Back', 'Back to previous …"
      ]
     },
     "metadata": {},
     "output_type": "display_data"
    },
    {
     "data": {
      "application/vnd.jupyter.widget-view+json": {
       "model_id": "db023a9bf0a04fcf88ac81d22b10df72",
       "version_major": 2,
       "version_minor": 0
      },
      "text/plain": [
       "Canvas(toolbar=Toolbar(toolitems=[('Home', 'Reset original view', 'home', 'home'), ('Back', 'Back to previous …"
      ]
     },
     "metadata": {},
     "output_type": "display_data"
    }
   ],
   "source": [
    "for key in data_all.keys():\n",
    "    df = data_all[key].absorb_df\n",
    "    deriv_df = ana.derivative(df)*10\n",
    "    plot.mult_func([260], [df - df.min(axis=1).loc[260], deriv_df], subtitle=[key], linestyle=[\"-\",\":\"], marker=[\"x\",\"\"])"
   ]
  },
  {
   "cell_type": "code",
   "execution_count": null,
   "id": "supreme-finish",
   "metadata": {},
   "outputs": [],
   "source": [
    "graph={}\n",
    "melt_T={}\n",
    "error_a = {}\n",
    "error_b = {}\n",
    "coop={}\n",
    "elements = [\"Control_0M\", \"Gdm2SO4_0.5M\", \"Gdm2SO4_2M\", \"Gdm2SO4_4M\", \"Control_0M\", \"GdmCl_0.5M\", \"GdmCl_2M\", \"GdmCl_4M\" ]\n",
    "key = \"GdmSCN_0.5M\"\n",
    "fit, params, std = ana.sigmoid_fit(ana.normalize(data_all[key].absorb_df), wave=260, a_range=[0.2, 0.5])\n",
    "x =  np.arange(20, 91, 0.1)\n",
    "deriv = pd.DataFrame(ana.sigmoid_deriv(x, *params), index=x, columns=[\"deriv\"]).T\n",
    "maximum = deriv.max(axis=1) \n",
    "T = float(deriv.idxmax(axis=1))\n",
    "maxi = pd.DataFrame({T:1}, index=[\"Maximum\"])\n",
    "deriv = deriv.div(maximum, axis=0)\n",
    "fit = pd.concat([fit, deriv], axis=0)\n",
    "fit = pd.concat([fit, maxi], axis=0)\n",
    "graph[key] = [fit]  \n",
    "melt_T[key] = params[1]\n",
    "error_a[key] = std[0]\n",
    "error_b[key] = std[1]\n",
    "coop[key] = params[0] \n",
    "plot.mult_func([260, \"fit\", \"deriv\"], graph[key],  title=\"Sigmoid-Fit and Derivative(adjusted)\", subtitle=list(graph.keys()), marker=['x', '', '', 'x'], linestyle=[\"\",\"-\", \":\",\"\"])"
   ]
  },
  {
   "cell_type": "code",
   "execution_count": null,
   "id": "impossible-semiconductor",
   "metadata": {},
   "outputs": [],
   "source": [
    "graph={}\n",
    "melt_T={}\n",
    "error_a = {}\n",
    "error_b = {}\n",
    "coop={}\n",
    "elements = [\"Control_0M\", \"Gdm2SO4_0.5M\", \"Gdm2SO4_2M\", \"Gdm2SO4_4M\", \"Control_0M\", \"GdmCl_0.5M\", \"GdmCl_2M\", \"GdmCl_4M\" ]\n",
    "for key in data_all.keys():\n",
    "    fit, params, std = ana.sigmoid_fit(ana.normalize(data_all[key].absorb_df), wave=260, a_range=[0.2, 0.5])\n",
    "    x =  np.arange(20, 91, 0.1)\n",
    "    deriv = pd.DataFrame(ana.sigmoid_deriv(x, *params), index=x, columns=[\"deriv\"]).T\n",
    "    maximum = deriv.max(axis=1) \n",
    "    T = float(deriv.idxmax(axis=1))\n",
    "    maxi = pd.DataFrame({T:1}, index=[\"Maximum\"])\n",
    "    deriv = deriv.div(maximum, axis=0)\n",
    "    fit = pd.concat([fit, deriv], axis=0)\n",
    "    fit = pd.concat([fit, maxi], axis=0)\n",
    "    graph[key] = [fit]  \n",
    "    melt_T[key] = params[1]\n",
    "    error_a[key] = std[0]\n",
    "    error_b[key] = std[1]\n",
    "    coop[key] = params[0] \n",
    "plot.mult_func([260, \"fit\", \"deriv\"], graph[\"GdmCl_4M\"],  title=\"Sigmoid-Fit and Derivative(adjusted)\", subtitle=list(graph.keys()), marker=['x', '', '', 'x'], linestyle=[\"\",\"-\", \":\",\"\"])"
   ]
  },
  {
   "cell_type": "code",
   "execution_count": null,
   "id": "finished-yesterday",
   "metadata": {},
   "outputs": [],
   "source": [
    "x = [0., 0.5, 2., 4.]\n",
    "y = list(melt_T.values())[0:4]\n",
    "graph1 = pd.DataFrame(y, index=x, columns=[\"Gdm2SO4\"]).T\n",
    "\n",
    "y2 = [melt_T[\"Control_0M\"], melt_T[\"GdmCl_0.5M\"], melt_T[\"GdmCl_2M\"], melt_T[\"GdmCl_4M\"]]\n",
    "graph2 = pd.DataFrame(y2, index=x, columns=[\"GdmCl\"] ).T\n",
    "\n",
    "graph = pd.concat([graph1, graph2], axis=0)\n",
    "plot.mult_func([\"Gdm2SO4\", \"GdmCl\"], [graph], error=error_b, title=\"Melting Temperature\",\n",
    "               subtitle=[\"\"], x_label=\"Concentration[M]\", y_label=\"Temperature[°C]\")"
   ]
  },
  {
   "cell_type": "code",
   "execution_count": null,
   "id": "postal-nickel",
   "metadata": {},
   "outputs": [],
   "source": [
    "x = [0., 0.5, 2., 4.]\n",
    "y = list(coop.values())[0:4]\n",
    "graph1 = pd.DataFrame(y, index=x, columns=[\"Gdm2SO4\"]).T\n",
    "\n",
    "y2 = [coop[\"Control_0M\"], coop[\"GdmCl_0.5M\"], coop[\"GdmCl_2M\"], coop[\"GdmCl_4M\"]]\n",
    "graph2 = pd.DataFrame(y2, index=x, columns=[\"GdmCl\"] ).T\n",
    "\n",
    "graph = pd.concat([graph1, graph2], axis=0)\n",
    "plot.mult_func([\"Gdm2SO4\", \"GdmCl\"], [graph], error=error_a, title=\"Variance\",\n",
    "               subtitle=[\"\"], x_label=\"Concentration[M]\", y_label=\"Temperature[K^2]\")"
   ]
  },
  {
   "cell_type": "markdown",
   "id": "special-guitar",
   "metadata": {},
   "source": [
    "### LM Fit"
   ]
  },
  {
   "cell_type": "code",
   "execution_count": null,
   "id": "critical-daughter",
   "metadata": {},
   "outputs": [],
   "source": [
    "df = data_all[\"Control_0M\"].cd_df\n",
    "plot.mult_func([280], [df], swap=False, linestyle=[\"\"], marker=[\"X\"], x_label=\"Temperature [°C]\", subtitle=[\"\"], title=\"Control Measurement Hyperchromatic Shift\", label=[\"260 nm\"])"
   ]
  },
  {
   "cell_type": "code",
   "execution_count": null,
   "id": "uniform-trigger",
   "metadata": {},
   "outputs": [],
   "source": [
    "# Parameter\n",
    "sample = \"Control_0M\"\n",
    "melt_T = {}\n",
    "error_T = {}\n",
    "residual = pd.DataFrame(index=[\"R-Wert\"])\n",
    "for key in liste:\n",
    "    fit, params, params_error = ana.lm_fit(data_all[key].absorb_df, guess=[0.13, 0.36, 0.4])\n",
    "    melt_T[key] = params['xc']\n",
    "    error_T[key] = params_error\n",
    "    residual[key] = [1 - (np.sum(fit[\"residual\"]**2)/np.sum((fit[260] - fit[260].mean(axis=0))**2))]\n",
    "    plot.mult_func([260, \"fit\"], [fit], error={\"fit\": fit[\"error\"]}, swap=True, \n",
    "                   x_label=\"Temperature [°C]\", y_label=\"Absorbance [%]\", label=[\"data\", \"sigmoid fit\", 'melting temperature'], marker=['o', ''], linestyle=[\" \", \"-\"],\n",
    "                  subtitle=[\"Hyperchromatic shift\"], title=key, vertical_line=[params['xc']])"
   ]
  },
  {
   "cell_type": "code",
   "execution_count": null,
   "id": "sharp-texas",
   "metadata": {},
   "outputs": [],
   "source": [
    "x = [0., 0.5, 2., 4., 6.]\n",
    "y = list(melt_T.values())[0:5]\n",
    "\n",
    "y_error = list(error_T.values())[0:5]\n",
    "graph1 = pd.DataFrame(y, index=x, columns=[\"Gdm2SO4\"]).T\n",
    "error= {\"Gdm2SO4\":y_error}\n",
    "\n",
    "y2 = [melt_T[\"Control_0M\"], melt_T[\"GdmCl_0.5M\"], melt_T[\"GdmCl_2M\"], melt_T[\"GdmCl_4M\"], melt_T[\"GdmCl_6M\"]]\n",
    "y2_error = [error_T[\"Control_0M\"], error_T[\"GdmCl_0.5M\"], error_T[\"GdmCl_2M\"], error_T[\"GdmCl_4M\"], error_T[\"GdmCl_6M\"]]\n",
    "graph2 = pd.DataFrame(y2, index=x, columns=[\"GdmCl\"] ).T\n",
    "error[\"GdmCl\"] = y2_error \n",
    "\n",
    "graph = pd.concat([graph1, graph2], axis=0)\n",
    "plot.mult_func([\"Gdm2SO4\", \"GdmCl\"], [graph], title=\"Melting Temperature\", subtitle=[\"\"], x_label=\"Concentration [M]\", y_label=\"Temperature [°C]\", error=error_T)"
   ]
  },
  {
   "cell_type": "markdown",
   "id": "rolled-luxury",
   "metadata": {},
   "source": [
    "### Linear LM Fit for Melting Temperature\n"
   ]
  },
  {
   "cell_type": "code",
   "execution_count": 8,
   "id": "celtic-offense",
   "metadata": {},
   "outputs": [
    {
     "name": "stdout",
     "output_type": "stream",
     "text": [
      "dict_keys(['46_forward', '46_reversed', 'Control_0M', 'Gdm2SO4_0.5M', 'Gdm2SO4_1M', 'Gdm2SO4_2M', 'Gdm2SO4_4M', 'Gdm2SO4_6M', 'GdmCl_0.5M', 'GdmCl_1M', 'GdmCl_2M', 'GdmCl_2M_24h', 'GdmCl_4M', 'GdmCl_6M', 'GdmCl_6M_alt', 'GdmSCN_0.5M', 'GdmSCN_2M', 'Urea_2M'])\n"
     ]
    }
   ],
   "source": [
    "print(data_all.keys())"
   ]
  },
  {
   "cell_type": "code",
   "execution_count": 8,
   "id": "supported-economy",
   "metadata": {},
   "outputs": [],
   "source": [
    "\n",
    "melt_T = {}\n",
    "comp2_conc = {}\n",
    "liste = ['Control_0M', 'Gdm2SO4_0.5M', 'Gdm2SO4_1M', 'Gdm2SO4_2M', 'Gdm2SO4_4M', 'Gdm2SO4_6M', 'GdmCl_0.5M', 'GdmCl_1M', 'GdmCl_2M', 'GdmCl_4M', 'GdmCl_6M',  'GdmSCN_0.5M', 'Urea_2M']"
   ]
  },
  {
   "cell_type": "code",
   "execution_count": 9,
   "id": "young-partnership",
   "metadata": {},
   "outputs": [
    {
     "name": "stdout",
     "output_type": "stream",
     "text": [
      "[[Model]]\n",
      "    Model(linear)\n",
      "[[Fit Statistics]]\n",
      "    # fitting method   = leastsq\n",
      "    # function evals   = 7\n",
      "    # data points      = 3\n",
      "    # variables        = 2\n",
      "    chi-square         = 1.7907e-06\n",
      "    reduced chi-square = 1.7907e-06\n",
      "    Akaike info crit   = -38.9945189\n",
      "    Bayesian info crit = -40.7972944\n",
      "[[Variables]]\n",
      "    m:   4.5476e-04 +/- 1.2389e-04 (27.24%) (init = 1)\n",
      "    y0:  0.45481350 +/- 0.01014723 (2.23%) (init = 0)\n",
      "[[Correlations]] (unreported correlations are < 0.100)\n",
      "    C(m, y0) = -0.997\n",
      "[[Model]]\n",
      "    Model(linear)\n",
      "[[Fit Statistics]]\n",
      "    # fitting method   = leastsq\n",
      "    # function evals   = 7\n",
      "    # data points      = 3\n",
      "    # variables        = 2\n",
      "    chi-square         = 3.7600e-07\n",
      "    reduced chi-square = 3.7600e-07\n",
      "    Akaike info crit   = -43.6768616\n",
      "    Bayesian info crit = -45.4796371\n",
      "[[Variables]]\n",
      "    m:   9.8400e-05 +/- 4.3359e-05 (44.06%) (init = 1)\n",
      "    y0:  0.35534533 +/- 0.00134809 (0.38%) (init = 0)\n",
      "[[Correlations]] (unreported correlations are < 0.100)\n",
      "    C(m, y0) = -0.965\n",
      "[[Model]]\n",
      "    Model(linear)\n",
      "[[Fit Statistics]]\n",
      "    # fitting method   = leastsq\n",
      "    # function evals   = 6\n",
      "    # data points      = 3\n",
      "    # variables        = 2\n",
      "    chi-square         = 1.4337e-05\n",
      "    reduced chi-square = 1.4337e-05\n",
      "    Akaike info crit   = -32.7538582\n",
      "    Bayesian info crit = -34.5566336\n",
      "[[Variables]]\n",
      "    m:   0.01386555 +/- 0.00106389 (7.67%) (init = 1)\n",
      "    y0: -0.46299055 +/- 0.06847845 (14.79%) (init = 0)\n",
      "[[Correlations]] (unreported correlations are < 0.100)\n",
      "    C(m, y0) = -0.999\n"
     ]
    },
    {
     "data": {
      "application/vnd.jupyter.widget-view+json": {
       "model_id": "2bf17c96a15945509b34de06b7fa7b86",
       "version_major": 2,
       "version_minor": 0
      },
      "text/plain": [
       "Canvas(toolbar=Toolbar(toolitems=[('Home', 'Reset original view', 'home', 'home'), ('Back', 'Back to previous …"
      ]
     },
     "metadata": {},
     "output_type": "display_data"
    },
    {
     "name": "stdout",
     "output_type": "stream",
     "text": [
      "[[Model]]\n",
      "    Model(linear)\n",
      "[[Fit Statistics]]\n",
      "    # fitting method   = leastsq\n",
      "    # function evals   = 7\n",
      "    # data points      = 3\n",
      "    # variables        = 2\n",
      "    chi-square         = 2.0782e-06\n",
      "    reduced chi-square = 2.0782e-06\n",
      "    Akaike info crit   = -38.5478172\n",
      "    Bayesian info crit = -40.3505926\n",
      "[[Variables]]\n",
      "    m:   9.9431e-04 +/- 1.3347e-04 (13.42%) (init = 1)\n",
      "    y0:  0.45338000 +/- 0.01093152 (2.41%) (init = 0)\n",
      "[[Correlations]] (unreported correlations are < 0.100)\n",
      "    C(m, y0) = -0.997\n",
      "[[Model]]\n",
      "    Model(linear)\n",
      "[[Fit Statistics]]\n",
      "    # fitting method   = leastsq\n",
      "    # function evals   = 7\n",
      "    # data points      = 3\n",
      "    # variables        = 2\n",
      "    chi-square         = 3.8240e-08\n",
      "    reduced chi-square = 3.8240e-08\n",
      "    Akaike info crit   = -50.5339750\n",
      "    Bayesian info crit = -52.3367505\n",
      "[[Variables]]\n",
      "    m:  -3.7950e-05 +/- 1.3828e-05 (36.44%) (init = 1)\n",
      "    y0:  0.38311617 +/- 4.2992e-04 (0.11%) (init = 0)\n",
      "[[Correlations]] (unreported correlations are < 0.100)\n",
      "    C(m, y0) = -0.965\n",
      "[[Model]]\n",
      "    Model(linear)\n",
      "[[Fit Statistics]]\n",
      "    # fitting method   = leastsq\n",
      "    # function evals   = 6\n",
      "    # data points      = 3\n",
      "    # variables        = 2\n",
      "    chi-square         = 2.1274e-05\n",
      "    reduced chi-square = 2.1274e-05\n",
      "    Akaike info crit   = -31.5698926\n",
      "    Bayesian info crit = -33.3726681\n",
      "[[Variables]]\n",
      "    m:   0.01154933 +/- 0.00108715 (9.41%) (init = 1)\n",
      "    y0: -0.29609333 +/- 0.07288774 (24.62%) (init = 0)\n",
      "[[Correlations]] (unreported correlations are < 0.100)\n",
      "    C(m, y0) = -0.999\n"
     ]
    },
    {
     "data": {
      "application/vnd.jupyter.widget-view+json": {
       "model_id": "fdb11ca4b4054e5f8204a7e72610ae48",
       "version_major": 2,
       "version_minor": 0
      },
      "text/plain": [
       "Canvas(toolbar=Toolbar(toolitems=[('Home', 'Reset original view', 'home', 'home'), ('Back', 'Back to previous …"
      ]
     },
     "metadata": {},
     "output_type": "display_data"
    },
    {
     "name": "stdout",
     "output_type": "stream",
     "text": [
      "[[Model]]\n",
      "    Model(linear)\n",
      "[[Fit Statistics]]\n",
      "    # fitting method   = leastsq\n",
      "    # function evals   = 7\n",
      "    # data points      = 3\n",
      "    # variables        = 2\n",
      "    chi-square         = 1.4068e-06\n",
      "    reduced chi-square = 1.4068e-06\n",
      "    Akaike info crit   = -39.7183176\n",
      "    Bayesian info crit = -41.5210930\n",
      "[[Variables]]\n",
      "    m:   6.9760e-04 +/- 1.0981e-04 (15.74%) (init = 1)\n",
      "    y0:  0.43787800 +/- 0.00899409 (2.05%) (init = 0)\n",
      "[[Correlations]] (unreported correlations are < 0.100)\n",
      "    C(m, y0) = -0.997\n",
      "[[Model]]\n",
      "    Model(linear)\n",
      "[[Fit Statistics]]\n",
      "    # fitting method   = leastsq\n",
      "    # function evals   = 7\n",
      "    # data points      = 3\n",
      "    # variables        = 2\n",
      "    chi-square         = 6.0423e-09\n",
      "    reduced chi-square = 6.0423e-09\n",
      "    Akaike info crit   = -56.0692821\n",
      "    Bayesian info crit = -57.8720575\n",
      "[[Variables]]\n",
      "    m:   3.1133e-04 +/- 5.2328e-06 (1.68%) (init = 1)\n",
      "    y0:  0.36192159 +/- 1.6495e-04 (0.05%) (init = 0)\n",
      "[[Correlations]] (unreported correlations are < 0.100)\n",
      "    C(m, y0) = -0.962\n",
      "[[Model]]\n",
      "    Model(linear)\n",
      "[[Fit Statistics]]\n",
      "    # fitting method   = leastsq\n",
      "    # function evals   = 7\n",
      "    # data points      = 3\n",
      "    # variables        = 2\n",
      "    chi-square         = 9.5600e-07\n",
      "    reduced chi-square = 9.5600e-07\n",
      "    Akaike info crit   = -40.8773476\n",
      "    Bayesian info crit = -42.6801230\n",
      "[[Variables]]\n",
      "    m:   0.01294225 +/- 3.4569e-04 (2.67%) (init = 1)\n",
      "    y0: -0.40660292 +/- 0.02247684 (5.53%) (init = 0)\n",
      "[[Correlations]] (unreported correlations are < 0.100)\n",
      "    C(m, y0) = -1.000\n"
     ]
    },
    {
     "data": {
      "application/vnd.jupyter.widget-view+json": {
       "model_id": "18c125aeda0c47dcbf91f893a8d47d97",
       "version_major": 2,
       "version_minor": 0
      },
      "text/plain": [
       "Canvas(toolbar=Toolbar(toolitems=[('Home', 'Reset original view', 'home', 'home'), ('Back', 'Back to previous …"
      ]
     },
     "metadata": {},
     "output_type": "display_data"
    },
    {
     "name": "stdout",
     "output_type": "stream",
     "text": [
      "[[Model]]\n",
      "    Model(linear)\n",
      "[[Fit Statistics]]\n",
      "    # fitting method   = leastsq\n",
      "    # function evals   = 7\n",
      "    # data points      = 3\n",
      "    # variables        = 2\n",
      "    chi-square         = 3.5906e-08\n",
      "    reduced chi-square = 3.5906e-08\n",
      "    Akaike info crit   = -50.7229390\n",
      "    Bayesian info crit = -52.5257145\n",
      "[[Variables]]\n",
      "    m:   8.9916e-04 +/- 1.7543e-05 (1.95%) (init = 1)\n",
      "    y0:  0.48147250 +/- 0.00143687 (0.30%) (init = 0)\n",
      "[[Correlations]] (unreported correlations are < 0.100)\n",
      "    C(m, y0) = -0.997\n",
      "[[Model]]\n",
      "    Model(linear)\n",
      "[[Fit Statistics]]\n",
      "    # fitting method   = leastsq\n",
      "    # function evals   = 7\n",
      "    # data points      = 3\n",
      "    # variables        = 2\n",
      "    chi-square         = 3.3607e-09\n",
      "    reduced chi-square = 3.3607e-09\n",
      "    Akaike info crit   = -57.8292163\n",
      "    Bayesian info crit = -59.6319917\n",
      "[[Variables]]\n",
      "    m:  -3.1900e-05 +/- 4.0992e-06 (12.85%) (init = 1)\n",
      "    y0:  0.39800533 +/- 1.2745e-04 (0.03%) (init = 0)\n",
      "[[Correlations]] (unreported correlations are < 0.100)\n",
      "    C(m, y0) = -0.965\n",
      "[[Model]]\n",
      "    Model(linear)\n",
      "[[Fit Statistics]]\n",
      "    # fitting method   = leastsq\n",
      "    # function evals   = 6\n",
      "    # data points      = 3\n",
      "    # variables        = 2\n",
      "    chi-square         = 1.0353e-04\n",
      "    reduced chi-square = 1.0353e-04\n",
      "    Akaike info crit   = -26.8226598\n",
      "    Bayesian info crit = -28.6254352\n",
      "[[Variables]]\n",
      "    m:   0.01283067 +/- 0.00239831 (18.69%) (init = 1)\n",
      "    y0: -0.35784967 +/- 0.16079432 (44.93%) (init = 0)\n",
      "[[Correlations]] (unreported correlations are < 0.100)\n",
      "    C(m, y0) = -0.999\n"
     ]
    },
    {
     "data": {
      "application/vnd.jupyter.widget-view+json": {
       "model_id": "5111baf083bc4649926234f5f648a937",
       "version_major": 2,
       "version_minor": 0
      },
      "text/plain": [
       "Canvas(toolbar=Toolbar(toolitems=[('Home', 'Reset original view', 'home', 'home'), ('Back', 'Back to previous …"
      ]
     },
     "metadata": {},
     "output_type": "display_data"
    },
    {
     "name": "stdout",
     "output_type": "stream",
     "text": [
      "[[Model]]\n",
      "    Model(linear)\n",
      "[[Fit Statistics]]\n",
      "    # fitting method   = leastsq\n",
      "    # function evals   = 7\n",
      "    # data points      = 3\n",
      "    # variables        = 2\n",
      "    chi-square         = 8.3314e-06\n",
      "    reduced chi-square = 8.3314e-06\n",
      "    Akaike info crit   = -34.3822637\n",
      "    Bayesian info crit = -36.1850391\n",
      "[[Variables]]\n",
      "    m:   0.00108697 +/- 2.6723e-04 (24.58%) (init = 1)\n",
      "    y0:  0.47829300 +/- 0.02188736 (4.58%) (init = 0)\n",
      "[[Correlations]] (unreported correlations are < 0.100)\n",
      "    C(m, y0) = -0.997\n",
      "[[Model]]\n",
      "    Model(linear)\n",
      "[[Fit Statistics]]\n",
      "    # fitting method   = leastsq\n",
      "    # function evals   = 7\n",
      "    # data points      = 3\n",
      "    # variables        = 2\n",
      "    chi-square         = 1.4603e-08\n",
      "    reduced chi-square = 1.4603e-08\n",
      "    Akaike info crit   = -53.4220219\n",
      "    Bayesian info crit = -55.2247973\n",
      "[[Variables]]\n",
      "    m:  -8.1900e-05 +/- 8.5448e-06 (10.43%) (init = 1)\n",
      "    y0:  0.40401533 +/- 2.6567e-04 (0.07%) (init = 0)\n",
      "[[Correlations]] (unreported correlations are < 0.100)\n",
      "    C(m, y0) = -0.965\n",
      "[[Model]]\n",
      "    Model(linear)\n",
      "[[Fit Statistics]]\n",
      "    # fitting method   = leastsq\n",
      "    # function evals   = 6\n",
      "    # data points      = 3\n",
      "    # variables        = 2\n",
      "    chi-square         = 3.9265e-05\n",
      "    reduced chi-square = 3.9265e-05\n",
      "    Akaike info crit   = -29.7313450\n",
      "    Bayesian info crit = -31.5341204\n",
      "[[Variables]]\n",
      "    m:   0.01529217 +/- 0.00147696 (9.66%) (init = 1)\n",
      "    y0: -0.52604750 +/- 0.09902231 (18.82%) (init = 0)\n",
      "[[Correlations]] (unreported correlations are < 0.100)\n",
      "    C(m, y0) = -0.999\n"
     ]
    },
    {
     "data": {
      "application/vnd.jupyter.widget-view+json": {
       "model_id": "9b6dbf1308a24660b85d376f331bd666",
       "version_major": 2,
       "version_minor": 0
      },
      "text/plain": [
       "Canvas(toolbar=Toolbar(toolitems=[('Home', 'Reset original view', 'home', 'home'), ('Back', 'Back to previous …"
      ]
     },
     "metadata": {},
     "output_type": "display_data"
    },
    {
     "name": "stdout",
     "output_type": "stream",
     "text": [
      "[[Model]]\n",
      "    Model(linear)\n",
      "[[Fit Statistics]]\n",
      "    # fitting method   = leastsq\n",
      "    # function evals   = 7\n",
      "    # data points      = 3\n",
      "    # variables        = 2\n",
      "    chi-square         = 1.5456e-07\n",
      "    reduced chi-square = 1.5456e-07\n",
      "    Akaike info crit   = -46.3438859\n",
      "    Bayesian info crit = -48.1466613\n",
      "[[Variables]]\n",
      "    m:   9.7671e-05 +/- 3.6398e-05 (37.27%) (init = 1)\n",
      "    y0:  0.42814550 +/- 0.00298114 (0.70%) (init = 0)\n",
      "[[Correlations]] (unreported correlations are < 0.100)\n",
      "    C(m, y0) = -0.997\n",
      "[[Model]]\n",
      "    Model(linear)\n",
      "[[Fit Statistics]]\n",
      "    # fitting method   = leastsq\n",
      "    # function evals   = 7\n",
      "    # data points      = 3\n",
      "    # variables        = 2\n",
      "    chi-square         = 1.0837e-08\n",
      "    reduced chi-square = 1.0837e-08\n",
      "    Akaike info crit   = -54.3165974\n",
      "    Bayesian info crit = -56.1193728\n",
      "[[Variables]]\n",
      "    m:   6.9505e-04 +/- 7.3612e-06 (1.06%) (init = 1)\n",
      "    y0:  0.34496550 +/- 2.2887e-04 (0.07%) (init = 0)\n",
      "[[Correlations]] (unreported correlations are < 0.100)\n",
      "    C(m, y0) = -0.965\n",
      "[[Model]]\n",
      "    Model(linear)\n",
      "[[Fit Statistics]]\n",
      "    # fitting method   = leastsq\n",
      "    # function evals   = 7\n",
      "    # data points      = 3\n",
      "    # variables        = 2\n",
      "    chi-square         = 3.8379e-07\n",
      "    reduced chi-square = 3.8379e-07\n",
      "    Akaike info crit   = -43.6153121\n",
      "    Bayesian info crit = -45.4180875\n",
      "[[Variables]]\n",
      "    m:   0.00953586 +/- 2.8678e-04 (3.01%) (init = 1)\n",
      "    y0: -0.17455871 +/- 0.01730598 (9.91%) (init = 0)\n",
      "[[Correlations]] (unreported correlations are < 0.100)\n",
      "    C(m, y0) = -1.000\n"
     ]
    },
    {
     "data": {
      "application/vnd.jupyter.widget-view+json": {
       "model_id": "f8225c24849a4cb2a6a0aa4001c5dd9d",
       "version_major": 2,
       "version_minor": 0
      },
      "text/plain": [
       "Canvas(toolbar=Toolbar(toolitems=[('Home', 'Reset original view', 'home', 'home'), ('Back', 'Back to previous …"
      ]
     },
     "metadata": {},
     "output_type": "display_data"
    },
    {
     "name": "stdout",
     "output_type": "stream",
     "text": [
      "[[Model]]\n",
      "    Model(linear)\n",
      "[[Fit Statistics]]\n",
      "    # fitting method   = leastsq\n",
      "    # function evals   = 7\n",
      "    # data points      = 3\n",
      "    # variables        = 2\n",
      "    chi-square         = 2.4203e-06\n",
      "    reduced chi-square = 2.4203e-06\n",
      "    Akaike info crit   = -38.0907081\n",
      "    Bayesian info crit = -39.8934835\n",
      "[[Variables]]\n",
      "    m:   5.8921e-04 +/- 1.4403e-04 (24.44%) (init = 1)\n",
      "    y0:  0.47127950 +/- 0.01179689 (2.50%) (init = 0)\n",
      "[[Correlations]] (unreported correlations are < 0.100)\n",
      "    C(m, y0) = -0.997\n",
      "[[Model]]\n",
      "    Model(linear)\n",
      "[[Fit Statistics]]\n",
      "    # fitting method   = leastsq\n",
      "    # function evals   = 7\n",
      "    # data points      = 3\n",
      "    # variables        = 2\n",
      "    chi-square         = 4.6288e-08\n",
      "    reduced chi-square = 4.6288e-08\n",
      "    Akaike info crit   = -49.9609753\n",
      "    Bayesian info crit = -51.7637508\n",
      "[[Variables]]\n",
      "    m:  -5.2500e-06 +/- 1.5214e-05 (289.78%) (init = 1)\n",
      "    y0:  0.37982883 +/- 4.7301e-04 (0.12%) (init = 0)\n",
      "[[Correlations]] (unreported correlations are < 0.100)\n",
      "    C(m, y0) = -0.965\n",
      "[[Model]]\n",
      "    Model(linear)\n",
      "[[Fit Statistics]]\n",
      "    # fitting method   = leastsq\n",
      "    # function evals   = 7\n",
      "    # data points      = 3\n",
      "    # variables        = 2\n",
      "    chi-square         = 1.3206e-06\n",
      "    reduced chi-square = 1.3206e-06\n",
      "    Akaike info crit   = -39.9080947\n",
      "    Bayesian info crit = -41.7108701\n",
      "[[Variables]]\n",
      "    m:   0.01375232 +/- 3.2289e-04 (2.35%) (init = 1)\n",
      "    y0: -0.44769232 +/- 0.02078323 (4.64%) (init = 0)\n",
      "[[Correlations]] (unreported correlations are < 0.100)\n",
      "    C(m, y0) = -0.999\n"
     ]
    },
    {
     "data": {
      "application/vnd.jupyter.widget-view+json": {
       "model_id": "bbcd1fbf20a74bd4a75fa031bebc757b",
       "version_major": 2,
       "version_minor": 0
      },
      "text/plain": [
       "Canvas(toolbar=Toolbar(toolitems=[('Home', 'Reset original view', 'home', 'home'), ('Back', 'Back to previous …"
      ]
     },
     "metadata": {},
     "output_type": "display_data"
    },
    {
     "name": "stdout",
     "output_type": "stream",
     "text": [
      "[[Model]]\n",
      "    Model(linear)\n",
      "[[Fit Statistics]]\n",
      "    # fitting method   = leastsq\n",
      "    # function evals   = 7\n",
      "    # data points      = 3\n",
      "    # variables        = 2\n",
      "    chi-square         = 1.6650e-06\n",
      "    reduced chi-square = 1.6650e-06\n",
      "    Akaike info crit   = -39.2129467\n",
      "    Bayesian info crit = -41.0157221\n",
      "[[Variables]]\n",
      "    m:   3.8414e-04 +/- 1.1946e-04 (31.10%) (init = 1)\n",
      "    y0:  0.40393600 +/- 0.00978446 (2.42%) (init = 0)\n",
      "[[Correlations]] (unreported correlations are < 0.100)\n",
      "    C(m, y0) = -0.997\n",
      "[[Model]]\n",
      "    Model(linear)\n",
      "[[Fit Statistics]]\n",
      "    # fitting method   = leastsq\n",
      "    # function evals   = 7\n",
      "    # data points      = 3\n",
      "    # variables        = 2\n",
      "    chi-square         = 2.3064e-08\n",
      "    reduced chi-square = 2.3064e-08\n",
      "    Akaike info crit   = -52.0508155\n",
      "    Bayesian info crit = -53.8535909\n",
      "[[Variables]]\n",
      "    m:   5.6070e-04 +/- 1.0739e-05 (1.92%) (init = 1)\n",
      "    y0:  0.32645100 +/- 3.3388e-04 (0.10%) (init = 0)\n",
      "[[Correlations]] (unreported correlations are < 0.100)\n",
      "    C(m, y0) = -0.965\n",
      "[[Model]]\n",
      "    Model(linear)\n",
      "[[Fit Statistics]]\n",
      "    # fitting method   = leastsq\n",
      "    # function evals   = 7\n",
      "    # data points      = 3\n",
      "    # variables        = 2\n",
      "    chi-square         = 4.2211e-07\n",
      "    reduced chi-square = 4.2211e-07\n",
      "    Akaike info crit   = -43.3298655\n",
      "    Bayesian info crit = -45.1326410\n",
      "[[Variables]]\n",
      "    m:   0.00808508 +/- 1.8255e-04 (2.26%) (init = 1)\n",
      "    y0: -0.13512508 +/- 0.01174998 (8.70%) (init = 0)\n",
      "[[Correlations]] (unreported correlations are < 0.100)\n",
      "    C(m, y0) = -0.999\n"
     ]
    },
    {
     "data": {
      "application/vnd.jupyter.widget-view+json": {
       "model_id": "ce5aa5da8f1b4518bea98e286f0e622c",
       "version_major": 2,
       "version_minor": 0
      },
      "text/plain": [
       "Canvas(toolbar=Toolbar(toolitems=[('Home', 'Reset original view', 'home', 'home'), ('Back', 'Back to previous …"
      ]
     },
     "metadata": {},
     "output_type": "display_data"
    },
    {
     "name": "stdout",
     "output_type": "stream",
     "text": [
      "[[Model]]\n",
      "    Model(linear)\n",
      "[[Fit Statistics]]\n",
      "    # fitting method   = leastsq\n",
      "    # function evals   = 7\n",
      "    # data points      = 3\n",
      "    # variables        = 2\n",
      "    chi-square         = 1.2600e-08\n",
      "    reduced chi-square = 1.2600e-08\n",
      "    Akaike info crit   = -53.8645439\n",
      "    Bayesian info crit = -55.6673194\n",
      "[[Variables]]\n",
      "    m:   7.5220e-04 +/- 1.0392e-05 (1.38%) (init = 1)\n",
      "    y0:  0.41155400 +/- 8.5118e-04 (0.21%) (init = 0)\n",
      "[[Correlations]] (unreported correlations are < 0.100)\n",
      "    C(m, y0) = -0.997\n",
      "[[Model]]\n",
      "    Model(linear)\n",
      "[[Fit Statistics]]\n",
      "    # fitting method   = leastsq\n",
      "    # function evals   = 7\n",
      "    # data points      = 3\n",
      "    # variables        = 2\n",
      "    chi-square         = 4.6464e-08\n",
      "    reduced chi-square = 4.6464e-08\n",
      "    Akaike info crit   = -49.9496009\n",
      "    Bayesian info crit = -51.7523763\n",
      "[[Variables]]\n",
      "    m:   7.3400e-05 +/- 1.5242e-05 (20.77%) (init = 1)\n",
      "    y0:  0.34197700 +/- 4.7389e-04 (0.14%) (init = 0)\n",
      "[[Correlations]] (unreported correlations are < 0.100)\n",
      "    C(m, y0) = -0.965\n",
      "[[Model]]\n",
      "    Model(linear)\n",
      "[[Fit Statistics]]\n",
      "    # fitting method   = leastsq\n",
      "    # function evals   = 7\n",
      "    # data points      = 3\n",
      "    # variables        = 2\n",
      "    chi-square         = 2.0091e-06\n",
      "    reduced chi-square = 2.0091e-06\n",
      "    Akaike info crit   = -38.6492622\n",
      "    Bayesian info crit = -40.4520376\n",
      "[[Variables]]\n",
      "    m:   0.01345350 +/- 5.0114e-04 (3.72%) (init = 1)\n",
      "    y0: -0.43468634 +/- 0.03108146 (7.15%) (init = 0)\n",
      "[[Correlations]] (unreported correlations are < 0.100)\n",
      "    C(m, y0) = -1.000\n"
     ]
    },
    {
     "data": {
      "application/vnd.jupyter.widget-view+json": {
       "model_id": "5063abb4e13e4be7868925a9512664b3",
       "version_major": 2,
       "version_minor": 0
      },
      "text/plain": [
       "Canvas(toolbar=Toolbar(toolitems=[('Home', 'Reset original view', 'home', 'home'), ('Back', 'Back to previous …"
      ]
     },
     "metadata": {},
     "output_type": "display_data"
    },
    {
     "name": "stdout",
     "output_type": "stream",
     "text": [
      "[[Model]]\n",
      "    Model(linear)\n",
      "[[Fit Statistics]]\n",
      "    # fitting method   = leastsq\n",
      "    # function evals   = 7\n",
      "    # data points      = 3\n",
      "    # variables        = 2\n",
      "    chi-square         = 6.1866e-07\n",
      "    reduced chi-square = 6.1866e-07\n",
      "    Akaike info crit   = -42.1829637\n",
      "    Bayesian info crit = -43.9857391\n",
      "[[Variables]]\n",
      "    m:   5.7319e-04 +/- 7.2820e-05 (12.70%) (init = 1)\n",
      "    y0:  0.51707650 +/- 0.00596431 (1.15%) (init = 0)\n",
      "[[Correlations]] (unreported correlations are < 0.100)\n",
      "    C(m, y0) = -0.997\n",
      "[[Model]]\n",
      "    Model(linear)\n",
      "[[Fit Statistics]]\n",
      "    # fitting method   = leastsq\n",
      "    # function evals   = 7\n",
      "    # data points      = 3\n",
      "    # variables        = 2\n",
      "    chi-square         = 1.1957e-07\n",
      "    reduced chi-square = 1.1957e-07\n",
      "    Akaike info crit   = -47.1139745\n",
      "    Bayesian info crit = -48.9167499\n",
      "[[Variables]]\n",
      "    m:  -7.6500e-06 +/- 2.4451e-05 (319.62%) (init = 1)\n",
      "    y0:  0.40523283 +/- 7.6022e-04 (0.19%) (init = 0)\n",
      "[[Correlations]] (unreported correlations are < 0.100)\n",
      "    C(m, y0) = -0.965\n",
      "[[Model]]\n",
      "    Model(linear)\n",
      "[[Fit Statistics]]\n",
      "    # fitting method   = leastsq\n",
      "    # function evals   = 7\n",
      "    # data points      = 3\n",
      "    # variables        = 2\n",
      "    chi-square         = 5.4602e-07\n",
      "    reduced chi-square = 5.4602e-07\n",
      "    Akaike info crit   = -42.5576859\n",
      "    Bayesian info crit = -44.3604613\n",
      "[[Variables]]\n",
      "    m:   0.01560450 +/- 2.6125e-04 (1.67%) (init = 1)\n",
      "    y0: -0.44580933 +/- 0.01568086 (3.52%) (init = 0)\n",
      "[[Correlations]] (unreported correlations are < 0.100)\n",
      "    C(m, y0) = -1.000\n"
     ]
    },
    {
     "data": {
      "application/vnd.jupyter.widget-view+json": {
       "model_id": "92fe8539bfdc4a6e87e9eb907018db42",
       "version_major": 2,
       "version_minor": 0
      },
      "text/plain": [
       "Canvas(toolbar=Toolbar(toolitems=[('Home', 'Reset original view', 'home', 'home'), ('Back', 'Back to previous …"
      ]
     },
     "metadata": {},
     "output_type": "display_data"
    },
    {
     "name": "stdout",
     "output_type": "stream",
     "text": [
      "[[Model]]\n",
      "    Model(linear)\n",
      "[[Fit Statistics]]\n",
      "    # fitting method   = leastsq\n",
      "    # function evals   = 7\n",
      "    # data points      = 3\n",
      "    # variables        = 2\n",
      "    chi-square         = 2.5005e-07\n",
      "    reduced chi-square = 2.5005e-07\n",
      "    Akaike info crit   = -44.9007022\n",
      "    Bayesian info crit = -46.7034777\n",
      "[[Variables]]\n",
      "    m:   5.1996e-04 +/- 4.6295e-05 (8.90%) (init = 1)\n",
      "    y0:  0.42067150 +/- 0.00379179 (0.90%) (init = 0)\n",
      "[[Correlations]] (unreported correlations are < 0.100)\n",
      "    C(m, y0) = -0.997\n",
      "[[Model]]\n",
      "    Model(linear)\n",
      "[[Fit Statistics]]\n",
      "    # fitting method   = leastsq\n",
      "    # function evals   = 7\n",
      "    # data points      = 3\n",
      "    # variables        = 2\n",
      "    chi-square         = 3.7002e-07\n",
      "    reduced chi-square = 3.7002e-07\n",
      "    Akaike info crit   = -43.7249902\n",
      "    Bayesian info crit = -45.5277657\n",
      "[[Variables]]\n",
      "    m:   6.2980e-04 +/- 4.3013e-05 (6.83%) (init = 1)\n",
      "    y0:  0.35042833 +/- 0.00133732 (0.38%) (init = 0)\n",
      "[[Correlations]] (unreported correlations are < 0.100)\n",
      "    C(m, y0) = -0.965\n",
      "[[Model]]\n",
      "    Model(linear)\n",
      "[[Fit Statistics]]\n",
      "    # fitting method   = leastsq\n",
      "    # function evals   = 7\n",
      "    # data points      = 3\n",
      "    # variables        = 2\n",
      "    chi-square         = 3.5883e-08\n",
      "    reduced chi-square = 3.5883e-08\n",
      "    Akaike info crit   = -50.7248713\n",
      "    Bayesian info crit = -52.5276467\n",
      "[[Variables]]\n",
      "    m:   0.00630233 +/- 4.4648e-05 (0.71%) (init = 1)\n",
      "    y0:  0.07963967 +/- 0.00236889 (2.97%) (init = 0)\n",
      "[[Correlations]] (unreported correlations are < 0.100)\n",
      "    C(m, y0) = -0.999\n"
     ]
    },
    {
     "data": {
      "application/vnd.jupyter.widget-view+json": {
       "model_id": "b44b77a6dc7046599ab74e0393166e56",
       "version_major": 2,
       "version_minor": 0
      },
      "text/plain": [
       "Canvas(toolbar=Toolbar(toolitems=[('Home', 'Reset original view', 'home', 'home'), ('Back', 'Back to previous …"
      ]
     },
     "metadata": {},
     "output_type": "display_data"
    },
    {
     "name": "stdout",
     "output_type": "stream",
     "text": [
      "[[Model]]\n",
      "    Model(linear)\n",
      "[[Fit Statistics]]\n",
      "    # fitting method   = leastsq\n",
      "    # function evals   = 6\n",
      "    # data points      = 3\n",
      "    # variables        = 2\n",
      "    chi-square         = 1.8115e-05\n",
      "    reduced chi-square = 1.8115e-05\n",
      "    Akaike info crit   = -32.0521993\n",
      "    Bayesian info crit = -33.8549747\n",
      "[[Variables]]\n",
      "    m:   0.01084090 +/- 3.9404e-04 (3.63%) (init = 1)\n",
      "    y0: -0.02179150 +/- 0.03227375 (148.10%) (init = 0)\n",
      "[[Correlations]] (unreported correlations are < 0.100)\n",
      "    C(m, y0) = -0.997\n",
      "[[Model]]\n",
      "    Model(linear)\n",
      "[[Fit Statistics]]\n",
      "    # fitting method   = leastsq\n",
      "    # function evals   = 6\n",
      "    # data points      = 3\n",
      "    # variables        = 2\n",
      "    chi-square         = 1.2161e-05\n",
      "    reduced chi-square = 1.2161e-05\n",
      "    Akaike info crit   = -33.2476759\n",
      "    Bayesian info crit = -35.0504513\n",
      "[[Variables]]\n",
      "    m:   0.00367720 +/- 2.4659e-04 (6.71%) (init = 1)\n",
      "    y0:  0.30347133 +/- 0.00766668 (2.53%) (init = 0)\n",
      "[[Correlations]] (unreported correlations are < 0.100)\n",
      "    C(m, y0) = -0.965\n",
      "[[Model]]\n",
      "    Model(linear)\n",
      "[[Fit Statistics]]\n",
      "    # fitting method   = leastsq\n",
      "    # function evals   = 7\n",
      "    # data points      = 3\n",
      "    # variables        = 2\n",
      "    chi-square         = 1.2489e-06\n",
      "    reduced chi-square = 1.2489e-06\n",
      "    Akaike info crit   = -40.0755714\n",
      "    Bayesian info crit = -41.8783468\n",
      "[[Variables]]\n",
      "    m:   0.01765134 +/- 3.1400e-04 (1.78%) (init = 1)\n",
      "    y0: -0.46916534 +/- 0.02021113 (4.31%) (init = 0)\n",
      "[[Correlations]] (unreported correlations are < 0.100)\n",
      "    C(m, y0) = -0.999\n"
     ]
    },
    {
     "data": {
      "application/vnd.jupyter.widget-view+json": {
       "model_id": "32e5ece92f3a49b88f4d9de282156b22",
       "version_major": 2,
       "version_minor": 0
      },
      "text/plain": [
       "Canvas(toolbar=Toolbar(toolitems=[('Home', 'Reset original view', 'home', 'home'), ('Back', 'Back to previous …"
      ]
     },
     "metadata": {},
     "output_type": "display_data"
    },
    {
     "name": "stdout",
     "output_type": "stream",
     "text": [
      "[[Model]]\n",
      "    Model(linear)\n",
      "[[Fit Statistics]]\n",
      "    # fitting method   = leastsq\n",
      "    # function evals   = 7\n",
      "    # data points      = 3\n",
      "    # variables        = 2\n",
      "    chi-square         = 2.4499e-07\n",
      "    reduced chi-square = 2.4499e-07\n",
      "    Akaike info crit   = -44.9619437\n",
      "    Bayesian info crit = -46.7647191\n",
      "[[Variables]]\n",
      "    m:   7.4131e-04 +/- 4.5825e-05 (6.18%) (init = 1)\n",
      "    y0:  0.44485300 +/- 0.00375328 (0.84%) (init = 0)\n",
      "[[Correlations]] (unreported correlations are < 0.100)\n",
      "    C(m, y0) = -0.997\n",
      "[[Model]]\n",
      "    Model(linear)\n",
      "[[Fit Statistics]]\n",
      "    # fitting method   = leastsq\n",
      "    # function evals   = 6\n",
      "    # data points      = 3\n",
      "    # variables        = 2\n",
      "    chi-square         = 9.5938e-06\n",
      "    reduced chi-square = 9.5938e-06\n",
      "    Akaike info crit   = -33.9590294\n",
      "    Bayesian info crit = -35.7618048\n",
      "[[Variables]]\n",
      "    m:  -2.7950e-05 +/- 2.1902e-04 (783.60%) (init = 1)\n",
      "    y0:  0.36149050 +/- 0.00680951 (1.88%) (init = 0)\n",
      "[[Correlations]] (unreported correlations are < 0.100)\n",
      "    C(m, y0) = -0.965\n",
      "[[Model]]\n",
      "    Model(linear)\n",
      "[[Fit Statistics]]\n",
      "    # fitting method   = leastsq\n",
      "    # function evals   = 7\n",
      "    # data points      = 3\n",
      "    # variables        = 2\n",
      "    chi-square         = 9.5761e-08\n",
      "    reduced chi-square = 9.5761e-08\n",
      "    Akaike info crit   = -47.7800783\n",
      "    Bayesian info crit = -49.5828537\n",
      "[[Variables]]\n",
      "    m:   0.01497500 +/- 1.0941e-04 (0.73%) (init = 1)\n",
      "    y0: -0.45943567 +/- 0.00656690 (1.43%) (init = 0)\n",
      "[[Correlations]] (unreported correlations are < 0.100)\n",
      "    C(m, y0) = -1.000\n"
     ]
    },
    {
     "data": {
      "application/vnd.jupyter.widget-view+json": {
       "model_id": "54f43854f47c422fb5c063eb1d363a6d",
       "version_major": 2,
       "version_minor": 0
      },
      "text/plain": [
       "Canvas(toolbar=Toolbar(toolitems=[('Home', 'Reset original view', 'home', 'home'), ('Back', 'Back to previous …"
      ]
     },
     "metadata": {},
     "output_type": "display_data"
    }
   ],
   "source": [
    "for key in liste:\n",
    "\n",
    "    # fit three secitons\n",
    "    df =  data_all[key].absorb_df.loc[:,20:]\n",
    "    high_fit, high_params, high_std =  ana.lm_fit(df.iloc[:,-3:], f_type='linear')\n",
    "    low_fit, low_params, low_std =  ana.lm_fit(df.iloc[:,:3], f_type='linear')\n",
    "\n",
    "\n",
    "    # normalize absorbance values and get next 3 values to 0.5\n",
    "    df_norm = ana.normalize(df).loc[260, :]\n",
    "    df_sort = pd.DataFrame(df_norm.iloc[(df_norm-0.5).abs().argsort()[:3]], columns=[260])\n",
    "    # make linear fit\n",
    "    middle_fit, middle_params, middle_std = ana.lm_fit(df.loc[:, df_sort.index], f_type='linear')\n",
    "\n",
    "\n",
    "    # calculate cross of middle and median\n",
    "    melt_T[key] = ( ( (- high_params[\"y0\"] - low_params[\"y0\"]) / 2 ) + middle_params[\"y0\"] ) / ( ( (high_params[\"m\"] + low_params[\"m\"]) / 2 ) - middle_params[\"m\"] ) \n",
    "    # calculate error \n",
    "    teiler = ( ( (high_params[\"m\"] + low_params[\"m\"]) / 2 ) - middle_params[\"m\"] ) \n",
    "    nenner =  ( ( (- high_params[\"y0\"] - low_params[\"y0\"]) / 2 ) + middle_params[\"y0\"] ) \n",
    "    t_melt_error =  np.sqrt( (-0.5 * high_std[\"y0\"] / teiler)**2 + (-0.5 * low_std[\"y0\"] / teiler)**2 + (middle_std[\"y0\"] / teiler)**2\n",
    "                              + (nenner * 0.5 * high_std[\"m\"] / (teiler**2) )**2 + (nenner * 0.5 * low_std[\"m\"] / (teiler**2) )**2 + (nenner * -1 * middle_std[\"m\"] / (teiler**2) )**2)\n",
    "\n",
    "    \n",
    "    # make nice plot\n",
    "    plot_fit= pd.DataFrame(ana.linear(df.columns, *high_params.values()), columns=[\"high plateu\"], index=df.columns)\n",
    "    plot_fit[\"low plateu\"] = ana.linear(df.columns, *low_params.values())\n",
    "    plot_fit[\"middle\"] = ana.linear(df.columns, *middle_params.values())\n",
    "    plot_fit[\"Median\"] = 0.5*(plot_fit[\"high plateu\"] + plot_fit[\"low plateu\"])\n",
    "    comp2_conc[key] = (df.loc[260] - plot_fit[\"low plateu\"]) / (plot_fit[\"high plateu\"] - plot_fit[\"low plateu\"])\n",
    "\n",
    "    plot.mult_func([260, \"high plateu\", \"low plateu\", \"middle\", \"Median\"], [df, plot_fit.T], \n",
    "                   vertical_line=[melt_T[key]], marker=[\"X\", \"\", \"\", \"\", \"\"], linestyle=[\"--\", \":\", \":\", \"-.\", \"-.\"],\n",
    "                   y_scaling=True, y_min=[df.min(axis=1).loc[260] - 0.02], y_max=[df.max(axis=1).loc[260] + 0.02], \n",
    "                   title=key, subtitle=[\"\"], sec_ax=[df.min(axis=1).loc[260], df.max(axis=1).loc[260]], y_label=\"ssDNA Fraction [%]\")"
   ]
  },
  {
   "cell_type": "code",
   "execution_count": 11,
   "id": "willing-definition",
   "metadata": {},
   "outputs": [
    {
     "name": "stdout",
     "output_type": "stream",
     "text": [
      "{'Control_0M': 63.88046407740443, 'Gdm2SO4_0.5M': 64.52277673479793, 'Gdm2SO4_1M': 64.84295918577699, 'Gdm2SO4_2M': 64.33702771140105, 'Gdm2SO4_4M': 65.39728202507145, 'Gdm2SO4_6M': 61.39443444391862, 'GdmCl_0.5M': 64.87554508796475, 'GdmCl_1M': 65.7219345117269, 'GdmCl_2M': 62.22456104786192, 'GdmCl_4M': 59.194612694153875, 'GdmCl_6M': 53.41120314608025, 'GdmSCN_0.5M': 58.69785533338373, 'Urea_2M': 59.00866465738076}\n"
     ]
    }
   ],
   "source": [
    "print(melt_T)"
   ]
  },
  {
   "cell_type": "code",
   "execution_count": 94,
   "id": "deadly-illustration",
   "metadata": {},
   "outputs": [
    {
     "data": {
      "application/vnd.jupyter.widget-view+json": {
       "model_id": "8e8c95cc845744ee8240e6c0da07289c",
       "version_major": 2,
       "version_minor": 0
      },
      "text/plain": [
       "Canvas(toolbar=Toolbar(toolitems=[('Home', 'Reset original view', 'home', 'home'), ('Back', 'Back to previous …"
      ]
     },
     "metadata": {},
     "output_type": "display_data"
    }
   ],
   "source": [
    "x = [0., 0.5, 1., 2., 4., 6.]\n",
    "y =  [melt_T[\"Control_0M\"], melt_T[\"Gdm2SO4_0.5M\"], melt_T[\"Gdm2SO4_1M\"], melt_T[\"Gdm2SO4_2M\"], melt_T[\"Gdm2SO4_4M\"], melt_T[\"Gdm2SO4_6M\"]]\n",
    "\n",
    "graph1 = pd.DataFrame(y, index=x, columns=[\"Gdm2SO4\"]).T\n",
    "\n",
    "y2 = [melt_T[\"Control_0M\"], melt_T[\"GdmCl_0.5M\"], melt_T[\"GdmCl_1M\"], melt_T[\"GdmCl_2M\"], melt_T[\"GdmCl_4M\"], melt_T[\"GdmCl_6M\"]]\n",
    "\n",
    "graph2 = pd.DataFrame(y2, index=x, columns=[\"GdmCl\"] ).T\n",
    "\n",
    "graph = pd.concat([graph1, graph2], axis=0)\n",
    "plot.mult_func([\"Gdm2SO4\", \"GdmCl\"], [graph], title=\"Melting Temperature\", subtitle=[\"\"], \n",
    "               x_label=\"concentration [M]\", y_label=\"temperature [°C]\", label=[r'$Gdm_{2}SO_{4}$',  r\"$GdmCl$ \"],\n",
    "               marker=[\"X\",\"o\"], linestyle=[\"-.\", \"-\",], backgroundcolor='white', colors=['blue',  'orange']\n",
    "              )\n",
    "               #error={\"Gdm2SO4\":y_error, \"GdmCl\": y2_error})"
   ]
  },
  {
   "cell_type": "markdown",
   "id": "comprehensive-mounting",
   "metadata": {
    "tags": []
   },
   "source": [
    "# Long measurements"
   ]
  },
  {
   "cell_type": "markdown",
   "id": "honest-grave",
   "metadata": {},
   "source": [
    "# TD Calculations\n"
   ]
  },
  {
   "cell_type": "markdown",
   "id": "searching-pontiac",
   "metadata": {},
   "source": [
    "<div class=\"alert alert-block alert-info\">\n",
    "<b>Info:</b> Steps after Mergny, J.-L., & Lacroix, L. (2003). Analysis of Thermal Melting Curves. In OLIGONUCLEOTIDES (Vol. 13). www.liebertpub.com\n",
    "</div>"
   ]
  },
  {
   "cell_type": "markdown",
   "id": "expressed-heating",
   "metadata": {},
   "source": [
    "**Hypochromatic Shift at 260nm  wit Low and High Plateau Fit**"
   ]
  },
  {
   "cell_type": "code",
   "execution_count": null,
   "id": "convenient-powell",
   "metadata": {},
   "outputs": [],
   "source": [
    "raw = data_all[\"Control_0M\"].absorb_df\n",
    "low_fit, params_lowfit = ana.lm_fit(raw[[20,30,40]], f_type='linear', guess=[0.0001, 0.35])\n",
    "high_fit, params_highfit = ana.lm_fit(raw[[70, 80,90]], f_type='linear', guess=[0.0001, 0.48])\n",
    "sig_fit, params_sigfit = ana.lm_fit(raw, f_type='s1', guess=[0.2, 0.35, 0.5, 63])"
   ]
  },
  {
   "cell_type": "markdown",
   "id": "voluntary-lyric",
   "metadata": {},
   "source": [
    "**Calculating Fraction Folded with High Plateu adjusted manually**"
   ]
  },
  {
   "cell_type": "code",
   "execution_count": null,
   "id": "guilty-tours",
   "metadata": {},
   "outputs": [],
   "source": [
    "data_treated = pd.DataFrame(raw.loc[260])\n",
    "data_treated[\"low_fit\"] = ana.linear(np.array(raw.columns), *params_lowfit.values())\n",
    "data_treated[\"high_fit\"] = ana.linear(np.array(raw.columns), 0.0004495999948082116, 0.45451300041966917)\n",
    "data_treated[\"intermediate\"] = 0.5*(data_treated[\"low_fit\"] + data_treated[\"high_fit\"])\n",
    "data_treated[\"fit\"] = sig_fit[\"fit\"]\n",
    "data_treated[\"baseline_fit\"] = (data_treated[\"high_fit\"] - data_treated[260])/(data_treated[\"high_fit\"] - data_treated[\"low_fit\"])\n",
    "data_treated[\"normed_data\"] = 1- ana.normalize(raw).loc[260].to_numpy()\n",
    "data_treated[\"log_fit\"] = 1 - ana.normalize(data_treated)[\"fit\"]\n",
    "plot.mult_func([260, \"low_fit\", \"high_fit\", \"intermediate\", \"fit\"], [data_treated.T], subtitle=[\"\"], title=\"Hypochromatic shift with Plaetau Fits\", y_label=\"Absorbance at 260nm\")\n",
    "plot.mult_func([\"baseline_fit\", \"normed_data\", \"log_fit\"], [data_treated.T], subtitle=[\"\"],  title=\"Fraction folded calculated by Plateu fits and Normalization\", y_label=\"Fraction folded\")\n"
   ]
  },
  {
   "cell_type": "markdown",
   "id": "certain-portfolio",
   "metadata": {},
   "source": [
    "**calulate K and ln K for different methods**"
   ]
  },
  {
   "cell_type": "code",
   "execution_count": null,
   "id": "related-smell",
   "metadata": {},
   "outputs": [],
   "source": [
    "c_total = 40 * (10**-9) # # total strand concentration in molar\n",
    "\n",
    "# get K and ln K\n",
    "base_method = pd.DataFrame(data_treated[\"baseline_fit\"].to_numpy(), index=[20,30,40,45,50,56,56,58,60,62,64,67,70,75,80, 90], columns=[\"theta\"])\n",
    "base_method['theta'] = base_method['theta'].astype(float)\n",
    "\n",
    "# here equation depending on reaction type, choosen: Bimolecular, complementary strand types\n",
    "base_method[\"K\"] = (base_method[\"theta\"])/(c_total*((1 - base_method[\"theta\"])**2))\n",
    "base_method['ln K'] = np.log(base_method['K'])\n",
    "\n",
    "# select values in confidence values 0.1 < theta < 0.9\n",
    "base_method  = base_method.loc[60:70]\n",
    "# change celsius to kelvin\n",
    "base_method = base_method.set_index(1/(base_method.index + 273.15))\n",
    "\n",
    "# make linear fit and plot\n",
    "enthalpy_base, params_base = ana.lm_fit(base_method.T, wave=\"ln K\", f_type='linear', guess=[80000, -2])\n",
    "error = {\"fit\" : enthalpy_base[\"error\"].to_numpy()}\n",
    "plot.mult_func([\"ln K\", \"fit\"], [enthalpy_base.T], error=error, x_label=\"1/T [1/Kelvin]\", y_label=\"ln K\")"
   ]
  },
  {
   "cell_type": "code",
   "execution_count": null,
   "id": "acute-addiction",
   "metadata": {},
   "outputs": [],
   "source": [
    "c_total = 40 * (10**-9) # # total strand concentration in molar\n",
    "\n",
    "# get K and ln K\n",
    "normed_method = pd.DataFrame(data_treated[\"normed_data\"].to_numpy(), index=[20,30,40,45,50,56,56,58,60,62,64,67,70,75,80, 90], columns=[\"theta\"])\n",
    "normed_method['theta'] = normed_method['theta'].astype(float)\n",
    "\n",
    "# here equation depending on reaction type, choosen: Bimolecular, complementary strand types\n",
    "normed_method[\"K\"] = (normed_method[\"theta\"])/(c_total*((1 - normed_method[\"theta\"])**2))\n",
    "normed_method['ln K'] = np.log(normed_method['K'])\n",
    "\n",
    "# select values in confidence values 0.1 < theta < 0.9\n",
    "normed_method  = normed_method.loc[60:70]\n",
    "# change celsius to kelvin\n",
    "normed_method = normed_method.set_index(1/(normed_method.index + 273.15))\n",
    "\n",
    "# make linear fit and plot\n",
    "enthalpy_normed, params_norm = ana.lm_fit(base_method.T, wave=\"ln K\", f_type='linear', guess=[80000, -2])\n",
    "error = {\"fit\" : enthalpy_normed[\"error\"].to_numpy()}\n",
    "plot.mult_func([\"ln K\", \"fit\"], [enthalpy_normed.T], error=error, x_label=\"1/T [1/Kelvin]\", y_label=\"ln K\")"
   ]
  },
  {
   "cell_type": "code",
   "execution_count": null,
   "id": "certified-anger",
   "metadata": {},
   "outputs": [],
   "source": [
    "c_total = 40 * (10**-9) # # total strand concentration in molar\n",
    "\n",
    "# get K and ln K\n",
    "fit_method = pd.DataFrame(data_treated[\"log_fit\"].to_numpy(), index=[20,30,40,45,50,56,56,58,60,62,64,67,70,75,80, 90], columns=[\"theta\"])\n",
    "fit_method['theta'] = fit_method['theta'].astype(float)\n",
    "\n",
    "# here equation depending on reaction type, choosen: Bimolecular, complementary strand types\n",
    "fit_method[\"K\"] = (fit_method[\"theta\"])/(c_total*((1 - fit_method[\"theta\"])**2))\n",
    "fit_method['ln K'] = np.log(fit_method['K'])\n",
    "\n",
    "# select values in confidence values 0.1 < theta < 0.9\n",
    "fit_method  = fit_method.loc[60:70]\n",
    "# change celsius to kelvin\n",
    "fit_method = fit_method.set_index(1/(fit_method.index + 273.15))\n",
    "\n",
    "# make linear fit and plot\n",
    "enthalpy_fit, params_fit = ana.lm_fit(fit_method.T, wave=\"ln K\", f_type='linear', guess=[80000, -2])\n",
    "error = {\"fit\" : enthalpy_fit[\"error\"].to_numpy()}\n",
    "plot.mult_func([\"ln K\", \"fit\"], [enthalpy_fit.T], error=error, x_label=\"1/T [1/Kelvin]\", y_label=\"ln K\")"
   ]
  },
  {
   "cell_type": "markdown",
   "id": "beautiful-bottom",
   "metadata": {},
   "source": [
    "**Calculate Entropy and Enthalpy**"
   ]
  },
  {
   "cell_type": "code",
   "execution_count": null,
   "id": "worst-genealogy",
   "metadata": {},
   "outputs": [],
   "source": [
    "enthalpy = pd.DataFrame([\"H [kJ/mol]\", \"H [kcal/mol]\", \"S [kJ/mol*K]\", \"S [kcal/mol*K]\"], columns=[\"units\"])\n",
    "enthalpy = enthalpy.set_index(\"units\")\n",
    "\n",
    "# for base method\n",
    "m, y0 = params_base.values()\n",
    "delta_H = -m * 8.3145\n",
    "delta_S = y0 * 8.3145\n",
    "enthalpy[\"base\"] = [delta_H*10**(-3), delta_H*0.2390057*10**(-3), delta_S*10**(-3), delta_S*0.2390057*10**(-3)]\n",
    "\n",
    "# for normed method\n",
    "m, y0 = params_norm.values()\n",
    "delta_H = -m * 8.3145\n",
    "delta_S = y0 * 8.3145\n",
    "enthalpy[\"norm\"] = [delta_H*10**(-3), delta_H*0.2390057*10**(-3), delta_S*10**(-3), delta_S*0.2390057*10**(-3)]\n",
    "\n",
    "# for fit method\n",
    "m, y0 = params_fit.values()\n",
    "delta_H = -m * 8.3145\n",
    "delta_S = y0 * 8.3145\n",
    "enthalpy[\"fit\"] = [delta_H*10**(-3), delta_H*0.2390057*10**(-3), delta_S*10**(-3), delta_S*0.2390057*10**(-3)]\n",
    "\n",
    "print(enthalpy)"
   ]
  },
  {
   "cell_type": "markdown",
   "id": "coated-checkout",
   "metadata": {},
   "source": [
    "## Derivative\n"
   ]
  },
  {
   "cell_type": "code",
   "execution_count": null,
   "id": "certified-connectivity",
   "metadata": {},
   "outputs": [],
   "source": [
    "deriv = ana.derivative(data_all[\"Control_0M\"].absorb_df)\n",
    "data = data_all[\"Control_0M\"].absorb_df"
   ]
  },
  {
   "cell_type": "code",
   "execution_count": null,
   "id": "useful-language",
   "metadata": {},
   "outputs": [],
   "source": [
    "plot.mult_func([260], [data], [deriv], title= \"Hypochromatic shift\", subtitle=[\"Absolute value\", \"interpolated derivative\"], label=[\"\"], y_label=\"Absorbance\")"
   ]
  },
  {
   "cell_type": "markdown",
   "id": "departmental-american",
   "metadata": {},
   "source": [
    "# Test"
   ]
  },
  {
   "cell_type": "markdown",
   "id": "growing-mailing",
   "metadata": {},
   "source": [
    "**Simulation of Melting Curves**"
   ]
  },
  {
   "cell_type": "raw",
   "id": "purple-portsmouth",
   "metadata": {},
   "source": [
    "T0\t337\t335,9375\t323,14502\n",
    "dH\t123000\t215000\t100000\n",
    "dS\t364,98516\t640\t309,45858\n",
    "dCp\t2000\t4000\t1000\n",
    "K0\t1\t1,27469\t4"
   ]
  },
  {
   "cell_type": "code",
   "execution_count": 30,
   "id": "magnetic-hearing",
   "metadata": {},
   "outputs": [],
   "source": [
    "# gas constant\n",
    "r =  8.314\n",
    "\n",
    "# first process -> melting dsDNA to ssDNA in tensed state\n",
    "t_01 =  337\n",
    "dh_1 = 123000\n",
    "\n",
    "# second process -> melting dsDNA to ssDNA in relaxed state\n",
    "t_02 = 335.9375\n",
    "dh_2 = 215000\n",
    "\n",
    "# third process -> relaxing origami in dsDNA\n",
    "t_03 = 323.14502\n",
    "dh_3 = 10000 \n",
    "\n",
    "# add dc_p values\n",
    "dc_1 = 2000\n",
    "dc_2 = 4000\n",
    "dc_3 = 1000\n",
    "\n",
    "# temperature points and dt to reference temperature t_01\n",
    "t =  np.arange(273, 372, 1)\n",
    "\n",
    "# create lists to save calcua\n",
    "rel_conc = pd.DataFrame(index=t, columns=[1,2,3,4])"
   ]
  },
  {
   "cell_type": "code",
   "execution_count": 31,
   "id": "accurate-mission",
   "metadata": {},
   "outputs": [],
   "source": [
    "# calculate fractions for all temperature points\n",
    "for i in t:\n",
    "    # calculate dg\n",
    "    dg_1 = - (dh_1/t_01 - dc_1) * (i - t_01) + dc_1 * i * np.log(t_01/i) # dsDNA to ssDNA in tensed state \n",
    "    dg_2 = - (dh_2/t_01 - dc_2) * (i - t_02) + dc_2 * i * np.log(t_02/i) # dsDNA to ssDNA in relaxed state\n",
    "    dg_3 = - (dh_3/t_01 - dc_3) * (i - t_03) + dc_3 * i * np.log(t_03/i) # tensed state to relaxed state in dsDNA\n",
    "    \n",
    "    # calculate equilibrium constants k\n",
    "    k_1 = np.exp( - dg_1 / (r * i))\n",
    "    k_2 = np.exp( - dg_2 / (r * i))\n",
    "    k_3 = np.exp( - dg_3 / (r * i))\n",
    "    \n",
    "    # calculate relative concentrations\n",
    "    sum_of_states = 1 + k_1 + k_3 + k_3 * k_2 # number of states / number of state 1 \n",
    "    rel_conc.loc[i, 1] = 1 / sum_of_states # norm.population of dsDNA tensed \n",
    "    rel_conc.loc[i, 2] = k_1 /sum_of_states # norm.population of ssDNA tensed\n",
    "    rel_conc.loc[i, 3] = k_3 /sum_of_states # norm.population of dsDNA relaxed\n",
    "    rel_conc.loc[i, 4] = k_3 * k_2 /sum_of_states # norm.population of ssDNA relaxed \n"
   ]
  },
  {
   "cell_type": "code",
   "execution_count": 32,
   "id": "beginning-series",
   "metadata": {},
   "outputs": [
    {
     "data": {
      "application/vnd.jupyter.widget-view+json": {
       "model_id": "41fbc1cd4de14fa58ba281baf880185b",
       "version_major": 2,
       "version_minor": 0
      },
      "text/plain": [
       "Canvas(toolbar=Toolbar(toolitems=[('Home', 'Reset original view', 'home', 'home'), ('Back', 'Back to previous …"
      ]
     },
     "metadata": {},
     "output_type": "display_data"
    }
   ],
   "source": [
    "plot.mult_func([1,2,3,4], [rel_conc.T])"
   ]
  },
  {
   "cell_type": "markdown",
   "id": "sealed-honor",
   "metadata": {},
   "source": [
    "**Beers Law**"
   ]
  },
  {
   "cell_type": "code",
   "execution_count": null,
   "id": "detailed-diary",
   "metadata": {},
   "outputs": [],
   "source": [
    "for key in data_all.keys():\n",
    "    absorbance = data_all[key].absorb_df.loc[260, 20]\n",
    "    df = data_all[key].cd_df\n",
    "    \n",
    "    conc_ds =  absorbance/(0.02*0.1) #[µg/mL]\n",
    "    molar = conc_ds * 10**(-6) / (4472760.4 * 10**(-3)) #[mol/l]\n",
    "    df_norm = 100 * df / (molar * 0.1)\n",
    "    print(key, \":  \\t\", molar)"
   ]
  },
  {
   "cell_type": "code",
   "execution_count": null,
   "id": "stock-solution",
   "metadata": {},
   "outputs": [],
   "source": [
    "for key in data_all.keys():\n",
    "    plot.mult_func([280], [data_all[key].cd_df], subtitle=[key], y_scaling=True, y_max=[3.85], y_min=[1.75])"
   ]
  },
  {
   "cell_type": "code",
   "execution_count": null,
   "id": "ethical-married",
   "metadata": {},
   "outputs": [],
   "source": [
    "\n",
    "\n",
    "        # put second y_axis for \"GdmCl_0.5M\" normed\n",
    "        # function to bring back values\n",
    "        def expand_back(y):\n",
    "            return y * (0.523893 - 0.379531) + 0.379531\n",
    "        # inverse function\n",
    "        def norm(y):\n",
    "            return (y - 0.379531) / (0.523893 - 0.379531)\n",
    "\n",
    "        # put axis and label\n",
    "        secax = ax.secondary_yaxis('right', functions=(expand_back, norm), fontsize=16)\n",
    "        secax.set_ylabel('Absorption [%]', fontsize=16)"
   ]
  },
  {
   "cell_type": "code",
   "execution_count": null,
   "id": "automotive-blend",
   "metadata": {},
   "outputs": [],
   "source": [
    "df = data_all[\"Control_0M\"].cd_df\n",
    "mean = df.mean(axis=1)\n",
    "var =  df.var(axis=1)\n",
    "dyn = df.subtract(mean, axis=0)\n",
    "\n",
    "col = dyn.columns \n",
    "idx = dyn.index\n",
    "m = len(col)\n",
    "n =len(idx)"
   ]
  },
  {
   "cell_type": "code",
   "execution_count": null,
   "id": "instructional-possession",
   "metadata": {},
   "outputs": [],
   "source": [
    "wave1 =  247\n",
    "wave2 = 260\n",
    "i = 20\n",
    "\n",
    "print(np.sum((dyn.loc[wave1, :]/mean[wave1] - dyn.loc[wave2, :]/mean[wave2]) * col) * np.sqrt(var.loc[wave1]*var.loc[wave2])/(m*(m-1)) )\n"
   ]
  },
  {
   "cell_type": "code",
   "execution_count": null,
   "id": "saved-split",
   "metadata": {},
   "outputs": [],
   "source": [
    "\n",
    "assync = pd.DataFrame(np.zeros((n,n)), index=idx, columns=idx)\n",
    "\n",
    "for j in idx:\n",
    "    for k in idx:\n",
    "        assync.loc[j,k] = np.sum((dyn.loc[j, :]/mean[j] - dyn.loc[k, :]/mean[k]) * col) * np.sqrt(var.loc[j]*var.loc[k])/(m*(m-1))\n",
    "print(assync)"
   ]
  },
  {
   "cell_type": "code",
   "execution_count": null,
   "id": "saved-alabama",
   "metadata": {},
   "outputs": [],
   "source": [
    "plot.heatmap(assync, x_min=[220], y_min=[220])"
   ]
  },
  {
   "cell_type": "markdown",
   "id": "natural-wildlife",
   "metadata": {},
   "source": [
    "# Parafak Ethanol"
   ]
  },
  {
   "cell_type": "markdown",
   "id": "wound-fusion",
   "metadata": {},
   "source": [
    "## *setting up the Notebook*"
   ]
  },
  {
   "cell_type": "code",
   "execution_count": null,
   "id": "sweet-profile",
   "metadata": {},
   "outputs": [],
   "source": [
    "# Enabling the `widget` backend.\n",
    "# This requires jupyter-matplotlib a.k.a. ipympl.\n",
    "# ipympl can be install via pip or conda.\n",
    "%matplotlib widget\n",
    "        \n",
    "import matplotlib.pyplot as plt\n",
    "import numpy as np\n",
    "import pandas as pd\n",
    "from ipywidgets import Output\n",
    "import matplotlib\n",
    "\n",
    "from scipy import integrate\n",
    "import lmfit\n",
    "import os"
   ]
  },
  {
   "cell_type": "code",
   "execution_count": null,
   "id": "municipal-validity",
   "metadata": {},
   "outputs": [],
   "source": [
    "import analise as ana\n",
    "import cdata \n",
    "import hotznplots as plot"
   ]
  },
  {
   "cell_type": "markdown",
   "id": "naked-netherlands",
   "metadata": {},
   "source": [
    "<div class=\"alert alert-block alert-info\">\n",
    "<b>Info:</b> Print always whole DataFrames\n",
    "</div>"
   ]
  },
  {
   "cell_type": "code",
   "execution_count": null,
   "id": "varying-place",
   "metadata": {},
   "outputs": [],
   "source": [
    "# Default value of display.max_rows is 10 i.e. at max 10 rows will be printed.\n",
    "# Set it None to display all rows in the dataframe\n",
    "pd.set_option('display.max_rows', None)"
   ]
  },
  {
   "cell_type": "code",
   "execution_count": null,
   "id": "absent-lightweight",
   "metadata": {},
   "outputs": [],
   "source": [
    "# change plot size\n",
    "plt.rcParams[\"figure.figsize\"] = (11,9)"
   ]
  },
  {
   "cell_type": "markdown",
   "id": "searching-sculpture",
   "metadata": {},
   "source": [
    "<div class=\"alert alert-block alert-info\">\n",
    "<b>Info:</b> Get the data\n",
    "</div>"
   ]
  },
  {
   "cell_type": "code",
   "execution_count": null,
   "id": "artificial-corporation",
   "metadata": {},
   "outputs": [],
   "source": [
    "# Path for Daniel:\n",
    "#path = \"F:\\\\HZDR\\\\CD_data\"\n",
    "\n",
    "# My Path:\n",
    "path = \"C:\\\\Users\\\\crazy\\\\Mega\\\\Uni\\\\Masterarbeit\\\\Projekt\\\\Data\\\\CD_data\\\\Ethanol\"\n",
    "datalist = os.listdir(path)\n",
    "print(datalist)"
   ]
  },
  {
   "cell_type": "code",
   "execution_count": null,
   "id": "outer-component",
   "metadata": {},
   "outputs": [],
   "source": [
    "# all data in one dictionary with foldernames as names\n",
    "data_all = {}\n",
    "for i in range(len(datalist)):\n",
    "    data_all[datalist[i]] = cdata.CData(os.path.join(path, datalist[i]))"
   ]
  },
  {
   "cell_type": "code",
   "execution_count": null,
   "id": "parallel-sociology",
   "metadata": {},
   "outputs": [],
   "source": [
    "df =  data_all[\"Control_0%\"].cd_df\n",
    "df = df.rename(columns={-1:\"0%\"})\n",
    "df[\"50%\"] =  (data_all[\"Ethanol_50%\"].cd_df.loc[:,-1])\n",
    "df[\"nach\"] =  (data_all[\"Ethanol_50%_nachTest\"].cd_df.loc[:,-1])\n",
    "df[\"vor\"] =  (data_all[\"Ethanol_50%_vorTest\"].cd_df.loc[:,-1])\n",
    "df[\"50% real\"] =  (data_all[\"Ethanol_50%_real\"].cd_df.loc[:,-1])\n",
    "print(df)"
   ]
  },
  {
   "cell_type": "code",
   "execution_count": null,
   "id": "concrete-qualification",
   "metadata": {},
   "outputs": [],
   "source": [
    "plot.mult_func(['0%', 'vor', 'nach', '50%', \"50% real\" ], [df], swap=True, marker=[\"\", \"\", \"\", \"\", \"\"], x_label=\"Wavelengt [nm]\")"
   ]
  },
  {
   "cell_type": "markdown",
   "id": "emotional-mayor",
   "metadata": {},
   "source": [
    "# Salmon testes"
   ]
  },
  {
   "cell_type": "markdown",
   "id": "median-content",
   "metadata": {},
   "source": [
    "## setting up the notebook\n"
   ]
  },
  {
   "cell_type": "code",
   "execution_count": null,
   "id": "minute-australian",
   "metadata": {},
   "outputs": [],
   "source": [
    "# Enabling the `widget` backend.\n",
    "# This requires jupyter-matplotlib a.k.a. ipympl.\n",
    "# ipympl can be install via pip or conda.\n",
    "%matplotlib widget\n",
    "        \n",
    "import matplotlib.pyplot as plt\n",
    "import numpy as np\n",
    "import pandas as pd\n",
    "from ipywidgets import Output\n",
    "import matplotlib\n",
    "import openpyxl\n",
    "\n",
    "from scipy import integrate\n",
    "import lmfit\n",
    "import os"
   ]
  },
  {
   "cell_type": "code",
   "execution_count": null,
   "id": "tracked-cooperation",
   "metadata": {},
   "outputs": [],
   "source": [
    "import analise as ana\n",
    "import cdata \n",
    "import hotznplots as plot"
   ]
  },
  {
   "cell_type": "markdown",
   "id": "meaning-audit",
   "metadata": {},
   "source": [
    "<div class=\"alert alert-block alert-info\">\n",
    "<b>Info:</b> Print always whole DataFrames\n",
    "</div>"
   ]
  },
  {
   "cell_type": "code",
   "execution_count": null,
   "id": "motivated-parameter",
   "metadata": {},
   "outputs": [],
   "source": [
    "# Default value of display.max_rows is 10 i.e. at max 10 rows will be printed.\n",
    "# Set it None to display all rows in the dataframe\n",
    "pd.set_option('display.max_rows', None)"
   ]
  },
  {
   "cell_type": "code",
   "execution_count": null,
   "id": "prerequisite-event",
   "metadata": {},
   "outputs": [],
   "source": [
    "# change plot size\n",
    "plt.rcParams[\"figure.figsize\"] = (10,7)"
   ]
  },
  {
   "cell_type": "markdown",
   "id": "norman-gauge",
   "metadata": {},
   "source": [
    "<div class=\"alert alert-block alert-info\">\n",
    "<b>Info:</b> Get the data\n",
    "</div>"
   ]
  },
  {
   "cell_type": "code",
   "execution_count": null,
   "id": "expired-greene",
   "metadata": {},
   "outputs": [],
   "source": [
    "# Path for Daniel:\n",
    "#path = \"F:\\\\HZDR\\\\CD_data\"\n",
    "\n",
    "# My Path:\n",
    "path = \"C:\\\\Users\\\\crazy\\\\Mega\\\\Uni\\\\Masterarbeit\\\\Projekt\\\\Data\\\\CD_data\\\\Salmon Testes\"\n",
    "datalist_salmon = os.listdir(path)\n",
    "print(datalist_salmon)"
   ]
  },
  {
   "cell_type": "code",
   "execution_count": null,
   "id": "annoying-prevention",
   "metadata": {},
   "outputs": [],
   "source": [
    "# all data in one dictionary with foldernames as names\n",
    "data_salmon = {}\n",
    "for i in range(len(datalist_salmon)):\n",
    "    data_salmon[datalist_salmon[i]] = cdata.CData(os.path.join(path, datalist_salmon[i]))"
   ]
  },
  {
   "cell_type": "code",
   "execution_count": null,
   "id": "accepted-marine",
   "metadata": {},
   "outputs": [],
   "source": [
    "for key in data_salmon.keys():\n",
    "    absorbance = data_salmon[key].absorb_df.loc[260, 20]\n",
    "    df = data_salmon[key].cd_df\n",
    "    \n",
    "    conc_ds =  absorbance/(0.02*0.1*(10**3)) #[mg/mL]\n",
    "    print(key, \":  \\t\", conc_ds)"
   ]
  },
  {
   "cell_type": "code",
   "execution_count": null,
   "id": "signed-walker",
   "metadata": {},
   "outputs": [],
   "source": [
    "for key in data_salmon.keys():\n",
    "    plot.mult_func([260], [data_salmon[key].absorb_df], subtitle=[key])"
   ]
  },
  {
   "cell_type": "code",
   "execution_count": null,
   "id": "interstate-dinner",
   "metadata": {},
   "outputs": [],
   "source": [
    "print(data_salmon[\"Control_0M_continous\"].t_list)"
   ]
  },
  {
   "cell_type": "code",
   "execution_count": null,
   "id": "civilian-wellington",
   "metadata": {},
   "outputs": [],
   "source": [
    "plot.mult_func([20, 40, 60, 80], [data_salmon['Control_0M_continous'].cd_df], swap=True, baseline=True, marker=[\"\",\"\",\"\",\"\"], subtitle=[\"Salmon Control\"], linestyle=[\"-\",\":\", \":\", \"-\"], x_min=220)"
   ]
  },
  {
   "cell_type": "code",
   "execution_count": null,
   "id": "junior-humanitarian",
   "metadata": {},
   "outputs": [],
   "source": []
  },
  {
   "cell_type": "code",
   "execution_count": null,
   "id": "particular-veteran",
   "metadata": {},
   "outputs": [],
   "source": []
  }
 ],
 "metadata": {
  "kernelspec": {
   "display_name": "Python 3",
   "language": "python",
   "name": "python3"
  },
  "language_info": {
   "codemirror_mode": {
    "name": "ipython",
    "version": 3
   },
   "file_extension": ".py",
   "mimetype": "text/x-python",
   "name": "python",
   "nbconvert_exporter": "python",
   "pygments_lexer": "ipython3",
   "version": "3.8.6"
  },
  "toc-autonumbering": true,
  "toc-showcode": false,
  "toc-showmarkdowntxt": false
 },
 "nbformat": 4,
 "nbformat_minor": 5
}
