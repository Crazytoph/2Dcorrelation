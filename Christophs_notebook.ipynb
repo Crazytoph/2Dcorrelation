{
 "cells": [
  {
   "cell_type": "markdown",
   "id": "approved-accordance",
   "metadata": {},
   "source": [
    "*for more information, checkout* [Github](https://github.com/Crazytoph/2Dcorrelation \"my github page\")."
   ]
  },
  {
   "cell_type": "markdown",
   "id": "closed-paste",
   "metadata": {},
   "source": [
    "**CD Measurements - Data Analysis**"
   ]
  },
  {
   "cell_type": "markdown",
   "id": "expanded-wisdom",
   "metadata": {},
   "source": [
    "# DNA Origami "
   ]
  },
  {
   "cell_type": "markdown",
   "id": "binding-posting",
   "metadata": {},
   "source": [
    "## *setting up the Notebook*"
   ]
  },
  {
   "cell_type": "code",
   "execution_count": 1,
   "id": "formal-announcement",
   "metadata": {},
   "outputs": [],
   "source": [
    "# Enabling the `widget` backend.\n",
    "# This requires jupyter-matplotlib a.k.a. ipympl.\n",
    "# ipympl can be install via pip or conda.\n",
    "%matplotlib widget\n",
    "        \n",
    "import matplotlib.pyplot as plt\n",
    "import numpy as np\n",
    "import pandas as pd\n",
    "from ipywidgets import Output\n",
    "import matplotlib\n",
    "import openpyxl\n",
    "import re\n",
    "\n",
    "from scipy import integrate\n",
    "import lmfit\n",
    "import os"
   ]
  },
  {
   "cell_type": "code",
   "execution_count": 2,
   "id": "sealed-limitation",
   "metadata": {},
   "outputs": [],
   "source": [
    "import analise as ana\n",
    "import cdata \n",
    "import hotznplots as plot"
   ]
  },
  {
   "cell_type": "markdown",
   "id": "composite-doctor",
   "metadata": {},
   "source": [
    "<div class=\"alert alert-block alert-info\">\n",
    "<b>Info:</b> Print always whole DataFrames\n",
    "</div>"
   ]
  },
  {
   "cell_type": "code",
   "execution_count": 3,
   "id": "graphic-robin",
   "metadata": {},
   "outputs": [],
   "source": [
    "# Default value of display.max_rows is 10 i.e. at max 10 rows will be printed.\n",
    "# Set it None to display all rows in the dataframe\n",
    "pd.set_option('display.max_rows', None)"
   ]
  },
  {
   "cell_type": "code",
   "execution_count": 4,
   "id": "intellectual-millennium",
   "metadata": {},
   "outputs": [
    {
     "data": {
      "text/plain": [
       "'# activate Latex, change font type\\nplt.rcParams.update({\\n    \"text.usetex\": True,\\n    \"font.family\": \"sans-serif\",\\n    \"font.serif\": [\"Helvetica\"],\\n})'"
      ]
     },
     "execution_count": 4,
     "metadata": {},
     "output_type": "execute_result"
    }
   ],
   "source": [
    "# change plot size\n",
    "plt.rcParams[\"figure.figsize\"] = (10,7)\n",
    "\n",
    "\"\"\"# activate Latex, change font type\n",
    "plt.rcParams.update({\n",
    "    \"text.usetex\": True,\n",
    "    \"font.family\": \"sans-serif\",\n",
    "    \"font.serif\": [\"Helvetica\"],\n",
    "})\"\"\""
   ]
  },
  {
   "cell_type": "markdown",
   "id": "relevant-prisoner",
   "metadata": {},
   "source": [
    "<div class=\"alert alert-block alert-info\">\n",
    "<b>Info:</b> Get the data\n",
    "</div>"
   ]
  },
  {
   "cell_type": "code",
   "execution_count": 5,
   "id": "employed-crawford",
   "metadata": {},
   "outputs": [
    {
     "name": "stdout",
     "output_type": "stream",
     "text": [
      "['46_forward', '46_reversed', 'Control_0M', 'Gdm2SO4_0.5M', 'Gdm2SO4_1M', 'Gdm2SO4_2M', 'Gdm2SO4_4M', 'Gdm2SO4_6M', 'GdmCl_0.5M', 'GdmCl_1M', 'GdmCl_2M', 'GdmCl_2M_20nM Origami', 'GdmCl_2M_24h', 'GdmCl_2M_80nM Origami', 'GdmCl_4M', 'GdmCl_6M', 'GdmCl_6M_alt', 'GdmSCN_0.5M', 'GdmSCN_2M', 'Urea_2M']\n"
     ]
    }
   ],
   "source": [
    "# Path for Daniel:\n",
    "#path = \"F:\\\\HZDR\\\\CD_data\"\n",
    "\n",
    "# My Path:\n",
    "path = \"C:\\\\Users\\\\crazy\\\\Documents\\\\Uni\\\\Masterarbeit\\\\Projekt\\\\Data\\\\CD_data\\\\DNA Origami\"\n",
    "#path = \"C:\\\\Users\\\\crazy\\\\Documents\\\\Uni\\\\Masterarbeit\\\\Projekt\\\\Data\\\\1-99_Denaturation\"\n",
    "datalist = os.listdir(path)\n",
    "print(datalist)"
   ]
  },
  {
   "cell_type": "code",
   "execution_count": 6,
   "id": "opened-neutral",
   "metadata": {},
   "outputs": [],
   "source": [
    "# all data in one dictionary with foldernames as names\n",
    "data_all = {}\n",
    "for i in range(len(datalist)):\n",
    "    data_all[datalist[i]] = cdata.CData(os.path.join(path, datalist[i]))"
   ]
  },
  {
   "cell_type": "code",
   "execution_count": null,
   "id": "thousand-syndrome",
   "metadata": {},
   "outputs": [],
   "source": [
    "# options to acces data\n",
    "print(data_all['Control_0M'])\n",
    "# multiple options\n",
    "print(list(map(data_all.get, ['Control_0M', 'Gdm2SO4_4M'])))\n",
    "print(tuple(data_all.values())[0:4])"
   ]
  },
  {
   "cell_type": "markdown",
   "id": "proud-study",
   "metadata": {},
   "source": [
    "## PCA"
   ]
  },
  {
   "cell_type": "markdown",
   "id": "arabic-tracker",
   "metadata": {},
   "source": [
    "### Print-out for PCA\n"
   ]
  },
  {
   "cell_type": "markdown",
   "id": "broadband-terry",
   "metadata": {},
   "source": [
    "<div class=\"alert alert-block alert-info\">\n",
    "<b>Info:</b> Creates the .dat - files which are used for PCA and ITTFA\n",
    "</div>"
   ]
  },
  {
   "cell_type": "code",
   "execution_count": 24,
   "id": "republican-separate",
   "metadata": {},
   "outputs": [
    {
     "name": "stdout",
     "output_type": "stream",
     "text": [
      "[4, 6, 7, 8, 9, 10, 11, 12, 14, 15, 16, 17, 18, 19, 21, 22, 23, 24, 25, 26, 28, 29, 30, 31, 32, 33, 34, 36, 37, 38, 39, 40, 41, 42, 44, 45, 46, 47, 48, 49, 50, 52, 53, 54, 55, 56, 57, 59, 60, 61, 62, 63, 64, 66, 67, 68, 69, 70, 71, 73, 74, 75, 76, 77, 78, 79, 80, 82, 83, 84, 85, 86, 88, 89, 90, 91, 92, 93, 95, 96, 97, 98, 99, 1, 3]\n"
     ]
    }
   ],
   "source": [
    "print(data_all['4 M GdmCl'].t_list)"
   ]
  },
  {
   "cell_type": "code",
   "execution_count": 18,
   "id": "valid-canon",
   "metadata": {},
   "outputs": [],
   "source": [
    "# general path where files should be saved without last folder name\n",
    "print_path = \"C:\\\\Users\\\\crazy\\\\Documents\\\\Uni\\\\Masterarbeit\\\\Projekt\\\\Data\\\\PCA\""
   ]
  },
  {
   "cell_type": "code",
   "execution_count": 19,
   "id": "graphic-student",
   "metadata": {},
   "outputs": [
    {
     "name": "stdout",
     "output_type": "stream",
     "text": [
      "dict_keys(['1_M_GdmCl_100_mM_Mg', '1_M_GdmCl_400_mM_Mg', '4_M_GdmCl_100_mM_Mg', '4_M_GdmCl_10_mM_Mg', '4_M_GdmCl_400_mM_Mg'])\n"
     ]
    }
   ],
   "source": [
    "print(data_all.keys())"
   ]
  },
  {
   "cell_type": "code",
   "execution_count": 37,
   "id": "white-blank",
   "metadata": {},
   "outputs": [],
   "source": [
    "liste = ['4_M_GdmCl_10_mM_Mg']"
   ]
  },
  {
   "cell_type": "code",
   "execution_count": 38,
   "id": "ignored-bradley",
   "metadata": {},
   "outputs": [
    {
     "name": "stdout",
     "output_type": "stream",
     "text": [
      "49\n"
     ]
    }
   ],
   "source": [
    "# files get seperatedly created, folder name must exist\n",
    "folder_name = '4_M_GdmCl_10_mM_Mg'\n",
    "i= 1\n",
    "\n",
    "for key in liste:\n",
    "    for col in data_all[key].cd_df.columns:\n",
    "        if col >= 20  and col <= 75:\n",
    "            name =  print_path + '\\\\' + folder_name + '\\\\' + str(i) + '.dat'\n",
    "            data_all[key].cd_df.loc[:, col].to_csv(name, sep = \" \", header=False)\n",
    "            i = i + 1\n",
    "    print(i)"
   ]
  },
  {
   "cell_type": "code",
   "execution_count": 39,
   "id": "plastic-dayton",
   "metadata": {},
   "outputs": [
    {
     "name": "stdout",
     "output_type": "stream",
     "text": [
      "53\n"
     ]
    }
   ],
   "source": [
    "# extra files if new spectra should be added\n",
    "\n",
    "#excel path\n",
    "excel_path = \"C:\\\\Users\\\\crazy\\\\Documents\\\\Uni\\\\Masterarbeit\\\\Projekt\\\\Factor_analysis\\\\ITTFA\"\n",
    "# excel file name\n",
    "excel_name =  excel_path + '\\\\' + 'Cl_4M.xlsx'\n",
    "\n",
    "# open and modify excel \n",
    "df_excel = pd.read_excel(excel_name)\n",
    "df_excel = df_excel.drop(index = 0)\n",
    "df_excel = df_excel.set_index('Wavelength')\n",
    "\n",
    "# create subfiles for spectra\n",
    "for k in df_excel.columns:\n",
    "    name =  print_path + '\\\\' + folder_name + '\\\\' + str(i) + '.dat'\n",
    "    df_excel.loc[:, k].to_csv(name, sep = \" \", header=False)\n",
    "    i = i + 1\n",
    "print(i)"
   ]
  },
  {
   "cell_type": "markdown",
   "id": "engaged-analysis",
   "metadata": {},
   "source": [
    "### Eigenvector output\n"
   ]
  },
  {
   "cell_type": "code",
   "execution_count": 1,
   "id": "sorted-commerce",
   "metadata": {},
   "outputs": [],
   "source": [
    "print_path = \"C:\\\\Users\\\\crazy\\\\Documents\\\\Uni\\\\Masterarbeit\\\\Projekt\\\\Data\\\\PCA\""
   ]
  },
  {
   "cell_type": "code",
   "execution_count": 48,
   "id": "enhanced-government",
   "metadata": {},
   "outputs": [
    {
     "name": "stdout",
     "output_type": "stream",
     "text": [
      "dict_keys(['1_M_GdmCl_100_mM_Mg', '1_M_GdmCl_400_mM_Mg', '4_M_GdmCl_100_mM_Mg', '4_M_GdmCl_10_mM_Mg', '4_M_GdmCl_400_mM_Mg'])\n"
     ]
    }
   ],
   "source": [
    "print(data_all.keys())"
   ]
  },
  {
   "cell_type": "code",
   "execution_count": 27,
   "id": "dramatic-volleyball",
   "metadata": {},
   "outputs": [],
   "source": [
    "liste = ['4_M_GdmCl_10_mM_Mg']"
   ]
  },
  {
   "cell_type": "code",
   "execution_count": 29,
   "id": "national-charleston",
   "metadata": {},
   "outputs": [
    {
     "data": {
      "application/vnd.jupyter.widget-view+json": {
       "model_id": "a73b2a0f65634ee482a5808ce02587d7",
       "version_major": 2,
       "version_minor": 0
      },
      "text/plain": [
       "Canvas(toolbar=Toolbar(toolitems=[('Home', 'Reset original view', 'home', 'home'), ('Back', 'Back to previous …"
      ]
     },
     "metadata": {},
     "output_type": "display_data"
    }
   ],
   "source": [
    "for  key in liste:\n",
    "    # create DataFrame for plot\n",
    "    plot_df = pd.DataFrame(index=data_all[key].cd_df.loc[215:300].index)\n",
    "    \n",
    "    # number of components\n",
    "    components = 48\n",
    "    \n",
    "    # read files \n",
    "    for i in range(components):\n",
    "        \n",
    "        name = 'eigenvector' + str(i+1) \n",
    "        # get data path\n",
    "        data_path = os.path.join(print_path, key, name + '.dat')\n",
    "        \n",
    "        # open file and create data list\n",
    "        file = open(data_path, \"r\")\n",
    "        data = []\n",
    "        \n",
    "        # list of lines, of which all elemnts equal to space or enter are used as split, and then empty elements are deleted\n",
    "        list_of_lines = file.readlines()\n",
    "        for k in range(len(list_of_lines)):\n",
    "            data.extend(re.split(' |\\n', list_of_lines[k]))\n",
    "        data1 = np.array(list(filter(lambda x: x != '', data)))\n",
    "        \n",
    "        # data list reshaped as 2D array and added to plot\n",
    "        data1 = data1.reshape(86, 2)\n",
    "        plot_df[i+1] = data1[:, 1]\n",
    "        \n",
    "    # same procedure for eigenvalues to norm eigenvectors    \n",
    "    name = 'eigenvalues'\n",
    "    data_path = os.path.join(print_path, key, name + '.dat')\n",
    "    # open file and create data list\n",
    "    file = open(data_path, \"r\")\n",
    "    data = []\n",
    "    # list of lines, of which all elemnts equal to space or enter are used as split, and then empty elements are deleted\n",
    "    list_of_lines = file.readlines()\n",
    "    for k in range(len(list_of_lines)):\n",
    "        data.extend(re.split(' |\\n', list_of_lines[k]))\n",
    "        data1 = np.array(list(filter(lambda x: x != '', data)))\n",
    "    \n",
    "    # data list reshaped as 2D array and added to plot\n",
    "    data1 = data1.reshape(components, 2)\n",
    "    eigenvectors = data1\n",
    "    \n",
    "    # change dtype to float\n",
    "    plot_df = plot_df.astype('float64')\n",
    "    eigenvectors = eigenvectors.astype('float64')\n",
    "    #plot_df = plot_df.multiply(eigenvectors.T[1])\n",
    "    # norm between 0 - 1 if wanted\n",
    "    #plot_df = plot_df.subtract(plot_df.min()).divide((plot_df.max()-plot_df.min()))\n",
    "    plot.mult_func([1,2, 3, 4, 5, 6], [plot_df.T], linestyle=[\"solid\",\"solid\",  'dashed','dashed','dotted', 'dotted'], marker=[\"\",\"\",\"\",\"\",\"\",\"\",\"\"], subtitle=[\"\"], \n",
    "                   x_label=\"wavelength \\ nm\", y_label=\"eigenvectors\")"
   ]
  },
  {
   "cell_type": "markdown",
   "id": "colonial-nicholas",
   "metadata": {},
   "source": [
    "### Varimax Output"
   ]
  },
  {
   "cell_type": "code",
   "execution_count": 48,
   "id": "related-student",
   "metadata": {},
   "outputs": [],
   "source": [
    "print_path = \"C:\\\\Users\\\\crazy\\\\Documents\\\\Uni\\\\Masterarbeit\\\\Projekt\\\\Data\\\\PCA\""
   ]
  },
  {
   "cell_type": "code",
   "execution_count": 49,
   "id": "furnished-leeds",
   "metadata": {},
   "outputs": [
    {
     "name": "stdout",
     "output_type": "stream",
     "text": [
      "['Control_0M', 'Gdm2SO4_0.5M', 'Gdm2SO4_1M', 'Gdm2SO4_2M', 'Gdm2SO4_4M', 'Gdm2SO4_6M', 'Gdm2SO4_all', 'GdmCl_0.5M', 'GdmCl_1M', 'GdmCl_2M', 'GdmCl_4M', 'GdmCl_6M', 'GdmCl_all', 'GdmCl_all_lowTemp']\n"
     ]
    }
   ],
   "source": [
    "files = os.listdir(print_path)\n",
    "print(files)"
   ]
  },
  {
   "cell_type": "code",
   "execution_count": 50,
   "id": "deluxe-value",
   "metadata": {},
   "outputs": [],
   "source": [
    "liste = ['Gdm2SO4_2M']"
   ]
  },
  {
   "cell_type": "code",
   "execution_count": 51,
   "id": "complete-replica",
   "metadata": {},
   "outputs": [
    {
     "ename": "ValueError",
     "evalue": "cannot reshape array of size 34 into shape (12,2)",
     "output_type": "error",
     "traceback": [
      "\u001b[1;31m---------------------------------------------------------------------------\u001b[0m",
      "\u001b[1;31mValueError\u001b[0m                                Traceback (most recent call last)",
      "\u001b[1;32m<ipython-input-51-b9293e439212>\u001b[0m in \u001b[0;36m<module>\u001b[1;34m\u001b[0m\n\u001b[0;32m     24\u001b[0m \u001b[1;33m\u001b[0m\u001b[0m\n\u001b[0;32m     25\u001b[0m         \u001b[1;31m# data list reshaped as 2D array and added to plot\u001b[0m\u001b[1;33m\u001b[0m\u001b[1;33m\u001b[0m\u001b[1;33m\u001b[0m\u001b[0m\n\u001b[1;32m---> 26\u001b[1;33m         \u001b[0mdata\u001b[0m \u001b[1;33m=\u001b[0m \u001b[0mdata\u001b[0m\u001b[1;33m.\u001b[0m\u001b[0mreshape\u001b[0m\u001b[1;33m(\u001b[0m\u001b[0mlen\u001b[0m\u001b[1;33m(\u001b[0m\u001b[0mdata_all\u001b[0m\u001b[1;33m[\u001b[0m\u001b[0mkey\u001b[0m\u001b[1;33m]\u001b[0m\u001b[1;33m.\u001b[0m\u001b[0mt_list\u001b[0m\u001b[1;33m[\u001b[0m\u001b[1;33m:\u001b[0m\u001b[1;33m-\u001b[0m\u001b[1;36m3\u001b[0m\u001b[1;33m]\u001b[0m\u001b[1;33m)\u001b[0m\u001b[1;33m,\u001b[0m \u001b[1;36m2\u001b[0m\u001b[1;33m)\u001b[0m\u001b[1;33m\u001b[0m\u001b[1;33m\u001b[0m\u001b[0m\n\u001b[0m\u001b[0;32m     27\u001b[0m         \u001b[0mplot_df\u001b[0m\u001b[1;33m[\u001b[0m\u001b[0mi\u001b[0m\u001b[1;33m+\u001b[0m\u001b[1;36m1\u001b[0m\u001b[1;33m]\u001b[0m \u001b[1;33m=\u001b[0m \u001b[0mdata\u001b[0m\u001b[1;33m[\u001b[0m\u001b[1;33m:\u001b[0m\u001b[1;33m,\u001b[0m \u001b[1;36m1\u001b[0m\u001b[1;33m]\u001b[0m\u001b[1;33m\u001b[0m\u001b[1;33m\u001b[0m\u001b[0m\n\u001b[0;32m     28\u001b[0m \u001b[1;33m\u001b[0m\u001b[0m\n",
      "\u001b[1;31mValueError\u001b[0m: cannot reshape array of size 34 into shape (12,2)"
     ]
    }
   ],
   "source": [
    "for  key in liste:\n",
    "    # create DataFrame for plot\n",
    "    plot_df = pd.DataFrame(index=data_all[key].t_list[:-3])\n",
    "    \n",
    "    # number of components\n",
    "    components = 4\n",
    "    \n",
    "    # read files \n",
    "    for i in range(components):\n",
    "        \n",
    "        name = 'VARIMAX_loading_component' + str(i+1) \n",
    "        # get data path\n",
    "        data_path = os.path.join(print_path, key, name + '.dat')\n",
    "        \n",
    "        # open file and create data list\n",
    "        file = open(data_path, \"r\")\n",
    "        data = []\n",
    "        \n",
    "        # list of lines, of which all elemnts equal to space or enter are used as split, and then empty elements are deleted\n",
    "        list_of_lines = file.readlines()\n",
    "        for k in range(len(list_of_lines)):\n",
    "            data.extend(re.split(' |\\n', list_of_lines[k]))\n",
    "        data = np.array(list(filter(lambda x: x != '', data)))\n",
    "        \n",
    "        # data list reshaped as 2D array and added to plot\n",
    "        data = data.reshape(len(data_all[key].t_list[:-3]), 2)\n",
    "        plot_df[i+1] = data[:, 1]\n",
    "   \n",
    "    # change dtype to float\n",
    "    plot_df = plot_df.astype('float64')\n",
    "    # norm between 0 - 1 if wanted\n",
    "    plot_df = plot_df.subtract(plot_df.min()).divide((plot_df.max()-plot_df.min()))\n",
    "    plot.mult_func([1, 2, 3, 4], [plot_df.T], linestyle=[\"solid\",\"dashdot\",\"dashed\",\"dotted\"], marker=[\"o\",\"o\",\"o\",\"o\"], subtitle=[key], \n",
    "                   x_label=\"Temperature [°C]\", y_label=\"Abstract Concentration after Varimax Rotation\")"
   ]
  },
  {
   "cell_type": "code",
   "execution_count": 39,
   "id": "stable-rates",
   "metadata": {},
   "outputs": [
    {
     "name": "stdout",
     "output_type": "stream",
     "text": [
      "[5, 10, 20, 30, 40, 45, 50, 53, 56, 58, 60, 62, 64, 67, 70, 75, 80, 90] 65.7219345117269\n",
      "[20, 30, 40, 45, 50, 53, 56, 58, 60, 62, 64, 67, 70, 75, 80, 90]\n"
     ]
    }
   ],
   "source": [
    "print(data_all[key].t_list, melt_T[key])\n",
    "print(data_all[key].t_list[2:])"
   ]
  },
  {
   "cell_type": "markdown",
   "id": "comic-muslim",
   "metadata": {},
   "source": [
    "### ITTFA Output"
   ]
  },
  {
   "cell_type": "code",
   "execution_count": 40,
   "id": "distinct-craft",
   "metadata": {},
   "outputs": [],
   "source": [
    "print_path = \"C:\\\\Users\\\\crazy\\\\Documents\\\\Uni\\\\Masterarbeit\\\\Projekt\\\\Data\\\\PCA\""
   ]
  },
  {
   "cell_type": "code",
   "execution_count": 45,
   "id": "rocky-fisher",
   "metadata": {},
   "outputs": [
    {
     "data": {
      "application/vnd.jupyter.widget-view+json": {
       "model_id": "6ade45e528fd4aa89bd35e4b6a9fcbb3",
       "version_major": 2,
       "version_minor": 0
      },
      "text/plain": [
       "Canvas(toolbar=Toolbar(toolitems=[('Home', 'Reset original view', 'home', 'home'), ('Back', 'Back to previous …"
      ]
     },
     "metadata": {},
     "output_type": "display_data"
    },
    {
     "data": {
      "application/vnd.jupyter.widget-view+json": {
       "model_id": "f617381ffa724519b83c81d0d6189bda",
       "version_major": 2,
       "version_minor": 0
      },
      "text/plain": [
       "Canvas(toolbar=Toolbar(toolitems=[('Home', 'Reset original view', 'home', 'home'), ('Back', 'Back to previous …"
      ]
     },
     "metadata": {},
     "output_type": "display_data"
    }
   ],
   "source": [
    "key_list = ['4_M_GdmCl_10_mM_Mg']\n",
    "filename = 'GdmCl_4M_10_mM_Mg'\n",
    "wave_min = 230\n",
    "wave_max = 300 \n",
    "\n",
    "t_min = 21\n",
    "t_max = 75\n",
    "t_list = []\n",
    "\n",
    "for key in key_list:\n",
    "    t_list.extend(data_all[key].cd_df.loc[wave_min:wave_max,t_min:t_max].columns)\n",
    "    # extend for extra spectra\n",
    "    #t_list.insert(0, 10)\n",
    "    #t_list.extend([100, 110,120,130])\n",
    "\n",
    "# create DataFrame for plot\n",
    "conc_df = pd.DataFrame(index=t_list)\n",
    "spec_df = pd.DataFrame(index=data_all[key].cd_df.loc[wave_min:wave_max,t_min:t_max].index)\n",
    "\n",
    "# number of components\n",
    "components = 4\n",
    "    \n",
    "# read files, 1st rel_conectration, 2nd spectra of components and third error in rel concentrations\n",
    "for i in range(components):\n",
    "    name1 = 'rel_concentration_component' + str(i+1) \n",
    "    name2 = 'component' + str(i+1) \n",
    "    \n",
    "    # get data path\n",
    "    data_path1 = os.path.join(print_path, filename, name1 + '.dat')\n",
    "    data_path2 = os.path.join(print_path, filename, name2 + '.dat')\n",
    "        \n",
    "    # open file and create data list\n",
    "    file1 = open(data_path1, \"r\")\n",
    "    file2 = open(data_path2, \"r\")\n",
    "    data1 = []\n",
    "    data2 = []\n",
    "        \n",
    "    # list of lines, of which all elemnts equal to space or enter are used as split, and then empty elements are deleted\n",
    "    list_of_lines1 = file1.readlines()\n",
    "    list_of_lines2 = file2.readlines()\n",
    "    \n",
    "    for k in range(len(list_of_lines1)):\n",
    "        data1.extend(re.split(' |\\n', list_of_lines1[k]))\n",
    "    data1 = np.array(list(filter(lambda x: x != '', data1)))\n",
    "    \n",
    "    for j in range(len(list_of_lines2)):\n",
    "        data2.extend(re.split(' |\\n', list_of_lines2[j]))\n",
    "    data2 = np.array(list(filter(lambda x: x != '', data2)))\n",
    "    \n",
    "    # data list reshaped as 2D array and added to plot\n",
    "    data1 = data1.reshape(len(t_list), 2)\n",
    "    conc_df[i+1] = data1[:, 1]\n",
    "    \n",
    "    data2 = data2.reshape(len(spec_df.index), 2)\n",
    "    spec_df[i+1] = data2[:, 1]\n",
    "\n",
    "# read relative errors of concentrations\n",
    "name3 = 'error_in_rel_concentrations'\n",
    "data_path3 = os.path.join(print_path, filename, name3 + '.dat')\n",
    "file3 = open(data_path3, \"r\")\n",
    "data3 = []\n",
    "list_of_lines3 = file3.readlines()\n",
    "for j in range(len(list_of_lines3)):\n",
    "    data3.extend(re.split(' |\\n', list_of_lines3[j]))\n",
    "data3 = np.array(list(filter(lambda x: x != '', data3)))\n",
    "data3 = data3.reshape(components, 2)\n",
    "\n",
    "\n",
    "\n",
    "# change dtype to float\n",
    "conc_df = conc_df.astype('float64')\n",
    "spec_df = spec_df.astype('float64')\n",
    "\n",
    "# trying to calculate error\n",
    "data_measured = data_all[key].cd_df.loc[wave_min:wave_max,t_min:t_max]\n",
    "data_calculated = pd.DataFrame(np.matmul(spec_df.to_numpy(), conc_df.to_numpy().T), index=data_measured.index, columns=t_list)\n",
    "\n",
    "# renorm data\n",
    "data_measured = data_measured.divide(data_measured.max(axis=0) - data_measured.min(axis=0))\n",
    "data_calculated  = data_calculated.divide(data_calculated.max(axis=0) - data_calculated.min(axis=0))\n",
    "df_error = np.sqrt(np.square(data_measured.subtract(data_calculated.loc[:,20:90])).sum(axis=0)) / (wave_max - wave_min - 1)\n",
    "#print(df_error.max())\n",
    "# plot.mult_func([20], [data_measured, data_calculated], swap=True)  # plot both together\n",
    "\n",
    "# negative reverse and amplitude adaption\n",
    "#conc_df[2] = conc_df[2] * -1\n",
    "#spec_df[2] = spec_df[2] * -1\n",
    "#conc_df = conc_df * (data_all[key].cd_df.loc[247, 20]/spec_df.loc[247,1])\n",
    "#spec_df = spec_df * (data_all[key].cd_df.loc[247, 20]/spec_df.loc[247,1])\n",
    "# norm between 0 - 1 if wanted\n",
    "#conc_df = conc_df.subtract(conc_df.min()).divide((conc_df.max()-conc_df.min()))\n",
    "\n",
    "plot.mult_func(np.arange(1, components + 1), [conc_df.T], linestyle=[\"solid\",\"dashdot\",\"dashed\",\"dotted\"], subtitle=[filename], \n",
    "                x_label=\"temperature / °C\", y_label=\"relative population  / %\", \n",
    "               label=[*np.arange(1, components + 1), \"Melting temperature\"], title=\"Concentration of Components after ITTFA\",\n",
    "               marker=[\"o\", \"X\", \"s\"], \n",
    "               baseline=True, \n",
    "               x_max=75\n",
    "               #vertical_line=[melt_T[filename]]\n",
    "              )    \n",
    "    \n",
    "plot.mult_func(np.arange(1, components + 1), [spec_df.T], linestyle=[\"solid\",\"dashdot\",\"dashed\",\"dotted\"], marker=[\"\",\"\",\"\",\"\"], subtitle=[filename], \n",
    "                x_label=\"wavelength / nm\", title=\"Spectra of components from ITTFA\", baseline=True, label=np.arange(1, components + 1),\n",
    "               y_max = [spec_df.T.loc[components].max().max()], y_min = [spec_df.T.loc[components].min().min()], y_scaling=False)    "
   ]
  },
  {
   "cell_type": "code",
   "execution_count": 15,
   "id": "governing-population",
   "metadata": {},
   "outputs": [
    {
     "name": "stderr",
     "output_type": "stream",
     "text": [
      "C:\\Users\\crazy\\2Dcorrelation\\2Dcorrelation\\hotznplots.py:361: RuntimeWarning: More than 20 figures have been opened. Figures created through the pyplot interface (`matplotlib.pyplot.figure`) are retained until explicitly closed and may consume too much memory. (To control this warning, see the rcParam `figure.max_open_warning`).\n",
      "  fig = plt.figure(facecolor=backgroundcolor)  # create figure\n"
     ]
    },
    {
     "data": {
      "application/vnd.jupyter.widget-view+json": {
       "model_id": "156860e147db4f1aa025a6e6f03a66a2",
       "version_major": 2,
       "version_minor": 0
      },
      "text/plain": [
       "Canvas(toolbar=Toolbar(toolitems=[('Home', 'Reset original view', 'home', 'home'), ('Back', 'Back to previous …"
      ]
     },
     "metadata": {},
     "output_type": "display_data"
    }
   ],
   "source": [
    "plot.mult_func([1,3,2], [spec_df.T], marker=[\"\",\"\",\"\",\"\"], subtitle=[''], \n",
    "                x_label=\"wavelength /nm\", baseline=True, label=['S1','S2\\'', 'S3'], y_label='abstract ellipticity',\n",
    "              colors=['tab:red', 'tab:grey', 'tab:green'])  "
   ]
  },
  {
   "cell_type": "markdown",
   "id": "anonymous-commitment",
   "metadata": {},
   "source": [
    "Recalculation and TS-Plots"
   ]
  },
  {
   "cell_type": "code",
   "execution_count": 19,
   "id": "apparent-lightweight",
   "metadata": {},
   "outputs": [
    {
     "data": {
      "application/vnd.jupyter.widget-view+json": {
       "model_id": "004c3ca4c6c2403e9dd9b4f28a5be8a9",
       "version_major": 2,
       "version_minor": 0
      },
      "text/plain": [
       "Canvas(toolbar=Toolbar(toolitems=[('Home', 'Reset original view', 'home', 'home'), ('Back', 'Back to previous …"
      ]
     },
     "metadata": {},
     "output_type": "display_data"
    }
   ],
   "source": [
    "df = pd.DataFrame(np.matmul(spec_df.to_numpy(), conc_df.to_numpy().T), index=data_measured.index, columns=t_list)\n",
    "max_cd_value = df.abs().max().max()\n",
    "sync,  assync = ana.perturbation_moving_window(df, window_size=3)\n",
    "plot.heatmap(sync, x_min=[215], x_max=[300], x_label='temperature / °C', y_label='wavelength / nm',\n",
    "                 c_label=\"\",c_min=[-1e8], c_max=[1e8], title=\"\", subtitle=[''],\n",
    "                contour_lines=[-0.7*max_cd_value, -0.4*max_cd_value,  -0.2*max_cd_value,  0, 0.2*max_cd_value, \n",
    "                                0.4*max_cd_value, 0.7*max_cd_value],\n",
    "            hline=melt_T[filename])"
   ]
  },
  {
   "cell_type": "code",
   "execution_count": null,
   "id": "christian-october",
   "metadata": {},
   "outputs": [],
   "source": [
    "print(data3, df_error)"
   ]
  },
  {
   "cell_type": "code",
   "execution_count": null,
   "id": "floral-farmer",
   "metadata": {},
   "outputs": [],
   "source": [
    "print(data_all['GdmCl_1M'].t_list)"
   ]
  },
  {
   "cell_type": "markdown",
   "id": "departmental-sellers",
   "metadata": {},
   "source": [
    "*write numbers into excel*"
   ]
  },
  {
   "cell_type": "code",
   "execution_count": 20,
   "id": "chief-waters",
   "metadata": {},
   "outputs": [
    {
     "name": "stdout",
     "output_type": "stream",
     "text": [
      "C:\\Users\\crazy\\Documents\\Uni\\Masterarbeit\\Projekt\\Data\\PCA\\Control_0M\\output.xlsx\n"
     ]
    }
   ],
   "source": [
    "excel_path = print_path + \"\\\\\" + filename + \"\\\\output.xlsx\"\n",
    "print(excel_path)"
   ]
  },
  {
   "cell_type": "code",
   "execution_count": 32,
   "id": "ranging-preference",
   "metadata": {},
   "outputs": [],
   "source": [
    "print_path = \"C:\\\\Users\\\\crazy\\\\Documents\\\\Uni\\\\Masterarbeit\\\\Projekt\\\\Data\""
   ]
  },
  {
   "cell_type": "code",
   "execution_count": 35,
   "id": "greenhouse-threat",
   "metadata": {},
   "outputs": [],
   "source": [
    "\n",
    "for key in data_all.keys():\n",
    "    excel_path = print_path + \"\\\\\" + key + \".xlsx\"\n",
    "    with pd.ExcelWriter(excel_path, mode='w') as writer:  \n",
    "        data_all[key].absorb_df.to_excel(writer, sheet_name=\"concentration \")"
   ]
  },
  {
   "cell_type": "code",
   "execution_count": 21,
   "id": "hybrid-brooks",
   "metadata": {},
   "outputs": [],
   "source": [
    "with pd.ExcelWriter(excel_path, mode='w') as writer:  \n",
    "    conc_df.round(6).to_excel(writer, sheet_name=\"concentration \")\n",
    "    \n",
    "with pd.ExcelWriter(excel_path, mode='a') as writer:  \n",
    "    spec_df.round(6).to_excel(writer, sheet_name=\"spectra\")\n",
    "            "
   ]
  },
  {
   "cell_type": "code",
   "execution_count": 43,
   "id": "stable-million",
   "metadata": {},
   "outputs": [
    {
     "data": {
      "application/vnd.jupyter.widget-view+json": {
       "model_id": "9cb3c586e9284c35b5b8efc688a6c85b",
       "version_major": 2,
       "version_minor": 0
      },
      "text/plain": [
       "Canvas(toolbar=Toolbar(toolitems=[('Home', 'Reset original view', 'home', 'home'), ('Back', 'Back to previous …"
      ]
     },
     "metadata": {},
     "output_type": "display_data"
    }
   ],
   "source": [
    "plot.mult_func([2, 90], [data_measured.T, data_calculated.T], subtitle=['calculated vs measured spectra of 2nd component'], label=['measured', 'calculated'], x_label='Wavelength / nm')"
   ]
  },
  {
   "cell_type": "markdown",
   "id": "square-water",
   "metadata": {},
   "source": [
    "## Plots"
   ]
  },
  {
   "cell_type": "markdown",
   "id": "vocal-hazard",
   "metadata": {},
   "source": [
    "### Heat Maps"
   ]
  },
  {
   "cell_type": "code",
   "execution_count": 11,
   "id": "integrated-silence",
   "metadata": {},
   "outputs": [],
   "source": [
    "liste =  [\"Control_0M\", 'GdmCl_0.5M', 'GdmCl_1M', 'GdmCl_2M', 'GdmCl_4M', 'GdmCl_6M', 'Gdm2SO4_0.5M','Gdm2SO4_1M', 'Gdm2SO4_2M', 'Gdm2SO4_4M', 'Gdm2SO4_6M']"
   ]
  },
  {
   "cell_type": "code",
   "execution_count": 8,
   "id": "combined-shakespeare",
   "metadata": {},
   "outputs": [
    {
     "data": {
      "application/vnd.jupyter.widget-view+json": {
       "model_id": "2c1044961441474abcaae5193379ff6a",
       "version_major": 2,
       "version_minor": 0
      },
      "text/plain": [
       "Canvas(toolbar=Toolbar(toolitems=[('Home', 'Reset original view', 'home', 'home'), ('Back', 'Back to previous …"
      ]
     },
     "metadata": {},
     "output_type": "display_data"
    },
    {
     "data": {
      "application/vnd.jupyter.widget-view+json": {
       "model_id": "e3861e11919f4436802c58f509d72e8d",
       "version_major": 2,
       "version_minor": 0
      },
      "text/plain": [
       "Canvas(toolbar=Toolbar(toolitems=[('Home', 'Reset original view', 'home', 'home'), ('Back', 'Back to previous …"
      ]
     },
     "metadata": {},
     "output_type": "display_data"
    },
    {
     "data": {
      "application/vnd.jupyter.widget-view+json": {
       "model_id": "2c2a88fec43e4bd19696bbe28a58325f",
       "version_major": 2,
       "version_minor": 0
      },
      "text/plain": [
       "Canvas(toolbar=Toolbar(toolitems=[('Home', 'Reset original view', 'home', 'home'), ('Back', 'Back to previous …"
      ]
     },
     "metadata": {},
     "output_type": "display_data"
    },
    {
     "data": {
      "application/vnd.jupyter.widget-view+json": {
       "model_id": "4f0b574b7fb14cb593d85ce20418f4b5",
       "version_major": 2,
       "version_minor": 0
      },
      "text/plain": [
       "Canvas(toolbar=Toolbar(toolitems=[('Home', 'Reset original view', 'home', 'home'), ('Back', 'Back to previous …"
      ]
     },
     "metadata": {},
     "output_type": "display_data"
    },
    {
     "data": {
      "application/vnd.jupyter.widget-view+json": {
       "model_id": "2cc6dd5c4db941829a827aaa139b0370",
       "version_major": 2,
       "version_minor": 0
      },
      "text/plain": [
       "Canvas(toolbar=Toolbar(toolitems=[('Home', 'Reset original view', 'home', 'home'), ('Back', 'Back to previous …"
      ]
     },
     "metadata": {},
     "output_type": "display_data"
    }
   ],
   "source": [
    "for key in data_all.keys():\n",
    "    df = data_all[key].cd_df.loc[215:300]\n",
    "    max_cd_value = df.abs().max().max()\n",
    "    plot.heatmap(df, subtitle=[key], title=\"\", x_min=[215], x_max=[300], swap=True,\n",
    "                 x_label=r\"temperature $ / \\ ^{\\circ}C$\", y_label=r\"wavelength $/ \\ nm$\", c_label=r\"molar ellipticity \"\n",
    "                 r\"$ / \\ \\frac{deg \\times cm^{2}}{dmol}$\" , \n",
    "                 contour_lines=[-0.8*max_cd_value, -0.5*max_cd_value,  -0.25*max_cd_value,  0, 0.25*max_cd_value, 0.5*max_cd_value, 0.8*max_cd_value]\n",
    "                )"
   ]
  },
  {
   "cell_type": "code",
   "execution_count": null,
   "id": "spoken-magazine",
   "metadata": {},
   "outputs": [],
   "source": [
    "for key in data_all.keys():\n",
    "    plot.heatmap(data_all[key].cd_df, subtitle=[\"\"], title=str(key), x_min=[215], swap=True, y_label=\"Temperature [°C]\", x_label=\"Wavelength [nm]\")"
   ]
  },
  {
   "cell_type": "code",
   "execution_count": null,
   "id": "patient-proxy",
   "metadata": {},
   "outputs": [],
   "source": [
    "#plot.heatmap(*tuple(data_all.values()), subtitle=tuple(data_all.keys()), title=\"Cd-Values\", x_min=[220]*len(data_all), swap=False)"
   ]
  },
  {
   "cell_type": "markdown",
   "id": "acute-summit",
   "metadata": {},
   "source": [
    "### 3D surface plots"
   ]
  },
  {
   "cell_type": "code",
   "execution_count": 11,
   "id": "adopted-rally",
   "metadata": {},
   "outputs": [
    {
     "data": {
      "application/vnd.jupyter.widget-view+json": {
       "model_id": "10499f45e3ab45f484cc2c9ade3b448f",
       "version_major": 2,
       "version_minor": 0
      },
      "text/plain": [
       "Canvas(toolbar=Toolbar(toolitems=[('Home', 'Reset original view', 'home', 'home'), ('Back', 'Back to previous …"
      ]
     },
     "metadata": {},
     "output_type": "display_data"
    },
    {
     "name": "stderr",
     "output_type": "stream",
     "text": [
      "No handles with labels found to put in legend.\n"
     ]
    },
    {
     "data": {
      "application/vnd.jupyter.widget-view+json": {
       "model_id": "198ccfa0bca44de9a94dcaa83cf539f5",
       "version_major": 2,
       "version_minor": 0
      },
      "text/plain": [
       "Canvas(toolbar=Toolbar(toolitems=[('Home', 'Reset original view', 'home', 'home'), ('Back', 'Back to previous …"
      ]
     },
     "metadata": {},
     "output_type": "display_data"
    },
    {
     "name": "stderr",
     "output_type": "stream",
     "text": [
      "No handles with labels found to put in legend.\n"
     ]
    },
    {
     "data": {
      "application/vnd.jupyter.widget-view+json": {
       "model_id": "d69fa27bbd2741c99264d38ac6d9e2e2",
       "version_major": 2,
       "version_minor": 0
      },
      "text/plain": [
       "Canvas(toolbar=Toolbar(toolitems=[('Home', 'Reset original view', 'home', 'home'), ('Back', 'Back to previous …"
      ]
     },
     "metadata": {},
     "output_type": "display_data"
    },
    {
     "name": "stderr",
     "output_type": "stream",
     "text": [
      "No handles with labels found to put in legend.\n"
     ]
    },
    {
     "data": {
      "application/vnd.jupyter.widget-view+json": {
       "model_id": "b0f95a1efba2490aad33aed2a502274e",
       "version_major": 2,
       "version_minor": 0
      },
      "text/plain": [
       "Canvas(toolbar=Toolbar(toolitems=[('Home', 'Reset original view', 'home', 'home'), ('Back', 'Back to previous …"
      ]
     },
     "metadata": {},
     "output_type": "display_data"
    },
    {
     "name": "stderr",
     "output_type": "stream",
     "text": [
      "No handles with labels found to put in legend.\n"
     ]
    },
    {
     "data": {
      "application/vnd.jupyter.widget-view+json": {
       "model_id": "7c5226bff30448c7b7e892fb9a62f180",
       "version_major": 2,
       "version_minor": 0
      },
      "text/plain": [
       "Canvas(toolbar=Toolbar(toolitems=[('Home', 'Reset original view', 'home', 'home'), ('Back', 'Back to previous …"
      ]
     },
     "metadata": {},
     "output_type": "display_data"
    },
    {
     "name": "stderr",
     "output_type": "stream",
     "text": [
      "No handles with labels found to put in legend.\n"
     ]
    }
   ],
   "source": [
    "for key in data_all.keys():\n",
    "    df = data_all[key].cd_df.loc[215:300, 21:75]\n",
    "\n",
    "    plot.function3d(df, title=\"\", z_label=r\"molar CD \\ \"\n",
    "                 r\"$ \\frac{deg \\times cm^{2}}{dmol}$\",\n",
    "               x_label='wavelength \\ nm', y_label='temperature \\ °C')"
   ]
  },
  {
   "cell_type": "markdown",
   "id": "valid-brown",
   "metadata": {},
   "source": [
    "###  Function Plots "
   ]
  },
  {
   "cell_type": "markdown",
   "id": "opposed-grain",
   "metadata": {},
   "source": [
    "#### CD-Spectra Plot"
   ]
  },
  {
   "cell_type": "code",
   "execution_count": 41,
   "id": "acting-consciousness",
   "metadata": {},
   "outputs": [
    {
     "data": {
      "application/vnd.jupyter.widget-view+json": {
       "model_id": "3cb42db5632a4426bf235d3eb7564095",
       "version_major": 2,
       "version_minor": 0
      },
      "text/plain": [
       "Canvas(toolbar=Toolbar(toolitems=[('Home', 'Reset original view', 'home', 'home'), ('Back', 'Back to previous …"
      ]
     },
     "metadata": {},
     "output_type": "display_data"
    }
   ],
   "source": [
    "df =  data_all[\"Control_0M\"].cd_df\n",
    "\n",
    "plot.mult_func([20], [df], swap=True, x_min=215, x_max=300, marker=[''], subtitle=[''], baseline=True, colors=['tab:red'], x_label=\"wavelength / nm\", label=['20 °C'])"
   ]
  },
  {
   "cell_type": "code",
   "execution_count": 13,
   "id": "ruled-august",
   "metadata": {},
   "outputs": [
    {
     "name": "stderr",
     "output_type": "stream",
     "text": [
      "C:\\Users\\crazy\\2Dcorrelation\\2Dcorrelation\\hotznplots.py:361: RuntimeWarning: More than 20 figures have been opened. Figures created through the pyplot interface (`matplotlib.pyplot.figure`) are retained until explicitly closed and may consume too much memory. (To control this warning, see the rcParam `figure.max_open_warning`).\n",
      "  fig = plt.figure(facecolor=backgroundcolor)  # create figure\n"
     ]
    },
    {
     "data": {
      "application/vnd.jupyter.widget-view+json": {
       "model_id": "e388491832984c648ea878797a671011",
       "version_major": 2,
       "version_minor": 0
      },
      "text/plain": [
       "Canvas(toolbar=Toolbar(toolitems=[('Home', 'Reset original view', 'home', 'home'), ('Back', 'Back to previous …"
      ]
     },
     "metadata": {},
     "output_type": "display_data"
    }
   ],
   "source": [
    "wave_min = 215\n",
    "wave_max = 330\n",
    "\n",
    "plot.mult_func([230, 247, 275], [data_all['GdmCl_1M'].cd_df.loc[wave_min:wave_max]], \n",
    "               swap=False, x_label=\"Wavelength [nm]\", subtitle=[\"\"], \n",
    "               marker=['', '', '', '', '', ''], linestyle=['-', ':', ':', '', '-'], baseline=True, \n",
    "               label=['230','247','275'])"
   ]
  },
  {
   "cell_type": "code",
   "execution_count": 39,
   "id": "english-bhutan",
   "metadata": {},
   "outputs": [
    {
     "data": {
      "application/vnd.jupyter.widget-view+json": {
       "model_id": "7cd5ab38031f44c5843bc8ab56ce1810",
       "version_major": 2,
       "version_minor": 0
      },
      "text/plain": [
       "Canvas(toolbar=Toolbar(toolitems=[('Home', 'Reset original view', 'home', 'home'), ('Back', 'Back to previous …"
      ]
     },
     "metadata": {},
     "output_type": "display_data"
    }
   ],
   "source": [
    "wave_min = 215\n",
    "wave_max = 300\n",
    "\n",
    "key_list = ['Control_0M', 'Gdm2SO4_0.5M', 'Gdm2SO4_1M' ,'Gdm2SO4_2M', 'Gdm2SO4_4M', 'Gdm2SO4_6M', 'GdmCl_0.5M', 'GdmCl_1M', 'GdmCl_2M',  'GdmCl_4M', 'GdmCl_6M']\n",
    "cd_liste = []\n",
    "for key in key_list:\n",
    "    cd_liste.append(data_all[key].cd_df)\n",
    "    \n",
    "plot.mult_func([20], cd_liste, title=key, swap=True, x_min=wave_min, x_max=wave_max,\n",
    "                   x_label=\"Wavelength [nm]\", y_label=\"CD values [mdeg]\", subtitle=[\"\"],  baseline=True, label=key_list,\n",
    "               marker=[\"\"]*len(key_list)\n",
    "                  )\n",
    "\n"
   ]
  },
  {
   "cell_type": "code",
   "execution_count": 40,
   "id": "incredible-advocacy",
   "metadata": {},
   "outputs": [
    {
     "name": "stdout",
     "output_type": "stream",
     "text": [
      "68548120.26446313 19127675.77705771 3.5837140415502926\n"
     ]
    }
   ],
   "source": [
    "liste = np.zeros(len(key_list))\n",
    "for i in range(len(key_list)):\n",
    "    liste[i] = cd_liste[i].loc[220,20]\n",
    "print(np.mean(liste), np.std(liste), np.mean(liste)/np.std(liste))"
   ]
  },
  {
   "cell_type": "markdown",
   "id": "consolidated-mechanism",
   "metadata": {},
   "source": [
    "#### Max/Min Plots\n"
   ]
  },
  {
   "cell_type": "markdown",
   "id": "ruled-switzerland",
   "metadata": {},
   "source": [
    "multiple probes"
   ]
  },
  {
   "cell_type": "code",
   "execution_count": 17,
   "id": "patent-functionality",
   "metadata": {},
   "outputs": [],
   "source": [
    "excel_path = \"C:\\\\Users\\\\crazy\\\\Mega\\\\Uni\\\\Masterarbeit\\\\Projekt\\\\output.xlsx\""
   ]
  },
  {
   "cell_type": "code",
   "execution_count": 22,
   "id": "looking-virtue",
   "metadata": {},
   "outputs": [
    {
     "data": {
      "application/vnd.jupyter.widget-view+json": {
       "model_id": "ef1ebc9bfcb6472f8893fffb4a13da34",
       "version_major": 2,
       "version_minor": 0
      },
      "text/plain": [
       "Canvas(toolbar=Toolbar(toolitems=[('Home', 'Reset original view', 'home', 'home'), ('Back', 'Back to previous …"
      ]
     },
     "metadata": {},
     "output_type": "display_data"
    },
    {
     "data": {
      "application/vnd.jupyter.widget-view+json": {
       "model_id": "01825817221a46c79d03a0525e5c9d57",
       "version_major": 2,
       "version_minor": 0
      },
      "text/plain": [
       "Canvas(toolbar=Toolbar(toolitems=[('Home', 'Reset original view', 'home', 'home'), ('Back', 'Back to previous …"
      ]
     },
     "metadata": {},
     "output_type": "display_data"
    },
    {
     "data": {
      "application/vnd.jupyter.widget-view+json": {
       "model_id": "b079006fd9504d16989557c1e9f83217",
       "version_major": 2,
       "version_minor": 0
      },
      "text/plain": [
       "Canvas(toolbar=Toolbar(toolitems=[('Home', 'Reset original view', 'home', 'home'), ('Back', 'Back to previous …"
      ]
     },
     "metadata": {},
     "output_type": "display_data"
    },
    {
     "data": {
      "application/vnd.jupyter.widget-view+json": {
       "model_id": "2272b4ccbbea4b3998a0276f7bc3a58d",
       "version_major": 2,
       "version_minor": 0
      },
      "text/plain": [
       "Canvas(toolbar=Toolbar(toolitems=[('Home', 'Reset original view', 'home', 'home'), ('Back', 'Back to previous …"
      ]
     },
     "metadata": {},
     "output_type": "display_data"
    },
    {
     "data": {
      "application/vnd.jupyter.widget-view+json": {
       "model_id": "1a048fff83f04a7c899e6bd82def6046",
       "version_major": 2,
       "version_minor": 0
      },
      "text/plain": [
       "Canvas(toolbar=Toolbar(toolitems=[('Home', 'Reset original view', 'home', 'home'), ('Back', 'Back to previous …"
      ]
     },
     "metadata": {},
     "output_type": "display_data"
    }
   ],
   "source": [
    "# liste \n",
    "liste =  ['Control_0M', 'Gdm2SO4_0.5M', 'Gdm2SO4_2M', 'Gdm2SO4_4M',  'GdmCl_0.5M', 'GdmCl_2M', 'GdmCl_2M_24h' , 'GdmCl_4M']\n",
    "wave_min = 260\n",
    "wave_max =  300\n",
    "\n",
    "for key in data_all.keys():\n",
    "    plot_data =  ana.min_wave(data_all[key].cd_df.abs(), wave_min=wave_min, wave_max=wave_max)\n",
    "    plot_data = plot_data.drop(['Value'], axis=1)   \n",
    "    plot_data.rename(columns = {'Wavelength': key}, inplace = True)\n",
    "    plot.mult_func([key], [plot_data.T])\n",
    "    #with pd.ExcelWriter(excel_path, mode='a') as writer:  \n",
    "                    #plot_data.to_excel(writer, sheet_name=key)"
   ]
  },
  {
   "cell_type": "code",
   "execution_count": 50,
   "id": "elegant-conducting",
   "metadata": {},
   "outputs": [
    {
     "data": {
      "application/vnd.jupyter.widget-view+json": {
       "model_id": "26487b98e55b48459fdc966cef13dd75",
       "version_major": 2,
       "version_minor": 0
      },
      "text/plain": [
       "Canvas(toolbar=Toolbar(toolitems=[('Home', 'Reset original view', 'home', 'home'), ('Back', 'Back to previous …"
      ]
     },
     "metadata": {},
     "output_type": "display_data"
    }
   ],
   "source": [
    "wave_min = 260\n",
    "wave_max =  280\n",
    "key = \"Gdm2SO4_4M\"\n",
    "\n",
    "# First data you want to add to the plot\n",
    "plot_data =  ana.max_wave(data_all[key].cd_df, wave_min=wave_min, wave_max=wave_max)\n",
    "plot_data = plot_data.drop(['Wavelength'], axis=1)   \n",
    "plot_data.rename(columns = {'Value': key}, inplace = True)\n",
    "\n",
    "\n",
    "\n",
    "# other Data you want to add, if always same max/min values then loop would be possible\n",
    "#plot_data[\"GdmCl_4M\"] = ana.max_wave(data_all[\"GdmCl_4M\"].cd_df, wave_min=wave_min, wave_max=wave_max)[\"Value\"]\n",
    "#plot_data[\"Gdm2SO4_2M\"] = ana.max_wave(data_all[\"Gdm2SO4_2M\"].cd_df, wave_min=wave_min, wave_max=wave_max)[\"Value\"]\n",
    "#plot_data[\"GdmSCN_2M\"] 2= ana.max_wave(data_all[\"GdmSCN_2M\"].cd_df, wave_min=wave_min, wave_max=wave_max)[\"Value\"]\n",
    "\n",
    "\n",
    "plot.mult_func([key], [plot_data.T], subtitle=[\"\"], title=\"Max. CD Value between \" + str(wave_min) + 'nm - ' +str(wave_max) + \" nm\")"
   ]
  },
  {
   "cell_type": "markdown",
   "id": "innovative-comparative",
   "metadata": {},
   "source": [
    "one probe"
   ]
  },
  {
   "cell_type": "code",
   "execution_count": 25,
   "id": "metallic-detective",
   "metadata": {},
   "outputs": [
    {
     "data": {
      "application/vnd.jupyter.widget-view+json": {
       "model_id": "d12a7c5af1374b7f923d4646d6c5055a",
       "version_major": 2,
       "version_minor": 0
      },
      "text/plain": [
       "Canvas(toolbar=Toolbar(toolitems=[('Home', 'Reset original view', 'home', 'home'), ('Back', 'Back to previous …"
      ]
     },
     "metadata": {},
     "output_type": "display_data"
    },
    {
     "data": {
      "application/vnd.jupyter.widget-view+json": {
       "model_id": "5d6511808278408abdd6618f0e3e77e2",
       "version_major": 2,
       "version_minor": 0
      },
      "text/plain": [
       "Canvas(toolbar=Toolbar(toolitems=[('Home', 'Reset original view', 'home', 'home'), ('Back', 'Back to previous …"
      ]
     },
     "metadata": {},
     "output_type": "display_data"
    },
    {
     "data": {
      "application/vnd.jupyter.widget-view+json": {
       "model_id": "e3895042532f4b649471d00ffa3ff23d",
       "version_major": 2,
       "version_minor": 0
      },
      "text/plain": [
       "Canvas(toolbar=Toolbar(toolitems=[('Home', 'Reset original view', 'home', 'home'), ('Back', 'Back to previous …"
      ]
     },
     "metadata": {},
     "output_type": "display_data"
    },
    {
     "data": {
      "application/vnd.jupyter.widget-view+json": {
       "model_id": "beece346d1fb4b39a4bdf8e3f7afbc5b",
       "version_major": 2,
       "version_minor": 0
      },
      "text/plain": [
       "Canvas(toolbar=Toolbar(toolitems=[('Home', 'Reset original view', 'home', 'home'), ('Back', 'Back to previous …"
      ]
     },
     "metadata": {},
     "output_type": "display_data"
    },
    {
     "data": {
      "application/vnd.jupyter.widget-view+json": {
       "model_id": "fdc06e9dc0bb47a09fca5379fa7dc950",
       "version_major": 2,
       "version_minor": 0
      },
      "text/plain": [
       "Canvas(toolbar=Toolbar(toolitems=[('Home', 'Reset original view', 'home', 'home'), ('Back', 'Back to previous …"
      ]
     },
     "metadata": {},
     "output_type": "display_data"
    }
   ],
   "source": [
    "wave_min = 260\n",
    "wave_max =  300\n",
    "title = \"Max. CD-Value between \" + str(wave_min) + \"nm - \" + str(wave_max) +\"nm\"\n",
    "\n",
    "for key in data_all.keys():\n",
    "    plot_data =  ana.max_wave(data_all[key].cd_df, wave_min=wave_min, wave_max=wave_max)\n",
    "    plot.mult_func([\"Value\"], [plot_data.T], subtitle=[\"\"],  title=title, label=[key, ])\n",
    "\n"
   ]
  },
  {
   "cell_type": "markdown",
   "id": "working-institute",
   "metadata": {},
   "source": [
    "## Correlation Analyis"
   ]
  },
  {
   "cell_type": "markdown",
   "id": "beginning-comparative",
   "metadata": {},
   "source": [
    "<div class=\"alert alert-block alert-info\">\n",
    "<b>Info:</b> Noda, I. (2007). Two-dimensional correlation analysis useful for spectroscopy, chromatography, and other analytical measurements. Analytical Sciences, 23(2), 139–146. https://doi.org/10.2116/analsci.23.139\n",
    "</div>"
   ]
  },
  {
   "cell_type": "markdown",
   "id": "exterior-spider",
   "metadata": {},
   "source": [
    "<div class=\"alert alert-block alert-info\">\n",
    "<b>Info:</b> Noda, I. (2015). Techniques of two-dimensional (2D) correlation spectroscopy useful in life science research. Biomedical Spectroscopy and Imaging, 4(2), 109–127. https://doi.org/10.3233/bsi-150105\n",
    "</div>"
   ]
  },
  {
   "cell_type": "markdown",
   "id": "boxed-taste",
   "metadata": {},
   "source": [
    "### Homogenous Spectrum\n",
    "\n",
    "*optional: pareto scaling, auto scaling and Reference and projection*"
   ]
  },
  {
   "cell_type": "code",
   "execution_count": 23,
   "id": "medieval-lesbian",
   "metadata": {},
   "outputs": [
    {
     "data": {
      "application/vnd.jupyter.widget-view+json": {
       "model_id": "6cb608edf2a047e2a8e211b21fa9118f",
       "version_major": 2,
       "version_minor": 0
      },
      "text/plain": [
       "Canvas(toolbar=Toolbar(toolitems=[('Home', 'Reset original view', 'home', 'home'), ('Back', 'Back to previous …"
      ]
     },
     "metadata": {},
     "output_type": "display_data"
    },
    {
     "data": {
      "application/vnd.jupyter.widget-view+json": {
       "model_id": "67fac692125c4886b8141b83bdac53e4",
       "version_major": 2,
       "version_minor": 0
      },
      "text/plain": [
       "Canvas(toolbar=Toolbar(toolitems=[('Home', 'Reset original view', 'home', 'home'), ('Back', 'Back to previous …"
      ]
     },
     "metadata": {},
     "output_type": "display_data"
    }
   ],
   "source": [
    "# list of measurements on which correlation should be performed\n",
    "liste =  ['Control_0M']\n",
    "#'Control_0M', 'Gdm2SO4_0.5M', 'Gdm2SO4_2M', 'Gdm2SO4_4M', 'Gdm2SO4_6M', 'GdmCl_0.5M', 'GdmCl_2M' , 'GdmCl_4M', 'GdmCl_6M'\n",
    "# min and max temperature between which correlations should be analysed\n",
    "t_min = 20\n",
    "t_max = 90\n",
    "\n",
    "for key in liste:\n",
    "    \n",
    "    df =  data_all[key].cd_df.loc[215:300, t_min:t_max]\n",
    "    # get reference\n",
    "    ref = data_all[key].cd_df.loc[215:300, 20]\n",
    "\n",
    "    sync, assync =  ana.correlation(df, center=True)\n",
    "\n",
    "    plot.heatmap(sync,  title=\"\", c_label= \"\", subtitle=[\"Synchronous Spectrum\"], y_label=\"wavelength / nm\", x_label=\"wavelength / nm\", c_min=[-2e7], c_max=[2e7])\n",
    "    plot.heatmap(assync,  title=\"\", c_label= \"\", subtitle=[\"Assynchronous Spectrum\"], y_label=\"wavelength / nm\", x_label=\"wavelength / nm\", c_min=[-6e6], c_max=[6e6])"
   ]
  },
  {
   "cell_type": "code",
   "execution_count": 8,
   "id": "romance-sacrifice",
   "metadata": {},
   "outputs": [
    {
     "data": {
      "application/vnd.jupyter.widget-view+json": {
       "model_id": "c5f4a3e9baeb48e680eb991217cf9f93",
       "version_major": 2,
       "version_minor": 0
      },
      "text/plain": [
       "Canvas(toolbar=Toolbar(toolitems=[('Home', 'Reset original view', 'home', 'home'), ('Back', 'Back to previous …"
      ]
     },
     "metadata": {},
     "output_type": "display_data"
    },
    {
     "data": {
      "application/vnd.jupyter.widget-view+json": {
       "model_id": "12ca5ee9c2c74b099a355aff499bcd23",
       "version_major": 2,
       "version_minor": 0
      },
      "text/plain": [
       "Canvas(toolbar=Toolbar(toolitems=[('Home', 'Reset original view', 'home', 'home'), ('Back', 'Back to previous …"
      ]
     },
     "metadata": {},
     "output_type": "display_data"
    }
   ],
   "source": [
    "df = data_all[\"Control_0M\"].cd_df.loc[220:300]\n",
    "\n",
    "\n",
    "# getting index and shared column values\n",
    "idx = df.index\n",
    "col = df.columns\n",
    "\n",
    "# extend measurement points and to create delta_t\n",
    "t_list_extended = np.array(col)\n",
    "t_list_extended = np.insert(t_list_extended, 0, 2 * col[0] - col[1])\n",
    "t_list_extended = np.append(t_list_extended, 2 * col[-1] - col[-2])\n",
    "delta_t = t_list_extended[2:] - t_list_extended[:-2]\n",
    "\n",
    "# from average spectrum\n",
    "dyn = ana.centering(df)\n",
    "\n",
    "# transform to numpy array\n",
    "dyn = dyn.to_numpy()\n",
    "rows, cols = dyn.shape\n",
    "\n",
    "# creating Hilbert-Noda-matrix for async spectrum\n",
    "arr = np.array(col).reshape(1, cols) - np.array(col).reshape(cols, 1) + np.identity(cols)\n",
    "h_n_m = 1 / (2 * np.pi * arr)\n",
    "h_n_m = np.multiply(h_n_m, delta_t)\n",
    "h_n_m = (h_n_m - h_n_m.T) / 2  # change diag to zero\n",
    "\n",
    "# calculate synchronous and asynchronous spectrum with matrix\n",
    "sync_uneven = np.dot(np.multiply(dyn, delta_t), dyn.T) / (2 * (col[-1] - col[0]))\n",
    "\n",
    "assync_uneven = np.zeros((rows, rows))\n",
    "\n",
    "for i in range(rows):\n",
    "    for j in range(rows):\n",
    "                         \n",
    "                         hilbert_transform = np.dot(h_n_m, dyn[j])\n",
    "                         assync_uneven[i,j] = np.sum(np.multiply(dyn[i], hilbert_transform))\n",
    "                    \n",
    "assync_uneven = np.divide(assync_uneven, (2 * (col[-1] - col[0])))\n",
    "        \n",
    "#assync_uneven = np.dot(np.multiply(dyn, delta_t), np.dot(h_n_m, dyn.T)) / (2 * (col[-1] - col[0]))\n",
    "\n",
    "sync_uneven = pd.DataFrame(sync_uneven, index=idx, columns=idx).astype('float64')\n",
    "assync_uneven = pd.DataFrame(assync_uneven, index=idx, columns=idx).astype('float64')\n",
    "\n",
    "df2 = pd.DataFrame(np.dot(h_n_m, dyn.T))\n",
    "df2 = df2.astype('float64')\n",
    "plot.heatmap(sync_uneven,  title=\"\", c_label= \"\", subtitle=[\"Synchronous Spectrum\"], y_label=\"wavelength / nm\", x_label=\"wavelength / nm\" , \n",
    "             c_min=[-2e7], c_max=[2e7], contour_lines=[-1.5e7, -0.5e7, 0 , 0.5e7, 1.5e7])\n",
    "plot.heatmap(assync_uneven,  title=\"\", c_label= \"\", subtitle=[\"Assynchronous Spectrum\"], y_label=\"wavelength / nm\", x_label=\"wavelength / nm\", \n",
    "             c_min=[-4e5], c_max=[4e5], contour_lines=[-3e5, -1e5, 0, 1e5, 3e5])"
   ]
  },
  {
   "cell_type": "code",
   "execution_count": 8,
   "id": "robust-career",
   "metadata": {},
   "outputs": [],
   "source": [
    "# list of measurements on which correlation should be performed\n",
    "liste =  liste =  ['Control_0M', 'Gdm2SO4_0.5M', 'Gdm2SO4_1M', 'Gdm2SO4_2M', 'Gdm2SO4_4M', 'Gdm2SO4_6M', 'GdmCl_0.5M','GdmCl_1M', 'GdmCl_2M' , 'GdmCl_4M', 'GdmCl_6M']\n",
    "#'Control_0M', 'Gdm2SO4_0.5M', 'Gdm2SO4_2M', 'Gdm2SO4_4M', 'Gdm2SO4_6M', 'GdmCl_0.5M', 'GdmCl_2M' , 'GdmCl_4M', 'GdmCl_6M'\n",
    "# min and max temperature between which correlations should be analysed\n",
    "t_min = 20\n",
    "t_max = 90\n",
    "\n",
    "# collection of sync and assync plots\n",
    "sync_dic = {}\n",
    "async_dic ={}\n",
    "\n",
    "# max scaling values for upscaling correlation values with absorption spectrum\n",
    "max_scaling_value_sync = 0\n",
    "max_scaling_value_async = 0"
   ]
  },
  {
   "cell_type": "code",
   "execution_count": 13,
   "id": "parental-woman",
   "metadata": {},
   "outputs": [
    {
     "name": "stdout",
     "output_type": "stream",
     "text": [
      "21.655153097330512 19.74706886424258\n",
      "17.620500066410067 13.078106829060031\n",
      "21.681512325188503 17.851505419785063\n",
      "15.413401116773587 18.000943634882447\n",
      "15.670141784593056 14.60663529752312\n",
      "41.07190140273921 57.82619563211382\n",
      "18.813384065976916 16.17582137376178\n",
      "29.126890785532215 27.655453475152143\n",
      "18.931900180838223 17.903615828818012\n",
      "15.758076205693355 13.457740214862396\n",
      "29.33075923347965 23.182616496617985\n"
     ]
    }
   ],
   "source": [
    "# define witdh of additionaly absorbtion correlation band\n",
    "width = 5\n",
    "\n",
    "for key in liste:\n",
    "    # get reference\n",
    "    ref = data_all[key].cd_df.loc[215:300, 20]\n",
    "    \n",
    "    # sort out values with HT above 900\n",
    "    df = data_all[key].cd_df.loc[215:300, t_min:t_max]\n",
    "    \n",
    "    # add absorbance as extra row \n",
    "    for i in range(width):\n",
    "        df = df.append(data_all[key].absorb_df.loc[260, t_min:t_max], ignore_index = True)\n",
    "        ref[301+i] = data_all[key].absorb_df.loc[260, 20]\n",
    "    ref.index = np.arange(86 + width)\n",
    "    \n",
    "    # calculate\n",
    "    sync, assync = ana.correlation(df, ref_spec=[ref], center=False)\n",
    "    sync1, assync1 = ana.correlation(data_all[key].cd_df.loc[215:300, t_min:t_max], ref_spec=[data_all[key].cd_df.loc[215:300, 20]], scaling='pareto', center=False)\n",
    "        \n",
    "    # pareto scaling for CD-part\n",
    "    sync.loc[:85, :85] = sync1.to_numpy()\n",
    "    assync.loc[:85, :85] = assync1.to_numpy()\n",
    "    \n",
    "    # get the sacling the absorption values for sync, and assync and compare with max scaling value so far...\n",
    "    max_cd_value_sync = sync.abs().max().max()\n",
    "    max_abs_value_sync = sync.loc[86:].abs().max().max()\n",
    "    max_scaling_value_sync = (max_cd_value_sync / max_abs_value_sync)\n",
    "        \n",
    "    max_cd_value_async = assync.abs().max().max()\n",
    "    max_abs_value_async = assync.loc[86:].abs().max().max()\n",
    "    max_scaling_value_async = (max_cd_value_async / max_abs_value_async)\n",
    "        \n",
    "    print(max_scaling_value_sync, max_scaling_value_async)\n",
    "    # adding DataFrame to plot dics\n",
    "    sync_dic[key] = sync\n",
    "    async_dic[key] =  assync"
   ]
  },
  {
   "cell_type": "code",
   "execution_count": 14,
   "id": "animated-advertiser",
   "metadata": {},
   "outputs": [],
   "source": [
    "# max scaling values for upscaling correlation values with absorption spectrum\n",
    "max_scaling_value_sync = 21.655153097330512\n",
    "max_scaling_value_async = 19.74706886424258"
   ]
  },
  {
   "cell_type": "code",
   "execution_count": 15,
   "id": "elementary-mambo",
   "metadata": {},
   "outputs": [
    {
     "data": {
      "application/vnd.jupyter.widget-view+json": {
       "model_id": "d2662e016b494a9f85864af9fcb37840",
       "version_major": 2,
       "version_minor": 0
      },
      "text/plain": [
       "Canvas(toolbar=Toolbar(toolitems=[('Home', 'Reset original view', 'home', 'home'), ('Back', 'Back to previous …"
      ]
     },
     "metadata": {},
     "output_type": "display_data"
    },
    {
     "data": {
      "application/vnd.jupyter.widget-view+json": {
       "model_id": "fedfd5e71dd14f2594f7f837deb7562e",
       "version_major": 2,
       "version_minor": 0
      },
      "text/plain": [
       "Canvas(toolbar=Toolbar(toolitems=[('Home', 'Reset original view', 'home', 'home'), ('Back', 'Back to previous …"
      ]
     },
     "metadata": {},
     "output_type": "display_data"
    },
    {
     "data": {
      "application/vnd.jupyter.widget-view+json": {
       "model_id": "e56bcd2339b7489887ef89d22115acd7",
       "version_major": 2,
       "version_minor": 0
      },
      "text/plain": [
       "Canvas(toolbar=Toolbar(toolitems=[('Home', 'Reset original view', 'home', 'home'), ('Back', 'Back to previous …"
      ]
     },
     "metadata": {},
     "output_type": "display_data"
    },
    {
     "data": {
      "application/vnd.jupyter.widget-view+json": {
       "model_id": "072681d11698459ebc428000c573a4eb",
       "version_major": 2,
       "version_minor": 0
      },
      "text/plain": [
       "Canvas(toolbar=Toolbar(toolitems=[('Home', 'Reset original view', 'home', 'home'), ('Back', 'Back to previous …"
      ]
     },
     "metadata": {},
     "output_type": "display_data"
    },
    {
     "data": {
      "application/vnd.jupyter.widget-view+json": {
       "model_id": "3cc364d2f34e49ebb0b6b581439682a0",
       "version_major": 2,
       "version_minor": 0
      },
      "text/plain": [
       "Canvas(toolbar=Toolbar(toolitems=[('Home', 'Reset original view', 'home', 'home'), ('Back', 'Back to previous …"
      ]
     },
     "metadata": {},
     "output_type": "display_data"
    },
    {
     "data": {
      "application/vnd.jupyter.widget-view+json": {
       "model_id": "4083dfcda3d94652b5bd3d2e37c1319a",
       "version_major": 2,
       "version_minor": 0
      },
      "text/plain": [
       "Canvas(toolbar=Toolbar(toolitems=[('Home', 'Reset original view', 'home', 'home'), ('Back', 'Back to previous …"
      ]
     },
     "metadata": {},
     "output_type": "display_data"
    },
    {
     "data": {
      "application/vnd.jupyter.widget-view+json": {
       "model_id": "00921077fea647dca56e9871549ee72a",
       "version_major": 2,
       "version_minor": 0
      },
      "text/plain": [
       "Canvas(toolbar=Toolbar(toolitems=[('Home', 'Reset original view', 'home', 'home'), ('Back', 'Back to previous …"
      ]
     },
     "metadata": {},
     "output_type": "display_data"
    },
    {
     "data": {
      "application/vnd.jupyter.widget-view+json": {
       "model_id": "e280caa7b76048adbb9a9f701fccaa26",
       "version_major": 2,
       "version_minor": 0
      },
      "text/plain": [
       "Canvas(toolbar=Toolbar(toolitems=[('Home', 'Reset original view', 'home', 'home'), ('Back', 'Back to previous …"
      ]
     },
     "metadata": {},
     "output_type": "display_data"
    },
    {
     "data": {
      "application/vnd.jupyter.widget-view+json": {
       "model_id": "0bb90939640e40388d6f761d3b4ad004",
       "version_major": 2,
       "version_minor": 0
      },
      "text/plain": [
       "Canvas(toolbar=Toolbar(toolitems=[('Home', 'Reset original view', 'home', 'home'), ('Back', 'Back to previous …"
      ]
     },
     "metadata": {},
     "output_type": "display_data"
    },
    {
     "data": {
      "application/vnd.jupyter.widget-view+json": {
       "model_id": "fc4851ee31784671ba81f6d5abc06903",
       "version_major": 2,
       "version_minor": 0
      },
      "text/plain": [
       "Canvas(toolbar=Toolbar(toolitems=[('Home', 'Reset original view', 'home', 'home'), ('Back', 'Back to previous …"
      ]
     },
     "metadata": {},
     "output_type": "display_data"
    },
    {
     "data": {
      "application/vnd.jupyter.widget-view+json": {
       "model_id": "8bd2d5f931234903957ed7941d8ac57e",
       "version_major": 2,
       "version_minor": 0
      },
      "text/plain": [
       "Canvas(toolbar=Toolbar(toolitems=[('Home', 'Reset original view', 'home', 'home'), ('Back', 'Back to previous …"
      ]
     },
     "metadata": {},
     "output_type": "display_data"
    },
    {
     "data": {
      "application/vnd.jupyter.widget-view+json": {
       "model_id": "428c73481ecc438594b461ff9bef42a4",
       "version_major": 2,
       "version_minor": 0
      },
      "text/plain": [
       "Canvas(toolbar=Toolbar(toolitems=[('Home', 'Reset original view', 'home', 'home'), ('Back', 'Back to previous …"
      ]
     },
     "metadata": {},
     "output_type": "display_data"
    },
    {
     "data": {
      "application/vnd.jupyter.widget-view+json": {
       "model_id": "29ac5b6563df4c10b9f21d8dc6ccdddf",
       "version_major": 2,
       "version_minor": 0
      },
      "text/plain": [
       "Canvas(toolbar=Toolbar(toolitems=[('Home', 'Reset original view', 'home', 'home'), ('Back', 'Back to previous …"
      ]
     },
     "metadata": {},
     "output_type": "display_data"
    },
    {
     "data": {
      "application/vnd.jupyter.widget-view+json": {
       "model_id": "f631d5597e1348dd935ee619e8ff2ff3",
       "version_major": 2,
       "version_minor": 0
      },
      "text/plain": [
       "Canvas(toolbar=Toolbar(toolitems=[('Home', 'Reset original view', 'home', 'home'), ('Back', 'Back to previous …"
      ]
     },
     "metadata": {},
     "output_type": "display_data"
    },
    {
     "data": {
      "application/vnd.jupyter.widget-view+json": {
       "model_id": "2f4748f9e7f54c358a9675efe285ed6a",
       "version_major": 2,
       "version_minor": 0
      },
      "text/plain": [
       "Canvas(toolbar=Toolbar(toolitems=[('Home', 'Reset original view', 'home', 'home'), ('Back', 'Back to previous …"
      ]
     },
     "metadata": {},
     "output_type": "display_data"
    },
    {
     "data": {
      "application/vnd.jupyter.widget-view+json": {
       "model_id": "0bf676c3c5cf4ff497c3bd65ade79960",
       "version_major": 2,
       "version_minor": 0
      },
      "text/plain": [
       "Canvas(toolbar=Toolbar(toolitems=[('Home', 'Reset original view', 'home', 'home'), ('Back', 'Back to previous …"
      ]
     },
     "metadata": {},
     "output_type": "display_data"
    },
    {
     "data": {
      "application/vnd.jupyter.widget-view+json": {
       "model_id": "2b68e1edf40f412d86083201b42ce9a4",
       "version_major": 2,
       "version_minor": 0
      },
      "text/plain": [
       "Canvas(toolbar=Toolbar(toolitems=[('Home', 'Reset original view', 'home', 'home'), ('Back', 'Back to previous …"
      ]
     },
     "metadata": {},
     "output_type": "display_data"
    },
    {
     "data": {
      "application/vnd.jupyter.widget-view+json": {
       "model_id": "ff3edab42c634faaaa9177189b0b7d6c",
       "version_major": 2,
       "version_minor": 0
      },
      "text/plain": [
       "Canvas(toolbar=Toolbar(toolitems=[('Home', 'Reset original view', 'home', 'home'), ('Back', 'Back to previous …"
      ]
     },
     "metadata": {},
     "output_type": "display_data"
    },
    {
     "data": {
      "application/vnd.jupyter.widget-view+json": {
       "model_id": "bba26aab25db4b34bbb6c692d2ed28a3",
       "version_major": 2,
       "version_minor": 0
      },
      "text/plain": [
       "Canvas(toolbar=Toolbar(toolitems=[('Home', 'Reset original view', 'home', 'home'), ('Back', 'Back to previous …"
      ]
     },
     "metadata": {},
     "output_type": "display_data"
    },
    {
     "data": {
      "application/vnd.jupyter.widget-view+json": {
       "model_id": "d499829556d442e19a70d64494729b99",
       "version_major": 2,
       "version_minor": 0
      },
      "text/plain": [
       "Canvas(toolbar=Toolbar(toolitems=[('Home', 'Reset original view', 'home', 'home'), ('Back', 'Back to previous …"
      ]
     },
     "metadata": {},
     "output_type": "display_data"
    },
    {
     "data": {
      "application/vnd.jupyter.widget-view+json": {
       "model_id": "0928c149004b4076af2d57c3d42dea1a",
       "version_major": 2,
       "version_minor": 0
      },
      "text/plain": [
       "Canvas(toolbar=Toolbar(toolitems=[('Home', 'Reset original view', 'home', 'home'), ('Back', 'Back to previous …"
      ]
     },
     "metadata": {},
     "output_type": "display_data"
    },
    {
     "data": {
      "application/vnd.jupyter.widget-view+json": {
       "model_id": "9d1e7a910f0f45738f50c579e861c572",
       "version_major": 2,
       "version_minor": 0
      },
      "text/plain": [
       "Canvas(toolbar=Toolbar(toolitems=[('Home', 'Reset original view', 'home', 'home'), ('Back', 'Back to previous …"
      ]
     },
     "metadata": {},
     "output_type": "display_data"
    }
   ],
   "source": [
    "for key in sync_dic.keys():\n",
    "    max_cd_value = sync_dic[key].abs().max().max()\n",
    "    sync_dic[key].loc[86:] =  sync_dic[key].loc[86:] * max_scaling_value_sync\n",
    "    sync_dic[key].loc[:85,86:] = sync_dic[key].loc[:85,86:] * max_scaling_value_sync\n",
    "    plot.heatmap(sync_dic[key],  title='', subtitle=[\"\" ], y_label=\"Wavelength 1 [nm]\", \n",
    "                 x_label=\"Wavelength 2 [nm]\", c_label=\"\", c_min=[-max_cd_value], c_max=[max_cd_value], hline=85, vline=85,\n",
    "                 contour_lines=[-0.8*max_cd_value,-0.5*max_cd_value, -0.3*max_cd_value, -0.15*max_cd_value, 0, 0.15*max_cd_value, 0.3*max_cd_value, 0.5*max_cd_value, 0.8*max_cd_value])\n",
    "    \n",
    "    max_cd_value = async_dic[key].abs().max().max()\n",
    "    async_dic[key].loc[86:] =  async_dic[key].loc[86:] * max_scaling_value_async\n",
    "    async_dic[key].loc[:85,86:] = async_dic[key].loc[:85,86:] * max_scaling_value_async\n",
    "    plot.heatmap( async_dic[key], title=\"\", subtitle=[ \"\" ], y_label=\"Wavelength 1 [nm]\", \n",
    "                 x_label=\"Wavelength 2 [nm]\",  c_label=\"\", hline=85, vline=85,\n",
    "                 contour_lines=[-0.8*max_cd_value, -0.5*max_cd_value,  -0.3*max_cd_value, -0.15*max_cd_value, 0, 0.15*max_cd_value, 0.3*max_cd_value, \n",
    "                                0.5*max_cd_value, 0.8*max_cd_value] )"
   ]
  },
  {
   "cell_type": "markdown",
   "id": "universal-punch",
   "metadata": {},
   "source": [
    "### Tools for Analysis"
   ]
  },
  {
   "cell_type": "markdown",
   "id": "according-shaft",
   "metadata": {},
   "source": [
    "<div class=\"alert alert-block alert-info\">\n",
    "<b>Info:</b> Change 'key' to wanted measurement!\n",
    "</div>"
   ]
  },
  {
   "cell_type": "code",
   "execution_count": null,
   "id": "marine-warehouse",
   "metadata": {},
   "outputs": [],
   "source": [
    "key1 = \"GdmCl_2M\"\n",
    "key2 = \"GdmCl_2M_24h\"\n",
    "ref1 = data_all[key1].cd_df.loc[:, 20]\n",
    "ref2 = data_all[key2].cd_df.loc[:, 20]\n",
    "sync, assync = ana.correlation(data_all[key1].cd_df.loc[:, :45], data_all[key2].cd_df.loc[:, :45], scaling='pareto', ref_spec=[ref1, ref2], center=False)"
   ]
  },
  {
   "cell_type": "code",
   "execution_count": null,
   "id": "adjusted-azerbaijan",
   "metadata": {},
   "outputs": [],
   "source": [
    "plot.heatmap(sync, assync,  title=str(key1) + str(key2), subtitle=[\"Synchronous Spectrum\", \"Asynchronous Spectrum\"], x_min=[210, 210], y_min=[210, 210],\n",
    "                y_label= str(key1) + \" WL[nm]\", x_label= str(key2) + \" WL[nm]\")"
   ]
  },
  {
   "cell_type": "markdown",
   "id": "contrary-techno",
   "metadata": {},
   "source": [
    "**Diagonal Analysis**"
   ]
  },
  {
   "cell_type": "code",
   "execution_count": null,
   "id": "fifteen-hypothetical",
   "metadata": {},
   "outputs": [],
   "source": [
    "arr = sync.to_numpy()\n",
    "diag =  pd.DataFrame(arr.diagonal(), index=sync.index)\n",
    "wave =  list(sync.index)[:-1]\n",
    "diff =  pd.DataFrame(np.diff(arr.diagonal()), index=wave)\n",
    "plot.mult_func([0], [diff.T, diag.T], baseline=True, x_label=\"wavelength [nm]\", subtitle=[\"Diagonal with differential\"], label=[\"CD Values\", \"Differential\"], x_min=210)"
   ]
  },
  {
   "cell_type": "markdown",
   "id": "premium-rates",
   "metadata": {},
   "source": [
    "**Line Analyis**"
   ]
  },
  {
   "cell_type": "code",
   "execution_count": null,
   "id": "reduced-raise",
   "metadata": {},
   "outputs": [],
   "source": [
    "wavelength=247\n",
    "# adjust wavelength to shift line analysis*"
   ]
  },
  {
   "cell_type": "code",
   "execution_count": null,
   "id": "willing-identity",
   "metadata": {},
   "outputs": [],
   "source": [
    "arr = sync.loc[wavelength, :].to_numpy()\n",
    "df = pd.DataFrame(arr, index=sync.index).T\n",
    "diff = pd.DataFrame(np.diff(arr), index=list(sync.index)[:-1]).T\n",
    "plot.mult_func([0], [df, diff], x_label=\"wavelength [nm]\", baseline=True, x_min=210, subtitle=[\"Synchronous Line Analysis\"], label=[wavelength, \"derivative\"])"
   ]
  },
  {
   "cell_type": "markdown",
   "id": "sensitive-dakota",
   "metadata": {},
   "source": [
    "**Excel**"
   ]
  },
  {
   "cell_type": "code",
   "execution_count": 106,
   "id": "second-boring",
   "metadata": {},
   "outputs": [],
   "source": [
    "excel_path = \"C:\\\\Users\\\\crazy\\\\Mega\\\\Uni\\\\Masterarbeit\\\\Projekt\\\\output.xlsx\""
   ]
  },
  {
   "cell_type": "markdown",
   "id": "sapphire-clinic",
   "metadata": {},
   "source": [
    "create new document"
   ]
  },
  {
   "cell_type": "code",
   "execution_count": 109,
   "id": "swiss-knitting",
   "metadata": {},
   "outputs": [],
   "source": [
    "with pd.ExcelWriter(excel_path, mode='w') as writer:  \n",
    "\n",
    "                    comp2_conc_df.round(2).to_excel(writer, sheet_name=\"output \")"
   ]
  },
  {
   "cell_type": "markdown",
   "id": "loaded-trick",
   "metadata": {},
   "source": [
    "Homgeneous Spectra Values"
   ]
  },
  {
   "cell_type": "code",
   "execution_count": null,
   "id": "contrary-parts",
   "metadata": {},
   "outputs": [],
   "source": [
    "# liste \n",
    "liste =  ['Control_0M', 'Gdm2SO4_0.5M', 'Gdm2SO4_2M', 'Gdm2SO4_4M', 'Gdm2SO4_6M', 'GdmCl_0.5M', 'GdmCl_2M', 'GdmCl_2M_24h' , 'GdmCl_4M', 'GdmCl_6M', 'Urea_2M']\n",
    "t_min = 20\n",
    "t_max = 90\n",
    "\n",
    "\n",
    "\n",
    "for key in liste:\n",
    "    # get reference\n",
    "    ref = data_all[key].cd_df.loc[:, 20]\n",
    "    # sort out values with HT above 900\n",
    "    df = data_all[key].cd_df\n",
    "    # calculate\n",
    "    sync1, assync1 = ana.correlation(df.loc[:,:45], scaling='pareto', ref_spec=[ref], center=False)\n",
    "    df1 = sync1.loc[[212, 215, 218, 221, 223, 229, 247, 261, 265, 268, 274, 281, 284, 294, 305, 312],[212, 215, 218, 221, 223, 229, 247, 261, 265, 268, 274, 281, 284, 294, 305, 312]].round(3)\n",
    "    df2 = assync1.loc[[212, 215, 218, 221, 223, 229, 247, 261, 265, 268, 274, 281, 284, 294, 305, 312],[212, 215, 218, 221, 223, 229, 247, 261, 265, 268, 274, 281, 284, 294, 305, 312]].round(3)\n",
    "    with pd.ExcelWriter(excel_path, mode='a') as writer:  \n",
    "                    df1.to_excel(writer, sheet_name=key  + \" sync\")\n",
    "                    df2.to_excel(writer, sheet_name=key  + \" async\")"
   ]
  },
  {
   "cell_type": "markdown",
   "id": "tough-meditation",
   "metadata": {},
   "source": [
    "Heterogeneous Spectra Values"
   ]
  },
  {
   "cell_type": "code",
   "execution_count": null,
   "id": "hispanic-struggle",
   "metadata": {},
   "outputs": [],
   "source": [
    "# Liste\n",
    "\n",
    "#plot_list = [\"Control_0M\", 'GdmCl_0.5M', 'GdmCl_2M',  'GdmCl_4M', 'GdmCl_6M']\n",
    "plot_list = [\"Control_0M\", 'Gdm2SO4_0.5M', 'Gdm2SO4_2M',  'Gdm2SO4_4M', 'Gdm2SO4_6M']\n",
    "anzahl = len(plot_list)\n",
    "t_min = 20 \n",
    "t_max = 90\n",
    "\n",
    "\n",
    "# calculation \n",
    "for i in range(anzahl):\n",
    "    for j in range(anzahl):\n",
    "        if i >= j:\n",
    "            continue\n",
    "        df1 = data_all[plot_list[i]].cd_df\n",
    "        df2 = data_all[plot_list[j]].cd_df\n",
    "        ref1 = df1.loc[:, 20]\n",
    "        ref2 = df2.loc[:, 20]\n",
    "        sync1, assync1 = ana.correlation(df1.loc[:, :t_max], df2.loc[:, :t_max], scaling='pareto', ref_spec=[ref1, ref2], center=False)\n",
    "        df1 = sync1.loc[[212, 215, 218, 221, 223, 229, 247, 261, 265, 268, 274, 281, 284, 294, 305, 312],[212, 215, 218, 221, 223, 229, 247, 261, 265, 268, 274, 281, 284, 294, 305, 312]].round(3)\n",
    "        df2 = assync1.loc[[212, 215, 218, 221, 223, 229, 247, 261, 265, 268, 274, 281, 284, 294, 305, 312],[212, 215, 218, 221, 223, 229, 247, 261, 265, 268, 274, 281, 284, 294, 305, 312]].round(3)\n",
    "        with pd.ExcelWriter(excel_path, mode='a') as writer:  \n",
    "            df1.to_excel(writer, sheet_name=plot_list[i] + \" vs.  \" + plot_list[j]  + \" sync\")\n",
    "            df2.to_excel(writer, sheet_name=plot_list[i] + \" vs.  \" + plot_list[j]  + \" async\")\n",
    "            \n",
    "# extra calculation for 2M vs 2M_24h            \n",
    "\"\"\"df1 = data_all[\"GdmCl_2M\"].cd_df\n",
    "df2 = data_all[\"GdmCl_2M_24h\"].cd_df\n",
    "ref1 = df1.loc[:, 20]\n",
    "ref2 = df2.loc[:, 20]\n",
    "sync1, assync1 = ana.correlation(df1.loc[:, :t_max], df2.loc[:, :t_max], scaling='pareto', ref_spec=[ref1, ref2], center=False)\n",
    "df1 = sync1.loc[[212, 215, 218, 221, 223, 229, 247, 261, 265, 268, 274, 281, 284, 294, 305, 312],[212, 215, 218, 221, 223, 229, 247, 261, 265, 268, 274, 281, 284, 294, 305, 312]].round(3)\n",
    "df2 = assync1.loc[[212, 215, 218, 221, 223, 229, 247, 261, 265, 268, 274, 281, 284, 294, 305, 312],[212, 215, 218, 221, 223, 229, 247, 261, 265, 268, 274, 281, 284, 294, 305, 312]].round(3)\n",
    "with pd.ExcelWriter(excel_path, mode='a') as writer:  \n",
    "    df1.to_excel(writer, sheet_name=\"2M vs. 2M 24h sync\")\n",
    "    df2.to_excel(writer, sheet_name=\"2M vs. 2M 24h async\")\"\"\""
   ]
  },
  {
   "cell_type": "code",
   "execution_count": null,
   "id": "sustained-powder",
   "metadata": {},
   "outputs": [],
   "source": [
    "arr = assync.loc[wavelength, :].to_numpy()\n",
    "df = pd.DataFrame(arr, index=assync.index).T\n",
    "diff = pd.DataFrame(np.diff(arr), index=list(assync.index)[:-1]).T\n",
    "plot.mult_func([0], [df, diff], x_label=\"wavelength [nm]\", baseline=True, x_min=210, subtitle=[\"synchronous Line Analysis\"])"
   ]
  },
  {
   "cell_type": "markdown",
   "id": "medical-latitude",
   "metadata": {},
   "source": [
    "### Heterogenous Spectrum\n",
    "\n",
    "*with pareto scaling and Control Measurement as Reference*"
   ]
  },
  {
   "cell_type": "code",
   "execution_count": null,
   "id": "honey-folks",
   "metadata": {},
   "outputs": [],
   "source": [
    "print(data_all.keys())"
   ]
  },
  {
   "cell_type": "code",
   "execution_count": null,
   "id": "wrong-binding",
   "metadata": {},
   "outputs": [],
   "source": [
    "#plot_list = [\"Control_0M\", 'GdmCl_0.5M', 'GdmCl_2M',  'GdmCl_4M', 'GdmCl_6M']\n",
    "plot_list = [\"Control_0M\", 'Gdm2SO4_0.5M', 'Gdm2SO4_2M',  'Gdm2SO4_4M', 'Gdm2SO4_6M']\n",
    "anzahl = len(plot_list)\n",
    "t_min = 20 \n",
    "t_max = 90"
   ]
  },
  {
   "cell_type": "code",
   "execution_count": null,
   "id": "trying-connectivity",
   "metadata": {},
   "outputs": [],
   "source": [
    "for i in range(anzahl):\n",
    "    for j in range(anzahl):\n",
    "        if i >= j:\n",
    "            continue\n",
    "        title = \"Heterogenoues 2D Correlation between \" + plot_list[i] + \" \" + plot_list[j]\n",
    "        df1 = data_all[plot_list[i]].cd_df\n",
    "        df2 = data_all[plot_list[j]].cd_df\n",
    "        ref1 = df1.loc[:, 20]\n",
    "        ref2 = df2.loc[:, 20]\n",
    "        sync1, assync1 = ana.correlation(df1, df2, scaling='pareto', ref_spec=[ref1, ref2], center=False)\n",
    "        sync2, assync2 = ana.correlation(df1, df2, scaling='auto', ref_spec=[ref1, ref2], center=False)\n",
    "        plot.heatmap(sync1, assync1, title=title, subtitle=[\"Synchronous Spectrum\", \"Asynchronous Spectrum\", \"Synchronous Spectrum\", \"Asynchronous Spectrum\"], x_min=[210, 210, 210, 210], y_min=[210, 210, 210, 210],\n",
    "                y_label= plot_list[i] + \" WL[nm]\", x_label= plot_list[j] + \" WL[nm]\")"
   ]
  },
  {
   "cell_type": "markdown",
   "id": "accepting-bearing",
   "metadata": {
    "toc-hr-collapsed": true
   },
   "source": [
    "### Perturbation-Correlation Moving-Window 2D Correlation Spectroscopy"
   ]
  },
  {
   "cell_type": "markdown",
   "id": "killing-london",
   "metadata": {},
   "source": [
    "*different window size can be choosen*"
   ]
  },
  {
   "cell_type": "code",
   "execution_count": 12,
   "id": "naughty-fetish",
   "metadata": {},
   "outputs": [],
   "source": [
    "liste = ['1_M_GdmCl_100_mM_Mg',  '4_M_GdmCl_100_mM_Mg', '4_M_GdmCl_10_mM_Mg', '4_M_GdmCl_400_mM_Mg']"
   ]
  },
  {
   "cell_type": "code",
   "execution_count": 17,
   "id": "waiting-picture",
   "metadata": {},
   "outputs": [
    {
     "data": {
      "application/vnd.jupyter.widget-view+json": {
       "model_id": "28106588f21e4c48bda3bcca55f09a47",
       "version_major": 2,
       "version_minor": 0
      },
      "text/plain": [
       "Canvas(toolbar=Toolbar(toolitems=[('Home', 'Reset original view', 'home', 'home'), ('Back', 'Back to previous …"
      ]
     },
     "metadata": {},
     "output_type": "display_data"
    },
    {
     "data": {
      "application/vnd.jupyter.widget-view+json": {
       "model_id": "0242cd07da0d47278b8649c1de23bded",
       "version_major": 2,
       "version_minor": 0
      },
      "text/plain": [
       "Canvas(toolbar=Toolbar(toolitems=[('Home', 'Reset original view', 'home', 'home'), ('Back', 'Back to previous …"
      ]
     },
     "metadata": {},
     "output_type": "display_data"
    },
    {
     "data": {
      "application/vnd.jupyter.widget-view+json": {
       "model_id": "1626398a31ec47e9adf0d0707a3fa9ed",
       "version_major": 2,
       "version_minor": 0
      },
      "text/plain": [
       "Canvas(toolbar=Toolbar(toolitems=[('Home', 'Reset original view', 'home', 'home'), ('Back', 'Back to previous …"
      ]
     },
     "metadata": {},
     "output_type": "display_data"
    },
    {
     "data": {
      "application/vnd.jupyter.widget-view+json": {
       "model_id": "7b2a11632e0a4659bfb4aad6c8a95e09",
       "version_major": 2,
       "version_minor": 0
      },
      "text/plain": [
       "Canvas(toolbar=Toolbar(toolitems=[('Home', 'Reset original view', 'home', 'home'), ('Back', 'Back to previous …"
      ]
     },
     "metadata": {},
     "output_type": "display_data"
    }
   ],
   "source": [
    "for key in liste:\n",
    "    df = data_all[key].cd_df.loc[230:300]\n",
    "    max_cd_value = df.abs().max().max()\n",
    "    sync, assync, = ana.perturbation_moving_window(df, window_size=10)\n",
    "    plot.heatmap(sync, x_min=[230], x_max=[300], \n",
    "                 c_label=\"\", title=\"\", subtitle=[key],\n",
    "                 c_max = [0.5e7], c_min=[-0.5e7],\n",
    "                #contour_lines=[-0.7*max_cd_value, -0.4*max_cd_value,  -0.2*max_cd_value,  0, 0.2*max_cd_value,  0.4*max_cd_value, 0.7*max_cd_value],\n",
    "                hline=melt_T[key])"
   ]
  },
  {
   "cell_type": "markdown",
   "id": "fallen-newton",
   "metadata": {},
   "source": [
    "## Absorbance Values"
   ]
  },
  {
   "cell_type": "code",
   "execution_count": 31,
   "id": "compact-episode",
   "metadata": {},
   "outputs": [
    {
     "data": {
      "application/vnd.jupyter.widget-view+json": {
       "model_id": "cd180feac59846c39644cd974fce0722",
       "version_major": 2,
       "version_minor": 0
      },
      "text/plain": [
       "Canvas(toolbar=Toolbar(toolitems=[('Home', 'Reset original view', 'home', 'home'), ('Back', 'Back to previous …"
      ]
     },
     "metadata": {},
     "output_type": "display_data"
    },
    {
     "data": {
      "application/vnd.jupyter.widget-view+json": {
       "model_id": "d628e786e6e64fdcb3a3f7eac9117350",
       "version_major": 2,
       "version_minor": 0
      },
      "text/plain": [
       "Canvas(toolbar=Toolbar(toolitems=[('Home', 'Reset original view', 'home', 'home'), ('Back', 'Back to previous …"
      ]
     },
     "metadata": {},
     "output_type": "display_data"
    },
    {
     "data": {
      "application/vnd.jupyter.widget-view+json": {
       "model_id": "2f6185c99e1549dcbcfe7b80f6dae136",
       "version_major": 2,
       "version_minor": 0
      },
      "text/plain": [
       "Canvas(toolbar=Toolbar(toolitems=[('Home', 'Reset original view', 'home', 'home'), ('Back', 'Back to previous …"
      ]
     },
     "metadata": {},
     "output_type": "display_data"
    },
    {
     "data": {
      "application/vnd.jupyter.widget-view+json": {
       "model_id": "0ec1e0669da2402aa0c08bcf9c6141e9",
       "version_major": 2,
       "version_minor": 0
      },
      "text/plain": [
       "Canvas(toolbar=Toolbar(toolitems=[('Home', 'Reset original view', 'home', 'home'), ('Back', 'Back to previous …"
      ]
     },
     "metadata": {},
     "output_type": "display_data"
    },
    {
     "data": {
      "application/vnd.jupyter.widget-view+json": {
       "model_id": "ba1cca40ecfd40e6a7e3149e64a9384c",
       "version_major": 2,
       "version_minor": 0
      },
      "text/plain": [
       "Canvas(toolbar=Toolbar(toolitems=[('Home', 'Reset original view', 'home', 'home'), ('Back', 'Back to previous …"
      ]
     },
     "metadata": {},
     "output_type": "display_data"
    },
    {
     "data": {
      "application/vnd.jupyter.widget-view+json": {
       "model_id": "3619055c30e94947b8b9883c9b4c2a80",
       "version_major": 2,
       "version_minor": 0
      },
      "text/plain": [
       "Canvas(toolbar=Toolbar(toolitems=[('Home', 'Reset original view', 'home', 'home'), ('Back', 'Back to previous …"
      ]
     },
     "metadata": {},
     "output_type": "display_data"
    },
    {
     "data": {
      "application/vnd.jupyter.widget-view+json": {
       "model_id": "55da338bfef14524a03e834d49edeb17",
       "version_major": 2,
       "version_minor": 0
      },
      "text/plain": [
       "Canvas(toolbar=Toolbar(toolitems=[('Home', 'Reset original view', 'home', 'home'), ('Back', 'Back to previous …"
      ]
     },
     "metadata": {},
     "output_type": "display_data"
    },
    {
     "data": {
      "application/vnd.jupyter.widget-view+json": {
       "model_id": "d5db6c8df98d4cacbed6a84d616c215c",
       "version_major": 2,
       "version_minor": 0
      },
      "text/plain": [
       "Canvas(toolbar=Toolbar(toolitems=[('Home', 'Reset original view', 'home', 'home'), ('Back', 'Back to previous …"
      ]
     },
     "metadata": {},
     "output_type": "display_data"
    },
    {
     "data": {
      "application/vnd.jupyter.widget-view+json": {
       "model_id": "a7bc394cf14b4acb802532d1b6676715",
       "version_major": 2,
       "version_minor": 0
      },
      "text/plain": [
       "Canvas(toolbar=Toolbar(toolitems=[('Home', 'Reset original view', 'home', 'home'), ('Back', 'Back to previous …"
      ]
     },
     "metadata": {},
     "output_type": "display_data"
    },
    {
     "data": {
      "application/vnd.jupyter.widget-view+json": {
       "model_id": "707b8b9197454f31b9e50bf14d9079c0",
       "version_major": 2,
       "version_minor": 0
      },
      "text/plain": [
       "Canvas(toolbar=Toolbar(toolitems=[('Home', 'Reset original view', 'home', 'home'), ('Back', 'Back to previous …"
      ]
     },
     "metadata": {},
     "output_type": "display_data"
    },
    {
     "data": {
      "application/vnd.jupyter.widget-view+json": {
       "model_id": "7aabf10ad3154b03a0cc4548705627cf",
       "version_major": 2,
       "version_minor": 0
      },
      "text/plain": [
       "Canvas(toolbar=Toolbar(toolitems=[('Home', 'Reset original view', 'home', 'home'), ('Back', 'Back to previous …"
      ]
     },
     "metadata": {},
     "output_type": "display_data"
    },
    {
     "data": {
      "application/vnd.jupyter.widget-view+json": {
       "model_id": "7acb2231dabc4420819ba180ac78d1dd",
       "version_major": 2,
       "version_minor": 0
      },
      "text/plain": [
       "Canvas(toolbar=Toolbar(toolitems=[('Home', 'Reset original view', 'home', 'home'), ('Back', 'Back to previous …"
      ]
     },
     "metadata": {},
     "output_type": "display_data"
    },
    {
     "data": {
      "application/vnd.jupyter.widget-view+json": {
       "model_id": "e6432a9c5dcc46c19313a6ec55c26fee",
       "version_major": 2,
       "version_minor": 0
      },
      "text/plain": [
       "Canvas(toolbar=Toolbar(toolitems=[('Home', 'Reset original view', 'home', 'home'), ('Back', 'Back to previous …"
      ]
     },
     "metadata": {},
     "output_type": "display_data"
    },
    {
     "data": {
      "application/vnd.jupyter.widget-view+json": {
       "model_id": "bdb33bd0aa3347b7a61fb381e55eec86",
       "version_major": 2,
       "version_minor": 0
      },
      "text/plain": [
       "Canvas(toolbar=Toolbar(toolitems=[('Home', 'Reset original view', 'home', 'home'), ('Back', 'Back to previous …"
      ]
     },
     "metadata": {},
     "output_type": "display_data"
    },
    {
     "data": {
      "application/vnd.jupyter.widget-view+json": {
       "model_id": "4d792b8520274a21b4d97ffaa5bf54b4",
       "version_major": 2,
       "version_minor": 0
      },
      "text/plain": [
       "Canvas(toolbar=Toolbar(toolitems=[('Home', 'Reset original view', 'home', 'home'), ('Back', 'Back to previous …"
      ]
     },
     "metadata": {},
     "output_type": "display_data"
    },
    {
     "data": {
      "application/vnd.jupyter.widget-view+json": {
       "model_id": "67a688739f5148e2a0fd278994f00832",
       "version_major": 2,
       "version_minor": 0
      },
      "text/plain": [
       "Canvas(toolbar=Toolbar(toolitems=[('Home', 'Reset original view', 'home', 'home'), ('Back', 'Back to previous …"
      ]
     },
     "metadata": {},
     "output_type": "display_data"
    },
    {
     "data": {
      "application/vnd.jupyter.widget-view+json": {
       "model_id": "1bf6d800f7db4992b39a3921cad11586",
       "version_major": 2,
       "version_minor": 0
      },
      "text/plain": [
       "Canvas(toolbar=Toolbar(toolitems=[('Home', 'Reset original view', 'home', 'home'), ('Back', 'Back to previous …"
      ]
     },
     "metadata": {},
     "output_type": "display_data"
    },
    {
     "data": {
      "application/vnd.jupyter.widget-view+json": {
       "model_id": "372112e5022341349b68c0486dbd8844",
       "version_major": 2,
       "version_minor": 0
      },
      "text/plain": [
       "Canvas(toolbar=Toolbar(toolitems=[('Home', 'Reset original view', 'home', 'home'), ('Back', 'Back to previous …"
      ]
     },
     "metadata": {},
     "output_type": "display_data"
    }
   ],
   "source": [
    "\n",
    "for key in data_all.keys():\n",
    "    plot.heatmap(data_all[key].absorb_df, subtitle=[key], title=\"Absorbance Values\", x_min=[215], x_max=[300], c_min=[0]*len(data_all))\n"
   ]
  },
  {
   "cell_type": "code",
   "execution_count": 32,
   "id": "spectacular-supplement",
   "metadata": {},
   "outputs": [
    {
     "data": {
      "application/vnd.jupyter.widget-view+json": {
       "model_id": "c29640e2818a4518bcf80c46256dbab7",
       "version_major": 2,
       "version_minor": 0
      },
      "text/plain": [
       "Canvas(toolbar=Toolbar(toolitems=[('Home', 'Reset original view', 'home', 'home'), ('Back', 'Back to previous …"
      ]
     },
     "metadata": {},
     "output_type": "display_data"
    },
    {
     "data": {
      "application/vnd.jupyter.widget-view+json": {
       "model_id": "d8424ed86b9f4830b3f31cd9c1a4f445",
       "version_major": 2,
       "version_minor": 0
      },
      "text/plain": [
       "Canvas(toolbar=Toolbar(toolitems=[('Home', 'Reset original view', 'home', 'home'), ('Back', 'Back to previous …"
      ]
     },
     "metadata": {},
     "output_type": "display_data"
    },
    {
     "data": {
      "application/vnd.jupyter.widget-view+json": {
       "model_id": "f12f897713564c5e84ba498969193899",
       "version_major": 2,
       "version_minor": 0
      },
      "text/plain": [
       "Canvas(toolbar=Toolbar(toolitems=[('Home', 'Reset original view', 'home', 'home'), ('Back', 'Back to previous …"
      ]
     },
     "metadata": {},
     "output_type": "display_data"
    },
    {
     "data": {
      "application/vnd.jupyter.widget-view+json": {
       "model_id": "e736155fbd6f4838882b156224f21f6b",
       "version_major": 2,
       "version_minor": 0
      },
      "text/plain": [
       "Canvas(toolbar=Toolbar(toolitems=[('Home', 'Reset original view', 'home', 'home'), ('Back', 'Back to previous …"
      ]
     },
     "metadata": {},
     "output_type": "display_data"
    },
    {
     "data": {
      "application/vnd.jupyter.widget-view+json": {
       "model_id": "ff099a5bd6824c4bb2feb55f0e35f640",
       "version_major": 2,
       "version_minor": 0
      },
      "text/plain": [
       "Canvas(toolbar=Toolbar(toolitems=[('Home', 'Reset original view', 'home', 'home'), ('Back', 'Back to previous …"
      ]
     },
     "metadata": {},
     "output_type": "display_data"
    },
    {
     "data": {
      "application/vnd.jupyter.widget-view+json": {
       "model_id": "b447a62c2e5f4b64b1d0c612ba447fc7",
       "version_major": 2,
       "version_minor": 0
      },
      "text/plain": [
       "Canvas(toolbar=Toolbar(toolitems=[('Home', 'Reset original view', 'home', 'home'), ('Back', 'Back to previous …"
      ]
     },
     "metadata": {},
     "output_type": "display_data"
    },
    {
     "data": {
      "application/vnd.jupyter.widget-view+json": {
       "model_id": "19a4a521b7f542f19f3a3369a65b0fdb",
       "version_major": 2,
       "version_minor": 0
      },
      "text/plain": [
       "Canvas(toolbar=Toolbar(toolitems=[('Home', 'Reset original view', 'home', 'home'), ('Back', 'Back to previous …"
      ]
     },
     "metadata": {},
     "output_type": "display_data"
    },
    {
     "data": {
      "application/vnd.jupyter.widget-view+json": {
       "model_id": "d02a1485cfe843b2a7f13156bf31a4f7",
       "version_major": 2,
       "version_minor": 0
      },
      "text/plain": [
       "Canvas(toolbar=Toolbar(toolitems=[('Home', 'Reset original view', 'home', 'home'), ('Back', 'Back to previous …"
      ]
     },
     "metadata": {},
     "output_type": "display_data"
    },
    {
     "data": {
      "application/vnd.jupyter.widget-view+json": {
       "model_id": "3234ea46808349ce91fc2b27b537ead8",
       "version_major": 2,
       "version_minor": 0
      },
      "text/plain": [
       "Canvas(toolbar=Toolbar(toolitems=[('Home', 'Reset original view', 'home', 'home'), ('Back', 'Back to previous …"
      ]
     },
     "metadata": {},
     "output_type": "display_data"
    },
    {
     "data": {
      "application/vnd.jupyter.widget-view+json": {
       "model_id": "57e157ecb18d49bda09b0c52c45a3531",
       "version_major": 2,
       "version_minor": 0
      },
      "text/plain": [
       "Canvas(toolbar=Toolbar(toolitems=[('Home', 'Reset original view', 'home', 'home'), ('Back', 'Back to previous …"
      ]
     },
     "metadata": {},
     "output_type": "display_data"
    },
    {
     "data": {
      "application/vnd.jupyter.widget-view+json": {
       "model_id": "d0297c00c60c4e2eafbf6fd4dc4a4cd5",
       "version_major": 2,
       "version_minor": 0
      },
      "text/plain": [
       "Canvas(toolbar=Toolbar(toolitems=[('Home', 'Reset original view', 'home', 'home'), ('Back', 'Back to previous …"
      ]
     },
     "metadata": {},
     "output_type": "display_data"
    },
    {
     "data": {
      "application/vnd.jupyter.widget-view+json": {
       "model_id": "025c1cc77edb4d5c99d8e6dfa1c7fcf8",
       "version_major": 2,
       "version_minor": 0
      },
      "text/plain": [
       "Canvas(toolbar=Toolbar(toolitems=[('Home', 'Reset original view', 'home', 'home'), ('Back', 'Back to previous …"
      ]
     },
     "metadata": {},
     "output_type": "display_data"
    },
    {
     "data": {
      "application/vnd.jupyter.widget-view+json": {
       "model_id": "b21aea806e6d4872acb4d67348c024a2",
       "version_major": 2,
       "version_minor": 0
      },
      "text/plain": [
       "Canvas(toolbar=Toolbar(toolitems=[('Home', 'Reset original view', 'home', 'home'), ('Back', 'Back to previous …"
      ]
     },
     "metadata": {},
     "output_type": "display_data"
    },
    {
     "data": {
      "application/vnd.jupyter.widget-view+json": {
       "model_id": "58e77f0460b74ff4ad47310bfd666ff6",
       "version_major": 2,
       "version_minor": 0
      },
      "text/plain": [
       "Canvas(toolbar=Toolbar(toolitems=[('Home', 'Reset original view', 'home', 'home'), ('Back', 'Back to previous …"
      ]
     },
     "metadata": {},
     "output_type": "display_data"
    },
    {
     "data": {
      "application/vnd.jupyter.widget-view+json": {
       "model_id": "7b524ce3530a4ef3997f83cdc21d0008",
       "version_major": 2,
       "version_minor": 0
      },
      "text/plain": [
       "Canvas(toolbar=Toolbar(toolitems=[('Home', 'Reset original view', 'home', 'home'), ('Back', 'Back to previous …"
      ]
     },
     "metadata": {},
     "output_type": "display_data"
    },
    {
     "data": {
      "application/vnd.jupyter.widget-view+json": {
       "model_id": "eebc5d501ecc437897a32f4b21bd884c",
       "version_major": 2,
       "version_minor": 0
      },
      "text/plain": [
       "Canvas(toolbar=Toolbar(toolitems=[('Home', 'Reset original view', 'home', 'home'), ('Back', 'Back to previous …"
      ]
     },
     "metadata": {},
     "output_type": "display_data"
    },
    {
     "data": {
      "application/vnd.jupyter.widget-view+json": {
       "model_id": "5d7d49f49b1c46aa80128f4ef366b4ee",
       "version_major": 2,
       "version_minor": 0
      },
      "text/plain": [
       "Canvas(toolbar=Toolbar(toolitems=[('Home', 'Reset original view', 'home', 'home'), ('Back', 'Back to previous …"
      ]
     },
     "metadata": {},
     "output_type": "display_data"
    },
    {
     "data": {
      "application/vnd.jupyter.widget-view+json": {
       "model_id": "db023a9bf0a04fcf88ac81d22b10df72",
       "version_major": 2,
       "version_minor": 0
      },
      "text/plain": [
       "Canvas(toolbar=Toolbar(toolitems=[('Home', 'Reset original view', 'home', 'home'), ('Back', 'Back to previous …"
      ]
     },
     "metadata": {},
     "output_type": "display_data"
    }
   ],
   "source": [
    "for key in data_all.keys():\n",
    "    df = data_all[key].absorb_df\n",
    "    deriv_df = ana.derivative(df)*10\n",
    "    plot.mult_func([260], [df - df.min(axis=1).loc[260], deriv_df], subtitle=[key], linestyle=[\"-\",\":\"], marker=[\"x\",\"\"])"
   ]
  },
  {
   "cell_type": "code",
   "execution_count": null,
   "id": "reflected-fraction",
   "metadata": {},
   "outputs": [],
   "source": [
    "for key in"
   ]
  },
  {
   "cell_type": "markdown",
   "id": "loose-oklahoma",
   "metadata": {},
   "source": [
    "### Linear LM Fit for Melting Temperature\n"
   ]
  },
  {
   "cell_type": "markdown",
   "id": "occupational-glucose",
   "metadata": {},
   "source": [
    "<div class=\"alert alert-block alert-info\">\n",
    "<b>Info:</b> Determination of melting temperatures and ssDNA fraction\n",
    "</div>"
   ]
  },
  {
   "cell_type": "code",
   "execution_count": 21,
   "id": "traditional-announcement",
   "metadata": {},
   "outputs": [
    {
     "name": "stdout",
     "output_type": "stream",
     "text": [
      "dict_keys(['1_M_GdmCl_100_mM_Mg', '1_M_GdmCl_400_mM_Mg', '4_M_GdmCl_100_mM_Mg', '4_M_GdmCl_10_mM_Mg', '4_M_GdmCl_400_mM_Mg'])\n"
     ]
    }
   ],
   "source": [
    "print(data_all.keys())"
   ]
  },
  {
   "cell_type": "code",
   "execution_count": 27,
   "id": "ignored-cholesterol",
   "metadata": {},
   "outputs": [],
   "source": [
    "\n",
    "melt_T = {}\n",
    "comp2_conc = {}\n",
    "#liste = ['Control_0M', 'Gdm2SO4_0.5M', 'Gdm2SO4_1M', 'Gdm2SO4_2M', 'Gdm2SO4_4M', 'Gdm2SO4_6M', 'GdmCl_0.5M', 'GdmCl_1M', 'GdmCl_2M','GdmCl_2M_20nM Origami', \n",
    "#'GdmCl_2M_24h', 'GdmCl_2M_80nM Origami', 'GdmCl_4M', 'GdmCl_6M',  'GdmSCN_0.5M', 'Urea_2M']\n",
    "liste = ['1_M_GdmCl_100_mM_Mg',  '4_M_GdmCl_100_mM_Mg', '4_M_GdmCl_10_mM_Mg', '4_M_GdmCl_400_mM_Mg']"
   ]
  },
  {
   "cell_type": "code",
   "execution_count": 28,
   "id": "laughing-sampling",
   "metadata": {},
   "outputs": [
    {
     "name": "stdout",
     "output_type": "stream",
     "text": [
      "[[Model]]\n",
      "    Model(linear)\n",
      "[[Fit Statistics]]\n",
      "    # fitting method   = leastsq\n",
      "    # function evals   = 6\n",
      "    # data points      = 10\n",
      "    # variables        = 2\n",
      "    chi-square         = 3.4915e-04\n",
      "    reduced chi-square = 4.3644e-05\n",
      "    Akaike info crit   = -98.6259233\n",
      "    Bayesian info crit = -98.0207531\n",
      "[[Variables]]\n",
      "    m:   0.00428585 +/- 7.2733e-04 (16.97%) (init = 1)\n",
      "    y0:  0.14700705 +/- 0.05131965 (34.91%) (init = 0)\n",
      "[[Correlations]] (unreported correlations are < 0.100)\n",
      "    C(m, y0) = -0.999\n",
      "[[Model]]\n",
      "    Model(linear)\n",
      "[[Fit Statistics]]\n",
      "    # fitting method   = leastsq\n",
      "    # function evals   = 6\n",
      "    # data points      = 10\n",
      "    # variables        = 2\n",
      "    chi-square         = 2.1701e-07\n",
      "    reduced chi-square = 2.7126e-08\n",
      "    Akaike info crit   = -172.459166\n",
      "    Bayesian info crit = -171.853996\n",
      "[[Variables]]\n",
      "    m:   2.1903e-04 +/- 1.8133e-05 (8.28%) (init = 1)\n",
      "    y0:  0.35056913 +/- 1.1251e-04 (0.03%) (init = 0)\n",
      "[[Correlations]] (unreported correlations are < 0.100)\n",
      "    C(m, y0) = -0.886\n",
      "[[Model]]\n",
      "    Model(linear)\n",
      "[[Fit Statistics]]\n",
      "    # fitting method   = leastsq\n",
      "    # function evals   = 7\n",
      "    # data points      = 3\n",
      "    # variables        = 2\n",
      "    chi-square         = 2.6209e-07\n",
      "    reduced chi-square = 2.6209e-07\n",
      "    Akaike info crit   = -44.7596163\n",
      "    Bayesian info crit = -46.5623917\n",
      "[[Variables]]\n",
      "    m:   0.00980900 +/- 3.6200e-04 (3.69%) (init = 1)\n",
      "    y0: -0.22854599 +/- 0.02353177 (10.30%) (init = 0)\n",
      "[[Correlations]] (unreported correlations are < 0.100)\n",
      "    C(m, y0) = -1.000\n"
     ]
    },
    {
     "data": {
      "application/vnd.jupyter.widget-view+json": {
       "model_id": "c50ad8a44ec44ed9b20840d409d9d7ec",
       "version_major": 2,
       "version_minor": 0
      },
      "text/plain": [
       "Canvas(toolbar=Toolbar(toolitems=[('Home', 'Reset original view', 'home', 'home'), ('Back', 'Back to previous …"
      ]
     },
     "metadata": {},
     "output_type": "display_data"
    },
    {
     "name": "stdout",
     "output_type": "stream",
     "text": [
      "[[Model]]\n",
      "    Model(linear)\n",
      "[[Fit Statistics]]\n",
      "    # fitting method   = leastsq\n",
      "    # function evals   = 7\n",
      "    # data points      = 10\n",
      "    # variables        = 2\n",
      "    chi-square         = 1.0936e-05\n",
      "    reduced chi-square = 1.3670e-06\n",
      "    Akaike info crit   = -133.260213\n",
      "    Bayesian info crit = -132.655042\n",
      "[[Variables]]\n",
      "    m:   0.00170732 +/- 1.2872e-04 (7.54%) (init = 1)\n",
      "    y0:  0.39334125 +/- 0.00908259 (2.31%) (init = 0)\n",
      "[[Correlations]] (unreported correlations are < 0.100)\n",
      "    C(m, y0) = -0.999\n",
      "[[Model]]\n",
      "    Model(linear)\n",
      "[[Fit Statistics]]\n",
      "    # fitting method   = leastsq\n",
      "    # function evals   = 6\n",
      "    # data points      = 10\n",
      "    # variables        = 2\n",
      "    chi-square         = 1.5050e-07\n",
      "    reduced chi-square = 1.8812e-08\n",
      "    Akaike info crit   = -176.118917\n",
      "    Bayesian info crit = -175.513747\n",
      "[[Variables]]\n",
      "    m:   1.7309e-04 +/- 1.5101e-05 (8.72%) (init = 1)\n",
      "    y0:  0.37391120 +/- 9.3697e-05 (0.03%) (init = 0)\n",
      "[[Correlations]] (unreported correlations are < 0.100)\n",
      "    C(m, y0) = -0.886\n",
      "[[Model]]\n",
      "    Model(linear)\n",
      "[[Fit Statistics]]\n",
      "    # fitting method   = leastsq\n",
      "    # function evals   = 6\n",
      "    # data points      = 3\n",
      "    # variables        = 2\n",
      "    chi-square         = 9.9434e-06\n",
      "    reduced chi-square = 9.9434e-06\n",
      "    Akaike info crit   = -33.8516528\n",
      "    Bayesian info crit = -35.6544282\n",
      "[[Variables]]\n",
      "    m:   0.01526600 +/- 0.00222973 (14.61%) (init = 1)\n",
      "    y0: -0.45050833 +/- 0.13156646 (29.20%) (init = 0)\n",
      "[[Correlations]] (unreported correlations are < 0.100)\n",
      "    C(m, y0) = -1.000\n"
     ]
    },
    {
     "data": {
      "application/vnd.jupyter.widget-view+json": {
       "model_id": "655de96d847344458848446c612081df",
       "version_major": 2,
       "version_minor": 0
      },
      "text/plain": [
       "Canvas(toolbar=Toolbar(toolitems=[('Home', 'Reset original view', 'home', 'home'), ('Back', 'Back to previous …"
      ]
     },
     "metadata": {},
     "output_type": "display_data"
    },
    {
     "name": "stdout",
     "output_type": "stream",
     "text": [
      "[[Model]]\n",
      "    Model(linear)\n",
      "[[Fit Statistics]]\n",
      "    # fitting method   = leastsq\n",
      "    # function evals   = 7\n",
      "    # data points      = 10\n",
      "    # variables        = 2\n",
      "    chi-square         = 1.3028e-06\n",
      "    reduced chi-square = 1.6285e-07\n",
      "    Akaike info crit   = -154.535722\n",
      "    Bayesian info crit = -153.930552\n",
      "[[Variables]]\n",
      "    m:   0.00103151 +/- 3.7452e-05 (3.63%) (init = 1)\n",
      "    y0:  0.31860278 +/- 0.00261355 (0.82%) (init = 0)\n",
      "[[Correlations]] (unreported correlations are < 0.100)\n",
      "    C(m, y0) = -0.999\n",
      "[[Model]]\n",
      "    Model(linear)\n",
      "[[Fit Statistics]]\n",
      "    # fitting method   = leastsq\n",
      "    # function evals   = 7\n",
      "    # data points      = 10\n",
      "    # variables        = 2\n",
      "    chi-square         = 5.9784e-07\n",
      "    reduced chi-square = 7.4731e-08\n",
      "    Akaike info crit   = -162.325198\n",
      "    Bayesian info crit = -161.720028\n",
      "[[Variables]]\n",
      "    m:   2.8080e-04 +/- 2.5284e-05 (9.00%) (init = 1)\n",
      "    y0:  0.29582025 +/- 1.9925e-04 (0.07%) (init = 0)\n",
      "[[Correlations]] (unreported correlations are < 0.100)\n",
      "    C(m, y0) = -0.901\n",
      "[[Model]]\n",
      "    Model(linear)\n",
      "[[Fit Statistics]]\n",
      "    # fitting method   = leastsq\n",
      "    # function evals   = 6\n",
      "    # data points      = 3\n",
      "    # variables        = 2\n",
      "    chi-square         = 8.6712e-06\n",
      "    reduced chi-square = 8.6712e-06\n",
      "    Akaike info crit   = -34.2623587\n",
      "    Bayesian info crit = -36.0651342\n",
      "[[Variables]]\n",
      "    m:   0.00692000 +/- 0.00136312 (19.70%) (init = 1)\n",
      "    y0: -0.05735600 +/- 0.07998800 (139.46%) (init = 0)\n",
      "[[Correlations]] (unreported correlations are < 0.100)\n",
      "    C(m, y0) = -1.000\n"
     ]
    },
    {
     "data": {
      "application/vnd.jupyter.widget-view+json": {
       "model_id": "2bc5a229e5fc4c88aaa695d5bec3e9bd",
       "version_major": 2,
       "version_minor": 0
      },
      "text/plain": [
       "Canvas(toolbar=Toolbar(toolitems=[('Home', 'Reset original view', 'home', 'home'), ('Back', 'Back to previous …"
      ]
     },
     "metadata": {},
     "output_type": "display_data"
    },
    {
     "name": "stdout",
     "output_type": "stream",
     "text": [
      "[[Model]]\n",
      "    Model(linear)\n",
      "[[Fit Statistics]]\n",
      "    # fitting method   = leastsq\n",
      "    # function evals   = 7\n",
      "    # data points      = 10\n",
      "    # variables        = 2\n",
      "    chi-square         = 1.0136e-06\n",
      "    reduced chi-square = 1.2669e-07\n",
      "    Akaike info crit   = -157.046357\n",
      "    Bayesian info crit = -156.441187\n",
      "[[Variables]]\n",
      "    m:   8.1113e-04 +/- 3.9188e-05 (4.83%) (init = 1)\n",
      "    y0:  0.37244220 +/- 0.00276503 (0.74%) (init = 0)\n",
      "[[Correlations]] (unreported correlations are < 0.100)\n",
      "    C(m, y0) = -0.999\n",
      "[[Model]]\n",
      "    Model(linear)\n",
      "[[Fit Statistics]]\n",
      "    # fitting method   = leastsq\n",
      "    # function evals   = 7\n",
      "    # data points      = 10\n",
      "    # variables        = 2\n",
      "    chi-square         = 2.0090e-07\n",
      "    reduced chi-square = 2.5113e-08\n",
      "    Akaike info crit   = -173.230320\n",
      "    Bayesian info crit = -172.625149\n",
      "[[Variables]]\n",
      "    m:   3.1702e-04 +/- 1.7447e-05 (5.50%) (init = 1)\n",
      "    y0:  0.33670427 +/- 1.0826e-04 (0.03%) (init = 0)\n",
      "[[Correlations]] (unreported correlations are < 0.100)\n",
      "    C(m, y0) = -0.886\n",
      "[[Model]]\n",
      "    Model(linear)\n",
      "[[Fit Statistics]]\n",
      "    # fitting method   = leastsq\n",
      "    # function evals   = 7\n",
      "    # data points      = 3\n",
      "    # variables        = 2\n",
      "    chi-square         = 4.3848e-07\n",
      "    reduced chi-square = 4.3848e-07\n",
      "    Akaike info crit   = -43.2156872\n",
      "    Bayesian info crit = -45.0184626\n",
      "[[Variables]]\n",
      "    m:   0.00746100 +/- 4.6823e-04 (6.28%) (init = 1)\n",
      "    y0: -0.03375466 +/- 0.02622373 (77.69%) (init = 0)\n",
      "[[Correlations]] (unreported correlations are < 0.100)\n",
      "    C(m, y0) = -1.000\n"
     ]
    },
    {
     "data": {
      "application/vnd.jupyter.widget-view+json": {
       "model_id": "6e87bae82a2f49f4bfd45199eec97803",
       "version_major": 2,
       "version_minor": 0
      },
      "text/plain": [
       "Canvas(toolbar=Toolbar(toolitems=[('Home', 'Reset original view', 'home', 'home'), ('Back', 'Back to previous …"
      ]
     },
     "metadata": {},
     "output_type": "display_data"
    }
   ],
   "source": [
    "for key in liste:\n",
    "\n",
    "    # fit three secitons\n",
    "    df =  data_all[key].absorb_df.loc[:, :75]\n",
    "    high_fit, high_params, high_std =  ana.lm_fit(df.iloc[:,-10:], f_type='linear')\n",
    "    low_fit, low_params, low_std =  ana.lm_fit(df.iloc[:,:10], f_type='linear')\n",
    "\n",
    "\n",
    "    # normalize absorbance values and get next 3 values to 0.5\n",
    "    df_norm = ana.normalize(df).loc[260, :]\n",
    "    df_sort = pd.DataFrame(df_norm.iloc[(df_norm-0.5).abs().argsort()[:3]], columns=[260])\n",
    "    # make linear fit\n",
    "    middle_fit, middle_params, middle_std = ana.lm_fit(df.loc[:, df_sort.index], f_type='linear')\n",
    "\n",
    "\n",
    "    # calculate cross of middle and median\n",
    "    melt_T[key] = ( ( (- high_params[\"y0\"] - low_params[\"y0\"]) / 2 ) + middle_params[\"y0\"] ) / ( ( (high_params[\"m\"] + low_params[\"m\"]) / 2 ) - middle_params[\"m\"] ) \n",
    "    # calculate error \n",
    "    teiler = ( ( (high_params[\"m\"] + low_params[\"m\"]) / 2 ) - middle_params[\"m\"] ) \n",
    "    nenner =  ( ( (- high_params[\"y0\"] - low_params[\"y0\"]) / 2 ) + middle_params[\"y0\"] ) \n",
    "    t_melt_error =  np.sqrt( (-0.5 * high_std[\"y0\"] / teiler)**2 + (-0.5 * low_std[\"y0\"] / teiler)**2 + (middle_std[\"y0\"] / teiler)**2\n",
    "                              + (nenner * 0.5 * high_std[\"m\"] / (teiler**2) )**2 + (nenner * 0.5 * low_std[\"m\"] / (teiler**2) )**2 + (nenner * -1 * middle_std[\"m\"] / (teiler**2) )**2)\n",
    "\n",
    "    \n",
    "    # make nice plot\n",
    "    plot_fit= pd.DataFrame(ana.linear(df.columns, *high_params.values()), columns=[\"high plateu\"], index=df.columns)\n",
    "    plot_fit[\"low plateu\"] = ana.linear(df.columns, *low_params.values())\n",
    "    plot_fit[\"middle\"] = ana.linear(df.columns, *middle_params.values())\n",
    "    plot_fit[\"Median\"] = 0.5*(plot_fit[\"high plateu\"] + plot_fit[\"low plateu\"])\n",
    "    #ssDNA\n",
    "    comp2_conc[key] = (df.loc[260] - plot_fit[\"low plateu\"]) / (plot_fit[\"high plateu\"] - plot_fit[\"low plateu\"])\n",
    "\n",
    "    plot.mult_func([260, \"high plateu\", \"low plateu\", \"middle\", \"Median\"], [df, plot_fit.T], \n",
    "                   vertical_line=[melt_T[key]], marker=[\"X\", \"\", \"\", \"\", \"\"], linestyle=[\"--\", \":\", \":\", \"-.\", \"-.\"],\n",
    "                   y_scaling=True, y_min=[df.min(axis=1).loc[260] - 0.02 ], y_max=[df.max(axis=1).loc[260] + 0.02], \n",
    "                   title=\"\", subtitle=[key], sec_ax=[df.min(axis=1).loc[260], df.max(axis=1).loc[260]], y_label=\"absorption / %\",\n",
    "                   x_label='temperature / °C', label=[\"total absorption\",  \"upper baseline\", \"lower baseline\", \"linear interpolation\", \"center line\", \"melting temperature\"])"
   ]
  },
  {
   "cell_type": "code",
   "execution_count": 10,
   "id": "modern-munich",
   "metadata": {},
   "outputs": [
    {
     "name": "stdout",
     "output_type": "stream",
     "text": [
      "{'1_M_GdmCl_100_mM_Mg': 63.49012309402479, '4_M_GdmCl_100_mM_Mg': 58.620376098352196, '4_M_GdmCl_10_mM_Mg': 57.99238183210077, '4_M_GdmCl_400_mM_Mg': 57.208556627077755}\n"
     ]
    }
   ],
   "source": [
    "print(melt_T)"
   ]
  },
  {
   "cell_type": "code",
   "execution_count": 11,
   "id": "eleven-graph",
   "metadata": {},
   "outputs": [
    {
     "data": {
      "application/vnd.jupyter.widget-view+json": {
       "model_id": "790df431b27744219e738beebdd1f773",
       "version_major": 2,
       "version_minor": 0
      },
      "text/plain": [
       "Canvas(toolbar=Toolbar(toolitems=[('Home', 'Reset original view', 'home', 'home'), ('Back', 'Back to previous …"
      ]
     },
     "metadata": {},
     "output_type": "display_data"
    }
   ],
   "source": [
    "x = [10, 100, 400]\n",
    "y =  [melt_T['4_M_GdmCl_10_mM_Mg'], melt_T['4_M_GdmCl_100_mM_Mg'], melt_T['4_M_GdmCl_400_mM_Mg']]\n",
    "\n",
    "graph1 = pd.DataFrame(y, index=x, columns=[\"Mg + 4 M GdmCl\"]).T\n",
    "\n",
    "\n",
    "plot.mult_func([\"Mg + 4 M GdmCl\"], [graph1], title=\"\", subtitle=[\"\"], \n",
    "               x_label=\"Mg+ concentration / mM\", y_label=\"temperature / °C\", label=[ r\"$GdmCl$ \"],\n",
    "               marker=[\"X\",\"o\"], linestyle=[\"-.\", \"-\",], backgroundcolor='white', colors=['red',  'black'])"
   ]
  },
  {
   "cell_type": "code",
   "execution_count": 13,
   "id": "federal-savage",
   "metadata": {},
   "outputs": [
    {
     "data": {
      "application/vnd.jupyter.widget-view+json": {
       "model_id": "d1805e7be227468ab820cea34b18309b",
       "version_major": 2,
       "version_minor": 0
      },
      "text/plain": [
       "Canvas(toolbar=Toolbar(toolitems=[('Home', 'Reset original view', 'home', 'home'), ('Back', 'Back to previous …"
      ]
     },
     "metadata": {},
     "output_type": "display_data"
    }
   ],
   "source": [
    "x = [0., 0.5, 1., 2., 4., 6.]\n",
    "y =  [melt_T[\"Control_0M\"], melt_T[\"Gdm2SO4_0.5M\"], melt_T[\"Gdm2SO4_1M\"], melt_T[\"Gdm2SO4_2M\"], melt_T[\"Gdm2SO4_4M\"], melt_T[\"Gdm2SO4_6M\"]]\n",
    "\n",
    "graph1 = pd.DataFrame(y, index=x, columns=[\"Gdm2SO4\"]).T\n",
    "\n",
    "y2 = [melt_T[\"Control_0M\"], melt_T[\"GdmCl_0.5M\"], melt_T[\"GdmCl_1M\"], melt_T[\"GdmCl_2M\"], melt_T[\"GdmCl_4M\"], melt_T[\"GdmCl_6M\"]]\n",
    "\n",
    "graph2 = pd.DataFrame(y2, index=x, columns=[\"GdmCl\"] ).T\n",
    "\n",
    "graph = pd.concat([graph1, graph2], axis=0)\n",
    "plot.mult_func([\"Gdm2SO4\", \"GdmCl\"], [graph], title=\"\", subtitle=[\"\"], \n",
    "               x_label=\"salt concentration / M\", y_label=\"temperature / °C\", label=[r'$Gdm_{2}SO_{4}$',  r\"$GdmCl$ \"],\n",
    "               marker=[\"X\",\"o\"], linestyle=[\"-.\", \"-\",], backgroundcolor='white', colors=['red',  'black'], error={\"Gdm2SO4\": 0.5, \"GdmCl\": 0.5})"
   ]
  },
  {
   "cell_type": "markdown",
   "id": "twelve-exposure",
   "metadata": {},
   "source": [
    "## ITTFA fractions.txt generator"
   ]
  },
  {
   "cell_type": "markdown",
   "id": "destroyed-colleague",
   "metadata": {},
   "source": [
    "<div class=\"alert alert-block alert-info\">\n",
    "<b>Info:</b> Creates the fractions text files.txt - files which are used for ITTFA.\n",
    "    Melting Temperature must before be determined to calculate ssDNA fraction\n",
    "</div>"
   ]
  },
  {
   "cell_type": "code",
   "execution_count": 12,
   "id": "failing-shower",
   "metadata": {},
   "outputs": [
    {
     "name": "stdout",
     "output_type": "stream",
     "text": [
      "dict_keys(['1_M_GdmCl_100_mM_Mg', '1_M_GdmCl_400_mM_Mg', '4_M_GdmCl_100_mM_Mg', '4_M_GdmCl_10_mM_Mg', '4_M_GdmCl_400_mM_Mg'])\n"
     ]
    }
   ],
   "source": [
    "# folder path to load spectra and to save fraction profiles\n",
    "ITTFA_path = \"C:\\\\Users\\\\crazy\\\\Documents\\\\Uni\\\\Masterarbeit\\\\Projekt\\\\Factor_analysis\\\\ITTFA\"\n",
    "\n",
    "# print key folder to get the name structure \n",
    "print(data_all.keys())"
   ]
  },
  {
   "cell_type": "code",
   "execution_count": 15,
   "id": "sustained-paste",
   "metadata": {},
   "outputs": [],
   "source": [
    "name = os.path.join(ITTFA_path, 'fractions.txt')\n",
    "key = '4_M_GdmCl_10_mM_Mg'"
   ]
  },
  {
   "cell_type": "code",
   "execution_count": 16,
   "id": "vertical-scope",
   "metadata": {},
   "outputs": [],
   "source": [
    "# create file\n",
    "f = open(name,\"w+\")\n",
    "\n",
    "# extra spectra\n",
    "extra_spectra = 0\n",
    "\n",
    "# write in file\n",
    "for k in range(4):\n",
    "    for i in range((len(data_all[key].cd_df.loc[:, 21:75].columns) + extra_spectra)):\n",
    "        if k == 1 and i < len(data_all[key].cd_df.loc[:, 21:75].columns):\n",
    "            f.write(\"\\t\" + str(k+1) + \"\\t\" + str(i+1) + \"\\t\" + str(abs(comp2_conc[key].iloc[i].round(2))) + \" \\t 1 \\n\")\n",
    "        elif i >= len(data_all[key].cd_df.loc[:, 21:75].columns) and  k == (i % len(data_all[key].cd_df.loc[:, 21:75].columns)):\n",
    "            f.write(\"\\t\" + str(k+1) + \"\\t\" + str(i+1) + \"\\t\" + str(1) + \"\\t 1 \\n\")\n",
    "        else:\n",
    "            f.write(\"\\t\" + str(k+1) + \"\\t\" + str(i+1) + \"\\t 0 \\t 0 \\n\")\n",
    "\n",
    "# close file\n",
    "f.close()"
   ]
  },
  {
   "cell_type": "code",
   "execution_count": 17,
   "id": "optional-abuse",
   "metadata": {},
   "outputs": [
    {
     "name": "stdout",
     "output_type": "stream",
     "text": [
      "[4, 6, 7, 8, 9, 10, 11, 12, 14, 15, 16, 17, 18, 19, 21, 22, 23, 24, 25, 26, 28, 29, 30, 31, 32, 33, 34, 36, 37, 38, 39, 40, 41, 42, 44, 45, 46, 47, 48, 49, 50, 52, 53, 54, 55, 56, 57, 59, 60, 61, 62, 63, 64, 66, 67, 68, 69, 70, 71, 73, 74, 75, 76, 77, 78, 79, 80, 82, 83, 84, 85, 86, 88, 89, 90, 91, 92, 93, 95, 96, 97, 98, 99, 1, 3]\n"
     ]
    }
   ],
   "source": [
    "print(data_all[key].t_list)"
   ]
  },
  {
   "cell_type": "markdown",
   "id": "aggregate-november",
   "metadata": {},
   "source": [
    "## Derivative\n"
   ]
  },
  {
   "cell_type": "code",
   "execution_count": 13,
   "id": "preliminary-transparency",
   "metadata": {},
   "outputs": [
    {
     "data": {
      "application/vnd.jupyter.widget-view+json": {
       "model_id": "741144fd30f84f4caa45d1d6d1a13088",
       "version_major": 2,
       "version_minor": 0
      },
      "text/plain": [
       "Canvas(toolbar=Toolbar(toolitems=[('Home', 'Reset original view', 'home', 'home'), ('Back', 'Back to previous …"
      ]
     },
     "metadata": {},
     "output_type": "display_data"
    },
    {
     "data": {
      "application/vnd.jupyter.widget-view+json": {
       "model_id": "5d65705578d449ab87f8a980f5a8b1f6",
       "version_major": 2,
       "version_minor": 0
      },
      "text/plain": [
       "Canvas(toolbar=Toolbar(toolitems=[('Home', 'Reset original view', 'home', 'home'), ('Back', 'Back to previous …"
      ]
     },
     "metadata": {},
     "output_type": "display_data"
    },
    {
     "data": {
      "application/vnd.jupyter.widget-view+json": {
       "model_id": "7037d25ee2dc4d2bbc698da7d64cea53",
       "version_major": 2,
       "version_minor": 0
      },
      "text/plain": [
       "Canvas(toolbar=Toolbar(toolitems=[('Home', 'Reset original view', 'home', 'home'), ('Back', 'Back to previous …"
      ]
     },
     "metadata": {},
     "output_type": "display_data"
    },
    {
     "data": {
      "application/vnd.jupyter.widget-view+json": {
       "model_id": "f2cef7290abb4dc1ab36b4cb2109e96f",
       "version_major": 2,
       "version_minor": 0
      },
      "text/plain": [
       "Canvas(toolbar=Toolbar(toolitems=[('Home', 'Reset original view', 'home', 'home'), ('Back', 'Back to previous …"
      ]
     },
     "metadata": {},
     "output_type": "display_data"
    },
    {
     "data": {
      "application/vnd.jupyter.widget-view+json": {
       "model_id": "fd85fbf7f8c6428f8468fa4bf3397333",
       "version_major": 2,
       "version_minor": 0
      },
      "text/plain": [
       "Canvas(toolbar=Toolbar(toolitems=[('Home', 'Reset original view', 'home', 'home'), ('Back', 'Back to previous …"
      ]
     },
     "metadata": {},
     "output_type": "display_data"
    }
   ],
   "source": [
    "for key in data_all.keys():\n",
    "    deriv = ana.derivative(data_all[key].absorb_df)\n",
    "    data = data_all[key].absorb_df\n",
    "    plot.mult_func([260], [data], [deriv], title= key, subtitle=[\"Absolute value\", \"interpolated derivative\"], label=[\"\"], y_label=\"Absorbance\")"
   ]
  },
  {
   "cell_type": "code",
   "execution_count": 12,
   "id": "turkish-begin",
   "metadata": {},
   "outputs": [
    {
     "data": {
      "application/vnd.jupyter.widget-view+json": {
       "model_id": "651dece6f6a346f5adb058665ee00bc8",
       "version_major": 2,
       "version_minor": 0
      },
      "text/plain": [
       "Canvas(toolbar=Toolbar(toolitems=[('Home', 'Reset original view', 'home', 'home'), ('Back', 'Back to previous …"
      ]
     },
     "metadata": {},
     "output_type": "display_data"
    }
   ],
   "source": [
    "plot.mult_func([260], [data], [deriv], title= \"Hypochromatic shift\", subtitle=[\"Absolute value\", \"interpolated derivative\"], label=[\"\"], y_label=\"Absorbance\")"
   ]
  },
  {
   "cell_type": "markdown",
   "id": "minor-component",
   "metadata": {},
   "source": [
    "# Calibration "
   ]
  },
  {
   "cell_type": "code",
   "execution_count": 29,
   "id": "bright-cocktail",
   "metadata": {},
   "outputs": [
    {
     "name": "stdout",
     "output_type": "stream",
     "text": [
      "C:\\Users\\crazy\\Documents\\Uni\\Masterarbeit\\Projekt\\Data\\Calibration\\Calibration Measurement 11.5 mM PL-F_Temperature25.00.txt\n"
     ]
    }
   ],
   "source": [
    "datapath = \"C:\\\\Users\\\\crazy\\\\Documents\\\\Uni\\\\Masterarbeit\\\\Projekt\\\\Data\\\\Calibration\"\n",
    "datalist = os.listdir(datapath)\n",
    "# 0 for PL, 1 for CSA\n",
    "filename = os.path.join(datapath, datalist[0])\n",
    "\n",
    "print(filename)"
   ]
  },
  {
   "cell_type": "code",
   "execution_count": 30,
   "id": "sonic-insurance",
   "metadata": {},
   "outputs": [],
   "source": [
    "file = open(filename, \"r\")\n",
    "list_of_lines = file.readlines()\n",
    "\n",
    "# Parameter for head and tail part of document which will be deleted\n",
    "head = 21\n",
    "tail = 1572\n",
    "del list_of_lines[tail:]\n",
    "del list_of_lines[:head]\n",
    "\n",
    "# separating numbers into sublist\n",
    "for i in range(len(list_of_lines)):\n",
    "    list_of_lines[i] = list_of_lines[i].replace(\"\\n\", \"\")\n",
    "    list_of_lines[i] = list_of_lines[i].replace(\",\", \".\")\n",
    "    list_of_lines[i] = list_of_lines[i].split('\\t', 3)\n",
    "\n",
    "# transform list of lists to array of float-type\n",
    "matrix = np.array(list_of_lines)\n",
    "matrix = matrix.astype(np.float)\n",
    "file.close()\n",
    "\n",
    "calibration_data = pd.DataFrame(matrix, columns=['wavelength', 'CD Values', 'HT Values', 'Absorbance'])\n",
    "calibration_data = calibration_data.set_index('wavelength')"
   ]
  },
  {
   "cell_type": "code",
   "execution_count": 31,
   "id": "established-latex",
   "metadata": {},
   "outputs": [
    {
     "data": {
      "application/vnd.jupyter.widget-view+json": {
       "model_id": "97b04953068d49a5a52409d4dd9d620e",
       "version_major": 2,
       "version_minor": 0
      },
      "text/plain": [
       "Canvas(toolbar=Toolbar(toolitems=[('Home', 'Reset original view', 'home', 'home'), ('Back', 'Back to previous …"
      ]
     },
     "metadata": {},
     "output_type": "display_data"
    },
    {
     "data": {
      "application/vnd.jupyter.widget-view+json": {
       "model_id": "7786968ec58343c5ac6c637b273350aa",
       "version_major": 2,
       "version_minor": 0
      },
      "text/plain": [
       "Canvas(toolbar=Toolbar(toolitems=[('Home', 'Reset original view', 'home', 'home'), ('Back', 'Back to previous …"
      ]
     },
     "metadata": {},
     "output_type": "display_data"
    },
    {
     "data": {
      "application/vnd.jupyter.widget-view+json": {
       "model_id": "eecbe3e6c9b847eaa267b3b909ded478",
       "version_major": 2,
       "version_minor": 0
      },
      "text/plain": [
       "Canvas(toolbar=Toolbar(toolitems=[('Home', 'Reset original view', 'home', 'home'), ('Back', 'Back to previous …"
      ]
     },
     "metadata": {},
     "output_type": "display_data"
    }
   ],
   "source": [
    "plot.mult_func(['CD Values'], [calibration_data], swap=True)\n",
    "plot.mult_func(['Absorbance'], [calibration_data], swap=True)\n",
    "plot.mult_func(['HT Values'], [calibration_data], swap=True)"
   ]
  },
  {
   "cell_type": "markdown",
   "id": "fancy-amateur",
   "metadata": {},
   "source": [
    "**Molar Ellipticity**"
   ]
  },
  {
   "cell_type": "code",
   "execution_count": 32,
   "id": "rental-ridge",
   "metadata": {},
   "outputs": [
    {
     "name": "stdout",
     "output_type": "stream",
     "text": [
      "Determined concentration in mmol/l: \t 9.286277777777778\n",
      "Ratio experimental vs. theoretical value at the maximum around 290 nm: \n",
      " with determinded molarity:  1.0692125054415886 \t  with wanted molarity 11.53 mM: 0.8611452150047119\n"
     ]
    }
   ],
   "source": [
    "# for PL\n",
    "molarity = calibration_data.loc[215,'Absorbance']  * 10**4 / 90 # molarity in mMs\n",
    "print('Determined concentration in mmol/l: \\t', molarity)\n",
    "pathlength =  0.1 # cm \n",
    "print('Ratio experimental vs. theoretical value at the maximum around 290 nm: \\n with determinded molarity: ',\n",
    "      calibration_data.loc[calibration_data['CD Values'].idxmin(axis=0), 'CD Values']  / (0.001* molarity) / (-4.9*3300),\n",
    "      '\\t  with wanted molarity 11.53 mM:' , calibration_data.loc[calibration_data['CD Values'].idxmin(axis=0), 'CD Values']  / (0.001* 11.53) / (-4.9*3300) ) \n",
    "      "
   ]
  },
  {
   "cell_type": "code",
   "execution_count": 27,
   "id": "comfortable-container",
   "metadata": {},
   "outputs": [
    {
     "name": "stdout",
     "output_type": "stream",
     "text": [
      "Determined concentration in mmol/l: \t 5.473130434782609\n",
      "Ratio experimental vs. theoretical value at the maximum around 290 nm: \n",
      " with determinded molarity:  0.7917748774900709 \t  with wanted molarity 4.7 mM: 0.9220185488270595\n",
      "Ratio experimental vs. theoretical value at the minimum around 192.5 nm: \n",
      " with determinded molarity:  0.812555887707617 \t  with wanted molarity 4.7 mM: 0.9462179487179487\n",
      "Ratio between absorbance 285 nm and molar ellipticity at 290.5 nm:  0.5424544615215243  -> this value should be 0.068\n"
     ]
    }
   ],
   "source": [
    "# for CSA\n",
    "molarity = calibration_data.loc[285,'Absorbance'] *  (10**4) / 34.5  # molarity in mMs\n",
    "print('Determined concentration in mmol/l: \\t', molarity)\n",
    "pathlength =  0.1 # cm \n",
    "print('Ratio experimental vs. theoretical value at the maximum around 290 nm: \\n with determinded molarity: ',\n",
    "      calibration_data.loc[calibration_data['CD Values'].idxmax(axis=0), 'CD Values']  / (0.001* molarity) / (7800),  \n",
    "      '\\t  with wanted molarity 4.7 mM:' , calibration_data.loc[calibration_data['CD Values'].idxmax(axis=0), 'CD Values']  / (0.001* 4.7) / (7800)  ) \n",
    "print('Ratio experimental vs. theoretical value at the minimum around 192.5 nm: \\n with determinded molarity: ',\n",
    "      calibration_data.loc[calibration_data['CD Values'].idxmin(axis=0), 'CD Values']  / (0.001* molarity) / (-15600 ),  \n",
    "      '\\t  with wanted molarity 4.7 mM:' , calibration_data.loc[calibration_data['CD Values'].idxmin(axis=0), 'CD Values']  / (0.001* 4.7) / (-15600 ) )\n",
    "print('Ratio between absorbance 285 nm and molar ellipticity at 290.5 nm: ', \n",
    "      (calibration_data.loc[calibration_data['CD Values'].idxmax(axis=0), 'CD Values']  / (3300)) / calibration_data.loc[285, 'Absorbance'],\n",
    "     ' -> this value should be 0.068') # should be 0.068\n",
    " "
   ]
  },
  {
   "cell_type": "markdown",
   "id": "athletic-living",
   "metadata": {},
   "source": [
    "# Test"
   ]
  },
  {
   "cell_type": "markdown",
   "id": "designing-confusion",
   "metadata": {},
   "source": [
    "**Zero Crossing**"
   ]
  },
  {
   "cell_type": "code",
   "execution_count": 10,
   "id": "according-calendar",
   "metadata": {},
   "outputs": [
    {
     "name": "stdout",
     "output_type": "stream",
     "text": [
      "dict_keys(['1_M_GdmCl_100_mM_Mg', '1_M_GdmCl_400_mM_Mg', '4_M_GdmCl_100_mM_Mg', '4_M_GdmCl_10_mM_Mg', '4_M_GdmCl_400_mM_Mg'])\n"
     ]
    }
   ],
   "source": [
    "print(data_all.keys())"
   ]
  },
  {
   "cell_type": "code",
   "execution_count": 7,
   "id": "broadband-stable",
   "metadata": {},
   "outputs": [],
   "source": [
    "zero_crossing = {}\n",
    "\n",
    "wave_max = 280\n",
    "wave_min = 240\n",
    "for key in data_all.keys():\n",
    "    df = data_all[key].cd_df.loc[wave_min:wave_max]\n",
    "    zeros = pd.DataFrame()\n",
    "    for col in df.columns:\n",
    "        sgn = np.sign(df.loc[wave_min, col])\n",
    "        zero_liste = []\n",
    "        for idx in df.index:\n",
    "            if np.sign(df.loc[idx, col]) != np.sign(sgn):\n",
    "                zero_liste.append(int(idx)+0.5)\n",
    "            sgn = np.sign(df.loc[idx, col])\n",
    "        new = pd.DataFrame({col: zero_liste})\n",
    "        zeros = pd.concat([zeros, new], axis=1)\n",
    "    zero_crossing[key] = zeros"
   ]
  },
  {
   "cell_type": "code",
   "execution_count": 8,
   "id": "sudden-processor",
   "metadata": {},
   "outputs": [
    {
     "data": {
      "application/vnd.jupyter.widget-view+json": {
       "model_id": "23a6039072c146db8f5ea328d1b351ac",
       "version_major": 2,
       "version_minor": 0
      },
      "text/plain": [
       "Canvas(toolbar=Toolbar(toolitems=[('Home', 'Reset original view', 'home', 'home'), ('Back', 'Back to previous …"
      ]
     },
     "metadata": {},
     "output_type": "display_data"
    },
    {
     "data": {
      "application/vnd.jupyter.widget-view+json": {
       "model_id": "3923ab0b57aa498fb0b39228bacdd297",
       "version_major": 2,
       "version_minor": 0
      },
      "text/plain": [
       "Canvas(toolbar=Toolbar(toolitems=[('Home', 'Reset original view', 'home', 'home'), ('Back', 'Back to previous …"
      ]
     },
     "metadata": {},
     "output_type": "display_data"
    },
    {
     "data": {
      "application/vnd.jupyter.widget-view+json": {
       "model_id": "cc8c6a0a812248ab921e94559cdf2eb0",
       "version_major": 2,
       "version_minor": 0
      },
      "text/plain": [
       "Canvas(toolbar=Toolbar(toolitems=[('Home', 'Reset original view', 'home', 'home'), ('Back', 'Back to previous …"
      ]
     },
     "metadata": {},
     "output_type": "display_data"
    },
    {
     "data": {
      "application/vnd.jupyter.widget-view+json": {
       "model_id": "455aa3e9cd164353aeb3f8ebc3e9fa12",
       "version_major": 2,
       "version_minor": 0
      },
      "text/plain": [
       "Canvas(toolbar=Toolbar(toolitems=[('Home', 'Reset original view', 'home', 'home'), ('Back', 'Back to previous …"
      ]
     },
     "metadata": {},
     "output_type": "display_data"
    },
    {
     "data": {
      "application/vnd.jupyter.widget-view+json": {
       "model_id": "74ac7e8461604923b2a770193eaea8ee",
       "version_major": 2,
       "version_minor": 0
      },
      "text/plain": [
       "Canvas(toolbar=Toolbar(toolitems=[('Home', 'Reset original view', 'home', 'home'), ('Back', 'Back to previous …"
      ]
     },
     "metadata": {},
     "output_type": "display_data"
    },
    {
     "data": {
      "application/vnd.jupyter.widget-view+json": {
       "model_id": "4987069b050e45e2ad4f0830505b70c2",
       "version_major": 2,
       "version_minor": 0
      },
      "text/plain": [
       "Canvas(toolbar=Toolbar(toolitems=[('Home', 'Reset original view', 'home', 'home'), ('Back', 'Back to previous …"
      ]
     },
     "metadata": {},
     "output_type": "display_data"
    },
    {
     "data": {
      "application/vnd.jupyter.widget-view+json": {
       "model_id": "e9834f84b3574b219371fd7a08d75ce9",
       "version_major": 2,
       "version_minor": 0
      },
      "text/plain": [
       "Canvas(toolbar=Toolbar(toolitems=[('Home', 'Reset original view', 'home', 'home'), ('Back', 'Back to previous …"
      ]
     },
     "metadata": {},
     "output_type": "display_data"
    },
    {
     "data": {
      "application/vnd.jupyter.widget-view+json": {
       "model_id": "037b31c8a2c241688a2afe10548a555b",
       "version_major": 2,
       "version_minor": 0
      },
      "text/plain": [
       "Canvas(toolbar=Toolbar(toolitems=[('Home', 'Reset original view', 'home', 'home'), ('Back', 'Back to previous …"
      ]
     },
     "metadata": {},
     "output_type": "display_data"
    },
    {
     "data": {
      "application/vnd.jupyter.widget-view+json": {
       "model_id": "301c9ad7290a41abb90a592ccdacd3c8",
       "version_major": 2,
       "version_minor": 0
      },
      "text/plain": [
       "Canvas(toolbar=Toolbar(toolitems=[('Home', 'Reset original view', 'home', 'home'), ('Back', 'Back to previous …"
      ]
     },
     "metadata": {},
     "output_type": "display_data"
    },
    {
     "data": {
      "application/vnd.jupyter.widget-view+json": {
       "model_id": "ed5150be229b4117bf6feef5b1673d99",
       "version_major": 2,
       "version_minor": 0
      },
      "text/plain": [
       "Canvas(toolbar=Toolbar(toolitems=[('Home', 'Reset original view', 'home', 'home'), ('Back', 'Back to previous …"
      ]
     },
     "metadata": {},
     "output_type": "display_data"
    },
    {
     "data": {
      "application/vnd.jupyter.widget-view+json": {
       "model_id": "46c9e56f636a4e14bea4eaa41a437bbb",
       "version_major": 2,
       "version_minor": 0
      },
      "text/plain": [
       "Canvas(toolbar=Toolbar(toolitems=[('Home', 'Reset original view', 'home', 'home'), ('Back', 'Back to previous …"
      ]
     },
     "metadata": {},
     "output_type": "display_data"
    },
    {
     "data": {
      "application/vnd.jupyter.widget-view+json": {
       "model_id": "1efabe0f70f94f4197cf243ac66c9747",
       "version_major": 2,
       "version_minor": 0
      },
      "text/plain": [
       "Canvas(toolbar=Toolbar(toolitems=[('Home', 'Reset original view', 'home', 'home'), ('Back', 'Back to previous …"
      ]
     },
     "metadata": {},
     "output_type": "display_data"
    },
    {
     "data": {
      "application/vnd.jupyter.widget-view+json": {
       "model_id": "5b6110b5788146ea8e14d129b5e86ebc",
       "version_major": 2,
       "version_minor": 0
      },
      "text/plain": [
       "Canvas(toolbar=Toolbar(toolitems=[('Home', 'Reset original view', 'home', 'home'), ('Back', 'Back to previous …"
      ]
     },
     "metadata": {},
     "output_type": "display_data"
    },
    {
     "data": {
      "application/vnd.jupyter.widget-view+json": {
       "model_id": "38b1a055a65e4509b99a39234824607c",
       "version_major": 2,
       "version_minor": 0
      },
      "text/plain": [
       "Canvas(toolbar=Toolbar(toolitems=[('Home', 'Reset original view', 'home', 'home'), ('Back', 'Back to previous …"
      ]
     },
     "metadata": {},
     "output_type": "display_data"
    },
    {
     "data": {
      "application/vnd.jupyter.widget-view+json": {
       "model_id": "965802fa974047c4b88609d3de9ada95",
       "version_major": 2,
       "version_minor": 0
      },
      "text/plain": [
       "Canvas(toolbar=Toolbar(toolitems=[('Home', 'Reset original view', 'home', 'home'), ('Back', 'Back to previous …"
      ]
     },
     "metadata": {},
     "output_type": "display_data"
    },
    {
     "data": {
      "application/vnd.jupyter.widget-view+json": {
       "model_id": "0484e625130f472d9e2bf8eb65b9a7b5",
       "version_major": 2,
       "version_minor": 0
      },
      "text/plain": [
       "Canvas(toolbar=Toolbar(toolitems=[('Home', 'Reset original view', 'home', 'home'), ('Back', 'Back to previous …"
      ]
     },
     "metadata": {},
     "output_type": "display_data"
    },
    {
     "data": {
      "application/vnd.jupyter.widget-view+json": {
       "model_id": "4151c2c7de40421fb4c3bd647019e8ca",
       "version_major": 2,
       "version_minor": 0
      },
      "text/plain": [
       "Canvas(toolbar=Toolbar(toolitems=[('Home', 'Reset original view', 'home', 'home'), ('Back', 'Back to previous …"
      ]
     },
     "metadata": {},
     "output_type": "display_data"
    },
    {
     "data": {
      "application/vnd.jupyter.widget-view+json": {
       "model_id": "35718894fd3b4185b7b8b9a84f773ded",
       "version_major": 2,
       "version_minor": 0
      },
      "text/plain": [
       "Canvas(toolbar=Toolbar(toolitems=[('Home', 'Reset original view', 'home', 'home'), ('Back', 'Back to previous …"
      ]
     },
     "metadata": {},
     "output_type": "display_data"
    },
    {
     "data": {
      "application/vnd.jupyter.widget-view+json": {
       "model_id": "a52f9d8e91be4680a92d608713663cce",
       "version_major": 2,
       "version_minor": 0
      },
      "text/plain": [
       "Canvas(toolbar=Toolbar(toolitems=[('Home', 'Reset original view', 'home', 'home'), ('Back', 'Back to previous …"
      ]
     },
     "metadata": {},
     "output_type": "display_data"
    },
    {
     "data": {
      "application/vnd.jupyter.widget-view+json": {
       "model_id": "7bd5a3058a404d6baa9a87a0cb97677b",
       "version_major": 2,
       "version_minor": 0
      },
      "text/plain": [
       "Canvas(toolbar=Toolbar(toolitems=[('Home', 'Reset original view', 'home', 'home'), ('Back', 'Back to previous …"
      ]
     },
     "metadata": {},
     "output_type": "display_data"
    }
   ],
   "source": [
    "for key in data_all.keys():\n",
    "    plot.mult_func([0], [zero_crossing[key]], subtitle=[key])"
   ]
  },
  {
   "cell_type": "markdown",
   "id": "novel-formation",
   "metadata": {},
   "source": [
    "**Derivative**"
   ]
  },
  {
   "cell_type": "code",
   "execution_count": 11,
   "id": "strong-response",
   "metadata": {},
   "outputs": [],
   "source": [
    "keys = ['1_M_GdmCl_100_mM_Mg',  '4_M_GdmCl_100_mM_Mg', '4_M_GdmCl_10_mM_Mg', '4_M_GdmCl_400_mM_Mg']"
   ]
  },
  {
   "cell_type": "code",
   "execution_count": 12,
   "id": "material-porcelain",
   "metadata": {},
   "outputs": [
    {
     "data": {
      "application/vnd.jupyter.widget-view+json": {
       "model_id": "22fd6d88f7114bcb977aae93e58d2480",
       "version_major": 2,
       "version_minor": 0
      },
      "text/plain": [
       "Canvas(toolbar=Toolbar(toolitems=[('Home', 'Reset original view', 'home', 'home'), ('Back', 'Back to previous …"
      ]
     },
     "metadata": {},
     "output_type": "display_data"
    },
    {
     "data": {
      "application/vnd.jupyter.widget-view+json": {
       "model_id": "459e0d1a6cd6498390abbbe7b0e5b4a6",
       "version_major": 2,
       "version_minor": 0
      },
      "text/plain": [
       "Canvas(toolbar=Toolbar(toolitems=[('Home', 'Reset original view', 'home', 'home'), ('Back', 'Back to previous …"
      ]
     },
     "metadata": {},
     "output_type": "display_data"
    },
    {
     "data": {
      "application/vnd.jupyter.widget-view+json": {
       "model_id": "f83aa4957fb1488a8302ff4decb9f155",
       "version_major": 2,
       "version_minor": 0
      },
      "text/plain": [
       "Canvas(toolbar=Toolbar(toolitems=[('Home', 'Reset original view', 'home', 'home'), ('Back', 'Back to previous …"
      ]
     },
     "metadata": {},
     "output_type": "display_data"
    },
    {
     "data": {
      "application/vnd.jupyter.widget-view+json": {
       "model_id": "4baed5bc39b24eed96843ee1a25ab1f0",
       "version_major": 2,
       "version_minor": 0
      },
      "text/plain": [
       "Canvas(toolbar=Toolbar(toolitems=[('Home', 'Reset original view', 'home', 'home'), ('Back', 'Back to previous …"
      ]
     },
     "metadata": {},
     "output_type": "display_data"
    }
   ],
   "source": [
    "for key in keys:\n",
    "    df = data_all[key].cd_df\n",
    "    data = df.to_numpy()\n",
    "    t_vec = df.columns.to_numpy()\n",
    "    delta_x = data[:, 2:] - data[:, :-2]\n",
    "    delta_t = t_vec[2:] - t_vec[:-2]\n",
    "    deriv =  pd.DataFrame(np.divide(delta_x, delta_t), index=df.index, columns=df.iloc[:,1:-1].columns)\n",
    "    deriv = deriv.astype('float64')\n",
    "    plot.heatmap(deriv.loc[230:300], subtitle=[key], title='')"
   ]
  },
  {
   "cell_type": "code",
   "execution_count": null,
   "id": "animated-pastor",
   "metadata": {},
   "outputs": [],
   "source": []
  },
  {
   "cell_type": "code",
   "execution_count": null,
   "id": "killing-piano",
   "metadata": {},
   "outputs": [],
   "source": []
  },
  {
   "cell_type": "markdown",
   "id": "smaller-dependence",
   "metadata": {},
   "source": [
    "**Concentration calculation**"
   ]
  },
  {
   "cell_type": "code",
   "execution_count": 58,
   "id": "contemporary-ticket",
   "metadata": {},
   "outputs": [
    {
     "data": {
      "application/vnd.jupyter.widget-view+json": {
       "model_id": "73338c192db04896b3feed9ca45cd5ee",
       "version_major": 2,
       "version_minor": 0
      },
      "text/plain": [
       "Canvas(toolbar=Toolbar(toolitems=[('Home', 'Reset original view', 'home', 'home'), ('Back', 'Back to previous …"
      ]
     },
     "metadata": {},
     "output_type": "display_data"
    }
   ],
   "source": [
    "df = pd.DataFrame()\n",
    "liste = ['Control_0M', 'Gdm2SO4_0.5M', 'Gdm2SO4_1M', 'Gdm2SO4_2M', 'Gdm2SO4_4M','GdmCl_0.5M', 'GdmCl_1M', 'GdmCl_2M', 'GdmCl_4M']\n",
    "for key in liste:\n",
    "    df[key] = data_all[key].cd_df[70]\n",
    "    \n",
    "plot.mult_func(liste, [df], swap=True, x_min=215, x_max=300, subtitle=['Data at 70°C'], x_label='Wavelengt / nm' )"
   ]
  },
  {
   "cell_type": "code",
   "execution_count": 35,
   "id": "foster-infection",
   "metadata": {},
   "outputs": [
    {
     "name": "stdout",
     "output_type": "stream",
     "text": [
      "46_forward 24.757 32.556 -7.798\n",
      "46_reversed 25.974 34.156 -8.182\n",
      "Control_0M 30.354 39.915 -9.561\n",
      "Gdm2SO4_0.5M 32.511 42.752 -10.241\n",
      "Gdm2SO4_1M 31.293 41.151 -9.857\n",
      "Gdm2SO4_2M 33.782 44.423 -10.641\n",
      "Gdm2SO4_4M 34.202 44.975 -10.774\n",
      "Gdm2SO4_6M 30.511 40.122 -9.611\n",
      "GdmCl_0.5M 32.273 42.439 -10.166\n",
      "GdmCl_1M 28.71 37.754 -9.044\n",
      "GdmCl_2M 29.204 38.403 -9.199\n",
      "GdmCl_2M_20nM Origami 16.14 21.224 -5.084\n",
      "GdmCl_2M_24h 32.597 42.865 -10.268\n",
      "GdmCl_2M_80nM Origami 71.692 94.275 -22.583\n",
      "GdmCl_4M 34.448 45.299 -10.851\n",
      "GdmCl_6M 30.839 40.554 -9.714\n",
      "GdmCl_6M_alt 27.26 35.847 -8.587\n",
      "GdmSCN_0.5M 32.171 42.305 -10.134\n",
      "GdmSCN_2M 36.621 48.156 -11.536\n",
      "Urea_2M 30.79 40.489 -9.699\n"
     ]
    }
   ],
   "source": [
    "for key in data_all.keys():\n",
    "    absorb_coeff = 0.0263 #ml/µg\n",
    "    conc = data_all[key].absorb_df.loc[260,20] / (absorb_coeff* 0.1) # µg/ml\n",
    "    mol_weight = 4472760.4 *(10**(6)) # µg/mol\n",
    "    conc = conc / mol_weight #mol/ml\n",
    "    conc =  conc * (10**(3)) # mol/L = M\n",
    "    conc = conc * (10**(9)) # nmol/L = nM\n",
    "    \n",
    "    conc2 = data_all[key].absorb_df.loc[260,20] / (0.02* 0.1) # µg/ml\n",
    "    mol_weight = 4472760.4 *(10**(6)) # µg/mol\n",
    "    conc2 = conc2 / mol_weight #mol/ml\n",
    "    conc2 =  conc2 * (10**(3)) # mol/L = M\n",
    "    conc2 = conc2 * (10**(9)) # nmol/L = nM\n",
    "\n",
    "    print(key, round(conc,3), round(conc2, 3), round(conc-conc2,3 ))"
   ]
  },
  {
   "cell_type": "code",
   "execution_count": 23,
   "id": "afraid-article",
   "metadata": {},
   "outputs": [],
   "source": [
    "print_path = \"C:\\\\Users\\\\crazy\\\\Documents\\\\Uni\\\\Masterarbeit\\\\Projekt\\\\Auswertung\""
   ]
  },
  {
   "cell_type": "code",
   "execution_count": 25,
   "id": "alike-coach",
   "metadata": {},
   "outputs": [
    {
     "name": "stdout",
     "output_type": "stream",
     "text": [
      "C:\\Users\\crazy\\Documents\\Uni\\Masterarbeit\\Projekt\\Auswertung\\\\output.xlsx\n"
     ]
    }
   ],
   "source": [
    "excel_path = print_path + \"\\\\\" + \"\\\\output.xlsx\"\n",
    "print(excel_path)"
   ]
  },
  {
   "cell_type": "code",
   "execution_count": 26,
   "id": "physical-kitty",
   "metadata": {},
   "outputs": [],
   "source": [
    "liste = ['Control_0M', 'GdmCl_1M', 'GdmCl_2M', 'GdmCl_4M', 'Gdm2SO4_0.5M', 'Gdm2SO4_1M', 'Gdm2SO4_2M']\n",
    "for key in liste:\n",
    "    df = data_all[key].absorb_df.loc[260]\n",
    "    with pd.ExcelWriter(excel_path, mode='a') as writer:  \n",
    "        df.round(3).to_excel(writer, sheet_name=key)"
   ]
  },
  {
   "cell_type": "markdown",
   "id": "civilian-polymer",
   "metadata": {},
   "source": [
    "**Simulation of Melting Curves**"
   ]
  },
  {
   "cell_type": "raw",
   "id": "graphic-wealth",
   "metadata": {},
   "source": [
    "T0\t337\t335,9375\t323,14502\n",
    "dH\t123000\t215000\t100000\n",
    "dS\t364,98516\t640\t309,45858\n",
    "dCp\t2000\t4000\t1000\n",
    "K0\t1\t1,27469\t4"
   ]
  },
  {
   "cell_type": "code",
   "execution_count": 30,
   "id": "affiliated-looking",
   "metadata": {},
   "outputs": [],
   "source": [
    "# gas constant\n",
    "r =  8.314\n",
    "\n",
    "# first process -> melting dsDNA to ssDNA in tensed state\n",
    "t_01 =  337\n",
    "dh_1 = 123000\n",
    "\n",
    "# second process -> melting dsDNA to ssDNA in relaxed state\n",
    "t_02 = 335.9375\n",
    "dh_2 = 215000\n",
    "\n",
    "# third process -> relaxing origami in dsDNA\n",
    "t_03 = 323.14502\n",
    "dh_3 = 10000 \n",
    "\n",
    "# add dc_p values\n",
    "dc_1 = 2000\n",
    "dc_2 = 4000\n",
    "dc_3 = 1000\n",
    "\n",
    "# temperature points and dt to reference temperature t_01\n",
    "t =  np.arange(273, 372, 1)\n",
    "\n",
    "# create lists to save calcua\n",
    "rel_conc = pd.DataFrame(index=t, columns=[1,2,3,4])"
   ]
  },
  {
   "cell_type": "code",
   "execution_count": 31,
   "id": "acute-honor",
   "metadata": {},
   "outputs": [],
   "source": [
    "# calculate fractions for all temperature points\n",
    "for i in t:\n",
    "    # calculate dg\n",
    "    dg_1 = - (dh_1/t_01 - dc_1) * (i - t_01) + dc_1 * i * np.log(t_01/i) # dsDNA to ssDNA in tensed state \n",
    "    dg_2 = - (dh_2/t_01 - dc_2) * (i - t_02) + dc_2 * i * np.log(t_02/i) # dsDNA to ssDNA in relaxed state\n",
    "    dg_3 = - (dh_3/t_01 - dc_3) * (i - t_03) + dc_3 * i * np.log(t_03/i) # tensed state to relaxed state in dsDNA\n",
    "    \n",
    "    # calculate equilibrium constants k\n",
    "    k_1 = np.exp( - dg_1 / (r * i))\n",
    "    k_2 = np.exp( - dg_2 / (r * i))\n",
    "    k_3 = np.exp( - dg_3 / (r * i))\n",
    "    \n",
    "    # calculate relative concentrations\n",
    "    sum_of_states = 1 + k_1 + k_3 + k_3 * k_2 # number of states / number of state 1 \n",
    "    rel_conc.loc[i, 1] = 1 / sum_of_states # norm.population of dsDNA tensed \n",
    "    rel_conc.loc[i, 2] = k_1 /sum_of_states # norm.population of ssDNA tensed\n",
    "    rel_conc.loc[i, 3] = k_3 /sum_of_states # norm.population of dsDNA relaxed\n",
    "    rel_conc.loc[i, 4] = k_3 * k_2 /sum_of_states # norm.population of ssDNA relaxed \n"
   ]
  },
  {
   "cell_type": "code",
   "execution_count": 32,
   "id": "fifteen-scale",
   "metadata": {},
   "outputs": [
    {
     "data": {
      "application/vnd.jupyter.widget-view+json": {
       "model_id": "41fbc1cd4de14fa58ba281baf880185b",
       "version_major": 2,
       "version_minor": 0
      },
      "text/plain": [
       "Canvas(toolbar=Toolbar(toolitems=[('Home', 'Reset original view', 'home', 'home'), ('Back', 'Back to previous …"
      ]
     },
     "metadata": {},
     "output_type": "display_data"
    }
   ],
   "source": [
    "plot.mult_func([1,2,3,4], [rel_conc.T])"
   ]
  },
  {
   "cell_type": "markdown",
   "id": "pleased-portsmouth",
   "metadata": {},
   "source": [
    "**Beers Law**"
   ]
  },
  {
   "cell_type": "code",
   "execution_count": 19,
   "id": "banned-salad",
   "metadata": {},
   "outputs": [
    {
     "name": "stdout",
     "output_type": "stream",
     "text": [
      "46_forward :  \t 32.555510909996435 nM\n",
      "46_reversed :  \t 34.156088486206414 nM\n",
      "Control_0M :  \t 39.91528363558218 nM\n",
      "Gdm2SO4_0.5M :  \t 42.751787017252255 nM\n",
      "Gdm2SO4_1M :  \t 41.15076228988254 nM\n",
      "Gdm2SO4_2M :  \t 44.423461627857364 nM\n",
      "Gdm2SO4_4M :  \t 44.97535794673911 nM\n",
      "Gdm2SO4_6M :  \t 40.121643895791955 nM\n",
      "GdmCl_0.5M :  \t 42.43866941765983 nM\n",
      "GdmCl_1M :  \t 37.753754929506165 nM\n",
      "GdmCl_2M :  \t 38.402794837836595 nM\n",
      "GdmCl_2M_20nM Origami :  \t 21.22391800821703 nM\n",
      "GdmCl_2M_24h :  \t 42.86480447287093 nM\n",
      "GdmCl_2M_80nM Origami :  \t 94.27466760794967 nM\n",
      "GdmCl_4M :  \t 45.29876002300503 nM\n",
      "GdmCl_6M :  \t 40.55392727944917 nM\n",
      "GdmCl_6M_alt :  \t 35.84687880888947 nM\n",
      "GdmSCN_0.5M :  \t 42.30485943311428 nM\n",
      "GdmSCN_2M :  \t 48.15627950918185 nM\n",
      "Urea_2M :  \t 40.48909036129009 nM\n"
     ]
    }
   ],
   "source": [
    "for key in data_all.keys():\n",
    "    absorbance = data_all[key].absorb_df.loc[260, 20]\n",
    "    df = data_all[key].cd_df\n",
    "    \n",
    "    conc_ds =  absorbance/(0.02*0.1) #[µg/mL]\n",
    "    molar = conc_ds * 10**(-6) / (4472760.4 * 10**(-3)) * (10**9) #[nmol/l] \n",
    "    df_norm = 100 * df / (molar * 0.1)    \n",
    "    print(key, \":  \\t\", molar , 'nM')"
   ]
  },
  {
   "cell_type": "code",
   "execution_count": null,
   "id": "resident-senate",
   "metadata": {},
   "outputs": [],
   "source": [
    "for key in data_all.keys():\n",
    "    plot.mult_func([280], [data_all[key].cd_df], subtitle=[key], y_scaling=True, y_max=[3.85], y_min=[1.75])"
   ]
  },
  {
   "cell_type": "code",
   "execution_count": null,
   "id": "thrown-violence",
   "metadata": {},
   "outputs": [],
   "source": [
    "\n",
    "\n",
    "        # put second y_axis for \"GdmCl_0.5M\" normed\n",
    "        # function to bring back values\n",
    "        def expand_back(y):\n",
    "            return y * (0.523893 - 0.379531) + 0.379531\n",
    "        # inverse function\n",
    "        def norm(y):\n",
    "            return (y - 0.379531) / (0.523893 - 0.379531)\n",
    "\n",
    "        # put axis and label\n",
    "        secax = ax.secondary_yaxis('right', functions=(expand_back, norm), fontsize=16)\n",
    "        secax.set_ylabel('Absorption [%]', fontsize=16)"
   ]
  },
  {
   "cell_type": "code",
   "execution_count": null,
   "id": "empty-canon",
   "metadata": {},
   "outputs": [],
   "source": [
    "df = data_all[\"Control_0M\"].cd_df\n",
    "mean = df.mean(axis=1)\n",
    "var =  df.var(axis=1)\n",
    "dyn = df.subtract(mean, axis=0)\n",
    "\n",
    "col = dyn.columns \n",
    "idx = dyn.index\n",
    "m = len(col)\n",
    "n =len(idx)"
   ]
  },
  {
   "cell_type": "code",
   "execution_count": null,
   "id": "annual-worcester",
   "metadata": {},
   "outputs": [],
   "source": [
    "wave1 =  247\n",
    "wave2 = 260\n",
    "i = 20\n",
    "\n",
    "print(np.sum((dyn.loc[wave1, :]/mean[wave1] - dyn.loc[wave2, :]/mean[wave2]) * col) * np.sqrt(var.loc[wave1]*var.loc[wave2])/(m*(m-1)) )\n"
   ]
  },
  {
   "cell_type": "code",
   "execution_count": null,
   "id": "controlled-garage",
   "metadata": {},
   "outputs": [],
   "source": [
    "\n",
    "assync = pd.DataFrame(np.zeros((n,n)), index=idx, columns=idx)\n",
    "\n",
    "for j in idx:\n",
    "    for k in idx:\n",
    "        assync.loc[j,k] = np.sum((dyn.loc[j, :]/mean[j] - dyn.loc[k, :]/mean[k]) * col) * np.sqrt(var.loc[j]*var.loc[k])/(m*(m-1))\n",
    "print(assync)"
   ]
  },
  {
   "cell_type": "code",
   "execution_count": null,
   "id": "devoted-heavy",
   "metadata": {},
   "outputs": [],
   "source": [
    "plot.heatmap(assync, x_min=[220], y_min=[220])"
   ]
  },
  {
   "cell_type": "code",
   "execution_count": null,
   "id": "mobile-administration",
   "metadata": {},
   "outputs": [],
   "source": []
  },
  {
   "cell_type": "code",
   "execution_count": 9,
   "id": "practical-floor",
   "metadata": {},
   "outputs": [],
   "source": []
  },
  {
   "cell_type": "code",
   "execution_count": 12,
   "id": "municipal-construction",
   "metadata": {},
   "outputs": [
    {
     "data": {
      "application/vnd.jupyter.widget-view+json": {
       "model_id": "e1a703bb249946739df528a56411dcf6",
       "version_major": 2,
       "version_minor": 0
      },
      "text/plain": [
       "Canvas(toolbar=Toolbar(toolitems=[('Home', 'Reset original view', 'home', 'home'), ('Back', 'Back to previous …"
      ]
     },
     "metadata": {},
     "output_type": "display_data"
    }
   ],
   "source": [
    "# read by default 1st sheet of an excel file\n",
    "print_path = \"C:\\\\Users\\\\crazy\\\\Documents\\\\Uni\\\\Masterarbeit\\\\Projekt\\\\Auswertung\\\\\"\n",
    "data_path1 = os.path.join(print_path, 'AveragedSpectra.xlsx')\n",
    "df= pd.read_excel(data_path1)\n",
    "df= df.drop(0, axis=0)\n",
    "df = df.set_index('Wavelength')\n",
    "plot.mult_func(['S1', 'S2', 'S2\\'', 'S3'], [df.T], marker=['','','',''], subtitle=[''], x_label='wavelength / nm',\n",
    "              colors=['tab:red', 'tab:blue', 'tab:grey', 'tab:green'], y_label='relative ellipticity', baseline=True, backgroundcolor='#FAFFCD')"
   ]
  },
  {
   "cell_type": "markdown",
   "id": "aggregate-thinking",
   "metadata": {},
   "source": [
    "# MD H-bonds Auswertung"
   ]
  },
  {
   "cell_type": "code",
   "execution_count": 3,
   "id": "international-usage",
   "metadata": {},
   "outputs": [],
   "source": [
    "print_path = \"C:\\\\Users\\\\crazy\\\\Documents\\\\Uni\\\\Masterarbeit\\\\Thesis\\\\MD\""
   ]
  },
  {
   "cell_type": "code",
   "execution_count": 31,
   "id": "peaceful-collar",
   "metadata": {},
   "outputs": [],
   "source": [
    "liste = ['Hbonds-Gdm2SO4-DNA_to_Gdm.dat', 'Hbonds-Gdm2SO4-DNA_to_wat.dat','Hbonds-Gdm2SO4-withinDNA.dat',\n",
    "         'Hbonds-GdmCl-DNA_to_Gdm.dat', 'Hbonds-GdmCl-DNA_to_wat.dat', 'Hbonds-GdmCl-withinDNA.dat']"
   ]
  },
  {
   "cell_type": "code",
   "execution_count": 45,
   "id": "opposed-republic",
   "metadata": {},
   "outputs": [
    {
     "name": "stdout",
     "output_type": "stream",
     "text": [
      "Hbonds-Gdm2SO4-DNA_to_Gdm.dat : \\  27.1496 +- 4.39562101833488\n"
     ]
    },
    {
     "data": {
      "application/vnd.jupyter.widget-view+json": {
       "model_id": "c6e783c3882c4326a7cf5d4a3ec2c051",
       "version_major": 2,
       "version_minor": 0
      },
      "text/plain": [
       "Canvas(toolbar=Toolbar(toolitems=[('Home', 'Reset original view', 'home', 'home'), ('Back', 'Back to previous …"
      ]
     },
     "metadata": {},
     "output_type": "display_data"
    },
    {
     "name": "stdout",
     "output_type": "stream",
     "text": [
      "Hbonds-Gdm2SO4-DNA_to_wat.dat : \\  111.2954 +- 6.61538294419149\n"
     ]
    },
    {
     "data": {
      "application/vnd.jupyter.widget-view+json": {
       "model_id": "ada7c9beb2b3461f81b489f17e3a5f63",
       "version_major": 2,
       "version_minor": 0
      },
      "text/plain": [
       "Canvas(toolbar=Toolbar(toolitems=[('Home', 'Reset original view', 'home', 'home'), ('Back', 'Back to previous …"
      ]
     },
     "metadata": {},
     "output_type": "display_data"
    },
    {
     "name": "stdout",
     "output_type": "stream",
     "text": [
      "Hbonds-Gdm2SO4-withinDNA.dat : \\  21.818 +- 2.9431629995106183\n"
     ]
    },
    {
     "data": {
      "application/vnd.jupyter.widget-view+json": {
       "model_id": "cb3a1efd1fb445ebb9052f5179a42221",
       "version_major": 2,
       "version_minor": 0
      },
      "text/plain": [
       "Canvas(toolbar=Toolbar(toolitems=[('Home', 'Reset original view', 'home', 'home'), ('Back', 'Back to previous …"
      ]
     },
     "metadata": {},
     "output_type": "display_data"
    },
    {
     "name": "stdout",
     "output_type": "stream",
     "text": [
      "Hbonds-GdmCl-DNA_to_Gdm.dat : \\  34.4356 +- 4.877808036633715\n"
     ]
    },
    {
     "data": {
      "application/vnd.jupyter.widget-view+json": {
       "model_id": "c220cb0b36e94b548a2f6b30bc9caf1d",
       "version_major": 2,
       "version_minor": 0
      },
      "text/plain": [
       "Canvas(toolbar=Toolbar(toolitems=[('Home', 'Reset original view', 'home', 'home'), ('Back', 'Back to previous …"
      ]
     },
     "metadata": {},
     "output_type": "display_data"
    },
    {
     "name": "stdout",
     "output_type": "stream",
     "text": [
      "Hbonds-GdmCl-DNA_to_wat.dat : \\  77.0534 +- 6.922292399661638\n"
     ]
    },
    {
     "data": {
      "application/vnd.jupyter.widget-view+json": {
       "model_id": "37bcaaebef5240079dfc693e01aace4a",
       "version_major": 2,
       "version_minor": 0
      },
      "text/plain": [
       "Canvas(toolbar=Toolbar(toolitems=[('Home', 'Reset original view', 'home', 'home'), ('Back', 'Back to previous …"
      ]
     },
     "metadata": {},
     "output_type": "display_data"
    },
    {
     "name": "stdout",
     "output_type": "stream",
     "text": [
      "Hbonds-GdmCl-withinDNA.dat : \\  21.6896 +- 2.9157078232261346\n"
     ]
    },
    {
     "data": {
      "application/vnd.jupyter.widget-view+json": {
       "model_id": "cf50f0fb6b9c47f4a74032422c27eb00",
       "version_major": 2,
       "version_minor": 0
      },
      "text/plain": [
       "Canvas(toolbar=Toolbar(toolitems=[('Home', 'Reset original view', 'home', 'home'), ('Back', 'Back to previous …"
      ]
     },
     "metadata": {},
     "output_type": "display_data"
    }
   ],
   "source": [
    "for name in liste:\n",
    "\n",
    "    \n",
    "    # get data path\n",
    "    data_path = os.path.join(print_path, name)\n",
    "  \n",
    "    # open file and create data list\n",
    "    file = open(data_path, \"r\")\n",
    "    data = []\n",
    "        \n",
    "    # list of lines, of which all elemnts equal to space or enter are used as split, and then empty elements are deleted\n",
    "    list_of_lines = file.readlines()\n",
    "    \n",
    "    \n",
    "    for k in range(len(list_of_lines)):\n",
    "        data.extend(re.split(' |\\n', list_of_lines[k]))\n",
    "        data1 = np.array(list(filter(lambda x: x != '', data)))\n",
    "    \n",
    "  \n",
    "    # data list reshaped as 2D array and added to plot\n",
    "    data1 = data1.reshape(len(list_of_lines), 2)\n",
    "\n",
    "    df =  pd.DataFrame(data1, columns=['frame', 'Hbonds'])\n",
    "    df = df.set_index('frame')\n",
    "    df = df.astype('int')\n",
    "    print(name, ': \\ ', df['Hbonds'].mean(), '+-', df['Hbonds'].std())\n",
    "    \n",
    "    #array = np.array(df['Hbonds'].min(), df['Hbonds'].max()+1, 2)\n",
    "    \n",
    "    # setup the plot\n",
    "    \n",
    "    fig,ax = plt.subplots(1,1)\n",
    "    \n",
    "    df.hist(column='Hbonds', bins=np.arange(50, 101, 2), grid=False, histtype='stepfilled', ax=ax)\n",
    "    ax.set_title(name)\n",
    "    ax.set_xlabel('number of h-bonds')\n",
    "    ax.set_ylabel('number of frames')\n",
    "    plt.show()"
   ]
  },
  {
   "cell_type": "markdown",
   "id": "assisted-flower",
   "metadata": {},
   "source": [
    "# Parafak Ethanol"
   ]
  },
  {
   "cell_type": "markdown",
   "id": "animated-speaking",
   "metadata": {},
   "source": [
    "## *setting up the Notebook*"
   ]
  },
  {
   "cell_type": "code",
   "execution_count": null,
   "id": "numerous-replacement",
   "metadata": {},
   "outputs": [],
   "source": [
    "# Enabling the `widget` backend.\n",
    "# This requires jupyter-matplotlib a.k.a. ipympl.\n",
    "# ipympl can be install via pip or conda.\n",
    "%matplotlib widget\n",
    "        \n",
    "import matplotlib.pyplot as plt\n",
    "import numpy as np\n",
    "import pandas as pd\n",
    "from ipywidgets import Output\n",
    "import matplotlib\n",
    "\n",
    "from scipy import integrate\n",
    "import lmfit\n",
    "import os"
   ]
  },
  {
   "cell_type": "code",
   "execution_count": null,
   "id": "american-circuit",
   "metadata": {},
   "outputs": [],
   "source": [
    "import analise as ana\n",
    "import cdata \n",
    "import hotznplots as plot"
   ]
  },
  {
   "cell_type": "markdown",
   "id": "retained-swaziland",
   "metadata": {},
   "source": [
    "<div class=\"alert alert-block alert-info\">\n",
    "<b>Info:</b> Print always whole DataFrames\n",
    "</div>"
   ]
  },
  {
   "cell_type": "code",
   "execution_count": null,
   "id": "direct-detector",
   "metadata": {},
   "outputs": [],
   "source": [
    "# Default value of display.max_rows is 10 i.e. at max 10 rows will be printed.\n",
    "# Set it None to display all rows in the dataframe\n",
    "pd.set_option('display.max_rows', None)"
   ]
  },
  {
   "cell_type": "code",
   "execution_count": null,
   "id": "dangerous-weekend",
   "metadata": {},
   "outputs": [],
   "source": [
    "# change plot size\n",
    "plt.rcParams[\"figure.figsize\"] = (11,9)"
   ]
  },
  {
   "cell_type": "markdown",
   "id": "occupational-gardening",
   "metadata": {},
   "source": [
    "<div class=\"alert alert-block alert-info\">\n",
    "<b>Info:</b> Get the data\n",
    "</div>"
   ]
  },
  {
   "cell_type": "code",
   "execution_count": null,
   "id": "electrical-device",
   "metadata": {},
   "outputs": [],
   "source": [
    "# Path for Daniel:\n",
    "#path = \"F:\\\\HZDR\\\\CD_data\"\n",
    "\n",
    "# My Path:\n",
    "path = \"C:\\\\Users\\\\crazy\\\\Mega\\\\Uni\\\\Masterarbeit\\\\Projekt\\\\Data\\\\CD_data\\\\Ethanol\"\n",
    "datalist = os.listdir(path)\n",
    "print(datalist)"
   ]
  },
  {
   "cell_type": "code",
   "execution_count": null,
   "id": "different-canon",
   "metadata": {},
   "outputs": [],
   "source": [
    "# all data in one dictionary with foldernames as names\n",
    "data_all = {}\n",
    "for i in range(len(datalist)):\n",
    "    data_all[datalist[i]] = cdata.CData(os.path.join(path, datalist[i]))"
   ]
  },
  {
   "cell_type": "code",
   "execution_count": null,
   "id": "proved-tsunami",
   "metadata": {},
   "outputs": [],
   "source": [
    "df =  data_all[\"Control_0%\"].cd_df\n",
    "df = df.rename(columns={-1:\"0%\"})\n",
    "df[\"50%\"] =  (data_all[\"Ethanol_50%\"].cd_df.loc[:,-1])\n",
    "df[\"nach\"] =  (data_all[\"Ethanol_50%_nachTest\"].cd_df.loc[:,-1])\n",
    "df[\"vor\"] =  (data_all[\"Ethanol_50%_vorTest\"].cd_df.loc[:,-1])\n",
    "df[\"50% real\"] =  (data_all[\"Ethanol_50%_real\"].cd_df.loc[:,-1])\n",
    "print(df)"
   ]
  },
  {
   "cell_type": "code",
   "execution_count": null,
   "id": "colonial-duration",
   "metadata": {},
   "outputs": [],
   "source": [
    "plot.mult_func(['0%', 'vor', 'nach', '50%', \"50% real\" ], [df], swap=True, marker=[\"\", \"\", \"\", \"\", \"\"], x_label=\"Wavelengt [nm]\")"
   ]
  },
  {
   "cell_type": "markdown",
   "id": "fitted-analysis",
   "metadata": {},
   "source": [
    "# Salmon testes"
   ]
  },
  {
   "cell_type": "markdown",
   "id": "encouraging-province",
   "metadata": {},
   "source": [
    "## setting up the notebook\n"
   ]
  },
  {
   "cell_type": "code",
   "execution_count": null,
   "id": "korean-alexandria",
   "metadata": {},
   "outputs": [],
   "source": [
    "# Enabling the `widget` backend.\n",
    "# This requires jupyter-matplotlib a.k.a. ipympl.\n",
    "# ipympl can be install via pip or conda.\n",
    "%matplotlib widget\n",
    "        \n",
    "import matplotlib.pyplot as plt\n",
    "import numpy as np\n",
    "import pandas as pd\n",
    "from ipywidgets import Output\n",
    "import matplotlib\n",
    "import openpyxl\n",
    "\n",
    "from scipy import integrate\n",
    "import lmfit\n",
    "import os"
   ]
  },
  {
   "cell_type": "code",
   "execution_count": null,
   "id": "induced-muscle",
   "metadata": {},
   "outputs": [],
   "source": [
    "import analise as ana\n",
    "import cdata \n",
    "import hotznplots as plot"
   ]
  },
  {
   "cell_type": "markdown",
   "id": "crucial-headquarters",
   "metadata": {},
   "source": [
    "<div class=\"alert alert-block alert-info\">\n",
    "<b>Info:</b> Print always whole DataFrames\n",
    "</div>"
   ]
  },
  {
   "cell_type": "code",
   "execution_count": null,
   "id": "fiscal-illinois",
   "metadata": {},
   "outputs": [],
   "source": [
    "# Default value of display.max_rows is 10 i.e. at max 10 rows will be printed.\n",
    "# Set it None to display all rows in the dataframe\n",
    "pd.set_option('display.max_rows', None)"
   ]
  },
  {
   "cell_type": "code",
   "execution_count": null,
   "id": "amber-waterproof",
   "metadata": {},
   "outputs": [],
   "source": [
    "# change plot size\n",
    "plt.rcParams[\"figure.figsize\"] = (10,7)"
   ]
  },
  {
   "cell_type": "markdown",
   "id": "optimum-annotation",
   "metadata": {},
   "source": [
    "<div class=\"alert alert-block alert-info\">\n",
    "<b>Info:</b> Get the data\n",
    "</div>"
   ]
  },
  {
   "cell_type": "code",
   "execution_count": null,
   "id": "amino-prototype",
   "metadata": {},
   "outputs": [],
   "source": [
    "# Path for Daniel:\n",
    "#path = \"F:\\\\HZDR\\\\CD_data\"\n",
    "\n",
    "# My Path:\n",
    "path = \"C:\\\\Users\\\\crazy\\\\Mega\\\\Uni\\\\Masterarbeit\\\\Projekt\\\\Data\\\\CD_data\\\\Salmon Testes\"\n",
    "datalist_salmon = os.listdir(path)\n",
    "print(datalist_salmon)"
   ]
  },
  {
   "cell_type": "code",
   "execution_count": null,
   "id": "actual-section",
   "metadata": {},
   "outputs": [],
   "source": [
    "# all data in one dictionary with foldernames as names\n",
    "data_salmon = {}\n",
    "for i in range(len(datalist_salmon)):\n",
    "    data_salmon[datalist_salmon[i]] = cdata.CData(os.path.join(path, datalist_salmon[i]))"
   ]
  },
  {
   "cell_type": "code",
   "execution_count": null,
   "id": "sticky-whole",
   "metadata": {},
   "outputs": [],
   "source": [
    "for key in data_salmon.keys():\n",
    "    absorbance = data_salmon[key].absorb_df.loc[260, 20]\n",
    "    df = data_salmon[key].cd_df\n",
    "    \n",
    "    conc_ds =  absorbance/(0.02*0.1*(10**3)) #[mg/mL]\n",
    "    print(key, \":  \\t\", conc_ds)"
   ]
  },
  {
   "cell_type": "code",
   "execution_count": null,
   "id": "prime-experiment",
   "metadata": {},
   "outputs": [],
   "source": [
    "for key in data_salmon.keys():\n",
    "    plot.mult_func([260], [data_salmon[key].absorb_df], subtitle=[key])"
   ]
  },
  {
   "cell_type": "code",
   "execution_count": null,
   "id": "rotary-highlight",
   "metadata": {},
   "outputs": [],
   "source": [
    "print(data_salmon[\"Control_0M_continous\"].t_list)"
   ]
  },
  {
   "cell_type": "code",
   "execution_count": null,
   "id": "ceramic-overhead",
   "metadata": {},
   "outputs": [],
   "source": [
    "plot.mult_func([20, 40, 60, 80], [data_salmon['Control_0M_continous'].cd_df], swap=True, baseline=True, marker=[\"\",\"\",\"\",\"\"], subtitle=[\"Salmon Control\"], linestyle=[\"-\",\":\", \":\", \"-\"], x_min=220)"
   ]
  },
  {
   "cell_type": "code",
   "execution_count": null,
   "id": "accepting-egyptian",
   "metadata": {},
   "outputs": [],
   "source": []
  },
  {
   "cell_type": "code",
   "execution_count": null,
   "id": "configured-static",
   "metadata": {},
   "outputs": [],
   "source": []
  }
 ],
 "metadata": {
  "kernelspec": {
   "display_name": "Python 3",
   "language": "python",
   "name": "python3"
  },
  "language_info": {
   "codemirror_mode": {
    "name": "ipython",
    "version": 3
   },
   "file_extension": ".py",
   "mimetype": "text/x-python",
   "name": "python",
   "nbconvert_exporter": "python",
   "pygments_lexer": "ipython3",
   "version": "3.8.6"
  },
  "toc-autonumbering": true,
  "toc-showcode": false,
  "toc-showmarkdowntxt": false
 },
 "nbformat": 4,
 "nbformat_minor": 5
}
