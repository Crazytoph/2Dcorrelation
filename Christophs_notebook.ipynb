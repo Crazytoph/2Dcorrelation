{
 "cells": [
  {
   "cell_type": "markdown",
   "id": "split-slide",
   "metadata": {},
   "source": [
    "*for more information, checkout* [Github](https://github.com/Crazytoph/2Dcorrelation \"my github page\")."
   ]
  },
  {
   "cell_type": "markdown",
   "id": "adequate-amendment",
   "metadata": {},
   "source": [
    "# CD Measurements - Data Analysis"
   ]
  },
  {
   "cell_type": "markdown",
   "id": "healthy-supervisor",
   "metadata": {},
   "source": [
    "## *setting up the Notebook*"
   ]
  },
  {
   "cell_type": "code",
   "execution_count": 1,
   "id": "incident-incentive",
   "metadata": {},
   "outputs": [],
   "source": [
    "# Enabling the `widget` backend.\n",
    "# This requires jupyter-matplotlib a.k.a. ipympl.\n",
    "# ipympl can be install via pip or conda.\n",
    "%matplotlib widget\n",
    "        \n",
    "import matplotlib.pyplot as plt\n",
    "import numpy as np\n",
    "import pandas as pd\n",
    "from ipywidgets import Output\n",
    "import matplotlib\n",
    "\n",
    "from scipy import integrate\n",
    "import lmfit\n",
    "import os"
   ]
  },
  {
   "cell_type": "code",
   "execution_count": 2,
   "id": "august-ballet",
   "metadata": {},
   "outputs": [],
   "source": [
    "import analise as ana\n",
    "import cdata \n",
    "import hotznplots as plot"
   ]
  },
  {
   "cell_type": "markdown",
   "id": "aerial-addiction",
   "metadata": {},
   "source": [
    "<div class=\"alert alert-block alert-info\">\n",
    "<b>Info:</b> Print always whole DataFrames\n",
    "</div>"
   ]
  },
  {
   "cell_type": "code",
   "execution_count": 3,
   "id": "surface-classics",
   "metadata": {},
   "outputs": [],
   "source": [
    "# Default value of display.max_rows is 10 i.e. at max 10 rows will be printed.\n",
    "# Set it None to display all rows in the dataframe\n",
    "pd.set_option('display.max_rows', None)"
   ]
  },
  {
   "cell_type": "code",
   "execution_count": 4,
   "id": "israeli-lucas",
   "metadata": {},
   "outputs": [],
   "source": [
    "# change plot size\n",
    "plt.rcParams[\"figure.figsize\"] = (11,9)"
   ]
  },
  {
   "cell_type": "markdown",
   "id": "plastic-salmon",
   "metadata": {},
   "source": [
    "<div class=\"alert alert-block alert-info\">\n",
    "<b>Info:</b> Get the data\n",
    "</div>"
   ]
  },
  {
   "cell_type": "code",
   "execution_count": 5,
   "id": "sunrise-organ",
   "metadata": {},
   "outputs": [
    {
     "name": "stdout",
     "output_type": "stream",
     "text": [
      "['Control_0M', 'Gdm2SO4_0.5M', 'Gdm2SO4_2M', 'Gdm2SO4_4M', 'GdmCl_0.5M', 'GdmCl_2M', 'GdmCl_2M_24h', 'GdmCl_4M', 'GdmSCN_0.5M', 'GdmSCN_2M', 'Urea_2M']\n"
     ]
    }
   ],
   "source": [
    "# Path for Daniel:\n",
    "#path = \"F:\\\\HZDR\\\\CD_data\"\n",
    "\n",
    "# My Path:\n",
    "path = \"C:\\\\Users\\\\crazy\\\\Mega\\\\Uni\\\\Masterarbeit\\\\Projekt\\\\Data\\\\CD_data\\\\DNA Origami\"\n",
    "datalist = os.listdir(path)\n",
    "print(datalist)"
   ]
  },
  {
   "cell_type": "code",
   "execution_count": 6,
   "id": "strategic-plenty",
   "metadata": {},
   "outputs": [],
   "source": [
    "# all data in one dictionary with foldernames as names\n",
    "data_all = {}\n",
    "for i in range(len(datalist)):\n",
    "    data_all[datalist[i]] = cdata.CData(os.path.join(path, datalist[i]))"
   ]
  },
  {
   "cell_type": "code",
   "execution_count": 7,
   "id": "interesting-blocking",
   "metadata": {},
   "outputs": [
    {
     "name": "stdout",
     "output_type": "stream",
     "text": [
      "<cdata.CData object at 0x000001F4DA733760>\n",
      "[<cdata.CData object at 0x000001F4DA733760>, <cdata.CData object at 0x000001F4D69777C0>]\n",
      "(<cdata.CData object at 0x000001F4DA733760>, <cdata.CData object at 0x000001F4DA60BB80>, <cdata.CData object at 0x000001F4D69776D0>, <cdata.CData object at 0x000001F4D69777C0>)\n"
     ]
    }
   ],
   "source": [
    "# options to acces data\n",
    "print(data_all['Control_0M'])\n",
    "# multiple options\n",
    "print(list(map(data_all.get, ['Control_0M', 'Gdm2SO4_4M'])))\n",
    "print(tuple(data_all.values())[0:4])"
   ]
  },
  {
   "cell_type": "markdown",
   "id": "successful-timing",
   "metadata": {},
   "source": [
    "## Colormaps"
   ]
  },
  {
   "cell_type": "markdown",
   "id": "prompt-billion",
   "metadata": {},
   "source": [
    "### Heat Maps"
   ]
  },
  {
   "cell_type": "code",
   "execution_count": 8,
   "id": "skilled-gateway",
   "metadata": {},
   "outputs": [
    {
     "data": {
      "application/vnd.jupyter.widget-view+json": {
       "model_id": "d6f668b63a164a29ae6e919c13f606b1",
       "version_major": 2,
       "version_minor": 0
      },
      "text/plain": [
       "Canvas(toolbar=Toolbar(toolitems=[('Home', 'Reset original view', 'home', 'home'), ('Back', 'Back to previous …"
      ]
     },
     "metadata": {},
     "output_type": "display_data"
    }
   ],
   "source": [
    "plot.heatmap(*tuple(data_all.values()), subtitle=tuple(data_all.keys()), title=\"Cd-Values\", x_min=[220]*len(data_all))"
   ]
  },
  {
   "cell_type": "markdown",
   "id": "organic-queens",
   "metadata": {},
   "source": [
    "### 3D surface plots"
   ]
  },
  {
   "cell_type": "code",
   "execution_count": 8,
   "id": "grand-soundtrack",
   "metadata": {},
   "outputs": [
    {
     "data": {
      "application/vnd.jupyter.widget-view+json": {
       "model_id": "2fa9d7ff892f46d3a9a14a3ce990af42",
       "version_major": 2,
       "version_minor": 0
      },
      "text/plain": [
       "Canvas(toolbar=Toolbar(toolitems=[('Home', 'Reset original view', 'home', 'home'), ('Back', 'Back to previous …"
      ]
     },
     "metadata": {},
     "output_type": "display_data"
    },
    {
     "name": "stderr",
     "output_type": "stream",
     "text": [
      "No handles with labels found to put in legend.\n"
     ]
    }
   ],
   "source": [
    "plot.function3d(data_all[\"Control_0M\"].cd_df.loc[220:])"
   ]
  },
  {
   "cell_type": "markdown",
   "id": "excellent-patch",
   "metadata": {},
   "source": [
    "## Function Plots "
   ]
  },
  {
   "cell_type": "markdown",
   "id": "broke-teaching",
   "metadata": {},
   "source": [
    "### CD-Spectra Plot"
   ]
  },
  {
   "cell_type": "code",
   "execution_count": 26,
   "id": "inside-uniform",
   "metadata": {},
   "outputs": [
    {
     "data": {
      "application/vnd.jupyter.widget-view+json": {
       "model_id": "fc0c23a0ce2347c28b34119548e8685a",
       "version_major": 2,
       "version_minor": 0
      },
      "text/plain": [
       "Canvas(toolbar=Toolbar(toolitems=[('Home', 'Reset original view', 'home', 'home'), ('Back', 'Back to previous …"
      ]
     },
     "metadata": {},
     "output_type": "display_data"
    },
    {
     "name": "stderr",
     "output_type": "stream",
     "text": [
      "C:\\Users\\crazy\\PycharmProjects\\2Dcorrelation\\hotznplots.py:329: RuntimeWarning: More than 20 figures have been opened. Figures created through the pyplot interface (`matplotlib.pyplot.figure`) are retained until explicitly closed and may consume too much memory. (To control this warning, see the rcParam `figure.max_open_warning`).\n",
      "  fig = plt.figure(facecolor=backgroundcolor)  # create figure\n"
     ]
    },
    {
     "data": {
      "application/vnd.jupyter.widget-view+json": {
       "model_id": "c320b14d645b4084a26b3b6eb875b684",
       "version_major": 2,
       "version_minor": 0
      },
      "text/plain": [
       "Canvas(toolbar=Toolbar(toolitems=[('Home', 'Reset original view', 'home', 'home'), ('Back', 'Back to previous …"
      ]
     },
     "metadata": {},
     "output_type": "display_data"
    },
    {
     "data": {
      "application/vnd.jupyter.widget-view+json": {
       "model_id": "c38d7b7036ad4a07a64efce42729bff9",
       "version_major": 2,
       "version_minor": 0
      },
      "text/plain": [
       "Canvas(toolbar=Toolbar(toolitems=[('Home', 'Reset original view', 'home', 'home'), ('Back', 'Back to previous …"
      ]
     },
     "metadata": {},
     "output_type": "display_data"
    },
    {
     "data": {
      "application/vnd.jupyter.widget-view+json": {
       "model_id": "b40d1593bc5d4c1d9aeec8475f8958f3",
       "version_major": 2,
       "version_minor": 0
      },
      "text/plain": [
       "Canvas(toolbar=Toolbar(toolitems=[('Home', 'Reset original view', 'home', 'home'), ('Back', 'Back to previous …"
      ]
     },
     "metadata": {},
     "output_type": "display_data"
    },
    {
     "data": {
      "application/vnd.jupyter.widget-view+json": {
       "model_id": "ead9c9c27077443099c8472557052036",
       "version_major": 2,
       "version_minor": 0
      },
      "text/plain": [
       "Canvas(toolbar=Toolbar(toolitems=[('Home', 'Reset original view', 'home', 'home'), ('Back', 'Back to previous …"
      ]
     },
     "metadata": {},
     "output_type": "display_data"
    },
    {
     "data": {
      "application/vnd.jupyter.widget-view+json": {
       "model_id": "0503b92c33204357b8ba661b232dc0a4",
       "version_major": 2,
       "version_minor": 0
      },
      "text/plain": [
       "Canvas(toolbar=Toolbar(toolitems=[('Home', 'Reset original view', 'home', 'home'), ('Back', 'Back to previous …"
      ]
     },
     "metadata": {},
     "output_type": "display_data"
    },
    {
     "data": {
      "application/vnd.jupyter.widget-view+json": {
       "model_id": "c2c38a8edc3946168ef225402b3d3e7f",
       "version_major": 2,
       "version_minor": 0
      },
      "text/plain": [
       "Canvas(toolbar=Toolbar(toolitems=[('Home', 'Reset original view', 'home', 'home'), ('Back', 'Back to previous …"
      ]
     },
     "metadata": {},
     "output_type": "display_data"
    },
    {
     "data": {
      "application/vnd.jupyter.widget-view+json": {
       "model_id": "a89b7282247e4289acfce09894481e4f",
       "version_major": 2,
       "version_minor": 0
      },
      "text/plain": [
       "Canvas(toolbar=Toolbar(toolitems=[('Home', 'Reset original view', 'home', 'home'), ('Back', 'Back to previous …"
      ]
     },
     "metadata": {},
     "output_type": "display_data"
    },
    {
     "data": {
      "application/vnd.jupyter.widget-view+json": {
       "model_id": "7fa05e1631a6408bb4f1750d0deba4ae",
       "version_major": 2,
       "version_minor": 0
      },
      "text/plain": [
       "Canvas(toolbar=Toolbar(toolitems=[('Home', 'Reset original view', 'home', 'home'), ('Back', 'Back to previous …"
      ]
     },
     "metadata": {},
     "output_type": "display_data"
    }
   ],
   "source": [
    "wave_min = 260\n",
    "wave_max = 300\n",
    "\n",
    "key_list = ['Control_0M', 'Gdm2SO4_0.5M', 'Gdm2SO4_2M', 'Gdm2SO4_4M', 'GdmCl_0.5M', 'GdmCl_2M',  'GdmCl_4M', 'GdmSCN_0.5M', 'GdmSCN_2M']\n",
    "for key in key_list:\n",
    "    plot.mult_func([20, 30, 40, 45], [data_all[key].cd_df.loc[wave_min:wave_max]], title=key, swap=True,\n",
    "                   x_label=\"Wavelength [nm]\", y_label=\"CD values [mdeg]\", subtitle=[\"\"], label=[\"20°C\", \"30°C\", \"40°C\", \"45°C\"], marker=['s', 'D', 'd', 'o'], linestyle=['-', ':', ':', '-'], baseline=True)"
   ]
  },
  {
   "cell_type": "code",
   "execution_count": 9,
   "id": "precise-conspiracy",
   "metadata": {},
   "outputs": [
    {
     "data": {
      "application/vnd.jupyter.widget-view+json": {
       "model_id": "f50680fe04ce440ca3c63d04a862232b",
       "version_major": 2,
       "version_minor": 0
      },
      "text/plain": [
       "Canvas(toolbar=Toolbar(toolitems=[('Home', 'Reset original view', 'home', 'home'), ('Back', 'Back to previous …"
      ]
     },
     "metadata": {},
     "output_type": "display_data"
    }
   ],
   "source": [
    "data=[]\n",
    "for key in data_all.keys():\n",
    "    data.append([data_all[key].cd_df.T])\n",
    "\n",
    "plot.mult_func([20, 40, 55, 60, 65, 70, 90], *data, subtitle=tuple(data_all.keys()),\n",
    "               title=\"CD-Spectra\", marker=[\"\",\"\", \"\", \"\", \"\", \"\", \"\"], x_min=210\n",
    "              )"
   ]
  },
  {
   "cell_type": "markdown",
   "id": "cubic-sentence",
   "metadata": {},
   "source": [
    "### Max/Min Plots\n"
   ]
  },
  {
   "cell_type": "markdown",
   "id": "going-trinidad",
   "metadata": {},
   "source": [
    "multiple probes"
   ]
  },
  {
   "cell_type": "code",
   "execution_count": 10,
   "id": "residential-willow",
   "metadata": {},
   "outputs": [
    {
     "data": {
      "application/vnd.jupyter.widget-view+json": {
       "model_id": "6f696b1d2e1446f39663abdd45427261",
       "version_major": 2,
       "version_minor": 0
      },
      "text/plain": [
       "Canvas(toolbar=Toolbar(toolitems=[('Home', 'Reset original view', 'home', 'home'), ('Back', 'Back to previous …"
      ]
     },
     "metadata": {},
     "output_type": "display_data"
    }
   ],
   "source": [
    "wave_min = 210\n",
    "wave_max =  230\n",
    "\n",
    "\n",
    "# First data you want to add to the plot\n",
    "plot_data =  ana.max_wave(data_all[\"Control_0M\"].cd_df, wave_min=wave_min, wave_max=wave_max)\n",
    "plot_data = plot_data.drop(['Wavelength'], axis=1)   \n",
    "plot_data.rename(columns = {'Value': 'Control_0M'}, inplace = True)\n",
    "\n",
    "\n",
    "\n",
    "# other Data you want to add, if always same max/min values then loop would be possible\n",
    "plot_data[\"GdmCl_4M\"] = ana.max_wave(data_all[\"GdmCl_4M\"].cd_df, wave_min=wave_min, wave_max=wave_max)[\"Value\"]\n",
    "plot_data[\"Gdm2SO4_2M\"] = ana.max_wave(data_all[\"Gdm2SO4_2M\"].cd_df, wave_min=wave_min, wave_max=wave_max)[\"Value\"]\n",
    "#plot_data[\"GdmSCN_2M\"] 2= ana.max_wave(data_all[\"GdmSCN_2M\"].cd_df, wave_min=wave_min, wave_max=wave_max)[\"Value\"]\n",
    "\n",
    "\n",
    "plot.mult_func([\"Control_0M\", \"GdmCl_4M\", \"Gdm2SO4_2M\"], [plot_data.T], subtitle=[\"\"], title=\"Max. CD Value between 210nm - 230nm\")"
   ]
  },
  {
   "cell_type": "markdown",
   "id": "weird-weapon",
   "metadata": {},
   "source": [
    "one probe"
   ]
  },
  {
   "cell_type": "code",
   "execution_count": 15,
   "id": "tropical-championship",
   "metadata": {},
   "outputs": [
    {
     "data": {
      "application/vnd.jupyter.widget-view+json": {
       "model_id": "f72d97d41e48459eb723bb30acc239cd",
       "version_major": 2,
       "version_minor": 0
      },
      "text/plain": [
       "Canvas(toolbar=Toolbar(toolitems=[('Home', 'Reset original view', 'home', 'home'), ('Back', 'Back to previous …"
      ]
     },
     "metadata": {},
     "output_type": "display_data"
    },
    {
     "data": {
      "application/vnd.jupyter.widget-view+json": {
       "model_id": "83a43084f829464c8d1d2c3cbbe6535a",
       "version_major": 2,
       "version_minor": 0
      },
      "text/plain": [
       "Canvas(toolbar=Toolbar(toolitems=[('Home', 'Reset original view', 'home', 'home'), ('Back', 'Back to previous …"
      ]
     },
     "metadata": {},
     "output_type": "display_data"
    },
    {
     "data": {
      "application/vnd.jupyter.widget-view+json": {
       "model_id": "f48223ffb14c49079e937ecb7fadde39",
       "version_major": 2,
       "version_minor": 0
      },
      "text/plain": [
       "Canvas(toolbar=Toolbar(toolitems=[('Home', 'Reset original view', 'home', 'home'), ('Back', 'Back to previous …"
      ]
     },
     "metadata": {},
     "output_type": "display_data"
    },
    {
     "data": {
      "application/vnd.jupyter.widget-view+json": {
       "model_id": "d46d1249cc1d44f6a0b5090cd69dada9",
       "version_major": 2,
       "version_minor": 0
      },
      "text/plain": [
       "Canvas(toolbar=Toolbar(toolitems=[('Home', 'Reset original view', 'home', 'home'), ('Back', 'Back to previous …"
      ]
     },
     "metadata": {},
     "output_type": "display_data"
    },
    {
     "data": {
      "application/vnd.jupyter.widget-view+json": {
       "model_id": "3c475e2f6c944bea910df4241fb30393",
       "version_major": 2,
       "version_minor": 0
      },
      "text/plain": [
       "Canvas(toolbar=Toolbar(toolitems=[('Home', 'Reset original view', 'home', 'home'), ('Back', 'Back to previous …"
      ]
     },
     "metadata": {},
     "output_type": "display_data"
    },
    {
     "data": {
      "application/vnd.jupyter.widget-view+json": {
       "model_id": "221f08fdd72b4892bcca8879e40e895d",
       "version_major": 2,
       "version_minor": 0
      },
      "text/plain": [
       "Canvas(toolbar=Toolbar(toolitems=[('Home', 'Reset original view', 'home', 'home'), ('Back', 'Back to previous …"
      ]
     },
     "metadata": {},
     "output_type": "display_data"
    },
    {
     "data": {
      "application/vnd.jupyter.widget-view+json": {
       "model_id": "c63995a5677047b8a4e9d6b28a0d7097",
       "version_major": 2,
       "version_minor": 0
      },
      "text/plain": [
       "Canvas(toolbar=Toolbar(toolitems=[('Home', 'Reset original view', 'home', 'home'), ('Back', 'Back to previous …"
      ]
     },
     "metadata": {},
     "output_type": "display_data"
    },
    {
     "data": {
      "application/vnd.jupyter.widget-view+json": {
       "model_id": "efe1dc62afb94b719617149d94e38868",
       "version_major": 2,
       "version_minor": 0
      },
      "text/plain": [
       "Canvas(toolbar=Toolbar(toolitems=[('Home', 'Reset original view', 'home', 'home'), ('Back', 'Back to previous …"
      ]
     },
     "metadata": {},
     "output_type": "display_data"
    },
    {
     "data": {
      "application/vnd.jupyter.widget-view+json": {
       "model_id": "4e9be91f4fae492983160df331a99a03",
       "version_major": 2,
       "version_minor": 0
      },
      "text/plain": [
       "Canvas(toolbar=Toolbar(toolitems=[('Home', 'Reset original view', 'home', 'home'), ('Back', 'Back to previous …"
      ]
     },
     "metadata": {},
     "output_type": "display_data"
    },
    {
     "data": {
      "application/vnd.jupyter.widget-view+json": {
       "model_id": "4957eaa15b9844038a47f2f677677b0b",
       "version_major": 2,
       "version_minor": 0
      },
      "text/plain": [
       "Canvas(toolbar=Toolbar(toolitems=[('Home', 'Reset original view', 'home', 'home'), ('Back', 'Back to previous …"
      ]
     },
     "metadata": {},
     "output_type": "display_data"
    },
    {
     "data": {
      "application/vnd.jupyter.widget-view+json": {
       "model_id": "f132d95add7b4185bd0b7bbfa7bcdf9e",
       "version_major": 2,
       "version_minor": 0
      },
      "text/plain": [
       "Canvas(toolbar=Toolbar(toolitems=[('Home', 'Reset original view', 'home', 'home'), ('Back', 'Back to previous …"
      ]
     },
     "metadata": {},
     "output_type": "display_data"
    }
   ],
   "source": [
    "wave_min = 260\n",
    "wave_max =  290\n",
    "title = \"Max. CD-Value between \" + str(wave_min) + \"nm - \" + str(wave_max) +\"nm\"\n",
    "\n",
    "for key in data_all.keys():\n",
    "    plot_data =  ana.max_wave(data_all[key].cd_df, wave_min=wave_min, wave_max=wave_max)\n",
    "    plot.mult_func([\"Value\"], [plot_data.T], subtitle=[\"\"], vertical_line=[melt_T[key]], title=title, label=[key, \"melting Temp.\"])\n",
    "\n"
   ]
  },
  {
   "cell_type": "markdown",
   "id": "alpha-horizon",
   "metadata": {},
   "source": [
    "## Correlation Analyis"
   ]
  },
  {
   "cell_type": "markdown",
   "id": "least-filter",
   "metadata": {},
   "source": [
    "<div class=\"alert alert-block alert-info\">\n",
    "<b>Info:</b> Noda, I. (2007). Two-dimensional correlation analysis useful for spectroscopy, chromatography, and other analytical measurements. Analytical Sciences, 23(2), 139–146. https://doi.org/10.2116/analsci.23.139\n",
    "</div>"
   ]
  },
  {
   "cell_type": "markdown",
   "id": "involved-commerce",
   "metadata": {},
   "source": [
    "<div class=\"alert alert-block alert-info\">\n",
    "<b>Info:</b> Noda, I. (2015). Techniques of two-dimensional (2D) correlation spectroscopy useful in life science research. Biomedical Spectroscopy and Imaging, 4(2), 109–127. https://doi.org/10.3233/bsi-150105\n",
    "</div>"
   ]
  },
  {
   "cell_type": "markdown",
   "id": "average-prescription",
   "metadata": {},
   "source": [
    "Projection Matrix"
   ]
  },
  {
   "cell_type": "code",
   "execution_count": 8,
   "id": "behind-iraqi",
   "metadata": {},
   "outputs": [
    {
     "name": "stdout",
     "output_type": "stream",
     "text": [
      "(16, 1) (16, 131)\n",
      "[[-6.42816]\n",
      " [-6.21929]\n",
      " [-6.02504]\n",
      " [-5.96357]\n",
      " [-5.65723]\n",
      " [-5.50681]\n",
      " [-5.32867]\n",
      " [-5.2065 ]\n",
      " [-5.06574]\n",
      " [-4.50403]\n",
      " [-3.73564]\n",
      " [-2.87439]\n",
      " [-2.72282]\n",
      " [-2.52644]\n",
      " [-2.28546]\n",
      " [-2.12292]]\n"
     ]
    }
   ],
   "source": [
    "test = data_all[\"Control_0M\"].cd_df.to_numpy()\n",
    "test = test[47:48].T\n",
    "data = data_all[\"Control_0M\"].cd_df.T.to_numpy()\n",
    "print(test.shape, data.shape )\n",
    "print(test)"
   ]
  },
  {
   "cell_type": "code",
   "execution_count": 9,
   "id": "informative-prototype",
   "metadata": {},
   "outputs": [
    {
     "data": {
      "application/vnd.jupyter.widget-view+json": {
       "model_id": "4bbb57b3324844f1b16bccb412f4144f",
       "version_major": 2,
       "version_minor": 0
      },
      "text/plain": [
       "Canvas(toolbar=Toolbar(toolitems=[('Home', 'Reset original view', 'home', 'home'), ('Back', 'Back to previous …"
      ]
     },
     "metadata": {},
     "output_type": "display_data"
    }
   ],
   "source": [
    "U = np.linalg.inv(np.dot(test.T, test))\n",
    "R = np.dot(test, np.dot(U, test.T))\n",
    "Null = np.diag([1]*16) - R\n",
    "\n",
    "alpha = 0\n",
    "data_alpha = np.dot(Null + alpha*R, data)\n",
    "df = pd.DataFrame(data_alpha, dtype='float64')\n",
    "\n",
    "plot.heatmap(df.T, x_min=[20] )\n",
    "\n"
   ]
  },
  {
   "cell_type": "code",
   "execution_count": 10,
   "id": "coordinate-requirement",
   "metadata": {},
   "outputs": [
    {
     "data": {
      "application/vnd.jupyter.widget-view+json": {
       "model_id": "3ee307da164b48a182ff1cdf315c15eb",
       "version_major": 2,
       "version_minor": 0
      },
      "text/plain": [
       "Canvas(toolbar=Toolbar(toolitems=[('Home', 'Reset original view', 'home', 'home'), ('Back', 'Back to previous …"
      ]
     },
     "metadata": {},
     "output_type": "display_data"
    }
   ],
   "source": [
    "U = test/np.linalg.norm(test)\n",
    "loading_vector = np.dot(data.T, U)\n",
    "\n",
    "for i in range(loading_vector.shape[0]):\n",
    "    if loading_vector[i] <= 0:\n",
    "        loading_vector[i] = 0\n",
    "data_plus = np.dot(U, loading_vector.T)\n",
    "\n",
    "alpha = 0\n",
    "data_alpha_plus = data - (1 - alpha)*data_plus\n",
    "df = pd.DataFrame(data_alpha_plus, dtype='float64')\n",
    "\n",
    "plot.heatmap(df.T, x_min=[20] )"
   ]
  },
  {
   "cell_type": "code",
   "execution_count": 11,
   "id": "sitting-teach",
   "metadata": {},
   "outputs": [
    {
     "data": {
      "application/vnd.jupyter.widget-view+json": {
       "model_id": "d1be943dfc2f47fa9153a44c4a0d25b1",
       "version_major": 2,
       "version_minor": 0
      },
      "text/plain": [
       "Canvas(toolbar=Toolbar(toolitems=[('Home', 'Reset original view', 'home', 'home'), ('Back', 'Back to previous …"
      ]
     },
     "metadata": {},
     "output_type": "display_data"
    }
   ],
   "source": [
    "data  = data_all[\"Control_0M\"].cd_df\n",
    "sync, assync = ana.correlation(data, projection=True, proj_rows=[247,247])\n",
    "plot.heatmap(sync, assync, x_min=[210, 210], y_min=[210,210])"
   ]
  },
  {
   "cell_type": "markdown",
   "id": "coated-portfolio",
   "metadata": {},
   "source": [
    "### Test unevenly spaced data"
   ]
  },
  {
   "cell_type": "code",
   "execution_count": 12,
   "id": "material-giving",
   "metadata": {},
   "outputs": [
    {
     "name": "stdout",
     "output_type": "stream",
     "text": [
      "[[1]\n",
      " [2]\n",
      " [3]] \n",
      " [[1 2 3]\n",
      " [4 5 6]\n",
      " [7 8 9]]\n",
      "[[ 1  2  3]\n",
      " [ 8 10 12]\n",
      " [21 24 27]]\n"
     ]
    }
   ],
   "source": [
    "test_mat = np.array([[1, 2, 3], [4, 5, 6], [7,8,9]])\n",
    "test_vect = np.array([[1],[2],[3]])\n",
    "print(test_vect, \"\\n\", test_mat\n",
    "     )\n",
    "print(test_mat*test_vect)"
   ]
  },
  {
   "cell_type": "code",
   "execution_count": 13,
   "id": "amateur-resort",
   "metadata": {},
   "outputs": [
    {
     "name": "stdout",
     "output_type": "stream",
     "text": [
      "[[ 10]\n",
      " [ 20]\n",
      " [ 30]\n",
      " [ 40]\n",
      " [ 45]\n",
      " [ 50]\n",
      " [ 53]\n",
      " [ 56]\n",
      " [ 58]\n",
      " [ 60]\n",
      " [ 62]\n",
      " [ 64]\n",
      " [ 67]\n",
      " [ 70]\n",
      " [ 75]\n",
      " [ 80]\n",
      " [ 90]\n",
      " [100]]\n"
     ]
    }
   ],
   "source": [
    "col = test.columns\n",
    "T = list(col)\n",
    "T = [2*T[0] - T[1]] + T + [T[-1]*2 - T[-2]]\n",
    "print(np.reshape(T,(len(T), 1)))"
   ]
  },
  {
   "cell_type": "code",
   "execution_count": 15,
   "id": "charged-miami",
   "metadata": {},
   "outputs": [
    {
     "name": "stdout",
     "output_type": "stream",
     "text": [
      "Index([20, 30, 40, 45, 50, 53, 56, 58, 60, 62, 64, 67, 70, 75, 80, 90], dtype='object')\n",
      "Index([20, 30, 40, 45, 50, 56, 58, 60, 62, 64, 67, 70, 75, 80, 90], dtype='object')\n",
      "Index([20, 30, 40, 45, 50, 53, 58, 60, 62, 64, 67, 70, 75, 80, 90], dtype='object')\n",
      "(131, 14)\n"
     ]
    }
   ],
   "source": [
    "print(data_all[\"GdmCl_4M\"].cd_df.columns)\n",
    "print(data_all[\"GdmCl_2M\"].cd_df.columns)\n",
    "print(data_all[\"Gdm2SO4_4M\"].cd_df.columns)\n",
    "\n",
    "df = pd.concat([data_all[\"GdmCl_2M\"].cd_df, data_all[\"Gdm2SO4_4M\"].cd_df], join='inner' )\n",
    "col = pd.concat([data_all[\"GdmCl_2M\"].cd_df, data_all[\"Gdm2SO4_4M\"].cd_df], join='inner').columns\n",
    "print(data_all[\"GdmCl_4M\"].cd_df.loc[:, col].shape)"
   ]
  },
  {
   "cell_type": "code",
   "execution_count": 16,
   "id": "curious-olympus",
   "metadata": {},
   "outputs": [
    {
     "name": "stdout",
     "output_type": "stream",
     "text": [
      "[20 20 15 10 11 8 4 4 4 5 6 8 10 15 20]\n",
      "[[20 40 45 ... 130 210 300]\n",
      " [320 340 270 ... 280 435 600]\n",
      " [620 640 495 ... 430 660 900]\n",
      " ...\n",
      " [38420 38440 28845 ... 19330 29010 38700]\n",
      " [38720 38740 29070 ... 19480 29235 39000]\n",
      " [39020 39040 29295 ... 19630 29460 39300]]\n"
     ]
    }
   ],
   "source": [
    "test_arr = np.reshape(np.arange(1, 131*15 + 1), (131,15))\n",
    "arr = np.arange(1, 15+1)\n",
    "temp_list = np.array(data_all[\"GdmCl_2M\"].cd_df.columns)\n",
    "temp_list = np.insert(temp_list, 0, 2 * temp_list[0] - temp_list[1])\n",
    "temp_list = np.append(temp_list, temp_list[-1] * 2 - temp_list[-2])\n",
    "test = np.array([temp_list[arr+1]]- temp_list[arr-1])\n",
    "print(*test)\n",
    "print(test_arr*test)"
   ]
  },
  {
   "cell_type": "code",
   "execution_count": 18,
   "id": "static-thomson",
   "metadata": {},
   "outputs": [
    {
     "name": "stdout",
     "output_type": "stream",
     "text": [
      "[10 20 30 40 45 50 56 58 60 62 64 67 70 75 80 90 100]\n"
     ]
    }
   ],
   "source": [
    "print(temp_list)"
   ]
  },
  {
   "cell_type": "code",
   "execution_count": 20,
   "id": "soviet-scale",
   "metadata": {},
   "outputs": [
    {
     "name": "stdout",
     "output_type": "stream",
     "text": [
      "[[0.0 0.3183098861837907 0.1392605752054084 0.0954929658551372\n",
      "  0.08223005393081259 0.06189358898018153 0.050259455713230115\n",
      "  0.047746482927568605 0.04547284088339866 0.04521447246928846\n",
      "  0.044021580004141254 0.044563384065730696 0.04340589357051691\n",
      "  0.046420191735136146]\n",
      " [-0.3183098861837907 0.0 0.2785211504108168 0.15915494309189535\n",
      "  0.1233450808962189 0.08569881551102056 0.068209261325098\n",
      "  0.06366197723675814 0.05968310365946076 0.058512846724961515\n",
      "  0.05591930432958485 0.05570423008216337 0.05305164769729844\n",
      "  0.05570423008216337]\n",
      " [-0.1392605752054084 -0.2785211504108168 0.0 0.3978873577297384\n",
      "  0.20690142601946393 0.11439261534729978 0.08399844218738922\n",
      "  0.07559859796865029 0.06872599815331845 0.06631455962162305\n",
      "  0.06189358898018153 0.06100939485189322 0.05684105110424834\n",
      "  0.05968310365946075]\n",
      " [-0.0954929658551372 -0.15915494309189535 -0.3978873577297384 0.0\n",
      "  0.33422538049298023 0.13021768071155077 0.08569881551102056\n",
      "  0.07427230677621782 0.0655343883319569 0.06282431964153765\n",
      "  0.05787452476068923 0.05729577951308232 0.05305164769729845\n",
      "  0.05684105110424834]\n",
      " [-0.08223005393081259 -0.1233450808962189 -0.20690142601946393\n",
      "  -0.33422538049298023 0.0 0.2519953265621676 0.1492077591486519\n",
      "  0.1193662073189215 0.0994718394324346 0.09094568176679733\n",
      "  0.07957747154594766 0.07559859796865029 0.06684507609859605\n",
      "  0.06896714200648799]\n",
      " [-0.06189358898018153 -0.08569881551102056 -0.11439261534729978\n",
      "  -0.13021768071155077 -0.2519953265621676 0.0 0.477464829275686\n",
      "  0.238732414637843 0.15915494309189535 0.12931339126216496\n",
      "  0.10128041833120614 0.09094568176679733 0.07538918356984517\n",
      "  0.07626174356486652]\n",
      " [-0.050259455713230115 -0.068209261325098 -0.08399844218738922\n",
      "  -0.08569881551102056 -0.1492077591486519 -0.477464829275686 0.0\n",
      "  0.3183098861837907 0.15915494309189535 0.1193662073189215\n",
      "  0.08841941282883076 0.07957747154594767 0.0655343883319569\n",
      "  0.06872599815331845]\n",
      " [-0.047746482927568605 -0.06366197723675814 -0.07559859796865029\n",
      "  -0.07427230677621782 -0.1193662073189215 -0.238732414637843\n",
      "  -0.3183098861837907 0.0 0.3183098861837907 0.17904931097838228\n",
      "  0.11368210220849667 0.0954929658551372 0.07427230677621782\n",
      "  0.07559859796865029]\n",
      " [-0.04547284088339866 -0.05968310365946076 -0.06872599815331845\n",
      "  -0.0655343883319569 -0.0994718394324346 -0.15915494309189535\n",
      "  -0.15915494309189535 -0.3183098861837907 0.0 0.35809862195676456\n",
      "  0.15915494309189532 0.1193662073189215 0.08569881551102056\n",
      "  0.08399844218738922]\n",
      " [-0.04521447246928846 -0.058512846724961515 -0.06631455962162305\n",
      "  -0.06282431964153765 -0.09094568176679733 -0.12931339126216496\n",
      "  -0.1193662073189215 -0.17904931097838228 -0.35809862195676456 0.0\n",
      "  0.2917840623351414 0.17241785501621995 0.1085147339262923\n",
      "  0.0994718394324346]\n",
      " [-0.044021580004141254 -0.05591930432958485 -0.06189358898018153\n",
      "  -0.05787452476068923 -0.07957747154594766 -0.10128041833120614\n",
      "  -0.08841941282883076 -0.11368210220849667 -0.15915494309189532\n",
      "  -0.2917840623351414 0.0 0.37136153388108917 0.15915494309189535\n",
      "  0.12854822326653084]\n",
      " [-0.044563384065730696 -0.05570423008216337 -0.06100939485189322\n",
      "  -0.05729577951308232 -0.07559859796865029 -0.09094568176679733\n",
      "  -0.07957747154594767 -0.0954929658551372 -0.1193662073189215\n",
      "  -0.17241785501621995 -0.37136153388108917 0.0 0.2864788975654116\n",
      "  0.18302818455567965]\n",
      " [-0.04340589357051691 -0.05305164769729844 -0.05684105110424834\n",
      "  -0.05305164769729845 -0.06684507609859605 -0.07538918356984517\n",
      "  -0.0655343883319569 -0.07427230677621782 -0.08569881551102056\n",
      "  -0.1085147339262923 -0.15915494309189535 -0.2864788975654116 0.0\n",
      "  0.3978873577297384]\n",
      " [-0.046420191735136146 -0.05570423008216337 -0.05968310365946075\n",
      "  -0.05684105110424834 -0.06896714200648799 -0.07626174356486652\n",
      "  -0.06872599815331845 -0.07559859796865029 -0.08399844218738922\n",
      "  -0.0994718394324346 -0.12854822326653084 -0.18302818455567965\n",
      "  -0.3978873577297384 0.0]]\n"
     ]
    }
   ],
   "source": [
    "# creating Hilbert-Noda-matrix for async spectrum\n",
    "arr = np.arange(1, len(col) + 1, dtype=int)\n",
    "h_n_m = temp_list[arr] - np.array([temp_list[arr]]).T + np.identity(len(col), dtype=int)\n",
    "h_n_m = 1 / (2* np.pi * h_n_m)\n",
    "h_n_m = h_n_m * np.array([temp_list[arr+1]-temp_list[arr-1]])\n",
    "h_n_m = (h_n_m - h_n_m.T) / 2\n"
   ]
  },
  {
   "cell_type": "markdown",
   "id": "acknowledged-baking",
   "metadata": {},
   "source": [
    "### Homogenous Spectrum\n",
    "\n",
    "*with pareto scaling and Control Measurement as Reference*"
   ]
  },
  {
   "cell_type": "code",
   "execution_count": 38,
   "id": "convertible-encyclopedia",
   "metadata": {},
   "outputs": [
    {
     "name": "stdout",
     "output_type": "stream",
     "text": [
      "[[20.0 40.0 45.0 40.0 55.0 48.0 28.0 32.0 36.0 50.0 66.0 96.0 130.0 210.0\n",
      "  300.0]]\n",
      "[1196.0]\n"
     ]
    }
   ],
   "source": [
    "vec1 = np.ones((1,15))\n",
    "vec2 = np.array([np.arange(1, 16)])\n",
    "print(vec1 * vec2 *test)\n",
    "print(np.sum(vec1 * vec2 * test , axis=1))"
   ]
  },
  {
   "cell_type": "code",
   "execution_count": 11,
   "id": "latin-title",
   "metadata": {},
   "outputs": [
    {
     "name": "stdout",
     "output_type": "stream",
     "text": [
      "Index([20, 30, 40, 45, 50, 53, 56, 58, 60, 62, 64, 67, 70, 75, 80, 90], dtype='object') [[20]\n",
      " [20]\n",
      " [15]\n",
      " [10]\n",
      " [8]\n",
      " [6]\n",
      " [5]\n",
      " [4]\n",
      " [4]\n",
      " [4]\n",
      " [5]\n",
      " [6]\n",
      " [8]\n",
      " [10]\n",
      " [15]\n",
      " [20]]\n",
      "wavelength        200        201        202        203        204        205  \\\n",
      "wavelength                                                                     \n",
      "200          1.509943   3.239297  -3.577136 -19.891604 -12.664245 -10.495076   \n",
      "201         -4.532995  -3.145080  -4.332152  -4.845014  -2.359251 -13.022023   \n",
      "202          0.685520  -0.826663  -3.939426   6.846497   7.408469  -2.978254   \n",
      "203         23.843201  11.590067 -10.347363  -7.618870  -3.867404  12.775706   \n",
      "204         19.712686  12.343948  -9.458528 -11.929541  -8.259965  17.623593   \n",
      "205         17.881095  22.219830   3.422757 -19.883634 -24.350520   0.230050   \n",
      "206         -1.145838  17.095453  18.913214   3.766351 -10.498216  -5.889414   \n",
      "207          0.562259  23.375276  22.277901  -5.057351 -17.117324 -13.075467   \n",
      "208          1.378949  18.692739  20.055315   1.885009 -10.904128  -7.983481   \n",
      "209          5.409755  10.026370   2.059765  -7.209970  -8.048795   1.319132   \n",
      "210          7.663086   8.679226   0.115042  -8.611912  -9.306980   4.071970   \n",
      "211          0.238768   1.227124   0.893705  -0.797874  -1.923054   0.992767   \n",
      "212         -0.902208   0.405263  -0.010059  -2.633110  -3.480438  -2.088879   \n",
      "213         -0.633659   0.620903  -0.058824  -2.809590  -3.548338  -2.906232   \n",
      "214         -0.719932   0.454575  -0.289712  -2.394636  -2.987593  -1.801530   \n",
      "215         -0.378781   0.921498  -0.010913  -2.569937  -3.198033  -1.769128   \n",
      "216         -0.184654   1.242558   0.538418  -1.808579  -2.670946  -1.304155   \n",
      "217         -0.284254   0.910602   0.487880  -1.209419  -2.028017  -1.049364   \n",
      "218         -0.321892   0.557136   0.485498  -0.382874  -1.142910  -0.553925   \n",
      "219         -0.394445   0.407778   0.455889  -0.071112  -0.688556  -0.218126   \n",
      "220         -0.563762   0.315123   0.641956   0.402352  -0.135873   0.106139   \n",
      "221         -0.560021   0.239179   0.690565   0.718144   0.230545   0.380314   \n",
      "222         -0.545257   0.063331   0.668155   1.071786   0.635397   0.591435   \n",
      "223         -0.293673  -0.019641   0.540807   1.206855   0.833456   0.831941   \n",
      "224         -0.251341  -0.013140   0.604116   1.286991   0.903592   0.833323   \n",
      "225         -0.269025  -0.128335   0.514068   1.260625   0.921178   0.837889   \n",
      "226         -0.336726  -0.213795   0.476491   1.199351   0.867963   0.730533   \n",
      "227         -0.100768  -0.027680   0.346091   0.761648   0.509382   0.614044   \n",
      "228          0.063714   0.143383   0.175447   0.255158   0.133470   0.448992   \n",
      "229          0.111274   0.266425   0.060302  -0.152932  -0.191360   0.237960   \n",
      "230         -0.036378   0.208861   0.069948  -0.267161  -0.356684  -0.122597   \n",
      "231          0.015945   0.311827  -0.030571  -0.660894  -0.740431  -0.326790   \n",
      "232          0.119244   0.418280  -0.102397  -1.096488  -1.190356  -0.720335   \n",
      "233          0.368540   0.696971  -0.275163  -1.846931  -1.862320  -1.122163   \n",
      "234          0.291579   0.750832  -0.393326  -2.326620  -2.314473  -1.519346   \n",
      "235          0.264244   0.866862  -0.513885  -2.849352  -2.787164  -1.834248   \n",
      "236          0.335913   1.040848  -0.657240  -3.454965  -3.314244  -2.074097   \n",
      "237          0.442020   1.265014  -0.797912  -4.092350  -3.905218  -2.333062   \n",
      "238          0.620208   1.503603  -1.018524  -4.873302  -4.553506  -2.647995   \n",
      "239          0.738680   1.669635  -1.107705  -5.358345  -5.056369  -3.021732   \n",
      "240          0.822395   1.782075  -1.233725  -5.880276  -5.533288  -3.423726   \n",
      "241          0.971444   1.973628  -1.326609  -6.433686  -6.089830  -3.790682   \n",
      "242          1.162952   2.239316  -1.507577  -7.181947  -6.742849  -4.001565   \n",
      "243          1.234116   2.414673  -1.687420  -7.815039  -7.262823  -4.165629   \n",
      "244          1.357476   2.618220  -1.814490  -8.325019  -7.705928  -4.308624   \n",
      "245          1.429878   2.692623  -1.999984  -8.773746  -8.065753  -4.508396   \n",
      "246          1.441553   2.682175  -2.012539  -8.826369  -8.145590  -4.710977   \n",
      "247          1.408919   2.657431  -2.052076  -8.937498  -8.228153  -4.786113   \n",
      "248          1.202831   2.495270  -1.897299  -8.509911  -7.919308  -4.732165   \n",
      "249          1.070951   2.438877  -1.755751  -8.235298  -7.708753  -4.639315   \n",
      "250          0.986734   2.400694  -1.563369  -7.781678  -7.346117  -4.438212   \n",
      "251          0.849963   2.221524  -1.429685  -7.218101  -6.829774  -4.143604   \n",
      "252          0.726443   1.960900  -1.339552  -6.538732  -6.175232  -3.686888   \n",
      "253          0.536226   1.656874  -1.171678  -5.648969  -5.335248  -3.140582   \n",
      "254          0.341453   1.355340  -0.964834  -4.719337  -4.470747  -2.619272   \n",
      "255          0.100835   1.027555  -0.691292  -3.682089  -3.530366  -2.137789   \n",
      "256         -0.039761   0.810811  -0.462627  -2.819246  -2.730379  -1.706687   \n",
      "257         -0.236254   0.542133  -0.298578  -2.032226  -1.991529  -1.327558   \n",
      "258         -0.310427   0.405490  -0.228528  -1.539305  -1.459418  -0.952920   \n",
      "259         -0.455562   0.178033  -0.253535  -1.146956  -1.023380  -0.597336   \n",
      "260         -0.404712   0.124030  -0.160565  -0.754330  -0.689836  -0.317014   \n",
      "261         -0.294395   0.213522  -0.111992  -0.662358  -0.602916  -0.100908   \n",
      "262         -0.233158   0.253201  -0.023465  -0.450198  -0.455909   0.060981   \n",
      "263         -0.273434   0.236260  -0.006637  -0.405729  -0.402033   0.080306   \n",
      "264         -0.327874   0.189284   0.048041  -0.265332  -0.302639   0.118768   \n",
      "265         -0.319831   0.180272   0.029895  -0.308433  -0.343576   0.040612   \n",
      "266         -0.242841   0.312511   0.105498  -0.369020  -0.455176   0.013108   \n",
      "267         -0.284846   0.287434   0.073459  -0.355266  -0.444979   0.086228   \n",
      "268         -0.266072   0.283850   0.063462  -0.341277  -0.450665   0.088539   \n",
      "269         -0.348883   0.193371   0.037981  -0.252712  -0.370906   0.127233   \n",
      "270         -0.346696   0.163502   0.062123  -0.129116  -0.279335   0.179529   \n",
      "271         -0.283256   0.196928   0.097604  -0.111945  -0.283332   0.155708   \n",
      "272         -0.293847   0.159365   0.140574  -0.014619  -0.216851   0.126939   \n",
      "273         -0.241468   0.196002   0.156503  -0.105810  -0.319249   0.008015   \n",
      "274         -0.204699   0.211981   0.182531  -0.117726  -0.346975  -0.075097   \n",
      "275         -0.249743   0.157617   0.205089  -0.000071  -0.268832  -0.081076   \n",
      "276         -0.154508   0.214459   0.194762  -0.096312  -0.334995  -0.084235   \n",
      "277         -0.148094   0.214397   0.194772  -0.077290  -0.314805  -0.062956   \n",
      "278         -0.132995   0.201551   0.238619   0.013113  -0.234763  -0.013559   \n",
      "279         -0.147565   0.118668   0.261919   0.228363  -0.034585   0.080168   \n",
      "280         -0.156657   0.047320   0.260033   0.344812   0.101185   0.114049   \n",
      "281         -0.164321  -0.041502   0.246064   0.445286   0.231805   0.113257   \n",
      "282         -0.204305  -0.097557   0.316375   0.615277   0.374011   0.127507   \n",
      "283         -0.153629  -0.111764   0.299252   0.663369   0.436742   0.193440   \n",
      "284         -0.151256  -0.136657   0.297847   0.716943   0.472698   0.212522   \n",
      "285         -0.160984  -0.175174   0.251826   0.686651   0.460943   0.214960   \n",
      "286         -0.225858  -0.216609   0.258581   0.706028   0.477444   0.173040   \n",
      "287         -0.207699  -0.193790   0.260049   0.633304   0.398642   0.075636   \n",
      "288         -0.174971  -0.152369   0.272544   0.580429   0.339178   0.015290   \n",
      "289         -0.094263  -0.072756   0.224614   0.399672   0.179710  -0.043508   \n",
      "290         -0.065176  -0.039038   0.131284   0.190186   0.050669  -0.081696   \n",
      "291         -0.008287   0.013959   0.098493   0.067682  -0.041247  -0.089318   \n",
      "292          0.018635   0.032517   0.094318   0.034500  -0.058442  -0.096309   \n",
      "293          0.005869  -0.004040   0.097479   0.071412  -0.023908  -0.109812   \n",
      "294          0.013901  -0.044679   0.089991   0.117688   0.024615  -0.144446   \n",
      "295          0.065349  -0.042488   0.072371   0.105838   0.024528  -0.155537   \n",
      "296          0.086141  -0.043149   0.051654   0.099627   0.031850  -0.146327   \n",
      "297          0.087357  -0.028455   0.061921   0.114934   0.053511  -0.101101   \n",
      "298          0.068131  -0.036007   0.079328   0.195254   0.116814  -0.031631   \n",
      "299          0.065884  -0.037303   0.076203   0.174770   0.115250  -0.033053   \n",
      "300          0.077456  -0.029867   0.065028   0.176918   0.133727   0.028397   \n",
      "301          0.016656  -0.088462   0.105084   0.309537   0.247989   0.056701   \n",
      "302          0.013950  -0.124020   0.130570   0.413205   0.334740   0.083724   \n",
      "303         -0.036424  -0.169750   0.141205   0.491941   0.408095   0.090202   \n",
      "304         -0.057850  -0.196577   0.152021   0.518521   0.435649   0.083148   \n",
      "305         -0.071401  -0.203267   0.125355   0.469225   0.417675   0.056887   \n",
      "306         -0.018895  -0.176585   0.161015   0.506802   0.437488   0.053514   \n",
      "307         -0.007972  -0.145273   0.156765   0.455931   0.401626   0.050754   \n",
      "308         -0.036007  -0.178314   0.166143   0.516881   0.446086   0.031069   \n",
      "309         -0.059434  -0.192273   0.155030   0.508082   0.431861   0.043389   \n",
      "310         -0.068963  -0.211836   0.149927   0.526190   0.439497   0.057255   \n",
      "311         -0.038952  -0.167893   0.149121   0.469450   0.386147   0.052632   \n",
      "312         -0.069071  -0.201946   0.145690   0.505541   0.424307   0.061957   \n",
      "313         -0.041445  -0.160116   0.140196   0.469397   0.402362   0.071928   \n",
      "314         -0.069513  -0.200889   0.125486   0.496039   0.436996   0.067808   \n",
      "315         -0.106639  -0.228295   0.133881   0.539549   0.470301   0.085013   \n",
      "316         -0.138056  -0.243728   0.152845   0.561729   0.478278   0.050495   \n",
      "317         -0.157443  -0.259330   0.163271   0.601141   0.498770   0.061229   \n",
      "318         -0.102183  -0.200941   0.188343   0.572921   0.461575   0.066637   \n",
      "319         -0.022931  -0.170945   0.161018   0.516438   0.427961   0.073755   \n",
      "320          0.023100  -0.139074   0.142422   0.450561   0.378868   0.067312   \n",
      "321          0.027956  -0.151156   0.112077   0.424317   0.363858   0.056965   \n",
      "322          0.015104  -0.156865   0.095004   0.417297   0.360674   0.064419   \n",
      "323         -0.026060  -0.196009   0.072137   0.423369   0.369451   0.078115   \n",
      "324         -0.056790  -0.200622   0.073827   0.417423   0.375371   0.067624   \n",
      "325         -0.071491  -0.203594   0.061772   0.389395   0.366601   0.062608   \n",
      "326         -0.059883  -0.182392   0.049915   0.340777   0.332270   0.049894   \n",
      "327         -0.001471  -0.139586   0.014242   0.230245   0.240503   0.012513   \n",
      "328          0.017651  -0.108516   0.040254   0.227861   0.226501   0.005504   \n",
      "329          0.024277  -0.092650   0.056167   0.221357   0.222162   0.002046   \n",
      "330         -0.011563  -0.092375   0.089127   0.248396   0.240531   0.021917   \n",
      "\n",
      "wavelength        206        207        208       209  ...       321  \\\n",
      "wavelength                                             ...             \n",
      "200          2.720104   2.152836  -1.445786 -2.179685  ... -0.158217   \n",
      "201        -16.129169 -20.046279 -16.197587 -4.950580  ...  0.028602   \n",
      "202        -20.574321 -21.906614 -19.328042 -1.573247  ... -0.130393   \n",
      "203         -2.383691   4.124231  -4.508691  1.194480  ... -0.428205   \n",
      "204         13.528473  15.468585   7.105303  0.799870  ... -0.417961   \n",
      "205         10.450942  11.716323   4.086820 -5.892316  ... -0.209232   \n",
      "206          1.455000  -8.235048  -5.176441 -9.152166  ...  0.144819   \n",
      "207          7.136326  -1.579631  -5.966683 -8.657494  ...  0.070720   \n",
      "208          3.300808   2.379013  -1.753021 -3.847003  ...  0.075762   \n",
      "209          8.846182   6.714345   1.272622 -1.674935  ... -0.125791   \n",
      "210         13.841874  13.531563   8.758581 -0.075949  ... -0.146501   \n",
      "211          3.548913   3.104698   2.978975 -0.137060  ...  0.002398   \n",
      "212          0.893291   0.860271   0.984068 -0.917989  ...  0.041610   \n",
      "213         -0.309884  -0.802898  -0.369195 -1.490852  ...  0.041786   \n",
      "214          0.417370  -0.009048   0.232284 -1.108344  ...  0.032593   \n",
      "215          0.679669   0.175921   0.195317 -1.191371  ...  0.028583   \n",
      "216          0.871515   0.350122   0.262626 -1.026541  ...  0.025146   \n",
      "217          0.795564   0.323445   0.327381 -0.757942  ...  0.021488   \n",
      "218          0.449471   0.161606   0.289490 -0.460863  ...  0.017814   \n",
      "219          0.649260   0.316332   0.401240 -0.270642  ...  0.012857   \n",
      "220          0.665385   0.302177   0.386102 -0.108331  ...  0.009411   \n",
      "221          0.823188   0.421097   0.483964  0.040124  ...  0.005972   \n",
      "222          0.805306   0.424097   0.520728  0.191707  ...  0.003791   \n",
      "223          0.814569   0.605505   0.656609  0.343045  ...  0.000622   \n",
      "224          0.762558   0.628220   0.651935  0.394211  ...  0.000019   \n",
      "225          0.600563   0.672334   0.673885  0.471607  ...  0.000057   \n",
      "226          0.461298   0.583784   0.635268  0.451186  ...  0.001726   \n",
      "227          0.527720   0.632262   0.593565  0.336890  ... -0.000920   \n",
      "228          0.547587   0.541578   0.429820  0.159940  ... -0.003322   \n",
      "229          0.505981   0.378386   0.234499 -0.020835  ... -0.003501   \n",
      "230          0.159812   0.026294  -0.003153 -0.158100  ...  0.001720   \n",
      "231          0.166819   0.016354  -0.050663 -0.288770  ...  0.002766   \n",
      "232         -0.036119  -0.186827  -0.221651 -0.492318  ...  0.006073   \n",
      "233         -0.048774  -0.278047  -0.407951 -0.751324  ...  0.005044   \n",
      "234         -0.175211  -0.488367  -0.578904 -0.965989  ...  0.008397   \n",
      "235         -0.126038  -0.611242  -0.695867 -1.190389  ...  0.009599   \n",
      "236         -0.052435  -0.651581  -0.779680 -1.411729  ...  0.009588   \n",
      "237          0.028585  -0.679873  -0.871454 -1.643329  ...  0.009225   \n",
      "238          0.058446  -0.748403  -1.043136 -1.904381  ...  0.008298   \n",
      "239         -0.107229  -0.961108  -1.241406 -2.138859  ...  0.010616   \n",
      "240         -0.303618  -1.175287  -1.455627 -2.352437  ...  0.012696   \n",
      "241         -0.351222  -1.279553  -1.565364 -2.579265  ...  0.014189   \n",
      "242         -0.126814  -1.154694  -1.571394 -2.797091  ...  0.012622   \n",
      "243          0.093461  -1.049954  -1.580121 -2.969824  ...  0.011099   \n",
      "244          0.247060  -1.013946  -1.632391 -3.137561  ...  0.009179   \n",
      "245          0.251005  -1.036742  -1.692980 -3.252638  ...  0.007588   \n",
      "246          0.033451  -1.271203  -1.861386 -3.339312  ...  0.009976   \n",
      "247         -0.027519  -1.304077  -1.896768 -3.369612  ...  0.011190   \n",
      "248         -0.140916  -1.428685  -1.898320 -3.305595  ...  0.015405   \n",
      "249         -0.143999  -1.397153  -1.843608 -3.219329  ...  0.016344   \n",
      "250         -0.114581  -1.366842  -1.775701 -3.095382  ...  0.015870   \n",
      "251         -0.089509  -1.245268  -1.623740 -2.862691  ...  0.015114   \n",
      "252          0.047025  -0.964591  -1.336501 -2.528130  ...  0.012987   \n",
      "253          0.163534  -0.731309  -1.056172 -2.159343  ...  0.011546   \n",
      "254          0.191418  -0.569291  -0.833504 -1.797153  ...  0.010368   \n",
      "255          0.114311  -0.528206  -0.678354 -1.451387  ...  0.010871   \n",
      "256          0.080314  -0.504798  -0.595018 -1.168778  ...  0.009541   \n",
      "257          0.044805  -0.472344  -0.483246 -0.891916  ...  0.008756   \n",
      "258          0.146416  -0.409463  -0.403063 -0.705680  ...  0.004987   \n",
      "259          0.286821  -0.197642  -0.190980 -0.481676  ...  0.003247   \n",
      "260          0.348683  -0.073736  -0.050465 -0.336091  ...  0.002045   \n",
      "261          0.573060   0.130123   0.098729 -0.271496  ... -0.001210   \n",
      "262          0.644673   0.202837   0.186426 -0.219455  ... -0.001996   \n",
      "263          0.643850   0.185975   0.173309 -0.207555  ... -0.002244   \n",
      "264          0.605158   0.187293   0.189906 -0.165707  ... -0.001124   \n",
      "265          0.511841   0.131848   0.127196 -0.177244  ... -0.000639   \n",
      "266          0.603082   0.183019   0.144139 -0.220062  ... -0.000849   \n",
      "267          0.688198   0.291195   0.234605 -0.182505  ... -0.000825   \n",
      "268          0.694135   0.286448   0.248687 -0.190743  ... -0.000423   \n",
      "269          0.660207   0.274583   0.279458 -0.157055  ...  0.000351   \n",
      "270          0.615817   0.244909   0.274934 -0.135991  ...  0.001063   \n",
      "271          0.562632   0.213277   0.243586 -0.146877  ...  0.001513   \n",
      "272          0.488311   0.188267   0.240471 -0.120750  ...  0.002917   \n",
      "273          0.435299   0.167778   0.209028 -0.149639  ...  0.003573   \n",
      "274          0.370280   0.123752   0.176963 -0.161494  ...  0.003854   \n",
      "275          0.276550   0.042777   0.141933 -0.149063  ...  0.005011   \n",
      "276          0.334265   0.132826   0.175123 -0.139319  ...  0.003484   \n",
      "277          0.354105   0.167887   0.188392 -0.119770  ...  0.003390   \n",
      "278          0.399989   0.217921   0.232343 -0.083464  ...  0.003444   \n",
      "279          0.293646   0.163443   0.220111 -0.025823  ...  0.004034   \n",
      "280          0.226095   0.121073   0.190704  0.021470  ...  0.003650   \n",
      "281          0.080616   0.037625   0.128781  0.064820  ...  0.003642   \n",
      "282          0.014653   0.012869   0.127398  0.117580  ...  0.004496   \n",
      "283          0.006387   0.040227   0.140296  0.150416  ...  0.003889   \n",
      "284         -0.012298   0.040431   0.159089  0.162434  ...  0.004680   \n",
      "285         -0.047945   0.046306   0.163078  0.168757  ...  0.005297   \n",
      "286         -0.111030  -0.004656   0.135057  0.168542  ...  0.006172   \n",
      "287         -0.186342  -0.045074   0.090726  0.143667  ...  0.006816   \n",
      "288         -0.231747  -0.094206   0.038673  0.109297  ...  0.006975   \n",
      "289         -0.184860  -0.071530   0.032301  0.058134  ...  0.005964   \n",
      "290         -0.117567  -0.072371  -0.000619  0.000368  ...  0.004784   \n",
      "291         -0.068779  -0.043259   0.003288 -0.030820  ...  0.003838   \n",
      "292         -0.086225  -0.057812  -0.019710 -0.044508  ...  0.003755   \n",
      "293         -0.134722  -0.075462  -0.030379 -0.025124  ...  0.004063   \n",
      "294         -0.239515  -0.141690  -0.079679 -0.011765  ...  0.004370   \n",
      "295         -0.288700  -0.151956  -0.101968 -0.002394  ...  0.003832   \n",
      "296         -0.290813  -0.151459  -0.106190  0.004033  ...  0.003116   \n",
      "297         -0.239165  -0.115310  -0.082133  0.014031  ...  0.002466   \n",
      "298         -0.194246  -0.084554  -0.050702  0.040198  ...  0.002071   \n",
      "299         -0.172656  -0.052013  -0.040221  0.054184  ...  0.001653   \n",
      "300         -0.093350   0.002664  -0.001629  0.066739  ...  0.000749   \n",
      "301         -0.147838  -0.031154  -0.004190  0.098634  ...  0.001657   \n",
      "302         -0.198119  -0.064937  -0.005831  0.118843  ...  0.002145   \n",
      "303         -0.254578  -0.127282  -0.038423  0.126864  ...  0.002720   \n",
      "304         -0.285918  -0.143283  -0.043725  0.136491  ...  0.003145   \n",
      "305         -0.273851  -0.157339  -0.064237  0.125035  ...  0.002773   \n",
      "306         -0.316519  -0.175103  -0.088581  0.128691  ...  0.002909   \n",
      "307         -0.284624  -0.171121  -0.099695  0.110082  ...  0.002357   \n",
      "308         -0.352043  -0.227314  -0.131474  0.117620  ...  0.002980   \n",
      "309         -0.320395  -0.177956  -0.087597  0.132308  ...  0.003051   \n",
      "310         -0.311467  -0.130786  -0.045410  0.158837  ...  0.003247   \n",
      "311         -0.256435  -0.078068  -0.026671  0.156485  ...  0.002496   \n",
      "312         -0.278982  -0.098731  -0.031680  0.164365  ...  0.002848   \n",
      "313         -0.232906  -0.100373  -0.044594  0.143081  ...  0.002003   \n",
      "314         -0.280492  -0.140189  -0.062560  0.147201  ...  0.002369   \n",
      "315         -0.281123  -0.134843  -0.046227  0.160698  ...  0.002932   \n",
      "316         -0.335777  -0.177249  -0.071736  0.157522  ...  0.003609   \n",
      "317         -0.334325  -0.171059  -0.054830  0.167202  ...  0.004023   \n",
      "318         -0.288098  -0.148010  -0.043868  0.150859  ...  0.003283   \n",
      "319         -0.285520  -0.148801  -0.058240  0.132413  ...  0.002701   \n",
      "320         -0.267491  -0.129976  -0.058411  0.120474  ...  0.002033   \n",
      "321         -0.291939  -0.133489  -0.059644  0.121448  ...  0.002025   \n",
      "322         -0.271945  -0.106644  -0.041592  0.133936  ...  0.001664   \n",
      "323         -0.258900  -0.074660  -0.006676  0.154410  ...  0.001739   \n",
      "324         -0.259666  -0.102577  -0.035908  0.144391  ...  0.001699   \n",
      "325         -0.250287  -0.113518  -0.053426  0.136015  ...  0.001413   \n",
      "326         -0.221411  -0.110083  -0.060506  0.120062  ...  0.001048   \n",
      "327         -0.202136  -0.092416  -0.060559  0.092341  ...  0.000527   \n",
      "328         -0.190904  -0.086930  -0.057600  0.081574  ...  0.000759   \n",
      "329         -0.172646  -0.061909  -0.041189  0.086803  ...  0.000592   \n",
      "330         -0.133284  -0.039875  -0.024197  0.093638  ...  0.000743   \n",
      "\n",
      "wavelength       322       323       324       325       326       327  \\\n",
      "wavelength                                                               \n",
      "200        -0.135087 -0.096044 -0.069542 -0.052674 -0.051330 -0.087067   \n",
      "201         0.047409  0.089872  0.088821  0.090582  0.077750  0.054961   \n",
      "202        -0.107460 -0.074665 -0.083052 -0.076615 -0.070450 -0.032907   \n",
      "203        -0.429404 -0.430261 -0.422907 -0.395210 -0.354230 -0.243808   \n",
      "204        -0.424206 -0.429357 -0.433497 -0.423616 -0.395325 -0.294451   \n",
      "205        -0.214795 -0.224155 -0.212756 -0.206335 -0.193018 -0.130537   \n",
      "206         0.134668  0.128030  0.124309  0.112534  0.084612  0.086204   \n",
      "207         0.060204  0.038676  0.061042  0.067511  0.060624  0.048006   \n",
      "208         0.064265  0.036919  0.064524  0.079142  0.079654  0.072304   \n",
      "209        -0.137431 -0.153890 -0.143291 -0.135004 -0.122831 -0.096522   \n",
      "210        -0.160652 -0.177758 -0.169197 -0.161637 -0.152296 -0.129017   \n",
      "211        -0.003735 -0.010390 -0.010073 -0.011551 -0.013152 -0.010166   \n",
      "212         0.036797  0.034639  0.034640  0.033301  0.029231  0.021582   \n",
      "213         0.038446  0.038425  0.038033  0.036171  0.031736  0.024468   \n",
      "214         0.029087  0.029440  0.028735  0.027395  0.023256  0.016847   \n",
      "215         0.024855  0.024518  0.024413  0.023490  0.019938  0.014412   \n",
      "216         0.021390  0.020006  0.020123  0.019638  0.016646  0.012223   \n",
      "217         0.018221  0.016907  0.016755  0.016351  0.013727  0.009784   \n",
      "218         0.015392  0.014446  0.014185  0.013892  0.011700  0.008846   \n",
      "219         0.010853  0.009996  0.009635  0.009411  0.007620  0.005087   \n",
      "220         0.008263  0.007591  0.007286  0.006914  0.005459  0.003380   \n",
      "221         0.005021  0.004155  0.003690  0.003353  0.002198  0.000584   \n",
      "222         0.002964  0.001982  0.001350  0.001124  0.000231 -0.001026   \n",
      "223        -0.000176 -0.001325 -0.001976 -0.001893 -0.002335 -0.002876   \n",
      "224        -0.000696 -0.001884 -0.002228 -0.001859 -0.002120 -0.002702   \n",
      "225        -0.000490 -0.001626 -0.001720 -0.001216 -0.001235 -0.001642   \n",
      "226         0.001248  0.000294  0.000284  0.000717  0.000571 -0.000037   \n",
      "227        -0.001476 -0.002466 -0.002379 -0.001945 -0.001874 -0.001872   \n",
      "228        -0.003861 -0.004501 -0.004408 -0.004040 -0.003923 -0.003570   \n",
      "229        -0.004106 -0.004537 -0.004486 -0.004296 -0.004253 -0.003797   \n",
      "230         0.001219  0.001100  0.001146  0.001079  0.000717  0.000450   \n",
      "231         0.001886  0.001771  0.001948  0.001935  0.001433  0.000986   \n",
      "232         0.005063  0.005114  0.005362  0.005207  0.004431  0.003604   \n",
      "233         0.003852  0.004193  0.004631  0.004549  0.003751  0.002926   \n",
      "234         0.007244  0.008051  0.008394  0.007954  0.006724  0.005208   \n",
      "235         0.008250  0.009428  0.009730  0.009047  0.007430  0.005445   \n",
      "236         0.008018  0.009420  0.009824  0.008931  0.007111  0.005169   \n",
      "237         0.007255  0.008760  0.009304  0.008321  0.006326  0.004548   \n",
      "238         0.006165  0.007976  0.008626  0.007524  0.005480  0.003845   \n",
      "239         0.008323  0.010435  0.011118  0.009907  0.007559  0.005695   \n",
      "240         0.010437  0.012935  0.013712  0.012369  0.009824  0.007605   \n",
      "241         0.011714  0.014375  0.015245  0.013779  0.010980  0.008556   \n",
      "242         0.009685  0.012365  0.013396  0.011926  0.009087  0.006833   \n",
      "243         0.007754  0.010481  0.011634  0.010131  0.007247  0.005057   \n",
      "244         0.005495  0.008279  0.009525  0.008032  0.005130  0.003224   \n",
      "245         0.003874  0.006908  0.008278  0.006748  0.003874  0.002136   \n",
      "246         0.006289  0.009501  0.010788  0.009177  0.006122  0.004109   \n",
      "247         0.007565  0.010866  0.012174  0.010468  0.007376  0.005219   \n",
      "248         0.011721  0.014907  0.015971  0.014127  0.010702  0.007952   \n",
      "249         0.012770  0.015804  0.016949  0.015109  0.011678  0.008764   \n",
      "250         0.012472  0.015282  0.016362  0.014531  0.011172  0.008393   \n",
      "251         0.012005  0.014621  0.015660  0.013936  0.010776  0.008008   \n",
      "252         0.010016  0.012283  0.013272  0.011836  0.009027  0.006390   \n",
      "253         0.008898  0.010875  0.011645  0.010364  0.007817  0.005227   \n",
      "254         0.008052  0.009653  0.010329  0.009212  0.006979  0.004624   \n",
      "255         0.009055  0.010394  0.010896  0.009811  0.007758  0.005423   \n",
      "256         0.008070  0.009123  0.009516  0.008596  0.006835  0.004784   \n",
      "257         0.007669  0.008571  0.008797  0.007943  0.006383  0.004433   \n",
      "258         0.004145  0.004997  0.005138  0.004386  0.003090  0.001673   \n",
      "259         0.002541  0.003224  0.003175  0.002419  0.001343  0.000138   \n",
      "260         0.001392  0.001803  0.001644  0.000971  0.000060 -0.000715   \n",
      "261        -0.001874 -0.001703 -0.001887 -0.002497 -0.003199 -0.003409   \n",
      "262        -0.002608 -0.002576 -0.002906 -0.003546 -0.004230 -0.004159   \n",
      "263        -0.002776 -0.002708 -0.003052 -0.003721 -0.004393 -0.004322   \n",
      "264        -0.001672 -0.001640 -0.001971 -0.002576 -0.003283 -0.003381   \n",
      "265        -0.001224 -0.001234 -0.001463 -0.001991 -0.002625 -0.002701   \n",
      "266        -0.001635 -0.001779 -0.001880 -0.002271 -0.002925 -0.003033   \n",
      "267        -0.001705 -0.001918 -0.002080 -0.002469 -0.003141 -0.003329   \n",
      "268        -0.001408 -0.001650 -0.001893 -0.002292 -0.003036 -0.003256   \n",
      "269        -0.000577 -0.000791 -0.001173 -0.001715 -0.002539 -0.002768   \n",
      "270         0.000100 -0.000169 -0.000658 -0.001208 -0.002070 -0.002252   \n",
      "271         0.000608  0.000339 -0.000143 -0.000665 -0.001511 -0.001690   \n",
      "272         0.002102  0.001841  0.001361  0.000870 -0.000006 -0.000492   \n",
      "273         0.002719  0.002406  0.002086  0.001695  0.000851  0.000207   \n",
      "274         0.003064  0.002743  0.002521  0.002169  0.001355  0.000652   \n",
      "275         0.004191  0.003885  0.003607  0.003260  0.002350  0.001560   \n",
      "276         0.002664  0.002319  0.002248  0.002088  0.001360  0.000679   \n",
      "277         0.002525  0.002089  0.002017  0.001913  0.001255  0.000569   \n",
      "278         0.002494  0.001916  0.001886  0.001885  0.001263  0.000471   \n",
      "279         0.003290  0.002759  0.002582  0.002507  0.001910  0.001227   \n",
      "280         0.002966  0.002429  0.002282  0.002297  0.001802  0.001184   \n",
      "281         0.003178  0.002705  0.002590  0.002618  0.002262  0.001764   \n",
      "282         0.004137  0.003615  0.003548  0.003633  0.003299  0.002607   \n",
      "283         0.003574  0.003084  0.003004  0.003180  0.002933  0.002339   \n",
      "284         0.004377  0.003891  0.003697  0.003827  0.003522  0.002823   \n",
      "285         0.005001  0.004493  0.004251  0.004315  0.004025  0.003358   \n",
      "286         0.005954  0.005502  0.005281  0.005284  0.004945  0.004148   \n",
      "287         0.006719  0.006383  0.006239  0.006260  0.005916  0.004963   \n",
      "288         0.006893  0.006611  0.006524  0.006579  0.006226  0.005252   \n",
      "289         0.005836  0.005632  0.005588  0.005681  0.005333  0.004432   \n",
      "290         0.004615  0.004509  0.004423  0.004447  0.004114  0.003314   \n",
      "291         0.003650  0.003571  0.003536  0.003559  0.003258  0.002608   \n",
      "292         0.003641  0.003627  0.003610  0.003621  0.003336  0.002702   \n",
      "293         0.003948  0.003920  0.003972  0.004049  0.003798  0.003126   \n",
      "294         0.004354  0.004406  0.004488  0.004621  0.004414  0.003702   \n",
      "295         0.003853  0.003865  0.004005  0.004200  0.004119  0.003597   \n",
      "296         0.003157  0.003143  0.003274  0.003467  0.003457  0.003109   \n",
      "297         0.002510  0.002444  0.002560  0.002736  0.002767  0.002528   \n",
      "298         0.002039  0.001902  0.001973  0.002179  0.002210  0.002052   \n",
      "299         0.001650  0.001496  0.001627  0.001880  0.001982  0.001797   \n",
      "300         0.000673  0.000464  0.000582  0.000861  0.000996  0.000919   \n",
      "301         0.001679  0.001463  0.001541  0.001755  0.001865  0.001702   \n",
      "302         0.002254  0.002092  0.002134  0.002331  0.002401  0.002197   \n",
      "303         0.002888  0.002767  0.002746  0.002878  0.002905  0.002675   \n",
      "304         0.003358  0.003234  0.003227  0.003334  0.003356  0.003080   \n",
      "305         0.003013  0.002948  0.002937  0.003033  0.003067  0.002737   \n",
      "306         0.003185  0.003109  0.003145  0.003326  0.003402  0.003074   \n",
      "307         0.002647  0.002639  0.002691  0.002880  0.002959  0.002654   \n",
      "308         0.003323  0.003346  0.003351  0.003516  0.003566  0.003213   \n",
      "309         0.003339  0.003306  0.003324  0.003489  0.003542  0.003181   \n",
      "310         0.003505  0.003384  0.003421  0.003603  0.003687  0.003317   \n",
      "311         0.002659  0.002446  0.002581  0.002861  0.003020  0.002712   \n",
      "312         0.003012  0.002819  0.002926  0.003188  0.003314  0.002944   \n",
      "313         0.002177  0.002033  0.002096  0.002345  0.002471  0.002177   \n",
      "314         0.002613  0.002521  0.002531  0.002708  0.002813  0.002513   \n",
      "315         0.003177  0.003055  0.003017  0.003141  0.003211  0.002858   \n",
      "316         0.003908  0.003812  0.003798  0.003894  0.003931  0.003507   \n",
      "317         0.004267  0.004124  0.004093  0.004190  0.004194  0.003730   \n",
      "318         0.003478  0.003324  0.003373  0.003540  0.003556  0.003175   \n",
      "319         0.002897  0.002772  0.002801  0.002985  0.003046  0.002813   \n",
      "320         0.002250  0.002163  0.002221  0.002433  0.002538  0.002393   \n",
      "321         0.002330  0.002299  0.002310  0.002464  0.002581  0.002472   \n",
      "322         0.001986  0.001995  0.002013  0.002196  0.002331  0.002198   \n",
      "323         0.002020  0.002023  0.002053  0.002248  0.002376  0.002197   \n",
      "324         0.001970  0.001982  0.002009  0.002187  0.002315  0.002127   \n",
      "325         0.001651  0.001661  0.001706  0.001888  0.002030  0.001878   \n",
      "326         0.001281  0.001308  0.001345  0.001514  0.001659  0.001517   \n",
      "327         0.000774  0.000832  0.000884  0.001045  0.001220  0.001136   \n",
      "328         0.001042  0.001086  0.001124  0.001249  0.001410  0.001283   \n",
      "329         0.000944  0.000977  0.001055  0.001171  0.001360  0.001196   \n",
      "330         0.000992  0.000918  0.001053  0.001197  0.001374  0.001170   \n",
      "\n",
      "wavelength       328       329       330  \n",
      "wavelength                                \n",
      "200        -0.103640 -0.104829 -0.067666  \n",
      "201         0.028047  0.018299  0.023854  \n",
      "202        -0.056639 -0.066177 -0.087498  \n",
      "203        -0.240374 -0.234662 -0.259245  \n",
      "204        -0.277190 -0.274025 -0.293920  \n",
      "205        -0.119181 -0.118700 -0.147946  \n",
      "206         0.079744  0.061775  0.021090  \n",
      "207         0.039119  0.014724 -0.006899  \n",
      "208         0.064252  0.044921  0.028363  \n",
      "209        -0.088170 -0.094865 -0.101858  \n",
      "210        -0.114527 -0.111672 -0.104095  \n",
      "211        -0.004290 -0.002292 -0.002854  \n",
      "212         0.022599  0.023970  0.027473  \n",
      "213         0.024677  0.024710  0.025877  \n",
      "214         0.016431  0.015395  0.017690  \n",
      "215         0.014210  0.013022  0.014679  \n",
      "216         0.011989  0.010587  0.011530  \n",
      "217         0.009432  0.008134  0.009639  \n",
      "218         0.008342  0.007133  0.008025  \n",
      "219         0.004548  0.003107  0.004317  \n",
      "220         0.002858  0.001173  0.001620  \n",
      "221         0.000148 -0.001417 -0.000808  \n",
      "222        -0.001442 -0.002777 -0.001906  \n",
      "223        -0.003239 -0.004139 -0.002908  \n",
      "224        -0.003198 -0.004065 -0.002700  \n",
      "225        -0.002098 -0.002683 -0.001420  \n",
      "226        -0.000480 -0.000923  0.000232  \n",
      "227        -0.001975 -0.002167 -0.001247  \n",
      "228        -0.003555 -0.003777 -0.003132  \n",
      "229        -0.003634 -0.003923 -0.003684  \n",
      "230         0.000479  0.000168  0.000049  \n",
      "231         0.001099  0.000873  0.000850  \n",
      "232         0.003805  0.003844  0.003603  \n",
      "233         0.003188  0.003282  0.003072  \n",
      "234         0.005430  0.005398  0.005056  \n",
      "235         0.005724  0.005454  0.005120  \n",
      "236         0.005750  0.005436  0.004726  \n",
      "237         0.005430  0.005152  0.004167  \n",
      "238         0.004948  0.004696  0.003396  \n",
      "239         0.006770  0.006543  0.005006  \n",
      "240         0.008674  0.008526  0.006770  \n",
      "241         0.009794  0.009786  0.007917  \n",
      "242         0.008397  0.008445  0.006571  \n",
      "243         0.006909  0.006943  0.005123  \n",
      "244         0.005286  0.005245  0.003347  \n",
      "245         0.004396  0.004402  0.002501  \n",
      "246         0.006236  0.006263  0.004250  \n",
      "247         0.007357  0.007420  0.005265  \n",
      "248         0.009864  0.009846  0.007742  \n",
      "249         0.010623  0.010550  0.008370  \n",
      "250         0.010194  0.010001  0.007714  \n",
      "251         0.009661  0.009441  0.007396  \n",
      "252         0.007887  0.007688  0.006317  \n",
      "253         0.006463  0.006168  0.005314  \n",
      "254         0.005708  0.005420  0.004755  \n",
      "255         0.006244  0.005873  0.005185  \n",
      "256         0.005388  0.004904  0.004208  \n",
      "257         0.004817  0.004198  0.003636  \n",
      "258         0.002038  0.001270  0.000711  \n",
      "259         0.000535 -0.000225 -0.000473  \n",
      "260        -0.000318 -0.001018 -0.001246  \n",
      "261        -0.002834 -0.003518 -0.003737  \n",
      "262        -0.003570 -0.004296 -0.004603  \n",
      "263        -0.003744 -0.004504 -0.004865  \n",
      "264        -0.002959 -0.003776 -0.004062  \n",
      "265        -0.002287 -0.003025 -0.003354  \n",
      "266        -0.002666 -0.003542 -0.003789  \n",
      "267        -0.002969 -0.003890 -0.003929  \n",
      "268        -0.002899 -0.003821 -0.003772  \n",
      "269        -0.002368 -0.003241 -0.003242  \n",
      "270        -0.001910 -0.002752 -0.002797  \n",
      "271        -0.001421 -0.002223 -0.002335  \n",
      "272        -0.000375 -0.001170 -0.001149  \n",
      "273         0.000319 -0.000355 -0.000253  \n",
      "274         0.000772  0.000182  0.000282  \n",
      "275         0.001586  0.001024  0.001125  \n",
      "276         0.000720  0.000209  0.000461  \n",
      "277         0.000582  0.000065  0.000414  \n",
      "278         0.000457 -0.000027  0.000510  \n",
      "279         0.001130  0.000659  0.001006  \n",
      "280         0.001049  0.000675  0.001074  \n",
      "281         0.001614  0.001382  0.001634  \n",
      "282         0.002356  0.002166  0.002486  \n",
      "283         0.001995  0.001812  0.002212  \n",
      "284         0.002424  0.002253  0.002715  \n",
      "285         0.003022  0.002968  0.003346  \n",
      "286         0.003803  0.003747  0.004038  \n",
      "287         0.004517  0.004453  0.004741  \n",
      "288         0.004761  0.004691  0.004912  \n",
      "289         0.003975  0.003924  0.004227  \n",
      "290         0.002982  0.002954  0.003234  \n",
      "291         0.002377  0.002383  0.002590  \n",
      "292         0.002455  0.002449  0.002562  \n",
      "293         0.002842  0.002884  0.003043  \n",
      "294         0.003321  0.003388  0.003568  \n",
      "295         0.003260  0.003450  0.003571  \n",
      "296         0.002843  0.003097  0.003178  \n",
      "297         0.002324  0.002562  0.002596  \n",
      "298         0.001836  0.002035  0.002130  \n",
      "299         0.001578  0.001798  0.001975  \n",
      "300         0.000755  0.000964  0.001205  \n",
      "301         0.001508  0.001698  0.001832  \n",
      "302         0.001940  0.002119  0.002215  \n",
      "303         0.002393  0.002547  0.002537  \n",
      "304         0.002814  0.003042  0.002985  \n",
      "305         0.002476  0.002676  0.002675  \n",
      "306         0.002722  0.002943  0.002933  \n",
      "307         0.002275  0.002413  0.002393  \n",
      "308         0.002774  0.002921  0.002881  \n",
      "309         0.002781  0.002939  0.002963  \n",
      "310         0.002950  0.003176  0.003278  \n",
      "311         0.002383  0.002617  0.002812  \n",
      "312         0.002607  0.002852  0.003045  \n",
      "313         0.001839  0.002002  0.002188  \n",
      "314         0.002192  0.002383  0.002484  \n",
      "315         0.002540  0.002732  0.002818  \n",
      "316         0.003170  0.003365  0.003369  \n",
      "317         0.003387  0.003573  0.003613  \n",
      "318         0.002839  0.002978  0.003029  \n",
      "319         0.002497  0.002687  0.002690  \n",
      "320         0.002085  0.002293  0.002301  \n",
      "321         0.002182  0.002437  0.002408  \n",
      "322         0.001860  0.002047  0.002131  \n",
      "323         0.001870  0.002052  0.002234  \n",
      "324         0.001803  0.001939  0.002073  \n",
      "325         0.001591  0.001735  0.001842  \n",
      "326         0.001248  0.001372  0.001496  \n",
      "327         0.000920  0.001067  0.001197  \n",
      "328         0.001065  0.001181  0.001261  \n",
      "329         0.001004  0.001122  0.001195  \n",
      "330         0.001020  0.001139  0.001213  \n",
      "\n",
      "[131 rows x 131 columns]\n"
     ]
    },
    {
     "data": {
      "application/vnd.jupyter.widget-view+json": {
       "model_id": "ab8d5913cff548f18b9ccc2f78b07058",
       "version_major": 2,
       "version_minor": 0
      },
      "text/plain": [
       "Canvas(toolbar=Toolbar(toolitems=[('Home', 'Reset original view', 'home', 'home'), ('Back', 'Back to previous …"
      ]
     },
     "metadata": {},
     "output_type": "display_data"
    }
   ],
   "source": [
    "key = \"GdmCl_4M\"\n",
    "ref = data_all[\"Control_0M\"].cd_df.loc[:, 20]\n",
    "sync, assync = ana.correlation(data_all[key].cd_df)\n",
    "print(assync)\n",
    "plot.heatmap(sync, assync, title=str(key), subtitle=[\"Synchronous Spectrum\", \"Asynchronous Spectrum\"], x_min=[210, 210], y_min=[210,210], y_label=\"wavelength[nm]\", x_label=\"wavenlength[nm]\", contour_lines=True)"
   ]
  },
  {
   "cell_type": "code",
   "execution_count": 9,
   "id": "prime-wallace",
   "metadata": {},
   "outputs": [
    {
     "name": "stdout",
     "output_type": "stream",
     "text": [
      "Index([20, 30, 40, 45, 50, 56, 58, 60, 62, 64, 67, 70, 75, 80, 90], dtype='object') [[20]\n",
      " [20]\n",
      " [15]\n",
      " [10]\n",
      " [11]\n",
      " [8]\n",
      " [4]\n",
      " [4]\n",
      " [4]\n",
      " [5]\n",
      " [6]\n",
      " [8]\n",
      " [10]\n",
      " [15]\n",
      " [20]]\n"
     ]
    },
    {
     "data": {
      "application/vnd.jupyter.widget-view+json": {
       "model_id": "3b32eaba2038402c88fd8a4ffa4b9b21",
       "version_major": 2,
       "version_minor": 0
      },
      "text/plain": [
       "Canvas(toolbar=Toolbar(toolitems=[('Home', 'Reset original view', 'home', 'home'), ('Back', 'Back to previous …"
      ]
     },
     "metadata": {},
     "output_type": "display_data"
    },
    {
     "name": "stdout",
     "output_type": "stream",
     "text": [
      "Index([20, 30, 40, 45, 50, 53, 58, 60, 62, 64, 67, 70, 75, 80, 90], dtype='object') [[20]\n",
      " [20]\n",
      " [15]\n",
      " [10]\n",
      " [8]\n",
      " [8]\n",
      " [7]\n",
      " [4]\n",
      " [4]\n",
      " [5]\n",
      " [6]\n",
      " [8]\n",
      " [10]\n",
      " [15]\n",
      " [20]]\n"
     ]
    },
    {
     "data": {
      "application/vnd.jupyter.widget-view+json": {
       "model_id": "50542aea48b84c839d78bd6c54e2a2e0",
       "version_major": 2,
       "version_minor": 0
      },
      "text/plain": [
       "Canvas(toolbar=Toolbar(toolitems=[('Home', 'Reset original view', 'home', 'home'), ('Back', 'Back to previous …"
      ]
     },
     "metadata": {},
     "output_type": "display_data"
    },
    {
     "name": "stdout",
     "output_type": "stream",
     "text": [
      "Index([20, 30, 40, 45, 50, 53, 58, 60, 62, 64, 67, 70, 75, 80, 90], dtype='object') [[20]\n",
      " [20]\n",
      " [15]\n",
      " [10]\n",
      " [8]\n",
      " [8]\n",
      " [7]\n",
      " [4]\n",
      " [4]\n",
      " [5]\n",
      " [6]\n",
      " [8]\n",
      " [10]\n",
      " [15]\n",
      " [20]]\n"
     ]
    },
    {
     "data": {
      "application/vnd.jupyter.widget-view+json": {
       "model_id": "60052990bd6e42edbff0b41ab4274140",
       "version_major": 2,
       "version_minor": 0
      },
      "text/plain": [
       "Canvas(toolbar=Toolbar(toolitems=[('Home', 'Reset original view', 'home', 'home'), ('Back', 'Back to previous …"
      ]
     },
     "metadata": {},
     "output_type": "display_data"
    },
    {
     "name": "stdout",
     "output_type": "stream",
     "text": [
      "Index([20, 30, 40, 45, 50, 56, 58, 60, 62, 64, 67, 70, 75, 80, 90], dtype='object') [[20]\n",
      " [20]\n",
      " [15]\n",
      " [10]\n",
      " [11]\n",
      " [8]\n",
      " [4]\n",
      " [4]\n",
      " [4]\n",
      " [5]\n",
      " [6]\n",
      " [8]\n",
      " [10]\n",
      " [15]\n",
      " [20]]\n"
     ]
    },
    {
     "data": {
      "application/vnd.jupyter.widget-view+json": {
       "model_id": "4745f55e83ed444993caff7d075c66f8",
       "version_major": 2,
       "version_minor": 0
      },
      "text/plain": [
       "Canvas(toolbar=Toolbar(toolitems=[('Home', 'Reset original view', 'home', 'home'), ('Back', 'Back to previous …"
      ]
     },
     "metadata": {},
     "output_type": "display_data"
    },
    {
     "name": "stdout",
     "output_type": "stream",
     "text": [
      "Index([20, 30, 40, 45, 50, 56, 58, 60, 62, 64, 67, 70, 75, 80, 90], dtype='object') [[20]\n",
      " [20]\n",
      " [15]\n",
      " [10]\n",
      " [11]\n",
      " [8]\n",
      " [4]\n",
      " [4]\n",
      " [4]\n",
      " [5]\n",
      " [6]\n",
      " [8]\n",
      " [10]\n",
      " [15]\n",
      " [20]]\n"
     ]
    },
    {
     "data": {
      "application/vnd.jupyter.widget-view+json": {
       "model_id": "55d1084da90e403aad3909f53651e7f4",
       "version_major": 2,
       "version_minor": 0
      },
      "text/plain": [
       "Canvas(toolbar=Toolbar(toolitems=[('Home', 'Reset original view', 'home', 'home'), ('Back', 'Back to previous …"
      ]
     },
     "metadata": {},
     "output_type": "display_data"
    },
    {
     "name": "stdout",
     "output_type": "stream",
     "text": [
      "Index([20, 30, 40, 45, 50, 56, 58, 60, 62, 64, 70, 75, 80, 90], dtype='object') [[20]\n",
      " [20]\n",
      " [15]\n",
      " [10]\n",
      " [11]\n",
      " [8]\n",
      " [4]\n",
      " [4]\n",
      " [4]\n",
      " [8]\n",
      " [11]\n",
      " [10]\n",
      " [15]\n",
      " [20]]\n"
     ]
    },
    {
     "data": {
      "application/vnd.jupyter.widget-view+json": {
       "model_id": "c95e013ee26f44d18f7aa4fb0730177f",
       "version_major": 2,
       "version_minor": 0
      },
      "text/plain": [
       "Canvas(toolbar=Toolbar(toolitems=[('Home', 'Reset original view', 'home', 'home'), ('Back', 'Back to previous …"
      ]
     },
     "metadata": {},
     "output_type": "display_data"
    },
    {
     "name": "stdout",
     "output_type": "stream",
     "text": [
      "Index([20, 30, 40, 45, 50, 53, 56, 58, 60, 62, 64, 67, 70, 75, 80, 90], dtype='object') [[20]\n",
      " [20]\n",
      " [15]\n",
      " [10]\n",
      " [8]\n",
      " [6]\n",
      " [5]\n",
      " [4]\n",
      " [4]\n",
      " [4]\n",
      " [5]\n",
      " [6]\n",
      " [8]\n",
      " [10]\n",
      " [15]\n",
      " [20]]\n"
     ]
    },
    {
     "data": {
      "application/vnd.jupyter.widget-view+json": {
       "model_id": "228c277f6f3f4945860dd58e66db1f64",
       "version_major": 2,
       "version_minor": 0
      },
      "text/plain": [
       "Canvas(toolbar=Toolbar(toolitems=[('Home', 'Reset original view', 'home', 'home'), ('Back', 'Back to previous …"
      ]
     },
     "metadata": {},
     "output_type": "display_data"
    },
    {
     "name": "stdout",
     "output_type": "stream",
     "text": [
      "Index([20, 30, 40, 45, 50, 53, 56, 58, 60, 62, 64, 67, 75, 80, 90], dtype='object') [[20]\n",
      " [20]\n",
      " [15]\n",
      " [10]\n",
      " [8]\n",
      " [6]\n",
      " [5]\n",
      " [4]\n",
      " [4]\n",
      " [4]\n",
      " [5]\n",
      " [11]\n",
      " [13]\n",
      " [15]\n",
      " [20]]\n"
     ]
    },
    {
     "data": {
      "application/vnd.jupyter.widget-view+json": {
       "model_id": "ee783826e15b4189a868a20d685ee6a2",
       "version_major": 2,
       "version_minor": 0
      },
      "text/plain": [
       "Canvas(toolbar=Toolbar(toolitems=[('Home', 'Reset original view', 'home', 'home'), ('Back', 'Back to previous …"
      ]
     },
     "metadata": {},
     "output_type": "display_data"
    },
    {
     "name": "stdout",
     "output_type": "stream",
     "text": [
      "Index([20, 30, 40, 45, 50, 56, 58, 60, 62, 64, 67, 70, 75, 80, 90], dtype='object') [[20]\n",
      " [20]\n",
      " [15]\n",
      " [10]\n",
      " [11]\n",
      " [8]\n",
      " [4]\n",
      " [4]\n",
      " [4]\n",
      " [5]\n",
      " [6]\n",
      " [8]\n",
      " [10]\n",
      " [15]\n",
      " [20]]\n"
     ]
    },
    {
     "data": {
      "application/vnd.jupyter.widget-view+json": {
       "model_id": "7b811207551a4d51b8ba08532458bd6a",
       "version_major": 2,
       "version_minor": 0
      },
      "text/plain": [
       "Canvas(toolbar=Toolbar(toolitems=[('Home', 'Reset original view', 'home', 'home'), ('Back', 'Back to previous …"
      ]
     },
     "metadata": {},
     "output_type": "display_data"
    },
    {
     "name": "stdout",
     "output_type": "stream",
     "text": [
      "Index([20, 30, 40, 45, 50, 56, 58, 60, 62, 64, 70, 75, 80, 90], dtype='object') [[20]\n",
      " [20]\n",
      " [15]\n",
      " [10]\n",
      " [11]\n",
      " [8]\n",
      " [4]\n",
      " [4]\n",
      " [4]\n",
      " [8]\n",
      " [11]\n",
      " [10]\n",
      " [15]\n",
      " [20]]\n"
     ]
    },
    {
     "data": {
      "application/vnd.jupyter.widget-view+json": {
       "model_id": "63a6785d6d4e4c7f98159424a4f2f8eb",
       "version_major": 2,
       "version_minor": 0
      },
      "text/plain": [
       "Canvas(toolbar=Toolbar(toolitems=[('Home', 'Reset original view', 'home', 'home'), ('Back', 'Back to previous …"
      ]
     },
     "metadata": {},
     "output_type": "display_data"
    }
   ],
   "source": [
    "for key in data_all.keys():\n",
    "    if key == \"Control_0M\":\n",
    "        continue\n",
    "    ref = data_all[\"Control_0M\"].cd_df.loc[:, 20]\n",
    "    sync, assync = ana.correlation(data_all[key].cd_df, ref_spec=ref, scaling=\"pareto\", projection=True, proj_rows=[247])\n",
    "    plot.heatmap(sync, assync, title=str(key), subtitle=[\"Synchronous Spectrum\", \"Asynchronous Spectrum\"], x_min=[210, 210], y_min=[210,210], y_label=\"wavelength[nm]\", x_label=[\"wavenlength[nm]\"])"
   ]
  },
  {
   "cell_type": "markdown",
   "id": "original-means",
   "metadata": {},
   "source": [
    "### Heterogenous Spectrum\n",
    "\n",
    "*with pareto scaling and Control Measurement as Reference*"
   ]
  },
  {
   "cell_type": "code",
   "execution_count": 12,
   "id": "extraordinary-currency",
   "metadata": {},
   "outputs": [
    {
     "name": "stderr",
     "output_type": "stream",
     "text": [
      "C:\\Users\\crazy\\PycharmProjects\\2Dcorrelation\\hotznplots.py:80: RuntimeWarning: More than 20 figures have been opened. Figures created through the pyplot interface (`matplotlib.pyplot.figure`) are retained until explicitly closed and may consume too much memory. (To control this warning, see the rcParam `figure.max_open_warning`).\n",
      "  fig = plt.figure(facecolor=\"white\")\n"
     ]
    },
    {
     "data": {
      "application/vnd.jupyter.widget-view+json": {
       "model_id": "67d20dfb1a0a42208e6761d78843a450",
       "version_major": 2,
       "version_minor": 0
      },
      "text/plain": [
       "Canvas(toolbar=Toolbar(toolitems=[('Home', 'Reset original view', 'home', 'home'), ('Back', 'Back to previous …"
      ]
     },
     "metadata": {},
     "output_type": "display_data"
    }
   ],
   "source": [
    "measurement1 = \"Gdm2SO4_2M\"\n",
    "measurement2 = \"Gdm2SO4_4M\"\n",
    "title = \"Heterogenoues 2D Correlation between \" + measurement1 + \" \" + measurement2\n",
    "\n",
    "ref = data_all[\"Control_0M\"].cd_df \n",
    "sync, assync = ana.correlation(data_all[measurement1].cd_df, data_all[measurement2].cd_df, ref_spec=ref, scaling='pareto')\n",
    "plot.heatmap(sync, assync, title=title, subtitle=[\"Synchronous Spectrum\", \"Asynchronous Spectrum\"], x_min=[220, 220], y_min=[220,220],\n",
    "            y_label=measurement1 +\" WL[nm]\", x_label= measurement2 + \" WL[nm]\")"
   ]
  },
  {
   "cell_type": "markdown",
   "id": "purple-malpractice",
   "metadata": {},
   "source": [
    "## Sigmoid Fit and Melting Temperature"
   ]
  },
  {
   "cell_type": "code",
   "execution_count": 9,
   "id": "quality-surgeon",
   "metadata": {},
   "outputs": [
    {
     "name": "stdout",
     "output_type": "stream",
     "text": [
      "[ 0.18677066 61.81964508] [0.01970739 0.53616891]\n",
      "[ 0.24733276 63.42770044] [0.02193106 0.35106698]\n",
      "[ 0.3        63.95213937] [0.02830562 0.31740657]\n",
      "[ 0.28173998 64.87467936] [0.02577176 0.3342244 ]\n",
      "[ 0.2364997  63.66483834] [0.01583726 0.27656016]\n",
      "[ 0.2939166  61.61989282] [0.01911078 0.21232322]\n",
      "[ 0.26911012 63.19314219] [0.02238773 0.30450951]\n",
      "[ 0.28883307 58.5239527 ] [0.02428439 0.29303091]\n",
      "[1.41701334e-02 5.00000000e+01] [1.8215488e-02 2.3711382e+01]\n",
      "[2.29854877e-02 7.00000000e+01] [ 0.01983874 16.65590283]\n",
      "[ 0.19424656 57.00573805] [0.02250736 0.56124733]\n"
     ]
    },
    {
     "data": {
      "application/vnd.jupyter.widget-view+json": {
       "model_id": "0984e941b3584fd1a8ecd4c88b731574",
       "version_major": 2,
       "version_minor": 0
      },
      "text/plain": [
       "Canvas(toolbar=Toolbar(toolitems=[('Home', 'Reset original view', 'home', 'home'), ('Back', 'Back to previous …"
      ]
     },
     "metadata": {},
     "output_type": "display_data"
    }
   ],
   "source": [
    "graph={}\n",
    "melt_T={}\n",
    "for key in data_all.keys():\n",
    "    fit, params, error = ana.sigmoid_fit(ana.normalize(data_all[key].cd_df))\n",
    "    x =  np.arange(20, 91, 0.1)\n",
    "    deriv = pd.DataFrame(ana.sigmoid_deriv(x, *params), index=x, columns=[\"deriv\"]).T\n",
    "    maximum = deriv.max(axis=1) \n",
    "    T = float(deriv.idxmax(axis=1))\n",
    "    maxi = pd.DataFrame({T:1}, index=[\"Maximum\"])\n",
    "    deriv = deriv.div(maximum, axis=0)\n",
    "    fit = pd.concat([fit, deriv], axis=0)\n",
    "    fit = pd.concat([fit, maxi], axis=0)\n",
    "    graph[key] = [fit]  \n",
    "    melt_T[key] = T\n",
    "plot.mult_func([247, \"fit\", \"deriv\", \"Maximum\"], *graph.values(),  title=\"Sigmoid-Fit and Derivative(adjusted)\",\n",
    "               subtitle=list(graph.keys()), marker=['x', '', '', 'x'], linestyle=[\"\",\"-\", \":\",\"\"])"
   ]
  },
  {
   "cell_type": "markdown",
   "id": "corporate-holmes",
   "metadata": {},
   "source": [
    "Plot the melting Temperatures for the Gdm2SO4 and GdmCl"
   ]
  },
  {
   "cell_type": "code",
   "execution_count": 10,
   "id": "confused-reach",
   "metadata": {},
   "outputs": [
    {
     "data": {
      "application/vnd.jupyter.widget-view+json": {
       "model_id": "d39071176c72478593541bfafe76077c",
       "version_major": 2,
       "version_minor": 0
      },
      "text/plain": [
       "Canvas(toolbar=Toolbar(toolitems=[('Home', 'Reset original view', 'home', 'home'), ('Back', 'Back to previous …"
      ]
     },
     "metadata": {},
     "output_type": "display_data"
    }
   ],
   "source": [
    "x = [0., 0.5, 2., 4.]\n",
    "y = list(melt_T.values())[0:4]\n",
    "graph1 = pd.DataFrame(y, index=x, columns=[\"Gdm2SO4\"]).T\n",
    "\n",
    "y2 = [melt_T[\"Control_0M\"], melt_T[\"GdmCl_0.5M\"], melt_T[\"GdmCl_2M\"], melt_T[\"GdmCl_4M\"]]\n",
    "graph2 = pd.DataFrame(y2, index=x, columns=[\"GdmCl\"] ).T\n",
    "\n",
    "graph = pd.concat([graph1, graph2], axis=0)\n",
    "plot.mult_func([\"Gdm2SO4\", \"GdmCl\"], [graph], title=\"Melting Temperature\", subtitle=[\"\"], x_label=\"Concentration[M]\", y_label=\"Temperature[K]\")"
   ]
  },
  {
   "cell_type": "markdown",
   "id": "consecutive-arrangement",
   "metadata": {},
   "source": [
    "## Absorbance Values"
   ]
  },
  {
   "cell_type": "code",
   "execution_count": 10,
   "id": "official-proportion",
   "metadata": {},
   "outputs": [
    {
     "data": {
      "application/vnd.jupyter.widget-view+json": {
       "model_id": "83e5596b587d4847bfd5b72a60485e5f",
       "version_major": 2,
       "version_minor": 0
      },
      "text/plain": [
       "Canvas(toolbar=Toolbar(toolitems=[('Home', 'Reset original view', 'home', 'home'), ('Back', 'Back to previous …"
      ]
     },
     "metadata": {},
     "output_type": "display_data"
    }
   ],
   "source": [
    "absorbance = list(map(lambda x: data_all[x].absorb_df, list(data_all.keys())))\n",
    "plot.heatmap(*absorbance, subtitle=tuple(data_all.keys()), title=\"Absorbance Values\", x_min=[220]*len(data_all), c_min=[0]*len(data_all), c_max=[0.5]*len(data_all))"
   ]
  },
  {
   "cell_type": "code",
   "execution_count": 31,
   "id": "rocky-nursing",
   "metadata": {},
   "outputs": [
    {
     "name": "stdout",
     "output_type": "stream",
     "text": [
      "[ 0.41163539 64.15020882] [0.02314436 0.15271522]\n",
      "[ 0.36215912 65.86173799] [0.02185816 0.18932737]\n",
      "[ 0.44493928 65.49468303] [0.03352761 0.19683403]\n",
      "[ 0.41765738 66.38498811] [0.02650862 0.17467372]\n",
      "[ 0.41177395 65.56418843] [0.01837304 0.12537056]\n",
      "[ 0.36338404 63.19755227] [0.02700207 0.21562398]\n",
      "[ 0.38244298 64.79604632] [0.03395227 0.28041146]\n",
      "[ 0.3882771  59.95701763] [0.02664735 0.18265845]\n",
      "[ 0.2        63.29561482] [0.04565207 1.08081709]\n",
      "[ 0.2        62.18622927] [0.06441774 1.46286914]\n",
      "[ 0.39852856 59.86735295] [0.04122087 0.2420659 ]\n"
     ]
    },
    {
     "data": {
      "application/vnd.jupyter.widget-view+json": {
       "model_id": "be075227c0a145a8b2ea24e33536f9ee",
       "version_major": 2,
       "version_minor": 0
      },
      "text/plain": [
       "Canvas(toolbar=Toolbar(toolitems=[('Home', 'Reset original view', 'home', 'home'), ('Back', 'Back to previous …"
      ]
     },
     "metadata": {},
     "output_type": "display_data"
    }
   ],
   "source": [
    "graph={}\n",
    "melt_T={}\n",
    "error_a = {}\n",
    "error_b = {}\n",
    "coop={}\n",
    "elements = [\"Control_0M\", \"Gdm2SO4_0.5M\", \"Gdm2SO4_2M\", \"Gdm2SO4_4M\", \"Control_0M\", \"GdmCl_0.5M\", \"GdmCl_2M\", \"GdmCl_4M\" ]\n",
    "for key in data_all.keys():\n",
    "    fit, params, std = ana.sigmoid_fit(ana.normalize(data_all[key].absorb_df), wave=260, a_range=[0.2, 0.5])\n",
    "    x =  np.arange(20, 91, 0.1)\n",
    "    deriv = pd.DataFrame(ana.sigmoid_deriv(x, *params), index=x, columns=[\"deriv\"]).T\n",
    "    maximum = deriv.max(axis=1) \n",
    "    T = float(deriv.idxmax(axis=1))\n",
    "    maxi = pd.DataFrame({T:1}, index=[\"Maximum\"])\n",
    "    deriv = deriv.div(maximum, axis=0)\n",
    "    fit = pd.concat([fit, deriv], axis=0)\n",
    "    fit = pd.concat([fit, maxi], axis=0)\n",
    "    graph[key] = [fit]  \n",
    "    melt_T[key] = params[1]\n",
    "    error_a[key] = std[0]\n",
    "    error_b[key] = std[1]\n",
    "    coop[key] = params[0] \n",
    "plot.mult_func([260, \"fit\", \"deriv\"], graph[\"Control_0M\"],  title=\"Sigmoid-Fit and Derivative(adjusted)\", subtitle=list(graph.keys()), marker=['x', '', '', 'x'], linestyle=[\"\",\"-\", \":\",\"\"])"
   ]
  },
  {
   "cell_type": "code",
   "execution_count": 12,
   "id": "wrong-principle",
   "metadata": {},
   "outputs": [
    {
     "data": {
      "application/vnd.jupyter.widget-view+json": {
       "model_id": "955173ae6cb84a188941e4bf00cc7231",
       "version_major": 2,
       "version_minor": 0
      },
      "text/plain": [
       "Canvas(toolbar=Toolbar(toolitems=[('Home', 'Reset original view', 'home', 'home'), ('Back', 'Back to previous …"
      ]
     },
     "metadata": {},
     "output_type": "display_data"
    }
   ],
   "source": [
    "x = [0., 0.5, 2., 4.]\n",
    "y = list(melt_T.values())[0:4]\n",
    "graph1 = pd.DataFrame(y, index=x, columns=[\"Gdm2SO4\"]).T\n",
    "\n",
    "y2 = [melt_T[\"Control_0M\"], melt_T[\"GdmCl_0.5M\"], melt_T[\"GdmCl_2M\"], melt_T[\"GdmCl_4M\"]]\n",
    "graph2 = pd.DataFrame(y2, index=x, columns=[\"GdmCl\"] ).T\n",
    "\n",
    "graph = pd.concat([graph1, graph2], axis=0)\n",
    "plot.mult_func([\"Gdm2SO4\", \"GdmCl\"], [graph], error=error_b, title=\"Melting Temperature\",\n",
    "               subtitle=[\"\"], x_label=\"Concentration[M]\", y_label=\"Temperature[°C]\")"
   ]
  },
  {
   "cell_type": "code",
   "execution_count": 13,
   "id": "rough-science",
   "metadata": {},
   "outputs": [
    {
     "data": {
      "application/vnd.jupyter.widget-view+json": {
       "model_id": "3d67f37a4ea941bda49b26e60f6830f5",
       "version_major": 2,
       "version_minor": 0
      },
      "text/plain": [
       "Canvas(toolbar=Toolbar(toolitems=[('Home', 'Reset original view', 'home', 'home'), ('Back', 'Back to previous …"
      ]
     },
     "metadata": {},
     "output_type": "display_data"
    }
   ],
   "source": [
    "x = [0., 0.5, 2., 4.]\n",
    "y = list(coop.values())[0:4]\n",
    "graph1 = pd.DataFrame(y, index=x, columns=[\"Gdm2SO4\"]).T\n",
    "\n",
    "y2 = [coop[\"Control_0M\"], coop[\"GdmCl_0.5M\"], coop[\"GdmCl_2M\"], coop[\"GdmCl_4M\"]]\n",
    "graph2 = pd.DataFrame(y2, index=x, columns=[\"GdmCl\"] ).T\n",
    "\n",
    "graph = pd.concat([graph1, graph2], axis=0)\n",
    "plot.mult_func([\"Gdm2SO4\", \"GdmCl\"], [graph], error=error_a, title=\"Variance\",\n",
    "               subtitle=[\"\"], x_label=\"Concentration[M]\", y_label=\"Temperature[K^2]\")"
   ]
  },
  {
   "cell_type": "markdown",
   "id": "mounted-distribution",
   "metadata": {},
   "source": [
    "### LM Fit"
   ]
  },
  {
   "cell_type": "code",
   "execution_count": 35,
   "id": "suffering-sleep",
   "metadata": {},
   "outputs": [
    {
     "name": "stdout",
     "output_type": "stream",
     "text": [
      "[[Model]]\n",
      "    Model(s1)\n",
      "[[Fit Statistics]]\n",
      "    # fitting method   = leastsq\n",
      "    # function evals   = 31\n",
      "    # data points      = 16\n",
      "    # variables        = 4\n",
      "    chi-square         = 8.2538e-05\n",
      "    reduced chi-square = 6.8781e-06\n",
      "    Akaike info crit   = -186.797542\n",
      "    Bayesian info crit = -183.707187\n",
      "[[Variables]]\n",
      "    a:   0.13153960 +/- 0.00186326 (1.42%) (init = 0.13)\n",
      "    y0:  0.35994037 +/- 0.00101406 (0.28%) (init = 0.36)\n",
      "    k:   0.46427885 +/- 0.02562654 (5.52%) (init = 0.4)\n",
      "    xc:  64.0734366 +/- 0.13972373 (0.22%) (init = 63)\n",
      "[[Correlations]] (unreported correlations are < 0.100)\n",
      "    C(a, y0)  = -0.618\n",
      "    C(a, k)   = -0.528\n",
      "    C(y0, k)  =  0.374\n",
      "    C(y0, xc) =  0.283\n",
      "    C(a, xc)  =  0.228\n",
      "    C(k, xc)  = -0.212\n"
     ]
    },
    {
     "data": {
      "application/vnd.jupyter.widget-view+json": {
       "model_id": "9734b909422b48a58fa88b5da9d70e7c",
       "version_major": 2,
       "version_minor": 0
      },
      "text/plain": [
       "Canvas(toolbar=Toolbar(toolitems=[('Home', 'Reset original view', 'home', 'home'), ('Back', 'Back to previous …"
      ]
     },
     "metadata": {},
     "output_type": "display_data"
    },
    {
     "name": "stdout",
     "output_type": "stream",
     "text": [
      "[[Model]]\n",
      "    Model(s1)\n",
      "[[Fit Statistics]]\n",
      "    # fitting method   = leastsq\n",
      "    # function evals   = 31\n",
      "    # data points      = 15\n",
      "    # variables        = 4\n",
      "    chi-square         = 1.3729e-04\n",
      "    reduced chi-square = 1.2481e-05\n",
      "    Akaike info crit   = -166.021914\n",
      "    Bayesian info crit = -163.189713\n",
      "[[Variables]]\n",
      "    a:   0.15453355 +/- 0.00274112 (1.77%) (init = 0.13)\n",
      "    y0:  0.38110761 +/- 0.00145979 (0.38%) (init = 0.36)\n",
      "    k:   0.39130613 +/- 0.02400150 (6.13%) (init = 0.4)\n",
      "    xc:  65.4725786 +/- 0.19088378 (0.29%) (init = 63)\n",
      "[[Correlations]] (unreported correlations are < 0.100)\n",
      "    C(a, y0)  = -0.612\n",
      "    C(a, k)   = -0.554\n",
      "    C(y0, k)  =  0.405\n",
      "    C(y0, xc) =  0.303\n",
      "    C(a, xc)  =  0.248\n",
      "    C(k, xc)  = -0.208\n"
     ]
    },
    {
     "data": {
      "application/vnd.jupyter.widget-view+json": {
       "model_id": "20ed39825ecc4f7095b2ebb008ae2578",
       "version_major": 2,
       "version_minor": 0
      },
      "text/plain": [
       "Canvas(toolbar=Toolbar(toolitems=[('Home', 'Reset original view', 'home', 'home'), ('Back', 'Back to previous …"
      ]
     },
     "metadata": {},
     "output_type": "display_data"
    },
    {
     "name": "stdout",
     "output_type": "stream",
     "text": [
      "[[Model]]\n",
      "    Model(s1)\n",
      "[[Fit Statistics]]\n",
      "    # fitting method   = leastsq\n",
      "    # function evals   = 36\n",
      "    # data points      = 15\n",
      "    # variables        = 4\n",
      "    chi-square         = 1.8461e-04\n",
      "    reduced chi-square = 1.6782e-05\n",
      "    Akaike info crit   = -161.580034\n",
      "    Bayesian info crit = -158.747833\n",
      "[[Variables]]\n",
      "    a:   0.15740544 +/- 0.00292954 (1.86%) (init = 0.13)\n",
      "    y0:  0.39680299 +/- 0.00158938 (0.40%) (init = 0.36)\n",
      "    k:   0.49654664 +/- 0.03609880 (7.27%) (init = 0.4)\n",
      "    xc:  65.1436370 +/- 0.18224215 (0.28%) (init = 63)\n",
      "[[Correlations]] (unreported correlations are < 0.100)\n",
      "    C(a, y0)  = -0.601\n",
      "    C(a, k)   = -0.498\n",
      "    C(y0, k)  =  0.344\n",
      "    C(y0, xc) =  0.287\n",
      "    C(a, xc)  =  0.223\n",
      "    C(k, xc)  = -0.197\n"
     ]
    },
    {
     "data": {
      "application/vnd.jupyter.widget-view+json": {
       "model_id": "119781e59bfc476484d078c4d836ba87",
       "version_major": 2,
       "version_minor": 0
      },
      "text/plain": [
       "Canvas(toolbar=Toolbar(toolitems=[('Home', 'Reset original view', 'home', 'home'), ('Back', 'Back to previous …"
      ]
     },
     "metadata": {},
     "output_type": "display_data"
    },
    {
     "name": "stdout",
     "output_type": "stream",
     "text": [
      "[[Model]]\n",
      "    Model(s1)\n",
      "[[Fit Statistics]]\n",
      "    # fitting method   = leastsq\n",
      "    # function evals   = 36\n",
      "    # data points      = 15\n",
      "    # variables        = 4\n",
      "    chi-square         = 1.4698e-04\n",
      "    reduced chi-square = 1.3361e-05\n",
      "    Akaike info crit   = -164.999323\n",
      "    Bayesian info crit = -162.167122\n",
      "[[Variables]]\n",
      "    a:   0.16690263 +/- 0.00270715 (1.62%) (init = 0.13)\n",
      "    y0:  0.40099038 +/- 0.00141025 (0.35%) (init = 0.36)\n",
      "    k:   0.45759632 +/- 0.02803909 (6.13%) (init = 0.4)\n",
      "    xc:  66.0831397 +/- 0.16527096 (0.25%) (init = 63)\n",
      "[[Correlations]] (unreported correlations are < 0.100)\n",
      "    C(a, y0)  = -0.586\n",
      "    C(a, k)   = -0.506\n",
      "    C(y0, k)  =  0.369\n",
      "    C(y0, xc) =  0.288\n",
      "    C(a, xc)  =  0.243\n",
      "    C(k, xc)  = -0.177\n"
     ]
    },
    {
     "data": {
      "application/vnd.jupyter.widget-view+json": {
       "model_id": "f5d844563f92431ea849ad3a2516b9b3",
       "version_major": 2,
       "version_minor": 0
      },
      "text/plain": [
       "Canvas(toolbar=Toolbar(toolitems=[('Home', 'Reset original view', 'home', 'home'), ('Back', 'Back to previous …"
      ]
     },
     "metadata": {},
     "output_type": "display_data"
    },
    {
     "name": "stdout",
     "output_type": "stream",
     "text": [
      "[[Model]]\n",
      "    Model(s1)\n",
      "[[Fit Statistics]]\n",
      "    # fitting method   = leastsq\n",
      "    # function evals   = 31\n",
      "    # data points      = 15\n",
      "    # variables        = 4\n",
      "    chi-square         = 6.1188e-05\n",
      "    reduced chi-square = 5.5626e-06\n",
      "    Akaike info crit   = -178.144079\n",
      "    Bayesian info crit = -175.311878\n",
      "[[Variables]]\n",
      "    a:   0.14053668 +/- 0.00177073 (1.26%) (init = 0.13)\n",
      "    y0:  0.37934873 +/- 9.5403e-04 (0.25%) (init = 0.36)\n",
      "    k:   0.43295854 +/- 0.01981686 (4.58%) (init = 0.4)\n",
      "    xc:  65.3488623 +/- 0.12976026 (0.20%) (init = 63)\n",
      "[[Correlations]] (unreported correlations are < 0.100)\n",
      "    C(a, y0)  = -0.611\n",
      "    C(a, k)   = -0.535\n",
      "    C(y0, k)  =  0.392\n",
      "    C(y0, xc) =  0.300\n",
      "    C(a, xc)  =  0.231\n",
      "    C(k, xc)  = -0.193\n"
     ]
    },
    {
     "data": {
      "application/vnd.jupyter.widget-view+json": {
       "model_id": "cf35f00292364cd1b6057b487dfb4524",
       "version_major": 2,
       "version_minor": 0
      },
      "text/plain": [
       "Canvas(toolbar=Toolbar(toolitems=[('Home', 'Reset original view', 'home', 'home'), ('Back', 'Back to previous …"
      ]
     },
     "metadata": {},
     "output_type": "display_data"
    },
    {
     "name": "stdout",
     "output_type": "stream",
     "text": [
      "[[Model]]\n",
      "    Model(s1)\n",
      "[[Fit Statistics]]\n",
      "    # fitting method   = leastsq\n",
      "    # function evals   = 26\n",
      "    # data points      = 15\n",
      "    # variables        = 4\n",
      "    chi-square         = 1.2331e-04\n",
      "    reduced chi-square = 1.1210e-05\n",
      "    Akaike info crit   = -167.633485\n",
      "    Bayesian info crit = -164.801284\n",
      "[[Variables]]\n",
      "    a:   0.12733648 +/- 0.00244340 (1.92%) (init = 0.13)\n",
      "    y0:  0.34448617 +/- 0.00145573 (0.42%) (init = 0.36)\n",
      "    k:   0.42246798 +/- 0.02988255 (7.07%) (init = 0.4)\n",
      "    xc:  62.7925723 +/- 0.18972587 (0.30%) (init = 63)\n",
      "[[Correlations]] (unreported correlations are < 0.100)\n",
      "    C(a, y0)  = -0.664\n",
      "    C(a, k)   = -0.537\n",
      "    C(y0, k)  =  0.369\n",
      "    C(y0, xc) =  0.339\n",
      "    C(k, xc)  = -0.168\n",
      "    C(a, xc)  =  0.160\n"
     ]
    },
    {
     "data": {
      "application/vnd.jupyter.widget-view+json": {
       "model_id": "3224dcc2be274223b5e769f6147d1a2d",
       "version_major": 2,
       "version_minor": 0
      },
      "text/plain": [
       "Canvas(toolbar=Toolbar(toolitems=[('Home', 'Reset original view', 'home', 'home'), ('Back', 'Back to previous …"
      ]
     },
     "metadata": {},
     "output_type": "display_data"
    },
    {
     "name": "stdout",
     "output_type": "stream",
     "text": [
      "[[Model]]\n",
      "    Model(s1)\n",
      "[[Fit Statistics]]\n",
      "    # fitting method   = leastsq\n",
      "    # function evals   = 41\n",
      "    # data points      = 14\n",
      "    # variables        = 4\n",
      "    chi-square         = 1.6693e-04\n",
      "    reduced chi-square = 1.6693e-05\n",
      "    Akaike info crit   = -150.718316\n",
      "    Bayesian info crit = -148.162087\n",
      "[[Variables]]\n",
      "    a:   0.14251616 +/- 0.00302538 (2.12%) (init = 0.13)\n",
      "    y0:  0.37814924 +/- 0.00168889 (0.45%) (init = 0.36)\n",
      "    k:   0.46932902 +/- 0.04992622 (10.64%) (init = 0.4)\n",
      "    xc:  64.3595607 +/- 0.24980822 (0.39%) (init = 63)\n",
      "[[Correlations]] (unreported correlations are < 0.100)\n",
      "    C(a, y0)  = -0.642\n",
      "    C(a, k)   = -0.516\n",
      "    C(k, xc)  = -0.510\n",
      "    C(y0, k)  =  0.381\n",
      "    C(a, xc)  =  0.277\n",
      "    C(y0, xc) =  0.149\n"
     ]
    },
    {
     "data": {
      "application/vnd.jupyter.widget-view+json": {
       "model_id": "b5c20028d17c43469e2250285bcf4119",
       "version_major": 2,
       "version_minor": 0
      },
      "text/plain": [
       "Canvas(toolbar=Toolbar(toolitems=[('Home', 'Reset original view', 'home', 'home'), ('Back', 'Back to previous …"
      ]
     },
     "metadata": {},
     "output_type": "display_data"
    },
    {
     "name": "stdout",
     "output_type": "stream",
     "text": [
      "[[Model]]\n",
      "    Model(s1)\n",
      "[[Fit Statistics]]\n",
      "    # fitting method   = leastsq\n",
      "    # function evals   = 41\n",
      "    # data points      = 16\n",
      "    # variables        = 4\n",
      "    chi-square         = 1.6417e-04\n",
      "    reduced chi-square = 1.3681e-05\n",
      "    Akaike info crit   = -175.795251\n",
      "    Bayesian info crit = -172.704896\n",
      "[[Variables]]\n",
      "    a:   0.15628335 +/- 0.00254249 (1.63%) (init = 0.13)\n",
      "    y0:  0.40464104 +/- 0.00164746 (0.41%) (init = 0.36)\n",
      "    k:   0.43634504 +/- 0.02704844 (6.20%) (init = 0.4)\n",
      "    xc:  59.6154686 +/- 0.15797674 (0.26%) (init = 63)\n",
      "[[Correlations]] (unreported correlations are < 0.100)\n",
      "    C(a, y0)  = -0.712\n",
      "    C(a, k)   = -0.533\n",
      "    C(y0, xc) =  0.385\n",
      "    C(y0, k)  =  0.373\n"
     ]
    },
    {
     "data": {
      "application/vnd.jupyter.widget-view+json": {
       "model_id": "cafde979641343e49e6bb36165fcd44d",
       "version_major": 2,
       "version_minor": 0
      },
      "text/plain": [
       "Canvas(toolbar=Toolbar(toolitems=[('Home', 'Reset original view', 'home', 'home'), ('Back', 'Back to previous …"
      ]
     },
     "metadata": {},
     "output_type": "display_data"
    },
    {
     "name": "stdout",
     "output_type": "stream",
     "text": [
      "[[Model]]\n",
      "    Model(s1)\n",
      "[[Fit Statistics]]\n",
      "    # fitting method   = leastsq\n",
      "    # function evals   = 47\n",
      "    # data points      = 15\n",
      "    # variables        = 4\n",
      "    chi-square         = 0.00233272\n",
      "    reduced chi-square = 2.1207e-04\n",
      "    Akaike info crit   = -123.531582\n",
      "    Bayesian info crit = -120.699381\n",
      "[[Variables]]\n",
      "    a:   0.69355007 +/- 0.06429640 (9.27%) (init = 0.13)\n",
      "    y0:  0.37594905 +/- 0.01588067 (4.22%) (init = 0.36)\n",
      "    k:   0.07766870 +/- 0.00944487 (12.16%) (init = 0.4)\n",
      "    xc:  69.6402702 +/- 2.08140299 (2.99%) (init = 63)\n",
      "[[Correlations]] (unreported correlations are < 0.100)\n",
      "    C(a, k)   = -0.946\n",
      "    C(a, xc)  =  0.877\n",
      "    C(k, xc)  = -0.801\n",
      "    C(y0, k)  =  0.798\n",
      "    C(a, y0)  = -0.752\n",
      "    C(y0, xc) = -0.374\n"
     ]
    },
    {
     "data": {
      "application/vnd.jupyter.widget-view+json": {
       "model_id": "d0d8e5f7ea8f46b5ab6c4b8d470c32a6",
       "version_major": 2,
       "version_minor": 0
      },
      "text/plain": [
       "Canvas(toolbar=Toolbar(toolitems=[('Home', 'Reset original view', 'home', 'home'), ('Back', 'Back to previous …"
      ]
     },
     "metadata": {},
     "output_type": "display_data"
    },
    {
     "name": "stdout",
     "output_type": "stream",
     "text": [
      "[[Model]]\n",
      "    Model(s1)\n",
      "[[Fit Statistics]]\n",
      "    # fitting method   = leastsq\n",
      "    # function evals   = 632\n",
      "    # data points      = 15\n",
      "    # variables        = 4\n",
      "    chi-square         = 0.00210323\n",
      "    reduced chi-square = 1.9120e-04\n",
      "    Akaike info crit   = -125.084989\n",
      "    Bayesian info crit = -122.252788\n",
      "[[Variables]]\n",
      "    a:   31.8133881 +/- 148.541436 (466.91%) (init = 0.13)\n",
      "    y0: -0.70786515 +/- 0.58698409 (82.92%) (init = 0.36)\n",
      "    k:   0.01418524 +/- 0.00851446 (60.02%) (init = 0.4)\n",
      "    xc:  253.331579 +/- 443.623330 (175.12%) (init = 63)\n",
      "[[Correlations]] (unreported correlations are < 0.100)\n",
      "    C(a, xc)  =  1.000\n",
      "    C(k, xc)  = -0.997\n",
      "    C(a, k)   = -0.996\n",
      "    C(y0, k)  =  0.996\n",
      "    C(y0, xc) = -0.987\n",
      "    C(a, y0)  = -0.985\n"
     ]
    },
    {
     "data": {
      "application/vnd.jupyter.widget-view+json": {
       "model_id": "ebf8ec4022674ed5a755cefbf4218c9d",
       "version_major": 2,
       "version_minor": 0
      },
      "text/plain": [
       "Canvas(toolbar=Toolbar(toolitems=[('Home', 'Reset original view', 'home', 'home'), ('Back', 'Back to previous …"
      ]
     },
     "metadata": {},
     "output_type": "display_data"
    },
    {
     "name": "stdout",
     "output_type": "stream",
     "text": [
      "[[Model]]\n",
      "    Model(s1)\n",
      "[[Fit Statistics]]\n",
      "    # fitting method   = leastsq\n",
      "    # function evals   = 36\n",
      "    # data points      = 14\n",
      "    # variables        = 4\n",
      "    chi-square         = 1.9823e-04\n",
      "    reduced chi-square = 1.9823e-05\n",
      "    Akaike info crit   = -148.312240\n",
      "    Bayesian info crit = -145.756011\n",
      "[[Variables]]\n",
      "    a:   0.14138171 +/- 0.00308698 (2.18%) (init = 0.13)\n",
      "    y0:  0.36150581 +/- 0.00202181 (0.56%) (init = 0.36)\n",
      "    k:   0.47245737 +/- 0.04046693 (8.57%) (init = 0.4)\n",
      "    xc:  59.6371296 +/- 0.19962892 (0.33%) (init = 63)\n",
      "[[Correlations]] (unreported correlations are < 0.100)\n",
      "    C(a, y0)  = -0.689\n",
      "    C(a, k)   = -0.441\n",
      "    C(y0, xc) =  0.379\n",
      "    C(y0, k)  =  0.289\n"
     ]
    },
    {
     "data": {
      "application/vnd.jupyter.widget-view+json": {
       "model_id": "6d625f42821c4eacb34df2860577fc6a",
       "version_major": 2,
       "version_minor": 0
      },
      "text/plain": [
       "Canvas(toolbar=Toolbar(toolitems=[('Home', 'Reset original view', 'home', 'home'), ('Back', 'Back to previous …"
      ]
     },
     "metadata": {},
     "output_type": "display_data"
    }
   ],
   "source": [
    "# Parameter\n",
    "sample = \"Control_0M\"\n",
    "melt_T = {}\n",
    "error_T = {}\n",
    "residual = pd.DataFrame(index=[\"R-Wert\"])\n",
    "for key in data_all.keys():\n",
    "    fit, params, params_error = ana.lm_fit(data_all[key].absorb_df, guess=[0.13, 0.36, 0.4])\n",
    "    melt_T[key] = params['xc']\n",
    "    error_T[key] = params_error\n",
    "    residual[key] = [1 - (np.sum(fit[\"residual\"]**2)/np.sum((fit[260] - fit[260].mean(axis=0))**2))]\n",
    "    plot.mult_func([260, \"fit\"], [fit], error={\"fit\": fit[\"error\"]}, swap=True, \n",
    "                   x_label=\"Temperature [°C]\", y_label=\"Absorbance [%]\", label=[\"data\", \"sigmoid fit\", 'melting temperature'], marker=['o', ''], linestyle=[\" \", \"-\"],\n",
    "                  subtitle=[\"Hyperchromatic shift\"], title=key, vertical_line=[params['xc']])"
   ]
  },
  {
   "cell_type": "code",
   "execution_count": 46,
   "id": "norwegian-world",
   "metadata": {},
   "outputs": [
    {
     "name": "stdout",
     "output_type": "stream",
     "text": [
      "{'Gdm2SO4': [0.1397237267320292, 0.19088377518475777, 0.18224214589913398, 0.1652709599552112], 'GdmCl': [0.1397237267320292, 0.1297602579827057, 0.18972587319187942, 0.1579767375822369]}\n"
     ]
    },
    {
     "data": {
      "application/vnd.jupyter.widget-view+json": {
       "model_id": "ea140265cb4a4dffa5d676ddc7ca0d91",
       "version_major": 2,
       "version_minor": 0
      },
      "text/plain": [
       "Canvas(toolbar=Toolbar(toolitems=[('Home', 'Reset original view', 'home', 'home'), ('Back', 'Back to previous …"
      ]
     },
     "metadata": {},
     "output_type": "display_data"
    }
   ],
   "source": [
    "x = [0., 0.5, 2., 4.]\n",
    "y = list(melt_T.values())[0:4]\n",
    "y_error = list(error_T.values())[0:4]\n",
    "graph1 = pd.DataFrame(y, index=x, columns=[\"Gdm2SO4\"]).T\n",
    "error= {\"Gdm2SO4\":y_error}\n",
    "\n",
    "y2 = [melt_T[\"Control_0M\"], melt_T[\"GdmCl_0.5M\"], melt_T[\"GdmCl_2M\"], melt_T[\"GdmCl_4M\"]]\n",
    "y2_error = [error_T[\"Control_0M\"], error_T[\"GdmCl_0.5M\"], error_T[\"GdmCl_2M\"], error_T[\"GdmCl_4M\"]]\n",
    "graph2 = pd.DataFrame(y2, index=x, columns=[\"GdmCl\"] ).T\n",
    "error[\"GdmCl\"] = y2_error \n",
    "print(error)\n",
    "graph = pd.concat([graph1, graph2], axis=0)\n",
    "plot.mult_func([\"Gdm2SO4\", \"GdmCl\"], [graph], title=\"Melting Temperature\", subtitle=[\"\"], x_label=\"Concentration [M]\", y_label=\"Temperature [°C]\", error=error)"
   ]
  },
  {
   "cell_type": "markdown",
   "id": "municipal-output",
   "metadata": {},
   "source": [
    "# TD Calculations\n"
   ]
  },
  {
   "cell_type": "markdown",
   "id": "clear-objective",
   "metadata": {},
   "source": [
    "<div class=\"alert alert-block alert-info\">\n",
    "<b>Info:</b> Steps after Mergny, J.-L., & Lacroix, L. (2003). Analysis of Thermal Melting Curves. In OLIGONUCLEOTIDES (Vol. 13). www.liebertpub.com\n",
    "</div>"
   ]
  },
  {
   "cell_type": "markdown",
   "id": "timely-times",
   "metadata": {},
   "source": [
    "**Hypochromatic Shift at 260nm  wit Low and High Plateau Fit**"
   ]
  },
  {
   "cell_type": "code",
   "execution_count": 8,
   "id": "floating-importance",
   "metadata": {},
   "outputs": [
    {
     "name": "stdout",
     "output_type": "stream",
     "text": [
      "[[Model]]\n",
      "    Model(linear)\n",
      "[[Fit Statistics]]\n",
      "    # fitting method   = leastsq\n",
      "    # function evals   = 7\n",
      "    # data points      = 3\n",
      "    # variables        = 2\n",
      "    chi-square         = 3.7600e-07\n",
      "    reduced chi-square = 3.7600e-07\n",
      "    Akaike info crit   = -43.6768616\n",
      "    Bayesian info crit = -45.4796371\n",
      "[[Variables]]\n",
      "    m:   9.8400e-05 +/- 4.3359e-05 (44.06%) (init = 0.0001)\n",
      "    y0:  0.35534533 +/- 0.00134808 (0.38%) (init = 0.35)\n",
      "[[Correlations]] (unreported correlations are < 0.100)\n",
      "    C(m, y0) = -0.965\n",
      "[[Model]]\n",
      "    Model(linear)\n",
      "[[Fit Statistics]]\n",
      "    # fitting method   = leastsq\n",
      "    # function evals   = 7\n",
      "    # data points      = 3\n",
      "    # variables        = 2\n",
      "    chi-square         = 1.3374e-05\n",
      "    reduced chi-square = 1.3374e-05\n",
      "    Akaike info crit   = -32.9623650\n",
      "    Bayesian info crit = -34.7651404\n",
      "[[Variables]]\n",
      "    m:   7.5960e-04 +/- 2.5860e-04 (34.04%) (init = 0.0001)\n",
      "    y0:  0.42851300 +/- 0.02079508 (4.85%) (init = 0.48)\n",
      "[[Correlations]] (unreported correlations are < 0.100)\n",
      "    C(m, y0) = -0.995\n",
      "[[Model]]\n",
      "    Model(s1)\n",
      "[[Fit Statistics]]\n",
      "    # fitting method   = leastsq\n",
      "    # function evals   = 26\n",
      "    # data points      = 16\n",
      "    # variables        = 4\n",
      "    chi-square         = 8.2538e-05\n",
      "    reduced chi-square = 6.8781e-06\n",
      "    Akaike info crit   = -186.797542\n",
      "    Bayesian info crit = -183.707187\n",
      "[[Variables]]\n",
      "    a:   0.13153935 +/- 0.00186321 (1.42%) (init = 0.2)\n",
      "    y0:  0.35994043 +/- 0.00101404 (0.28%) (init = 0.35)\n",
      "    k:   0.46428497 +/- 0.02562977 (5.52%) (init = 0.5)\n",
      "    xc:  64.0734193 +/- 0.13971623 (0.22%) (init = 63)\n",
      "[[Correlations]] (unreported correlations are < 0.100)\n",
      "    C(a, y0)  = -0.618\n",
      "    C(a, k)   = -0.528\n",
      "    C(y0, k)  =  0.374\n",
      "    C(y0, xc) =  0.283\n",
      "    C(a, xc)  =  0.228\n",
      "    C(k, xc)  = -0.212\n"
     ]
    }
   ],
   "source": [
    "raw = data_all[\"Control_0M\"].absorb_df\n",
    "low_fit, params_lowfit = ana.lm_fit(raw[[20,30,40]], f_type='linear', guess=[0.0001, 0.35])\n",
    "high_fit, params_highfit = ana.lm_fit(raw[[70, 80,90]], f_type='linear', guess=[0.0001, 0.48])\n",
    "sig_fit, params_sigfit = ana.lm_fit(raw, f_type='s1', guess=[0.2, 0.35, 0.5, 63])"
   ]
  },
  {
   "cell_type": "markdown",
   "id": "ecological-multiple",
   "metadata": {},
   "source": [
    "**Calculating Fraction Folded with High Plateu adjusted manually**"
   ]
  },
  {
   "cell_type": "code",
   "execution_count": 9,
   "id": "congressional-lobby",
   "metadata": {},
   "outputs": [
    {
     "data": {
      "application/vnd.jupyter.widget-view+json": {
       "model_id": "65d8a6ab0e8e4dbaa995d21b220fbb96",
       "version_major": 2,
       "version_minor": 0
      },
      "text/plain": [
       "Canvas(toolbar=Toolbar(toolitems=[('Home', 'Reset original view', 'home', 'home'), ('Back', 'Back to previous …"
      ]
     },
     "metadata": {},
     "output_type": "display_data"
    },
    {
     "data": {
      "application/vnd.jupyter.widget-view+json": {
       "model_id": "076344cdb4e34e8d893c73c00707e0d9",
       "version_major": 2,
       "version_minor": 0
      },
      "text/plain": [
       "Canvas(toolbar=Toolbar(toolitems=[('Home', 'Reset original view', 'home', 'home'), ('Back', 'Back to previous …"
      ]
     },
     "metadata": {},
     "output_type": "display_data"
    }
   ],
   "source": [
    "data_treated = pd.DataFrame(raw.loc[260])\n",
    "data_treated[\"low_fit\"] = ana.linear(np.array(raw.columns), *params_lowfit.values())\n",
    "data_treated[\"high_fit\"] = ana.linear(np.array(raw.columns), 0.0004495999948082116, 0.45451300041966917)\n",
    "data_treated[\"intermediate\"] = 0.5*(data_treated[\"low_fit\"] + data_treated[\"high_fit\"])\n",
    "data_treated[\"fit\"] = sig_fit[\"fit\"]\n",
    "data_treated[\"baseline_fit\"] = (data_treated[\"high_fit\"] - data_treated[260])/(data_treated[\"high_fit\"] - data_treated[\"low_fit\"])\n",
    "data_treated[\"normed_data\"] = 1- ana.normalize(raw).loc[260].to_numpy()\n",
    "data_treated[\"log_fit\"] = 1 - ana.normalize(data_treated)[\"fit\"]\n",
    "plot.mult_func([260, \"low_fit\", \"high_fit\", \"intermediate\", \"fit\"], [data_treated.T], subtitle=[\"\"], title=\"Hypochromatic shift with Plaetau Fits\", y_label=\"Absorbance at 260nm\")\n",
    "plot.mult_func([\"baseline_fit\", \"normed_data\", \"log_fit\"], [data_treated.T], subtitle=[\"\"],  title=\"Fraction folded calculated by Plateu fits and Normalization\", y_label=\"Fraction folded\")\n"
   ]
  },
  {
   "cell_type": "markdown",
   "id": "alleged-queensland",
   "metadata": {},
   "source": [
    "**calulate K and ln K for different methods**"
   ]
  },
  {
   "cell_type": "code",
   "execution_count": 10,
   "id": "comprehensive-bowling",
   "metadata": {},
   "outputs": [
    {
     "name": "stdout",
     "output_type": "stream",
     "text": [
      "[[Model]]\n",
      "    Model(linear)\n",
      "[[Fit Statistics]]\n",
      "    # fitting method   = leastsq\n",
      "    # function evals   = 6\n",
      "    # data points      = 5\n",
      "    # variables        = 2\n",
      "    chi-square         = 0.66852599\n",
      "    reduced chi-square = 0.22284200\n",
      "    Akaike info crit   = -6.06058962\n",
      "    Bayesian info crit = -6.84171380\n",
      "[[Variables]]\n",
      "    m:   82573.1995 +/- 6790.09991 (8.22%) (init = 80000)\n",
      "    y0: -226.953410 +/- 20.1072530 (8.86%) (init = -2)\n",
      "[[Correlations]] (unreported correlations are < 0.100)\n",
      "    C(m, y0) = -1.000\n"
     ]
    },
    {
     "name": "stderr",
     "output_type": "stream",
     "text": [
      "C:\\Users\\crazy\\anaconda3\\envs\\TestEnv\\lib\\site-packages\\pandas\\core\\arraylike.py:358: RuntimeWarning: invalid value encountered in log\n",
      "  result = getattr(ufunc, method)(*inputs, **kwargs)\n"
     ]
    },
    {
     "data": {
      "application/vnd.jupyter.widget-view+json": {
       "model_id": "f8d4f87a29cd4eeab65862dd40a0b70c",
       "version_major": 2,
       "version_minor": 0
      },
      "text/plain": [
       "Canvas(toolbar=Toolbar(toolitems=[('Home', 'Reset original view', 'home', 'home'), ('Back', 'Back to previous …"
      ]
     },
     "metadata": {},
     "output_type": "display_data"
    }
   ],
   "source": [
    "c_total = 40 * (10**-9) # # total strand concentration in molar\n",
    "\n",
    "# get K and ln K\n",
    "base_method = pd.DataFrame(data_treated[\"baseline_fit\"].to_numpy(), index=[20,30,40,45,50,56,56,58,60,62,64,67,70,75,80, 90], columns=[\"theta\"])\n",
    "base_method['theta'] = base_method['theta'].astype(float)\n",
    "\n",
    "# here equation depending on reaction type, choosen: Bimolecular, complementary strand types\n",
    "base_method[\"K\"] = (base_method[\"theta\"])/(c_total*((1 - base_method[\"theta\"])**2))\n",
    "base_method['ln K'] = np.log(base_method['K'])\n",
    "\n",
    "# select values in confidence values 0.1 < theta < 0.9\n",
    "base_method  = base_method.loc[60:70]\n",
    "# change celsius to kelvin\n",
    "base_method = base_method.set_index(1/(base_method.index + 273.15))\n",
    "\n",
    "# make linear fit and plot\n",
    "enthalpy_base, params_base = ana.lm_fit(base_method.T, wave=\"ln K\", f_type='linear', guess=[80000, -2])\n",
    "error = {\"fit\" : enthalpy_base[\"error\"].to_numpy()}\n",
    "plot.mult_func([\"ln K\", \"fit\"], [enthalpy_base.T], error=error, x_label=\"1/T [1/Kelvin]\", y_label=\"ln K\")"
   ]
  },
  {
   "cell_type": "code",
   "execution_count": 11,
   "id": "handed-hometown",
   "metadata": {},
   "outputs": [
    {
     "name": "stdout",
     "output_type": "stream",
     "text": [
      "[[Model]]\n",
      "    Model(linear)\n",
      "[[Fit Statistics]]\n",
      "    # fitting method   = leastsq\n",
      "    # function evals   = 6\n",
      "    # data points      = 5\n",
      "    # variables        = 2\n",
      "    chi-square         = 0.66852599\n",
      "    reduced chi-square = 0.22284200\n",
      "    Akaike info crit   = -6.06058962\n",
      "    Bayesian info crit = -6.84171380\n",
      "[[Variables]]\n",
      "    m:   82573.1995 +/- 6790.09991 (8.22%) (init = 80000)\n",
      "    y0: -226.953410 +/- 20.1072530 (8.86%) (init = -2)\n",
      "[[Correlations]] (unreported correlations are < 0.100)\n",
      "    C(m, y0) = -1.000\n"
     ]
    },
    {
     "name": "stderr",
     "output_type": "stream",
     "text": [
      "C:\\Users\\crazy\\anaconda3\\envs\\TestEnv\\lib\\site-packages\\pandas\\core\\arraylike.py:358: RuntimeWarning: divide by zero encountered in log\n",
      "  result = getattr(ufunc, method)(*inputs, **kwargs)\n"
     ]
    },
    {
     "data": {
      "application/vnd.jupyter.widget-view+json": {
       "model_id": "3b03dbe7c0de4ee58e9732a4d5d5cbc8",
       "version_major": 2,
       "version_minor": 0
      },
      "text/plain": [
       "Canvas(toolbar=Toolbar(toolitems=[('Home', 'Reset original view', 'home', 'home'), ('Back', 'Back to previous …"
      ]
     },
     "metadata": {},
     "output_type": "display_data"
    }
   ],
   "source": [
    "c_total = 40 * (10**-9) # # total strand concentration in molar\n",
    "\n",
    "# get K and ln K\n",
    "normed_method = pd.DataFrame(data_treated[\"normed_data\"].to_numpy(), index=[20,30,40,45,50,56,56,58,60,62,64,67,70,75,80, 90], columns=[\"theta\"])\n",
    "normed_method['theta'] = normed_method['theta'].astype(float)\n",
    "\n",
    "# here equation depending on reaction type, choosen: Bimolecular, complementary strand types\n",
    "normed_method[\"K\"] = (normed_method[\"theta\"])/(c_total*((1 - normed_method[\"theta\"])**2))\n",
    "normed_method['ln K'] = np.log(normed_method['K'])\n",
    "\n",
    "# select values in confidence values 0.1 < theta < 0.9\n",
    "normed_method  = normed_method.loc[60:70]\n",
    "# change celsius to kelvin\n",
    "normed_method = normed_method.set_index(1/(normed_method.index + 273.15))\n",
    "\n",
    "# make linear fit and plot\n",
    "enthalpy_normed, params_norm = ana.lm_fit(base_method.T, wave=\"ln K\", f_type='linear', guess=[80000, -2])\n",
    "error = {\"fit\" : enthalpy_normed[\"error\"].to_numpy()}\n",
    "plot.mult_func([\"ln K\", \"fit\"], [enthalpy_normed.T], error=error, x_label=\"1/T [1/Kelvin]\", y_label=\"ln K\")"
   ]
  },
  {
   "cell_type": "code",
   "execution_count": 12,
   "id": "thermal-memorabilia",
   "metadata": {},
   "outputs": [
    {
     "name": "stdout",
     "output_type": "stream",
     "text": [
      "[[Model]]\n",
      "    Model(linear)\n",
      "[[Fit Statistics]]\n",
      "    # fitting method   = leastsq\n",
      "    # function evals   = 7\n",
      "    # data points      = 5\n",
      "    # variables        = 2\n",
      "    chi-square         = 1.62690318\n",
      "    reduced chi-square = 0.54230106\n",
      "    Akaike info crit   = -1.61379796\n",
      "    Bayesian info crit = -2.39492213\n",
      "[[Variables]]\n",
      "    m:   143015.744 +/- 10592.4844 (7.41%) (init = 80000)\n",
      "    y0: -405.548597 +/- 31.3671034 (7.73%) (init = -2)\n",
      "[[Correlations]] (unreported correlations are < 0.100)\n",
      "    C(m, y0) = -1.000\n"
     ]
    },
    {
     "name": "stderr",
     "output_type": "stream",
     "text": [
      "C:\\Users\\crazy\\anaconda3\\envs\\TestEnv\\lib\\site-packages\\pandas\\core\\arraylike.py:358: RuntimeWarning: divide by zero encountered in log\n",
      "  result = getattr(ufunc, method)(*inputs, **kwargs)\n"
     ]
    },
    {
     "data": {
      "application/vnd.jupyter.widget-view+json": {
       "model_id": "98a34a8f807848988a612af95b03366e",
       "version_major": 2,
       "version_minor": 0
      },
      "text/plain": [
       "Canvas(toolbar=Toolbar(toolitems=[('Home', 'Reset original view', 'home', 'home'), ('Back', 'Back to previous …"
      ]
     },
     "metadata": {},
     "output_type": "display_data"
    }
   ],
   "source": [
    "c_total = 40 * (10**-9) # # total strand concentration in molar\n",
    "\n",
    "# get K and ln K\n",
    "fit_method = pd.DataFrame(data_treated[\"log_fit\"].to_numpy(), index=[20,30,40,45,50,56,56,58,60,62,64,67,70,75,80, 90], columns=[\"theta\"])\n",
    "fit_method['theta'] = fit_method['theta'].astype(float)\n",
    "\n",
    "# here equation depending on reaction type, choosen: Bimolecular, complementary strand types\n",
    "fit_method[\"K\"] = (fit_method[\"theta\"])/(c_total*((1 - fit_method[\"theta\"])**2))\n",
    "fit_method['ln K'] = np.log(fit_method['K'])\n",
    "\n",
    "# select values in confidence values 0.1 < theta < 0.9\n",
    "fit_method  = fit_method.loc[60:70]\n",
    "# change celsius to kelvin\n",
    "fit_method = fit_method.set_index(1/(fit_method.index + 273.15))\n",
    "\n",
    "# make linear fit and plot\n",
    "enthalpy_fit, params_fit = ana.lm_fit(fit_method.T, wave=\"ln K\", f_type='linear', guess=[80000, -2])\n",
    "error = {\"fit\" : enthalpy_fit[\"error\"].to_numpy()}\n",
    "plot.mult_func([\"ln K\", \"fit\"], [enthalpy_fit.T], error=error, x_label=\"1/T [1/Kelvin]\", y_label=\"ln K\")"
   ]
  },
  {
   "cell_type": "markdown",
   "id": "defined-friend",
   "metadata": {},
   "source": [
    "**Calculate Entropy and Enthalpy**"
   ]
  },
  {
   "cell_type": "code",
   "execution_count": 13,
   "id": "decreased-nelson",
   "metadata": {},
   "outputs": [
    {
     "name": "stdout",
     "output_type": "stream",
     "text": [
      "                      base        norm          fit\n",
      "units                                              \n",
      "H [kJ/mol]     -686.554867 -686.554867 -1189.104403\n",
      "H [kcal/mol]   -164.090527 -164.090527  -284.202730\n",
      "S [kJ/mol*K]     -1.887004   -1.887004    -3.371934\n",
      "S [kcal/mol*K]   -0.451005   -0.451005    -0.805911\n"
     ]
    }
   ],
   "source": [
    "enthalpy = pd.DataFrame([\"H [kJ/mol]\", \"H [kcal/mol]\", \"S [kJ/mol*K]\", \"S [kcal/mol*K]\"], columns=[\"units\"])\n",
    "enthalpy = enthalpy.set_index(\"units\")\n",
    "\n",
    "# for base method\n",
    "m, y0 = params_base.values()\n",
    "delta_H = -m * 8.3145\n",
    "delta_S = y0 * 8.3145\n",
    "enthalpy[\"base\"] = [delta_H*10**(-3), delta_H*0.2390057*10**(-3), delta_S*10**(-3), delta_S*0.2390057*10**(-3)]\n",
    "\n",
    "# for normed method\n",
    "m, y0 = params_norm.values()\n",
    "delta_H = -m * 8.3145\n",
    "delta_S = y0 * 8.3145\n",
    "enthalpy[\"norm\"] = [delta_H*10**(-3), delta_H*0.2390057*10**(-3), delta_S*10**(-3), delta_S*0.2390057*10**(-3)]\n",
    "\n",
    "# for fit method\n",
    "m, y0 = params_fit.values()\n",
    "delta_H = -m * 8.3145\n",
    "delta_S = y0 * 8.3145\n",
    "enthalpy[\"fit\"] = [delta_H*10**(-3), delta_H*0.2390057*10**(-3), delta_S*10**(-3), delta_S*0.2390057*10**(-3)]\n",
    "\n",
    "print(enthalpy)"
   ]
  },
  {
   "cell_type": "markdown",
   "id": "fancy-minute",
   "metadata": {},
   "source": [
    "## Derivative\n"
   ]
  },
  {
   "cell_type": "code",
   "execution_count": 14,
   "id": "august-korean",
   "metadata": {},
   "outputs": [],
   "source": [
    "deriv = ana.derivative(data_all[\"Control_0M\"].absorb_df)\n",
    "data = data_all[\"Control_0M\"].absorb_df"
   ]
  },
  {
   "cell_type": "code",
   "execution_count": 15,
   "id": "through-morgan",
   "metadata": {},
   "outputs": [
    {
     "data": {
      "application/vnd.jupyter.widget-view+json": {
       "model_id": "30b02ee004904cea8882667307fdf477",
       "version_major": 2,
       "version_minor": 0
      },
      "text/plain": [
       "Canvas(toolbar=Toolbar(toolitems=[('Home', 'Reset original view', 'home', 'home'), ('Back', 'Back to previous …"
      ]
     },
     "metadata": {},
     "output_type": "display_data"
    }
   ],
   "source": [
    "plot.mult_func([260], [data], [deriv], title= \"Hypochromatic shift\", subtitle=[\"Absolute value\", \"interpolated derivative\"], label=[\"\"], y_label=\"Absorbance\")"
   ]
  },
  {
   "cell_type": "markdown",
   "id": "marked-qualification",
   "metadata": {},
   "source": [
    "# Parafak Ethanol"
   ]
  },
  {
   "cell_type": "markdown",
   "id": "professional-insurance",
   "metadata": {},
   "source": [
    "## *setting up the Notebook*"
   ]
  },
  {
   "cell_type": "code",
   "execution_count": 1,
   "id": "indoor-diamond",
   "metadata": {},
   "outputs": [],
   "source": [
    "# Enabling the `widget` backend.\n",
    "# This requires jupyter-matplotlib a.k.a. ipympl.\n",
    "# ipympl can be install via pip or conda.\n",
    "%matplotlib widget\n",
    "        \n",
    "import matplotlib.pyplot as plt\n",
    "import numpy as np\n",
    "import pandas as pd\n",
    "from ipywidgets import Output\n",
    "import matplotlib\n",
    "\n",
    "from scipy import integrate\n",
    "import lmfit\n",
    "import os"
   ]
  },
  {
   "cell_type": "code",
   "execution_count": 2,
   "id": "fundamental-elimination",
   "metadata": {},
   "outputs": [],
   "source": [
    "import analise as ana\n",
    "import cdata \n",
    "import hotznplots as plot"
   ]
  },
  {
   "cell_type": "markdown",
   "id": "radio-geneva",
   "metadata": {},
   "source": [
    "<div class=\"alert alert-block alert-info\">\n",
    "<b>Info:</b> Print always whole DataFrames\n",
    "</div>"
   ]
  },
  {
   "cell_type": "code",
   "execution_count": 3,
   "id": "simplified-candy",
   "metadata": {},
   "outputs": [],
   "source": [
    "# Default value of display.max_rows is 10 i.e. at max 10 rows will be printed.\n",
    "# Set it None to display all rows in the dataframe\n",
    "pd.set_option('display.max_rows', None)"
   ]
  },
  {
   "cell_type": "code",
   "execution_count": 4,
   "id": "automotive-absolute",
   "metadata": {},
   "outputs": [],
   "source": [
    "# change plot size\n",
    "plt.rcParams[\"figure.figsize\"] = (11,9)"
   ]
  },
  {
   "cell_type": "markdown",
   "id": "modern-centre",
   "metadata": {},
   "source": [
    "<div class=\"alert alert-block alert-info\">\n",
    "<b>Info:</b> Get the data\n",
    "</div>"
   ]
  },
  {
   "cell_type": "code",
   "execution_count": 5,
   "id": "modern-celebration",
   "metadata": {},
   "outputs": [
    {
     "name": "stdout",
     "output_type": "stream",
     "text": [
      "['Control_0%', 'Ethanol_50%', 'Ethanol_50%_nachTest', 'Ethanol_50%_real', 'Ethanol_50%_vorTest']\n"
     ]
    }
   ],
   "source": [
    "# Path for Daniel:\n",
    "#path = \"F:\\\\HZDR\\\\CD_data\"\n",
    "\n",
    "# My Path:\n",
    "path = \"C:\\\\Users\\\\crazy\\\\Mega\\\\Uni\\\\Masterarbeit\\\\Projekt\\\\Data\\\\CD_data\\\\Ethanol\"\n",
    "datalist = os.listdir(path)\n",
    "print(datalist)"
   ]
  },
  {
   "cell_type": "code",
   "execution_count": 6,
   "id": "rolled-operation",
   "metadata": {},
   "outputs": [],
   "source": [
    "# all data in one dictionary with foldernames as names\n",
    "data_all = {}\n",
    "for i in range(len(datalist)):\n",
    "    data_all[datalist[i]] = cdata.CData(os.path.join(path, datalist[i]))"
   ]
  },
  {
   "cell_type": "code",
   "execution_count": 8,
   "id": "suspended-quilt",
   "metadata": {},
   "outputs": [
    {
     "name": "stdout",
     "output_type": "stream",
     "text": [
      "                  0%       50%      nach       vor  50% real\n",
      "wavelength                                                  \n",
      "220         2.018260  2.274510  3.126240  2.307520  2.848860\n",
      "221         2.080980  2.351290  3.314980  2.367540  2.935160\n",
      "222         2.050420  2.385820  3.392230  2.399380  2.992490\n",
      "223         1.912300  2.286210  3.399130  2.399530  2.952990\n",
      "224         1.639410  2.188990  3.234820  2.326470  2.905010\n",
      "225         1.334610  2.006050  2.974400  2.194240  2.709800\n",
      "226         0.987198  1.847160  2.640560  1.936590  2.520000\n",
      "227         0.635405  1.639230  2.248080  1.665910  2.251200\n",
      "228         0.240217  1.421670  1.923790  1.448930  1.967390\n",
      "229        -0.119267  1.181210  1.646120  1.259320  1.597030\n",
      "230        -0.512917  0.921575  1.261840  1.015550  1.176200\n",
      "231        -0.886912  0.619775  0.926121  0.713306  0.785832\n",
      "232        -1.336630  0.354009  0.370603  0.331813  0.390593\n",
      "233        -1.776360  0.074562  0.018606  0.083282  0.037718\n",
      "234        -2.209810 -0.192663 -0.393782 -0.148270 -0.352435\n",
      "235        -2.665080 -0.451375 -0.759927 -0.359579 -0.734128\n",
      "236        -3.113920 -0.700925 -1.150090 -0.590502 -1.068090\n",
      "237        -3.545400 -0.926277 -1.557160 -0.822505 -1.361690\n",
      "238        -3.988460 -1.128520 -1.788830 -0.961874 -1.630390\n",
      "239        -4.434120 -1.280230 -2.056520 -1.081510 -1.895780\n",
      "240        -4.853330 -1.425770 -2.274880 -1.177200 -2.140270\n",
      "241        -5.259260 -1.485700 -2.582890 -1.311850 -2.346580\n",
      "242        -5.605870 -1.586310 -2.813260 -1.491360 -2.507860\n",
      "243        -5.898190 -1.681480 -3.061770 -1.595370 -2.657900\n",
      "244        -6.195660 -1.740120 -3.222810 -1.683850 -2.769360\n",
      "245        -6.466130 -1.800050 -3.202200 -1.715640 -2.864460\n",
      "246        -6.672550 -1.813160 -3.273570 -1.722340 -2.917410\n",
      "247        -6.755200 -1.843030 -3.248880 -1.712000 -2.973810\n",
      "248        -6.703360 -1.841830 -3.314300 -1.730030 -3.011510\n",
      "249        -6.551950 -1.826300 -3.316510 -1.720750 -3.033700\n",
      "250        -6.243260 -1.779960 -3.289320 -1.681320 -3.017710\n",
      "251        -5.805820 -1.760880 -3.279030 -1.662400 -2.929890\n",
      "252        -5.223510 -1.699630 -3.150610 -1.606040 -2.842110\n",
      "253        -4.635670 -1.674690 -3.041830 -1.631990 -2.763100\n",
      "254        -3.958060 -1.646450 -2.938430 -1.607720 -2.665860\n",
      "255        -3.308090 -1.606250 -2.831750 -1.553200 -2.581240\n",
      "256        -2.614890 -1.548030 -2.722630 -1.400250 -2.479170\n",
      "257        -1.992060 -1.487180 -2.613010 -1.365810 -2.409860\n",
      "258        -1.359360 -1.416140 -2.497800 -1.312420 -2.311430\n",
      "259        -0.789798 -1.361200 -2.429560 -1.274770 -2.227690\n",
      "260        -0.257733 -1.325630 -2.357880 -1.167310 -2.186820\n",
      "261         0.186114 -1.300960 -2.277430 -1.150160 -2.128230\n",
      "262         0.605029 -1.257560 -2.202590 -1.119510 -2.061680\n",
      "263         0.954364 -1.243570 -2.149880 -1.127010 -2.002260\n",
      "264         1.306650 -1.230260 -2.039840 -1.080160 -1.944840\n",
      "265         1.586630 -1.215320 -1.941390 -1.075660 -1.870510\n",
      "266         1.862070 -1.176250 -1.846260 -1.063100 -1.808570\n",
      "267         2.128690 -1.168980 -1.819180 -1.053700 -1.749740\n",
      "268         2.396950 -1.160790 -1.758510 -0.975946 -1.712020\n",
      "269         2.671660 -1.135860 -1.694310 -0.915490 -1.666700\n",
      "270         2.906290 -1.110530 -1.568460 -0.873552 -1.574990\n",
      "271         3.125970 -1.046750 -1.432590 -0.863455 -1.494240\n",
      "272         3.283140 -1.003070 -1.366130 -0.883025 -1.429680\n",
      "273         3.385590 -0.941886 -1.250620 -0.857533 -1.347860\n",
      "274         3.466120 -0.908342 -1.183400 -0.844340 -1.238950\n",
      "275         3.528280 -0.847546 -1.038610 -0.785373 -1.147560\n",
      "276         3.598340 -0.799323 -0.942075 -0.719590 -1.057810\n",
      "277         3.679400 -0.767836 -0.817341 -0.649083 -0.958146\n",
      "278         3.729940 -0.727762 -0.711424 -0.553438 -0.844247\n",
      "279         3.763530 -0.653381 -0.553383 -0.520223 -0.722521\n",
      "280         3.754930 -0.599111 -0.379904 -0.415850 -0.596501\n",
      "281         3.750990 -0.510616 -0.194189 -0.354973 -0.459833\n",
      "282         3.699530 -0.442963  0.001564 -0.254495 -0.298113\n",
      "283         3.599560 -0.363166  0.154659 -0.174768 -0.160262\n",
      "284         3.434060 -0.278134  0.327251 -0.078065 -0.004919\n",
      "285         3.209440 -0.198342  0.466679  0.001005  0.140411\n",
      "286         2.956070 -0.109837  0.600263  0.049694  0.291653\n",
      "287         2.680700 -0.041664  0.751051  0.109469  0.422259\n",
      "288         2.414470  0.040275  0.928198  0.184512  0.543043\n",
      "289         2.137960  0.098642  1.075430  0.264460  0.637926\n",
      "290         1.870290  0.142925  1.161930  0.341484  0.740262\n",
      "291         1.621650  0.230325  1.239900  0.390846  0.816139\n",
      "292         1.367880  0.296227  1.311600  0.409474  0.885171\n",
      "293         1.142750  0.388315  1.430980  0.507428  0.966021\n",
      "294         0.954676  0.435131  1.531440  0.559959  1.030100\n",
      "295         0.805050  0.483874  1.596620  0.661317  1.097470\n",
      "296         0.688515  0.517186  1.622250  0.688386  1.137790\n",
      "297         0.584848  0.537449  1.626530  0.693583  1.166860\n",
      "298         0.508434  0.566124  1.653510  0.699186  1.200820\n",
      "299         0.460637  0.574150  1.653430  0.706411  1.203340\n",
      "300         0.405739  0.600529  1.680280  0.747058  1.187060\n",
      "301         0.346918  0.599239  1.662890  0.742525  1.151900\n",
      "302         0.302081  0.594712  1.626130  0.720668  1.132520\n",
      "303         0.266403  0.583839  1.590270  0.709977  1.122540\n",
      "304         0.251672  0.591705  1.528060  0.687339  1.111460\n",
      "305         0.258838  0.570174  1.424390  0.681470  1.098950\n",
      "306         0.247610  0.552264  1.329270  0.641913  1.061400\n",
      "307         0.257884  0.535085  1.287060  0.629477  1.030070\n",
      "308         0.243959  0.519240  1.261330  0.583535  0.991119\n",
      "309         0.212044  0.520845  1.279710  0.610522  0.961277\n",
      "310         0.191538  0.497315  1.279560  0.585197  0.938358\n",
      "311         0.179227  0.469009  1.191000  0.575062  0.893609\n",
      "312         0.183879  0.446427  1.165630  0.569128  0.860451\n",
      "313         0.193184  0.427561  1.130760  0.580395  0.821558\n",
      "314         0.187660  0.416661  1.096260  0.505649  0.801117\n",
      "315         0.179405  0.403332  1.104280  0.496635  0.787021\n",
      "316         0.154553  0.385544  1.051960  0.482323  0.755967\n",
      "317         0.139355  0.379538  1.025930  0.490975  0.736657\n",
      "318         0.155483  0.372471  0.953308  0.472194  0.719626\n",
      "319         0.168442  0.364589  0.922798  0.477787  0.710335\n",
      "320         0.181444  0.349903  0.925534  0.445044  0.683768\n",
      "321         0.192093  0.329780  0.908675  0.444563  0.651192\n",
      "322         0.180985  0.319310  0.904865  0.438803  0.636491\n",
      "323         0.163809  0.300833  0.874271  0.416357  0.620696\n",
      "324         0.153032  0.289035  0.828040  0.375511  0.621087\n",
      "325         0.144629  0.292835  0.837900  0.385039  0.618028\n",
      "326         0.137980  0.278019  0.837780  0.389069  0.608808\n",
      "327         0.138600  0.254028  0.829861  0.400602  0.588407\n",
      "328         0.127225  0.239824  0.774891  0.359510  0.557677\n",
      "329         0.129199  0.243676  0.749581  0.337597  0.535773\n",
      "330         0.136876  0.234600  0.725444  0.303824  0.503972\n"
     ]
    }
   ],
   "source": [
    "df =  data_all[\"Control_0%\"].cd_df\n",
    "df = df.rename(columns={-1:\"0%\"})\n",
    "df[\"50%\"] =  (data_all[\"Ethanol_50%\"].cd_df.loc[:,-1])\n",
    "df[\"nach\"] =  (data_all[\"Ethanol_50%_nachTest\"].cd_df.loc[:,-1])\n",
    "df[\"vor\"] =  (data_all[\"Ethanol_50%_vorTest\"].cd_df.loc[:,-1])\n",
    "df[\"50% real\"] =  (data_all[\"Ethanol_50%_real\"].cd_df.loc[:,-1])\n",
    "print(df)"
   ]
  },
  {
   "cell_type": "code",
   "execution_count": 11,
   "id": "historical-damages",
   "metadata": {},
   "outputs": [
    {
     "data": {
      "application/vnd.jupyter.widget-view+json": {
       "model_id": "abc9b38d936545a9be417049be486d3d",
       "version_major": 2,
       "version_minor": 0
      },
      "text/plain": [
       "Canvas(toolbar=Toolbar(toolitems=[('Home', 'Reset original view', 'home', 'home'), ('Back', 'Back to previous …"
      ]
     },
     "metadata": {},
     "output_type": "display_data"
    }
   ],
   "source": [
    "plot.mult_func(['0%', 'vor', 'nach', \"50% real\"], [df], swap=True)"
   ]
  },
  {
   "cell_type": "code",
   "execution_count": null,
   "id": "scheduled-bidder",
   "metadata": {},
   "outputs": [],
   "source": []
  }
 ],
 "metadata": {
  "kernelspec": {
   "display_name": "Python 3",
   "language": "python",
   "name": "python3"
  },
  "language_info": {
   "codemirror_mode": {
    "name": "ipython",
    "version": 3
   },
   "file_extension": ".py",
   "mimetype": "text/x-python",
   "name": "python",
   "nbconvert_exporter": "python",
   "pygments_lexer": "ipython3",
   "version": "3.8.6"
  },
  "toc-autonumbering": true,
  "toc-showcode": false,
  "toc-showmarkdowntxt": false
 },
 "nbformat": 4,
 "nbformat_minor": 5
}
